{
 "cells": [
  {
   "cell_type": "markdown",
   "id": "65fd087a",
   "metadata": {
    "toc": true
   },
   "source": [
    "<h1>Table of Contents<span class=\"tocSkip\"></span></h1>\n",
    "<div class=\"toc\"><ul class=\"toc-item\"><li><span><a href=\"#Loading-data\" data-toc-modified-id=\"Loading-data-1\">Loading data</a></span></li><li><span><a href=\"#Check,-remove-duplicates\" data-toc-modified-id=\"Check,-remove-duplicates-2\">Check, remove duplicates</a></span></li><li><span><a href=\"#Column-level-transforms\" data-toc-modified-id=\"Column-level-transforms-3\">Column-level transforms</a></span></li><li><span><a href=\"#Confidence-values\" data-toc-modified-id=\"Confidence-values-4\">Confidence values</a></span><ul class=\"toc-item\"><li><span><a href=\"#Removing-rows-+-stats\" data-toc-modified-id=\"Removing-rows-+-stats-4.1\">Removing rows + stats</a></span></li></ul></li><li><span><a href=\"#Pre-NodeNorming\" data-toc-modified-id=\"Pre-NodeNorming-5\">Pre-NodeNorming</a></span><ul class=\"toc-item\"><li><span><a href=\"#Exploring:-Genes\" data-toc-modified-id=\"Exploring:-Genes-5.1\">Exploring: Genes</a></span><ul class=\"toc-item\"><li><span><a href=\"#HGNC\" data-toc-modified-id=\"HGNC-5.1.1\">HGNC</a></span></li><li><span><a href=\"#OMIM\" data-toc-modified-id=\"OMIM-5.1.2\">OMIM</a></span></li><li><span><a href=\"#Comparing-HGNC-vs-OMIM\" data-toc-modified-id=\"Comparing-HGNC-vs-OMIM-5.1.3\">Comparing HGNC vs OMIM</a></span></li><li><span><a href=\"#Conclusions\" data-toc-modified-id=\"Conclusions-5.1.4\">Conclusions</a></span></li></ul></li><li><span><a href=\"#Exploring:-Diseases\" data-toc-modified-id=\"Exploring:-Diseases-5.2\">Exploring: Diseases</a></span><ul class=\"toc-item\"><li><span><a href=\"#OMIM/orphanet\" data-toc-modified-id=\"OMIM/orphanet-5.2.1\">OMIM/orphanet</a></span></li><li><span><a href=\"#MONDO\" data-toc-modified-id=\"MONDO-5.2.2\">MONDO</a></span></li><li><span><a href=\"#Comparing-OMIM/orphanet-vs-MONDO\" data-toc-modified-id=\"Comparing-OMIM/orphanet-vs-MONDO-5.2.3\">Comparing OMIM/orphanet vs MONDO</a></span></li><li><span><a href=\"#Checking-MONDO-data\" data-toc-modified-id=\"Checking-MONDO-data-5.2.4\">Checking MONDO data</a></span></li><li><span><a href=\"#Conclusions\" data-toc-modified-id=\"Conclusions-5.2.5\">Conclusions</a></span></li></ul></li></ul></li><li><span><a href=\"#Stats-on-rows-removed-during-NodeNorming\" data-toc-modified-id=\"Stats-on-rows-removed-during-NodeNorming-6\">Stats on rows removed during NodeNorming</a></span></li><li><span><a href=\"#Adding-NodeNorm-data,-removing-rows\" data-toc-modified-id=\"Adding-NodeNorm-data,-removing-rows-7\">Adding NodeNorm data, removing rows</a></span></li><li><span><a href=\"#Generating-documents\" data-toc-modified-id=\"Generating-documents-8\">Generating documents</a></span><ul class=\"toc-item\"><li><span><a href=\"#Rows-not-included\" data-toc-modified-id=\"Rows-not-included-8.1\">Rows not included</a></span></li><li><span><a href=\"#Columns-not-included\" data-toc-modified-id=\"Columns-not-included-8.2\">Columns not included</a></span></li><li><span><a href=\"#BioThings-type-parser\" data-toc-modified-id=\"BioThings-type-parser-8.3\">BioThings-type parser</a></span></li><li><span><a href=\"#File:-List-of-TRAPI-edges\" data-toc-modified-id=\"File:-List-of-TRAPI-edges-8.4\">File: List of TRAPI edges</a></span></li><li><span><a href=\"#File:-KGX-edges\" data-toc-modified-id=\"File:-KGX-edges-8.5\">File: KGX edges</a></span></li><li><span><a href=\"#File:-KGX-nodes\" data-toc-modified-id=\"File:-KGX-nodes-8.6\">File: KGX nodes</a></span></li></ul></li><li><span><a href=\"#Checking-documents\" data-toc-modified-id=\"Checking-documents-9\">Checking documents</a></span></li><li><span><a href=\"#BioThings-Parser-notes\" data-toc-modified-id=\"BioThings-Parser-notes-10\">BioThings Parser notes</a></span></li></ul></div>"
   ]
  },
  {
   "cell_type": "markdown",
   "id": "f18ee197",
   "metadata": {},
   "source": [
    "# Notebook for parser development"
   ]
  },
  {
   "cell_type": "code",
   "execution_count": 1,
   "id": "3573099c",
   "metadata": {
    "ExecuteTime": {
     "end_time": "2025-07-18T09:27:10.571836Z",
     "start_time": "2025-07-18T09:27:10.567471Z"
    }
   },
   "outputs": [],
   "source": [
    "## not for parser. for notebook only \n",
    "\n",
    "## CX: allows multiple lines of code to print from one code block\n",
    "from IPython.core.interactiveshell import InteractiveShell\n",
    "InteractiveShell.ast_node_interactivity = \"all\""
   ]
  },
  {
   "cell_type": "markdown",
   "id": "aa862467",
   "metadata": {},
   "source": [
    "## Loading data"
   ]
  },
  {
   "cell_type": "markdown",
   "id": "96f2ef49",
   "metadata": {},
   "source": [
    "__Current approach__ is to load all files into 1 pandas dataframe. Then I can...\n",
    "\n",
    "1. check the duplicates situation: records found in multiple panel files. I can check whether the same record looks different between files or not (by checking duplicates using all columns vs key columns). -> Raise errors if yes\n",
    "2. remove duplicates before generating documents\n",
    "3. Do some tasks column-wise over all the data, rather than while iterating over rows\n",
    "\n",
    "Notes:\n",
    "* There are a few existing BioThings parsers that also use `pandas` to load the entire raw data file at once: https://github.com/search?q=repo%3Abiothings%2Fpending.api%20pandas&type=code\n",
    "* But there are other parsers that use `csv` to load the file **one row at a time** (generator): https://github.com/search?q=repo%3Abiothings%2Fpending.api+csv+reader&type=code\n",
    "\n",
    "---\n",
    "\n",
    "If I did the generator approach (load files 1 by 1, 1 row at a time), I'd have to modify how I do things:\n",
    "1. Don't do the duplicates check. But try to mitigate potential \"duplicate\" issues: \n",
    "   - Sort all delimited strings\n",
    "   - Use a hash of all column values (when they're all strings) for `_id`. Want rows with all the same values to produce the same hash\n",
    "2. Either leave to BioThings toolset to remove duplicates, or could save a running set of `_id` hashes to check if row was already encountered -> not create duplicate docs\n",
    "3. Do the tasks on single rows/chunks (pandas [read_csv](https://pandas.pydata.org/docs/reference/api/pandas.read_csv.html#pandas.read_csv) has an iterator for rows/chunks! see iterator/chunksize parameters)"
   ]
  },
  {
   "cell_type": "code",
   "execution_count": 2,
   "id": "8325a51e",
   "metadata": {
    "ExecuteTime": {
     "end_time": "2025-07-18T09:27:18.373256Z",
     "start_time": "2025-07-18T09:27:17.678726Z"
    }
   },
   "outputs": [],
   "source": [
    "## put into parser: DONE\n",
    "import pathlib\n",
    "import pandas as pd\n",
    "\n",
    "## don't put in parser. Just for this notebook\n",
    "import glob\n",
    "from pprint import pprint\n",
    "\n",
    "## unsure on putting into parser: more for notebook viewing/debugging...\n",
    "pd.options.display.max_columns = None"
   ]
  },
  {
   "cell_type": "markdown",
   "id": "e23c358f",
   "metadata": {},
   "source": [
    "<div class=\"alert alert-block alert-danger\">\n",
    "\n",
    "Adjust the code block below for path/pattern for data files. \n",
    "    \n",
    "This notebook was originally written using data files from the 2025-02-28 static release on the [FTP site](https://ftp.ebi.ac.uk/pub/databases/gene2phenotype/G2P_data_downloads/).\n",
    "The latest data can be downloaded from the [website](https://www.ebi.ac.uk/gene2phenotype/download)"
   ]
  },
  {
   "cell_type": "code",
   "execution_count": 3,
   "id": "63f0a6ac",
   "metadata": {
    "ExecuteTime": {
     "end_time": "2025-07-18T09:29:24.351743Z",
     "start_time": "2025-07-18T09:29:24.312133Z"
    }
   },
   "outputs": [
    {
     "data": {
      "text/plain": [
       "[PosixPath('/Users/colleenxu/Desktop/EBIgene2pheno_files/From_FTP/2025-06-27/CardiacG2P_2025-06-27.csv.gz'),\n",
       " PosixPath('/Users/colleenxu/Desktop/EBIgene2pheno_files/From_FTP/2025-06-27/SkeletalG2P_2025-06-27.csv.gz'),\n",
       " PosixPath('/Users/colleenxu/Desktop/EBIgene2pheno_files/From_FTP/2025-06-27/DDG2P_2025-06-27.csv.gz'),\n",
       " PosixPath('/Users/colleenxu/Desktop/EBIgene2pheno_files/From_FTP/2025-06-27/SkinG2P_2025-06-27.csv.gz'),\n",
       " PosixPath('/Users/colleenxu/Desktop/EBIgene2pheno_files/From_FTP/2025-06-27/CancerG2P_2025-06-27.csv.gz'),\n",
       " PosixPath('/Users/colleenxu/Desktop/EBIgene2pheno_files/From_FTP/2025-06-27/EyeG2P_2025-06-27.csv.gz'),\n",
       " PosixPath('/Users/colleenxu/Desktop/EBIgene2pheno_files/From_FTP/2025-06-27/EarG2P_2025-06-27.csv.gz')]"
      ]
     },
     "execution_count": 3,
     "metadata": {},
     "output_type": "execute_result"
    }
   ],
   "source": [
    "## put into parser (format): DONE\n",
    "\n",
    "base_file_path = pathlib.Path.home().joinpath(\"Desktop\", \"EBIgene2pheno_files\", \n",
    "                                              \"From_FTP\", \"2025-06-27\")\n",
    "\n",
    "## uses pathlib's Path.glob, which produces a generator. \n",
    "## cast into list so parser code can check if paths were actually matched or not\n",
    "all_file_paths = list(base_file_path.glob(\"*.csv.gz\"))\n",
    "all_file_paths"
   ]
  },
  {
   "cell_type": "code",
   "execution_count": 4,
   "id": "0b010c8a",
   "metadata": {
    "ExecuteTime": {
     "end_time": "2025-07-12T00:59:12.560294Z",
     "start_time": "2025-07-12T00:59:12.553480Z"
    }
   },
   "outputs": [
    {
     "data": {
      "text/plain": [
       "<generator object Path.glob at 0x10461b010>"
      ]
     },
     "execution_count": 4,
     "metadata": {},
     "output_type": "execute_result"
    },
    {
     "data": {
      "text/plain": [
       "[]"
      ]
     },
     "execution_count": 4,
     "metadata": {},
     "output_type": "execute_result"
    }
   ],
   "source": [
    "## an example: pathlib's Path.glob produces a generator\n",
    "## vs glob.glob produces an array (from cwd only?)\n",
    "base_file_path.glob(\"*2025-02-28.csv.gz\")\n",
    "glob.glob(\"*2025-02-28.csv.gz\")"
   ]
  },
  {
   "cell_type": "code",
   "execution_count": 4,
   "id": "dd0fc904",
   "metadata": {
    "ExecuteTime": {
     "end_time": "2025-07-18T09:29:29.323844Z",
     "start_time": "2025-07-18T09:29:29.187317Z"
    },
    "scrolled": true
   },
   "outputs": [],
   "source": [
    "## put into parser (format): DONE\n",
    "\n",
    "## using generator expression (think list/dict comprehension) within pd.concat to load files 1 at a time\n",
    "## ingesting all columns as str for now\n",
    "df = pd.concat((pd.read_csv(f, dtype=str) for f in all_file_paths), ignore_index=True)\n",
    "\n",
    "## make column names snake-case - usable with itertuples later\n",
    "df.columns = df.columns.str.replace(\" \", \"_\")"
   ]
  },
  {
   "cell_type": "code",
   "execution_count": 5,
   "id": "141a10e4",
   "metadata": {
    "ExecuteTime": {
     "end_time": "2025-07-18T09:29:33.509823Z",
     "start_time": "2025-07-18T09:29:33.501913Z"
    }
   },
   "outputs": [
    {
     "name": "stdout",
     "output_type": "stream",
     "text": [
      "<class 'pandas.core.series.Series'>\n",
      "RangeIndex: 4844 entries, 0 to 4843\n",
      "Series name: date_of_last_review\n",
      "Non-Null Count  Dtype \n",
      "--------------  ----- \n",
      "4844 non-null   object\n",
      "dtypes: object(1)\n",
      "memory usage: 350.2 KB\n"
     ]
    }
   ],
   "source": [
    "df[\"date_of_last_review\"].info(memory_usage=\"deep\")"
   ]
  },
  {
   "cell_type": "code",
   "execution_count": 6,
   "id": "73f6a6fb",
   "metadata": {
    "ExecuteTime": {
     "end_time": "2025-07-18T09:29:38.160683Z",
     "start_time": "2025-07-18T09:29:38.145989Z"
    }
   },
   "outputs": [
    {
     "name": "stdout",
     "output_type": "stream",
     "text": [
      "<class 'pandas.core.series.Series'>\n",
      "RangeIndex: 4844 entries, 0 to 4843\n",
      "Series name: date_of_last_review\n",
      "Non-Null Count  Dtype              \n",
      "--------------  -----              \n",
      "4844 non-null   datetime64[ns, UTC]\n",
      "dtypes: datetime64[ns, UTC](1)\n",
      "memory usage: 38.0 KB\n"
     ]
    }
   ],
   "source": [
    "## change this column to datetime, saves memory\n",
    "df[\"date_of_last_review\"] = pd.to_datetime(df[\"date_of_last_review\"])\n",
    "df[\"date_of_last_review\"].info(memory_usage=\"deep\")"
   ]
  },
  {
   "cell_type": "code",
   "execution_count": null,
   "id": "13360ed5",
   "metadata": {
    "ExecuteTime": {
     "end_time": "2025-07-12T00:56:07.078972Z",
     "start_time": "2025-07-12T00:56:07.076365Z"
    }
   },
   "outputs": [],
   "source": [
    "## I couldn't figure out how to import + ingest column as datetime in 1 step \n",
    "## this is what I tried that didn't work\n",
    "\n",
    "## worked with pandas 2.0.3, but didn't work with pandas 2.2.3: ingested as str\n",
    "# df = pd.concat((pd.read_csv(f, dtype=str, parse_dates=[\"date of last review\"]) \n",
    "#                 for f in all_file_paths), ignore_index=True)\n",
    "\n",
    "## doesn't work\n",
    "# df = pd.concat((pd.read_csv(f, dtype=str, parse_dates=[\"date of last review\"], \n",
    "#                            date_format=\"%Y-%m-%d %H:%M:%S%:z\") \n",
    "#                 for f in all_file_paths), ignore_index=True)\n",
    "## throws an error\n",
    "# df = pd.concat((pd.read_csv(f, dtype=str, parse_dates=[[\"date of last review\"]], \n",
    "#                            date_format=\"%Y-%m-%d %H:%M:%S%:z\") \n",
    "#                 for f in all_file_paths), ignore_index=True)\n",
    "## throws an error\n",
    "# df = pd.concat((pd.read_csv(f, dtype={\"date of last review\": pd.datetime64[ns, tz]})\n",
    "#                 for f in all_file_paths), ignore_index=True)"
   ]
  },
  {
   "cell_type": "code",
   "execution_count": 7,
   "id": "f6e957f0",
   "metadata": {
    "ExecuteTime": {
     "end_time": "2025-07-18T09:29:40.810060Z",
     "start_time": "2025-07-18T09:29:40.788747Z"
    }
   },
   "outputs": [
    {
     "data": {
      "text/plain": [
       "(4844, 21)"
      ]
     },
     "execution_count": 7,
     "metadata": {},
     "output_type": "execute_result"
    },
    {
     "data": {
      "text/html": [
       "<div>\n",
       "<style scoped>\n",
       "    .dataframe tbody tr th:only-of-type {\n",
       "        vertical-align: middle;\n",
       "    }\n",
       "\n",
       "    .dataframe tbody tr th {\n",
       "        vertical-align: top;\n",
       "    }\n",
       "\n",
       "    .dataframe thead th {\n",
       "        text-align: right;\n",
       "    }\n",
       "</style>\n",
       "<table border=\"1\" class=\"dataframe\">\n",
       "  <thead>\n",
       "    <tr style=\"text-align: right;\">\n",
       "      <th></th>\n",
       "      <th>g2p_id</th>\n",
       "      <th>gene_symbol</th>\n",
       "      <th>gene_mim</th>\n",
       "      <th>hgnc_id</th>\n",
       "      <th>previous_gene_symbols</th>\n",
       "      <th>disease_name</th>\n",
       "      <th>disease_mim</th>\n",
       "      <th>disease_MONDO</th>\n",
       "      <th>allelic_requirement</th>\n",
       "      <th>cross_cutting_modifier</th>\n",
       "      <th>confidence</th>\n",
       "      <th>variant_consequence</th>\n",
       "      <th>variant_types</th>\n",
       "      <th>molecular_mechanism</th>\n",
       "      <th>molecular_mechanism_categorisation</th>\n",
       "      <th>molecular_mechanism_evidence</th>\n",
       "      <th>phenotypes</th>\n",
       "      <th>publications</th>\n",
       "      <th>panel</th>\n",
       "      <th>comments</th>\n",
       "      <th>date_of_last_review</th>\n",
       "    </tr>\n",
       "  </thead>\n",
       "  <tbody>\n",
       "    <tr>\n",
       "      <th>0</th>\n",
       "      <td>G2P00124</td>\n",
       "      <td>KCNE1</td>\n",
       "      <td>176261</td>\n",
       "      <td>6240</td>\n",
       "      <td>ISK; JLNS2; LQT5; MINK</td>\n",
       "      <td>KCNE1-related Jervell and Lange-Nielsen syndrome</td>\n",
       "      <td>612347</td>\n",
       "      <td>MONDO:0012871</td>\n",
       "      <td>biallelic_autosomal</td>\n",
       "      <td>potential secondary finding</td>\n",
       "      <td>strong</td>\n",
       "      <td>altered gene product structure</td>\n",
       "      <td>missense_variant; inframe_insertion; inframe_d...</td>\n",
       "      <td>undetermined</td>\n",
       "      <td>inferred</td>\n",
       "      <td>NaN</td>\n",
       "      <td>HP:0001657; HP:0001279; HP:0000007; HP:0000407</td>\n",
       "      <td>30461122</td>\n",
       "      <td>DD; Cardiac</td>\n",
       "      <td>KCNE1-related JLNS is due to altered gene prod...</td>\n",
       "      <td>2024-04-05 12:05:01+00:00</td>\n",
       "    </tr>\n",
       "    <tr>\n",
       "      <th>1</th>\n",
       "      <td>G2P00841</td>\n",
       "      <td>PTPN11</td>\n",
       "      <td>176876</td>\n",
       "      <td>9644</td>\n",
       "      <td>BPTP3; NS1; PTP2C; SH-PTP2; SHP-2; SHP2</td>\n",
       "      <td>PTPN11-related Noonan syndrome with multiple l...</td>\n",
       "      <td>151100</td>\n",
       "      <td>NaN</td>\n",
       "      <td>monoallelic_autosomal</td>\n",
       "      <td>NaN</td>\n",
       "      <td>definitive</td>\n",
       "      <td>altered gene product structure</td>\n",
       "      <td>missense_variant; inframe_deletion; inframe_in...</td>\n",
       "      <td>undetermined</td>\n",
       "      <td>inferred</td>\n",
       "      <td>NaN</td>\n",
       "      <td>HP:0001709; HP:0000957; HP:0004409; HP:0001639...</td>\n",
       "      <td>27484170; 26377839; 25917897; 25884655; 248207...</td>\n",
       "      <td>DD; Skin; Cardiac</td>\n",
       "      <td>Expert review done on 12/01/2022; Noonan syndr...</td>\n",
       "      <td>2025-01-21 14:56:43+00:00</td>\n",
       "    </tr>\n",
       "    <tr>\n",
       "      <th>2</th>\n",
       "      <td>G2P03247</td>\n",
       "      <td>DSC2</td>\n",
       "      <td>125645</td>\n",
       "      <td>3036</td>\n",
       "      <td>CDHF2; DSC3</td>\n",
       "      <td>DSC2-related arrhythmogenic right ventricular ...</td>\n",
       "      <td>NaN</td>\n",
       "      <td>MONDO:0012506</td>\n",
       "      <td>monoallelic_autosomal</td>\n",
       "      <td>NaN</td>\n",
       "      <td>definitive</td>\n",
       "      <td>decreased gene product level; altered gene pro...</td>\n",
       "      <td>stop_gained; frameshift_variant; NMD_triggerin...</td>\n",
       "      <td>undetermined</td>\n",
       "      <td>inferred</td>\n",
       "      <td>NaN</td>\n",
       "      <td>NaN</td>\n",
       "      <td>31028357; 23911551; 21636032; 33831308; 263105...</td>\n",
       "      <td>Cardiac</td>\n",
       "      <td>Expert review done on 05/01/2022; DSC2-related...</td>\n",
       "      <td>2024-03-20 09:36:09+00:00</td>\n",
       "    </tr>\n",
       "    <tr>\n",
       "      <th>3</th>\n",
       "      <td>G2P03248</td>\n",
       "      <td>DSC2</td>\n",
       "      <td>125645</td>\n",
       "      <td>3036</td>\n",
       "      <td>CDHF2; DSC3</td>\n",
       "      <td>DSC2-related arrhythmogenic right ventricular ...</td>\n",
       "      <td>NaN</td>\n",
       "      <td>MONDO:0012506</td>\n",
       "      <td>biallelic_autosomal</td>\n",
       "      <td>NaN</td>\n",
       "      <td>definitive</td>\n",
       "      <td>decreased gene product level; altered gene pro...</td>\n",
       "      <td>stop_gained; frameshift_variant; NMD_triggerin...</td>\n",
       "      <td>undetermined</td>\n",
       "      <td>inferred</td>\n",
       "      <td>NaN</td>\n",
       "      <td>NaN</td>\n",
       "      <td>31028357; 23911551; 21636032; 33831308; 263105...</td>\n",
       "      <td>Cardiac</td>\n",
       "      <td>Expert review done on 05/01/2022; DSC2-related...</td>\n",
       "      <td>2024-03-20 09:35:19+00:00</td>\n",
       "    </tr>\n",
       "    <tr>\n",
       "      <th>4</th>\n",
       "      <td>G2P03249</td>\n",
       "      <td>DSG2</td>\n",
       "      <td>125671</td>\n",
       "      <td>3049</td>\n",
       "      <td>CDHF5</td>\n",
       "      <td>DSG2-related arrhythmogenic right ventricular ...</td>\n",
       "      <td>NaN</td>\n",
       "      <td>MONDO:0012434</td>\n",
       "      <td>monoallelic_autosomal</td>\n",
       "      <td>NaN</td>\n",
       "      <td>definitive</td>\n",
       "      <td>decreased gene product level; altered gene pro...</td>\n",
       "      <td>stop_gained; frameshift_variant; splice_accept...</td>\n",
       "      <td>undetermined</td>\n",
       "      <td>inferred</td>\n",
       "      <td>NaN</td>\n",
       "      <td>NaN</td>\n",
       "      <td>21636032; 33831308; 33917638; 34400560; 240707...</td>\n",
       "      <td>Cardiac</td>\n",
       "      <td>Expert review done on 05/01/2022; DSG2-related...</td>\n",
       "      <td>2024-03-20 09:40:18+00:00</td>\n",
       "    </tr>\n",
       "  </tbody>\n",
       "</table>\n",
       "</div>"
      ],
      "text/plain": [
       "     g2p_id gene_symbol gene_mim hgnc_id  \\\n",
       "0  G2P00124       KCNE1   176261    6240   \n",
       "1  G2P00841      PTPN11   176876    9644   \n",
       "2  G2P03247        DSC2   125645    3036   \n",
       "3  G2P03248        DSC2   125645    3036   \n",
       "4  G2P03249        DSG2   125671    3049   \n",
       "\n",
       "                     previous_gene_symbols  \\\n",
       "0                   ISK; JLNS2; LQT5; MINK   \n",
       "1  BPTP3; NS1; PTP2C; SH-PTP2; SHP-2; SHP2   \n",
       "2                              CDHF2; DSC3   \n",
       "3                              CDHF2; DSC3   \n",
       "4                                    CDHF5   \n",
       "\n",
       "                                        disease_name disease_mim  \\\n",
       "0   KCNE1-related Jervell and Lange-Nielsen syndrome      612347   \n",
       "1  PTPN11-related Noonan syndrome with multiple l...      151100   \n",
       "2  DSC2-related arrhythmogenic right ventricular ...         NaN   \n",
       "3  DSC2-related arrhythmogenic right ventricular ...         NaN   \n",
       "4  DSG2-related arrhythmogenic right ventricular ...         NaN   \n",
       "\n",
       "   disease_MONDO    allelic_requirement       cross_cutting_modifier  \\\n",
       "0  MONDO:0012871    biallelic_autosomal  potential secondary finding   \n",
       "1            NaN  monoallelic_autosomal                          NaN   \n",
       "2  MONDO:0012506  monoallelic_autosomal                          NaN   \n",
       "3  MONDO:0012506    biallelic_autosomal                          NaN   \n",
       "4  MONDO:0012434  monoallelic_autosomal                          NaN   \n",
       "\n",
       "   confidence                                variant_consequence  \\\n",
       "0      strong                     altered gene product structure   \n",
       "1  definitive                     altered gene product structure   \n",
       "2  definitive  decreased gene product level; altered gene pro...   \n",
       "3  definitive  decreased gene product level; altered gene pro...   \n",
       "4  definitive  decreased gene product level; altered gene pro...   \n",
       "\n",
       "                                       variant_types molecular_mechanism  \\\n",
       "0  missense_variant; inframe_insertion; inframe_d...        undetermined   \n",
       "1  missense_variant; inframe_deletion; inframe_in...        undetermined   \n",
       "2  stop_gained; frameshift_variant; NMD_triggerin...        undetermined   \n",
       "3  stop_gained; frameshift_variant; NMD_triggerin...        undetermined   \n",
       "4  stop_gained; frameshift_variant; splice_accept...        undetermined   \n",
       "\n",
       "  molecular_mechanism_categorisation molecular_mechanism_evidence  \\\n",
       "0                           inferred                          NaN   \n",
       "1                           inferred                          NaN   \n",
       "2                           inferred                          NaN   \n",
       "3                           inferred                          NaN   \n",
       "4                           inferred                          NaN   \n",
       "\n",
       "                                          phenotypes  \\\n",
       "0     HP:0001657; HP:0001279; HP:0000007; HP:0000407   \n",
       "1  HP:0001709; HP:0000957; HP:0004409; HP:0001639...   \n",
       "2                                                NaN   \n",
       "3                                                NaN   \n",
       "4                                                NaN   \n",
       "\n",
       "                                        publications              panel  \\\n",
       "0                                           30461122        DD; Cardiac   \n",
       "1  27484170; 26377839; 25917897; 25884655; 248207...  DD; Skin; Cardiac   \n",
       "2  31028357; 23911551; 21636032; 33831308; 263105...            Cardiac   \n",
       "3  31028357; 23911551; 21636032; 33831308; 263105...            Cardiac   \n",
       "4  21636032; 33831308; 33917638; 34400560; 240707...            Cardiac   \n",
       "\n",
       "                                            comments       date_of_last_review  \n",
       "0  KCNE1-related JLNS is due to altered gene prod... 2024-04-05 12:05:01+00:00  \n",
       "1  Expert review done on 12/01/2022; Noonan syndr... 2025-01-21 14:56:43+00:00  \n",
       "2  Expert review done on 05/01/2022; DSC2-related... 2024-03-20 09:36:09+00:00  \n",
       "3  Expert review done on 05/01/2022; DSC2-related... 2024-03-20 09:35:19+00:00  \n",
       "4  Expert review done on 05/01/2022; DSG2-related... 2024-03-20 09:40:18+00:00  "
      ]
     },
     "execution_count": 7,
     "metadata": {},
     "output_type": "execute_result"
    }
   ],
   "source": [
    "df.shape\n",
    "df.head()"
   ]
  },
  {
   "cell_type": "code",
   "execution_count": 8,
   "id": "51f96324",
   "metadata": {
    "ExecuteTime": {
     "end_time": "2025-07-18T09:29:44.311541Z",
     "start_time": "2025-07-18T09:29:44.273170Z"
    },
    "scrolled": false
   },
   "outputs": [
    {
     "name": "stdout",
     "output_type": "stream",
     "text": [
      "<class 'pandas.core.frame.DataFrame'>\n",
      "RangeIndex: 4844 entries, 0 to 4843\n",
      "Data columns (total 21 columns):\n",
      " #   Column                              Non-Null Count  Dtype              \n",
      "---  ------                              --------------  -----              \n",
      " 0   g2p_id                              4844 non-null   object             \n",
      " 1   gene_symbol                         4844 non-null   object             \n",
      " 2   gene_mim                            4841 non-null   object             \n",
      " 3   hgnc_id                             4844 non-null   object             \n",
      " 4   previous_gene_symbols               4476 non-null   object             \n",
      " 5   disease_name                        4844 non-null   object             \n",
      " 6   disease_mim                         4036 non-null   object             \n",
      " 7   disease_MONDO                       3028 non-null   object             \n",
      " 8   allelic_requirement                 4844 non-null   object             \n",
      " 9   cross_cutting_modifier              649 non-null    object             \n",
      " 10  confidence                          4844 non-null   object             \n",
      " 11  variant_consequence                 4823 non-null   object             \n",
      " 12  variant_types                       1250 non-null   object             \n",
      " 13  molecular_mechanism                 4844 non-null   object             \n",
      " 14  molecular_mechanism_categorisation  4844 non-null   object             \n",
      " 15  molecular_mechanism_evidence        112 non-null    object             \n",
      " 16  phenotypes                          3494 non-null   object             \n",
      " 17  publications                        4416 non-null   object             \n",
      " 18  panel                               4844 non-null   object             \n",
      " 19  comments                            144 non-null    object             \n",
      " 20  date_of_last_review                 4844 non-null   datetime64[ns, UTC]\n",
      "dtypes: datetime64[ns, UTC](1), object(20)\n",
      "memory usage: 6.3 MB\n"
     ]
    }
   ],
   "source": [
    "df.info(memory_usage=\"deep\")"
   ]
  },
  {
   "cell_type": "markdown",
   "id": "2a5724a6",
   "metadata": {},
   "source": [
    "## Check, remove duplicates"
   ]
  },
  {
   "cell_type": "markdown",
   "id": "5a41d004",
   "metadata": {},
   "source": [
    "There are duplicate rows in this dataframe because the record (gene + disease + more) is in several panels (disease falls into multiple categories). This was explored in the data-playground notebook. \n",
    "\n",
    "We want to drop those duplicates. \n",
    "However, I was concerned that the delimited-string values could differ (only in list order) for the same record in diff files. \n",
    "So that's what this check is for. "
   ]
  },
  {
   "cell_type": "code",
   "execution_count": 9,
   "id": "a6531826",
   "metadata": {
    "ExecuteTime": {
     "end_time": "2025-07-18T09:29:56.414887Z",
     "start_time": "2025-07-18T09:29:56.393790Z"
    }
   },
   "outputs": [],
   "source": [
    "## put into parser (format): DONE\n",
    "\n",
    "n_duplicates_column_combo = df[df.duplicated(subset=[\"g2p_id\"], keep=False)].shape\n",
    "\n",
    "n_duplicates_all_columns = df[df.duplicated(keep=False)].shape\n",
    "\n",
    "## for testing\n",
    "# n_duplicates_all_columns = (1, 1)\n",
    "\n",
    "\n",
    "if n_duplicates_column_combo != n_duplicates_all_columns: \n",
    "    raise AssertionError(\"The data format has changed, and the assumptions about duplicates/key columns may \" \\\n",
    "                          \"no longer hold. Re-explore the data and adjust the parser.\")"
   ]
  },
  {
   "cell_type": "code",
   "execution_count": 10,
   "id": "1659d217",
   "metadata": {
    "ExecuteTime": {
     "end_time": "2025-07-18T09:29:57.726441Z",
     "start_time": "2025-07-18T09:29:57.708332Z"
    }
   },
   "outputs": [],
   "source": [
    "## put into parser (format): DONE\n",
    "\n",
    "## drop duplicates\n",
    "df.drop_duplicates(inplace=True, ignore_index=True)"
   ]
  },
  {
   "cell_type": "code",
   "execution_count": 11,
   "id": "8b25cb57",
   "metadata": {
    "ExecuteTime": {
     "end_time": "2025-07-18T09:29:58.724475Z",
     "start_time": "2025-07-18T09:29:58.693853Z"
    },
    "scrolled": true
   },
   "outputs": [
    {
     "name": "stdout",
     "output_type": "stream",
     "text": [
      "<class 'pandas.core.frame.DataFrame'>\n",
      "RangeIndex: 3707 entries, 0 to 3706\n",
      "Data columns (total 21 columns):\n",
      " #   Column                              Non-Null Count  Dtype              \n",
      "---  ------                              --------------  -----              \n",
      " 0   g2p_id                              3707 non-null   object             \n",
      " 1   gene_symbol                         3707 non-null   object             \n",
      " 2   gene_mim                            3704 non-null   object             \n",
      " 3   hgnc_id                             3707 non-null   object             \n",
      " 4   previous_gene_symbols               3424 non-null   object             \n",
      " 5   disease_name                        3707 non-null   object             \n",
      " 6   disease_mim                         2944 non-null   object             \n",
      " 7   disease_MONDO                       2187 non-null   object             \n",
      " 8   allelic_requirement                 3707 non-null   object             \n",
      " 9   cross_cutting_modifier              462 non-null    object             \n",
      " 10  confidence                          3707 non-null   object             \n",
      " 11  variant_consequence                 3689 non-null   object             \n",
      " 12  variant_types                       1038 non-null   object             \n",
      " 13  molecular_mechanism                 3707 non-null   object             \n",
      " 14  molecular_mechanism_categorisation  3707 non-null   object             \n",
      " 15  molecular_mechanism_evidence        97 non-null     object             \n",
      " 16  phenotypes                          2464 non-null   object             \n",
      " 17  publications                        3357 non-null   object             \n",
      " 18  panel                               3707 non-null   object             \n",
      " 19  comments                            117 non-null    object             \n",
      " 20  date_of_last_review                 3707 non-null   datetime64[ns, UTC]\n",
      "dtypes: datetime64[ns, UTC](1), object(20)\n",
      "memory usage: 4.7 MB\n"
     ]
    }
   ],
   "source": [
    "df.info(memory_usage=\"deep\")"
   ]
  },
  {
   "cell_type": "markdown",
   "id": "a797c65d",
   "metadata": {},
   "source": [
    "## Column-level transforms"
   ]
  },
  {
   "cell_type": "markdown",
   "id": "a4feb973",
   "metadata": {},
   "source": [
    "Based on data-playground \"Notes on parsing data to create documents\" section"
   ]
  },
  {
   "cell_type": "code",
   "execution_count": 12,
   "id": "3f9b5222",
   "metadata": {
    "ExecuteTime": {
     "end_time": "2025-07-18T09:30:19.914062Z",
     "start_time": "2025-07-18T09:30:19.905886Z"
    }
   },
   "outputs": [],
   "source": [
    "## double-checking how to add prefixes to OMIM vs orphanet IDs\n",
    "\n",
    "df_diseasemim = df.copy()\n",
    "\n",
    "## done to preserve NA\n",
    "df_diseasemim[\"disease_mim\"] = [i if pd.isna(i) \\\n",
    "                                else \"OMIM:\" + i if i.isnumeric() \\\n",
    "                                else i \\\n",
    "                                for i in df_diseasemim[\"disease_mim\"]]\n",
    "\n",
    "df_diseasemim[\"disease_mim\"] = df_diseasemim[\"disease_mim\"].str.replace(\"Orphanet\", \"orphanet\")"
   ]
  },
  {
   "cell_type": "code",
   "execution_count": 13,
   "id": "14883b59",
   "metadata": {
    "ExecuteTime": {
     "end_time": "2025-07-18T09:30:21.716071Z",
     "start_time": "2025-07-18T09:30:21.703542Z"
    }
   },
   "outputs": [
    {
     "data": {
      "text/plain": [
       "(2943, 21)"
      ]
     },
     "execution_count": 13,
     "metadata": {},
     "output_type": "execute_result"
    },
    {
     "data": {
      "text/plain": [
       "(1, 21)"
      ]
     },
     "execution_count": 13,
     "metadata": {},
     "output_type": "execute_result"
    }
   ],
   "source": [
    "df_diseasemim[df_diseasemim[\"disease_mim\"].str.contains(\"OMIM:\", na=False)].shape\n",
    "\n",
    "df_diseasemim[df_diseasemim[\"disease_mim\"].str.contains(\"orphanet:\", na=False)].shape\n",
    "\n",
    "## add up row count. If == num non-null in info above, you're good \n",
    "## right now 2944 == 2944, so good"
   ]
  },
  {
   "cell_type": "code",
   "execution_count": 14,
   "id": "abb752b8",
   "metadata": {
    "ExecuteTime": {
     "end_time": "2025-07-18T09:31:00.714088Z",
     "start_time": "2025-07-18T09:31:00.690116Z"
    }
   },
   "outputs": [],
   "source": [
    "## put into parser (format): DONE\n",
    "\n",
    "## COLUMN-LEVEL TRANSFORMS\n",
    "\n",
    "## adding Translator/biolink prefixes to IDs\n",
    "df[\"gene_mim\"] = \"OMIM:\" + df[\"gene_mim\"]\n",
    "df[\"hgnc_id\"] = \"HGNC:\" + df[\"hgnc_id\"]\n",
    "df[\"disease_mim\"] = df[\"disease_mim\"].str.replace(\"Orphanet\", \"orphanet\")\n",
    "## done to preserve NA\n",
    "df[\"disease_mim\"] = [i if pd.isna(i)\n",
    "                     else \"OMIM:\" + i if i.isnumeric()\n",
    "                     else i\n",
    "                     for i in df[\"disease_mim\"]]\n",
    "\n",
    "## strip whitespace\n",
    "df[\"disease_name\"] = df[\"disease_name\"].str.strip()\n",
    "df[\"comments\"] = df[\"comments\"].str.strip()\n",
    "\n",
    "## create new columns\n",
    "## UI really wants resource website urls like this. May need to adjust over time as website changes\n",
    "df[\"g2p_record_url\"] = \"https://www.ebi.ac.uk/gene2phenotype/lgd/\" +  df[\"g2p_id\"]\n",
    "\n",
    "## replace panel keywords with full names shown on G2P website for single record\n",
    "## keeping \"Hearing loss\" as-is, changing all other values\n",
    "df[\"panel\"] = df[\"panel\"].str.replace(\"DD\", \"Developmental disorders\")\n",
    "df[\"panel\"] = df[\"panel\"].str.replace(\"Cancer\", \"Cancer disorders\")\n",
    "df[\"panel\"] = df[\"panel\"].str.replace(\"Cardiac\", \"Cardiac disorders\")\n",
    "df[\"panel\"] = df[\"panel\"].str.replace(\"Eye\", \"Eye disorders\")\n",
    "df[\"panel\"] = df[\"panel\"].str.replace(\"Skeletal\", \"Skeletal disorders\")\n",
    "df[\"panel\"] = df[\"panel\"].str.replace(\"Skin\", \"Skin disorders\")"
   ]
  },
  {
   "cell_type": "code",
   "execution_count": 15,
   "id": "b05f644d",
   "metadata": {
    "ExecuteTime": {
     "end_time": "2025-07-18T09:31:02.621930Z",
     "start_time": "2025-07-18T09:31:02.603675Z"
    },
    "scrolled": true
   },
   "outputs": [
    {
     "data": {
      "text/html": [
       "<div>\n",
       "<style scoped>\n",
       "    .dataframe tbody tr th:only-of-type {\n",
       "        vertical-align: middle;\n",
       "    }\n",
       "\n",
       "    .dataframe tbody tr th {\n",
       "        vertical-align: top;\n",
       "    }\n",
       "\n",
       "    .dataframe thead th {\n",
       "        text-align: right;\n",
       "    }\n",
       "</style>\n",
       "<table border=\"1\" class=\"dataframe\">\n",
       "  <thead>\n",
       "    <tr style=\"text-align: right;\">\n",
       "      <th></th>\n",
       "      <th>g2p_id</th>\n",
       "      <th>gene_symbol</th>\n",
       "      <th>gene_mim</th>\n",
       "      <th>hgnc_id</th>\n",
       "      <th>previous_gene_symbols</th>\n",
       "      <th>disease_name</th>\n",
       "      <th>disease_mim</th>\n",
       "      <th>disease_MONDO</th>\n",
       "      <th>allelic_requirement</th>\n",
       "      <th>cross_cutting_modifier</th>\n",
       "      <th>confidence</th>\n",
       "      <th>variant_consequence</th>\n",
       "      <th>variant_types</th>\n",
       "      <th>molecular_mechanism</th>\n",
       "      <th>molecular_mechanism_categorisation</th>\n",
       "      <th>molecular_mechanism_evidence</th>\n",
       "      <th>phenotypes</th>\n",
       "      <th>publications</th>\n",
       "      <th>panel</th>\n",
       "      <th>comments</th>\n",
       "      <th>date_of_last_review</th>\n",
       "      <th>g2p_record_url</th>\n",
       "    </tr>\n",
       "  </thead>\n",
       "  <tbody>\n",
       "    <tr>\n",
       "      <th>0</th>\n",
       "      <td>G2P00124</td>\n",
       "      <td>KCNE1</td>\n",
       "      <td>OMIM:176261</td>\n",
       "      <td>HGNC:6240</td>\n",
       "      <td>ISK; JLNS2; LQT5; MINK</td>\n",
       "      <td>KCNE1-related Jervell and Lange-Nielsen syndrome</td>\n",
       "      <td>OMIM:612347</td>\n",
       "      <td>MONDO:0012871</td>\n",
       "      <td>biallelic_autosomal</td>\n",
       "      <td>potential secondary finding</td>\n",
       "      <td>strong</td>\n",
       "      <td>altered gene product structure</td>\n",
       "      <td>missense_variant; inframe_insertion; inframe_d...</td>\n",
       "      <td>undetermined</td>\n",
       "      <td>inferred</td>\n",
       "      <td>NaN</td>\n",
       "      <td>HP:0001657; HP:0001279; HP:0000007; HP:0000407</td>\n",
       "      <td>30461122</td>\n",
       "      <td>Developmental disorders; Cardiac disorders</td>\n",
       "      <td>KCNE1-related JLNS is due to altered gene prod...</td>\n",
       "      <td>2024-04-05 12:05:01+00:00</td>\n",
       "      <td>https://www.ebi.ac.uk/gene2phenotype/lgd/G2P00124</td>\n",
       "    </tr>\n",
       "    <tr>\n",
       "      <th>1</th>\n",
       "      <td>G2P00841</td>\n",
       "      <td>PTPN11</td>\n",
       "      <td>OMIM:176876</td>\n",
       "      <td>HGNC:9644</td>\n",
       "      <td>BPTP3; NS1; PTP2C; SH-PTP2; SHP-2; SHP2</td>\n",
       "      <td>PTPN11-related Noonan syndrome with multiple l...</td>\n",
       "      <td>OMIM:151100</td>\n",
       "      <td>NaN</td>\n",
       "      <td>monoallelic_autosomal</td>\n",
       "      <td>NaN</td>\n",
       "      <td>definitive</td>\n",
       "      <td>altered gene product structure</td>\n",
       "      <td>missense_variant; inframe_deletion; inframe_in...</td>\n",
       "      <td>undetermined</td>\n",
       "      <td>inferred</td>\n",
       "      <td>NaN</td>\n",
       "      <td>HP:0001709; HP:0000957; HP:0004409; HP:0001639...</td>\n",
       "      <td>27484170; 26377839; 25917897; 25884655; 248207...</td>\n",
       "      <td>Developmental disorders; Skin disorders; Cardi...</td>\n",
       "      <td>Expert review done on 12/01/2022; Noonan syndr...</td>\n",
       "      <td>2025-01-21 14:56:43+00:00</td>\n",
       "      <td>https://www.ebi.ac.uk/gene2phenotype/lgd/G2P00841</td>\n",
       "    </tr>\n",
       "    <tr>\n",
       "      <th>2</th>\n",
       "      <td>G2P03247</td>\n",
       "      <td>DSC2</td>\n",
       "      <td>OMIM:125645</td>\n",
       "      <td>HGNC:3036</td>\n",
       "      <td>CDHF2; DSC3</td>\n",
       "      <td>DSC2-related arrhythmogenic right ventricular ...</td>\n",
       "      <td>NaN</td>\n",
       "      <td>MONDO:0012506</td>\n",
       "      <td>monoallelic_autosomal</td>\n",
       "      <td>NaN</td>\n",
       "      <td>definitive</td>\n",
       "      <td>decreased gene product level; altered gene pro...</td>\n",
       "      <td>stop_gained; frameshift_variant; NMD_triggerin...</td>\n",
       "      <td>undetermined</td>\n",
       "      <td>inferred</td>\n",
       "      <td>NaN</td>\n",
       "      <td>NaN</td>\n",
       "      <td>31028357; 23911551; 21636032; 33831308; 263105...</td>\n",
       "      <td>Cardiac disorders</td>\n",
       "      <td>Expert review done on 05/01/2022; DSC2-related...</td>\n",
       "      <td>2024-03-20 09:36:09+00:00</td>\n",
       "      <td>https://www.ebi.ac.uk/gene2phenotype/lgd/G2P03247</td>\n",
       "    </tr>\n",
       "    <tr>\n",
       "      <th>3</th>\n",
       "      <td>G2P03248</td>\n",
       "      <td>DSC2</td>\n",
       "      <td>OMIM:125645</td>\n",
       "      <td>HGNC:3036</td>\n",
       "      <td>CDHF2; DSC3</td>\n",
       "      <td>DSC2-related arrhythmogenic right ventricular ...</td>\n",
       "      <td>NaN</td>\n",
       "      <td>MONDO:0012506</td>\n",
       "      <td>biallelic_autosomal</td>\n",
       "      <td>NaN</td>\n",
       "      <td>definitive</td>\n",
       "      <td>decreased gene product level; altered gene pro...</td>\n",
       "      <td>stop_gained; frameshift_variant; NMD_triggerin...</td>\n",
       "      <td>undetermined</td>\n",
       "      <td>inferred</td>\n",
       "      <td>NaN</td>\n",
       "      <td>NaN</td>\n",
       "      <td>31028357; 23911551; 21636032; 33831308; 263105...</td>\n",
       "      <td>Cardiac disorders</td>\n",
       "      <td>Expert review done on 05/01/2022; DSC2-related...</td>\n",
       "      <td>2024-03-20 09:35:19+00:00</td>\n",
       "      <td>https://www.ebi.ac.uk/gene2phenotype/lgd/G2P03248</td>\n",
       "    </tr>\n",
       "    <tr>\n",
       "      <th>4</th>\n",
       "      <td>G2P03249</td>\n",
       "      <td>DSG2</td>\n",
       "      <td>OMIM:125671</td>\n",
       "      <td>HGNC:3049</td>\n",
       "      <td>CDHF5</td>\n",
       "      <td>DSG2-related arrhythmogenic right ventricular ...</td>\n",
       "      <td>NaN</td>\n",
       "      <td>MONDO:0012434</td>\n",
       "      <td>monoallelic_autosomal</td>\n",
       "      <td>NaN</td>\n",
       "      <td>definitive</td>\n",
       "      <td>decreased gene product level; altered gene pro...</td>\n",
       "      <td>stop_gained; frameshift_variant; splice_accept...</td>\n",
       "      <td>undetermined</td>\n",
       "      <td>inferred</td>\n",
       "      <td>NaN</td>\n",
       "      <td>NaN</td>\n",
       "      <td>21636032; 33831308; 33917638; 34400560; 240707...</td>\n",
       "      <td>Cardiac disorders</td>\n",
       "      <td>Expert review done on 05/01/2022; DSG2-related...</td>\n",
       "      <td>2024-03-20 09:40:18+00:00</td>\n",
       "      <td>https://www.ebi.ac.uk/gene2phenotype/lgd/G2P03249</td>\n",
       "    </tr>\n",
       "  </tbody>\n",
       "</table>\n",
       "</div>"
      ],
      "text/plain": [
       "     g2p_id gene_symbol     gene_mim    hgnc_id  \\\n",
       "0  G2P00124       KCNE1  OMIM:176261  HGNC:6240   \n",
       "1  G2P00841      PTPN11  OMIM:176876  HGNC:9644   \n",
       "2  G2P03247        DSC2  OMIM:125645  HGNC:3036   \n",
       "3  G2P03248        DSC2  OMIM:125645  HGNC:3036   \n",
       "4  G2P03249        DSG2  OMIM:125671  HGNC:3049   \n",
       "\n",
       "                     previous_gene_symbols  \\\n",
       "0                   ISK; JLNS2; LQT5; MINK   \n",
       "1  BPTP3; NS1; PTP2C; SH-PTP2; SHP-2; SHP2   \n",
       "2                              CDHF2; DSC3   \n",
       "3                              CDHF2; DSC3   \n",
       "4                                    CDHF5   \n",
       "\n",
       "                                        disease_name  disease_mim  \\\n",
       "0   KCNE1-related Jervell and Lange-Nielsen syndrome  OMIM:612347   \n",
       "1  PTPN11-related Noonan syndrome with multiple l...  OMIM:151100   \n",
       "2  DSC2-related arrhythmogenic right ventricular ...          NaN   \n",
       "3  DSC2-related arrhythmogenic right ventricular ...          NaN   \n",
       "4  DSG2-related arrhythmogenic right ventricular ...          NaN   \n",
       "\n",
       "   disease_MONDO    allelic_requirement       cross_cutting_modifier  \\\n",
       "0  MONDO:0012871    biallelic_autosomal  potential secondary finding   \n",
       "1            NaN  monoallelic_autosomal                          NaN   \n",
       "2  MONDO:0012506  monoallelic_autosomal                          NaN   \n",
       "3  MONDO:0012506    biallelic_autosomal                          NaN   \n",
       "4  MONDO:0012434  monoallelic_autosomal                          NaN   \n",
       "\n",
       "   confidence                                variant_consequence  \\\n",
       "0      strong                     altered gene product structure   \n",
       "1  definitive                     altered gene product structure   \n",
       "2  definitive  decreased gene product level; altered gene pro...   \n",
       "3  definitive  decreased gene product level; altered gene pro...   \n",
       "4  definitive  decreased gene product level; altered gene pro...   \n",
       "\n",
       "                                       variant_types molecular_mechanism  \\\n",
       "0  missense_variant; inframe_insertion; inframe_d...        undetermined   \n",
       "1  missense_variant; inframe_deletion; inframe_in...        undetermined   \n",
       "2  stop_gained; frameshift_variant; NMD_triggerin...        undetermined   \n",
       "3  stop_gained; frameshift_variant; NMD_triggerin...        undetermined   \n",
       "4  stop_gained; frameshift_variant; splice_accept...        undetermined   \n",
       "\n",
       "  molecular_mechanism_categorisation molecular_mechanism_evidence  \\\n",
       "0                           inferred                          NaN   \n",
       "1                           inferred                          NaN   \n",
       "2                           inferred                          NaN   \n",
       "3                           inferred                          NaN   \n",
       "4                           inferred                          NaN   \n",
       "\n",
       "                                          phenotypes  \\\n",
       "0     HP:0001657; HP:0001279; HP:0000007; HP:0000407   \n",
       "1  HP:0001709; HP:0000957; HP:0004409; HP:0001639...   \n",
       "2                                                NaN   \n",
       "3                                                NaN   \n",
       "4                                                NaN   \n",
       "\n",
       "                                        publications  \\\n",
       "0                                           30461122   \n",
       "1  27484170; 26377839; 25917897; 25884655; 248207...   \n",
       "2  31028357; 23911551; 21636032; 33831308; 263105...   \n",
       "3  31028357; 23911551; 21636032; 33831308; 263105...   \n",
       "4  21636032; 33831308; 33917638; 34400560; 240707...   \n",
       "\n",
       "                                               panel  \\\n",
       "0         Developmental disorders; Cardiac disorders   \n",
       "1  Developmental disorders; Skin disorders; Cardi...   \n",
       "2                                  Cardiac disorders   \n",
       "3                                  Cardiac disorders   \n",
       "4                                  Cardiac disorders   \n",
       "\n",
       "                                            comments  \\\n",
       "0  KCNE1-related JLNS is due to altered gene prod...   \n",
       "1  Expert review done on 12/01/2022; Noonan syndr...   \n",
       "2  Expert review done on 05/01/2022; DSC2-related...   \n",
       "3  Expert review done on 05/01/2022; DSC2-related...   \n",
       "4  Expert review done on 05/01/2022; DSG2-related...   \n",
       "\n",
       "        date_of_last_review                                     g2p_record_url  \n",
       "0 2024-04-05 12:05:01+00:00  https://www.ebi.ac.uk/gene2phenotype/lgd/G2P00124  \n",
       "1 2025-01-21 14:56:43+00:00  https://www.ebi.ac.uk/gene2phenotype/lgd/G2P00841  \n",
       "2 2024-03-20 09:36:09+00:00  https://www.ebi.ac.uk/gene2phenotype/lgd/G2P03247  \n",
       "3 2024-03-20 09:35:19+00:00  https://www.ebi.ac.uk/gene2phenotype/lgd/G2P03248  \n",
       "4 2024-03-20 09:40:18+00:00  https://www.ebi.ac.uk/gene2phenotype/lgd/G2P03249  "
      ]
     },
     "execution_count": 15,
     "metadata": {},
     "output_type": "execute_result"
    }
   ],
   "source": [
    "## checking on column-level transforms\n",
    "\n",
    "df.head()\n",
    "# df[\"g2p record url\"].unique()[0:100]\n",
    "\n",
    "# df[df[\"disease_mim\"].str.contains(\"orphanet\", na=False)]  ## 9 rows, so that's correct\n",
    "# df[df[\"panel\"].str.contains(\"Hearing\", na=False)]"
   ]
  },
  {
   "cell_type": "markdown",
   "id": "6bc6242a",
   "metadata": {},
   "source": [
    "## Confidence values"
   ]
  },
  {
   "cell_type": "markdown",
   "id": "0d4e07e0",
   "metadata": {},
   "source": [
    "**2024-04-15:**\n",
    "\n",
    "Every row/record has 1 confidence value, representing how confident the curators are that \"this gene has a causal role in this disease\". The definitions of the possible values are provided [here (under G2P Confidence Category)](https://www.ebi.ac.uk/gene2phenotype/about/terminology). \n",
    "\n",
    "\n",
    "**CURRENT DEFINITIONS** (including in case they change later)\n",
    "\n",
    "> **definitive**: The role of this gene in this particular disease has been repeatedly demonstrated in both the research and clinical diagnostic settings, and has been upheld over time (at least 2 independent publication over 3 years' time). No convincing evidence has emerged that contradicts the role of the gene in the specified disease. (previously labelled as confirmed) The strength of evidence within publications as well as their number and publication dates is taken into account. In practice, this usually means at least 4 publications over 5 years. Typically this will also include convincing bioinformatic or functional evidence of causation, making it very unlikely that this gene-disease association would ever be refuted.\n",
    ">\n",
    ">**strong**: The role of this gene as a monogenic cause of disease has been repeatedly and independently demonstrated providing very strong convincing evidence in humans and no conflicting evidence for this gene's role in this disease. (previously labelled as probable).\n",
    ">\n",
    ">**moderate**: There is moderate evidence in humans to support a casual role for this gene in this disease with no contradictory evidence. The body of evidence is not large (e.g possibly only one key paper) but appears convincing enough that the gene-disease pair is likely to be validated with additional evidence in the near future.\n",
    ">\n",
    ">**\"limited\"**: Little human evidence exists to support a casual role for this gene in this disease, but not all evidence has been refuted. For example, there may be a collection of rare missense variants in humans but without convincing functional impact, segregration data that could either arise by chance (e.g across one or two meioses) or does not implicate a single gene, or functional data without direct recapitulation of the phenotype. Overall, the body of evidence does not meet contemporary criteria for claiming a valid association with disease. The majority are probably false associations. (previously labelled as possible).\n",
    ">\n",
    ">**\"disputed\"**: \"Although evidence has been reported, other evidence of equal weight disputes the claim.\"\n",
    ">\n",
    ">**\"refuted\"**: \"There has been an assertion of a gene-disease association in the literature, but new valid evidence has arisen that refutes the entire original body of evidence.\""
   ]
  },
  {
   "cell_type": "markdown",
   "id": "d5b0d7ad",
   "metadata": {},
   "source": [
    "<div class=\"alert alert-block alert-success\">\n",
    "\n",
    "**2024-04-15:**\n",
    "\n",
    "My thinking is...\n",
    "1. rows with **\"refuted\"** and **\"disputed\"** values **should not be used to create edges for Translator**, because there's strong evidence that there ISN'T an association (negation) based on the definitions. \n",
    "2. rows with **\"limited\"** confidence can be kept because I interpret the definition as saying there is AN association - it's just not causal (as far as we know) and it's unclear how \"real\"/important it is. So these rows should have a predicate weaker than \"causes\"/\"contributes to\" -> **using \"related to\" for now**. \n",
    "3. keep rows with **\"moderate\", \"strong\", \"definitive\"** values, because there's moderate-definitive evidence that a gene DOES HAVE a causal role in this disease -> **\"using \"causes\" for now**\n",
    "\n",
    "    \n",
    "Plus: use subject_form_or_variant_qualifier *genetic_variant_form*. Okay because every row has an allelic_requirement value, and those [terms](https://www.ebi.ac.uk/gene2phenotype/about/terminology) are for the gene's mutations that possibly cause the disease. "
   ]
  },
  {
   "cell_type": "markdown",
   "id": "bc0837c1",
   "metadata": {},
   "source": [
    "<div class=\"alert alert-block alert-danger\">\n",
    "\n",
    "Data-modeling notes: options for gene-disease associations are confusing \n",
    "* can \"causes / contributes to\" be used? Maybe it makes more sense to use them with qualifiers on gene/protein (form or variant, aspect)...but are we allowed to use qualifiers here?\n",
    "* what's the diff between \"associated with\" and \"genetically associated with\"? \n",
    "* \"gene associated with condition\" is child of \"genetically associated with\", but seems to be more general - basically a \"related to\". Also would look weird in UI, right? "
   ]
  },
  {
   "cell_type": "code",
   "execution_count": 16,
   "id": "bc8729d7",
   "metadata": {
    "ExecuteTime": {
     "end_time": "2025-07-18T09:31:14.230876Z",
     "start_time": "2025-07-18T09:31:14.224958Z"
    }
   },
   "outputs": [
    {
     "data": {
      "text/plain": [
       "confidence\n",
       "definitive    2064\n",
       "strong         862\n",
       "limited        525\n",
       "moderate       255\n",
       "refuted          1\n",
       "Name: count, dtype: int64"
      ]
     },
     "execution_count": 16,
     "metadata": {},
     "output_type": "execute_result"
    }
   ],
   "source": [
    "df[\"confidence\"].value_counts()"
   ]
  },
  {
   "cell_type": "markdown",
   "id": "6420f677",
   "metadata": {},
   "source": [
    "**2025-03-28 data:** \n",
    "No \"disputed\" values, only 1 \"refuted\" row to remove"
   ]
  },
  {
   "cell_type": "markdown",
   "id": "3226e564",
   "metadata": {},
   "source": [
    "### Removing rows + stats"
   ]
  },
  {
   "cell_type": "code",
   "execution_count": 17,
   "id": "fff9d0b0",
   "metadata": {
    "ExecuteTime": {
     "end_time": "2025-07-18T09:31:25.134118Z",
     "start_time": "2025-07-18T09:31:25.129096Z"
    }
   },
   "outputs": [],
   "source": [
    "## put into parser (format): DONE\n",
    "\n",
    "## calculate stats before removing\n",
    "\n",
    "n_rows_original = df.shape[0]\n",
    "n_rows_refuted = df[df[\"confidence\"] == \"refuted\"].shape[0]\n",
    "n_rows_disputed = df[df[\"confidence\"] == \"disputed\"].shape[0]"
   ]
  },
  {
   "cell_type": "code",
   "execution_count": 18,
   "id": "342634bc",
   "metadata": {
    "ExecuteTime": {
     "end_time": "2025-07-18T09:31:25.636187Z",
     "start_time": "2025-07-18T09:31:25.628143Z"
    }
   },
   "outputs": [],
   "source": [
    "## put into parser (format): DONE\n",
    "\n",
    "## remove rows, calculate stats after\n",
    "\n",
    "df = df[~ df[\"confidence\"].isin([\"refuted\", \"disputed\"])].reset_index(drop=True)\n",
    "n_rows_after_confidence = df.shape[0]"
   ]
  },
  {
   "cell_type": "code",
   "execution_count": 19,
   "id": "95ee0237",
   "metadata": {
    "ExecuteTime": {
     "end_time": "2025-07-18T09:31:26.127151Z",
     "start_time": "2025-07-18T09:31:26.123326Z"
    }
   },
   "outputs": [
    {
     "name": "stdout",
     "output_type": "stream",
     "text": [
      "3707 unique rows/records in original dataset\n",
      "\n",
      "Removing rows based on confidence:\n",
      "1: 'refuted'\n",
      "0: 'disputed'\n",
      "\n",
      "3706 rows afterwards\n"
     ]
    }
   ],
   "source": [
    "## put into parser (format): DONE\n",
    "\n",
    "## Print stats\n",
    "\n",
    "print(f\"{n_rows_original} unique rows/records in original dataset\\n\")\n",
    "\n",
    "print(f\"Removing rows based on confidence:\")\n",
    "print(f\"{n_rows_refuted}: 'refuted'\")\n",
    "print(f\"{n_rows_disputed}: 'disputed'\\n\")\n",
    "\n",
    "print(f\"{n_rows_after_confidence} rows afterwards\")"
   ]
  },
  {
   "cell_type": "markdown",
   "id": "0ff20129",
   "metadata": {},
   "source": [
    "## Pre-NodeNorming"
   ]
  },
  {
   "cell_type": "markdown",
   "id": "377992a6",
   "metadata": {},
   "source": [
    "Querying NodeNorm: send unique values (no duplicates!) from entire column in large batches -> generate mapping dict to use. \n",
    "<br>\n",
    "__Not querying 1-by-1 or 1 row at a time: much slower__ and would involve sending duplicate IDs (unless saved dict is kept outside loop and checked) \n",
    "\n",
    "Not going to use NameResolver: not optimistic this would work anyways. My manual process of getting \"better\" disease IDs is to use the gene IDs, find the diseases they're linked to in OMIM and Monarch, and seeing if those match the data's disease name / phenotypes / publications. This is more complicated than just using NameResolver."
   ]
  },
  {
   "cell_type": "markdown",
   "id": "1266243a",
   "metadata": {},
   "source": [
    "<div class=\"alert alert-block alert-danger\">\n",
    "\n",
    "Set the NodeNorm URL you want to use. "
   ]
  },
  {
   "cell_type": "code",
   "execution_count": 20,
   "id": "ec7095c7",
   "metadata": {
    "ExecuteTime": {
     "end_time": "2025-07-18T09:31:31.275835Z",
     "start_time": "2025-07-18T09:31:31.111843Z"
    }
   },
   "outputs": [],
   "source": [
    "## put into parser (format): DONE\n",
    "\n",
    "import requests\n",
    "\n",
    "## from BioThings annotator code: for interoperability between diff Python versions\n",
    "# try:\n",
    "#     from itertools import batched  # new in Python 3.12\n",
    "# except ImportError:\n",
    "#     from itertools import islice\n",
    "\n",
    "#     def batched(iterable, n):\n",
    "#         # batched('ABCDEFG', 3) → ABC DEF G\n",
    "#         if n < 1:\n",
    "#             raise ValueError(\"n must be at least one\")\n",
    "#         iterator = iter(iterable)\n",
    "#         while batch := tuple(islice(iterator, n)):\n",
    "#             yield batch\n",
    "\n",
    "## doing to test that this works\n",
    "from itertools import islice\n",
    "\n",
    "def batched(iterable, n):\n",
    "    # batched('ABCDEFG', 3) → ABC DEF G\n",
    "    if n < 1:\n",
    "        raise ValueError(\"n must be at least one\")\n",
    "    iterator = iter(iterable)\n",
    "    while batch := tuple(islice(iterator, n)):\n",
    "        yield batch\n",
    "\n",
    "nodenorm_url = \"https://nodenorm.ci.transltr.io/get_normalized_nodes\""
   ]
  },
  {
   "cell_type": "markdown",
   "id": "fd327545",
   "metadata": {},
   "source": [
    "### Exploring: Genes"
   ]
  },
  {
   "cell_type": "markdown",
   "id": "95105b25",
   "metadata": {},
   "source": [
    "**2025-03-28 data:** Every row has at least 1 gene ID (HGNC column has no missing values). So no rows will be removed because there's no gene IDs to use for the pre-NodeNorming. "
   ]
  },
  {
   "cell_type": "code",
   "execution_count": 21,
   "id": "c9c7d169",
   "metadata": {
    "ExecuteTime": {
     "end_time": "2025-07-18T09:31:42.503956Z",
     "start_time": "2025-07-18T09:31:42.494558Z"
    }
   },
   "outputs": [
    {
     "name": "stdout",
     "output_type": "stream",
     "text": [
      "<class 'pandas.core.frame.DataFrame'>\n",
      "RangeIndex: 3706 entries, 0 to 3705\n",
      "Data columns (total 3 columns):\n",
      " #   Column       Non-Null Count  Dtype \n",
      "---  ------       --------------  ----- \n",
      " 0   gene_symbol  3706 non-null   object\n",
      " 1   hgnc_id      3706 non-null   object\n",
      " 2   gene_mim     3703 non-null   object\n",
      "dtypes: object(3)\n",
      "memory usage: 87.0+ KB\n"
     ]
    }
   ],
   "source": [
    "df[[\"gene_symbol\", \"hgnc_id\", \"gene_mim\"]].info()"
   ]
  },
  {
   "cell_type": "code",
   "execution_count": 22,
   "id": "fd6ea459",
   "metadata": {
    "ExecuteTime": {
     "end_time": "2025-07-18T09:31:47.329935Z",
     "start_time": "2025-07-18T09:31:47.311717Z"
    }
   },
   "outputs": [
    {
     "data": {
      "text/html": [
       "<div>\n",
       "<style scoped>\n",
       "    .dataframe tbody tr th:only-of-type {\n",
       "        vertical-align: middle;\n",
       "    }\n",
       "\n",
       "    .dataframe tbody tr th {\n",
       "        vertical-align: top;\n",
       "    }\n",
       "\n",
       "    .dataframe thead th {\n",
       "        text-align: right;\n",
       "    }\n",
       "</style>\n",
       "<table border=\"1\" class=\"dataframe\">\n",
       "  <thead>\n",
       "    <tr style=\"text-align: right;\">\n",
       "      <th></th>\n",
       "      <th>g2p_id</th>\n",
       "      <th>gene_symbol</th>\n",
       "      <th>gene_mim</th>\n",
       "      <th>hgnc_id</th>\n",
       "      <th>previous_gene_symbols</th>\n",
       "      <th>disease_name</th>\n",
       "      <th>disease_mim</th>\n",
       "      <th>disease_MONDO</th>\n",
       "      <th>allelic_requirement</th>\n",
       "      <th>cross_cutting_modifier</th>\n",
       "      <th>confidence</th>\n",
       "      <th>variant_consequence</th>\n",
       "      <th>variant_types</th>\n",
       "      <th>molecular_mechanism</th>\n",
       "      <th>molecular_mechanism_categorisation</th>\n",
       "      <th>molecular_mechanism_evidence</th>\n",
       "      <th>phenotypes</th>\n",
       "      <th>publications</th>\n",
       "      <th>panel</th>\n",
       "      <th>comments</th>\n",
       "      <th>date_of_last_review</th>\n",
       "      <th>g2p_record_url</th>\n",
       "    </tr>\n",
       "  </thead>\n",
       "  <tbody>\n",
       "    <tr>\n",
       "      <th>1212</th>\n",
       "      <td>G2P00977</td>\n",
       "      <td>ZNF599</td>\n",
       "      <td>NaN</td>\n",
       "      <td>HGNC:26408</td>\n",
       "      <td>FLJ30663</td>\n",
       "      <td>ZNF599-related NOT IN OMIM</td>\n",
       "      <td>NaN</td>\n",
       "      <td>NaN</td>\n",
       "      <td>monoallelic_autosomal</td>\n",
       "      <td>NaN</td>\n",
       "      <td>limited</td>\n",
       "      <td>uncertain</td>\n",
       "      <td>NaN</td>\n",
       "      <td>undetermined</td>\n",
       "      <td>inferred</td>\n",
       "      <td>NaN</td>\n",
       "      <td>NaN</td>\n",
       "      <td>NaN</td>\n",
       "      <td>Developmental disorders</td>\n",
       "      <td>NaN</td>\n",
       "      <td>2015-07-22 16:15:03+00:00</td>\n",
       "      <td>https://www.ebi.ac.uk/gene2phenotype/lgd/G2P00977</td>\n",
       "    </tr>\n",
       "    <tr>\n",
       "      <th>2853</th>\n",
       "      <td>G2P03745</td>\n",
       "      <td>RNU2-2P</td>\n",
       "      <td>NaN</td>\n",
       "      <td>HGNC:10152</td>\n",
       "      <td>NaN</td>\n",
       "      <td>RNU2-2P-related neurodevelopmental disorder wi...</td>\n",
       "      <td>NaN</td>\n",
       "      <td>NaN</td>\n",
       "      <td>monoallelic_autosomal</td>\n",
       "      <td>NaN</td>\n",
       "      <td>strong</td>\n",
       "      <td>altered gene product structure</td>\n",
       "      <td>ncRNA</td>\n",
       "      <td>undetermined</td>\n",
       "      <td>inferred</td>\n",
       "      <td>NaN</td>\n",
       "      <td>NaN</td>\n",
       "      <td>40210679; 40442284</td>\n",
       "      <td>Developmental disorders</td>\n",
       "      <td>Gene now called RNU2-2. Recurrent variants: n....</td>\n",
       "      <td>2025-06-04 09:34:09+00:00</td>\n",
       "      <td>https://www.ebi.ac.uk/gene2phenotype/lgd/G2P03745</td>\n",
       "    </tr>\n",
       "    <tr>\n",
       "      <th>3469</th>\n",
       "      <td>G2P02168</td>\n",
       "      <td>MFSD6L</td>\n",
       "      <td>NaN</td>\n",
       "      <td>HGNC:26656</td>\n",
       "      <td>FLJ35773</td>\n",
       "      <td>MFSD6L-related congenital cataract</td>\n",
       "      <td>NaN</td>\n",
       "      <td>MONDO:0005129</td>\n",
       "      <td>biallelic_autosomal</td>\n",
       "      <td>NaN</td>\n",
       "      <td>limited</td>\n",
       "      <td>altered gene product structure</td>\n",
       "      <td>missense_variant; inframe_deletion; inframe_in...</td>\n",
       "      <td>undetermined</td>\n",
       "      <td>inferred</td>\n",
       "      <td>NaN</td>\n",
       "      <td>HP:0010864; HP:0000007</td>\n",
       "      <td>22935719</td>\n",
       "      <td>Eye disorders</td>\n",
       "      <td>NaN</td>\n",
       "      <td>2017-08-29 09:35:13+00:00</td>\n",
       "      <td>https://www.ebi.ac.uk/gene2phenotype/lgd/G2P02168</td>\n",
       "    </tr>\n",
       "  </tbody>\n",
       "</table>\n",
       "</div>"
      ],
      "text/plain": [
       "        g2p_id gene_symbol gene_mim     hgnc_id previous_gene_symbols  \\\n",
       "1212  G2P00977      ZNF599      NaN  HGNC:26408              FLJ30663   \n",
       "2853  G2P03745     RNU2-2P      NaN  HGNC:10152                   NaN   \n",
       "3469  G2P02168      MFSD6L      NaN  HGNC:26656              FLJ35773   \n",
       "\n",
       "                                           disease_name disease_mim  \\\n",
       "1212                         ZNF599-related NOT IN OMIM         NaN   \n",
       "2853  RNU2-2P-related neurodevelopmental disorder wi...         NaN   \n",
       "3469                 MFSD6L-related congenital cataract         NaN   \n",
       "\n",
       "      disease_MONDO    allelic_requirement cross_cutting_modifier confidence  \\\n",
       "1212            NaN  monoallelic_autosomal                    NaN    limited   \n",
       "2853            NaN  monoallelic_autosomal                    NaN     strong   \n",
       "3469  MONDO:0005129    biallelic_autosomal                    NaN    limited   \n",
       "\n",
       "                 variant_consequence  \\\n",
       "1212                       uncertain   \n",
       "2853  altered gene product structure   \n",
       "3469  altered gene product structure   \n",
       "\n",
       "                                          variant_types molecular_mechanism  \\\n",
       "1212                                                NaN        undetermined   \n",
       "2853                                              ncRNA        undetermined   \n",
       "3469  missense_variant; inframe_deletion; inframe_in...        undetermined   \n",
       "\n",
       "     molecular_mechanism_categorisation molecular_mechanism_evidence  \\\n",
       "1212                           inferred                          NaN   \n",
       "2853                           inferred                          NaN   \n",
       "3469                           inferred                          NaN   \n",
       "\n",
       "                  phenotypes        publications                    panel  \\\n",
       "1212                     NaN                 NaN  Developmental disorders   \n",
       "2853                     NaN  40210679; 40442284  Developmental disorders   \n",
       "3469  HP:0010864; HP:0000007            22935719            Eye disorders   \n",
       "\n",
       "                                               comments  \\\n",
       "1212                                                NaN   \n",
       "2853  Gene now called RNU2-2. Recurrent variants: n....   \n",
       "3469                                                NaN   \n",
       "\n",
       "           date_of_last_review  \\\n",
       "1212 2015-07-22 16:15:03+00:00   \n",
       "2853 2025-06-04 09:34:09+00:00   \n",
       "3469 2017-08-29 09:35:13+00:00   \n",
       "\n",
       "                                         g2p_record_url  \n",
       "1212  https://www.ebi.ac.uk/gene2phenotype/lgd/G2P00977  \n",
       "2853  https://www.ebi.ac.uk/gene2phenotype/lgd/G2P03745  \n",
       "3469  https://www.ebi.ac.uk/gene2phenotype/lgd/G2P02168  "
      ]
     },
     "execution_count": 22,
     "metadata": {},
     "output_type": "execute_result"
    }
   ],
   "source": [
    "df[df[\"gene_mim\"].isna()]"
   ]
  },
  {
   "cell_type": "code",
   "execution_count": 23,
   "id": "9b72d9da",
   "metadata": {
    "ExecuteTime": {
     "end_time": "2025-07-18T09:31:53.093984Z",
     "start_time": "2025-07-18T09:31:53.084917Z"
    }
   },
   "outputs": [
    {
     "data": {
      "text/plain": [
       "0"
      ]
     },
     "execution_count": 23,
     "metadata": {},
     "output_type": "execute_result"
    },
    {
     "data": {
      "text/plain": [
       "0"
      ]
     },
     "execution_count": 23,
     "metadata": {},
     "output_type": "execute_result"
    }
   ],
   "source": [
    "## saving stats on data with no gene IDs, just in case\n",
    "\n",
    "stats_no_gene_IDs = {\n",
    "    \"n_rows\": df[df[\"gene_mim\"].isna() & df[\"hgnc_id\"].isna()].shape[0],\n",
    "    \"n_names\": len(df[df[\"gene_mim\"].isna() & df[\"hgnc_id\"].isna()][\"gene_symbol\"].unique())\n",
    "}\n",
    "\n",
    "stats_no_gene_IDs[\"n_rows\"]\n",
    "stats_no_gene_IDs[\"n_names\"]"
   ]
  },
  {
   "cell_type": "markdown",
   "id": "8ec56f53",
   "metadata": {},
   "source": [
    "#### HGNC"
   ]
  },
  {
   "cell_type": "markdown",
   "id": "42bf5e56",
   "metadata": {},
   "source": [
    "__Running Gene HGNC IDs through NodeNorm__\n",
    "\n",
    "\n",
    "Catching potential mapping failures for later stats report"
   ]
  },
  {
   "cell_type": "code",
   "execution_count": 24,
   "id": "9af3c9da",
   "metadata": {
    "ExecuteTime": {
     "end_time": "2025-07-18T09:31:55.832039Z",
     "start_time": "2025-07-18T09:31:55.828846Z"
    }
   },
   "outputs": [],
   "source": [
    "## saving stats on data with no HGNC IDs, just in case\n",
    "\n",
    "n_rows_no_hgnc = df[\"hgnc_id\"].isna().sum()"
   ]
  },
  {
   "cell_type": "code",
   "execution_count": 25,
   "id": "54f32d70",
   "metadata": {
    "ExecuteTime": {
     "end_time": "2025-07-18T09:31:56.530494Z",
     "start_time": "2025-07-18T09:31:56.524882Z"
    }
   },
   "outputs": [
    {
     "data": {
      "text/plain": [
       "3040"
      ]
     },
     "execution_count": 25,
     "metadata": {},
     "output_type": "execute_result"
    }
   ],
   "source": [
    "## get set of unique CURIEs to put into NodeNorm\n",
    "hgnc = df[\"hgnc_id\"].dropna().unique()\n",
    "len(hgnc)"
   ]
  },
  {
   "cell_type": "code",
   "execution_count": 26,
   "id": "e98887c0",
   "metadata": {
    "ExecuteTime": {
     "end_time": "2025-07-18T09:31:57.771877Z",
     "start_time": "2025-07-18T09:31:57.768701Z"
    }
   },
   "outputs": [],
   "source": [
    "hgnc_nodenorm_mapping = {}\n",
    "\n",
    "## set up variables to catch potential mapping failures\n",
    "stats_hgnc_mapping_failures = {\n",
    "    \"unexpected_error\": {},\n",
    "    \"nodenorm_returned_none\": [],\n",
    "    \"wrong_category\": {},\n",
    "    \"no_label\": []\n",
    "    \n",
    "}"
   ]
  },
  {
   "cell_type": "code",
   "execution_count": 27,
   "id": "9521a856",
   "metadata": {
    "ExecuteTime": {
     "end_time": "2025-07-18T09:32:11.146865Z",
     "start_time": "2025-07-18T09:31:59.597092Z"
    }
   },
   "outputs": [],
   "source": [
    "## larger batches are quicker\n",
    "for batch in batched(hgnc, 1000):\n",
    "    ## returns tuples -> cast to list\n",
    "    req_body = {\n",
    "        \"curies\": list(batch),\n",
    "        \"conflate\": True,\n",
    "    }\n",
    "    r = requests.post(nodenorm_url, json=req_body)\n",
    "    response = r.json()\n",
    "    \n",
    "    ## not doing dict comprehension. allows easier review, logic writing\n",
    "    for k,v in response.items():\n",
    "        ## catch unexpected errors\n",
    "        try:\n",
    "            ## if NodeNorm didn't have info on this ID, v will be None\n",
    "            if v is not None:\n",
    "                ## don't keep mapping if category is not the expected one\n",
    "                if v[\"type\"][0] == \"biolink:Gene\":\n",
    "                    ## also throw out mapping if no primary label found\n",
    "                    if v[\"id\"].get(\"label\"):\n",
    "                        temp = {\n",
    "                            k: {\"primary_id\": v[\"id\"][\"identifier\"],\n",
    "                                \"primary_label\": v[\"id\"][\"label\"]\n",
    "                               }\n",
    "                        }\n",
    "                        hgnc_nodenorm_mapping.update(temp)\n",
    "                    else:\n",
    "                        stats_hgnc_mapping_failures[\"no_label\"].append(k)\n",
    "#                         print(f\"{k}: NodeNorm didn't find primary label. Not keeping this mapping.\")\n",
    "                else:\n",
    "                    stats_hgnc_mapping_failures[\"wrong_category\"].update({k: v[\"type\"][0]})\n",
    "#                     print(f'{k}: NodeNorm found different category {v[\"type\"][0]}. Not keeping this mapping.')\n",
    "            else:\n",
    "                stats_hgnc_mapping_failures[\"nodenorm_returned_none\"].append(k)\n",
    "#                 print(f\"{k}: NodeNorm didn't recognize this ID\")\n",
    "        except:\n",
    "            stats_hgnc_mapping_failures[\"unexpected_error\"].update({k: v})\n",
    "            print(f'Encountered an unexpected error.')\n",
    "            print(f'NodeNorm response key: {k}')\n",
    "            print(f'NodeNorm response value: {v}')"
   ]
  },
  {
   "cell_type": "code",
   "execution_count": 28,
   "id": "fce525ef",
   "metadata": {
    "ExecuteTime": {
     "end_time": "2025-07-18T09:32:11.155297Z",
     "start_time": "2025-07-18T09:32:11.149904Z"
    }
   },
   "outputs": [
    {
     "data": {
      "text/plain": [
       "3040"
      ]
     },
     "execution_count": 28,
     "metadata": {},
     "output_type": "execute_result"
    },
    {
     "data": {
      "text/plain": [
       "{'unexpected_error': {},\n",
       " 'nodenorm_returned_none': [],\n",
       " 'wrong_category': {},\n",
       " 'no_label': []}"
      ]
     },
     "execution_count": 28,
     "metadata": {},
     "output_type": "execute_result"
    }
   ],
   "source": [
    "len(hgnc_nodenorm_mapping)\n",
    "\n",
    "stats_hgnc_mapping_failures"
   ]
  },
  {
   "cell_type": "markdown",
   "id": "f45b85ef",
   "metadata": {},
   "source": [
    "#### OMIM"
   ]
  },
  {
   "cell_type": "markdown",
   "id": "449d1aa0",
   "metadata": {},
   "source": [
    "__Running Gene OMIM IDs through NodeNorm__\n",
    "\n",
    "Catching potential mapping failures for later stats report. \n",
    "\n",
    "Pasted, adjusted from HGNC code blocks above."
   ]
  },
  {
   "cell_type": "code",
   "execution_count": 29,
   "id": "93037c9d",
   "metadata": {
    "ExecuteTime": {
     "end_time": "2025-07-18T09:32:17.172251Z",
     "start_time": "2025-07-18T09:32:17.167196Z"
    }
   },
   "outputs": [
    {
     "data": {
      "text/plain": [
       "3037"
      ]
     },
     "execution_count": 29,
     "metadata": {},
     "output_type": "execute_result"
    }
   ],
   "source": [
    "## get set of unique CURIEs to put into NodeNorm\n",
    "gene_omim = df[\"gene_mim\"].dropna().unique()\n",
    "len(gene_omim)"
   ]
  },
  {
   "cell_type": "code",
   "execution_count": 30,
   "id": "8ab2b46b",
   "metadata": {
    "ExecuteTime": {
     "end_time": "2025-07-18T09:32:18.655709Z",
     "start_time": "2025-07-18T09:32:18.652895Z"
    }
   },
   "outputs": [],
   "source": [
    "gene_omim_nodenorm_mapping = {}\n",
    "\n",
    "## set up variables to catch potential mapping failures\n",
    "stats_gene_omim_mapping_failures = {\n",
    "    \"unexpected_error\": {},\n",
    "    \"nodenorm_returned_none\": [],\n",
    "    \"wrong_category\": {},\n",
    "    \"no_label\": []\n",
    "    \n",
    "}"
   ]
  },
  {
   "cell_type": "code",
   "execution_count": 31,
   "id": "26d80f83",
   "metadata": {
    "ExecuteTime": {
     "end_time": "2025-07-18T09:32:31.719732Z",
     "start_time": "2025-07-18T09:32:19.270232Z"
    }
   },
   "outputs": [],
   "source": [
    "## larger batches are quicker\n",
    "for batch in batched(gene_omim, 1000):\n",
    "    ## returns tuples -> cast to list\n",
    "    req_body = {\n",
    "        \"curies\": list(batch),\n",
    "        \"conflate\": True,\n",
    "    }\n",
    "    r = requests.post(nodenorm_url, json=req_body)\n",
    "    response = r.json()\n",
    "    \n",
    "    ## not doing dict comprehension. allows easier review, logic writing\n",
    "    for k,v in response.items():\n",
    "        ## catch unexpected errors\n",
    "        try:\n",
    "            ## if NodeNorm didn't have info on this ID, v will be None\n",
    "            if v is not None:\n",
    "                ## don't keep mapping if category is not the expected one\n",
    "                if v[\"type\"][0] == \"biolink:Gene\":\n",
    "                    ## also throw out mapping if no primary label found\n",
    "                    if v[\"id\"].get(\"label\"):\n",
    "                        temp = {\n",
    "                            k: {\"primary_id\": v[\"id\"][\"identifier\"],\n",
    "                                \"primary_label\": v[\"id\"][\"label\"]\n",
    "                               }\n",
    "                        }\n",
    "                        gene_omim_nodenorm_mapping.update(temp)\n",
    "                    else:\n",
    "                        stats_gene_omim_mapping_failures[\"no_label\"].append(k)\n",
    "#                         print(f\"{k}: NodeNorm didn't find primary label. Not keeping this mapping.\")\n",
    "                else:\n",
    "                    stats_gene_omim_mapping_failures[\"wrong_category\"].update({k: v[\"type\"][0]})\n",
    "#                     print(f'{k}: NodeNorm found different category {v[\"type\"][0]}. Not keeping this mapping.')\n",
    "            else:\n",
    "                stats_gene_omim_mapping_failures[\"nodenorm_returned_none\"].append(k)\n",
    "#                 print(f\"{k}: NodeNorm didn't recognize this ID\")\n",
    "        except:\n",
    "            stats_gene_omim_mapping_failures[\"unexpected_error\"].update({k: v})\n",
    "            print(f'Encountered an unexpected error.')\n",
    "            print(f'NodeNorm response key: {k}')\n",
    "            print(f'NodeNorm response value: {v}')"
   ]
  },
  {
   "cell_type": "code",
   "execution_count": 32,
   "id": "8b342012",
   "metadata": {
    "ExecuteTime": {
     "end_time": "2025-07-18T09:32:31.728455Z",
     "start_time": "2025-07-18T09:32:31.722761Z"
    }
   },
   "outputs": [
    {
     "data": {
      "text/plain": [
       "3037"
      ]
     },
     "execution_count": 32,
     "metadata": {},
     "output_type": "execute_result"
    },
    {
     "data": {
      "text/plain": [
       "{'unexpected_error': {},\n",
       " 'nodenorm_returned_none': [],\n",
       " 'wrong_category': {},\n",
       " 'no_label': []}"
      ]
     },
     "execution_count": 32,
     "metadata": {},
     "output_type": "execute_result"
    }
   ],
   "source": [
    "len(gene_omim_nodenorm_mapping)\n",
    "\n",
    "stats_gene_omim_mapping_failures"
   ]
  },
  {
   "cell_type": "code",
   "execution_count": 34,
   "id": "29752c2e",
   "metadata": {
    "ExecuteTime": {
     "end_time": "2025-07-12T01:03:36.176645Z",
     "start_time": "2025-07-12T01:03:36.159871Z"
    }
   },
   "outputs": [
    {
     "data": {
      "text/html": [
       "<div>\n",
       "<style scoped>\n",
       "    .dataframe tbody tr th:only-of-type {\n",
       "        vertical-align: middle;\n",
       "    }\n",
       "\n",
       "    .dataframe tbody tr th {\n",
       "        vertical-align: top;\n",
       "    }\n",
       "\n",
       "    .dataframe thead th {\n",
       "        text-align: right;\n",
       "    }\n",
       "</style>\n",
       "<table border=\"1\" class=\"dataframe\">\n",
       "  <thead>\n",
       "    <tr style=\"text-align: right;\">\n",
       "      <th></th>\n",
       "      <th>g2p_id</th>\n",
       "      <th>gene_symbol</th>\n",
       "      <th>gene_mim</th>\n",
       "      <th>hgnc_id</th>\n",
       "      <th>previous_gene_symbols</th>\n",
       "      <th>disease_name</th>\n",
       "      <th>disease_mim</th>\n",
       "      <th>disease_MONDO</th>\n",
       "      <th>allelic_requirement</th>\n",
       "      <th>cross_cutting_modifier</th>\n",
       "      <th>confidence</th>\n",
       "      <th>variant_consequence</th>\n",
       "      <th>variant_types</th>\n",
       "      <th>molecular_mechanism</th>\n",
       "      <th>molecular_mechanism_categorisation</th>\n",
       "      <th>molecular_mechanism_evidence</th>\n",
       "      <th>phenotypes</th>\n",
       "      <th>publications</th>\n",
       "      <th>panel</th>\n",
       "      <th>comments</th>\n",
       "      <th>date_of_last_review</th>\n",
       "      <th>g2p_record_url</th>\n",
       "    </tr>\n",
       "  </thead>\n",
       "  <tbody>\n",
       "    <tr>\n",
       "      <th>3232</th>\n",
       "      <td>G2P03714</td>\n",
       "      <td>SP9</td>\n",
       "      <td>OMIM:621003</td>\n",
       "      <td>HGNC:30690</td>\n",
       "      <td>ZNF990</td>\n",
       "      <td>SP9-related neurodevelopmental disorder with/w...</td>\n",
       "      <td>NaN</td>\n",
       "      <td>NaN</td>\n",
       "      <td>monoallelic_autosomal</td>\n",
       "      <td>NaN</td>\n",
       "      <td>moderate</td>\n",
       "      <td>altered gene product structure</td>\n",
       "      <td>frameshift_variant_NMD_escaping; missense_variant</td>\n",
       "      <td>undetermined</td>\n",
       "      <td>inferred</td>\n",
       "      <td>NaN</td>\n",
       "      <td>NaN</td>\n",
       "      <td>38288683</td>\n",
       "      <td>Developmental disorders</td>\n",
       "      <td>Discussions during curation agreed that there ...</td>\n",
       "      <td>2025-03-05 11:14:46+00:00</td>\n",
       "      <td>https://www.ebi.ac.uk/gene2phenotype/lgd/G2P03714</td>\n",
       "    </tr>\n",
       "  </tbody>\n",
       "</table>\n",
       "</div>"
      ],
      "text/plain": [
       "        g2p_id gene_symbol     gene_mim     hgnc_id previous_gene_symbols  \\\n",
       "3232  G2P03714         SP9  OMIM:621003  HGNC:30690                ZNF990   \n",
       "\n",
       "                                           disease_name disease_mim  \\\n",
       "3232  SP9-related neurodevelopmental disorder with/w...         NaN   \n",
       "\n",
       "     disease_MONDO    allelic_requirement cross_cutting_modifier confidence  \\\n",
       "3232           NaN  monoallelic_autosomal                    NaN   moderate   \n",
       "\n",
       "                 variant_consequence  \\\n",
       "3232  altered gene product structure   \n",
       "\n",
       "                                          variant_types molecular_mechanism  \\\n",
       "3232  frameshift_variant_NMD_escaping; missense_variant        undetermined   \n",
       "\n",
       "     molecular_mechanism_categorisation molecular_mechanism_evidence  \\\n",
       "3232                           inferred                          NaN   \n",
       "\n",
       "     phenotypes publications                    panel  \\\n",
       "3232        NaN     38288683  Developmental disorders   \n",
       "\n",
       "                                               comments  \\\n",
       "3232  Discussions during curation agreed that there ...   \n",
       "\n",
       "           date_of_last_review  \\\n",
       "3232 2025-03-05 11:14:46+00:00   \n",
       "\n",
       "                                         g2p_record_url  \n",
       "3232  https://www.ebi.ac.uk/gene2phenotype/lgd/G2P03714  "
      ]
     },
     "execution_count": 34,
     "metadata": {},
     "output_type": "execute_result"
    }
   ],
   "source": [
    "## from looking at 2025-03-28 data\n",
    "# df[df[\"gene_mim\"] == \"OMIM:621003\"]"
   ]
  },
  {
   "cell_type": "markdown",
   "id": "2d9af385",
   "metadata": {},
   "source": [
    "**2025-03-28 data:** `OMIM:621003` is a valid gene ID [(OMIM webpage)](https://omim.org/entry/602668), so this is a NodeNorm error -> messaged NodeNorm"
   ]
  },
  {
   "cell_type": "markdown",
   "id": "beaa91c8",
   "metadata": {},
   "source": [
    "#### Comparing HGNC vs OMIM"
   ]
  },
  {
   "cell_type": "code",
   "execution_count": 33,
   "id": "7401b121",
   "metadata": {
    "ExecuteTime": {
     "end_time": "2025-07-18T09:32:39.580318Z",
     "start_time": "2025-07-18T09:32:39.564910Z"
    }
   },
   "outputs": [],
   "source": [
    "## if row has both IDs, look for diff in mappings from each ID\n",
    "for row in df[[\"gene_mim\", \"hgnc_id\"]].itertuples(index=False):\n",
    "    ## has both IDs\n",
    "    if pd.notna(row.gene_mim) and pd.notna(row.hgnc_id):\n",
    "        ## if have NodeNorm mappings for both\n",
    "        if gene_omim_nodenorm_mapping.get(row.gene_mim) and \\\n",
    "        hgnc_nodenorm_mapping.get(row.hgnc_id):\n",
    "            ## check if mappings are diff\n",
    "            if gene_omim_nodenorm_mapping[row.gene_mim][\"primary_id\"] != \\\n",
    "            hgnc_nodenorm_mapping[row.hgnc_id][\"primary_id\"]:\n",
    "                print(row)\n",
    "\n",
    "## 2025-06-27 data: nothing prints, so there are no mismatches"
   ]
  },
  {
   "cell_type": "code",
   "execution_count": 34,
   "id": "e0dcee11",
   "metadata": {
    "ExecuteTime": {
     "end_time": "2025-07-18T09:32:47.649195Z",
     "start_time": "2025-07-18T09:32:47.636595Z"
    }
   },
   "outputs": [
    {
     "name": "stdout",
     "output_type": "stream",
     "text": [
      "G2P name MT-TP, ID HGNC:7494\n",
      "NodeNorm name TRNP, ID NCBIGene:4571\n",
      "\n",
      "\n",
      "G2P name CENPJ, ID HGNC:17272\n",
      "NodeNorm name CPAP, ID NCBIGene:55835\n",
      "\n",
      "\n",
      "G2P name CCDC103, ID HGNC:32700\n",
      "NodeNorm name DNAAF19, ID NCBIGene:388389\n",
      "\n",
      "\n",
      "G2P name CCDC115, ID HGNC:28178\n",
      "NodeNorm name VMA22, ID NCBIGene:84317\n",
      "\n",
      "\n",
      "G2P name TMEM199, ID HGNC:18085\n",
      "NodeNorm name VMA12, ID NCBIGene:147007\n",
      "\n",
      "\n",
      "G2P name MT-TL1, ID HGNC:7490\n",
      "NodeNorm name TRNL1, ID NCBIGene:4567\n",
      "\n",
      "\n",
      "G2P name RNU2-2P, ID HGNC:10152\n",
      "NodeNorm name RNU2-2, ID NCBIGene:26855\n",
      "\n",
      "\n",
      "G2P name MT-ND1, ID HGNC:7455\n",
      "NodeNorm name ND1, ID NCBIGene:4535\n",
      "\n",
      "\n",
      "G2P name MT-ND4, ID HGNC:7459\n",
      "NodeNorm name ND4, ID NCBIGene:4538\n",
      "\n",
      "\n",
      "G2P name MT-ATP6, ID HGNC:7414\n",
      "NodeNorm name ATP6, ID NCBIGene:4508\n",
      "\n",
      "\n",
      "G2P name MT-ND5, ID HGNC:7461\n",
      "NodeNorm name ND5, ID NCBIGene:4540\n",
      "\n",
      "\n",
      "G2P name MT-ND6, ID HGNC:7462\n",
      "NodeNorm name ND6, ID NCBIGene:4541\n",
      "\n",
      "\n"
     ]
    }
   ],
   "source": [
    "## look for differences in name between NodeNormed and original data\n",
    "\n",
    "for row in df[[\"gene_symbol\", \"hgnc_id\"]].itertuples(index=False):\n",
    "    ## works because both columns have no missing values and there's no failed mappings\n",
    "    ## if this changes, need to adjust this code block\n",
    "    if row.gene_symbol != hgnc_nodenorm_mapping[row.hgnc_id][\"primary_label\"]:\n",
    "        print(f\"G2P name {row.gene_symbol}, ID {row.hgnc_id}\")\n",
    "        print(f'NodeNorm name {hgnc_nodenorm_mapping[row.hgnc_id][\"primary_label\"]}, ID {hgnc_nodenorm_mapping[row.hgnc_id][\"primary_id\"]}')\n",
    "        print(\"\\n\")"
   ]
  },
  {
   "cell_type": "markdown",
   "id": "357c59c1",
   "metadata": {},
   "source": [
    "**2025-03-28 data:** \n",
    "\n",
    "Review of mismatched names:\n",
    "* NodeNorm is correct that CENPJ should be CPAP, CCDC103 -> DNAAF19\n",
    "* The rest look like mitochondrial genes, and NCBIGene main name seems to match G2P name, not NodeNorm -> messaged NodeNorm"
   ]
  },
  {
   "cell_type": "markdown",
   "id": "24a02122",
   "metadata": {},
   "source": [
    "#### Conclusions"
   ]
  },
  {
   "cell_type": "markdown",
   "id": "15f9836e",
   "metadata": {},
   "source": [
    "<div class=\"alert alert-block alert-success\">\n",
    "\n",
    "**2025-03-28 data:** \n",
    "    \n",
    "__Exploration__\n",
    "\n",
    "* no mapping failures\n",
    "* when rows have both OMIM and HGNC IDs, there were no differences in NodeNorm mapping (\"mismatches\")\n",
    "    \n",
    "__Decision: Use HGNC ID column to generate NodeNorm values__\n",
    "\n",
    "* less missing values (none right now)\n",
    "* these IDs are probably only genes (vs OMIM terms can be multiple types) "
   ]
  },
  {
   "cell_type": "markdown",
   "id": "783a5f57",
   "metadata": {},
   "source": [
    "### Exploring: Diseases"
   ]
  },
  {
   "cell_type": "markdown",
   "id": "f1879b18",
   "metadata": {},
   "source": [
    "There are many more missing IDs for Disease, compared to Gene. \n",
    "\n",
    "As mentioned at the beginning of the \"Pre-NodeNorming\" section, I won't be using NameResolver right now. \n",
    "\n",
    "__This means all rows w/o any disease IDs will be removed__ because they cannot be pre-NodeNormed. "
   ]
  },
  {
   "cell_type": "code",
   "execution_count": 35,
   "id": "7a13a8c2",
   "metadata": {
    "ExecuteTime": {
     "end_time": "2025-07-18T09:32:53.435742Z",
     "start_time": "2025-07-18T09:32:53.427212Z"
    }
   },
   "outputs": [
    {
     "name": "stdout",
     "output_type": "stream",
     "text": [
      "<class 'pandas.core.frame.DataFrame'>\n",
      "RangeIndex: 3706 entries, 0 to 3705\n",
      "Data columns (total 3 columns):\n",
      " #   Column         Non-Null Count  Dtype \n",
      "---  ------         --------------  ----- \n",
      " 0   disease_name   3706 non-null   object\n",
      " 1   disease_mim    2943 non-null   object\n",
      " 2   disease_MONDO  2187 non-null   object\n",
      "dtypes: object(3)\n",
      "memory usage: 87.0+ KB\n"
     ]
    }
   ],
   "source": [
    "df[[\"disease_name\", \"disease_mim\", \"disease_MONDO\"]].info()"
   ]
  },
  {
   "cell_type": "code",
   "execution_count": 36,
   "id": "f4c77261",
   "metadata": {
    "ExecuteTime": {
     "end_time": "2025-07-18T09:32:56.160738Z",
     "start_time": "2025-07-18T09:32:56.138178Z"
    }
   },
   "outputs": [
    {
     "data": {
      "text/html": [
       "<div>\n",
       "<style scoped>\n",
       "    .dataframe tbody tr th:only-of-type {\n",
       "        vertical-align: middle;\n",
       "    }\n",
       "\n",
       "    .dataframe tbody tr th {\n",
       "        vertical-align: top;\n",
       "    }\n",
       "\n",
       "    .dataframe thead th {\n",
       "        text-align: right;\n",
       "    }\n",
       "</style>\n",
       "<table border=\"1\" class=\"dataframe\">\n",
       "  <thead>\n",
       "    <tr style=\"text-align: right;\">\n",
       "      <th></th>\n",
       "      <th>g2p_id</th>\n",
       "      <th>gene_symbol</th>\n",
       "      <th>gene_mim</th>\n",
       "      <th>hgnc_id</th>\n",
       "      <th>previous_gene_symbols</th>\n",
       "      <th>disease_name</th>\n",
       "      <th>disease_mim</th>\n",
       "      <th>disease_MONDO</th>\n",
       "      <th>allelic_requirement</th>\n",
       "      <th>cross_cutting_modifier</th>\n",
       "      <th>confidence</th>\n",
       "      <th>variant_consequence</th>\n",
       "      <th>variant_types</th>\n",
       "      <th>molecular_mechanism</th>\n",
       "      <th>molecular_mechanism_categorisation</th>\n",
       "      <th>molecular_mechanism_evidence</th>\n",
       "      <th>phenotypes</th>\n",
       "      <th>publications</th>\n",
       "      <th>panel</th>\n",
       "      <th>comments</th>\n",
       "      <th>date_of_last_review</th>\n",
       "      <th>g2p_record_url</th>\n",
       "    </tr>\n",
       "  </thead>\n",
       "  <tbody>\n",
       "    <tr>\n",
       "      <th>69</th>\n",
       "      <td>G2P03445</td>\n",
       "      <td>GAA</td>\n",
       "      <td>OMIM:606800</td>\n",
       "      <td>HGNC:4065</td>\n",
       "      <td>NaN</td>\n",
       "      <td>GAA-related Pompe disease</td>\n",
       "      <td>NaN</td>\n",
       "      <td>NaN</td>\n",
       "      <td>biallelic_autosomal</td>\n",
       "      <td>restricted mutation set</td>\n",
       "      <td>definitive</td>\n",
       "      <td>decreased gene product level; altered gene pro...</td>\n",
       "      <td>NaN</td>\n",
       "      <td>undetermined</td>\n",
       "      <td>inferred</td>\n",
       "      <td>NaN</td>\n",
       "      <td>NaN</td>\n",
       "      <td>30681346; 31254424; 1652892; 8094613; 7981676;...</td>\n",
       "      <td>Cardiac disorders</td>\n",
       "      <td>Pompe disease is inherited as an autosomal rec...</td>\n",
       "      <td>2024-03-26 10:53:54+00:00</td>\n",
       "      <td>https://www.ebi.ac.uk/gene2phenotype/lgd/G2P03445</td>\n",
       "    </tr>\n",
       "    <tr>\n",
       "      <th>77</th>\n",
       "      <td>G2P03717</td>\n",
       "      <td>ACTN2</td>\n",
       "      <td>OMIM:102573</td>\n",
       "      <td>HGNC:164</td>\n",
       "      <td>NaN</td>\n",
       "      <td>ACTN2-related cardiac and skeletal myopathy</td>\n",
       "      <td>NaN</td>\n",
       "      <td>NaN</td>\n",
       "      <td>monoallelic_autosomal</td>\n",
       "      <td>NaN</td>\n",
       "      <td>definitive</td>\n",
       "      <td>altered gene product level; decreased gene pro...</td>\n",
       "      <td>stop_gained; frameshift_variant; missense_vari...</td>\n",
       "      <td>undetermined</td>\n",
       "      <td>inferred</td>\n",
       "      <td>NaN</td>\n",
       "      <td>NaN</td>\n",
       "      <td>17097056; 20022194; 25173926; 25224718; 275322...</td>\n",
       "      <td>Cardiac disorders</td>\n",
       "      <td>Pathogenic variants in ACTN2 are definitively ...</td>\n",
       "      <td>2025-03-07 13:46:46+00:00</td>\n",
       "      <td>https://www.ebi.ac.uk/gene2phenotype/lgd/G2P03717</td>\n",
       "    </tr>\n",
       "    <tr>\n",
       "      <th>78</th>\n",
       "      <td>G2P03718</td>\n",
       "      <td>FHOD3</td>\n",
       "      <td>OMIM:609691</td>\n",
       "      <td>HGNC:26178</td>\n",
       "      <td>FHOS2; FLJ22297; FLJ22717; KIAA1695</td>\n",
       "      <td>FHOD3-related hypertrophic cardiomyopathy</td>\n",
       "      <td>NaN</td>\n",
       "      <td>NaN</td>\n",
       "      <td>monoallelic_autosomal</td>\n",
       "      <td>NaN</td>\n",
       "      <td>definitive</td>\n",
       "      <td>altered gene product structure</td>\n",
       "      <td>splice_acceptor_variant_NMD_escaping; missense...</td>\n",
       "      <td>undetermined</td>\n",
       "      <td>inferred</td>\n",
       "      <td>NaN</td>\n",
       "      <td>NaN</td>\n",
       "      <td>19706596; 29907873; 30442288; 30898215; 317428...</td>\n",
       "      <td>Cardiac disorders</td>\n",
       "      <td>Pathogenic variants in FHOD3 are definitively ...</td>\n",
       "      <td>2025-03-07 13:48:22+00:00</td>\n",
       "      <td>https://www.ebi.ac.uk/gene2phenotype/lgd/G2P03718</td>\n",
       "    </tr>\n",
       "    <tr>\n",
       "      <th>161</th>\n",
       "      <td>G2P00448</td>\n",
       "      <td>IGF2</td>\n",
       "      <td>OMIM:147470</td>\n",
       "      <td>HGNC:5466</td>\n",
       "      <td>C11ORF43; FLJ44734; IGF-II</td>\n",
       "      <td>IGF2-related Beckwith-Wiedemann syndrome</td>\n",
       "      <td>NaN</td>\n",
       "      <td>NaN</td>\n",
       "      <td>monoallelic_autosomal</td>\n",
       "      <td>imprinted region; restricted mutation set</td>\n",
       "      <td>definitive</td>\n",
       "      <td>altered gene product structure</td>\n",
       "      <td>NaN</td>\n",
       "      <td>gain of function</td>\n",
       "      <td>inferred</td>\n",
       "      <td>NaN</td>\n",
       "      <td>HP:0001548; HP:0000269; HP:0002240; HP:0002667...</td>\n",
       "      <td>NaN</td>\n",
       "      <td>Developmental disorders; Skeletal disorders</td>\n",
       "      <td>NaN</td>\n",
       "      <td>2023-05-24 09:07:28+00:00</td>\n",
       "      <td>https://www.ebi.ac.uk/gene2phenotype/lgd/G2P00448</td>\n",
       "    </tr>\n",
       "    <tr>\n",
       "      <th>221</th>\n",
       "      <td>G2P00872</td>\n",
       "      <td>PIK3CA</td>\n",
       "      <td>OMIM:171834</td>\n",
       "      <td>HGNC:8975</td>\n",
       "      <td>PI3K</td>\n",
       "      <td>PIK3CA-related overgrowth spectrum disorder wi...</td>\n",
       "      <td>NaN</td>\n",
       "      <td>NaN</td>\n",
       "      <td>monoallelic_autosomal</td>\n",
       "      <td>typically mosaic; restricted mutation set</td>\n",
       "      <td>definitive</td>\n",
       "      <td>altered gene product structure</td>\n",
       "      <td>NaN</td>\n",
       "      <td>gain of function</td>\n",
       "      <td>inferred</td>\n",
       "      <td>NaN</td>\n",
       "      <td>HP:0000494; HP:0001744; HP:0002667; HP:0001852...</td>\n",
       "      <td>22658544; 22729224</td>\n",
       "      <td>Developmental disorders; Skeletal disorders</td>\n",
       "      <td>NaN</td>\n",
       "      <td>2024-12-11 11:40:22+00:00</td>\n",
       "      <td>https://www.ebi.ac.uk/gene2phenotype/lgd/G2P00872</td>\n",
       "    </tr>\n",
       "    <tr>\n",
       "      <th>...</th>\n",
       "      <td>...</td>\n",
       "      <td>...</td>\n",
       "      <td>...</td>\n",
       "      <td>...</td>\n",
       "      <td>...</td>\n",
       "      <td>...</td>\n",
       "      <td>...</td>\n",
       "      <td>...</td>\n",
       "      <td>...</td>\n",
       "      <td>...</td>\n",
       "      <td>...</td>\n",
       "      <td>...</td>\n",
       "      <td>...</td>\n",
       "      <td>...</td>\n",
       "      <td>...</td>\n",
       "      <td>...</td>\n",
       "      <td>...</td>\n",
       "      <td>...</td>\n",
       "      <td>...</td>\n",
       "      <td>...</td>\n",
       "      <td>...</td>\n",
       "      <td>...</td>\n",
       "    </tr>\n",
       "    <tr>\n",
       "      <th>3666</th>\n",
       "      <td>G2P02826</td>\n",
       "      <td>RPE65</td>\n",
       "      <td>OMIM:180069</td>\n",
       "      <td>HGNC:10294</td>\n",
       "      <td>BCO3; LCA2; RD12; RP20</td>\n",
       "      <td>RPE65-related retinal dystrophy</td>\n",
       "      <td>NaN</td>\n",
       "      <td>NaN</td>\n",
       "      <td>monoallelic_autosomal</td>\n",
       "      <td>NaN</td>\n",
       "      <td>definitive</td>\n",
       "      <td>altered gene product structure</td>\n",
       "      <td>missense_variant; inframe_deletion; inframe_in...</td>\n",
       "      <td>undetermined</td>\n",
       "      <td>inferred</td>\n",
       "      <td>NaN</td>\n",
       "      <td>HP:0001139; HP:0000556</td>\n",
       "      <td>27307694; 21654732; 29947567</td>\n",
       "      <td>Eye disorders</td>\n",
       "      <td>NaN</td>\n",
       "      <td>2019-10-30 14:45:12+00:00</td>\n",
       "      <td>https://www.ebi.ac.uk/gene2phenotype/lgd/G2P02826</td>\n",
       "    </tr>\n",
       "    <tr>\n",
       "      <th>3676</th>\n",
       "      <td>G2P03582</td>\n",
       "      <td>MYO6</td>\n",
       "      <td>OMIM:600970</td>\n",
       "      <td>HGNC:7605</td>\n",
       "      <td>DFNA22; DFNB37; KIAA0389</td>\n",
       "      <td>MYO6-related nonsyndromic genetic hearing loss</td>\n",
       "      <td>NaN</td>\n",
       "      <td>NaN</td>\n",
       "      <td>biallelic_autosomal</td>\n",
       "      <td>NaN</td>\n",
       "      <td>definitive</td>\n",
       "      <td>decreased gene product level; altered gene pro...</td>\n",
       "      <td>stop_gained; frameshift_variant; splice_accept...</td>\n",
       "      <td>undetermined</td>\n",
       "      <td>inferred</td>\n",
       "      <td>NaN</td>\n",
       "      <td>NaN</td>\n",
       "      <td>18348273; 23485424; 25999546; 12687499; 24105371</td>\n",
       "      <td>Ear</td>\n",
       "      <td>NaN</td>\n",
       "      <td>2024-11-28 14:52:17+00:00</td>\n",
       "      <td>https://www.ebi.ac.uk/gene2phenotype/lgd/G2P03582</td>\n",
       "    </tr>\n",
       "    <tr>\n",
       "      <th>3677</th>\n",
       "      <td>G2P03583</td>\n",
       "      <td>MYO6</td>\n",
       "      <td>OMIM:600970</td>\n",
       "      <td>HGNC:7605</td>\n",
       "      <td>DFNA22; DFNB37; KIAA0389</td>\n",
       "      <td>MYO6-related nonsyndromic genetic hearing loss</td>\n",
       "      <td>NaN</td>\n",
       "      <td>NaN</td>\n",
       "      <td>monoallelic_autosomal</td>\n",
       "      <td>NaN</td>\n",
       "      <td>definitive</td>\n",
       "      <td>decreased gene product level; altered gene pro...</td>\n",
       "      <td>stop_gained; frameshift_variant; splice_accept...</td>\n",
       "      <td>undetermined</td>\n",
       "      <td>inferred</td>\n",
       "      <td>NaN</td>\n",
       "      <td>NaN</td>\n",
       "      <td>18348273; 23485424; 25999546; 24105371</td>\n",
       "      <td>Ear</td>\n",
       "      <td>NaN</td>\n",
       "      <td>2024-11-28 14:47:17+00:00</td>\n",
       "      <td>https://www.ebi.ac.uk/gene2phenotype/lgd/G2P03583</td>\n",
       "    </tr>\n",
       "    <tr>\n",
       "      <th>3678</th>\n",
       "      <td>G2P01747</td>\n",
       "      <td>CDC14A</td>\n",
       "      <td>OMIM:603504</td>\n",
       "      <td>HGNC:1718</td>\n",
       "      <td>CDC14; CDC14A1; CDC14A2; DFNB105; DFNB32</td>\n",
       "      <td>CDC14A-related deafness</td>\n",
       "      <td>NaN</td>\n",
       "      <td>NaN</td>\n",
       "      <td>biallelic_autosomal</td>\n",
       "      <td>NaN</td>\n",
       "      <td>strong</td>\n",
       "      <td>absent gene product</td>\n",
       "      <td>NaN</td>\n",
       "      <td>loss of function</td>\n",
       "      <td>inferred</td>\n",
       "      <td>NaN</td>\n",
       "      <td>NaN</td>\n",
       "      <td>27259055</td>\n",
       "      <td>Ear</td>\n",
       "      <td>NaN</td>\n",
       "      <td>2025-04-08 17:02:31+00:00</td>\n",
       "      <td>https://www.ebi.ac.uk/gene2phenotype/lgd/G2P01747</td>\n",
       "    </tr>\n",
       "    <tr>\n",
       "      <th>3704</th>\n",
       "      <td>G2P01852</td>\n",
       "      <td>SOX10</td>\n",
       "      <td>OMIM:602229</td>\n",
       "      <td>HGNC:11190</td>\n",
       "      <td>DOM; SOX-10; WS2E; WS4</td>\n",
       "      <td>SOX10-related Kallmann syndrome with deafness</td>\n",
       "      <td>NaN</td>\n",
       "      <td>NaN</td>\n",
       "      <td>monoallelic_autosomal</td>\n",
       "      <td>NaN</td>\n",
       "      <td>definitive</td>\n",
       "      <td>absent gene product</td>\n",
       "      <td>NaN</td>\n",
       "      <td>loss of function</td>\n",
       "      <td>inferred</td>\n",
       "      <td>NaN</td>\n",
       "      <td>NaN</td>\n",
       "      <td>23643381</td>\n",
       "      <td>Ear</td>\n",
       "      <td>NaN</td>\n",
       "      <td>2025-04-28 10:21:28+00:00</td>\n",
       "      <td>https://www.ebi.ac.uk/gene2phenotype/lgd/G2P01852</td>\n",
       "    </tr>\n",
       "  </tbody>\n",
       "</table>\n",
       "<p>333 rows × 22 columns</p>\n",
       "</div>"
      ],
      "text/plain": [
       "        g2p_id gene_symbol     gene_mim     hgnc_id  \\\n",
       "69    G2P03445         GAA  OMIM:606800   HGNC:4065   \n",
       "77    G2P03717       ACTN2  OMIM:102573    HGNC:164   \n",
       "78    G2P03718       FHOD3  OMIM:609691  HGNC:26178   \n",
       "161   G2P00448        IGF2  OMIM:147470   HGNC:5466   \n",
       "221   G2P00872      PIK3CA  OMIM:171834   HGNC:8975   \n",
       "...        ...         ...          ...         ...   \n",
       "3666  G2P02826       RPE65  OMIM:180069  HGNC:10294   \n",
       "3676  G2P03582        MYO6  OMIM:600970   HGNC:7605   \n",
       "3677  G2P03583        MYO6  OMIM:600970   HGNC:7605   \n",
       "3678  G2P01747      CDC14A  OMIM:603504   HGNC:1718   \n",
       "3704  G2P01852       SOX10  OMIM:602229  HGNC:11190   \n",
       "\n",
       "                         previous_gene_symbols  \\\n",
       "69                                         NaN   \n",
       "77                                         NaN   \n",
       "78         FHOS2; FLJ22297; FLJ22717; KIAA1695   \n",
       "161                 C11ORF43; FLJ44734; IGF-II   \n",
       "221                                       PI3K   \n",
       "...                                        ...   \n",
       "3666                    BCO3; LCA2; RD12; RP20   \n",
       "3676                  DFNA22; DFNB37; KIAA0389   \n",
       "3677                  DFNA22; DFNB37; KIAA0389   \n",
       "3678  CDC14; CDC14A1; CDC14A2; DFNB105; DFNB32   \n",
       "3704                    DOM; SOX-10; WS2E; WS4   \n",
       "\n",
       "                                           disease_name disease_mim  \\\n",
       "69                            GAA-related Pompe disease         NaN   \n",
       "77          ACTN2-related cardiac and skeletal myopathy         NaN   \n",
       "78            FHOD3-related hypertrophic cardiomyopathy         NaN   \n",
       "161            IGF2-related Beckwith-Wiedemann syndrome         NaN   \n",
       "221   PIK3CA-related overgrowth spectrum disorder wi...         NaN   \n",
       "...                                                 ...         ...   \n",
       "3666                    RPE65-related retinal dystrophy         NaN   \n",
       "3676     MYO6-related nonsyndromic genetic hearing loss         NaN   \n",
       "3677     MYO6-related nonsyndromic genetic hearing loss         NaN   \n",
       "3678                            CDC14A-related deafness         NaN   \n",
       "3704      SOX10-related Kallmann syndrome with deafness         NaN   \n",
       "\n",
       "     disease_MONDO    allelic_requirement  \\\n",
       "69             NaN    biallelic_autosomal   \n",
       "77             NaN  monoallelic_autosomal   \n",
       "78             NaN  monoallelic_autosomal   \n",
       "161            NaN  monoallelic_autosomal   \n",
       "221            NaN  monoallelic_autosomal   \n",
       "...            ...                    ...   \n",
       "3666           NaN  monoallelic_autosomal   \n",
       "3676           NaN    biallelic_autosomal   \n",
       "3677           NaN  monoallelic_autosomal   \n",
       "3678           NaN    biallelic_autosomal   \n",
       "3704           NaN  monoallelic_autosomal   \n",
       "\n",
       "                         cross_cutting_modifier  confidence  \\\n",
       "69                      restricted mutation set  definitive   \n",
       "77                                          NaN  definitive   \n",
       "78                                          NaN  definitive   \n",
       "161   imprinted region; restricted mutation set  definitive   \n",
       "221   typically mosaic; restricted mutation set  definitive   \n",
       "...                                         ...         ...   \n",
       "3666                                        NaN  definitive   \n",
       "3676                                        NaN  definitive   \n",
       "3677                                        NaN  definitive   \n",
       "3678                                        NaN      strong   \n",
       "3704                                        NaN  definitive   \n",
       "\n",
       "                                    variant_consequence  \\\n",
       "69    decreased gene product level; altered gene pro...   \n",
       "77    altered gene product level; decreased gene pro...   \n",
       "78                       altered gene product structure   \n",
       "161                      altered gene product structure   \n",
       "221                      altered gene product structure   \n",
       "...                                                 ...   \n",
       "3666                     altered gene product structure   \n",
       "3676  decreased gene product level; altered gene pro...   \n",
       "3677  decreased gene product level; altered gene pro...   \n",
       "3678                                absent gene product   \n",
       "3704                                absent gene product   \n",
       "\n",
       "                                          variant_types molecular_mechanism  \\\n",
       "69                                                  NaN        undetermined   \n",
       "77    stop_gained; frameshift_variant; missense_vari...        undetermined   \n",
       "78    splice_acceptor_variant_NMD_escaping; missense...        undetermined   \n",
       "161                                                 NaN    gain of function   \n",
       "221                                                 NaN    gain of function   \n",
       "...                                                 ...                 ...   \n",
       "3666  missense_variant; inframe_deletion; inframe_in...        undetermined   \n",
       "3676  stop_gained; frameshift_variant; splice_accept...        undetermined   \n",
       "3677  stop_gained; frameshift_variant; splice_accept...        undetermined   \n",
       "3678                                                NaN    loss of function   \n",
       "3704                                                NaN    loss of function   \n",
       "\n",
       "     molecular_mechanism_categorisation molecular_mechanism_evidence  \\\n",
       "69                             inferred                          NaN   \n",
       "77                             inferred                          NaN   \n",
       "78                             inferred                          NaN   \n",
       "161                            inferred                          NaN   \n",
       "221                            inferred                          NaN   \n",
       "...                                 ...                          ...   \n",
       "3666                           inferred                          NaN   \n",
       "3676                           inferred                          NaN   \n",
       "3677                           inferred                          NaN   \n",
       "3678                           inferred                          NaN   \n",
       "3704                           inferred                          NaN   \n",
       "\n",
       "                                             phenotypes  \\\n",
       "69                                                  NaN   \n",
       "77                                                  NaN   \n",
       "78                                                  NaN   \n",
       "161   HP:0001548; HP:0000269; HP:0002240; HP:0002667...   \n",
       "221   HP:0000494; HP:0001744; HP:0002667; HP:0001852...   \n",
       "...                                                 ...   \n",
       "3666                             HP:0001139; HP:0000556   \n",
       "3676                                                NaN   \n",
       "3677                                                NaN   \n",
       "3678                                                NaN   \n",
       "3704                                                NaN   \n",
       "\n",
       "                                           publications  \\\n",
       "69    30681346; 31254424; 1652892; 8094613; 7981676;...   \n",
       "77    17097056; 20022194; 25173926; 25224718; 275322...   \n",
       "78    19706596; 29907873; 30442288; 30898215; 317428...   \n",
       "161                                                 NaN   \n",
       "221                                  22658544; 22729224   \n",
       "...                                                 ...   \n",
       "3666                       27307694; 21654732; 29947567   \n",
       "3676   18348273; 23485424; 25999546; 12687499; 24105371   \n",
       "3677             18348273; 23485424; 25999546; 24105371   \n",
       "3678                                           27259055   \n",
       "3704                                           23643381   \n",
       "\n",
       "                                            panel  \\\n",
       "69                              Cardiac disorders   \n",
       "77                              Cardiac disorders   \n",
       "78                              Cardiac disorders   \n",
       "161   Developmental disorders; Skeletal disorders   \n",
       "221   Developmental disorders; Skeletal disorders   \n",
       "...                                           ...   \n",
       "3666                                Eye disorders   \n",
       "3676                                          Ear   \n",
       "3677                                          Ear   \n",
       "3678                                          Ear   \n",
       "3704                                          Ear   \n",
       "\n",
       "                                               comments  \\\n",
       "69    Pompe disease is inherited as an autosomal rec...   \n",
       "77    Pathogenic variants in ACTN2 are definitively ...   \n",
       "78    Pathogenic variants in FHOD3 are definitively ...   \n",
       "161                                                 NaN   \n",
       "221                                                 NaN   \n",
       "...                                                 ...   \n",
       "3666                                                NaN   \n",
       "3676                                                NaN   \n",
       "3677                                                NaN   \n",
       "3678                                                NaN   \n",
       "3704                                                NaN   \n",
       "\n",
       "           date_of_last_review  \\\n",
       "69   2024-03-26 10:53:54+00:00   \n",
       "77   2025-03-07 13:46:46+00:00   \n",
       "78   2025-03-07 13:48:22+00:00   \n",
       "161  2023-05-24 09:07:28+00:00   \n",
       "221  2024-12-11 11:40:22+00:00   \n",
       "...                        ...   \n",
       "3666 2019-10-30 14:45:12+00:00   \n",
       "3676 2024-11-28 14:52:17+00:00   \n",
       "3677 2024-11-28 14:47:17+00:00   \n",
       "3678 2025-04-08 17:02:31+00:00   \n",
       "3704 2025-04-28 10:21:28+00:00   \n",
       "\n",
       "                                         g2p_record_url  \n",
       "69    https://www.ebi.ac.uk/gene2phenotype/lgd/G2P03445  \n",
       "77    https://www.ebi.ac.uk/gene2phenotype/lgd/G2P03717  \n",
       "78    https://www.ebi.ac.uk/gene2phenotype/lgd/G2P03718  \n",
       "161   https://www.ebi.ac.uk/gene2phenotype/lgd/G2P00448  \n",
       "221   https://www.ebi.ac.uk/gene2phenotype/lgd/G2P00872  \n",
       "...                                                 ...  \n",
       "3666  https://www.ebi.ac.uk/gene2phenotype/lgd/G2P02826  \n",
       "3676  https://www.ebi.ac.uk/gene2phenotype/lgd/G2P03582  \n",
       "3677  https://www.ebi.ac.uk/gene2phenotype/lgd/G2P03583  \n",
       "3678  https://www.ebi.ac.uk/gene2phenotype/lgd/G2P01747  \n",
       "3704  https://www.ebi.ac.uk/gene2phenotype/lgd/G2P01852  \n",
       "\n",
       "[333 rows x 22 columns]"
      ]
     },
     "execution_count": 36,
     "metadata": {},
     "output_type": "execute_result"
    }
   ],
   "source": [
    "df[df[\"disease_mim\"].isna() & df[\"disease_MONDO\"].isna()]"
   ]
  },
  {
   "cell_type": "code",
   "execution_count": 37,
   "id": "7451392e",
   "metadata": {
    "ExecuteTime": {
     "end_time": "2025-07-18T09:32:58.797353Z",
     "start_time": "2025-07-18T09:32:58.786796Z"
    }
   },
   "outputs": [
    {
     "data": {
      "text/plain": [
       "333"
      ]
     },
     "execution_count": 37,
     "metadata": {},
     "output_type": "execute_result"
    },
    {
     "data": {
      "text/plain": [
       "326"
      ]
     },
     "execution_count": 37,
     "metadata": {},
     "output_type": "execute_result"
    }
   ],
   "source": [
    "## saving stats on data with no disease IDs\n",
    "\n",
    "stats_no_disease_IDs = {\n",
    "    \"n_rows\": df[df[\"disease_mim\"].isna() & df[\"disease_MONDO\"].isna()].shape[0],\n",
    "    \"n_names\": len(df[df[\"disease_mim\"].isna() & df[\"disease_MONDO\"].isna()][\"disease_name\"].unique())\n",
    "}\n",
    "\n",
    "stats_no_disease_IDs[\"n_rows\"]\n",
    "stats_no_disease_IDs[\"n_names\"]"
   ]
  },
  {
   "cell_type": "markdown",
   "id": "b7a750dc",
   "metadata": {},
   "source": [
    "#### OMIM/orphanet"
   ]
  },
  {
   "cell_type": "markdown",
   "id": "4a12fa8f",
   "metadata": {},
   "source": [
    "__Running OMIM/orphanet IDs through NodeNorm__\n",
    "\n",
    "Catching mapping failures for later stats report\n",
    "\n",
    "Pasted, adjusted from HGNC code blocks above."
   ]
  },
  {
   "cell_type": "code",
   "execution_count": 38,
   "id": "619356be",
   "metadata": {
    "ExecuteTime": {
     "end_time": "2025-07-18T09:33:05.560134Z",
     "start_time": "2025-07-18T09:33:05.555166Z"
    }
   },
   "outputs": [
    {
     "data": {
      "text/plain": [
       "2836"
      ]
     },
     "execution_count": 38,
     "metadata": {},
     "output_type": "execute_result"
    }
   ],
   "source": [
    "## put into parser (format): DONE\n",
    "\n",
    "## get set of unique CURIEs to put into NodeNorm\n",
    "disease_OmOr = df[\"disease_mim\"].dropna().unique()\n",
    "len(disease_OmOr)"
   ]
  },
  {
   "cell_type": "code",
   "execution_count": 39,
   "id": "1400dd55",
   "metadata": {
    "ExecuteTime": {
     "end_time": "2025-07-18T09:33:06.661544Z",
     "start_time": "2025-07-18T09:33:06.658213Z"
    }
   },
   "outputs": [],
   "source": [
    "## put into parser (format): DONE\n",
    "\n",
    "OmOr_nodenorm_mapping = {}\n",
    "\n",
    "## set up variables to catch mapping failures\n",
    "stats_OmOr_mapping_failures = {\n",
    "    \"unexpected_error\": {},\n",
    "    \"nodenorm_returned_none\": [],\n",
    "    \"wrong_category\": {},\n",
    "    \"no_label\": []\n",
    "    \n",
    "}"
   ]
  },
  {
   "cell_type": "code",
   "execution_count": 40,
   "id": "858b6f93",
   "metadata": {
    "ExecuteTime": {
     "end_time": "2025-07-18T09:33:17.119297Z",
     "start_time": "2025-07-18T09:33:07.707238Z"
    }
   },
   "outputs": [],
   "source": [
    "## put into parser (format): DONE\n",
    "\n",
    "## larger batches are quicker\n",
    "for batch in batched(disease_OmOr, 1000):\n",
    "    ## returns tuples -> cast to list\n",
    "    req_body = {\n",
    "        \"curies\": list(batch),\n",
    "        \"conflate\": True,\n",
    "    }\n",
    "    r = requests.post(nodenorm_url, json=req_body)\n",
    "    response = r.json()\n",
    "    \n",
    "    ## not doing dict comprehension. allows easier review, logic writing\n",
    "    for k,v in response.items():\n",
    "        ## catch unexpected errors\n",
    "        try:\n",
    "            ## if NodeNorm didn't have info on this ID, v will be None\n",
    "            if v is not None:\n",
    "                ## don't keep mapping if category is not the expected one\n",
    "                if v[\"type\"][0] == \"biolink:Disease\":\n",
    "                    ## also throw out mapping if no primary label found\n",
    "                    if v[\"id\"].get(\"label\"):\n",
    "                        temp = {\n",
    "                            k: {\"primary_id\": v[\"id\"][\"identifier\"],\n",
    "                                \"primary_label\": v[\"id\"][\"label\"]\n",
    "                               }\n",
    "                        }\n",
    "                        OmOr_nodenorm_mapping.update(temp)\n",
    "                    else:\n",
    "                        stats_OmOr_mapping_failures[\"no_label\"].append(k)\n",
    "#                         print(f\"{k}: NodeNorm didn't find primary label. Not keeping this mapping.\")\n",
    "                else:\n",
    "                    stats_OmOr_mapping_failures[\"wrong_category\"].update({k: v[\"type\"][0]})\n",
    "#                     print(f'{k}: NodeNorm found different category {v[\"type\"][0]}. Not keeping this mapping.')\n",
    "            else:\n",
    "                stats_OmOr_mapping_failures[\"nodenorm_returned_none\"].append(k)\n",
    "#                 print(f\"{k}: NodeNorm didn't recognize this ID\")\n",
    "        except:\n",
    "            stats_OmOr_mapping_failures[\"unexpected_error\"].update({k: v})\n",
    "            print(f'Encountered an unexpected error.')\n",
    "            print(f'NodeNorm response key: {k}')\n",
    "            print(f'NodeNorm response value: {v}')"
   ]
  },
  {
   "cell_type": "code",
   "execution_count": 41,
   "id": "a772ebfd",
   "metadata": {
    "ExecuteTime": {
     "end_time": "2025-07-18T09:33:17.128085Z",
     "start_time": "2025-07-18T09:33:17.122305Z"
    }
   },
   "outputs": [],
   "source": [
    "## put into parser (format): DONE\n",
    "\n",
    "## calculate stats: number of rows affected by each type of mapping failure\n",
    "stats_OmOr_mapping_failures.update({\n",
    "    \"n_rows_none\": df[df[\"disease_mim\"].isin(stats_OmOr_mapping_failures[\"nodenorm_returned_none\"])].shape[0],\n",
    "    \"n_rows_wrong_category\": df[df[\"disease_mim\"].isin(stats_OmOr_mapping_failures[\"wrong_category\"].keys())].shape[0],\n",
    "    \"n_rows_no_label\": df[df[\"disease_mim\"].isin(stats_OmOr_mapping_failures[\"no_label\"])].shape[0]\n",
    "})"
   ]
  },
  {
   "cell_type": "code",
   "execution_count": 42,
   "id": "2e81d56b",
   "metadata": {
    "ExecuteTime": {
     "end_time": "2025-07-18T09:33:17.140715Z",
     "start_time": "2025-07-18T09:33:17.130701Z"
    }
   },
   "outputs": [
    {
     "data": {
      "text/plain": [
       "2828"
      ]
     },
     "execution_count": 42,
     "metadata": {},
     "output_type": "execute_result"
    },
    {
     "data": {
      "text/plain": [
       "{}"
      ]
     },
     "execution_count": 42,
     "metadata": {},
     "output_type": "execute_result"
    },
    {
     "data": {
      "text/plain": [
       "4"
      ]
     },
     "execution_count": 42,
     "metadata": {},
     "output_type": "execute_result"
    },
    {
     "data": {
      "text/plain": [
       "3"
      ]
     },
     "execution_count": 42,
     "metadata": {},
     "output_type": "execute_result"
    },
    {
     "data": {
      "text/plain": [
       "1"
      ]
     },
     "execution_count": 42,
     "metadata": {},
     "output_type": "execute_result"
    }
   ],
   "source": [
    "len(OmOr_nodenorm_mapping)\n",
    "\n",
    "stats_OmOr_mapping_failures[\"unexpected_error\"]\n",
    "\n",
    "len(stats_OmOr_mapping_failures[\"nodenorm_returned_none\"])\n",
    "len(stats_OmOr_mapping_failures[\"wrong_category\"])\n",
    "len(stats_OmOr_mapping_failures[\"no_label\"])"
   ]
  },
  {
   "cell_type": "code",
   "execution_count": 43,
   "id": "77af9e52",
   "metadata": {
    "ExecuteTime": {
     "end_time": "2025-07-18T09:33:35.632958Z",
     "start_time": "2025-07-18T09:33:35.625600Z"
    }
   },
   "outputs": [
    {
     "data": {
      "text/plain": [
       "['OMIM:601884', 'OMIM:133701', 'OMIM:133700', 'OMIM:150800']"
      ]
     },
     "execution_count": 43,
     "metadata": {},
     "output_type": "execute_result"
    },
    {
     "data": {
      "text/plain": [
       "{'OMIM:188400': 'biolink:Gene',\n",
       " 'OMIM:123580': 'biolink:Gene',\n",
       " 'OMIM:300204': 'biolink:Gene'}"
      ]
     },
     "execution_count": 43,
     "metadata": {},
     "output_type": "execute_result"
    },
    {
     "data": {
      "text/plain": [
       "['OMIM:621034']"
      ]
     },
     "execution_count": 43,
     "metadata": {},
     "output_type": "execute_result"
    }
   ],
   "source": [
    "## code used to review mapping failures \n",
    "\n",
    "stats_OmOr_mapping_failures[\"nodenorm_returned_none\"]\n",
    "\n",
    "stats_OmOr_mapping_failures[\"wrong_category\"]\n",
    "\n",
    "stats_OmOr_mapping_failures[\"no_label\"]"
   ]
  },
  {
   "cell_type": "code",
   "execution_count": null,
   "id": "fa7539a8",
   "metadata": {
    "ExecuteTime": {
     "end_time": "2025-07-12T00:45:08.779924Z",
     "start_time": "2025-07-12T00:45:08.777477Z"
    }
   },
   "outputs": [],
   "source": [
    "## code used to review mapping failures \n",
    "\n",
    "# df[df[\"disease_mim\"] == \"OMIM:613180\"]"
   ]
  },
  {
   "cell_type": "markdown",
   "id": "37f7b761",
   "metadata": {},
   "source": [
    "<div class=\"alert alert-block alert-info\">\n",
    "\n",
    "**Update 2025-04-28: Fewer mapping failures!**\n",
    "    \n",
    "39 -> 4 cases where NodeNorm returned None: \n",
    "* OMIM:601884 - valid ID, but it doesn't seem to be a disease (previously reviewed, reported)\n",
    "* OMIM:133700 - NodeNorm error, valid disease ID (previously reviewed, reported)\n",
    "* NEW OMIM:150800, OMIM:621034 - NodeNorm error, valid disease IDs\n",
    "\n",
    "26 -> 12 cases where NodeNorm category was something else (currently, always Gene): **only reviewed 2/12**\n",
    "* OMIM:188400 is still there - NodeNorm error, valid disease ID (previously reviewed, reported)\n",
    "* Still have errors where ID is gene (OMIM:170993)\n",
    "\n",
    "3 -> 2 cases where NodeNorm didn't have a primary label: NodeNorm error, valid disease IDs (previously reviewed, reported)"
   ]
  },
  {
   "cell_type": "markdown",
   "id": "8a424998",
   "metadata": {},
   "source": [
    "<div class=\"alert alert-block alert-info\">\n",
    "\n",
    "**2025-02-28 data:**    \n",
    "    \n",
    "__Reviewed Disease OMIM/orphanet NodeNorm mapping failures__\n",
    "\n",
    "All were OMIM IDs, none were orphanet. \n",
    "    \n",
    "39 cases where NodeNorm returned None (didn't recognize/resolve ID). __I checked some (10)__:\n",
    "* 5: ID has been replaced/moved to a diff ID (OMIM:607236, OMIM:608890, OMIM:613180, OMIM:300706, OMIM:300141) -> emailed EBI gene2pheno\n",
    "* 3: ID doesn't exist (OMIM:249163, OMIM:319029, OMIM:237145) -> emailed EBI gene2pheno\n",
    "* 1: NodeNorm error - this is a valid disease ID that it should recognize (OMIM:133700) -> messaged NodeNorm\n",
    "* 1: valid ID, but it doesn't seem to be a disease. There may be better IDs out there (OMIM:601884) -> messaged NodeNorm, emailed EBI gene2pheno\n",
    "\n",
    "26 cases where NodeNorm category was something else (currently, always Gene). I checked all: \n",
    "* 25: NodeNorm is correct, this is a gene -> emailed EBI gene2pheno\n",
    "* 1: NodeNorm error - this is a valid disease ID (OMIM:188400) -> messaged NodeNorm\n",
    "    \n",
    "3 cases where NodeNorm didn't have a primary label. I checked all:\n",
    "* 2: NodeNorm error - these are valid disease IDs with labels (OMIM:620987, OMIM:620964) -> messaged NodeNorm\n",
    "* 1: valid ID, but it doesn't seem to be a disease (OMIM:300129). EBI gene2pheno shouldn't use, not sure it should be in NodeNorm -> messaged NodeNorm, emailed EBI gene2pheno\n",
    "    \n",
    "</div>"
   ]
  },
  {
   "cell_type": "code",
   "execution_count": 44,
   "id": "7a18bbdf",
   "metadata": {
    "ExecuteTime": {
     "end_time": "2025-07-18T09:34:04.520280Z",
     "start_time": "2025-07-18T09:34:04.516962Z"
    }
   },
   "outputs": [],
   "source": [
    "## code used to check for orphanet mapping failures \n",
    "\n",
    "for i in stats_OmOr_mapping_failures[\"nodenorm_returned_none\"]:\n",
    "    if \"orphanet\" in i:\n",
    "        print(i)\n",
    "        \n",
    "for i in stats_OmOr_mapping_failures[\"wrong_category\"].keys():\n",
    "    if \"orphanet\" in i:\n",
    "        print(i)\n",
    "\n",
    "for i in stats_OmOr_mapping_failures[\"no_label\"]:\n",
    "    if \"orphanet\" in i:\n",
    "        print(i)"
   ]
  },
  {
   "cell_type": "markdown",
   "id": "7fcbf41b",
   "metadata": {},
   "source": [
    "<div class=\"alert alert-block alert-info\">\n",
    "\n",
    "**Update 2025-04-28: Fewer orphanet IDs!**\n",
    "    \n",
    "Didn't review mappings"
   ]
  },
  {
   "cell_type": "markdown",
   "id": "161a4c40",
   "metadata": {},
   "source": [
    "**2025-02-28 data:** \n",
    "\n",
    "No orphanet IDs were had mapping failures but I checked all (9) mappings anyways - they looked fine. "
   ]
  },
  {
   "cell_type": "code",
   "execution_count": 45,
   "id": "e90e26d5",
   "metadata": {
    "ExecuteTime": {
     "end_time": "2025-07-18T09:34:07.138957Z",
     "start_time": "2025-07-18T09:34:07.118632Z"
    }
   },
   "outputs": [
    {
     "data": {
      "text/html": [
       "<div>\n",
       "<style scoped>\n",
       "    .dataframe tbody tr th:only-of-type {\n",
       "        vertical-align: middle;\n",
       "    }\n",
       "\n",
       "    .dataframe tbody tr th {\n",
       "        vertical-align: top;\n",
       "    }\n",
       "\n",
       "    .dataframe thead th {\n",
       "        text-align: right;\n",
       "    }\n",
       "</style>\n",
       "<table border=\"1\" class=\"dataframe\">\n",
       "  <thead>\n",
       "    <tr style=\"text-align: right;\">\n",
       "      <th></th>\n",
       "      <th>g2p_id</th>\n",
       "      <th>gene_symbol</th>\n",
       "      <th>gene_mim</th>\n",
       "      <th>hgnc_id</th>\n",
       "      <th>previous_gene_symbols</th>\n",
       "      <th>disease_name</th>\n",
       "      <th>disease_mim</th>\n",
       "      <th>disease_MONDO</th>\n",
       "      <th>allelic_requirement</th>\n",
       "      <th>cross_cutting_modifier</th>\n",
       "      <th>confidence</th>\n",
       "      <th>variant_consequence</th>\n",
       "      <th>variant_types</th>\n",
       "      <th>molecular_mechanism</th>\n",
       "      <th>molecular_mechanism_categorisation</th>\n",
       "      <th>molecular_mechanism_evidence</th>\n",
       "      <th>phenotypes</th>\n",
       "      <th>publications</th>\n",
       "      <th>panel</th>\n",
       "      <th>comments</th>\n",
       "      <th>date_of_last_review</th>\n",
       "      <th>g2p_record_url</th>\n",
       "    </tr>\n",
       "  </thead>\n",
       "  <tbody>\n",
       "    <tr>\n",
       "      <th>2065</th>\n",
       "      <td>G2P02564</td>\n",
       "      <td>TONSL</td>\n",
       "      <td>OMIM:604546</td>\n",
       "      <td>HGNC:7801</td>\n",
       "      <td>IKBR; NFKBIL2</td>\n",
       "      <td>TONSL-related sponastrime dysplasia</td>\n",
       "      <td>orphanet:93357</td>\n",
       "      <td>NaN</td>\n",
       "      <td>biallelic_autosomal</td>\n",
       "      <td>NaN</td>\n",
       "      <td>strong</td>\n",
       "      <td>absent gene product</td>\n",
       "      <td>NaN</td>\n",
       "      <td>loss of function</td>\n",
       "      <td>inferred</td>\n",
       "      <td>NaN</td>\n",
       "      <td>HP:0005281; HP:0002650; HP:0100255; HP:0004322</td>\n",
       "      <td>30773277; 30773278</td>\n",
       "      <td>Developmental disorders</td>\n",
       "      <td>NaN</td>\n",
       "      <td>2018-11-07 09:53:40+00:00</td>\n",
       "      <td>https://www.ebi.ac.uk/gene2phenotype/lgd/G2P02564</td>\n",
       "    </tr>\n",
       "  </tbody>\n",
       "</table>\n",
       "</div>"
      ],
      "text/plain": [
       "        g2p_id gene_symbol     gene_mim    hgnc_id previous_gene_symbols  \\\n",
       "2065  G2P02564       TONSL  OMIM:604546  HGNC:7801         IKBR; NFKBIL2   \n",
       "\n",
       "                             disease_name     disease_mim disease_MONDO  \\\n",
       "2065  TONSL-related sponastrime dysplasia  orphanet:93357           NaN   \n",
       "\n",
       "      allelic_requirement cross_cutting_modifier confidence  \\\n",
       "2065  biallelic_autosomal                    NaN     strong   \n",
       "\n",
       "      variant_consequence variant_types molecular_mechanism  \\\n",
       "2065  absent gene product           NaN    loss of function   \n",
       "\n",
       "     molecular_mechanism_categorisation molecular_mechanism_evidence  \\\n",
       "2065                           inferred                          NaN   \n",
       "\n",
       "                                          phenotypes        publications  \\\n",
       "2065  HP:0005281; HP:0002650; HP:0100255; HP:0004322  30773277; 30773278   \n",
       "\n",
       "                        panel comments       date_of_last_review  \\\n",
       "2065  Developmental disorders      NaN 2018-11-07 09:53:40+00:00   \n",
       "\n",
       "                                         g2p_record_url  \n",
       "2065  https://www.ebi.ac.uk/gene2phenotype/lgd/G2P02564  "
      ]
     },
     "execution_count": 45,
     "metadata": {},
     "output_type": "execute_result"
    }
   ],
   "source": [
    "df[df[\"disease_mim\"].str.contains(\"orphanet\", na=False)]"
   ]
  },
  {
   "cell_type": "code",
   "execution_count": 46,
   "id": "90389c39",
   "metadata": {
    "ExecuteTime": {
     "end_time": "2025-07-18T09:34:16.230442Z",
     "start_time": "2025-07-18T09:34:16.226587Z"
    }
   },
   "outputs": [
    {
     "data": {
      "text/plain": [
       "{'primary_id': 'MONDO:0010068',\n",
       " 'primary_label': 'spondyloepimetaphyseal dysplasia, sponastrime type'}"
      ]
     },
     "execution_count": 46,
     "metadata": {},
     "output_type": "execute_result"
    }
   ],
   "source": [
    "OmOr_nodenorm_mapping[\"orphanet:93357\"]"
   ]
  },
  {
   "cell_type": "markdown",
   "id": "9048bf0b",
   "metadata": {},
   "source": [
    "<div class=\"alert alert-block alert-success\">\n",
    "\n",
    "**2025-03-28 data:** \n",
    "    \n",
    "I decided <b>not to try using MONDO mappings when the OMIM mapping failed</b>, because there's only a few cases where those rows even have MONDO IDs to use. \n",
    "\n",
    "* nodenorm_returned_none (39): none have MONDO\n",
    "* wrong_category (26): only 2 have MONDO\n",
    "* no_label (3): none have MONDO"
   ]
  },
  {
   "cell_type": "code",
   "execution_count": 47,
   "id": "98f75765",
   "metadata": {
    "ExecuteTime": {
     "end_time": "2025-07-18T09:34:20.255012Z",
     "start_time": "2025-07-18T09:34:20.244019Z"
    }
   },
   "outputs": [
    {
     "data": {
      "text/plain": [
       "(2, 22)"
      ]
     },
     "execution_count": 47,
     "metadata": {},
     "output_type": "execute_result"
    },
    {
     "data": {
      "text/plain": [
       "(0, 22)"
      ]
     },
     "execution_count": 47,
     "metadata": {},
     "output_type": "execute_result"
    },
    {
     "data": {
      "text/plain": [
       "(0, 22)"
      ]
     },
     "execution_count": 47,
     "metadata": {},
     "output_type": "execute_result"
    }
   ],
   "source": [
    "## code used to check how many rows have OMIM failure + MONDO ID \n",
    "\n",
    "df[df[\"disease_mim\"].isin(stats_OmOr_mapping_failures[\"nodenorm_returned_none\"]) & \n",
    "   df[\"disease_MONDO\"].notna()].shape\n",
    "\n",
    "df[df[\"disease_mim\"].isin(stats_OmOr_mapping_failures[\"wrong_category\"].keys()) & \n",
    "   df[\"disease_MONDO\"].notna()].shape\n",
    "\n",
    "df[df[\"disease_mim\"].isin(stats_OmOr_mapping_failures[\"no_label\"]) & \n",
    "   df[\"disease_MONDO\"].notna()].shape"
   ]
  },
  {
   "cell_type": "markdown",
   "id": "913e54f4",
   "metadata": {},
   "source": [
    "#### MONDO"
   ]
  },
  {
   "cell_type": "markdown",
   "id": "b0ddd6ee",
   "metadata": {},
   "source": [
    "__Running MONDO IDs through NodeNorm__\n",
    "\n",
    "Catching potential mapping failures for later stats report\n",
    "\n",
    "Pasted, adjusted from Disease OMIM/orphanet code blocks above."
   ]
  },
  {
   "cell_type": "code",
   "execution_count": 48,
   "id": "c920a622",
   "metadata": {
    "ExecuteTime": {
     "end_time": "2025-07-18T09:34:26.837259Z",
     "start_time": "2025-07-18T09:34:26.831888Z"
    }
   },
   "outputs": [
    {
     "data": {
      "text/plain": [
       "1933"
      ]
     },
     "execution_count": 48,
     "metadata": {},
     "output_type": "execute_result"
    }
   ],
   "source": [
    "## get set of unique CURIEs to put into NodeNorm\n",
    "mondo = df[\"disease_MONDO\"].dropna().unique()\n",
    "len(mondo)"
   ]
  },
  {
   "cell_type": "code",
   "execution_count": 49,
   "id": "673d2dca",
   "metadata": {
    "ExecuteTime": {
     "end_time": "2025-07-18T09:34:27.802933Z",
     "start_time": "2025-07-18T09:34:27.800019Z"
    }
   },
   "outputs": [],
   "source": [
    "mondo_nodenorm_mapping = {}\n",
    "\n",
    "## set up variables to catch mapping failures\n",
    "stats_mondo_mapping_failures = {\n",
    "    \"unexpected_error\": {},\n",
    "    \"nodenorm_returned_none\": [],\n",
    "    \"wrong_category\": {},\n",
    "    \"no_label\": []\n",
    "    \n",
    "}"
   ]
  },
  {
   "cell_type": "code",
   "execution_count": 50,
   "id": "747ab750",
   "metadata": {
    "ExecuteTime": {
     "end_time": "2025-07-18T09:34:35.596793Z",
     "start_time": "2025-07-18T09:34:29.957662Z"
    }
   },
   "outputs": [],
   "source": [
    "## larger batches are quicker\n",
    "for batch in batched(mondo, 1000):\n",
    "    ## returns tuples -> cast to list\n",
    "    req_body = {\n",
    "        \"curies\": list(batch),\n",
    "        \"conflate\": True,\n",
    "    }\n",
    "    r = requests.post(nodenorm_url, json=req_body)\n",
    "    response = r.json()\n",
    "    \n",
    "    ## not doing dict comprehension. allows easier review, logic writing\n",
    "    for k,v in response.items():\n",
    "        ## catch unexpected errors\n",
    "        try:\n",
    "            ## if NodeNorm didn't have info on this ID, v will be None\n",
    "            if v is not None:\n",
    "                ## don't keep mapping if category is not the expected one\n",
    "                if v[\"type\"][0] == \"biolink:Disease\":\n",
    "                    ## also throw out mapping if no primary label found\n",
    "                    if v[\"id\"].get(\"label\"):\n",
    "                        temp = {\n",
    "                            k: {\"primary_id\": v[\"id\"][\"identifier\"],\n",
    "                                \"primary_label\": v[\"id\"][\"label\"]\n",
    "                               }\n",
    "                        }\n",
    "                        mondo_nodenorm_mapping.update(temp)\n",
    "                    else:\n",
    "                        stats_mondo_mapping_failures[\"no_label\"].append(k)\n",
    "#                         print(f\"{k}: NodeNorm didn't find primary label. Not keeping this mapping.\")\n",
    "                else:\n",
    "                    stats_mondo_mapping_failures[\"wrong_category\"].update({k: v[\"type\"][0]})\n",
    "#                     print(f'{k}: NodeNorm found different category {v[\"type\"][0]}. Not keeping this mapping.')\n",
    "            else:\n",
    "                stats_mondo_mapping_failures[\"nodenorm_returned_none\"].append(k)\n",
    "#                 print(f\"{k}: NodeNorm didn't recognize this ID\")\n",
    "        except:\n",
    "            stats_mondo_mapping_failures[\"unexpected_error\"].update({k: v})\n",
    "            print(f'Encountered an unexpected error.')\n",
    "            print(f'NodeNorm response key: {k}')\n",
    "            print(f'NodeNorm response value: {v}')"
   ]
  },
  {
   "cell_type": "code",
   "execution_count": 51,
   "id": "ed2380a5",
   "metadata": {
    "ExecuteTime": {
     "end_time": "2025-07-18T09:34:35.605120Z",
     "start_time": "2025-07-18T09:34:35.599653Z"
    }
   },
   "outputs": [
    {
     "data": {
      "text/plain": [
       "1932"
      ]
     },
     "execution_count": 51,
     "metadata": {},
     "output_type": "execute_result"
    },
    {
     "data": {
      "text/plain": [
       "{'unexpected_error': {},\n",
       " 'nodenorm_returned_none': ['MONDO:0976124'],\n",
       " 'wrong_category': {},\n",
       " 'no_label': []}"
      ]
     },
     "execution_count": 51,
     "metadata": {},
     "output_type": "execute_result"
    }
   ],
   "source": [
    "len(mondo_nodenorm_mapping)\n",
    "\n",
    "stats_mondo_mapping_failures"
   ]
  },
  {
   "cell_type": "markdown",
   "id": "cf6ff618",
   "metadata": {},
   "source": [
    "2025-04-28:\n",
    "\n",
    "MONDO:0800503 exists in MONDO, so this is a NodeNorm issue. "
   ]
  },
  {
   "cell_type": "code",
   "execution_count": 52,
   "id": "71d34d39",
   "metadata": {
    "ExecuteTime": {
     "end_time": "2025-07-18T09:34:45.107777Z",
     "start_time": "2025-07-18T09:34:45.090575Z"
    }
   },
   "outputs": [
    {
     "data": {
      "text/html": [
       "<div>\n",
       "<style scoped>\n",
       "    .dataframe tbody tr th:only-of-type {\n",
       "        vertical-align: middle;\n",
       "    }\n",
       "\n",
       "    .dataframe tbody tr th {\n",
       "        vertical-align: top;\n",
       "    }\n",
       "\n",
       "    .dataframe thead th {\n",
       "        text-align: right;\n",
       "    }\n",
       "</style>\n",
       "<table border=\"1\" class=\"dataframe\">\n",
       "  <thead>\n",
       "    <tr style=\"text-align: right;\">\n",
       "      <th></th>\n",
       "      <th>g2p_id</th>\n",
       "      <th>gene_symbol</th>\n",
       "      <th>gene_mim</th>\n",
       "      <th>hgnc_id</th>\n",
       "      <th>previous_gene_symbols</th>\n",
       "      <th>disease_name</th>\n",
       "      <th>disease_mim</th>\n",
       "      <th>disease_MONDO</th>\n",
       "      <th>allelic_requirement</th>\n",
       "      <th>cross_cutting_modifier</th>\n",
       "      <th>confidence</th>\n",
       "      <th>variant_consequence</th>\n",
       "      <th>variant_types</th>\n",
       "      <th>molecular_mechanism</th>\n",
       "      <th>molecular_mechanism_categorisation</th>\n",
       "      <th>molecular_mechanism_evidence</th>\n",
       "      <th>phenotypes</th>\n",
       "      <th>publications</th>\n",
       "      <th>panel</th>\n",
       "      <th>comments</th>\n",
       "      <th>date_of_last_review</th>\n",
       "      <th>g2p_record_url</th>\n",
       "    </tr>\n",
       "  </thead>\n",
       "  <tbody>\n",
       "    <tr>\n",
       "      <th>2817</th>\n",
       "      <td>G2P03584</td>\n",
       "      <td>TCP1</td>\n",
       "      <td>OMIM:186980</td>\n",
       "      <td>HGNC:11655</td>\n",
       "      <td>CCT1; CCTA; D6S230E</td>\n",
       "      <td>TCP1-related neurodevelopmental disorder with ...</td>\n",
       "      <td>NaN</td>\n",
       "      <td>MONDO:0976124</td>\n",
       "      <td>monoallelic_autosomal</td>\n",
       "      <td>typically de novo</td>\n",
       "      <td>moderate</td>\n",
       "      <td>decreased gene product level; absent gene prod...</td>\n",
       "      <td>missense_variant; stop_gained; frameshift_variant</td>\n",
       "      <td>loss of function</td>\n",
       "      <td>evidence</td>\n",
       "      <td>39480921 -&gt; functional_alteration: non patient...</td>\n",
       "      <td>NaN</td>\n",
       "      <td>39480921</td>\n",
       "      <td>Developmental disorders</td>\n",
       "      <td>Gene also known as CCT1.</td>\n",
       "      <td>2025-02-27 15:14:14+00:00</td>\n",
       "      <td>https://www.ebi.ac.uk/gene2phenotype/lgd/G2P03584</td>\n",
       "    </tr>\n",
       "  </tbody>\n",
       "</table>\n",
       "</div>"
      ],
      "text/plain": [
       "        g2p_id gene_symbol     gene_mim     hgnc_id previous_gene_symbols  \\\n",
       "2817  G2P03584        TCP1  OMIM:186980  HGNC:11655   CCT1; CCTA; D6S230E   \n",
       "\n",
       "                                           disease_name disease_mim  \\\n",
       "2817  TCP1-related neurodevelopmental disorder with ...         NaN   \n",
       "\n",
       "      disease_MONDO    allelic_requirement cross_cutting_modifier confidence  \\\n",
       "2817  MONDO:0976124  monoallelic_autosomal      typically de novo   moderate   \n",
       "\n",
       "                                    variant_consequence  \\\n",
       "2817  decreased gene product level; absent gene prod...   \n",
       "\n",
       "                                          variant_types molecular_mechanism  \\\n",
       "2817  missense_variant; stop_gained; frameshift_variant    loss of function   \n",
       "\n",
       "     molecular_mechanism_categorisation  \\\n",
       "2817                           evidence   \n",
       "\n",
       "                           molecular_mechanism_evidence phenotypes  \\\n",
       "2817  39480921 -> functional_alteration: non patient...        NaN   \n",
       "\n",
       "     publications                    panel                  comments  \\\n",
       "2817     39480921  Developmental disorders  Gene also known as CCT1.   \n",
       "\n",
       "           date_of_last_review  \\\n",
       "2817 2025-02-27 15:14:14+00:00   \n",
       "\n",
       "                                         g2p_record_url  \n",
       "2817  https://www.ebi.ac.uk/gene2phenotype/lgd/G2P03584  "
      ]
     },
     "execution_count": 52,
     "metadata": {},
     "output_type": "execute_result"
    }
   ],
   "source": [
    "df[df[\"disease_MONDO\"] == \"MONDO:0976124\"]"
   ]
  },
  {
   "cell_type": "markdown",
   "id": "f900c94a",
   "metadata": {},
   "source": [
    "#### Comparing OMIM/orphanet vs MONDO"
   ]
  },
  {
   "cell_type": "code",
   "execution_count": 53,
   "id": "32763357",
   "metadata": {
    "ExecuteTime": {
     "end_time": "2025-07-18T09:34:52.723439Z",
     "start_time": "2025-07-18T09:34:52.710700Z"
    }
   },
   "outputs": [
    {
     "name": "stdout",
     "output_type": "stream",
     "text": [
      "There's 49 mismatches between the OMIM/orphanet and MONDO NodeNorm mappings.\n"
     ]
    }
   ],
   "source": [
    "## if row has both IDs, look for diff in mappings from each ID\n",
    "\n",
    "## list of tuples (omim/orpha, mondo)\n",
    "mismatches = []\n",
    "\n",
    "for row in df[[\"disease_mim\", \"disease_MONDO\"]].itertuples(index=False):\n",
    "    ## has both IDs\n",
    "    if pd.notna(row.disease_mim) and pd.notna(row.disease_MONDO):\n",
    "        ## if have NodeNorm mappings for both\n",
    "        if OmOr_nodenorm_mapping.get(row.disease_mim) and \\\n",
    "        mondo_nodenorm_mapping.get(row.disease_MONDO):\n",
    "            ## check if mappings are diff\n",
    "            if OmOr_nodenorm_mapping[row.disease_mim][\"primary_id\"] != \\\n",
    "            mondo_nodenorm_mapping[row.disease_MONDO][\"primary_id\"]:\n",
    "                mismatches.append((row.disease_mim, row.disease_MONDO))\n",
    "\n",
    "print(f\"There's {len(mismatches)} mismatches between the OMIM/orphanet and MONDO NodeNorm mappings.\")"
   ]
  },
  {
   "cell_type": "code",
   "execution_count": 54,
   "id": "d1e6d632",
   "metadata": {
    "ExecuteTime": {
     "end_time": "2025-07-18T09:34:56.670520Z",
     "start_time": "2025-07-18T09:34:56.666146Z"
    }
   },
   "outputs": [
    {
     "data": {
      "text/plain": [
       "('OMIM:613325', 'MONDO:0013224')"
      ]
     },
     "execution_count": 54,
     "metadata": {},
     "output_type": "execute_result"
    }
   ],
   "source": [
    "## code chunk to review mismatches 1 by 1\n",
    "mismatches[21]"
   ]
  },
  {
   "cell_type": "code",
   "execution_count": 55,
   "id": "67e5a562",
   "metadata": {
    "ExecuteTime": {
     "end_time": "2025-07-18T09:35:06.705251Z",
     "start_time": "2025-07-18T09:35:06.699826Z"
    }
   },
   "outputs": [
    {
     "data": {
      "text/plain": [
       "{'primary_id': 'OMIM:613325',\n",
       " 'primary_label': 'Rhabdoid Tumor Predisposition Syndrome 2'}"
      ]
     },
     "execution_count": 55,
     "metadata": {},
     "output_type": "execute_result"
    },
    {
     "data": {
      "text/plain": [
       "{'primary_id': 'MONDO:0013224',\n",
       " 'primary_label': 'rhabdoid tumor predisposition syndrome 2'}"
      ]
     },
     "execution_count": 55,
     "metadata": {},
     "output_type": "execute_result"
    }
   ],
   "source": [
    "## code chunk to review mismatches 1 by 1\n",
    "\n",
    "OmOr_nodenorm_mapping[\"OMIM:613325\"]\n",
    "mondo_nodenorm_mapping[\"MONDO:0013224\"]"
   ]
  },
  {
   "cell_type": "code",
   "execution_count": 56,
   "id": "9523c561",
   "metadata": {
    "ExecuteTime": {
     "end_time": "2025-07-18T09:35:21.405051Z",
     "start_time": "2025-07-18T09:35:21.373121Z"
    },
    "scrolled": false
   },
   "outputs": [
    {
     "data": {
      "text/html": [
       "<div>\n",
       "<style scoped>\n",
       "    .dataframe tbody tr th:only-of-type {\n",
       "        vertical-align: middle;\n",
       "    }\n",
       "\n",
       "    .dataframe tbody tr th {\n",
       "        vertical-align: top;\n",
       "    }\n",
       "\n",
       "    .dataframe thead th {\n",
       "        text-align: right;\n",
       "    }\n",
       "</style>\n",
       "<table border=\"1\" class=\"dataframe\">\n",
       "  <thead>\n",
       "    <tr style=\"text-align: right;\">\n",
       "      <th></th>\n",
       "      <th>g2p_id</th>\n",
       "      <th>gene_symbol</th>\n",
       "      <th>gene_mim</th>\n",
       "      <th>hgnc_id</th>\n",
       "      <th>previous_gene_symbols</th>\n",
       "      <th>disease_name</th>\n",
       "      <th>disease_mim</th>\n",
       "      <th>disease_MONDO</th>\n",
       "      <th>allelic_requirement</th>\n",
       "      <th>cross_cutting_modifier</th>\n",
       "      <th>confidence</th>\n",
       "      <th>variant_consequence</th>\n",
       "      <th>variant_types</th>\n",
       "      <th>molecular_mechanism</th>\n",
       "      <th>molecular_mechanism_categorisation</th>\n",
       "      <th>molecular_mechanism_evidence</th>\n",
       "      <th>phenotypes</th>\n",
       "      <th>publications</th>\n",
       "      <th>panel</th>\n",
       "      <th>comments</th>\n",
       "      <th>date_of_last_review</th>\n",
       "      <th>g2p_record_url</th>\n",
       "    </tr>\n",
       "  </thead>\n",
       "  <tbody>\n",
       "    <tr>\n",
       "      <th>1584</th>\n",
       "      <td>G2P01446</td>\n",
       "      <td>SMARCA4</td>\n",
       "      <td>OMIM:603254</td>\n",
       "      <td>HGNC:11100</td>\n",
       "      <td>BAF190; BRG1; FLJ39786; HSNF2B; SNF2; SNF2-BET...</td>\n",
       "      <td>SMARCA4-related rhabdoid tumor predisposition ...</td>\n",
       "      <td>OMIM:613325</td>\n",
       "      <td>MONDO:0013224</td>\n",
       "      <td>monoallelic_autosomal</td>\n",
       "      <td>NaN</td>\n",
       "      <td>definitive</td>\n",
       "      <td>absent gene product; altered gene product stru...</td>\n",
       "      <td>NaN</td>\n",
       "      <td>loss of function</td>\n",
       "      <td>inferred</td>\n",
       "      <td>NaN</td>\n",
       "      <td>NaN</td>\n",
       "      <td>20137775; 21566516; 25060813</td>\n",
       "      <td>Developmental disorders; Cancer disorders</td>\n",
       "      <td>NaN</td>\n",
       "      <td>2015-07-22 16:15:28+00:00</td>\n",
       "      <td>https://www.ebi.ac.uk/gene2phenotype/lgd/G2P01446</td>\n",
       "    </tr>\n",
       "  </tbody>\n",
       "</table>\n",
       "</div>"
      ],
      "text/plain": [
       "        g2p_id gene_symbol     gene_mim     hgnc_id  \\\n",
       "1584  G2P01446     SMARCA4  OMIM:603254  HGNC:11100   \n",
       "\n",
       "                                  previous_gene_symbols  \\\n",
       "1584  BAF190; BRG1; FLJ39786; HSNF2B; SNF2; SNF2-BET...   \n",
       "\n",
       "                                           disease_name  disease_mim  \\\n",
       "1584  SMARCA4-related rhabdoid tumor predisposition ...  OMIM:613325   \n",
       "\n",
       "      disease_MONDO    allelic_requirement cross_cutting_modifier  confidence  \\\n",
       "1584  MONDO:0013224  monoallelic_autosomal                    NaN  definitive   \n",
       "\n",
       "                                    variant_consequence variant_types  \\\n",
       "1584  absent gene product; altered gene product stru...           NaN   \n",
       "\n",
       "     molecular_mechanism molecular_mechanism_categorisation  \\\n",
       "1584    loss of function                           inferred   \n",
       "\n",
       "     molecular_mechanism_evidence phenotypes                  publications  \\\n",
       "1584                          NaN        NaN  20137775; 21566516; 25060813   \n",
       "\n",
       "                                          panel comments  \\\n",
       "1584  Developmental disorders; Cancer disorders      NaN   \n",
       "\n",
       "           date_of_last_review  \\\n",
       "1584 2015-07-22 16:15:28+00:00   \n",
       "\n",
       "                                         g2p_record_url  \n",
       "1584  https://www.ebi.ac.uk/gene2phenotype/lgd/G2P01446  "
      ]
     },
     "execution_count": 56,
     "metadata": {},
     "output_type": "execute_result"
    },
    {
     "data": {
      "text/html": [
       "<div>\n",
       "<style scoped>\n",
       "    .dataframe tbody tr th:only-of-type {\n",
       "        vertical-align: middle;\n",
       "    }\n",
       "\n",
       "    .dataframe tbody tr th {\n",
       "        vertical-align: top;\n",
       "    }\n",
       "\n",
       "    .dataframe thead th {\n",
       "        text-align: right;\n",
       "    }\n",
       "</style>\n",
       "<table border=\"1\" class=\"dataframe\">\n",
       "  <thead>\n",
       "    <tr style=\"text-align: right;\">\n",
       "      <th></th>\n",
       "      <th>g2p_id</th>\n",
       "      <th>gene_symbol</th>\n",
       "      <th>gene_mim</th>\n",
       "      <th>hgnc_id</th>\n",
       "      <th>previous_gene_symbols</th>\n",
       "      <th>disease_name</th>\n",
       "      <th>disease_mim</th>\n",
       "      <th>disease_MONDO</th>\n",
       "      <th>allelic_requirement</th>\n",
       "      <th>cross_cutting_modifier</th>\n",
       "      <th>confidence</th>\n",
       "      <th>variant_consequence</th>\n",
       "      <th>variant_types</th>\n",
       "      <th>molecular_mechanism</th>\n",
       "      <th>molecular_mechanism_categorisation</th>\n",
       "      <th>molecular_mechanism_evidence</th>\n",
       "      <th>phenotypes</th>\n",
       "      <th>publications</th>\n",
       "      <th>panel</th>\n",
       "      <th>comments</th>\n",
       "      <th>date_of_last_review</th>\n",
       "      <th>g2p_record_url</th>\n",
       "    </tr>\n",
       "  </thead>\n",
       "  <tbody>\n",
       "    <tr>\n",
       "      <th>1584</th>\n",
       "      <td>G2P01446</td>\n",
       "      <td>SMARCA4</td>\n",
       "      <td>OMIM:603254</td>\n",
       "      <td>HGNC:11100</td>\n",
       "      <td>BAF190; BRG1; FLJ39786; HSNF2B; SNF2; SNF2-BET...</td>\n",
       "      <td>SMARCA4-related rhabdoid tumor predisposition ...</td>\n",
       "      <td>OMIM:613325</td>\n",
       "      <td>MONDO:0013224</td>\n",
       "      <td>monoallelic_autosomal</td>\n",
       "      <td>NaN</td>\n",
       "      <td>definitive</td>\n",
       "      <td>absent gene product; altered gene product stru...</td>\n",
       "      <td>NaN</td>\n",
       "      <td>loss of function</td>\n",
       "      <td>inferred</td>\n",
       "      <td>NaN</td>\n",
       "      <td>NaN</td>\n",
       "      <td>20137775; 21566516; 25060813</td>\n",
       "      <td>Developmental disorders; Cancer disorders</td>\n",
       "      <td>NaN</td>\n",
       "      <td>2015-07-22 16:15:28+00:00</td>\n",
       "      <td>https://www.ebi.ac.uk/gene2phenotype/lgd/G2P01446</td>\n",
       "    </tr>\n",
       "  </tbody>\n",
       "</table>\n",
       "</div>"
      ],
      "text/plain": [
       "        g2p_id gene_symbol     gene_mim     hgnc_id  \\\n",
       "1584  G2P01446     SMARCA4  OMIM:603254  HGNC:11100   \n",
       "\n",
       "                                  previous_gene_symbols  \\\n",
       "1584  BAF190; BRG1; FLJ39786; HSNF2B; SNF2; SNF2-BET...   \n",
       "\n",
       "                                           disease_name  disease_mim  \\\n",
       "1584  SMARCA4-related rhabdoid tumor predisposition ...  OMIM:613325   \n",
       "\n",
       "      disease_MONDO    allelic_requirement cross_cutting_modifier  confidence  \\\n",
       "1584  MONDO:0013224  monoallelic_autosomal                    NaN  definitive   \n",
       "\n",
       "                                    variant_consequence variant_types  \\\n",
       "1584  absent gene product; altered gene product stru...           NaN   \n",
       "\n",
       "     molecular_mechanism molecular_mechanism_categorisation  \\\n",
       "1584    loss of function                           inferred   \n",
       "\n",
       "     molecular_mechanism_evidence phenotypes                  publications  \\\n",
       "1584                          NaN        NaN  20137775; 21566516; 25060813   \n",
       "\n",
       "                                          panel comments  \\\n",
       "1584  Developmental disorders; Cancer disorders      NaN   \n",
       "\n",
       "           date_of_last_review  \\\n",
       "1584 2015-07-22 16:15:28+00:00   \n",
       "\n",
       "                                         g2p_record_url  \n",
       "1584  https://www.ebi.ac.uk/gene2phenotype/lgd/G2P01446  "
      ]
     },
     "execution_count": 56,
     "metadata": {},
     "output_type": "execute_result"
    }
   ],
   "source": [
    "## code chunk to review mismatches 1 by 1\n",
    "\n",
    "df[df[\"disease_mim\"] == \"OMIM:613325\"]\n",
    "df[df[\"disease_MONDO\"] == \"MONDO:0013224\"]"
   ]
  },
  {
   "cell_type": "markdown",
   "id": "a6f81213",
   "metadata": {
    "ExecuteTime": {
     "end_time": "2025-03-29T06:19:08.679605Z",
     "start_time": "2025-03-29T06:19:08.670116Z"
    }
   },
   "source": [
    "<div class=\"alert alert-block alert-info\">    \n",
    "\n",
    "**2025-02-28 data:** \n",
    "\n",
    "__Review of OMIM vs MONDO NodeNorm mismatches (22)__\n",
    "\n",
    "None were orphanet.    \n",
    "    \n",
    "---\n",
    "\n",
    "__19: OMIM's mapping is better__\n",
    "\n",
    "> __6: Mondo ID is related but wrong__ -> emailed EBI gene2pheno w/ example\n",
    "> * 'OMIM:243310', 'MONDO:0013812': omim is correct syndrome 1, but mondo is syndrome 2 (diff gene)\n",
    "> * 'OMIM:613575', 'MONDO:0044314': omim is correct 55, but mondo is 78 (diff gene)\n",
    "> * 'OMIM:101000', 'MONDO:0008075': omim is correct type of schwannomatosis (NF2/type 2), vs mondo is a sibling. \n",
    ">   * NodeNorm should map omim to MONDO:0007039 but isn't -> messaged NodeNorm\n",
    "> * 'OMIM:613987', __'MONDO:0009136'__: omim is correct recessive 2, but mondo is recessive 1 (diff gene? Confusing because Monarch page links to gene NHP2 but OMIM page doesn't)\n",
    ">   * NodeNorm should map omim to MONDO:0013519 but isn't -> messaged NodeNorm  \n",
    "> * 'OMIM:613988', 'MONDO:0009136': omim is correct recessive 3, but mondo is recessive 1 (diff gene)\n",
    ">   * NodeNorm should map omim to MONDO:0013520 but isn't -> messaged NodeNorm\n",
    "> * 'OMIM:616353', 'MONDO:0009136': omim is correct recessive 6, but mondo is recessive 1 (diff gene)\n",
    ">   * NodeNorm should map omim to MONDO:0014600 but isn't -> messaged NodeNorm\n",
    "\n",
    "> __13: Mondo ID is too general__ (can see on Monarch website) -> emailed EBI gene2pheno w/ example\n",
    "> * 'OMIM:300696', 'MONDO:0010680': omim maps to MONDO:0010401, child of the mondo\n",
    "> * 'OMIM:304120', 'MONDO:0019027': omim maps to MONDO:0010571 (syndrome type 2), child of the mondo (syndrome)\n",
    "> * 'OMIM:610019', 'MONDO:0005129': omim maps to MONDO:0012395 (cataract 18), child of the mondo (cataract)\n",
    "> * 'OMIM:611726', 'MONDO:0016295': omim maps to MONDO:0012721, child of the mondo \n",
    "> * 'OMIM:602668', 'MONDO:0016107': omim maps to MONDO:0011266 (type 2), child of the mondo\n",
    "> * 'OMIM:203200', 'MONDO:0018910': omim maps to MONDO:0008746 (type 2), child of the mondo\n",
    "> * 'OMIM:614328', 'MONDO:0017411': omim maps to MONDO:0013693 (type 1), child of the mondo\n",
    "> * 'OMIM:175800', 'MONDO:0006602': omim maps to MONDO:0008290 (1, mibelli type), grandchild of the mondo\n",
    "> * 'OMIM:614073', **'MONDO:0019312'**: omim maps to MONDO:0013556 (syndrome 4), child of the mondo (syndrome)\n",
    "> * 'OMIM:614074', 'MONDO:0019312': omim maps to MONDO:0013557 (syndrome 5), child of the mondo (syndrome)\n",
    "> * 'OMIM:614075', 'MONDO:0019312': omim maps to MONDO:0013558 (syndrome 6), child of the mondo (syndrome)\n",
    "> * 'OMIM:614076', 'MONDO:0019312': omim maps to MONDO:0013559 (syndrome 7), child of the mondo (syndrome)\n",
    "> * 'OMIM:614077', 'MONDO:0019312': omim maps to MONDO:0013560 (syndrome 8), child of the mondo (syndrome)\n",
    "\n",
    "    \n",
    "**1: MONDO's mapping is better**\n",
    "<br>\n",
    "Omim ID is slightly off -> __TELL EBI GENE2PHENO?__\n",
    "* 'OMIM:613723', 'MONDO:0009181': mondo matches the disease name and phenotypes listed in the record better than the omim \n",
    "\n",
    "\n",
    "**1: Unsure**\n",
    "* 'OMIM:158350', 'MONDO:0017623': omim is for Cowden syndrome 1, mondo is for PTEN hamartoma tumor syndrome. These are very similar, so I'm not sure which one is better. -> __TELL EBI GENE2PHENO?__\n",
    "  * There's also another record w/ just the OMIM ID. I think the two rows should be merged. -> __TELL EBI GENE2PHENO?__\n",
    "\n",
    "\n",
    "**1: NodeNorm error** -> messaged NodeNorm\n",
    "* 'OMIM:224230', 'MONDO:0009136': both are recessive 1, NodeNorm should map to same entity\n",
    "\n",
    "**Other rows reviewed:**\n",
    "* 'OMIM:614583', 'MONDO:0013812': map to same correct entity"
   ]
  },
  {
   "cell_type": "markdown",
   "id": "2becfcf1",
   "metadata": {},
   "source": [
    "**2025-02-28 data:** \n",
    "\n",
    "The prelim decision is to use disease OMIM/orphanet IDs because:\n",
    "* less missing values\n",
    "* more accurate in cases where there's also a MONDO ID"
   ]
  },
  {
   "cell_type": "markdown",
   "id": "229aed57",
   "metadata": {},
   "source": [
    "#### Checking MONDO data"
   ]
  },
  {
   "cell_type": "markdown",
   "id": "025b4397",
   "metadata": {},
   "source": [
    "Above, I decided the OMIM/orphanet disease IDs were better. \n",
    "\n",
    "However, I wondered if the MONDO IDs were accurate to the disease name when there weren't OMIM/orphanet IDs. Then they could be used for NodeNorming and less data would be dropped because it wasn't pre-NodeNormed. "
   ]
  },
  {
   "cell_type": "code",
   "execution_count": 57,
   "id": "b57b6cf6",
   "metadata": {
    "ExecuteTime": {
     "end_time": "2025-07-18T09:35:35.499564Z",
     "start_time": "2025-07-18T09:35:35.494156Z"
    }
   },
   "outputs": [],
   "source": [
    "## get the data that has MONDO, doesn't have OMIM/orphanet\n",
    "\n",
    "df_mondo_only = df[df[\"disease_mim\"].isna() & df[\"disease_MONDO\"].notna()].copy()\n",
    "\n",
    "mondo_only = df_mondo_only[\"disease_MONDO\"].dropna().unique()"
   ]
  },
  {
   "cell_type": "code",
   "execution_count": 58,
   "id": "4e8daf83",
   "metadata": {
    "ExecuteTime": {
     "end_time": "2025-07-18T09:35:36.245583Z",
     "start_time": "2025-07-18T09:35:36.239634Z"
    }
   },
   "outputs": [
    {
     "data": {
      "text/plain": [
       "430"
      ]
     },
     "execution_count": 58,
     "metadata": {},
     "output_type": "execute_result"
    },
    {
     "data": {
      "text/plain": [
       "214"
      ]
     },
     "execution_count": 58,
     "metadata": {},
     "output_type": "execute_result"
    }
   ],
   "source": [
    "## saving stats on data with only MONDO ID\n",
    "\n",
    "stats_mondo_only = {\n",
    "    \"n_rows\": df_mondo_only.shape[0],\n",
    "    \"n_names\": len(mondo_only)\n",
    "}\n",
    "\n",
    "stats_mondo_only[\"n_rows\"]\n",
    "stats_mondo_only[\"n_names\"]"
   ]
  },
  {
   "cell_type": "code",
   "execution_count": 59,
   "id": "0b66bd98",
   "metadata": {
    "ExecuteTime": {
     "end_time": "2025-07-18T09:35:39.163995Z",
     "start_time": "2025-07-18T09:35:39.145899Z"
    }
   },
   "outputs": [
    {
     "data": {
      "text/html": [
       "<div>\n",
       "<style scoped>\n",
       "    .dataframe tbody tr th:only-of-type {\n",
       "        vertical-align: middle;\n",
       "    }\n",
       "\n",
       "    .dataframe tbody tr th {\n",
       "        vertical-align: top;\n",
       "    }\n",
       "\n",
       "    .dataframe thead th {\n",
       "        text-align: right;\n",
       "    }\n",
       "</style>\n",
       "<table border=\"1\" class=\"dataframe\">\n",
       "  <thead>\n",
       "    <tr style=\"text-align: right;\">\n",
       "      <th></th>\n",
       "      <th>g2p_id</th>\n",
       "      <th>gene_symbol</th>\n",
       "      <th>gene_mim</th>\n",
       "      <th>hgnc_id</th>\n",
       "      <th>previous_gene_symbols</th>\n",
       "      <th>disease_name</th>\n",
       "      <th>disease_mim</th>\n",
       "      <th>disease_MONDO</th>\n",
       "      <th>allelic_requirement</th>\n",
       "      <th>cross_cutting_modifier</th>\n",
       "      <th>confidence</th>\n",
       "      <th>variant_consequence</th>\n",
       "      <th>variant_types</th>\n",
       "      <th>molecular_mechanism</th>\n",
       "      <th>molecular_mechanism_categorisation</th>\n",
       "      <th>molecular_mechanism_evidence</th>\n",
       "      <th>phenotypes</th>\n",
       "      <th>publications</th>\n",
       "      <th>panel</th>\n",
       "      <th>comments</th>\n",
       "      <th>date_of_last_review</th>\n",
       "      <th>g2p_record_url</th>\n",
       "    </tr>\n",
       "  </thead>\n",
       "  <tbody>\n",
       "    <tr>\n",
       "      <th>131</th>\n",
       "      <td>G2P00284</td>\n",
       "      <td>ALPL</td>\n",
       "      <td>OMIM:171760</td>\n",
       "      <td>HGNC:438</td>\n",
       "      <td>HOPS; TNALP; TNAP; TNSALP</td>\n",
       "      <td>ALPL-related hypophosphatasia</td>\n",
       "      <td>NaN</td>\n",
       "      <td>MONDO:0018570</td>\n",
       "      <td>biallelic_autosomal</td>\n",
       "      <td>NaN</td>\n",
       "      <td>definitive</td>\n",
       "      <td>altered gene product structure</td>\n",
       "      <td>missense_variant; inframe_deletion; inframe_in...</td>\n",
       "      <td>undetermined</td>\n",
       "      <td>inferred</td>\n",
       "      <td>NaN</td>\n",
       "      <td>HP:0002979; HP:0001945; HP:0002659; HP:0002150...</td>\n",
       "      <td>3174660</td>\n",
       "      <td>Developmental disorders; Skeletal disorders</td>\n",
       "      <td>NaN</td>\n",
       "      <td>2025-01-29 08:10:33+00:00</td>\n",
       "      <td>https://www.ebi.ac.uk/gene2phenotype/lgd/G2P00284</td>\n",
       "    </tr>\n",
       "    <tr>\n",
       "      <th>402</th>\n",
       "      <td>G2P02554</td>\n",
       "      <td>PRRX1</td>\n",
       "      <td>OMIM:167420</td>\n",
       "      <td>HGNC:9142</td>\n",
       "      <td>PHOX1; PMX1</td>\n",
       "      <td>PRRX1-related craniosynostosis</td>\n",
       "      <td>NaN</td>\n",
       "      <td>MONDO:0015469</td>\n",
       "      <td>monoallelic_autosomal</td>\n",
       "      <td>NaN</td>\n",
       "      <td>moderate</td>\n",
       "      <td>decreased gene product level; altered gene pro...</td>\n",
       "      <td>missense_variant; stop_gained; frameshift_variant</td>\n",
       "      <td>undetermined</td>\n",
       "      <td>inferred</td>\n",
       "      <td>NaN</td>\n",
       "      <td>HP:0001363</td>\n",
       "      <td>37154149</td>\n",
       "      <td>Developmental disorders; Skeletal disorders</td>\n",
       "      <td>NaN</td>\n",
       "      <td>2024-03-22 10:30:40+00:00</td>\n",
       "      <td>https://www.ebi.ac.uk/gene2phenotype/lgd/G2P02554</td>\n",
       "    </tr>\n",
       "    <tr>\n",
       "      <th>422</th>\n",
       "      <td>G2P03725</td>\n",
       "      <td>MIR140</td>\n",
       "      <td>OMIM:611894</td>\n",
       "      <td>HGNC:31527</td>\n",
       "      <td>MIRN140</td>\n",
       "      <td>MIR140-related spondyloepiphyseal dysplasia, N...</td>\n",
       "      <td>NaN</td>\n",
       "      <td>MONDO:0032835</td>\n",
       "      <td>monoallelic_autosomal</td>\n",
       "      <td>NaN</td>\n",
       "      <td>moderate</td>\n",
       "      <td>altered gene product structure</td>\n",
       "      <td>ncRNA</td>\n",
       "      <td>gain of function</td>\n",
       "      <td>evidence</td>\n",
       "      <td>30804514 -&gt; function: protein expression; func...</td>\n",
       "      <td>HP:0034281; HP:0001156; HP:0003498; HP:0011800...</td>\n",
       "      <td>30804514</td>\n",
       "      <td>Developmental disorders; Skeletal disorders</td>\n",
       "      <td>NaN</td>\n",
       "      <td>2025-05-07 10:53:46+00:00</td>\n",
       "      <td>https://www.ebi.ac.uk/gene2phenotype/lgd/G2P03725</td>\n",
       "    </tr>\n",
       "  </tbody>\n",
       "</table>\n",
       "</div>"
      ],
      "text/plain": [
       "       g2p_id gene_symbol     gene_mim     hgnc_id      previous_gene_symbols  \\\n",
       "131  G2P00284        ALPL  OMIM:171760    HGNC:438  HOPS; TNALP; TNAP; TNSALP   \n",
       "402  G2P02554       PRRX1  OMIM:167420   HGNC:9142                PHOX1; PMX1   \n",
       "422  G2P03725      MIR140  OMIM:611894  HGNC:31527                    MIRN140   \n",
       "\n",
       "                                          disease_name disease_mim  \\\n",
       "131                      ALPL-related hypophosphatasia         NaN   \n",
       "402                     PRRX1-related craniosynostosis         NaN   \n",
       "422  MIR140-related spondyloepiphyseal dysplasia, N...         NaN   \n",
       "\n",
       "     disease_MONDO    allelic_requirement cross_cutting_modifier  confidence  \\\n",
       "131  MONDO:0018570    biallelic_autosomal                    NaN  definitive   \n",
       "402  MONDO:0015469  monoallelic_autosomal                    NaN    moderate   \n",
       "422  MONDO:0032835  monoallelic_autosomal                    NaN    moderate   \n",
       "\n",
       "                                   variant_consequence  \\\n",
       "131                     altered gene product structure   \n",
       "402  decreased gene product level; altered gene pro...   \n",
       "422                     altered gene product structure   \n",
       "\n",
       "                                         variant_types molecular_mechanism  \\\n",
       "131  missense_variant; inframe_deletion; inframe_in...        undetermined   \n",
       "402  missense_variant; stop_gained; frameshift_variant        undetermined   \n",
       "422                                              ncRNA    gain of function   \n",
       "\n",
       "    molecular_mechanism_categorisation  \\\n",
       "131                           inferred   \n",
       "402                           inferred   \n",
       "422                           evidence   \n",
       "\n",
       "                          molecular_mechanism_evidence  \\\n",
       "131                                                NaN   \n",
       "402                                                NaN   \n",
       "422  30804514 -> function: protein expression; func...   \n",
       "\n",
       "                                            phenotypes publications  \\\n",
       "131  HP:0002979; HP:0001945; HP:0002659; HP:0002150...      3174660   \n",
       "402                                         HP:0001363     37154149   \n",
       "422  HP:0034281; HP:0001156; HP:0003498; HP:0011800...     30804514   \n",
       "\n",
       "                                           panel comments  \\\n",
       "131  Developmental disorders; Skeletal disorders      NaN   \n",
       "402  Developmental disorders; Skeletal disorders      NaN   \n",
       "422  Developmental disorders; Skeletal disorders      NaN   \n",
       "\n",
       "          date_of_last_review  \\\n",
       "131 2025-01-29 08:10:33+00:00   \n",
       "402 2024-03-22 10:30:40+00:00   \n",
       "422 2025-05-07 10:53:46+00:00   \n",
       "\n",
       "                                        g2p_record_url  \n",
       "131  https://www.ebi.ac.uk/gene2phenotype/lgd/G2P00284  \n",
       "402  https://www.ebi.ac.uk/gene2phenotype/lgd/G2P02554  \n",
       "422  https://www.ebi.ac.uk/gene2phenotype/lgd/G2P03725  "
      ]
     },
     "execution_count": 59,
     "metadata": {},
     "output_type": "execute_result"
    }
   ],
   "source": [
    "## code chunk used to review some of the data\n",
    "\n",
    "# df_mondo_only[df_mondo_only[\"disease_MONDO\"] == mondo_only[240]]\n",
    "\n",
    "df_mondo_only[df_mondo_only[\"panel\"].str.contains(\"Skeletal\", na=False)]"
   ]
  },
  {
   "cell_type": "markdown",
   "id": "fc3f5864",
   "metadata": {},
   "source": [
    "<div class=\"alert alert-block alert-info\">    \n",
    "\n",
    "**2025-02-28 data:** \n",
    "\n",
    "__Reviewed some of the data__\n",
    "\n",
    "Method: look at individual MONDO IDs. Covered all panels (only 1 skeletal, no hearing). 3 from earlier review (related to mismatches) + idx 0-240, step 10 + skeletal. \n",
    "    \n",
    "__Summary__\n",
    "* 37 rows (29 unique MONDO)\n",
    "* __~16%__ were wrong (6/37) \n",
    "* Could tell EBI gene2pheno of issues but they are similar to those listed in mismatch mapping section"
   ]
  },
  {
   "cell_type": "markdown",
   "id": "36d795ed",
   "metadata": {},
   "source": [
    "__Details__\n",
    "\n",
    "__6 MONDO is related but wrong__\n",
    "* \"MONDO:0009136\" for \"RTEL1-related dyskeratosis congenita\" (two rows): mondo is recessive 1, which is wrong. Should be recessive 5 MONDO:0014076/OMIM:615190 (old/synonym name is dominant 4) \n",
    "* \"MONDO:0044314\" for 4 rows \"CLN3-related retinal dystrophy\", \"GUCA1B-\", \"PRPS1-\", \"SNRNP200-\": mondo is type 78 (specifically for ARHGEF18), which is wrong. Should instead be:\n",
    "  * CLN3 and PRPS1: a more general term like MONDO:0004580 (retinal degeneration) -> MONDO:0019118 (inherited retinal dystrophy) -> MONDO:0019200 (retinitis pigmentosa)\n",
    "  * GUCA1B: type 48, MONDO:0013447\n",
    "  * SNRNP200: type 33, MONDO:0012477\n",
    "* \"MONDO:0013522\" for \"TERC-related dyskeratosis congenita\": mondo is for type 3 (specifically for TINF2, that row is in \"Great\" section). Should be type 1 MONDO:0007485/OMIM:127550. (confusing because Monarch's page of type 1 includes TINF2 and TERT too, but OMIM page only includes TERC)\n",
    "\n",
    "\n",
    "__4 MONDO is too general__ \n",
    "* \"MONDO:0020341\" (periventricular nodular heterotopia) for \"ERMARD-related periventricular heterotopia\". The ERMARD-specific version is a child term: MONDO:0014240/OMIM:615544 (type 6)\n",
    "* \"MONDO:0018965\" (Alport syndrome) for \"COL4A5-related Alport syndrome\". The COL4A5-specific version is a child term: MONDO:0010520/OMIM:301050  (X-linked)\n",
    "* \"MONDO:0024676\" for \"REST-related Wilms tumour\": The REST-specific version is a **related** term: MONDO:0014779/OMIM:616806 (type 6)\n",
    "* \"MONDO:0011773\" for \"POP1-related anauxetic dysplasia\": the POP1-specific version is a child term: MONDO:0054561/OMIM:617396 (type 2)\n",
    "\n",
    "\n",
    "__4 Unsure -> TELL EBI GENE2PHENO?__\n",
    "* \"MONDO:0005129\" for \"CYP51A1-related congenital cataract\": mondo is cataract, which is not wrong but kinda general. MONDO:0033853 seems better (correlated with gene, matches phenotypes, orphanet ref uses one of the ref papers) \n",
    "* \"MONDO:0018869\" for \"TMTC3-related cobblestone lissencephaly\": while the mondo (cobblestone lissencephaly) sounds correct, it isn't linked to this gene. VS another sibling disease is linked to the gene, matches phenotypes, uses same paper: MONDO:0014992/OMIM:617255 (lissencephaly 8)\n",
    "* \"MONDO:0100100\" for \"SELENON-related myopathy\": while mondo has exact name match, it's not directly linked to gene. Instead, its child disease is directly linked to gene MONDO:0011271/OMIM:602771 (rigid spine muscular dystrophy 1)\n",
    "* \"MONDO:0020367\" for \"MYOC-related juvenile open angle glaucoma\": while mondo is almost-exact name match, it's not directly linked to gene. Instead, its child disease is directly linked to gene MONDO:0007664/OMIM:137750 (glaucoma 1, open angle, A) \n",
    "\n",
    "\n",
    "__5 Okay (using general term is fine)__\n",
    "* \"MONDO:0005129\" for 3 other rows \"WDR87-related congenital cataract\", \"AKR1E2-\", \"MFSD6L-\": couldn't find better mappings. \n",
    "* \"MONDO:0015469\" for \"DHRS3 related craniosynostosis\": couldn't find better mapping\n",
    "* \"MONDO:0024676\" (childhood kidney Wilms tumor) for \"CTR9-related Wilms tumour\", \"TRIM28-\": couldn't find better mapping. TRIM28 is correlated to parent term (kidney Wilms tumor). \n",
    "\n",
    "\n",
    "__18 Great__\n",
    "* \"MONDO:0012506\" for \"DSC2-related arrhythmogenic right ventricular cardiomyopathy\"\n",
    "* \"MONDO:0011001\" for \"SCN5A-related Brugada syndrome\"\n",
    "* \"MONDO:0013262\" for \"MYH7-related dilated cardiomyopathy\"\n",
    "* \"MONDO:0013369\" for \"TNNI3-related hypertrophic cardiomyopathy\"\n",
    "* \"MONDO:0010946\" for \"PRKAG2-related cardiomyopathy\"\n",
    "* \"MONDO:0014143\" for \"RIT1-related Noonan syndrome\"\n",
    "* \"MONDO:0010015\" for \"PXDN-related anterior segment dysgenesis with sclerocornea\"\n",
    "* \"MONDO:0014214\" for \"DYNC2I1-related short-rib polydactyly\"\n",
    "* \"MONDO:0013522\" for \"TINF2-related dyskeratosis congenita\"\n",
    "* \"MONDO:0032876\" for \"WASF1-related intellectual disability with seizures\"\n",
    "* \"MONDO:0859164\" for \"UNC45A-related osteootohepatoenteric syndrome\"\n",
    "* \"MONDO:0018772\" for \"SLC30A7-related Joubert syndrome\": using general term is fine since there isn't any established subtype of Joubert syndrome for this gene\n",
    "* \"MONDO:0010215\" for \"ERCC4-related xeroderma pigmentosum, group F\"\n",
    "* \"MONDO:0009735\" for \"SPINK5-related Netherton syndrome\"\n",
    "* \"MONDO:0007808\" for \"KRT1-related ichthyosis hystrix, Curth-Macklin type\"\n",
    "* \"MONDO:0007566\" for \"TGFBR1-related multiple self-healing squamous epithelioma\"\n",
    "* \"MONDO:0008285\" for \"PDGFRA-related gastrointestinal stromal tumor/GIST-plus syndrome, somatic or familial\"\n",
    "* \"MONDO:0010912\" for \"TUBB3-related fibrosis of extraocular muscles, congenital\""
   ]
  },
  {
   "cell_type": "markdown",
   "id": "a29eccf5",
   "metadata": {},
   "source": [
    "#### Conclusions"
   ]
  },
  {
   "cell_type": "markdown",
   "id": "931ad893",
   "metadata": {},
   "source": [
    "<div class=\"alert alert-block alert-success\">\n",
    "\n",
    "**2025-02-28 data:** \n",
    "    \n",
    "__Exploration__\n",
    "\n",
    "* some rows have no disease IDs\n",
    "* a few NodeNorm mapping failures for OMIM IDs (several diff kinds): ~2.8%. 68 failures / (2401 unique values in column - 9 orphanet)\n",
    "  * no NodeNorm mapping failures for MONDO IDs\n",
    "* when rows have both OMIM and MONDO IDs, there are sometimes differences in NodeNorm mapping (\"mismatches\"). __In these cases, OMIM IDs were much more accurate__\n",
    "* __MONDO IDs can be inaccurate__ - see the blue review boxes\n",
    "  * VS it was much rarer to find an inaccurate OMIM ID mapping (found 1 case)\n",
    "\n",
    "\n",
    "__Decision: Use OMIM ID column to generate NodeNorm values__\n",
    "\n",
    "* less missing values\n",
    "* seems to be more accurate (for successful NodeNorm mappings)"
   ]
  },
  {
   "cell_type": "markdown",
   "id": "9d69e637",
   "metadata": {},
   "source": [
    "## Stats on rows removed during NodeNorming"
   ]
  },
  {
   "cell_type": "markdown",
   "id": "d25bd6ed",
   "metadata": {},
   "source": [
    "This section prints the statistics on rows in the original data that were removed. \n",
    "\n",
    "(Uses variables generated during the previous section \"Pre-NodeNorming\")"
   ]
  },
  {
   "cell_type": "markdown",
   "id": "e687d839",
   "metadata": {},
   "source": [
    "<div class=\"alert alert-block alert-success\">\n",
    "\n",
    "**2025-03-28 data:** \n",
    "\n",
    "Genes: No rows removed due to lack of IDs for NodeNorming or NodeNorm mapping issues."
   ]
  },
  {
   "cell_type": "code",
   "execution_count": 60,
   "id": "801a10f8",
   "metadata": {
    "ExecuteTime": {
     "end_time": "2025-07-18T09:37:54.177341Z",
     "start_time": "2025-07-18T09:37:54.172920Z"
    }
   },
   "outputs": [
    {
     "name": "stdout",
     "output_type": "stream",
     "text": [
      "Gene Pre-NodeNorming\n",
      "\n",
      "0 row(s) with no gene IDs\n",
      "0 row(s) with no HGNC IDs\n",
      "\n",
      "\n",
      "HGNC NodeNorm mapping failures:\n",
      "IDs with no data in NodeNorm: 0\n",
      "IDs with the wrong NodeNormed category: 0\n",
      "IDs with no label in NodeNorm: 0\n"
     ]
    }
   ],
   "source": [
    "## partial put into parser (format): DONE\n",
    "\n",
    "print(\"Gene Pre-NodeNorming\\n\")\n",
    "\n",
    "## no gene IDs\n",
    "print(f'{stats_no_gene_IDs[\"n_rows\"]} row(s) with no gene IDs')\n",
    "\n",
    "## no HGNC IDs: key column for NodeNorming\n",
    "print(f'{n_rows_no_hgnc} row(s) with no HGNC IDs')\n",
    "\n",
    "## HGNC NodeNorm issues: none, but showing anyways\n",
    "print(\"\\n\")\n",
    "print(\"HGNC NodeNorm mapping failures:\")\n",
    "\n",
    "print(f'IDs with no data in NodeNorm: {len(stats_hgnc_mapping_failures[\"nodenorm_returned_none\"])}')\n",
    "print(f'IDs with the wrong NodeNormed category: {len(stats_hgnc_mapping_failures[\"wrong_category\"])}')\n",
    "print(f'IDs with no label in NodeNorm: {len(stats_hgnc_mapping_failures[\"no_label\"])}')"
   ]
  },
  {
   "cell_type": "markdown",
   "id": "b282749c",
   "metadata": {},
   "source": [
    "<div class=\"alert alert-block alert-success\">\n",
    "\n",
    "**2025-03-28 data:** \n",
    "    \n",
    "__Diseases: many rows removed__ due to lack of IDs for NodeNorming or NodeNorm mapping issues."
   ]
  },
  {
   "cell_type": "code",
   "execution_count": 61,
   "id": "bbfc6243",
   "metadata": {
    "ExecuteTime": {
     "end_time": "2025-07-18T09:37:57.405285Z",
     "start_time": "2025-07-18T09:37:57.400734Z"
    }
   },
   "outputs": [
    {
     "data": {
      "text/plain": [
       "dict_keys(['unexpected_error', 'nodenorm_returned_none', 'wrong_category', 'no_label', 'n_rows_none', 'n_rows_wrong_category', 'n_rows_no_label'])"
      ]
     },
     "execution_count": 61,
     "metadata": {},
     "output_type": "execute_result"
    }
   ],
   "source": [
    "stats_OmOr_mapping_failures.keys()"
   ]
  },
  {
   "cell_type": "code",
   "execution_count": 62,
   "id": "35356465",
   "metadata": {
    "ExecuteTime": {
     "end_time": "2025-07-18T09:37:58.345987Z",
     "start_time": "2025-07-18T09:37:58.339519Z"
    }
   },
   "outputs": [
    {
     "name": "stdout",
     "output_type": "stream",
     "text": [
      "Disease Pre-NodeNorming\n",
      "\n",
      "333 row(s) with no disease IDs (= 326 unique diseases)\n",
      "+ 430 row(s) with no OMIM ID (= 214 unique diseases)\n",
      "\n",
      "\n",
      "OMIM NodeNorm mapping failures:\n",
      "4 row(s) for 4 IDs with no data in NodeNorm\n",
      "3 row(s) for 3 IDs with the wrong NodeNormed category\n",
      "1 row(s) for 1 IDs with no label in NodeNorm\n"
     ]
    }
   ],
   "source": [
    "## partial put into parser (format): DONE\n",
    "\n",
    "print(\"Disease Pre-NodeNorming\\n\")\n",
    "\n",
    "## no disease IDs\n",
    "print(f'{stats_no_disease_IDs[\"n_rows\"]} row(s) with no disease IDs '\n",
    "      f'(= {stats_no_disease_IDs[\"n_names\"]} unique diseases)')\n",
    "\n",
    "## plus the rows that only lack OMIM IDs: key column for NodeNorming\n",
    "print(f'+ {stats_mondo_only[\"n_rows\"]} row(s) with no OMIM ID '\n",
    "      f'(= {stats_mondo_only[\"n_names\"]} unique diseases)')\n",
    "\n",
    "## OMIM NodeNorm issues\n",
    "print(\"\\n\")\n",
    "print(\"OMIM NodeNorm mapping failures:\")\n",
    "\n",
    "print(f'{stats_OmOr_mapping_failures[\"n_rows_none\"]} row(s) for '\n",
    "      f'{len(stats_OmOr_mapping_failures[\"nodenorm_returned_none\"])} '\n",
    "      f'IDs with no data in NodeNorm')\n",
    "\n",
    "print(f'{stats_OmOr_mapping_failures[\"n_rows_wrong_category\"]} row(s) for '\n",
    "      f'{len(stats_OmOr_mapping_failures[\"wrong_category\"])} '\n",
    "      f'IDs with the wrong NodeNormed category')\n",
    "\n",
    "print(f'{stats_OmOr_mapping_failures[\"n_rows_no_label\"]} row(s) for '\n",
    "      f'{len(stats_OmOr_mapping_failures[\"no_label\"])} '\n",
    "      f'IDs with no label in NodeNorm')"
   ]
  },
  {
   "cell_type": "markdown",
   "id": "9e970596",
   "metadata": {},
   "source": [
    "<div class=\"alert alert-block alert-success\">\n",
    "    \n",
    "__Totals__"
   ]
  },
  {
   "cell_type": "code",
   "execution_count": 63,
   "id": "be76c03c",
   "metadata": {
    "ExecuteTime": {
     "end_time": "2025-07-18T09:38:07.480673Z",
     "start_time": "2025-07-18T09:38:07.475565Z"
    }
   },
   "outputs": [
    {
     "name": "stdout",
     "output_type": "stream",
     "text": [
      "3706 rows/records before Pre-NodeNorming\n",
      "\n",
      "771 rows removed during Disease NodeNorming process\n",
      "\n",
      "2935 rows/records left (79.2%)\n"
     ]
    }
   ],
   "source": [
    "## put into parser (format): DONE\n",
    "\n",
    "n_rows_before_nodenorm = df.shape[0]\n",
    "n_rows_nodenorm_removed = stats_no_disease_IDs[\"n_rows\"] + stats_mondo_only[\"n_rows\"] + \\\n",
    "                          stats_OmOr_mapping_failures[\"n_rows_none\"] + \\\n",
    "                          stats_OmOr_mapping_failures[\"n_rows_wrong_category\"] + \\\n",
    "                          stats_OmOr_mapping_failures[\"n_rows_no_label\"]\n",
    "n_rows_after_nodenorm = n_rows_before_nodenorm - n_rows_nodenorm_removed\n",
    "\n",
    "print(f\"{n_rows_before_nodenorm} rows/records before Pre-NodeNorming\\n\")\n",
    "\n",
    "print(f\"{n_rows_nodenorm_removed} rows removed during Disease NodeNorming process\\n\")\n",
    "\n",
    "print(f\"{n_rows_after_nodenorm} rows/records left ({n_rows_after_nodenorm/n_rows_before_nodenorm:.1%})\")"
   ]
  },
  {
   "cell_type": "markdown",
   "id": "23343f7c",
   "metadata": {},
   "source": [
    "## Adding NodeNorm data, removing rows"
   ]
  },
  {
   "cell_type": "markdown",
   "id": "1d708cbc",
   "metadata": {},
   "source": [
    "Using gene HGNC and disease OMIM/orphanet IDs for pre-NodeNorming"
   ]
  },
  {
   "cell_type": "code",
   "execution_count": 64,
   "id": "3d727809",
   "metadata": {
    "ExecuteTime": {
     "end_time": "2025-07-18T09:38:12.905336Z",
     "start_time": "2025-07-18T09:38:12.893397Z"
    }
   },
   "outputs": [],
   "source": [
    "## put into parser (format): DONE\n",
    "\n",
    "## Gene: assumes no missing values\n",
    "df[\"gene_nodenorm_id\"] = [hgnc_nodenorm_mapping[i][\"primary_id\"] for i in df[\"hgnc_id\"]]\n",
    "df[\"gene_nodenorm_label\"] = [hgnc_nodenorm_mapping[i][\"primary_label\"] for i in df[\"hgnc_id\"]]\n",
    "\n",
    "df[\"disease_nodenorm_id\"] = [OmOr_nodenorm_mapping[i][\"primary_id\"] \n",
    "                             if OmOr_nodenorm_mapping.get(i) \n",
    "                             else pd.NA\n",
    "                             for i in df[\"disease_mim\"]]\n",
    "\n",
    "df[\"disease_nodenorm_label\"] = [OmOr_nodenorm_mapping[i][\"primary_label\"] \n",
    "                                if OmOr_nodenorm_mapping.get(i) \n",
    "                                else pd.NA\n",
    "                                for i in df[\"disease_mim\"]]"
   ]
  },
  {
   "cell_type": "code",
   "execution_count": 65,
   "id": "c362f22a",
   "metadata": {
    "ExecuteTime": {
     "end_time": "2025-07-18T09:38:13.477192Z",
     "start_time": "2025-07-18T09:38:13.457210Z"
    }
   },
   "outputs": [
    {
     "data": {
      "text/html": [
       "<div>\n",
       "<style scoped>\n",
       "    .dataframe tbody tr th:only-of-type {\n",
       "        vertical-align: middle;\n",
       "    }\n",
       "\n",
       "    .dataframe tbody tr th {\n",
       "        vertical-align: top;\n",
       "    }\n",
       "\n",
       "    .dataframe thead th {\n",
       "        text-align: right;\n",
       "    }\n",
       "</style>\n",
       "<table border=\"1\" class=\"dataframe\">\n",
       "  <thead>\n",
       "    <tr style=\"text-align: right;\">\n",
       "      <th></th>\n",
       "      <th>g2p_id</th>\n",
       "      <th>gene_symbol</th>\n",
       "      <th>gene_mim</th>\n",
       "      <th>hgnc_id</th>\n",
       "      <th>previous_gene_symbols</th>\n",
       "      <th>disease_name</th>\n",
       "      <th>disease_mim</th>\n",
       "      <th>disease_MONDO</th>\n",
       "      <th>allelic_requirement</th>\n",
       "      <th>cross_cutting_modifier</th>\n",
       "      <th>confidence</th>\n",
       "      <th>variant_consequence</th>\n",
       "      <th>variant_types</th>\n",
       "      <th>molecular_mechanism</th>\n",
       "      <th>molecular_mechanism_categorisation</th>\n",
       "      <th>molecular_mechanism_evidence</th>\n",
       "      <th>phenotypes</th>\n",
       "      <th>publications</th>\n",
       "      <th>panel</th>\n",
       "      <th>comments</th>\n",
       "      <th>date_of_last_review</th>\n",
       "      <th>g2p_record_url</th>\n",
       "      <th>gene_nodenorm_id</th>\n",
       "      <th>gene_nodenorm_label</th>\n",
       "      <th>disease_nodenorm_id</th>\n",
       "      <th>disease_nodenorm_label</th>\n",
       "    </tr>\n",
       "  </thead>\n",
       "  <tbody>\n",
       "    <tr>\n",
       "      <th>0</th>\n",
       "      <td>G2P00124</td>\n",
       "      <td>KCNE1</td>\n",
       "      <td>OMIM:176261</td>\n",
       "      <td>HGNC:6240</td>\n",
       "      <td>ISK; JLNS2; LQT5; MINK</td>\n",
       "      <td>KCNE1-related Jervell and Lange-Nielsen syndrome</td>\n",
       "      <td>OMIM:612347</td>\n",
       "      <td>MONDO:0012871</td>\n",
       "      <td>biallelic_autosomal</td>\n",
       "      <td>potential secondary finding</td>\n",
       "      <td>strong</td>\n",
       "      <td>altered gene product structure</td>\n",
       "      <td>missense_variant; inframe_insertion; inframe_d...</td>\n",
       "      <td>undetermined</td>\n",
       "      <td>inferred</td>\n",
       "      <td>NaN</td>\n",
       "      <td>HP:0001657; HP:0001279; HP:0000007; HP:0000407</td>\n",
       "      <td>30461122</td>\n",
       "      <td>Developmental disorders; Cardiac disorders</td>\n",
       "      <td>KCNE1-related JLNS is due to altered gene prod...</td>\n",
       "      <td>2024-04-05 12:05:01+00:00</td>\n",
       "      <td>https://www.ebi.ac.uk/gene2phenotype/lgd/G2P00124</td>\n",
       "      <td>NCBIGene:3753</td>\n",
       "      <td>KCNE1</td>\n",
       "      <td>MONDO:0012871</td>\n",
       "      <td>Jervell and Lange-Nielsen syndrome 2</td>\n",
       "    </tr>\n",
       "    <tr>\n",
       "      <th>1</th>\n",
       "      <td>G2P00841</td>\n",
       "      <td>PTPN11</td>\n",
       "      <td>OMIM:176876</td>\n",
       "      <td>HGNC:9644</td>\n",
       "      <td>BPTP3; NS1; PTP2C; SH-PTP2; SHP-2; SHP2</td>\n",
       "      <td>PTPN11-related Noonan syndrome with multiple l...</td>\n",
       "      <td>OMIM:151100</td>\n",
       "      <td>NaN</td>\n",
       "      <td>monoallelic_autosomal</td>\n",
       "      <td>NaN</td>\n",
       "      <td>definitive</td>\n",
       "      <td>altered gene product structure</td>\n",
       "      <td>missense_variant; inframe_deletion; inframe_in...</td>\n",
       "      <td>undetermined</td>\n",
       "      <td>inferred</td>\n",
       "      <td>NaN</td>\n",
       "      <td>HP:0001709; HP:0000957; HP:0004409; HP:0001639...</td>\n",
       "      <td>27484170; 26377839; 25917897; 25884655; 248207...</td>\n",
       "      <td>Developmental disorders; Skin disorders; Cardi...</td>\n",
       "      <td>Expert review done on 12/01/2022; Noonan syndr...</td>\n",
       "      <td>2025-01-21 14:56:43+00:00</td>\n",
       "      <td>https://www.ebi.ac.uk/gene2phenotype/lgd/G2P00841</td>\n",
       "      <td>NCBIGene:5781</td>\n",
       "      <td>PTPN11</td>\n",
       "      <td>MONDO:0100082</td>\n",
       "      <td>LEOPARD syndrome 1</td>\n",
       "    </tr>\n",
       "    <tr>\n",
       "      <th>2</th>\n",
       "      <td>G2P03247</td>\n",
       "      <td>DSC2</td>\n",
       "      <td>OMIM:125645</td>\n",
       "      <td>HGNC:3036</td>\n",
       "      <td>CDHF2; DSC3</td>\n",
       "      <td>DSC2-related arrhythmogenic right ventricular ...</td>\n",
       "      <td>NaN</td>\n",
       "      <td>MONDO:0012506</td>\n",
       "      <td>monoallelic_autosomal</td>\n",
       "      <td>NaN</td>\n",
       "      <td>definitive</td>\n",
       "      <td>decreased gene product level; altered gene pro...</td>\n",
       "      <td>stop_gained; frameshift_variant; NMD_triggerin...</td>\n",
       "      <td>undetermined</td>\n",
       "      <td>inferred</td>\n",
       "      <td>NaN</td>\n",
       "      <td>NaN</td>\n",
       "      <td>31028357; 23911551; 21636032; 33831308; 263105...</td>\n",
       "      <td>Cardiac disorders</td>\n",
       "      <td>Expert review done on 05/01/2022; DSC2-related...</td>\n",
       "      <td>2024-03-20 09:36:09+00:00</td>\n",
       "      <td>https://www.ebi.ac.uk/gene2phenotype/lgd/G2P03247</td>\n",
       "      <td>NCBIGene:1824</td>\n",
       "      <td>DSC2</td>\n",
       "      <td>&lt;NA&gt;</td>\n",
       "      <td>&lt;NA&gt;</td>\n",
       "    </tr>\n",
       "    <tr>\n",
       "      <th>3</th>\n",
       "      <td>G2P03248</td>\n",
       "      <td>DSC2</td>\n",
       "      <td>OMIM:125645</td>\n",
       "      <td>HGNC:3036</td>\n",
       "      <td>CDHF2; DSC3</td>\n",
       "      <td>DSC2-related arrhythmogenic right ventricular ...</td>\n",
       "      <td>NaN</td>\n",
       "      <td>MONDO:0012506</td>\n",
       "      <td>biallelic_autosomal</td>\n",
       "      <td>NaN</td>\n",
       "      <td>definitive</td>\n",
       "      <td>decreased gene product level; altered gene pro...</td>\n",
       "      <td>stop_gained; frameshift_variant; NMD_triggerin...</td>\n",
       "      <td>undetermined</td>\n",
       "      <td>inferred</td>\n",
       "      <td>NaN</td>\n",
       "      <td>NaN</td>\n",
       "      <td>31028357; 23911551; 21636032; 33831308; 263105...</td>\n",
       "      <td>Cardiac disorders</td>\n",
       "      <td>Expert review done on 05/01/2022; DSC2-related...</td>\n",
       "      <td>2024-03-20 09:35:19+00:00</td>\n",
       "      <td>https://www.ebi.ac.uk/gene2phenotype/lgd/G2P03248</td>\n",
       "      <td>NCBIGene:1824</td>\n",
       "      <td>DSC2</td>\n",
       "      <td>&lt;NA&gt;</td>\n",
       "      <td>&lt;NA&gt;</td>\n",
       "    </tr>\n",
       "    <tr>\n",
       "      <th>4</th>\n",
       "      <td>G2P03249</td>\n",
       "      <td>DSG2</td>\n",
       "      <td>OMIM:125671</td>\n",
       "      <td>HGNC:3049</td>\n",
       "      <td>CDHF5</td>\n",
       "      <td>DSG2-related arrhythmogenic right ventricular ...</td>\n",
       "      <td>NaN</td>\n",
       "      <td>MONDO:0012434</td>\n",
       "      <td>monoallelic_autosomal</td>\n",
       "      <td>NaN</td>\n",
       "      <td>definitive</td>\n",
       "      <td>decreased gene product level; altered gene pro...</td>\n",
       "      <td>stop_gained; frameshift_variant; splice_accept...</td>\n",
       "      <td>undetermined</td>\n",
       "      <td>inferred</td>\n",
       "      <td>NaN</td>\n",
       "      <td>NaN</td>\n",
       "      <td>21636032; 33831308; 33917638; 34400560; 240707...</td>\n",
       "      <td>Cardiac disorders</td>\n",
       "      <td>Expert review done on 05/01/2022; DSG2-related...</td>\n",
       "      <td>2024-03-20 09:40:18+00:00</td>\n",
       "      <td>https://www.ebi.ac.uk/gene2phenotype/lgd/G2P03249</td>\n",
       "      <td>NCBIGene:1829</td>\n",
       "      <td>DSG2</td>\n",
       "      <td>&lt;NA&gt;</td>\n",
       "      <td>&lt;NA&gt;</td>\n",
       "    </tr>\n",
       "  </tbody>\n",
       "</table>\n",
       "</div>"
      ],
      "text/plain": [
       "     g2p_id gene_symbol     gene_mim    hgnc_id  \\\n",
       "0  G2P00124       KCNE1  OMIM:176261  HGNC:6240   \n",
       "1  G2P00841      PTPN11  OMIM:176876  HGNC:9644   \n",
       "2  G2P03247        DSC2  OMIM:125645  HGNC:3036   \n",
       "3  G2P03248        DSC2  OMIM:125645  HGNC:3036   \n",
       "4  G2P03249        DSG2  OMIM:125671  HGNC:3049   \n",
       "\n",
       "                     previous_gene_symbols  \\\n",
       "0                   ISK; JLNS2; LQT5; MINK   \n",
       "1  BPTP3; NS1; PTP2C; SH-PTP2; SHP-2; SHP2   \n",
       "2                              CDHF2; DSC3   \n",
       "3                              CDHF2; DSC3   \n",
       "4                                    CDHF5   \n",
       "\n",
       "                                        disease_name  disease_mim  \\\n",
       "0   KCNE1-related Jervell and Lange-Nielsen syndrome  OMIM:612347   \n",
       "1  PTPN11-related Noonan syndrome with multiple l...  OMIM:151100   \n",
       "2  DSC2-related arrhythmogenic right ventricular ...          NaN   \n",
       "3  DSC2-related arrhythmogenic right ventricular ...          NaN   \n",
       "4  DSG2-related arrhythmogenic right ventricular ...          NaN   \n",
       "\n",
       "   disease_MONDO    allelic_requirement       cross_cutting_modifier  \\\n",
       "0  MONDO:0012871    biallelic_autosomal  potential secondary finding   \n",
       "1            NaN  monoallelic_autosomal                          NaN   \n",
       "2  MONDO:0012506  monoallelic_autosomal                          NaN   \n",
       "3  MONDO:0012506    biallelic_autosomal                          NaN   \n",
       "4  MONDO:0012434  monoallelic_autosomal                          NaN   \n",
       "\n",
       "   confidence                                variant_consequence  \\\n",
       "0      strong                     altered gene product structure   \n",
       "1  definitive                     altered gene product structure   \n",
       "2  definitive  decreased gene product level; altered gene pro...   \n",
       "3  definitive  decreased gene product level; altered gene pro...   \n",
       "4  definitive  decreased gene product level; altered gene pro...   \n",
       "\n",
       "                                       variant_types molecular_mechanism  \\\n",
       "0  missense_variant; inframe_insertion; inframe_d...        undetermined   \n",
       "1  missense_variant; inframe_deletion; inframe_in...        undetermined   \n",
       "2  stop_gained; frameshift_variant; NMD_triggerin...        undetermined   \n",
       "3  stop_gained; frameshift_variant; NMD_triggerin...        undetermined   \n",
       "4  stop_gained; frameshift_variant; splice_accept...        undetermined   \n",
       "\n",
       "  molecular_mechanism_categorisation molecular_mechanism_evidence  \\\n",
       "0                           inferred                          NaN   \n",
       "1                           inferred                          NaN   \n",
       "2                           inferred                          NaN   \n",
       "3                           inferred                          NaN   \n",
       "4                           inferred                          NaN   \n",
       "\n",
       "                                          phenotypes  \\\n",
       "0     HP:0001657; HP:0001279; HP:0000007; HP:0000407   \n",
       "1  HP:0001709; HP:0000957; HP:0004409; HP:0001639...   \n",
       "2                                                NaN   \n",
       "3                                                NaN   \n",
       "4                                                NaN   \n",
       "\n",
       "                                        publications  \\\n",
       "0                                           30461122   \n",
       "1  27484170; 26377839; 25917897; 25884655; 248207...   \n",
       "2  31028357; 23911551; 21636032; 33831308; 263105...   \n",
       "3  31028357; 23911551; 21636032; 33831308; 263105...   \n",
       "4  21636032; 33831308; 33917638; 34400560; 240707...   \n",
       "\n",
       "                                               panel  \\\n",
       "0         Developmental disorders; Cardiac disorders   \n",
       "1  Developmental disorders; Skin disorders; Cardi...   \n",
       "2                                  Cardiac disorders   \n",
       "3                                  Cardiac disorders   \n",
       "4                                  Cardiac disorders   \n",
       "\n",
       "                                            comments  \\\n",
       "0  KCNE1-related JLNS is due to altered gene prod...   \n",
       "1  Expert review done on 12/01/2022; Noonan syndr...   \n",
       "2  Expert review done on 05/01/2022; DSC2-related...   \n",
       "3  Expert review done on 05/01/2022; DSC2-related...   \n",
       "4  Expert review done on 05/01/2022; DSG2-related...   \n",
       "\n",
       "        date_of_last_review  \\\n",
       "0 2024-04-05 12:05:01+00:00   \n",
       "1 2025-01-21 14:56:43+00:00   \n",
       "2 2024-03-20 09:36:09+00:00   \n",
       "3 2024-03-20 09:35:19+00:00   \n",
       "4 2024-03-20 09:40:18+00:00   \n",
       "\n",
       "                                      g2p_record_url gene_nodenorm_id  \\\n",
       "0  https://www.ebi.ac.uk/gene2phenotype/lgd/G2P00124    NCBIGene:3753   \n",
       "1  https://www.ebi.ac.uk/gene2phenotype/lgd/G2P00841    NCBIGene:5781   \n",
       "2  https://www.ebi.ac.uk/gene2phenotype/lgd/G2P03247    NCBIGene:1824   \n",
       "3  https://www.ebi.ac.uk/gene2phenotype/lgd/G2P03248    NCBIGene:1824   \n",
       "4  https://www.ebi.ac.uk/gene2phenotype/lgd/G2P03249    NCBIGene:1829   \n",
       "\n",
       "  gene_nodenorm_label disease_nodenorm_id  \\\n",
       "0               KCNE1       MONDO:0012871   \n",
       "1              PTPN11       MONDO:0100082   \n",
       "2                DSC2                <NA>   \n",
       "3                DSC2                <NA>   \n",
       "4                DSG2                <NA>   \n",
       "\n",
       "                 disease_nodenorm_label  \n",
       "0  Jervell and Lange-Nielsen syndrome 2  \n",
       "1                    LEOPARD syndrome 1  \n",
       "2                                  <NA>  \n",
       "3                                  <NA>  \n",
       "4                                  <NA>  "
      ]
     },
     "execution_count": 65,
     "metadata": {},
     "output_type": "execute_result"
    }
   ],
   "source": [
    "df.head()"
   ]
  },
  {
   "cell_type": "code",
   "execution_count": 66,
   "id": "caee28a8",
   "metadata": {
    "ExecuteTime": {
     "end_time": "2025-07-18T09:38:16.514825Z",
     "start_time": "2025-07-18T09:38:16.504840Z"
    }
   },
   "outputs": [],
   "source": [
    "## put into parser (change in-place): DONE\n",
    "\n",
    "df_only_nodenormed = df.dropna(subset=[\"gene_nodenorm_id\", \"gene_nodenorm_label\", \n",
    "                                       \"disease_nodenorm_id\", \"disease_nodenorm_label\"],\n",
    "                              ignore_index=True).copy()"
   ]
  },
  {
   "cell_type": "code",
   "execution_count": 67,
   "id": "4fc8d268",
   "metadata": {
    "ExecuteTime": {
     "end_time": "2025-07-18T09:38:17.222279Z",
     "start_time": "2025-07-18T09:38:17.216651Z"
    }
   },
   "outputs": [
    {
     "data": {
      "text/plain": [
       "(2935, 26)"
      ]
     },
     "execution_count": 67,
     "metadata": {},
     "output_type": "execute_result"
    },
    {
     "data": {
      "text/plain": [
       "2935"
      ]
     },
     "execution_count": 67,
     "metadata": {},
     "output_type": "execute_result"
    }
   ],
   "source": [
    "## same! so it works as expected\n",
    "\n",
    "df_only_nodenormed.shape\n",
    "\n",
    "n_rows_after_nodenorm"
   ]
  },
  {
   "cell_type": "code",
   "execution_count": 68,
   "id": "0c05d470",
   "metadata": {
    "ExecuteTime": {
     "end_time": "2025-07-18T09:38:21.626118Z",
     "start_time": "2025-07-18T09:38:21.594121Z"
    }
   },
   "outputs": [
    {
     "name": "stdout",
     "output_type": "stream",
     "text": [
      "<class 'pandas.core.frame.DataFrame'>\n",
      "RangeIndex: 2935 entries, 0 to 2934\n",
      "Data columns (total 26 columns):\n",
      " #   Column                              Non-Null Count  Dtype              \n",
      "---  ------                              --------------  -----              \n",
      " 0   g2p_id                              2935 non-null   object             \n",
      " 1   gene_symbol                         2935 non-null   object             \n",
      " 2   gene_mim                            2935 non-null   object             \n",
      " 3   hgnc_id                             2935 non-null   object             \n",
      " 4   previous_gene_symbols               2710 non-null   object             \n",
      " 5   disease_name                        2935 non-null   object             \n",
      " 6   disease_mim                         2935 non-null   object             \n",
      " 7   disease_MONDO                       1755 non-null   object             \n",
      " 8   allelic_requirement                 2935 non-null   object             \n",
      " 9   cross_cutting_modifier              313 non-null    object             \n",
      " 10  confidence                          2935 non-null   object             \n",
      " 11  variant_consequence                 2921 non-null   object             \n",
      " 12  variant_types                       681 non-null    object             \n",
      " 13  molecular_mechanism                 2935 non-null   object             \n",
      " 14  molecular_mechanism_categorisation  2935 non-null   object             \n",
      " 15  molecular_mechanism_evidence        36 non-null     object             \n",
      " 16  phenotypes                          2112 non-null   object             \n",
      " 17  publications                        2628 non-null   object             \n",
      " 18  panel                               2935 non-null   object             \n",
      " 19  comments                            26 non-null     object             \n",
      " 20  date_of_last_review                 2935 non-null   datetime64[ns, UTC]\n",
      " 21  g2p_record_url                      2935 non-null   object             \n",
      " 22  gene_nodenorm_id                    2935 non-null   object             \n",
      " 23  gene_nodenorm_label                 2935 non-null   object             \n",
      " 24  disease_nodenorm_id                 2935 non-null   object             \n",
      " 25  disease_nodenorm_label              2935 non-null   object             \n",
      "dtypes: datetime64[ns, UTC](1), object(25)\n",
      "memory usage: 4.8 MB\n"
     ]
    }
   ],
   "source": [
    "df_only_nodenormed.info(memory_usage=\"deep\")"
   ]
  },
  {
   "cell_type": "code",
   "execution_count": null,
   "id": "29b50f05",
   "metadata": {},
   "outputs": [],
   "source": [
    "df_textmining_nodenorm_dups = df_textmining[\n",
    "    df_textmining.duplicated(\n",
    "        subset=[\"gene_nodenorm_id\", \"disease_nodenorm_id\"], \n",
    "        keep=False)].copy()\n",
    "\n",
    "df_textmining_nodenorm_dups.sort_values(by=[\"disease_nodenorm_id\", \"gene_nodenorm_id\"],\n",
    "                                        inplace=True)\n",
    "\n",
    "df_textmining_nodenorm_dups.shape\n",
    "\n",
    "df_textmining_nodenorm_dups"
   ]
  },
  {
   "cell_type": "code",
   "execution_count": null,
   "id": "40f338bb",
   "metadata": {},
   "outputs": [],
   "source": []
  },
  {
   "cell_type": "markdown",
   "id": "38ebbe59",
   "metadata": {},
   "source": [
    "## Generating documents"
   ]
  },
  {
   "cell_type": "markdown",
   "id": "9f01e8af",
   "metadata": {},
   "source": [
    "### Rows not included"
   ]
  },
  {
   "cell_type": "markdown",
   "id": "73e93ccc",
   "metadata": {},
   "source": [
    "<div class=\"alert alert-block alert-info\">\n",
    "\n",
    "See section \"Stats on rows removed during NodeNorming\"\n",
    "* No IDs in disease_mim column for now (need to re-analyze what happens during NodeNorm)\n",
    "* NodeNorm mapping failures for disease_mim column IDs \n",
    "* confidence column value == \"refuted\" or \"disputed\""
   ]
  },
  {
   "cell_type": "markdown",
   "id": "79ebea07",
   "metadata": {},
   "source": [
    "### Columns not included"
   ]
  },
  {
   "cell_type": "markdown",
   "id": "c0c7b27e",
   "metadata": {},
   "source": [
    "<div class=\"alert alert-block alert-info\">\n",
    "\n",
    "See data-playground for details\n",
    "\n",
    "<br>\n",
    "\n",
    "Seem **easier** to get into Translator, potentially useful: \n",
    "\n",
    "- disease_MONDO\n",
    "- **confidence**: \n",
    "   - there's biolink association-slot *has confidence level*. But there's also a biolink entity *confidence level* that's supposed to have values from CIO. \n",
    "   - Are G2P's terms okay? Or are they supposed to be mapped to ontology terms like CIO/SEPIO?-(which...may be a loss of info compared to G2P's term definitions)\n",
    "- **allelic_requirement**: I thought there was a biolink-term to put this on an edge, but I can't find it now. The values can be converted into HPO \"mode of inheritance terms\" if necessary (see data-playground notebook for mapping table)\n",
    "\n",
    "<br>\n",
    "\n",
    "Seem harder to get into Translator, potentially useful: \n",
    "- **molecular_mechanism_categorisation**: \"qualifies\" the molecular_mechanism (seems to say how molecular mechanism was decided: \"inferred\" or \"evidence\").\n",
    "  - tricky since it's like \"how knowledge was obtained\" for a specific part of edge (I'm using molecular_mechanism to adjust the subject qualifier) \n",
    "- **cross_cutting_modifier**: additional info on inheritance. Limited set of terms BUT \"; \"- delimited. Some terms may map to \"HPO inheritance qualifier terms\" (didn't try). Lots of missing data (NA). \n",
    "  - would be a new edge/node property or qualifier. But complicated because EBI gene2pheno has custom terms, not just from HPO inheritance qualifiers. \n",
    "- **variant_consequence**: row can have multiple values (\"; \"- delimited). Limited set of terms already mapped to SO.\n",
    "  - seems like aspect qualifier, but this can be a list for a gene-disease edge - and I'm not sure how to handle this (not that comfortable splitting into multiple edges)\n",
    "- **variant_types**: row can have multiple values (\"; \"- delimited). Medium set of terms already mapped to SO. Lots of missing data (NA)\n",
    "  - would be a new edge/node property or qualifier (somewhat modeled as predicates, for variant-gene relationships).\n",
    "- **molecular_mechanism_evidence**: treat as free text? very complicated string \n",
    "- **comments**: treat as free text\n",
    "    \n",
    "<br>\n",
    "\n",
    "Can ignore: \n",
    "- gene_mim\n",
    "- gene_symbol\n",
    "- previous_gene_symbols\n",
    "- disease_name\n",
    "- phenotypes: \"reported by the publication\". Unclear how they fit in gene-disease association or a diff edge (gene-phenotype, phenotype-disease)\n",
    "- panel: pretty specific, original resource's way of organizing data"
   ]
  },
  {
   "cell_type": "code",
   "execution_count": 69,
   "id": "fa6343ac",
   "metadata": {
    "ExecuteTime": {
     "end_time": "2025-07-18T09:44:16.297018Z",
     "start_time": "2025-07-18T09:44:16.290667Z"
    },
    "scrolled": true
   },
   "outputs": [
    {
     "data": {
      "text/plain": [
       "molecular_mechanism\n",
       "loss of function                     2206\n",
       "undetermined                         1179\n",
       "gain of function                      186\n",
       "dominant negative                     131\n",
       "undetermined non-loss-of-function       4\n",
       "Name: count, dtype: int64"
      ]
     },
     "execution_count": 69,
     "metadata": {},
     "output_type": "execute_result"
    }
   ],
   "source": [
    "## code chunk to review data\n",
    "\n",
    "df[\"molecular_mechanism\"].value_counts()"
   ]
  },
  {
   "cell_type": "code",
   "execution_count": 70,
   "id": "af5d0f3f",
   "metadata": {
    "ExecuteTime": {
     "end_time": "2025-07-18T09:44:26.694341Z",
     "start_time": "2025-07-18T09:44:26.675541Z"
    }
   },
   "outputs": [
    {
     "data": {
      "text/html": [
       "<div>\n",
       "<style scoped>\n",
       "    .dataframe tbody tr th:only-of-type {\n",
       "        vertical-align: middle;\n",
       "    }\n",
       "\n",
       "    .dataframe tbody tr th {\n",
       "        vertical-align: top;\n",
       "    }\n",
       "\n",
       "    .dataframe thead th {\n",
       "        text-align: right;\n",
       "    }\n",
       "</style>\n",
       "<table border=\"1\" class=\"dataframe\">\n",
       "  <thead>\n",
       "    <tr style=\"text-align: right;\">\n",
       "      <th></th>\n",
       "      <th>g2p_id</th>\n",
       "      <th>gene_symbol</th>\n",
       "      <th>gene_mim</th>\n",
       "      <th>hgnc_id</th>\n",
       "      <th>previous_gene_symbols</th>\n",
       "      <th>disease_name</th>\n",
       "      <th>disease_mim</th>\n",
       "      <th>disease_MONDO</th>\n",
       "      <th>allelic_requirement</th>\n",
       "      <th>cross_cutting_modifier</th>\n",
       "      <th>confidence</th>\n",
       "      <th>variant_consequence</th>\n",
       "      <th>variant_types</th>\n",
       "      <th>molecular_mechanism</th>\n",
       "      <th>molecular_mechanism_categorisation</th>\n",
       "      <th>molecular_mechanism_evidence</th>\n",
       "      <th>phenotypes</th>\n",
       "      <th>publications</th>\n",
       "      <th>panel</th>\n",
       "      <th>comments</th>\n",
       "      <th>date_of_last_review</th>\n",
       "      <th>g2p_record_url</th>\n",
       "      <th>gene_nodenorm_id</th>\n",
       "      <th>gene_nodenorm_label</th>\n",
       "      <th>disease_nodenorm_id</th>\n",
       "      <th>disease_nodenorm_label</th>\n",
       "    </tr>\n",
       "  </thead>\n",
       "  <tbody>\n",
       "    <tr>\n",
       "      <th>3258</th>\n",
       "      <td>G2P03538</td>\n",
       "      <td>NPAT</td>\n",
       "      <td>OMIM:601448</td>\n",
       "      <td>HGNC:7896</td>\n",
       "      <td>E14; P220</td>\n",
       "      <td>NPAT-related cancer</td>\n",
       "      <td>NaN</td>\n",
       "      <td>NaN</td>\n",
       "      <td>monoallelic_autosomal</td>\n",
       "      <td>NaN</td>\n",
       "      <td>moderate</td>\n",
       "      <td>decreased gene product level</td>\n",
       "      <td>stop_gained</td>\n",
       "      <td>loss of function</td>\n",
       "      <td>inferred</td>\n",
       "      <td>NaN</td>\n",
       "      <td>NaN</td>\n",
       "      <td>38778081</td>\n",
       "      <td>Cancer disorders</td>\n",
       "      <td>NaN</td>\n",
       "      <td>2025-03-14 12:04:00+00:00</td>\n",
       "      <td>https://www.ebi.ac.uk/gene2phenotype/lgd/G2P03538</td>\n",
       "      <td>NCBIGene:4863</td>\n",
       "      <td>NPAT</td>\n",
       "      <td>&lt;NA&gt;</td>\n",
       "      <td>&lt;NA&gt;</td>\n",
       "    </tr>\n",
       "  </tbody>\n",
       "</table>\n",
       "</div>"
      ],
      "text/plain": [
       "        g2p_id gene_symbol     gene_mim    hgnc_id previous_gene_symbols  \\\n",
       "3258  G2P03538        NPAT  OMIM:601448  HGNC:7896             E14; P220   \n",
       "\n",
       "             disease_name disease_mim disease_MONDO    allelic_requirement  \\\n",
       "3258  NPAT-related cancer         NaN           NaN  monoallelic_autosomal   \n",
       "\n",
       "     cross_cutting_modifier confidence           variant_consequence  \\\n",
       "3258                    NaN   moderate  decreased gene product level   \n",
       "\n",
       "     variant_types molecular_mechanism molecular_mechanism_categorisation  \\\n",
       "3258   stop_gained    loss of function                           inferred   \n",
       "\n",
       "     molecular_mechanism_evidence phenotypes publications             panel  \\\n",
       "3258                          NaN        NaN     38778081  Cancer disorders   \n",
       "\n",
       "     comments       date_of_last_review  \\\n",
       "3258      NaN 2025-03-14 12:04:00+00:00   \n",
       "\n",
       "                                         g2p_record_url gene_nodenorm_id  \\\n",
       "3258  https://www.ebi.ac.uk/gene2phenotype/lgd/G2P03538    NCBIGene:4863   \n",
       "\n",
       "     gene_nodenorm_label disease_nodenorm_id disease_nodenorm_label  \n",
       "3258                NPAT                <NA>                   <NA>  "
      ]
     },
     "execution_count": 70,
     "metadata": {},
     "output_type": "execute_result"
    }
   ],
   "source": [
    "## code chunk to review data\n",
    "## checking date of last review\n",
    "\n",
    "df[df[\"g2p_id\"] == \"G2P03538\"]"
   ]
  },
  {
   "cell_type": "code",
   "execution_count": 71,
   "id": "7590582d",
   "metadata": {
    "ExecuteTime": {
     "end_time": "2025-07-18T09:44:34.168584Z",
     "start_time": "2025-07-18T09:44:34.162885Z"
    }
   },
   "outputs": [
    {
     "data": {
      "text/plain": [
       "molecular_mechanism_evidence\n",
       "34965576 -> models: non-human model organism                                                                                         2\n",
       "37126546 -> models: non-human model organism; rescue: non-human model organism                                                       2\n",
       "39480921 -> function: protein expression; models: non-human model organism                                                           2\n",
       "37352860 -> functional_alteration: non patient cells; models: non-human model organism                                               1\n",
       "10611230 -> function: biochemical, protein expression; functional_alteration: non patient cells; models: non-human model organism    1\n",
       "Name: count, dtype: int64"
      ]
     },
     "execution_count": 71,
     "metadata": {},
     "output_type": "execute_result"
    }
   ],
   "source": [
    "## code chunk to review data\n",
    "\n",
    "df[\"molecular_mechanism_evidence\"].value_counts()[0:5]\n",
    "\n",
    "## df.info()"
   ]
  },
  {
   "cell_type": "markdown",
   "id": "49145525",
   "metadata": {
    "heading_collapsed": true
   },
   "source": [
    "### BioThings-type parser "
   ]
  },
  {
   "cell_type": "markdown",
   "id": "c4bb90d5",
   "metadata": {
    "hidden": true
   },
   "source": [
    "Includes `_id` set to g2p_id value"
   ]
  },
  {
   "cell_type": "code",
   "execution_count": null,
   "id": "1bea6afb",
   "metadata": {
    "ExecuteTime": {
     "end_time": "2025-05-21T06:44:13.504311Z",
     "start_time": "2025-05-21T06:44:13.493109Z"
    },
    "hidden": true
   },
   "outputs": [],
   "source": [
    "## code chunk for testing parts of inner code\n",
    "\n",
    "for row in df.itertuples(index=False):\n",
    "    document = {\n",
    "        \"_id\": row.g2p_id,\n",
    "        \"subject\": row.gene_nodenorm_id,\n",
    "        \"sources\": [\n",
    "            {\n",
    "                \"resource_id\": \"infores:ebi-gene2phenotype\",\n",
    "                \"resource_role\": \"primary_knowledge_source\",\n",
    "                \"source_record_urls\": [row.g2p_record_url]\n",
    "            }\n",
    "        ],\n",
    "        \"attributes\": [\n",
    "            {\n",
    "                \"attribute_type_id\": \"biolink:original_subject\",\n",
    "                \"value\": row.hgnc_id\n",
    "            }\n",
    "        ]\n",
    "    }\n",
    "    if pd.notna(row.publications):\n",
    "        document[\"attributes\"].append(\n",
    "            {\n",
    "                \"attribute_type_id\": \"biolink:publications\",\n",
    "                \"value\": [\"PMID:\" + i.strip() for i in row.publications.split(\";\")]\n",
    "            }\n",
    "        )\n",
    "    document\n",
    "    break"
   ]
  },
  {
   "cell_type": "code",
   "execution_count": null,
   "id": "4692267d",
   "metadata": {
    "ExecuteTime": {
     "end_time": "2025-05-21T06:44:13.561125Z",
     "start_time": "2025-05-21T06:44:13.506827Z"
    },
    "hidden": true
   },
   "outputs": [],
   "source": [
    "## put into parser (format): DONE\n",
    "##   don't save in array, yield each document instead\n",
    "\n",
    "## GENERATING DOCS, saving in array\n",
    "documents = []\n",
    "\n",
    "## using itertuples because it's faster, preserves datatypes\n",
    "for row in df_only_nodenormed.itertuples(index=False):\n",
    "    ## simple assignments: no NA or \"if\"\n",
    "    document = {\n",
    "        \"_id\": row.g2p_id,\n",
    "        \"subject\": row.gene_nodenorm_id,\n",
    "        \"qualifiers\": [  ## needs data-modeling/TRAPI validation review\n",
    "            {\n",
    "                \"qualifier_type_id\": \"biolink:subject_form_or_variant_qualifier\",\n",
    "                \"qualifier_value\": \"genetic_variant_form\"\n",
    "            }\n",
    "        ],\n",
    "        \"object\": row.disease_nodenorm_id,\n",
    "        \"sources\": [\n",
    "            {\n",
    "                \"resource_id\": \"infores:ebi-gene2phenotype\",\n",
    "                \"resource_role\": \"primary_knowledge_source\",\n",
    "                \"source_record_urls\": [row.g2p_record_url]\n",
    "            }\n",
    "        ],\n",
    "        \"attributes\": [\n",
    "            {\n",
    "                \"attribute_type_id\": \"biolink:knowledge_level\",\n",
    "                \"value\": \"knowledge_assertion\"\n",
    "            },\n",
    "            {\n",
    "                \"attribute_type_id\": \"biolink:agent_type\",\n",
    "                \"value\": \"manual_agent\"\n",
    "            },\n",
    "            {\n",
    "                \"attribute_type_id\": \"biolink:original_subject\",\n",
    "                \"original_attribute_name\": \"hgnc id\",  ## original column name\n",
    "                \"value\": row.hgnc_id\n",
    "            },\n",
    "            {   ## currently, after NodeNorming, no NAs in OMIM/orphanet column\n",
    "                \"attribute_type_id\": \"biolink:original_object\",\n",
    "                \"original_attribute_name\": \"disease mim\",  ## original column name\n",
    "                \"value\": row.disease_mim\n",
    "            },\n",
    "            {   ## needs data-modeling/TRAPI validation review\n",
    "                ## EBI gene2pheno website calls this \"Last Updated\"/\"Last Updated On\"\n",
    "                \"attribute_type_id\": \"biolink:update_date\",\n",
    "                \"original_attribute_name\": \"date of last review\",  ## original column name\n",
    "                \"value\": str(row.date_of_last_review)\n",
    "            },\n",
    "        ]\n",
    "    }\n",
    "    \n",
    "    ## more complex assignments (\"if\", handling NA). When value is NA, list comprehension with split won't work\n",
    "    ## predicate\n",
    "    if row.confidence == \"limited\":\n",
    "        document[\"predicate\"] = \"biolink:related_to\"\n",
    "    elif row.confidence in [\"moderate\", \"strong\", \"definitive\"]:\n",
    "        document[\"predicate\"] = \"biolink:causes\"\n",
    "    else:\n",
    "        raise ValueError(f\"Unexpected confidence value during predicate mapping: {row.confidence}. Adjust parser.\")\n",
    "    ## publications\n",
    "    if pd.notna(row.publications):\n",
    "        document[\"attributes\"].append(\n",
    "            {\n",
    "                \"attribute_type_id\": \"biolink:publications\",\n",
    "                \"value\": [\"PMID:\" + i.strip() for i in row.publications.split(\";\")]\n",
    "            }\n",
    "        )\n",
    "    \n",
    "    documents.append(document)"
   ]
  },
  {
   "cell_type": "markdown",
   "id": "5b6df62f",
   "metadata": {},
   "source": [
    "### File: List of TRAPI edges"
   ]
  },
  {
   "cell_type": "markdown",
   "id": "75e81061",
   "metadata": {},
   "source": [
    "This code isn't in parser.py\n",
    "\n",
    "Doesn't have `_id`! Doesn't include original_attribute_name for original_subject, original_object, update_date."
   ]
  },
  {
   "cell_type": "code",
   "execution_count": 72,
   "id": "91f8b636",
   "metadata": {
    "ExecuteTime": {
     "end_time": "2025-07-18T09:44:50.027286Z",
     "start_time": "2025-07-18T09:44:49.961117Z"
    }
   },
   "outputs": [],
   "source": [
    "## want jsonlines format\n",
    "\n",
    "import jsonlines"
   ]
  },
  {
   "cell_type": "code",
   "execution_count": 73,
   "id": "cbd8b840",
   "metadata": {
    "ExecuteTime": {
     "end_time": "2025-07-18T09:45:55.889395Z",
     "start_time": "2025-07-18T09:45:55.885106Z"
    }
   },
   "outputs": [
    {
     "data": {
      "text/plain": [
       "Index(['g2p_id', 'gene_symbol', 'gene_mim', 'hgnc_id', 'previous_gene_symbols',\n",
       "       'disease_name', 'disease_mim', 'disease_MONDO', 'allelic_requirement',\n",
       "       'cross_cutting_modifier', 'confidence', 'variant_consequence',\n",
       "       'variant_types', 'molecular_mechanism',\n",
       "       'molecular_mechanism_categorisation', 'molecular_mechanism_evidence',\n",
       "       'phenotypes', 'publications', 'panel', 'comments',\n",
       "       'date_of_last_review', 'g2p_record_url', 'gene_nodenorm_id',\n",
       "       'gene_nodenorm_label', 'disease_nodenorm_id', 'disease_nodenorm_label'],\n",
       "      dtype='object')"
      ]
     },
     "execution_count": 73,
     "metadata": {},
     "output_type": "execute_result"
    }
   ],
   "source": [
    "df_only_nodenormed.columns"
   ]
  },
  {
   "cell_type": "code",
   "execution_count": 74,
   "id": "635c4f44",
   "metadata": {
    "ExecuteTime": {
     "end_time": "2025-07-18T09:56:07.419769Z",
     "start_time": "2025-07-18T09:56:07.253443Z"
    }
   },
   "outputs": [],
   "source": [
    "## wrapped with file writer, otherwise contents very similar to before\n",
    "## commented out original_attribute_name\n",
    "\n",
    "with jsonlines.open('EBIgene2pheno_trapi_edges.jsonl', mode='w', compact=True) as trapi_writer:\n",
    "\n",
    "    ## using itertuples because it's faster, preserves datatypes\n",
    "    for row in df_only_nodenormed.itertuples(index=False):\n",
    "        \n",
    "        ## simple assignments: no NA or \"if\"\n",
    "        document = {\n",
    "            \"subject\": row.gene_nodenorm_id,\n",
    "            \"object\": row.disease_nodenorm_id,\n",
    "            \"sources\": [\n",
    "                {\n",
    "                    \"resource_id\": \"infores:ebi-gene2phenotype\",\n",
    "                    \"resource_role\": \"primary_knowledge_source\",\n",
    "                    \"source_record_urls\": [row.g2p_record_url]\n",
    "                }\n",
    "            ],\n",
    "            \"attributes\": [\n",
    "                {\n",
    "                    \"attribute_type_id\": \"biolink:knowledge_level\",\n",
    "                    \"value\": \"knowledge_assertion\"\n",
    "                },\n",
    "                {\n",
    "                    \"attribute_type_id\": \"biolink:agent_type\",\n",
    "                    \"value\": \"manual_agent\"\n",
    "                },\n",
    "                {\n",
    "                    \"attribute_type_id\": \"biolink:original_subject\",\n",
    "#                     \"original_attribute_name\": \"hgnc id\",  ## original column name\n",
    "                    \"value\": row.hgnc_id\n",
    "                },\n",
    "                {   ## currently, after NodeNorming, no NAs in OMIM/orphanet column\n",
    "                    \"attribute_type_id\": \"biolink:original_object\",\n",
    "#                     \"original_attribute_name\": \"disease mim\",  ## original column name\n",
    "                    \"value\": row.disease_mim\n",
    "                },\n",
    "                {   ## needs data-modeling/TRAPI validation review\n",
    "                    ## EBI gene2pheno website calls this \"Last Updated\"/\"Last Updated On\"\n",
    "                    \"attribute_type_id\": \"biolink:update_date\",\n",
    "#                     \"original_attribute_name\": \"date of last review\",  ## original column name\n",
    "                    \"value\": str(row.date_of_last_review)\n",
    "                },\n",
    "            ]\n",
    "        }\n",
    "\n",
    "        ## more complex assignments (\"if\", handling NA). When value is NA, list comprehension with split won't work\n",
    "        ## predicate\n",
    "        if row.confidence == \"limited\":\n",
    "            document[\"predicate\"] = \"biolink:related_to\"\n",
    "        elif row.confidence in [\"moderate\", \"strong\", \"definitive\"]:\n",
    "            document[\"predicate\"] = \"biolink:causes\"\n",
    "        else:\n",
    "            raise ValueError(f\"Unexpected confidence value during predicate mapping: {row.confidence}. Adjust parser.\")\n",
    "    \n",
    "        ## publications\n",
    "        if pd.notna(row.publications):\n",
    "            document[\"attributes\"].append(\n",
    "                {\n",
    "                    \"attribute_type_id\": \"biolink:publications\",\n",
    "                    \"value\": [\"PMID:\" + i.strip() for i in row.publications.split(\";\")]\n",
    "                }\n",
    "            )\n",
    "            \n",
    "        ## qualifier\n",
    "        if row.molecular_mechanism == \"loss of function\":\n",
    "            document[\"qualifiers\"] = [\n",
    "                {\n",
    "                    \"qualifier_type_id\": \"biolink:subject_form_or_variant_qualifier\",\n",
    "                    \"qualifier_value\": \"loss_of_function_variant_form\"\n",
    "                }\n",
    "            ]\n",
    "        elif row.molecular_mechanism == \"undetermined\":\n",
    "            document[\"qualifiers\"] = [\n",
    "                {\n",
    "                    \"qualifier_type_id\": \"biolink:subject_form_or_variant_qualifier\",\n",
    "                    \"qualifier_value\": \"genetic_variant_form\"\n",
    "                }\n",
    "            ]\n",
    "        elif row.molecular_mechanism == \"gain of function\":\n",
    "            document[\"qualifiers\"] = [\n",
    "                {\n",
    "                    \"qualifier_type_id\": \"biolink:subject_form_or_variant_qualifier\",\n",
    "                    \"qualifier_value\": \"gain_of_function_variant_form\"\n",
    "                }\n",
    "            ]\n",
    "        elif row.molecular_mechanism == \"dominant negative\":\n",
    "            document[\"qualifiers\"] = [\n",
    "                {\n",
    "                    \"qualifier_type_id\": \"biolink:subject_form_or_variant_qualifier\",\n",
    "                    \"qualifier_value\": \"dominant_negative_variant_form\"\n",
    "                }\n",
    "            ]\n",
    "        elif row.molecular_mechanism == \"undetermined non-loss-of-function\":\n",
    "            document[\"qualifiers\"] = [\n",
    "                {\n",
    "                    \"qualifier_type_id\": \"biolink:subject_form_or_variant_qualifier\",\n",
    "                    \"qualifier_value\": \"non_loss_of_function_variant_form\"\n",
    "                }\n",
    "            ]\n",
    "        else:\n",
    "            raise ValueError(f\"Unexpected molecular_mechanism value during qualifier mapping: {row.molecular_mechanism}. Adjust parser.\")\n",
    "\n",
    "        ## doing so it doesn't print\n",
    "        bytes = trapi_writer.write(document)"
   ]
  },
  {
   "cell_type": "markdown",
   "id": "efed3d53",
   "metadata": {},
   "source": [
    "### File: KGX edges"
   ]
  },
  {
   "cell_type": "markdown",
   "id": "9dfc5604",
   "metadata": {},
   "source": [
    "This code isn't in parser.py\n",
    "\n",
    "Doesn't include original_attribute_name for original_subject, original_object, update_date"
   ]
  },
  {
   "cell_type": "code",
   "execution_count": 75,
   "id": "2c12f9c1",
   "metadata": {
    "ExecuteTime": {
     "end_time": "2025-07-18T10:03:23.750918Z",
     "start_time": "2025-07-18T10:03:23.651567Z"
    }
   },
   "outputs": [],
   "source": [
    "\n",
    "with jsonlines.open('EBIgene2pheno_kgx_edges.jsonl', mode='w', compact=True) as kgx_edges_writer:\n",
    "\n",
    "    ## using itertuples because it's faster, preserves datatypes\n",
    "    for row in df_only_nodenormed.itertuples(index=False):\n",
    "        \n",
    "        ## simple assignments: no NA or \"if\"\n",
    "        document = {\n",
    "            \"subject\": row.gene_nodenorm_id,\n",
    "            \"object\": row.disease_nodenorm_id,\n",
    "            \"sources\": [\n",
    "                {\n",
    "                    \"resource_id\": \"infores:ebi-gene2phenotype\",\n",
    "                    \"resource_role\": \"primary_knowledge_source\",\n",
    "                    \"source_record_urls\": [row.g2p_record_url]\n",
    "                }\n",
    "            ],\n",
    "            \"knowledge_level\": \"knowledge_assertion\",\n",
    "            \"agent_type\": \"manual_agent\",\n",
    "            \"original_subject\": row.hgnc_id,\n",
    "            ## currently, after NodeNorming, no NAs in OMIM/orphanet column\n",
    "            \"original_object\": row.disease_mim,\n",
    "            ## needs data-modeling/TRAPI validation review\n",
    "            ## EBI gene2pheno website calls this \"Last Updated\"/\"Last Updated On\"\n",
    "            \"update_date\": str(row.date_of_last_review),\n",
    "        }\n",
    "\n",
    "        ## more complex assignments (\"if\", handling NA). When value is NA, list comprehension with split won't work\n",
    "        ## predicate\n",
    "        if row.confidence == \"limited\":\n",
    "            document[\"predicate\"] = \"biolink:related_to\"\n",
    "        elif row.confidence in [\"moderate\", \"strong\", \"definitive\"]:\n",
    "            document[\"predicate\"] = \"biolink:causes\"\n",
    "        else:\n",
    "            raise ValueError(f\"Unexpected confidence value during predicate mapping: {row.confidence}. Adjust parser.\")\n",
    "        \n",
    "        ## publications\n",
    "        if pd.notna(row.publications):\n",
    "            document[\"publications\"] = [\"PMID:\" + i.strip() for i in row.publications.split(\";\")]\n",
    "\n",
    "        ## qualifier\n",
    "        if row.molecular_mechanism == \"loss of function\":\n",
    "            document[\"subject_form_or_variant_qualifier\"] = \"loss_of_function_variant_form\"\n",
    "        elif row.molecular_mechanism == \"undetermined\":\n",
    "            document[\"subject_form_or_variant_qualifier\"] = \"genetic_variant_form\"\n",
    "        elif row.molecular_mechanism == \"gain of function\":\n",
    "            document[\"subject_form_or_variant_qualifier\"] = \"gain_of_function_variant_form\"\n",
    "        elif row.molecular_mechanism == \"dominant negative\":\n",
    "            document[\"subject_form_or_variant_qualifier\"] = \"dominant_negative_variant_form\"\n",
    "        elif row.molecular_mechanism == \"undetermined non-loss-of-function\":\n",
    "            document[\"subject_form_or_variant_qualifier\"] = \"non_loss_of_function_variant_form\"\n",
    "        else:\n",
    "            raise ValueError(f\"Unexpected molecular_mechanism value during qualifier mapping: {row.molecular_mechanism}. Adjust parser.\")\n",
    "\n",
    "            \n",
    "        ## doing so it doesn't print\n",
    "        bytes = kgx_edges_writer.write(document)"
   ]
  },
  {
   "cell_type": "markdown",
   "id": "cb2b5d7c",
   "metadata": {},
   "source": [
    "### File: KGX nodes"
   ]
  },
  {
   "cell_type": "markdown",
   "id": "3c7639ad",
   "metadata": {},
   "source": [
    "This code isn't in parser.py\n",
    "\n",
    "Requires id and category. name and other properties (basically node attributes) are optional. "
   ]
  },
  {
   "cell_type": "code",
   "execution_count": 76,
   "id": "a7b0c3de",
   "metadata": {
    "ExecuteTime": {
     "end_time": "2025-07-18T10:04:23.291683Z",
     "start_time": "2025-07-18T10:04:23.272399Z"
    }
   },
   "outputs": [
    {
     "data": {
      "text/html": [
       "<div>\n",
       "<style scoped>\n",
       "    .dataframe tbody tr th:only-of-type {\n",
       "        vertical-align: middle;\n",
       "    }\n",
       "\n",
       "    .dataframe tbody tr th {\n",
       "        vertical-align: top;\n",
       "    }\n",
       "\n",
       "    .dataframe thead th {\n",
       "        text-align: right;\n",
       "    }\n",
       "</style>\n",
       "<table border=\"1\" class=\"dataframe\">\n",
       "  <thead>\n",
       "    <tr style=\"text-align: right;\">\n",
       "      <th></th>\n",
       "      <th>gene_nodenorm_id</th>\n",
       "      <th>gene_nodenorm_label</th>\n",
       "    </tr>\n",
       "  </thead>\n",
       "  <tbody>\n",
       "    <tr>\n",
       "      <th>0</th>\n",
       "      <td>NCBIGene:3753</td>\n",
       "      <td>KCNE1</td>\n",
       "    </tr>\n",
       "    <tr>\n",
       "      <th>1</th>\n",
       "      <td>NCBIGene:5781</td>\n",
       "      <td>PTPN11</td>\n",
       "    </tr>\n",
       "    <tr>\n",
       "      <th>2</th>\n",
       "      <td>NCBIGene:3728</td>\n",
       "      <td>JUP</td>\n",
       "    </tr>\n",
       "    <tr>\n",
       "      <th>3</th>\n",
       "      <td>NCBIGene:801</td>\n",
       "      <td>CALM1</td>\n",
       "    </tr>\n",
       "    <tr>\n",
       "      <th>4</th>\n",
       "      <td>NCBIGene:2273</td>\n",
       "      <td>FHL1</td>\n",
       "    </tr>\n",
       "    <tr>\n",
       "      <th>...</th>\n",
       "      <td>...</td>\n",
       "      <td>...</td>\n",
       "    </tr>\n",
       "    <tr>\n",
       "      <th>2926</th>\n",
       "      <td>NCBIGene:374462</td>\n",
       "      <td>PTPRQ</td>\n",
       "    </tr>\n",
       "    <tr>\n",
       "      <th>2927</th>\n",
       "      <td>NCBIGene:5269</td>\n",
       "      <td>SERPINB6</td>\n",
       "    </tr>\n",
       "    <tr>\n",
       "      <th>2928</th>\n",
       "      <td>NCBIGene:7007</td>\n",
       "      <td>TECTA</td>\n",
       "    </tr>\n",
       "    <tr>\n",
       "      <th>2930</th>\n",
       "      <td>NCBIGene:286262</td>\n",
       "      <td>TPRN</td>\n",
       "    </tr>\n",
       "    <tr>\n",
       "      <th>2931</th>\n",
       "      <td>NCBIGene:51475</td>\n",
       "      <td>CABP2</td>\n",
       "    </tr>\n",
       "  </tbody>\n",
       "</table>\n",
       "<p>2501 rows × 2 columns</p>\n",
       "</div>"
      ],
      "text/plain": [
       "     gene_nodenorm_id gene_nodenorm_label\n",
       "0       NCBIGene:3753               KCNE1\n",
       "1       NCBIGene:5781              PTPN11\n",
       "2       NCBIGene:3728                 JUP\n",
       "3        NCBIGene:801               CALM1\n",
       "4       NCBIGene:2273                FHL1\n",
       "...               ...                 ...\n",
       "2926  NCBIGene:374462               PTPRQ\n",
       "2927    NCBIGene:5269            SERPINB6\n",
       "2928    NCBIGene:7007               TECTA\n",
       "2930  NCBIGene:286262                TPRN\n",
       "2931   NCBIGene:51475               CABP2\n",
       "\n",
       "[2501 rows x 2 columns]"
      ]
     },
     "execution_count": 76,
     "metadata": {},
     "output_type": "execute_result"
    },
    {
     "data": {
      "text/html": [
       "<div>\n",
       "<style scoped>\n",
       "    .dataframe tbody tr th:only-of-type {\n",
       "        vertical-align: middle;\n",
       "    }\n",
       "\n",
       "    .dataframe tbody tr th {\n",
       "        vertical-align: top;\n",
       "    }\n",
       "\n",
       "    .dataframe thead th {\n",
       "        text-align: right;\n",
       "    }\n",
       "</style>\n",
       "<table border=\"1\" class=\"dataframe\">\n",
       "  <thead>\n",
       "    <tr style=\"text-align: right;\">\n",
       "      <th></th>\n",
       "      <th>disease_nodenorm_id</th>\n",
       "      <th>disease_nodenorm_label</th>\n",
       "    </tr>\n",
       "  </thead>\n",
       "  <tbody>\n",
       "    <tr>\n",
       "      <th>0</th>\n",
       "      <td>MONDO:0012871</td>\n",
       "      <td>Jervell and Lange-Nielsen syndrome 2</td>\n",
       "    </tr>\n",
       "    <tr>\n",
       "      <th>1</th>\n",
       "      <td>MONDO:0100082</td>\n",
       "      <td>LEOPARD syndrome 1</td>\n",
       "    </tr>\n",
       "    <tr>\n",
       "      <th>2</th>\n",
       "      <td>MONDO:0011017</td>\n",
       "      <td>Naxos disease</td>\n",
       "    </tr>\n",
       "    <tr>\n",
       "      <th>3</th>\n",
       "      <td>MONDO:0013966</td>\n",
       "      <td>catecholaminergic polymorphic ventricular tach...</td>\n",
       "    </tr>\n",
       "    <tr>\n",
       "      <th>4</th>\n",
       "      <td>MONDO:0010401</td>\n",
       "      <td>X-linked myopathy with postural muscle atrophy</td>\n",
       "    </tr>\n",
       "    <tr>\n",
       "      <th>...</th>\n",
       "      <td>...</td>\n",
       "      <td>...</td>\n",
       "    </tr>\n",
       "    <tr>\n",
       "      <th>2930</th>\n",
       "      <td>MONDO:0013215</td>\n",
       "      <td>autosomal recessive nonsyndromic hearing loss 79</td>\n",
       "    </tr>\n",
       "    <tr>\n",
       "      <th>2931</th>\n",
       "      <td>MONDO:0013963</td>\n",
       "      <td>autosomal recessive nonsyndromic hearing loss 93</td>\n",
       "    </tr>\n",
       "    <tr>\n",
       "      <th>2932</th>\n",
       "      <td>MONDO:0007395</td>\n",
       "      <td>craniofacial-deafness-hand syndrome</td>\n",
       "    </tr>\n",
       "    <tr>\n",
       "      <th>2933</th>\n",
       "      <td>MONDO:0011519</td>\n",
       "      <td>autosomal dominant nonsyndromic hearing loss 23</td>\n",
       "    </tr>\n",
       "    <tr>\n",
       "      <th>2934</th>\n",
       "      <td>MONDO:0011350</td>\n",
       "      <td>autosomal dominant nonsyndromic hearing loss 17</td>\n",
       "    </tr>\n",
       "  </tbody>\n",
       "</table>\n",
       "<p>2823 rows × 2 columns</p>\n",
       "</div>"
      ],
      "text/plain": [
       "     disease_nodenorm_id                             disease_nodenorm_label\n",
       "0          MONDO:0012871               Jervell and Lange-Nielsen syndrome 2\n",
       "1          MONDO:0100082                                 LEOPARD syndrome 1\n",
       "2          MONDO:0011017                                      Naxos disease\n",
       "3          MONDO:0013966  catecholaminergic polymorphic ventricular tach...\n",
       "4          MONDO:0010401     X-linked myopathy with postural muscle atrophy\n",
       "...                  ...                                                ...\n",
       "2930       MONDO:0013215   autosomal recessive nonsyndromic hearing loss 79\n",
       "2931       MONDO:0013963   autosomal recessive nonsyndromic hearing loss 93\n",
       "2932       MONDO:0007395                craniofacial-deafness-hand syndrome\n",
       "2933       MONDO:0011519    autosomal dominant nonsyndromic hearing loss 23\n",
       "2934       MONDO:0011350    autosomal dominant nonsyndromic hearing loss 17\n",
       "\n",
       "[2823 rows x 2 columns]"
      ]
     },
     "execution_count": 76,
     "metadata": {},
     "output_type": "execute_result"
    }
   ],
   "source": [
    "nodenormed_genes_final = df_only_nodenormed[[\"gene_nodenorm_id\", \"gene_nodenorm_label\"]].drop_duplicates()\n",
    "nodenormed_diseases_final = df_only_nodenormed[[\"disease_nodenorm_id\", \"disease_nodenorm_label\"]].drop_duplicates()\n",
    "\n",
    "nodenormed_genes_final\n",
    "nodenormed_diseases_final"
   ]
  },
  {
   "cell_type": "code",
   "execution_count": 77,
   "id": "d071fa84",
   "metadata": {
    "ExecuteTime": {
     "end_time": "2025-07-18T10:04:27.978575Z",
     "start_time": "2025-07-18T10:04:27.910474Z"
    }
   },
   "outputs": [],
   "source": [
    "\n",
    "with jsonlines.open('EBIgene2pheno_kgx_nodes.jsonl', mode='w', compact=True) as kgx_nodes_writer:\n",
    "    \n",
    "    ## using itertuples because it's faster, preserves datatypes\n",
    "    for row in nodenormed_genes_final.itertuples(index=False):\n",
    "        ## doing so it doesn't print\n",
    "        bytes = kgx_nodes_writer.write({\n",
    "            \"id\": row.gene_nodenorm_id,\n",
    "            \"name\": row.gene_nodenorm_label,            \n",
    "            ## hard-coded because during pre-NodeNorm process, only kept entities with this primary category\n",
    "            \"category\": [\"biolink:Gene\"]\n",
    "            \n",
    "        })\n",
    "\n",
    "    ## using itertuples because it's faster, preserves datatypes\n",
    "    for row in nodenormed_diseases_final.itertuples(index=False):\n",
    "        ## doing so it doesn't print\n",
    "        bytes = kgx_nodes_writer.write({\n",
    "            \"id\": row.disease_nodenorm_id,\n",
    "            \"name\": row.disease_nodenorm_label,\n",
    "            ## hard-coded because during pre-NodeNorm process, only kept entities with this primary category\n",
    "            \"category\": [\"biolink:Disease\"]\n",
    "        })"
   ]
  },
  {
   "cell_type": "code",
   "execution_count": 78,
   "id": "f7c77ea9",
   "metadata": {
    "ExecuteTime": {
     "end_time": "2025-07-18T10:04:28.946548Z",
     "start_time": "2025-07-18T10:04:28.942142Z"
    }
   },
   "outputs": [
    {
     "data": {
      "text/plain": [
       "5324"
      ]
     },
     "execution_count": 78,
     "metadata": {},
     "output_type": "execute_result"
    }
   ],
   "source": [
    "nodenormed_genes_final.shape[0] + nodenormed_diseases_final.shape[0]"
   ]
  },
  {
   "cell_type": "markdown",
   "id": "cdd0f4f7",
   "metadata": {},
   "source": [
    "## Checking documents"
   ]
  },
  {
   "cell_type": "code",
   "execution_count": null,
   "id": "0d715012",
   "metadata": {
    "ExecuteTime": {
     "end_time": "2025-05-08T05:38:12.096743Z",
     "start_time": "2025-05-08T05:38:11.739337Z"
    }
   },
   "outputs": [],
   "source": [
    "len(documents)"
   ]
  },
  {
   "cell_type": "code",
   "execution_count": null,
   "id": "482cff53",
   "metadata": {
    "ExecuteTime": {
     "end_time": "2025-04-18T07:02:18.849822Z",
     "start_time": "2025-04-18T07:02:18.838129Z"
    }
   },
   "outputs": [],
   "source": [
    "df_only_nodenormed.info()"
   ]
  },
  {
   "cell_type": "code",
   "execution_count": null,
   "id": "496719ed",
   "metadata": {
    "ExecuteTime": {
     "end_time": "2025-04-18T07:09:23.542231Z",
     "start_time": "2025-04-18T07:09:23.517499Z"
    }
   },
   "outputs": [],
   "source": [
    "## code chunk for finding rows -> then look up corresponding doc by idx\n",
    "# df_only_nodenormed[df_only_nodenormed[\"disease_mim\"].str.contains(\"orphanet\", na=False)]\n",
    "df_only_nodenormed[df_only_nodenormed[\"confidence\"] == \"limited\"]\n",
    "# df_only_nodenormed[df_only_nodenormed[\"publications\"].isna()]\n",
    "# df_only_nodenormed[~df_only_nodenormed[\"publications\"].str.contains(\";\", na=True)]\n",
    "\n",
    "\n",
    "\n",
    "# df_only_nodenormed[df_only_nodenormed[\"previous_gene_symbols\"].isna()]\n",
    "# df_only_nodenormed[df_only_nodenormed[\"disease_MONDO\"].notna()]"
   ]
  },
  {
   "cell_type": "code",
   "execution_count": null,
   "id": "513e415a",
   "metadata": {
    "ExecuteTime": {
     "end_time": "2025-04-18T07:09:57.515947Z",
     "start_time": "2025-04-18T07:09:57.511815Z"
    }
   },
   "outputs": [],
   "source": [
    "pprint(documents[34])\n",
    "\n",
    "# documents[416]"
   ]
  },
  {
   "cell_type": "markdown",
   "id": "c3fb5da8",
   "metadata": {},
   "source": [
    "## BioThings Parser notes"
   ]
  },
  {
   "cell_type": "markdown",
   "id": "8ebfd610",
   "metadata": {},
   "source": [
    "Fine to use raise/assert in parser (raise is technically better programming behavior: https://realpython.com/python-assert-statement/#understanding-common-pitfalls-of-assert)\n",
    "\n",
    "\n",
    "My notes on parser:\n",
    "* adding prefixes to gene/disease IDs is good for pre-NodeNorming steps\n",
    "* keeping diff gene/disease ID namespaces as separate fields right now is good for current BTE/x-bte-annotation system\n",
    "  * Also, original subject will always be HGNC, original object will always be disease OMIM with current code\n",
    "\n",
    "\n",
    "My notes on syntax:\n",
    "* use `yield` when you want to \"return\" within a \"for loop\" (return only happen once, then exit for-loop/function execution)\n",
    "  * that's what it's used in main execution, when you're iterating over csv rows to generate documents\n",
    "* use `yield from {function}` to get the data from a generator (created by `yield` being used the function)"
   ]
  },
  {
   "cell_type": "code",
   "execution_count": null,
   "id": "2d34c282",
   "metadata": {},
   "outputs": [],
   "source": []
  }
 ],
 "metadata": {
  "kernelspec": {
   "display_name": "Python 3 (ipykernel)",
   "language": "python",
   "name": "python3"
  },
  "language_info": {
   "codemirror_mode": {
    "name": "ipython",
    "version": 3
   },
   "file_extension": ".py",
   "mimetype": "text/x-python",
   "name": "python",
   "nbconvert_exporter": "python",
   "pygments_lexer": "ipython3",
   "version": "3.12.9"
  },
  "toc": {
   "base_numbering": 1,
   "nav_menu": {
    "height": "400px",
    "width": "290px"
   },
   "number_sections": false,
   "sideBar": true,
   "skip_h1_title": true,
   "title_cell": "Table of Contents",
   "title_sidebar": "Contents",
   "toc_cell": true,
   "toc_position": {
    "height": "calc(100% - 180px)",
    "left": "10px",
    "top": "150px",
    "width": "258.15px"
   },
   "toc_section_display": true,
   "toc_window_display": false
  }
 },
 "nbformat": 4,
 "nbformat_minor": 5
}
