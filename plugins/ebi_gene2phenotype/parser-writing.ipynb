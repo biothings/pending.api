{
 "cells": [
  {
   "cell_type": "markdown",
   "id": "f18ee197",
   "metadata": {},
   "source": [
    "# Notebook for parser development"
   ]
  },
  {
   "cell_type": "code",
   "execution_count": 1,
   "id": "3573099c",
   "metadata": {
    "ExecuteTime": {
     "end_time": "2025-04-02T07:14:28.996614Z",
     "start_time": "2025-04-02T07:14:28.987442Z"
    }
   },
   "outputs": [],
   "source": [
    "## not for parser. for notebook only \n",
    "\n",
    "## CX: allows multiple lines of code to print from one code block\n",
    "from IPython.core.interactiveshell import InteractiveShell\n",
    "InteractiveShell.ast_node_interactivity = \"all\""
   ]
  },
  {
   "cell_type": "markdown",
   "id": "aa862467",
   "metadata": {},
   "source": [
    "## Loading data"
   ]
  },
  {
   "cell_type": "markdown",
   "id": "96f2ef49",
   "metadata": {},
   "source": [
    "Current approach: loading all files into 1 pandas dataframe. Then I can...\n",
    "1. check the duplicates situation (key columns vs all columns) and raise errors if need be\n",
    "2. remove duplicates before generating documents\n",
    "3. Do some tasks column-wise over all the data, rather than while iterating over rows\n",
    "\n",
    "If I did the generator approach (load files 1 by 1, 1 row at a time), I'd have to modify how I do things:\n",
    "1. Don't do this check/raise errors. But try to mitigate potential \"duplicate\" issues: \n",
    "  * Sort all delimited strings\n",
    "  * Use a hash of all column values (when they're all strings) for `_id`. Want rows with all the same values to produce the same hash\n",
    "2. Either leave to BioThings toolset to remove duplicates, or could use a set of `_id` hashes so far to check/not create duplicate docs.\n",
    "3. Do the tasks on single rows/chunks (pandas [read_csv](https://pandas.pydata.org/docs/reference/api/pandas.read_csv.html#pandas.read_csv) has an iterator for rows/chunks! see iterator/chunksize parameters)\n",
    "\n",
    "\n",
    "Notes:\n",
    "* There are a few existing parsers that use `pandas` to load the entire raw data file at once: https://github.com/search?q=repo%3Abiothings%2Fpending.api%20pandas&type=code\n",
    "* But there are other existing parsers that use `csv` to load the file **one row at a time** (generator): https://github.com/search?q=repo%3Abiothings%2Fpending.api+csv+reader&type=code"
   ]
  },
  {
   "cell_type": "code",
   "execution_count": 2,
   "id": "8325a51e",
   "metadata": {
    "ExecuteTime": {
     "end_time": "2025-04-02T07:14:31.435363Z",
     "start_time": "2025-04-02T07:14:30.968191Z"
    }
   },
   "outputs": [],
   "source": [
    "## put into parser: already done\n",
    "\n",
    "## python 3.12.9\n",
    "import pathlib       ## 1.0.1 \n",
    "import pandas as pd  ## 2.2.3 \n",
    "\n",
    "## don't put in parser. Just for this notebook\n",
    "import glob\n",
    "from pprint import pprint\n",
    "\n",
    "## unsure on putting into parser: more for notebook viewing/debugging...\n",
    "pd.options.display.max_columns = None"
   ]
  },
  {
   "cell_type": "markdown",
   "id": "6bb2b731",
   "metadata": {},
   "source": [
    "Originally written to explore 2025-02-28 release to FTP site "
   ]
  },
  {
   "cell_type": "code",
   "execution_count": 3,
   "id": "63f0a6ac",
   "metadata": {
    "ExecuteTime": {
     "end_time": "2025-04-02T07:14:31.848009Z",
     "start_time": "2025-04-02T07:14:31.835658Z"
    }
   },
   "outputs": [
    {
     "data": {
      "text/plain": [
       "[]"
      ]
     },
     "execution_count": 3,
     "metadata": {},
     "output_type": "execute_result"
    },
    {
     "data": {
      "text/plain": [
       "<generator object Path.glob at 0x10adfa8a0>"
      ]
     },
     "execution_count": 3,
     "metadata": {},
     "output_type": "execute_result"
    },
    {
     "data": {
      "text/plain": [
       "[PosixPath('/Users/colleenxu/Desktop/EBIgene2pheno_files/From_FTP/CardiacG2P_2025-02-28.csv.gz'),\n",
       " PosixPath('/Users/colleenxu/Desktop/EBIgene2pheno_files/From_FTP/SkeletalG2P_2025-02-28.csv.gz'),\n",
       " PosixPath('/Users/colleenxu/Desktop/EBIgene2pheno_files/From_FTP/DDG2P_2025-02-28.csv.gz'),\n",
       " PosixPath('/Users/colleenxu/Desktop/EBIgene2pheno_files/From_FTP/SkinG2P_2025-02-28.csv.gz'),\n",
       " PosixPath('/Users/colleenxu/Desktop/EBIgene2pheno_files/From_FTP/Hearing_lossG2P_2025-02-28.csv.gz'),\n",
       " PosixPath('/Users/colleenxu/Desktop/EBIgene2pheno_files/From_FTP/CancerG2P_2025-02-28.csv.gz'),\n",
       " PosixPath('/Users/colleenxu/Desktop/EBIgene2pheno_files/From_FTP/EyeG2P_2025-02-28.csv.gz')]"
      ]
     },
     "execution_count": 3,
     "metadata": {},
     "output_type": "execute_result"
    }
   ],
   "source": [
    "## put into parser (format): DONE\n",
    "\n",
    "base_file_path = pathlib.Path.home().joinpath(\"Desktop\", \"EBIgene2pheno_files\", \"From_FTP\")\n",
    "\n",
    "## pathlib's Path.glob produces a generator, vs glob.glob produces an array from cwd\n",
    "glob.glob(\"*2025-02-28.csv.gz\")\n",
    "base_file_path.glob(\"*2025-02-28.csv.gz\")\n",
    "\n",
    "## using list works to check if paths matching pattern were actually found or not\n",
    "all_file_paths = list(base_file_path.glob(\"*2025-02-28.csv.gz\"))\n",
    "all_file_paths"
   ]
  },
  {
   "cell_type": "code",
   "execution_count": 4,
   "id": "dd0fc904",
   "metadata": {
    "ExecuteTime": {
     "end_time": "2025-04-02T07:14:34.482314Z",
     "start_time": "2025-04-02T07:14:34.331157Z"
    },
    "scrolled": true
   },
   "outputs": [
    {
     "name": "stdout",
     "output_type": "stream",
     "text": [
      "<class 'pandas.core.series.Series'>\n",
      "RangeIndex: 4714 entries, 0 to 4713\n",
      "Series name: date_of_last_review\n",
      "Non-Null Count  Dtype \n",
      "--------------  ----- \n",
      "4714 non-null   object\n",
      "dtypes: object(1)\n",
      "memory usage: 377.6 KB\n",
      "\n",
      "\n",
      "<class 'pandas.core.series.Series'>\n",
      "RangeIndex: 4714 entries, 0 to 4713\n",
      "Series name: date_of_last_review\n",
      "Non-Null Count  Dtype              \n",
      "--------------  -----              \n",
      "4714 non-null   datetime64[ns, UTC]\n",
      "dtypes: datetime64[ns, UTC](1)\n",
      "memory usage: 37.0 KB\n"
     ]
    }
   ],
   "source": [
    "## put into parser (format): DONE\n",
    "\n",
    "\n",
    "## ingest all columns as str\n",
    "df = pd.concat((pd.read_csv(f, dtype=str) for f in all_file_paths), ignore_index=True)\n",
    "\n",
    "## make column names snake-case - usable with itertuples later\n",
    "df.columns = df.columns.str.replace(\" \", \"_\")\n",
    "\n",
    "df[\"date_of_last_review\"].info(memory_usage=\"deep\")\n",
    "print(\"\\n\")\n",
    "## change this column to datetime, saves memory\n",
    "df[\"date_of_last_review\"] = pd.to_datetime(df[\"date_of_last_review\"])\n",
    "df[\"date_of_last_review\"].info(memory_usage=\"deep\")"
   ]
  },
  {
   "cell_type": "code",
   "execution_count": null,
   "id": "13360ed5",
   "metadata": {
    "ExecuteTime": {
     "end_time": "2025-03-29T06:09:54.063665Z",
     "start_time": "2025-03-29T06:09:53.928917Z"
    }
   },
   "outputs": [],
   "source": [
    "## worked before (pandas 2.0.3 and python 3.11.4) to ingest column as datetime\n",
    "## now it doesn't: ingests as object/str instead\n",
    "# df = pd.concat((pd.read_csv(f, dtype=str, parse_dates=[\"date of last review\"]) \n",
    "#                 for f in all_file_paths), ignore_index=True)\n",
    "\n",
    "## the following also don't work\n",
    "# df = pd.concat((pd.read_csv(f, dtype=str, parse_dates=[\"date of last review\"], \n",
    "#                            date_format=\"%Y-%m-%d %H:%M:%S%:z\") \n",
    "#                 for f in all_file_paths), ignore_index=True)\n",
    "## throws an error\n",
    "# df = pd.concat((pd.read_csv(f, dtype=str, parse_dates=[[\"date of last review\"]], \n",
    "#                            date_format=\"%Y-%m-%d %H:%M:%S%:z\") \n",
    "#                 for f in all_file_paths), ignore_index=True)\n",
    "## throws an error\n",
    "# df = pd.concat((pd.read_csv(f, dtype={\"date of last review\": pd.datetime64[ns, tz]})\n",
    "#                 for f in all_file_paths), ignore_index=True)"
   ]
  },
  {
   "cell_type": "code",
   "execution_count": 5,
   "id": "f6e957f0",
   "metadata": {
    "ExecuteTime": {
     "end_time": "2025-04-02T07:14:37.339744Z",
     "start_time": "2025-04-02T07:14:37.290813Z"
    }
   },
   "outputs": [
    {
     "data": {
      "text/plain": [
       "(4714, 21)"
      ]
     },
     "execution_count": 5,
     "metadata": {},
     "output_type": "execute_result"
    },
    {
     "data": {
      "text/html": [
       "<div>\n",
       "<style scoped>\n",
       "    .dataframe tbody tr th:only-of-type {\n",
       "        vertical-align: middle;\n",
       "    }\n",
       "\n",
       "    .dataframe tbody tr th {\n",
       "        vertical-align: top;\n",
       "    }\n",
       "\n",
       "    .dataframe thead th {\n",
       "        text-align: right;\n",
       "    }\n",
       "</style>\n",
       "<table border=\"1\" class=\"dataframe\">\n",
       "  <thead>\n",
       "    <tr style=\"text-align: right;\">\n",
       "      <th></th>\n",
       "      <th>g2p_id</th>\n",
       "      <th>gene_symbol</th>\n",
       "      <th>gene_mim</th>\n",
       "      <th>hgnc_id</th>\n",
       "      <th>previous_gene_symbols</th>\n",
       "      <th>disease_name</th>\n",
       "      <th>disease_mim</th>\n",
       "      <th>disease_MONDO</th>\n",
       "      <th>allelic_requirement</th>\n",
       "      <th>cross_cutting_modifier</th>\n",
       "      <th>confidence</th>\n",
       "      <th>variant_consequence</th>\n",
       "      <th>variant_types</th>\n",
       "      <th>molecular_mechanism</th>\n",
       "      <th>molecular_mechanism_categorisation</th>\n",
       "      <th>molecular_mechanism_evidence</th>\n",
       "      <th>phenotypes</th>\n",
       "      <th>publications</th>\n",
       "      <th>panel</th>\n",
       "      <th>comments</th>\n",
       "      <th>date_of_last_review</th>\n",
       "    </tr>\n",
       "  </thead>\n",
       "  <tbody>\n",
       "    <tr>\n",
       "      <th>0</th>\n",
       "      <td>G2P00124</td>\n",
       "      <td>KCNE1</td>\n",
       "      <td>176261</td>\n",
       "      <td>6240</td>\n",
       "      <td>ISK; JLNS2; LQT5; MINK</td>\n",
       "      <td>KCNE1-related Jervell and Lange-Nielsen syndrome</td>\n",
       "      <td>612347</td>\n",
       "      <td>NaN</td>\n",
       "      <td>biallelic_autosomal</td>\n",
       "      <td>potential secondary finding</td>\n",
       "      <td>strong</td>\n",
       "      <td>altered gene product structure</td>\n",
       "      <td>missense_variant; inframe_deletion; stop_gaine...</td>\n",
       "      <td>undetermined</td>\n",
       "      <td>inferred</td>\n",
       "      <td>NaN</td>\n",
       "      <td>HP:0000407; HP:0001657; HP:0000007; HP:0001279</td>\n",
       "      <td>30461122</td>\n",
       "      <td>DD; Cardiac</td>\n",
       "      <td>KCNE1-related JLNS is due to altered gene prod...</td>\n",
       "      <td>2024-04-05 12:05:01+00:00</td>\n",
       "    </tr>\n",
       "    <tr>\n",
       "      <th>1</th>\n",
       "      <td>G2P00841</td>\n",
       "      <td>PTPN11</td>\n",
       "      <td>176876</td>\n",
       "      <td>9644</td>\n",
       "      <td>BPTP3; NS1; PTP2C; SH-PTP2; SHP-2; SHP2</td>\n",
       "      <td>PTPN11-related Noonan syndrome with multiple l...</td>\n",
       "      <td>151100</td>\n",
       "      <td>NaN</td>\n",
       "      <td>monoallelic_autosomal</td>\n",
       "      <td>NaN</td>\n",
       "      <td>definitive</td>\n",
       "      <td>altered gene product structure</td>\n",
       "      <td>missense_variant; inframe_deletion; inframe_in...</td>\n",
       "      <td>undetermined</td>\n",
       "      <td>inferred</td>\n",
       "      <td>NaN</td>\n",
       "      <td>HP:0000325; HP:0002996; HP:0000957; HP:0001709...</td>\n",
       "      <td>27484170; 26377839; 25917897; 25884655; 248207...</td>\n",
       "      <td>DD; Skin; Cardiac</td>\n",
       "      <td>Expert review done on 12/01/2022; Noonan syndr...</td>\n",
       "      <td>2025-01-21 14:56:43+00:00</td>\n",
       "    </tr>\n",
       "    <tr>\n",
       "      <th>2</th>\n",
       "      <td>G2P03247</td>\n",
       "      <td>DSC2</td>\n",
       "      <td>125645</td>\n",
       "      <td>3036</td>\n",
       "      <td>CDHF2; DSC3</td>\n",
       "      <td>DSC2-related arrhythmogenic right ventricular ...</td>\n",
       "      <td>NaN</td>\n",
       "      <td>MONDO:0012506</td>\n",
       "      <td>monoallelic_autosomal</td>\n",
       "      <td>NaN</td>\n",
       "      <td>definitive</td>\n",
       "      <td>decreased gene product level; altered gene pro...</td>\n",
       "      <td>inframe_deletion; splice_region_variant; misse...</td>\n",
       "      <td>undetermined</td>\n",
       "      <td>inferred</td>\n",
       "      <td>NaN</td>\n",
       "      <td>NaN</td>\n",
       "      <td>31028357; 23911551; 21636032; 33831308; 263105...</td>\n",
       "      <td>Cardiac</td>\n",
       "      <td>Expert review done on 05/01/2022; DSC2-related...</td>\n",
       "      <td>2024-03-20 09:36:09+00:00</td>\n",
       "    </tr>\n",
       "    <tr>\n",
       "      <th>3</th>\n",
       "      <td>G2P03248</td>\n",
       "      <td>DSC2</td>\n",
       "      <td>125645</td>\n",
       "      <td>3036</td>\n",
       "      <td>CDHF2; DSC3</td>\n",
       "      <td>DSC2-related arrhythmogenic right ventricular ...</td>\n",
       "      <td>NaN</td>\n",
       "      <td>MONDO:0012506</td>\n",
       "      <td>biallelic_autosomal</td>\n",
       "      <td>NaN</td>\n",
       "      <td>definitive</td>\n",
       "      <td>decreased gene product level; altered gene pro...</td>\n",
       "      <td>inframe_deletion; splice_region_variant; misse...</td>\n",
       "      <td>undetermined</td>\n",
       "      <td>inferred</td>\n",
       "      <td>NaN</td>\n",
       "      <td>NaN</td>\n",
       "      <td>31028357; 23911551; 21636032; 33831308; 263105...</td>\n",
       "      <td>Cardiac</td>\n",
       "      <td>Expert review done on 05/01/2022; DSC2-related...</td>\n",
       "      <td>2024-03-20 09:35:19+00:00</td>\n",
       "    </tr>\n",
       "    <tr>\n",
       "      <th>4</th>\n",
       "      <td>G2P03249</td>\n",
       "      <td>DSG2</td>\n",
       "      <td>125671</td>\n",
       "      <td>3049</td>\n",
       "      <td>CDHF5</td>\n",
       "      <td>DSG2-related arrhythmogenic right ventricular ...</td>\n",
       "      <td>NaN</td>\n",
       "      <td>MONDO:0012434</td>\n",
       "      <td>monoallelic_autosomal</td>\n",
       "      <td>NaN</td>\n",
       "      <td>definitive</td>\n",
       "      <td>decreased gene product level; altered gene pro...</td>\n",
       "      <td>inframe_deletion; missense_variant; stop_gaine...</td>\n",
       "      <td>undetermined</td>\n",
       "      <td>inferred</td>\n",
       "      <td>NaN</td>\n",
       "      <td>NaN</td>\n",
       "      <td>21636032; 33831308; 33917638; 34400560; 240707...</td>\n",
       "      <td>Cardiac</td>\n",
       "      <td>Expert review done on 05/01/2022; DSG2-related...</td>\n",
       "      <td>2024-03-20 09:40:18+00:00</td>\n",
       "    </tr>\n",
       "  </tbody>\n",
       "</table>\n",
       "</div>"
      ],
      "text/plain": [
       "     g2p_id gene_symbol gene_mim hgnc_id  \\\n",
       "0  G2P00124       KCNE1   176261    6240   \n",
       "1  G2P00841      PTPN11   176876    9644   \n",
       "2  G2P03247        DSC2   125645    3036   \n",
       "3  G2P03248        DSC2   125645    3036   \n",
       "4  G2P03249        DSG2   125671    3049   \n",
       "\n",
       "                     previous_gene_symbols  \\\n",
       "0                   ISK; JLNS2; LQT5; MINK   \n",
       "1  BPTP3; NS1; PTP2C; SH-PTP2; SHP-2; SHP2   \n",
       "2                              CDHF2; DSC3   \n",
       "3                              CDHF2; DSC3   \n",
       "4                                    CDHF5   \n",
       "\n",
       "                                        disease_name disease_mim  \\\n",
       "0   KCNE1-related Jervell and Lange-Nielsen syndrome      612347   \n",
       "1  PTPN11-related Noonan syndrome with multiple l...      151100   \n",
       "2  DSC2-related arrhythmogenic right ventricular ...         NaN   \n",
       "3  DSC2-related arrhythmogenic right ventricular ...         NaN   \n",
       "4  DSG2-related arrhythmogenic right ventricular ...         NaN   \n",
       "\n",
       "   disease_MONDO    allelic_requirement       cross_cutting_modifier  \\\n",
       "0            NaN    biallelic_autosomal  potential secondary finding   \n",
       "1            NaN  monoallelic_autosomal                          NaN   \n",
       "2  MONDO:0012506  monoallelic_autosomal                          NaN   \n",
       "3  MONDO:0012506    biallelic_autosomal                          NaN   \n",
       "4  MONDO:0012434  monoallelic_autosomal                          NaN   \n",
       "\n",
       "   confidence                                variant_consequence  \\\n",
       "0      strong                     altered gene product structure   \n",
       "1  definitive                     altered gene product structure   \n",
       "2  definitive  decreased gene product level; altered gene pro...   \n",
       "3  definitive  decreased gene product level; altered gene pro...   \n",
       "4  definitive  decreased gene product level; altered gene pro...   \n",
       "\n",
       "                                       variant_types molecular_mechanism  \\\n",
       "0  missense_variant; inframe_deletion; stop_gaine...        undetermined   \n",
       "1  missense_variant; inframe_deletion; inframe_in...        undetermined   \n",
       "2  inframe_deletion; splice_region_variant; misse...        undetermined   \n",
       "3  inframe_deletion; splice_region_variant; misse...        undetermined   \n",
       "4  inframe_deletion; missense_variant; stop_gaine...        undetermined   \n",
       "\n",
       "  molecular_mechanism_categorisation molecular_mechanism_evidence  \\\n",
       "0                           inferred                          NaN   \n",
       "1                           inferred                          NaN   \n",
       "2                           inferred                          NaN   \n",
       "3                           inferred                          NaN   \n",
       "4                           inferred                          NaN   \n",
       "\n",
       "                                          phenotypes  \\\n",
       "0     HP:0000407; HP:0001657; HP:0000007; HP:0001279   \n",
       "1  HP:0000325; HP:0002996; HP:0000957; HP:0001709...   \n",
       "2                                                NaN   \n",
       "3                                                NaN   \n",
       "4                                                NaN   \n",
       "\n",
       "                                        publications              panel  \\\n",
       "0                                           30461122        DD; Cardiac   \n",
       "1  27484170; 26377839; 25917897; 25884655; 248207...  DD; Skin; Cardiac   \n",
       "2  31028357; 23911551; 21636032; 33831308; 263105...            Cardiac   \n",
       "3  31028357; 23911551; 21636032; 33831308; 263105...            Cardiac   \n",
       "4  21636032; 33831308; 33917638; 34400560; 240707...            Cardiac   \n",
       "\n",
       "                                            comments       date_of_last_review  \n",
       "0  KCNE1-related JLNS is due to altered gene prod... 2024-04-05 12:05:01+00:00  \n",
       "1  Expert review done on 12/01/2022; Noonan syndr... 2025-01-21 14:56:43+00:00  \n",
       "2  Expert review done on 05/01/2022; DSC2-related... 2024-03-20 09:36:09+00:00  \n",
       "3  Expert review done on 05/01/2022; DSC2-related... 2024-03-20 09:35:19+00:00  \n",
       "4  Expert review done on 05/01/2022; DSG2-related... 2024-03-20 09:40:18+00:00  "
      ]
     },
     "execution_count": 5,
     "metadata": {},
     "output_type": "execute_result"
    },
    {
     "name": "stdout",
     "output_type": "stream",
     "text": [
      "<class 'pandas.core.frame.DataFrame'>\n",
      "RangeIndex: 4714 entries, 0 to 4713\n",
      "Data columns (total 21 columns):\n",
      " #   Column                              Non-Null Count  Dtype              \n",
      "---  ------                              --------------  -----              \n",
      " 0   g2p_id                              4714 non-null   object             \n",
      " 1   gene_symbol                         4714 non-null   object             \n",
      " 2   gene_mim                            4712 non-null   object             \n",
      " 3   hgnc_id                             4714 non-null   object             \n",
      " 4   previous_gene_symbols               4241 non-null   object             \n",
      " 5   disease_name                        4714 non-null   object             \n",
      " 6   disease_mim                         3574 non-null   object             \n",
      " 7   disease_MONDO                       638 non-null    object             \n",
      " 8   allelic_requirement                 4714 non-null   object             \n",
      " 9   cross_cutting_modifier              629 non-null    object             \n",
      " 10  confidence                          4714 non-null   object             \n",
      " 11  variant_consequence                 4693 non-null   object             \n",
      " 12  variant_types                       1190 non-null   object             \n",
      " 13  molecular_mechanism                 4714 non-null   object             \n",
      " 14  molecular_mechanism_categorisation  4714 non-null   object             \n",
      " 15  molecular_mechanism_evidence        32 non-null     object             \n",
      " 16  phenotypes                          3394 non-null   object             \n",
      " 17  publications                        4293 non-null   object             \n",
      " 18  panel                               4714 non-null   object             \n",
      " 19  comments                            129 non-null    object             \n",
      " 20  date_of_last_review                 4714 non-null   datetime64[ns, UTC]\n",
      "dtypes: datetime64[ns, UTC](1), object(20)\n",
      "memory usage: 6.6 MB\n"
     ]
    }
   ],
   "source": [
    "df.shape\n",
    "df.head()\n",
    "df.info(memory_usage=\"deep\")"
   ]
  },
  {
   "cell_type": "markdown",
   "id": "2a5724a6",
   "metadata": {},
   "source": [
    "## Checking, removing duplicates"
   ]
  },
  {
   "cell_type": "code",
   "execution_count": 6,
   "id": "a6531826",
   "metadata": {
    "ExecuteTime": {
     "end_time": "2025-04-02T07:14:41.806491Z",
     "start_time": "2025-04-02T07:14:41.782618Z"
    }
   },
   "outputs": [],
   "source": [
    "## put into parser (format): DONE\n",
    "\n",
    "## This is a data-quality check to make sure drop_duplicates actually removes all duplicates. \n",
    "## Based on exploring the data, the column subset below should uniquely define one \n",
    "##   record's data/row.\n",
    "## If the de-deplicated data using this column set == de-duplicated data using the whole\n",
    "##   dataset, then everything is fine and the parser can proceed with de-duplication.\n",
    "## Else, the data needs to be explored and the parser probably needs adjustments.\n",
    "## Many column values are delimited strings, and my concern is that these values could\n",
    "##   differ (only in list order) for the \"same data\" in different files.\n",
    "\n",
    "n_duplicates_column_combo = df[df.duplicated(subset=[\"g2p_id\", \"gene_symbol\", \"disease_name\", \"allelic_requirement\", \n",
    "                                \"molecular_mechanism\"], keep=False)].shape\n",
    "\n",
    "n_duplicates_all_columns = df[df.duplicated(keep=False)].shape\n",
    "\n",
    "## for testing\n",
    "# n_duplicates_all_columns = (1, 1)\n",
    "\n",
    "\n",
    "if n_duplicates_column_combo != n_duplicates_all_columns: \n",
    "    raise AssertionError(\"The data format has changed, and record de-duplication may not work as-expected. \" \\\n",
    "                          \"Double-check the data and what columns uniquely define one record\")"
   ]
  },
  {
   "cell_type": "code",
   "execution_count": 7,
   "id": "1659d217",
   "metadata": {
    "ExecuteTime": {
     "end_time": "2025-04-02T07:14:42.433985Z",
     "start_time": "2025-04-02T07:14:42.416716Z"
    }
   },
   "outputs": [],
   "source": [
    "## put into parser (format): DONE\n",
    "\n",
    "## drop duplicates\n",
    "df.drop_duplicates(inplace=True, ignore_index=True)"
   ]
  },
  {
   "cell_type": "code",
   "execution_count": 8,
   "id": "8b25cb57",
   "metadata": {
    "ExecuteTime": {
     "end_time": "2025-04-02T07:14:43.119603Z",
     "start_time": "2025-04-02T07:14:43.098008Z"
    },
    "scrolled": true
   },
   "outputs": [
    {
     "name": "stdout",
     "output_type": "stream",
     "text": [
      "<class 'pandas.core.frame.DataFrame'>\n",
      "RangeIndex: 3647 entries, 0 to 3646\n",
      "Data columns (total 21 columns):\n",
      " #   Column                              Non-Null Count  Dtype              \n",
      "---  ------                              --------------  -----              \n",
      " 0   g2p_id                              3647 non-null   object             \n",
      " 1   gene_symbol                         3647 non-null   object             \n",
      " 2   gene_mim                            3645 non-null   object             \n",
      " 3   hgnc_id                             3647 non-null   object             \n",
      " 4   previous_gene_symbols               3277 non-null   object             \n",
      " 5   disease_name                        3647 non-null   object             \n",
      " 6   disease_mim                         2570 non-null   object             \n",
      " 7   disease_MONDO                       561 non-null    object             \n",
      " 8   allelic_requirement                 3647 non-null   object             \n",
      " 9   cross_cutting_modifier              451 non-null    object             \n",
      " 10  confidence                          3647 non-null   object             \n",
      " 11  variant_consequence                 3629 non-null   object             \n",
      " 12  variant_types                       997 non-null    object             \n",
      " 13  molecular_mechanism                 3647 non-null   object             \n",
      " 14  molecular_mechanism_categorisation  3647 non-null   object             \n",
      " 15  molecular_mechanism_evidence        28 non-null     object             \n",
      " 16  phenotypes                          2430 non-null   object             \n",
      " 17  publications                        3301 non-null   object             \n",
      " 18  panel                               3647 non-null   object             \n",
      " 19  comments                            103 non-null    object             \n",
      " 20  date_of_last_review                 3647 non-null   datetime64[ns, UTC]\n",
      "dtypes: datetime64[ns, UTC](1), object(20)\n",
      "memory usage: 5.0 MB\n"
     ]
    }
   ],
   "source": [
    "df.info(memory_usage=\"deep\")"
   ]
  },
  {
   "cell_type": "markdown",
   "id": "a797c65d",
   "metadata": {},
   "source": [
    "## Column-level transforms"
   ]
  },
  {
   "cell_type": "code",
   "execution_count": null,
   "id": "3f9b5222",
   "metadata": {
    "ExecuteTime": {
     "end_time": "2025-04-02T07:00:56.896101Z",
     "start_time": "2025-04-02T07:00:56.887132Z"
    }
   },
   "outputs": [],
   "source": [
    "df_diseasemim = df.copy()\n",
    "\n",
    "## done to preserve NA\n",
    "df_diseasemim[\"disease_mim\"] = [i if pd.isna(i) \\\n",
    "                                else \"OMIM:\" + i if i.isnumeric() \\\n",
    "                                else i \\\n",
    "                                for i in df_diseasemim[\"disease_mim\"]]\n",
    "\n",
    "df_diseasemim[\"disease_mim\"] = df_diseasemim[\"disease_mim\"].str.replace(\"Orphanet\", \"orphanet\")"
   ]
  },
  {
   "cell_type": "code",
   "execution_count": null,
   "id": "14883b59",
   "metadata": {
    "ExecuteTime": {
     "end_time": "2025-04-02T07:00:57.495612Z",
     "start_time": "2025-04-02T07:00:57.482691Z"
    }
   },
   "outputs": [],
   "source": [
    "df_diseasemim[df_diseasemim[\"disease_mim\"].str.contains(\"OMIM:\", na=False)].shape\n",
    "\n",
    "df_diseasemim[df_diseasemim[\"disease_mim\"].str.contains(\"orphanet:\", na=False)].shape\n",
    "\n",
    "## add up row count. If == num non-null in info above, you're good \n",
    "## right now 2570 == 2570, so good"
   ]
  },
  {
   "cell_type": "code",
   "execution_count": 9,
   "id": "abb752b8",
   "metadata": {
    "ExecuteTime": {
     "end_time": "2025-04-02T07:14:49.861311Z",
     "start_time": "2025-04-02T07:14:49.833918Z"
    }
   },
   "outputs": [],
   "source": [
    "## put into parser (format): DONE\n",
    "\n",
    "## COLUMN-LEVEL TRANSFORMS\n",
    "\n",
    "## adding Translator/biolink prefixes to IDs\n",
    "df[\"gene_mim\"] = \"OMIM:\" + df[\"gene_mim\"]\n",
    "df[\"hgnc_id\"] = \"HGNC:\" + df[\"hgnc_id\"]\n",
    "df[\"disease_mim\"] = df[\"disease_mim\"].str.replace(\"Orphanet\", \"orphanet\")\n",
    "## done to preserve NA\n",
    "df[\"disease_mim\"] = [i if pd.isna(i) \\\n",
    "                     else \"OMIM:\" + i if i.isnumeric() \\\n",
    "                     else i \\\n",
    "                     for i in df[\"disease_mim\"]]\n",
    "\n",
    "## strip whitespace\n",
    "df[\"disease_name\"] = df[\"disease_name\"].str.strip()\n",
    "df[\"comments\"] = df[\"comments\"].str.strip()\n",
    "\n",
    "## create new columns\n",
    "## UI really wants resource website urls like this. May need to adjust over time as website changes\n",
    "df[\"g2p_record_url\"] = \"https://www.ebi.ac.uk/gene2phenotype/lgd/\" +  df[\"g2p_id\"]\n",
    "\n",
    "## replace panel keywords with full names shown on G2P website for single record\n",
    "## keeping \"Hearing loss\" as-is, changing all other values\n",
    "df[\"panel\"] = df[\"panel\"].str.replace(\"DD\", \"Developmental disorders\")\n",
    "df[\"panel\"] = df[\"panel\"].str.replace(\"Cancer\", \"Cancer disorders\")\n",
    "df[\"panel\"] = df[\"panel\"].str.replace(\"Cardiac\", \"Cardiac disorders\")\n",
    "df[\"panel\"] = df[\"panel\"].str.replace(\"Eye\", \"Eye disorders\")\n",
    "df[\"panel\"] = df[\"panel\"].str.replace(\"Skeletal\", \"Skeletal disorders\")\n",
    "df[\"panel\"] = df[\"panel\"].str.replace(\"Skin\", \"Skin disorders\")"
   ]
  },
  {
   "cell_type": "code",
   "execution_count": 10,
   "id": "b05f644d",
   "metadata": {
    "ExecuteTime": {
     "end_time": "2025-04-02T07:14:53.212979Z",
     "start_time": "2025-04-02T07:14:53.194724Z"
    },
    "scrolled": true
   },
   "outputs": [
    {
     "data": {
      "text/html": [
       "<div>\n",
       "<style scoped>\n",
       "    .dataframe tbody tr th:only-of-type {\n",
       "        vertical-align: middle;\n",
       "    }\n",
       "\n",
       "    .dataframe tbody tr th {\n",
       "        vertical-align: top;\n",
       "    }\n",
       "\n",
       "    .dataframe thead th {\n",
       "        text-align: right;\n",
       "    }\n",
       "</style>\n",
       "<table border=\"1\" class=\"dataframe\">\n",
       "  <thead>\n",
       "    <tr style=\"text-align: right;\">\n",
       "      <th></th>\n",
       "      <th>g2p_id</th>\n",
       "      <th>gene_symbol</th>\n",
       "      <th>gene_mim</th>\n",
       "      <th>hgnc_id</th>\n",
       "      <th>previous_gene_symbols</th>\n",
       "      <th>disease_name</th>\n",
       "      <th>disease_mim</th>\n",
       "      <th>disease_MONDO</th>\n",
       "      <th>allelic_requirement</th>\n",
       "      <th>cross_cutting_modifier</th>\n",
       "      <th>confidence</th>\n",
       "      <th>variant_consequence</th>\n",
       "      <th>variant_types</th>\n",
       "      <th>molecular_mechanism</th>\n",
       "      <th>molecular_mechanism_categorisation</th>\n",
       "      <th>molecular_mechanism_evidence</th>\n",
       "      <th>phenotypes</th>\n",
       "      <th>publications</th>\n",
       "      <th>panel</th>\n",
       "      <th>comments</th>\n",
       "      <th>date_of_last_review</th>\n",
       "      <th>g2p_record_url</th>\n",
       "    </tr>\n",
       "  </thead>\n",
       "  <tbody>\n",
       "    <tr>\n",
       "      <th>0</th>\n",
       "      <td>G2P00124</td>\n",
       "      <td>KCNE1</td>\n",
       "      <td>OMIM:176261</td>\n",
       "      <td>HGNC:6240</td>\n",
       "      <td>ISK; JLNS2; LQT5; MINK</td>\n",
       "      <td>KCNE1-related Jervell and Lange-Nielsen syndrome</td>\n",
       "      <td>OMIM:612347</td>\n",
       "      <td>NaN</td>\n",
       "      <td>biallelic_autosomal</td>\n",
       "      <td>potential secondary finding</td>\n",
       "      <td>strong</td>\n",
       "      <td>altered gene product structure</td>\n",
       "      <td>missense_variant; inframe_deletion; stop_gaine...</td>\n",
       "      <td>undetermined</td>\n",
       "      <td>inferred</td>\n",
       "      <td>NaN</td>\n",
       "      <td>HP:0000407; HP:0001657; HP:0000007; HP:0001279</td>\n",
       "      <td>30461122</td>\n",
       "      <td>Developmental disorders; Cardiac disorders</td>\n",
       "      <td>KCNE1-related JLNS is due to altered gene prod...</td>\n",
       "      <td>2024-04-05 12:05:01+00:00</td>\n",
       "      <td>https://www.ebi.ac.uk/gene2phenotype/lgd/G2P00124</td>\n",
       "    </tr>\n",
       "    <tr>\n",
       "      <th>1</th>\n",
       "      <td>G2P00841</td>\n",
       "      <td>PTPN11</td>\n",
       "      <td>OMIM:176876</td>\n",
       "      <td>HGNC:9644</td>\n",
       "      <td>BPTP3; NS1; PTP2C; SH-PTP2; SHP-2; SHP2</td>\n",
       "      <td>PTPN11-related Noonan syndrome with multiple l...</td>\n",
       "      <td>OMIM:151100</td>\n",
       "      <td>NaN</td>\n",
       "      <td>monoallelic_autosomal</td>\n",
       "      <td>NaN</td>\n",
       "      <td>definitive</td>\n",
       "      <td>altered gene product structure</td>\n",
       "      <td>missense_variant; inframe_deletion; inframe_in...</td>\n",
       "      <td>undetermined</td>\n",
       "      <td>inferred</td>\n",
       "      <td>NaN</td>\n",
       "      <td>HP:0000325; HP:0002996; HP:0000957; HP:0001709...</td>\n",
       "      <td>27484170; 26377839; 25917897; 25884655; 248207...</td>\n",
       "      <td>Developmental disorders; Skin disorders; Cardi...</td>\n",
       "      <td>Expert review done on 12/01/2022; Noonan syndr...</td>\n",
       "      <td>2025-01-21 14:56:43+00:00</td>\n",
       "      <td>https://www.ebi.ac.uk/gene2phenotype/lgd/G2P00841</td>\n",
       "    </tr>\n",
       "    <tr>\n",
       "      <th>2</th>\n",
       "      <td>G2P03247</td>\n",
       "      <td>DSC2</td>\n",
       "      <td>OMIM:125645</td>\n",
       "      <td>HGNC:3036</td>\n",
       "      <td>CDHF2; DSC3</td>\n",
       "      <td>DSC2-related arrhythmogenic right ventricular ...</td>\n",
       "      <td>NaN</td>\n",
       "      <td>MONDO:0012506</td>\n",
       "      <td>monoallelic_autosomal</td>\n",
       "      <td>NaN</td>\n",
       "      <td>definitive</td>\n",
       "      <td>decreased gene product level; altered gene pro...</td>\n",
       "      <td>inframe_deletion; splice_region_variant; misse...</td>\n",
       "      <td>undetermined</td>\n",
       "      <td>inferred</td>\n",
       "      <td>NaN</td>\n",
       "      <td>NaN</td>\n",
       "      <td>31028357; 23911551; 21636032; 33831308; 263105...</td>\n",
       "      <td>Cardiac disorders</td>\n",
       "      <td>Expert review done on 05/01/2022; DSC2-related...</td>\n",
       "      <td>2024-03-20 09:36:09+00:00</td>\n",
       "      <td>https://www.ebi.ac.uk/gene2phenotype/lgd/G2P03247</td>\n",
       "    </tr>\n",
       "    <tr>\n",
       "      <th>3</th>\n",
       "      <td>G2P03248</td>\n",
       "      <td>DSC2</td>\n",
       "      <td>OMIM:125645</td>\n",
       "      <td>HGNC:3036</td>\n",
       "      <td>CDHF2; DSC3</td>\n",
       "      <td>DSC2-related arrhythmogenic right ventricular ...</td>\n",
       "      <td>NaN</td>\n",
       "      <td>MONDO:0012506</td>\n",
       "      <td>biallelic_autosomal</td>\n",
       "      <td>NaN</td>\n",
       "      <td>definitive</td>\n",
       "      <td>decreased gene product level; altered gene pro...</td>\n",
       "      <td>inframe_deletion; splice_region_variant; misse...</td>\n",
       "      <td>undetermined</td>\n",
       "      <td>inferred</td>\n",
       "      <td>NaN</td>\n",
       "      <td>NaN</td>\n",
       "      <td>31028357; 23911551; 21636032; 33831308; 263105...</td>\n",
       "      <td>Cardiac disorders</td>\n",
       "      <td>Expert review done on 05/01/2022; DSC2-related...</td>\n",
       "      <td>2024-03-20 09:35:19+00:00</td>\n",
       "      <td>https://www.ebi.ac.uk/gene2phenotype/lgd/G2P03248</td>\n",
       "    </tr>\n",
       "    <tr>\n",
       "      <th>4</th>\n",
       "      <td>G2P03249</td>\n",
       "      <td>DSG2</td>\n",
       "      <td>OMIM:125671</td>\n",
       "      <td>HGNC:3049</td>\n",
       "      <td>CDHF5</td>\n",
       "      <td>DSG2-related arrhythmogenic right ventricular ...</td>\n",
       "      <td>NaN</td>\n",
       "      <td>MONDO:0012434</td>\n",
       "      <td>monoallelic_autosomal</td>\n",
       "      <td>NaN</td>\n",
       "      <td>definitive</td>\n",
       "      <td>decreased gene product level; altered gene pro...</td>\n",
       "      <td>inframe_deletion; missense_variant; stop_gaine...</td>\n",
       "      <td>undetermined</td>\n",
       "      <td>inferred</td>\n",
       "      <td>NaN</td>\n",
       "      <td>NaN</td>\n",
       "      <td>21636032; 33831308; 33917638; 34400560; 240707...</td>\n",
       "      <td>Cardiac disorders</td>\n",
       "      <td>Expert review done on 05/01/2022; DSG2-related...</td>\n",
       "      <td>2024-03-20 09:40:18+00:00</td>\n",
       "      <td>https://www.ebi.ac.uk/gene2phenotype/lgd/G2P03249</td>\n",
       "    </tr>\n",
       "  </tbody>\n",
       "</table>\n",
       "</div>"
      ],
      "text/plain": [
       "     g2p_id gene_symbol     gene_mim    hgnc_id  \\\n",
       "0  G2P00124       KCNE1  OMIM:176261  HGNC:6240   \n",
       "1  G2P00841      PTPN11  OMIM:176876  HGNC:9644   \n",
       "2  G2P03247        DSC2  OMIM:125645  HGNC:3036   \n",
       "3  G2P03248        DSC2  OMIM:125645  HGNC:3036   \n",
       "4  G2P03249        DSG2  OMIM:125671  HGNC:3049   \n",
       "\n",
       "                     previous_gene_symbols  \\\n",
       "0                   ISK; JLNS2; LQT5; MINK   \n",
       "1  BPTP3; NS1; PTP2C; SH-PTP2; SHP-2; SHP2   \n",
       "2                              CDHF2; DSC3   \n",
       "3                              CDHF2; DSC3   \n",
       "4                                    CDHF5   \n",
       "\n",
       "                                        disease_name  disease_mim  \\\n",
       "0   KCNE1-related Jervell and Lange-Nielsen syndrome  OMIM:612347   \n",
       "1  PTPN11-related Noonan syndrome with multiple l...  OMIM:151100   \n",
       "2  DSC2-related arrhythmogenic right ventricular ...          NaN   \n",
       "3  DSC2-related arrhythmogenic right ventricular ...          NaN   \n",
       "4  DSG2-related arrhythmogenic right ventricular ...          NaN   \n",
       "\n",
       "   disease_MONDO    allelic_requirement       cross_cutting_modifier  \\\n",
       "0            NaN    biallelic_autosomal  potential secondary finding   \n",
       "1            NaN  monoallelic_autosomal                          NaN   \n",
       "2  MONDO:0012506  monoallelic_autosomal                          NaN   \n",
       "3  MONDO:0012506    biallelic_autosomal                          NaN   \n",
       "4  MONDO:0012434  monoallelic_autosomal                          NaN   \n",
       "\n",
       "   confidence                                variant_consequence  \\\n",
       "0      strong                     altered gene product structure   \n",
       "1  definitive                     altered gene product structure   \n",
       "2  definitive  decreased gene product level; altered gene pro...   \n",
       "3  definitive  decreased gene product level; altered gene pro...   \n",
       "4  definitive  decreased gene product level; altered gene pro...   \n",
       "\n",
       "                                       variant_types molecular_mechanism  \\\n",
       "0  missense_variant; inframe_deletion; stop_gaine...        undetermined   \n",
       "1  missense_variant; inframe_deletion; inframe_in...        undetermined   \n",
       "2  inframe_deletion; splice_region_variant; misse...        undetermined   \n",
       "3  inframe_deletion; splice_region_variant; misse...        undetermined   \n",
       "4  inframe_deletion; missense_variant; stop_gaine...        undetermined   \n",
       "\n",
       "  molecular_mechanism_categorisation molecular_mechanism_evidence  \\\n",
       "0                           inferred                          NaN   \n",
       "1                           inferred                          NaN   \n",
       "2                           inferred                          NaN   \n",
       "3                           inferred                          NaN   \n",
       "4                           inferred                          NaN   \n",
       "\n",
       "                                          phenotypes  \\\n",
       "0     HP:0000407; HP:0001657; HP:0000007; HP:0001279   \n",
       "1  HP:0000325; HP:0002996; HP:0000957; HP:0001709...   \n",
       "2                                                NaN   \n",
       "3                                                NaN   \n",
       "4                                                NaN   \n",
       "\n",
       "                                        publications  \\\n",
       "0                                           30461122   \n",
       "1  27484170; 26377839; 25917897; 25884655; 248207...   \n",
       "2  31028357; 23911551; 21636032; 33831308; 263105...   \n",
       "3  31028357; 23911551; 21636032; 33831308; 263105...   \n",
       "4  21636032; 33831308; 33917638; 34400560; 240707...   \n",
       "\n",
       "                                               panel  \\\n",
       "0         Developmental disorders; Cardiac disorders   \n",
       "1  Developmental disorders; Skin disorders; Cardi...   \n",
       "2                                  Cardiac disorders   \n",
       "3                                  Cardiac disorders   \n",
       "4                                  Cardiac disorders   \n",
       "\n",
       "                                            comments  \\\n",
       "0  KCNE1-related JLNS is due to altered gene prod...   \n",
       "1  Expert review done on 12/01/2022; Noonan syndr...   \n",
       "2  Expert review done on 05/01/2022; DSC2-related...   \n",
       "3  Expert review done on 05/01/2022; DSC2-related...   \n",
       "4  Expert review done on 05/01/2022; DSG2-related...   \n",
       "\n",
       "        date_of_last_review                                     g2p_record_url  \n",
       "0 2024-04-05 12:05:01+00:00  https://www.ebi.ac.uk/gene2phenotype/lgd/G2P00124  \n",
       "1 2025-01-21 14:56:43+00:00  https://www.ebi.ac.uk/gene2phenotype/lgd/G2P00841  \n",
       "2 2024-03-20 09:36:09+00:00  https://www.ebi.ac.uk/gene2phenotype/lgd/G2P03247  \n",
       "3 2024-03-20 09:35:19+00:00  https://www.ebi.ac.uk/gene2phenotype/lgd/G2P03248  \n",
       "4 2024-03-20 09:40:18+00:00  https://www.ebi.ac.uk/gene2phenotype/lgd/G2P03249  "
      ]
     },
     "execution_count": 10,
     "metadata": {},
     "output_type": "execute_result"
    }
   ],
   "source": [
    "## checking on column-level transforms\n",
    "\n",
    "df.head()\n",
    "# df[\"g2p record url\"].unique()[0:100]\n",
    "\n",
    "# df[df[\"disease mim\"].str.contains(\"orphanet\", na=False)]  ## 9 rows, so that's correct\n",
    "# df[df[\"panel\"].str.contains(\"Hearing\", na=False)]"
   ]
  },
  {
   "cell_type": "markdown",
   "id": "19fae1f9",
   "metadata": {},
   "source": [
    "## Generating documents"
   ]
  },
  {
   "cell_type": "code",
   "execution_count": null,
   "id": "66db0346",
   "metadata": {
    "ExecuteTime": {
     "end_time": "2025-03-25T08:02:33.422086Z",
     "start_time": "2025-03-25T08:02:33.411066Z"
    }
   },
   "outputs": [],
   "source": [
    "for row in df.itertuples(index=False):\n",
    "    if pd.notna(row.previous_gene_symbols):\n",
    "        [i.strip() for i in row.previous_gene_symbols.split(\";\")]\n",
    "        break"
   ]
  },
  {
   "cell_type": "code",
   "execution_count": null,
   "id": "e1266e91",
   "metadata": {
    "ExecuteTime": {
     "end_time": "2025-03-26T21:59:28.989934Z",
     "start_time": "2025-03-26T21:59:28.824623Z"
    }
   },
   "outputs": [],
   "source": [
    "## put into parser (format) -> DONE. \n",
    "##   don't save in array, yield each document instead\n",
    "\n",
    "## GENERATING DOCS, saving in array\n",
    "documents = []\n",
    "\n",
    "## using itertuples because it's faster, preserves datatypes\n",
    "for row in df.itertuples(index=False):\n",
    "    ## simple assignments\n",
    "    document = {\n",
    "        \"_id\": row.g2p_id,\n",
    "        \"subject\": {\n",
    "            \"hgnc_symbol\": row.gene_symbol,\n",
    "            \"hgnc\": row.hgnc_id,\n",
    "            \"type\": \"Gene\"\n",
    "        },\n",
    "        \"association\": {\n",
    "            \"g2p_record_id\": row.g2p_id,\n",
    "            \"g2p_record_url\": row.g2p_record_url,\n",
    "            \"allelic_requirement\": row.allelic_requirement,\n",
    "            \"confidence\": row.confidence,\n",
    "            \"molecular_mechanism\": row.molecular_mechanism,\n",
    "            \"molecular_mechanism_categorisation\": row.molecular_mechanism_categorisation,\n",
    "            \"g2p_panels\": [i.strip() for i in row.panel.split(\";\")],\n",
    "            \"date_of_last_review\": str(row.date_of_last_review)\n",
    "        },\n",
    "        \"object\": {\n",
    "            \"name\": row.disease_name,\n",
    "            \"type\": \"Disease\"\n",
    "        }\n",
    "    }    \n",
    "    ## only create field if value is not NA\n",
    "    ##   if value is NA, list comprehension with split won't work\n",
    "    ## Gene\n",
    "    if pd.notna(row.gene_mim):\n",
    "        document[\"subject\"][\"omim\"] = row.gene_mim\n",
    "    if pd.notna(row.previous_gene_symbols):\n",
    "        document[\"subject\"][\"previous_gene_symbols\"] = \\\n",
    "        [i.strip() for i in row.previous_gene_symbols.split(\";\")]\n",
    "        \n",
    "    ## Association\n",
    "    if pd.notna(row.cross_cutting_modifier):\n",
    "        document[\"association\"][\"cross_cutting_modifiers\"] = [i.strip() for i in row.cross_cutting_modifier.split(\";\")]\n",
    "    if pd.notna(row.variant_consequence):\n",
    "        document[\"association\"][\"variant_consequences\"] = [i.strip() for i in row.variant_consequence.split(\";\")]\n",
    "    if pd.notna(row.variant_types):\n",
    "        document[\"association\"][\"variant_types\"] = [i.strip() for i in row.variant_types.split(\";\")]\n",
    "    ## uses diff delimiters, could do more parsing\n",
    "    if pd.notna(row.molecular_mechanism_evidence):\n",
    "        document[\"association\"][\"molecular_mechanism_evidence\"] = [i.strip() for i in row.molecular_mechanism_evidence.split(\"&\")]\n",
    "    if pd.notna(row.phenotypes):\n",
    "        document[\"association\"][\"phenotypes\"] = [i.strip() for i in row.phenotypes.split(\";\")]\n",
    "    if pd.notna(row.publications):\n",
    "        document[\"association\"][\"pmids\"] = [i.strip() for i in row.publications.split(\";\")]\n",
    "    if pd.notna(row.comments):\n",
    "        document[\"association\"][\"curator_comments\"] = row.comments\n",
    "     \n",
    "    ## Disease\n",
    "    ## disease_mim: create field depending on whether OMIM or orphanet    \n",
    "    if pd.notna(row.disease_mim):\n",
    "        if row.disease_mim.startswith(\"orphanet\"):\n",
    "            document[\"object\"][\"orphanet\"] = row.disease_mim\n",
    "        elif row.disease_mim.startswith(\"OMIM\"):\n",
    "            document[\"object\"][\"omim\"] = row.disease_mim\n",
    "    if pd.notna(row.disease_MONDO):\n",
    "        document[\"object\"][\"mondo\"] = row.disease_MONDO\n",
    "    \n",
    "    documents.append(document)"
   ]
  },
  {
   "cell_type": "markdown",
   "id": "2b9b67a4",
   "metadata": {},
   "source": [
    "## Checking documents"
   ]
  },
  {
   "cell_type": "code",
   "execution_count": 83,
   "id": "a08d1645",
   "metadata": {
    "ExecuteTime": {
     "end_time": "2025-04-02T08:04:35.224095Z",
     "start_time": "2025-04-02T08:04:35.205287Z"
    }
   },
   "outputs": [
    {
     "data": {
      "text/html": [
       "<div>\n",
       "<style scoped>\n",
       "    .dataframe tbody tr th:only-of-type {\n",
       "        vertical-align: middle;\n",
       "    }\n",
       "\n",
       "    .dataframe tbody tr th {\n",
       "        vertical-align: top;\n",
       "    }\n",
       "\n",
       "    .dataframe thead th {\n",
       "        text-align: right;\n",
       "    }\n",
       "</style>\n",
       "<table border=\"1\" class=\"dataframe\">\n",
       "  <thead>\n",
       "    <tr style=\"text-align: right;\">\n",
       "      <th></th>\n",
       "      <th>g2p_id</th>\n",
       "      <th>gene_symbol</th>\n",
       "      <th>gene_mim</th>\n",
       "      <th>hgnc_id</th>\n",
       "      <th>previous_gene_symbols</th>\n",
       "      <th>disease_name</th>\n",
       "      <th>disease_mim</th>\n",
       "      <th>disease_MONDO</th>\n",
       "      <th>allelic_requirement</th>\n",
       "      <th>cross_cutting_modifier</th>\n",
       "      <th>confidence</th>\n",
       "      <th>variant_consequence</th>\n",
       "      <th>variant_types</th>\n",
       "      <th>molecular_mechanism</th>\n",
       "      <th>molecular_mechanism_categorisation</th>\n",
       "      <th>molecular_mechanism_evidence</th>\n",
       "      <th>phenotypes</th>\n",
       "      <th>publications</th>\n",
       "      <th>panel</th>\n",
       "      <th>comments</th>\n",
       "      <th>date_of_last_review</th>\n",
       "      <th>g2p_record_url</th>\n",
       "    </tr>\n",
       "  </thead>\n",
       "  <tbody>\n",
       "    <tr>\n",
       "      <th>3159</th>\n",
       "      <td>G2P03582</td>\n",
       "      <td>MYO6</td>\n",
       "      <td>OMIM:600970</td>\n",
       "      <td>HGNC:7605</td>\n",
       "      <td>DFNA22; DFNB37; KIAA0389</td>\n",
       "      <td>MYO6-related nonsyndromic genetic hearing loss</td>\n",
       "      <td>NaN</td>\n",
       "      <td>NaN</td>\n",
       "      <td>biallelic_autosomal</td>\n",
       "      <td>NaN</td>\n",
       "      <td>definitive</td>\n",
       "      <td>decreased gene product level; altered gene pro...</td>\n",
       "      <td>missense_variant; stop_gained; frameshift_vari...</td>\n",
       "      <td>undetermined</td>\n",
       "      <td>inferred</td>\n",
       "      <td>NaN</td>\n",
       "      <td>NaN</td>\n",
       "      <td>18348273; 23485424; 25999546; 12687499; 24105371</td>\n",
       "      <td>Hearing loss</td>\n",
       "      <td>NaN</td>\n",
       "      <td>2024-11-28 14:52:17+00:00</td>\n",
       "      <td>https://www.ebi.ac.uk/gene2phenotype/lgd/G2P03582</td>\n",
       "    </tr>\n",
       "    <tr>\n",
       "      <th>3160</th>\n",
       "      <td>G2P03583</td>\n",
       "      <td>MYO6</td>\n",
       "      <td>OMIM:600970</td>\n",
       "      <td>HGNC:7605</td>\n",
       "      <td>DFNA22; DFNB37; KIAA0389</td>\n",
       "      <td>MYO6-related nonsyndromic genetic hearing loss</td>\n",
       "      <td>NaN</td>\n",
       "      <td>NaN</td>\n",
       "      <td>monoallelic_autosomal</td>\n",
       "      <td>NaN</td>\n",
       "      <td>definitive</td>\n",
       "      <td>decreased gene product level; altered gene pro...</td>\n",
       "      <td>missense_variant; stop_gained; frameshift_vari...</td>\n",
       "      <td>undetermined</td>\n",
       "      <td>inferred</td>\n",
       "      <td>NaN</td>\n",
       "      <td>NaN</td>\n",
       "      <td>18348273; 23485424; 25999546; 24105371</td>\n",
       "      <td>Hearing loss</td>\n",
       "      <td>NaN</td>\n",
       "      <td>2024-11-28 14:47:17+00:00</td>\n",
       "      <td>https://www.ebi.ac.uk/gene2phenotype/lgd/G2P03583</td>\n",
       "    </tr>\n",
       "  </tbody>\n",
       "</table>\n",
       "</div>"
      ],
      "text/plain": [
       "        g2p_id gene_symbol     gene_mim    hgnc_id     previous_gene_symbols  \\\n",
       "3159  G2P03582        MYO6  OMIM:600970  HGNC:7605  DFNA22; DFNB37; KIAA0389   \n",
       "3160  G2P03583        MYO6  OMIM:600970  HGNC:7605  DFNA22; DFNB37; KIAA0389   \n",
       "\n",
       "                                        disease_name disease_mim  \\\n",
       "3159  MYO6-related nonsyndromic genetic hearing loss         NaN   \n",
       "3160  MYO6-related nonsyndromic genetic hearing loss         NaN   \n",
       "\n",
       "     disease_MONDO    allelic_requirement cross_cutting_modifier  confidence  \\\n",
       "3159           NaN    biallelic_autosomal                    NaN  definitive   \n",
       "3160           NaN  monoallelic_autosomal                    NaN  definitive   \n",
       "\n",
       "                                    variant_consequence  \\\n",
       "3159  decreased gene product level; altered gene pro...   \n",
       "3160  decreased gene product level; altered gene pro...   \n",
       "\n",
       "                                          variant_types molecular_mechanism  \\\n",
       "3159  missense_variant; stop_gained; frameshift_vari...        undetermined   \n",
       "3160  missense_variant; stop_gained; frameshift_vari...        undetermined   \n",
       "\n",
       "     molecular_mechanism_categorisation molecular_mechanism_evidence  \\\n",
       "3159                           inferred                          NaN   \n",
       "3160                           inferred                          NaN   \n",
       "\n",
       "     phenotypes                                      publications  \\\n",
       "3159        NaN  18348273; 23485424; 25999546; 12687499; 24105371   \n",
       "3160        NaN            18348273; 23485424; 25999546; 24105371   \n",
       "\n",
       "             panel comments       date_of_last_review  \\\n",
       "3159  Hearing loss      NaN 2024-11-28 14:52:17+00:00   \n",
       "3160  Hearing loss      NaN 2024-11-28 14:47:17+00:00   \n",
       "\n",
       "                                         g2p_record_url  \n",
       "3159  https://www.ebi.ac.uk/gene2phenotype/lgd/G2P03582  \n",
       "3160  https://www.ebi.ac.uk/gene2phenotype/lgd/G2P03583  "
      ]
     },
     "execution_count": 83,
     "metadata": {},
     "output_type": "execute_result"
    }
   ],
   "source": [
    "df[df[\"panel\"].str.contains(\"Hearing\", na=False)]\n",
    "\n",
    "## look for single values\n",
    "# df[~ df[\"publications\"].str.contains(\";\", na=True)]\n",
    "\n",
    "\n",
    "# df[df[\"publications\"].isna()]\n",
    "# df[df[\"cross_cutting_modifier\"].notna()]"
   ]
  },
  {
   "cell_type": "code",
   "execution_count": null,
   "id": "98f15187",
   "metadata": {
    "ExecuteTime": {
     "end_time": "2025-03-25T08:50:39.744164Z",
     "start_time": "2025-03-25T08:50:39.740486Z"
    }
   },
   "outputs": [],
   "source": [
    "pprint(documents[3642])\n",
    "\n",
    "# documents[416]"
   ]
  },
  {
   "cell_type": "markdown",
   "id": "5a0d2644",
   "metadata": {},
   "source": [
    "## Parser notes"
   ]
  },
  {
   "cell_type": "markdown",
   "id": "fb18be04",
   "metadata": {},
   "source": [
    "Fine to use raise/assert in parser (raise is technically better programming behavior: https://realpython.com/python-assert-statement/#understanding-common-pitfalls-of-assert)\n",
    "\n",
    "\n",
    "My notes on parser:\n",
    "* adding prefixes to gene/disease IDs is good for pre-NodeNorming steps\n",
    "* keeping diff gene/disease ID namespaces as separate fields right now is good for current BTE/x-bte-annotation system\n",
    "\n",
    "\n",
    "My notes on syntax:\n",
    "* use `yield` when you want to \"return\" within a \"for loop\" (return only happen once, then exit for-loop/function execution)\n",
    "  * that's what it's used in main execution, when you're iterating over csv rows to generate documents\n",
    "* use `yield from {function}` to get the data from a generator (created by `yield` being used the function)"
   ]
  },
  {
   "cell_type": "markdown",
   "id": "0ff20129",
   "metadata": {},
   "source": [
    "## Pre-NodeNorming"
   ]
  },
  {
   "cell_type": "markdown",
   "id": "36cc8027",
   "metadata": {},
   "source": [
    "Notes\n",
    "\n",
    "Querying NodeNorm: better to send unique values from entire column (can do in large batches) -> generate mapping dict to use\n",
    "* Querying NodeNorm 1-by-1 or 1 row at a time is too slow, and would involve sending duplicate IDs (unless saved dict is kept outside loop and checked) \n",
    "\n",
    "Not going to use NameResolver. Not optimistic this would work anyways. My manual process of getting \"better\" disease IDs is to use the gene IDs, find the diseases they're linked to in OMIM and Monarch, and seeing if those match the data's disease name / phenotypes / pmids. "
   ]
  },
  {
   "cell_type": "code",
   "execution_count": 11,
   "id": "ec7095c7",
   "metadata": {
    "ExecuteTime": {
     "end_time": "2025-04-02T07:15:05.489585Z",
     "start_time": "2025-04-02T07:15:05.390760Z"
    }
   },
   "outputs": [],
   "source": [
    "## put into parser (format): DONE\n",
    "\n",
    "import requests\n",
    "\n",
    "## from BioThings annotator code: for interoperability between diff Python versions\n",
    "# try:\n",
    "#     from itertools import batched  # new in Python 3.12\n",
    "# except ImportError:\n",
    "#     from itertools import islice\n",
    "\n",
    "#     def batched(iterable, n):\n",
    "#         # batched('ABCDEFG', 3) → ABC DEF G\n",
    "#         if n < 1:\n",
    "#             raise ValueError(\"n must be at least one\")\n",
    "#         iterator = iter(iterable)\n",
    "#         while batch := tuple(islice(iterator, n)):\n",
    "#             yield batch\n",
    "\n",
    "## doing to test that this works\n",
    "from itertools import islice\n",
    "\n",
    "def batched(iterable, n):\n",
    "    # batched('ABCDEFG', 3) → ABC DEF G\n",
    "    if n < 1:\n",
    "        raise ValueError(\"n must be at least one\")\n",
    "    iterator = iter(iterable)\n",
    "    while batch := tuple(islice(iterator, n)):\n",
    "        yield batch\n",
    "\n",
    "nodenorm_url = \"https://nodenorm.ci.transltr.io/get_normalized_nodes\""
   ]
  },
  {
   "cell_type": "code",
   "execution_count": 12,
   "id": "c9c7d169",
   "metadata": {
    "ExecuteTime": {
     "end_time": "2025-04-02T07:15:06.866745Z",
     "start_time": "2025-04-02T07:15:06.842801Z"
    }
   },
   "outputs": [
    {
     "name": "stdout",
     "output_type": "stream",
     "text": [
      "<class 'pandas.core.frame.DataFrame'>\n",
      "RangeIndex: 3647 entries, 0 to 3646\n",
      "Data columns (total 22 columns):\n",
      " #   Column                              Non-Null Count  Dtype              \n",
      "---  ------                              --------------  -----              \n",
      " 0   g2p_id                              3647 non-null   object             \n",
      " 1   gene_symbol                         3647 non-null   object             \n",
      " 2   gene_mim                            3645 non-null   object             \n",
      " 3   hgnc_id                             3647 non-null   object             \n",
      " 4   previous_gene_symbols               3277 non-null   object             \n",
      " 5   disease_name                        3647 non-null   object             \n",
      " 6   disease_mim                         2570 non-null   object             \n",
      " 7   disease_MONDO                       561 non-null    object             \n",
      " 8   allelic_requirement                 3647 non-null   object             \n",
      " 9   cross_cutting_modifier              451 non-null    object             \n",
      " 10  confidence                          3647 non-null   object             \n",
      " 11  variant_consequence                 3629 non-null   object             \n",
      " 12  variant_types                       997 non-null    object             \n",
      " 13  molecular_mechanism                 3647 non-null   object             \n",
      " 14  molecular_mechanism_categorisation  3647 non-null   object             \n",
      " 15  molecular_mechanism_evidence        28 non-null     object             \n",
      " 16  phenotypes                          2430 non-null   object             \n",
      " 17  publications                        3301 non-null   object             \n",
      " 18  panel                               3647 non-null   object             \n",
      " 19  comments                            103 non-null    object             \n",
      " 20  date_of_last_review                 3647 non-null   datetime64[ns, UTC]\n",
      " 21  g2p_record_url                      3647 non-null   object             \n",
      "dtypes: datetime64[ns, UTC](1), object(21)\n",
      "memory usage: 5.4 MB\n"
     ]
    }
   ],
   "source": [
    "df.info(memory_usage=\"deep\")"
   ]
  },
  {
   "cell_type": "code",
   "execution_count": 13,
   "id": "2665b2c6",
   "metadata": {
    "ExecuteTime": {
     "end_time": "2025-04-02T07:15:07.855298Z",
     "start_time": "2025-04-02T07:15:07.837596Z"
    }
   },
   "outputs": [
    {
     "data": {
      "text/html": [
       "<div>\n",
       "<style scoped>\n",
       "    .dataframe tbody tr th:only-of-type {\n",
       "        vertical-align: middle;\n",
       "    }\n",
       "\n",
       "    .dataframe tbody tr th {\n",
       "        vertical-align: top;\n",
       "    }\n",
       "\n",
       "    .dataframe thead th {\n",
       "        text-align: right;\n",
       "    }\n",
       "</style>\n",
       "<table border=\"1\" class=\"dataframe\">\n",
       "  <thead>\n",
       "    <tr style=\"text-align: right;\">\n",
       "      <th></th>\n",
       "      <th>g2p_id</th>\n",
       "      <th>gene_symbol</th>\n",
       "      <th>gene_mim</th>\n",
       "      <th>hgnc_id</th>\n",
       "      <th>previous_gene_symbols</th>\n",
       "      <th>disease_name</th>\n",
       "      <th>disease_mim</th>\n",
       "      <th>disease_MONDO</th>\n",
       "      <th>allelic_requirement</th>\n",
       "      <th>cross_cutting_modifier</th>\n",
       "      <th>confidence</th>\n",
       "      <th>variant_consequence</th>\n",
       "      <th>variant_types</th>\n",
       "      <th>molecular_mechanism</th>\n",
       "      <th>molecular_mechanism_categorisation</th>\n",
       "      <th>molecular_mechanism_evidence</th>\n",
       "      <th>phenotypes</th>\n",
       "      <th>publications</th>\n",
       "      <th>panel</th>\n",
       "      <th>comments</th>\n",
       "      <th>date_of_last_review</th>\n",
       "      <th>g2p_record_url</th>\n",
       "    </tr>\n",
       "  </thead>\n",
       "  <tbody>\n",
       "    <tr>\n",
       "      <th>0</th>\n",
       "      <td>G2P00124</td>\n",
       "      <td>KCNE1</td>\n",
       "      <td>OMIM:176261</td>\n",
       "      <td>HGNC:6240</td>\n",
       "      <td>ISK; JLNS2; LQT5; MINK</td>\n",
       "      <td>KCNE1-related Jervell and Lange-Nielsen syndrome</td>\n",
       "      <td>OMIM:612347</td>\n",
       "      <td>NaN</td>\n",
       "      <td>biallelic_autosomal</td>\n",
       "      <td>potential secondary finding</td>\n",
       "      <td>strong</td>\n",
       "      <td>altered gene product structure</td>\n",
       "      <td>missense_variant; inframe_deletion; stop_gaine...</td>\n",
       "      <td>undetermined</td>\n",
       "      <td>inferred</td>\n",
       "      <td>NaN</td>\n",
       "      <td>HP:0000407; HP:0001657; HP:0000007; HP:0001279</td>\n",
       "      <td>30461122</td>\n",
       "      <td>Developmental disorders; Cardiac disorders</td>\n",
       "      <td>KCNE1-related JLNS is due to altered gene prod...</td>\n",
       "      <td>2024-04-05 12:05:01+00:00</td>\n",
       "      <td>https://www.ebi.ac.uk/gene2phenotype/lgd/G2P00124</td>\n",
       "    </tr>\n",
       "    <tr>\n",
       "      <th>1</th>\n",
       "      <td>G2P00841</td>\n",
       "      <td>PTPN11</td>\n",
       "      <td>OMIM:176876</td>\n",
       "      <td>HGNC:9644</td>\n",
       "      <td>BPTP3; NS1; PTP2C; SH-PTP2; SHP-2; SHP2</td>\n",
       "      <td>PTPN11-related Noonan syndrome with multiple l...</td>\n",
       "      <td>OMIM:151100</td>\n",
       "      <td>NaN</td>\n",
       "      <td>monoallelic_autosomal</td>\n",
       "      <td>NaN</td>\n",
       "      <td>definitive</td>\n",
       "      <td>altered gene product structure</td>\n",
       "      <td>missense_variant; inframe_deletion; inframe_in...</td>\n",
       "      <td>undetermined</td>\n",
       "      <td>inferred</td>\n",
       "      <td>NaN</td>\n",
       "      <td>HP:0000325; HP:0002996; HP:0000957; HP:0001709...</td>\n",
       "      <td>27484170; 26377839; 25917897; 25884655; 248207...</td>\n",
       "      <td>Developmental disorders; Skin disorders; Cardi...</td>\n",
       "      <td>Expert review done on 12/01/2022; Noonan syndr...</td>\n",
       "      <td>2025-01-21 14:56:43+00:00</td>\n",
       "      <td>https://www.ebi.ac.uk/gene2phenotype/lgd/G2P00841</td>\n",
       "    </tr>\n",
       "    <tr>\n",
       "      <th>2</th>\n",
       "      <td>G2P03247</td>\n",
       "      <td>DSC2</td>\n",
       "      <td>OMIM:125645</td>\n",
       "      <td>HGNC:3036</td>\n",
       "      <td>CDHF2; DSC3</td>\n",
       "      <td>DSC2-related arrhythmogenic right ventricular ...</td>\n",
       "      <td>NaN</td>\n",
       "      <td>MONDO:0012506</td>\n",
       "      <td>monoallelic_autosomal</td>\n",
       "      <td>NaN</td>\n",
       "      <td>definitive</td>\n",
       "      <td>decreased gene product level; altered gene pro...</td>\n",
       "      <td>inframe_deletion; splice_region_variant; misse...</td>\n",
       "      <td>undetermined</td>\n",
       "      <td>inferred</td>\n",
       "      <td>NaN</td>\n",
       "      <td>NaN</td>\n",
       "      <td>31028357; 23911551; 21636032; 33831308; 263105...</td>\n",
       "      <td>Cardiac disorders</td>\n",
       "      <td>Expert review done on 05/01/2022; DSC2-related...</td>\n",
       "      <td>2024-03-20 09:36:09+00:00</td>\n",
       "      <td>https://www.ebi.ac.uk/gene2phenotype/lgd/G2P03247</td>\n",
       "    </tr>\n",
       "    <tr>\n",
       "      <th>3</th>\n",
       "      <td>G2P03248</td>\n",
       "      <td>DSC2</td>\n",
       "      <td>OMIM:125645</td>\n",
       "      <td>HGNC:3036</td>\n",
       "      <td>CDHF2; DSC3</td>\n",
       "      <td>DSC2-related arrhythmogenic right ventricular ...</td>\n",
       "      <td>NaN</td>\n",
       "      <td>MONDO:0012506</td>\n",
       "      <td>biallelic_autosomal</td>\n",
       "      <td>NaN</td>\n",
       "      <td>definitive</td>\n",
       "      <td>decreased gene product level; altered gene pro...</td>\n",
       "      <td>inframe_deletion; splice_region_variant; misse...</td>\n",
       "      <td>undetermined</td>\n",
       "      <td>inferred</td>\n",
       "      <td>NaN</td>\n",
       "      <td>NaN</td>\n",
       "      <td>31028357; 23911551; 21636032; 33831308; 263105...</td>\n",
       "      <td>Cardiac disorders</td>\n",
       "      <td>Expert review done on 05/01/2022; DSC2-related...</td>\n",
       "      <td>2024-03-20 09:35:19+00:00</td>\n",
       "      <td>https://www.ebi.ac.uk/gene2phenotype/lgd/G2P03248</td>\n",
       "    </tr>\n",
       "    <tr>\n",
       "      <th>4</th>\n",
       "      <td>G2P03249</td>\n",
       "      <td>DSG2</td>\n",
       "      <td>OMIM:125671</td>\n",
       "      <td>HGNC:3049</td>\n",
       "      <td>CDHF5</td>\n",
       "      <td>DSG2-related arrhythmogenic right ventricular ...</td>\n",
       "      <td>NaN</td>\n",
       "      <td>MONDO:0012434</td>\n",
       "      <td>monoallelic_autosomal</td>\n",
       "      <td>NaN</td>\n",
       "      <td>definitive</td>\n",
       "      <td>decreased gene product level; altered gene pro...</td>\n",
       "      <td>inframe_deletion; missense_variant; stop_gaine...</td>\n",
       "      <td>undetermined</td>\n",
       "      <td>inferred</td>\n",
       "      <td>NaN</td>\n",
       "      <td>NaN</td>\n",
       "      <td>21636032; 33831308; 33917638; 34400560; 240707...</td>\n",
       "      <td>Cardiac disorders</td>\n",
       "      <td>Expert review done on 05/01/2022; DSG2-related...</td>\n",
       "      <td>2024-03-20 09:40:18+00:00</td>\n",
       "      <td>https://www.ebi.ac.uk/gene2phenotype/lgd/G2P03249</td>\n",
       "    </tr>\n",
       "  </tbody>\n",
       "</table>\n",
       "</div>"
      ],
      "text/plain": [
       "     g2p_id gene_symbol     gene_mim    hgnc_id  \\\n",
       "0  G2P00124       KCNE1  OMIM:176261  HGNC:6240   \n",
       "1  G2P00841      PTPN11  OMIM:176876  HGNC:9644   \n",
       "2  G2P03247        DSC2  OMIM:125645  HGNC:3036   \n",
       "3  G2P03248        DSC2  OMIM:125645  HGNC:3036   \n",
       "4  G2P03249        DSG2  OMIM:125671  HGNC:3049   \n",
       "\n",
       "                     previous_gene_symbols  \\\n",
       "0                   ISK; JLNS2; LQT5; MINK   \n",
       "1  BPTP3; NS1; PTP2C; SH-PTP2; SHP-2; SHP2   \n",
       "2                              CDHF2; DSC3   \n",
       "3                              CDHF2; DSC3   \n",
       "4                                    CDHF5   \n",
       "\n",
       "                                        disease_name  disease_mim  \\\n",
       "0   KCNE1-related Jervell and Lange-Nielsen syndrome  OMIM:612347   \n",
       "1  PTPN11-related Noonan syndrome with multiple l...  OMIM:151100   \n",
       "2  DSC2-related arrhythmogenic right ventricular ...          NaN   \n",
       "3  DSC2-related arrhythmogenic right ventricular ...          NaN   \n",
       "4  DSG2-related arrhythmogenic right ventricular ...          NaN   \n",
       "\n",
       "   disease_MONDO    allelic_requirement       cross_cutting_modifier  \\\n",
       "0            NaN    biallelic_autosomal  potential secondary finding   \n",
       "1            NaN  monoallelic_autosomal                          NaN   \n",
       "2  MONDO:0012506  monoallelic_autosomal                          NaN   \n",
       "3  MONDO:0012506    biallelic_autosomal                          NaN   \n",
       "4  MONDO:0012434  monoallelic_autosomal                          NaN   \n",
       "\n",
       "   confidence                                variant_consequence  \\\n",
       "0      strong                     altered gene product structure   \n",
       "1  definitive                     altered gene product structure   \n",
       "2  definitive  decreased gene product level; altered gene pro...   \n",
       "3  definitive  decreased gene product level; altered gene pro...   \n",
       "4  definitive  decreased gene product level; altered gene pro...   \n",
       "\n",
       "                                       variant_types molecular_mechanism  \\\n",
       "0  missense_variant; inframe_deletion; stop_gaine...        undetermined   \n",
       "1  missense_variant; inframe_deletion; inframe_in...        undetermined   \n",
       "2  inframe_deletion; splice_region_variant; misse...        undetermined   \n",
       "3  inframe_deletion; splice_region_variant; misse...        undetermined   \n",
       "4  inframe_deletion; missense_variant; stop_gaine...        undetermined   \n",
       "\n",
       "  molecular_mechanism_categorisation molecular_mechanism_evidence  \\\n",
       "0                           inferred                          NaN   \n",
       "1                           inferred                          NaN   \n",
       "2                           inferred                          NaN   \n",
       "3                           inferred                          NaN   \n",
       "4                           inferred                          NaN   \n",
       "\n",
       "                                          phenotypes  \\\n",
       "0     HP:0000407; HP:0001657; HP:0000007; HP:0001279   \n",
       "1  HP:0000325; HP:0002996; HP:0000957; HP:0001709...   \n",
       "2                                                NaN   \n",
       "3                                                NaN   \n",
       "4                                                NaN   \n",
       "\n",
       "                                        publications  \\\n",
       "0                                           30461122   \n",
       "1  27484170; 26377839; 25917897; 25884655; 248207...   \n",
       "2  31028357; 23911551; 21636032; 33831308; 263105...   \n",
       "3  31028357; 23911551; 21636032; 33831308; 263105...   \n",
       "4  21636032; 33831308; 33917638; 34400560; 240707...   \n",
       "\n",
       "                                               panel  \\\n",
       "0         Developmental disorders; Cardiac disorders   \n",
       "1  Developmental disorders; Skin disorders; Cardi...   \n",
       "2                                  Cardiac disorders   \n",
       "3                                  Cardiac disorders   \n",
       "4                                  Cardiac disorders   \n",
       "\n",
       "                                            comments  \\\n",
       "0  KCNE1-related JLNS is due to altered gene prod...   \n",
       "1  Expert review done on 12/01/2022; Noonan syndr...   \n",
       "2  Expert review done on 05/01/2022; DSC2-related...   \n",
       "3  Expert review done on 05/01/2022; DSC2-related...   \n",
       "4  Expert review done on 05/01/2022; DSG2-related...   \n",
       "\n",
       "        date_of_last_review                                     g2p_record_url  \n",
       "0 2024-04-05 12:05:01+00:00  https://www.ebi.ac.uk/gene2phenotype/lgd/G2P00124  \n",
       "1 2025-01-21 14:56:43+00:00  https://www.ebi.ac.uk/gene2phenotype/lgd/G2P00841  \n",
       "2 2024-03-20 09:36:09+00:00  https://www.ebi.ac.uk/gene2phenotype/lgd/G2P03247  \n",
       "3 2024-03-20 09:35:19+00:00  https://www.ebi.ac.uk/gene2phenotype/lgd/G2P03248  \n",
       "4 2024-03-20 09:40:18+00:00  https://www.ebi.ac.uk/gene2phenotype/lgd/G2P03249  "
      ]
     },
     "execution_count": 13,
     "metadata": {},
     "output_type": "execute_result"
    }
   ],
   "source": [
    "df.head()"
   ]
  },
  {
   "cell_type": "markdown",
   "id": "fd327545",
   "metadata": {},
   "source": [
    "### Genes"
   ]
  },
  {
   "cell_type": "markdown",
   "id": "42bf5e56",
   "metadata": {},
   "source": [
    "Method #2: build a mapping dict from unique values"
   ]
  },
  {
   "cell_type": "markdown",
   "id": "1c706c6d",
   "metadata": {},
   "source": [
    "#### HGNC IDs"
   ]
  },
  {
   "cell_type": "code",
   "execution_count": 14,
   "id": "54f32d70",
   "metadata": {
    "ExecuteTime": {
     "end_time": "2025-04-02T07:15:16.905728Z",
     "start_time": "2025-04-02T07:15:16.899409Z"
    }
   },
   "outputs": [
    {
     "data": {
      "text/plain": [
       "2991"
      ]
     },
     "execution_count": 14,
     "metadata": {},
     "output_type": "execute_result"
    }
   ],
   "source": [
    "## put into parser (format): DONE\n",
    "\n",
    "gene_hgnc_curies = df[\"hgnc_id\"].dropna().unique()\n",
    "len(gene_hgnc_curies)"
   ]
  },
  {
   "cell_type": "code",
   "execution_count": 15,
   "id": "27fdeabc",
   "metadata": {
    "ExecuteTime": {
     "end_time": "2025-04-02T07:15:27.312553Z",
     "start_time": "2025-04-02T07:15:17.754728Z"
    }
   },
   "outputs": [],
   "source": [
    "## put into parser (format): \n",
    "\n",
    "gene_nodenorm_mapping = {}\n",
    "\n",
    "## larger batches are quicker\n",
    "for batch in batched(gene_hgnc_curies, 1000):\n",
    "    ## returns tuples\n",
    "    req_body = {\n",
    "        \"curies\": list(batch),\n",
    "        \"conflate\": True,\n",
    "    }\n",
    "    r = requests.post(nodenorm_url, json=req_body)\n",
    "    response = r.json()\n",
    "    \n",
    "    temp = {\n",
    "        k: {\"primary_id\": v[\"id\"][\"identifier\"],\n",
    "            \"primary_label\": v[\"id\"][\"label\"],\n",
    "            \"type\": v[\"type\"][0]} \n",
    "        for k,v in response.items()\n",
    "    }\n",
    "    gene_nodenorm_mapping.update(temp)"
   ]
  },
  {
   "cell_type": "code",
   "execution_count": 16,
   "id": "fce525ef",
   "metadata": {
    "ExecuteTime": {
     "end_time": "2025-04-02T07:15:28.718379Z",
     "start_time": "2025-04-02T07:15:28.714254Z"
    }
   },
   "outputs": [
    {
     "data": {
      "text/plain": [
       "2991"
      ]
     },
     "execution_count": 16,
     "metadata": {},
     "output_type": "execute_result"
    }
   ],
   "source": [
    "len(gene_nodenorm_mapping)"
   ]
  },
  {
   "cell_type": "markdown",
   "id": "93d72485",
   "metadata": {},
   "source": [
    "#### OMIM IDs"
   ]
  },
  {
   "cell_type": "code",
   "execution_count": 17,
   "id": "0dd6d6af",
   "metadata": {
    "ExecuteTime": {
     "end_time": "2025-04-02T07:15:31.283215Z",
     "start_time": "2025-04-02T07:15:31.276774Z"
    }
   },
   "outputs": [
    {
     "data": {
      "text/plain": [
       "2989"
      ]
     },
     "execution_count": 17,
     "metadata": {},
     "output_type": "execute_result"
    }
   ],
   "source": [
    "gene_omim_curies = df[\"gene_mim\"].dropna().unique()\n",
    "len(gene_omim_curies)"
   ]
  },
  {
   "cell_type": "code",
   "execution_count": 18,
   "id": "957be446",
   "metadata": {
    "ExecuteTime": {
     "end_time": "2025-04-02T07:15:31.888744Z",
     "start_time": "2025-04-02T07:15:31.886109Z"
    }
   },
   "outputs": [],
   "source": [
    "gene_IDs_no_label = []\n",
    "gene_IDs_wrong_category = []\n",
    "gene_IDs_not_recognized = []"
   ]
  },
  {
   "cell_type": "code",
   "execution_count": 19,
   "id": "e7f772e0",
   "metadata": {
    "ExecuteTime": {
     "end_time": "2025-04-02T07:15:42.231076Z",
     "start_time": "2025-04-02T07:15:33.711668Z"
    }
   },
   "outputs": [],
   "source": [
    "## larger batches are quicker\n",
    "for batch in batched(gene_omim_curies, 1000):\n",
    "    ## returns tuples\n",
    "    req_body = {\n",
    "        \"curies\": list(batch),\n",
    "        \"conflate\": True,\n",
    "    }\n",
    "    r = requests.post(nodenorm_url, json=req_body)\n",
    "    response = r.json()\n",
    "    \n",
    "    ## not doing dict comprehension. allows easier review, logic writing\n",
    "    for k,v in response.items():\n",
    "        try:\n",
    "            ## if NodeNorm did not recognize ID, v will be None\n",
    "            if v is not None:\n",
    "                ## some IDs aren't Gene, throw those mappings out \n",
    "                if v[\"type\"][0] == \"biolink:Gene\":\n",
    "                    ## also throw out mapping if no primary label found\n",
    "                    if v[\"id\"].get(\"label\"):\n",
    "                        temp = {\n",
    "                            k: {\"primary_id\": v[\"id\"][\"identifier\"],\n",
    "                                \"primary_label\": v[\"id\"][\"label\"]\n",
    "                               }\n",
    "                        }\n",
    "                        gene_nodenorm_mapping.update(temp)\n",
    "                    else:\n",
    "                        gene_IDs_no_label.append(k)\n",
    "                        print(f\"{k}: NodeNorm didn't find primary label. Not keeping this mapping.\")\n",
    "                else:\n",
    "                    gene_IDs_wrong_category.append(k)\n",
    "                    print(f'{k}: NodeNorm found different category {v[\"type\"][0]}. Not keeping this mapping.')\n",
    "            else:\n",
    "                gene_IDs_not_recognized.append(k)\n",
    "                print(f\"{k}: NodeNorm didn't recognize this ID\")\n",
    "        except:\n",
    "            print(f'Encountered an error processing the NodeNorm response.')\n",
    "            print(f'NodeNorm response key: {k}')\n",
    "            print(f'NodeNorm response value: {v}')"
   ]
  },
  {
   "cell_type": "code",
   "execution_count": 20,
   "id": "d21aeede",
   "metadata": {
    "ExecuteTime": {
     "end_time": "2025-04-02T07:15:50.698881Z",
     "start_time": "2025-04-02T07:15:50.320143Z"
    }
   },
   "outputs": [
    {
     "ename": "KeyError",
     "evalue": "'OMIM:621003'",
     "output_type": "error",
     "traceback": [
      "\u001b[0;31m---------------------------------------------------------------------------\u001b[0m",
      "\u001b[0;31mKeyError\u001b[0m                                  Traceback (most recent call last)",
      "Cell \u001b[0;32mIn[20], line 3\u001b[0m\n\u001b[1;32m      1\u001b[0m \u001b[38;5;66;03m## from looking at 2025-03-28 data\u001b[39;00m\n\u001b[0;32m----> 3\u001b[0m \u001b[43mresponse\u001b[49m\u001b[43m[\u001b[49m\u001b[38;5;124;43m\"\u001b[39;49m\u001b[38;5;124;43mOMIM:621003\u001b[39;49m\u001b[38;5;124;43m\"\u001b[39;49m\u001b[43m]\u001b[49m\n",
      "\u001b[0;31mKeyError\u001b[0m: 'OMIM:621003'"
     ]
    }
   ],
   "source": [
    "## from looking at 2025-03-28 data\n",
    "\n",
    "response[\"OMIM:621003\"]"
   ]
  },
  {
   "cell_type": "code",
   "execution_count": 21,
   "id": "5612e143",
   "metadata": {
    "ExecuteTime": {
     "end_time": "2025-04-02T07:15:53.434693Z",
     "start_time": "2025-04-02T07:15:53.429422Z"
    }
   },
   "outputs": [
    {
     "data": {
      "text/plain": [
       "5980"
      ]
     },
     "execution_count": 21,
     "metadata": {},
     "output_type": "execute_result"
    }
   ],
   "source": [
    "len(gene_nodenorm_mapping)"
   ]
  },
  {
   "cell_type": "markdown",
   "id": "e3f2efc4",
   "metadata": {},
   "source": [
    "#### Comparing the two"
   ]
  },
  {
   "cell_type": "code",
   "execution_count": 22,
   "id": "e7cff737",
   "metadata": {
    "ExecuteTime": {
     "end_time": "2025-04-02T07:15:55.944019Z",
     "start_time": "2025-04-02T07:15:55.924378Z"
    }
   },
   "outputs": [
    {
     "ename": "KeyError",
     "evalue": "'type'",
     "output_type": "error",
     "traceback": [
      "\u001b[0;31m---------------------------------------------------------------------------\u001b[0m",
      "\u001b[0;31mKeyError\u001b[0m                                  Traceback (most recent call last)",
      "Cell \u001b[0;32mIn[22], line 3\u001b[0m\n\u001b[1;32m      1\u001b[0m \u001b[38;5;66;03m## are all the NodeNorm main category Gene?\u001b[39;00m\n\u001b[1;32m      2\u001b[0m \u001b[38;5;28;01mfor\u001b[39;00m k, v \u001b[38;5;129;01min\u001b[39;00m gene_nodenorm_mapping\u001b[38;5;241m.\u001b[39mitems():\n\u001b[0;32m----> 3\u001b[0m     \u001b[38;5;28;01mif\u001b[39;00m \u001b[43mv\u001b[49m\u001b[43m[\u001b[49m\u001b[38;5;124;43m\"\u001b[39;49m\u001b[38;5;124;43mtype\u001b[39;49m\u001b[38;5;124;43m\"\u001b[39;49m\u001b[43m]\u001b[49m \u001b[38;5;241m!=\u001b[39m \u001b[38;5;124m\"\u001b[39m\u001b[38;5;124mbiolink:Gene\u001b[39m\u001b[38;5;124m\"\u001b[39m:\n\u001b[1;32m      4\u001b[0m         \u001b[38;5;28mprint\u001b[39m(\u001b[38;5;124mf\u001b[39m\u001b[38;5;124m'\u001b[39m\u001b[38;5;132;01m{\u001b[39;00mk\u001b[38;5;132;01m}\u001b[39;00m\u001b[38;5;124m: NodeNorm found different category \u001b[39m\u001b[38;5;132;01m{\u001b[39;00mv[\u001b[38;5;124m\"\u001b[39m\u001b[38;5;124mtype\u001b[39m\u001b[38;5;124m\"\u001b[39m]\u001b[38;5;132;01m}\u001b[39;00m\u001b[38;5;124m'\u001b[39m)\n\u001b[1;32m      6\u001b[0m \u001b[38;5;66;03m## nothing prints, so we're good there\u001b[39;00m\n",
      "\u001b[0;31mKeyError\u001b[0m: 'type'"
     ]
    }
   ],
   "source": [
    "## are all the NodeNorm main category Gene?\n",
    "for k, v in gene_nodenorm_mapping.items():\n",
    "    if v[\"type\"] != \"biolink:Gene\":\n",
    "        print(f'{k}: NodeNorm found different category {v[\"type\"]}')\n",
    "        \n",
    "## nothing prints, so we're good there"
   ]
  },
  {
   "cell_type": "code",
   "execution_count": 23,
   "id": "7401b121",
   "metadata": {
    "ExecuteTime": {
     "end_time": "2025-04-02T07:16:03.788315Z",
     "start_time": "2025-04-02T07:16:03.773832Z"
    }
   },
   "outputs": [],
   "source": [
    "## look for differences in primary ID found if row has both IDs\n",
    "for row in df[[\"gene_mim\", \"hgnc_id\"]].itertuples(index=False):\n",
    "    if pd.notna(row.gene_mim) and pd.notna(row.hgnc_id):\n",
    "        if gene_nodenorm_mapping.get(row.gene_mim) and \\\n",
    "        gene_nodenorm_mapping.get(row.hgnc_id):\n",
    "            if gene_nodenorm_mapping[row.gene_mim][\"primary_id\"] != \\\n",
    "            gene_nodenorm_mapping[row.hgnc_id][\"primary_id\"]:\n",
    "                print(row)\n",
    "\n",
    "## nothing prints, so there are no mismatches"
   ]
  },
  {
   "cell_type": "code",
   "execution_count": 24,
   "id": "e0dcee11",
   "metadata": {
    "ExecuteTime": {
     "end_time": "2025-04-02T07:16:05.216467Z",
     "start_time": "2025-04-02T07:16:05.207859Z"
    }
   },
   "outputs": [
    {
     "name": "stdout",
     "output_type": "stream",
     "text": [
      "G2P name MT-TP, ID HGNC:7494\n",
      "NodeNorm name TRNP, ID NCBIGene:4571\n",
      "\n",
      "\n",
      "G2P name CENPJ, ID HGNC:17272\n",
      "NodeNorm name CPAP, ID NCBIGene:55835\n",
      "\n",
      "\n",
      "G2P name CCDC103, ID HGNC:32700\n",
      "NodeNorm name DNAAF19, ID NCBIGene:388389\n",
      "\n",
      "\n",
      "G2P name MT-TL1, ID HGNC:7490\n",
      "NodeNorm name TRNL1, ID NCBIGene:4567\n",
      "\n",
      "\n",
      "G2P name MT-ND1, ID HGNC:7455\n",
      "NodeNorm name ND1, ID NCBIGene:4535\n",
      "\n",
      "\n",
      "G2P name MT-ND4, ID HGNC:7459\n",
      "NodeNorm name ND4, ID NCBIGene:4538\n",
      "\n",
      "\n",
      "G2P name MT-ATP6, ID HGNC:7414\n",
      "NodeNorm name ATP6, ID NCBIGene:4508\n",
      "\n",
      "\n",
      "G2P name MT-ND5, ID HGNC:7461\n",
      "NodeNorm name ND5, ID NCBIGene:4540\n",
      "\n",
      "\n",
      "G2P name MT-ND6, ID HGNC:7462\n",
      "NodeNorm name ND6, ID NCBIGene:4541\n",
      "\n",
      "\n"
     ]
    }
   ],
   "source": [
    "## look for differences in name between NodeNormed and original data\n",
    "\n",
    "for row in df[[\"gene_symbol\", \"hgnc_id\"]].itertuples(index=False):\n",
    "    if row.gene_symbol != gene_nodenorm_mapping[row.hgnc_id][\"primary_label\"]:\n",
    "        print(f\"G2P name {row.gene_symbol}, ID {row.hgnc_id}\")\n",
    "        print(f'NodeNorm name {gene_nodenorm_mapping[row.hgnc_id][\"primary_label\"]}, ID {gene_nodenorm_mapping[row.hgnc_id][\"primary_id\"]}')\n",
    "        print(\"\\n\")\n",
    "        \n",
    "## mismatched names\n",
    "## NodeNorm is correct for CENPJ -> CPAP and CCDC103 -> DNAAF19\n",
    "## something is odd for the others (mitochondrial genes) -> messaged NodeNorm"
   ]
  },
  {
   "cell_type": "markdown",
   "id": "15f9836e",
   "metadata": {},
   "source": [
    "Notes: \n",
    "* All IDs were resolved by NodeNorm\n",
    "* All IDs were resolved as Genes (main category) \n",
    "* When rows had both OMIM gene and HGNC IDs, there were no mismatches in resolved NodeNorm entity/primary ID\n",
    "\n",
    "Plans:\n",
    "* only use HGNC ID column:\n",
    "  * no missing values\n",
    "  * no NodeNorm mismatches using it vs OMIM\n",
    "  * if there were mismatches, I was going to prefer this mapping over OMIM's anyways\n",
    "* use mapping dict to create two new columns: gene_nodenorm_id, gene_nodenorm_label"
   ]
  },
  {
   "cell_type": "code",
   "execution_count": null,
   "id": "0694697f",
   "metadata": {
    "ExecuteTime": {
     "end_time": "2025-04-01T07:17:07.846072Z",
     "start_time": "2025-04-01T07:17:07.839142Z"
    }
   },
   "outputs": [],
   "source": [
    "## put into parser (format): \n",
    "\n",
    "df[\"gene_nodenorm_id\"] = [gene_nodenorm_mapping[i][\"primary_id\"] for i in df[\"hgnc_id\"]]\n",
    "df[\"gene_nodenorm_label\"] = [gene_nodenorm_mapping[i][\"primary_label\"] for i in df[\"hgnc_id\"]]"
   ]
  },
  {
   "cell_type": "code",
   "execution_count": null,
   "id": "e2d661d4",
   "metadata": {
    "ExecuteTime": {
     "end_time": "2025-04-01T07:17:08.502573Z",
     "start_time": "2025-04-01T07:17:08.490523Z"
    }
   },
   "outputs": [],
   "source": [
    "## look at the gene ID/name info\n",
    "\n",
    "gene_mapping_df = df[[\"gene_symbol\", \"gene_mim\", \"hgnc_id\", \"gene_nodenorm_id\", \"gene_nodenorm_label\"]].copy()\n",
    "gene_mapping_df[gene_mapping_df[\"gene_mim\"].isna()]"
   ]
  },
  {
   "cell_type": "code",
   "execution_count": null,
   "id": "5318121a",
   "metadata": {
    "ExecuteTime": {
     "end_time": "2025-04-01T07:17:09.314344Z",
     "start_time": "2025-04-01T07:17:09.301579Z"
    }
   },
   "outputs": [],
   "source": [
    "## all NodeNormed IDs NCBIGene?\n",
    "df[~ df[\"gene_nodenorm_id\"].str.contains(\"NCBIGene:\")]\n",
    "\n",
    "## empty df: yes"
   ]
  },
  {
   "cell_type": "markdown",
   "id": "783a5f57",
   "metadata": {},
   "source": [
    "### Diseases"
   ]
  },
  {
   "cell_type": "markdown",
   "id": "dea80a87",
   "metadata": {},
   "source": [
    "#### OMIM/orphanet"
   ]
  },
  {
   "cell_type": "code",
   "execution_count": 25,
   "id": "38f211ee",
   "metadata": {
    "ExecuteTime": {
     "end_time": "2025-04-02T07:17:00.203571Z",
     "start_time": "2025-04-02T07:17:00.197864Z"
    }
   },
   "outputs": [
    {
     "data": {
      "text/plain": [
       "2401"
      ]
     },
     "execution_count": 25,
     "metadata": {},
     "output_type": "execute_result"
    }
   ],
   "source": [
    "## put into parser (format): \n",
    "\n",
    "disease_omim_orpha_curies = df[\"disease_mim\"].dropna().unique()\n",
    "len(disease_omim_orpha_curies)"
   ]
  },
  {
   "cell_type": "code",
   "execution_count": 27,
   "id": "2456656b",
   "metadata": {
    "ExecuteTime": {
     "end_time": "2025-04-02T07:17:36.873933Z",
     "start_time": "2025-04-02T07:17:31.674411Z"
    },
    "scrolled": true
   },
   "outputs": [],
   "source": [
    "## put into parser (format): \n",
    "\n",
    "disease_nodenorm_mapping = {}\n",
    "IDs_not_recognized = []\n",
    "IDs_wrong_category = []\n",
    "IDs_no_label = []\n",
    "\n",
    "\n",
    "## larger batches are quicker\n",
    "for batch in batched(disease_omim_orpha_curies, 1000):\n",
    "    ## returns tuples\n",
    "    req_body = {\n",
    "        \"curies\": list(batch),\n",
    "        \"conflate\": True,\n",
    "    }\n",
    "    r = requests.post(nodenorm_url, json=req_body)\n",
    "    response = r.json()\n",
    "    \n",
    "    ## not doing dict comprehension. allows easier review, logic writing\n",
    "    for k,v in response.items():\n",
    "        try:\n",
    "            ## if NodeNorm did not recognize ID, v will be None\n",
    "            if v is not None:\n",
    "                ## some IDs aren't Diseases, throw those mappings out \n",
    "                if v[\"type\"][0] == \"biolink:Disease\":\n",
    "                    ## also throw out mapping if no primary label found\n",
    "                    if v[\"id\"].get(\"label\"):\n",
    "                        temp = {\n",
    "                            k: {\"primary_id\": v[\"id\"][\"identifier\"],\n",
    "                                \"primary_label\": v[\"id\"][\"label\"]\n",
    "                               }\n",
    "                        }\n",
    "                        disease_nodenorm_mapping.update(temp)\n",
    "                    else:\n",
    "                        IDs_no_label.append(k)\n",
    "#                         print(f\"{k}: NodeNorm didn't find primary label. Not keeping this mapping.\")\n",
    "                else:\n",
    "                    IDs_wrong_category.append(k)\n",
    "#                     print(f'{k}: NodeNorm found different category {v[\"type\"][0]}. Not keeping this mapping.')\n",
    "            else:\n",
    "                IDs_not_recognized.append(k)\n",
    "#                 print(f\"{k}: NodeNorm didn't recognize this ID\")\n",
    "        except:\n",
    "            print(f'Encountered an error processing the NodeNorm response.')\n",
    "            print(f'NodeNorm response key: {k}')\n",
    "            print(f'NodeNorm response value: {v}')\n",
    "## old code: dict comprehension\n",
    "#         temp = {\n",
    "#             k: {\"primary_id\": v[\"id\"][\"identifier\"],\n",
    "#                 \"primary_label\": v[\"id\"][\"label\"]} \n",
    "#             for k,v in response.items()\n",
    "#             if v is not None if v[\"type\"][0] == \"biolink:Disease\"\n",
    "#         }\n",
    "#         disease_nodenorm_mapping.update(temp)\n",
    "#     except:\n",
    "#         print(k)\n",
    "#         pprint(v)"
   ]
  },
  {
   "cell_type": "markdown",
   "id": "dec8cf2f",
   "metadata": {},
   "source": [
    "#### Reviewing OMIM NodeNorm mapping issues"
   ]
  },
  {
   "cell_type": "code",
   "execution_count": 28,
   "id": "e33c2e10",
   "metadata": {
    "ExecuteTime": {
     "end_time": "2025-04-02T07:17:38.823828Z",
     "start_time": "2025-04-02T07:17:38.815624Z"
    }
   },
   "outputs": [
    {
     "data": {
      "text/plain": [
       "2333"
      ]
     },
     "execution_count": 28,
     "metadata": {},
     "output_type": "execute_result"
    },
    {
     "name": "stdout",
     "output_type": "stream",
     "text": [
      "Node Norm mapping issues:\n",
      "\n",
      "IDs not recognized: 39\n",
      "IDs wrong category: 26\n",
      "IDs no label: 3\n"
     ]
    },
    {
     "data": {
      "text/plain": [
       "68"
      ]
     },
     "execution_count": 28,
     "metadata": {},
     "output_type": "execute_result"
    },
    {
     "name": "stdout",
     "output_type": "stream",
     "text": [
      "Diff between unique values and mappings: 68\n"
     ]
    }
   ],
   "source": [
    "len(disease_nodenorm_mapping)\n",
    "\n",
    "print(\"Node Norm mapping issues:\\n\")\n",
    "print(f\"IDs not recognized: {len(IDs_not_recognized)}\")\n",
    "print(f\"IDs wrong category: {len(IDs_wrong_category)}\")\n",
    "print(f\"IDs no label: {len(IDs_no_label)}\")\n",
    "\n",
    "sum([len(IDs_not_recognized), len(IDs_wrong_category), len(IDs_no_label)])\n",
    "\n",
    "print(f\"Diff between unique values and mappings: {len(disease_omim_orpha_curies) - len(disease_nodenorm_mapping)}\")"
   ]
  },
  {
   "cell_type": "markdown",
   "id": "8a424998",
   "metadata": {},
   "source": [
    "39 cases where NodeNorm didn't recognize/resolve ID. I checked a few:\n",
    "* 5: ID has been replaced/moved to a diff ID (OMIM:607236, OMIM:608890, OMIM:613180, OMIM:300706, OMIM:300141) -> TELL EBI GENE2PHENO\n",
    "* 3: ID doesn't exist (OMIM:249163, OMIM:319029, OMIM:237145) -> TELL EBI GENE2PHENO\n",
    "* 1: NodeNorm error - this is a valid disease ID that it should recognize (OMIM:133700) -> messaged NodeNorm\n",
    "* 1: valid ID, but it doesn't seem to be a disease. There may be better IDs out there (OMIM:601884) -> TELL EBI GENE2PHENO, messaged NodeNorm\n",
    "\n",
    "26 cases where NodeNorm category was something else (was always Gene instead). I checked all: \n",
    "* 25: NodeNorm is correct, this is a gene -> TELL EBI GENE2PHENO\n",
    "* 1: NodeNorm error - this is a valid disease ID (OMIM:188400) -> messaged NodeNorm\n",
    "\n",
    "3 cases where NodeNorm didn't have a primary label. I checked all:\n",
    "* 2: NodeNorm error - these are valid disease IDs with labels (OMIM:620987, OMIM:620964) -> messaged NodeNorm\n",
    "* 1: valid ID, but it doesn't seem to be a disease. EBI gene2pheno shouldn't use, not sure it should be in NodeNorm -> TELL EBI GENE2PHENO, messaged NodeNorm"
   ]
  },
  {
   "cell_type": "code",
   "execution_count": 29,
   "id": "77af9e52",
   "metadata": {
    "ExecuteTime": {
     "end_time": "2025-04-02T07:17:46.559547Z",
     "start_time": "2025-04-02T07:17:46.554263Z"
    }
   },
   "outputs": [
    {
     "data": {
      "text/plain": [
       "['OMIM:300129', 'OMIM:620987', 'OMIM:620964']"
      ]
     },
     "execution_count": 29,
     "metadata": {},
     "output_type": "execute_result"
    }
   ],
   "source": [
    "# IDs_not_recognized[5:10]\n",
    "# df[df[\"disease_mim\"] == \"OMIM:613180\"]\n",
    "\n",
    "# \"OMIM:188400\" in IDs_wrong_category\n",
    "\n",
    "IDs_no_label"
   ]
  },
  {
   "cell_type": "markdown",
   "id": "f035845e",
   "metadata": {},
   "source": [
    "No orphanet IDs were flagged but I checked all 9 anyways. The mappings look fine. "
   ]
  },
  {
   "cell_type": "code",
   "execution_count": null,
   "id": "e90e26d5",
   "metadata": {
    "ExecuteTime": {
     "end_time": "2025-04-02T07:12:52.908616Z",
     "start_time": "2025-04-02T07:12:52.885888Z"
    }
   },
   "outputs": [],
   "source": [
    "df[df[\"disease_mim\"].str.contains(\"orphanet\", na=False)]"
   ]
  },
  {
   "cell_type": "code",
   "execution_count": null,
   "id": "90389c39",
   "metadata": {
    "ExecuteTime": {
     "end_time": "2025-04-02T07:13:01.205023Z",
     "start_time": "2025-04-02T07:13:01.200542Z"
    }
   },
   "outputs": [],
   "source": [
    "disease_nodenorm_mapping[\"orphanet:1332\"]"
   ]
  },
  {
   "cell_type": "markdown",
   "id": "7f3dd19d",
   "metadata": {},
   "source": [
    "Decided not to try using MONDO mappings when OMIM mapping failed. There's only a few cases where IDs have MONDO\n",
    "\n",
    "IDs_not_recognized (39): none have MONDO\n",
    "IDs_wrong_category (26): only 2 have MONDO\n",
    "IDs_no_label (3): none have MONDO"
   ]
  },
  {
   "cell_type": "code",
   "execution_count": 146,
   "id": "e2057f62",
   "metadata": {
    "ExecuteTime": {
     "end_time": "2025-04-03T07:48:47.810673Z",
     "start_time": "2025-04-03T07:48:47.799093Z"
    }
   },
   "outputs": [
    {
     "data": {
      "text/html": [
       "<div>\n",
       "<style scoped>\n",
       "    .dataframe tbody tr th:only-of-type {\n",
       "        vertical-align: middle;\n",
       "    }\n",
       "\n",
       "    .dataframe tbody tr th {\n",
       "        vertical-align: top;\n",
       "    }\n",
       "\n",
       "    .dataframe thead th {\n",
       "        text-align: right;\n",
       "    }\n",
       "</style>\n",
       "<table border=\"1\" class=\"dataframe\">\n",
       "  <thead>\n",
       "    <tr style=\"text-align: right;\">\n",
       "      <th></th>\n",
       "      <th>g2p_id</th>\n",
       "      <th>gene_symbol</th>\n",
       "      <th>gene_mim</th>\n",
       "      <th>hgnc_id</th>\n",
       "      <th>previous_gene_symbols</th>\n",
       "      <th>disease_name</th>\n",
       "      <th>disease_mim</th>\n",
       "      <th>disease_MONDO</th>\n",
       "      <th>allelic_requirement</th>\n",
       "      <th>cross_cutting_modifier</th>\n",
       "      <th>confidence</th>\n",
       "      <th>variant_consequence</th>\n",
       "      <th>variant_types</th>\n",
       "      <th>molecular_mechanism</th>\n",
       "      <th>molecular_mechanism_categorisation</th>\n",
       "      <th>molecular_mechanism_evidence</th>\n",
       "      <th>phenotypes</th>\n",
       "      <th>publications</th>\n",
       "      <th>panel</th>\n",
       "      <th>comments</th>\n",
       "      <th>date_of_last_review</th>\n",
       "      <th>g2p_record_url</th>\n",
       "    </tr>\n",
       "  </thead>\n",
       "  <tbody>\n",
       "  </tbody>\n",
       "</table>\n",
       "</div>"
      ],
      "text/plain": [
       "Empty DataFrame\n",
       "Columns: [g2p_id, gene_symbol, gene_mim, hgnc_id, previous_gene_symbols, disease_name, disease_mim, disease_MONDO, allelic_requirement, cross_cutting_modifier, confidence, variant_consequence, variant_types, molecular_mechanism, molecular_mechanism_categorisation, molecular_mechanism_evidence, phenotypes, publications, panel, comments, date_of_last_review, g2p_record_url]\n",
       "Index: []"
      ]
     },
     "execution_count": 146,
     "metadata": {},
     "output_type": "execute_result"
    }
   ],
   "source": [
    "df[df[\"disease_mim\"].isin(IDs_not_recognized) & df[\"disease_MONDO\"].notna()]"
   ]
  },
  {
   "cell_type": "code",
   "execution_count": null,
   "id": "5cb8b5a6",
   "metadata": {
    "ExecuteTime": {
     "end_time": "2025-03-31T20:33:37.135315Z",
     "start_time": "2025-03-31T20:33:37.132576Z"
    }
   },
   "outputs": [],
   "source": [
    "## put into parser (format): \n",
    "\n",
    "## using this kind of logic to create columns for function\n",
    "\n",
    "# [disease_nodenorm_mapping[i][\"primary_label\"] if disease_nodenorm_mapping.get(i) \n",
    "#  else pd.NA for i in df[\"disease_mim\"]]"
   ]
  },
  {
   "cell_type": "markdown",
   "id": "2c574ac3",
   "metadata": {},
   "source": [
    "#### MONDO"
   ]
  },
  {
   "cell_type": "code",
   "execution_count": 33,
   "id": "bb03b486",
   "metadata": {
    "ExecuteTime": {
     "end_time": "2025-04-02T07:19:06.067905Z",
     "start_time": "2025-04-02T07:19:06.062508Z"
    }
   },
   "outputs": [
    {
     "data": {
      "text/plain": [
       "380"
      ]
     },
     "execution_count": 33,
     "metadata": {},
     "output_type": "execute_result"
    }
   ],
   "source": [
    "## put into parser (format): \n",
    "\n",
    "disease_mondo_curies = df[\"disease_MONDO\"].dropna().unique()\n",
    "len(disease_mondo_curies)"
   ]
  },
  {
   "cell_type": "code",
   "execution_count": 34,
   "id": "c2753029",
   "metadata": {
    "ExecuteTime": {
     "end_time": "2025-04-02T07:19:11.239718Z",
     "start_time": "2025-04-02T07:19:10.095105Z"
    }
   },
   "outputs": [],
   "source": [
    "## put into parser (format): \n",
    "\n",
    "## larger batches are quicker\n",
    "for batch in batched(disease_mondo_curies, 1000):\n",
    "    ## returns tuples\n",
    "    req_body = {\n",
    "        \"curies\": list(batch),\n",
    "        \"conflate\": True,\n",
    "    }\n",
    "    r = requests.post(nodenorm_url, json=req_body)\n",
    "    response = r.json()\n",
    "    \n",
    "    ## not doing dict comprehension. allows easier review, logic writing\n",
    "    for k,v in response.items():\n",
    "        try:\n",
    "            ## if NodeNorm did not resolve ID, v will be None\n",
    "            if v is not None:\n",
    "                ## some IDs aren't Diseases o_0, throw them out\n",
    "                ## also throw out mapping if no primary label found\n",
    "                if v[\"type\"][0] == \"biolink:Disease\":\n",
    "                    if v[\"id\"].get(\"label\"):\n",
    "                        temp = {\n",
    "                            k: {\"primary_id\": v[\"id\"][\"identifier\"],\n",
    "                                \"primary_label\": v[\"id\"][\"label\"]\n",
    "                               }\n",
    "                        }\n",
    "                        disease_nodenorm_mapping.update(temp)\n",
    "                    else:\n",
    "                        print(f\"{k}: NodeNorm didn't find primary label\")\n",
    "                else:\n",
    "                    print(f'{k}: NodeNorm category is {v[\"type\"][0]}')\n",
    "            else:\n",
    "                print(f\"{k}: NodeNorm didn't resolve\")\n",
    "        except:\n",
    "            print(k)\n",
    "            pprint(v)\n",
    "## old code: dict comprehension\n",
    "#         temp = {\n",
    "#             k: {\"primary_id\": v[\"id\"][\"identifier\"],\n",
    "#                 \"primary_label\": v[\"id\"][\"label\"]} \n",
    "#             for k,v in response.items()\n",
    "#             if v is not None if v[\"type\"][0] == \"biolink:Disease\"\n",
    "#         }\n",
    "#         disease_nodenorm_mapping.update(temp)\n",
    "#     except:\n",
    "#         print(k)\n",
    "#         pprint(v)"
   ]
  },
  {
   "cell_type": "code",
   "execution_count": 35,
   "id": "4f5ab733",
   "metadata": {
    "ExecuteTime": {
     "end_time": "2025-04-02T07:19:13.386302Z",
     "start_time": "2025-04-02T07:19:13.381869Z"
    }
   },
   "outputs": [
    {
     "data": {
      "text/plain": [
       "2713"
      ]
     },
     "execution_count": 35,
     "metadata": {},
     "output_type": "execute_result"
    }
   ],
   "source": [
    "len(disease_nodenorm_mapping)"
   ]
  },
  {
   "cell_type": "markdown",
   "id": "3f7dee4f",
   "metadata": {},
   "source": [
    "#### Mismatched NodeNorm mappings"
   ]
  },
  {
   "cell_type": "code",
   "execution_count": 36,
   "id": "58462f80",
   "metadata": {
    "ExecuteTime": {
     "end_time": "2025-04-02T07:19:15.813483Z",
     "start_time": "2025-04-02T07:19:15.800930Z"
    }
   },
   "outputs": [
    {
     "data": {
      "text/plain": [
       "22"
      ]
     },
     "execution_count": 36,
     "metadata": {},
     "output_type": "execute_result"
    }
   ],
   "source": [
    "## look for differences in NodeNorm primary ID found if row has both IDs\n",
    "\n",
    "mismatch_tuples = []\n",
    "\n",
    "for row in df[[\"disease_mim\", \"disease_MONDO\"]].itertuples(index=False):\n",
    "    if pd.notna(row.disease_mim) and pd.notna(row.disease_MONDO):\n",
    "        if disease_nodenorm_mapping.get(row.disease_mim):\n",
    "            if disease_nodenorm_mapping[row.disease_mim][\"primary_id\"] != \\\n",
    "            disease_nodenorm_mapping[row.disease_MONDO][\"primary_id\"]:\n",
    "                mismatch_tuples.append((row.disease_mim, row.disease_MONDO))\n",
    "                \n",
    "len(mismatch_tuples)\n",
    "## so...there's some mismatches"
   ]
  },
  {
   "cell_type": "code",
   "execution_count": 37,
   "id": "e0d683c3",
   "metadata": {
    "ExecuteTime": {
     "end_time": "2025-04-02T07:19:18.012910Z",
     "start_time": "2025-04-02T07:19:18.007947Z"
    }
   },
   "outputs": [
    {
     "data": {
      "text/plain": [
       "('OMIM:175800', 'MONDO:0006602')"
      ]
     },
     "execution_count": 37,
     "metadata": {},
     "output_type": "execute_result"
    }
   ],
   "source": [
    "mismatch_tuples[21]"
   ]
  },
  {
   "cell_type": "code",
   "execution_count": null,
   "id": "f59d741e",
   "metadata": {
    "ExecuteTime": {
     "end_time": "2025-04-02T06:37:26.313730Z",
     "start_time": "2025-04-02T06:37:26.307006Z"
    }
   },
   "outputs": [],
   "source": [
    "disease_nodenorm_mapping[\"OMIM:175800\"]\n",
    "disease_nodenorm_mapping[\"MONDO:0006602\"]"
   ]
  },
  {
   "cell_type": "code",
   "execution_count": null,
   "id": "032f77c1",
   "metadata": {
    "ExecuteTime": {
     "end_time": "2025-04-02T06:37:45.245072Z",
     "start_time": "2025-04-02T06:37:45.211614Z"
    },
    "scrolled": false
   },
   "outputs": [],
   "source": [
    "df[df[\"disease_mim\"] == \"OMIM:175800\"]\n",
    "df[df[\"disease_MONDO\"] == \"MONDO:0006602\"]"
   ]
  },
  {
   "cell_type": "markdown",
   "id": "8af1d83c",
   "metadata": {
    "ExecuteTime": {
     "end_time": "2025-03-29T06:19:08.679605Z",
     "start_time": "2025-03-29T06:19:08.670116Z"
    }
   },
   "source": [
    "##### Reviewing the 22 mismatched pairs:\n",
    "\n",
    "\n",
    "**19: OMIM's mapping is better**\n",
    "\n",
    "*6: Mondo ID is related but wrong* -> TELL EBI GENE2PHENO\n",
    "* 'OMIM:243310', 'MONDO:0013812': omim is correct syndrome 1, but mondo is syndrome 2 (diff gene)\n",
    "* 'OMIM:613575', 'MONDO:0044314': omim is correct 55, but mondo is 78 (diff gene)\n",
    "* 'OMIM:101000', 'MONDO:0008075': omim is correct type of schwannomatosis (NF2/type 2), vs mondo is a sibling. \n",
    "  * NodeNorm should map omim to MONDO:0007039 but isn't -> messaged NodeNorm\n",
    "* 'OMIM:613987', **'MONDO:0009136'**: omim is correct recessive 2, but mondo is recessive 1 (mondo's Monarch page does link to gene NHP2. But corresponding OMIM:224230 doesn't)\n",
    "  * NodeNorm should map omim to MONDO:0013519 but isn't -> messaged NodeNorm  \n",
    "* 'OMIM:613988', 'MONDO:0009136': omim is correct recessive 3, but mondo is recessive 1 (diff gene)\n",
    "  * NodeNorm should map omim to MONDO:0013520 but isn't -> messaged NodeNorm\n",
    "* 'OMIM:616353', 'MONDO:0009136': omim is correct recessive 6, but mondo is recessive 1 (diff gene)\n",
    "  * NodeNorm should map omim to MONDO:0014600 but isn't -> messaged NodeNorm\n",
    "\n",
    "*13: Mondo ID is too general* -> TELL EBI GENE2PHENO?\n",
    "* 'OMIM:300696', 'MONDO:0010680': omim actually maps to MONDO:0010401, child of the mondo (can see on Monarch website)\n",
    "* 'OMIM:304120', 'MONDO:0019027': omim actually maps to MONDO:0010571 (syndrome type 2), child of the mondo (syndrome) (can see on Monarch website)\n",
    "* 'OMIM:610019', 'MONDO:0005129': omim actually maps to MONDO:0012395 (cataract 18), child of the mondo (cataract) (can see on Monarch website)\n",
    "* 'OMIM:611726', 'MONDO:0016295': omim actually maps to MONDO:0012721, child of the mondo  (can see on Monarch website)\n",
    "* 'OMIM:602668', 'MONDO:0016107': omim actually maps to MONDO:0011266 (type 2), child of the mondo (can see on Monarch website)\n",
    "* 'OMIM:203200', 'MONDO:0018910': omim actually maps to MONDO:0008746 (type 2), child of the mondo (can see on Monarch website)\n",
    "* 'OMIM:614328', 'MONDO:0017411': omim actually maps to MONDO:0013693 (1), child of the mondo (can see on Monarch website)\n",
    "* 'OMIM:175800', 'MONDO:0006602': omim actually maps to MONDO:0008290 (1, mibelli type), grandchild of the mondo (can see on Monarch website)\n",
    "* 'OMIM:614073', **'MONDO:0019312'**: omim actually maps to MONDO:0013556 (syndrome 4), child of the mondo (syndrome) (can see on Monarch website)\n",
    "* 'OMIM:614074', 'MONDO:0019312': omim actually maps to MONDO:0013557 (syndrome 5), child of the mondo (syndrome) (can see on Monarch website)\n",
    "* 'OMIM:614075', 'MONDO:0019312': omim actually maps to MONDO:0013558 (syndrome 6), child of the mondo (syndrome) (can see on Monarch website)\n",
    "* 'OMIM:614076', 'MONDO:0019312': omim actually maps to MONDO:0013559 (syndrome 7), child of the mondo (syndrome) (can see on Monarch website)\n",
    "* 'OMIM:614077', 'MONDO:0019312': omim actually maps to MONDO:0013560 (syndrome 8), child of the mondo (syndrome) (can see on Monarch website)\n",
    "\n",
    "\n",
    "**1: MONDO's mapping is better**\n",
    "* omim ID is slightly off -> TELL EBI GENE2PHENO?\n",
    "  * 'OMIM:613723', 'MONDO:0009181': mondo matches the disease name and phenotypes listed in the record better than the omim \n",
    "\n",
    "\n",
    "**1: Unsure**\n",
    "* 'OMIM:158350', 'MONDO:0017623': omim is for Cowden syndrome 1, mondo is for PTEN hamartoma tumor syndrome. These are very similar, so I'm not sure which one is better. -> TELL EBI GENE2PHENO?\n",
    "  * There's also another record w/ just the OMIM ID. I think the two rows should be merged. -> TELL EBI GENE2PHENO?\n",
    "\n",
    "\n",
    "**1: NodeNorm error -> messaged NodeNorm**\n",
    "* 'OMIM:224230', 'MONDO:0009136': both are recessive 1, NodeNorm should map to same entity\n",
    "\n",
    "**Other rows reviewed:**\n",
    "* 'OMIM:614583', 'MONDO:0013812': map to same entity, both correct"
   ]
  },
  {
   "cell_type": "markdown",
   "id": "7661dc3b",
   "metadata": {},
   "source": [
    "#### Reviewing MONDO IDs for reliability: when there isn't a OMIM ID to use"
   ]
  },
  {
   "cell_type": "code",
   "execution_count": 139,
   "id": "1c866a1f",
   "metadata": {
    "ExecuteTime": {
     "end_time": "2025-04-03T07:40:53.388469Z",
     "start_time": "2025-04-03T07:40:53.382216Z"
    }
   },
   "outputs": [],
   "source": [
    "df_disease_mondo_only = df[df[\"disease_mim\"].isna() & df[\"disease_MONDO\"].notna()].copy()\n",
    "\n",
    "mondo_only = df_disease_mondo_only[\"disease_MONDO\"].dropna().unique()"
   ]
  },
  {
   "cell_type": "code",
   "execution_count": 142,
   "id": "9845b6d7",
   "metadata": {
    "ExecuteTime": {
     "end_time": "2025-04-03T07:41:07.661382Z",
     "start_time": "2025-04-03T07:41:07.655536Z"
    }
   },
   "outputs": [
    {
     "data": {
      "text/plain": [
       "(444, 22)"
      ]
     },
     "execution_count": 142,
     "metadata": {},
     "output_type": "execute_result"
    },
    {
     "data": {
      "text/plain": [
       "277"
      ]
     },
     "execution_count": 142,
     "metadata": {},
     "output_type": "execute_result"
    }
   ],
   "source": [
    "df_disease_mondo_only.shape\n",
    "\n",
    "len(mondo_only)"
   ]
  },
  {
   "cell_type": "code",
   "execution_count": 137,
   "id": "5c52fa92",
   "metadata": {
    "ExecuteTime": {
     "end_time": "2025-04-03T07:31:19.676633Z",
     "start_time": "2025-04-03T07:31:19.658520Z"
    }
   },
   "outputs": [
    {
     "data": {
      "text/html": [
       "<div>\n",
       "<style scoped>\n",
       "    .dataframe tbody tr th:only-of-type {\n",
       "        vertical-align: middle;\n",
       "    }\n",
       "\n",
       "    .dataframe tbody tr th {\n",
       "        vertical-align: top;\n",
       "    }\n",
       "\n",
       "    .dataframe thead th {\n",
       "        text-align: right;\n",
       "    }\n",
       "</style>\n",
       "<table border=\"1\" class=\"dataframe\">\n",
       "  <thead>\n",
       "    <tr style=\"text-align: right;\">\n",
       "      <th></th>\n",
       "      <th>g2p_id</th>\n",
       "      <th>gene_symbol</th>\n",
       "      <th>gene_mim</th>\n",
       "      <th>hgnc_id</th>\n",
       "      <th>previous_gene_symbols</th>\n",
       "      <th>disease_name</th>\n",
       "      <th>disease_mim</th>\n",
       "      <th>disease_MONDO</th>\n",
       "      <th>allelic_requirement</th>\n",
       "      <th>cross_cutting_modifier</th>\n",
       "      <th>confidence</th>\n",
       "      <th>variant_consequence</th>\n",
       "      <th>variant_types</th>\n",
       "      <th>molecular_mechanism</th>\n",
       "      <th>molecular_mechanism_categorisation</th>\n",
       "      <th>molecular_mechanism_evidence</th>\n",
       "      <th>phenotypes</th>\n",
       "      <th>publications</th>\n",
       "      <th>panel</th>\n",
       "      <th>comments</th>\n",
       "      <th>date_of_last_review</th>\n",
       "      <th>g2p_record_url</th>\n",
       "    </tr>\n",
       "  </thead>\n",
       "  <tbody>\n",
       "    <tr>\n",
       "      <th>3433</th>\n",
       "      <td>G2P02161</td>\n",
       "      <td>MAFB</td>\n",
       "      <td>OMIM:608968</td>\n",
       "      <td>HGNC:6408</td>\n",
       "      <td>KRML</td>\n",
       "      <td>MAFB-related Duane retraction syndrome</td>\n",
       "      <td>NaN</td>\n",
       "      <td>MONDO:0007473</td>\n",
       "      <td>monoallelic_autosomal</td>\n",
       "      <td>NaN</td>\n",
       "      <td>strong</td>\n",
       "      <td>absent gene product</td>\n",
       "      <td>NaN</td>\n",
       "      <td>loss of function</td>\n",
       "      <td>inferred</td>\n",
       "      <td>NaN</td>\n",
       "      <td>NaN</td>\n",
       "      <td>NaN</td>\n",
       "      <td>Eye disorders</td>\n",
       "      <td>NaN</td>\n",
       "      <td>2017-08-29 09:09:13+00:00</td>\n",
       "      <td>https://www.ebi.ac.uk/gene2phenotype/lgd/G2P02161</td>\n",
       "    </tr>\n",
       "    <tr>\n",
       "      <th>3643</th>\n",
       "      <td>G2P03089</td>\n",
       "      <td>MAFB</td>\n",
       "      <td>OMIM:608968</td>\n",
       "      <td>HGNC:6408</td>\n",
       "      <td>KRML</td>\n",
       "      <td>MAFB-related Duane retraction syndrome</td>\n",
       "      <td>NaN</td>\n",
       "      <td>MONDO:0007473</td>\n",
       "      <td>monoallelic_autosomal</td>\n",
       "      <td>restricted mutation set</td>\n",
       "      <td>strong</td>\n",
       "      <td>altered gene product structure</td>\n",
       "      <td>NaN</td>\n",
       "      <td>dominant negative</td>\n",
       "      <td>inferred</td>\n",
       "      <td>NaN</td>\n",
       "      <td>NaN</td>\n",
       "      <td>NaN</td>\n",
       "      <td>Eye disorders</td>\n",
       "      <td>NaN</td>\n",
       "      <td>2021-01-12 15:01:40+00:00</td>\n",
       "      <td>https://www.ebi.ac.uk/gene2phenotype/lgd/G2P03089</td>\n",
       "    </tr>\n",
       "  </tbody>\n",
       "</table>\n",
       "</div>"
      ],
      "text/plain": [
       "        g2p_id gene_symbol     gene_mim    hgnc_id previous_gene_symbols  \\\n",
       "3433  G2P02161        MAFB  OMIM:608968  HGNC:6408                  KRML   \n",
       "3643  G2P03089        MAFB  OMIM:608968  HGNC:6408                  KRML   \n",
       "\n",
       "                                disease_name disease_mim  disease_MONDO  \\\n",
       "3433  MAFB-related Duane retraction syndrome         NaN  MONDO:0007473   \n",
       "3643  MAFB-related Duane retraction syndrome         NaN  MONDO:0007473   \n",
       "\n",
       "        allelic_requirement   cross_cutting_modifier confidence  \\\n",
       "3433  monoallelic_autosomal                      NaN     strong   \n",
       "3643  monoallelic_autosomal  restricted mutation set     strong   \n",
       "\n",
       "                 variant_consequence variant_types molecular_mechanism  \\\n",
       "3433             absent gene product           NaN    loss of function   \n",
       "3643  altered gene product structure           NaN   dominant negative   \n",
       "\n",
       "     molecular_mechanism_categorisation molecular_mechanism_evidence  \\\n",
       "3433                           inferred                          NaN   \n",
       "3643                           inferred                          NaN   \n",
       "\n",
       "     phenotypes publications          panel comments  \\\n",
       "3433        NaN          NaN  Eye disorders      NaN   \n",
       "3643        NaN          NaN  Eye disorders      NaN   \n",
       "\n",
       "           date_of_last_review  \\\n",
       "3433 2017-08-29 09:09:13+00:00   \n",
       "3643 2021-01-12 15:01:40+00:00   \n",
       "\n",
       "                                         g2p_record_url  \n",
       "3433  https://www.ebi.ac.uk/gene2phenotype/lgd/G2P02161  \n",
       "3643  https://www.ebi.ac.uk/gene2phenotype/lgd/G2P03089  "
      ]
     },
     "execution_count": 137,
     "metadata": {},
     "output_type": "execute_result"
    }
   ],
   "source": [
    "df_disease_mondo_only[df_disease_mondo_only[\"disease_MONDO\"] == mondo_only[250]]"
   ]
  },
  {
   "cell_type": "code",
   "execution_count": 133,
   "id": "9988c961",
   "metadata": {
    "ExecuteTime": {
     "end_time": "2025-04-03T07:28:19.087727Z",
     "start_time": "2025-04-03T07:28:19.068005Z"
    }
   },
   "outputs": [
    {
     "data": {
      "text/html": [
       "<div>\n",
       "<style scoped>\n",
       "    .dataframe tbody tr th:only-of-type {\n",
       "        vertical-align: middle;\n",
       "    }\n",
       "\n",
       "    .dataframe tbody tr th {\n",
       "        vertical-align: top;\n",
       "    }\n",
       "\n",
       "    .dataframe thead th {\n",
       "        text-align: right;\n",
       "    }\n",
       "</style>\n",
       "<table border=\"1\" class=\"dataframe\">\n",
       "  <thead>\n",
       "    <tr style=\"text-align: right;\">\n",
       "      <th></th>\n",
       "      <th>g2p_id</th>\n",
       "      <th>gene_symbol</th>\n",
       "      <th>gene_mim</th>\n",
       "      <th>hgnc_id</th>\n",
       "      <th>previous_gene_symbols</th>\n",
       "      <th>disease_name</th>\n",
       "      <th>disease_mim</th>\n",
       "      <th>disease_MONDO</th>\n",
       "      <th>allelic_requirement</th>\n",
       "      <th>cross_cutting_modifier</th>\n",
       "      <th>confidence</th>\n",
       "      <th>variant_consequence</th>\n",
       "      <th>variant_types</th>\n",
       "      <th>molecular_mechanism</th>\n",
       "      <th>molecular_mechanism_categorisation</th>\n",
       "      <th>molecular_mechanism_evidence</th>\n",
       "      <th>phenotypes</th>\n",
       "      <th>publications</th>\n",
       "      <th>panel</th>\n",
       "      <th>comments</th>\n",
       "      <th>date_of_last_review</th>\n",
       "      <th>g2p_record_url</th>\n",
       "    </tr>\n",
       "  </thead>\n",
       "  <tbody>\n",
       "    <tr>\n",
       "      <th>82</th>\n",
       "      <td>G2P00021</td>\n",
       "      <td>COL1A1</td>\n",
       "      <td>OMIM:120150</td>\n",
       "      <td>HGNC:2197</td>\n",
       "      <td>OI4</td>\n",
       "      <td>COL1A1-related osteogenesis imperfecta spectrum</td>\n",
       "      <td>NaN</td>\n",
       "      <td>NaN</td>\n",
       "      <td>monoallelic_autosomal</td>\n",
       "      <td>restricted mutation set</td>\n",
       "      <td>definitive</td>\n",
       "      <td>altered gene product structure</td>\n",
       "      <td>NaN</td>\n",
       "      <td>dominant negative</td>\n",
       "      <td>inferred</td>\n",
       "      <td>NaN</td>\n",
       "      <td>HP:0003502; HP:0000707; HP:0000325; HP:0000923...</td>\n",
       "      <td>9295084; 3082886; 18409203; 2295701; 1988452; ...</td>\n",
       "      <td>Developmental disorders; Skin disorders; Skele...</td>\n",
       "      <td>NaN</td>\n",
       "      <td>2025-01-15 11:51:09+00:00</td>\n",
       "      <td>https://www.ebi.ac.uk/gene2phenotype/lgd/G2P00021</td>\n",
       "    </tr>\n",
       "    <tr>\n",
       "      <th>218</th>\n",
       "      <td>G2P00872</td>\n",
       "      <td>PIK3CA</td>\n",
       "      <td>OMIM:171834</td>\n",
       "      <td>HGNC:8975</td>\n",
       "      <td>PI3K</td>\n",
       "      <td>PIK3CA-related overgrowth spectrum disorder wi...</td>\n",
       "      <td>NaN</td>\n",
       "      <td>NaN</td>\n",
       "      <td>monoallelic_autosomal</td>\n",
       "      <td>typically mosaic; restricted mutation set</td>\n",
       "      <td>definitive</td>\n",
       "      <td>altered gene product structure</td>\n",
       "      <td>NaN</td>\n",
       "      <td>gain of function</td>\n",
       "      <td>inferred</td>\n",
       "      <td>NaN</td>\n",
       "      <td>HP:0008678; HP:0010301; HP:0009748; HP:0001355...</td>\n",
       "      <td>22658544; 22729224</td>\n",
       "      <td>Developmental disorders; Skeletal disorders</td>\n",
       "      <td>NaN</td>\n",
       "      <td>2024-12-11 11:40:22+00:00</td>\n",
       "      <td>https://www.ebi.ac.uk/gene2phenotype/lgd/G2P00872</td>\n",
       "    </tr>\n",
       "    <tr>\n",
       "      <th>399</th>\n",
       "      <td>G2P02554</td>\n",
       "      <td>PRRX1</td>\n",
       "      <td>OMIM:167420</td>\n",
       "      <td>HGNC:9142</td>\n",
       "      <td>PHOX1; PMX1</td>\n",
       "      <td>PRRX1-related craniosynostosis</td>\n",
       "      <td>NaN</td>\n",
       "      <td>NaN</td>\n",
       "      <td>monoallelic_autosomal</td>\n",
       "      <td>NaN</td>\n",
       "      <td>moderate</td>\n",
       "      <td>decreased gene product level; altered gene pro...</td>\n",
       "      <td>frameshift_variant; missense_variant; stop_gained</td>\n",
       "      <td>undetermined</td>\n",
       "      <td>inferred</td>\n",
       "      <td>NaN</td>\n",
       "      <td>HP:0001363</td>\n",
       "      <td>37154149</td>\n",
       "      <td>Developmental disorders; Skeletal disorders</td>\n",
       "      <td>NaN</td>\n",
       "      <td>2024-03-22 10:30:40+00:00</td>\n",
       "      <td>https://www.ebi.ac.uk/gene2phenotype/lgd/G2P02554</td>\n",
       "    </tr>\n",
       "    <tr>\n",
       "      <th>400</th>\n",
       "      <td>G2P02609</td>\n",
       "      <td>MYH3</td>\n",
       "      <td>OMIM:160720</td>\n",
       "      <td>HGNC:7573</td>\n",
       "      <td>HEMHC; MYHC-EMB; MYHSE1; SMHCE</td>\n",
       "      <td>MYH3-related spondylocarpotarsal synostosis sy...</td>\n",
       "      <td>NaN</td>\n",
       "      <td>NaN</td>\n",
       "      <td>biallelic_autosomal</td>\n",
       "      <td>NaN</td>\n",
       "      <td>strong</td>\n",
       "      <td>absent gene product</td>\n",
       "      <td>NaN</td>\n",
       "      <td>loss of function</td>\n",
       "      <td>inferred</td>\n",
       "      <td>NaN</td>\n",
       "      <td>NaN</td>\n",
       "      <td>29805041</td>\n",
       "      <td>Developmental disorders; Skeletal disorders</td>\n",
       "      <td>NaN</td>\n",
       "      <td>2025-01-28 18:17:32+00:00</td>\n",
       "      <td>https://www.ebi.ac.uk/gene2phenotype/lgd/G2P02609</td>\n",
       "    </tr>\n",
       "    <tr>\n",
       "      <th>413</th>\n",
       "      <td>G2P03497</td>\n",
       "      <td>POP1</td>\n",
       "      <td>OMIM:602486</td>\n",
       "      <td>HGNC:30129</td>\n",
       "      <td>NaN</td>\n",
       "      <td>POP1-related anauxetic dysplasia</td>\n",
       "      <td>NaN</td>\n",
       "      <td>MONDO:0011773</td>\n",
       "      <td>biallelic_autosomal</td>\n",
       "      <td>NaN</td>\n",
       "      <td>definitive</td>\n",
       "      <td>decreased gene product level</td>\n",
       "      <td>NaN</td>\n",
       "      <td>undetermined</td>\n",
       "      <td>inferred</td>\n",
       "      <td>NaN</td>\n",
       "      <td>NaN</td>\n",
       "      <td>21455487; 27380734; 28067412</td>\n",
       "      <td>Skeletal disorders</td>\n",
       "      <td>NaN</td>\n",
       "      <td>2023-12-20 09:04:04+00:00</td>\n",
       "      <td>https://www.ebi.ac.uk/gene2phenotype/lgd/G2P03497</td>\n",
       "    </tr>\n",
       "  </tbody>\n",
       "</table>\n",
       "</div>"
      ],
      "text/plain": [
       "       g2p_id gene_symbol     gene_mim     hgnc_id  \\\n",
       "82   G2P00021      COL1A1  OMIM:120150   HGNC:2197   \n",
       "218  G2P00872      PIK3CA  OMIM:171834   HGNC:8975   \n",
       "399  G2P02554       PRRX1  OMIM:167420   HGNC:9142   \n",
       "400  G2P02609        MYH3  OMIM:160720   HGNC:7573   \n",
       "413  G2P03497        POP1  OMIM:602486  HGNC:30129   \n",
       "\n",
       "              previous_gene_symbols  \\\n",
       "82                              OI4   \n",
       "218                            PI3K   \n",
       "399                     PHOX1; PMX1   \n",
       "400  HEMHC; MYHC-EMB; MYHSE1; SMHCE   \n",
       "413                             NaN   \n",
       "\n",
       "                                          disease_name disease_mim  \\\n",
       "82     COL1A1-related osteogenesis imperfecta spectrum         NaN   \n",
       "218  PIK3CA-related overgrowth spectrum disorder wi...         NaN   \n",
       "399                     PRRX1-related craniosynostosis         NaN   \n",
       "400  MYH3-related spondylocarpotarsal synostosis sy...         NaN   \n",
       "413                   POP1-related anauxetic dysplasia         NaN   \n",
       "\n",
       "     disease_MONDO    allelic_requirement  \\\n",
       "82             NaN  monoallelic_autosomal   \n",
       "218            NaN  monoallelic_autosomal   \n",
       "399            NaN  monoallelic_autosomal   \n",
       "400            NaN    biallelic_autosomal   \n",
       "413  MONDO:0011773    biallelic_autosomal   \n",
       "\n",
       "                        cross_cutting_modifier  confidence  \\\n",
       "82                     restricted mutation set  definitive   \n",
       "218  typically mosaic; restricted mutation set  definitive   \n",
       "399                                        NaN    moderate   \n",
       "400                                        NaN      strong   \n",
       "413                                        NaN  definitive   \n",
       "\n",
       "                                   variant_consequence  \\\n",
       "82                      altered gene product structure   \n",
       "218                     altered gene product structure   \n",
       "399  decreased gene product level; altered gene pro...   \n",
       "400                                absent gene product   \n",
       "413                       decreased gene product level   \n",
       "\n",
       "                                         variant_types molecular_mechanism  \\\n",
       "82                                                 NaN   dominant negative   \n",
       "218                                                NaN    gain of function   \n",
       "399  frameshift_variant; missense_variant; stop_gained        undetermined   \n",
       "400                                                NaN    loss of function   \n",
       "413                                                NaN        undetermined   \n",
       "\n",
       "    molecular_mechanism_categorisation molecular_mechanism_evidence  \\\n",
       "82                            inferred                          NaN   \n",
       "218                           inferred                          NaN   \n",
       "399                           inferred                          NaN   \n",
       "400                           inferred                          NaN   \n",
       "413                           inferred                          NaN   \n",
       "\n",
       "                                            phenotypes  \\\n",
       "82   HP:0003502; HP:0000707; HP:0000325; HP:0000923...   \n",
       "218  HP:0008678; HP:0010301; HP:0009748; HP:0001355...   \n",
       "399                                         HP:0001363   \n",
       "400                                                NaN   \n",
       "413                                                NaN   \n",
       "\n",
       "                                          publications  \\\n",
       "82   9295084; 3082886; 18409203; 2295701; 1988452; ...   \n",
       "218                                 22658544; 22729224   \n",
       "399                                           37154149   \n",
       "400                                           29805041   \n",
       "413                       21455487; 27380734; 28067412   \n",
       "\n",
       "                                                 panel comments  \\\n",
       "82   Developmental disorders; Skin disorders; Skele...      NaN   \n",
       "218        Developmental disorders; Skeletal disorders      NaN   \n",
       "399        Developmental disorders; Skeletal disorders      NaN   \n",
       "400        Developmental disorders; Skeletal disorders      NaN   \n",
       "413                                 Skeletal disorders      NaN   \n",
       "\n",
       "          date_of_last_review  \\\n",
       "82  2025-01-15 11:51:09+00:00   \n",
       "218 2024-12-11 11:40:22+00:00   \n",
       "399 2024-03-22 10:30:40+00:00   \n",
       "400 2025-01-28 18:17:32+00:00   \n",
       "413 2023-12-20 09:04:04+00:00   \n",
       "\n",
       "                                        g2p_record_url  \n",
       "82   https://www.ebi.ac.uk/gene2phenotype/lgd/G2P00021  \n",
       "218  https://www.ebi.ac.uk/gene2phenotype/lgd/G2P00872  \n",
       "399  https://www.ebi.ac.uk/gene2phenotype/lgd/G2P02554  \n",
       "400  https://www.ebi.ac.uk/gene2phenotype/lgd/G2P02609  \n",
       "413  https://www.ebi.ac.uk/gene2phenotype/lgd/G2P03497  "
      ]
     },
     "execution_count": 133,
     "metadata": {},
     "output_type": "execute_result"
    }
   ],
   "source": [
    "df_disease_mondo_only[df_disease_mondo_only[\"panel\"].str.contains(\"Skeletal\", na=False)]"
   ]
  },
  {
   "cell_type": "markdown",
   "id": "7ef53827",
   "metadata": {},
   "source": [
    "Look at database subset that doesn't have disease OMIM ID: \n",
    "there are 277 unique MONDO IDs for 444 rows.\n",
    "\n",
    "Reviewed 29 unique MONDO IDs (>10%), from all panels (only 1 skeletal, no hearing) -> (3 + 0-240 sets of 10 idx, plus skeletal)\n",
    "\n",
    "Reviewed 37 rows: 6 were wrong (~16%) "
   ]
  },
  {
   "cell_type": "markdown",
   "id": "2f24f4c2",
   "metadata": {},
   "source": [
    "18 Great:\n",
    "* \"MONDO:0012506\" for \"DSC2-related arrhythmogenic right ventricular cardiomyopathy\"\n",
    "* \"MONDO:0011001\" for \"SCN5A-related Brugada syndrome\"\n",
    "* \"MONDO:0013262\" for \"MYH7-related dilated cardiomyopathy\"\n",
    "* \"MONDO:0013369\" for \"TNNI3-related hypertrophic cardiomyopathy\"\n",
    "* \"MONDO:0010946\" for \"PRKAG2-related cardiomyopathy\"\n",
    "* \"MONDO:0014143\" for \"RIT1-related Noonan syndrome\"\n",
    "* \"MONDO:0010015\" for \"PXDN-related anterior segment dysgenesis with sclerocornea\"\n",
    "* \"MONDO:0014214\" for \"DYNC2I1-related short-rib polydactyly\"\n",
    "* \"MONDO:0013522\" for \"TINF2-related dyskeratosis congenita\"\n",
    "* \"MONDO:0032876\" for \"WASF1-related intellectual disability with seizures\"\n",
    "* \"MONDO:0859164\" for \"UNC45A-related osteootohepatoenteric syndrome\"\n",
    "* \"MONDO:0018772\" for \"SLC30A7-related Joubert syndrome\": using general term is fine since there isn't any established subtype of Joubert syndrome for this gene\n",
    "* \"MONDO:0010215\" for \"ERCC4-related xeroderma pigmentosum, group F\"\n",
    "* \"MONDO:0009735\" for \"SPINK5-related Netherton syndrome\"\n",
    "* \"MONDO:0007808\" for \"KRT1-related ichthyosis hystrix, Curth-Macklin type\"\n",
    "* \"MONDO:0007566\" for \"TGFBR1-related multiple self-healing squamous epithelioma\"\n",
    "* \"MONDO:0008285\" for \"PDGFRA-related gastrointestinal stromal tumor/GIST-plus syndrome, somatic or familial\"\n",
    "* \"MONDO:0010912\" for \"TUBB3-related fibrosis of extraocular muscles, congenital\"\n",
    "\n",
    "\n",
    "\n",
    "5 Okay (using general term is fine):  \n",
    "* \"MONDO:0005129\" for 3 other rows \"WDR87-related congenital cataract\", \"AKR1E2-\", \"MFSD6L-\": couldn't find better mappings. \n",
    "* \"MONDO:0015469\" for \"DHRS3 related craniosynostosis\": couldn't find better mapping\n",
    "* \"MONDO:0024676\" (childhood kidney Wilms tumor) for \"CTR9-related Wilms tumour\", \"TRIM28-\": couldn't find better mapping. TRIM28 is correlated to parent term (kidney Wilms tumor). \n",
    "\n",
    "\n",
    "4 Unsure:\n",
    "* \"MONDO:0005129\" for \"CYP51A1-related congenital cataract\": mondo is cataract, which is not wrong but kinda general. MONDO:0033853 seems better (correlated with gene, matches phenotypes, orphanet ref uses one of the ref papers) -> TELL EBI GENE2PHENO?\n",
    "* \"MONDO:0018869\" for \"TMTC3-related cobblestone lissencephaly\": while the mondo (cobblestone lissencephaly) sounds correct, it isn't linked to this gene. VS another sibling disease is linked to the gene, matches phenotypes, uses same paper: MONDO:0014992/OMIM:617255 (lissencephaly 8)\n",
    "* \"MONDO:0100100\" for \"SELENON-related myopathy\": while mondo has exact name match, it's not directly linked to gene. Instead, its child disease is directly linked to gene MONDO:0011271/OMIM:602771 (rigid spine muscular dystrophy 1)\n",
    "* \"MONDO:0020367\" for \"MYOC-related juvenile open angle glaucoma\": while mondo is almost-exact name match, it's not directly linked to gene. Instead, its child disease is directly linked to gene MONDO:0007664/OMIM:137750 (glaucoma 1, open angle, A) \n",
    "\n",
    "\n",
    "\n",
    "4 MONDO is too general:\n",
    "* \"MONDO:0020341\" (periventricular nodular heterotopia) for \"ERMARD-related periventricular heterotopia\". The ERMARD-specific version is a child term: MONDO:0014240/OMIM:615544 (type 6)\n",
    "* \"MONDO:0018965\" (Alport syndrome) for \"COL4A5-related Alport syndrome\". The COL4A5-specific version is a child term: MONDO:0010520/OMIM:301050  (X-linked)\n",
    "* \"MONDO:0024676\" for \"REST-related Wilms tumour\": The REST-specific version is a related term: MONDO:0014779/OMIM:616806 (type 6)\n",
    "* \"MONDO:0011773\" for \"POP1-related anauxetic dysplasia\": the POP1-specific version is a child term: MONDO:0054561/OMIM:617396 (type 2)\n",
    "\n",
    "\n",
    "6 MONDO is related but wrong:\n",
    "* \"MONDO:0009136\" for \"RTEL1-related dyskeratosis congenita\" (two rows): mondo is recessive 1, which is wrong. Should be recessive 5 MONDO:0014076/OMIM:615190 (old/synonym name is dominant 4) -> TELL EBI GENE2PHENO?\n",
    "* \"MONDO:0044314\" for 4 rows \"CLN3-related retinal dystrophy\", \"GUCA1B-\", \"PRPS1-\", \"SNRNP200-\": mondo is type 78 (specifically for ARHGEF18), which is wrong. Should instead be:\n",
    "  * CLN3 and PRPS1: a more general term like MONDO:0004580 (retinal degeneration) -> MONDO:0019118 (inherited retinal dystrophy) -> MONDO:0019200 (retinitis pigmentosa)\n",
    "  * GUCA1B: type 48, MONDO:0013447\n",
    "  * SNRNP200: type 33, MONDO:0012477\n",
    "* \"MONDO:0013522\" for \"TERC-related dyskeratosis congenita\": mondo is for type 3 (specifically for TINF2, see above in \"Great\" section). Should be type 1 MONDO:0007485/OMIM:127550. (Monarch's page of type 1 includes TINF2 and TERT too, but OMIM page only includes TERC)"
   ]
  },
  {
   "cell_type": "markdown",
   "id": "b7900575",
   "metadata": {},
   "source": [
    "#### Disease decisions so far"
   ]
  },
  {
   "cell_type": "markdown",
   "id": "ed46a46e",
   "metadata": {},
   "source": [
    "* use OMIM IDs\n",
    "  * NodeNorm mapping failed for a few\n",
    "* if row/record has both IDs, use OMIM ID\n",
    "\n",
    "\n",
    "\n",
    "\n",
    "Larger picture:\n",
    "\n",
    "* OMIM: small percentage affected. (2401 - 9 orphanet = 2392 unique OMIM disease IDs)\n",
    "  * ~2.8% = 68/2392 NodeNorm mapping failed \n",
    "  * plus 1 used but unreliable (\"MONDO's mapping is better\" mismatch categories)"
   ]
  },
  {
   "cell_type": "markdown",
   "id": "adef7a69",
   "metadata": {},
   "source": [
    "Current plan:\n",
    "\n",
    "* use logic in omim section for printing issues with mapping, only saving some mappings\n",
    "* only create nodenorm mapping if it existed. Saving input ID that was used for mapping.\n"
   ]
  },
  {
   "cell_type": "code",
   "execution_count": null,
   "id": "21b5aaf9",
   "metadata": {
    "ExecuteTime": {
     "end_time": "2025-03-31T21:33:06.707879Z",
     "start_time": "2025-03-31T21:33:06.691427Z"
    }
   },
   "outputs": [],
   "source": [
    "df[(df[\"disease_mim\"].isna()) and (df['disease_MONDO'].notna())]"
   ]
  },
  {
   "cell_type": "markdown",
   "id": "8c64a78b",
   "metadata": {
    "heading_collapsed": true
   },
   "source": []
  },
  {
   "cell_type": "code",
   "execution_count": null,
   "id": "19f2c711",
   "metadata": {},
   "outputs": [],
   "source": []
  },
  {
   "cell_type": "markdown",
   "id": "196a9248",
   "metadata": {},
   "source": [
    "### older code chunks"
   ]
  },
  {
   "cell_type": "markdown",
   "id": "edc8608d",
   "metadata": {},
   "source": [
    "#### Method 1 (row-wise, will send duplicates)"
   ]
  },
  {
   "cell_type": "code",
   "execution_count": null,
   "id": "e432ace7",
   "metadata": {
    "ExecuteTime": {
     "end_time": "2025-03-27T00:49:35.370164Z",
     "start_time": "2025-03-27T00:48:40.612727Z"
    }
   },
   "outputs": [],
   "source": [
    "node_normed_gene_id = []\n",
    "node_normed_gene_name = []\n",
    "tally = 0\n",
    "\n",
    "for row in df.itertuples(index=False):\n",
    "    ## collect non-NA gene IDs for a row\n",
    "    gene_curies = [i for i in [row.gene_mim, row.hgnc_id] if pd.notna(i)]\n",
    "    \n",
    "    ## gene_curies aren't empty\n",
    "    if gene_curies:\n",
    "        req_body = {\n",
    "            \"curies\": gene_curies,\n",
    "            \"conflate\": True\n",
    "        }\n",
    "        \n",
    "        r = requests.post(nodenorm_url, json=req_body)\n",
    "        response = r.json()\n",
    "        \n",
    "        if len(gene_curies) == 2:\n",
    "            if response[gene_curies[0]][\"id\"][\"identifier\"] != \\\n",
    "            response[gene_curies[1]][\"id\"][\"identifier\"]:\n",
    "                print(gene_curies)\n",
    "            ## take HGNC ID always\n",
    "            node_normed_gene_id.append(response[gene_curies[1]][\"id\"][\"identifier\"])\n",
    "            node_normed_gene_name.append(response[gene_curies[1]][\"id\"][\"label\"])\n",
    "        else:\n",
    "            ## HGNC ID should be first\n",
    "            node_normed_gene_id.append(response[gene_curies[0]][\"id\"][\"identifier\"])\n",
    "            node_normed_gene_name.append(response[gene_curies[0]][\"id\"][\"label\"])\n",
    "    \n",
    "    tally += 1\n",
    "    if tally % 10 == 0:\n",
    "        print(tally)"
   ]
  },
  {
   "cell_type": "code",
   "execution_count": null,
   "id": "d8766bda",
   "metadata": {
    "ExecuteTime": {
     "end_time": "2025-03-26T23:37:11.074772Z",
     "start_time": "2025-03-26T23:37:11.070838Z"
    }
   },
   "outputs": [],
   "source": [
    "## collect non-NA gene IDs for a row\n",
    "\n",
    "row_gene_curies = [i for i in [df.loc[0, \"gene_mim\"], df.loc[0, \"hgnc_id\"]] if pd.notna(i)]"
   ]
  },
  {
   "cell_type": "code",
   "execution_count": null,
   "id": "b7172e3b",
   "metadata": {
    "ExecuteTime": {
     "end_time": "2025-03-26T23:37:13.638175Z",
     "start_time": "2025-03-26T23:37:13.633575Z"
    }
   },
   "outputs": [],
   "source": [
    "row_gene_curies"
   ]
  },
  {
   "cell_type": "code",
   "execution_count": null,
   "id": "48ed8cd0",
   "metadata": {
    "ExecuteTime": {
     "end_time": "2025-03-26T23:37:18.566871Z",
     "start_time": "2025-03-26T23:37:18.183624Z"
    }
   },
   "outputs": [],
   "source": [
    "## aka not empty\n",
    "if row_curies:\n",
    "    parameters = {\n",
    "        ## use gene curies from 1 row\n",
    "        \"curie\": row_gene_curies,\n",
    "        \"conflate\": True\n",
    "    }\n",
    "    r = requests.get(nodenorm_url, params=parameters)\n",
    "    response = r.json()"
   ]
  },
  {
   "cell_type": "code",
   "execution_count": null,
   "id": "530c164f",
   "metadata": {
    "ExecuteTime": {
     "end_time": "2025-03-26T23:37:20.405527Z",
     "start_time": "2025-03-26T23:37:20.401366Z"
    }
   },
   "outputs": [],
   "source": [
    "response.keys()"
   ]
  },
  {
   "cell_type": "code",
   "execution_count": null,
   "id": "4776185a",
   "metadata": {
    "ExecuteTime": {
     "end_time": "2025-03-26T23:39:44.432768Z",
     "start_time": "2025-03-26T23:39:44.428595Z"
    }
   },
   "outputs": [],
   "source": [
    "if response[row_gene_curies[0]][\"id\"][\"identifier\"] != \\\n",
    "   response[row_gene_curies[1]][\"id\"][\"identifier\"]:\n",
    "    print(row_gene_curies)"
   ]
  },
  {
   "cell_type": "code",
   "execution_count": null,
   "id": "31fa028d",
   "metadata": {
    "ExecuteTime": {
     "end_time": "2025-03-26T23:36:04.899806Z",
     "start_time": "2025-03-26T23:36:04.893778Z"
    }
   },
   "outputs": [],
   "source": [
    "## NodeNormed primary/canonical ID and name\n",
    "response[\"OMIM:176261\"][\"id\"]\n",
    "response[\"HGNC:6240\"][\"id\"]"
   ]
  },
  {
   "cell_type": "code",
   "execution_count": null,
   "id": "22a62681",
   "metadata": {
    "ExecuteTime": {
     "end_time": "2025-03-26T23:24:45.265407Z",
     "start_time": "2025-03-26T23:24:45.261744Z"
    }
   },
   "outputs": [],
   "source": [
    "if response[row_omim]:\n",
    "    print(\"yay\")"
   ]
  },
  {
   "cell_type": "code",
   "execution_count": null,
   "id": "6bc6d721",
   "metadata": {
    "ExecuteTime": {
     "end_time": "2025-03-26T23:14:22.652944Z",
     "start_time": "2025-03-26T23:14:22.641814Z"
    }
   },
   "outputs": [],
   "source": [
    "## doesn't include NA by default\n",
    "df[\"gene_symbol\"].nunique()\n",
    "df[\"gene_mim\"].nunique()\n",
    "df[\"hgnc_id\"].nunique()\n",
    "\n",
    "## ...so some repetitiveness to doing things row-wise. "
   ]
  }
 ],
 "metadata": {
  "kernelspec": {
   "display_name": "Python 3 (ipykernel)",
   "language": "python",
   "name": "python3"
  },
  "language_info": {
   "codemirror_mode": {
    "name": "ipython",
    "version": 3
   },
   "file_extension": ".py",
   "mimetype": "text/x-python",
   "name": "python",
   "nbconvert_exporter": "python",
   "pygments_lexer": "ipython3",
   "version": "3.11.4"
  },
  "toc": {
   "base_numbering": 1,
   "nav_menu": {},
   "number_sections": false,
   "sideBar": true,
   "skip_h1_title": true,
   "title_cell": "Table of Contents",
   "title_sidebar": "Contents",
   "toc_cell": false,
   "toc_position": {
    "height": "calc(100% - 180px)",
    "left": "10px",
    "top": "150px",
    "width": "258.15px"
   },
   "toc_section_display": true,
   "toc_window_display": false
  }
 },
 "nbformat": 4,
 "nbformat_minor": 5
}
