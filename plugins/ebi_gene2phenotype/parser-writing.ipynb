{
 "cells": [
  {
   "cell_type": "markdown",
   "id": "65fd087a",
   "metadata": {
    "toc": true
   },
   "source": [
    "<h1>Table of Contents<span class=\"tocSkip\"></span></h1>\n",
    "<div class=\"toc\"><ul class=\"toc-item\"><li><span><a href=\"#Loading-data\" data-toc-modified-id=\"Loading-data-1\">Loading data</a></span></li><li><span><a href=\"#DEFUNCT:-Loading-data,-duplicates\" data-toc-modified-id=\"DEFUNCT:-Loading-data,-duplicates-2\">DEFUNCT: Loading data, duplicates</a></span><ul class=\"toc-item\"><li><span><a href=\"#Check,-remove-duplicates\" data-toc-modified-id=\"Check,-remove-duplicates-2.1\">Check, remove duplicates</a></span></li></ul></li><li><span><a href=\"#Column-level-transforms\" data-toc-modified-id=\"Column-level-transforms-3\">Column-level transforms</a></span></li><li><span><a href=\"#Confidence-values\" data-toc-modified-id=\"Confidence-values-4\">Confidence values</a></span><ul class=\"toc-item\"><li><span><a href=\"#Removing-rows-+-stats\" data-toc-modified-id=\"Removing-rows-+-stats-4.1\">Removing rows + stats</a></span></li></ul></li><li><span><a href=\"#Pre-NodeNorming\" data-toc-modified-id=\"Pre-NodeNorming-5\">Pre-NodeNorming</a></span><ul class=\"toc-item\"><li><span><a href=\"#Exploring:-Genes\" data-toc-modified-id=\"Exploring:-Genes-5.1\">Exploring: Genes</a></span><ul class=\"toc-item\"><li><span><a href=\"#HGNC\" data-toc-modified-id=\"HGNC-5.1.1\">HGNC</a></span></li><li><span><a href=\"#OMIM\" data-toc-modified-id=\"OMIM-5.1.2\">OMIM</a></span></li><li><span><a href=\"#Comparing-HGNC-vs-OMIM\" data-toc-modified-id=\"Comparing-HGNC-vs-OMIM-5.1.3\">Comparing HGNC vs OMIM</a></span></li><li><span><a href=\"#Conclusions\" data-toc-modified-id=\"Conclusions-5.1.4\">Conclusions</a></span></li></ul></li><li><span><a href=\"#Exploring:-Diseases\" data-toc-modified-id=\"Exploring:-Diseases-5.2\">Exploring: Diseases</a></span><ul class=\"toc-item\"><li><span><a href=\"#OMIM/orphanet\" data-toc-modified-id=\"OMIM/orphanet-5.2.1\">OMIM/orphanet</a></span></li><li><span><a href=\"#MONDO\" data-toc-modified-id=\"MONDO-5.2.2\">MONDO</a></span></li><li><span><a href=\"#Comparing-OMIM/orphanet-vs-MONDO\" data-toc-modified-id=\"Comparing-OMIM/orphanet-vs-MONDO-5.2.3\">Comparing OMIM/orphanet vs MONDO</a></span></li><li><span><a href=\"#Checking-MONDO-data\" data-toc-modified-id=\"Checking-MONDO-data-5.2.4\">Checking MONDO data</a></span></li><li><span><a href=\"#Conclusions\" data-toc-modified-id=\"Conclusions-5.2.5\">Conclusions</a></span></li></ul></li></ul></li><li><span><a href=\"#Stats-on-rows-removed-during-NodeNorming\" data-toc-modified-id=\"Stats-on-rows-removed-during-NodeNorming-6\">Stats on rows removed during NodeNorming</a></span></li><li><span><a href=\"#Adding-NodeNorm-data,-removing-rows\" data-toc-modified-id=\"Adding-NodeNorm-data,-removing-rows-7\">Adding NodeNorm data, removing rows</a></span></li><li><span><a href=\"#Generating-documents\" data-toc-modified-id=\"Generating-documents-8\">Generating documents</a></span><ul class=\"toc-item\"><li><span><a href=\"#Rows-not-included\" data-toc-modified-id=\"Rows-not-included-8.1\">Rows not included</a></span></li><li><span><a href=\"#Columns-not-included\" data-toc-modified-id=\"Columns-not-included-8.2\">Columns not included</a></span></li><li><span><a href=\"#Prelim,-import\" data-toc-modified-id=\"Prelim,-import-8.3\">Prelim, import</a></span></li><li><span><a href=\"#BioThings-type-parser\" data-toc-modified-id=\"BioThings-type-parser-8.4\">BioThings-type parser</a></span></li><li><span><a href=\"#File:-List-of-TRAPI-edges\" data-toc-modified-id=\"File:-List-of-TRAPI-edges-8.5\">File: List of TRAPI edges</a></span></li><li><span><a href=\"#File:-KGX-edges\" data-toc-modified-id=\"File:-KGX-edges-8.6\">File: KGX edges</a></span></li><li><span><a href=\"#File:-KGX-nodes\" data-toc-modified-id=\"File:-KGX-nodes-8.7\">File: KGX nodes</a></span></li></ul></li><li><span><a href=\"#DEFUNCT:-Checking-documents\" data-toc-modified-id=\"DEFUNCT:-Checking-documents-9\">DEFUNCT: Checking documents</a></span></li><li><span><a href=\"#BioThings-Parser-notes\" data-toc-modified-id=\"BioThings-Parser-notes-10\">BioThings Parser notes</a></span></li></ul></div>"
   ]
  },
  {
   "cell_type": "markdown",
   "id": "f18ee197",
   "metadata": {},
   "source": [
    "# Notebook for EBI gene2pheno parser development"
   ]
  },
  {
   "cell_type": "code",
   "execution_count": 1,
   "id": "3573099c",
   "metadata": {
    "ExecuteTime": {
     "end_time": "2025-07-31T22:46:00.148692Z",
     "start_time": "2025-07-31T22:46:00.143953Z"
    }
   },
   "outputs": [],
   "source": [
    "## not for parser. for notebook only \n",
    "\n",
    "## CX: allows multiple lines of code to print from one code block\n",
    "from IPython.core.interactiveshell import InteractiveShell\n",
    "InteractiveShell.ast_node_interactivity = \"all\""
   ]
  },
  {
   "cell_type": "markdown",
   "id": "aa862467",
   "metadata": {},
   "source": [
    "## Loading data"
   ]
  },
  {
   "cell_type": "code",
   "execution_count": 2,
   "id": "8325a51e",
   "metadata": {
    "ExecuteTime": {
     "end_time": "2025-07-31T22:46:02.469091Z",
     "start_time": "2025-07-31T22:46:01.965358Z"
    }
   },
   "outputs": [],
   "source": [
    "## put into parser: DONE\n",
    "import pathlib\n",
    "import pandas as pd\n",
    "\n",
    "## don't put in parser. Just for this notebook\n",
    "import glob\n",
    "from pprint import pprint\n",
    "\n",
    "## unsure on putting into parser: more for notebook viewing/debugging...\n",
    "pd.options.display.max_columns = None"
   ]
  },
  {
   "cell_type": "markdown",
   "id": "dea56230",
   "metadata": {},
   "source": [
    "**UPDATE 2025-07-31**\n",
    "\n",
    "Now using the \"on-the-fly\", \"all data\" download thru the API. I think this is the easiest to set up the common ingest pipeline to use. It has all data **without duplicates** (analyzed in data-playground notebook).\n",
    "\n",
    "Putting old notes/code chunks that used static release panel files in a separate section."
   ]
  },
  {
   "cell_type": "code",
   "execution_count": 3,
   "id": "f170e231",
   "metadata": {
    "ExecuteTime": {
     "end_time": "2025-07-31T22:46:17.237283Z",
     "start_time": "2025-07-31T22:46:14.809760Z"
    },
    "scrolled": true
   },
   "outputs": [],
   "source": [
    "## put into parser (format): \n",
    "\n",
    "all_data_url = \"https://www.ebi.ac.uk/gene2phenotype/api/panel/all/download/\"\n",
    "\n",
    "## ingesting all columns as str for now\n",
    "df = pd.read_csv(all_data_url, dtype=str)\n",
    "\n",
    "## make column names snake-case - usable with itertuples later\n",
    "df.columns = df.columns.str.replace(\" \", \"_\")"
   ]
  },
  {
   "cell_type": "code",
   "execution_count": 4,
   "id": "d426f4fa",
   "metadata": {
    "ExecuteTime": {
     "end_time": "2025-07-31T22:46:24.937332Z",
     "start_time": "2025-07-31T22:46:24.929713Z"
    }
   },
   "outputs": [
    {
     "data": {
      "text/plain": [
       "Index(['g2p_id', 'gene_symbol', 'gene_mim', 'hgnc_id', 'previous_gene_symbols',\n",
       "       'disease_name', 'disease_mim', 'disease_MONDO', 'allelic_requirement',\n",
       "       'cross_cutting_modifier', 'confidence', 'variant_consequence',\n",
       "       'variant_types', 'molecular_mechanism', 'molecular_mechanism_support',\n",
       "       'molecular_mechanism_categorisation', 'molecular_mechanism_evidence',\n",
       "       'phenotypes', 'publications', 'panel', 'comments',\n",
       "       'date_of_last_review', 'review'],\n",
       "      dtype='object')"
      ]
     },
     "execution_count": 4,
     "metadata": {},
     "output_type": "execute_result"
    }
   ],
   "source": [
    "df.columns"
   ]
  },
  {
   "cell_type": "code",
   "execution_count": 5,
   "id": "202d0d16",
   "metadata": {
    "ExecuteTime": {
     "end_time": "2025-07-31T22:46:41.526918Z",
     "start_time": "2025-07-31T22:46:41.519502Z"
    }
   },
   "outputs": [
    {
     "name": "stdout",
     "output_type": "stream",
     "text": [
      "<class 'pandas.core.series.Series'>\n",
      "RangeIndex: 3718 entries, 0 to 3717\n",
      "Series name: date_of_last_review\n",
      "Non-Null Count  Dtype \n",
      "--------------  ----- \n",
      "3718 non-null   object\n",
      "dtypes: object(1)\n",
      "memory usage: 268.8 KB\n"
     ]
    }
   ],
   "source": [
    "## looking at datatype of this column\n",
    "df[\"date_of_last_review\"].info(memory_usage=\"deep\")"
   ]
  },
  {
   "cell_type": "code",
   "execution_count": 6,
   "id": "596be973",
   "metadata": {
    "ExecuteTime": {
     "end_time": "2025-07-31T22:46:44.746226Z",
     "start_time": "2025-07-31T22:46:44.731817Z"
    }
   },
   "outputs": [
    {
     "name": "stdout",
     "output_type": "stream",
     "text": [
      "<class 'pandas.core.series.Series'>\n",
      "RangeIndex: 3718 entries, 0 to 3717\n",
      "Series name: date_of_last_review\n",
      "Non-Null Count  Dtype              \n",
      "--------------  -----              \n",
      "3718 non-null   datetime64[ns, UTC]\n",
      "dtypes: datetime64[ns, UTC](1)\n",
      "memory usage: 29.2 KB\n"
     ]
    }
   ],
   "source": [
    "## change this column to datetime, saves memory\n",
    "df[\"date_of_last_review\"] = pd.to_datetime(df[\"date_of_last_review\"])\n",
    "df[\"date_of_last_review\"].info(memory_usage=\"deep\")"
   ]
  },
  {
   "cell_type": "code",
   "execution_count": 7,
   "id": "cd7a3743",
   "metadata": {
    "ExecuteTime": {
     "end_time": "2025-07-31T22:47:49.732191Z",
     "start_time": "2025-07-31T22:47:49.707881Z"
    }
   },
   "outputs": [
    {
     "data": {
      "text/html": [
       "<div>\n",
       "<style scoped>\n",
       "    .dataframe tbody tr th:only-of-type {\n",
       "        vertical-align: middle;\n",
       "    }\n",
       "\n",
       "    .dataframe tbody tr th {\n",
       "        vertical-align: top;\n",
       "    }\n",
       "\n",
       "    .dataframe thead th {\n",
       "        text-align: right;\n",
       "    }\n",
       "</style>\n",
       "<table border=\"1\" class=\"dataframe\">\n",
       "  <thead>\n",
       "    <tr style=\"text-align: right;\">\n",
       "      <th></th>\n",
       "      <th>g2p_id</th>\n",
       "      <th>gene_symbol</th>\n",
       "      <th>gene_mim</th>\n",
       "      <th>hgnc_id</th>\n",
       "      <th>previous_gene_symbols</th>\n",
       "      <th>disease_name</th>\n",
       "      <th>disease_mim</th>\n",
       "      <th>disease_MONDO</th>\n",
       "      <th>allelic_requirement</th>\n",
       "      <th>cross_cutting_modifier</th>\n",
       "      <th>confidence</th>\n",
       "      <th>variant_consequence</th>\n",
       "      <th>variant_types</th>\n",
       "      <th>molecular_mechanism</th>\n",
       "      <th>molecular_mechanism_support</th>\n",
       "      <th>molecular_mechanism_categorisation</th>\n",
       "      <th>molecular_mechanism_evidence</th>\n",
       "      <th>phenotypes</th>\n",
       "      <th>publications</th>\n",
       "      <th>panel</th>\n",
       "      <th>comments</th>\n",
       "      <th>date_of_last_review</th>\n",
       "      <th>review</th>\n",
       "    </tr>\n",
       "  </thead>\n",
       "  <tbody>\n",
       "  </tbody>\n",
       "</table>\n",
       "</div>"
      ],
      "text/plain": [
       "Empty DataFrame\n",
       "Columns: [g2p_id, gene_symbol, gene_mim, hgnc_id, previous_gene_symbols, disease_name, disease_mim, disease_MONDO, allelic_requirement, cross_cutting_modifier, confidence, variant_consequence, variant_types, molecular_mechanism, molecular_mechanism_support, molecular_mechanism_categorisation, molecular_mechanism_evidence, phenotypes, publications, panel, comments, date_of_last_review, review]\n",
       "Index: []"
      ]
     },
     "execution_count": 7,
     "metadata": {},
     "output_type": "execute_result"
    }
   ],
   "source": [
    "## check for duplicates - empty df == none\n",
    "\n",
    "df[df.duplicated(keep=False)]"
   ]
  },
  {
   "cell_type": "code",
   "execution_count": 8,
   "id": "92e420d1",
   "metadata": {
    "ExecuteTime": {
     "end_time": "2025-07-31T22:46:53.534934Z",
     "start_time": "2025-07-31T22:46:53.502193Z"
    }
   },
   "outputs": [
    {
     "name": "stdout",
     "output_type": "stream",
     "text": [
      "<class 'pandas.core.frame.DataFrame'>\n",
      "RangeIndex: 3718 entries, 0 to 3717\n",
      "Data columns (total 23 columns):\n",
      " #   Column                              Non-Null Count  Dtype              \n",
      "---  ------                              --------------  -----              \n",
      " 0   g2p_id                              3718 non-null   object             \n",
      " 1   gene_symbol                         3718 non-null   object             \n",
      " 2   gene_mim                            3715 non-null   object             \n",
      " 3   hgnc_id                             3718 non-null   object             \n",
      " 4   previous_gene_symbols               3433 non-null   object             \n",
      " 5   disease_name                        3718 non-null   object             \n",
      " 6   disease_mim                         2949 non-null   object             \n",
      " 7   disease_MONDO                       2196 non-null   object             \n",
      " 8   allelic_requirement                 3718 non-null   object             \n",
      " 9   cross_cutting_modifier              464 non-null    object             \n",
      " 10  confidence                          3718 non-null   object             \n",
      " 11  variant_consequence                 3700 non-null   object             \n",
      " 12  variant_types                       1055 non-null   object             \n",
      " 13  molecular_mechanism                 3718 non-null   object             \n",
      " 14  molecular_mechanism_support         3718 non-null   object             \n",
      " 15  molecular_mechanism_categorisation  38 non-null     object             \n",
      " 16  molecular_mechanism_evidence        105 non-null    object             \n",
      " 17  phenotypes                          2477 non-null   object             \n",
      " 18  publications                        3370 non-null   object             \n",
      " 19  panel                               3718 non-null   object             \n",
      " 20  comments                            120 non-null    object             \n",
      " 21  date_of_last_review                 3718 non-null   datetime64[ns, UTC]\n",
      " 22  review                              0 non-null      object             \n",
      "dtypes: datetime64[ns, UTC](1), object(22)\n",
      "memory usage: 4.9 MB\n"
     ]
    }
   ],
   "source": [
    "df.info(memory_usage=\"deep\")"
   ]
  },
  {
   "cell_type": "code",
   "execution_count": 9,
   "id": "08d32152",
   "metadata": {
    "ExecuteTime": {
     "end_time": "2025-07-31T22:47:49.732191Z",
     "start_time": "2025-07-31T22:47:49.707881Z"
    }
   },
   "outputs": [
    {
     "data": {
      "text/html": [
       "<div>\n",
       "<style scoped>\n",
       "    .dataframe tbody tr th:only-of-type {\n",
       "        vertical-align: middle;\n",
       "    }\n",
       "\n",
       "    .dataframe tbody tr th {\n",
       "        vertical-align: top;\n",
       "    }\n",
       "\n",
       "    .dataframe thead th {\n",
       "        text-align: right;\n",
       "    }\n",
       "</style>\n",
       "<table border=\"1\" class=\"dataframe\">\n",
       "  <thead>\n",
       "    <tr style=\"text-align: right;\">\n",
       "      <th></th>\n",
       "      <th>g2p_id</th>\n",
       "      <th>gene_symbol</th>\n",
       "      <th>gene_mim</th>\n",
       "      <th>hgnc_id</th>\n",
       "      <th>previous_gene_symbols</th>\n",
       "      <th>disease_name</th>\n",
       "      <th>disease_mim</th>\n",
       "      <th>disease_MONDO</th>\n",
       "      <th>allelic_requirement</th>\n",
       "      <th>cross_cutting_modifier</th>\n",
       "      <th>confidence</th>\n",
       "      <th>variant_consequence</th>\n",
       "      <th>variant_types</th>\n",
       "      <th>molecular_mechanism</th>\n",
       "      <th>molecular_mechanism_support</th>\n",
       "      <th>molecular_mechanism_categorisation</th>\n",
       "      <th>molecular_mechanism_evidence</th>\n",
       "      <th>phenotypes</th>\n",
       "      <th>publications</th>\n",
       "      <th>panel</th>\n",
       "      <th>comments</th>\n",
       "      <th>date_of_last_review</th>\n",
       "      <th>review</th>\n",
       "    </tr>\n",
       "  </thead>\n",
       "  <tbody>\n",
       "    <tr>\n",
       "      <th>0</th>\n",
       "      <td>G2P00001</td>\n",
       "      <td>HMX1</td>\n",
       "      <td>142992</td>\n",
       "      <td>5017</td>\n",
       "      <td>H6; NKX5-3</td>\n",
       "      <td>HMX1-related oculoauricular syndrome</td>\n",
       "      <td>612109</td>\n",
       "      <td>MONDO:0012802</td>\n",
       "      <td>biallelic_autosomal</td>\n",
       "      <td>NaN</td>\n",
       "      <td>definitive</td>\n",
       "      <td>absent gene product</td>\n",
       "      <td>NaN</td>\n",
       "      <td>loss of function</td>\n",
       "      <td>inferred</td>\n",
       "      <td>NaN</td>\n",
       "      <td>NaN</td>\n",
       "      <td>HP:0000007; HP:0000482; HP:0000505; HP:0000518...</td>\n",
       "      <td>18423520; 25574057; 29140751</td>\n",
       "      <td>DD; Eye</td>\n",
       "      <td>NaN</td>\n",
       "      <td>2019-09-26 16:23:46+00:00</td>\n",
       "      <td>NaN</td>\n",
       "    </tr>\n",
       "    <tr>\n",
       "      <th>1</th>\n",
       "      <td>G2P00002</td>\n",
       "      <td>SLX4</td>\n",
       "      <td>613278</td>\n",
       "      <td>23845</td>\n",
       "      <td>BTBD12; FANCP; KIAA1784; KIAA1987</td>\n",
       "      <td>SLX4-related Fanconi anemia</td>\n",
       "      <td>613951</td>\n",
       "      <td>MONDO:0013499</td>\n",
       "      <td>biallelic_autosomal</td>\n",
       "      <td>NaN</td>\n",
       "      <td>definitive</td>\n",
       "      <td>absent gene product</td>\n",
       "      <td>NaN</td>\n",
       "      <td>loss of function</td>\n",
       "      <td>inferred</td>\n",
       "      <td>NaN</td>\n",
       "      <td>NaN</td>\n",
       "      <td>HP:0000007; HP:0000028; HP:0000085; HP:0000125...</td>\n",
       "      <td>21240275; 21240277</td>\n",
       "      <td>DD</td>\n",
       "      <td>NaN</td>\n",
       "      <td>2025-01-28 23:09:54+00:00</td>\n",
       "      <td>NaN</td>\n",
       "    </tr>\n",
       "    <tr>\n",
       "      <th>2</th>\n",
       "      <td>G2P00003</td>\n",
       "      <td>ARG1</td>\n",
       "      <td>608313</td>\n",
       "      <td>663</td>\n",
       "      <td>NaN</td>\n",
       "      <td>ARG1-related argininemia</td>\n",
       "      <td>207800</td>\n",
       "      <td>MONDO:0008814</td>\n",
       "      <td>biallelic_autosomal</td>\n",
       "      <td>NaN</td>\n",
       "      <td>definitive</td>\n",
       "      <td>absent gene product</td>\n",
       "      <td>NaN</td>\n",
       "      <td>loss of function</td>\n",
       "      <td>inferred</td>\n",
       "      <td>NaN</td>\n",
       "      <td>NaN</td>\n",
       "      <td>HP:0000007; HP:0000737; HP:0000752; HP:0001249...</td>\n",
       "      <td>10502833; 1463019; 1598908; 2365823; 7649538</td>\n",
       "      <td>DD</td>\n",
       "      <td>NaN</td>\n",
       "      <td>2015-07-22 16:14:07+00:00</td>\n",
       "      <td>NaN</td>\n",
       "    </tr>\n",
       "    <tr>\n",
       "      <th>3</th>\n",
       "      <td>G2P00004</td>\n",
       "      <td>ATR</td>\n",
       "      <td>601215</td>\n",
       "      <td>882</td>\n",
       "      <td>FRP1; MEC1; SCKL; SCKL1</td>\n",
       "      <td>ATR-related Seckel syndrome</td>\n",
       "      <td>210600</td>\n",
       "      <td>MONDO:0008869</td>\n",
       "      <td>biallelic_autosomal</td>\n",
       "      <td>NaN</td>\n",
       "      <td>strong</td>\n",
       "      <td>absent gene product</td>\n",
       "      <td>NaN</td>\n",
       "      <td>loss of function</td>\n",
       "      <td>inferred</td>\n",
       "      <td>NaN</td>\n",
       "      <td>NaN</td>\n",
       "      <td>HP:0000007; HP:0000028; HP:0000047; HP:0000057...</td>\n",
       "      <td>NaN</td>\n",
       "      <td>DD; Skeletal</td>\n",
       "      <td>NaN</td>\n",
       "      <td>2025-01-27 14:24:27+00:00</td>\n",
       "      <td>NaN</td>\n",
       "    </tr>\n",
       "    <tr>\n",
       "      <th>4</th>\n",
       "      <td>G2P00005</td>\n",
       "      <td>FANCB</td>\n",
       "      <td>300515</td>\n",
       "      <td>3583</td>\n",
       "      <td>FAAP95; FAB; FLJ34064</td>\n",
       "      <td>FANCB-related Fanconi anemia</td>\n",
       "      <td>300514</td>\n",
       "      <td>MONDO:0010351</td>\n",
       "      <td>monoallelic_X_hemizygous</td>\n",
       "      <td>NaN</td>\n",
       "      <td>definitive</td>\n",
       "      <td>absent gene product</td>\n",
       "      <td>NaN</td>\n",
       "      <td>loss of function</td>\n",
       "      <td>inferred</td>\n",
       "      <td>NaN</td>\n",
       "      <td>NaN</td>\n",
       "      <td>HP:0000083; HP:0000100; HP:0000119; HP:0000707...</td>\n",
       "      <td>15502827; 16679491; 21910217; 22052692; 236135...</td>\n",
       "      <td>DD; Skin</td>\n",
       "      <td>NaN</td>\n",
       "      <td>2024-08-20 14:13:58+00:00</td>\n",
       "      <td>NaN</td>\n",
       "    </tr>\n",
       "    <tr>\n",
       "      <th>...</th>\n",
       "      <td>...</td>\n",
       "      <td>...</td>\n",
       "      <td>...</td>\n",
       "      <td>...</td>\n",
       "      <td>...</td>\n",
       "      <td>...</td>\n",
       "      <td>...</td>\n",
       "      <td>...</td>\n",
       "      <td>...</td>\n",
       "      <td>...</td>\n",
       "      <td>...</td>\n",
       "      <td>...</td>\n",
       "      <td>...</td>\n",
       "      <td>...</td>\n",
       "      <td>...</td>\n",
       "      <td>...</td>\n",
       "      <td>...</td>\n",
       "      <td>...</td>\n",
       "      <td>...</td>\n",
       "      <td>...</td>\n",
       "      <td>...</td>\n",
       "      <td>...</td>\n",
       "      <td>...</td>\n",
       "    </tr>\n",
       "    <tr>\n",
       "      <th>3713</th>\n",
       "      <td>G2P01393</td>\n",
       "      <td>CABP2</td>\n",
       "      <td>607314</td>\n",
       "      <td>1385</td>\n",
       "      <td>DFNB93</td>\n",
       "      <td>CABP2-related deafness</td>\n",
       "      <td>614899</td>\n",
       "      <td>NaN</td>\n",
       "      <td>biallelic_autosomal</td>\n",
       "      <td>NaN</td>\n",
       "      <td>strong</td>\n",
       "      <td>absent gene product</td>\n",
       "      <td>NaN</td>\n",
       "      <td>loss of function</td>\n",
       "      <td>inferred</td>\n",
       "      <td>NaN</td>\n",
       "      <td>NaN</td>\n",
       "      <td>HP:0000007</td>\n",
       "      <td>22981119</td>\n",
       "      <td>Ear</td>\n",
       "      <td>NaN</td>\n",
       "      <td>2025-04-28 09:36:23+00:00</td>\n",
       "      <td>NaN</td>\n",
       "    </tr>\n",
       "    <tr>\n",
       "      <th>3714</th>\n",
       "      <td>G2P01854</td>\n",
       "      <td>PAX3</td>\n",
       "      <td>606597</td>\n",
       "      <td>8617</td>\n",
       "      <td>HUP2; PAX-3; WS1</td>\n",
       "      <td>PAX3-related craniofacial-deafness-hand syndrome</td>\n",
       "      <td>122880</td>\n",
       "      <td>NaN</td>\n",
       "      <td>monoallelic_autosomal</td>\n",
       "      <td>NaN</td>\n",
       "      <td>definitive</td>\n",
       "      <td>absent gene product</td>\n",
       "      <td>NaN</td>\n",
       "      <td>loss of function</td>\n",
       "      <td>inferred</td>\n",
       "      <td>NaN</td>\n",
       "      <td>NaN</td>\n",
       "      <td>HP:0000006; HP:0000272; HP:0000316; HP:0000327...</td>\n",
       "      <td>6859126</td>\n",
       "      <td>Ear</td>\n",
       "      <td>NaN</td>\n",
       "      <td>2025-04-28 10:19:36+00:00</td>\n",
       "      <td>NaN</td>\n",
       "    </tr>\n",
       "    <tr>\n",
       "      <th>3715</th>\n",
       "      <td>G2P01857</td>\n",
       "      <td>SIX1</td>\n",
       "      <td>601205</td>\n",
       "      <td>10887</td>\n",
       "      <td>DFNA23</td>\n",
       "      <td>SIX1-related deafness</td>\n",
       "      <td>605192</td>\n",
       "      <td>NaN</td>\n",
       "      <td>monoallelic_autosomal</td>\n",
       "      <td>NaN</td>\n",
       "      <td>definitive</td>\n",
       "      <td>altered gene product structure</td>\n",
       "      <td>inframe_deletion; inframe_insertion; missense_...</td>\n",
       "      <td>undetermined</td>\n",
       "      <td>inferred</td>\n",
       "      <td>NaN</td>\n",
       "      <td>NaN</td>\n",
       "      <td>HP:0000006; HP:0000405; HP:0000407</td>\n",
       "      <td>10777717</td>\n",
       "      <td>Ear</td>\n",
       "      <td>NaN</td>\n",
       "      <td>2025-04-28 10:21:02+00:00</td>\n",
       "      <td>NaN</td>\n",
       "    </tr>\n",
       "    <tr>\n",
       "      <th>3716</th>\n",
       "      <td>G2P01852</td>\n",
       "      <td>SOX10</td>\n",
       "      <td>602229</td>\n",
       "      <td>11190</td>\n",
       "      <td>DOM; SOX-10; WS2E; WS4</td>\n",
       "      <td>SOX10-related Kallmann syndrome with deafness</td>\n",
       "      <td>NaN</td>\n",
       "      <td>NaN</td>\n",
       "      <td>monoallelic_autosomal</td>\n",
       "      <td>NaN</td>\n",
       "      <td>definitive</td>\n",
       "      <td>absent gene product</td>\n",
       "      <td>NaN</td>\n",
       "      <td>loss of function</td>\n",
       "      <td>inferred</td>\n",
       "      <td>NaN</td>\n",
       "      <td>NaN</td>\n",
       "      <td>NaN</td>\n",
       "      <td>23643381</td>\n",
       "      <td>Ear</td>\n",
       "      <td>NaN</td>\n",
       "      <td>2025-04-28 10:21:28+00:00</td>\n",
       "      <td>NaN</td>\n",
       "    </tr>\n",
       "    <tr>\n",
       "      <th>3717</th>\n",
       "      <td>G2P01850</td>\n",
       "      <td>MYH9</td>\n",
       "      <td>160775</td>\n",
       "      <td>7579</td>\n",
       "      <td>DFNA17; EPSTS; FTNS; MHA; NMHC-II-A; NMMHCA</td>\n",
       "      <td>MYH9-related deafness</td>\n",
       "      <td>603622</td>\n",
       "      <td>NaN</td>\n",
       "      <td>monoallelic_autosomal</td>\n",
       "      <td>NaN</td>\n",
       "      <td>definitive</td>\n",
       "      <td>uncertain</td>\n",
       "      <td>NaN</td>\n",
       "      <td>undetermined</td>\n",
       "      <td>inferred</td>\n",
       "      <td>NaN</td>\n",
       "      <td>NaN</td>\n",
       "      <td>HP:0000006; HP:0003621; HP:0005101</td>\n",
       "      <td>NaN</td>\n",
       "      <td>Ear</td>\n",
       "      <td>NaN</td>\n",
       "      <td>2025-04-28 10:42:44+00:00</td>\n",
       "      <td>NaN</td>\n",
       "    </tr>\n",
       "  </tbody>\n",
       "</table>\n",
       "<p>3718 rows × 23 columns</p>\n",
       "</div>"
      ],
      "text/plain": [
       "        g2p_id gene_symbol gene_mim hgnc_id  \\\n",
       "0     G2P00001        HMX1   142992    5017   \n",
       "1     G2P00002        SLX4   613278   23845   \n",
       "2     G2P00003        ARG1   608313     663   \n",
       "3     G2P00004         ATR   601215     882   \n",
       "4     G2P00005       FANCB   300515    3583   \n",
       "...        ...         ...      ...     ...   \n",
       "3713  G2P01393       CABP2   607314    1385   \n",
       "3714  G2P01854        PAX3   606597    8617   \n",
       "3715  G2P01857        SIX1   601205   10887   \n",
       "3716  G2P01852       SOX10   602229   11190   \n",
       "3717  G2P01850        MYH9   160775    7579   \n",
       "\n",
       "                            previous_gene_symbols  \\\n",
       "0                                      H6; NKX5-3   \n",
       "1               BTBD12; FANCP; KIAA1784; KIAA1987   \n",
       "2                                             NaN   \n",
       "3                         FRP1; MEC1; SCKL; SCKL1   \n",
       "4                           FAAP95; FAB; FLJ34064   \n",
       "...                                           ...   \n",
       "3713                                       DFNB93   \n",
       "3714                             HUP2; PAX-3; WS1   \n",
       "3715                                       DFNA23   \n",
       "3716                       DOM; SOX-10; WS2E; WS4   \n",
       "3717  DFNA17; EPSTS; FTNS; MHA; NMHC-II-A; NMMHCA   \n",
       "\n",
       "                                          disease_name disease_mim  \\\n",
       "0                 HMX1-related oculoauricular syndrome      612109   \n",
       "1                          SLX4-related Fanconi anemia      613951   \n",
       "2                             ARG1-related argininemia      207800   \n",
       "3                          ATR-related Seckel syndrome      210600   \n",
       "4                         FANCB-related Fanconi anemia      300514   \n",
       "...                                                ...         ...   \n",
       "3713                            CABP2-related deafness      614899   \n",
       "3714  PAX3-related craniofacial-deafness-hand syndrome      122880   \n",
       "3715                             SIX1-related deafness      605192   \n",
       "3716     SOX10-related Kallmann syndrome with deafness         NaN   \n",
       "3717                             MYH9-related deafness      603622   \n",
       "\n",
       "      disease_MONDO       allelic_requirement cross_cutting_modifier  \\\n",
       "0     MONDO:0012802       biallelic_autosomal                    NaN   \n",
       "1     MONDO:0013499       biallelic_autosomal                    NaN   \n",
       "2     MONDO:0008814       biallelic_autosomal                    NaN   \n",
       "3     MONDO:0008869       biallelic_autosomal                    NaN   \n",
       "4     MONDO:0010351  monoallelic_X_hemizygous                    NaN   \n",
       "...             ...                       ...                    ...   \n",
       "3713            NaN       biallelic_autosomal                    NaN   \n",
       "3714            NaN     monoallelic_autosomal                    NaN   \n",
       "3715            NaN     monoallelic_autosomal                    NaN   \n",
       "3716            NaN     monoallelic_autosomal                    NaN   \n",
       "3717            NaN     monoallelic_autosomal                    NaN   \n",
       "\n",
       "      confidence             variant_consequence  \\\n",
       "0     definitive             absent gene product   \n",
       "1     definitive             absent gene product   \n",
       "2     definitive             absent gene product   \n",
       "3         strong             absent gene product   \n",
       "4     definitive             absent gene product   \n",
       "...          ...                             ...   \n",
       "3713      strong             absent gene product   \n",
       "3714  definitive             absent gene product   \n",
       "3715  definitive  altered gene product structure   \n",
       "3716  definitive             absent gene product   \n",
       "3717  definitive                       uncertain   \n",
       "\n",
       "                                          variant_types molecular_mechanism  \\\n",
       "0                                                   NaN    loss of function   \n",
       "1                                                   NaN    loss of function   \n",
       "2                                                   NaN    loss of function   \n",
       "3                                                   NaN    loss of function   \n",
       "4                                                   NaN    loss of function   \n",
       "...                                                 ...                 ...   \n",
       "3713                                                NaN    loss of function   \n",
       "3714                                                NaN    loss of function   \n",
       "3715  inframe_deletion; inframe_insertion; missense_...        undetermined   \n",
       "3716                                                NaN    loss of function   \n",
       "3717                                                NaN        undetermined   \n",
       "\n",
       "     molecular_mechanism_support molecular_mechanism_categorisation  \\\n",
       "0                       inferred                                NaN   \n",
       "1                       inferred                                NaN   \n",
       "2                       inferred                                NaN   \n",
       "3                       inferred                                NaN   \n",
       "4                       inferred                                NaN   \n",
       "...                          ...                                ...   \n",
       "3713                    inferred                                NaN   \n",
       "3714                    inferred                                NaN   \n",
       "3715                    inferred                                NaN   \n",
       "3716                    inferred                                NaN   \n",
       "3717                    inferred                                NaN   \n",
       "\n",
       "     molecular_mechanism_evidence  \\\n",
       "0                             NaN   \n",
       "1                             NaN   \n",
       "2                             NaN   \n",
       "3                             NaN   \n",
       "4                             NaN   \n",
       "...                           ...   \n",
       "3713                          NaN   \n",
       "3714                          NaN   \n",
       "3715                          NaN   \n",
       "3716                          NaN   \n",
       "3717                          NaN   \n",
       "\n",
       "                                             phenotypes  \\\n",
       "0     HP:0000007; HP:0000482; HP:0000505; HP:0000518...   \n",
       "1     HP:0000007; HP:0000028; HP:0000085; HP:0000125...   \n",
       "2     HP:0000007; HP:0000737; HP:0000752; HP:0001249...   \n",
       "3     HP:0000007; HP:0000028; HP:0000047; HP:0000057...   \n",
       "4     HP:0000083; HP:0000100; HP:0000119; HP:0000707...   \n",
       "...                                                 ...   \n",
       "3713                                         HP:0000007   \n",
       "3714  HP:0000006; HP:0000272; HP:0000316; HP:0000327...   \n",
       "3715                 HP:0000006; HP:0000405; HP:0000407   \n",
       "3716                                                NaN   \n",
       "3717                 HP:0000006; HP:0003621; HP:0005101   \n",
       "\n",
       "                                           publications         panel  \\\n",
       "0                          18423520; 25574057; 29140751       DD; Eye   \n",
       "1                                    21240275; 21240277            DD   \n",
       "2          10502833; 1463019; 1598908; 2365823; 7649538            DD   \n",
       "3                                                   NaN  DD; Skeletal   \n",
       "4     15502827; 16679491; 21910217; 22052692; 236135...      DD; Skin   \n",
       "...                                                 ...           ...   \n",
       "3713                                           22981119           Ear   \n",
       "3714                                            6859126           Ear   \n",
       "3715                                           10777717           Ear   \n",
       "3716                                           23643381           Ear   \n",
       "3717                                                NaN           Ear   \n",
       "\n",
       "     comments       date_of_last_review review  \n",
       "0         NaN 2019-09-26 16:23:46+00:00    NaN  \n",
       "1         NaN 2025-01-28 23:09:54+00:00    NaN  \n",
       "2         NaN 2015-07-22 16:14:07+00:00    NaN  \n",
       "3         NaN 2025-01-27 14:24:27+00:00    NaN  \n",
       "4         NaN 2024-08-20 14:13:58+00:00    NaN  \n",
       "...       ...                       ...    ...  \n",
       "3713      NaN 2025-04-28 09:36:23+00:00    NaN  \n",
       "3714      NaN 2025-04-28 10:19:36+00:00    NaN  \n",
       "3715      NaN 2025-04-28 10:21:02+00:00    NaN  \n",
       "3716      NaN 2025-04-28 10:21:28+00:00    NaN  \n",
       "3717      NaN 2025-04-28 10:42:44+00:00    NaN  \n",
       "\n",
       "[3718 rows x 23 columns]"
      ]
     },
     "execution_count": 9,
     "metadata": {},
     "output_type": "execute_result"
    }
   ],
   "source": [
    "df"
   ]
  },
  {
   "cell_type": "markdown",
   "id": "e13fafe0",
   "metadata": {
    "heading_collapsed": true
   },
   "source": [
    "## DEFUNCT: Loading data, duplicates"
   ]
  },
  {
   "cell_type": "markdown",
   "id": "e23c358f",
   "metadata": {
    "hidden": true
   },
   "source": [
    "<div class=\"alert alert-block alert-danger\">\n",
    "    \n",
    "Adjust the code block below for path/pattern for data files. \n",
    "    \n",
    "This notebook was originally written using data files from the 2025-02-28 static release on the [FTP site](https://ftp.ebi.ac.uk/pub/databases/gene2phenotype/G2P_data_downloads/).\n",
    "The latest data can be downloaded from the [website](https://www.ebi.ac.uk/gene2phenotype/download) or [API](https://www.ebi.ac.uk/gene2phenotype/api/)"
   ]
  },
  {
   "cell_type": "code",
   "execution_count": null,
   "id": "63f0a6ac",
   "metadata": {
    "ExecuteTime": {
     "end_time": "2025-07-23T06:49:29.862352Z",
     "start_time": "2025-07-23T06:49:29.854329Z"
    },
    "hidden": true
   },
   "outputs": [],
   "source": [
    "# ## put into parser (format): DONE\n",
    "\n",
    "# base_file_path = pathlib.Path.home().joinpath(\"Desktop\", \"EBIgene2pheno_files\", \n",
    "#                                               \"From_FTP\", \"2025-06-27\")\n",
    "\n",
    "# ## uses pathlib's Path.glob, which produces a generator. \n",
    "# ## cast into list so parser code can check if paths were actually matched or not\n",
    "# all_file_paths = list(base_file_path.glob(\"*.csv.gz\"))\n",
    "# all_file_paths"
   ]
  },
  {
   "cell_type": "code",
   "execution_count": null,
   "id": "0b010c8a",
   "metadata": {
    "ExecuteTime": {
     "end_time": "2025-07-23T06:49:29.871983Z",
     "start_time": "2025-07-23T06:49:29.866306Z"
    },
    "hidden": true
   },
   "outputs": [],
   "source": [
    "# ## an example: pathlib's Path.glob produces a generator\n",
    "# ## vs glob.glob produces an array (from cwd only?)\n",
    "# base_file_path.glob(\"*2025-02-28.csv.gz\")\n",
    "# glob.glob(\"*2025-02-28.csv.gz\")"
   ]
  },
  {
   "cell_type": "markdown",
   "id": "00263d19",
   "metadata": {
    "hidden": true
   },
   "source": [
    "__OLD NOTES__\n",
    "\n",
    "\n",
    "Approach is to load all files into 1 pandas dataframe. Then I can...\n",
    "\n",
    "1. check the duplicates situation: records found in multiple panel files. I can check whether the same record looks different between files or not (by checking duplicates using all columns vs key columns). -> Raise errors if yes\n",
    "2. remove duplicates before generating documents\n",
    "3. Do some tasks column-wise over all the data, rather than while iterating over rows\n",
    "\n",
    "Notes:\n",
    "* There are a few existing BioThings parsers that also use `pandas` to load the entire raw data file at once: https://github.com/search?q=repo%3Abiothings%2Fpending.api%20pandas&type=code\n",
    "* But there are other parsers that use `csv` to load the file **one row at a time** (generator): https://github.com/search?q=repo%3Abiothings%2Fpending.api+csv+reader&type=code\n",
    "\n",
    "---\n",
    "\n",
    "If I did the generator approach (load files 1 by 1, 1 row at a time), I'd have to modify how I do things:\n",
    "1. Don't do the duplicates check. But try to mitigate potential \"duplicate\" issues: \n",
    "   - Sort all delimited strings\n",
    "   - Use a hash of all column values (when they're all strings) for `_id`. Want rows with all the same values to produce the same hash\n",
    "2. Either leave to BioThings toolset to remove duplicates, or could save a running set of `_id` hashes to check if row was already encountered -> not create duplicate docs\n",
    "3. Do the tasks on single rows/chunks (pandas [read_csv](https://pandas.pydata.org/docs/reference/api/pandas.read_csv.html#pandas.read_csv) has an iterator for rows/chunks! see iterator/chunksize parameters)"
   ]
  },
  {
   "cell_type": "code",
   "execution_count": null,
   "id": "dd0fc904",
   "metadata": {
    "ExecuteTime": {
     "end_time": "2025-07-23T06:49:29.988088Z",
     "start_time": "2025-07-23T06:49:29.873818Z"
    },
    "hidden": true,
    "scrolled": true
   },
   "outputs": [],
   "source": [
    "# ## put into parser (format): DONE\n",
    "\n",
    "# ## using generator expression (think list/dict comprehension) within pd.concat to load files 1 at a time\n",
    "# ## ingesting all columns as str for now\n",
    "# df = pd.concat((pd.read_csv(f, dtype=str) for f in all_file_paths), ignore_index=True)\n",
    "\n",
    "# ## make column names snake-case - usable with itertuples later\n",
    "# df.columns = df.columns.str.replace(\" \", \"_\")"
   ]
  },
  {
   "cell_type": "code",
   "execution_count": null,
   "id": "141a10e4",
   "metadata": {
    "ExecuteTime": {
     "end_time": "2025-07-23T06:49:29.997894Z",
     "start_time": "2025-07-23T06:49:29.990385Z"
    },
    "hidden": true
   },
   "outputs": [],
   "source": [
    "# df[\"date_of_last_review\"].info(memory_usage=\"deep\")"
   ]
  },
  {
   "cell_type": "code",
   "execution_count": null,
   "id": "73f6a6fb",
   "metadata": {
    "ExecuteTime": {
     "end_time": "2025-07-23T06:49:30.014557Z",
     "start_time": "2025-07-23T06:49:30.000217Z"
    },
    "hidden": true
   },
   "outputs": [],
   "source": [
    "# ## change this column to datetime, saves memory\n",
    "# df[\"date_of_last_review\"] = pd.to_datetime(df[\"date_of_last_review\"])\n",
    "# df[\"date_of_last_review\"].info(memory_usage=\"deep\")"
   ]
  },
  {
   "cell_type": "code",
   "execution_count": null,
   "id": "13360ed5",
   "metadata": {
    "ExecuteTime": {
     "end_time": "2025-07-23T06:49:30.019824Z",
     "start_time": "2025-07-23T06:49:30.017029Z"
    },
    "hidden": true
   },
   "outputs": [],
   "source": [
    "# # I couldn't figure out how to import + ingest column as datetime in 1 step \n",
    "# # this is what I tried that didn't work\n",
    "\n",
    "# # worked with pandas 2.0.3, but didn't work with pandas 2.2.3: ingested as str\n",
    "# df = pd.concat((pd.read_csv(f, dtype=str, parse_dates=[\"date of last review\"]) \n",
    "#                 for f in all_file_paths), ignore_index=True)\n",
    "\n",
    "# # doesn't work\n",
    "# df = pd.concat((pd.read_csv(f, dtype=str, parse_dates=[\"date of last review\"], \n",
    "#                            date_format=\"%Y-%m-%d %H:%M:%S%:z\") \n",
    "#                 for f in all_file_paths), ignore_index=True)\n",
    "# # throws an error\n",
    "# df = pd.concat((pd.read_csv(f, dtype=str, parse_dates=[[\"date of last review\"]], \n",
    "#                            date_format=\"%Y-%m-%d %H:%M:%S%:z\") \n",
    "#                 for f in all_file_paths), ignore_index=True)\n",
    "# # throws an error\n",
    "# df = pd.concat((pd.read_csv(f, dtype={\"date of last review\": pd.datetime64[ns, tz]})\n",
    "#                 for f in all_file_paths), ignore_index=True)"
   ]
  },
  {
   "cell_type": "code",
   "execution_count": null,
   "id": "f6e957f0",
   "metadata": {
    "ExecuteTime": {
     "end_time": "2025-07-23T06:49:30.052054Z",
     "start_time": "2025-07-23T06:49:30.021916Z"
    },
    "hidden": true
   },
   "outputs": [],
   "source": [
    "# df.shape\n",
    "# df.head()"
   ]
  },
  {
   "cell_type": "code",
   "execution_count": null,
   "id": "51f96324",
   "metadata": {
    "ExecuteTime": {
     "end_time": "2025-07-23T06:49:30.094654Z",
     "start_time": "2025-07-23T06:49:30.056921Z"
    },
    "hidden": true,
    "scrolled": true
   },
   "outputs": [],
   "source": [
    "# df.info(memory_usage=\"deep\")"
   ]
  },
  {
   "cell_type": "markdown",
   "id": "2a5724a6",
   "metadata": {
    "hidden": true
   },
   "source": [
    "### Check, remove duplicates"
   ]
  },
  {
   "cell_type": "markdown",
   "id": "5a41d004",
   "metadata": {
    "hidden": true
   },
   "source": [
    "There are duplicate rows in this dataframe because the record (gene + disease + more) is in several panels (disease falls into multiple categories). This was explored in the data-playground notebook. \n",
    "\n",
    "We want to drop those duplicates. \n",
    "However, I was concerned that the delimited-string values could differ (only in list order) for the same record in diff files. \n",
    "So that's what this check is for. "
   ]
  },
  {
   "cell_type": "code",
   "execution_count": null,
   "id": "a6531826",
   "metadata": {
    "ExecuteTime": {
     "end_time": "2025-07-23T06:49:30.118155Z",
     "start_time": "2025-07-23T06:49:30.097324Z"
    },
    "hidden": true
   },
   "outputs": [],
   "source": [
    "# ## put into parser (format): DONE\n",
    "\n",
    "# n_duplicates_column_combo = df[df.duplicated(subset=[\"g2p_id\"], keep=False)].shape\n",
    "\n",
    "# n_duplicates_all_columns = df[df.duplicated(keep=False)].shape\n",
    "\n",
    "# ## for testing\n",
    "# # n_duplicates_all_columns = (1, 1)\n",
    "\n",
    "\n",
    "# if n_duplicates_column_combo != n_duplicates_all_columns: \n",
    "#     raise AssertionError(\"The data format has changed, and the assumptions about duplicates/key columns may \" \\\n",
    "#                           \"no longer hold. Re-explore the data and adjust the parser.\")"
   ]
  },
  {
   "cell_type": "code",
   "execution_count": null,
   "id": "1659d217",
   "metadata": {
    "ExecuteTime": {
     "end_time": "2025-07-23T06:49:30.141456Z",
     "start_time": "2025-07-23T06:49:30.121405Z"
    },
    "hidden": true
   },
   "outputs": [],
   "source": [
    "# ## put into parser (format): DONE\n",
    "\n",
    "# ## drop duplicates\n",
    "# df.drop_duplicates(inplace=True, ignore_index=True)"
   ]
  },
  {
   "cell_type": "code",
   "execution_count": null,
   "id": "8b25cb57",
   "metadata": {
    "ExecuteTime": {
     "end_time": "2025-07-23T06:49:30.174364Z",
     "start_time": "2025-07-23T06:49:30.143686Z"
    },
    "hidden": true,
    "scrolled": true
   },
   "outputs": [],
   "source": [
    "# df.info(memory_usage=\"deep\")"
   ]
  },
  {
   "cell_type": "markdown",
   "id": "a797c65d",
   "metadata": {},
   "source": [
    "## Column-level transforms"
   ]
  },
  {
   "cell_type": "markdown",
   "id": "a4feb973",
   "metadata": {},
   "source": [
    "Based on data-playground \"Notes on parsing data to create documents\" section"
   ]
  },
  {
   "cell_type": "markdown",
   "id": "4364dfeb",
   "metadata": {},
   "source": [
    "disease_mim column includes both omim and orphanet IDs right now"
   ]
  },
  {
   "cell_type": "code",
   "execution_count": 10,
   "id": "f337799b",
   "metadata": {
    "ExecuteTime": {
     "end_time": "2025-07-31T22:48:47.833281Z",
     "start_time": "2025-07-31T22:48:47.813924Z"
    }
   },
   "outputs": [
    {
     "data": {
      "text/html": [
       "<div>\n",
       "<style scoped>\n",
       "    .dataframe tbody tr th:only-of-type {\n",
       "        vertical-align: middle;\n",
       "    }\n",
       "\n",
       "    .dataframe tbody tr th {\n",
       "        vertical-align: top;\n",
       "    }\n",
       "\n",
       "    .dataframe thead th {\n",
       "        text-align: right;\n",
       "    }\n",
       "</style>\n",
       "<table border=\"1\" class=\"dataframe\">\n",
       "  <thead>\n",
       "    <tr style=\"text-align: right;\">\n",
       "      <th></th>\n",
       "      <th>g2p_id</th>\n",
       "      <th>gene_symbol</th>\n",
       "      <th>gene_mim</th>\n",
       "      <th>hgnc_id</th>\n",
       "      <th>previous_gene_symbols</th>\n",
       "      <th>disease_name</th>\n",
       "      <th>disease_mim</th>\n",
       "      <th>disease_MONDO</th>\n",
       "      <th>allelic_requirement</th>\n",
       "      <th>cross_cutting_modifier</th>\n",
       "      <th>confidence</th>\n",
       "      <th>variant_consequence</th>\n",
       "      <th>variant_types</th>\n",
       "      <th>molecular_mechanism</th>\n",
       "      <th>molecular_mechanism_support</th>\n",
       "      <th>molecular_mechanism_categorisation</th>\n",
       "      <th>molecular_mechanism_evidence</th>\n",
       "      <th>phenotypes</th>\n",
       "      <th>publications</th>\n",
       "      <th>panel</th>\n",
       "      <th>comments</th>\n",
       "      <th>date_of_last_review</th>\n",
       "      <th>review</th>\n",
       "    </tr>\n",
       "  </thead>\n",
       "  <tbody>\n",
       "    <tr>\n",
       "      <th>1968</th>\n",
       "      <td>G2P02564</td>\n",
       "      <td>TONSL</td>\n",
       "      <td>604546</td>\n",
       "      <td>7801</td>\n",
       "      <td>IKBR; NFKBIL2</td>\n",
       "      <td>TONSL-related sponastrime dysplasia</td>\n",
       "      <td>Orphanet:93357</td>\n",
       "      <td>NaN</td>\n",
       "      <td>biallelic_autosomal</td>\n",
       "      <td>NaN</td>\n",
       "      <td>strong</td>\n",
       "      <td>absent gene product</td>\n",
       "      <td>NaN</td>\n",
       "      <td>loss of function</td>\n",
       "      <td>inferred</td>\n",
       "      <td>NaN</td>\n",
       "      <td>NaN</td>\n",
       "      <td>HP:0002650; HP:0004322; HP:0005281; HP:0100255</td>\n",
       "      <td>30773277; 30773278</td>\n",
       "      <td>DD</td>\n",
       "      <td>NaN</td>\n",
       "      <td>2018-11-07 09:53:40+00:00</td>\n",
       "      <td>NaN</td>\n",
       "    </tr>\n",
       "  </tbody>\n",
       "</table>\n",
       "</div>"
      ],
      "text/plain": [
       "        g2p_id gene_symbol gene_mim hgnc_id previous_gene_symbols  \\\n",
       "1968  G2P02564       TONSL   604546    7801         IKBR; NFKBIL2   \n",
       "\n",
       "                             disease_name     disease_mim disease_MONDO  \\\n",
       "1968  TONSL-related sponastrime dysplasia  Orphanet:93357           NaN   \n",
       "\n",
       "      allelic_requirement cross_cutting_modifier confidence  \\\n",
       "1968  biallelic_autosomal                    NaN     strong   \n",
       "\n",
       "      variant_consequence variant_types molecular_mechanism  \\\n",
       "1968  absent gene product           NaN    loss of function   \n",
       "\n",
       "     molecular_mechanism_support molecular_mechanism_categorisation  \\\n",
       "1968                    inferred                                NaN   \n",
       "\n",
       "     molecular_mechanism_evidence  \\\n",
       "1968                          NaN   \n",
       "\n",
       "                                          phenotypes        publications  \\\n",
       "1968  HP:0002650; HP:0004322; HP:0005281; HP:0100255  30773277; 30773278   \n",
       "\n",
       "     panel comments       date_of_last_review review  \n",
       "1968    DD      NaN 2018-11-07 09:53:40+00:00    NaN  "
      ]
     },
     "execution_count": 10,
     "metadata": {},
     "output_type": "execute_result"
    }
   ],
   "source": [
    "df[df[\"disease_mim\"].str.contains(\"Orphanet:\", na=False)]"
   ]
  },
  {
   "cell_type": "code",
   "execution_count": null,
   "id": "3f9b5222",
   "metadata": {
    "ExecuteTime": {
     "end_time": "2025-07-23T06:49:30.185445Z",
     "start_time": "2025-07-23T06:49:30.176636Z"
    }
   },
   "outputs": [],
   "source": [
    "# ## double-checking how to add prefixes to OMIM vs orphanet IDs\n",
    "\n",
    "# df_diseasemim = df.copy()\n",
    "\n",
    "# ## done to preserve NA\n",
    "# df_diseasemim[\"disease_mim\"] = [i if pd.isna(i) \\\n",
    "#                                 else \"OMIM:\" + i if i.isnumeric() \\\n",
    "#                                 else i \\\n",
    "#                                 for i in df_diseasemim[\"disease_mim\"]]\n",
    "\n",
    "# df_diseasemim[\"disease_mim\"] = df_diseasemim[\"disease_mim\"].str.replace(\"Orphanet\", \"orphanet\")\n",
    "\n",
    "# df_diseasemim[df_diseasemim[\"disease_mim\"].str.contains(\"OMIM:\", na=False)].shape\n",
    "\n",
    "# df_diseasemim[df_diseasemim[\"disease_mim\"].str.contains(\"orphanet:\", na=False)].shape\n",
    "\n",
    "# ## add up row count. If == num non-null in info above, you're good \n",
    "# ## right now 2944 == 2944, so good"
   ]
  },
  {
   "cell_type": "code",
   "execution_count": 12,
   "id": "abb752b8",
   "metadata": {
    "ExecuteTime": {
     "end_time": "2025-07-31T22:53:01.641635Z",
     "start_time": "2025-07-31T22:53:01.617246Z"
    }
   },
   "outputs": [],
   "source": [
    "## put into parser (format): \n",
    "\n",
    "## COLUMN-LEVEL TRANSFORMS\n",
    "\n",
    "## adding Translator/biolink prefixes to IDs\n",
    "df[\"gene_mim\"] = \"OMIM:\" + df[\"gene_mim\"]\n",
    "df[\"hgnc_id\"] = \"HGNC:\" + df[\"hgnc_id\"]\n",
    "df[\"disease_mim\"] = df[\"disease_mim\"].str.replace(\"Orphanet\", \"orphanet\")\n",
    "## done to preserve NA\n",
    "df[\"disease_mim\"] = [i if pd.isna(i)\n",
    "                     else \"OMIM:\" + i if i.isnumeric()\n",
    "                     else i\n",
    "                     for i in df[\"disease_mim\"]]\n",
    "\n",
    "## strip whitespace\n",
    "df[\"disease_name\"] = df[\"disease_name\"].str.strip()\n",
    "df[\"comments\"] = df[\"comments\"].str.strip()\n",
    "\n",
    "## create new columns\n",
    "## UI really wants resource website urls like this. May need to adjust over time as website changes\n",
    "df[\"g2p_record_url\"] = \"https://www.ebi.ac.uk/gene2phenotype/lgd/\" +  df[\"g2p_id\"]\n",
    "\n",
    "## replace panel keywords with full names shown on G2P website for single record\n",
    "df[\"panel\"] = df[\"panel\"].str.replace(\"Cancer\", \"Cancer disorders\")\n",
    "df[\"panel\"] = df[\"panel\"].str.replace(\"Cardiac\", \"Cardiac disorders\")\n",
    "df[\"panel\"] = df[\"panel\"].str.replace(\"DD\", \"Developmental disorders\")\n",
    "df[\"panel\"] = df[\"panel\"].str.replace(\"Ear\", \"Ear disorders\")\n",
    "df[\"panel\"] = df[\"panel\"].str.replace(\"Eye\", \"Eye disorders\")\n",
    "df[\"panel\"] = df[\"panel\"].str.replace(\"Skeletal\", \"Skeletal disorders\")\n",
    "df[\"panel\"] = df[\"panel\"].str.replace(\"Skin\", \"Skin disorders\")"
   ]
  },
  {
   "cell_type": "code",
   "execution_count": 15,
   "id": "b05f644d",
   "metadata": {
    "ExecuteTime": {
     "end_time": "2025-07-31T22:55:26.262203Z",
     "start_time": "2025-07-31T22:55:26.226549Z"
    },
    "scrolled": true
   },
   "outputs": [
    {
     "data": {
      "text/html": [
       "<div>\n",
       "<style scoped>\n",
       "    .dataframe tbody tr th:only-of-type {\n",
       "        vertical-align: middle;\n",
       "    }\n",
       "\n",
       "    .dataframe tbody tr th {\n",
       "        vertical-align: top;\n",
       "    }\n",
       "\n",
       "    .dataframe thead th {\n",
       "        text-align: right;\n",
       "    }\n",
       "</style>\n",
       "<table border=\"1\" class=\"dataframe\">\n",
       "  <thead>\n",
       "    <tr style=\"text-align: right;\">\n",
       "      <th></th>\n",
       "      <th>g2p_id</th>\n",
       "      <th>gene_symbol</th>\n",
       "      <th>gene_mim</th>\n",
       "      <th>hgnc_id</th>\n",
       "      <th>previous_gene_symbols</th>\n",
       "      <th>disease_name</th>\n",
       "      <th>disease_mim</th>\n",
       "      <th>disease_MONDO</th>\n",
       "      <th>allelic_requirement</th>\n",
       "      <th>cross_cutting_modifier</th>\n",
       "      <th>confidence</th>\n",
       "      <th>variant_consequence</th>\n",
       "      <th>variant_types</th>\n",
       "      <th>molecular_mechanism</th>\n",
       "      <th>molecular_mechanism_support</th>\n",
       "      <th>molecular_mechanism_categorisation</th>\n",
       "      <th>molecular_mechanism_evidence</th>\n",
       "      <th>phenotypes</th>\n",
       "      <th>publications</th>\n",
       "      <th>panel</th>\n",
       "      <th>comments</th>\n",
       "      <th>date_of_last_review</th>\n",
       "      <th>review</th>\n",
       "      <th>g2p_record_url</th>\n",
       "    </tr>\n",
       "  </thead>\n",
       "  <tbody>\n",
       "    <tr>\n",
       "      <th>0</th>\n",
       "      <td>G2P00001</td>\n",
       "      <td>HMX1</td>\n",
       "      <td>OMIM:142992</td>\n",
       "      <td>HGNC:5017</td>\n",
       "      <td>H6; NKX5-3</td>\n",
       "      <td>HMX1-related oculoauricular syndrome</td>\n",
       "      <td>OMIM:612109</td>\n",
       "      <td>MONDO:0012802</td>\n",
       "      <td>biallelic_autosomal</td>\n",
       "      <td>NaN</td>\n",
       "      <td>definitive</td>\n",
       "      <td>absent gene product</td>\n",
       "      <td>NaN</td>\n",
       "      <td>loss of function</td>\n",
       "      <td>inferred</td>\n",
       "      <td>NaN</td>\n",
       "      <td>NaN</td>\n",
       "      <td>HP:0000007; HP:0000482; HP:0000505; HP:0000518...</td>\n",
       "      <td>18423520; 25574057; 29140751</td>\n",
       "      <td>Developmental disorders; Eye disorders</td>\n",
       "      <td>NaN</td>\n",
       "      <td>2019-09-26 16:23:46+00:00</td>\n",
       "      <td>NaN</td>\n",
       "      <td>https://www.ebi.ac.uk/gene2phenotype/lgd/G2P00001</td>\n",
       "    </tr>\n",
       "    <tr>\n",
       "      <th>1</th>\n",
       "      <td>G2P00002</td>\n",
       "      <td>SLX4</td>\n",
       "      <td>OMIM:613278</td>\n",
       "      <td>HGNC:23845</td>\n",
       "      <td>BTBD12; FANCP; KIAA1784; KIAA1987</td>\n",
       "      <td>SLX4-related Fanconi anemia</td>\n",
       "      <td>OMIM:613951</td>\n",
       "      <td>MONDO:0013499</td>\n",
       "      <td>biallelic_autosomal</td>\n",
       "      <td>NaN</td>\n",
       "      <td>definitive</td>\n",
       "      <td>absent gene product</td>\n",
       "      <td>NaN</td>\n",
       "      <td>loss of function</td>\n",
       "      <td>inferred</td>\n",
       "      <td>NaN</td>\n",
       "      <td>NaN</td>\n",
       "      <td>HP:0000007; HP:0000028; HP:0000085; HP:0000125...</td>\n",
       "      <td>21240275; 21240277</td>\n",
       "      <td>Developmental disorders</td>\n",
       "      <td>NaN</td>\n",
       "      <td>2025-01-28 23:09:54+00:00</td>\n",
       "      <td>NaN</td>\n",
       "      <td>https://www.ebi.ac.uk/gene2phenotype/lgd/G2P00002</td>\n",
       "    </tr>\n",
       "    <tr>\n",
       "      <th>2</th>\n",
       "      <td>G2P00003</td>\n",
       "      <td>ARG1</td>\n",
       "      <td>OMIM:608313</td>\n",
       "      <td>HGNC:663</td>\n",
       "      <td>NaN</td>\n",
       "      <td>ARG1-related argininemia</td>\n",
       "      <td>OMIM:207800</td>\n",
       "      <td>MONDO:0008814</td>\n",
       "      <td>biallelic_autosomal</td>\n",
       "      <td>NaN</td>\n",
       "      <td>definitive</td>\n",
       "      <td>absent gene product</td>\n",
       "      <td>NaN</td>\n",
       "      <td>loss of function</td>\n",
       "      <td>inferred</td>\n",
       "      <td>NaN</td>\n",
       "      <td>NaN</td>\n",
       "      <td>HP:0000007; HP:0000737; HP:0000752; HP:0001249...</td>\n",
       "      <td>10502833; 1463019; 1598908; 2365823; 7649538</td>\n",
       "      <td>Developmental disorders</td>\n",
       "      <td>NaN</td>\n",
       "      <td>2015-07-22 16:14:07+00:00</td>\n",
       "      <td>NaN</td>\n",
       "      <td>https://www.ebi.ac.uk/gene2phenotype/lgd/G2P00003</td>\n",
       "    </tr>\n",
       "    <tr>\n",
       "      <th>3</th>\n",
       "      <td>G2P00004</td>\n",
       "      <td>ATR</td>\n",
       "      <td>OMIM:601215</td>\n",
       "      <td>HGNC:882</td>\n",
       "      <td>FRP1; MEC1; SCKL; SCKL1</td>\n",
       "      <td>ATR-related Seckel syndrome</td>\n",
       "      <td>OMIM:210600</td>\n",
       "      <td>MONDO:0008869</td>\n",
       "      <td>biallelic_autosomal</td>\n",
       "      <td>NaN</td>\n",
       "      <td>strong</td>\n",
       "      <td>absent gene product</td>\n",
       "      <td>NaN</td>\n",
       "      <td>loss of function</td>\n",
       "      <td>inferred</td>\n",
       "      <td>NaN</td>\n",
       "      <td>NaN</td>\n",
       "      <td>HP:0000007; HP:0000028; HP:0000047; HP:0000057...</td>\n",
       "      <td>NaN</td>\n",
       "      <td>Developmental disorders; Skeletal disorders</td>\n",
       "      <td>NaN</td>\n",
       "      <td>2025-01-27 14:24:27+00:00</td>\n",
       "      <td>NaN</td>\n",
       "      <td>https://www.ebi.ac.uk/gene2phenotype/lgd/G2P00004</td>\n",
       "    </tr>\n",
       "    <tr>\n",
       "      <th>4</th>\n",
       "      <td>G2P00005</td>\n",
       "      <td>FANCB</td>\n",
       "      <td>OMIM:300515</td>\n",
       "      <td>HGNC:3583</td>\n",
       "      <td>FAAP95; FAB; FLJ34064</td>\n",
       "      <td>FANCB-related Fanconi anemia</td>\n",
       "      <td>OMIM:300514</td>\n",
       "      <td>MONDO:0010351</td>\n",
       "      <td>monoallelic_X_hemizygous</td>\n",
       "      <td>NaN</td>\n",
       "      <td>definitive</td>\n",
       "      <td>absent gene product</td>\n",
       "      <td>NaN</td>\n",
       "      <td>loss of function</td>\n",
       "      <td>inferred</td>\n",
       "      <td>NaN</td>\n",
       "      <td>NaN</td>\n",
       "      <td>HP:0000083; HP:0000100; HP:0000119; HP:0000707...</td>\n",
       "      <td>15502827; 16679491; 21910217; 22052692; 236135...</td>\n",
       "      <td>Developmental disorders; Skin disorders</td>\n",
       "      <td>NaN</td>\n",
       "      <td>2024-08-20 14:13:58+00:00</td>\n",
       "      <td>NaN</td>\n",
       "      <td>https://www.ebi.ac.uk/gene2phenotype/lgd/G2P00005</td>\n",
       "    </tr>\n",
       "  </tbody>\n",
       "</table>\n",
       "</div>"
      ],
      "text/plain": [
       "     g2p_id gene_symbol     gene_mim     hgnc_id  \\\n",
       "0  G2P00001        HMX1  OMIM:142992   HGNC:5017   \n",
       "1  G2P00002        SLX4  OMIM:613278  HGNC:23845   \n",
       "2  G2P00003        ARG1  OMIM:608313    HGNC:663   \n",
       "3  G2P00004         ATR  OMIM:601215    HGNC:882   \n",
       "4  G2P00005       FANCB  OMIM:300515   HGNC:3583   \n",
       "\n",
       "               previous_gene_symbols                          disease_name  \\\n",
       "0                         H6; NKX5-3  HMX1-related oculoauricular syndrome   \n",
       "1  BTBD12; FANCP; KIAA1784; KIAA1987           SLX4-related Fanconi anemia   \n",
       "2                                NaN              ARG1-related argininemia   \n",
       "3            FRP1; MEC1; SCKL; SCKL1           ATR-related Seckel syndrome   \n",
       "4              FAAP95; FAB; FLJ34064          FANCB-related Fanconi anemia   \n",
       "\n",
       "   disease_mim  disease_MONDO       allelic_requirement  \\\n",
       "0  OMIM:612109  MONDO:0012802       biallelic_autosomal   \n",
       "1  OMIM:613951  MONDO:0013499       biallelic_autosomal   \n",
       "2  OMIM:207800  MONDO:0008814       biallelic_autosomal   \n",
       "3  OMIM:210600  MONDO:0008869       biallelic_autosomal   \n",
       "4  OMIM:300514  MONDO:0010351  monoallelic_X_hemizygous   \n",
       "\n",
       "  cross_cutting_modifier  confidence  variant_consequence variant_types  \\\n",
       "0                    NaN  definitive  absent gene product           NaN   \n",
       "1                    NaN  definitive  absent gene product           NaN   \n",
       "2                    NaN  definitive  absent gene product           NaN   \n",
       "3                    NaN      strong  absent gene product           NaN   \n",
       "4                    NaN  definitive  absent gene product           NaN   \n",
       "\n",
       "  molecular_mechanism molecular_mechanism_support  \\\n",
       "0    loss of function                    inferred   \n",
       "1    loss of function                    inferred   \n",
       "2    loss of function                    inferred   \n",
       "3    loss of function                    inferred   \n",
       "4    loss of function                    inferred   \n",
       "\n",
       "  molecular_mechanism_categorisation molecular_mechanism_evidence  \\\n",
       "0                                NaN                          NaN   \n",
       "1                                NaN                          NaN   \n",
       "2                                NaN                          NaN   \n",
       "3                                NaN                          NaN   \n",
       "4                                NaN                          NaN   \n",
       "\n",
       "                                          phenotypes  \\\n",
       "0  HP:0000007; HP:0000482; HP:0000505; HP:0000518...   \n",
       "1  HP:0000007; HP:0000028; HP:0000085; HP:0000125...   \n",
       "2  HP:0000007; HP:0000737; HP:0000752; HP:0001249...   \n",
       "3  HP:0000007; HP:0000028; HP:0000047; HP:0000057...   \n",
       "4  HP:0000083; HP:0000100; HP:0000119; HP:0000707...   \n",
       "\n",
       "                                        publications  \\\n",
       "0                       18423520; 25574057; 29140751   \n",
       "1                                 21240275; 21240277   \n",
       "2       10502833; 1463019; 1598908; 2365823; 7649538   \n",
       "3                                                NaN   \n",
       "4  15502827; 16679491; 21910217; 22052692; 236135...   \n",
       "\n",
       "                                         panel comments  \\\n",
       "0       Developmental disorders; Eye disorders      NaN   \n",
       "1                      Developmental disorders      NaN   \n",
       "2                      Developmental disorders      NaN   \n",
       "3  Developmental disorders; Skeletal disorders      NaN   \n",
       "4      Developmental disorders; Skin disorders      NaN   \n",
       "\n",
       "        date_of_last_review review  \\\n",
       "0 2019-09-26 16:23:46+00:00    NaN   \n",
       "1 2025-01-28 23:09:54+00:00    NaN   \n",
       "2 2015-07-22 16:14:07+00:00    NaN   \n",
       "3 2025-01-27 14:24:27+00:00    NaN   \n",
       "4 2024-08-20 14:13:58+00:00    NaN   \n",
       "\n",
       "                                      g2p_record_url  \n",
       "0  https://www.ebi.ac.uk/gene2phenotype/lgd/G2P00001  \n",
       "1  https://www.ebi.ac.uk/gene2phenotype/lgd/G2P00002  \n",
       "2  https://www.ebi.ac.uk/gene2phenotype/lgd/G2P00003  \n",
       "3  https://www.ebi.ac.uk/gene2phenotype/lgd/G2P00004  \n",
       "4  https://www.ebi.ac.uk/gene2phenotype/lgd/G2P00005  "
      ]
     },
     "execution_count": 15,
     "metadata": {},
     "output_type": "execute_result"
    },
    {
     "data": {
      "text/html": [
       "<div>\n",
       "<style scoped>\n",
       "    .dataframe tbody tr th:only-of-type {\n",
       "        vertical-align: middle;\n",
       "    }\n",
       "\n",
       "    .dataframe tbody tr th {\n",
       "        vertical-align: top;\n",
       "    }\n",
       "\n",
       "    .dataframe thead th {\n",
       "        text-align: right;\n",
       "    }\n",
       "</style>\n",
       "<table border=\"1\" class=\"dataframe\">\n",
       "  <thead>\n",
       "    <tr style=\"text-align: right;\">\n",
       "      <th></th>\n",
       "      <th>g2p_id</th>\n",
       "      <th>gene_symbol</th>\n",
       "      <th>gene_mim</th>\n",
       "      <th>hgnc_id</th>\n",
       "      <th>previous_gene_symbols</th>\n",
       "      <th>disease_name</th>\n",
       "      <th>disease_mim</th>\n",
       "      <th>disease_MONDO</th>\n",
       "      <th>allelic_requirement</th>\n",
       "      <th>cross_cutting_modifier</th>\n",
       "      <th>confidence</th>\n",
       "      <th>variant_consequence</th>\n",
       "      <th>variant_types</th>\n",
       "      <th>molecular_mechanism</th>\n",
       "      <th>molecular_mechanism_support</th>\n",
       "      <th>molecular_mechanism_categorisation</th>\n",
       "      <th>molecular_mechanism_evidence</th>\n",
       "      <th>phenotypes</th>\n",
       "      <th>publications</th>\n",
       "      <th>panel</th>\n",
       "      <th>comments</th>\n",
       "      <th>date_of_last_review</th>\n",
       "      <th>review</th>\n",
       "      <th>g2p_record_url</th>\n",
       "    </tr>\n",
       "  </thead>\n",
       "  <tbody>\n",
       "    <tr>\n",
       "      <th>1968</th>\n",
       "      <td>G2P02564</td>\n",
       "      <td>TONSL</td>\n",
       "      <td>OMIM:604546</td>\n",
       "      <td>HGNC:7801</td>\n",
       "      <td>IKBR; NFKBIL2</td>\n",
       "      <td>TONSL-related sponastrime dysplasia</td>\n",
       "      <td>orphanet:93357</td>\n",
       "      <td>NaN</td>\n",
       "      <td>biallelic_autosomal</td>\n",
       "      <td>NaN</td>\n",
       "      <td>strong</td>\n",
       "      <td>absent gene product</td>\n",
       "      <td>NaN</td>\n",
       "      <td>loss of function</td>\n",
       "      <td>inferred</td>\n",
       "      <td>NaN</td>\n",
       "      <td>NaN</td>\n",
       "      <td>HP:0002650; HP:0004322; HP:0005281; HP:0100255</td>\n",
       "      <td>30773277; 30773278</td>\n",
       "      <td>Developmental disorders</td>\n",
       "      <td>NaN</td>\n",
       "      <td>2018-11-07 09:53:40+00:00</td>\n",
       "      <td>NaN</td>\n",
       "      <td>https://www.ebi.ac.uk/gene2phenotype/lgd/G2P02564</td>\n",
       "    </tr>\n",
       "  </tbody>\n",
       "</table>\n",
       "</div>"
      ],
      "text/plain": [
       "        g2p_id gene_symbol     gene_mim    hgnc_id previous_gene_symbols  \\\n",
       "1968  G2P02564       TONSL  OMIM:604546  HGNC:7801         IKBR; NFKBIL2   \n",
       "\n",
       "                             disease_name     disease_mim disease_MONDO  \\\n",
       "1968  TONSL-related sponastrime dysplasia  orphanet:93357           NaN   \n",
       "\n",
       "      allelic_requirement cross_cutting_modifier confidence  \\\n",
       "1968  biallelic_autosomal                    NaN     strong   \n",
       "\n",
       "      variant_consequence variant_types molecular_mechanism  \\\n",
       "1968  absent gene product           NaN    loss of function   \n",
       "\n",
       "     molecular_mechanism_support molecular_mechanism_categorisation  \\\n",
       "1968                    inferred                                NaN   \n",
       "\n",
       "     molecular_mechanism_evidence  \\\n",
       "1968                          NaN   \n",
       "\n",
       "                                          phenotypes        publications  \\\n",
       "1968  HP:0002650; HP:0004322; HP:0005281; HP:0100255  30773277; 30773278   \n",
       "\n",
       "                        panel comments       date_of_last_review review  \\\n",
       "1968  Developmental disorders      NaN 2018-11-07 09:53:40+00:00    NaN   \n",
       "\n",
       "                                         g2p_record_url  \n",
       "1968  https://www.ebi.ac.uk/gene2phenotype/lgd/G2P02564  "
      ]
     },
     "execution_count": 15,
     "metadata": {},
     "output_type": "execute_result"
    }
   ],
   "source": [
    "## checking on column-level transforms\n",
    "\n",
    "df.head()\n",
    "# df[\"g2p record url\"].unique()[0:100]\n",
    "\n",
    "df[df[\"disease_mim\"].str.contains(\"orphanet\", na=False)]\n",
    "# df[df[\"panel\"].str.contains(\"Ear\", na=False)]"
   ]
  },
  {
   "cell_type": "markdown",
   "id": "6bc6242a",
   "metadata": {},
   "source": [
    "## Confidence values"
   ]
  },
  {
   "cell_type": "markdown",
   "id": "0d4e07e0",
   "metadata": {},
   "source": [
    "**2025-07-22:**\n",
    "\n",
    "Every row/record has 1 confidence value, representing how confident the curators are that \"this gene has a causal role in this disease\". The definitions of the possible values are provided [here](https://www.ebi.ac.uk/gene2phenotype/about/terminology#g2p-confidence-section). \n",
    "\n",
    "\n",
    "**CURRENT DEFINITIONS** (including in case they change later)\n",
    "\n",
    "> **definitive**: The role of this gene in this particular disease has been repeatedly demonstrated in both the research and clinical diagnostic settings, and has been upheld over time (at least 2 independent publication over 3 years' time). No convincing evidence has emerged that contradicts the role of the gene in the specified disease. (previously labelled as confirmed) The strength of evidence within publications as well as their number and publication dates is taken into account. In practice, this usually means at least 4 publications over 5 years. Typically this will also include convincing bioinformatic or functional evidence of causation, making it very unlikely that this gene-disease association would ever be refuted.\n",
    ">\n",
    ">**strong**: The role of this gene as a monogenic cause of disease has been repeatedly and independently demonstrated providing very strong convincing evidence in humans and no conflicting evidence for this gene's role in this disease. (previously labelled as probable).\n",
    ">\n",
    ">**moderate**: There is moderate evidence in humans to support a casual role for this gene in this disease with no contradictory evidence. The body of evidence is not large (e.g possibly only one key paper) but appears convincing enough that the gene-disease pair is likely to be validated with additional evidence in the near future.\n",
    ">\n",
    ">**limited**: Little human evidence exists to support a casual role for this gene in this disease, but not all evidence has been refuted. For example, there may be a collection of rare missense variants in humans but without convincing functional impact, segregration data that could either arise by chance (e.g across one or two meioses) or does not implicate a single gene, or functional data without direct recapitulation of the phenotype. Overall, the body of evidence does not meet contemporary criteria for claiming a valid association with disease. The majority are probably false associations. (previously labelled as possible).\n",
    ">\n",
    ">**disputed**: Although evidence has been reported, other evidence of equal weight disputes the claim.\n",
    ">\n",
    ">**refuted**: There has been an assertion of a gene-disease association in the literature, but new valid evidence has arisen that refutes the entire original body of evidence."
   ]
  },
  {
   "cell_type": "markdown",
   "id": "d5b0d7ad",
   "metadata": {},
   "source": [
    "<div class=\"alert alert-block alert-success\">\n",
    "\n",
    "**2025-07-22:**\n",
    "\n",
    "After input from Sierra and Matt:\n",
    "1. **FOR NOW**, rows with **\"refuted\"** or **\"disputed\"** values **should not be used** to create edges for Translator. These mean there's strong evidence that there ISN'T an association (negation). **This decision can be revisited** once Translator can model/handle negation better. \n",
    "2. rows with **\"limited\"** value **should not be used** to create edges for Translator. Sierra and Matt pointed out the last sentence of the definition: \"The majority are probably false associations. (previously labelled as possible).\" The reasoning is that these may not be \"real\" associations. \n",
    "3. keep rows with **\"moderate\", \"strong\", \"definitive\"** values, because there's moderate-definitive evidence that a gene DOES HAVE a causal role in this disease. \n",
    "\n",
    "Other **data-modeling decision**: **FOR NOW**, using `subject_form_or_variant_qualifier` (for Gene). Values are `genetic_variant_form` or a descendant, based on the allelic_requirement values. The allelic requirement [terms](https://www.ebi.ac.uk/gene2phenotype/about/terminology#allelic-requirement-section) describe the genotype (of gene variants) linked to the disease. "
   ]
  },
  {
   "cell_type": "markdown",
   "id": "bc0837c1",
   "metadata": {},
   "source": [
    "<div class=\"alert alert-block alert-danger\">\n",
    "\n",
    "Data-modeling notes: options for gene-disease associations are confusing \n",
    "* \"causes / contributes to\" makes more sense when qualifiers on the gene/protein are used. \n",
    "* what's the diff between \"associated with\" and \"genetically associated with\"? \n",
    "* \"gene associated with condition\" is child of \"genetically associated with\", but seems to be more general - basically a \"related to\". Also would look weird in UI, right? "
   ]
  },
  {
   "cell_type": "code",
   "execution_count": 16,
   "id": "bc8729d7",
   "metadata": {
    "ExecuteTime": {
     "end_time": "2025-07-31T22:56:32.927754Z",
     "start_time": "2025-07-31T22:56:32.921279Z"
    }
   },
   "outputs": [
    {
     "data": {
      "text/plain": [
       "confidence\n",
       "definitive    2067\n",
       "strong         860\n",
       "limited        525\n",
       "moderate       265\n",
       "refuted          1\n",
       "Name: count, dtype: int64"
      ]
     },
     "execution_count": 16,
     "metadata": {},
     "output_type": "execute_result"
    }
   ],
   "source": [
    "df[\"confidence\"].value_counts()"
   ]
  },
  {
   "cell_type": "markdown",
   "id": "3226e564",
   "metadata": {},
   "source": [
    "### Removing rows + stats"
   ]
  },
  {
   "cell_type": "code",
   "execution_count": 17,
   "id": "fff9d0b0",
   "metadata": {
    "ExecuteTime": {
     "end_time": "2025-07-31T22:56:51.997457Z",
     "start_time": "2025-07-31T22:56:51.990711Z"
    }
   },
   "outputs": [],
   "source": [
    "## put into parser (format): \n",
    "\n",
    "## calculate stats before removing\n",
    "\n",
    "n_rows_original = df.shape[0]\n",
    "n_rows_refuted = df[df[\"confidence\"] == \"refuted\"].shape[0]\n",
    "n_rows_disputed = df[df[\"confidence\"] == \"disputed\"].shape[0]\n",
    "n_rows_limited = df[df[\"confidence\"] == \"limited\"].shape[0]"
   ]
  },
  {
   "cell_type": "code",
   "execution_count": 18,
   "id": "342634bc",
   "metadata": {
    "ExecuteTime": {
     "end_time": "2025-07-31T22:56:52.593350Z",
     "start_time": "2025-07-31T22:56:52.584776Z"
    }
   },
   "outputs": [],
   "source": [
    "## put into parser (format): \n",
    "\n",
    "## remove rows, calculate stats after\n",
    "\n",
    "df = df[~ df[\"confidence\"].isin([\"refuted\", \"disputed\", \"limited\"])].reset_index(drop=True)\n",
    "n_rows_after_confidence = df.shape[0]"
   ]
  },
  {
   "cell_type": "code",
   "execution_count": 19,
   "id": "95ee0237",
   "metadata": {
    "ExecuteTime": {
     "end_time": "2025-07-31T22:56:53.138680Z",
     "start_time": "2025-07-31T22:56:53.134769Z"
    }
   },
   "outputs": [
    {
     "name": "stdout",
     "output_type": "stream",
     "text": [
      "3718 unique rows/records in original dataset\n",
      "\n",
      "Removing rows based on confidence:\n",
      "1: 'refuted'\n",
      "0: 'disputed'\n",
      "525: 'limited'\n",
      "\n",
      "3192 rows afterwards\n"
     ]
    }
   ],
   "source": [
    "## put into parser (format): \n",
    "\n",
    "## Print stats\n",
    "\n",
    "print(f\"{n_rows_original} unique rows/records in original dataset\\n\")\n",
    "\n",
    "print(f\"Removing rows based on confidence:\")\n",
    "print(f\"{n_rows_refuted}: 'refuted'\")\n",
    "print(f\"{n_rows_disputed}: 'disputed'\")\n",
    "print(f\"{n_rows_limited}: 'limited'\\n\")\n",
    "\n",
    "\n",
    "print(f\"{n_rows_after_confidence} rows afterwards\")"
   ]
  },
  {
   "cell_type": "markdown",
   "id": "0ff20129",
   "metadata": {},
   "source": [
    "## Pre-NodeNorming"
   ]
  },
  {
   "cell_type": "markdown",
   "id": "377992a6",
   "metadata": {},
   "source": [
    "Querying NodeNorm: send unique values (no duplicates!) from entire column in large batches -> generate mapping dict to use. \n",
    "<br>\n",
    "__Not querying 1-by-1 or 1 row at a time: much slower__ and would involve sending duplicate IDs (unless saved dict is kept outside loop and checked) \n",
    "\n",
    "Not going to use NameResolver: not optimistic this would work anyways. My manual process of getting \"better\" disease IDs is to use the gene IDs, find the diseases they're linked to in OMIM and Monarch, and seeing if those match the data's disease name / phenotypes / publications. This is more complicated than just using NameResolver."
   ]
  },
  {
   "cell_type": "markdown",
   "id": "1266243a",
   "metadata": {},
   "source": [
    "<div class=\"alert alert-block alert-danger\">\n",
    "\n",
    "Set the NodeNorm URL you want to use. "
   ]
  },
  {
   "cell_type": "code",
   "execution_count": 20,
   "id": "ec7095c7",
   "metadata": {
    "ExecuteTime": {
     "end_time": "2025-07-31T22:57:29.284684Z",
     "start_time": "2025-07-31T22:57:29.112277Z"
    }
   },
   "outputs": [],
   "source": [
    "## put into parser (format): DONE\n",
    "\n",
    "import requests\n",
    "\n",
    "## from BioThings annotator code: for interoperability between diff Python versions\n",
    "# try:\n",
    "#     from itertools import batched  # new in Python 3.12\n",
    "# except ImportError:\n",
    "#     from itertools import islice\n",
    "\n",
    "#     def batched(iterable, n):\n",
    "#         # batched('ABCDEFG', 3) → ABC DEF G\n",
    "#         if n < 1:\n",
    "#             raise ValueError(\"n must be at least one\")\n",
    "#         iterator = iter(iterable)\n",
    "#         while batch := tuple(islice(iterator, n)):\n",
    "#             yield batch\n",
    "\n",
    "## doing to test that this works\n",
    "from itertools import islice\n",
    "\n",
    "def batched(iterable, n):\n",
    "    # batched('ABCDEFG', 3) → ABC DEF G\n",
    "    if n < 1:\n",
    "        raise ValueError(\"n must be at least one\")\n",
    "    iterator = iter(iterable)\n",
    "    while batch := tuple(islice(iterator, n)):\n",
    "        yield batch\n",
    "\n",
    "nodenorm_url = \"https://nodenorm.ci.transltr.io/get_normalized_nodes\""
   ]
  },
  {
   "cell_type": "markdown",
   "id": "fd327545",
   "metadata": {},
   "source": [
    "### Exploring: Genes"
   ]
  },
  {
   "cell_type": "markdown",
   "id": "95105b25",
   "metadata": {},
   "source": [
    "**2025-07-31 data:** Every row has at least 1 gene ID (HGNC column has no missing values). So no rows will be removed because there's no gene IDs to use for the pre-NodeNorming. "
   ]
  },
  {
   "cell_type": "code",
   "execution_count": 21,
   "id": "c9c7d169",
   "metadata": {
    "ExecuteTime": {
     "end_time": "2025-07-31T22:57:39.203910Z",
     "start_time": "2025-07-31T22:57:39.194338Z"
    }
   },
   "outputs": [
    {
     "name": "stdout",
     "output_type": "stream",
     "text": [
      "<class 'pandas.core.frame.DataFrame'>\n",
      "RangeIndex: 3192 entries, 0 to 3191\n",
      "Data columns (total 3 columns):\n",
      " #   Column       Non-Null Count  Dtype \n",
      "---  ------       --------------  ----- \n",
      " 0   gene_symbol  3192 non-null   object\n",
      " 1   hgnc_id      3192 non-null   object\n",
      " 2   gene_mim     3191 non-null   object\n",
      "dtypes: object(3)\n",
      "memory usage: 74.9+ KB\n"
     ]
    }
   ],
   "source": [
    "df[[\"gene_symbol\", \"hgnc_id\", \"gene_mim\"]].info()"
   ]
  },
  {
   "cell_type": "code",
   "execution_count": 22,
   "id": "fd6ea459",
   "metadata": {
    "ExecuteTime": {
     "end_time": "2025-07-31T22:57:43.964398Z",
     "start_time": "2025-07-31T22:57:43.946776Z"
    }
   },
   "outputs": [
    {
     "data": {
      "text/html": [
       "<div>\n",
       "<style scoped>\n",
       "    .dataframe tbody tr th:only-of-type {\n",
       "        vertical-align: middle;\n",
       "    }\n",
       "\n",
       "    .dataframe tbody tr th {\n",
       "        vertical-align: top;\n",
       "    }\n",
       "\n",
       "    .dataframe thead th {\n",
       "        text-align: right;\n",
       "    }\n",
       "</style>\n",
       "<table border=\"1\" class=\"dataframe\">\n",
       "  <thead>\n",
       "    <tr style=\"text-align: right;\">\n",
       "      <th></th>\n",
       "      <th>g2p_id</th>\n",
       "      <th>gene_symbol</th>\n",
       "      <th>gene_mim</th>\n",
       "      <th>hgnc_id</th>\n",
       "      <th>previous_gene_symbols</th>\n",
       "      <th>disease_name</th>\n",
       "      <th>disease_mim</th>\n",
       "      <th>disease_MONDO</th>\n",
       "      <th>allelic_requirement</th>\n",
       "      <th>cross_cutting_modifier</th>\n",
       "      <th>confidence</th>\n",
       "      <th>variant_consequence</th>\n",
       "      <th>variant_types</th>\n",
       "      <th>molecular_mechanism</th>\n",
       "      <th>molecular_mechanism_support</th>\n",
       "      <th>molecular_mechanism_categorisation</th>\n",
       "      <th>molecular_mechanism_evidence</th>\n",
       "      <th>phenotypes</th>\n",
       "      <th>publications</th>\n",
       "      <th>panel</th>\n",
       "      <th>comments</th>\n",
       "      <th>date_of_last_review</th>\n",
       "      <th>review</th>\n",
       "      <th>g2p_record_url</th>\n",
       "    </tr>\n",
       "  </thead>\n",
       "  <tbody>\n",
       "    <tr>\n",
       "      <th>2410</th>\n",
       "      <td>G2P03745</td>\n",
       "      <td>RNU2-2P</td>\n",
       "      <td>NaN</td>\n",
       "      <td>HGNC:10152</td>\n",
       "      <td>NaN</td>\n",
       "      <td>RNU2-2P-related neurodevelopmental disorder wi...</td>\n",
       "      <td>NaN</td>\n",
       "      <td>NaN</td>\n",
       "      <td>monoallelic_autosomal</td>\n",
       "      <td>NaN</td>\n",
       "      <td>strong</td>\n",
       "      <td>altered gene product structure</td>\n",
       "      <td>non_coding_transcript_variant</td>\n",
       "      <td>undetermined</td>\n",
       "      <td>inferred</td>\n",
       "      <td>NaN</td>\n",
       "      <td>NaN</td>\n",
       "      <td>NaN</td>\n",
       "      <td>40210679; 40442284</td>\n",
       "      <td>Developmental disorders</td>\n",
       "      <td>Gene now called RNU2-2. Recurrent variants: n....</td>\n",
       "      <td>2025-06-04 09:34:09+00:00</td>\n",
       "      <td>NaN</td>\n",
       "      <td>https://www.ebi.ac.uk/gene2phenotype/lgd/G2P03745</td>\n",
       "    </tr>\n",
       "  </tbody>\n",
       "</table>\n",
       "</div>"
      ],
      "text/plain": [
       "        g2p_id gene_symbol gene_mim     hgnc_id previous_gene_symbols  \\\n",
       "2410  G2P03745     RNU2-2P      NaN  HGNC:10152                   NaN   \n",
       "\n",
       "                                           disease_name disease_mim  \\\n",
       "2410  RNU2-2P-related neurodevelopmental disorder wi...         NaN   \n",
       "\n",
       "     disease_MONDO    allelic_requirement cross_cutting_modifier confidence  \\\n",
       "2410           NaN  monoallelic_autosomal                    NaN     strong   \n",
       "\n",
       "                 variant_consequence                  variant_types  \\\n",
       "2410  altered gene product structure  non_coding_transcript_variant   \n",
       "\n",
       "     molecular_mechanism molecular_mechanism_support  \\\n",
       "2410        undetermined                    inferred   \n",
       "\n",
       "     molecular_mechanism_categorisation molecular_mechanism_evidence  \\\n",
       "2410                                NaN                          NaN   \n",
       "\n",
       "     phenotypes        publications                    panel  \\\n",
       "2410        NaN  40210679; 40442284  Developmental disorders   \n",
       "\n",
       "                                               comments  \\\n",
       "2410  Gene now called RNU2-2. Recurrent variants: n....   \n",
       "\n",
       "           date_of_last_review review  \\\n",
       "2410 2025-06-04 09:34:09+00:00    NaN   \n",
       "\n",
       "                                         g2p_record_url  \n",
       "2410  https://www.ebi.ac.uk/gene2phenotype/lgd/G2P03745  "
      ]
     },
     "execution_count": 22,
     "metadata": {},
     "output_type": "execute_result"
    }
   ],
   "source": [
    "df[df[\"gene_mim\"].isna()]"
   ]
  },
  {
   "cell_type": "code",
   "execution_count": 23,
   "id": "9b72d9da",
   "metadata": {
    "ExecuteTime": {
     "end_time": "2025-07-31T22:58:39.127567Z",
     "start_time": "2025-07-31T22:58:39.119226Z"
    }
   },
   "outputs": [
    {
     "data": {
      "text/plain": [
       "0"
      ]
     },
     "execution_count": 23,
     "metadata": {},
     "output_type": "execute_result"
    },
    {
     "data": {
      "text/plain": [
       "0"
      ]
     },
     "execution_count": 23,
     "metadata": {},
     "output_type": "execute_result"
    }
   ],
   "source": [
    "## saving stats on data with no gene IDs, just in case\n",
    "\n",
    "stats_no_gene_IDs = {\n",
    "    \"n_rows\": df[df[\"gene_mim\"].isna() & df[\"hgnc_id\"].isna()].shape[0],\n",
    "    \"n_names\": len(df[df[\"gene_mim\"].isna() & df[\"hgnc_id\"].isna()][\"gene_symbol\"].unique())\n",
    "}\n",
    "\n",
    "stats_no_gene_IDs[\"n_rows\"]\n",
    "stats_no_gene_IDs[\"n_names\"]"
   ]
  },
  {
   "cell_type": "markdown",
   "id": "8ec56f53",
   "metadata": {},
   "source": [
    "#### HGNC"
   ]
  },
  {
   "cell_type": "markdown",
   "id": "42bf5e56",
   "metadata": {},
   "source": [
    "__Running Gene HGNC IDs through NodeNorm__\n",
    "\n",
    "\n",
    "Catching potential mapping failures for later stats report"
   ]
  },
  {
   "cell_type": "code",
   "execution_count": 24,
   "id": "9af3c9da",
   "metadata": {
    "ExecuteTime": {
     "end_time": "2025-07-31T22:58:43.966661Z",
     "start_time": "2025-07-31T22:58:43.963402Z"
    }
   },
   "outputs": [],
   "source": [
    "## saving stats on data with no HGNC IDs, just in case\n",
    "\n",
    "n_rows_no_hgnc = df[\"hgnc_id\"].isna().sum()"
   ]
  },
  {
   "cell_type": "code",
   "execution_count": 25,
   "id": "54f32d70",
   "metadata": {
    "ExecuteTime": {
     "end_time": "2025-07-31T22:58:45.336290Z",
     "start_time": "2025-07-31T22:58:45.331000Z"
    }
   },
   "outputs": [
    {
     "data": {
      "text/plain": [
       "2638"
      ]
     },
     "execution_count": 25,
     "metadata": {},
     "output_type": "execute_result"
    }
   ],
   "source": [
    "## get set of unique CURIEs to put into NodeNorm\n",
    "hgnc = df[\"hgnc_id\"].dropna().unique()\n",
    "len(hgnc)"
   ]
  },
  {
   "cell_type": "code",
   "execution_count": 26,
   "id": "e98887c0",
   "metadata": {
    "ExecuteTime": {
     "end_time": "2025-07-31T22:58:46.796491Z",
     "start_time": "2025-07-31T22:58:46.793504Z"
    }
   },
   "outputs": [],
   "source": [
    "hgnc_nodenorm_mapping = {}\n",
    "\n",
    "## set up variables to catch potential mapping failures\n",
    "stats_hgnc_mapping_failures = {\n",
    "    \"unexpected_error\": {},\n",
    "    \"nodenorm_returned_none\": [],\n",
    "    \"wrong_category\": {},\n",
    "    \"no_label\": []\n",
    "    \n",
    "}"
   ]
  },
  {
   "cell_type": "code",
   "execution_count": 27,
   "id": "9521a856",
   "metadata": {
    "ExecuteTime": {
     "end_time": "2025-07-31T22:58:57.166073Z",
     "start_time": "2025-07-31T22:58:48.704933Z"
    }
   },
   "outputs": [],
   "source": [
    "## larger batches are quicker\n",
    "for batch in batched(hgnc, 1000):\n",
    "    ## returns tuples -> cast to list\n",
    "    req_body = {\n",
    "        \"curies\": list(batch),\n",
    "        \"conflate\": True,\n",
    "    }\n",
    "    r = requests.post(nodenorm_url, json=req_body)\n",
    "    response = r.json()\n",
    "    \n",
    "    ## not doing dict comprehension. allows easier review, logic writing\n",
    "    for k,v in response.items():\n",
    "        ## catch unexpected errors\n",
    "        try:\n",
    "            ## if NodeNorm didn't have info on this ID, v will be None\n",
    "            if v is not None:\n",
    "                ## don't keep mapping if category is not the expected one\n",
    "                if v[\"type\"][0] == \"biolink:Gene\":\n",
    "                    ## also throw out mapping if no primary label found\n",
    "                    if v[\"id\"].get(\"label\"):\n",
    "                        temp = {\n",
    "                            k: {\"primary_id\": v[\"id\"][\"identifier\"],\n",
    "                                \"primary_label\": v[\"id\"][\"label\"]\n",
    "                               }\n",
    "                        }\n",
    "                        hgnc_nodenorm_mapping.update(temp)\n",
    "                    else:\n",
    "                        stats_hgnc_mapping_failures[\"no_label\"].append(k)\n",
    "#                         print(f\"{k}: NodeNorm didn't find primary label. Not keeping this mapping.\")\n",
    "                else:\n",
    "                    stats_hgnc_mapping_failures[\"wrong_category\"].update({k: v[\"type\"][0]})\n",
    "#                     print(f'{k}: NodeNorm found different category {v[\"type\"][0]}. Not keeping this mapping.')\n",
    "            else:\n",
    "                stats_hgnc_mapping_failures[\"nodenorm_returned_none\"].append(k)\n",
    "#                 print(f\"{k}: NodeNorm didn't recognize this ID\")\n",
    "        except:\n",
    "            stats_hgnc_mapping_failures[\"unexpected_error\"].update({k: v})\n",
    "            print(f'Encountered an unexpected error.')\n",
    "            print(f'NodeNorm response key: {k}')\n",
    "            print(f'NodeNorm response value: {v}')"
   ]
  },
  {
   "cell_type": "code",
   "execution_count": 28,
   "id": "fce525ef",
   "metadata": {
    "ExecuteTime": {
     "end_time": "2025-07-31T22:58:59.692715Z",
     "start_time": "2025-07-31T22:58:59.686866Z"
    }
   },
   "outputs": [
    {
     "data": {
      "text/plain": [
       "2638"
      ]
     },
     "execution_count": 28,
     "metadata": {},
     "output_type": "execute_result"
    },
    {
     "data": {
      "text/plain": [
       "{'unexpected_error': {},\n",
       " 'nodenorm_returned_none': [],\n",
       " 'wrong_category': {},\n",
       " 'no_label': []}"
      ]
     },
     "execution_count": 28,
     "metadata": {},
     "output_type": "execute_result"
    }
   ],
   "source": [
    "len(hgnc_nodenorm_mapping)\n",
    "\n",
    "stats_hgnc_mapping_failures"
   ]
  },
  {
   "cell_type": "markdown",
   "id": "f45b85ef",
   "metadata": {},
   "source": [
    "#### OMIM"
   ]
  },
  {
   "cell_type": "markdown",
   "id": "449d1aa0",
   "metadata": {},
   "source": [
    "__Running Gene OMIM IDs through NodeNorm__\n",
    "\n",
    "Catching potential mapping failures for later stats report. \n",
    "\n",
    "Pasted, adjusted from HGNC code blocks above."
   ]
  },
  {
   "cell_type": "code",
   "execution_count": 29,
   "id": "93037c9d",
   "metadata": {
    "ExecuteTime": {
     "end_time": "2025-08-01T00:28:12.345079Z",
     "start_time": "2025-08-01T00:28:12.339918Z"
    }
   },
   "outputs": [
    {
     "data": {
      "text/plain": [
       "2637"
      ]
     },
     "execution_count": 29,
     "metadata": {},
     "output_type": "execute_result"
    }
   ],
   "source": [
    "## get set of unique CURIEs to put into NodeNorm\n",
    "gene_omim = df[\"gene_mim\"].dropna().unique()\n",
    "len(gene_omim)"
   ]
  },
  {
   "cell_type": "code",
   "execution_count": 30,
   "id": "8ab2b46b",
   "metadata": {
    "ExecuteTime": {
     "end_time": "2025-08-01T00:28:13.366976Z",
     "start_time": "2025-08-01T00:28:13.363999Z"
    }
   },
   "outputs": [],
   "source": [
    "gene_omim_nodenorm_mapping = {}\n",
    "\n",
    "## set up variables to catch potential mapping failures\n",
    "stats_gene_omim_mapping_failures = {\n",
    "    \"unexpected_error\": {},\n",
    "    \"nodenorm_returned_none\": [],\n",
    "    \"wrong_category\": {},\n",
    "    \"no_label\": []\n",
    "    \n",
    "}"
   ]
  },
  {
   "cell_type": "code",
   "execution_count": 31,
   "id": "26d80f83",
   "metadata": {
    "ExecuteTime": {
     "end_time": "2025-08-01T00:28:23.617972Z",
     "start_time": "2025-08-01T00:28:14.405439Z"
    }
   },
   "outputs": [],
   "source": [
    "## larger batches are quicker\n",
    "for batch in batched(gene_omim, 1000):\n",
    "    ## returns tuples -> cast to list\n",
    "    req_body = {\n",
    "        \"curies\": list(batch),\n",
    "        \"conflate\": True,\n",
    "    }\n",
    "    r = requests.post(nodenorm_url, json=req_body)\n",
    "    response = r.json()\n",
    "    \n",
    "    ## not doing dict comprehension. allows easier review, logic writing\n",
    "    for k,v in response.items():\n",
    "        ## catch unexpected errors\n",
    "        try:\n",
    "            ## if NodeNorm didn't have info on this ID, v will be None\n",
    "            if v is not None:\n",
    "                ## don't keep mapping if category is not the expected one\n",
    "                if v[\"type\"][0] == \"biolink:Gene\":\n",
    "                    ## also throw out mapping if no primary label found\n",
    "                    if v[\"id\"].get(\"label\"):\n",
    "                        temp = {\n",
    "                            k: {\"primary_id\": v[\"id\"][\"identifier\"],\n",
    "                                \"primary_label\": v[\"id\"][\"label\"]\n",
    "                               }\n",
    "                        }\n",
    "                        gene_omim_nodenorm_mapping.update(temp)\n",
    "                    else:\n",
    "                        stats_gene_omim_mapping_failures[\"no_label\"].append(k)\n",
    "#                         print(f\"{k}: NodeNorm didn't find primary label. Not keeping this mapping.\")\n",
    "                else:\n",
    "                    stats_gene_omim_mapping_failures[\"wrong_category\"].update({k: v[\"type\"][0]})\n",
    "#                     print(f'{k}: NodeNorm found different category {v[\"type\"][0]}. Not keeping this mapping.')\n",
    "            else:\n",
    "                stats_gene_omim_mapping_failures[\"nodenorm_returned_none\"].append(k)\n",
    "#                 print(f\"{k}: NodeNorm didn't recognize this ID\")\n",
    "        except:\n",
    "            stats_gene_omim_mapping_failures[\"unexpected_error\"].update({k: v})\n",
    "            print(f'Encountered an unexpected error.')\n",
    "            print(f'NodeNorm response key: {k}')\n",
    "            print(f'NodeNorm response value: {v}')"
   ]
  },
  {
   "cell_type": "code",
   "execution_count": 32,
   "id": "8b342012",
   "metadata": {
    "ExecuteTime": {
     "end_time": "2025-08-01T00:28:23.626656Z",
     "start_time": "2025-08-01T00:28:23.620801Z"
    }
   },
   "outputs": [
    {
     "data": {
      "text/plain": [
       "2637"
      ]
     },
     "execution_count": 32,
     "metadata": {},
     "output_type": "execute_result"
    },
    {
     "data": {
      "text/plain": [
       "{'unexpected_error': {},\n",
       " 'nodenorm_returned_none': [],\n",
       " 'wrong_category': {},\n",
       " 'no_label': []}"
      ]
     },
     "execution_count": 32,
     "metadata": {},
     "output_type": "execute_result"
    }
   ],
   "source": [
    "len(gene_omim_nodenorm_mapping)\n",
    "\n",
    "stats_gene_omim_mapping_failures"
   ]
  },
  {
   "cell_type": "markdown",
   "id": "beaa91c8",
   "metadata": {},
   "source": [
    "#### Comparing HGNC vs OMIM"
   ]
  },
  {
   "cell_type": "code",
   "execution_count": 33,
   "id": "7401b121",
   "metadata": {
    "ExecuteTime": {
     "end_time": "2025-08-01T00:28:32.955597Z",
     "start_time": "2025-08-01T00:28:32.943107Z"
    }
   },
   "outputs": [],
   "source": [
    "## if row has both IDs, look for diff in mappings from each ID\n",
    "for row in df[[\"gene_mim\", \"hgnc_id\"]].itertuples(index=False):\n",
    "    ## has both IDs\n",
    "    if pd.notna(row.gene_mim) and pd.notna(row.hgnc_id):\n",
    "        ## if have NodeNorm mappings for both\n",
    "        if gene_omim_nodenorm_mapping.get(row.gene_mim) and \\\n",
    "        hgnc_nodenorm_mapping.get(row.hgnc_id):\n",
    "            ## check if mappings are diff\n",
    "            if gene_omim_nodenorm_mapping[row.gene_mim][\"primary_id\"] != \\\n",
    "            hgnc_nodenorm_mapping[row.hgnc_id][\"primary_id\"]:\n",
    "                print(row)\n",
    "\n",
    "## 2025-06-27 data: nothing prints, so there are no mismatches"
   ]
  },
  {
   "cell_type": "code",
   "execution_count": 34,
   "id": "e0dcee11",
   "metadata": {
    "ExecuteTime": {
     "end_time": "2025-08-01T00:28:33.532779Z",
     "start_time": "2025-08-01T00:28:33.524620Z"
    }
   },
   "outputs": [
    {
     "name": "stdout",
     "output_type": "stream",
     "text": [
      "G2P name MT-TP, ID HGNC:7494\n",
      "NodeNorm name TRNP, ID NCBIGene:4571\n",
      "\n",
      "\n",
      "G2P name CENPJ, ID HGNC:17272\n",
      "NodeNorm name CPAP, ID NCBIGene:55835\n",
      "\n",
      "\n",
      "G2P name CCDC103, ID HGNC:32700\n",
      "NodeNorm name DNAAF19, ID NCBIGene:388389\n",
      "\n",
      "\n",
      "G2P name CCDC115, ID HGNC:28178\n",
      "NodeNorm name VMA22, ID NCBIGene:84317\n",
      "\n",
      "\n",
      "G2P name TMEM199, ID HGNC:18085\n",
      "NodeNorm name VMA12, ID NCBIGene:147007\n",
      "\n",
      "\n",
      "G2P name RNU2-2P, ID HGNC:10152\n",
      "NodeNorm name RNU2-2, ID NCBIGene:26855\n",
      "\n",
      "\n",
      "G2P name MT-ND1, ID HGNC:7455\n",
      "NodeNorm name ND1, ID NCBIGene:4535\n",
      "\n",
      "\n",
      "G2P name MT-ND4, ID HGNC:7459\n",
      "NodeNorm name ND4, ID NCBIGene:4538\n",
      "\n",
      "\n",
      "G2P name MT-ATP6, ID HGNC:7414\n",
      "NodeNorm name ATP6, ID NCBIGene:4508\n",
      "\n",
      "\n",
      "G2P name MT-ND5, ID HGNC:7461\n",
      "NodeNorm name ND5, ID NCBIGene:4540\n",
      "\n",
      "\n",
      "G2P name MT-ND6, ID HGNC:7462\n",
      "NodeNorm name ND6, ID NCBIGene:4541\n",
      "\n",
      "\n"
     ]
    }
   ],
   "source": [
    "## look for differences in name between NodeNormed and original data\n",
    "\n",
    "for row in df[[\"gene_symbol\", \"hgnc_id\"]].itertuples(index=False):\n",
    "    ## works because both columns have no missing values and there's no failed mappings\n",
    "    ## if this changes, need to adjust this code block\n",
    "    if row.gene_symbol != hgnc_nodenorm_mapping[row.hgnc_id][\"primary_label\"]:\n",
    "        print(f\"G2P name {row.gene_symbol}, ID {row.hgnc_id}\")\n",
    "        print(f'NodeNorm name {hgnc_nodenorm_mapping[row.hgnc_id][\"primary_label\"]}, ID {hgnc_nodenorm_mapping[row.hgnc_id][\"primary_id\"]}')\n",
    "        print(\"\\n\")"
   ]
  },
  {
   "cell_type": "markdown",
   "id": "357c59c1",
   "metadata": {},
   "source": [
    "**2025-03-28 data:** \n",
    "\n",
    "Review of mismatched names:\n",
    "* NodeNorm is correct that CENPJ should be CPAP, CCDC103 -> DNAAF19\n",
    "* The rest look like mitochondrial genes, and NCBIGene main name seems to match G2P name, not NodeNorm -> messaged NodeNorm"
   ]
  },
  {
   "cell_type": "markdown",
   "id": "24a02122",
   "metadata": {},
   "source": [
    "#### Conclusions"
   ]
  },
  {
   "cell_type": "markdown",
   "id": "15f9836e",
   "metadata": {},
   "source": [
    "<div class=\"alert alert-block alert-success\">\n",
    "\n",
    "**2025-03-28 data:** \n",
    "    \n",
    "__Exploration__\n",
    "\n",
    "* no mapping failures\n",
    "* when rows have both OMIM and HGNC IDs, there were no differences in NodeNorm mapping (\"mismatches\")\n",
    "    \n",
    "__Decision: Use HGNC ID column to generate NodeNorm values__\n",
    "\n",
    "* less missing values (none right now)\n",
    "* these IDs are probably only genes (vs OMIM ID namespace has multiple kinds of entities)"
   ]
  },
  {
   "cell_type": "markdown",
   "id": "783a5f57",
   "metadata": {},
   "source": [
    "### Exploring: Diseases"
   ]
  },
  {
   "cell_type": "markdown",
   "id": "f1879b18",
   "metadata": {},
   "source": [
    "There are many more missing IDs for Disease, compared to Gene. \n",
    "\n",
    "As mentioned at the beginning of the \"Pre-NodeNorming\" section, I won't be using NameResolver right now. \n",
    "\n",
    "__This means all rows w/o any disease IDs will be removed__ because they cannot be pre-NodeNormed. "
   ]
  },
  {
   "cell_type": "code",
   "execution_count": 35,
   "id": "7a13a8c2",
   "metadata": {
    "ExecuteTime": {
     "end_time": "2025-08-01T00:29:00.337160Z",
     "start_time": "2025-08-01T00:29:00.325131Z"
    }
   },
   "outputs": [
    {
     "name": "stdout",
     "output_type": "stream",
     "text": [
      "<class 'pandas.core.frame.DataFrame'>\n",
      "RangeIndex: 3192 entries, 0 to 3191\n",
      "Data columns (total 3 columns):\n",
      " #   Column         Non-Null Count  Dtype \n",
      "---  ------         --------------  ----- \n",
      " 0   disease_name   3192 non-null   object\n",
      " 1   disease_mim    2644 non-null   object\n",
      " 2   disease_MONDO  1887 non-null   object\n",
      "dtypes: object(3)\n",
      "memory usage: 74.9+ KB\n"
     ]
    }
   ],
   "source": [
    "df[[\"disease_name\", \"disease_mim\", \"disease_MONDO\"]].info()"
   ]
  },
  {
   "cell_type": "code",
   "execution_count": 36,
   "id": "f4c77261",
   "metadata": {
    "ExecuteTime": {
     "end_time": "2025-08-01T00:29:09.829672Z",
     "start_time": "2025-08-01T00:29:09.806799Z"
    }
   },
   "outputs": [
    {
     "data": {
      "text/html": [
       "<div>\n",
       "<style scoped>\n",
       "    .dataframe tbody tr th:only-of-type {\n",
       "        vertical-align: middle;\n",
       "    }\n",
       "\n",
       "    .dataframe tbody tr th {\n",
       "        vertical-align: top;\n",
       "    }\n",
       "\n",
       "    .dataframe thead th {\n",
       "        text-align: right;\n",
       "    }\n",
       "</style>\n",
       "<table border=\"1\" class=\"dataframe\">\n",
       "  <thead>\n",
       "    <tr style=\"text-align: right;\">\n",
       "      <th></th>\n",
       "      <th>g2p_id</th>\n",
       "      <th>gene_symbol</th>\n",
       "      <th>gene_mim</th>\n",
       "      <th>hgnc_id</th>\n",
       "      <th>previous_gene_symbols</th>\n",
       "      <th>disease_name</th>\n",
       "      <th>disease_mim</th>\n",
       "      <th>disease_MONDO</th>\n",
       "      <th>allelic_requirement</th>\n",
       "      <th>cross_cutting_modifier</th>\n",
       "      <th>confidence</th>\n",
       "      <th>variant_consequence</th>\n",
       "      <th>variant_types</th>\n",
       "      <th>molecular_mechanism</th>\n",
       "      <th>molecular_mechanism_support</th>\n",
       "      <th>molecular_mechanism_categorisation</th>\n",
       "      <th>molecular_mechanism_evidence</th>\n",
       "      <th>phenotypes</th>\n",
       "      <th>publications</th>\n",
       "      <th>panel</th>\n",
       "      <th>comments</th>\n",
       "      <th>date_of_last_review</th>\n",
       "      <th>review</th>\n",
       "      <th>g2p_record_url</th>\n",
       "    </tr>\n",
       "  </thead>\n",
       "  <tbody>\n",
       "    <tr>\n",
       "      <th>323</th>\n",
       "      <td>G2P00364</td>\n",
       "      <td>PEX1</td>\n",
       "      <td>OMIM:602136</td>\n",
       "      <td>HGNC:8850</td>\n",
       "      <td>ZWS; ZWS1</td>\n",
       "      <td>PEX1-related peroxisome biogenesis disorder</td>\n",
       "      <td>NaN</td>\n",
       "      <td>NaN</td>\n",
       "      <td>biallelic_autosomal</td>\n",
       "      <td>NaN</td>\n",
       "      <td>definitive</td>\n",
       "      <td>absent gene product; altered gene product stru...</td>\n",
       "      <td>NaN</td>\n",
       "      <td>loss of function</td>\n",
       "      <td>inferred</td>\n",
       "      <td>NaN</td>\n",
       "      <td>NaN</td>\n",
       "      <td>HP:0000007; HP:0000107; HP:0000119; HP:0000152...</td>\n",
       "      <td>9398847</td>\n",
       "      <td>Developmental disorders; Eye disorders; Skin d...</td>\n",
       "      <td>NaN</td>\n",
       "      <td>2025-01-16 15:03:32+00:00</td>\n",
       "      <td>NaN</td>\n",
       "      <td>https://www.ebi.ac.uk/gene2phenotype/lgd/G2P00364</td>\n",
       "    </tr>\n",
       "    <tr>\n",
       "      <th>395</th>\n",
       "      <td>G2P00448</td>\n",
       "      <td>IGF2</td>\n",
       "      <td>OMIM:147470</td>\n",
       "      <td>HGNC:5466</td>\n",
       "      <td>C11ORF43; FLJ44734; IGF-II</td>\n",
       "      <td>IGF2-related Beckwith-Wiedemann syndrome</td>\n",
       "      <td>NaN</td>\n",
       "      <td>NaN</td>\n",
       "      <td>monoallelic_autosomal</td>\n",
       "      <td>imprinted region; restricted mutation set</td>\n",
       "      <td>definitive</td>\n",
       "      <td>altered gene product structure</td>\n",
       "      <td>NaN</td>\n",
       "      <td>gain of function</td>\n",
       "      <td>inferred</td>\n",
       "      <td>NaN</td>\n",
       "      <td>NaN</td>\n",
       "      <td>HP:0000006; HP:0000028; HP:0000105; HP:0000150...</td>\n",
       "      <td>NaN</td>\n",
       "      <td>Developmental disorders; Skeletal disorders</td>\n",
       "      <td>NaN</td>\n",
       "      <td>2023-05-24 09:07:28+00:00</td>\n",
       "      <td>NaN</td>\n",
       "      <td>https://www.ebi.ac.uk/gene2phenotype/lgd/G2P00448</td>\n",
       "    </tr>\n",
       "    <tr>\n",
       "      <th>461</th>\n",
       "      <td>G2P00522</td>\n",
       "      <td>PTHLH</td>\n",
       "      <td>OMIM:168470</td>\n",
       "      <td>HGNC:9607</td>\n",
       "      <td>HHM; PLP; PTHR; PTHRP</td>\n",
       "      <td>PTHLH-related clubbing with skeletal dysplasia...</td>\n",
       "      <td>NaN</td>\n",
       "      <td>NaN</td>\n",
       "      <td>monoallelic_autosomal</td>\n",
       "      <td>NaN</td>\n",
       "      <td>definitive</td>\n",
       "      <td>increased gene product level</td>\n",
       "      <td>NaN</td>\n",
       "      <td>undetermined</td>\n",
       "      <td>inferred</td>\n",
       "      <td>NaN</td>\n",
       "      <td>NaN</td>\n",
       "      <td>NaN</td>\n",
       "      <td>NaN</td>\n",
       "      <td>Developmental disorders</td>\n",
       "      <td>NaN</td>\n",
       "      <td>2015-07-22 16:14:37+00:00</td>\n",
       "      <td>NaN</td>\n",
       "      <td>https://www.ebi.ac.uk/gene2phenotype/lgd/G2P00522</td>\n",
       "    </tr>\n",
       "    <tr>\n",
       "      <th>505</th>\n",
       "      <td>G2P00569</td>\n",
       "      <td>NFIA</td>\n",
       "      <td>OMIM:600727</td>\n",
       "      <td>HGNC:7784</td>\n",
       "      <td>KIAA1439; NFI-L</td>\n",
       "      <td>NFIA-related macrocephaly with intellectual di...</td>\n",
       "      <td>NaN</td>\n",
       "      <td>NaN</td>\n",
       "      <td>monoallelic_autosomal</td>\n",
       "      <td>NaN</td>\n",
       "      <td>strong</td>\n",
       "      <td>absent gene product</td>\n",
       "      <td>NaN</td>\n",
       "      <td>loss of function</td>\n",
       "      <td>inferred</td>\n",
       "      <td>NaN</td>\n",
       "      <td>NaN</td>\n",
       "      <td>HP:0000023; HP:0000076; HP:0000089; HP:0000126...</td>\n",
       "      <td>17530927</td>\n",
       "      <td>Developmental disorders</td>\n",
       "      <td>NaN</td>\n",
       "      <td>2018-11-08 11:05:08+00:00</td>\n",
       "      <td>NaN</td>\n",
       "      <td>https://www.ebi.ac.uk/gene2phenotype/lgd/G2P00569</td>\n",
       "    </tr>\n",
       "    <tr>\n",
       "      <th>592</th>\n",
       "      <td>G2P00677</td>\n",
       "      <td>NDST1</td>\n",
       "      <td>OMIM:600853</td>\n",
       "      <td>HGNC:7680</td>\n",
       "      <td>HSST; NST1</td>\n",
       "      <td>NDST1-related intellectual disability with or ...</td>\n",
       "      <td>NaN</td>\n",
       "      <td>NaN</td>\n",
       "      <td>biallelic_autosomal</td>\n",
       "      <td>NaN</td>\n",
       "      <td>moderate</td>\n",
       "      <td>altered gene product structure</td>\n",
       "      <td>missense_variant</td>\n",
       "      <td>undetermined</td>\n",
       "      <td>inferred</td>\n",
       "      <td>NaN</td>\n",
       "      <td>NaN</td>\n",
       "      <td>NaN</td>\n",
       "      <td>21937992; 25125150; 27620904; 28211985; 286007...</td>\n",
       "      <td>Developmental disorders</td>\n",
       "      <td>NaN</td>\n",
       "      <td>2024-06-14 11:53:47+00:00</td>\n",
       "      <td>NaN</td>\n",
       "      <td>https://www.ebi.ac.uk/gene2phenotype/lgd/G2P00677</td>\n",
       "    </tr>\n",
       "    <tr>\n",
       "      <th>...</th>\n",
       "      <td>...</td>\n",
       "      <td>...</td>\n",
       "      <td>...</td>\n",
       "      <td>...</td>\n",
       "      <td>...</td>\n",
       "      <td>...</td>\n",
       "      <td>...</td>\n",
       "      <td>...</td>\n",
       "      <td>...</td>\n",
       "      <td>...</td>\n",
       "      <td>...</td>\n",
       "      <td>...</td>\n",
       "      <td>...</td>\n",
       "      <td>...</td>\n",
       "      <td>...</td>\n",
       "      <td>...</td>\n",
       "      <td>...</td>\n",
       "      <td>...</td>\n",
       "      <td>...</td>\n",
       "      <td>...</td>\n",
       "      <td>...</td>\n",
       "      <td>...</td>\n",
       "      <td>...</td>\n",
       "      <td>...</td>\n",
       "    </tr>\n",
       "    <tr>\n",
       "      <th>3162</th>\n",
       "      <td>G2P03718</td>\n",
       "      <td>FHOD3</td>\n",
       "      <td>OMIM:609691</td>\n",
       "      <td>HGNC:26178</td>\n",
       "      <td>FHOS2; FLJ22297; FLJ22717; KIAA1695</td>\n",
       "      <td>FHOD3-related hypertrophic cardiomyopathy</td>\n",
       "      <td>NaN</td>\n",
       "      <td>NaN</td>\n",
       "      <td>monoallelic_autosomal</td>\n",
       "      <td>NaN</td>\n",
       "      <td>definitive</td>\n",
       "      <td>altered gene product structure</td>\n",
       "      <td>inframe_deletion; inframe_insertion; missense_...</td>\n",
       "      <td>undetermined</td>\n",
       "      <td>inferred</td>\n",
       "      <td>NaN</td>\n",
       "      <td>NaN</td>\n",
       "      <td>NaN</td>\n",
       "      <td>19706596; 29907873; 30442288; 30898215; 317428...</td>\n",
       "      <td>Cardiac disorders</td>\n",
       "      <td>Pathogenic variants in FHOD3 are definitively ...</td>\n",
       "      <td>2025-03-07 13:48:22+00:00</td>\n",
       "      <td>NaN</td>\n",
       "      <td>https://www.ebi.ac.uk/gene2phenotype/lgd/G2P03718</td>\n",
       "    </tr>\n",
       "    <tr>\n",
       "      <th>3164</th>\n",
       "      <td>G2P03582</td>\n",
       "      <td>MYO6</td>\n",
       "      <td>OMIM:600970</td>\n",
       "      <td>HGNC:7605</td>\n",
       "      <td>DFNA22; DFNB37; KIAA0389</td>\n",
       "      <td>MYO6-related nonsyndromic genetic hearing loss</td>\n",
       "      <td>NaN</td>\n",
       "      <td>NaN</td>\n",
       "      <td>biallelic_autosomal</td>\n",
       "      <td>NaN</td>\n",
       "      <td>definitive</td>\n",
       "      <td>altered gene product structure; decreased gene...</td>\n",
       "      <td>frameshift_variant; missense_variant; splice_a...</td>\n",
       "      <td>undetermined</td>\n",
       "      <td>inferred</td>\n",
       "      <td>NaN</td>\n",
       "      <td>NaN</td>\n",
       "      <td>NaN</td>\n",
       "      <td>12687499; 18348273; 23485424; 24105371; 25999546</td>\n",
       "      <td>Ear disorders</td>\n",
       "      <td>NaN</td>\n",
       "      <td>2024-11-28 14:52:17+00:00</td>\n",
       "      <td>NaN</td>\n",
       "      <td>https://www.ebi.ac.uk/gene2phenotype/lgd/G2P03582</td>\n",
       "    </tr>\n",
       "    <tr>\n",
       "      <th>3165</th>\n",
       "      <td>G2P03583</td>\n",
       "      <td>MYO6</td>\n",
       "      <td>OMIM:600970</td>\n",
       "      <td>HGNC:7605</td>\n",
       "      <td>DFNA22; DFNB37; KIAA0389</td>\n",
       "      <td>MYO6-related nonsyndromic genetic hearing loss</td>\n",
       "      <td>NaN</td>\n",
       "      <td>NaN</td>\n",
       "      <td>monoallelic_autosomal</td>\n",
       "      <td>NaN</td>\n",
       "      <td>definitive</td>\n",
       "      <td>altered gene product structure; decreased gene...</td>\n",
       "      <td>frameshift_variant; missense_variant; splice_a...</td>\n",
       "      <td>undetermined</td>\n",
       "      <td>inferred</td>\n",
       "      <td>NaN</td>\n",
       "      <td>NaN</td>\n",
       "      <td>NaN</td>\n",
       "      <td>18348273; 23485424; 24105371; 25999546</td>\n",
       "      <td>Ear disorders</td>\n",
       "      <td>NaN</td>\n",
       "      <td>2024-11-28 14:47:17+00:00</td>\n",
       "      <td>NaN</td>\n",
       "      <td>https://www.ebi.ac.uk/gene2phenotype/lgd/G2P03583</td>\n",
       "    </tr>\n",
       "    <tr>\n",
       "      <th>3166</th>\n",
       "      <td>G2P01747</td>\n",
       "      <td>CDC14A</td>\n",
       "      <td>OMIM:603504</td>\n",
       "      <td>HGNC:1718</td>\n",
       "      <td>CDC14; CDC14A1; CDC14A2; DFNB105; DFNB32</td>\n",
       "      <td>CDC14A-related deafness</td>\n",
       "      <td>NaN</td>\n",
       "      <td>NaN</td>\n",
       "      <td>biallelic_autosomal</td>\n",
       "      <td>NaN</td>\n",
       "      <td>strong</td>\n",
       "      <td>absent gene product</td>\n",
       "      <td>NaN</td>\n",
       "      <td>loss of function</td>\n",
       "      <td>inferred</td>\n",
       "      <td>NaN</td>\n",
       "      <td>NaN</td>\n",
       "      <td>NaN</td>\n",
       "      <td>27259055</td>\n",
       "      <td>Ear disorders</td>\n",
       "      <td>NaN</td>\n",
       "      <td>2025-04-08 17:02:31+00:00</td>\n",
       "      <td>NaN</td>\n",
       "      <td>https://www.ebi.ac.uk/gene2phenotype/lgd/G2P01747</td>\n",
       "    </tr>\n",
       "    <tr>\n",
       "      <th>3190</th>\n",
       "      <td>G2P01852</td>\n",
       "      <td>SOX10</td>\n",
       "      <td>OMIM:602229</td>\n",
       "      <td>HGNC:11190</td>\n",
       "      <td>DOM; SOX-10; WS2E; WS4</td>\n",
       "      <td>SOX10-related Kallmann syndrome with deafness</td>\n",
       "      <td>NaN</td>\n",
       "      <td>NaN</td>\n",
       "      <td>monoallelic_autosomal</td>\n",
       "      <td>NaN</td>\n",
       "      <td>definitive</td>\n",
       "      <td>absent gene product</td>\n",
       "      <td>NaN</td>\n",
       "      <td>loss of function</td>\n",
       "      <td>inferred</td>\n",
       "      <td>NaN</td>\n",
       "      <td>NaN</td>\n",
       "      <td>NaN</td>\n",
       "      <td>23643381</td>\n",
       "      <td>Ear disorders</td>\n",
       "      <td>NaN</td>\n",
       "      <td>2025-04-28 10:21:28+00:00</td>\n",
       "      <td>NaN</td>\n",
       "      <td>https://www.ebi.ac.uk/gene2phenotype/lgd/G2P01852</td>\n",
       "    </tr>\n",
       "  </tbody>\n",
       "</table>\n",
       "<p>253 rows × 24 columns</p>\n",
       "</div>"
      ],
      "text/plain": [
       "        g2p_id gene_symbol     gene_mim     hgnc_id  \\\n",
       "323   G2P00364        PEX1  OMIM:602136   HGNC:8850   \n",
       "395   G2P00448        IGF2  OMIM:147470   HGNC:5466   \n",
       "461   G2P00522       PTHLH  OMIM:168470   HGNC:9607   \n",
       "505   G2P00569        NFIA  OMIM:600727   HGNC:7784   \n",
       "592   G2P00677       NDST1  OMIM:600853   HGNC:7680   \n",
       "...        ...         ...          ...         ...   \n",
       "3162  G2P03718       FHOD3  OMIM:609691  HGNC:26178   \n",
       "3164  G2P03582        MYO6  OMIM:600970   HGNC:7605   \n",
       "3165  G2P03583        MYO6  OMIM:600970   HGNC:7605   \n",
       "3166  G2P01747      CDC14A  OMIM:603504   HGNC:1718   \n",
       "3190  G2P01852       SOX10  OMIM:602229  HGNC:11190   \n",
       "\n",
       "                         previous_gene_symbols  \\\n",
       "323                                  ZWS; ZWS1   \n",
       "395                 C11ORF43; FLJ44734; IGF-II   \n",
       "461                      HHM; PLP; PTHR; PTHRP   \n",
       "505                            KIAA1439; NFI-L   \n",
       "592                                 HSST; NST1   \n",
       "...                                        ...   \n",
       "3162       FHOS2; FLJ22297; FLJ22717; KIAA1695   \n",
       "3164                  DFNA22; DFNB37; KIAA0389   \n",
       "3165                  DFNA22; DFNB37; KIAA0389   \n",
       "3166  CDC14; CDC14A1; CDC14A2; DFNB105; DFNB32   \n",
       "3190                    DOM; SOX-10; WS2E; WS4   \n",
       "\n",
       "                                           disease_name disease_mim  \\\n",
       "323         PEX1-related peroxisome biogenesis disorder         NaN   \n",
       "395            IGF2-related Beckwith-Wiedemann syndrome         NaN   \n",
       "461   PTHLH-related clubbing with skeletal dysplasia...         NaN   \n",
       "505   NFIA-related macrocephaly with intellectual di...         NaN   \n",
       "592   NDST1-related intellectual disability with or ...         NaN   \n",
       "...                                                 ...         ...   \n",
       "3162          FHOD3-related hypertrophic cardiomyopathy         NaN   \n",
       "3164     MYO6-related nonsyndromic genetic hearing loss         NaN   \n",
       "3165     MYO6-related nonsyndromic genetic hearing loss         NaN   \n",
       "3166                            CDC14A-related deafness         NaN   \n",
       "3190      SOX10-related Kallmann syndrome with deafness         NaN   \n",
       "\n",
       "     disease_MONDO    allelic_requirement  \\\n",
       "323            NaN    biallelic_autosomal   \n",
       "395            NaN  monoallelic_autosomal   \n",
       "461            NaN  monoallelic_autosomal   \n",
       "505            NaN  monoallelic_autosomal   \n",
       "592            NaN    biallelic_autosomal   \n",
       "...            ...                    ...   \n",
       "3162           NaN  monoallelic_autosomal   \n",
       "3164           NaN    biallelic_autosomal   \n",
       "3165           NaN  monoallelic_autosomal   \n",
       "3166           NaN    biallelic_autosomal   \n",
       "3190           NaN  monoallelic_autosomal   \n",
       "\n",
       "                         cross_cutting_modifier  confidence  \\\n",
       "323                                         NaN  definitive   \n",
       "395   imprinted region; restricted mutation set  definitive   \n",
       "461                                         NaN  definitive   \n",
       "505                                         NaN      strong   \n",
       "592                                         NaN    moderate   \n",
       "...                                         ...         ...   \n",
       "3162                                        NaN  definitive   \n",
       "3164                                        NaN  definitive   \n",
       "3165                                        NaN  definitive   \n",
       "3166                                        NaN      strong   \n",
       "3190                                        NaN  definitive   \n",
       "\n",
       "                                    variant_consequence  \\\n",
       "323   absent gene product; altered gene product stru...   \n",
       "395                      altered gene product structure   \n",
       "461                        increased gene product level   \n",
       "505                                 absent gene product   \n",
       "592                      altered gene product structure   \n",
       "...                                                 ...   \n",
       "3162                     altered gene product structure   \n",
       "3164  altered gene product structure; decreased gene...   \n",
       "3165  altered gene product structure; decreased gene...   \n",
       "3166                                absent gene product   \n",
       "3190                                absent gene product   \n",
       "\n",
       "                                          variant_types molecular_mechanism  \\\n",
       "323                                                 NaN    loss of function   \n",
       "395                                                 NaN    gain of function   \n",
       "461                                                 NaN        undetermined   \n",
       "505                                                 NaN    loss of function   \n",
       "592                                    missense_variant        undetermined   \n",
       "...                                                 ...                 ...   \n",
       "3162  inframe_deletion; inframe_insertion; missense_...        undetermined   \n",
       "3164  frameshift_variant; missense_variant; splice_a...        undetermined   \n",
       "3165  frameshift_variant; missense_variant; splice_a...        undetermined   \n",
       "3166                                                NaN    loss of function   \n",
       "3190                                                NaN    loss of function   \n",
       "\n",
       "     molecular_mechanism_support molecular_mechanism_categorisation  \\\n",
       "323                     inferred                                NaN   \n",
       "395                     inferred                                NaN   \n",
       "461                     inferred                                NaN   \n",
       "505                     inferred                                NaN   \n",
       "592                     inferred                                NaN   \n",
       "...                          ...                                ...   \n",
       "3162                    inferred                                NaN   \n",
       "3164                    inferred                                NaN   \n",
       "3165                    inferred                                NaN   \n",
       "3166                    inferred                                NaN   \n",
       "3190                    inferred                                NaN   \n",
       "\n",
       "     molecular_mechanism_evidence  \\\n",
       "323                           NaN   \n",
       "395                           NaN   \n",
       "461                           NaN   \n",
       "505                           NaN   \n",
       "592                           NaN   \n",
       "...                           ...   \n",
       "3162                          NaN   \n",
       "3164                          NaN   \n",
       "3165                          NaN   \n",
       "3166                          NaN   \n",
       "3190                          NaN   \n",
       "\n",
       "                                             phenotypes  \\\n",
       "323   HP:0000007; HP:0000107; HP:0000119; HP:0000152...   \n",
       "395   HP:0000006; HP:0000028; HP:0000105; HP:0000150...   \n",
       "461                                                 NaN   \n",
       "505   HP:0000023; HP:0000076; HP:0000089; HP:0000126...   \n",
       "592                                                 NaN   \n",
       "...                                                 ...   \n",
       "3162                                                NaN   \n",
       "3164                                                NaN   \n",
       "3165                                                NaN   \n",
       "3166                                                NaN   \n",
       "3190                                                NaN   \n",
       "\n",
       "                                           publications  \\\n",
       "323                                             9398847   \n",
       "395                                                 NaN   \n",
       "461                                                 NaN   \n",
       "505                                            17530927   \n",
       "592   21937992; 25125150; 27620904; 28211985; 286007...   \n",
       "...                                                 ...   \n",
       "3162  19706596; 29907873; 30442288; 30898215; 317428...   \n",
       "3164   12687499; 18348273; 23485424; 24105371; 25999546   \n",
       "3165             18348273; 23485424; 24105371; 25999546   \n",
       "3166                                           27259055   \n",
       "3190                                           23643381   \n",
       "\n",
       "                                                  panel  \\\n",
       "323   Developmental disorders; Eye disorders; Skin d...   \n",
       "395         Developmental disorders; Skeletal disorders   \n",
       "461                             Developmental disorders   \n",
       "505                             Developmental disorders   \n",
       "592                             Developmental disorders   \n",
       "...                                                 ...   \n",
       "3162                                  Cardiac disorders   \n",
       "3164                                      Ear disorders   \n",
       "3165                                      Ear disorders   \n",
       "3166                                      Ear disorders   \n",
       "3190                                      Ear disorders   \n",
       "\n",
       "                                               comments  \\\n",
       "323                                                 NaN   \n",
       "395                                                 NaN   \n",
       "461                                                 NaN   \n",
       "505                                                 NaN   \n",
       "592                                                 NaN   \n",
       "...                                                 ...   \n",
       "3162  Pathogenic variants in FHOD3 are definitively ...   \n",
       "3164                                                NaN   \n",
       "3165                                                NaN   \n",
       "3166                                                NaN   \n",
       "3190                                                NaN   \n",
       "\n",
       "           date_of_last_review review  \\\n",
       "323  2025-01-16 15:03:32+00:00    NaN   \n",
       "395  2023-05-24 09:07:28+00:00    NaN   \n",
       "461  2015-07-22 16:14:37+00:00    NaN   \n",
       "505  2018-11-08 11:05:08+00:00    NaN   \n",
       "592  2024-06-14 11:53:47+00:00    NaN   \n",
       "...                        ...    ...   \n",
       "3162 2025-03-07 13:48:22+00:00    NaN   \n",
       "3164 2024-11-28 14:52:17+00:00    NaN   \n",
       "3165 2024-11-28 14:47:17+00:00    NaN   \n",
       "3166 2025-04-08 17:02:31+00:00    NaN   \n",
       "3190 2025-04-28 10:21:28+00:00    NaN   \n",
       "\n",
       "                                         g2p_record_url  \n",
       "323   https://www.ebi.ac.uk/gene2phenotype/lgd/G2P00364  \n",
       "395   https://www.ebi.ac.uk/gene2phenotype/lgd/G2P00448  \n",
       "461   https://www.ebi.ac.uk/gene2phenotype/lgd/G2P00522  \n",
       "505   https://www.ebi.ac.uk/gene2phenotype/lgd/G2P00569  \n",
       "592   https://www.ebi.ac.uk/gene2phenotype/lgd/G2P00677  \n",
       "...                                                 ...  \n",
       "3162  https://www.ebi.ac.uk/gene2phenotype/lgd/G2P03718  \n",
       "3164  https://www.ebi.ac.uk/gene2phenotype/lgd/G2P03582  \n",
       "3165  https://www.ebi.ac.uk/gene2phenotype/lgd/G2P03583  \n",
       "3166  https://www.ebi.ac.uk/gene2phenotype/lgd/G2P01747  \n",
       "3190  https://www.ebi.ac.uk/gene2phenotype/lgd/G2P01852  \n",
       "\n",
       "[253 rows x 24 columns]"
      ]
     },
     "execution_count": 36,
     "metadata": {},
     "output_type": "execute_result"
    }
   ],
   "source": [
    "df[df[\"disease_mim\"].isna() & df[\"disease_MONDO\"].isna()]"
   ]
  },
  {
   "cell_type": "code",
   "execution_count": 37,
   "id": "7451392e",
   "metadata": {
    "ExecuteTime": {
     "end_time": "2025-08-01T00:29:13.903698Z",
     "start_time": "2025-08-01T00:29:13.893937Z"
    }
   },
   "outputs": [
    {
     "data": {
      "text/plain": [
       "253"
      ]
     },
     "execution_count": 37,
     "metadata": {},
     "output_type": "execute_result"
    },
    {
     "data": {
      "text/plain": [
       "248"
      ]
     },
     "execution_count": 37,
     "metadata": {},
     "output_type": "execute_result"
    }
   ],
   "source": [
    "## saving stats on data with no disease IDs\n",
    "\n",
    "stats_no_disease_IDs = {\n",
    "    \"n_rows\": df[df[\"disease_mim\"].isna() & df[\"disease_MONDO\"].isna()].shape[0],\n",
    "    \"n_names\": len(df[df[\"disease_mim\"].isna() & df[\"disease_MONDO\"].isna()][\"disease_name\"].unique())\n",
    "}\n",
    "\n",
    "stats_no_disease_IDs[\"n_rows\"]\n",
    "stats_no_disease_IDs[\"n_names\"]"
   ]
  },
  {
   "cell_type": "markdown",
   "id": "b7a750dc",
   "metadata": {},
   "source": [
    "#### OMIM/orphanet"
   ]
  },
  {
   "cell_type": "markdown",
   "id": "4a12fa8f",
   "metadata": {},
   "source": [
    "__Running OMIM/orphanet IDs through NodeNorm__\n",
    "\n",
    "Catching mapping failures for later stats report\n",
    "\n",
    "Pasted, adjusted from HGNC code blocks above."
   ]
  },
  {
   "cell_type": "code",
   "execution_count": 38,
   "id": "619356be",
   "metadata": {
    "ExecuteTime": {
     "end_time": "2025-08-01T00:29:26.143442Z",
     "start_time": "2025-08-01T00:29:26.138568Z"
    }
   },
   "outputs": [
    {
     "data": {
      "text/plain": [
       "2557"
      ]
     },
     "execution_count": 38,
     "metadata": {},
     "output_type": "execute_result"
    }
   ],
   "source": [
    "## put into parser (format): DONE\n",
    "\n",
    "## get set of unique CURIEs to put into NodeNorm\n",
    "disease_OmOr = df[\"disease_mim\"].dropna().unique()\n",
    "len(disease_OmOr)"
   ]
  },
  {
   "cell_type": "code",
   "execution_count": 39,
   "id": "1400dd55",
   "metadata": {
    "ExecuteTime": {
     "end_time": "2025-08-01T00:29:28.210114Z",
     "start_time": "2025-08-01T00:29:28.206522Z"
    }
   },
   "outputs": [],
   "source": [
    "## put into parser (format): DONE\n",
    "\n",
    "OmOr_nodenorm_mapping = {}\n",
    "\n",
    "## set up variables to catch mapping failures\n",
    "stats_OmOr_mapping_failures = {\n",
    "    \"unexpected_error\": {},\n",
    "    \"nodenorm_returned_none\": [],\n",
    "    \"wrong_category\": {},\n",
    "    \"no_label\": []\n",
    "    \n",
    "}"
   ]
  },
  {
   "cell_type": "code",
   "execution_count": 40,
   "id": "858b6f93",
   "metadata": {
    "ExecuteTime": {
     "end_time": "2025-08-01T00:29:37.470817Z",
     "start_time": "2025-08-01T00:29:28.831512Z"
    }
   },
   "outputs": [],
   "source": [
    "## put into parser (format): DONE\n",
    "\n",
    "## larger batches are quicker\n",
    "for batch in batched(disease_OmOr, 1000):\n",
    "    ## returns tuples -> cast to list\n",
    "    req_body = {\n",
    "        \"curies\": list(batch),\n",
    "        \"conflate\": True,\n",
    "    }\n",
    "    r = requests.post(nodenorm_url, json=req_body)\n",
    "    response = r.json()\n",
    "    \n",
    "    ## not doing dict comprehension. allows easier review, logic writing\n",
    "    for k,v in response.items():\n",
    "        ## catch unexpected errors\n",
    "        try:\n",
    "            ## if NodeNorm didn't have info on this ID, v will be None\n",
    "            if v is not None:\n",
    "                ## don't keep mapping if category is not the expected one\n",
    "                if v[\"type\"][0] == \"biolink:Disease\":\n",
    "                    ## also throw out mapping if no primary label found\n",
    "                    if v[\"id\"].get(\"label\"):\n",
    "                        temp = {\n",
    "                            k: {\"primary_id\": v[\"id\"][\"identifier\"],\n",
    "                                \"primary_label\": v[\"id\"][\"label\"]\n",
    "                               }\n",
    "                        }\n",
    "                        OmOr_nodenorm_mapping.update(temp)\n",
    "                    else:\n",
    "                        stats_OmOr_mapping_failures[\"no_label\"].append(k)\n",
    "#                         print(f\"{k}: NodeNorm didn't find primary label. Not keeping this mapping.\")\n",
    "                else:\n",
    "                    stats_OmOr_mapping_failures[\"wrong_category\"].update({k: v[\"type\"][0]})\n",
    "#                     print(f'{k}: NodeNorm found different category {v[\"type\"][0]}. Not keeping this mapping.')\n",
    "            else:\n",
    "                stats_OmOr_mapping_failures[\"nodenorm_returned_none\"].append(k)\n",
    "#                 print(f\"{k}: NodeNorm didn't recognize this ID\")\n",
    "        except:\n",
    "            stats_OmOr_mapping_failures[\"unexpected_error\"].update({k: v})\n",
    "            print(f'Encountered an unexpected error.')\n",
    "            print(f'NodeNorm response key: {k}')\n",
    "            print(f'NodeNorm response value: {v}')"
   ]
  },
  {
   "cell_type": "code",
   "execution_count": 41,
   "id": "a772ebfd",
   "metadata": {
    "ExecuteTime": {
     "end_time": "2025-08-01T00:29:37.479475Z",
     "start_time": "2025-08-01T00:29:37.473889Z"
    }
   },
   "outputs": [],
   "source": [
    "## put into parser (format): DONE\n",
    "\n",
    "## calculate stats: number of rows affected by each type of mapping failure\n",
    "stats_OmOr_mapping_failures.update({\n",
    "    \"n_rows_none\": df[df[\"disease_mim\"].isin(stats_OmOr_mapping_failures[\"nodenorm_returned_none\"])].shape[0],\n",
    "    \"n_rows_wrong_category\": df[df[\"disease_mim\"].isin(stats_OmOr_mapping_failures[\"wrong_category\"].keys())].shape[0],\n",
    "    \"n_rows_no_label\": df[df[\"disease_mim\"].isin(stats_OmOr_mapping_failures[\"no_label\"])].shape[0]\n",
    "})"
   ]
  },
  {
   "cell_type": "code",
   "execution_count": 42,
   "id": "2e81d56b",
   "metadata": {
    "ExecuteTime": {
     "end_time": "2025-08-01T00:29:37.491165Z",
     "start_time": "2025-08-01T00:29:37.481892Z"
    }
   },
   "outputs": [
    {
     "data": {
      "text/plain": [
       "2551"
      ]
     },
     "execution_count": 42,
     "metadata": {},
     "output_type": "execute_result"
    },
    {
     "data": {
      "text/plain": [
       "{}"
      ]
     },
     "execution_count": 42,
     "metadata": {},
     "output_type": "execute_result"
    },
    {
     "data": {
      "text/plain": [
       "4"
      ]
     },
     "execution_count": 42,
     "metadata": {},
     "output_type": "execute_result"
    },
    {
     "data": {
      "text/plain": [
       "1"
      ]
     },
     "execution_count": 42,
     "metadata": {},
     "output_type": "execute_result"
    },
    {
     "data": {
      "text/plain": [
       "1"
      ]
     },
     "execution_count": 42,
     "metadata": {},
     "output_type": "execute_result"
    }
   ],
   "source": [
    "len(OmOr_nodenorm_mapping)\n",
    "\n",
    "stats_OmOr_mapping_failures[\"unexpected_error\"]\n",
    "\n",
    "len(stats_OmOr_mapping_failures[\"nodenorm_returned_none\"])\n",
    "len(stats_OmOr_mapping_failures[\"wrong_category\"])\n",
    "len(stats_OmOr_mapping_failures[\"no_label\"])"
   ]
  },
  {
   "cell_type": "code",
   "execution_count": 43,
   "id": "77af9e52",
   "metadata": {
    "ExecuteTime": {
     "end_time": "2025-08-01T00:29:44.465420Z",
     "start_time": "2025-08-01T00:29:44.457986Z"
    }
   },
   "outputs": [
    {
     "data": {
      "text/plain": [
       "['OMIM:601884', 'OMIM:133701', 'OMIM:133700', 'OMIM:150800']"
      ]
     },
     "execution_count": 43,
     "metadata": {},
     "output_type": "execute_result"
    },
    {
     "data": {
      "text/plain": [
       "{'OMIM:188400': 'biolink:Gene'}"
      ]
     },
     "execution_count": 43,
     "metadata": {},
     "output_type": "execute_result"
    },
    {
     "data": {
      "text/plain": [
       "['OMIM:621034']"
      ]
     },
     "execution_count": 43,
     "metadata": {},
     "output_type": "execute_result"
    }
   ],
   "source": [
    "## code used to review mapping failures \n",
    "\n",
    "stats_OmOr_mapping_failures[\"nodenorm_returned_none\"]\n",
    "\n",
    "stats_OmOr_mapping_failures[\"wrong_category\"]\n",
    "\n",
    "stats_OmOr_mapping_failures[\"no_label\"]"
   ]
  },
  {
   "cell_type": "code",
   "execution_count": null,
   "id": "fa7539a8",
   "metadata": {
    "ExecuteTime": {
     "end_time": "2025-07-24T06:38:28.638870Z",
     "start_time": "2025-07-24T06:38:28.619921Z"
    }
   },
   "outputs": [],
   "source": [
    "## code used to review mapping failures \n",
    "\n",
    "df[df[\"disease_mim\"] == \"OMIM:133701\"]"
   ]
  },
  {
   "cell_type": "markdown",
   "id": "37f7b761",
   "metadata": {},
   "source": [
    "<div class=\"alert alert-block alert-info\">\n",
    "\n",
    "**Update 2025-07-31: Fewer mapping failures!**\n",
    "    \n",
    "4 cases where NodeNorm returned None: \n",
    "* OMIM:601884 - [valid ID](https://omim.org/entry/601884), but it doesn't seem to be a disease (previously reviewed, reported to EBI gene2pheno, NodeNorm)\n",
    "* OMIM:133701 - [valid disease ID](https://omim.org/entry/133701), NodeNorm issue\n",
    "* OMIM:133700 - [valid disease ID](https://omim.org/entry/133700), NodeNorm issue (previously reviewed, reported)\n",
    "* OMIM:150800 - [valid disease ID](https://omim.org/entry/150800), NodeNorm issue\n",
    "\n",
    "   \n",
    "1 case where NodeNorm category was something else (currently, always Gene): \n",
    "* OMIM:188400 - [valid disease ID](https://omim.org/entry/188400), NodeNorm error (previously reviewed, reported)\n",
    "    \n",
    "    \n",
    "1 case where NodeNorm didn't have a primary label: \n",
    "* OMIM:621034 - [valid disease ID](https://omim.org/entry/621034), NodeNorm error"
   ]
  },
  {
   "cell_type": "markdown",
   "id": "9048bf0b",
   "metadata": {},
   "source": [
    "<div class=\"alert alert-block alert-success\">\n",
    "\n",
    "**POSSIBLE REVISIT**: Could re-analyze disease_MONDO column data to see if it's more reliable. \n",
    "    \n",
    "**2025-03-28 data:** \n",
    "    \n",
    "I decided <b>not to try using MONDO mappings when the OMIM mapping failed</b>, because there's only a few cases where those rows even have MONDO IDs to use. "
   ]
  },
  {
   "cell_type": "code",
   "execution_count": 44,
   "id": "98f75765",
   "metadata": {
    "ExecuteTime": {
     "end_time": "2025-08-01T00:30:57.825367Z",
     "start_time": "2025-08-01T00:30:57.814339Z"
    }
   },
   "outputs": [
    {
     "data": {
      "text/plain": [
       "(2, 24)"
      ]
     },
     "execution_count": 44,
     "metadata": {},
     "output_type": "execute_result"
    },
    {
     "data": {
      "text/plain": [
       "(0, 24)"
      ]
     },
     "execution_count": 44,
     "metadata": {},
     "output_type": "execute_result"
    },
    {
     "data": {
      "text/plain": [
       "(0, 24)"
      ]
     },
     "execution_count": 44,
     "metadata": {},
     "output_type": "execute_result"
    }
   ],
   "source": [
    "## code used to check how many rows have OMIM failure + MONDO ID \n",
    "\n",
    "df[df[\"disease_mim\"].isin(stats_OmOr_mapping_failures[\"nodenorm_returned_none\"]) & \n",
    "   df[\"disease_MONDO\"].notna()].shape\n",
    "\n",
    "df[df[\"disease_mim\"].isin(stats_OmOr_mapping_failures[\"wrong_category\"].keys()) & \n",
    "   df[\"disease_MONDO\"].notna()].shape\n",
    "\n",
    "df[df[\"disease_mim\"].isin(stats_OmOr_mapping_failures[\"no_label\"]) & \n",
    "   df[\"disease_MONDO\"].notna()].shape"
   ]
  },
  {
   "cell_type": "markdown",
   "id": "913e54f4",
   "metadata": {},
   "source": [
    "#### MONDO"
   ]
  },
  {
   "cell_type": "markdown",
   "id": "b0ddd6ee",
   "metadata": {},
   "source": [
    "__Running MONDO IDs through NodeNorm__\n",
    "\n",
    "Catching potential mapping failures for later stats report\n",
    "\n",
    "Pasted, adjusted from Disease OMIM/orphanet code blocks above."
   ]
  },
  {
   "cell_type": "code",
   "execution_count": 45,
   "id": "c920a622",
   "metadata": {
    "ExecuteTime": {
     "end_time": "2025-08-01T00:31:05.875600Z",
     "start_time": "2025-08-01T00:31:05.870823Z"
    }
   },
   "outputs": [
    {
     "data": {
      "text/plain": [
       "1744"
      ]
     },
     "execution_count": 45,
     "metadata": {},
     "output_type": "execute_result"
    }
   ],
   "source": [
    "## get set of unique CURIEs to put into NodeNorm\n",
    "mondo = df[\"disease_MONDO\"].dropna().unique()\n",
    "len(mondo)"
   ]
  },
  {
   "cell_type": "code",
   "execution_count": 46,
   "id": "673d2dca",
   "metadata": {
    "ExecuteTime": {
     "end_time": "2025-08-01T00:31:06.657776Z",
     "start_time": "2025-08-01T00:31:06.654594Z"
    }
   },
   "outputs": [],
   "source": [
    "mondo_nodenorm_mapping = {}\n",
    "\n",
    "## set up variables to catch mapping failures\n",
    "stats_mondo_mapping_failures = {\n",
    "    \"unexpected_error\": {},\n",
    "    \"nodenorm_returned_none\": [],\n",
    "    \"wrong_category\": {},\n",
    "    \"no_label\": []\n",
    "    \n",
    "}"
   ]
  },
  {
   "cell_type": "code",
   "execution_count": 47,
   "id": "747ab750",
   "metadata": {
    "ExecuteTime": {
     "end_time": "2025-08-01T00:31:12.496460Z",
     "start_time": "2025-08-01T00:31:07.290486Z"
    }
   },
   "outputs": [],
   "source": [
    "## larger batches are quicker\n",
    "for batch in batched(mondo, 1000):\n",
    "    ## returns tuples -> cast to list\n",
    "    req_body = {\n",
    "        \"curies\": list(batch),\n",
    "        \"conflate\": True,\n",
    "    }\n",
    "    r = requests.post(nodenorm_url, json=req_body)\n",
    "    response = r.json()\n",
    "    \n",
    "    ## not doing dict comprehension. allows easier review, logic writing\n",
    "    for k,v in response.items():\n",
    "        ## catch unexpected errors\n",
    "        try:\n",
    "            ## if NodeNorm didn't have info on this ID, v will be None\n",
    "            if v is not None:\n",
    "                ## don't keep mapping if category is not the expected one\n",
    "                if v[\"type\"][0] == \"biolink:Disease\":\n",
    "                    ## also throw out mapping if no primary label found\n",
    "                    if v[\"id\"].get(\"label\"):\n",
    "                        temp = {\n",
    "                            k: {\"primary_id\": v[\"id\"][\"identifier\"],\n",
    "                                \"primary_label\": v[\"id\"][\"label\"]\n",
    "                               }\n",
    "                        }\n",
    "                        mondo_nodenorm_mapping.update(temp)\n",
    "                    else:\n",
    "                        stats_mondo_mapping_failures[\"no_label\"].append(k)\n",
    "#                         print(f\"{k}: NodeNorm didn't find primary label. Not keeping this mapping.\")\n",
    "                else:\n",
    "                    stats_mondo_mapping_failures[\"wrong_category\"].update({k: v[\"type\"][0]})\n",
    "#                     print(f'{k}: NodeNorm found different category {v[\"type\"][0]}. Not keeping this mapping.')\n",
    "            else:\n",
    "                stats_mondo_mapping_failures[\"nodenorm_returned_none\"].append(k)\n",
    "#                 print(f\"{k}: NodeNorm didn't recognize this ID\")\n",
    "        except:\n",
    "            stats_mondo_mapping_failures[\"unexpected_error\"].update({k: v})\n",
    "            print(f'Encountered an unexpected error.')\n",
    "            print(f'NodeNorm response key: {k}')\n",
    "            print(f'NodeNorm response value: {v}')"
   ]
  },
  {
   "cell_type": "code",
   "execution_count": 48,
   "id": "ed2380a5",
   "metadata": {
    "ExecuteTime": {
     "end_time": "2025-08-01T00:31:12.504961Z",
     "start_time": "2025-08-01T00:31:12.499388Z"
    }
   },
   "outputs": [
    {
     "data": {
      "text/plain": [
       "1743"
      ]
     },
     "execution_count": 48,
     "metadata": {},
     "output_type": "execute_result"
    },
    {
     "data": {
      "text/plain": [
       "{'unexpected_error': {},\n",
       " 'nodenorm_returned_none': ['MONDO:0976124'],\n",
       " 'wrong_category': {},\n",
       " 'no_label': []}"
      ]
     },
     "execution_count": 48,
     "metadata": {},
     "output_type": "execute_result"
    }
   ],
   "source": [
    "len(mondo_nodenorm_mapping)\n",
    "\n",
    "stats_mondo_mapping_failures"
   ]
  },
  {
   "cell_type": "markdown",
   "id": "cf6ff618",
   "metadata": {},
   "source": [
    "**2025-06-27:**\n",
    "\n",
    "[MONDO:0976124](https://monarchinitiative.org/MONDO:0976124) is a valid disease ID, so this is a NodeNorm issue. "
   ]
  },
  {
   "cell_type": "code",
   "execution_count": 49,
   "id": "71d34d39",
   "metadata": {
    "ExecuteTime": {
     "end_time": "2025-08-01T00:31:16.645402Z",
     "start_time": "2025-08-01T00:31:16.627773Z"
    }
   },
   "outputs": [
    {
     "data": {
      "text/html": [
       "<div>\n",
       "<style scoped>\n",
       "    .dataframe tbody tr th:only-of-type {\n",
       "        vertical-align: middle;\n",
       "    }\n",
       "\n",
       "    .dataframe tbody tr th {\n",
       "        vertical-align: top;\n",
       "    }\n",
       "\n",
       "    .dataframe thead th {\n",
       "        text-align: right;\n",
       "    }\n",
       "</style>\n",
       "<table border=\"1\" class=\"dataframe\">\n",
       "  <thead>\n",
       "    <tr style=\"text-align: right;\">\n",
       "      <th></th>\n",
       "      <th>g2p_id</th>\n",
       "      <th>gene_symbol</th>\n",
       "      <th>gene_mim</th>\n",
       "      <th>hgnc_id</th>\n",
       "      <th>previous_gene_symbols</th>\n",
       "      <th>disease_name</th>\n",
       "      <th>disease_mim</th>\n",
       "      <th>disease_MONDO</th>\n",
       "      <th>allelic_requirement</th>\n",
       "      <th>cross_cutting_modifier</th>\n",
       "      <th>confidence</th>\n",
       "      <th>variant_consequence</th>\n",
       "      <th>variant_types</th>\n",
       "      <th>molecular_mechanism</th>\n",
       "      <th>molecular_mechanism_support</th>\n",
       "      <th>molecular_mechanism_categorisation</th>\n",
       "      <th>molecular_mechanism_evidence</th>\n",
       "      <th>phenotypes</th>\n",
       "      <th>publications</th>\n",
       "      <th>panel</th>\n",
       "      <th>comments</th>\n",
       "      <th>date_of_last_review</th>\n",
       "      <th>review</th>\n",
       "      <th>g2p_record_url</th>\n",
       "    </tr>\n",
       "  </thead>\n",
       "  <tbody>\n",
       "    <tr>\n",
       "      <th>2381</th>\n",
       "      <td>G2P03584</td>\n",
       "      <td>TCP1</td>\n",
       "      <td>OMIM:186980</td>\n",
       "      <td>HGNC:11655</td>\n",
       "      <td>CCT1; CCTA; D6S230E</td>\n",
       "      <td>TCP1-related neurodevelopmental disorder with ...</td>\n",
       "      <td>NaN</td>\n",
       "      <td>MONDO:0976124</td>\n",
       "      <td>monoallelic_autosomal</td>\n",
       "      <td>typically de novo</td>\n",
       "      <td>moderate</td>\n",
       "      <td>absent gene product; altered gene product stru...</td>\n",
       "      <td>frameshift_variant; missense_variant; stop_gained</td>\n",
       "      <td>loss of function</td>\n",
       "      <td>evidence</td>\n",
       "      <td>destabilising LOF:evidence</td>\n",
       "      <td>39480921 -&gt; functional_alteration: non patient...</td>\n",
       "      <td>NaN</td>\n",
       "      <td>39480921</td>\n",
       "      <td>Developmental disorders</td>\n",
       "      <td>Gene also known as CCT1.</td>\n",
       "      <td>2025-02-27 15:14:14+00:00</td>\n",
       "      <td>NaN</td>\n",
       "      <td>https://www.ebi.ac.uk/gene2phenotype/lgd/G2P03584</td>\n",
       "    </tr>\n",
       "  </tbody>\n",
       "</table>\n",
       "</div>"
      ],
      "text/plain": [
       "        g2p_id gene_symbol     gene_mim     hgnc_id previous_gene_symbols  \\\n",
       "2381  G2P03584        TCP1  OMIM:186980  HGNC:11655   CCT1; CCTA; D6S230E   \n",
       "\n",
       "                                           disease_name disease_mim  \\\n",
       "2381  TCP1-related neurodevelopmental disorder with ...         NaN   \n",
       "\n",
       "      disease_MONDO    allelic_requirement cross_cutting_modifier confidence  \\\n",
       "2381  MONDO:0976124  monoallelic_autosomal      typically de novo   moderate   \n",
       "\n",
       "                                    variant_consequence  \\\n",
       "2381  absent gene product; altered gene product stru...   \n",
       "\n",
       "                                          variant_types molecular_mechanism  \\\n",
       "2381  frameshift_variant; missense_variant; stop_gained    loss of function   \n",
       "\n",
       "     molecular_mechanism_support molecular_mechanism_categorisation  \\\n",
       "2381                    evidence         destabilising LOF:evidence   \n",
       "\n",
       "                           molecular_mechanism_evidence phenotypes  \\\n",
       "2381  39480921 -> functional_alteration: non patient...        NaN   \n",
       "\n",
       "     publications                    panel                  comments  \\\n",
       "2381     39480921  Developmental disorders  Gene also known as CCT1.   \n",
       "\n",
       "           date_of_last_review review  \\\n",
       "2381 2025-02-27 15:14:14+00:00    NaN   \n",
       "\n",
       "                                         g2p_record_url  \n",
       "2381  https://www.ebi.ac.uk/gene2phenotype/lgd/G2P03584  "
      ]
     },
     "execution_count": 49,
     "metadata": {},
     "output_type": "execute_result"
    }
   ],
   "source": [
    "df[df[\"disease_MONDO\"] == \"MONDO:0976124\"]"
   ]
  },
  {
   "cell_type": "markdown",
   "id": "f900c94a",
   "metadata": {},
   "source": [
    "#### Comparing OMIM/orphanet vs MONDO"
   ]
  },
  {
   "cell_type": "markdown",
   "id": "028ecd32",
   "metadata": {},
   "source": [
    "**POSSIBLE REVISIT**: Could re-analyze disease_MONDO column data to see if it's more reliable. "
   ]
  },
  {
   "cell_type": "code",
   "execution_count": 50,
   "id": "2ccd828e",
   "metadata": {
    "ExecuteTime": {
     "end_time": "2025-08-01T00:31:25.446267Z",
     "start_time": "2025-08-01T00:31:25.434499Z"
    }
   },
   "outputs": [
    {
     "name": "stdout",
     "output_type": "stream",
     "text": [
      "There's 45 mismatches between the OMIM/orphanet and MONDO NodeNorm mappings.\n"
     ]
    }
   ],
   "source": [
    "\n",
    "\n",
    "## if row has both IDs, look for diff in mappings from each ID\n",
    "\n",
    "## list of tuples (omim/orpha, mondo)\n",
    "mismatches = []\n",
    "\n",
    "for row in df[[\"disease_mim\", \"disease_MONDO\"]].itertuples(index=False):\n",
    "    ## has both IDs\n",
    "    if pd.notna(row.disease_mim) and pd.notna(row.disease_MONDO):\n",
    "        ## if have NodeNorm mappings for both\n",
    "        if OmOr_nodenorm_mapping.get(row.disease_mim) and \\\n",
    "        mondo_nodenorm_mapping.get(row.disease_MONDO):\n",
    "            ## check if mappings are diff\n",
    "            if OmOr_nodenorm_mapping[row.disease_mim][\"primary_id\"] != \\\n",
    "            mondo_nodenorm_mapping[row.disease_MONDO][\"primary_id\"]:\n",
    "                mismatches.append((row.disease_mim, row.disease_MONDO))\n",
    "\n",
    "print(f\"There's {len(mismatches)} mismatches between the OMIM/orphanet and MONDO NodeNorm mappings.\")"
   ]
  },
  {
   "cell_type": "code",
   "execution_count": 51,
   "id": "d1e6d632",
   "metadata": {
    "ExecuteTime": {
     "end_time": "2025-08-01T00:31:31.139966Z",
     "start_time": "2025-08-01T00:31:31.135855Z"
    }
   },
   "outputs": [
    {
     "data": {
      "text/plain": [
       "('OMIM:257300', 'MONDO:0009759')"
      ]
     },
     "execution_count": 51,
     "metadata": {},
     "output_type": "execute_result"
    }
   ],
   "source": [
    "## code chunk to review mismatches 1 by 1\n",
    "mismatches[0]"
   ]
  },
  {
   "cell_type": "code",
   "execution_count": 52,
   "id": "67e5a562",
   "metadata": {
    "ExecuteTime": {
     "end_time": "2025-08-01T00:31:38.755817Z",
     "start_time": "2025-08-01T00:31:38.750486Z"
    }
   },
   "outputs": [
    {
     "data": {
      "text/plain": [
       "{'primary_id': 'DOID:0080688',\n",
       " 'primary_label': 'mosaic variegated aneuploidy syndrome'}"
      ]
     },
     "execution_count": 52,
     "metadata": {},
     "output_type": "execute_result"
    },
    {
     "data": {
      "text/plain": [
       "{'primary_id': 'MONDO:0009759',\n",
       " 'primary_label': 'mosaic variegated aneuploidy syndrome 1'}"
      ]
     },
     "execution_count": 52,
     "metadata": {},
     "output_type": "execute_result"
    }
   ],
   "source": [
    "## code chunk to review mismatches 1 by 1\n",
    "\n",
    "OmOr_nodenorm_mapping[\"OMIM:257300\"]\n",
    "mondo_nodenorm_mapping[\"MONDO:0009759\"]"
   ]
  },
  {
   "cell_type": "code",
   "execution_count": 53,
   "id": "9523c561",
   "metadata": {
    "ExecuteTime": {
     "end_time": "2025-08-01T00:31:49.632365Z",
     "start_time": "2025-08-01T00:31:49.600007Z"
    },
    "scrolled": false
   },
   "outputs": [
    {
     "data": {
      "text/html": [
       "<div>\n",
       "<style scoped>\n",
       "    .dataframe tbody tr th:only-of-type {\n",
       "        vertical-align: middle;\n",
       "    }\n",
       "\n",
       "    .dataframe tbody tr th {\n",
       "        vertical-align: top;\n",
       "    }\n",
       "\n",
       "    .dataframe thead th {\n",
       "        text-align: right;\n",
       "    }\n",
       "</style>\n",
       "<table border=\"1\" class=\"dataframe\">\n",
       "  <thead>\n",
       "    <tr style=\"text-align: right;\">\n",
       "      <th></th>\n",
       "      <th>g2p_id</th>\n",
       "      <th>gene_symbol</th>\n",
       "      <th>gene_mim</th>\n",
       "      <th>hgnc_id</th>\n",
       "      <th>previous_gene_symbols</th>\n",
       "      <th>disease_name</th>\n",
       "      <th>disease_mim</th>\n",
       "      <th>disease_MONDO</th>\n",
       "      <th>allelic_requirement</th>\n",
       "      <th>cross_cutting_modifier</th>\n",
       "      <th>confidence</th>\n",
       "      <th>variant_consequence</th>\n",
       "      <th>variant_types</th>\n",
       "      <th>molecular_mechanism</th>\n",
       "      <th>molecular_mechanism_support</th>\n",
       "      <th>molecular_mechanism_categorisation</th>\n",
       "      <th>molecular_mechanism_evidence</th>\n",
       "      <th>phenotypes</th>\n",
       "      <th>publications</th>\n",
       "      <th>panel</th>\n",
       "      <th>comments</th>\n",
       "      <th>date_of_last_review</th>\n",
       "      <th>review</th>\n",
       "      <th>g2p_record_url</th>\n",
       "    </tr>\n",
       "  </thead>\n",
       "  <tbody>\n",
       "    <tr>\n",
       "      <th>133</th>\n",
       "      <td>G2P00148</td>\n",
       "      <td>BUB1B</td>\n",
       "      <td>OMIM:602860</td>\n",
       "      <td>HGNC:1149</td>\n",
       "      <td>BUB1A; BUBR1; MAD3L; SSK1</td>\n",
       "      <td>BUB1B-related mosaic variegated aneuploidy syn...</td>\n",
       "      <td>OMIM:257300</td>\n",
       "      <td>MONDO:0009759</td>\n",
       "      <td>biallelic_autosomal</td>\n",
       "      <td>NaN</td>\n",
       "      <td>definitive</td>\n",
       "      <td>absent gene product</td>\n",
       "      <td>NaN</td>\n",
       "      <td>loss of function</td>\n",
       "      <td>inferred</td>\n",
       "      <td>NaN</td>\n",
       "      <td>NaN</td>\n",
       "      <td>HP:0000007; HP:0000028; HP:0000047; HP:0000048...</td>\n",
       "      <td>11169558; 15475955; 16411201; 21190457; 9916837</td>\n",
       "      <td>Developmental disorders; Eye disorders</td>\n",
       "      <td>NaN</td>\n",
       "      <td>2017-08-11 17:38:45+00:00</td>\n",
       "      <td>NaN</td>\n",
       "      <td>https://www.ebi.ac.uk/gene2phenotype/lgd/G2P00148</td>\n",
       "    </tr>\n",
       "  </tbody>\n",
       "</table>\n",
       "</div>"
      ],
      "text/plain": [
       "       g2p_id gene_symbol     gene_mim    hgnc_id      previous_gene_symbols  \\\n",
       "133  G2P00148       BUB1B  OMIM:602860  HGNC:1149  BUB1A; BUBR1; MAD3L; SSK1   \n",
       "\n",
       "                                          disease_name  disease_mim  \\\n",
       "133  BUB1B-related mosaic variegated aneuploidy syn...  OMIM:257300   \n",
       "\n",
       "     disease_MONDO  allelic_requirement cross_cutting_modifier  confidence  \\\n",
       "133  MONDO:0009759  biallelic_autosomal                    NaN  definitive   \n",
       "\n",
       "     variant_consequence variant_types molecular_mechanism  \\\n",
       "133  absent gene product           NaN    loss of function   \n",
       "\n",
       "    molecular_mechanism_support molecular_mechanism_categorisation  \\\n",
       "133                    inferred                                NaN   \n",
       "\n",
       "    molecular_mechanism_evidence  \\\n",
       "133                          NaN   \n",
       "\n",
       "                                            phenotypes  \\\n",
       "133  HP:0000007; HP:0000028; HP:0000047; HP:0000048...   \n",
       "\n",
       "                                        publications  \\\n",
       "133  11169558; 15475955; 16411201; 21190457; 9916837   \n",
       "\n",
       "                                      panel comments  \\\n",
       "133  Developmental disorders; Eye disorders      NaN   \n",
       "\n",
       "          date_of_last_review review  \\\n",
       "133 2017-08-11 17:38:45+00:00    NaN   \n",
       "\n",
       "                                        g2p_record_url  \n",
       "133  https://www.ebi.ac.uk/gene2phenotype/lgd/G2P00148  "
      ]
     },
     "execution_count": 53,
     "metadata": {},
     "output_type": "execute_result"
    },
    {
     "data": {
      "text/html": [
       "<div>\n",
       "<style scoped>\n",
       "    .dataframe tbody tr th:only-of-type {\n",
       "        vertical-align: middle;\n",
       "    }\n",
       "\n",
       "    .dataframe tbody tr th {\n",
       "        vertical-align: top;\n",
       "    }\n",
       "\n",
       "    .dataframe thead th {\n",
       "        text-align: right;\n",
       "    }\n",
       "</style>\n",
       "<table border=\"1\" class=\"dataframe\">\n",
       "  <thead>\n",
       "    <tr style=\"text-align: right;\">\n",
       "      <th></th>\n",
       "      <th>g2p_id</th>\n",
       "      <th>gene_symbol</th>\n",
       "      <th>gene_mim</th>\n",
       "      <th>hgnc_id</th>\n",
       "      <th>previous_gene_symbols</th>\n",
       "      <th>disease_name</th>\n",
       "      <th>disease_mim</th>\n",
       "      <th>disease_MONDO</th>\n",
       "      <th>allelic_requirement</th>\n",
       "      <th>cross_cutting_modifier</th>\n",
       "      <th>confidence</th>\n",
       "      <th>variant_consequence</th>\n",
       "      <th>variant_types</th>\n",
       "      <th>molecular_mechanism</th>\n",
       "      <th>molecular_mechanism_support</th>\n",
       "      <th>molecular_mechanism_categorisation</th>\n",
       "      <th>molecular_mechanism_evidence</th>\n",
       "      <th>phenotypes</th>\n",
       "      <th>publications</th>\n",
       "      <th>panel</th>\n",
       "      <th>comments</th>\n",
       "      <th>date_of_last_review</th>\n",
       "      <th>review</th>\n",
       "      <th>g2p_record_url</th>\n",
       "    </tr>\n",
       "  </thead>\n",
       "  <tbody>\n",
       "    <tr>\n",
       "      <th>133</th>\n",
       "      <td>G2P00148</td>\n",
       "      <td>BUB1B</td>\n",
       "      <td>OMIM:602860</td>\n",
       "      <td>HGNC:1149</td>\n",
       "      <td>BUB1A; BUBR1; MAD3L; SSK1</td>\n",
       "      <td>BUB1B-related mosaic variegated aneuploidy syn...</td>\n",
       "      <td>OMIM:257300</td>\n",
       "      <td>MONDO:0009759</td>\n",
       "      <td>biallelic_autosomal</td>\n",
       "      <td>NaN</td>\n",
       "      <td>definitive</td>\n",
       "      <td>absent gene product</td>\n",
       "      <td>NaN</td>\n",
       "      <td>loss of function</td>\n",
       "      <td>inferred</td>\n",
       "      <td>NaN</td>\n",
       "      <td>NaN</td>\n",
       "      <td>HP:0000007; HP:0000028; HP:0000047; HP:0000048...</td>\n",
       "      <td>11169558; 15475955; 16411201; 21190457; 9916837</td>\n",
       "      <td>Developmental disorders; Eye disorders</td>\n",
       "      <td>NaN</td>\n",
       "      <td>2017-08-11 17:38:45+00:00</td>\n",
       "      <td>NaN</td>\n",
       "      <td>https://www.ebi.ac.uk/gene2phenotype/lgd/G2P00148</td>\n",
       "    </tr>\n",
       "  </tbody>\n",
       "</table>\n",
       "</div>"
      ],
      "text/plain": [
       "       g2p_id gene_symbol     gene_mim    hgnc_id      previous_gene_symbols  \\\n",
       "133  G2P00148       BUB1B  OMIM:602860  HGNC:1149  BUB1A; BUBR1; MAD3L; SSK1   \n",
       "\n",
       "                                          disease_name  disease_mim  \\\n",
       "133  BUB1B-related mosaic variegated aneuploidy syn...  OMIM:257300   \n",
       "\n",
       "     disease_MONDO  allelic_requirement cross_cutting_modifier  confidence  \\\n",
       "133  MONDO:0009759  biallelic_autosomal                    NaN  definitive   \n",
       "\n",
       "     variant_consequence variant_types molecular_mechanism  \\\n",
       "133  absent gene product           NaN    loss of function   \n",
       "\n",
       "    molecular_mechanism_support molecular_mechanism_categorisation  \\\n",
       "133                    inferred                                NaN   \n",
       "\n",
       "    molecular_mechanism_evidence  \\\n",
       "133                          NaN   \n",
       "\n",
       "                                            phenotypes  \\\n",
       "133  HP:0000007; HP:0000028; HP:0000047; HP:0000048...   \n",
       "\n",
       "                                        publications  \\\n",
       "133  11169558; 15475955; 16411201; 21190457; 9916837   \n",
       "\n",
       "                                      panel comments  \\\n",
       "133  Developmental disorders; Eye disorders      NaN   \n",
       "\n",
       "          date_of_last_review review  \\\n",
       "133 2017-08-11 17:38:45+00:00    NaN   \n",
       "\n",
       "                                        g2p_record_url  \n",
       "133  https://www.ebi.ac.uk/gene2phenotype/lgd/G2P00148  "
      ]
     },
     "execution_count": 53,
     "metadata": {},
     "output_type": "execute_result"
    }
   ],
   "source": [
    "## code chunk to review mismatches 1 by 1\n",
    "\n",
    "df[df[\"disease_mim\"] == \"OMIM:257300\"]\n",
    "df[df[\"disease_MONDO\"] == \"MONDO:0009759\"]"
   ]
  },
  {
   "cell_type": "markdown",
   "id": "a6f81213",
   "metadata": {
    "ExecuteTime": {
     "end_time": "2025-03-29T06:19:08.679605Z",
     "start_time": "2025-03-29T06:19:08.670116Z"
    }
   },
   "source": [
    "<div class=\"alert alert-block alert-info\">    \n",
    "\n",
    "**2025-02-28 data:** \n",
    "\n",
    "__Review of OMIM vs MONDO NodeNorm mismatches (22)__\n",
    "\n",
    "None were orphanet.    \n",
    "    \n",
    "---\n",
    "\n",
    "__19: OMIM's mapping is better__\n",
    "\n",
    "> __6: Mondo ID is related but wrong__ -> emailed EBI gene2pheno w/ example\n",
    "> * 'OMIM:243310', 'MONDO:0013812': omim is correct syndrome 1, but mondo is syndrome 2 (diff gene)\n",
    "> * 'OMIM:613575', 'MONDO:0044314': omim is correct 55, but mondo is 78 (diff gene)\n",
    "> * 'OMIM:101000', 'MONDO:0008075': omim is correct type of schwannomatosis (NF2/type 2), vs mondo is a sibling. \n",
    ">   * NodeNorm should map omim to MONDO:0007039 but isn't -> messaged NodeNorm\n",
    "> * 'OMIM:613987', __'MONDO:0009136'__: omim is correct recessive 2, but mondo is recessive 1 (diff gene? Confusing because Monarch page links to gene NHP2 but OMIM page doesn't)\n",
    ">   * NodeNorm should map omim to MONDO:0013519 but isn't -> messaged NodeNorm  \n",
    "> * 'OMIM:613988', 'MONDO:0009136': omim is correct recessive 3, but mondo is recessive 1 (diff gene)\n",
    ">   * NodeNorm should map omim to MONDO:0013520 but isn't -> messaged NodeNorm\n",
    "> * 'OMIM:616353', 'MONDO:0009136': omim is correct recessive 6, but mondo is recessive 1 (diff gene)\n",
    ">   * NodeNorm should map omim to MONDO:0014600 but isn't -> messaged NodeNorm\n",
    "\n",
    "> __13: Mondo ID is too general__ (can see on Monarch website) -> emailed EBI gene2pheno w/ example\n",
    "> * 'OMIM:300696', 'MONDO:0010680': omim maps to MONDO:0010401, child of the mondo\n",
    "> * 'OMIM:304120', 'MONDO:0019027': omim maps to MONDO:0010571 (syndrome type 2), child of the mondo (syndrome)\n",
    "> * 'OMIM:610019', 'MONDO:0005129': omim maps to MONDO:0012395 (cataract 18), child of the mondo (cataract)\n",
    "> * 'OMIM:611726', 'MONDO:0016295': omim maps to MONDO:0012721, child of the mondo \n",
    "> * 'OMIM:602668', 'MONDO:0016107': omim maps to MONDO:0011266 (type 2), child of the mondo\n",
    "> * 'OMIM:203200', 'MONDO:0018910': omim maps to MONDO:0008746 (type 2), child of the mondo\n",
    "> * 'OMIM:614328', 'MONDO:0017411': omim maps to MONDO:0013693 (type 1), child of the mondo\n",
    "> * 'OMIM:175800', 'MONDO:0006602': omim maps to MONDO:0008290 (1, mibelli type), grandchild of the mondo\n",
    "> * 'OMIM:614073', **'MONDO:0019312'**: omim maps to MONDO:0013556 (syndrome 4), child of the mondo (syndrome)\n",
    "> * 'OMIM:614074', 'MONDO:0019312': omim maps to MONDO:0013557 (syndrome 5), child of the mondo (syndrome)\n",
    "> * 'OMIM:614075', 'MONDO:0019312': omim maps to MONDO:0013558 (syndrome 6), child of the mondo (syndrome)\n",
    "> * 'OMIM:614076', 'MONDO:0019312': omim maps to MONDO:0013559 (syndrome 7), child of the mondo (syndrome)\n",
    "> * 'OMIM:614077', 'MONDO:0019312': omim maps to MONDO:0013560 (syndrome 8), child of the mondo (syndrome)\n",
    "\n",
    "    \n",
    "**1: MONDO's mapping is better**\n",
    "<br>\n",
    "Omim ID is slightly off -> __TELL EBI GENE2PHENO?__\n",
    "* 'OMIM:613723', 'MONDO:0009181': mondo matches the disease name and phenotypes listed in the record better than the omim \n",
    "\n",
    "\n",
    "**1: Unsure**\n",
    "* 'OMIM:158350', 'MONDO:0017623': omim is for Cowden syndrome 1, mondo is for PTEN hamartoma tumor syndrome. These are very similar, so I'm not sure which one is better. -> __TELL EBI GENE2PHENO?__\n",
    "  * There's also another record w/ just the OMIM ID. I think the two rows should be merged. -> __TELL EBI GENE2PHENO?__\n",
    "\n",
    "\n",
    "**1: NodeNorm error** -> messaged NodeNorm\n",
    "* 'OMIM:224230', 'MONDO:0009136': both are recessive 1, NodeNorm should map to same entity\n",
    "\n",
    "**Other rows reviewed:**\n",
    "* 'OMIM:614583', 'MONDO:0013812': map to same correct entity"
   ]
  },
  {
   "cell_type": "markdown",
   "id": "2becfcf1",
   "metadata": {},
   "source": [
    "**2025-02-28 data:** \n",
    "\n",
    "The prelim decision is to use disease OMIM/orphanet IDs because:\n",
    "* less missing values\n",
    "* more accurate in cases where there's also a MONDO ID"
   ]
  },
  {
   "cell_type": "markdown",
   "id": "229aed57",
   "metadata": {},
   "source": [
    "#### Checking MONDO data"
   ]
  },
  {
   "cell_type": "markdown",
   "id": "025b4397",
   "metadata": {},
   "source": [
    "Above, I decided the OMIM/orphanet disease IDs were better. \n",
    "\n",
    "However, I wondered if the MONDO IDs were accurate to the disease name when there weren't OMIM/orphanet IDs. Then they could be used for NodeNorming and less data would be dropped because it wasn't pre-NodeNormed. "
   ]
  },
  {
   "cell_type": "code",
   "execution_count": 54,
   "id": "b57b6cf6",
   "metadata": {
    "ExecuteTime": {
     "end_time": "2025-08-01T00:32:12.070050Z",
     "start_time": "2025-08-01T00:32:12.065140Z"
    }
   },
   "outputs": [],
   "source": [
    "## get the data that has MONDO, doesn't have OMIM/orphanet\n",
    "\n",
    "df_mondo_only = df[df[\"disease_mim\"].isna() & df[\"disease_MONDO\"].notna()].copy()\n",
    "\n",
    "mondo_only = df_mondo_only[\"disease_MONDO\"].dropna().unique()"
   ]
  },
  {
   "cell_type": "code",
   "execution_count": 55,
   "id": "4e8daf83",
   "metadata": {
    "ExecuteTime": {
     "end_time": "2025-08-01T00:32:12.681002Z",
     "start_time": "2025-08-01T00:32:12.675513Z"
    }
   },
   "outputs": [
    {
     "data": {
      "text/plain": [
       "295"
      ]
     },
     "execution_count": 55,
     "metadata": {},
     "output_type": "execute_result"
    },
    {
     "data": {
      "text/plain": [
       "181"
      ]
     },
     "execution_count": 55,
     "metadata": {},
     "output_type": "execute_result"
    }
   ],
   "source": [
    "## saving stats on data with only MONDO ID\n",
    "\n",
    "stats_mondo_only = {\n",
    "    \"n_rows\": df_mondo_only.shape[0],\n",
    "    \"n_names\": len(mondo_only)\n",
    "}\n",
    "\n",
    "stats_mondo_only[\"n_rows\"]\n",
    "stats_mondo_only[\"n_names\"]"
   ]
  },
  {
   "cell_type": "code",
   "execution_count": 56,
   "id": "0b66bd98",
   "metadata": {
    "ExecuteTime": {
     "end_time": "2025-08-01T00:32:14.297675Z",
     "start_time": "2025-08-01T00:32:14.278212Z"
    }
   },
   "outputs": [
    {
     "data": {
      "text/html": [
       "<div>\n",
       "<style scoped>\n",
       "    .dataframe tbody tr th:only-of-type {\n",
       "        vertical-align: middle;\n",
       "    }\n",
       "\n",
       "    .dataframe tbody tr th {\n",
       "        vertical-align: top;\n",
       "    }\n",
       "\n",
       "    .dataframe thead th {\n",
       "        text-align: right;\n",
       "    }\n",
       "</style>\n",
       "<table border=\"1\" class=\"dataframe\">\n",
       "  <thead>\n",
       "    <tr style=\"text-align: right;\">\n",
       "      <th></th>\n",
       "      <th>g2p_id</th>\n",
       "      <th>gene_symbol</th>\n",
       "      <th>gene_mim</th>\n",
       "      <th>hgnc_id</th>\n",
       "      <th>previous_gene_symbols</th>\n",
       "      <th>disease_name</th>\n",
       "      <th>disease_mim</th>\n",
       "      <th>disease_MONDO</th>\n",
       "      <th>allelic_requirement</th>\n",
       "      <th>cross_cutting_modifier</th>\n",
       "      <th>confidence</th>\n",
       "      <th>variant_consequence</th>\n",
       "      <th>variant_types</th>\n",
       "      <th>molecular_mechanism</th>\n",
       "      <th>molecular_mechanism_support</th>\n",
       "      <th>molecular_mechanism_categorisation</th>\n",
       "      <th>molecular_mechanism_evidence</th>\n",
       "      <th>phenotypes</th>\n",
       "      <th>publications</th>\n",
       "      <th>panel</th>\n",
       "      <th>comments</th>\n",
       "      <th>date_of_last_review</th>\n",
       "      <th>review</th>\n",
       "      <th>g2p_record_url</th>\n",
       "    </tr>\n",
       "  </thead>\n",
       "  <tbody>\n",
       "    <tr>\n",
       "      <th>253</th>\n",
       "      <td>G2P00284</td>\n",
       "      <td>ALPL</td>\n",
       "      <td>OMIM:171760</td>\n",
       "      <td>HGNC:438</td>\n",
       "      <td>HOPS; TNALP; TNAP; TNSALP</td>\n",
       "      <td>ALPL-related hypophosphatasia</td>\n",
       "      <td>NaN</td>\n",
       "      <td>MONDO:0018570</td>\n",
       "      <td>biallelic_autosomal</td>\n",
       "      <td>NaN</td>\n",
       "      <td>definitive</td>\n",
       "      <td>altered gene product structure</td>\n",
       "      <td>inframe_deletion; inframe_insertion; missense_...</td>\n",
       "      <td>undetermined</td>\n",
       "      <td>inferred</td>\n",
       "      <td>NaN</td>\n",
       "      <td>NaN</td>\n",
       "      <td>HP:0000007; HP:0000121; HP:0000164; HP:0000592...</td>\n",
       "      <td>3174660</td>\n",
       "      <td>Developmental disorders; Skeletal disorders</td>\n",
       "      <td>NaN</td>\n",
       "      <td>2025-01-29 08:10:33+00:00</td>\n",
       "      <td>NaN</td>\n",
       "      <td>https://www.ebi.ac.uk/gene2phenotype/lgd/G2P00284</td>\n",
       "    </tr>\n",
       "    <tr>\n",
       "      <th>1752</th>\n",
       "      <td>G2P02554</td>\n",
       "      <td>PRRX1</td>\n",
       "      <td>OMIM:167420</td>\n",
       "      <td>HGNC:9142</td>\n",
       "      <td>PHOX1; PMX1</td>\n",
       "      <td>PRRX1-related craniosynostosis</td>\n",
       "      <td>NaN</td>\n",
       "      <td>MONDO:0015469</td>\n",
       "      <td>monoallelic_autosomal</td>\n",
       "      <td>NaN</td>\n",
       "      <td>moderate</td>\n",
       "      <td>altered gene product structure; decreased gene...</td>\n",
       "      <td>frameshift_variant; missense_variant; stop_gained</td>\n",
       "      <td>undetermined</td>\n",
       "      <td>inferred</td>\n",
       "      <td>NaN</td>\n",
       "      <td>NaN</td>\n",
       "      <td>HP:0001363</td>\n",
       "      <td>37154149</td>\n",
       "      <td>Developmental disorders; Skeletal disorders</td>\n",
       "      <td>NaN</td>\n",
       "      <td>2024-03-22 10:30:40+00:00</td>\n",
       "      <td>NaN</td>\n",
       "      <td>https://www.ebi.ac.uk/gene2phenotype/lgd/G2P02554</td>\n",
       "    </tr>\n",
       "    <tr>\n",
       "      <th>2407</th>\n",
       "      <td>G2P03725</td>\n",
       "      <td>MIR140</td>\n",
       "      <td>OMIM:611894</td>\n",
       "      <td>HGNC:31527</td>\n",
       "      <td>MIRN140</td>\n",
       "      <td>MIR140-related spondyloepiphyseal dysplasia, N...</td>\n",
       "      <td>NaN</td>\n",
       "      <td>MONDO:0032835</td>\n",
       "      <td>monoallelic_autosomal</td>\n",
       "      <td>NaN</td>\n",
       "      <td>moderate</td>\n",
       "      <td>altered gene product structure</td>\n",
       "      <td>non_coding_transcript_variant</td>\n",
       "      <td>gain of function</td>\n",
       "      <td>evidence</td>\n",
       "      <td>local LOF leading to overall GOF:evidence</td>\n",
       "      <td>30804514 -&gt; function: protein expression; func...</td>\n",
       "      <td>HP:0001156; HP:0002652; HP:0002655; HP:0002663...</td>\n",
       "      <td>30804514</td>\n",
       "      <td>Developmental disorders; Skeletal disorders</td>\n",
       "      <td>NaN</td>\n",
       "      <td>2025-05-07 10:53:46+00:00</td>\n",
       "      <td>NaN</td>\n",
       "      <td>https://www.ebi.ac.uk/gene2phenotype/lgd/G2P03725</td>\n",
       "    </tr>\n",
       "  </tbody>\n",
       "</table>\n",
       "</div>"
      ],
      "text/plain": [
       "        g2p_id gene_symbol     gene_mim     hgnc_id  \\\n",
       "253   G2P00284        ALPL  OMIM:171760    HGNC:438   \n",
       "1752  G2P02554       PRRX1  OMIM:167420   HGNC:9142   \n",
       "2407  G2P03725      MIR140  OMIM:611894  HGNC:31527   \n",
       "\n",
       "          previous_gene_symbols  \\\n",
       "253   HOPS; TNALP; TNAP; TNSALP   \n",
       "1752                PHOX1; PMX1   \n",
       "2407                    MIRN140   \n",
       "\n",
       "                                           disease_name disease_mim  \\\n",
       "253                       ALPL-related hypophosphatasia         NaN   \n",
       "1752                     PRRX1-related craniosynostosis         NaN   \n",
       "2407  MIR140-related spondyloepiphyseal dysplasia, N...         NaN   \n",
       "\n",
       "      disease_MONDO    allelic_requirement cross_cutting_modifier  confidence  \\\n",
       "253   MONDO:0018570    biallelic_autosomal                    NaN  definitive   \n",
       "1752  MONDO:0015469  monoallelic_autosomal                    NaN    moderate   \n",
       "2407  MONDO:0032835  monoallelic_autosomal                    NaN    moderate   \n",
       "\n",
       "                                    variant_consequence  \\\n",
       "253                      altered gene product structure   \n",
       "1752  altered gene product structure; decreased gene...   \n",
       "2407                     altered gene product structure   \n",
       "\n",
       "                                          variant_types molecular_mechanism  \\\n",
       "253   inframe_deletion; inframe_insertion; missense_...        undetermined   \n",
       "1752  frameshift_variant; missense_variant; stop_gained        undetermined   \n",
       "2407                      non_coding_transcript_variant    gain of function   \n",
       "\n",
       "     molecular_mechanism_support         molecular_mechanism_categorisation  \\\n",
       "253                     inferred                                        NaN   \n",
       "1752                    inferred                                        NaN   \n",
       "2407                    evidence  local LOF leading to overall GOF:evidence   \n",
       "\n",
       "                           molecular_mechanism_evidence  \\\n",
       "253                                                 NaN   \n",
       "1752                                                NaN   \n",
       "2407  30804514 -> function: protein expression; func...   \n",
       "\n",
       "                                             phenotypes publications  \\\n",
       "253   HP:0000007; HP:0000121; HP:0000164; HP:0000592...      3174660   \n",
       "1752                                         HP:0001363     37154149   \n",
       "2407  HP:0001156; HP:0002652; HP:0002655; HP:0002663...     30804514   \n",
       "\n",
       "                                            panel comments  \\\n",
       "253   Developmental disorders; Skeletal disorders      NaN   \n",
       "1752  Developmental disorders; Skeletal disorders      NaN   \n",
       "2407  Developmental disorders; Skeletal disorders      NaN   \n",
       "\n",
       "           date_of_last_review review  \\\n",
       "253  2025-01-29 08:10:33+00:00    NaN   \n",
       "1752 2024-03-22 10:30:40+00:00    NaN   \n",
       "2407 2025-05-07 10:53:46+00:00    NaN   \n",
       "\n",
       "                                         g2p_record_url  \n",
       "253   https://www.ebi.ac.uk/gene2phenotype/lgd/G2P00284  \n",
       "1752  https://www.ebi.ac.uk/gene2phenotype/lgd/G2P02554  \n",
       "2407  https://www.ebi.ac.uk/gene2phenotype/lgd/G2P03725  "
      ]
     },
     "execution_count": 56,
     "metadata": {},
     "output_type": "execute_result"
    }
   ],
   "source": [
    "## code chunk used to review some of the data\n",
    "\n",
    "# df_mondo_only[df_mondo_only[\"disease_MONDO\"] == mondo_only[240]]\n",
    "\n",
    "df_mondo_only[df_mondo_only[\"panel\"].str.contains(\"Skeletal\", na=False)]"
   ]
  },
  {
   "cell_type": "markdown",
   "id": "fc3f5864",
   "metadata": {},
   "source": [
    "<div class=\"alert alert-block alert-info\">    \n",
    "\n",
    "**2025-02-28 data:** \n",
    "\n",
    "__Reviewed some of the data__\n",
    "\n",
    "Method: look at individual MONDO IDs. Covered all panels (only 1 skeletal, no hearing). 3 from earlier review (related to mismatches) + idx 0-240, step 10 + skeletal. \n",
    "    \n",
    "__Summary__\n",
    "* 37 rows (29 unique MONDO)\n",
    "* __~16%__ were wrong (6/37) \n",
    "* Could tell EBI gene2pheno of issues but they are similar to those listed in mismatch mapping section"
   ]
  },
  {
   "cell_type": "markdown",
   "id": "36d795ed",
   "metadata": {},
   "source": [
    "__Details__\n",
    "\n",
    "__6 MONDO is related but wrong__\n",
    "* \"MONDO:0009136\" for \"RTEL1-related dyskeratosis congenita\" (two rows): mondo is recessive 1, which is wrong. Should be recessive 5 MONDO:0014076/OMIM:615190 (old/synonym name is dominant 4) \n",
    "* \"MONDO:0044314\" for 4 rows \"CLN3-related retinal dystrophy\", \"GUCA1B-\", \"PRPS1-\", \"SNRNP200-\": mondo is type 78 (specifically for ARHGEF18), which is wrong. Should instead be:\n",
    "  * CLN3 and PRPS1: a more general term like MONDO:0004580 (retinal degeneration) -> MONDO:0019118 (inherited retinal dystrophy) -> MONDO:0019200 (retinitis pigmentosa)\n",
    "  * GUCA1B: type 48, MONDO:0013447\n",
    "  * SNRNP200: type 33, MONDO:0012477\n",
    "* \"MONDO:0013522\" for \"TERC-related dyskeratosis congenita\": mondo is for type 3 (specifically for TINF2, that row is in \"Great\" section). Should be type 1 MONDO:0007485/OMIM:127550. (confusing because Monarch's page of type 1 includes TINF2 and TERT too, but OMIM page only includes TERC)\n",
    "\n",
    "\n",
    "__4 MONDO is too general__ \n",
    "* \"MONDO:0020341\" (periventricular nodular heterotopia) for \"ERMARD-related periventricular heterotopia\". The ERMARD-specific version is a child term: MONDO:0014240/OMIM:615544 (type 6)\n",
    "* \"MONDO:0018965\" (Alport syndrome) for \"COL4A5-related Alport syndrome\". The COL4A5-specific version is a child term: MONDO:0010520/OMIM:301050  (X-linked)\n",
    "* \"MONDO:0024676\" for \"REST-related Wilms tumour\": The REST-specific version is a **related** term: MONDO:0014779/OMIM:616806 (type 6)\n",
    "* \"MONDO:0011773\" for \"POP1-related anauxetic dysplasia\": the POP1-specific version is a child term: MONDO:0054561/OMIM:617396 (type 2)\n",
    "\n",
    "\n",
    "__4 Unsure -> TELL EBI GENE2PHENO?__\n",
    "* \"MONDO:0005129\" for \"CYP51A1-related congenital cataract\": mondo is cataract, which is not wrong but kinda general. MONDO:0033853 seems better (correlated with gene, matches phenotypes, orphanet ref uses one of the ref papers) \n",
    "* \"MONDO:0018869\" for \"TMTC3-related cobblestone lissencephaly\": while the mondo (cobblestone lissencephaly) sounds correct, it isn't linked to this gene. VS another sibling disease is linked to the gene, matches phenotypes, uses same paper: MONDO:0014992/OMIM:617255 (lissencephaly 8)\n",
    "* \"MONDO:0100100\" for \"SELENON-related myopathy\": while mondo has exact name match, it's not directly linked to gene. Instead, its child disease is directly linked to gene MONDO:0011271/OMIM:602771 (rigid spine muscular dystrophy 1)\n",
    "* \"MONDO:0020367\" for \"MYOC-related juvenile open angle glaucoma\": while mondo is almost-exact name match, it's not directly linked to gene. Instead, its child disease is directly linked to gene MONDO:0007664/OMIM:137750 (glaucoma 1, open angle, A) \n",
    "\n",
    "\n",
    "__5 Okay (using general term is fine)__\n",
    "* \"MONDO:0005129\" for 3 other rows \"WDR87-related congenital cataract\", \"AKR1E2-\", \"MFSD6L-\": couldn't find better mappings. \n",
    "* \"MONDO:0015469\" for \"DHRS3 related craniosynostosis\": couldn't find better mapping\n",
    "* \"MONDO:0024676\" (childhood kidney Wilms tumor) for \"CTR9-related Wilms tumour\", \"TRIM28-\": couldn't find better mapping. TRIM28 is correlated to parent term (kidney Wilms tumor). \n",
    "\n",
    "\n",
    "__18 Great__\n",
    "* \"MONDO:0012506\" for \"DSC2-related arrhythmogenic right ventricular cardiomyopathy\"\n",
    "* \"MONDO:0011001\" for \"SCN5A-related Brugada syndrome\"\n",
    "* \"MONDO:0013262\" for \"MYH7-related dilated cardiomyopathy\"\n",
    "* \"MONDO:0013369\" for \"TNNI3-related hypertrophic cardiomyopathy\"\n",
    "* \"MONDO:0010946\" for \"PRKAG2-related cardiomyopathy\"\n",
    "* \"MONDO:0014143\" for \"RIT1-related Noonan syndrome\"\n",
    "* \"MONDO:0010015\" for \"PXDN-related anterior segment dysgenesis with sclerocornea\"\n",
    "* \"MONDO:0014214\" for \"DYNC2I1-related short-rib polydactyly\"\n",
    "* \"MONDO:0013522\" for \"TINF2-related dyskeratosis congenita\"\n",
    "* \"MONDO:0032876\" for \"WASF1-related intellectual disability with seizures\"\n",
    "* \"MONDO:0859164\" for \"UNC45A-related osteootohepatoenteric syndrome\"\n",
    "* \"MONDO:0018772\" for \"SLC30A7-related Joubert syndrome\": using general term is fine since there isn't any established subtype of Joubert syndrome for this gene\n",
    "* \"MONDO:0010215\" for \"ERCC4-related xeroderma pigmentosum, group F\"\n",
    "* \"MONDO:0009735\" for \"SPINK5-related Netherton syndrome\"\n",
    "* \"MONDO:0007808\" for \"KRT1-related ichthyosis hystrix, Curth-Macklin type\"\n",
    "* \"MONDO:0007566\" for \"TGFBR1-related multiple self-healing squamous epithelioma\"\n",
    "* \"MONDO:0008285\" for \"PDGFRA-related gastrointestinal stromal tumor/GIST-plus syndrome, somatic or familial\"\n",
    "* \"MONDO:0010912\" for \"TUBB3-related fibrosis of extraocular muscles, congenital\""
   ]
  },
  {
   "cell_type": "markdown",
   "id": "a29eccf5",
   "metadata": {},
   "source": [
    "#### Conclusions"
   ]
  },
  {
   "cell_type": "markdown",
   "id": "931ad893",
   "metadata": {},
   "source": [
    "<div class=\"alert alert-block alert-success\">\n",
    "\n",
    "**2025-02-28 data:** \n",
    "    \n",
    "__Exploration__\n",
    "\n",
    "* some rows have no disease IDs\n",
    "* a few NodeNorm mapping failures for OMIM IDs (several diff kinds): ~2.8%. 68 failures / (2401 unique values in column - 9 orphanet)\n",
    "  * no NodeNorm mapping failures for MONDO IDs\n",
    "* when rows have both OMIM and MONDO IDs, there are sometimes differences in NodeNorm mapping (\"mismatches\"). __In these cases, OMIM IDs were much more accurate__\n",
    "* __MONDO IDs can be inaccurate__ - see the blue review boxes\n",
    "  * VS it was much rarer to find an inaccurate OMIM ID mapping (found 1 case)\n",
    "\n",
    "\n",
    "__Decision: Use OMIM ID column to generate NodeNorm values__\n",
    "\n",
    "* less missing values\n",
    "* seems to be more accurate (for successful NodeNorm mappings)"
   ]
  },
  {
   "cell_type": "markdown",
   "id": "9d69e637",
   "metadata": {},
   "source": [
    "## Stats on rows removed during NodeNorming"
   ]
  },
  {
   "cell_type": "markdown",
   "id": "d25bd6ed",
   "metadata": {},
   "source": [
    "This section prints the statistics on rows in the original data that were removed. \n",
    "\n",
    "(Uses variables generated during the previous section \"Pre-NodeNorming\")"
   ]
  },
  {
   "cell_type": "markdown",
   "id": "e687d839",
   "metadata": {},
   "source": [
    "<div class=\"alert alert-block alert-success\">\n",
    "\n",
    "**2025-03-28 data:** \n",
    "\n",
    "Genes: No rows removed due to lack of IDs for NodeNorming or NodeNorm mapping issues."
   ]
  },
  {
   "cell_type": "code",
   "execution_count": 57,
   "id": "801a10f8",
   "metadata": {
    "ExecuteTime": {
     "end_time": "2025-08-01T00:32:25.822119Z",
     "start_time": "2025-08-01T00:32:25.817756Z"
    }
   },
   "outputs": [
    {
     "name": "stdout",
     "output_type": "stream",
     "text": [
      "Gene Pre-NodeNorming\n",
      "\n",
      "0 row(s) with no gene IDs\n",
      "0 row(s) with no HGNC IDs\n",
      "\n",
      "\n",
      "HGNC NodeNorm mapping failures:\n",
      "IDs with no data in NodeNorm: 0\n",
      "IDs with the wrong NodeNormed category: 0\n",
      "IDs with no label in NodeNorm: 0\n"
     ]
    }
   ],
   "source": [
    "## partial put into parser (format): DONE\n",
    "\n",
    "print(\"Gene Pre-NodeNorming\\n\")\n",
    "\n",
    "## no gene IDs\n",
    "print(f'{stats_no_gene_IDs[\"n_rows\"]} row(s) with no gene IDs')\n",
    "\n",
    "## no HGNC IDs: key column for NodeNorming\n",
    "print(f'{n_rows_no_hgnc} row(s) with no HGNC IDs')\n",
    "\n",
    "## HGNC NodeNorm issues: none, but showing anyways\n",
    "print(\"\\n\")\n",
    "print(\"HGNC NodeNorm mapping failures:\")\n",
    "\n",
    "print(f'IDs with no data in NodeNorm: {len(stats_hgnc_mapping_failures[\"nodenorm_returned_none\"])}')\n",
    "print(f'IDs with the wrong NodeNormed category: {len(stats_hgnc_mapping_failures[\"wrong_category\"])}')\n",
    "print(f'IDs with no label in NodeNorm: {len(stats_hgnc_mapping_failures[\"no_label\"])}')"
   ]
  },
  {
   "cell_type": "markdown",
   "id": "b282749c",
   "metadata": {},
   "source": [
    "<div class=\"alert alert-block alert-success\">\n",
    "\n",
    "**2025-03-28 data:** \n",
    "    \n",
    "__Diseases: many rows removed__ due to lack of IDs for NodeNorming or NodeNorm mapping issues."
   ]
  },
  {
   "cell_type": "code",
   "execution_count": 58,
   "id": "bbfc6243",
   "metadata": {
    "ExecuteTime": {
     "end_time": "2025-08-01T00:32:29.549802Z",
     "start_time": "2025-08-01T00:32:29.545607Z"
    }
   },
   "outputs": [
    {
     "data": {
      "text/plain": [
       "dict_keys(['unexpected_error', 'nodenorm_returned_none', 'wrong_category', 'no_label', 'n_rows_none', 'n_rows_wrong_category', 'n_rows_no_label'])"
      ]
     },
     "execution_count": 58,
     "metadata": {},
     "output_type": "execute_result"
    }
   ],
   "source": [
    "stats_OmOr_mapping_failures.keys()"
   ]
  },
  {
   "cell_type": "code",
   "execution_count": 59,
   "id": "35356465",
   "metadata": {
    "ExecuteTime": {
     "end_time": "2025-08-01T00:32:31.111363Z",
     "start_time": "2025-08-01T00:32:31.106553Z"
    }
   },
   "outputs": [
    {
     "name": "stdout",
     "output_type": "stream",
     "text": [
      "Disease Pre-NodeNorming\n",
      "\n",
      "253 row(s) with no disease IDs (= 248 unique diseases)\n",
      "+ 295 row(s) with no OMIM ID (= 181 unique diseases)\n",
      "\n",
      "\n",
      "OMIM NodeNorm mapping failures:\n",
      "4 row(s) for 4 IDs with no data in NodeNorm\n",
      "1 row(s) for 1 IDs with the wrong NodeNormed category\n",
      "1 row(s) for 1 IDs with no label in NodeNorm\n"
     ]
    }
   ],
   "source": [
    "## partial put into parser (format): DONE\n",
    "\n",
    "print(\"Disease Pre-NodeNorming\\n\")\n",
    "\n",
    "## no disease IDs\n",
    "print(f'{stats_no_disease_IDs[\"n_rows\"]} row(s) with no disease IDs '\n",
    "      f'(= {stats_no_disease_IDs[\"n_names\"]} unique diseases)')\n",
    "\n",
    "## plus the rows that only lack OMIM IDs: key column for NodeNorming\n",
    "print(f'+ {stats_mondo_only[\"n_rows\"]} row(s) with no OMIM ID '\n",
    "      f'(= {stats_mondo_only[\"n_names\"]} unique diseases)')\n",
    "\n",
    "## OMIM NodeNorm issues\n",
    "print(\"\\n\")\n",
    "print(\"OMIM NodeNorm mapping failures:\")\n",
    "\n",
    "print(f'{stats_OmOr_mapping_failures[\"n_rows_none\"]} row(s) for '\n",
    "      f'{len(stats_OmOr_mapping_failures[\"nodenorm_returned_none\"])} '\n",
    "      f'IDs with no data in NodeNorm')\n",
    "\n",
    "print(f'{stats_OmOr_mapping_failures[\"n_rows_wrong_category\"]} row(s) for '\n",
    "      f'{len(stats_OmOr_mapping_failures[\"wrong_category\"])} '\n",
    "      f'IDs with the wrong NodeNormed category')\n",
    "\n",
    "print(f'{stats_OmOr_mapping_failures[\"n_rows_no_label\"]} row(s) for '\n",
    "      f'{len(stats_OmOr_mapping_failures[\"no_label\"])} '\n",
    "      f'IDs with no label in NodeNorm')"
   ]
  },
  {
   "cell_type": "markdown",
   "id": "9e970596",
   "metadata": {},
   "source": [
    "<div class=\"alert alert-block alert-success\">\n",
    "    \n",
    "__Totals__"
   ]
  },
  {
   "cell_type": "code",
   "execution_count": 60,
   "id": "be76c03c",
   "metadata": {
    "ExecuteTime": {
     "end_time": "2025-08-01T00:32:37.575036Z",
     "start_time": "2025-08-01T00:32:37.569470Z"
    }
   },
   "outputs": [
    {
     "name": "stdout",
     "output_type": "stream",
     "text": [
      "3192 rows/records before Pre-NodeNorming\n",
      "\n",
      "554 rows removed during Disease NodeNorming process\n",
      "\n",
      "2638 rows/records left (82.6%)\n"
     ]
    }
   ],
   "source": [
    "## put into parser (format): DONE\n",
    "\n",
    "n_rows_before_nodenorm = df.shape[0]\n",
    "n_rows_nodenorm_removed = stats_no_disease_IDs[\"n_rows\"] + stats_mondo_only[\"n_rows\"] + \\\n",
    "                          stats_OmOr_mapping_failures[\"n_rows_none\"] + \\\n",
    "                          stats_OmOr_mapping_failures[\"n_rows_wrong_category\"] + \\\n",
    "                          stats_OmOr_mapping_failures[\"n_rows_no_label\"]\n",
    "n_rows_after_nodenorm = n_rows_before_nodenorm - n_rows_nodenorm_removed\n",
    "\n",
    "print(f\"{n_rows_before_nodenorm} rows/records before Pre-NodeNorming\\n\")\n",
    "\n",
    "print(f\"{n_rows_nodenorm_removed} rows removed during Disease NodeNorming process\\n\")\n",
    "\n",
    "print(f\"{n_rows_after_nodenorm} rows/records left ({n_rows_after_nodenorm/n_rows_before_nodenorm:.1%})\")"
   ]
  },
  {
   "cell_type": "markdown",
   "id": "23343f7c",
   "metadata": {},
   "source": [
    "## Adding NodeNorm data, removing rows"
   ]
  },
  {
   "cell_type": "markdown",
   "id": "1d708cbc",
   "metadata": {},
   "source": [
    "Using gene HGNC and disease OMIM/orphanet IDs for pre-NodeNorming"
   ]
  },
  {
   "cell_type": "code",
   "execution_count": 61,
   "id": "3d727809",
   "metadata": {
    "ExecuteTime": {
     "end_time": "2025-08-01T00:33:06.096979Z",
     "start_time": "2025-08-01T00:33:06.085714Z"
    }
   },
   "outputs": [],
   "source": [
    "## put into parser (format): DONE\n",
    "\n",
    "## Gene: assumes no missing values\n",
    "df[\"gene_nodenorm_id\"] = [hgnc_nodenorm_mapping[i][\"primary_id\"] for i in df[\"hgnc_id\"]]\n",
    "df[\"gene_nodenorm_label\"] = [hgnc_nodenorm_mapping[i][\"primary_label\"] for i in df[\"hgnc_id\"]]\n",
    "\n",
    "df[\"disease_nodenorm_id\"] = [OmOr_nodenorm_mapping[i][\"primary_id\"] \n",
    "                             if OmOr_nodenorm_mapping.get(i) \n",
    "                             else pd.NA\n",
    "                             for i in df[\"disease_mim\"]]\n",
    "\n",
    "df[\"disease_nodenorm_label\"] = [OmOr_nodenorm_mapping[i][\"primary_label\"] \n",
    "                                if OmOr_nodenorm_mapping.get(i) \n",
    "                                else pd.NA\n",
    "                                for i in df[\"disease_mim\"]]"
   ]
  },
  {
   "cell_type": "code",
   "execution_count": 62,
   "id": "c362f22a",
   "metadata": {
    "ExecuteTime": {
     "end_time": "2025-08-01T00:33:06.934597Z",
     "start_time": "2025-08-01T00:33:06.914001Z"
    }
   },
   "outputs": [
    {
     "data": {
      "text/html": [
       "<div>\n",
       "<style scoped>\n",
       "    .dataframe tbody tr th:only-of-type {\n",
       "        vertical-align: middle;\n",
       "    }\n",
       "\n",
       "    .dataframe tbody tr th {\n",
       "        vertical-align: top;\n",
       "    }\n",
       "\n",
       "    .dataframe thead th {\n",
       "        text-align: right;\n",
       "    }\n",
       "</style>\n",
       "<table border=\"1\" class=\"dataframe\">\n",
       "  <thead>\n",
       "    <tr style=\"text-align: right;\">\n",
       "      <th></th>\n",
       "      <th>g2p_id</th>\n",
       "      <th>gene_symbol</th>\n",
       "      <th>gene_mim</th>\n",
       "      <th>hgnc_id</th>\n",
       "      <th>previous_gene_symbols</th>\n",
       "      <th>disease_name</th>\n",
       "      <th>disease_mim</th>\n",
       "      <th>disease_MONDO</th>\n",
       "      <th>allelic_requirement</th>\n",
       "      <th>cross_cutting_modifier</th>\n",
       "      <th>confidence</th>\n",
       "      <th>variant_consequence</th>\n",
       "      <th>variant_types</th>\n",
       "      <th>molecular_mechanism</th>\n",
       "      <th>molecular_mechanism_support</th>\n",
       "      <th>molecular_mechanism_categorisation</th>\n",
       "      <th>molecular_mechanism_evidence</th>\n",
       "      <th>phenotypes</th>\n",
       "      <th>publications</th>\n",
       "      <th>panel</th>\n",
       "      <th>comments</th>\n",
       "      <th>date_of_last_review</th>\n",
       "      <th>review</th>\n",
       "      <th>g2p_record_url</th>\n",
       "      <th>gene_nodenorm_id</th>\n",
       "      <th>gene_nodenorm_label</th>\n",
       "      <th>disease_nodenorm_id</th>\n",
       "      <th>disease_nodenorm_label</th>\n",
       "    </tr>\n",
       "  </thead>\n",
       "  <tbody>\n",
       "    <tr>\n",
       "      <th>0</th>\n",
       "      <td>G2P00001</td>\n",
       "      <td>HMX1</td>\n",
       "      <td>OMIM:142992</td>\n",
       "      <td>HGNC:5017</td>\n",
       "      <td>H6; NKX5-3</td>\n",
       "      <td>HMX1-related oculoauricular syndrome</td>\n",
       "      <td>OMIM:612109</td>\n",
       "      <td>MONDO:0012802</td>\n",
       "      <td>biallelic_autosomal</td>\n",
       "      <td>NaN</td>\n",
       "      <td>definitive</td>\n",
       "      <td>absent gene product</td>\n",
       "      <td>NaN</td>\n",
       "      <td>loss of function</td>\n",
       "      <td>inferred</td>\n",
       "      <td>NaN</td>\n",
       "      <td>NaN</td>\n",
       "      <td>HP:0000007; HP:0000482; HP:0000505; HP:0000518...</td>\n",
       "      <td>18423520; 25574057; 29140751</td>\n",
       "      <td>Developmental disorders; Eye disorders</td>\n",
       "      <td>NaN</td>\n",
       "      <td>2019-09-26 16:23:46+00:00</td>\n",
       "      <td>NaN</td>\n",
       "      <td>https://www.ebi.ac.uk/gene2phenotype/lgd/G2P00001</td>\n",
       "      <td>NCBIGene:3166</td>\n",
       "      <td>HMX1</td>\n",
       "      <td>MONDO:0012802</td>\n",
       "      <td>oculoauricular syndrome</td>\n",
       "    </tr>\n",
       "    <tr>\n",
       "      <th>1</th>\n",
       "      <td>G2P00002</td>\n",
       "      <td>SLX4</td>\n",
       "      <td>OMIM:613278</td>\n",
       "      <td>HGNC:23845</td>\n",
       "      <td>BTBD12; FANCP; KIAA1784; KIAA1987</td>\n",
       "      <td>SLX4-related Fanconi anemia</td>\n",
       "      <td>OMIM:613951</td>\n",
       "      <td>MONDO:0013499</td>\n",
       "      <td>biallelic_autosomal</td>\n",
       "      <td>NaN</td>\n",
       "      <td>definitive</td>\n",
       "      <td>absent gene product</td>\n",
       "      <td>NaN</td>\n",
       "      <td>loss of function</td>\n",
       "      <td>inferred</td>\n",
       "      <td>NaN</td>\n",
       "      <td>NaN</td>\n",
       "      <td>HP:0000007; HP:0000028; HP:0000085; HP:0000125...</td>\n",
       "      <td>21240275; 21240277</td>\n",
       "      <td>Developmental disorders</td>\n",
       "      <td>NaN</td>\n",
       "      <td>2025-01-28 23:09:54+00:00</td>\n",
       "      <td>NaN</td>\n",
       "      <td>https://www.ebi.ac.uk/gene2phenotype/lgd/G2P00002</td>\n",
       "      <td>NCBIGene:84464</td>\n",
       "      <td>SLX4</td>\n",
       "      <td>MONDO:0013499</td>\n",
       "      <td>Fanconi anemia complementation group P</td>\n",
       "    </tr>\n",
       "    <tr>\n",
       "      <th>2</th>\n",
       "      <td>G2P00003</td>\n",
       "      <td>ARG1</td>\n",
       "      <td>OMIM:608313</td>\n",
       "      <td>HGNC:663</td>\n",
       "      <td>NaN</td>\n",
       "      <td>ARG1-related argininemia</td>\n",
       "      <td>OMIM:207800</td>\n",
       "      <td>MONDO:0008814</td>\n",
       "      <td>biallelic_autosomal</td>\n",
       "      <td>NaN</td>\n",
       "      <td>definitive</td>\n",
       "      <td>absent gene product</td>\n",
       "      <td>NaN</td>\n",
       "      <td>loss of function</td>\n",
       "      <td>inferred</td>\n",
       "      <td>NaN</td>\n",
       "      <td>NaN</td>\n",
       "      <td>HP:0000007; HP:0000737; HP:0000752; HP:0001249...</td>\n",
       "      <td>10502833; 1463019; 1598908; 2365823; 7649538</td>\n",
       "      <td>Developmental disorders</td>\n",
       "      <td>NaN</td>\n",
       "      <td>2015-07-22 16:14:07+00:00</td>\n",
       "      <td>NaN</td>\n",
       "      <td>https://www.ebi.ac.uk/gene2phenotype/lgd/G2P00003</td>\n",
       "      <td>NCBIGene:383</td>\n",
       "      <td>ARG1</td>\n",
       "      <td>MONDO:0008814</td>\n",
       "      <td>Argininemia</td>\n",
       "    </tr>\n",
       "    <tr>\n",
       "      <th>3</th>\n",
       "      <td>G2P00004</td>\n",
       "      <td>ATR</td>\n",
       "      <td>OMIM:601215</td>\n",
       "      <td>HGNC:882</td>\n",
       "      <td>FRP1; MEC1; SCKL; SCKL1</td>\n",
       "      <td>ATR-related Seckel syndrome</td>\n",
       "      <td>OMIM:210600</td>\n",
       "      <td>MONDO:0008869</td>\n",
       "      <td>biallelic_autosomal</td>\n",
       "      <td>NaN</td>\n",
       "      <td>strong</td>\n",
       "      <td>absent gene product</td>\n",
       "      <td>NaN</td>\n",
       "      <td>loss of function</td>\n",
       "      <td>inferred</td>\n",
       "      <td>NaN</td>\n",
       "      <td>NaN</td>\n",
       "      <td>HP:0000007; HP:0000028; HP:0000047; HP:0000057...</td>\n",
       "      <td>NaN</td>\n",
       "      <td>Developmental disorders; Skeletal disorders</td>\n",
       "      <td>NaN</td>\n",
       "      <td>2025-01-27 14:24:27+00:00</td>\n",
       "      <td>NaN</td>\n",
       "      <td>https://www.ebi.ac.uk/gene2phenotype/lgd/G2P00004</td>\n",
       "      <td>NCBIGene:545</td>\n",
       "      <td>ATR</td>\n",
       "      <td>MONDO:0008869</td>\n",
       "      <td>Seckel syndrome 1</td>\n",
       "    </tr>\n",
       "    <tr>\n",
       "      <th>4</th>\n",
       "      <td>G2P00005</td>\n",
       "      <td>FANCB</td>\n",
       "      <td>OMIM:300515</td>\n",
       "      <td>HGNC:3583</td>\n",
       "      <td>FAAP95; FAB; FLJ34064</td>\n",
       "      <td>FANCB-related Fanconi anemia</td>\n",
       "      <td>OMIM:300514</td>\n",
       "      <td>MONDO:0010351</td>\n",
       "      <td>monoallelic_X_hemizygous</td>\n",
       "      <td>NaN</td>\n",
       "      <td>definitive</td>\n",
       "      <td>absent gene product</td>\n",
       "      <td>NaN</td>\n",
       "      <td>loss of function</td>\n",
       "      <td>inferred</td>\n",
       "      <td>NaN</td>\n",
       "      <td>NaN</td>\n",
       "      <td>HP:0000083; HP:0000100; HP:0000119; HP:0000707...</td>\n",
       "      <td>15502827; 16679491; 21910217; 22052692; 236135...</td>\n",
       "      <td>Developmental disorders; Skin disorders</td>\n",
       "      <td>NaN</td>\n",
       "      <td>2024-08-20 14:13:58+00:00</td>\n",
       "      <td>NaN</td>\n",
       "      <td>https://www.ebi.ac.uk/gene2phenotype/lgd/G2P00005</td>\n",
       "      <td>NCBIGene:2187</td>\n",
       "      <td>FANCB</td>\n",
       "      <td>MONDO:0010351</td>\n",
       "      <td>Fanconi anemia complementation group B</td>\n",
       "    </tr>\n",
       "  </tbody>\n",
       "</table>\n",
       "</div>"
      ],
      "text/plain": [
       "     g2p_id gene_symbol     gene_mim     hgnc_id  \\\n",
       "0  G2P00001        HMX1  OMIM:142992   HGNC:5017   \n",
       "1  G2P00002        SLX4  OMIM:613278  HGNC:23845   \n",
       "2  G2P00003        ARG1  OMIM:608313    HGNC:663   \n",
       "3  G2P00004         ATR  OMIM:601215    HGNC:882   \n",
       "4  G2P00005       FANCB  OMIM:300515   HGNC:3583   \n",
       "\n",
       "               previous_gene_symbols                          disease_name  \\\n",
       "0                         H6; NKX5-3  HMX1-related oculoauricular syndrome   \n",
       "1  BTBD12; FANCP; KIAA1784; KIAA1987           SLX4-related Fanconi anemia   \n",
       "2                                NaN              ARG1-related argininemia   \n",
       "3            FRP1; MEC1; SCKL; SCKL1           ATR-related Seckel syndrome   \n",
       "4              FAAP95; FAB; FLJ34064          FANCB-related Fanconi anemia   \n",
       "\n",
       "   disease_mim  disease_MONDO       allelic_requirement  \\\n",
       "0  OMIM:612109  MONDO:0012802       biallelic_autosomal   \n",
       "1  OMIM:613951  MONDO:0013499       biallelic_autosomal   \n",
       "2  OMIM:207800  MONDO:0008814       biallelic_autosomal   \n",
       "3  OMIM:210600  MONDO:0008869       biallelic_autosomal   \n",
       "4  OMIM:300514  MONDO:0010351  monoallelic_X_hemizygous   \n",
       "\n",
       "  cross_cutting_modifier  confidence  variant_consequence variant_types  \\\n",
       "0                    NaN  definitive  absent gene product           NaN   \n",
       "1                    NaN  definitive  absent gene product           NaN   \n",
       "2                    NaN  definitive  absent gene product           NaN   \n",
       "3                    NaN      strong  absent gene product           NaN   \n",
       "4                    NaN  definitive  absent gene product           NaN   \n",
       "\n",
       "  molecular_mechanism molecular_mechanism_support  \\\n",
       "0    loss of function                    inferred   \n",
       "1    loss of function                    inferred   \n",
       "2    loss of function                    inferred   \n",
       "3    loss of function                    inferred   \n",
       "4    loss of function                    inferred   \n",
       "\n",
       "  molecular_mechanism_categorisation molecular_mechanism_evidence  \\\n",
       "0                                NaN                          NaN   \n",
       "1                                NaN                          NaN   \n",
       "2                                NaN                          NaN   \n",
       "3                                NaN                          NaN   \n",
       "4                                NaN                          NaN   \n",
       "\n",
       "                                          phenotypes  \\\n",
       "0  HP:0000007; HP:0000482; HP:0000505; HP:0000518...   \n",
       "1  HP:0000007; HP:0000028; HP:0000085; HP:0000125...   \n",
       "2  HP:0000007; HP:0000737; HP:0000752; HP:0001249...   \n",
       "3  HP:0000007; HP:0000028; HP:0000047; HP:0000057...   \n",
       "4  HP:0000083; HP:0000100; HP:0000119; HP:0000707...   \n",
       "\n",
       "                                        publications  \\\n",
       "0                       18423520; 25574057; 29140751   \n",
       "1                                 21240275; 21240277   \n",
       "2       10502833; 1463019; 1598908; 2365823; 7649538   \n",
       "3                                                NaN   \n",
       "4  15502827; 16679491; 21910217; 22052692; 236135...   \n",
       "\n",
       "                                         panel comments  \\\n",
       "0       Developmental disorders; Eye disorders      NaN   \n",
       "1                      Developmental disorders      NaN   \n",
       "2                      Developmental disorders      NaN   \n",
       "3  Developmental disorders; Skeletal disorders      NaN   \n",
       "4      Developmental disorders; Skin disorders      NaN   \n",
       "\n",
       "        date_of_last_review review  \\\n",
       "0 2019-09-26 16:23:46+00:00    NaN   \n",
       "1 2025-01-28 23:09:54+00:00    NaN   \n",
       "2 2015-07-22 16:14:07+00:00    NaN   \n",
       "3 2025-01-27 14:24:27+00:00    NaN   \n",
       "4 2024-08-20 14:13:58+00:00    NaN   \n",
       "\n",
       "                                      g2p_record_url gene_nodenorm_id  \\\n",
       "0  https://www.ebi.ac.uk/gene2phenotype/lgd/G2P00001    NCBIGene:3166   \n",
       "1  https://www.ebi.ac.uk/gene2phenotype/lgd/G2P00002   NCBIGene:84464   \n",
       "2  https://www.ebi.ac.uk/gene2phenotype/lgd/G2P00003     NCBIGene:383   \n",
       "3  https://www.ebi.ac.uk/gene2phenotype/lgd/G2P00004     NCBIGene:545   \n",
       "4  https://www.ebi.ac.uk/gene2phenotype/lgd/G2P00005    NCBIGene:2187   \n",
       "\n",
       "  gene_nodenorm_label disease_nodenorm_id  \\\n",
       "0                HMX1       MONDO:0012802   \n",
       "1                SLX4       MONDO:0013499   \n",
       "2                ARG1       MONDO:0008814   \n",
       "3                 ATR       MONDO:0008869   \n",
       "4               FANCB       MONDO:0010351   \n",
       "\n",
       "                   disease_nodenorm_label  \n",
       "0                 oculoauricular syndrome  \n",
       "1  Fanconi anemia complementation group P  \n",
       "2                             Argininemia  \n",
       "3                       Seckel syndrome 1  \n",
       "4  Fanconi anemia complementation group B  "
      ]
     },
     "execution_count": 62,
     "metadata": {},
     "output_type": "execute_result"
    }
   ],
   "source": [
    "df.head()"
   ]
  },
  {
   "cell_type": "code",
   "execution_count": 63,
   "id": "caee28a8",
   "metadata": {
    "ExecuteTime": {
     "end_time": "2025-08-01T00:33:23.982602Z",
     "start_time": "2025-08-01T00:33:23.972644Z"
    }
   },
   "outputs": [],
   "source": [
    "## put into parser (change in-place): DONE\n",
    "\n",
    "df_only_nodenormed = df.dropna(subset=[\"gene_nodenorm_id\", \"gene_nodenorm_label\", \n",
    "                                       \"disease_nodenorm_id\", \"disease_nodenorm_label\"],\n",
    "                              ignore_index=True).copy()"
   ]
  },
  {
   "cell_type": "code",
   "execution_count": 64,
   "id": "4fc8d268",
   "metadata": {
    "ExecuteTime": {
     "end_time": "2025-08-01T00:33:24.509181Z",
     "start_time": "2025-08-01T00:33:24.504179Z"
    }
   },
   "outputs": [
    {
     "data": {
      "text/plain": [
       "(2638, 28)"
      ]
     },
     "execution_count": 64,
     "metadata": {},
     "output_type": "execute_result"
    },
    {
     "data": {
      "text/plain": [
       "2638"
      ]
     },
     "execution_count": 64,
     "metadata": {},
     "output_type": "execute_result"
    }
   ],
   "source": [
    "## same! so it works as expected\n",
    "\n",
    "df_only_nodenormed.shape\n",
    "\n",
    "n_rows_after_nodenorm"
   ]
  },
  {
   "cell_type": "code",
   "execution_count": 65,
   "id": "0c05d470",
   "metadata": {
    "ExecuteTime": {
     "end_time": "2025-08-01T00:33:32.301871Z",
     "start_time": "2025-08-01T00:33:32.271266Z"
    }
   },
   "outputs": [
    {
     "name": "stdout",
     "output_type": "stream",
     "text": [
      "<class 'pandas.core.frame.DataFrame'>\n",
      "RangeIndex: 2638 entries, 0 to 2637\n",
      "Data columns (total 28 columns):\n",
      " #   Column                              Non-Null Count  Dtype              \n",
      "---  ------                              --------------  -----              \n",
      " 0   g2p_id                              2638 non-null   object             \n",
      " 1   gene_symbol                         2638 non-null   object             \n",
      " 2   gene_mim                            2638 non-null   object             \n",
      " 3   hgnc_id                             2638 non-null   object             \n",
      " 4   previous_gene_symbols               2438 non-null   object             \n",
      " 5   disease_name                        2638 non-null   object             \n",
      " 6   disease_mim                         2638 non-null   object             \n",
      " 7   disease_MONDO                       1590 non-null   object             \n",
      " 8   allelic_requirement                 2638 non-null   object             \n",
      " 9   cross_cutting_modifier              286 non-null    object             \n",
      " 10  confidence                          2638 non-null   object             \n",
      " 11  variant_consequence                 2629 non-null   object             \n",
      " 12  variant_types                       567 non-null    object             \n",
      " 13  molecular_mechanism                 2638 non-null   object             \n",
      " 14  molecular_mechanism_support         2638 non-null   object             \n",
      " 15  molecular_mechanism_categorisation  14 non-null     object             \n",
      " 16  molecular_mechanism_evidence        37 non-null     object             \n",
      " 17  phenotypes                          1951 non-null   object             \n",
      " 18  publications                        2370 non-null   object             \n",
      " 19  panel                               2638 non-null   object             \n",
      " 20  comments                            24 non-null     object             \n",
      " 21  date_of_last_review                 2638 non-null   datetime64[ns, UTC]\n",
      " 22  review                              0 non-null      object             \n",
      " 23  g2p_record_url                      2638 non-null   object             \n",
      " 24  gene_nodenorm_id                    2638 non-null   object             \n",
      " 25  gene_nodenorm_label                 2638 non-null   object             \n",
      " 26  disease_nodenorm_id                 2638 non-null   object             \n",
      " 27  disease_nodenorm_label              2638 non-null   object             \n",
      "dtypes: datetime64[ns, UTC](1), object(27)\n",
      "memory usage: 4.5 MB\n"
     ]
    }
   ],
   "source": [
    "df_only_nodenormed.info(memory_usage=\"deep\")"
   ]
  },
  {
   "cell_type": "code",
   "execution_count": null,
   "id": "78c1ca57",
   "metadata": {},
   "outputs": [],
   "source": [
    "## code block to review NodeNorm \"duplicate edges\" - from DISEASES\n",
    "\n",
    "# df_textmining_nodenorm_dups = df_textmining[\n",
    "#     df_textmining.duplicated(\n",
    "#         subset=[\"gene_nodenorm_id\", \"disease_nodenorm_id\"], \n",
    "#         keep=False)].copy()\n",
    "\n",
    "# df_textmining_nodenorm_dups.sort_values(by=[\"disease_nodenorm_id\", \"gene_nodenorm_id\"],\n",
    "#                                         inplace=True)\n",
    "\n",
    "# df_textmining_nodenorm_dups.shape\n",
    "\n",
    "# df_textmining_nodenorm_dups"
   ]
  },
  {
   "cell_type": "code",
   "execution_count": null,
   "id": "82144d9d",
   "metadata": {},
   "outputs": [],
   "source": []
  },
  {
   "cell_type": "markdown",
   "id": "38ebbe59",
   "metadata": {},
   "source": [
    "## Generating documents"
   ]
  },
  {
   "cell_type": "markdown",
   "id": "9f01e8af",
   "metadata": {},
   "source": [
    "### Rows not included"
   ]
  },
  {
   "cell_type": "markdown",
   "id": "73e93ccc",
   "metadata": {},
   "source": [
    "<div class=\"alert alert-block alert-info\">\n",
    "\n",
    "See section \"Stats on rows removed during NodeNorming\"\n",
    "* No IDs in disease_mim column \n",
    "* NodeNorm mapping failures for disease_mim column IDs\n",
    "* confidence column value == (\"refuted\" OR \"disputed\" OR \"limited\")"
   ]
  },
  {
   "cell_type": "markdown",
   "id": "79ebea07",
   "metadata": {},
   "source": [
    "### Columns not included"
   ]
  },
  {
   "cell_type": "markdown",
   "id": "c0c7b27e",
   "metadata": {},
   "source": [
    "<div class=\"alert alert-block alert-info\">\n",
    "\n",
    "See data-playground for details\n",
    "\n",
    "<br>\n",
    "\n",
    "Seem **easier** to get into Translator, potentially useful: \n",
    "\n",
    "- **disease_MONDO**\n",
    "- **confidence**: \n",
    "   - there's biolink association-slot *has confidence level*. But there's also a biolink entity *confidence level* that's supposed to have values from CIO. \n",
    "   - Are G2P's terms okay? Or are they supposed to be mapped to ontology terms like CIO/SEPIO?-(which...may be a loss of info compared to G2P's term definitions)\n",
    "- **allelic_requirement**: biolink-model PR to create edge property for this. The values will likely need to be converted into HPO \"mode of inheritance terms\" (see data-playground notebook for mapping table)\n",
    "\n",
    "<br>\n",
    "\n",
    "Seem harder to get into Translator, potentially useful: \n",
    "\n",
    "- **cross_cutting_modifier**: additional info on inheritance. Limited set of terms BUT \"; \"- delimited. Some terms may map to \"HPO inheritance qualifier terms\" (didn't try). Lots of missing data (NA). \n",
    "  - would be a new edge/node property or qualifier. But complicated because EBI gene2pheno has custom terms, not just from HPO inheritance qualifiers. \n",
    "- **variant_consequence**: row can have multiple values (\"; \"- delimited). Limited set of terms already mapped to SO.\n",
    "  - seems like aspect qualifier, but this can be a list for a gene-disease edge - and I'm not sure how to handle this (not that comfortable splitting into multiple edges)\n",
    "- **variant_types**: row can have multiple values (\"; \"- delimited). Medium set of terms already mapped to SO. Lots of missing data (NA). **>100 UNIQUE VALUES (SINGLE, MIX OF TERMS). I don't think using this as a qualifier is a good idea - it's confusing**\n",
    "  - would be a new edge/node property or qualifier (somewhat modeled as predicates, for variant-gene relationships).\n",
    "- **molecular_mechanism_support** (**new Aug 2025**): \"qualifies\" the molecular_mechanism (seems to say how molecular mechanism was decided: \"inferred\" or \"evidence\"). \n",
    "  - **Doesn't seem to show up on single-record webpage** (compared rows with value \"evidence\" / no \"molecular_mechanism_categorisation\" value to their webpages; the webpages don't have the string \"evidence\").\n",
    "  - tricky since it's like \"how knowledge was obtained\" for a specific part of edge (I'm using molecular_mechanism to adjust the subject qualifier) \n",
    "- **molecular mechanism categorisation** (**new Aug 2025**): more detailed mechanism info, structured (displayed in single-record webpage as a table). \n",
    "  - VERY SPARSE (LOTS OF NA), multivalued, more complex structure\n",
    "- **molecular_mechanism_evidence**: \"types of evidence available to support reported mechanism\", according to Data download format txt. complicated structure, is displayed in single-record webpages as a table. Lots of NA. \n",
    "  - VERY SPARSE (LOTS OF NA), multivalued, very complex structure with custom terms that aren't defined/explained anywhere yet\n",
    "- **comments**: treat as free text\n",
    "- **review** (**new Aug 2025**): indicates when record is under review (according to Data_download_format txt file). Don't know what the possible values are (boolean?) because I've only seen the column be all NA so far.\n",
    "  - interesting concept idea, but not sure if we want it in Translator or not (also may change in source quickly and we'll be outdated\n",
    "    \n",
    "<br>\n",
    "\n",
    "Can ignore: \n",
    "- gene_mim\n",
    "- gene_symbol\n",
    "- previous_gene_symbols\n",
    "- disease_name\n",
    "- phenotypes: \"reported by the publication\". Unclear how they fit in gene-disease association or a diff edge (gene-phenotype, phenotype-disease)\n",
    "- panel: pretty specific, original resource's way of organizing data"
   ]
  },
  {
   "cell_type": "markdown",
   "id": "60764f07",
   "metadata": {},
   "source": [
    "### Prelim, import"
   ]
  },
  {
   "cell_type": "code",
   "execution_count": 66,
   "id": "fa6343ac",
   "metadata": {
    "ExecuteTime": {
     "end_time": "2025-08-01T00:34:30.542898Z",
     "start_time": "2025-08-01T00:34:30.537195Z"
    },
    "scrolled": true
   },
   "outputs": [
    {
     "data": {
      "text/plain": [
       "molecular_mechanism\n",
       "loss of function                     2023\n",
       "undetermined                          873\n",
       "gain of function                      174\n",
       "dominant negative                     119\n",
       "undetermined non-loss-of-function       3\n",
       "Name: count, dtype: int64"
      ]
     },
     "execution_count": 66,
     "metadata": {},
     "output_type": "execute_result"
    }
   ],
   "source": [
    "## code chunk to review data\n",
    "\n",
    "df[\"molecular_mechanism\"].value_counts()"
   ]
  },
  {
   "cell_type": "code",
   "execution_count": 69,
   "id": "91f8b636",
   "metadata": {
    "ExecuteTime": {
     "end_time": "2025-08-01T00:36:08.545209Z",
     "start_time": "2025-08-01T00:36:08.465259Z"
    }
   },
   "outputs": [],
   "source": [
    "## want jsonlines format\n",
    "\n",
    "import jsonlines"
   ]
  },
  {
   "cell_type": "markdown",
   "id": "49145525",
   "metadata": {
    "heading_collapsed": true
   },
   "source": [
    "### BioThings-type parser "
   ]
  },
  {
   "cell_type": "markdown",
   "id": "c4bb90d5",
   "metadata": {
    "hidden": true
   },
   "source": [
    "Includes `_id` set to g2p_id value"
   ]
  },
  {
   "cell_type": "code",
   "execution_count": null,
   "id": "1bea6afb",
   "metadata": {
    "ExecuteTime": {
     "end_time": "2025-05-21T06:44:13.504311Z",
     "start_time": "2025-05-21T06:44:13.493109Z"
    },
    "hidden": true
   },
   "outputs": [],
   "source": [
    "# ## code chunk for testing parts of inner code\n",
    "\n",
    "# for row in df.itertuples(index=False):\n",
    "#     document = {\n",
    "#         \"_id\": row.g2p_id,\n",
    "#         \"subject\": row.gene_nodenorm_id,\n",
    "#         \"sources\": [\n",
    "#             {\n",
    "#                 \"resource_id\": \"infores:ebi-gene2phenotype\",\n",
    "#                 \"resource_role\": \"primary_knowledge_source\",\n",
    "#                 \"source_record_urls\": [row.g2p_record_url]\n",
    "#             }\n",
    "#         ],\n",
    "#         \"attributes\": [\n",
    "#             {\n",
    "#                 \"attribute_type_id\": \"biolink:original_subject\",\n",
    "#                 \"value\": row.hgnc_id\n",
    "#             }\n",
    "#         ]\n",
    "#     }\n",
    "#     if pd.notna(row.publications):\n",
    "#         document[\"attributes\"].append(\n",
    "#             {\n",
    "#                 \"attribute_type_id\": \"biolink:publications\",\n",
    "#                 \"value\": [\"PMID:\" + i.strip() for i in row.publications.split(\";\")]\n",
    "#             }\n",
    "#         )\n",
    "#     document\n",
    "#     break"
   ]
  },
  {
   "cell_type": "code",
   "execution_count": null,
   "id": "4692267d",
   "metadata": {
    "ExecuteTime": {
     "end_time": "2025-05-21T06:44:13.561125Z",
     "start_time": "2025-05-21T06:44:13.506827Z"
    },
    "hidden": true
   },
   "outputs": [],
   "source": [
    "# ## put into parser (format): DONE\n",
    "# ##   don't save in array, yield each document instead\n",
    "\n",
    "# ## GENERATING DOCS, saving in array\n",
    "# documents = []\n",
    "\n",
    "# ## using itertuples because it's faster, preserves datatypes\n",
    "# for row in df_only_nodenormed.itertuples(index=False):\n",
    "#     ## simple assignments: no NA or \"if\"\n",
    "#     document = {\n",
    "#         \"_id\": row.g2p_id,\n",
    "#         \"subject\": row.gene_nodenorm_id,\n",
    "#         \"qualifiers\": [  ## needs data-modeling/TRAPI validation review\n",
    "#             {\n",
    "#                 \"qualifier_type_id\": \"biolink:subject_form_or_variant_qualifier\",\n",
    "#                 \"qualifier_value\": \"genetic_variant_form\"\n",
    "#             }\n",
    "#         ],\n",
    "#         \"object\": row.disease_nodenorm_id,\n",
    "#         \"sources\": [\n",
    "#             {\n",
    "#                 \"resource_id\": \"infores:ebi-gene2phenotype\",\n",
    "#                 \"resource_role\": \"primary_knowledge_source\",\n",
    "#                 \"source_record_urls\": [row.g2p_record_url]\n",
    "#             }\n",
    "#         ],\n",
    "#         \"attributes\": [\n",
    "#             {\n",
    "#                 \"attribute_type_id\": \"biolink:knowledge_level\",\n",
    "#                 \"value\": \"knowledge_assertion\"\n",
    "#             },\n",
    "#             {\n",
    "#                 \"attribute_type_id\": \"biolink:agent_type\",\n",
    "#                 \"value\": \"manual_agent\"\n",
    "#             },\n",
    "#             {\n",
    "#                 \"attribute_type_id\": \"biolink:original_subject\",\n",
    "#                 \"original_attribute_name\": \"hgnc id\",  ## original column name\n",
    "#                 \"value\": row.hgnc_id\n",
    "#             },\n",
    "#             {   ## currently, after NodeNorming, no NAs in OMIM/orphanet column\n",
    "#                 \"attribute_type_id\": \"biolink:original_object\",\n",
    "#                 \"original_attribute_name\": \"disease mim\",  ## original column name\n",
    "#                 \"value\": row.disease_mim\n",
    "#             },\n",
    "#             {   ## needs data-modeling/TRAPI validation review\n",
    "#                 ## EBI gene2pheno website calls this \"Last Updated\"/\"Last Updated On\"\n",
    "#                 \"attribute_type_id\": \"biolink:update_date\",\n",
    "#                 \"original_attribute_name\": \"date of last review\",  ## original column name\n",
    "#                 \"value\": str(row.date_of_last_review)\n",
    "#             },\n",
    "#         ]\n",
    "#     }\n",
    "    \n",
    "#     ## more complex assignments (\"if\", handling NA). When value is NA, list comprehension with split won't work\n",
    "#     ## predicate\n",
    "#     if row.confidence == \"limited\":\n",
    "#         document[\"predicate\"] = \"biolink:related_to\"\n",
    "#     elif row.confidence in [\"moderate\", \"strong\", \"definitive\"]:\n",
    "#         document[\"predicate\"] = \"biolink:causes\"\n",
    "#     else:\n",
    "#         raise ValueError(f\"Unexpected confidence value during predicate mapping: {row.confidence}. Adjust parser.\")\n",
    "#     ## publications\n",
    "#     if pd.notna(row.publications):\n",
    "#         document[\"attributes\"].append(\n",
    "#             {\n",
    "#                 \"attribute_type_id\": \"biolink:publications\",\n",
    "#                 \"value\": [\"PMID:\" + i.strip() for i in row.publications.split(\";\")]\n",
    "#             }\n",
    "#         )\n",
    "    \n",
    "#     documents.append(document)"
   ]
  },
  {
   "cell_type": "markdown",
   "id": "5b6df62f",
   "metadata": {},
   "source": [
    "### File: List of TRAPI edges"
   ]
  },
  {
   "cell_type": "markdown",
   "id": "75e81061",
   "metadata": {},
   "source": [
    "This code isn't in parser.py\n",
    "\n",
    "Doesn't have `_id`! Doesn't include original_attribute_name for original_subject, original_object, update_date."
   ]
  },
  {
   "cell_type": "code",
   "execution_count": 70,
   "id": "c7308ae3",
   "metadata": {
    "ExecuteTime": {
     "end_time": "2025-08-01T00:36:46.478304Z",
     "start_time": "2025-08-01T00:36:46.473259Z"
    }
   },
   "outputs": [
    {
     "data": {
      "text/plain": [
       "Index(['g2p_id', 'gene_symbol', 'gene_mim', 'hgnc_id', 'previous_gene_symbols',\n",
       "       'disease_name', 'disease_mim', 'disease_MONDO', 'allelic_requirement',\n",
       "       'cross_cutting_modifier', 'confidence', 'variant_consequence',\n",
       "       'variant_types', 'molecular_mechanism', 'molecular_mechanism_support',\n",
       "       'molecular_mechanism_categorisation', 'molecular_mechanism_evidence',\n",
       "       'phenotypes', 'publications', 'panel', 'comments',\n",
       "       'date_of_last_review', 'review', 'g2p_record_url', 'gene_nodenorm_id',\n",
       "       'gene_nodenorm_label', 'disease_nodenorm_id', 'disease_nodenorm_label'],\n",
       "      dtype='object')"
      ]
     },
     "execution_count": 70,
     "metadata": {},
     "output_type": "execute_result"
    }
   ],
   "source": [
    "df_only_nodenormed.columns"
   ]
  },
  {
   "cell_type": "code",
   "execution_count": 71,
   "id": "635c4f44",
   "metadata": {
    "ExecuteTime": {
     "end_time": "2025-08-01T04:45:43.950327Z",
     "start_time": "2025-08-01T04:45:43.796081Z"
    }
   },
   "outputs": [],
   "source": [
    "## wrapped with file writer, otherwise contents very similar to before\n",
    "## commented out original_attribute_name\n",
    "\n",
    "with jsonlines.open('EBIgene2pheno_trapi_edges.jsonl', mode='w', compact=True) as trapi_writer:\n",
    "\n",
    "    ## using itertuples because it's faster, preserves datatypes\n",
    "    for row in df_only_nodenormed.itertuples(index=False):\n",
    "        \n",
    "        ## simple assignments: no NA or \"if\"\n",
    "        document = {\n",
    "            \"subject\": row.gene_nodenorm_id,\n",
    "            \"predicate\": \"biolink:associated_with\",\n",
    "            \"qualifiers\": [\n",
    "                {\n",
    "                    \"qualifier_type_id\": \"biolink:qualified_predicate\",\n",
    "                    \"qualifier_value\": \"biolink:causes\"\n",
    "                }\n",
    "            ],\n",
    "            \"object\": row.disease_nodenorm_id,\n",
    "            \"sources\": [\n",
    "                {\n",
    "                    \"resource_id\": \"infores:ebi-gene2phenotype\",\n",
    "                    \"resource_role\": \"primary_knowledge_source\",\n",
    "                    \"source_record_urls\": [row.g2p_record_url]\n",
    "                }\n",
    "            ],\n",
    "            \"attributes\": [\n",
    "                {\n",
    "                    \"attribute_type_id\": \"biolink:knowledge_level\",\n",
    "                    \"value\": \"knowledge_assertion\"\n",
    "                },\n",
    "                {\n",
    "                    \"attribute_type_id\": \"biolink:agent_type\",\n",
    "                    \"value\": \"manual_agent\"\n",
    "                },\n",
    "                {\n",
    "                    \"attribute_type_id\": \"biolink:original_subject\",\n",
    "#                     \"original_attribute_name\": \"hgnc id\",  ## original column name\n",
    "                    \"value\": row.hgnc_id\n",
    "                },\n",
    "                {   ## currently, after NodeNorming, no NAs in OMIM/orphanet column\n",
    "                    \"attribute_type_id\": \"biolink:original_object\",\n",
    "#                     \"original_attribute_name\": \"disease mim\",  ## original column name\n",
    "                    \"value\": row.disease_mim\n",
    "                },\n",
    "                {   ## needs data-modeling/TRAPI validation review\n",
    "                    ## EBI gene2pheno website calls this \"Last Updated\"/\"Last Updated On\"\n",
    "                    \"attribute_type_id\": \"biolink:update_date\",\n",
    "#                     \"original_attribute_name\": \"date of last review\",  ## original column name\n",
    "                    \"value\": str(row.date_of_last_review)\n",
    "                },\n",
    "            ]\n",
    "        }\n",
    "\n",
    "        ## more complex assignments (\"if\", handling NA). When value is NA, list comprehension with split won't work\n",
    "        ## publications\n",
    "        if pd.notna(row.publications):\n",
    "            document[\"attributes\"].append(\n",
    "                {\n",
    "                    \"attribute_type_id\": \"biolink:publications\",\n",
    "                    \"value\": [\"PMID:\" + i.strip() for i in row.publications.split(\";\")]\n",
    "                }\n",
    "            )\n",
    "            \n",
    "        ## qualifier        \n",
    "        if row.molecular_mechanism == \"loss of function\":\n",
    "            document[\"qualifiers\"].append(\n",
    "                {\n",
    "                    \"qualifier_type_id\": \"biolink:subject_form_or_variant_qualifier\",\n",
    "                    \"qualifier_value\": \"loss_of_function_variant_form\"\n",
    "                }\n",
    "            )\n",
    "        elif row.molecular_mechanism == \"undetermined\":\n",
    "            document[\"qualifiers\"].append(\n",
    "                {\n",
    "                    \"qualifier_type_id\": \"biolink:subject_form_or_variant_qualifier\",\n",
    "                    \"qualifier_value\": \"genetic_variant_form\"\n",
    "                }\n",
    "            )\n",
    "        elif row.molecular_mechanism == \"gain of function\":\n",
    "            document[\"qualifiers\"].append(\n",
    "                {\n",
    "                    \"qualifier_type_id\": \"biolink:subject_form_or_variant_qualifier\",\n",
    "                    \"qualifier_value\": \"gain_of_function_variant_form\"\n",
    "                }\n",
    "            )\n",
    "        elif row.molecular_mechanism == \"dominant negative\":\n",
    "            document[\"qualifiers\"].append(\n",
    "                {\n",
    "                    \"qualifier_type_id\": \"biolink:subject_form_or_variant_qualifier\",\n",
    "                    \"qualifier_value\": \"dominant_negative_variant_form\"\n",
    "                }\n",
    "            )\n",
    "        elif row.molecular_mechanism == \"undetermined non-loss-of-function\":\n",
    "            document[\"qualifiers\"].append(\n",
    "                {\n",
    "                    \"qualifier_type_id\": \"biolink:subject_form_or_variant_qualifier\",\n",
    "                    \"qualifier_value\": \"non_loss_of_function_variant_form\"\n",
    "                }\n",
    "            )\n",
    "        else:\n",
    "            raise ValueError(f\"Unexpected molecular_mechanism value during qualifier mapping: {row.molecular_mechanism}. Adjust parser.\")\n",
    "\n",
    "        ## doing so it doesn't print\n",
    "        bytes = trapi_writer.write(document)"
   ]
  },
  {
   "cell_type": "markdown",
   "id": "efed3d53",
   "metadata": {},
   "source": [
    "### File: KGX edges"
   ]
  },
  {
   "cell_type": "markdown",
   "id": "9dfc5604",
   "metadata": {},
   "source": [
    "This code isn't in parser.py\n",
    "\n",
    "Doesn't include original_attribute_name for original_subject, original_object, update_date"
   ]
  },
  {
   "cell_type": "code",
   "execution_count": 72,
   "id": "2c12f9c1",
   "metadata": {
    "ExecuteTime": {
     "end_time": "2025-08-01T04:49:03.984561Z",
     "start_time": "2025-08-01T04:49:03.862462Z"
    }
   },
   "outputs": [],
   "source": [
    "\n",
    "with jsonlines.open('EBIgene2pheno_kgx_edges.jsonl', mode='w', compact=True) as kgx_edges_writer:\n",
    "\n",
    "    ## using itertuples because it's faster, preserves datatypes\n",
    "    for row in df_only_nodenormed.itertuples(index=False):\n",
    "        \n",
    "        ## simple assignments: no NA or \"if\"\n",
    "        document = {\n",
    "            \"subject\": row.gene_nodenorm_id,\n",
    "            \"predicate\": \"biolink:associated_with\",\n",
    "            \"qualified_predicate\": \"biolink:causes\",            \n",
    "            \"object\": row.disease_nodenorm_id,\n",
    "            \"sources\": [\n",
    "                {\n",
    "                    \"resource_id\": \"infores:ebi-gene2phenotype\",\n",
    "                    \"resource_role\": \"primary_knowledge_source\",\n",
    "                    \"source_record_urls\": [row.g2p_record_url]\n",
    "                }\n",
    "            ],\n",
    "            \"knowledge_level\": \"knowledge_assertion\",\n",
    "            \"agent_type\": \"manual_agent\",\n",
    "            \"original_subject\": row.hgnc_id,\n",
    "            ## currently, after NodeNorming, no NAs in OMIM/orphanet column\n",
    "            \"original_object\": row.disease_mim,\n",
    "            ## needs data-modeling/TRAPI validation review\n",
    "            ## EBI gene2pheno website calls this \"Last Updated\"/\"Last Updated On\"\n",
    "            \"update_date\": str(row.date_of_last_review),\n",
    "        }\n",
    "\n",
    "        ## more complex assignments (\"if\", handling NA). When value is NA, list comprehension with split won't work\n",
    "        ## publications\n",
    "        if pd.notna(row.publications):\n",
    "            document[\"publications\"] = [\"PMID:\" + i.strip() for i in row.publications.split(\";\")]\n",
    "\n",
    "        ## qualifier\n",
    "        if row.molecular_mechanism == \"loss of function\":\n",
    "            document[\"subject_form_or_variant_qualifier\"] = \"loss_of_function_variant_form\"\n",
    "        elif row.molecular_mechanism == \"undetermined\":\n",
    "            document[\"subject_form_or_variant_qualifier\"] = \"genetic_variant_form\"\n",
    "        elif row.molecular_mechanism == \"gain of function\":\n",
    "            document[\"subject_form_or_variant_qualifier\"] = \"gain_of_function_variant_form\"\n",
    "        elif row.molecular_mechanism == \"dominant negative\":\n",
    "            document[\"subject_form_or_variant_qualifier\"] = \"dominant_negative_variant_form\"\n",
    "        elif row.molecular_mechanism == \"undetermined non-loss-of-function\":\n",
    "            document[\"subject_form_or_variant_qualifier\"] = \"non_loss_of_function_variant_form\"\n",
    "        else:\n",
    "            raise ValueError(f\"Unexpected molecular_mechanism value during qualifier mapping: {row.molecular_mechanism}. Adjust parser.\")\n",
    "\n",
    "            \n",
    "        ## doing so it doesn't print\n",
    "        bytes = kgx_edges_writer.write(document)"
   ]
  },
  {
   "cell_type": "markdown",
   "id": "cb2b5d7c",
   "metadata": {},
   "source": [
    "### File: KGX nodes"
   ]
  },
  {
   "cell_type": "markdown",
   "id": "3c7639ad",
   "metadata": {},
   "source": [
    "This code isn't in parser.py\n",
    "\n",
    "Requires id and category. name and other properties (basically node attributes) are optional. "
   ]
  },
  {
   "cell_type": "code",
   "execution_count": 73,
   "id": "a7b0c3de",
   "metadata": {
    "ExecuteTime": {
     "end_time": "2025-08-01T04:49:57.786075Z",
     "start_time": "2025-08-01T04:49:57.768310Z"
    }
   },
   "outputs": [
    {
     "data": {
      "text/html": [
       "<div>\n",
       "<style scoped>\n",
       "    .dataframe tbody tr th:only-of-type {\n",
       "        vertical-align: middle;\n",
       "    }\n",
       "\n",
       "    .dataframe tbody tr th {\n",
       "        vertical-align: top;\n",
       "    }\n",
       "\n",
       "    .dataframe thead th {\n",
       "        text-align: right;\n",
       "    }\n",
       "</style>\n",
       "<table border=\"1\" class=\"dataframe\">\n",
       "  <thead>\n",
       "    <tr style=\"text-align: right;\">\n",
       "      <th></th>\n",
       "      <th>gene_nodenorm_id</th>\n",
       "      <th>gene_nodenorm_label</th>\n",
       "    </tr>\n",
       "  </thead>\n",
       "  <tbody>\n",
       "    <tr>\n",
       "      <th>0</th>\n",
       "      <td>NCBIGene:3166</td>\n",
       "      <td>HMX1</td>\n",
       "    </tr>\n",
       "    <tr>\n",
       "      <th>1</th>\n",
       "      <td>NCBIGene:84464</td>\n",
       "      <td>SLX4</td>\n",
       "    </tr>\n",
       "    <tr>\n",
       "      <th>2</th>\n",
       "      <td>NCBIGene:383</td>\n",
       "      <td>ARG1</td>\n",
       "    </tr>\n",
       "    <tr>\n",
       "      <th>3</th>\n",
       "      <td>NCBIGene:545</td>\n",
       "      <td>ATR</td>\n",
       "    </tr>\n",
       "    <tr>\n",
       "      <th>4</th>\n",
       "      <td>NCBIGene:2187</td>\n",
       "      <td>FANCB</td>\n",
       "    </tr>\n",
       "    <tr>\n",
       "      <th>...</th>\n",
       "      <td>...</td>\n",
       "      <td>...</td>\n",
       "    </tr>\n",
       "    <tr>\n",
       "      <th>2629</th>\n",
       "      <td>NCBIGene:374462</td>\n",
       "      <td>PTPRQ</td>\n",
       "    </tr>\n",
       "    <tr>\n",
       "      <th>2630</th>\n",
       "      <td>NCBIGene:5269</td>\n",
       "      <td>SERPINB6</td>\n",
       "    </tr>\n",
       "    <tr>\n",
       "      <th>2631</th>\n",
       "      <td>NCBIGene:7007</td>\n",
       "      <td>TECTA</td>\n",
       "    </tr>\n",
       "    <tr>\n",
       "      <th>2633</th>\n",
       "      <td>NCBIGene:286262</td>\n",
       "      <td>TPRN</td>\n",
       "    </tr>\n",
       "    <tr>\n",
       "      <th>2634</th>\n",
       "      <td>NCBIGene:51475</td>\n",
       "      <td>CABP2</td>\n",
       "    </tr>\n",
       "  </tbody>\n",
       "</table>\n",
       "<p>2264 rows × 2 columns</p>\n",
       "</div>"
      ],
      "text/plain": [
       "     gene_nodenorm_id gene_nodenorm_label\n",
       "0       NCBIGene:3166                HMX1\n",
       "1      NCBIGene:84464                SLX4\n",
       "2        NCBIGene:383                ARG1\n",
       "3        NCBIGene:545                 ATR\n",
       "4       NCBIGene:2187               FANCB\n",
       "...               ...                 ...\n",
       "2629  NCBIGene:374462               PTPRQ\n",
       "2630    NCBIGene:5269            SERPINB6\n",
       "2631    NCBIGene:7007               TECTA\n",
       "2633  NCBIGene:286262                TPRN\n",
       "2634   NCBIGene:51475               CABP2\n",
       "\n",
       "[2264 rows x 2 columns]"
      ]
     },
     "execution_count": 73,
     "metadata": {},
     "output_type": "execute_result"
    },
    {
     "data": {
      "text/html": [
       "<div>\n",
       "<style scoped>\n",
       "    .dataframe tbody tr th:only-of-type {\n",
       "        vertical-align: middle;\n",
       "    }\n",
       "\n",
       "    .dataframe tbody tr th {\n",
       "        vertical-align: top;\n",
       "    }\n",
       "\n",
       "    .dataframe thead th {\n",
       "        text-align: right;\n",
       "    }\n",
       "</style>\n",
       "<table border=\"1\" class=\"dataframe\">\n",
       "  <thead>\n",
       "    <tr style=\"text-align: right;\">\n",
       "      <th></th>\n",
       "      <th>disease_nodenorm_id</th>\n",
       "      <th>disease_nodenorm_label</th>\n",
       "    </tr>\n",
       "  </thead>\n",
       "  <tbody>\n",
       "    <tr>\n",
       "      <th>0</th>\n",
       "      <td>MONDO:0012802</td>\n",
       "      <td>oculoauricular syndrome</td>\n",
       "    </tr>\n",
       "    <tr>\n",
       "      <th>1</th>\n",
       "      <td>MONDO:0013499</td>\n",
       "      <td>Fanconi anemia complementation group P</td>\n",
       "    </tr>\n",
       "    <tr>\n",
       "      <th>2</th>\n",
       "      <td>MONDO:0008814</td>\n",
       "      <td>Argininemia</td>\n",
       "    </tr>\n",
       "    <tr>\n",
       "      <th>3</th>\n",
       "      <td>MONDO:0008869</td>\n",
       "      <td>Seckel syndrome 1</td>\n",
       "    </tr>\n",
       "    <tr>\n",
       "      <th>4</th>\n",
       "      <td>MONDO:0010351</td>\n",
       "      <td>Fanconi anemia complementation group B</td>\n",
       "    </tr>\n",
       "    <tr>\n",
       "      <th>...</th>\n",
       "      <td>...</td>\n",
       "      <td>...</td>\n",
       "    </tr>\n",
       "    <tr>\n",
       "      <th>2633</th>\n",
       "      <td>MONDO:0013215</td>\n",
       "      <td>autosomal recessive nonsyndromic hearing loss 79</td>\n",
       "    </tr>\n",
       "    <tr>\n",
       "      <th>2634</th>\n",
       "      <td>MONDO:0013963</td>\n",
       "      <td>autosomal recessive nonsyndromic hearing loss 93</td>\n",
       "    </tr>\n",
       "    <tr>\n",
       "      <th>2635</th>\n",
       "      <td>MONDO:0007395</td>\n",
       "      <td>craniofacial-deafness-hand syndrome</td>\n",
       "    </tr>\n",
       "    <tr>\n",
       "      <th>2636</th>\n",
       "      <td>MONDO:0011519</td>\n",
       "      <td>autosomal dominant nonsyndromic hearing loss 23</td>\n",
       "    </tr>\n",
       "    <tr>\n",
       "      <th>2637</th>\n",
       "      <td>MONDO:0011350</td>\n",
       "      <td>autosomal dominant nonsyndromic hearing loss 17</td>\n",
       "    </tr>\n",
       "  </tbody>\n",
       "</table>\n",
       "<p>2546 rows × 2 columns</p>\n",
       "</div>"
      ],
      "text/plain": [
       "     disease_nodenorm_id                            disease_nodenorm_label\n",
       "0          MONDO:0012802                           oculoauricular syndrome\n",
       "1          MONDO:0013499            Fanconi anemia complementation group P\n",
       "2          MONDO:0008814                                       Argininemia\n",
       "3          MONDO:0008869                                 Seckel syndrome 1\n",
       "4          MONDO:0010351            Fanconi anemia complementation group B\n",
       "...                  ...                                               ...\n",
       "2633       MONDO:0013215  autosomal recessive nonsyndromic hearing loss 79\n",
       "2634       MONDO:0013963  autosomal recessive nonsyndromic hearing loss 93\n",
       "2635       MONDO:0007395               craniofacial-deafness-hand syndrome\n",
       "2636       MONDO:0011519   autosomal dominant nonsyndromic hearing loss 23\n",
       "2637       MONDO:0011350   autosomal dominant nonsyndromic hearing loss 17\n",
       "\n",
       "[2546 rows x 2 columns]"
      ]
     },
     "execution_count": 73,
     "metadata": {},
     "output_type": "execute_result"
    }
   ],
   "source": [
    "nodenormed_genes_final = df_only_nodenormed[[\"gene_nodenorm_id\", \"gene_nodenorm_label\"]].drop_duplicates()\n",
    "nodenormed_diseases_final = df_only_nodenormed[[\"disease_nodenorm_id\", \"disease_nodenorm_label\"]].drop_duplicates()\n",
    "\n",
    "nodenormed_genes_final\n",
    "nodenormed_diseases_final"
   ]
  },
  {
   "cell_type": "code",
   "execution_count": 74,
   "id": "d071fa84",
   "metadata": {
    "ExecuteTime": {
     "end_time": "2025-08-01T04:50:01.391819Z",
     "start_time": "2025-08-01T04:50:01.360064Z"
    }
   },
   "outputs": [],
   "source": [
    "\n",
    "with jsonlines.open('EBIgene2pheno_kgx_nodes.jsonl', mode='w', compact=True) as kgx_nodes_writer:\n",
    "    \n",
    "    ## using itertuples because it's faster, preserves datatypes\n",
    "    for row in nodenormed_genes_final.itertuples(index=False):\n",
    "        ## doing so it doesn't print\n",
    "        bytes = kgx_nodes_writer.write({\n",
    "            \"id\": row.gene_nodenorm_id,\n",
    "            \"name\": row.gene_nodenorm_label,            \n",
    "            ## hard-coded because during pre-NodeNorm process, only kept entities with this primary category\n",
    "            \"category\": [\"biolink:Gene\"]\n",
    "            \n",
    "        })\n",
    "\n",
    "    ## using itertuples because it's faster, preserves datatypes\n",
    "    for row in nodenormed_diseases_final.itertuples(index=False):\n",
    "        ## doing so it doesn't print\n",
    "        bytes = kgx_nodes_writer.write({\n",
    "            \"id\": row.disease_nodenorm_id,\n",
    "            \"name\": row.disease_nodenorm_label,\n",
    "            ## hard-coded because during pre-NodeNorm process, only kept entities with this primary category\n",
    "            \"category\": [\"biolink:Disease\"]\n",
    "        })"
   ]
  },
  {
   "cell_type": "code",
   "execution_count": 75,
   "id": "f7c77ea9",
   "metadata": {
    "ExecuteTime": {
     "end_time": "2025-08-01T04:50:01.982520Z",
     "start_time": "2025-08-01T04:50:01.978366Z"
    }
   },
   "outputs": [
    {
     "data": {
      "text/plain": [
       "4810"
      ]
     },
     "execution_count": 75,
     "metadata": {},
     "output_type": "execute_result"
    }
   ],
   "source": [
    "nodenormed_genes_final.shape[0] + nodenormed_diseases_final.shape[0]"
   ]
  },
  {
   "cell_type": "markdown",
   "id": "cdd0f4f7",
   "metadata": {
    "heading_collapsed": true
   },
   "source": [
    "## DEFUNCT: Checking documents"
   ]
  },
  {
   "cell_type": "code",
   "execution_count": null,
   "id": "0d715012",
   "metadata": {
    "ExecuteTime": {
     "end_time": "2025-05-08T05:38:12.096743Z",
     "start_time": "2025-05-08T05:38:11.739337Z"
    },
    "hidden": true
   },
   "outputs": [],
   "source": [
    "# len(documents)"
   ]
  },
  {
   "cell_type": "code",
   "execution_count": null,
   "id": "482cff53",
   "metadata": {
    "ExecuteTime": {
     "end_time": "2025-04-18T07:02:18.849822Z",
     "start_time": "2025-04-18T07:02:18.838129Z"
    },
    "hidden": true
   },
   "outputs": [],
   "source": [
    "# df_only_nodenormed.info()"
   ]
  },
  {
   "cell_type": "code",
   "execution_count": null,
   "id": "496719ed",
   "metadata": {
    "ExecuteTime": {
     "end_time": "2025-04-18T07:09:23.542231Z",
     "start_time": "2025-04-18T07:09:23.517499Z"
    },
    "hidden": true
   },
   "outputs": [],
   "source": [
    "## code chunk for finding rows -> then look up corresponding doc by idx\n",
    "# df_only_nodenormed[df_only_nodenormed[\"disease_mim\"].str.contains(\"orphanet\", na=False)]\n",
    "# df_only_nodenormed[df_only_nodenormed[\"confidence\"] == \"limited\"]\n",
    "# df_only_nodenormed[df_only_nodenormed[\"publications\"].isna()]\n",
    "# df_only_nodenormed[~df_only_nodenormed[\"publications\"].str.contains(\";\", na=True)]\n",
    "\n",
    "\n",
    "\n",
    "# df_only_nodenormed[df_only_nodenormed[\"previous_gene_symbols\"].isna()]\n",
    "# df_only_nodenormed[df_only_nodenormed[\"disease_MONDO\"].notna()]"
   ]
  },
  {
   "cell_type": "code",
   "execution_count": null,
   "id": "513e415a",
   "metadata": {
    "ExecuteTime": {
     "end_time": "2025-04-18T07:09:57.515947Z",
     "start_time": "2025-04-18T07:09:57.511815Z"
    },
    "hidden": true
   },
   "outputs": [],
   "source": [
    "# pprint(documents[34])\n",
    "\n",
    "# documents[416]"
   ]
  },
  {
   "cell_type": "markdown",
   "id": "c3fb5da8",
   "metadata": {},
   "source": [
    "## BioThings Parser notes"
   ]
  },
  {
   "cell_type": "markdown",
   "id": "8ebfd610",
   "metadata": {},
   "source": [
    "Fine to use raise/assert in parser (raise is technically better programming behavior: https://realpython.com/python-assert-statement/#understanding-common-pitfalls-of-assert)\n",
    "\n",
    "\n",
    "My notes on parser:\n",
    "* adding prefixes to gene/disease IDs is good for pre-NodeNorming steps\n",
    "* keeping diff gene/disease ID namespaces as separate fields right now is good for current BTE/x-bte-annotation system\n",
    "  * Also, original subject will always be HGNC, original object will always be disease OMIM with current code\n",
    "\n",
    "\n",
    "My notes on syntax:\n",
    "* use `yield` when you want to \"return\" within a \"for loop\" (return only happen once, then exit for-loop/function execution)\n",
    "  * that's what it's used in main execution, when you're iterating over csv rows to generate documents\n",
    "* use `yield from {function}` to get the data from a generator (created by `yield` being used the function)"
   ]
  },
  {
   "cell_type": "code",
   "execution_count": null,
   "id": "2d34c282",
   "metadata": {},
   "outputs": [],
   "source": []
  }
 ],
 "metadata": {
  "kernelspec": {
   "display_name": "Python 3 (ipykernel)",
   "language": "python",
   "name": "python3"
  },
  "language_info": {
   "codemirror_mode": {
    "name": "ipython",
    "version": 3
   },
   "file_extension": ".py",
   "mimetype": "text/x-python",
   "name": "python",
   "nbconvert_exporter": "python",
   "pygments_lexer": "ipython3",
   "version": "3.12.9"
  },
  "toc": {
   "base_numbering": 1,
   "nav_menu": {
    "height": "400px",
    "width": "290px"
   },
   "number_sections": false,
   "sideBar": true,
   "skip_h1_title": true,
   "title_cell": "Table of Contents",
   "title_sidebar": "Contents",
   "toc_cell": true,
   "toc_position": {
    "height": "calc(100% - 180px)",
    "left": "10px",
    "top": "150px",
    "width": "258.15px"
   },
   "toc_section_display": true,
   "toc_window_display": false
  }
 },
 "nbformat": 4,
 "nbformat_minor": 5
}
