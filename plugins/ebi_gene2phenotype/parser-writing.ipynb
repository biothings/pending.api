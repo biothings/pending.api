{
 "cells": [
  {
   "cell_type": "markdown",
   "id": "f18ee197",
   "metadata": {},
   "source": [
    "# Notebook for parser development"
   ]
  },
  {
   "cell_type": "code",
   "execution_count": 1,
   "id": "3573099c",
   "metadata": {
    "ExecuteTime": {
     "end_time": "2025-03-27T00:43:53.761314Z",
     "start_time": "2025-03-27T00:43:53.756767Z"
    }
   },
   "outputs": [],
   "source": [
    "## not for parser. for notebook only \n",
    "\n",
    "## CX: allows multiple lines of code to print from one code block\n",
    "from IPython.core.interactiveshell import InteractiveShell\n",
    "InteractiveShell.ast_node_interactivity = \"all\""
   ]
  },
  {
   "cell_type": "markdown",
   "id": "aa862467",
   "metadata": {},
   "source": [
    "## Loading data"
   ]
  },
  {
   "cell_type": "markdown",
   "id": "96f2ef49",
   "metadata": {},
   "source": [
    "Current approach: loading all files into 1 pandas dataframe (currently (4721, 21)). Then I can...\n",
    "1. check the duplicates situation (key columns vs all columns) and raise errors if need be\n",
    "2. remove duplicates before generating documents\n",
    "3. Do some tasks column-wise over all the data, rather than while iterating over rows\n",
    "\n",
    "If I did the generator approach (load files 1 by 1, 1 row at a time), I'd have to modify how I do things:\n",
    "1. Don't do this check/raise errors. But try to mitigate potential \"duplicate\" issues: \n",
    "  * Sort all delimited strings\n",
    "  * Use a hash of all column values (when they're all strings) for `_id`. Want rows with all the same values to produce the same hash\n",
    "2. Either leave to BioThings toolset to remove duplicates, or could use a set of `_id` hashes so far to check/not create duplicate docs.\n",
    "3. Do the tasks on single rows/chunks (pandas [read_csv](https://pandas.pydata.org/docs/reference/api/pandas.read_csv.html#pandas.read_csv) has an iterator for rows/chunks! see iterator/chunksize parameters)\n",
    "\n",
    "\n",
    "Notes:\n",
    "* There are a few existing parsers that use `pandas` to load the entire raw data file at once: https://github.com/search?q=repo%3Abiothings%2Fpending.api%20pandas&type=code\n",
    "* But there are other existing parsers that use `csv` to load the file **one row at a time** (generator): https://github.com/search?q=repo%3Abiothings%2Fpending.api+csv+reader&type=code"
   ]
  },
  {
   "cell_type": "code",
   "execution_count": 2,
   "id": "8325a51e",
   "metadata": {
    "ExecuteTime": {
     "end_time": "2025-03-27T00:43:56.850787Z",
     "start_time": "2025-03-27T00:43:56.329932Z"
    }
   },
   "outputs": [],
   "source": [
    "## put into parser: already done\n",
    "import pathlib\n",
    "import pandas as pd\n",
    "\n",
    "## don't put in parser. Just for this notebook\n",
    "import glob\n",
    "from pprint import pprint\n",
    "\n",
    "## unsure on putting into parser: more for notebook viewing/debugging...\n",
    "pd.options.display.max_columns = None"
   ]
  },
  {
   "cell_type": "code",
   "execution_count": 3,
   "id": "dd0fc904",
   "metadata": {
    "ExecuteTime": {
     "end_time": "2025-03-27T00:43:58.675146Z",
     "start_time": "2025-03-27T00:43:58.408143Z"
    },
    "scrolled": true
   },
   "outputs": [
    {
     "data": {
      "text/plain": [
       "[PosixPath('/Users/colleenxu/Desktop/EBIgene2pheno_files/From_FTP/CardiacG2P_2025-02-28.csv.gz'),\n",
       " PosixPath('/Users/colleenxu/Desktop/EBIgene2pheno_files/From_FTP/SkeletalG2P_2025-02-28.csv.gz'),\n",
       " PosixPath('/Users/colleenxu/Desktop/EBIgene2pheno_files/From_FTP/DDG2P_2025-02-28.csv.gz'),\n",
       " PosixPath('/Users/colleenxu/Desktop/EBIgene2pheno_files/From_FTP/SkinG2P_2025-02-28.csv.gz'),\n",
       " PosixPath('/Users/colleenxu/Desktop/EBIgene2pheno_files/From_FTP/Hearing_lossG2P_2025-02-28.csv.gz'),\n",
       " PosixPath('/Users/colleenxu/Desktop/EBIgene2pheno_files/From_FTP/CancerG2P_2025-02-28.csv.gz'),\n",
       " PosixPath('/Users/colleenxu/Desktop/EBIgene2pheno_files/From_FTP/EyeG2P_2025-02-28.csv.gz')]"
      ]
     },
     "execution_count": 3,
     "metadata": {},
     "output_type": "execute_result"
    },
    {
     "data": {
      "text/plain": [
       "(4714, 21)"
      ]
     },
     "execution_count": 3,
     "metadata": {},
     "output_type": "execute_result"
    },
    {
     "data": {
      "text/html": [
       "<div>\n",
       "<style scoped>\n",
       "    .dataframe tbody tr th:only-of-type {\n",
       "        vertical-align: middle;\n",
       "    }\n",
       "\n",
       "    .dataframe tbody tr th {\n",
       "        vertical-align: top;\n",
       "    }\n",
       "\n",
       "    .dataframe thead th {\n",
       "        text-align: right;\n",
       "    }\n",
       "</style>\n",
       "<table border=\"1\" class=\"dataframe\">\n",
       "  <thead>\n",
       "    <tr style=\"text-align: right;\">\n",
       "      <th></th>\n",
       "      <th>g2p_id</th>\n",
       "      <th>gene_symbol</th>\n",
       "      <th>gene_mim</th>\n",
       "      <th>hgnc_id</th>\n",
       "      <th>previous_gene_symbols</th>\n",
       "      <th>disease_name</th>\n",
       "      <th>disease_mim</th>\n",
       "      <th>disease_MONDO</th>\n",
       "      <th>allelic_requirement</th>\n",
       "      <th>cross_cutting_modifier</th>\n",
       "      <th>confidence</th>\n",
       "      <th>variant_consequence</th>\n",
       "      <th>variant_types</th>\n",
       "      <th>molecular_mechanism</th>\n",
       "      <th>molecular_mechanism_categorisation</th>\n",
       "      <th>molecular_mechanism_evidence</th>\n",
       "      <th>phenotypes</th>\n",
       "      <th>publications</th>\n",
       "      <th>panel</th>\n",
       "      <th>comments</th>\n",
       "      <th>date_of_last_review</th>\n",
       "    </tr>\n",
       "  </thead>\n",
       "  <tbody>\n",
       "    <tr>\n",
       "      <th>0</th>\n",
       "      <td>G2P00124</td>\n",
       "      <td>KCNE1</td>\n",
       "      <td>176261</td>\n",
       "      <td>6240</td>\n",
       "      <td>ISK; JLNS2; LQT5; MINK</td>\n",
       "      <td>KCNE1-related Jervell and Lange-Nielsen syndrome</td>\n",
       "      <td>612347</td>\n",
       "      <td>NaN</td>\n",
       "      <td>biallelic_autosomal</td>\n",
       "      <td>potential secondary finding</td>\n",
       "      <td>strong</td>\n",
       "      <td>altered gene product structure</td>\n",
       "      <td>missense_variant; inframe_deletion; stop_gaine...</td>\n",
       "      <td>undetermined</td>\n",
       "      <td>inferred</td>\n",
       "      <td>NaN</td>\n",
       "      <td>HP:0000407; HP:0001657; HP:0000007; HP:0001279</td>\n",
       "      <td>30461122</td>\n",
       "      <td>DD; Cardiac</td>\n",
       "      <td>KCNE1-related JLNS is due to altered gene prod...</td>\n",
       "      <td>2024-04-05 12:05:01+00:00</td>\n",
       "    </tr>\n",
       "    <tr>\n",
       "      <th>1</th>\n",
       "      <td>G2P00841</td>\n",
       "      <td>PTPN11</td>\n",
       "      <td>176876</td>\n",
       "      <td>9644</td>\n",
       "      <td>BPTP3; NS1; PTP2C; SH-PTP2; SHP-2; SHP2</td>\n",
       "      <td>PTPN11-related Noonan syndrome with multiple l...</td>\n",
       "      <td>151100</td>\n",
       "      <td>NaN</td>\n",
       "      <td>monoallelic_autosomal</td>\n",
       "      <td>NaN</td>\n",
       "      <td>definitive</td>\n",
       "      <td>altered gene product structure</td>\n",
       "      <td>missense_variant; inframe_deletion; inframe_in...</td>\n",
       "      <td>undetermined</td>\n",
       "      <td>inferred</td>\n",
       "      <td>NaN</td>\n",
       "      <td>HP:0000325; HP:0002996; HP:0000957; HP:0001709...</td>\n",
       "      <td>27484170; 26377839; 25917897; 25884655; 248207...</td>\n",
       "      <td>DD; Skin; Cardiac</td>\n",
       "      <td>Expert review done on 12/01/2022; Noonan syndr...</td>\n",
       "      <td>2025-01-21 14:56:43+00:00</td>\n",
       "    </tr>\n",
       "    <tr>\n",
       "      <th>2</th>\n",
       "      <td>G2P03247</td>\n",
       "      <td>DSC2</td>\n",
       "      <td>125645</td>\n",
       "      <td>3036</td>\n",
       "      <td>CDHF2; DSC3</td>\n",
       "      <td>DSC2-related arrhythmogenic right ventricular ...</td>\n",
       "      <td>NaN</td>\n",
       "      <td>MONDO:0012506</td>\n",
       "      <td>monoallelic_autosomal</td>\n",
       "      <td>NaN</td>\n",
       "      <td>definitive</td>\n",
       "      <td>decreased gene product level; altered gene pro...</td>\n",
       "      <td>inframe_deletion; splice_region_variant; misse...</td>\n",
       "      <td>undetermined</td>\n",
       "      <td>inferred</td>\n",
       "      <td>NaN</td>\n",
       "      <td>NaN</td>\n",
       "      <td>31028357; 23911551; 21636032; 33831308; 263105...</td>\n",
       "      <td>Cardiac</td>\n",
       "      <td>Expert review done on 05/01/2022; DSC2-related...</td>\n",
       "      <td>2024-03-20 09:36:09+00:00</td>\n",
       "    </tr>\n",
       "    <tr>\n",
       "      <th>3</th>\n",
       "      <td>G2P03248</td>\n",
       "      <td>DSC2</td>\n",
       "      <td>125645</td>\n",
       "      <td>3036</td>\n",
       "      <td>CDHF2; DSC3</td>\n",
       "      <td>DSC2-related arrhythmogenic right ventricular ...</td>\n",
       "      <td>NaN</td>\n",
       "      <td>MONDO:0012506</td>\n",
       "      <td>biallelic_autosomal</td>\n",
       "      <td>NaN</td>\n",
       "      <td>definitive</td>\n",
       "      <td>decreased gene product level; altered gene pro...</td>\n",
       "      <td>inframe_deletion; splice_region_variant; misse...</td>\n",
       "      <td>undetermined</td>\n",
       "      <td>inferred</td>\n",
       "      <td>NaN</td>\n",
       "      <td>NaN</td>\n",
       "      <td>31028357; 23911551; 21636032; 33831308; 263105...</td>\n",
       "      <td>Cardiac</td>\n",
       "      <td>Expert review done on 05/01/2022; DSC2-related...</td>\n",
       "      <td>2024-03-20 09:35:19+00:00</td>\n",
       "    </tr>\n",
       "    <tr>\n",
       "      <th>4</th>\n",
       "      <td>G2P03249</td>\n",
       "      <td>DSG2</td>\n",
       "      <td>125671</td>\n",
       "      <td>3049</td>\n",
       "      <td>CDHF5</td>\n",
       "      <td>DSG2-related arrhythmogenic right ventricular ...</td>\n",
       "      <td>NaN</td>\n",
       "      <td>MONDO:0012434</td>\n",
       "      <td>monoallelic_autosomal</td>\n",
       "      <td>NaN</td>\n",
       "      <td>definitive</td>\n",
       "      <td>decreased gene product level; altered gene pro...</td>\n",
       "      <td>inframe_deletion; missense_variant; stop_gaine...</td>\n",
       "      <td>undetermined</td>\n",
       "      <td>inferred</td>\n",
       "      <td>NaN</td>\n",
       "      <td>NaN</td>\n",
       "      <td>21636032; 33831308; 33917638; 34400560; 240707...</td>\n",
       "      <td>Cardiac</td>\n",
       "      <td>Expert review done on 05/01/2022; DSG2-related...</td>\n",
       "      <td>2024-03-20 09:40:18+00:00</td>\n",
       "    </tr>\n",
       "  </tbody>\n",
       "</table>\n",
       "</div>"
      ],
      "text/plain": [
       "     g2p_id gene_symbol gene_mim hgnc_id  \\\n",
       "0  G2P00124       KCNE1   176261    6240   \n",
       "1  G2P00841      PTPN11   176876    9644   \n",
       "2  G2P03247        DSC2   125645    3036   \n",
       "3  G2P03248        DSC2   125645    3036   \n",
       "4  G2P03249        DSG2   125671    3049   \n",
       "\n",
       "                     previous_gene_symbols  \\\n",
       "0                   ISK; JLNS2; LQT5; MINK   \n",
       "1  BPTP3; NS1; PTP2C; SH-PTP2; SHP-2; SHP2   \n",
       "2                              CDHF2; DSC3   \n",
       "3                              CDHF2; DSC3   \n",
       "4                                    CDHF5   \n",
       "\n",
       "                                        disease_name disease_mim  \\\n",
       "0   KCNE1-related Jervell and Lange-Nielsen syndrome      612347   \n",
       "1  PTPN11-related Noonan syndrome with multiple l...      151100   \n",
       "2  DSC2-related arrhythmogenic right ventricular ...         NaN   \n",
       "3  DSC2-related arrhythmogenic right ventricular ...         NaN   \n",
       "4  DSG2-related arrhythmogenic right ventricular ...         NaN   \n",
       "\n",
       "   disease_MONDO    allelic_requirement       cross_cutting_modifier  \\\n",
       "0            NaN    biallelic_autosomal  potential secondary finding   \n",
       "1            NaN  monoallelic_autosomal                          NaN   \n",
       "2  MONDO:0012506  monoallelic_autosomal                          NaN   \n",
       "3  MONDO:0012506    biallelic_autosomal                          NaN   \n",
       "4  MONDO:0012434  monoallelic_autosomal                          NaN   \n",
       "\n",
       "   confidence                                variant_consequence  \\\n",
       "0      strong                     altered gene product structure   \n",
       "1  definitive                     altered gene product structure   \n",
       "2  definitive  decreased gene product level; altered gene pro...   \n",
       "3  definitive  decreased gene product level; altered gene pro...   \n",
       "4  definitive  decreased gene product level; altered gene pro...   \n",
       "\n",
       "                                       variant_types molecular_mechanism  \\\n",
       "0  missense_variant; inframe_deletion; stop_gaine...        undetermined   \n",
       "1  missense_variant; inframe_deletion; inframe_in...        undetermined   \n",
       "2  inframe_deletion; splice_region_variant; misse...        undetermined   \n",
       "3  inframe_deletion; splice_region_variant; misse...        undetermined   \n",
       "4  inframe_deletion; missense_variant; stop_gaine...        undetermined   \n",
       "\n",
       "  molecular_mechanism_categorisation molecular_mechanism_evidence  \\\n",
       "0                           inferred                          NaN   \n",
       "1                           inferred                          NaN   \n",
       "2                           inferred                          NaN   \n",
       "3                           inferred                          NaN   \n",
       "4                           inferred                          NaN   \n",
       "\n",
       "                                          phenotypes  \\\n",
       "0     HP:0000407; HP:0001657; HP:0000007; HP:0001279   \n",
       "1  HP:0000325; HP:0002996; HP:0000957; HP:0001709...   \n",
       "2                                                NaN   \n",
       "3                                                NaN   \n",
       "4                                                NaN   \n",
       "\n",
       "                                        publications              panel  \\\n",
       "0                                           30461122        DD; Cardiac   \n",
       "1  27484170; 26377839; 25917897; 25884655; 248207...  DD; Skin; Cardiac   \n",
       "2  31028357; 23911551; 21636032; 33831308; 263105...            Cardiac   \n",
       "3  31028357; 23911551; 21636032; 33831308; 263105...            Cardiac   \n",
       "4  21636032; 33831308; 33917638; 34400560; 240707...            Cardiac   \n",
       "\n",
       "                                            comments  \\\n",
       "0  KCNE1-related JLNS is due to altered gene prod...   \n",
       "1  Expert review done on 12/01/2022; Noonan syndr...   \n",
       "2  Expert review done on 05/01/2022; DSC2-related...   \n",
       "3  Expert review done on 05/01/2022; DSC2-related...   \n",
       "4  Expert review done on 05/01/2022; DSG2-related...   \n",
       "\n",
       "         date_of_last_review  \n",
       "0  2024-04-05 12:05:01+00:00  \n",
       "1  2025-01-21 14:56:43+00:00  \n",
       "2  2024-03-20 09:36:09+00:00  \n",
       "3  2024-03-20 09:35:19+00:00  \n",
       "4  2024-03-20 09:40:18+00:00  "
      ]
     },
     "execution_count": 3,
     "metadata": {},
     "output_type": "execute_result"
    },
    {
     "name": "stdout",
     "output_type": "stream",
     "text": [
      "<class 'pandas.core.frame.DataFrame'>\n",
      "RangeIndex: 4714 entries, 0 to 4713\n",
      "Data columns (total 21 columns):\n",
      " #   Column                              Non-Null Count  Dtype \n",
      "---  ------                              --------------  ----- \n",
      " 0   g2p_id                              4714 non-null   object\n",
      " 1   gene_symbol                         4714 non-null   object\n",
      " 2   gene_mim                            4712 non-null   object\n",
      " 3   hgnc_id                             4714 non-null   object\n",
      " 4   previous_gene_symbols               4241 non-null   object\n",
      " 5   disease_name                        4714 non-null   object\n",
      " 6   disease_mim                         3574 non-null   object\n",
      " 7   disease_MONDO                       638 non-null    object\n",
      " 8   allelic_requirement                 4714 non-null   object\n",
      " 9   cross_cutting_modifier              629 non-null    object\n",
      " 10  confidence                          4714 non-null   object\n",
      " 11  variant_consequence                 4693 non-null   object\n",
      " 12  variant_types                       1190 non-null   object\n",
      " 13  molecular_mechanism                 4714 non-null   object\n",
      " 14  molecular_mechanism_categorisation  4714 non-null   object\n",
      " 15  molecular_mechanism_evidence        32 non-null     object\n",
      " 16  phenotypes                          3394 non-null   object\n",
      " 17  publications                        4293 non-null   object\n",
      " 18  panel                               4714 non-null   object\n",
      " 19  comments                            129 non-null    object\n",
      " 20  date_of_last_review                 4714 non-null   object\n",
      "dtypes: object(21)\n",
      "memory usage: 6.4 MB\n"
     ]
    }
   ],
   "source": [
    "## put into parser (format): DONE\n",
    "\n",
    "base_file_path = pathlib.Path.home().joinpath(\"Desktop\", \"EBIgene2pheno_files\", \"From_FTP\")\n",
    "\n",
    "## pathlib's Path.glob produces a generator\n",
    "## using list works to check if paths matching pattern were actually found or not\n",
    "all_file_paths = list(base_file_path.glob(\"*.csv.gz\"))\n",
    "all_file_paths\n",
    "\n",
    "## force all columns to be str type, except \"date of last review\" (it'll be datetime)\n",
    "df = pd.concat((pd.read_csv(f, dtype=str, parse_dates=[\"date of last review\"]) for f in all_file_paths), ignore_index=True)\n",
    "\n",
    "## make column names snake-case - usable with itertuples later\n",
    "df.columns = df.columns.str.replace(\" \", \"_\")\n",
    "\n",
    "df.shape\n",
    "df.head()\n",
    "df.info(memory_usage=\"deep\")"
   ]
  },
  {
   "cell_type": "code",
   "execution_count": null,
   "id": "29bff489",
   "metadata": {
    "ExecuteTime": {
     "end_time": "2025-03-26T21:59:06.539483Z",
     "start_time": "2025-03-26T21:59:06.532051Z"
    }
   },
   "outputs": [],
   "source": [
    "glob.glob(\"*.csv.gz\")\n",
    "base_file_path.glob(\"*.csv.gz\")"
   ]
  },
  {
   "cell_type": "markdown",
   "id": "2a5724a6",
   "metadata": {},
   "source": [
    "## Checking, removing duplicates"
   ]
  },
  {
   "cell_type": "code",
   "execution_count": null,
   "id": "a6531826",
   "metadata": {
    "ExecuteTime": {
     "end_time": "2025-03-26T22:41:47.142684Z",
     "start_time": "2025-03-26T22:41:47.118042Z"
    }
   },
   "outputs": [],
   "source": [
    "## put into parser (format): DONE\n",
    "\n",
    "## This is a data-quality check to make sure drop_duplicates actually removes all duplicates. \n",
    "## Based on exploring the data, the column subset below should uniquely define one \n",
    "##   record's data/row.\n",
    "## If the de-deplicated data using this column set == de-duplicated data using the whole\n",
    "##   dataset, then everything is fine and the parser can proceed with de-duplication.\n",
    "## Else, the data needs to be explored and the parser probably needs adjustments.\n",
    "## Many column values are delimited strings, and my concern is that these values could\n",
    "##   differ (only in list order) for the \"same data\" in different files.\n",
    "\n",
    "n_duplicates_column_combo = df[df.duplicated(subset=[\"g2p_id\", \"gene_symbol\", \"disease_name\", \"allelic_requirement\", \n",
    "                                \"molecular_mechanism\"], keep=False)].shape\n",
    "\n",
    "n_duplicates_all_columns = df[df.duplicated(keep=False)].shape\n",
    "\n",
    "## for testing\n",
    "# n_duplicates_all_columns = (1, 1)\n",
    "\n",
    "\n",
    "if n_duplicates_column_combo != n_duplicates_all_columns: \n",
    "    raise AssertionError(\"The data format has changed, and record de-duplication may not work as-expected. \" \\\n",
    "                          \"Double-check the data and what columns uniquely define one record\")"
   ]
  },
  {
   "cell_type": "code",
   "execution_count": 4,
   "id": "1659d217",
   "metadata": {
    "ExecuteTime": {
     "end_time": "2025-03-27T00:44:03.577868Z",
     "start_time": "2025-03-27T00:44:03.559172Z"
    }
   },
   "outputs": [],
   "source": [
    "## put into parser (format): DONE\n",
    "\n",
    "## drop duplicates\n",
    "df.drop_duplicates(inplace=True, ignore_index=True)"
   ]
  },
  {
   "cell_type": "code",
   "execution_count": 5,
   "id": "8b25cb57",
   "metadata": {
    "ExecuteTime": {
     "end_time": "2025-03-27T00:44:24.594847Z",
     "start_time": "2025-03-27T00:44:24.582749Z"
    },
    "scrolled": true
   },
   "outputs": [
    {
     "name": "stdout",
     "output_type": "stream",
     "text": [
      "<class 'pandas.core.frame.DataFrame'>\n",
      "RangeIndex: 3647 entries, 0 to 3646\n",
      "Data columns (total 21 columns):\n",
      " #   Column                              Non-Null Count  Dtype \n",
      "---  ------                              --------------  ----- \n",
      " 0   g2p_id                              3647 non-null   object\n",
      " 1   gene_symbol                         3647 non-null   object\n",
      " 2   gene_mim                            3645 non-null   object\n",
      " 3   hgnc_id                             3647 non-null   object\n",
      " 4   previous_gene_symbols               3277 non-null   object\n",
      " 5   disease_name                        3647 non-null   object\n",
      " 6   disease_mim                         2570 non-null   object\n",
      " 7   disease_MONDO                       561 non-null    object\n",
      " 8   allelic_requirement                 3647 non-null   object\n",
      " 9   cross_cutting_modifier              451 non-null    object\n",
      " 10  confidence                          3647 non-null   object\n",
      " 11  variant_consequence                 3629 non-null   object\n",
      " 12  variant_types                       997 non-null    object\n",
      " 13  molecular_mechanism                 3647 non-null   object\n",
      " 14  molecular_mechanism_categorisation  3647 non-null   object\n",
      " 15  molecular_mechanism_evidence        28 non-null     object\n",
      " 16  phenotypes                          2430 non-null   object\n",
      " 17  publications                        3301 non-null   object\n",
      " 18  panel                               3647 non-null   object\n",
      " 19  comments                            103 non-null    object\n",
      " 20  date_of_last_review                 3647 non-null   object\n",
      "dtypes: object(21)\n",
      "memory usage: 598.5+ KB\n"
     ]
    }
   ],
   "source": [
    "df.info()"
   ]
  },
  {
   "cell_type": "markdown",
   "id": "a797c65d",
   "metadata": {},
   "source": [
    "## Column-level transforms"
   ]
  },
  {
   "cell_type": "code",
   "execution_count": null,
   "id": "3f9b5222",
   "metadata": {
    "ExecuteTime": {
     "end_time": "2025-03-26T21:59:21.189454Z",
     "start_time": "2025-03-26T21:59:21.180166Z"
    }
   },
   "outputs": [],
   "source": [
    "df_diseasemim = df.copy()\n",
    "\n",
    "## done to preserve NA\n",
    "df_diseasemim[\"disease_mim\"] = [i if pd.isna(i) \\\n",
    "                                else \"OMIM:\" + i if i.isnumeric() \\\n",
    "                                else i \\\n",
    "                                for i in df_diseasemim[\"disease_mim\"]]\n",
    "\n",
    "df_diseasemim[\"disease_mim\"] = df_diseasemim[\"disease_mim\"].str.replace(\"Orphanet\", \"orphanet\")"
   ]
  },
  {
   "cell_type": "code",
   "execution_count": null,
   "id": "14883b59",
   "metadata": {
    "ExecuteTime": {
     "end_time": "2025-03-26T21:59:21.704041Z",
     "start_time": "2025-03-26T21:59:21.691214Z"
    }
   },
   "outputs": [],
   "source": [
    "df_diseasemim[df_diseasemim[\"disease_mim\"].str.contains(\"OMIM:\", na=False)].shape\n",
    "\n",
    "df_diseasemim[df_diseasemim[\"disease_mim\"].str.contains(\"orphanet:\", na=False)].shape\n",
    "\n",
    "## add up row count. If == num non-null in info above, you're good \n",
    "## right now 2570 == 2570, so good"
   ]
  },
  {
   "cell_type": "code",
   "execution_count": 6,
   "id": "abb752b8",
   "metadata": {
    "ExecuteTime": {
     "end_time": "2025-03-27T00:44:46.105139Z",
     "start_time": "2025-03-27T00:44:46.075090Z"
    }
   },
   "outputs": [],
   "source": [
    "## put into parser (format): DONE\n",
    "\n",
    "## COLUMN-LEVEL TRANSFORMS\n",
    "\n",
    "## adding Translator/biolink prefixes to IDs\n",
    "df[\"gene_mim\"] = \"OMIM:\" + df[\"gene_mim\"]\n",
    "df[\"hgnc_id\"] = \"HGNC:\" + df[\"hgnc_id\"]\n",
    "df[\"disease_mim\"] = df[\"disease_mim\"].str.replace(\"Orphanet\", \"orphanet\")\n",
    "## done to preserve NA\n",
    "df[\"disease_mim\"] = [i if pd.isna(i) \\\n",
    "                     else \"OMIM:\" + i if i.isnumeric() \\\n",
    "                     else i \\\n",
    "                     for i in df[\"disease_mim\"]]\n",
    "\n",
    "## strip whitespace\n",
    "df[\"disease_name\"] = df[\"disease_name\"].str.strip()\n",
    "df[\"comments\"] = df[\"comments\"].str.strip()\n",
    "\n",
    "## create new columns\n",
    "## UI really wants resource website urls like this. May need to adjust over time as website changes\n",
    "df[\"g2p_record_url\"] = \"https://www.ebi.ac.uk/gene2phenotype/lgd/\" +  df[\"g2p_id\"]\n",
    "\n",
    "## replace panel keywords with full names shown on G2P website for single record\n",
    "## keeping \"Hearing loss\" as-is, changing all other values\n",
    "df[\"panel\"] = df[\"panel\"].str.replace(\"DD\", \"Developmental disorders\")\n",
    "df[\"panel\"] = df[\"panel\"].str.replace(\"Cancer\", \"Cancer disorders\")\n",
    "df[\"panel\"] = df[\"panel\"].str.replace(\"Cardiac\", \"Cardiac disorders\")\n",
    "df[\"panel\"] = df[\"panel\"].str.replace(\"Eye\", \"Eye disorders\")\n",
    "df[\"panel\"] = df[\"panel\"].str.replace(\"Skeletal\", \"Skeletal disorders\")\n",
    "df[\"panel\"] = df[\"panel\"].str.replace(\"Skin\", \"Skin disorders\")"
   ]
  },
  {
   "cell_type": "code",
   "execution_count": null,
   "id": "b05f644d",
   "metadata": {
    "ExecuteTime": {
     "end_time": "2025-03-26T22:41:57.714627Z",
     "start_time": "2025-03-26T22:41:57.696062Z"
    },
    "scrolled": true
   },
   "outputs": [],
   "source": [
    "## checking on column-level transforms\n",
    "\n",
    "df.head()\n",
    "# df[\"g2p record url\"].unique()[0:100]\n",
    "\n",
    "# df[df[\"disease mim\"].str.contains(\"orphanet\", na=False)]  ## 9 rows, so that's correct\n",
    "# df[df[\"panel\"].str.contains(\"Hearing\", na=False)]"
   ]
  },
  {
   "cell_type": "markdown",
   "id": "19fae1f9",
   "metadata": {},
   "source": [
    "## Generating documents"
   ]
  },
  {
   "cell_type": "code",
   "execution_count": null,
   "id": "66db0346",
   "metadata": {
    "ExecuteTime": {
     "end_time": "2025-03-25T08:02:33.422086Z",
     "start_time": "2025-03-25T08:02:33.411066Z"
    }
   },
   "outputs": [],
   "source": [
    "for row in df.itertuples(index=False):\n",
    "    if pd.notna(row.previous_gene_symbols):\n",
    "        [i.strip() for i in row.previous_gene_symbols.split(\";\")]\n",
    "        break"
   ]
  },
  {
   "cell_type": "code",
   "execution_count": null,
   "id": "e1266e91",
   "metadata": {
    "ExecuteTime": {
     "end_time": "2025-03-26T21:59:28.989934Z",
     "start_time": "2025-03-26T21:59:28.824623Z"
    }
   },
   "outputs": [],
   "source": [
    "## put into parser (format) -> DONE. \n",
    "##   don't save in array, yield each document instead\n",
    "\n",
    "## GENERATING DOCS, saving in array\n",
    "documents = []\n",
    "\n",
    "## using itertuples because it's faster, preserves datatypes\n",
    "for row in df.itertuples(index=False):\n",
    "    ## simple assignments\n",
    "    document = {\n",
    "        \"_id\": row.g2p_id,\n",
    "        \"subject\": {\n",
    "            \"hgnc_symbol\": row.gene_symbol,\n",
    "            \"hgnc\": row.hgnc_id,\n",
    "            \"type\": \"Gene\"\n",
    "        },\n",
    "        \"association\": {\n",
    "            \"g2p_record_id\": row.g2p_id,\n",
    "            \"g2p_record_url\": row.g2p_record_url,\n",
    "            \"allelic_requirement\": row.allelic_requirement,\n",
    "            \"confidence\": row.confidence,\n",
    "            \"molecular_mechanism\": row.molecular_mechanism,\n",
    "            \"molecular_mechanism_categorisation\": row.molecular_mechanism_categorisation,\n",
    "            \"g2p_panels\": [i.strip() for i in row.panel.split(\";\")],\n",
    "            \"date_of_last_review\": str(row.date_of_last_review)\n",
    "        },\n",
    "        \"object\": {\n",
    "            \"name\": row.disease_name,\n",
    "            \"type\": \"Disease\"\n",
    "        }\n",
    "    }    \n",
    "    ## only create field if value is not NA\n",
    "    ##   if value is NA, list comprehension with split won't work\n",
    "    ## Gene\n",
    "    if pd.notna(row.gene_mim):\n",
    "        document[\"subject\"][\"omim\"] = row.gene_mim\n",
    "    if pd.notna(row.previous_gene_symbols):\n",
    "        document[\"subject\"][\"previous_gene_symbols\"] = \\\n",
    "        [i.strip() for i in row.previous_gene_symbols.split(\";\")]\n",
    "        \n",
    "    ## Association\n",
    "    if pd.notna(row.cross_cutting_modifier):\n",
    "        document[\"association\"][\"cross_cutting_modifiers\"] = [i.strip() for i in row.cross_cutting_modifier.split(\";\")]\n",
    "    if pd.notna(row.variant_consequence):\n",
    "        document[\"association\"][\"variant_consequences\"] = [i.strip() for i in row.variant_consequence.split(\";\")]\n",
    "    if pd.notna(row.variant_types):\n",
    "        document[\"association\"][\"variant_types\"] = [i.strip() for i in row.variant_types.split(\";\")]\n",
    "    ## uses diff delimiters, could do more parsing\n",
    "    if pd.notna(row.molecular_mechanism_evidence):\n",
    "        document[\"association\"][\"molecular_mechanism_evidence\"] = [i.strip() for i in row.molecular_mechanism_evidence.split(\"&\")]\n",
    "    if pd.notna(row.phenotypes):\n",
    "        document[\"association\"][\"phenotypes\"] = [i.strip() for i in row.phenotypes.split(\";\")]\n",
    "    if pd.notna(row.publications):\n",
    "        document[\"association\"][\"pmids\"] = [i.strip() for i in row.publications.split(\";\")]\n",
    "    if pd.notna(row.comments):\n",
    "        document[\"association\"][\"curator_comments\"] = row.comments\n",
    "     \n",
    "    ## Disease\n",
    "    ## disease_mim: create field depending on whether OMIM or orphanet    \n",
    "    if pd.notna(row.disease_mim):\n",
    "        if row.disease_mim.startswith(\"orphanet\"):\n",
    "            document[\"object\"][\"orphanet\"] = row.disease_mim\n",
    "        elif row.disease_mim.startswith(\"OMIM\"):\n",
    "            document[\"object\"][\"omim\"] = row.disease_mim\n",
    "    if pd.notna(row.disease_MONDO):\n",
    "        document[\"object\"][\"mondo\"] = row.disease_MONDO\n",
    "    \n",
    "    documents.append(document)"
   ]
  },
  {
   "cell_type": "markdown",
   "id": "2b9b67a4",
   "metadata": {},
   "source": [
    "## Checking documents"
   ]
  },
  {
   "cell_type": "code",
   "execution_count": null,
   "id": "a08d1645",
   "metadata": {
    "ExecuteTime": {
     "end_time": "2025-03-26T22:13:26.691894Z",
     "start_time": "2025-03-26T22:13:26.669326Z"
    }
   },
   "outputs": [],
   "source": [
    "df[df[\"panel\"].str.contains(\"Hearing\", na=False)]\n",
    "\n",
    "## look for single values\n",
    "# df[~ df[\"publications\"].str.contains(\";\", na=True)]\n",
    "\n",
    "\n",
    "# df[df[\"publications\"].isna()]\n",
    "# df[df[\"cross_cutting_modifier\"].notna()]"
   ]
  },
  {
   "cell_type": "code",
   "execution_count": null,
   "id": "98f15187",
   "metadata": {
    "ExecuteTime": {
     "end_time": "2025-03-25T08:50:39.744164Z",
     "start_time": "2025-03-25T08:50:39.740486Z"
    }
   },
   "outputs": [],
   "source": [
    "pprint(documents[3642])\n",
    "\n",
    "# documents[416]"
   ]
  },
  {
   "cell_type": "markdown",
   "id": "5a0d2644",
   "metadata": {},
   "source": [
    "## Parser notes"
   ]
  },
  {
   "cell_type": "markdown",
   "id": "fb18be04",
   "metadata": {},
   "source": [
    "Fine to use raise/assert in parser (raise is technically better programming behavior: https://realpython.com/python-assert-statement/#understanding-common-pitfalls-of-assert)\n",
    "\n",
    "\n",
    "My notes on parser:\n",
    "* adding prefixes to gene/disease IDs is good for pre-NodeNorming steps\n",
    "* keeping diff gene/disease ID namespaces as separate fields right now is good for current BTE/x-bte-annotation system\n",
    "\n",
    "\n",
    "My notes on syntax:\n",
    "* use `yield` when you want to \"return\" within a \"for loop\" (return only happen once, then exit for-loop/function execution)\n",
    "  * that's what it's used in main execution, when you're iterating over csv rows to generate documents\n",
    "* use `yield from {function}` to get the data from a generator (created by `yield` being used the function)"
   ]
  },
  {
   "cell_type": "markdown",
   "id": "0ff20129",
   "metadata": {},
   "source": [
    "## Pre-NodeNorming"
   ]
  },
  {
   "cell_type": "code",
   "execution_count": 40,
   "id": "ec7095c7",
   "metadata": {
    "ExecuteTime": {
     "end_time": "2025-03-27T07:41:25.460374Z",
     "start_time": "2025-03-27T07:41:25.457341Z"
    }
   },
   "outputs": [],
   "source": [
    "## starting from column-level transforms\n",
    "\n",
    "import requests\n",
    "import itertools\n",
    "\n",
    "nodenorm_url = \"https://nodenorm.ci.transltr.io/get_normalized_nodes\""
   ]
  },
  {
   "cell_type": "code",
   "execution_count": 8,
   "id": "c9c7d169",
   "metadata": {
    "ExecuteTime": {
     "end_time": "2025-03-27T00:44:56.117407Z",
     "start_time": "2025-03-27T00:44:56.103989Z"
    }
   },
   "outputs": [
    {
     "name": "stdout",
     "output_type": "stream",
     "text": [
      "<class 'pandas.core.frame.DataFrame'>\n",
      "RangeIndex: 3647 entries, 0 to 3646\n",
      "Data columns (total 22 columns):\n",
      " #   Column                              Non-Null Count  Dtype \n",
      "---  ------                              --------------  ----- \n",
      " 0   g2p_id                              3647 non-null   object\n",
      " 1   gene_symbol                         3647 non-null   object\n",
      " 2   gene_mim                            3645 non-null   object\n",
      " 3   hgnc_id                             3647 non-null   object\n",
      " 4   previous_gene_symbols               3277 non-null   object\n",
      " 5   disease_name                        3647 non-null   object\n",
      " 6   disease_mim                         2570 non-null   object\n",
      " 7   disease_MONDO                       561 non-null    object\n",
      " 8   allelic_requirement                 3647 non-null   object\n",
      " 9   cross_cutting_modifier              451 non-null    object\n",
      " 10  confidence                          3647 non-null   object\n",
      " 11  variant_consequence                 3629 non-null   object\n",
      " 12  variant_types                       997 non-null    object\n",
      " 13  molecular_mechanism                 3647 non-null   object\n",
      " 14  molecular_mechanism_categorisation  3647 non-null   object\n",
      " 15  molecular_mechanism_evidence        28 non-null     object\n",
      " 16  phenotypes                          2430 non-null   object\n",
      " 17  publications                        3301 non-null   object\n",
      " 18  panel                               3647 non-null   object\n",
      " 19  comments                            103 non-null    object\n",
      " 20  date_of_last_review                 3647 non-null   object\n",
      " 21  g2p_record_url                      3647 non-null   object\n",
      "dtypes: object(22)\n",
      "memory usage: 627.0+ KB\n"
     ]
    }
   ],
   "source": [
    "df.info()"
   ]
  },
  {
   "cell_type": "code",
   "execution_count": null,
   "id": "2665b2c6",
   "metadata": {
    "ExecuteTime": {
     "end_time": "2025-03-26T23:44:46.517168Z",
     "start_time": "2025-03-26T23:44:46.498324Z"
    }
   },
   "outputs": [],
   "source": [
    "df.head()"
   ]
  },
  {
   "cell_type": "markdown",
   "id": "a7cb4d28",
   "metadata": {},
   "source": [
    "### Method 1 (row-wise, will send duplicates)"
   ]
  },
  {
   "cell_type": "code",
   "execution_count": 9,
   "id": "e432ace7",
   "metadata": {
    "ExecuteTime": {
     "end_time": "2025-03-27T00:49:35.370164Z",
     "start_time": "2025-03-27T00:48:40.612727Z"
    }
   },
   "outputs": [
    {
     "name": "stdout",
     "output_type": "stream",
     "text": [
      "10\n",
      "20\n",
      "30\n",
      "40\n",
      "50\n",
      "60\n",
      "70\n",
      "80\n",
      "90\n",
      "100\n",
      "110\n",
      "120\n",
      "130\n",
      "140\n",
      "150\n"
     ]
    },
    {
     "ename": "KeyboardInterrupt",
     "evalue": "",
     "output_type": "error",
     "traceback": [
      "\u001b[0;31m---------------------------------------------------------------------------\u001b[0m",
      "\u001b[0;31mKeyboardInterrupt\u001b[0m                         Traceback (most recent call last)",
      "Cell \u001b[0;32mIn[9], line 16\u001b[0m\n\u001b[1;32m     10\u001b[0m \u001b[38;5;28;01mif\u001b[39;00m gene_curies:\n\u001b[1;32m     11\u001b[0m     req_body \u001b[38;5;241m=\u001b[39m {\n\u001b[1;32m     12\u001b[0m         \u001b[38;5;124m\"\u001b[39m\u001b[38;5;124mcuries\u001b[39m\u001b[38;5;124m\"\u001b[39m: gene_curies,\n\u001b[1;32m     13\u001b[0m         \u001b[38;5;124m\"\u001b[39m\u001b[38;5;124mconflate\u001b[39m\u001b[38;5;124m\"\u001b[39m: \u001b[38;5;28;01mTrue\u001b[39;00m\n\u001b[1;32m     14\u001b[0m     }\n\u001b[0;32m---> 16\u001b[0m     r \u001b[38;5;241m=\u001b[39m \u001b[43mrequests\u001b[49m\u001b[38;5;241;43m.\u001b[39;49m\u001b[43mpost\u001b[49m\u001b[43m(\u001b[49m\u001b[43mnodenorm_url\u001b[49m\u001b[43m,\u001b[49m\u001b[43m \u001b[49m\u001b[43mjson\u001b[49m\u001b[38;5;241;43m=\u001b[39;49m\u001b[43mreq_body\u001b[49m\u001b[43m)\u001b[49m\n\u001b[1;32m     17\u001b[0m     response \u001b[38;5;241m=\u001b[39m r\u001b[38;5;241m.\u001b[39mjson()\n\u001b[1;32m     19\u001b[0m     \u001b[38;5;28;01mif\u001b[39;00m \u001b[38;5;28mlen\u001b[39m(gene_curies) \u001b[38;5;241m==\u001b[39m \u001b[38;5;241m2\u001b[39m:\n",
      "File \u001b[0;32m~/miniconda3/envs/2023_08_01_BasicWork/lib/python3.12/site-packages/requests/api.py:115\u001b[0m, in \u001b[0;36mpost\u001b[0;34m(url, data, json, **kwargs)\u001b[0m\n\u001b[1;32m    103\u001b[0m \u001b[38;5;28;01mdef\u001b[39;00m \u001b[38;5;21mpost\u001b[39m(url, data\u001b[38;5;241m=\u001b[39m\u001b[38;5;28;01mNone\u001b[39;00m, json\u001b[38;5;241m=\u001b[39m\u001b[38;5;28;01mNone\u001b[39;00m, \u001b[38;5;241m*\u001b[39m\u001b[38;5;241m*\u001b[39mkwargs):\n\u001b[1;32m    104\u001b[0m \u001b[38;5;250m    \u001b[39m\u001b[38;5;124mr\u001b[39m\u001b[38;5;124;03m\"\"\"Sends a POST request.\u001b[39;00m\n\u001b[1;32m    105\u001b[0m \n\u001b[1;32m    106\u001b[0m \u001b[38;5;124;03m    :param url: URL for the new :class:`Request` object.\u001b[39;00m\n\u001b[0;32m   (...)\u001b[0m\n\u001b[1;32m    112\u001b[0m \u001b[38;5;124;03m    :rtype: requests.Response\u001b[39;00m\n\u001b[1;32m    113\u001b[0m \u001b[38;5;124;03m    \"\"\"\u001b[39;00m\n\u001b[0;32m--> 115\u001b[0m     \u001b[38;5;28;01mreturn\u001b[39;00m \u001b[43mrequest\u001b[49m\u001b[43m(\u001b[49m\u001b[38;5;124;43m\"\u001b[39;49m\u001b[38;5;124;43mpost\u001b[39;49m\u001b[38;5;124;43m\"\u001b[39;49m\u001b[43m,\u001b[49m\u001b[43m \u001b[49m\u001b[43murl\u001b[49m\u001b[43m,\u001b[49m\u001b[43m \u001b[49m\u001b[43mdata\u001b[49m\u001b[38;5;241;43m=\u001b[39;49m\u001b[43mdata\u001b[49m\u001b[43m,\u001b[49m\u001b[43m \u001b[49m\u001b[43mjson\u001b[49m\u001b[38;5;241;43m=\u001b[39;49m\u001b[43mjson\u001b[49m\u001b[43m,\u001b[49m\u001b[43m \u001b[49m\u001b[38;5;241;43m*\u001b[39;49m\u001b[38;5;241;43m*\u001b[39;49m\u001b[43mkwargs\u001b[49m\u001b[43m)\u001b[49m\n",
      "File \u001b[0;32m~/miniconda3/envs/2023_08_01_BasicWork/lib/python3.12/site-packages/requests/api.py:59\u001b[0m, in \u001b[0;36mrequest\u001b[0;34m(method, url, **kwargs)\u001b[0m\n\u001b[1;32m     55\u001b[0m \u001b[38;5;66;03m# By using the 'with' statement we are sure the session is closed, thus we\u001b[39;00m\n\u001b[1;32m     56\u001b[0m \u001b[38;5;66;03m# avoid leaving sockets open which can trigger a ResourceWarning in some\u001b[39;00m\n\u001b[1;32m     57\u001b[0m \u001b[38;5;66;03m# cases, and look like a memory leak in others.\u001b[39;00m\n\u001b[1;32m     58\u001b[0m \u001b[38;5;28;01mwith\u001b[39;00m sessions\u001b[38;5;241m.\u001b[39mSession() \u001b[38;5;28;01mas\u001b[39;00m session:\n\u001b[0;32m---> 59\u001b[0m     \u001b[38;5;28;01mreturn\u001b[39;00m \u001b[43msession\u001b[49m\u001b[38;5;241;43m.\u001b[39;49m\u001b[43mrequest\u001b[49m\u001b[43m(\u001b[49m\u001b[43mmethod\u001b[49m\u001b[38;5;241;43m=\u001b[39;49m\u001b[43mmethod\u001b[49m\u001b[43m,\u001b[49m\u001b[43m \u001b[49m\u001b[43murl\u001b[49m\u001b[38;5;241;43m=\u001b[39;49m\u001b[43murl\u001b[49m\u001b[43m,\u001b[49m\u001b[43m \u001b[49m\u001b[38;5;241;43m*\u001b[39;49m\u001b[38;5;241;43m*\u001b[39;49m\u001b[43mkwargs\u001b[49m\u001b[43m)\u001b[49m\n",
      "File \u001b[0;32m~/miniconda3/envs/2023_08_01_BasicWork/lib/python3.12/site-packages/requests/sessions.py:589\u001b[0m, in \u001b[0;36mSession.request\u001b[0;34m(self, method, url, params, data, headers, cookies, files, auth, timeout, allow_redirects, proxies, hooks, stream, verify, cert, json)\u001b[0m\n\u001b[1;32m    584\u001b[0m send_kwargs \u001b[38;5;241m=\u001b[39m {\n\u001b[1;32m    585\u001b[0m     \u001b[38;5;124m\"\u001b[39m\u001b[38;5;124mtimeout\u001b[39m\u001b[38;5;124m\"\u001b[39m: timeout,\n\u001b[1;32m    586\u001b[0m     \u001b[38;5;124m\"\u001b[39m\u001b[38;5;124mallow_redirects\u001b[39m\u001b[38;5;124m\"\u001b[39m: allow_redirects,\n\u001b[1;32m    587\u001b[0m }\n\u001b[1;32m    588\u001b[0m send_kwargs\u001b[38;5;241m.\u001b[39mupdate(settings)\n\u001b[0;32m--> 589\u001b[0m resp \u001b[38;5;241m=\u001b[39m \u001b[38;5;28;43mself\u001b[39;49m\u001b[38;5;241;43m.\u001b[39;49m\u001b[43msend\u001b[49m\u001b[43m(\u001b[49m\u001b[43mprep\u001b[49m\u001b[43m,\u001b[49m\u001b[43m \u001b[49m\u001b[38;5;241;43m*\u001b[39;49m\u001b[38;5;241;43m*\u001b[39;49m\u001b[43msend_kwargs\u001b[49m\u001b[43m)\u001b[49m\n\u001b[1;32m    591\u001b[0m \u001b[38;5;28;01mreturn\u001b[39;00m resp\n",
      "File \u001b[0;32m~/miniconda3/envs/2023_08_01_BasicWork/lib/python3.12/site-packages/requests/sessions.py:703\u001b[0m, in \u001b[0;36mSession.send\u001b[0;34m(self, request, **kwargs)\u001b[0m\n\u001b[1;32m    700\u001b[0m start \u001b[38;5;241m=\u001b[39m preferred_clock()\n\u001b[1;32m    702\u001b[0m \u001b[38;5;66;03m# Send the request\u001b[39;00m\n\u001b[0;32m--> 703\u001b[0m r \u001b[38;5;241m=\u001b[39m \u001b[43madapter\u001b[49m\u001b[38;5;241;43m.\u001b[39;49m\u001b[43msend\u001b[49m\u001b[43m(\u001b[49m\u001b[43mrequest\u001b[49m\u001b[43m,\u001b[49m\u001b[43m \u001b[49m\u001b[38;5;241;43m*\u001b[39;49m\u001b[38;5;241;43m*\u001b[39;49m\u001b[43mkwargs\u001b[49m\u001b[43m)\u001b[49m\n\u001b[1;32m    705\u001b[0m \u001b[38;5;66;03m# Total elapsed time of the request (approximately)\u001b[39;00m\n\u001b[1;32m    706\u001b[0m elapsed \u001b[38;5;241m=\u001b[39m preferred_clock() \u001b[38;5;241m-\u001b[39m start\n",
      "File \u001b[0;32m~/miniconda3/envs/2023_08_01_BasicWork/lib/python3.12/site-packages/requests/adapters.py:486\u001b[0m, in \u001b[0;36mHTTPAdapter.send\u001b[0;34m(self, request, stream, timeout, verify, cert, proxies)\u001b[0m\n\u001b[1;32m    483\u001b[0m     timeout \u001b[38;5;241m=\u001b[39m TimeoutSauce(connect\u001b[38;5;241m=\u001b[39mtimeout, read\u001b[38;5;241m=\u001b[39mtimeout)\n\u001b[1;32m    485\u001b[0m \u001b[38;5;28;01mtry\u001b[39;00m:\n\u001b[0;32m--> 486\u001b[0m     resp \u001b[38;5;241m=\u001b[39m \u001b[43mconn\u001b[49m\u001b[38;5;241;43m.\u001b[39;49m\u001b[43murlopen\u001b[49m\u001b[43m(\u001b[49m\n\u001b[1;32m    487\u001b[0m \u001b[43m        \u001b[49m\u001b[43mmethod\u001b[49m\u001b[38;5;241;43m=\u001b[39;49m\u001b[43mrequest\u001b[49m\u001b[38;5;241;43m.\u001b[39;49m\u001b[43mmethod\u001b[49m\u001b[43m,\u001b[49m\n\u001b[1;32m    488\u001b[0m \u001b[43m        \u001b[49m\u001b[43murl\u001b[49m\u001b[38;5;241;43m=\u001b[39;49m\u001b[43murl\u001b[49m\u001b[43m,\u001b[49m\n\u001b[1;32m    489\u001b[0m \u001b[43m        \u001b[49m\u001b[43mbody\u001b[49m\u001b[38;5;241;43m=\u001b[39;49m\u001b[43mrequest\u001b[49m\u001b[38;5;241;43m.\u001b[39;49m\u001b[43mbody\u001b[49m\u001b[43m,\u001b[49m\n\u001b[1;32m    490\u001b[0m \u001b[43m        \u001b[49m\u001b[43mheaders\u001b[49m\u001b[38;5;241;43m=\u001b[39;49m\u001b[43mrequest\u001b[49m\u001b[38;5;241;43m.\u001b[39;49m\u001b[43mheaders\u001b[49m\u001b[43m,\u001b[49m\n\u001b[1;32m    491\u001b[0m \u001b[43m        \u001b[49m\u001b[43mredirect\u001b[49m\u001b[38;5;241;43m=\u001b[39;49m\u001b[38;5;28;43;01mFalse\u001b[39;49;00m\u001b[43m,\u001b[49m\n\u001b[1;32m    492\u001b[0m \u001b[43m        \u001b[49m\u001b[43massert_same_host\u001b[49m\u001b[38;5;241;43m=\u001b[39;49m\u001b[38;5;28;43;01mFalse\u001b[39;49;00m\u001b[43m,\u001b[49m\n\u001b[1;32m    493\u001b[0m \u001b[43m        \u001b[49m\u001b[43mpreload_content\u001b[49m\u001b[38;5;241;43m=\u001b[39;49m\u001b[38;5;28;43;01mFalse\u001b[39;49;00m\u001b[43m,\u001b[49m\n\u001b[1;32m    494\u001b[0m \u001b[43m        \u001b[49m\u001b[43mdecode_content\u001b[49m\u001b[38;5;241;43m=\u001b[39;49m\u001b[38;5;28;43;01mFalse\u001b[39;49;00m\u001b[43m,\u001b[49m\n\u001b[1;32m    495\u001b[0m \u001b[43m        \u001b[49m\u001b[43mretries\u001b[49m\u001b[38;5;241;43m=\u001b[39;49m\u001b[38;5;28;43mself\u001b[39;49m\u001b[38;5;241;43m.\u001b[39;49m\u001b[43mmax_retries\u001b[49m\u001b[43m,\u001b[49m\n\u001b[1;32m    496\u001b[0m \u001b[43m        \u001b[49m\u001b[43mtimeout\u001b[49m\u001b[38;5;241;43m=\u001b[39;49m\u001b[43mtimeout\u001b[49m\u001b[43m,\u001b[49m\n\u001b[1;32m    497\u001b[0m \u001b[43m        \u001b[49m\u001b[43mchunked\u001b[49m\u001b[38;5;241;43m=\u001b[39;49m\u001b[43mchunked\u001b[49m\u001b[43m,\u001b[49m\n\u001b[1;32m    498\u001b[0m \u001b[43m    \u001b[49m\u001b[43m)\u001b[49m\n\u001b[1;32m    500\u001b[0m \u001b[38;5;28;01mexcept\u001b[39;00m (ProtocolError, \u001b[38;5;167;01mOSError\u001b[39;00m) \u001b[38;5;28;01mas\u001b[39;00m err:\n\u001b[1;32m    501\u001b[0m     \u001b[38;5;28;01mraise\u001b[39;00m \u001b[38;5;167;01mConnectionError\u001b[39;00m(err, request\u001b[38;5;241m=\u001b[39mrequest)\n",
      "File \u001b[0;32m~/miniconda3/envs/2023_08_01_BasicWork/lib/python3.12/site-packages/urllib3/connectionpool.py:790\u001b[0m, in \u001b[0;36mHTTPConnectionPool.urlopen\u001b[0;34m(self, method, url, body, headers, retries, redirect, assert_same_host, timeout, pool_timeout, release_conn, chunked, body_pos, preload_content, decode_content, **response_kw)\u001b[0m\n\u001b[1;32m    787\u001b[0m response_conn \u001b[38;5;241m=\u001b[39m conn \u001b[38;5;28;01mif\u001b[39;00m \u001b[38;5;129;01mnot\u001b[39;00m release_conn \u001b[38;5;28;01melse\u001b[39;00m \u001b[38;5;28;01mNone\u001b[39;00m\n\u001b[1;32m    789\u001b[0m \u001b[38;5;66;03m# Make the request on the HTTPConnection object\u001b[39;00m\n\u001b[0;32m--> 790\u001b[0m response \u001b[38;5;241m=\u001b[39m \u001b[38;5;28;43mself\u001b[39;49m\u001b[38;5;241;43m.\u001b[39;49m\u001b[43m_make_request\u001b[49m\u001b[43m(\u001b[49m\n\u001b[1;32m    791\u001b[0m \u001b[43m    \u001b[49m\u001b[43mconn\u001b[49m\u001b[43m,\u001b[49m\n\u001b[1;32m    792\u001b[0m \u001b[43m    \u001b[49m\u001b[43mmethod\u001b[49m\u001b[43m,\u001b[49m\n\u001b[1;32m    793\u001b[0m \u001b[43m    \u001b[49m\u001b[43murl\u001b[49m\u001b[43m,\u001b[49m\n\u001b[1;32m    794\u001b[0m \u001b[43m    \u001b[49m\u001b[43mtimeout\u001b[49m\u001b[38;5;241;43m=\u001b[39;49m\u001b[43mtimeout_obj\u001b[49m\u001b[43m,\u001b[49m\n\u001b[1;32m    795\u001b[0m \u001b[43m    \u001b[49m\u001b[43mbody\u001b[49m\u001b[38;5;241;43m=\u001b[39;49m\u001b[43mbody\u001b[49m\u001b[43m,\u001b[49m\n\u001b[1;32m    796\u001b[0m \u001b[43m    \u001b[49m\u001b[43mheaders\u001b[49m\u001b[38;5;241;43m=\u001b[39;49m\u001b[43mheaders\u001b[49m\u001b[43m,\u001b[49m\n\u001b[1;32m    797\u001b[0m \u001b[43m    \u001b[49m\u001b[43mchunked\u001b[49m\u001b[38;5;241;43m=\u001b[39;49m\u001b[43mchunked\u001b[49m\u001b[43m,\u001b[49m\n\u001b[1;32m    798\u001b[0m \u001b[43m    \u001b[49m\u001b[43mretries\u001b[49m\u001b[38;5;241;43m=\u001b[39;49m\u001b[43mretries\u001b[49m\u001b[43m,\u001b[49m\n\u001b[1;32m    799\u001b[0m \u001b[43m    \u001b[49m\u001b[43mresponse_conn\u001b[49m\u001b[38;5;241;43m=\u001b[39;49m\u001b[43mresponse_conn\u001b[49m\u001b[43m,\u001b[49m\n\u001b[1;32m    800\u001b[0m \u001b[43m    \u001b[49m\u001b[43mpreload_content\u001b[49m\u001b[38;5;241;43m=\u001b[39;49m\u001b[43mpreload_content\u001b[49m\u001b[43m,\u001b[49m\n\u001b[1;32m    801\u001b[0m \u001b[43m    \u001b[49m\u001b[43mdecode_content\u001b[49m\u001b[38;5;241;43m=\u001b[39;49m\u001b[43mdecode_content\u001b[49m\u001b[43m,\u001b[49m\n\u001b[1;32m    802\u001b[0m \u001b[43m    \u001b[49m\u001b[38;5;241;43m*\u001b[39;49m\u001b[38;5;241;43m*\u001b[39;49m\u001b[43mresponse_kw\u001b[49m\u001b[43m,\u001b[49m\n\u001b[1;32m    803\u001b[0m \u001b[43m\u001b[49m\u001b[43m)\u001b[49m\n\u001b[1;32m    805\u001b[0m \u001b[38;5;66;03m# Everything went great!\u001b[39;00m\n\u001b[1;32m    806\u001b[0m clean_exit \u001b[38;5;241m=\u001b[39m \u001b[38;5;28;01mTrue\u001b[39;00m\n",
      "File \u001b[0;32m~/miniconda3/envs/2023_08_01_BasicWork/lib/python3.12/site-packages/urllib3/connectionpool.py:467\u001b[0m, in \u001b[0;36mHTTPConnectionPool._make_request\u001b[0;34m(self, conn, method, url, body, headers, retries, timeout, chunked, response_conn, preload_content, decode_content, enforce_content_length)\u001b[0m\n\u001b[1;32m    464\u001b[0m \u001b[38;5;28;01mtry\u001b[39;00m:\n\u001b[1;32m    465\u001b[0m     \u001b[38;5;66;03m# Trigger any extra validation we need to do.\u001b[39;00m\n\u001b[1;32m    466\u001b[0m     \u001b[38;5;28;01mtry\u001b[39;00m:\n\u001b[0;32m--> 467\u001b[0m         \u001b[38;5;28;43mself\u001b[39;49m\u001b[38;5;241;43m.\u001b[39;49m\u001b[43m_validate_conn\u001b[49m\u001b[43m(\u001b[49m\u001b[43mconn\u001b[49m\u001b[43m)\u001b[49m\n\u001b[1;32m    468\u001b[0m     \u001b[38;5;28;01mexcept\u001b[39;00m (SocketTimeout, BaseSSLError) \u001b[38;5;28;01mas\u001b[39;00m e:\n\u001b[1;32m    469\u001b[0m         \u001b[38;5;28mself\u001b[39m\u001b[38;5;241m.\u001b[39m_raise_timeout(err\u001b[38;5;241m=\u001b[39me, url\u001b[38;5;241m=\u001b[39murl, timeout_value\u001b[38;5;241m=\u001b[39mconn\u001b[38;5;241m.\u001b[39mtimeout)\n",
      "File \u001b[0;32m~/miniconda3/envs/2023_08_01_BasicWork/lib/python3.12/site-packages/urllib3/connectionpool.py:1092\u001b[0m, in \u001b[0;36mHTTPSConnectionPool._validate_conn\u001b[0;34m(self, conn)\u001b[0m\n\u001b[1;32m   1090\u001b[0m \u001b[38;5;66;03m# Force connect early to allow us to validate the connection.\u001b[39;00m\n\u001b[1;32m   1091\u001b[0m \u001b[38;5;28;01mif\u001b[39;00m conn\u001b[38;5;241m.\u001b[39mis_closed:\n\u001b[0;32m-> 1092\u001b[0m     \u001b[43mconn\u001b[49m\u001b[38;5;241;43m.\u001b[39;49m\u001b[43mconnect\u001b[49m\u001b[43m(\u001b[49m\u001b[43m)\u001b[49m\n\u001b[1;32m   1094\u001b[0m \u001b[38;5;28;01mif\u001b[39;00m \u001b[38;5;129;01mnot\u001b[39;00m conn\u001b[38;5;241m.\u001b[39mis_verified:\n\u001b[1;32m   1095\u001b[0m     warnings\u001b[38;5;241m.\u001b[39mwarn(\n\u001b[1;32m   1096\u001b[0m         (\n\u001b[1;32m   1097\u001b[0m             \u001b[38;5;124mf\u001b[39m\u001b[38;5;124m\"\u001b[39m\u001b[38;5;124mUnverified HTTPS request is being made to host \u001b[39m\u001b[38;5;124m'\u001b[39m\u001b[38;5;132;01m{\u001b[39;00mconn\u001b[38;5;241m.\u001b[39mhost\u001b[38;5;132;01m}\u001b[39;00m\u001b[38;5;124m'\u001b[39m\u001b[38;5;124m. \u001b[39m\u001b[38;5;124m\"\u001b[39m\n\u001b[0;32m   (...)\u001b[0m\n\u001b[1;32m   1102\u001b[0m         InsecureRequestWarning,\n\u001b[1;32m   1103\u001b[0m     )\n",
      "File \u001b[0;32m~/miniconda3/envs/2023_08_01_BasicWork/lib/python3.12/site-packages/urllib3/connection.py:642\u001b[0m, in \u001b[0;36mHTTPSConnection.connect\u001b[0;34m(self)\u001b[0m\n\u001b[1;32m    633\u001b[0m \u001b[38;5;28;01mif\u001b[39;00m is_time_off:\n\u001b[1;32m    634\u001b[0m     warnings\u001b[38;5;241m.\u001b[39mwarn(\n\u001b[1;32m    635\u001b[0m         (\n\u001b[1;32m    636\u001b[0m             \u001b[38;5;124mf\u001b[39m\u001b[38;5;124m\"\u001b[39m\u001b[38;5;124mSystem time is way off (before \u001b[39m\u001b[38;5;132;01m{\u001b[39;00mRECENT_DATE\u001b[38;5;132;01m}\u001b[39;00m\u001b[38;5;124m). This will probably \u001b[39m\u001b[38;5;124m\"\u001b[39m\n\u001b[0;32m   (...)\u001b[0m\n\u001b[1;32m    639\u001b[0m         SystemTimeWarning,\n\u001b[1;32m    640\u001b[0m     )\n\u001b[0;32m--> 642\u001b[0m sock_and_verified \u001b[38;5;241m=\u001b[39m \u001b[43m_ssl_wrap_socket_and_match_hostname\u001b[49m\u001b[43m(\u001b[49m\n\u001b[1;32m    643\u001b[0m \u001b[43m    \u001b[49m\u001b[43msock\u001b[49m\u001b[38;5;241;43m=\u001b[39;49m\u001b[43msock\u001b[49m\u001b[43m,\u001b[49m\n\u001b[1;32m    644\u001b[0m \u001b[43m    \u001b[49m\u001b[43mcert_reqs\u001b[49m\u001b[38;5;241;43m=\u001b[39;49m\u001b[38;5;28;43mself\u001b[39;49m\u001b[38;5;241;43m.\u001b[39;49m\u001b[43mcert_reqs\u001b[49m\u001b[43m,\u001b[49m\n\u001b[1;32m    645\u001b[0m \u001b[43m    \u001b[49m\u001b[43mssl_version\u001b[49m\u001b[38;5;241;43m=\u001b[39;49m\u001b[38;5;28;43mself\u001b[39;49m\u001b[38;5;241;43m.\u001b[39;49m\u001b[43mssl_version\u001b[49m\u001b[43m,\u001b[49m\n\u001b[1;32m    646\u001b[0m \u001b[43m    \u001b[49m\u001b[43mssl_minimum_version\u001b[49m\u001b[38;5;241;43m=\u001b[39;49m\u001b[38;5;28;43mself\u001b[39;49m\u001b[38;5;241;43m.\u001b[39;49m\u001b[43mssl_minimum_version\u001b[49m\u001b[43m,\u001b[49m\n\u001b[1;32m    647\u001b[0m \u001b[43m    \u001b[49m\u001b[43mssl_maximum_version\u001b[49m\u001b[38;5;241;43m=\u001b[39;49m\u001b[38;5;28;43mself\u001b[39;49m\u001b[38;5;241;43m.\u001b[39;49m\u001b[43mssl_maximum_version\u001b[49m\u001b[43m,\u001b[49m\n\u001b[1;32m    648\u001b[0m \u001b[43m    \u001b[49m\u001b[43mca_certs\u001b[49m\u001b[38;5;241;43m=\u001b[39;49m\u001b[38;5;28;43mself\u001b[39;49m\u001b[38;5;241;43m.\u001b[39;49m\u001b[43mca_certs\u001b[49m\u001b[43m,\u001b[49m\n\u001b[1;32m    649\u001b[0m \u001b[43m    \u001b[49m\u001b[43mca_cert_dir\u001b[49m\u001b[38;5;241;43m=\u001b[39;49m\u001b[38;5;28;43mself\u001b[39;49m\u001b[38;5;241;43m.\u001b[39;49m\u001b[43mca_cert_dir\u001b[49m\u001b[43m,\u001b[49m\n\u001b[1;32m    650\u001b[0m \u001b[43m    \u001b[49m\u001b[43mca_cert_data\u001b[49m\u001b[38;5;241;43m=\u001b[39;49m\u001b[38;5;28;43mself\u001b[39;49m\u001b[38;5;241;43m.\u001b[39;49m\u001b[43mca_cert_data\u001b[49m\u001b[43m,\u001b[49m\n\u001b[1;32m    651\u001b[0m \u001b[43m    \u001b[49m\u001b[43mcert_file\u001b[49m\u001b[38;5;241;43m=\u001b[39;49m\u001b[38;5;28;43mself\u001b[39;49m\u001b[38;5;241;43m.\u001b[39;49m\u001b[43mcert_file\u001b[49m\u001b[43m,\u001b[49m\n\u001b[1;32m    652\u001b[0m \u001b[43m    \u001b[49m\u001b[43mkey_file\u001b[49m\u001b[38;5;241;43m=\u001b[39;49m\u001b[38;5;28;43mself\u001b[39;49m\u001b[38;5;241;43m.\u001b[39;49m\u001b[43mkey_file\u001b[49m\u001b[43m,\u001b[49m\n\u001b[1;32m    653\u001b[0m \u001b[43m    \u001b[49m\u001b[43mkey_password\u001b[49m\u001b[38;5;241;43m=\u001b[39;49m\u001b[38;5;28;43mself\u001b[39;49m\u001b[38;5;241;43m.\u001b[39;49m\u001b[43mkey_password\u001b[49m\u001b[43m,\u001b[49m\n\u001b[1;32m    654\u001b[0m \u001b[43m    \u001b[49m\u001b[43mserver_hostname\u001b[49m\u001b[38;5;241;43m=\u001b[39;49m\u001b[43mserver_hostname\u001b[49m\u001b[43m,\u001b[49m\n\u001b[1;32m    655\u001b[0m \u001b[43m    \u001b[49m\u001b[43mssl_context\u001b[49m\u001b[38;5;241;43m=\u001b[39;49m\u001b[38;5;28;43mself\u001b[39;49m\u001b[38;5;241;43m.\u001b[39;49m\u001b[43mssl_context\u001b[49m\u001b[43m,\u001b[49m\n\u001b[1;32m    656\u001b[0m \u001b[43m    \u001b[49m\u001b[43mtls_in_tls\u001b[49m\u001b[38;5;241;43m=\u001b[39;49m\u001b[43mtls_in_tls\u001b[49m\u001b[43m,\u001b[49m\n\u001b[1;32m    657\u001b[0m \u001b[43m    \u001b[49m\u001b[43massert_hostname\u001b[49m\u001b[38;5;241;43m=\u001b[39;49m\u001b[38;5;28;43mself\u001b[39;49m\u001b[38;5;241;43m.\u001b[39;49m\u001b[43massert_hostname\u001b[49m\u001b[43m,\u001b[49m\n\u001b[1;32m    658\u001b[0m \u001b[43m    \u001b[49m\u001b[43massert_fingerprint\u001b[49m\u001b[38;5;241;43m=\u001b[39;49m\u001b[38;5;28;43mself\u001b[39;49m\u001b[38;5;241;43m.\u001b[39;49m\u001b[43massert_fingerprint\u001b[49m\u001b[43m,\u001b[49m\n\u001b[1;32m    659\u001b[0m \u001b[43m\u001b[49m\u001b[43m)\u001b[49m\n\u001b[1;32m    660\u001b[0m \u001b[38;5;28mself\u001b[39m\u001b[38;5;241m.\u001b[39msock \u001b[38;5;241m=\u001b[39m sock_and_verified\u001b[38;5;241m.\u001b[39msocket\n\u001b[1;32m    661\u001b[0m \u001b[38;5;28mself\u001b[39m\u001b[38;5;241m.\u001b[39mis_verified \u001b[38;5;241m=\u001b[39m sock_and_verified\u001b[38;5;241m.\u001b[39mis_verified\n",
      "File \u001b[0;32m~/miniconda3/envs/2023_08_01_BasicWork/lib/python3.12/site-packages/urllib3/connection.py:783\u001b[0m, in \u001b[0;36m_ssl_wrap_socket_and_match_hostname\u001b[0;34m(sock, cert_reqs, ssl_version, ssl_minimum_version, ssl_maximum_version, cert_file, key_file, key_password, ca_certs, ca_cert_dir, ca_cert_data, assert_hostname, assert_fingerprint, server_hostname, ssl_context, tls_in_tls)\u001b[0m\n\u001b[1;32m    780\u001b[0m     \u001b[38;5;28;01mif\u001b[39;00m is_ipaddress(normalized):\n\u001b[1;32m    781\u001b[0m         server_hostname \u001b[38;5;241m=\u001b[39m normalized\n\u001b[0;32m--> 783\u001b[0m ssl_sock \u001b[38;5;241m=\u001b[39m \u001b[43mssl_wrap_socket\u001b[49m\u001b[43m(\u001b[49m\n\u001b[1;32m    784\u001b[0m \u001b[43m    \u001b[49m\u001b[43msock\u001b[49m\u001b[38;5;241;43m=\u001b[39;49m\u001b[43msock\u001b[49m\u001b[43m,\u001b[49m\n\u001b[1;32m    785\u001b[0m \u001b[43m    \u001b[49m\u001b[43mkeyfile\u001b[49m\u001b[38;5;241;43m=\u001b[39;49m\u001b[43mkey_file\u001b[49m\u001b[43m,\u001b[49m\n\u001b[1;32m    786\u001b[0m \u001b[43m    \u001b[49m\u001b[43mcertfile\u001b[49m\u001b[38;5;241;43m=\u001b[39;49m\u001b[43mcert_file\u001b[49m\u001b[43m,\u001b[49m\n\u001b[1;32m    787\u001b[0m \u001b[43m    \u001b[49m\u001b[43mkey_password\u001b[49m\u001b[38;5;241;43m=\u001b[39;49m\u001b[43mkey_password\u001b[49m\u001b[43m,\u001b[49m\n\u001b[1;32m    788\u001b[0m \u001b[43m    \u001b[49m\u001b[43mca_certs\u001b[49m\u001b[38;5;241;43m=\u001b[39;49m\u001b[43mca_certs\u001b[49m\u001b[43m,\u001b[49m\n\u001b[1;32m    789\u001b[0m \u001b[43m    \u001b[49m\u001b[43mca_cert_dir\u001b[49m\u001b[38;5;241;43m=\u001b[39;49m\u001b[43mca_cert_dir\u001b[49m\u001b[43m,\u001b[49m\n\u001b[1;32m    790\u001b[0m \u001b[43m    \u001b[49m\u001b[43mca_cert_data\u001b[49m\u001b[38;5;241;43m=\u001b[39;49m\u001b[43mca_cert_data\u001b[49m\u001b[43m,\u001b[49m\n\u001b[1;32m    791\u001b[0m \u001b[43m    \u001b[49m\u001b[43mserver_hostname\u001b[49m\u001b[38;5;241;43m=\u001b[39;49m\u001b[43mserver_hostname\u001b[49m\u001b[43m,\u001b[49m\n\u001b[1;32m    792\u001b[0m \u001b[43m    \u001b[49m\u001b[43mssl_context\u001b[49m\u001b[38;5;241;43m=\u001b[39;49m\u001b[43mcontext\u001b[49m\u001b[43m,\u001b[49m\n\u001b[1;32m    793\u001b[0m \u001b[43m    \u001b[49m\u001b[43mtls_in_tls\u001b[49m\u001b[38;5;241;43m=\u001b[39;49m\u001b[43mtls_in_tls\u001b[49m\u001b[43m,\u001b[49m\n\u001b[1;32m    794\u001b[0m \u001b[43m\u001b[49m\u001b[43m)\u001b[49m\n\u001b[1;32m    796\u001b[0m \u001b[38;5;28;01mtry\u001b[39;00m:\n\u001b[1;32m    797\u001b[0m     \u001b[38;5;28;01mif\u001b[39;00m assert_fingerprint:\n",
      "File \u001b[0;32m~/miniconda3/envs/2023_08_01_BasicWork/lib/python3.12/site-packages/urllib3/util/ssl_.py:469\u001b[0m, in \u001b[0;36mssl_wrap_socket\u001b[0;34m(sock, keyfile, certfile, cert_reqs, ca_certs, server_hostname, ssl_version, ciphers, ssl_context, ca_cert_dir, key_password, ca_cert_data, tls_in_tls)\u001b[0m\n\u001b[1;32m    466\u001b[0m \u001b[38;5;28;01mexcept\u001b[39;00m \u001b[38;5;167;01mNotImplementedError\u001b[39;00m:  \u001b[38;5;66;03m# Defensive: in CI, we always have set_alpn_protocols\u001b[39;00m\n\u001b[1;32m    467\u001b[0m     \u001b[38;5;28;01mpass\u001b[39;00m\n\u001b[0;32m--> 469\u001b[0m ssl_sock \u001b[38;5;241m=\u001b[39m \u001b[43m_ssl_wrap_socket_impl\u001b[49m\u001b[43m(\u001b[49m\u001b[43msock\u001b[49m\u001b[43m,\u001b[49m\u001b[43m \u001b[49m\u001b[43mcontext\u001b[49m\u001b[43m,\u001b[49m\u001b[43m \u001b[49m\u001b[43mtls_in_tls\u001b[49m\u001b[43m,\u001b[49m\u001b[43m \u001b[49m\u001b[43mserver_hostname\u001b[49m\u001b[43m)\u001b[49m\n\u001b[1;32m    470\u001b[0m \u001b[38;5;28;01mreturn\u001b[39;00m ssl_sock\n",
      "File \u001b[0;32m~/miniconda3/envs/2023_08_01_BasicWork/lib/python3.12/site-packages/urllib3/util/ssl_.py:513\u001b[0m, in \u001b[0;36m_ssl_wrap_socket_impl\u001b[0;34m(sock, ssl_context, tls_in_tls, server_hostname)\u001b[0m\n\u001b[1;32m    510\u001b[0m     SSLTransport\u001b[38;5;241m.\u001b[39m_validate_ssl_context_for_tls_in_tls(ssl_context)\n\u001b[1;32m    511\u001b[0m     \u001b[38;5;28;01mreturn\u001b[39;00m SSLTransport(sock, ssl_context, server_hostname)\n\u001b[0;32m--> 513\u001b[0m \u001b[38;5;28;01mreturn\u001b[39;00m \u001b[43mssl_context\u001b[49m\u001b[38;5;241;43m.\u001b[39;49m\u001b[43mwrap_socket\u001b[49m\u001b[43m(\u001b[49m\u001b[43msock\u001b[49m\u001b[43m,\u001b[49m\u001b[43m \u001b[49m\u001b[43mserver_hostname\u001b[49m\u001b[38;5;241;43m=\u001b[39;49m\u001b[43mserver_hostname\u001b[49m\u001b[43m)\u001b[49m\n",
      "File \u001b[0;32m~/miniconda3/envs/2023_08_01_BasicWork/lib/python3.12/ssl.py:455\u001b[0m, in \u001b[0;36mSSLContext.wrap_socket\u001b[0;34m(self, sock, server_side, do_handshake_on_connect, suppress_ragged_eofs, server_hostname, session)\u001b[0m\n\u001b[1;32m    449\u001b[0m \u001b[38;5;28;01mdef\u001b[39;00m \u001b[38;5;21mwrap_socket\u001b[39m(\u001b[38;5;28mself\u001b[39m, sock, server_side\u001b[38;5;241m=\u001b[39m\u001b[38;5;28;01mFalse\u001b[39;00m,\n\u001b[1;32m    450\u001b[0m                 do_handshake_on_connect\u001b[38;5;241m=\u001b[39m\u001b[38;5;28;01mTrue\u001b[39;00m,\n\u001b[1;32m    451\u001b[0m                 suppress_ragged_eofs\u001b[38;5;241m=\u001b[39m\u001b[38;5;28;01mTrue\u001b[39;00m,\n\u001b[1;32m    452\u001b[0m                 server_hostname\u001b[38;5;241m=\u001b[39m\u001b[38;5;28;01mNone\u001b[39;00m, session\u001b[38;5;241m=\u001b[39m\u001b[38;5;28;01mNone\u001b[39;00m):\n\u001b[1;32m    453\u001b[0m     \u001b[38;5;66;03m# SSLSocket class handles server_hostname encoding before it calls\u001b[39;00m\n\u001b[1;32m    454\u001b[0m     \u001b[38;5;66;03m# ctx._wrap_socket()\u001b[39;00m\n\u001b[0;32m--> 455\u001b[0m     \u001b[38;5;28;01mreturn\u001b[39;00m \u001b[38;5;28;43mself\u001b[39;49m\u001b[38;5;241;43m.\u001b[39;49m\u001b[43msslsocket_class\u001b[49m\u001b[38;5;241;43m.\u001b[39;49m\u001b[43m_create\u001b[49m\u001b[43m(\u001b[49m\n\u001b[1;32m    456\u001b[0m \u001b[43m        \u001b[49m\u001b[43msock\u001b[49m\u001b[38;5;241;43m=\u001b[39;49m\u001b[43msock\u001b[49m\u001b[43m,\u001b[49m\n\u001b[1;32m    457\u001b[0m \u001b[43m        \u001b[49m\u001b[43mserver_side\u001b[49m\u001b[38;5;241;43m=\u001b[39;49m\u001b[43mserver_side\u001b[49m\u001b[43m,\u001b[49m\n\u001b[1;32m    458\u001b[0m \u001b[43m        \u001b[49m\u001b[43mdo_handshake_on_connect\u001b[49m\u001b[38;5;241;43m=\u001b[39;49m\u001b[43mdo_handshake_on_connect\u001b[49m\u001b[43m,\u001b[49m\n\u001b[1;32m    459\u001b[0m \u001b[43m        \u001b[49m\u001b[43msuppress_ragged_eofs\u001b[49m\u001b[38;5;241;43m=\u001b[39;49m\u001b[43msuppress_ragged_eofs\u001b[49m\u001b[43m,\u001b[49m\n\u001b[1;32m    460\u001b[0m \u001b[43m        \u001b[49m\u001b[43mserver_hostname\u001b[49m\u001b[38;5;241;43m=\u001b[39;49m\u001b[43mserver_hostname\u001b[49m\u001b[43m,\u001b[49m\n\u001b[1;32m    461\u001b[0m \u001b[43m        \u001b[49m\u001b[43mcontext\u001b[49m\u001b[38;5;241;43m=\u001b[39;49m\u001b[38;5;28;43mself\u001b[39;49m\u001b[43m,\u001b[49m\n\u001b[1;32m    462\u001b[0m \u001b[43m        \u001b[49m\u001b[43msession\u001b[49m\u001b[38;5;241;43m=\u001b[39;49m\u001b[43msession\u001b[49m\n\u001b[1;32m    463\u001b[0m \u001b[43m    \u001b[49m\u001b[43m)\u001b[49m\n",
      "File \u001b[0;32m~/miniconda3/envs/2023_08_01_BasicWork/lib/python3.12/ssl.py:1041\u001b[0m, in \u001b[0;36mSSLSocket._create\u001b[0;34m(cls, sock, server_side, do_handshake_on_connect, suppress_ragged_eofs, server_hostname, context, session)\u001b[0m\n\u001b[1;32m   1038\u001b[0m             \u001b[38;5;28;01mif\u001b[39;00m timeout \u001b[38;5;241m==\u001b[39m \u001b[38;5;241m0.0\u001b[39m:\n\u001b[1;32m   1039\u001b[0m                 \u001b[38;5;66;03m# non-blocking\u001b[39;00m\n\u001b[1;32m   1040\u001b[0m                 \u001b[38;5;28;01mraise\u001b[39;00m \u001b[38;5;167;01mValueError\u001b[39;00m(\u001b[38;5;124m\"\u001b[39m\u001b[38;5;124mdo_handshake_on_connect should not be specified for non-blocking sockets\u001b[39m\u001b[38;5;124m\"\u001b[39m)\n\u001b[0;32m-> 1041\u001b[0m             \u001b[38;5;28;43mself\u001b[39;49m\u001b[38;5;241;43m.\u001b[39;49m\u001b[43mdo_handshake\u001b[49m\u001b[43m(\u001b[49m\u001b[43m)\u001b[49m\n\u001b[1;32m   1042\u001b[0m \u001b[38;5;28;01mexcept\u001b[39;00m:\n\u001b[1;32m   1043\u001b[0m     \u001b[38;5;28;01mtry\u001b[39;00m:\n",
      "File \u001b[0;32m~/miniconda3/envs/2023_08_01_BasicWork/lib/python3.12/ssl.py:1319\u001b[0m, in \u001b[0;36mSSLSocket.do_handshake\u001b[0;34m(self, block)\u001b[0m\n\u001b[1;32m   1317\u001b[0m     \u001b[38;5;28;01mif\u001b[39;00m timeout \u001b[38;5;241m==\u001b[39m \u001b[38;5;241m0.0\u001b[39m \u001b[38;5;129;01mand\u001b[39;00m block:\n\u001b[1;32m   1318\u001b[0m         \u001b[38;5;28mself\u001b[39m\u001b[38;5;241m.\u001b[39msettimeout(\u001b[38;5;28;01mNone\u001b[39;00m)\n\u001b[0;32m-> 1319\u001b[0m     \u001b[38;5;28;43mself\u001b[39;49m\u001b[38;5;241;43m.\u001b[39;49m\u001b[43m_sslobj\u001b[49m\u001b[38;5;241;43m.\u001b[39;49m\u001b[43mdo_handshake\u001b[49m\u001b[43m(\u001b[49m\u001b[43m)\u001b[49m\n\u001b[1;32m   1320\u001b[0m \u001b[38;5;28;01mfinally\u001b[39;00m:\n\u001b[1;32m   1321\u001b[0m     \u001b[38;5;28mself\u001b[39m\u001b[38;5;241m.\u001b[39msettimeout(timeout)\n",
      "\u001b[0;31mKeyboardInterrupt\u001b[0m: "
     ]
    }
   ],
   "source": [
    "node_normed_gene_id = []\n",
    "node_normed_gene_name = []\n",
    "tally = 0\n",
    "\n",
    "for row in df.itertuples(index=False):\n",
    "    ## collect non-NA gene IDs for a row\n",
    "    gene_curies = [i for i in [row.gene_mim, row.hgnc_id] if pd.notna(i)]\n",
    "    \n",
    "    ## gene_curies aren't empty\n",
    "    if gene_curies:\n",
    "        req_body = {\n",
    "            \"curies\": gene_curies,\n",
    "            \"conflate\": True\n",
    "        }\n",
    "        \n",
    "        r = requests.post(nodenorm_url, json=req_body)\n",
    "        response = r.json()\n",
    "        \n",
    "        if len(gene_curies) == 2:\n",
    "            if response[gene_curies[0]][\"id\"][\"identifier\"] != \\\n",
    "            response[gene_curies[1]][\"id\"][\"identifier\"]:\n",
    "                print(gene_curies)\n",
    "            ## take HGNC ID always\n",
    "            node_normed_gene_id.append(response[gene_curies[1]][\"id\"][\"identifier\"])\n",
    "            node_normed_gene_name.append(response[gene_curies[1]][\"id\"][\"label\"])\n",
    "        else:\n",
    "            ## HGNC ID should be first\n",
    "            node_normed_gene_id.append(response[gene_curies[0]][\"id\"][\"identifier\"])\n",
    "            node_normed_gene_name.append(response[gene_curies[0]][\"id\"][\"label\"])\n",
    "    \n",
    "    tally += 1\n",
    "    if tally % 10 == 0:\n",
    "        print(tally)"
   ]
  },
  {
   "cell_type": "markdown",
   "id": "77bb796e",
   "metadata": {},
   "source": [
    "### Method #2: build a mapping dict from unique values"
   ]
  },
  {
   "cell_type": "code",
   "execution_count": 10,
   "id": "54f32d70",
   "metadata": {
    "ExecuteTime": {
     "end_time": "2025-03-27T00:50:08.660436Z",
     "start_time": "2025-03-27T00:50:08.654724Z"
    }
   },
   "outputs": [
    {
     "data": {
      "text/plain": [
       "2991"
      ]
     },
     "execution_count": 10,
     "metadata": {},
     "output_type": "execute_result"
    }
   ],
   "source": [
    "gene_hgnc_curies = df[\"hgnc_id\"].dropna().unique()\n",
    "len(gene_hgnc_curies)"
   ]
  },
  {
   "cell_type": "code",
   "execution_count": 41,
   "id": "bf4be1a3",
   "metadata": {
    "ExecuteTime": {
     "end_time": "2025-03-27T07:41:47.498967Z",
     "start_time": "2025-03-27T07:41:36.916883Z"
    }
   },
   "outputs": [],
   "source": [
    "gene_curie_dict = {}\n",
    "\n",
    "## larger batches are quicker\n",
    "for batch in itertools.batched(gene_hgnc_curies, 1000):\n",
    "    ## returns tuples\n",
    "    req_body = {\n",
    "        \"curies\": list(batch),\n",
    "        \"conflate\": True\n",
    "    }\n",
    "    r = requests.post(nodenorm_url, json=req_body)\n",
    "    response = r.json()\n",
    "    \n",
    "    temp = {\n",
    "        k: {\"primary_id\": v[\"id\"][\"identifier\"],\n",
    "            \"primary_name\": v[\"id\"][\"label\"]} \n",
    "        for k,v in response.items()\n",
    "    }\n",
    "    gene_curie_dict.update(temp)"
   ]
  },
  {
   "cell_type": "code",
   "execution_count": 15,
   "id": "0fb6c031",
   "metadata": {
    "ExecuteTime": {
     "end_time": "2025-03-27T00:54:54.948466Z",
     "start_time": "2025-03-27T00:54:54.944668Z"
    }
   },
   "outputs": [
    {
     "data": {
      "text/plain": [
       "2991"
      ]
     },
     "execution_count": 15,
     "metadata": {},
     "output_type": "execute_result"
    }
   ],
   "source": [
    "len(gene_curie_dict)"
   ]
  },
  {
   "cell_type": "code",
   "execution_count": 16,
   "id": "20d6fa07",
   "metadata": {
    "ExecuteTime": {
     "end_time": "2025-03-27T00:55:08.727275Z",
     "start_time": "2025-03-27T00:55:08.721218Z"
    }
   },
   "outputs": [
    {
     "data": {
      "text/plain": [
       "2989"
      ]
     },
     "execution_count": 16,
     "metadata": {},
     "output_type": "execute_result"
    }
   ],
   "source": [
    "gene_omim_curies = df[\"gene_mim\"].dropna().unique()\n",
    "len(gene_omim_curies)"
   ]
  },
  {
   "cell_type": "code",
   "execution_count": 17,
   "id": "605b8929",
   "metadata": {
    "ExecuteTime": {
     "end_time": "2025-03-27T00:55:32.321441Z",
     "start_time": "2025-03-27T00:55:22.771537Z"
    }
   },
   "outputs": [],
   "source": [
    "## larger batches are quicker\n",
    "for batch in itertools.batched(gene_omim_curies, 1000):\n",
    "    ## returns tuples\n",
    "    req_body = {\n",
    "        \"curies\": list(batch),\n",
    "        \"conflate\": True\n",
    "    }\n",
    "    r = requests.post(nodenorm_url, json=req_body)\n",
    "    response = r.json()\n",
    "    \n",
    "    temp = {\n",
    "        k: {\"primary_id\": v[\"id\"][\"identifier\"],\n",
    "            \"primary_name\": v[\"id\"][\"label\"]} \n",
    "        for k,v in response.items()\n",
    "    }\n",
    "    gene_curie_dict.update(temp)"
   ]
  },
  {
   "cell_type": "code",
   "execution_count": 18,
   "id": "415c8de7",
   "metadata": {
    "ExecuteTime": {
     "end_time": "2025-03-27T00:55:33.767726Z",
     "start_time": "2025-03-27T00:55:33.763276Z"
    }
   },
   "outputs": [
    {
     "data": {
      "text/plain": [
       "5980"
      ]
     },
     "execution_count": 18,
     "metadata": {},
     "output_type": "execute_result"
    }
   ],
   "source": [
    "len(gene_curie_dict)"
   ]
  },
  {
   "cell_type": "code",
   "execution_count": 27,
   "id": "15fa54d1",
   "metadata": {
    "ExecuteTime": {
     "end_time": "2025-03-27T06:01:18.262591Z",
     "start_time": "2025-03-27T06:01:18.250001Z"
    }
   },
   "outputs": [],
   "source": [
    "for row in df[[\"gene_mim\", \"hgnc_id\"]].itertuples(index=False):\n",
    "    if pd.notna(row.gene_mim) and pd.notna(row.hgnc_id):\n",
    "        if gene_curie_dict[row.gene_mim][\"primary_id\"] != \\\n",
    "        gene_curie_dict[row.hgnc_id][\"primary_id\"]:\n",
    "            print(row)\n",
    "\n",
    "## nothing prints, so there are no mismatches"
   ]
  },
  {
   "cell_type": "code",
   "execution_count": 35,
   "id": "72045c17",
   "metadata": {
    "ExecuteTime": {
     "end_time": "2025-03-27T06:35:13.125683Z",
     "start_time": "2025-03-27T06:35:13.116151Z"
    }
   },
   "outputs": [
    {
     "name": "stdout",
     "output_type": "stream",
     "text": [
      "G2P name MT-TP, ID HGNC:7494\n",
      "NodeNorm name TRNP, ID NCBIGene:4571\n",
      "\n",
      "\n",
      "G2P name CENPJ, ID HGNC:17272\n",
      "NodeNorm name CPAP, ID NCBIGene:55835\n",
      "\n",
      "\n",
      "G2P name CCDC103, ID HGNC:32700\n",
      "NodeNorm name DNAAF19, ID NCBIGene:388389\n",
      "\n",
      "\n",
      "G2P name MT-TL1, ID HGNC:7490\n",
      "NodeNorm name TRNL1, ID NCBIGene:4567\n",
      "\n",
      "\n",
      "G2P name MT-ND1, ID HGNC:7455\n",
      "NodeNorm name ND1, ID NCBIGene:4535\n",
      "\n",
      "\n",
      "G2P name MT-ND4, ID HGNC:7459\n",
      "NodeNorm name ND4, ID NCBIGene:4538\n",
      "\n",
      "\n",
      "G2P name MT-ATP6, ID HGNC:7414\n",
      "NodeNorm name ATP6, ID NCBIGene:4508\n",
      "\n",
      "\n",
      "G2P name MT-ND5, ID HGNC:7461\n",
      "NodeNorm name ND5, ID NCBIGene:4540\n",
      "\n",
      "\n",
      "G2P name MT-ND6, ID HGNC:7462\n",
      "NodeNorm name ND6, ID NCBIGene:4541\n",
      "\n",
      "\n"
     ]
    }
   ],
   "source": [
    "for row in df[[\"gene_symbol\", \"hgnc_id\"]].itertuples(index=False):\n",
    "    if row.gene_symbol != gene_curie_dict[row.hgnc_id][\"primary_name\"]:\n",
    "        print(f\"G2P name {row.gene_symbol}, ID {row.hgnc_id}\")\n",
    "        print(f\"NodeNorm name {gene_curie_dict[row.hgnc_id][\"primary_name\"]}, ID {gene_curie_dict[row.hgnc_id][\"primary_id\"]}\")\n",
    "        print(\"\\n\")\n",
    "        \n",
    "## mismatched names\n",
    "## NodeNorm is correct for CENPJ -> CPAP and CCDC103 -> DNAAF19\n",
    "## something is odd for the others (mitochondrial genes). Scheduled Slack message for NodeNorm"
   ]
  },
  {
   "cell_type": "code",
   "execution_count": 36,
   "id": "21c6f3c0",
   "metadata": {
    "ExecuteTime": {
     "end_time": "2025-03-27T06:41:05.458647Z",
     "start_time": "2025-03-27T06:41:05.450337Z"
    }
   },
   "outputs": [],
   "source": [
    "df[\"gene_nodenorm_id\"] = [gene_curie_dict[i][\"primary_id\"] for i in df[\"hgnc_id\"]]\n",
    "df[\"gene_nodenorm_name\"] = [gene_curie_dict[i][\"primary_name\"] for i in df[\"hgnc_id\"]]"
   ]
  },
  {
   "cell_type": "code",
   "execution_count": 39,
   "id": "a964370e",
   "metadata": {
    "ExecuteTime": {
     "end_time": "2025-03-27T06:43:05.806977Z",
     "start_time": "2025-03-27T06:43:05.795512Z"
    }
   },
   "outputs": [
    {
     "data": {
      "text/html": [
       "<div>\n",
       "<style scoped>\n",
       "    .dataframe tbody tr th:only-of-type {\n",
       "        vertical-align: middle;\n",
       "    }\n",
       "\n",
       "    .dataframe tbody tr th {\n",
       "        vertical-align: top;\n",
       "    }\n",
       "\n",
       "    .dataframe thead th {\n",
       "        text-align: right;\n",
       "    }\n",
       "</style>\n",
       "<table border=\"1\" class=\"dataframe\">\n",
       "  <thead>\n",
       "    <tr style=\"text-align: right;\">\n",
       "      <th></th>\n",
       "      <th>gene_symbol</th>\n",
       "      <th>gene_mim</th>\n",
       "      <th>hgnc_id</th>\n",
       "      <th>gene_nodenorm_id</th>\n",
       "      <th>gene_nodenorm_name</th>\n",
       "    </tr>\n",
       "  </thead>\n",
       "  <tbody>\n",
       "    <tr>\n",
       "      <th>1208</th>\n",
       "      <td>ZNF599</td>\n",
       "      <td>NaN</td>\n",
       "      <td>HGNC:26408</td>\n",
       "      <td>NCBIGene:148103</td>\n",
       "      <td>ZNF599</td>\n",
       "    </tr>\n",
       "    <tr>\n",
       "      <th>3440</th>\n",
       "      <td>MFSD6L</td>\n",
       "      <td>NaN</td>\n",
       "      <td>HGNC:26656</td>\n",
       "      <td>NCBIGene:162387</td>\n",
       "      <td>MFSD6L</td>\n",
       "    </tr>\n",
       "  </tbody>\n",
       "</table>\n",
       "</div>"
      ],
      "text/plain": [
       "     gene_symbol gene_mim     hgnc_id gene_nodenorm_id gene_nodenorm_name\n",
       "1208      ZNF599      NaN  HGNC:26408  NCBIGene:148103             ZNF599\n",
       "3440      MFSD6L      NaN  HGNC:26656  NCBIGene:162387             MFSD6L"
      ]
     },
     "execution_count": 39,
     "metadata": {},
     "output_type": "execute_result"
    }
   ],
   "source": [
    "gene_mapping_df = df[[\"gene_symbol\", \"gene_mim\", \"hgnc_id\", \"gene_nodenorm_id\", \"gene_nodenorm_name\"]].copy()\n",
    "gene_mapping_df[gene_mapping_df[\"gene_mim\"].isna()]"
   ]
  },
  {
   "cell_type": "markdown",
   "id": "9ea3cbbd",
   "metadata": {},
   "source": [
    "Current plans for genes:\n",
    "* only use HGNC ID column:\n",
    "  * no missing values\n",
    "  * no entity/primary ID mismatches using it vs OMIM\n",
    "  * if there were entity/primary ID mismatches, I was going to prefer this mapping over OMIM's \n",
    "* use mapping dict to create two new columns: gene_nodenorm_id, gene_nodenorm_name"
   ]
  },
  {
   "cell_type": "markdown",
   "id": "196a9248",
   "metadata": {},
   "source": [
    "### older code chunks"
   ]
  },
  {
   "cell_type": "code",
   "execution_count": null,
   "id": "d8766bda",
   "metadata": {
    "ExecuteTime": {
     "end_time": "2025-03-26T23:37:11.074772Z",
     "start_time": "2025-03-26T23:37:11.070838Z"
    }
   },
   "outputs": [],
   "source": [
    "## collect non-NA gene IDs for a row\n",
    "\n",
    "row_gene_curies = [i for i in [df.loc[0, \"gene_mim\"], df.loc[0, \"hgnc_id\"]] if pd.notna(i)]"
   ]
  },
  {
   "cell_type": "code",
   "execution_count": null,
   "id": "b7172e3b",
   "metadata": {
    "ExecuteTime": {
     "end_time": "2025-03-26T23:37:13.638175Z",
     "start_time": "2025-03-26T23:37:13.633575Z"
    }
   },
   "outputs": [],
   "source": [
    "row_gene_curies"
   ]
  },
  {
   "cell_type": "code",
   "execution_count": null,
   "id": "48ed8cd0",
   "metadata": {
    "ExecuteTime": {
     "end_time": "2025-03-26T23:37:18.566871Z",
     "start_time": "2025-03-26T23:37:18.183624Z"
    }
   },
   "outputs": [],
   "source": [
    "## aka not empty\n",
    "if row_curies:\n",
    "    parameters = {\n",
    "        ## use gene curies from 1 row\n",
    "        \"curie\": row_gene_curies,\n",
    "        \"conflate\": True\n",
    "    }\n",
    "    r = requests.get(nodenorm_url, params=parameters)\n",
    "    response = r.json()"
   ]
  },
  {
   "cell_type": "code",
   "execution_count": null,
   "id": "530c164f",
   "metadata": {
    "ExecuteTime": {
     "end_time": "2025-03-26T23:37:20.405527Z",
     "start_time": "2025-03-26T23:37:20.401366Z"
    }
   },
   "outputs": [],
   "source": [
    "response.keys()"
   ]
  },
  {
   "cell_type": "code",
   "execution_count": null,
   "id": "4776185a",
   "metadata": {
    "ExecuteTime": {
     "end_time": "2025-03-26T23:39:44.432768Z",
     "start_time": "2025-03-26T23:39:44.428595Z"
    }
   },
   "outputs": [],
   "source": [
    "if response[row_gene_curies[0]][\"id\"][\"identifier\"] != \\\n",
    "   response[row_gene_curies[1]][\"id\"][\"identifier\"]:\n",
    "    print(row_gene_curies)"
   ]
  },
  {
   "cell_type": "code",
   "execution_count": null,
   "id": "31fa028d",
   "metadata": {
    "ExecuteTime": {
     "end_time": "2025-03-26T23:36:04.899806Z",
     "start_time": "2025-03-26T23:36:04.893778Z"
    }
   },
   "outputs": [],
   "source": [
    "## NodeNormed primary/canonical ID and name\n",
    "response[\"OMIM:176261\"][\"id\"]\n",
    "response[\"HGNC:6240\"][\"id\"]"
   ]
  },
  {
   "cell_type": "code",
   "execution_count": null,
   "id": "22a62681",
   "metadata": {
    "ExecuteTime": {
     "end_time": "2025-03-26T23:24:45.265407Z",
     "start_time": "2025-03-26T23:24:45.261744Z"
    }
   },
   "outputs": [],
   "source": [
    "if response[row_omim]:\n",
    "    print(\"yay\")"
   ]
  },
  {
   "cell_type": "code",
   "execution_count": null,
   "id": "6bc6d721",
   "metadata": {
    "ExecuteTime": {
     "end_time": "2025-03-26T23:14:22.652944Z",
     "start_time": "2025-03-26T23:14:22.641814Z"
    }
   },
   "outputs": [],
   "source": [
    "## doesn't include NA by default\n",
    "df[\"gene_symbol\"].nunique()\n",
    "df[\"gene_mim\"].nunique()\n",
    "df[\"hgnc_id\"].nunique()\n",
    "\n",
    "## ...so some repetitiveness to doing things row-wise. "
   ]
  },
  {
   "cell_type": "markdown",
   "id": "4b301029",
   "metadata": {},
   "source": [
    "Figuring out logic: what's the best way to query NodeNorm -> get responses and handle?\n",
    "\n",
    "Doing 1-by-1 is too slow. \n",
    "\n",
    "\n",
    "\n",
    "\n",
    "\n",
    "Will be sending duplicate queries in both cases\n",
    "\n",
    "idea: do row-wise. This is the way the parser works anyways, especially for large datasets\n",
    "- for genes: could use only hgnc (all rows have this). But want to check if there's any discrepancies with omim ID first. \n",
    "\n",
    "\n",
    "\n",
    "other idea: try to send an entire column/array at a time\n",
    "this is small enough that I can probably send the entire column/array at a time\n",
    "but still...\n",
    "\n",
    "\n",
    "\n"
   ]
  }
 ],
 "metadata": {
  "kernelspec": {
   "display_name": "Python 3 (ipykernel)",
   "language": "python",
   "name": "python3"
  },
  "language_info": {
   "codemirror_mode": {
    "name": "ipython",
    "version": 3
   },
   "file_extension": ".py",
   "mimetype": "text/x-python",
   "name": "python",
   "nbconvert_exporter": "python",
   "pygments_lexer": "ipython3",
   "version": "3.12.9"
  },
  "toc": {
   "base_numbering": 1,
   "nav_menu": {},
   "number_sections": false,
   "sideBar": true,
   "skip_h1_title": true,
   "title_cell": "Table of Contents",
   "title_sidebar": "Contents",
   "toc_cell": false,
   "toc_position": {
    "height": "calc(100% - 180px)",
    "left": "10px",
    "top": "150px",
    "width": "258.15px"
   },
   "toc_section_display": true,
   "toc_window_display": false
  }
 },
 "nbformat": 4,
 "nbformat_minor": 5
}
