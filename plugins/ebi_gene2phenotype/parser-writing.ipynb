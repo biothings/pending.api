{
 "cells": [
  {
   "cell_type": "markdown",
   "id": "f18ee197",
   "metadata": {},
   "source": [
    "# Notebook for parser development"
   ]
  },
  {
   "cell_type": "code",
   "execution_count": 1,
   "id": "3573099c",
   "metadata": {
    "ExecuteTime": {
     "end_time": "2025-03-31T20:28:36.485042Z",
     "start_time": "2025-03-31T20:28:36.476039Z"
    }
   },
   "outputs": [],
   "source": [
    "## not for parser. for notebook only \n",
    "\n",
    "## CX: allows multiple lines of code to print from one code block\n",
    "from IPython.core.interactiveshell import InteractiveShell\n",
    "InteractiveShell.ast_node_interactivity = \"all\""
   ]
  },
  {
   "cell_type": "markdown",
   "id": "aa862467",
   "metadata": {},
   "source": [
    "## Loading data"
   ]
  },
  {
   "cell_type": "markdown",
   "id": "96f2ef49",
   "metadata": {},
   "source": [
    "Current approach: loading all files into 1 pandas dataframe (currently (4721, 21)). Then I can...\n",
    "1. check the duplicates situation (key columns vs all columns) and raise errors if need be\n",
    "2. remove duplicates before generating documents\n",
    "3. Do some tasks column-wise over all the data, rather than while iterating over rows\n",
    "\n",
    "If I did the generator approach (load files 1 by 1, 1 row at a time), I'd have to modify how I do things:\n",
    "1. Don't do this check/raise errors. But try to mitigate potential \"duplicate\" issues: \n",
    "  * Sort all delimited strings\n",
    "  * Use a hash of all column values (when they're all strings) for `_id`. Want rows with all the same values to produce the same hash\n",
    "2. Either leave to BioThings toolset to remove duplicates, or could use a set of `_id` hashes so far to check/not create duplicate docs.\n",
    "3. Do the tasks on single rows/chunks (pandas [read_csv](https://pandas.pydata.org/docs/reference/api/pandas.read_csv.html#pandas.read_csv) has an iterator for rows/chunks! see iterator/chunksize parameters)\n",
    "\n",
    "\n",
    "Notes:\n",
    "* There are a few existing parsers that use `pandas` to load the entire raw data file at once: https://github.com/search?q=repo%3Abiothings%2Fpending.api%20pandas&type=code\n",
    "* But there are other existing parsers that use `csv` to load the file **one row at a time** (generator): https://github.com/search?q=repo%3Abiothings%2Fpending.api+csv+reader&type=code"
   ]
  },
  {
   "cell_type": "code",
   "execution_count": 2,
   "id": "8325a51e",
   "metadata": {
    "ExecuteTime": {
     "end_time": "2025-03-31T20:28:40.026357Z",
     "start_time": "2025-03-31T20:28:39.558569Z"
    }
   },
   "outputs": [],
   "source": [
    "## put into parser: already done\n",
    "\n",
    "## python 3.12.9\n",
    "import pathlib       ## 1.0.1 \n",
    "import pandas as pd  ## 2.2.3 \n",
    "\n",
    "## don't put in parser. Just for this notebook\n",
    "import glob\n",
    "from pprint import pprint\n",
    "\n",
    "## unsure on putting into parser: more for notebook viewing/debugging...\n",
    "pd.options.display.max_columns = None"
   ]
  },
  {
   "cell_type": "code",
   "execution_count": 3,
   "id": "63f0a6ac",
   "metadata": {
    "ExecuteTime": {
     "end_time": "2025-03-31T20:28:40.732881Z",
     "start_time": "2025-03-31T20:28:40.719687Z"
    }
   },
   "outputs": [
    {
     "data": {
      "text/plain": [
       "[]"
      ]
     },
     "execution_count": 3,
     "metadata": {},
     "output_type": "execute_result"
    },
    {
     "data": {
      "text/plain": [
       "<generator object Path.glob at 0x1118d68a0>"
      ]
     },
     "execution_count": 3,
     "metadata": {},
     "output_type": "execute_result"
    },
    {
     "data": {
      "text/plain": [
       "[PosixPath('/Users/colleenxu/Desktop/EBIgene2pheno_files/From_FTP/CardiacG2P_2025-02-28.csv.gz'),\n",
       " PosixPath('/Users/colleenxu/Desktop/EBIgene2pheno_files/From_FTP/SkeletalG2P_2025-02-28.csv.gz'),\n",
       " PosixPath('/Users/colleenxu/Desktop/EBIgene2pheno_files/From_FTP/DDG2P_2025-02-28.csv.gz'),\n",
       " PosixPath('/Users/colleenxu/Desktop/EBIgene2pheno_files/From_FTP/SkinG2P_2025-02-28.csv.gz'),\n",
       " PosixPath('/Users/colleenxu/Desktop/EBIgene2pheno_files/From_FTP/Hearing_lossG2P_2025-02-28.csv.gz'),\n",
       " PosixPath('/Users/colleenxu/Desktop/EBIgene2pheno_files/From_FTP/CancerG2P_2025-02-28.csv.gz'),\n",
       " PosixPath('/Users/colleenxu/Desktop/EBIgene2pheno_files/From_FTP/EyeG2P_2025-02-28.csv.gz')]"
      ]
     },
     "execution_count": 3,
     "metadata": {},
     "output_type": "execute_result"
    }
   ],
   "source": [
    "## put into parser (format): DONE\n",
    "\n",
    "base_file_path = pathlib.Path.home().joinpath(\"Desktop\", \"EBIgene2pheno_files\", \"From_FTP\")\n",
    "\n",
    "## pathlib's Path.glob produces a generator, vs glob.glob produces an array from cwd\n",
    "glob.glob(\"*.csv.gz\")\n",
    "base_file_path.glob(\"*.csv.gz\")\n",
    "\n",
    "## using list works to check if paths matching pattern were actually found or not\n",
    "all_file_paths = list(base_file_path.glob(\"*.csv.gz\"))\n",
    "all_file_paths"
   ]
  },
  {
   "cell_type": "code",
   "execution_count": 4,
   "id": "dd0fc904",
   "metadata": {
    "ExecuteTime": {
     "end_time": "2025-03-31T20:28:43.558705Z",
     "start_time": "2025-03-31T20:28:43.418234Z"
    },
    "scrolled": true
   },
   "outputs": [
    {
     "name": "stdout",
     "output_type": "stream",
     "text": [
      "<class 'pandas.core.series.Series'>\n",
      "RangeIndex: 4714 entries, 0 to 4713\n",
      "Series name: date_of_last_review\n",
      "Non-Null Count  Dtype \n",
      "--------------  ----- \n",
      "4714 non-null   object\n",
      "dtypes: object(1)\n",
      "memory usage: 377.6 KB\n",
      "\n",
      "\n",
      "<class 'pandas.core.series.Series'>\n",
      "RangeIndex: 4714 entries, 0 to 4713\n",
      "Series name: date_of_last_review\n",
      "Non-Null Count  Dtype              \n",
      "--------------  -----              \n",
      "4714 non-null   datetime64[ns, UTC]\n",
      "dtypes: datetime64[ns, UTC](1)\n",
      "memory usage: 37.0 KB\n"
     ]
    }
   ],
   "source": [
    "## put into parser (format): DONE\n",
    "\n",
    "\n",
    "## ingest all columns as str\n",
    "df = pd.concat((pd.read_csv(f, dtype=str) for f in all_file_paths), ignore_index=True)\n",
    "\n",
    "## make column names snake-case - usable with itertuples later\n",
    "df.columns = df.columns.str.replace(\" \", \"_\")\n",
    "\n",
    "df[\"date_of_last_review\"].info(memory_usage=\"deep\")\n",
    "print(\"\\n\")\n",
    "## change this column to datetime, saves memory\n",
    "df[\"date_of_last_review\"] = pd.to_datetime(df[\"date_of_last_review\"])\n",
    "df[\"date_of_last_review\"].info(memory_usage=\"deep\")"
   ]
  },
  {
   "cell_type": "code",
   "execution_count": null,
   "id": "13360ed5",
   "metadata": {
    "ExecuteTime": {
     "end_time": "2025-03-29T06:09:54.063665Z",
     "start_time": "2025-03-29T06:09:53.928917Z"
    }
   },
   "outputs": [],
   "source": [
    "## worked before (pandas 2.0.3 and python 3.11.4) to ingest column as datetime\n",
    "## now it doesn't: ingests as object/str instead\n",
    "# df = pd.concat((pd.read_csv(f, dtype=str, parse_dates=[\"date of last review\"]) \n",
    "#                 for f in all_file_paths), ignore_index=True)\n",
    "\n",
    "## the following also don't work\n",
    "# df = pd.concat((pd.read_csv(f, dtype=str, parse_dates=[\"date of last review\"], \n",
    "#                            date_format=\"%Y-%m-%d %H:%M:%S%:z\") \n",
    "#                 for f in all_file_paths), ignore_index=True)\n",
    "## throws an error\n",
    "# df = pd.concat((pd.read_csv(f, dtype=str, parse_dates=[[\"date of last review\"]], \n",
    "#                            date_format=\"%Y-%m-%d %H:%M:%S%:z\") \n",
    "#                 for f in all_file_paths), ignore_index=True)\n",
    "## throws an error\n",
    "# df = pd.concat((pd.read_csv(f, dtype={\"date of last review\": pd.datetime64[ns, tz]})\n",
    "#                 for f in all_file_paths), ignore_index=True)"
   ]
  },
  {
   "cell_type": "code",
   "execution_count": 5,
   "id": "f6e957f0",
   "metadata": {
    "ExecuteTime": {
     "end_time": "2025-03-31T20:28:47.444035Z",
     "start_time": "2025-03-31T20:28:47.400116Z"
    }
   },
   "outputs": [
    {
     "data": {
      "text/plain": [
       "(4714, 21)"
      ]
     },
     "execution_count": 5,
     "metadata": {},
     "output_type": "execute_result"
    },
    {
     "data": {
      "text/html": [
       "<div>\n",
       "<style scoped>\n",
       "    .dataframe tbody tr th:only-of-type {\n",
       "        vertical-align: middle;\n",
       "    }\n",
       "\n",
       "    .dataframe tbody tr th {\n",
       "        vertical-align: top;\n",
       "    }\n",
       "\n",
       "    .dataframe thead th {\n",
       "        text-align: right;\n",
       "    }\n",
       "</style>\n",
       "<table border=\"1\" class=\"dataframe\">\n",
       "  <thead>\n",
       "    <tr style=\"text-align: right;\">\n",
       "      <th></th>\n",
       "      <th>g2p_id</th>\n",
       "      <th>gene_symbol</th>\n",
       "      <th>gene_mim</th>\n",
       "      <th>hgnc_id</th>\n",
       "      <th>previous_gene_symbols</th>\n",
       "      <th>disease_name</th>\n",
       "      <th>disease_mim</th>\n",
       "      <th>disease_MONDO</th>\n",
       "      <th>allelic_requirement</th>\n",
       "      <th>cross_cutting_modifier</th>\n",
       "      <th>confidence</th>\n",
       "      <th>variant_consequence</th>\n",
       "      <th>variant_types</th>\n",
       "      <th>molecular_mechanism</th>\n",
       "      <th>molecular_mechanism_categorisation</th>\n",
       "      <th>molecular_mechanism_evidence</th>\n",
       "      <th>phenotypes</th>\n",
       "      <th>publications</th>\n",
       "      <th>panel</th>\n",
       "      <th>comments</th>\n",
       "      <th>date_of_last_review</th>\n",
       "    </tr>\n",
       "  </thead>\n",
       "  <tbody>\n",
       "    <tr>\n",
       "      <th>0</th>\n",
       "      <td>G2P00124</td>\n",
       "      <td>KCNE1</td>\n",
       "      <td>176261</td>\n",
       "      <td>6240</td>\n",
       "      <td>ISK; JLNS2; LQT5; MINK</td>\n",
       "      <td>KCNE1-related Jervell and Lange-Nielsen syndrome</td>\n",
       "      <td>612347</td>\n",
       "      <td>NaN</td>\n",
       "      <td>biallelic_autosomal</td>\n",
       "      <td>potential secondary finding</td>\n",
       "      <td>strong</td>\n",
       "      <td>altered gene product structure</td>\n",
       "      <td>missense_variant; inframe_deletion; stop_gaine...</td>\n",
       "      <td>undetermined</td>\n",
       "      <td>inferred</td>\n",
       "      <td>NaN</td>\n",
       "      <td>HP:0000407; HP:0001657; HP:0000007; HP:0001279</td>\n",
       "      <td>30461122</td>\n",
       "      <td>DD; Cardiac</td>\n",
       "      <td>KCNE1-related JLNS is due to altered gene prod...</td>\n",
       "      <td>2024-04-05 12:05:01+00:00</td>\n",
       "    </tr>\n",
       "    <tr>\n",
       "      <th>1</th>\n",
       "      <td>G2P00841</td>\n",
       "      <td>PTPN11</td>\n",
       "      <td>176876</td>\n",
       "      <td>9644</td>\n",
       "      <td>BPTP3; NS1; PTP2C; SH-PTP2; SHP-2; SHP2</td>\n",
       "      <td>PTPN11-related Noonan syndrome with multiple l...</td>\n",
       "      <td>151100</td>\n",
       "      <td>NaN</td>\n",
       "      <td>monoallelic_autosomal</td>\n",
       "      <td>NaN</td>\n",
       "      <td>definitive</td>\n",
       "      <td>altered gene product structure</td>\n",
       "      <td>missense_variant; inframe_deletion; inframe_in...</td>\n",
       "      <td>undetermined</td>\n",
       "      <td>inferred</td>\n",
       "      <td>NaN</td>\n",
       "      <td>HP:0000325; HP:0002996; HP:0000957; HP:0001709...</td>\n",
       "      <td>27484170; 26377839; 25917897; 25884655; 248207...</td>\n",
       "      <td>DD; Skin; Cardiac</td>\n",
       "      <td>Expert review done on 12/01/2022; Noonan syndr...</td>\n",
       "      <td>2025-01-21 14:56:43+00:00</td>\n",
       "    </tr>\n",
       "    <tr>\n",
       "      <th>2</th>\n",
       "      <td>G2P03247</td>\n",
       "      <td>DSC2</td>\n",
       "      <td>125645</td>\n",
       "      <td>3036</td>\n",
       "      <td>CDHF2; DSC3</td>\n",
       "      <td>DSC2-related arrhythmogenic right ventricular ...</td>\n",
       "      <td>NaN</td>\n",
       "      <td>MONDO:0012506</td>\n",
       "      <td>monoallelic_autosomal</td>\n",
       "      <td>NaN</td>\n",
       "      <td>definitive</td>\n",
       "      <td>decreased gene product level; altered gene pro...</td>\n",
       "      <td>inframe_deletion; splice_region_variant; misse...</td>\n",
       "      <td>undetermined</td>\n",
       "      <td>inferred</td>\n",
       "      <td>NaN</td>\n",
       "      <td>NaN</td>\n",
       "      <td>31028357; 23911551; 21636032; 33831308; 263105...</td>\n",
       "      <td>Cardiac</td>\n",
       "      <td>Expert review done on 05/01/2022; DSC2-related...</td>\n",
       "      <td>2024-03-20 09:36:09+00:00</td>\n",
       "    </tr>\n",
       "    <tr>\n",
       "      <th>3</th>\n",
       "      <td>G2P03248</td>\n",
       "      <td>DSC2</td>\n",
       "      <td>125645</td>\n",
       "      <td>3036</td>\n",
       "      <td>CDHF2; DSC3</td>\n",
       "      <td>DSC2-related arrhythmogenic right ventricular ...</td>\n",
       "      <td>NaN</td>\n",
       "      <td>MONDO:0012506</td>\n",
       "      <td>biallelic_autosomal</td>\n",
       "      <td>NaN</td>\n",
       "      <td>definitive</td>\n",
       "      <td>decreased gene product level; altered gene pro...</td>\n",
       "      <td>inframe_deletion; splice_region_variant; misse...</td>\n",
       "      <td>undetermined</td>\n",
       "      <td>inferred</td>\n",
       "      <td>NaN</td>\n",
       "      <td>NaN</td>\n",
       "      <td>31028357; 23911551; 21636032; 33831308; 263105...</td>\n",
       "      <td>Cardiac</td>\n",
       "      <td>Expert review done on 05/01/2022; DSC2-related...</td>\n",
       "      <td>2024-03-20 09:35:19+00:00</td>\n",
       "    </tr>\n",
       "    <tr>\n",
       "      <th>4</th>\n",
       "      <td>G2P03249</td>\n",
       "      <td>DSG2</td>\n",
       "      <td>125671</td>\n",
       "      <td>3049</td>\n",
       "      <td>CDHF5</td>\n",
       "      <td>DSG2-related arrhythmogenic right ventricular ...</td>\n",
       "      <td>NaN</td>\n",
       "      <td>MONDO:0012434</td>\n",
       "      <td>monoallelic_autosomal</td>\n",
       "      <td>NaN</td>\n",
       "      <td>definitive</td>\n",
       "      <td>decreased gene product level; altered gene pro...</td>\n",
       "      <td>inframe_deletion; missense_variant; stop_gaine...</td>\n",
       "      <td>undetermined</td>\n",
       "      <td>inferred</td>\n",
       "      <td>NaN</td>\n",
       "      <td>NaN</td>\n",
       "      <td>21636032; 33831308; 33917638; 34400560; 240707...</td>\n",
       "      <td>Cardiac</td>\n",
       "      <td>Expert review done on 05/01/2022; DSG2-related...</td>\n",
       "      <td>2024-03-20 09:40:18+00:00</td>\n",
       "    </tr>\n",
       "  </tbody>\n",
       "</table>\n",
       "</div>"
      ],
      "text/plain": [
       "     g2p_id gene_symbol gene_mim hgnc_id  \\\n",
       "0  G2P00124       KCNE1   176261    6240   \n",
       "1  G2P00841      PTPN11   176876    9644   \n",
       "2  G2P03247        DSC2   125645    3036   \n",
       "3  G2P03248        DSC2   125645    3036   \n",
       "4  G2P03249        DSG2   125671    3049   \n",
       "\n",
       "                     previous_gene_symbols  \\\n",
       "0                   ISK; JLNS2; LQT5; MINK   \n",
       "1  BPTP3; NS1; PTP2C; SH-PTP2; SHP-2; SHP2   \n",
       "2                              CDHF2; DSC3   \n",
       "3                              CDHF2; DSC3   \n",
       "4                                    CDHF5   \n",
       "\n",
       "                                        disease_name disease_mim  \\\n",
       "0   KCNE1-related Jervell and Lange-Nielsen syndrome      612347   \n",
       "1  PTPN11-related Noonan syndrome with multiple l...      151100   \n",
       "2  DSC2-related arrhythmogenic right ventricular ...         NaN   \n",
       "3  DSC2-related arrhythmogenic right ventricular ...         NaN   \n",
       "4  DSG2-related arrhythmogenic right ventricular ...         NaN   \n",
       "\n",
       "   disease_MONDO    allelic_requirement       cross_cutting_modifier  \\\n",
       "0            NaN    biallelic_autosomal  potential secondary finding   \n",
       "1            NaN  monoallelic_autosomal                          NaN   \n",
       "2  MONDO:0012506  monoallelic_autosomal                          NaN   \n",
       "3  MONDO:0012506    biallelic_autosomal                          NaN   \n",
       "4  MONDO:0012434  monoallelic_autosomal                          NaN   \n",
       "\n",
       "   confidence                                variant_consequence  \\\n",
       "0      strong                     altered gene product structure   \n",
       "1  definitive                     altered gene product structure   \n",
       "2  definitive  decreased gene product level; altered gene pro...   \n",
       "3  definitive  decreased gene product level; altered gene pro...   \n",
       "4  definitive  decreased gene product level; altered gene pro...   \n",
       "\n",
       "                                       variant_types molecular_mechanism  \\\n",
       "0  missense_variant; inframe_deletion; stop_gaine...        undetermined   \n",
       "1  missense_variant; inframe_deletion; inframe_in...        undetermined   \n",
       "2  inframe_deletion; splice_region_variant; misse...        undetermined   \n",
       "3  inframe_deletion; splice_region_variant; misse...        undetermined   \n",
       "4  inframe_deletion; missense_variant; stop_gaine...        undetermined   \n",
       "\n",
       "  molecular_mechanism_categorisation molecular_mechanism_evidence  \\\n",
       "0                           inferred                          NaN   \n",
       "1                           inferred                          NaN   \n",
       "2                           inferred                          NaN   \n",
       "3                           inferred                          NaN   \n",
       "4                           inferred                          NaN   \n",
       "\n",
       "                                          phenotypes  \\\n",
       "0     HP:0000407; HP:0001657; HP:0000007; HP:0001279   \n",
       "1  HP:0000325; HP:0002996; HP:0000957; HP:0001709...   \n",
       "2                                                NaN   \n",
       "3                                                NaN   \n",
       "4                                                NaN   \n",
       "\n",
       "                                        publications              panel  \\\n",
       "0                                           30461122        DD; Cardiac   \n",
       "1  27484170; 26377839; 25917897; 25884655; 248207...  DD; Skin; Cardiac   \n",
       "2  31028357; 23911551; 21636032; 33831308; 263105...            Cardiac   \n",
       "3  31028357; 23911551; 21636032; 33831308; 263105...            Cardiac   \n",
       "4  21636032; 33831308; 33917638; 34400560; 240707...            Cardiac   \n",
       "\n",
       "                                            comments       date_of_last_review  \n",
       "0  KCNE1-related JLNS is due to altered gene prod... 2024-04-05 12:05:01+00:00  \n",
       "1  Expert review done on 12/01/2022; Noonan syndr... 2025-01-21 14:56:43+00:00  \n",
       "2  Expert review done on 05/01/2022; DSC2-related... 2024-03-20 09:36:09+00:00  \n",
       "3  Expert review done on 05/01/2022; DSC2-related... 2024-03-20 09:35:19+00:00  \n",
       "4  Expert review done on 05/01/2022; DSG2-related... 2024-03-20 09:40:18+00:00  "
      ]
     },
     "execution_count": 5,
     "metadata": {},
     "output_type": "execute_result"
    },
    {
     "name": "stdout",
     "output_type": "stream",
     "text": [
      "<class 'pandas.core.frame.DataFrame'>\n",
      "RangeIndex: 4714 entries, 0 to 4713\n",
      "Data columns (total 21 columns):\n",
      " #   Column                              Non-Null Count  Dtype              \n",
      "---  ------                              --------------  -----              \n",
      " 0   g2p_id                              4714 non-null   object             \n",
      " 1   gene_symbol                         4714 non-null   object             \n",
      " 2   gene_mim                            4712 non-null   object             \n",
      " 3   hgnc_id                             4714 non-null   object             \n",
      " 4   previous_gene_symbols               4241 non-null   object             \n",
      " 5   disease_name                        4714 non-null   object             \n",
      " 6   disease_mim                         3574 non-null   object             \n",
      " 7   disease_MONDO                       638 non-null    object             \n",
      " 8   allelic_requirement                 4714 non-null   object             \n",
      " 9   cross_cutting_modifier              629 non-null    object             \n",
      " 10  confidence                          4714 non-null   object             \n",
      " 11  variant_consequence                 4693 non-null   object             \n",
      " 12  variant_types                       1190 non-null   object             \n",
      " 13  molecular_mechanism                 4714 non-null   object             \n",
      " 14  molecular_mechanism_categorisation  4714 non-null   object             \n",
      " 15  molecular_mechanism_evidence        32 non-null     object             \n",
      " 16  phenotypes                          3394 non-null   object             \n",
      " 17  publications                        4293 non-null   object             \n",
      " 18  panel                               4714 non-null   object             \n",
      " 19  comments                            129 non-null    object             \n",
      " 20  date_of_last_review                 4714 non-null   datetime64[ns, UTC]\n",
      "dtypes: datetime64[ns, UTC](1), object(20)\n",
      "memory usage: 6.6 MB\n"
     ]
    }
   ],
   "source": [
    "df.shape\n",
    "df.head()\n",
    "df.info(memory_usage=\"deep\")"
   ]
  },
  {
   "cell_type": "markdown",
   "id": "2a5724a6",
   "metadata": {},
   "source": [
    "## Checking, removing duplicates"
   ]
  },
  {
   "cell_type": "code",
   "execution_count": 6,
   "id": "a6531826",
   "metadata": {
    "ExecuteTime": {
     "end_time": "2025-03-31T20:28:52.275911Z",
     "start_time": "2025-03-31T20:28:52.249690Z"
    }
   },
   "outputs": [],
   "source": [
    "## put into parser (format): DONE\n",
    "\n",
    "## This is a data-quality check to make sure drop_duplicates actually removes all duplicates. \n",
    "## Based on exploring the data, the column subset below should uniquely define one \n",
    "##   record's data/row.\n",
    "## If the de-deplicated data using this column set == de-duplicated data using the whole\n",
    "##   dataset, then everything is fine and the parser can proceed with de-duplication.\n",
    "## Else, the data needs to be explored and the parser probably needs adjustments.\n",
    "## Many column values are delimited strings, and my concern is that these values could\n",
    "##   differ (only in list order) for the \"same data\" in different files.\n",
    "\n",
    "n_duplicates_column_combo = df[df.duplicated(subset=[\"g2p_id\", \"gene_symbol\", \"disease_name\", \"allelic_requirement\", \n",
    "                                \"molecular_mechanism\"], keep=False)].shape\n",
    "\n",
    "n_duplicates_all_columns = df[df.duplicated(keep=False)].shape\n",
    "\n",
    "## for testing\n",
    "# n_duplicates_all_columns = (1, 1)\n",
    "\n",
    "\n",
    "if n_duplicates_column_combo != n_duplicates_all_columns: \n",
    "    raise AssertionError(\"The data format has changed, and record de-duplication may not work as-expected. \" \\\n",
    "                          \"Double-check the data and what columns uniquely define one record\")"
   ]
  },
  {
   "cell_type": "code",
   "execution_count": 7,
   "id": "1659d217",
   "metadata": {
    "ExecuteTime": {
     "end_time": "2025-03-31T20:28:52.851961Z",
     "start_time": "2025-03-31T20:28:52.832931Z"
    }
   },
   "outputs": [],
   "source": [
    "## put into parser (format): DONE\n",
    "\n",
    "## drop duplicates\n",
    "df.drop_duplicates(inplace=True, ignore_index=True)"
   ]
  },
  {
   "cell_type": "code",
   "execution_count": 8,
   "id": "8b25cb57",
   "metadata": {
    "ExecuteTime": {
     "end_time": "2025-03-31T20:28:53.802887Z",
     "start_time": "2025-03-31T20:28:53.781288Z"
    },
    "scrolled": true
   },
   "outputs": [
    {
     "name": "stdout",
     "output_type": "stream",
     "text": [
      "<class 'pandas.core.frame.DataFrame'>\n",
      "RangeIndex: 3647 entries, 0 to 3646\n",
      "Data columns (total 21 columns):\n",
      " #   Column                              Non-Null Count  Dtype              \n",
      "---  ------                              --------------  -----              \n",
      " 0   g2p_id                              3647 non-null   object             \n",
      " 1   gene_symbol                         3647 non-null   object             \n",
      " 2   gene_mim                            3645 non-null   object             \n",
      " 3   hgnc_id                             3647 non-null   object             \n",
      " 4   previous_gene_symbols               3277 non-null   object             \n",
      " 5   disease_name                        3647 non-null   object             \n",
      " 6   disease_mim                         2570 non-null   object             \n",
      " 7   disease_MONDO                       561 non-null    object             \n",
      " 8   allelic_requirement                 3647 non-null   object             \n",
      " 9   cross_cutting_modifier              451 non-null    object             \n",
      " 10  confidence                          3647 non-null   object             \n",
      " 11  variant_consequence                 3629 non-null   object             \n",
      " 12  variant_types                       997 non-null    object             \n",
      " 13  molecular_mechanism                 3647 non-null   object             \n",
      " 14  molecular_mechanism_categorisation  3647 non-null   object             \n",
      " 15  molecular_mechanism_evidence        28 non-null     object             \n",
      " 16  phenotypes                          2430 non-null   object             \n",
      " 17  publications                        3301 non-null   object             \n",
      " 18  panel                               3647 non-null   object             \n",
      " 19  comments                            103 non-null    object             \n",
      " 20  date_of_last_review                 3647 non-null   datetime64[ns, UTC]\n",
      "dtypes: datetime64[ns, UTC](1), object(20)\n",
      "memory usage: 5.0 MB\n"
     ]
    }
   ],
   "source": [
    "df.info(memory_usage=\"deep\")"
   ]
  },
  {
   "cell_type": "markdown",
   "id": "a797c65d",
   "metadata": {},
   "source": [
    "## Column-level transforms"
   ]
  },
  {
   "cell_type": "code",
   "execution_count": 9,
   "id": "3f9b5222",
   "metadata": {
    "ExecuteTime": {
     "end_time": "2025-03-31T20:29:01.587317Z",
     "start_time": "2025-03-31T20:29:01.578572Z"
    }
   },
   "outputs": [],
   "source": [
    "df_diseasemim = df.copy()\n",
    "\n",
    "## done to preserve NA\n",
    "df_diseasemim[\"disease_mim\"] = [i if pd.isna(i) \\\n",
    "                                else \"OMIM:\" + i if i.isnumeric() \\\n",
    "                                else i \\\n",
    "                                for i in df_diseasemim[\"disease_mim\"]]\n",
    "\n",
    "df_diseasemim[\"disease_mim\"] = df_diseasemim[\"disease_mim\"].str.replace(\"Orphanet\", \"orphanet\")"
   ]
  },
  {
   "cell_type": "code",
   "execution_count": 10,
   "id": "14883b59",
   "metadata": {
    "ExecuteTime": {
     "end_time": "2025-03-31T20:29:02.184315Z",
     "start_time": "2025-03-31T20:29:02.171912Z"
    }
   },
   "outputs": [
    {
     "data": {
      "text/plain": [
       "(2561, 21)"
      ]
     },
     "execution_count": 10,
     "metadata": {},
     "output_type": "execute_result"
    },
    {
     "data": {
      "text/plain": [
       "(9, 21)"
      ]
     },
     "execution_count": 10,
     "metadata": {},
     "output_type": "execute_result"
    }
   ],
   "source": [
    "df_diseasemim[df_diseasemim[\"disease_mim\"].str.contains(\"OMIM:\", na=False)].shape\n",
    "\n",
    "df_diseasemim[df_diseasemim[\"disease_mim\"].str.contains(\"orphanet:\", na=False)].shape\n",
    "\n",
    "## add up row count. If == num non-null in info above, you're good \n",
    "## right now 2570 == 2570, so good"
   ]
  },
  {
   "cell_type": "code",
   "execution_count": 11,
   "id": "abb752b8",
   "metadata": {
    "ExecuteTime": {
     "end_time": "2025-03-31T20:29:06.310351Z",
     "start_time": "2025-03-31T20:29:06.282790Z"
    }
   },
   "outputs": [],
   "source": [
    "## put into parser (format): DONE\n",
    "\n",
    "## COLUMN-LEVEL TRANSFORMS\n",
    "\n",
    "## adding Translator/biolink prefixes to IDs\n",
    "df[\"gene_mim\"] = \"OMIM:\" + df[\"gene_mim\"]\n",
    "df[\"hgnc_id\"] = \"HGNC:\" + df[\"hgnc_id\"]\n",
    "df[\"disease_mim\"] = df[\"disease_mim\"].str.replace(\"Orphanet\", \"orphanet\")\n",
    "## done to preserve NA\n",
    "df[\"disease_mim\"] = [i if pd.isna(i) \\\n",
    "                     else \"OMIM:\" + i if i.isnumeric() \\\n",
    "                     else i \\\n",
    "                     for i in df[\"disease_mim\"]]\n",
    "\n",
    "## strip whitespace\n",
    "df[\"disease_name\"] = df[\"disease_name\"].str.strip()\n",
    "df[\"comments\"] = df[\"comments\"].str.strip()\n",
    "\n",
    "## create new columns\n",
    "## UI really wants resource website urls like this. May need to adjust over time as website changes\n",
    "df[\"g2p_record_url\"] = \"https://www.ebi.ac.uk/gene2phenotype/lgd/\" +  df[\"g2p_id\"]\n",
    "\n",
    "## replace panel keywords with full names shown on G2P website for single record\n",
    "## keeping \"Hearing loss\" as-is, changing all other values\n",
    "df[\"panel\"] = df[\"panel\"].str.replace(\"DD\", \"Developmental disorders\")\n",
    "df[\"panel\"] = df[\"panel\"].str.replace(\"Cancer\", \"Cancer disorders\")\n",
    "df[\"panel\"] = df[\"panel\"].str.replace(\"Cardiac\", \"Cardiac disorders\")\n",
    "df[\"panel\"] = df[\"panel\"].str.replace(\"Eye\", \"Eye disorders\")\n",
    "df[\"panel\"] = df[\"panel\"].str.replace(\"Skeletal\", \"Skeletal disorders\")\n",
    "df[\"panel\"] = df[\"panel\"].str.replace(\"Skin\", \"Skin disorders\")"
   ]
  },
  {
   "cell_type": "code",
   "execution_count": 12,
   "id": "b05f644d",
   "metadata": {
    "ExecuteTime": {
     "end_time": "2025-03-31T20:29:08.669965Z",
     "start_time": "2025-03-31T20:29:08.651598Z"
    },
    "scrolled": true
   },
   "outputs": [
    {
     "data": {
      "text/html": [
       "<div>\n",
       "<style scoped>\n",
       "    .dataframe tbody tr th:only-of-type {\n",
       "        vertical-align: middle;\n",
       "    }\n",
       "\n",
       "    .dataframe tbody tr th {\n",
       "        vertical-align: top;\n",
       "    }\n",
       "\n",
       "    .dataframe thead th {\n",
       "        text-align: right;\n",
       "    }\n",
       "</style>\n",
       "<table border=\"1\" class=\"dataframe\">\n",
       "  <thead>\n",
       "    <tr style=\"text-align: right;\">\n",
       "      <th></th>\n",
       "      <th>g2p_id</th>\n",
       "      <th>gene_symbol</th>\n",
       "      <th>gene_mim</th>\n",
       "      <th>hgnc_id</th>\n",
       "      <th>previous_gene_symbols</th>\n",
       "      <th>disease_name</th>\n",
       "      <th>disease_mim</th>\n",
       "      <th>disease_MONDO</th>\n",
       "      <th>allelic_requirement</th>\n",
       "      <th>cross_cutting_modifier</th>\n",
       "      <th>confidence</th>\n",
       "      <th>variant_consequence</th>\n",
       "      <th>variant_types</th>\n",
       "      <th>molecular_mechanism</th>\n",
       "      <th>molecular_mechanism_categorisation</th>\n",
       "      <th>molecular_mechanism_evidence</th>\n",
       "      <th>phenotypes</th>\n",
       "      <th>publications</th>\n",
       "      <th>panel</th>\n",
       "      <th>comments</th>\n",
       "      <th>date_of_last_review</th>\n",
       "      <th>g2p_record_url</th>\n",
       "    </tr>\n",
       "  </thead>\n",
       "  <tbody>\n",
       "    <tr>\n",
       "      <th>0</th>\n",
       "      <td>G2P00124</td>\n",
       "      <td>KCNE1</td>\n",
       "      <td>OMIM:176261</td>\n",
       "      <td>HGNC:6240</td>\n",
       "      <td>ISK; JLNS2; LQT5; MINK</td>\n",
       "      <td>KCNE1-related Jervell and Lange-Nielsen syndrome</td>\n",
       "      <td>OMIM:612347</td>\n",
       "      <td>NaN</td>\n",
       "      <td>biallelic_autosomal</td>\n",
       "      <td>potential secondary finding</td>\n",
       "      <td>strong</td>\n",
       "      <td>altered gene product structure</td>\n",
       "      <td>missense_variant; inframe_deletion; stop_gaine...</td>\n",
       "      <td>undetermined</td>\n",
       "      <td>inferred</td>\n",
       "      <td>NaN</td>\n",
       "      <td>HP:0000407; HP:0001657; HP:0000007; HP:0001279</td>\n",
       "      <td>30461122</td>\n",
       "      <td>Developmental disorders; Cardiac disorders</td>\n",
       "      <td>KCNE1-related JLNS is due to altered gene prod...</td>\n",
       "      <td>2024-04-05 12:05:01+00:00</td>\n",
       "      <td>https://www.ebi.ac.uk/gene2phenotype/lgd/G2P00124</td>\n",
       "    </tr>\n",
       "    <tr>\n",
       "      <th>1</th>\n",
       "      <td>G2P00841</td>\n",
       "      <td>PTPN11</td>\n",
       "      <td>OMIM:176876</td>\n",
       "      <td>HGNC:9644</td>\n",
       "      <td>BPTP3; NS1; PTP2C; SH-PTP2; SHP-2; SHP2</td>\n",
       "      <td>PTPN11-related Noonan syndrome with multiple l...</td>\n",
       "      <td>OMIM:151100</td>\n",
       "      <td>NaN</td>\n",
       "      <td>monoallelic_autosomal</td>\n",
       "      <td>NaN</td>\n",
       "      <td>definitive</td>\n",
       "      <td>altered gene product structure</td>\n",
       "      <td>missense_variant; inframe_deletion; inframe_in...</td>\n",
       "      <td>undetermined</td>\n",
       "      <td>inferred</td>\n",
       "      <td>NaN</td>\n",
       "      <td>HP:0000325; HP:0002996; HP:0000957; HP:0001709...</td>\n",
       "      <td>27484170; 26377839; 25917897; 25884655; 248207...</td>\n",
       "      <td>Developmental disorders; Skin disorders; Cardi...</td>\n",
       "      <td>Expert review done on 12/01/2022; Noonan syndr...</td>\n",
       "      <td>2025-01-21 14:56:43+00:00</td>\n",
       "      <td>https://www.ebi.ac.uk/gene2phenotype/lgd/G2P00841</td>\n",
       "    </tr>\n",
       "    <tr>\n",
       "      <th>2</th>\n",
       "      <td>G2P03247</td>\n",
       "      <td>DSC2</td>\n",
       "      <td>OMIM:125645</td>\n",
       "      <td>HGNC:3036</td>\n",
       "      <td>CDHF2; DSC3</td>\n",
       "      <td>DSC2-related arrhythmogenic right ventricular ...</td>\n",
       "      <td>NaN</td>\n",
       "      <td>MONDO:0012506</td>\n",
       "      <td>monoallelic_autosomal</td>\n",
       "      <td>NaN</td>\n",
       "      <td>definitive</td>\n",
       "      <td>decreased gene product level; altered gene pro...</td>\n",
       "      <td>inframe_deletion; splice_region_variant; misse...</td>\n",
       "      <td>undetermined</td>\n",
       "      <td>inferred</td>\n",
       "      <td>NaN</td>\n",
       "      <td>NaN</td>\n",
       "      <td>31028357; 23911551; 21636032; 33831308; 263105...</td>\n",
       "      <td>Cardiac disorders</td>\n",
       "      <td>Expert review done on 05/01/2022; DSC2-related...</td>\n",
       "      <td>2024-03-20 09:36:09+00:00</td>\n",
       "      <td>https://www.ebi.ac.uk/gene2phenotype/lgd/G2P03247</td>\n",
       "    </tr>\n",
       "    <tr>\n",
       "      <th>3</th>\n",
       "      <td>G2P03248</td>\n",
       "      <td>DSC2</td>\n",
       "      <td>OMIM:125645</td>\n",
       "      <td>HGNC:3036</td>\n",
       "      <td>CDHF2; DSC3</td>\n",
       "      <td>DSC2-related arrhythmogenic right ventricular ...</td>\n",
       "      <td>NaN</td>\n",
       "      <td>MONDO:0012506</td>\n",
       "      <td>biallelic_autosomal</td>\n",
       "      <td>NaN</td>\n",
       "      <td>definitive</td>\n",
       "      <td>decreased gene product level; altered gene pro...</td>\n",
       "      <td>inframe_deletion; splice_region_variant; misse...</td>\n",
       "      <td>undetermined</td>\n",
       "      <td>inferred</td>\n",
       "      <td>NaN</td>\n",
       "      <td>NaN</td>\n",
       "      <td>31028357; 23911551; 21636032; 33831308; 263105...</td>\n",
       "      <td>Cardiac disorders</td>\n",
       "      <td>Expert review done on 05/01/2022; DSC2-related...</td>\n",
       "      <td>2024-03-20 09:35:19+00:00</td>\n",
       "      <td>https://www.ebi.ac.uk/gene2phenotype/lgd/G2P03248</td>\n",
       "    </tr>\n",
       "    <tr>\n",
       "      <th>4</th>\n",
       "      <td>G2P03249</td>\n",
       "      <td>DSG2</td>\n",
       "      <td>OMIM:125671</td>\n",
       "      <td>HGNC:3049</td>\n",
       "      <td>CDHF5</td>\n",
       "      <td>DSG2-related arrhythmogenic right ventricular ...</td>\n",
       "      <td>NaN</td>\n",
       "      <td>MONDO:0012434</td>\n",
       "      <td>monoallelic_autosomal</td>\n",
       "      <td>NaN</td>\n",
       "      <td>definitive</td>\n",
       "      <td>decreased gene product level; altered gene pro...</td>\n",
       "      <td>inframe_deletion; missense_variant; stop_gaine...</td>\n",
       "      <td>undetermined</td>\n",
       "      <td>inferred</td>\n",
       "      <td>NaN</td>\n",
       "      <td>NaN</td>\n",
       "      <td>21636032; 33831308; 33917638; 34400560; 240707...</td>\n",
       "      <td>Cardiac disorders</td>\n",
       "      <td>Expert review done on 05/01/2022; DSG2-related...</td>\n",
       "      <td>2024-03-20 09:40:18+00:00</td>\n",
       "      <td>https://www.ebi.ac.uk/gene2phenotype/lgd/G2P03249</td>\n",
       "    </tr>\n",
       "  </tbody>\n",
       "</table>\n",
       "</div>"
      ],
      "text/plain": [
       "     g2p_id gene_symbol     gene_mim    hgnc_id  \\\n",
       "0  G2P00124       KCNE1  OMIM:176261  HGNC:6240   \n",
       "1  G2P00841      PTPN11  OMIM:176876  HGNC:9644   \n",
       "2  G2P03247        DSC2  OMIM:125645  HGNC:3036   \n",
       "3  G2P03248        DSC2  OMIM:125645  HGNC:3036   \n",
       "4  G2P03249        DSG2  OMIM:125671  HGNC:3049   \n",
       "\n",
       "                     previous_gene_symbols  \\\n",
       "0                   ISK; JLNS2; LQT5; MINK   \n",
       "1  BPTP3; NS1; PTP2C; SH-PTP2; SHP-2; SHP2   \n",
       "2                              CDHF2; DSC3   \n",
       "3                              CDHF2; DSC3   \n",
       "4                                    CDHF5   \n",
       "\n",
       "                                        disease_name  disease_mim  \\\n",
       "0   KCNE1-related Jervell and Lange-Nielsen syndrome  OMIM:612347   \n",
       "1  PTPN11-related Noonan syndrome with multiple l...  OMIM:151100   \n",
       "2  DSC2-related arrhythmogenic right ventricular ...          NaN   \n",
       "3  DSC2-related arrhythmogenic right ventricular ...          NaN   \n",
       "4  DSG2-related arrhythmogenic right ventricular ...          NaN   \n",
       "\n",
       "   disease_MONDO    allelic_requirement       cross_cutting_modifier  \\\n",
       "0            NaN    biallelic_autosomal  potential secondary finding   \n",
       "1            NaN  monoallelic_autosomal                          NaN   \n",
       "2  MONDO:0012506  monoallelic_autosomal                          NaN   \n",
       "3  MONDO:0012506    biallelic_autosomal                          NaN   \n",
       "4  MONDO:0012434  monoallelic_autosomal                          NaN   \n",
       "\n",
       "   confidence                                variant_consequence  \\\n",
       "0      strong                     altered gene product structure   \n",
       "1  definitive                     altered gene product structure   \n",
       "2  definitive  decreased gene product level; altered gene pro...   \n",
       "3  definitive  decreased gene product level; altered gene pro...   \n",
       "4  definitive  decreased gene product level; altered gene pro...   \n",
       "\n",
       "                                       variant_types molecular_mechanism  \\\n",
       "0  missense_variant; inframe_deletion; stop_gaine...        undetermined   \n",
       "1  missense_variant; inframe_deletion; inframe_in...        undetermined   \n",
       "2  inframe_deletion; splice_region_variant; misse...        undetermined   \n",
       "3  inframe_deletion; splice_region_variant; misse...        undetermined   \n",
       "4  inframe_deletion; missense_variant; stop_gaine...        undetermined   \n",
       "\n",
       "  molecular_mechanism_categorisation molecular_mechanism_evidence  \\\n",
       "0                           inferred                          NaN   \n",
       "1                           inferred                          NaN   \n",
       "2                           inferred                          NaN   \n",
       "3                           inferred                          NaN   \n",
       "4                           inferred                          NaN   \n",
       "\n",
       "                                          phenotypes  \\\n",
       "0     HP:0000407; HP:0001657; HP:0000007; HP:0001279   \n",
       "1  HP:0000325; HP:0002996; HP:0000957; HP:0001709...   \n",
       "2                                                NaN   \n",
       "3                                                NaN   \n",
       "4                                                NaN   \n",
       "\n",
       "                                        publications  \\\n",
       "0                                           30461122   \n",
       "1  27484170; 26377839; 25917897; 25884655; 248207...   \n",
       "2  31028357; 23911551; 21636032; 33831308; 263105...   \n",
       "3  31028357; 23911551; 21636032; 33831308; 263105...   \n",
       "4  21636032; 33831308; 33917638; 34400560; 240707...   \n",
       "\n",
       "                                               panel  \\\n",
       "0         Developmental disorders; Cardiac disorders   \n",
       "1  Developmental disorders; Skin disorders; Cardi...   \n",
       "2                                  Cardiac disorders   \n",
       "3                                  Cardiac disorders   \n",
       "4                                  Cardiac disorders   \n",
       "\n",
       "                                            comments  \\\n",
       "0  KCNE1-related JLNS is due to altered gene prod...   \n",
       "1  Expert review done on 12/01/2022; Noonan syndr...   \n",
       "2  Expert review done on 05/01/2022; DSC2-related...   \n",
       "3  Expert review done on 05/01/2022; DSC2-related...   \n",
       "4  Expert review done on 05/01/2022; DSG2-related...   \n",
       "\n",
       "        date_of_last_review                                     g2p_record_url  \n",
       "0 2024-04-05 12:05:01+00:00  https://www.ebi.ac.uk/gene2phenotype/lgd/G2P00124  \n",
       "1 2025-01-21 14:56:43+00:00  https://www.ebi.ac.uk/gene2phenotype/lgd/G2P00841  \n",
       "2 2024-03-20 09:36:09+00:00  https://www.ebi.ac.uk/gene2phenotype/lgd/G2P03247  \n",
       "3 2024-03-20 09:35:19+00:00  https://www.ebi.ac.uk/gene2phenotype/lgd/G2P03248  \n",
       "4 2024-03-20 09:40:18+00:00  https://www.ebi.ac.uk/gene2phenotype/lgd/G2P03249  "
      ]
     },
     "execution_count": 12,
     "metadata": {},
     "output_type": "execute_result"
    }
   ],
   "source": [
    "## checking on column-level transforms\n",
    "\n",
    "df.head()\n",
    "# df[\"g2p record url\"].unique()[0:100]\n",
    "\n",
    "# df[df[\"disease mim\"].str.contains(\"orphanet\", na=False)]  ## 9 rows, so that's correct\n",
    "# df[df[\"panel\"].str.contains(\"Hearing\", na=False)]"
   ]
  },
  {
   "cell_type": "markdown",
   "id": "19fae1f9",
   "metadata": {},
   "source": [
    "## Generating documents"
   ]
  },
  {
   "cell_type": "code",
   "execution_count": null,
   "id": "66db0346",
   "metadata": {
    "ExecuteTime": {
     "end_time": "2025-03-25T08:02:33.422086Z",
     "start_time": "2025-03-25T08:02:33.411066Z"
    }
   },
   "outputs": [],
   "source": [
    "for row in df.itertuples(index=False):\n",
    "    if pd.notna(row.previous_gene_symbols):\n",
    "        [i.strip() for i in row.previous_gene_symbols.split(\";\")]\n",
    "        break"
   ]
  },
  {
   "cell_type": "code",
   "execution_count": null,
   "id": "e1266e91",
   "metadata": {
    "ExecuteTime": {
     "end_time": "2025-03-26T21:59:28.989934Z",
     "start_time": "2025-03-26T21:59:28.824623Z"
    }
   },
   "outputs": [],
   "source": [
    "## put into parser (format) -> DONE. \n",
    "##   don't save in array, yield each document instead\n",
    "\n",
    "## GENERATING DOCS, saving in array\n",
    "documents = []\n",
    "\n",
    "## using itertuples because it's faster, preserves datatypes\n",
    "for row in df.itertuples(index=False):\n",
    "    ## simple assignments\n",
    "    document = {\n",
    "        \"_id\": row.g2p_id,\n",
    "        \"subject\": {\n",
    "            \"hgnc_symbol\": row.gene_symbol,\n",
    "            \"hgnc\": row.hgnc_id,\n",
    "            \"type\": \"Gene\"\n",
    "        },\n",
    "        \"association\": {\n",
    "            \"g2p_record_id\": row.g2p_id,\n",
    "            \"g2p_record_url\": row.g2p_record_url,\n",
    "            \"allelic_requirement\": row.allelic_requirement,\n",
    "            \"confidence\": row.confidence,\n",
    "            \"molecular_mechanism\": row.molecular_mechanism,\n",
    "            \"molecular_mechanism_categorisation\": row.molecular_mechanism_categorisation,\n",
    "            \"g2p_panels\": [i.strip() for i in row.panel.split(\";\")],\n",
    "            \"date_of_last_review\": str(row.date_of_last_review)\n",
    "        },\n",
    "        \"object\": {\n",
    "            \"name\": row.disease_name,\n",
    "            \"type\": \"Disease\"\n",
    "        }\n",
    "    }    \n",
    "    ## only create field if value is not NA\n",
    "    ##   if value is NA, list comprehension with split won't work\n",
    "    ## Gene\n",
    "    if pd.notna(row.gene_mim):\n",
    "        document[\"subject\"][\"omim\"] = row.gene_mim\n",
    "    if pd.notna(row.previous_gene_symbols):\n",
    "        document[\"subject\"][\"previous_gene_symbols\"] = \\\n",
    "        [i.strip() for i in row.previous_gene_symbols.split(\";\")]\n",
    "        \n",
    "    ## Association\n",
    "    if pd.notna(row.cross_cutting_modifier):\n",
    "        document[\"association\"][\"cross_cutting_modifiers\"] = [i.strip() for i in row.cross_cutting_modifier.split(\";\")]\n",
    "    if pd.notna(row.variant_consequence):\n",
    "        document[\"association\"][\"variant_consequences\"] = [i.strip() for i in row.variant_consequence.split(\";\")]\n",
    "    if pd.notna(row.variant_types):\n",
    "        document[\"association\"][\"variant_types\"] = [i.strip() for i in row.variant_types.split(\";\")]\n",
    "    ## uses diff delimiters, could do more parsing\n",
    "    if pd.notna(row.molecular_mechanism_evidence):\n",
    "        document[\"association\"][\"molecular_mechanism_evidence\"] = [i.strip() for i in row.molecular_mechanism_evidence.split(\"&\")]\n",
    "    if pd.notna(row.phenotypes):\n",
    "        document[\"association\"][\"phenotypes\"] = [i.strip() for i in row.phenotypes.split(\";\")]\n",
    "    if pd.notna(row.publications):\n",
    "        document[\"association\"][\"pmids\"] = [i.strip() for i in row.publications.split(\";\")]\n",
    "    if pd.notna(row.comments):\n",
    "        document[\"association\"][\"curator_comments\"] = row.comments\n",
    "     \n",
    "    ## Disease\n",
    "    ## disease_mim: create field depending on whether OMIM or orphanet    \n",
    "    if pd.notna(row.disease_mim):\n",
    "        if row.disease_mim.startswith(\"orphanet\"):\n",
    "            document[\"object\"][\"orphanet\"] = row.disease_mim\n",
    "        elif row.disease_mim.startswith(\"OMIM\"):\n",
    "            document[\"object\"][\"omim\"] = row.disease_mim\n",
    "    if pd.notna(row.disease_MONDO):\n",
    "        document[\"object\"][\"mondo\"] = row.disease_MONDO\n",
    "    \n",
    "    documents.append(document)"
   ]
  },
  {
   "cell_type": "markdown",
   "id": "2b9b67a4",
   "metadata": {},
   "source": [
    "## Checking documents"
   ]
  },
  {
   "cell_type": "code",
   "execution_count": null,
   "id": "a08d1645",
   "metadata": {
    "ExecuteTime": {
     "end_time": "2025-03-26T22:13:26.691894Z",
     "start_time": "2025-03-26T22:13:26.669326Z"
    }
   },
   "outputs": [],
   "source": [
    "df[df[\"panel\"].str.contains(\"Hearing\", na=False)]\n",
    "\n",
    "## look for single values\n",
    "# df[~ df[\"publications\"].str.contains(\";\", na=True)]\n",
    "\n",
    "\n",
    "# df[df[\"publications\"].isna()]\n",
    "# df[df[\"cross_cutting_modifier\"].notna()]"
   ]
  },
  {
   "cell_type": "code",
   "execution_count": null,
   "id": "98f15187",
   "metadata": {
    "ExecuteTime": {
     "end_time": "2025-03-25T08:50:39.744164Z",
     "start_time": "2025-03-25T08:50:39.740486Z"
    }
   },
   "outputs": [],
   "source": [
    "pprint(documents[3642])\n",
    "\n",
    "# documents[416]"
   ]
  },
  {
   "cell_type": "markdown",
   "id": "5a0d2644",
   "metadata": {},
   "source": [
    "## Parser notes"
   ]
  },
  {
   "cell_type": "markdown",
   "id": "fb18be04",
   "metadata": {},
   "source": [
    "Fine to use raise/assert in parser (raise is technically better programming behavior: https://realpython.com/python-assert-statement/#understanding-common-pitfalls-of-assert)\n",
    "\n",
    "\n",
    "My notes on parser:\n",
    "* adding prefixes to gene/disease IDs is good for pre-NodeNorming steps\n",
    "* keeping diff gene/disease ID namespaces as separate fields right now is good for current BTE/x-bte-annotation system\n",
    "\n",
    "\n",
    "My notes on syntax:\n",
    "* use `yield` when you want to \"return\" within a \"for loop\" (return only happen once, then exit for-loop/function execution)\n",
    "  * that's what it's used in main execution, when you're iterating over csv rows to generate documents\n",
    "* use `yield from {function}` to get the data from a generator (created by `yield` being used the function)"
   ]
  },
  {
   "cell_type": "markdown",
   "id": "0ff20129",
   "metadata": {},
   "source": [
    "## Pre-NodeNorming"
   ]
  },
  {
   "cell_type": "code",
   "execution_count": 13,
   "id": "ec7095c7",
   "metadata": {
    "ExecuteTime": {
     "end_time": "2025-03-31T20:29:21.497541Z",
     "start_time": "2025-03-31T20:29:21.400973Z"
    }
   },
   "outputs": [],
   "source": [
    "## put into parser (format): DONE\n",
    "\n",
    "import requests\n",
    "\n",
    "## from BioThings annotator code: for interoperability between diff Python versions\n",
    "# try:\n",
    "#     from itertools import batched  # new in Python 3.12\n",
    "# except ImportError:\n",
    "#     from itertools import islice\n",
    "\n",
    "#     def batched(iterable, n):\n",
    "#         # batched('ABCDEFG', 3) → ABC DEF G\n",
    "#         if n < 1:\n",
    "#             raise ValueError(\"n must be at least one\")\n",
    "#         iterator = iter(iterable)\n",
    "#         while batch := tuple(islice(iterator, n)):\n",
    "#             yield batch\n",
    "\n",
    "## doing to test that this works\n",
    "from itertools import islice\n",
    "\n",
    "def batched(iterable, n):\n",
    "    # batched('ABCDEFG', 3) → ABC DEF G\n",
    "    if n < 1:\n",
    "        raise ValueError(\"n must be at least one\")\n",
    "    iterator = iter(iterable)\n",
    "    while batch := tuple(islice(iterator, n)):\n",
    "        yield batch\n",
    "\n",
    "nodenorm_url = \"https://nodenorm.ci.transltr.io/get_normalized_nodes\""
   ]
  },
  {
   "cell_type": "code",
   "execution_count": 14,
   "id": "c9c7d169",
   "metadata": {
    "ExecuteTime": {
     "end_time": "2025-03-31T20:29:22.517143Z",
     "start_time": "2025-03-31T20:29:22.492850Z"
    }
   },
   "outputs": [
    {
     "name": "stdout",
     "output_type": "stream",
     "text": [
      "<class 'pandas.core.frame.DataFrame'>\n",
      "RangeIndex: 3647 entries, 0 to 3646\n",
      "Data columns (total 22 columns):\n",
      " #   Column                              Non-Null Count  Dtype              \n",
      "---  ------                              --------------  -----              \n",
      " 0   g2p_id                              3647 non-null   object             \n",
      " 1   gene_symbol                         3647 non-null   object             \n",
      " 2   gene_mim                            3645 non-null   object             \n",
      " 3   hgnc_id                             3647 non-null   object             \n",
      " 4   previous_gene_symbols               3277 non-null   object             \n",
      " 5   disease_name                        3647 non-null   object             \n",
      " 6   disease_mim                         2570 non-null   object             \n",
      " 7   disease_MONDO                       561 non-null    object             \n",
      " 8   allelic_requirement                 3647 non-null   object             \n",
      " 9   cross_cutting_modifier              451 non-null    object             \n",
      " 10  confidence                          3647 non-null   object             \n",
      " 11  variant_consequence                 3629 non-null   object             \n",
      " 12  variant_types                       997 non-null    object             \n",
      " 13  molecular_mechanism                 3647 non-null   object             \n",
      " 14  molecular_mechanism_categorisation  3647 non-null   object             \n",
      " 15  molecular_mechanism_evidence        28 non-null     object             \n",
      " 16  phenotypes                          2430 non-null   object             \n",
      " 17  publications                        3301 non-null   object             \n",
      " 18  panel                               3647 non-null   object             \n",
      " 19  comments                            103 non-null    object             \n",
      " 20  date_of_last_review                 3647 non-null   datetime64[ns, UTC]\n",
      " 21  g2p_record_url                      3647 non-null   object             \n",
      "dtypes: datetime64[ns, UTC](1), object(21)\n",
      "memory usage: 5.4 MB\n"
     ]
    }
   ],
   "source": [
    "df.info(memory_usage=\"deep\")"
   ]
  },
  {
   "cell_type": "code",
   "execution_count": 15,
   "id": "2665b2c6",
   "metadata": {
    "ExecuteTime": {
     "end_time": "2025-03-31T20:29:25.580775Z",
     "start_time": "2025-03-31T20:29:25.560953Z"
    }
   },
   "outputs": [
    {
     "data": {
      "text/html": [
       "<div>\n",
       "<style scoped>\n",
       "    .dataframe tbody tr th:only-of-type {\n",
       "        vertical-align: middle;\n",
       "    }\n",
       "\n",
       "    .dataframe tbody tr th {\n",
       "        vertical-align: top;\n",
       "    }\n",
       "\n",
       "    .dataframe thead th {\n",
       "        text-align: right;\n",
       "    }\n",
       "</style>\n",
       "<table border=\"1\" class=\"dataframe\">\n",
       "  <thead>\n",
       "    <tr style=\"text-align: right;\">\n",
       "      <th></th>\n",
       "      <th>g2p_id</th>\n",
       "      <th>gene_symbol</th>\n",
       "      <th>gene_mim</th>\n",
       "      <th>hgnc_id</th>\n",
       "      <th>previous_gene_symbols</th>\n",
       "      <th>disease_name</th>\n",
       "      <th>disease_mim</th>\n",
       "      <th>disease_MONDO</th>\n",
       "      <th>allelic_requirement</th>\n",
       "      <th>cross_cutting_modifier</th>\n",
       "      <th>confidence</th>\n",
       "      <th>variant_consequence</th>\n",
       "      <th>variant_types</th>\n",
       "      <th>molecular_mechanism</th>\n",
       "      <th>molecular_mechanism_categorisation</th>\n",
       "      <th>molecular_mechanism_evidence</th>\n",
       "      <th>phenotypes</th>\n",
       "      <th>publications</th>\n",
       "      <th>panel</th>\n",
       "      <th>comments</th>\n",
       "      <th>date_of_last_review</th>\n",
       "      <th>g2p_record_url</th>\n",
       "    </tr>\n",
       "  </thead>\n",
       "  <tbody>\n",
       "    <tr>\n",
       "      <th>0</th>\n",
       "      <td>G2P00124</td>\n",
       "      <td>KCNE1</td>\n",
       "      <td>OMIM:176261</td>\n",
       "      <td>HGNC:6240</td>\n",
       "      <td>ISK; JLNS2; LQT5; MINK</td>\n",
       "      <td>KCNE1-related Jervell and Lange-Nielsen syndrome</td>\n",
       "      <td>OMIM:612347</td>\n",
       "      <td>NaN</td>\n",
       "      <td>biallelic_autosomal</td>\n",
       "      <td>potential secondary finding</td>\n",
       "      <td>strong</td>\n",
       "      <td>altered gene product structure</td>\n",
       "      <td>missense_variant; inframe_deletion; stop_gaine...</td>\n",
       "      <td>undetermined</td>\n",
       "      <td>inferred</td>\n",
       "      <td>NaN</td>\n",
       "      <td>HP:0000407; HP:0001657; HP:0000007; HP:0001279</td>\n",
       "      <td>30461122</td>\n",
       "      <td>Developmental disorders; Cardiac disorders</td>\n",
       "      <td>KCNE1-related JLNS is due to altered gene prod...</td>\n",
       "      <td>2024-04-05 12:05:01+00:00</td>\n",
       "      <td>https://www.ebi.ac.uk/gene2phenotype/lgd/G2P00124</td>\n",
       "    </tr>\n",
       "    <tr>\n",
       "      <th>1</th>\n",
       "      <td>G2P00841</td>\n",
       "      <td>PTPN11</td>\n",
       "      <td>OMIM:176876</td>\n",
       "      <td>HGNC:9644</td>\n",
       "      <td>BPTP3; NS1; PTP2C; SH-PTP2; SHP-2; SHP2</td>\n",
       "      <td>PTPN11-related Noonan syndrome with multiple l...</td>\n",
       "      <td>OMIM:151100</td>\n",
       "      <td>NaN</td>\n",
       "      <td>monoallelic_autosomal</td>\n",
       "      <td>NaN</td>\n",
       "      <td>definitive</td>\n",
       "      <td>altered gene product structure</td>\n",
       "      <td>missense_variant; inframe_deletion; inframe_in...</td>\n",
       "      <td>undetermined</td>\n",
       "      <td>inferred</td>\n",
       "      <td>NaN</td>\n",
       "      <td>HP:0000325; HP:0002996; HP:0000957; HP:0001709...</td>\n",
       "      <td>27484170; 26377839; 25917897; 25884655; 248207...</td>\n",
       "      <td>Developmental disorders; Skin disorders; Cardi...</td>\n",
       "      <td>Expert review done on 12/01/2022; Noonan syndr...</td>\n",
       "      <td>2025-01-21 14:56:43+00:00</td>\n",
       "      <td>https://www.ebi.ac.uk/gene2phenotype/lgd/G2P00841</td>\n",
       "    </tr>\n",
       "    <tr>\n",
       "      <th>2</th>\n",
       "      <td>G2P03247</td>\n",
       "      <td>DSC2</td>\n",
       "      <td>OMIM:125645</td>\n",
       "      <td>HGNC:3036</td>\n",
       "      <td>CDHF2; DSC3</td>\n",
       "      <td>DSC2-related arrhythmogenic right ventricular ...</td>\n",
       "      <td>NaN</td>\n",
       "      <td>MONDO:0012506</td>\n",
       "      <td>monoallelic_autosomal</td>\n",
       "      <td>NaN</td>\n",
       "      <td>definitive</td>\n",
       "      <td>decreased gene product level; altered gene pro...</td>\n",
       "      <td>inframe_deletion; splice_region_variant; misse...</td>\n",
       "      <td>undetermined</td>\n",
       "      <td>inferred</td>\n",
       "      <td>NaN</td>\n",
       "      <td>NaN</td>\n",
       "      <td>31028357; 23911551; 21636032; 33831308; 263105...</td>\n",
       "      <td>Cardiac disorders</td>\n",
       "      <td>Expert review done on 05/01/2022; DSC2-related...</td>\n",
       "      <td>2024-03-20 09:36:09+00:00</td>\n",
       "      <td>https://www.ebi.ac.uk/gene2phenotype/lgd/G2P03247</td>\n",
       "    </tr>\n",
       "    <tr>\n",
       "      <th>3</th>\n",
       "      <td>G2P03248</td>\n",
       "      <td>DSC2</td>\n",
       "      <td>OMIM:125645</td>\n",
       "      <td>HGNC:3036</td>\n",
       "      <td>CDHF2; DSC3</td>\n",
       "      <td>DSC2-related arrhythmogenic right ventricular ...</td>\n",
       "      <td>NaN</td>\n",
       "      <td>MONDO:0012506</td>\n",
       "      <td>biallelic_autosomal</td>\n",
       "      <td>NaN</td>\n",
       "      <td>definitive</td>\n",
       "      <td>decreased gene product level; altered gene pro...</td>\n",
       "      <td>inframe_deletion; splice_region_variant; misse...</td>\n",
       "      <td>undetermined</td>\n",
       "      <td>inferred</td>\n",
       "      <td>NaN</td>\n",
       "      <td>NaN</td>\n",
       "      <td>31028357; 23911551; 21636032; 33831308; 263105...</td>\n",
       "      <td>Cardiac disorders</td>\n",
       "      <td>Expert review done on 05/01/2022; DSC2-related...</td>\n",
       "      <td>2024-03-20 09:35:19+00:00</td>\n",
       "      <td>https://www.ebi.ac.uk/gene2phenotype/lgd/G2P03248</td>\n",
       "    </tr>\n",
       "    <tr>\n",
       "      <th>4</th>\n",
       "      <td>G2P03249</td>\n",
       "      <td>DSG2</td>\n",
       "      <td>OMIM:125671</td>\n",
       "      <td>HGNC:3049</td>\n",
       "      <td>CDHF5</td>\n",
       "      <td>DSG2-related arrhythmogenic right ventricular ...</td>\n",
       "      <td>NaN</td>\n",
       "      <td>MONDO:0012434</td>\n",
       "      <td>monoallelic_autosomal</td>\n",
       "      <td>NaN</td>\n",
       "      <td>definitive</td>\n",
       "      <td>decreased gene product level; altered gene pro...</td>\n",
       "      <td>inframe_deletion; missense_variant; stop_gaine...</td>\n",
       "      <td>undetermined</td>\n",
       "      <td>inferred</td>\n",
       "      <td>NaN</td>\n",
       "      <td>NaN</td>\n",
       "      <td>21636032; 33831308; 33917638; 34400560; 240707...</td>\n",
       "      <td>Cardiac disorders</td>\n",
       "      <td>Expert review done on 05/01/2022; DSG2-related...</td>\n",
       "      <td>2024-03-20 09:40:18+00:00</td>\n",
       "      <td>https://www.ebi.ac.uk/gene2phenotype/lgd/G2P03249</td>\n",
       "    </tr>\n",
       "  </tbody>\n",
       "</table>\n",
       "</div>"
      ],
      "text/plain": [
       "     g2p_id gene_symbol     gene_mim    hgnc_id  \\\n",
       "0  G2P00124       KCNE1  OMIM:176261  HGNC:6240   \n",
       "1  G2P00841      PTPN11  OMIM:176876  HGNC:9644   \n",
       "2  G2P03247        DSC2  OMIM:125645  HGNC:3036   \n",
       "3  G2P03248        DSC2  OMIM:125645  HGNC:3036   \n",
       "4  G2P03249        DSG2  OMIM:125671  HGNC:3049   \n",
       "\n",
       "                     previous_gene_symbols  \\\n",
       "0                   ISK; JLNS2; LQT5; MINK   \n",
       "1  BPTP3; NS1; PTP2C; SH-PTP2; SHP-2; SHP2   \n",
       "2                              CDHF2; DSC3   \n",
       "3                              CDHF2; DSC3   \n",
       "4                                    CDHF5   \n",
       "\n",
       "                                        disease_name  disease_mim  \\\n",
       "0   KCNE1-related Jervell and Lange-Nielsen syndrome  OMIM:612347   \n",
       "1  PTPN11-related Noonan syndrome with multiple l...  OMIM:151100   \n",
       "2  DSC2-related arrhythmogenic right ventricular ...          NaN   \n",
       "3  DSC2-related arrhythmogenic right ventricular ...          NaN   \n",
       "4  DSG2-related arrhythmogenic right ventricular ...          NaN   \n",
       "\n",
       "   disease_MONDO    allelic_requirement       cross_cutting_modifier  \\\n",
       "0            NaN    biallelic_autosomal  potential secondary finding   \n",
       "1            NaN  monoallelic_autosomal                          NaN   \n",
       "2  MONDO:0012506  monoallelic_autosomal                          NaN   \n",
       "3  MONDO:0012506    biallelic_autosomal                          NaN   \n",
       "4  MONDO:0012434  monoallelic_autosomal                          NaN   \n",
       "\n",
       "   confidence                                variant_consequence  \\\n",
       "0      strong                     altered gene product structure   \n",
       "1  definitive                     altered gene product structure   \n",
       "2  definitive  decreased gene product level; altered gene pro...   \n",
       "3  definitive  decreased gene product level; altered gene pro...   \n",
       "4  definitive  decreased gene product level; altered gene pro...   \n",
       "\n",
       "                                       variant_types molecular_mechanism  \\\n",
       "0  missense_variant; inframe_deletion; stop_gaine...        undetermined   \n",
       "1  missense_variant; inframe_deletion; inframe_in...        undetermined   \n",
       "2  inframe_deletion; splice_region_variant; misse...        undetermined   \n",
       "3  inframe_deletion; splice_region_variant; misse...        undetermined   \n",
       "4  inframe_deletion; missense_variant; stop_gaine...        undetermined   \n",
       "\n",
       "  molecular_mechanism_categorisation molecular_mechanism_evidence  \\\n",
       "0                           inferred                          NaN   \n",
       "1                           inferred                          NaN   \n",
       "2                           inferred                          NaN   \n",
       "3                           inferred                          NaN   \n",
       "4                           inferred                          NaN   \n",
       "\n",
       "                                          phenotypes  \\\n",
       "0     HP:0000407; HP:0001657; HP:0000007; HP:0001279   \n",
       "1  HP:0000325; HP:0002996; HP:0000957; HP:0001709...   \n",
       "2                                                NaN   \n",
       "3                                                NaN   \n",
       "4                                                NaN   \n",
       "\n",
       "                                        publications  \\\n",
       "0                                           30461122   \n",
       "1  27484170; 26377839; 25917897; 25884655; 248207...   \n",
       "2  31028357; 23911551; 21636032; 33831308; 263105...   \n",
       "3  31028357; 23911551; 21636032; 33831308; 263105...   \n",
       "4  21636032; 33831308; 33917638; 34400560; 240707...   \n",
       "\n",
       "                                               panel  \\\n",
       "0         Developmental disorders; Cardiac disorders   \n",
       "1  Developmental disorders; Skin disorders; Cardi...   \n",
       "2                                  Cardiac disorders   \n",
       "3                                  Cardiac disorders   \n",
       "4                                  Cardiac disorders   \n",
       "\n",
       "                                            comments  \\\n",
       "0  KCNE1-related JLNS is due to altered gene prod...   \n",
       "1  Expert review done on 12/01/2022; Noonan syndr...   \n",
       "2  Expert review done on 05/01/2022; DSC2-related...   \n",
       "3  Expert review done on 05/01/2022; DSC2-related...   \n",
       "4  Expert review done on 05/01/2022; DSG2-related...   \n",
       "\n",
       "        date_of_last_review                                     g2p_record_url  \n",
       "0 2024-04-05 12:05:01+00:00  https://www.ebi.ac.uk/gene2phenotype/lgd/G2P00124  \n",
       "1 2025-01-21 14:56:43+00:00  https://www.ebi.ac.uk/gene2phenotype/lgd/G2P00841  \n",
       "2 2024-03-20 09:36:09+00:00  https://www.ebi.ac.uk/gene2phenotype/lgd/G2P03247  \n",
       "3 2024-03-20 09:35:19+00:00  https://www.ebi.ac.uk/gene2phenotype/lgd/G2P03248  \n",
       "4 2024-03-20 09:40:18+00:00  https://www.ebi.ac.uk/gene2phenotype/lgd/G2P03249  "
      ]
     },
     "execution_count": 15,
     "metadata": {},
     "output_type": "execute_result"
    }
   ],
   "source": [
    "df.head()"
   ]
  },
  {
   "cell_type": "markdown",
   "id": "fd327545",
   "metadata": {},
   "source": [
    "### Genes"
   ]
  },
  {
   "cell_type": "markdown",
   "id": "42bf5e56",
   "metadata": {},
   "source": [
    "Method #2: build a mapping dict from unique values"
   ]
  },
  {
   "cell_type": "markdown",
   "id": "1c706c6d",
   "metadata": {},
   "source": [
    "#### HGNC IDs"
   ]
  },
  {
   "cell_type": "code",
   "execution_count": 16,
   "id": "54f32d70",
   "metadata": {
    "ExecuteTime": {
     "end_time": "2025-03-31T20:29:31.112504Z",
     "start_time": "2025-03-31T20:29:31.106564Z"
    }
   },
   "outputs": [
    {
     "data": {
      "text/plain": [
       "2991"
      ]
     },
     "execution_count": 16,
     "metadata": {},
     "output_type": "execute_result"
    }
   ],
   "source": [
    "## put into parser (format): DONE\n",
    "\n",
    "gene_hgnc_curies = df[\"hgnc_id\"].dropna().unique()\n",
    "len(gene_hgnc_curies)"
   ]
  },
  {
   "cell_type": "code",
   "execution_count": 17,
   "id": "27fdeabc",
   "metadata": {
    "ExecuteTime": {
     "end_time": "2025-03-31T20:29:42.652360Z",
     "start_time": "2025-03-31T20:29:33.681864Z"
    }
   },
   "outputs": [],
   "source": [
    "## put into parser (format): DONE\n",
    "\n",
    "gene_nodenorm_mapping = {}\n",
    "\n",
    "## larger batches are quicker\n",
    "for batch in batched(gene_hgnc_curies, 1000):\n",
    "    ## returns tuples\n",
    "    req_body = {\n",
    "        \"curies\": list(batch),\n",
    "        \"conflate\": True,\n",
    "    }\n",
    "    r = requests.post(nodenorm_url, json=req_body)\n",
    "    response = r.json()\n",
    "    \n",
    "    temp = {\n",
    "        k: {\"primary_id\": v[\"id\"][\"identifier\"],\n",
    "            \"primary_label\": v[\"id\"][\"label\"]} \n",
    "        for k,v in response.items()\n",
    "    }\n",
    "    gene_nodenorm_mapping.update(temp)"
   ]
  },
  {
   "cell_type": "code",
   "execution_count": 18,
   "id": "fce525ef",
   "metadata": {
    "ExecuteTime": {
     "end_time": "2025-03-31T20:29:43.895088Z",
     "start_time": "2025-03-31T20:29:43.889695Z"
    }
   },
   "outputs": [
    {
     "data": {
      "text/plain": [
       "2991"
      ]
     },
     "execution_count": 18,
     "metadata": {},
     "output_type": "execute_result"
    }
   ],
   "source": [
    "len(gene_nodenorm_mapping)"
   ]
  },
  {
   "cell_type": "markdown",
   "id": "93d72485",
   "metadata": {},
   "source": [
    "#### OMIM IDs"
   ]
  },
  {
   "cell_type": "code",
   "execution_count": 19,
   "id": "0dd6d6af",
   "metadata": {
    "ExecuteTime": {
     "end_time": "2025-03-31T20:29:49.254613Z",
     "start_time": "2025-03-31T20:29:49.249092Z"
    }
   },
   "outputs": [
    {
     "data": {
      "text/plain": [
       "2989"
      ]
     },
     "execution_count": 19,
     "metadata": {},
     "output_type": "execute_result"
    }
   ],
   "source": [
    "gene_omim_curies = df[\"gene_mim\"].dropna().unique()\n",
    "len(gene_omim_curies)"
   ]
  },
  {
   "cell_type": "code",
   "execution_count": 20,
   "id": "e7f772e0",
   "metadata": {
    "ExecuteTime": {
     "end_time": "2025-03-31T20:29:58.145462Z",
     "start_time": "2025-03-31T20:29:49.950849Z"
    }
   },
   "outputs": [],
   "source": [
    "## larger batches are quicker\n",
    "for batch in batched(gene_omim_curies, 1000):\n",
    "    ## returns tuples\n",
    "    req_body = {\n",
    "        \"curies\": list(batch),\n",
    "        \"conflate\": True,\n",
    "    }\n",
    "    r = requests.post(nodenorm_url, json=req_body)\n",
    "    response = r.json()\n",
    "    \n",
    "    temp = {\n",
    "        k: {\"primary_id\": v[\"id\"][\"identifier\"],\n",
    "            \"primary_label\": v[\"id\"][\"label\"]} \n",
    "        for k,v in response.items()\n",
    "    }\n",
    "    gene_nodenorm_mapping.update(temp)"
   ]
  },
  {
   "cell_type": "code",
   "execution_count": 21,
   "id": "5612e143",
   "metadata": {
    "ExecuteTime": {
     "end_time": "2025-03-31T20:29:59.723412Z",
     "start_time": "2025-03-31T20:29:59.717803Z"
    }
   },
   "outputs": [
    {
     "data": {
      "text/plain": [
       "5980"
      ]
     },
     "execution_count": 21,
     "metadata": {},
     "output_type": "execute_result"
    }
   ],
   "source": [
    "len(gene_nodenorm_mapping)"
   ]
  },
  {
   "cell_type": "markdown",
   "id": "e3f2efc4",
   "metadata": {},
   "source": [
    "#### Comparing the two"
   ]
  },
  {
   "cell_type": "code",
   "execution_count": 22,
   "id": "7401b121",
   "metadata": {
    "ExecuteTime": {
     "end_time": "2025-03-31T20:30:02.356392Z",
     "start_time": "2025-03-31T20:30:02.341746Z"
    }
   },
   "outputs": [],
   "source": [
    "## look for differences in primary ID found if row has both IDs\n",
    "for row in df[[\"gene_mim\", \"hgnc_id\"]].itertuples(index=False):\n",
    "    if pd.notna(row.gene_mim) and pd.notna(row.hgnc_id):\n",
    "        if gene_nodenorm_mapping[row.gene_mim][\"primary_id\"] != \\\n",
    "        gene_nodenorm_mapping[row.hgnc_id][\"primary_id\"]:\n",
    "            print(row)\n",
    "\n",
    "## nothing prints, so there are no mismatches"
   ]
  },
  {
   "cell_type": "code",
   "execution_count": 23,
   "id": "e0dcee11",
   "metadata": {
    "ExecuteTime": {
     "end_time": "2025-03-31T20:30:04.512344Z",
     "start_time": "2025-03-31T20:30:04.501561Z"
    }
   },
   "outputs": [
    {
     "name": "stdout",
     "output_type": "stream",
     "text": [
      "G2P name MT-TP, ID HGNC:7494\n",
      "NodeNorm name TRNP, ID NCBIGene:4571\n",
      "\n",
      "\n",
      "G2P name CENPJ, ID HGNC:17272\n",
      "NodeNorm name CPAP, ID NCBIGene:55835\n",
      "\n",
      "\n",
      "G2P name CCDC103, ID HGNC:32700\n",
      "NodeNorm name DNAAF19, ID NCBIGene:388389\n",
      "\n",
      "\n",
      "G2P name MT-TL1, ID HGNC:7490\n",
      "NodeNorm name TRNL1, ID NCBIGene:4567\n",
      "\n",
      "\n",
      "G2P name MT-ND1, ID HGNC:7455\n",
      "NodeNorm name ND1, ID NCBIGene:4535\n",
      "\n",
      "\n",
      "G2P name MT-ND4, ID HGNC:7459\n",
      "NodeNorm name ND4, ID NCBIGene:4538\n",
      "\n",
      "\n",
      "G2P name MT-ATP6, ID HGNC:7414\n",
      "NodeNorm name ATP6, ID NCBIGene:4508\n",
      "\n",
      "\n",
      "G2P name MT-ND5, ID HGNC:7461\n",
      "NodeNorm name ND5, ID NCBIGene:4540\n",
      "\n",
      "\n",
      "G2P name MT-ND6, ID HGNC:7462\n",
      "NodeNorm name ND6, ID NCBIGene:4541\n",
      "\n",
      "\n"
     ]
    }
   ],
   "source": [
    "## look for differences in name between NodeNormed and original data\n",
    "\n",
    "for row in df[[\"gene_symbol\", \"hgnc_id\"]].itertuples(index=False):\n",
    "    if row.gene_symbol != gene_nodenorm_mapping[row.hgnc_id][\"primary_label\"]:\n",
    "        print(f\"G2P name {row.gene_symbol}, ID {row.hgnc_id}\")\n",
    "        print(f'NodeNorm name {gene_nodenorm_mapping[row.hgnc_id][\"primary_label\"]}, ID {gene_nodenorm_mapping[row.hgnc_id][\"primary_id\"]}')\n",
    "        print(\"\\n\")\n",
    "        \n",
    "## mismatched names\n",
    "## NodeNorm is correct for CENPJ -> CPAP and CCDC103 -> DNAAF19\n",
    "## something is odd for the others (mitochondrial genes). Slack message for NodeNorm"
   ]
  },
  {
   "cell_type": "markdown",
   "id": "15f9836e",
   "metadata": {},
   "source": [
    "Current plans for genes:\n",
    "* only use HGNC ID column:\n",
    "  * no missing values\n",
    "  * no entity/primary ID mismatches using it vs OMIM\n",
    "  * if there were entity/primary ID mismatches, I was going to prefer this mapping over OMIM's \n",
    "* use mapping dict to create two new columns: gene_nodenorm_id, gene_nodenorm_name"
   ]
  },
  {
   "cell_type": "code",
   "execution_count": 24,
   "id": "0694697f",
   "metadata": {
    "ExecuteTime": {
     "end_time": "2025-03-31T20:31:20.620173Z",
     "start_time": "2025-03-31T20:31:20.612700Z"
    }
   },
   "outputs": [],
   "source": [
    "## put into parser (format): DONE\n",
    "\n",
    "df[\"gene_nodenorm_id\"] = [gene_nodenorm_mapping[i][\"primary_id\"] for i in df[\"hgnc_id\"]]\n",
    "df[\"gene_nodenorm_label\"] = [gene_nodenorm_mapping[i][\"primary_label\"] for i in df[\"hgnc_id\"]]"
   ]
  },
  {
   "cell_type": "code",
   "execution_count": 25,
   "id": "e2d661d4",
   "metadata": {
    "ExecuteTime": {
     "end_time": "2025-03-31T20:31:21.544004Z",
     "start_time": "2025-03-31T20:31:21.532147Z"
    }
   },
   "outputs": [
    {
     "data": {
      "text/html": [
       "<div>\n",
       "<style scoped>\n",
       "    .dataframe tbody tr th:only-of-type {\n",
       "        vertical-align: middle;\n",
       "    }\n",
       "\n",
       "    .dataframe tbody tr th {\n",
       "        vertical-align: top;\n",
       "    }\n",
       "\n",
       "    .dataframe thead th {\n",
       "        text-align: right;\n",
       "    }\n",
       "</style>\n",
       "<table border=\"1\" class=\"dataframe\">\n",
       "  <thead>\n",
       "    <tr style=\"text-align: right;\">\n",
       "      <th></th>\n",
       "      <th>gene_symbol</th>\n",
       "      <th>gene_mim</th>\n",
       "      <th>hgnc_id</th>\n",
       "      <th>gene_nodenorm_id</th>\n",
       "      <th>gene_nodenorm_label</th>\n",
       "    </tr>\n",
       "  </thead>\n",
       "  <tbody>\n",
       "    <tr>\n",
       "      <th>1208</th>\n",
       "      <td>ZNF599</td>\n",
       "      <td>NaN</td>\n",
       "      <td>HGNC:26408</td>\n",
       "      <td>NCBIGene:148103</td>\n",
       "      <td>ZNF599</td>\n",
       "    </tr>\n",
       "    <tr>\n",
       "      <th>3440</th>\n",
       "      <td>MFSD6L</td>\n",
       "      <td>NaN</td>\n",
       "      <td>HGNC:26656</td>\n",
       "      <td>NCBIGene:162387</td>\n",
       "      <td>MFSD6L</td>\n",
       "    </tr>\n",
       "  </tbody>\n",
       "</table>\n",
       "</div>"
      ],
      "text/plain": [
       "     gene_symbol gene_mim     hgnc_id gene_nodenorm_id gene_nodenorm_label\n",
       "1208      ZNF599      NaN  HGNC:26408  NCBIGene:148103              ZNF599\n",
       "3440      MFSD6L      NaN  HGNC:26656  NCBIGene:162387              MFSD6L"
      ]
     },
     "execution_count": 25,
     "metadata": {},
     "output_type": "execute_result"
    }
   ],
   "source": [
    "## look at the gene ID/name info\n",
    "\n",
    "gene_mapping_df = df[[\"gene_symbol\", \"gene_mim\", \"hgnc_id\", \"gene_nodenorm_id\", \"gene_nodenorm_label\"]].copy()\n",
    "gene_mapping_df[gene_mapping_df[\"gene_mim\"].isna()]"
   ]
  },
  {
   "cell_type": "code",
   "execution_count": 26,
   "id": "5318121a",
   "metadata": {
    "ExecuteTime": {
     "end_time": "2025-03-31T20:31:23.870471Z",
     "start_time": "2025-03-31T20:31:23.857512Z"
    }
   },
   "outputs": [
    {
     "data": {
      "text/html": [
       "<div>\n",
       "<style scoped>\n",
       "    .dataframe tbody tr th:only-of-type {\n",
       "        vertical-align: middle;\n",
       "    }\n",
       "\n",
       "    .dataframe tbody tr th {\n",
       "        vertical-align: top;\n",
       "    }\n",
       "\n",
       "    .dataframe thead th {\n",
       "        text-align: right;\n",
       "    }\n",
       "</style>\n",
       "<table border=\"1\" class=\"dataframe\">\n",
       "  <thead>\n",
       "    <tr style=\"text-align: right;\">\n",
       "      <th></th>\n",
       "      <th>g2p_id</th>\n",
       "      <th>gene_symbol</th>\n",
       "      <th>gene_mim</th>\n",
       "      <th>hgnc_id</th>\n",
       "      <th>previous_gene_symbols</th>\n",
       "      <th>disease_name</th>\n",
       "      <th>disease_mim</th>\n",
       "      <th>disease_MONDO</th>\n",
       "      <th>allelic_requirement</th>\n",
       "      <th>cross_cutting_modifier</th>\n",
       "      <th>confidence</th>\n",
       "      <th>variant_consequence</th>\n",
       "      <th>variant_types</th>\n",
       "      <th>molecular_mechanism</th>\n",
       "      <th>molecular_mechanism_categorisation</th>\n",
       "      <th>molecular_mechanism_evidence</th>\n",
       "      <th>phenotypes</th>\n",
       "      <th>publications</th>\n",
       "      <th>panel</th>\n",
       "      <th>comments</th>\n",
       "      <th>date_of_last_review</th>\n",
       "      <th>g2p_record_url</th>\n",
       "      <th>gene_nodenorm_id</th>\n",
       "      <th>gene_nodenorm_label</th>\n",
       "    </tr>\n",
       "  </thead>\n",
       "  <tbody>\n",
       "  </tbody>\n",
       "</table>\n",
       "</div>"
      ],
      "text/plain": [
       "Empty DataFrame\n",
       "Columns: [g2p_id, gene_symbol, gene_mim, hgnc_id, previous_gene_symbols, disease_name, disease_mim, disease_MONDO, allelic_requirement, cross_cutting_modifier, confidence, variant_consequence, variant_types, molecular_mechanism, molecular_mechanism_categorisation, molecular_mechanism_evidence, phenotypes, publications, panel, comments, date_of_last_review, g2p_record_url, gene_nodenorm_id, gene_nodenorm_label]\n",
       "Index: []"
      ]
     },
     "execution_count": 26,
     "metadata": {},
     "output_type": "execute_result"
    }
   ],
   "source": [
    "## all NodeNormed IDs are NCBIGene\n",
    "df[~ df[\"gene_nodenorm_id\"].str.contains(\"NCBIGene:\")]"
   ]
  },
  {
   "cell_type": "markdown",
   "id": "783a5f57",
   "metadata": {},
   "source": [
    "### Diseases"
   ]
  },
  {
   "cell_type": "markdown",
   "id": "dea80a87",
   "metadata": {},
   "source": [
    "#### OMIM/orphanet"
   ]
  },
  {
   "cell_type": "code",
   "execution_count": 27,
   "id": "38f211ee",
   "metadata": {
    "ExecuteTime": {
     "end_time": "2025-03-31T20:31:50.319839Z",
     "start_time": "2025-03-31T20:31:50.313802Z"
    }
   },
   "outputs": [
    {
     "data": {
      "text/plain": [
       "2401"
      ]
     },
     "execution_count": 27,
     "metadata": {},
     "output_type": "execute_result"
    }
   ],
   "source": [
    "## put into parser (format): DONE\n",
    "\n",
    "disease_omim_orpha_curies = df[\"disease_mim\"].dropna().unique()\n",
    "len(disease_omim_orpha_curies)"
   ]
  },
  {
   "cell_type": "code",
   "execution_count": 28,
   "id": "2456656b",
   "metadata": {
    "ExecuteTime": {
     "end_time": "2025-03-31T20:32:01.491779Z",
     "start_time": "2025-03-31T20:31:53.693377Z"
    },
    "scrolled": true
   },
   "outputs": [
    {
     "name": "stdout",
     "output_type": "stream",
     "text": [
      "OMIM:601884: NodeNorm didn't recognize this ID\n",
      "OMIM:133700: NodeNorm didn't recognize this ID\n",
      "OMIM:249163: NodeNorm didn't recognize this ID\n",
      "OMIM:300153: NodeNorm found different category biolink:Gene. Not keeping this mapping.\n",
      "OMIM:300171: NodeNorm found different category biolink:Gene. Not keeping this mapping.\n",
      "OMIM:319029: NodeNorm didn't recognize this ID\n",
      "OMIM:613180: NodeNorm didn't recognize this ID\n",
      "OMIM:188400: NodeNorm found different category biolink:Gene. Not keeping this mapping.\n",
      "OMIM:300706: NodeNorm didn't recognize this ID\n",
      "OMIM:611579: NodeNorm found different category biolink:Gene. Not keeping this mapping.\n",
      "OMIM:237145: NodeNorm didn't recognize this ID\n",
      "OMIM:300141: NodeNorm didn't recognize this ID\n",
      "OMIM:319490: NodeNorm didn't recognize this ID\n",
      "OMIM:603707: NodeNorm found different category biolink:Gene. Not keeping this mapping.\n",
      "OMIM:601789: NodeNorm found different category biolink:Gene. Not keeping this mapping.\n",
      "OMIM:300630: NodeNorm didn't recognize this ID\n",
      "OMIM:603360: NodeNorm found different category biolink:Gene. Not keeping this mapping.\n",
      "OMIM:319494: NodeNorm didn't recognize this ID\n",
      "OMIM:612652: NodeNorm didn't recognize this ID\n",
      "OMIM:614192: NodeNorm didn't recognize this ID\n",
      "OMIM:609413: NodeNorm found different category biolink:Gene. Not keeping this mapping.\n",
      "OMIM:276069: NodeNorm didn't recognize this ID\n",
      "OMIM:316970: NodeNorm didn't recognize this ID\n",
      "OMIM:311150: NodeNorm didn't recognize this ID\n",
      "OMIM:300197: NodeNorm found different category biolink:Gene. Not keeping this mapping.\n",
      "OMIM:614157: NodeNorm didn't recognize this ID\n",
      "OMIM:603164: NodeNorm found different category biolink:Gene. Not keeping this mapping.\n",
      "OMIM:123580: NodeNorm found different category biolink:Gene. Not keeping this mapping.\n",
      "OMIM:237124: NodeNorm didn't recognize this ID\n",
      "OMIM:239588: NodeNorm didn't recognize this ID\n",
      "OMIM:601758: NodeNorm found different category biolink:Gene. Not keeping this mapping.\n",
      "OMIM:601498: NodeNorm found different category biolink:Gene. Not keeping this mapping.\n",
      "OMIM:300129: NodeNorm didn't find primary label. Not keeping this mapping.\n",
      "OMIM:69432: NodeNorm didn't recognize this ID\n",
      "OMIM:603513: NodeNorm didn't recognize this ID\n",
      "OMIM:601791: NodeNorm found different category biolink:Gene. Not keeping this mapping.\n",
      "OMIM:615057: NodeNorm didn't recognize this ID\n",
      "OMIM:170993: NodeNorm found different category biolink:Gene. Not keeping this mapping.\n",
      "OMIM:237128: NodeNorm didn't recognize this ID\n",
      "OMIM:601893: NodeNorm found different category biolink:Gene. Not keeping this mapping.\n",
      "OMIM:300220: NodeNorm didn't recognize this ID\n",
      "OMIM:237149: NodeNorm didn't recognize this ID\n",
      "OMIM:610426: NodeNorm didn't recognize this ID\n",
      "OMIM:606525: NodeNorm found different category biolink:Gene. Not keeping this mapping.\n",
      "OMIM:319493: NodeNorm didn't recognize this ID\n",
      "OMIM:116150: NodeNorm didn't recognize this ID\n",
      "OMIM:610765: NodeNorm didn't recognize this ID\n",
      "OMIM:602859: NodeNorm found different category biolink:Gene. Not keeping this mapping.\n",
      "OMIM:612082: NodeNorm found different category biolink:Gene. Not keeping this mapping.\n",
      "OMIM:601757: NodeNorm found different category biolink:Gene. Not keeping this mapping.\n",
      "OMIM:611277: NodeNorm didn't recognize this ID\n",
      "OMIM:258276: NodeNorm didn't recognize this ID\n",
      "OMIM:205306: NodeNorm didn't recognize this ID\n",
      "OMIM:285648: NodeNorm didn't recognize this ID\n",
      "OMIM:308078: NodeNorm didn't recognize this ID\n",
      "OMIM:300204: NodeNorm found different category biolink:Gene. Not keeping this mapping.\n",
      "OMIM:600112: NodeNorm found different category biolink:Gene. Not keeping this mapping.\n",
      "OMIM:104155: NodeNorm found different category biolink:Gene. Not keeping this mapping.\n",
      "OMIM:618615: NodeNorm found different category biolink:Gene. Not keeping this mapping.\n",
      "OMIM:614281: NodeNorm found different category biolink:Gene. Not keeping this mapping.\n",
      "OMIM:620987: NodeNorm didn't find primary label. Not keeping this mapping.\n",
      "OMIM:620964: NodeNorm didn't find primary label. Not keeping this mapping.\n",
      "OMIM:621034: NodeNorm didn't recognize this ID\n",
      "OMIM:150800: NodeNorm didn't recognize this ID\n",
      "OMIM:319158: NodeNorm didn't recognize this ID\n",
      "OMIM:608890: NodeNorm didn't recognize this ID\n",
      "OMIM:603718: NodeNorm found different category biolink:Gene. Not keeping this mapping.\n",
      "OMIM:607236: NodeNorm didn't recognize this ID\n"
     ]
    }
   ],
   "source": [
    "## put into parser (format): DONE\n",
    "\n",
    "disease_nodenorm_mapping = {}\n",
    "\n",
    "## larger batches are quicker\n",
    "for batch in batched(disease_omim_orpha_curies, 1000):\n",
    "    ## returns tuples\n",
    "    req_body = {\n",
    "        \"curies\": list(batch),\n",
    "        \"conflate\": True,\n",
    "    }\n",
    "    r = requests.post(nodenorm_url, json=req_body)\n",
    "    response = r.json()\n",
    "    \n",
    "    ## not doing dict comprehension. allows easier review, logic writing\n",
    "    for k,v in response.items():\n",
    "        try:\n",
    "            ## if NodeNorm did not recognize ID, v will be None\n",
    "            if v is not None:\n",
    "                ## some IDs aren't Diseases, throw those mappings out \n",
    "                if v[\"type\"][0] == \"biolink:Disease\":\n",
    "                    ## also throw out mapping if no primary label found\n",
    "                    if v[\"id\"].get(\"label\"):\n",
    "                        temp = {\n",
    "                            k: {\"primary_id\": v[\"id\"][\"identifier\"],\n",
    "                                \"primary_label\": v[\"id\"][\"label\"]\n",
    "                               }\n",
    "                        }\n",
    "                        disease_nodenorm_mapping.update(temp)\n",
    "                    else:\n",
    "                        print(f\"{k}: NodeNorm didn't find primary label. Not keeping this mapping.\")\n",
    "                else:\n",
    "                    print(f'{k}: NodeNorm found different category {v[\"type\"][0]}. Not keeping this mapping.')\n",
    "            else:\n",
    "                print(f\"{k}: NodeNorm didn't recognize this ID\")\n",
    "        except:\n",
    "            print(f'Encountered an error processing the NodeNorm response.')\n",
    "            print(f'NodeNorm response key: {k}')\n",
    "            print(f'NodeNorm response value: {v}')\n",
    "## old code: dict comprehension\n",
    "#         temp = {\n",
    "#             k: {\"primary_id\": v[\"id\"][\"identifier\"],\n",
    "#                 \"primary_label\": v[\"id\"][\"label\"]} \n",
    "#             for k,v in response.items()\n",
    "#             if v is not None if v[\"type\"][0] == \"biolink:Disease\"\n",
    "#         }\n",
    "#         disease_nodenorm_mapping.update(temp)\n",
    "#     except:\n",
    "#         print(k)\n",
    "#         pprint(v)"
   ]
  },
  {
   "cell_type": "markdown",
   "id": "63d5b2e5",
   "metadata": {},
   "source": [
    "Reviewing the output above: issues with NodeNorm process"
   ]
  },
  {
   "cell_type": "code",
   "execution_count": 29,
   "id": "77af9e52",
   "metadata": {
    "ExecuteTime": {
     "end_time": "2025-03-31T20:32:06.506900Z",
     "start_time": "2025-03-31T20:32:06.489191Z"
    }
   },
   "outputs": [
    {
     "data": {
      "text/html": [
       "<div>\n",
       "<style scoped>\n",
       "    .dataframe tbody tr th:only-of-type {\n",
       "        vertical-align: middle;\n",
       "    }\n",
       "\n",
       "    .dataframe tbody tr th {\n",
       "        vertical-align: top;\n",
       "    }\n",
       "\n",
       "    .dataframe thead th {\n",
       "        text-align: right;\n",
       "    }\n",
       "</style>\n",
       "<table border=\"1\" class=\"dataframe\">\n",
       "  <thead>\n",
       "    <tr style=\"text-align: right;\">\n",
       "      <th></th>\n",
       "      <th>g2p_id</th>\n",
       "      <th>gene_symbol</th>\n",
       "      <th>gene_mim</th>\n",
       "      <th>hgnc_id</th>\n",
       "      <th>previous_gene_symbols</th>\n",
       "      <th>disease_name</th>\n",
       "      <th>disease_mim</th>\n",
       "      <th>disease_MONDO</th>\n",
       "      <th>allelic_requirement</th>\n",
       "      <th>cross_cutting_modifier</th>\n",
       "      <th>confidence</th>\n",
       "      <th>variant_consequence</th>\n",
       "      <th>variant_types</th>\n",
       "      <th>molecular_mechanism</th>\n",
       "      <th>molecular_mechanism_categorisation</th>\n",
       "      <th>molecular_mechanism_evidence</th>\n",
       "      <th>phenotypes</th>\n",
       "      <th>publications</th>\n",
       "      <th>panel</th>\n",
       "      <th>comments</th>\n",
       "      <th>date_of_last_review</th>\n",
       "      <th>g2p_record_url</th>\n",
       "      <th>gene_nodenorm_id</th>\n",
       "      <th>gene_nodenorm_label</th>\n",
       "    </tr>\n",
       "  </thead>\n",
       "  <tbody>\n",
       "    <tr>\n",
       "      <th>2951</th>\n",
       "      <td>G2P02516</td>\n",
       "      <td>SNAI2</td>\n",
       "      <td>OMIM:602150</td>\n",
       "      <td>HGNC:11094</td>\n",
       "      <td>SLUG; SLUGH; SLUGH1; SNAIL2</td>\n",
       "      <td>SNAI2-related Waardenburg syndrome</td>\n",
       "      <td>OMIM:608890</td>\n",
       "      <td>NaN</td>\n",
       "      <td>biallelic_autosomal</td>\n",
       "      <td>NaN</td>\n",
       "      <td>strong</td>\n",
       "      <td>absent gene product</td>\n",
       "      <td>NaN</td>\n",
       "      <td>loss of function</td>\n",
       "      <td>inferred</td>\n",
       "      <td>NaN</td>\n",
       "      <td>HP:0000598; HP:0008527; HP:0000152; HP:0001100...</td>\n",
       "      <td>12444107</td>\n",
       "      <td>Skin disorders</td>\n",
       "      <td>NaN</td>\n",
       "      <td>2018-07-05 15:56:51+00:00</td>\n",
       "      <td>https://www.ebi.ac.uk/gene2phenotype/lgd/G2P02516</td>\n",
       "      <td>NCBIGene:6591</td>\n",
       "      <td>SNAI2</td>\n",
       "    </tr>\n",
       "  </tbody>\n",
       "</table>\n",
       "</div>"
      ],
      "text/plain": [
       "        g2p_id gene_symbol     gene_mim     hgnc_id  \\\n",
       "2951  G2P02516       SNAI2  OMIM:602150  HGNC:11094   \n",
       "\n",
       "            previous_gene_symbols                        disease_name  \\\n",
       "2951  SLUG; SLUGH; SLUGH1; SNAIL2  SNAI2-related Waardenburg syndrome   \n",
       "\n",
       "      disease_mim disease_MONDO  allelic_requirement cross_cutting_modifier  \\\n",
       "2951  OMIM:608890           NaN  biallelic_autosomal                    NaN   \n",
       "\n",
       "     confidence  variant_consequence variant_types molecular_mechanism  \\\n",
       "2951     strong  absent gene product           NaN    loss of function   \n",
       "\n",
       "     molecular_mechanism_categorisation molecular_mechanism_evidence  \\\n",
       "2951                           inferred                          NaN   \n",
       "\n",
       "                                             phenotypes publications  \\\n",
       "2951  HP:0000598; HP:0008527; HP:0000152; HP:0001100...     12444107   \n",
       "\n",
       "               panel comments       date_of_last_review  \\\n",
       "2951  Skin disorders      NaN 2018-07-05 15:56:51+00:00   \n",
       "\n",
       "                                         g2p_record_url gene_nodenorm_id  \\\n",
       "2951  https://www.ebi.ac.uk/gene2phenotype/lgd/G2P02516    NCBIGene:6591   \n",
       "\n",
       "     gene_nodenorm_label  \n",
       "2951               SNAI2  "
      ]
     },
     "execution_count": 29,
     "metadata": {},
     "output_type": "execute_result"
    }
   ],
   "source": [
    "df[df[\"disease_mim\"] == \"OMIM:608890\"]"
   ]
  },
  {
   "cell_type": "code",
   "execution_count": 30,
   "id": "e33c2e10",
   "metadata": {
    "ExecuteTime": {
     "end_time": "2025-03-31T20:32:09.232935Z",
     "start_time": "2025-03-31T20:32:09.227423Z"
    }
   },
   "outputs": [
    {
     "data": {
      "text/plain": [
       "2333"
      ]
     },
     "execution_count": 30,
     "metadata": {},
     "output_type": "execute_result"
    },
    {
     "name": "stdout",
     "output_type": "stream",
     "text": [
      "Didn't resolve 68\n"
     ]
    }
   ],
   "source": [
    "len(disease_nodenorm_mapping)\n",
    "\n",
    "print(f\"Didn't resolve {len(disease_omim_orpha_curies) - len(disease_nodenorm_mapping)}\")"
   ]
  },
  {
   "cell_type": "markdown",
   "id": "8a424998",
   "metadata": {},
   "source": [
    "I checked all 26 cases where NodeNorm category was something else (was always Gene instead): \n",
    "* 1 case (OMIM:188400) where NodeNorm seemed to be wrong - and it is a disease -> Slack message to NodeNorm\n",
    "* all other cases: NodeNorm is correct, this is a gene\n",
    "\n",
    "\n",
    "I checked a few cases where NodeNorm didn't resolve (39 total): \n",
    "* 1 case (OMIM:601884) where the category was confusing -> Slack message to NodeNorm\n",
    "* 1 case (OMIM:133700) that NodeNorm ought to have ingested as a disease -> Slack message to NodeNorm\n",
    "* 1 case (OMIM:249163) where ID actually didn't exist\n",
    "* 2 cases (OMIM:607236, OMIM:608890) where the ID was replaced/moved to a diff ID \n",
    "\n",
    "\n",
    "I checked all 3 cases where NodeNorm didn't find primary label:\n",
    "* 2 cases (OMIM:620987, OMIM:620964) - good ID, NodeNorm is just missing the label -> Slack message to NodeNorm\n",
    "* OMIM:300129 doesn't seem to be a disease. Not sure it should even be a entity/be in NodeNorm -> Slack message to NodeNorm\n",
    "\n",
    "\n",
    "I checked all 9 orphanet IDs: mappings look fine"
   ]
  },
  {
   "cell_type": "code",
   "execution_count": 31,
   "id": "e90e26d5",
   "metadata": {
    "ExecuteTime": {
     "end_time": "2025-03-31T20:32:23.593584Z",
     "start_time": "2025-03-31T20:32:23.569126Z"
    }
   },
   "outputs": [
    {
     "data": {
      "text/html": [
       "<div>\n",
       "<style scoped>\n",
       "    .dataframe tbody tr th:only-of-type {\n",
       "        vertical-align: middle;\n",
       "    }\n",
       "\n",
       "    .dataframe tbody tr th {\n",
       "        vertical-align: top;\n",
       "    }\n",
       "\n",
       "    .dataframe thead th {\n",
       "        text-align: right;\n",
       "    }\n",
       "</style>\n",
       "<table border=\"1\" class=\"dataframe\">\n",
       "  <thead>\n",
       "    <tr style=\"text-align: right;\">\n",
       "      <th></th>\n",
       "      <th>g2p_id</th>\n",
       "      <th>gene_symbol</th>\n",
       "      <th>gene_mim</th>\n",
       "      <th>hgnc_id</th>\n",
       "      <th>previous_gene_symbols</th>\n",
       "      <th>disease_name</th>\n",
       "      <th>disease_mim</th>\n",
       "      <th>disease_MONDO</th>\n",
       "      <th>allelic_requirement</th>\n",
       "      <th>cross_cutting_modifier</th>\n",
       "      <th>confidence</th>\n",
       "      <th>variant_consequence</th>\n",
       "      <th>variant_types</th>\n",
       "      <th>molecular_mechanism</th>\n",
       "      <th>molecular_mechanism_categorisation</th>\n",
       "      <th>molecular_mechanism_evidence</th>\n",
       "      <th>phenotypes</th>\n",
       "      <th>publications</th>\n",
       "      <th>panel</th>\n",
       "      <th>comments</th>\n",
       "      <th>date_of_last_review</th>\n",
       "      <th>g2p_record_url</th>\n",
       "      <th>gene_nodenorm_id</th>\n",
       "      <th>gene_nodenorm_label</th>\n",
       "    </tr>\n",
       "  </thead>\n",
       "  <tbody>\n",
       "    <tr>\n",
       "      <th>2052</th>\n",
       "      <td>G2P02555</td>\n",
       "      <td>SMAD6</td>\n",
       "      <td>OMIM:602931</td>\n",
       "      <td>HGNC:6772</td>\n",
       "      <td>HST17432; MADH6; MADH7</td>\n",
       "      <td>SMAD6-related non-syndromic craniosynostosis</td>\n",
       "      <td>orphanet:139390</td>\n",
       "      <td>NaN</td>\n",
       "      <td>monoallelic_autosomal</td>\n",
       "      <td>NaN</td>\n",
       "      <td>limited</td>\n",
       "      <td>absent gene product</td>\n",
       "      <td>NaN</td>\n",
       "      <td>loss of function</td>\n",
       "      <td>inferred</td>\n",
       "      <td>NaN</td>\n",
       "      <td>HP:0001363</td>\n",
       "      <td>27606499; 28808027</td>\n",
       "      <td>Developmental disorders</td>\n",
       "      <td>NaN</td>\n",
       "      <td>2019-04-17 12:18:34+00:00</td>\n",
       "      <td>https://www.ebi.ac.uk/gene2phenotype/lgd/G2P02555</td>\n",
       "      <td>NCBIGene:4091</td>\n",
       "      <td>SMAD6</td>\n",
       "    </tr>\n",
       "    <tr>\n",
       "      <th>2061</th>\n",
       "      <td>G2P02564</td>\n",
       "      <td>TONSL</td>\n",
       "      <td>OMIM:604546</td>\n",
       "      <td>HGNC:7801</td>\n",
       "      <td>IKBR; NFKBIL2</td>\n",
       "      <td>TONSL-related sponastrime dysplasia</td>\n",
       "      <td>orphanet:93357</td>\n",
       "      <td>NaN</td>\n",
       "      <td>biallelic_autosomal</td>\n",
       "      <td>NaN</td>\n",
       "      <td>strong</td>\n",
       "      <td>absent gene product</td>\n",
       "      <td>NaN</td>\n",
       "      <td>loss of function</td>\n",
       "      <td>inferred</td>\n",
       "      <td>NaN</td>\n",
       "      <td>HP:0005281; HP:0100255; HP:0002650; HP:0004322</td>\n",
       "      <td>30773277; 30773278</td>\n",
       "      <td>Developmental disorders</td>\n",
       "      <td>NaN</td>\n",
       "      <td>2018-11-07 09:53:40+00:00</td>\n",
       "      <td>https://www.ebi.ac.uk/gene2phenotype/lgd/G2P02564</td>\n",
       "      <td>NCBIGene:4796</td>\n",
       "      <td>TONSL</td>\n",
       "    </tr>\n",
       "    <tr>\n",
       "      <th>2846</th>\n",
       "      <td>G2P01819</td>\n",
       "      <td>RET</td>\n",
       "      <td>OMIM:164761</td>\n",
       "      <td>HGNC:9967</td>\n",
       "      <td>CDHF12; CDHR16; HSCR1; MEN2A; MEN2B; MTC1; PTC...</td>\n",
       "      <td>RET-related medullary thyroid carcinoma</td>\n",
       "      <td>orphanet:1332</td>\n",
       "      <td>NaN</td>\n",
       "      <td>monoallelic_autosomal</td>\n",
       "      <td>NaN</td>\n",
       "      <td>definitive</td>\n",
       "      <td>uncertain</td>\n",
       "      <td>NaN</td>\n",
       "      <td>undetermined</td>\n",
       "      <td>inferred</td>\n",
       "      <td>NaN</td>\n",
       "      <td>HP:0002865</td>\n",
       "      <td>10323403; 11454140; 14602786; 15240641; 950672...</td>\n",
       "      <td>Skin disorders; Cancer disorders</td>\n",
       "      <td>NaN</td>\n",
       "      <td>2017-09-01 16:19:16+00:00</td>\n",
       "      <td>https://www.ebi.ac.uk/gene2phenotype/lgd/G2P01819</td>\n",
       "      <td>NCBIGene:5979</td>\n",
       "      <td>RET</td>\n",
       "    </tr>\n",
       "    <tr>\n",
       "      <th>2967</th>\n",
       "      <td>G2P02669</td>\n",
       "      <td>INSR</td>\n",
       "      <td>OMIM:147670</td>\n",
       "      <td>HGNC:6091</td>\n",
       "      <td>CD220</td>\n",
       "      <td>INSR-related leprechaunism</td>\n",
       "      <td>orphanet:508</td>\n",
       "      <td>NaN</td>\n",
       "      <td>biallelic_autosomal</td>\n",
       "      <td>NaN</td>\n",
       "      <td>definitive</td>\n",
       "      <td>absent gene product</td>\n",
       "      <td>NaN</td>\n",
       "      <td>loss of function</td>\n",
       "      <td>inferred</td>\n",
       "      <td>NaN</td>\n",
       "      <td>HP:0000119; HP:0001574; HP:0000138; HP:0000212...</td>\n",
       "      <td>8105179; 7815442</td>\n",
       "      <td>Skin disorders</td>\n",
       "      <td>NaN</td>\n",
       "      <td>2019-09-16 15:47:00+00:00</td>\n",
       "      <td>https://www.ebi.ac.uk/gene2phenotype/lgd/G2P02669</td>\n",
       "      <td>NCBIGene:3643</td>\n",
       "      <td>INSR</td>\n",
       "    </tr>\n",
       "    <tr>\n",
       "      <th>3197</th>\n",
       "      <td>G2P03354</td>\n",
       "      <td>SEC23B</td>\n",
       "      <td>OMIM:610512</td>\n",
       "      <td>HGNC:10702</td>\n",
       "      <td>CDA-II; CDAII; CDAN2; HEMPAS</td>\n",
       "      <td>SEC23B-related Cowden syndrome</td>\n",
       "      <td>orphanet:201</td>\n",
       "      <td>NaN</td>\n",
       "      <td>monoallelic_autosomal</td>\n",
       "      <td>NaN</td>\n",
       "      <td>limited</td>\n",
       "      <td>uncertain</td>\n",
       "      <td>NaN</td>\n",
       "      <td>gain of function</td>\n",
       "      <td>inferred</td>\n",
       "      <td>NaN</td>\n",
       "      <td>HP:0012114; HP:0012056; HP:0500009; HP:0005584...</td>\n",
       "      <td>26522472</td>\n",
       "      <td>Cancer disorders</td>\n",
       "      <td>NaN</td>\n",
       "      <td>2022-11-30 08:49:50+00:00</td>\n",
       "      <td>https://www.ebi.ac.uk/gene2phenotype/lgd/G2P03354</td>\n",
       "      <td>NCBIGene:10483</td>\n",
       "      <td>SEC23B</td>\n",
       "    </tr>\n",
       "    <tr>\n",
       "      <th>3304</th>\n",
       "      <td>G2P02001</td>\n",
       "      <td>RCBTB1</td>\n",
       "      <td>OMIM:607867</td>\n",
       "      <td>HGNC:18243</td>\n",
       "      <td>CLLD7; CLLL7; FLJ10716</td>\n",
       "      <td>RCBTB1-related familial exudative vitreoretino...</td>\n",
       "      <td>orphanet:891</td>\n",
       "      <td>NaN</td>\n",
       "      <td>monoallelic_autosomal</td>\n",
       "      <td>NaN</td>\n",
       "      <td>limited</td>\n",
       "      <td>altered gene product structure</td>\n",
       "      <td>missense_variant; inframe_deletion; inframe_in...</td>\n",
       "      <td>undetermined</td>\n",
       "      <td>inferred</td>\n",
       "      <td>NaN</td>\n",
       "      <td>HP:0012231; HP:0000006; HP:0011532; HP:0001141...</td>\n",
       "      <td>26908610</td>\n",
       "      <td>Eye disorders</td>\n",
       "      <td>NaN</td>\n",
       "      <td>2017-06-11 18:14:48+00:00</td>\n",
       "      <td>https://www.ebi.ac.uk/gene2phenotype/lgd/G2P02001</td>\n",
       "      <td>NCBIGene:55213</td>\n",
       "      <td>RCBTB1</td>\n",
       "    </tr>\n",
       "    <tr>\n",
       "      <th>3484</th>\n",
       "      <td>G2P02222</td>\n",
       "      <td>REV3L</td>\n",
       "      <td>OMIM:602776</td>\n",
       "      <td>HGNC:9968</td>\n",
       "      <td>POLZ; REV3</td>\n",
       "      <td>REV3L-related Moebius syndrome</td>\n",
       "      <td>orphanet:570</td>\n",
       "      <td>NaN</td>\n",
       "      <td>monoallelic_autosomal</td>\n",
       "      <td>NaN</td>\n",
       "      <td>limited</td>\n",
       "      <td>uncertain</td>\n",
       "      <td>NaN</td>\n",
       "      <td>undetermined</td>\n",
       "      <td>inferred</td>\n",
       "      <td>NaN</td>\n",
       "      <td>NaN</td>\n",
       "      <td>26068067</td>\n",
       "      <td>Eye disorders</td>\n",
       "      <td>NaN</td>\n",
       "      <td>2017-08-30 12:00:00+00:00</td>\n",
       "      <td>https://www.ebi.ac.uk/gene2phenotype/lgd/G2P02222</td>\n",
       "      <td>NCBIGene:5980</td>\n",
       "      <td>REV3L</td>\n",
       "    </tr>\n",
       "    <tr>\n",
       "      <th>3526</th>\n",
       "      <td>G2P02286</td>\n",
       "      <td>TMEM98</td>\n",
       "      <td>OMIM:615949</td>\n",
       "      <td>HGNC:24529</td>\n",
       "      <td>DKFZP564K1964</td>\n",
       "      <td>TMEM98-related nanophthalmos</td>\n",
       "      <td>orphanet:35612</td>\n",
       "      <td>NaN</td>\n",
       "      <td>monoallelic_autosomal</td>\n",
       "      <td>NaN</td>\n",
       "      <td>strong</td>\n",
       "      <td>uncertain</td>\n",
       "      <td>NaN</td>\n",
       "      <td>undetermined</td>\n",
       "      <td>inferred</td>\n",
       "      <td>NaN</td>\n",
       "      <td>NaN</td>\n",
       "      <td>24852644; 26392740</td>\n",
       "      <td>Eye disorders</td>\n",
       "      <td>NaN</td>\n",
       "      <td>2017-08-31 13:26:51+00:00</td>\n",
       "      <td>https://www.ebi.ac.uk/gene2phenotype/lgd/G2P02286</td>\n",
       "      <td>NCBIGene:26022</td>\n",
       "      <td>TMEM98</td>\n",
       "    </tr>\n",
       "    <tr>\n",
       "      <th>3607</th>\n",
       "      <td>G2P02426</td>\n",
       "      <td>TENM3</td>\n",
       "      <td>OMIM:610083</td>\n",
       "      <td>HGNC:29944</td>\n",
       "      <td>KIAA1455; ODZ3; TEN-M3; TEN3</td>\n",
       "      <td>TENM3-related colobomatous microphthalmia</td>\n",
       "      <td>orphanet:98938</td>\n",
       "      <td>NaN</td>\n",
       "      <td>biallelic_autosomal</td>\n",
       "      <td>NaN</td>\n",
       "      <td>strong</td>\n",
       "      <td>absent gene product</td>\n",
       "      <td>NaN</td>\n",
       "      <td>loss of function</td>\n",
       "      <td>inferred</td>\n",
       "      <td>NaN</td>\n",
       "      <td>HP:0000567; HP:0007700; HP:0000565; HP:0000482...</td>\n",
       "      <td>29753094; 27103084; 22766609</td>\n",
       "      <td>Eye disorders</td>\n",
       "      <td>NaN</td>\n",
       "      <td>2018-05-25 09:59:48+00:00</td>\n",
       "      <td>https://www.ebi.ac.uk/gene2phenotype/lgd/G2P02426</td>\n",
       "      <td>NCBIGene:55714</td>\n",
       "      <td>TENM3</td>\n",
       "    </tr>\n",
       "  </tbody>\n",
       "</table>\n",
       "</div>"
      ],
      "text/plain": [
       "        g2p_id gene_symbol     gene_mim     hgnc_id  \\\n",
       "2052  G2P02555       SMAD6  OMIM:602931   HGNC:6772   \n",
       "2061  G2P02564       TONSL  OMIM:604546   HGNC:7801   \n",
       "2846  G2P01819         RET  OMIM:164761   HGNC:9967   \n",
       "2967  G2P02669        INSR  OMIM:147670   HGNC:6091   \n",
       "3197  G2P03354      SEC23B  OMIM:610512  HGNC:10702   \n",
       "3304  G2P02001      RCBTB1  OMIM:607867  HGNC:18243   \n",
       "3484  G2P02222       REV3L  OMIM:602776   HGNC:9968   \n",
       "3526  G2P02286      TMEM98  OMIM:615949  HGNC:24529   \n",
       "3607  G2P02426       TENM3  OMIM:610083  HGNC:29944   \n",
       "\n",
       "                                  previous_gene_symbols  \\\n",
       "2052                             HST17432; MADH6; MADH7   \n",
       "2061                                      IKBR; NFKBIL2   \n",
       "2846  CDHF12; CDHR16; HSCR1; MEN2A; MEN2B; MTC1; PTC...   \n",
       "2967                                              CD220   \n",
       "3197                       CDA-II; CDAII; CDAN2; HEMPAS   \n",
       "3304                             CLLD7; CLLL7; FLJ10716   \n",
       "3484                                         POLZ; REV3   \n",
       "3526                                      DKFZP564K1964   \n",
       "3607                       KIAA1455; ODZ3; TEN-M3; TEN3   \n",
       "\n",
       "                                           disease_name      disease_mim  \\\n",
       "2052       SMAD6-related non-syndromic craniosynostosis  orphanet:139390   \n",
       "2061                TONSL-related sponastrime dysplasia   orphanet:93357   \n",
       "2846            RET-related medullary thyroid carcinoma    orphanet:1332   \n",
       "2967                         INSR-related leprechaunism     orphanet:508   \n",
       "3197                     SEC23B-related Cowden syndrome     orphanet:201   \n",
       "3304  RCBTB1-related familial exudative vitreoretino...     orphanet:891   \n",
       "3484                     REV3L-related Moebius syndrome     orphanet:570   \n",
       "3526                       TMEM98-related nanophthalmos   orphanet:35612   \n",
       "3607          TENM3-related colobomatous microphthalmia   orphanet:98938   \n",
       "\n",
       "     disease_MONDO    allelic_requirement cross_cutting_modifier  confidence  \\\n",
       "2052           NaN  monoallelic_autosomal                    NaN     limited   \n",
       "2061           NaN    biallelic_autosomal                    NaN      strong   \n",
       "2846           NaN  monoallelic_autosomal                    NaN  definitive   \n",
       "2967           NaN    biallelic_autosomal                    NaN  definitive   \n",
       "3197           NaN  monoallelic_autosomal                    NaN     limited   \n",
       "3304           NaN  monoallelic_autosomal                    NaN     limited   \n",
       "3484           NaN  monoallelic_autosomal                    NaN     limited   \n",
       "3526           NaN  monoallelic_autosomal                    NaN      strong   \n",
       "3607           NaN    biallelic_autosomal                    NaN      strong   \n",
       "\n",
       "                 variant_consequence  \\\n",
       "2052             absent gene product   \n",
       "2061             absent gene product   \n",
       "2846                       uncertain   \n",
       "2967             absent gene product   \n",
       "3197                       uncertain   \n",
       "3304  altered gene product structure   \n",
       "3484                       uncertain   \n",
       "3526                       uncertain   \n",
       "3607             absent gene product   \n",
       "\n",
       "                                          variant_types molecular_mechanism  \\\n",
       "2052                                                NaN    loss of function   \n",
       "2061                                                NaN    loss of function   \n",
       "2846                                                NaN        undetermined   \n",
       "2967                                                NaN    loss of function   \n",
       "3197                                                NaN    gain of function   \n",
       "3304  missense_variant; inframe_deletion; inframe_in...        undetermined   \n",
       "3484                                                NaN        undetermined   \n",
       "3526                                                NaN        undetermined   \n",
       "3607                                                NaN    loss of function   \n",
       "\n",
       "     molecular_mechanism_categorisation molecular_mechanism_evidence  \\\n",
       "2052                           inferred                          NaN   \n",
       "2061                           inferred                          NaN   \n",
       "2846                           inferred                          NaN   \n",
       "2967                           inferred                          NaN   \n",
       "3197                           inferred                          NaN   \n",
       "3304                           inferred                          NaN   \n",
       "3484                           inferred                          NaN   \n",
       "3526                           inferred                          NaN   \n",
       "3607                           inferred                          NaN   \n",
       "\n",
       "                                             phenotypes  \\\n",
       "2052                                         HP:0001363   \n",
       "2061     HP:0005281; HP:0100255; HP:0002650; HP:0004322   \n",
       "2846                                         HP:0002865   \n",
       "2967  HP:0000119; HP:0001574; HP:0000138; HP:0000212...   \n",
       "3197  HP:0012114; HP:0012056; HP:0500009; HP:0005584...   \n",
       "3304  HP:0012231; HP:0000006; HP:0011532; HP:0001141...   \n",
       "3484                                                NaN   \n",
       "3526                                                NaN   \n",
       "3607  HP:0000567; HP:0007700; HP:0000565; HP:0000482...   \n",
       "\n",
       "                                           publications  \\\n",
       "2052                                 27606499; 28808027   \n",
       "2061                                 30773277; 30773278   \n",
       "2846  10323403; 11454140; 14602786; 15240641; 950672...   \n",
       "2967                                   8105179; 7815442   \n",
       "3197                                           26522472   \n",
       "3304                                           26908610   \n",
       "3484                                           26068067   \n",
       "3526                                 24852644; 26392740   \n",
       "3607                       29753094; 27103084; 22766609   \n",
       "\n",
       "                                 panel comments       date_of_last_review  \\\n",
       "2052           Developmental disorders      NaN 2019-04-17 12:18:34+00:00   \n",
       "2061           Developmental disorders      NaN 2018-11-07 09:53:40+00:00   \n",
       "2846  Skin disorders; Cancer disorders      NaN 2017-09-01 16:19:16+00:00   \n",
       "2967                    Skin disorders      NaN 2019-09-16 15:47:00+00:00   \n",
       "3197                  Cancer disorders      NaN 2022-11-30 08:49:50+00:00   \n",
       "3304                     Eye disorders      NaN 2017-06-11 18:14:48+00:00   \n",
       "3484                     Eye disorders      NaN 2017-08-30 12:00:00+00:00   \n",
       "3526                     Eye disorders      NaN 2017-08-31 13:26:51+00:00   \n",
       "3607                     Eye disorders      NaN 2018-05-25 09:59:48+00:00   \n",
       "\n",
       "                                         g2p_record_url gene_nodenorm_id  \\\n",
       "2052  https://www.ebi.ac.uk/gene2phenotype/lgd/G2P02555    NCBIGene:4091   \n",
       "2061  https://www.ebi.ac.uk/gene2phenotype/lgd/G2P02564    NCBIGene:4796   \n",
       "2846  https://www.ebi.ac.uk/gene2phenotype/lgd/G2P01819    NCBIGene:5979   \n",
       "2967  https://www.ebi.ac.uk/gene2phenotype/lgd/G2P02669    NCBIGene:3643   \n",
       "3197  https://www.ebi.ac.uk/gene2phenotype/lgd/G2P03354   NCBIGene:10483   \n",
       "3304  https://www.ebi.ac.uk/gene2phenotype/lgd/G2P02001   NCBIGene:55213   \n",
       "3484  https://www.ebi.ac.uk/gene2phenotype/lgd/G2P02222    NCBIGene:5980   \n",
       "3526  https://www.ebi.ac.uk/gene2phenotype/lgd/G2P02286   NCBIGene:26022   \n",
       "3607  https://www.ebi.ac.uk/gene2phenotype/lgd/G2P02426   NCBIGene:55714   \n",
       "\n",
       "     gene_nodenorm_label  \n",
       "2052               SMAD6  \n",
       "2061               TONSL  \n",
       "2846                 RET  \n",
       "2967                INSR  \n",
       "3197              SEC23B  \n",
       "3304              RCBTB1  \n",
       "3484               REV3L  \n",
       "3526              TMEM98  \n",
       "3607               TENM3  "
      ]
     },
     "execution_count": 31,
     "metadata": {},
     "output_type": "execute_result"
    }
   ],
   "source": [
    "df[df[\"disease_mim\"].str.contains(\"orphanet\", na=False)]"
   ]
  },
  {
   "cell_type": "code",
   "execution_count": 32,
   "id": "90389c39",
   "metadata": {
    "ExecuteTime": {
     "end_time": "2025-03-31T20:32:26.687498Z",
     "start_time": "2025-03-31T20:32:26.683514Z"
    }
   },
   "outputs": [
    {
     "data": {
      "text/plain": [
       "{'primary_id': 'MONDO:0015277',\n",
       " 'primary_label': 'medullary thyroid gland carcinoma'}"
      ]
     },
     "execution_count": 32,
     "metadata": {},
     "output_type": "execute_result"
    }
   ],
   "source": [
    "disease_nodenorm_mapping[\"orphanet:1332\"]"
   ]
  },
  {
   "cell_type": "code",
   "execution_count": 35,
   "id": "485b248a",
   "metadata": {
    "ExecuteTime": {
     "end_time": "2025-03-31T20:33:37.135315Z",
     "start_time": "2025-03-31T20:33:37.132576Z"
    }
   },
   "outputs": [],
   "source": [
    "## put into parser (format): DONE\n",
    "\n",
    "## using this kind of logic to create columns for function\n",
    "\n",
    "# [disease_nodenorm_mapping[i][\"primary_label\"] if disease_nodenorm_mapping.get(i) \n",
    "#  else pd.NA for i in df[\"disease_mim\"]]"
   ]
  },
  {
   "cell_type": "markdown",
   "id": "2c574ac3",
   "metadata": {},
   "source": [
    "#### MONDO"
   ]
  },
  {
   "cell_type": "code",
   "execution_count": null,
   "id": "bb03b486",
   "metadata": {
    "ExecuteTime": {
     "end_time": "2025-03-29T08:28:54.341097Z",
     "start_time": "2025-03-29T08:28:54.335833Z"
    }
   },
   "outputs": [],
   "source": [
    "## put into parser (format): \n",
    "\n",
    "disease_mondo_curies = df[\"disease_MONDO\"].dropna().unique()\n",
    "len(disease_mondo_curies)"
   ]
  },
  {
   "cell_type": "code",
   "execution_count": null,
   "id": "c2753029",
   "metadata": {
    "ExecuteTime": {
     "end_time": "2025-03-29T08:29:25.323518Z",
     "start_time": "2025-03-29T08:29:23.716222Z"
    }
   },
   "outputs": [],
   "source": [
    "## put into parser (format): \n",
    "\n",
    "## larger batches are quicker\n",
    "for batch in batched(disease_mondo_curies, 1000):\n",
    "    ## returns tuples\n",
    "    req_body = {\n",
    "        \"curies\": list(batch),\n",
    "        \"conflate\": True,\n",
    "    }\n",
    "    r = requests.post(nodenorm_url, json=req_body)\n",
    "    response = r.json()\n",
    "    \n",
    "    ## not doing dict comprehension. allows easier review, logic writing\n",
    "    for k,v in response.items():\n",
    "        try:\n",
    "            ## if NodeNorm did not resolve ID, v will be None\n",
    "            if v is not None:\n",
    "                ## some IDs aren't Diseases o_0, throw them out\n",
    "                ## also throw out mapping if no primary label found\n",
    "                if v[\"type\"][0] == \"biolink:Disease\":\n",
    "                    if v[\"id\"].get(\"label\"):\n",
    "                        temp = {\n",
    "                            k: {\"primary_id\": v[\"id\"][\"identifier\"],\n",
    "                                \"primary_label\": v[\"id\"][\"label\"]\n",
    "                               }\n",
    "                        }\n",
    "                        disease_nodenorm_mapping.update(temp)\n",
    "                    else:\n",
    "                        print(f\"{k}: NodeNorm didn't find primary label\")\n",
    "                else:\n",
    "                    print(f'{k}: NodeNorm category is {v[\"type\"][0]}')\n",
    "            else:\n",
    "                print(f\"{k}: NodeNorm didn't resolve\")\n",
    "        except:\n",
    "            print(k)\n",
    "            pprint(v)\n",
    "## old code: dict comprehension\n",
    "#         temp = {\n",
    "#             k: {\"primary_id\": v[\"id\"][\"identifier\"],\n",
    "#                 \"primary_label\": v[\"id\"][\"label\"]} \n",
    "#             for k,v in response.items()\n",
    "#             if v is not None if v[\"type\"][0] == \"biolink:Disease\"\n",
    "#         }\n",
    "#         disease_nodenorm_mapping.update(temp)\n",
    "#     except:\n",
    "#         print(k)\n",
    "#         pprint(v)"
   ]
  },
  {
   "cell_type": "code",
   "execution_count": null,
   "id": "676e6bbe",
   "metadata": {
    "ExecuteTime": {
     "end_time": "2025-03-29T08:29:27.393231Z",
     "start_time": "2025-03-29T08:29:27.389163Z"
    }
   },
   "outputs": [],
   "source": [
    "len(disease_nodenorm_mapping)"
   ]
  },
  {
   "cell_type": "markdown",
   "id": "c0678125",
   "metadata": {},
   "source": [
    "#### Comparing the two"
   ]
  },
  {
   "cell_type": "code",
   "execution_count": null,
   "id": "320f9c3f",
   "metadata": {
    "ExecuteTime": {
     "end_time": "2025-03-29T08:29:31.586341Z",
     "start_time": "2025-03-29T08:29:31.575774Z"
    }
   },
   "outputs": [],
   "source": [
    "## look for differences in primary ID found if row has both IDs\n",
    "\n",
    "for row in df[[\"disease_mim\", \"disease_MONDO\"]].itertuples(index=False):\n",
    "    if pd.notna(row.disease_mim) and pd.notna(row.disease_MONDO):\n",
    "        if disease_nodenorm_mapping.get(row.disease_mim):\n",
    "            if disease_nodenorm_mapping[row.disease_mim][\"primary_id\"] != \\\n",
    "            disease_nodenorm_mapping[row.disease_MONDO][\"primary_id\"]:\n",
    "                print(row)\n",
    "\n",
    "## so...there's some mismatches"
   ]
  },
  {
   "cell_type": "code",
   "execution_count": null,
   "id": "1084425f",
   "metadata": {
    "ExecuteTime": {
     "end_time": "2025-03-31T19:33:27.758095Z",
     "start_time": "2025-03-31T19:33:27.720100Z"
    },
    "scrolled": false
   },
   "outputs": [],
   "source": [
    "df[df[\"disease_mim\"] == \"OMIM:610019\"]\n",
    "df[df[\"disease_MONDO\"] == \"MONDO:0005129\"]"
   ]
  },
  {
   "cell_type": "code",
   "execution_count": null,
   "id": "f5bdb116",
   "metadata": {
    "ExecuteTime": {
     "end_time": "2025-03-31T19:33:53.581182Z",
     "start_time": "2025-03-31T19:33:53.574679Z"
    }
   },
   "outputs": [],
   "source": [
    "disease_nodenorm_mapping[\"OMIM:610019\"]\n",
    "# disease_nodenorm_mapping[\"OMIM:614583\"]\n",
    "disease_nodenorm_mapping[\"MONDO:0005129\"]"
   ]
  },
  {
   "cell_type": "markdown",
   "id": "fe09c85e",
   "metadata": {
    "heading_collapsed": true
   },
   "source": []
  },
  {
   "cell_type": "markdown",
   "id": "81b80165",
   "metadata": {},
   "source": [
    "#### Summary so far"
   ]
  },
  {
   "cell_type": "markdown",
   "id": "ae1a3072",
   "metadata": {},
   "source": [
    "If both IDs exist, using omim is better. \n",
    "\n",
    "However, I'm now a little concerned about their disease name -> ID mapping process. \n",
    "\n",
    "Larger picture: 2392 OMIM disease IDs (2401 - 9 orphanet) and only a little of that got flagged in my code (68 + 22 = 90. < 90/2392, aka <3.8%) \n",
    "\n",
    "But the errors that have happened are kinda concerning: \n",
    "* if the row has 2 disease IDs, 1 of them can be just plain incorrect\n",
    "* problems from the 68 flagged/not-mapped OMIM IDs above (and I didn't review all of them so there may be more issues):\n",
    "  * 25 OMIM IDs were actually genes\n",
    "  * a few OMIM IDs were confusing (OMIM:601884 maybe a disease, OMIM:300129 doesn't seem to be a disease)\n",
    "  * some IDs don't exist\n",
    "  * some IDs are outdated -> replaced/moved to diff IDs"
   ]
  },
  {
   "cell_type": "markdown",
   "id": "83261cf3",
   "metadata": {},
   "source": [
    "Current plan:\n",
    "* use disease OMIM IDs\n",
    "* use logic in omim section for printing issues with mapping, only saving some mappings\n",
    "* only create nodenorm mapping if it existed. Saving input ID that was used for mapping.\n"
   ]
  },
  {
   "cell_type": "code",
   "execution_count": null,
   "id": "1305644c",
   "metadata": {},
   "outputs": [],
   "source": []
  },
  {
   "cell_type": "code",
   "execution_count": null,
   "id": "42cfb69b",
   "metadata": {
    "ExecuteTime": {
     "end_time": "2025-03-29T06:19:08.679605Z",
     "start_time": "2025-03-29T06:19:08.670116Z"
    }
   },
   "outputs": [],
   "source": [
    "## look for differences in name between NodeNormed and original data\n",
    "\n",
    "for row in df[[\"gene_symbol\", \"hgnc_id\"]].itertuples(index=False):\n",
    "    if row.gene_symbol != gene_nodenorm_mapping[row.hgnc_id][\"primary_label\"]:\n",
    "        print(f\"G2P name {row.gene_symbol}, ID {row.hgnc_id}\")\n",
    "        print(f'NodeNorm name {gene_nodenorm_mapping[row.hgnc_id][\"primary_label\"]}, ID {gene_nodenorm_mapping[row.hgnc_id][\"primary_id\"]}')\n",
    "        print(\"\\n\")\n",
    "        \n",
    "## mismatched names\n",
    "## NodeNorm is correct for CENPJ -> CPAP and CCDC103 -> DNAAF19\n",
    "## something is odd for the others (mitochondrial genes). Slack message for NodeNorm"
   ]
  },
  {
   "cell_type": "markdown",
   "id": "196a9248",
   "metadata": {},
   "source": [
    "### older code chunks"
   ]
  },
  {
   "cell_type": "markdown",
   "id": "edc8608d",
   "metadata": {},
   "source": [
    "#### Method 1 (row-wise, will send duplicates)"
   ]
  },
  {
   "cell_type": "code",
   "execution_count": null,
   "id": "e432ace7",
   "metadata": {
    "ExecuteTime": {
     "end_time": "2025-03-27T00:49:35.370164Z",
     "start_time": "2025-03-27T00:48:40.612727Z"
    }
   },
   "outputs": [],
   "source": [
    "node_normed_gene_id = []\n",
    "node_normed_gene_name = []\n",
    "tally = 0\n",
    "\n",
    "for row in df.itertuples(index=False):\n",
    "    ## collect non-NA gene IDs for a row\n",
    "    gene_curies = [i for i in [row.gene_mim, row.hgnc_id] if pd.notna(i)]\n",
    "    \n",
    "    ## gene_curies aren't empty\n",
    "    if gene_curies:\n",
    "        req_body = {\n",
    "            \"curies\": gene_curies,\n",
    "            \"conflate\": True\n",
    "        }\n",
    "        \n",
    "        r = requests.post(nodenorm_url, json=req_body)\n",
    "        response = r.json()\n",
    "        \n",
    "        if len(gene_curies) == 2:\n",
    "            if response[gene_curies[0]][\"id\"][\"identifier\"] != \\\n",
    "            response[gene_curies[1]][\"id\"][\"identifier\"]:\n",
    "                print(gene_curies)\n",
    "            ## take HGNC ID always\n",
    "            node_normed_gene_id.append(response[gene_curies[1]][\"id\"][\"identifier\"])\n",
    "            node_normed_gene_name.append(response[gene_curies[1]][\"id\"][\"label\"])\n",
    "        else:\n",
    "            ## HGNC ID should be first\n",
    "            node_normed_gene_id.append(response[gene_curies[0]][\"id\"][\"identifier\"])\n",
    "            node_normed_gene_name.append(response[gene_curies[0]][\"id\"][\"label\"])\n",
    "    \n",
    "    tally += 1\n",
    "    if tally % 10 == 0:\n",
    "        print(tally)"
   ]
  },
  {
   "cell_type": "code",
   "execution_count": null,
   "id": "d8766bda",
   "metadata": {
    "ExecuteTime": {
     "end_time": "2025-03-26T23:37:11.074772Z",
     "start_time": "2025-03-26T23:37:11.070838Z"
    }
   },
   "outputs": [],
   "source": [
    "## collect non-NA gene IDs for a row\n",
    "\n",
    "row_gene_curies = [i for i in [df.loc[0, \"gene_mim\"], df.loc[0, \"hgnc_id\"]] if pd.notna(i)]"
   ]
  },
  {
   "cell_type": "code",
   "execution_count": null,
   "id": "b7172e3b",
   "metadata": {
    "ExecuteTime": {
     "end_time": "2025-03-26T23:37:13.638175Z",
     "start_time": "2025-03-26T23:37:13.633575Z"
    }
   },
   "outputs": [],
   "source": [
    "row_gene_curies"
   ]
  },
  {
   "cell_type": "code",
   "execution_count": null,
   "id": "48ed8cd0",
   "metadata": {
    "ExecuteTime": {
     "end_time": "2025-03-26T23:37:18.566871Z",
     "start_time": "2025-03-26T23:37:18.183624Z"
    }
   },
   "outputs": [],
   "source": [
    "## aka not empty\n",
    "if row_curies:\n",
    "    parameters = {\n",
    "        ## use gene curies from 1 row\n",
    "        \"curie\": row_gene_curies,\n",
    "        \"conflate\": True\n",
    "    }\n",
    "    r = requests.get(nodenorm_url, params=parameters)\n",
    "    response = r.json()"
   ]
  },
  {
   "cell_type": "code",
   "execution_count": null,
   "id": "530c164f",
   "metadata": {
    "ExecuteTime": {
     "end_time": "2025-03-26T23:37:20.405527Z",
     "start_time": "2025-03-26T23:37:20.401366Z"
    }
   },
   "outputs": [],
   "source": [
    "response.keys()"
   ]
  },
  {
   "cell_type": "code",
   "execution_count": null,
   "id": "4776185a",
   "metadata": {
    "ExecuteTime": {
     "end_time": "2025-03-26T23:39:44.432768Z",
     "start_time": "2025-03-26T23:39:44.428595Z"
    }
   },
   "outputs": [],
   "source": [
    "if response[row_gene_curies[0]][\"id\"][\"identifier\"] != \\\n",
    "   response[row_gene_curies[1]][\"id\"][\"identifier\"]:\n",
    "    print(row_gene_curies)"
   ]
  },
  {
   "cell_type": "code",
   "execution_count": null,
   "id": "31fa028d",
   "metadata": {
    "ExecuteTime": {
     "end_time": "2025-03-26T23:36:04.899806Z",
     "start_time": "2025-03-26T23:36:04.893778Z"
    }
   },
   "outputs": [],
   "source": [
    "## NodeNormed primary/canonical ID and name\n",
    "response[\"OMIM:176261\"][\"id\"]\n",
    "response[\"HGNC:6240\"][\"id\"]"
   ]
  },
  {
   "cell_type": "code",
   "execution_count": null,
   "id": "22a62681",
   "metadata": {
    "ExecuteTime": {
     "end_time": "2025-03-26T23:24:45.265407Z",
     "start_time": "2025-03-26T23:24:45.261744Z"
    }
   },
   "outputs": [],
   "source": [
    "if response[row_omim]:\n",
    "    print(\"yay\")"
   ]
  },
  {
   "cell_type": "code",
   "execution_count": null,
   "id": "6bc6d721",
   "metadata": {
    "ExecuteTime": {
     "end_time": "2025-03-26T23:14:22.652944Z",
     "start_time": "2025-03-26T23:14:22.641814Z"
    }
   },
   "outputs": [],
   "source": [
    "## doesn't include NA by default\n",
    "df[\"gene_symbol\"].nunique()\n",
    "df[\"gene_mim\"].nunique()\n",
    "df[\"hgnc_id\"].nunique()\n",
    "\n",
    "## ...so some repetitiveness to doing things row-wise. "
   ]
  },
  {
   "cell_type": "markdown",
   "id": "4b301029",
   "metadata": {},
   "source": [
    "Figuring out logic: what's the best way to query NodeNorm -> get responses and handle?\n",
    "\n",
    "Doing 1-by-1 is too slow. \n",
    "\n",
    "\n",
    "\n",
    "\n",
    "\n",
    "Will be sending duplicate queries in both cases\n",
    "\n",
    "idea: do row-wise. This is the way the parser works anyways, especially for large datasets\n",
    "- for genes: could use only hgnc (all rows have this). But want to check if there's any discrepancies with omim ID first. \n",
    "\n",
    "\n",
    "\n",
    "other idea: try to send an entire column/array at a time\n",
    "this is small enough that I can probably send the entire column/array at a time\n",
    "but still...\n",
    "\n",
    "\n",
    "\n"
   ]
  }
 ],
 "metadata": {
  "kernelspec": {
   "display_name": "Python 3 (ipykernel)",
   "language": "python",
   "name": "python3"
  },
  "language_info": {
   "codemirror_mode": {
    "name": "ipython",
    "version": 3
   },
   "file_extension": ".py",
   "mimetype": "text/x-python",
   "name": "python",
   "nbconvert_exporter": "python",
   "pygments_lexer": "ipython3",
   "version": "3.11.4"
  },
  "toc": {
   "base_numbering": 1,
   "nav_menu": {},
   "number_sections": false,
   "sideBar": true,
   "skip_h1_title": true,
   "title_cell": "Table of Contents",
   "title_sidebar": "Contents",
   "toc_cell": false,
   "toc_position": {
    "height": "calc(100% - 180px)",
    "left": "10px",
    "top": "150px",
    "width": "258.15px"
   },
   "toc_section_display": true,
   "toc_window_display": false
  }
 },
 "nbformat": 4,
 "nbformat_minor": 5
}
