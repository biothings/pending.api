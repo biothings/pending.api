{
 "cells": [
  {
   "cell_type": "markdown",
   "id": "f18ee197",
   "metadata": {},
   "source": [
    "# Notebook for parser development"
   ]
  },
  {
   "cell_type": "markdown",
   "id": "310431e7",
   "metadata": {
    "toc": true
   },
   "source": [
    "<h1>Table of Contents<span class=\"tocSkip\"></span></h1>\n",
    "<div class=\"toc\"><ul class=\"toc-item\"><li><span><a href=\"#Loading-data\" data-toc-modified-id=\"Loading-data-1\">Loading data</a></span></li><li><span><a href=\"#Check,-remove-duplicates\" data-toc-modified-id=\"Check,-remove-duplicates-2\">Check, remove duplicates</a></span></li><li><span><a href=\"#Column-level-transforms\" data-toc-modified-id=\"Column-level-transforms-3\">Column-level transforms</a></span></li><li><span><a href=\"#Pre-NodeNorming\" data-toc-modified-id=\"Pre-NodeNorming-4\">Pre-NodeNorming</a></span><ul class=\"toc-item\"><li><span><a href=\"#Exploring:-Genes\" data-toc-modified-id=\"Exploring:-Genes-4.1\">Exploring: Genes</a></span><ul class=\"toc-item\"><li><span><a href=\"#HGNC\" data-toc-modified-id=\"HGNC-4.1.1\">HGNC</a></span></li><li><span><a href=\"#OMIM\" data-toc-modified-id=\"OMIM-4.1.2\">OMIM</a></span></li><li><span><a href=\"#Comparing-HGNC-vs-OMIM\" data-toc-modified-id=\"Comparing-HGNC-vs-OMIM-4.1.3\">Comparing HGNC vs OMIM</a></span></li><li><span><a href=\"#Conclusions\" data-toc-modified-id=\"Conclusions-4.1.4\">Conclusions</a></span></li></ul></li><li><span><a href=\"#Exploring:-Diseases\" data-toc-modified-id=\"Exploring:-Diseases-4.2\">Exploring: Diseases</a></span><ul class=\"toc-item\"><li><span><a href=\"#OMIM/orphanet\" data-toc-modified-id=\"OMIM/orphanet-4.2.1\">OMIM/orphanet</a></span></li><li><span><a href=\"#MONDO\" data-toc-modified-id=\"MONDO-4.2.2\">MONDO</a></span></li><li><span><a href=\"#Comparing-OMIM/orphanet-vs-MONDO\" data-toc-modified-id=\"Comparing-OMIM/orphanet-vs-MONDO-4.2.3\">Comparing OMIM/orphanet vs MONDO</a></span></li><li><span><a href=\"#Checking-MONDO-data\" data-toc-modified-id=\"Checking-MONDO-data-4.2.4\">Checking MONDO data</a></span></li><li><span><a href=\"#Conclusions\" data-toc-modified-id=\"Conclusions-4.2.5\">Conclusions</a></span></li></ul></li></ul></li><li><span><a href=\"#Stats-on-rows-removed-during-NodeNorming\" data-toc-modified-id=\"Stats-on-rows-removed-during-NodeNorming-5\">Stats on rows removed during NodeNorming</a></span></li><li><span><a href=\"#Adding-NodeNorm-data,-removing-rows\" data-toc-modified-id=\"Adding-NodeNorm-data,-removing-rows-6\">Adding NodeNorm data, removing rows</a></span></li><li><span><a href=\"#Confidence-values\" data-toc-modified-id=\"Confidence-values-7\">Confidence values</a></span><ul class=\"toc-item\"><li><span><a href=\"#Removing-rows-+-stats\" data-toc-modified-id=\"Removing-rows-+-stats-7.1\">Removing rows + stats</a></span></li></ul></li><li><span><a href=\"#Generating-documents\" data-toc-modified-id=\"Generating-documents-8\">Generating documents</a></span></li><li><span><a href=\"#Checking-documents\" data-toc-modified-id=\"Checking-documents-9\">Checking documents</a></span></li><li><span><a href=\"#Parser-notes\" data-toc-modified-id=\"Parser-notes-10\">Parser notes</a></span></li></ul></div>"
   ]
  },
  {
   "cell_type": "code",
   "execution_count": 1,
   "id": "3573099c",
   "metadata": {
    "ExecuteTime": {
     "end_time": "2025-04-15T23:39:57.563043Z",
     "start_time": "2025-04-15T23:39:57.516661Z"
    }
   },
   "outputs": [],
   "source": [
    "## not for parser. for notebook only \n",
    "\n",
    "## CX: allows multiple lines of code to print from one code block\n",
    "from IPython.core.interactiveshell import InteractiveShell\n",
    "InteractiveShell.ast_node_interactivity = \"all\""
   ]
  },
  {
   "cell_type": "markdown",
   "id": "aa862467",
   "metadata": {},
   "source": [
    "## Loading data"
   ]
  },
  {
   "cell_type": "markdown",
   "id": "96f2ef49",
   "metadata": {},
   "source": [
    "__Current approach__ is to load all files into 1 pandas dataframe. Then I can...\n",
    "\n",
    "1. check the duplicates situation: records found in multiple panel files. I can check whether the same record looks different between files or not (by checking duplicates using all columns vs key columns). -> Raise errors if yes\n",
    "2. remove duplicates before generating documents\n",
    "3. Do some tasks column-wise over all the data, rather than while iterating over rows\n",
    "\n",
    "Notes:\n",
    "* There are a few existing BioThings parsers that also use `pandas` to load the entire raw data file at once: https://github.com/search?q=repo%3Abiothings%2Fpending.api%20pandas&type=code\n",
    "* But there are other parsers that use `csv` to load the file **one row at a time** (generator): https://github.com/search?q=repo%3Abiothings%2Fpending.api+csv+reader&type=code\n",
    "\n",
    "---\n",
    "\n",
    "If I did the generator approach (load files 1 by 1, 1 row at a time), I'd have to modify how I do things:\n",
    "1. Don't do the duplicates check. But try to mitigate potential \"duplicate\" issues: \n",
    "   - Sort all delimited strings\n",
    "   - Use a hash of all column values (when they're all strings) for `_id`. Want rows with all the same values to produce the same hash\n",
    "2. Either leave to BioThings toolset to remove duplicates, or could save a running set of `_id` hashes to check if row was already encountered -> not create duplicate docs\n",
    "3. Do the tasks on single rows/chunks (pandas [read_csv](https://pandas.pydata.org/docs/reference/api/pandas.read_csv.html#pandas.read_csv) has an iterator for rows/chunks! see iterator/chunksize parameters)"
   ]
  },
  {
   "cell_type": "code",
   "execution_count": 2,
   "id": "8325a51e",
   "metadata": {
    "ExecuteTime": {
     "end_time": "2025-04-15T23:39:58.255276Z",
     "start_time": "2025-04-15T23:39:57.566378Z"
    }
   },
   "outputs": [],
   "source": [
    "## put into parser: DONE\n",
    "import pathlib\n",
    "import pandas as pd\n",
    "\n",
    "## don't put in parser. Just for this notebook\n",
    "import glob\n",
    "from pprint import pprint\n",
    "\n",
    "## unsure on putting into parser: more for notebook viewing/debugging...\n",
    "pd.options.display.max_columns = None"
   ]
  },
  {
   "cell_type": "markdown",
   "id": "e23c358f",
   "metadata": {},
   "source": [
    "<div class=\"alert alert-block alert-danger\">\n",
    "\n",
    "Adjust the code block below for path/pattern for data files. \n",
    "    \n",
    "This notebook was originally written using data files from the 2025-02-28 release to FTP site "
   ]
  },
  {
   "cell_type": "code",
   "execution_count": 3,
   "id": "63f0a6ac",
   "metadata": {
    "ExecuteTime": {
     "end_time": "2025-04-15T23:39:58.265893Z",
     "start_time": "2025-04-15T23:39:58.258070Z"
    }
   },
   "outputs": [
    {
     "data": {
      "text/plain": [
       "[PosixPath('/Users/colleenxu/Desktop/EBIgene2pheno_files/From_FTP/2025-03-28/DDG2P_2025-03-28.csv.gz'),\n",
       " PosixPath('/Users/colleenxu/Desktop/EBIgene2pheno_files/From_FTP/2025-03-28/HearingLossG2P_2025-03-28.csv.gz'),\n",
       " PosixPath('/Users/colleenxu/Desktop/EBIgene2pheno_files/From_FTP/2025-03-28/SkinG2P_2025-03-28.csv.gz'),\n",
       " PosixPath('/Users/colleenxu/Desktop/EBIgene2pheno_files/From_FTP/2025-03-28/CancerG2P_2025-03-28.csv.gz'),\n",
       " PosixPath('/Users/colleenxu/Desktop/EBIgene2pheno_files/From_FTP/2025-03-28/CardiacG2P_2025-03-28.csv.gz'),\n",
       " PosixPath('/Users/colleenxu/Desktop/EBIgene2pheno_files/From_FTP/2025-03-28/SkeletalG2P_2025-03-28.csv.gz'),\n",
       " PosixPath('/Users/colleenxu/Desktop/EBIgene2pheno_files/From_FTP/2025-03-28/EyeG2P_2025-03-28.csv.gz')]"
      ]
     },
     "execution_count": 3,
     "metadata": {},
     "output_type": "execute_result"
    }
   ],
   "source": [
    "## put into parser (format): DONE\n",
    "\n",
    "base_file_path = pathlib.Path.home().joinpath(\"Desktop\", \"EBIgene2pheno_files\", \n",
    "                                              \"From_FTP\", \"2025-03-28\")\n",
    "\n",
    "## uses pathlib's Path.glob, which produces a generator. \n",
    "## cast into list so parser code can check if paths were actually matched or not\n",
    "all_file_paths = list(base_file_path.glob(\"*.csv.gz\"))\n",
    "all_file_paths"
   ]
  },
  {
   "cell_type": "code",
   "execution_count": 4,
   "id": "0b010c8a",
   "metadata": {
    "ExecuteTime": {
     "end_time": "2025-04-15T23:39:58.275279Z",
     "start_time": "2025-04-15T23:39:58.269326Z"
    }
   },
   "outputs": [
    {
     "data": {
      "text/plain": [
       "<generator object Path.glob at 0x1131e3010>"
      ]
     },
     "execution_count": 4,
     "metadata": {},
     "output_type": "execute_result"
    },
    {
     "data": {
      "text/plain": [
       "[]"
      ]
     },
     "execution_count": 4,
     "metadata": {},
     "output_type": "execute_result"
    }
   ],
   "source": [
    "## an example: pathlib's Path.glob produces a generator\n",
    "## vs glob.glob produces an array (from cwd only?)\n",
    "base_file_path.glob(\"*2025-02-28.csv.gz\")\n",
    "glob.glob(\"*2025-02-28.csv.gz\")"
   ]
  },
  {
   "cell_type": "code",
   "execution_count": 5,
   "id": "dd0fc904",
   "metadata": {
    "ExecuteTime": {
     "end_time": "2025-04-15T23:39:58.387474Z",
     "start_time": "2025-04-15T23:39:58.277702Z"
    },
    "scrolled": true
   },
   "outputs": [],
   "source": [
    "## put into parser (format): DONE\n",
    "\n",
    "## using generator expression (think list/dict comprehension) within pd.concat to load files 1 at a time\n",
    "## ingesting all columns as str for now\n",
    "df = pd.concat((pd.read_csv(f, dtype=str) for f in all_file_paths), ignore_index=True)\n",
    "\n",
    "## make column names snake-case - usable with itertuples later\n",
    "df.columns = df.columns.str.replace(\" \", \"_\")"
   ]
  },
  {
   "cell_type": "code",
   "execution_count": 6,
   "id": "141a10e4",
   "metadata": {
    "ExecuteTime": {
     "end_time": "2025-04-15T23:39:58.397430Z",
     "start_time": "2025-04-15T23:39:58.389666Z"
    }
   },
   "outputs": [
    {
     "name": "stdout",
     "output_type": "stream",
     "text": [
      "<class 'pandas.core.series.Series'>\n",
      "RangeIndex: 4726 entries, 0 to 4725\n",
      "Series name: date_of_last_review\n",
      "Non-Null Count  Dtype \n",
      "--------------  ----- \n",
      "4726 non-null   object\n",
      "dtypes: object(1)\n",
      "memory usage: 341.7 KB\n"
     ]
    }
   ],
   "source": [
    "df[\"date_of_last_review\"].info(memory_usage=\"deep\")"
   ]
  },
  {
   "cell_type": "code",
   "execution_count": 7,
   "id": "73f6a6fb",
   "metadata": {
    "ExecuteTime": {
     "end_time": "2025-04-15T23:39:58.413029Z",
     "start_time": "2025-04-15T23:39:58.399528Z"
    }
   },
   "outputs": [
    {
     "name": "stdout",
     "output_type": "stream",
     "text": [
      "<class 'pandas.core.series.Series'>\n",
      "RangeIndex: 4726 entries, 0 to 4725\n",
      "Series name: date_of_last_review\n",
      "Non-Null Count  Dtype              \n",
      "--------------  -----              \n",
      "4726 non-null   datetime64[ns, UTC]\n",
      "dtypes: datetime64[ns, UTC](1)\n",
      "memory usage: 37.1 KB\n"
     ]
    }
   ],
   "source": [
    "## change this column to datetime, saves memory\n",
    "df[\"date_of_last_review\"] = pd.to_datetime(df[\"date_of_last_review\"])\n",
    "df[\"date_of_last_review\"].info(memory_usage=\"deep\")"
   ]
  },
  {
   "cell_type": "code",
   "execution_count": 8,
   "id": "13360ed5",
   "metadata": {
    "ExecuteTime": {
     "end_time": "2025-04-15T23:39:58.418210Z",
     "start_time": "2025-04-15T23:39:58.415542Z"
    }
   },
   "outputs": [],
   "source": [
    "## I couldn't figure out how to import + ingest column as datetime in 1 step \n",
    "## this is what I tried that didn't work\n",
    "\n",
    "## worked with pandas 2.0.3, but didn't work with pandas 2.2.3: ingested as str\n",
    "# df = pd.concat((pd.read_csv(f, dtype=str, parse_dates=[\"date of last review\"]) \n",
    "#                 for f in all_file_paths), ignore_index=True)\n",
    "\n",
    "## doesn't work\n",
    "# df = pd.concat((pd.read_csv(f, dtype=str, parse_dates=[\"date of last review\"], \n",
    "#                            date_format=\"%Y-%m-%d %H:%M:%S%:z\") \n",
    "#                 for f in all_file_paths), ignore_index=True)\n",
    "## throws an error\n",
    "# df = pd.concat((pd.read_csv(f, dtype=str, parse_dates=[[\"date of last review\"]], \n",
    "#                            date_format=\"%Y-%m-%d %H:%M:%S%:z\") \n",
    "#                 for f in all_file_paths), ignore_index=True)\n",
    "## throws an error\n",
    "# df = pd.concat((pd.read_csv(f, dtype={\"date of last review\": pd.datetime64[ns, tz]})\n",
    "#                 for f in all_file_paths), ignore_index=True)"
   ]
  },
  {
   "cell_type": "code",
   "execution_count": 9,
   "id": "f6e957f0",
   "metadata": {
    "ExecuteTime": {
     "end_time": "2025-04-15T23:39:58.446889Z",
     "start_time": "2025-04-15T23:39:58.421424Z"
    }
   },
   "outputs": [
    {
     "data": {
      "text/plain": [
       "(4726, 21)"
      ]
     },
     "execution_count": 9,
     "metadata": {},
     "output_type": "execute_result"
    },
    {
     "data": {
      "text/html": [
       "<div>\n",
       "<style scoped>\n",
       "    .dataframe tbody tr th:only-of-type {\n",
       "        vertical-align: middle;\n",
       "    }\n",
       "\n",
       "    .dataframe tbody tr th {\n",
       "        vertical-align: top;\n",
       "    }\n",
       "\n",
       "    .dataframe thead th {\n",
       "        text-align: right;\n",
       "    }\n",
       "</style>\n",
       "<table border=\"1\" class=\"dataframe\">\n",
       "  <thead>\n",
       "    <tr style=\"text-align: right;\">\n",
       "      <th></th>\n",
       "      <th>g2p_id</th>\n",
       "      <th>gene_symbol</th>\n",
       "      <th>gene_mim</th>\n",
       "      <th>hgnc_id</th>\n",
       "      <th>previous_gene_symbols</th>\n",
       "      <th>disease_name</th>\n",
       "      <th>disease_mim</th>\n",
       "      <th>disease_MONDO</th>\n",
       "      <th>allelic_requirement</th>\n",
       "      <th>cross_cutting_modifier</th>\n",
       "      <th>confidence</th>\n",
       "      <th>variant_consequence</th>\n",
       "      <th>variant_types</th>\n",
       "      <th>molecular_mechanism</th>\n",
       "      <th>molecular_mechanism_categorisation</th>\n",
       "      <th>molecular_mechanism_evidence</th>\n",
       "      <th>phenotypes</th>\n",
       "      <th>publications</th>\n",
       "      <th>panel</th>\n",
       "      <th>comments</th>\n",
       "      <th>date_of_last_review</th>\n",
       "    </tr>\n",
       "  </thead>\n",
       "  <tbody>\n",
       "    <tr>\n",
       "      <th>0</th>\n",
       "      <td>G2P00001</td>\n",
       "      <td>HMX1</td>\n",
       "      <td>142992</td>\n",
       "      <td>5017</td>\n",
       "      <td>H6; NKX5-3</td>\n",
       "      <td>HMX1-related oculoauricular syndrome</td>\n",
       "      <td>612109</td>\n",
       "      <td>NaN</td>\n",
       "      <td>biallelic_autosomal</td>\n",
       "      <td>NaN</td>\n",
       "      <td>definitive</td>\n",
       "      <td>absent gene product</td>\n",
       "      <td>NaN</td>\n",
       "      <td>loss of function</td>\n",
       "      <td>inferred</td>\n",
       "      <td>NaN</td>\n",
       "      <td>HP:0000568; HP:0000589; HP:0000007; HP:0000482...</td>\n",
       "      <td>18423520; 25574057; 29140751</td>\n",
       "      <td>DD; Eye</td>\n",
       "      <td>NaN</td>\n",
       "      <td>2019-09-26 16:23:46+00:00</td>\n",
       "    </tr>\n",
       "    <tr>\n",
       "      <th>1</th>\n",
       "      <td>G2P00002</td>\n",
       "      <td>SLX4</td>\n",
       "      <td>613278</td>\n",
       "      <td>23845</td>\n",
       "      <td>BTBD12; FANCP; KIAA1784; KIAA1987</td>\n",
       "      <td>SLX4-related Fanconi anemia</td>\n",
       "      <td>613951</td>\n",
       "      <td>NaN</td>\n",
       "      <td>biallelic_autosomal</td>\n",
       "      <td>NaN</td>\n",
       "      <td>definitive</td>\n",
       "      <td>absent gene product</td>\n",
       "      <td>NaN</td>\n",
       "      <td>loss of function</td>\n",
       "      <td>inferred</td>\n",
       "      <td>NaN</td>\n",
       "      <td>HP:0000347; HP:0000007; HP:0001903; HP:0002984...</td>\n",
       "      <td>21240275; 21240277</td>\n",
       "      <td>DD</td>\n",
       "      <td>NaN</td>\n",
       "      <td>2025-01-28 23:09:54+00:00</td>\n",
       "    </tr>\n",
       "    <tr>\n",
       "      <th>2</th>\n",
       "      <td>G2P00003</td>\n",
       "      <td>ARG1</td>\n",
       "      <td>608313</td>\n",
       "      <td>663</td>\n",
       "      <td>NaN</td>\n",
       "      <td>ARG1-related argininemia</td>\n",
       "      <td>207800</td>\n",
       "      <td>NaN</td>\n",
       "      <td>biallelic_autosomal</td>\n",
       "      <td>NaN</td>\n",
       "      <td>definitive</td>\n",
       "      <td>absent gene product</td>\n",
       "      <td>NaN</td>\n",
       "      <td>loss of function</td>\n",
       "      <td>inferred</td>\n",
       "      <td>NaN</td>\n",
       "      <td>HP:0000752; HP:0000737; HP:0000007; HP:0008339...</td>\n",
       "      <td>10502833; 1598908; 7649538; 1463019; 2365823</td>\n",
       "      <td>DD</td>\n",
       "      <td>NaN</td>\n",
       "      <td>2015-07-22 16:14:07+00:00</td>\n",
       "    </tr>\n",
       "    <tr>\n",
       "      <th>3</th>\n",
       "      <td>G2P00004</td>\n",
       "      <td>ATR</td>\n",
       "      <td>601215</td>\n",
       "      <td>882</td>\n",
       "      <td>FRP1; MEC1; SCKL; SCKL1</td>\n",
       "      <td>ATR-related Seckel syndrome</td>\n",
       "      <td>210600</td>\n",
       "      <td>NaN</td>\n",
       "      <td>biallelic_autosomal</td>\n",
       "      <td>NaN</td>\n",
       "      <td>strong</td>\n",
       "      <td>absent gene product</td>\n",
       "      <td>NaN</td>\n",
       "      <td>loss of function</td>\n",
       "      <td>inferred</td>\n",
       "      <td>NaN</td>\n",
       "      <td>HP:0000347; HP:0010230; HP:0001249; HP:0002750...</td>\n",
       "      <td>NaN</td>\n",
       "      <td>DD; Skeletal</td>\n",
       "      <td>NaN</td>\n",
       "      <td>2025-01-27 14:24:27+00:00</td>\n",
       "    </tr>\n",
       "    <tr>\n",
       "      <th>4</th>\n",
       "      <td>G2P00005</td>\n",
       "      <td>FANCB</td>\n",
       "      <td>300515</td>\n",
       "      <td>3583</td>\n",
       "      <td>FAAP95; FAB; FLJ34064</td>\n",
       "      <td>FANCB-related Fanconi anemia</td>\n",
       "      <td>300514</td>\n",
       "      <td>NaN</td>\n",
       "      <td>monoallelic_X_hemizygous</td>\n",
       "      <td>NaN</td>\n",
       "      <td>definitive</td>\n",
       "      <td>absent gene product</td>\n",
       "      <td>NaN</td>\n",
       "      <td>loss of function</td>\n",
       "      <td>inferred</td>\n",
       "      <td>NaN</td>\n",
       "      <td>HP:0000924; HP:0001871; HP:0001701; HP:0000083...</td>\n",
       "      <td>16679491; 21910217; 36135330; 32106311; 307922...</td>\n",
       "      <td>DD; Skin</td>\n",
       "      <td>NaN</td>\n",
       "      <td>2024-08-20 14:13:58+00:00</td>\n",
       "    </tr>\n",
       "  </tbody>\n",
       "</table>\n",
       "</div>"
      ],
      "text/plain": [
       "     g2p_id gene_symbol gene_mim hgnc_id              previous_gene_symbols  \\\n",
       "0  G2P00001        HMX1   142992    5017                         H6; NKX5-3   \n",
       "1  G2P00002        SLX4   613278   23845  BTBD12; FANCP; KIAA1784; KIAA1987   \n",
       "2  G2P00003        ARG1   608313     663                                NaN   \n",
       "3  G2P00004         ATR   601215     882            FRP1; MEC1; SCKL; SCKL1   \n",
       "4  G2P00005       FANCB   300515    3583              FAAP95; FAB; FLJ34064   \n",
       "\n",
       "                           disease_name disease_mim disease_MONDO  \\\n",
       "0  HMX1-related oculoauricular syndrome      612109           NaN   \n",
       "1           SLX4-related Fanconi anemia      613951           NaN   \n",
       "2              ARG1-related argininemia      207800           NaN   \n",
       "3           ATR-related Seckel syndrome      210600           NaN   \n",
       "4          FANCB-related Fanconi anemia      300514           NaN   \n",
       "\n",
       "        allelic_requirement cross_cutting_modifier  confidence  \\\n",
       "0       biallelic_autosomal                    NaN  definitive   \n",
       "1       biallelic_autosomal                    NaN  definitive   \n",
       "2       biallelic_autosomal                    NaN  definitive   \n",
       "3       biallelic_autosomal                    NaN      strong   \n",
       "4  monoallelic_X_hemizygous                    NaN  definitive   \n",
       "\n",
       "   variant_consequence variant_types molecular_mechanism  \\\n",
       "0  absent gene product           NaN    loss of function   \n",
       "1  absent gene product           NaN    loss of function   \n",
       "2  absent gene product           NaN    loss of function   \n",
       "3  absent gene product           NaN    loss of function   \n",
       "4  absent gene product           NaN    loss of function   \n",
       "\n",
       "  molecular_mechanism_categorisation molecular_mechanism_evidence  \\\n",
       "0                           inferred                          NaN   \n",
       "1                           inferred                          NaN   \n",
       "2                           inferred                          NaN   \n",
       "3                           inferred                          NaN   \n",
       "4                           inferred                          NaN   \n",
       "\n",
       "                                          phenotypes  \\\n",
       "0  HP:0000568; HP:0000589; HP:0000007; HP:0000482...   \n",
       "1  HP:0000347; HP:0000007; HP:0001903; HP:0002984...   \n",
       "2  HP:0000752; HP:0000737; HP:0000007; HP:0008339...   \n",
       "3  HP:0000347; HP:0010230; HP:0001249; HP:0002750...   \n",
       "4  HP:0000924; HP:0001871; HP:0001701; HP:0000083...   \n",
       "\n",
       "                                        publications         panel comments  \\\n",
       "0                       18423520; 25574057; 29140751       DD; Eye      NaN   \n",
       "1                                 21240275; 21240277            DD      NaN   \n",
       "2       10502833; 1598908; 7649538; 1463019; 2365823            DD      NaN   \n",
       "3                                                NaN  DD; Skeletal      NaN   \n",
       "4  16679491; 21910217; 36135330; 32106311; 307922...      DD; Skin      NaN   \n",
       "\n",
       "        date_of_last_review  \n",
       "0 2019-09-26 16:23:46+00:00  \n",
       "1 2025-01-28 23:09:54+00:00  \n",
       "2 2015-07-22 16:14:07+00:00  \n",
       "3 2025-01-27 14:24:27+00:00  \n",
       "4 2024-08-20 14:13:58+00:00  "
      ]
     },
     "execution_count": 9,
     "metadata": {},
     "output_type": "execute_result"
    }
   ],
   "source": [
    "df.shape\n",
    "df.head()"
   ]
  },
  {
   "cell_type": "code",
   "execution_count": 10,
   "id": "51f96324",
   "metadata": {
    "ExecuteTime": {
     "end_time": "2025-04-15T23:39:58.490974Z",
     "start_time": "2025-04-15T23:39:58.452653Z"
    }
   },
   "outputs": [
    {
     "name": "stdout",
     "output_type": "stream",
     "text": [
      "<class 'pandas.core.frame.DataFrame'>\n",
      "RangeIndex: 4726 entries, 0 to 4725\n",
      "Data columns (total 21 columns):\n",
      " #   Column                              Non-Null Count  Dtype              \n",
      "---  ------                              --------------  -----              \n",
      " 0   g2p_id                              4726 non-null   object             \n",
      " 1   gene_symbol                         4726 non-null   object             \n",
      " 2   gene_mim                            4724 non-null   object             \n",
      " 3   hgnc_id                             4726 non-null   object             \n",
      " 4   previous_gene_symbols               4251 non-null   object             \n",
      " 5   disease_name                        4726 non-null   object             \n",
      " 6   disease_mim                         3576 non-null   object             \n",
      " 7   disease_MONDO                       641 non-null    object             \n",
      " 8   allelic_requirement                 4726 non-null   object             \n",
      " 9   cross_cutting_modifier              632 non-null    object             \n",
      " 10  confidence                          4726 non-null   object             \n",
      " 11  variant_consequence                 4705 non-null   object             \n",
      " 12  variant_types                       1203 non-null   object             \n",
      " 13  molecular_mechanism                 4726 non-null   object             \n",
      " 14  molecular_mechanism_categorisation  4726 non-null   object             \n",
      " 15  molecular_mechanism_evidence        92 non-null     object             \n",
      " 16  phenotypes                          3395 non-null   object             \n",
      " 17  publications                        4305 non-null   object             \n",
      " 18  panel                               4726 non-null   object             \n",
      " 19  comments                            136 non-null    object             \n",
      " 20  date_of_last_review                 4726 non-null   datetime64[ns, UTC]\n",
      "dtypes: datetime64[ns, UTC](1), object(20)\n",
      "memory usage: 6.1 MB\n"
     ]
    }
   ],
   "source": [
    "df.info(memory_usage=\"deep\")"
   ]
  },
  {
   "cell_type": "markdown",
   "id": "2a5724a6",
   "metadata": {},
   "source": [
    "## Check, remove duplicates"
   ]
  },
  {
   "cell_type": "markdown",
   "id": "5a41d004",
   "metadata": {},
   "source": [
    "There are duplicate rows in this dataframe because the record (gene + disease + more) is in several panels (disease falls into multiple categories). This was explored in the data-playground notebook. \n",
    "\n",
    "We want to drop those duplicates. \n",
    "However, I was concerned that the delimited-string values could differ (only in list order) for the same record in diff files. \n",
    "So that's what this check is for. "
   ]
  },
  {
   "cell_type": "code",
   "execution_count": 11,
   "id": "a6531826",
   "metadata": {
    "ExecuteTime": {
     "end_time": "2025-04-15T23:39:58.514300Z",
     "start_time": "2025-04-15T23:39:58.493333Z"
    }
   },
   "outputs": [],
   "source": [
    "## put into parser (format): DONE\n",
    "\n",
    "n_duplicates_column_combo = df[df.duplicated(subset=[\"g2p_id\"], keep=False)].shape\n",
    "\n",
    "n_duplicates_all_columns = df[df.duplicated(keep=False)].shape\n",
    "\n",
    "## for testing\n",
    "# n_duplicates_all_columns = (1, 1)\n",
    "\n",
    "\n",
    "if n_duplicates_column_combo != n_duplicates_all_columns: \n",
    "    raise AssertionError(\"The data format has changed, and the assumptions about duplicates/key columns may \" \\\n",
    "                          \"no longer hold. Re-explore the data and adjust the parser.\")"
   ]
  },
  {
   "cell_type": "code",
   "execution_count": 12,
   "id": "1659d217",
   "metadata": {
    "ExecuteTime": {
     "end_time": "2025-04-15T23:39:58.537758Z",
     "start_time": "2025-04-15T23:39:58.517391Z"
    }
   },
   "outputs": [],
   "source": [
    "## put into parser (format): DONE\n",
    "\n",
    "## drop duplicates\n",
    "df.drop_duplicates(inplace=True, ignore_index=True)"
   ]
  },
  {
   "cell_type": "code",
   "execution_count": 13,
   "id": "8b25cb57",
   "metadata": {
    "ExecuteTime": {
     "end_time": "2025-04-15T23:39:58.571188Z",
     "start_time": "2025-04-15T23:39:58.539758Z"
    },
    "scrolled": true
   },
   "outputs": [
    {
     "name": "stdout",
     "output_type": "stream",
     "text": [
      "<class 'pandas.core.frame.DataFrame'>\n",
      "RangeIndex: 3659 entries, 0 to 3658\n",
      "Data columns (total 21 columns):\n",
      " #   Column                              Non-Null Count  Dtype              \n",
      "---  ------                              --------------  -----              \n",
      " 0   g2p_id                              3659 non-null   object             \n",
      " 1   gene_symbol                         3659 non-null   object             \n",
      " 2   gene_mim                            3657 non-null   object             \n",
      " 3   hgnc_id                             3659 non-null   object             \n",
      " 4   previous_gene_symbols               3287 non-null   object             \n",
      " 5   disease_name                        3659 non-null   object             \n",
      " 6   disease_mim                         2572 non-null   object             \n",
      " 7   disease_MONDO                       564 non-null    object             \n",
      " 8   allelic_requirement                 3659 non-null   object             \n",
      " 9   cross_cutting_modifier              454 non-null    object             \n",
      " 10  confidence                          3659 non-null   object             \n",
      " 11  variant_consequence                 3641 non-null   object             \n",
      " 12  variant_types                       1010 non-null   object             \n",
      " 13  molecular_mechanism                 3659 non-null   object             \n",
      " 14  molecular_mechanism_categorisation  3659 non-null   object             \n",
      " 15  molecular_mechanism_evidence        81 non-null     object             \n",
      " 16  phenotypes                          2431 non-null   object             \n",
      " 17  publications                        3313 non-null   object             \n",
      " 18  panel                               3659 non-null   object             \n",
      " 19  comments                            110 non-null    object             \n",
      " 20  date_of_last_review                 3659 non-null   datetime64[ns, UTC]\n",
      "dtypes: datetime64[ns, UTC](1), object(20)\n",
      "memory usage: 4.6 MB\n"
     ]
    }
   ],
   "source": [
    "df.info(memory_usage=\"deep\")"
   ]
  },
  {
   "cell_type": "markdown",
   "id": "a797c65d",
   "metadata": {},
   "source": [
    "## Column-level transforms"
   ]
  },
  {
   "cell_type": "markdown",
   "id": "a4feb973",
   "metadata": {},
   "source": [
    "Based on data-playground \"Notes on parsing data to create documents\" section"
   ]
  },
  {
   "cell_type": "code",
   "execution_count": 14,
   "id": "3f9b5222",
   "metadata": {
    "ExecuteTime": {
     "end_time": "2025-04-15T23:39:58.581599Z",
     "start_time": "2025-04-15T23:39:58.573758Z"
    }
   },
   "outputs": [],
   "source": [
    "## double-checking how to add prefixes to OMIM vs orphanet IDs\n",
    "\n",
    "df_diseasemim = df.copy()\n",
    "\n",
    "## done to preserve NA\n",
    "df_diseasemim[\"disease_mim\"] = [i if pd.isna(i) \\\n",
    "                                else \"OMIM:\" + i if i.isnumeric() \\\n",
    "                                else i \\\n",
    "                                for i in df_diseasemim[\"disease_mim\"]]\n",
    "\n",
    "df_diseasemim[\"disease_mim\"] = df_diseasemim[\"disease_mim\"].str.replace(\"Orphanet\", \"orphanet\")"
   ]
  },
  {
   "cell_type": "code",
   "execution_count": 15,
   "id": "14883b59",
   "metadata": {
    "ExecuteTime": {
     "end_time": "2025-04-15T23:39:58.595482Z",
     "start_time": "2025-04-15T23:39:58.584030Z"
    }
   },
   "outputs": [
    {
     "data": {
      "text/plain": [
       "(2563, 21)"
      ]
     },
     "execution_count": 15,
     "metadata": {},
     "output_type": "execute_result"
    },
    {
     "data": {
      "text/plain": [
       "(9, 21)"
      ]
     },
     "execution_count": 15,
     "metadata": {},
     "output_type": "execute_result"
    }
   ],
   "source": [
    "df_diseasemim[df_diseasemim[\"disease_mim\"].str.contains(\"OMIM:\", na=False)].shape\n",
    "\n",
    "df_diseasemim[df_diseasemim[\"disease_mim\"].str.contains(\"orphanet:\", na=False)].shape\n",
    "\n",
    "## add up row count. If == num non-null in info above, you're good \n",
    "## right now 2570 == 2570, so good"
   ]
  },
  {
   "cell_type": "code",
   "execution_count": 16,
   "id": "abb752b8",
   "metadata": {
    "ExecuteTime": {
     "end_time": "2025-04-15T23:39:58.624824Z",
     "start_time": "2025-04-15T23:39:58.597935Z"
    }
   },
   "outputs": [],
   "source": [
    "## put into parser (format): DONE\n",
    "\n",
    "## COLUMN-LEVEL TRANSFORMS\n",
    "\n",
    "## adding Translator/biolink prefixes to IDs\n",
    "df[\"gene_mim\"] = \"OMIM:\" + df[\"gene_mim\"]\n",
    "df[\"hgnc_id\"] = \"HGNC:\" + df[\"hgnc_id\"]\n",
    "df[\"disease_mim\"] = df[\"disease_mim\"].str.replace(\"Orphanet\", \"orphanet\")\n",
    "## done to preserve NA\n",
    "df[\"disease_mim\"] = [i if pd.isna(i)\n",
    "                     else \"OMIM:\" + i if i.isnumeric()\n",
    "                     else i\n",
    "                     for i in df[\"disease_mim\"]]\n",
    "\n",
    "## strip whitespace\n",
    "df[\"disease_name\"] = df[\"disease_name\"].str.strip()\n",
    "df[\"comments\"] = df[\"comments\"].str.strip()\n",
    "\n",
    "## create new columns\n",
    "## UI really wants resource website urls like this. May need to adjust over time as website changes\n",
    "df[\"g2p_record_url\"] = \"https://www.ebi.ac.uk/gene2phenotype/lgd/\" +  df[\"g2p_id\"]\n",
    "\n",
    "## replace panel keywords with full names shown on G2P website for single record\n",
    "## keeping \"Hearing loss\" as-is, changing all other values\n",
    "df[\"panel\"] = df[\"panel\"].str.replace(\"DD\", \"Developmental disorders\")\n",
    "df[\"panel\"] = df[\"panel\"].str.replace(\"Cancer\", \"Cancer disorders\")\n",
    "df[\"panel\"] = df[\"panel\"].str.replace(\"Cardiac\", \"Cardiac disorders\")\n",
    "df[\"panel\"] = df[\"panel\"].str.replace(\"Eye\", \"Eye disorders\")\n",
    "df[\"panel\"] = df[\"panel\"].str.replace(\"Skeletal\", \"Skeletal disorders\")\n",
    "df[\"panel\"] = df[\"panel\"].str.replace(\"Skin\", \"Skin disorders\")"
   ]
  },
  {
   "cell_type": "code",
   "execution_count": 17,
   "id": "b05f644d",
   "metadata": {
    "ExecuteTime": {
     "end_time": "2025-04-15T23:39:58.644797Z",
     "start_time": "2025-04-15T23:39:58.627100Z"
    },
    "scrolled": true
   },
   "outputs": [
    {
     "data": {
      "text/html": [
       "<div>\n",
       "<style scoped>\n",
       "    .dataframe tbody tr th:only-of-type {\n",
       "        vertical-align: middle;\n",
       "    }\n",
       "\n",
       "    .dataframe tbody tr th {\n",
       "        vertical-align: top;\n",
       "    }\n",
       "\n",
       "    .dataframe thead th {\n",
       "        text-align: right;\n",
       "    }\n",
       "</style>\n",
       "<table border=\"1\" class=\"dataframe\">\n",
       "  <thead>\n",
       "    <tr style=\"text-align: right;\">\n",
       "      <th></th>\n",
       "      <th>g2p_id</th>\n",
       "      <th>gene_symbol</th>\n",
       "      <th>gene_mim</th>\n",
       "      <th>hgnc_id</th>\n",
       "      <th>previous_gene_symbols</th>\n",
       "      <th>disease_name</th>\n",
       "      <th>disease_mim</th>\n",
       "      <th>disease_MONDO</th>\n",
       "      <th>allelic_requirement</th>\n",
       "      <th>cross_cutting_modifier</th>\n",
       "      <th>confidence</th>\n",
       "      <th>variant_consequence</th>\n",
       "      <th>variant_types</th>\n",
       "      <th>molecular_mechanism</th>\n",
       "      <th>molecular_mechanism_categorisation</th>\n",
       "      <th>molecular_mechanism_evidence</th>\n",
       "      <th>phenotypes</th>\n",
       "      <th>publications</th>\n",
       "      <th>panel</th>\n",
       "      <th>comments</th>\n",
       "      <th>date_of_last_review</th>\n",
       "      <th>g2p_record_url</th>\n",
       "    </tr>\n",
       "  </thead>\n",
       "  <tbody>\n",
       "    <tr>\n",
       "      <th>0</th>\n",
       "      <td>G2P00001</td>\n",
       "      <td>HMX1</td>\n",
       "      <td>OMIM:142992</td>\n",
       "      <td>HGNC:5017</td>\n",
       "      <td>H6; NKX5-3</td>\n",
       "      <td>HMX1-related oculoauricular syndrome</td>\n",
       "      <td>OMIM:612109</td>\n",
       "      <td>NaN</td>\n",
       "      <td>biallelic_autosomal</td>\n",
       "      <td>NaN</td>\n",
       "      <td>definitive</td>\n",
       "      <td>absent gene product</td>\n",
       "      <td>NaN</td>\n",
       "      <td>loss of function</td>\n",
       "      <td>inferred</td>\n",
       "      <td>NaN</td>\n",
       "      <td>HP:0000568; HP:0000589; HP:0000007; HP:0000482...</td>\n",
       "      <td>18423520; 25574057; 29140751</td>\n",
       "      <td>Developmental disorders; Eye disorders</td>\n",
       "      <td>NaN</td>\n",
       "      <td>2019-09-26 16:23:46+00:00</td>\n",
       "      <td>https://www.ebi.ac.uk/gene2phenotype/lgd/G2P00001</td>\n",
       "    </tr>\n",
       "    <tr>\n",
       "      <th>1</th>\n",
       "      <td>G2P00002</td>\n",
       "      <td>SLX4</td>\n",
       "      <td>OMIM:613278</td>\n",
       "      <td>HGNC:23845</td>\n",
       "      <td>BTBD12; FANCP; KIAA1784; KIAA1987</td>\n",
       "      <td>SLX4-related Fanconi anemia</td>\n",
       "      <td>OMIM:613951</td>\n",
       "      <td>NaN</td>\n",
       "      <td>biallelic_autosomal</td>\n",
       "      <td>NaN</td>\n",
       "      <td>definitive</td>\n",
       "      <td>absent gene product</td>\n",
       "      <td>NaN</td>\n",
       "      <td>loss of function</td>\n",
       "      <td>inferred</td>\n",
       "      <td>NaN</td>\n",
       "      <td>HP:0000347; HP:0000007; HP:0001903; HP:0002984...</td>\n",
       "      <td>21240275; 21240277</td>\n",
       "      <td>Developmental disorders</td>\n",
       "      <td>NaN</td>\n",
       "      <td>2025-01-28 23:09:54+00:00</td>\n",
       "      <td>https://www.ebi.ac.uk/gene2phenotype/lgd/G2P00002</td>\n",
       "    </tr>\n",
       "    <tr>\n",
       "      <th>2</th>\n",
       "      <td>G2P00003</td>\n",
       "      <td>ARG1</td>\n",
       "      <td>OMIM:608313</td>\n",
       "      <td>HGNC:663</td>\n",
       "      <td>NaN</td>\n",
       "      <td>ARG1-related argininemia</td>\n",
       "      <td>OMIM:207800</td>\n",
       "      <td>NaN</td>\n",
       "      <td>biallelic_autosomal</td>\n",
       "      <td>NaN</td>\n",
       "      <td>definitive</td>\n",
       "      <td>absent gene product</td>\n",
       "      <td>NaN</td>\n",
       "      <td>loss of function</td>\n",
       "      <td>inferred</td>\n",
       "      <td>NaN</td>\n",
       "      <td>HP:0000752; HP:0000737; HP:0000007; HP:0008339...</td>\n",
       "      <td>10502833; 1598908; 7649538; 1463019; 2365823</td>\n",
       "      <td>Developmental disorders</td>\n",
       "      <td>NaN</td>\n",
       "      <td>2015-07-22 16:14:07+00:00</td>\n",
       "      <td>https://www.ebi.ac.uk/gene2phenotype/lgd/G2P00003</td>\n",
       "    </tr>\n",
       "    <tr>\n",
       "      <th>3</th>\n",
       "      <td>G2P00004</td>\n",
       "      <td>ATR</td>\n",
       "      <td>OMIM:601215</td>\n",
       "      <td>HGNC:882</td>\n",
       "      <td>FRP1; MEC1; SCKL; SCKL1</td>\n",
       "      <td>ATR-related Seckel syndrome</td>\n",
       "      <td>OMIM:210600</td>\n",
       "      <td>NaN</td>\n",
       "      <td>biallelic_autosomal</td>\n",
       "      <td>NaN</td>\n",
       "      <td>strong</td>\n",
       "      <td>absent gene product</td>\n",
       "      <td>NaN</td>\n",
       "      <td>loss of function</td>\n",
       "      <td>inferred</td>\n",
       "      <td>NaN</td>\n",
       "      <td>HP:0000347; HP:0010230; HP:0001249; HP:0002750...</td>\n",
       "      <td>NaN</td>\n",
       "      <td>Developmental disorders; Skeletal disorders</td>\n",
       "      <td>NaN</td>\n",
       "      <td>2025-01-27 14:24:27+00:00</td>\n",
       "      <td>https://www.ebi.ac.uk/gene2phenotype/lgd/G2P00004</td>\n",
       "    </tr>\n",
       "    <tr>\n",
       "      <th>4</th>\n",
       "      <td>G2P00005</td>\n",
       "      <td>FANCB</td>\n",
       "      <td>OMIM:300515</td>\n",
       "      <td>HGNC:3583</td>\n",
       "      <td>FAAP95; FAB; FLJ34064</td>\n",
       "      <td>FANCB-related Fanconi anemia</td>\n",
       "      <td>OMIM:300514</td>\n",
       "      <td>NaN</td>\n",
       "      <td>monoallelic_X_hemizygous</td>\n",
       "      <td>NaN</td>\n",
       "      <td>definitive</td>\n",
       "      <td>absent gene product</td>\n",
       "      <td>NaN</td>\n",
       "      <td>loss of function</td>\n",
       "      <td>inferred</td>\n",
       "      <td>NaN</td>\n",
       "      <td>HP:0000924; HP:0001871; HP:0001701; HP:0000083...</td>\n",
       "      <td>16679491; 21910217; 36135330; 32106311; 307922...</td>\n",
       "      <td>Developmental disorders; Skin disorders</td>\n",
       "      <td>NaN</td>\n",
       "      <td>2024-08-20 14:13:58+00:00</td>\n",
       "      <td>https://www.ebi.ac.uk/gene2phenotype/lgd/G2P00005</td>\n",
       "    </tr>\n",
       "  </tbody>\n",
       "</table>\n",
       "</div>"
      ],
      "text/plain": [
       "     g2p_id gene_symbol     gene_mim     hgnc_id  \\\n",
       "0  G2P00001        HMX1  OMIM:142992   HGNC:5017   \n",
       "1  G2P00002        SLX4  OMIM:613278  HGNC:23845   \n",
       "2  G2P00003        ARG1  OMIM:608313    HGNC:663   \n",
       "3  G2P00004         ATR  OMIM:601215    HGNC:882   \n",
       "4  G2P00005       FANCB  OMIM:300515   HGNC:3583   \n",
       "\n",
       "               previous_gene_symbols                          disease_name  \\\n",
       "0                         H6; NKX5-3  HMX1-related oculoauricular syndrome   \n",
       "1  BTBD12; FANCP; KIAA1784; KIAA1987           SLX4-related Fanconi anemia   \n",
       "2                                NaN              ARG1-related argininemia   \n",
       "3            FRP1; MEC1; SCKL; SCKL1           ATR-related Seckel syndrome   \n",
       "4              FAAP95; FAB; FLJ34064          FANCB-related Fanconi anemia   \n",
       "\n",
       "   disease_mim disease_MONDO       allelic_requirement cross_cutting_modifier  \\\n",
       "0  OMIM:612109           NaN       biallelic_autosomal                    NaN   \n",
       "1  OMIM:613951           NaN       biallelic_autosomal                    NaN   \n",
       "2  OMIM:207800           NaN       biallelic_autosomal                    NaN   \n",
       "3  OMIM:210600           NaN       biallelic_autosomal                    NaN   \n",
       "4  OMIM:300514           NaN  monoallelic_X_hemizygous                    NaN   \n",
       "\n",
       "   confidence  variant_consequence variant_types molecular_mechanism  \\\n",
       "0  definitive  absent gene product           NaN    loss of function   \n",
       "1  definitive  absent gene product           NaN    loss of function   \n",
       "2  definitive  absent gene product           NaN    loss of function   \n",
       "3      strong  absent gene product           NaN    loss of function   \n",
       "4  definitive  absent gene product           NaN    loss of function   \n",
       "\n",
       "  molecular_mechanism_categorisation molecular_mechanism_evidence  \\\n",
       "0                           inferred                          NaN   \n",
       "1                           inferred                          NaN   \n",
       "2                           inferred                          NaN   \n",
       "3                           inferred                          NaN   \n",
       "4                           inferred                          NaN   \n",
       "\n",
       "                                          phenotypes  \\\n",
       "0  HP:0000568; HP:0000589; HP:0000007; HP:0000482...   \n",
       "1  HP:0000347; HP:0000007; HP:0001903; HP:0002984...   \n",
       "2  HP:0000752; HP:0000737; HP:0000007; HP:0008339...   \n",
       "3  HP:0000347; HP:0010230; HP:0001249; HP:0002750...   \n",
       "4  HP:0000924; HP:0001871; HP:0001701; HP:0000083...   \n",
       "\n",
       "                                        publications  \\\n",
       "0                       18423520; 25574057; 29140751   \n",
       "1                                 21240275; 21240277   \n",
       "2       10502833; 1598908; 7649538; 1463019; 2365823   \n",
       "3                                                NaN   \n",
       "4  16679491; 21910217; 36135330; 32106311; 307922...   \n",
       "\n",
       "                                         panel comments  \\\n",
       "0       Developmental disorders; Eye disorders      NaN   \n",
       "1                      Developmental disorders      NaN   \n",
       "2                      Developmental disorders      NaN   \n",
       "3  Developmental disorders; Skeletal disorders      NaN   \n",
       "4      Developmental disorders; Skin disorders      NaN   \n",
       "\n",
       "        date_of_last_review                                     g2p_record_url  \n",
       "0 2019-09-26 16:23:46+00:00  https://www.ebi.ac.uk/gene2phenotype/lgd/G2P00001  \n",
       "1 2025-01-28 23:09:54+00:00  https://www.ebi.ac.uk/gene2phenotype/lgd/G2P00002  \n",
       "2 2015-07-22 16:14:07+00:00  https://www.ebi.ac.uk/gene2phenotype/lgd/G2P00003  \n",
       "3 2025-01-27 14:24:27+00:00  https://www.ebi.ac.uk/gene2phenotype/lgd/G2P00004  \n",
       "4 2024-08-20 14:13:58+00:00  https://www.ebi.ac.uk/gene2phenotype/lgd/G2P00005  "
      ]
     },
     "execution_count": 17,
     "metadata": {},
     "output_type": "execute_result"
    }
   ],
   "source": [
    "## checking on column-level transforms\n",
    "\n",
    "df.head()\n",
    "# df[\"g2p record url\"].unique()[0:100]\n",
    "\n",
    "# df[df[\"disease mim\"].str.contains(\"orphanet\", na=False)]  ## 9 rows, so that's correct\n",
    "# df[df[\"panel\"].str.contains(\"Hearing\", na=False)]"
   ]
  },
  {
   "cell_type": "markdown",
   "id": "0ff20129",
   "metadata": {},
   "source": [
    "## Pre-NodeNorming"
   ]
  },
  {
   "cell_type": "markdown",
   "id": "377992a6",
   "metadata": {},
   "source": [
    "Querying NodeNorm: send unique values (no duplicates!) from entire column in large batches -> generate mapping dict to use. \n",
    "<br>\n",
    "__Not querying 1-by-1 or 1 row at a time: much slower__ and would involve sending duplicate IDs (unless saved dict is kept outside loop and checked) \n",
    "\n",
    "Not going to use NameResolver: not optimistic this would work anyways. My manual process of getting \"better\" disease IDs is to use the gene IDs, find the diseases they're linked to in OMIM and Monarch, and seeing if those match the data's disease name / phenotypes / publications. This is more complicated than just using NameResolver."
   ]
  },
  {
   "cell_type": "markdown",
   "id": "1266243a",
   "metadata": {},
   "source": [
    "<div class=\"alert alert-block alert-danger\">\n",
    "\n",
    "Set the NodeNorm URL you want to use. "
   ]
  },
  {
   "cell_type": "code",
   "execution_count": 18,
   "id": "ec7095c7",
   "metadata": {
    "ExecuteTime": {
     "end_time": "2025-04-15T23:39:58.737953Z",
     "start_time": "2025-04-15T23:39:58.647732Z"
    }
   },
   "outputs": [],
   "source": [
    "## put into parser (format): DONE\n",
    "\n",
    "import requests\n",
    "\n",
    "## from BioThings annotator code: for interoperability between diff Python versions\n",
    "# try:\n",
    "#     from itertools import batched  # new in Python 3.12\n",
    "# except ImportError:\n",
    "#     from itertools import islice\n",
    "\n",
    "#     def batched(iterable, n):\n",
    "#         # batched('ABCDEFG', 3) → ABC DEF G\n",
    "#         if n < 1:\n",
    "#             raise ValueError(\"n must be at least one\")\n",
    "#         iterator = iter(iterable)\n",
    "#         while batch := tuple(islice(iterator, n)):\n",
    "#             yield batch\n",
    "\n",
    "## doing to test that this works\n",
    "from itertools import islice\n",
    "\n",
    "def batched(iterable, n):\n",
    "    # batched('ABCDEFG', 3) → ABC DEF G\n",
    "    if n < 1:\n",
    "        raise ValueError(\"n must be at least one\")\n",
    "    iterator = iter(iterable)\n",
    "    while batch := tuple(islice(iterator, n)):\n",
    "        yield batch\n",
    "\n",
    "nodenorm_url = \"https://nodenorm.ci.transltr.io/get_normalized_nodes\""
   ]
  },
  {
   "cell_type": "markdown",
   "id": "fd327545",
   "metadata": {},
   "source": [
    "### Exploring: Genes"
   ]
  },
  {
   "cell_type": "markdown",
   "id": "95105b25",
   "metadata": {},
   "source": [
    "**2025-03-28 data:** Every row has at least 1 gene ID (HGNC column has no missing values). So no rows will be removed because there's no gene IDs to use for the pre-NodeNorming. "
   ]
  },
  {
   "cell_type": "code",
   "execution_count": 19,
   "id": "c9c7d169",
   "metadata": {
    "ExecuteTime": {
     "end_time": "2025-04-15T23:39:58.749853Z",
     "start_time": "2025-04-15T23:39:58.740218Z"
    }
   },
   "outputs": [
    {
     "name": "stdout",
     "output_type": "stream",
     "text": [
      "<class 'pandas.core.frame.DataFrame'>\n",
      "RangeIndex: 3659 entries, 0 to 3658\n",
      "Data columns (total 3 columns):\n",
      " #   Column       Non-Null Count  Dtype \n",
      "---  ------       --------------  ----- \n",
      " 0   gene_symbol  3659 non-null   object\n",
      " 1   hgnc_id      3659 non-null   object\n",
      " 2   gene_mim     3657 non-null   object\n",
      "dtypes: object(3)\n",
      "memory usage: 85.9+ KB\n"
     ]
    }
   ],
   "source": [
    "df[[\"gene_symbol\", \"hgnc_id\", \"gene_mim\"]].info()"
   ]
  },
  {
   "cell_type": "code",
   "execution_count": 20,
   "id": "fd6ea459",
   "metadata": {
    "ExecuteTime": {
     "end_time": "2025-04-15T23:39:58.770326Z",
     "start_time": "2025-04-15T23:39:58.752118Z"
    }
   },
   "outputs": [
    {
     "data": {
      "text/html": [
       "<div>\n",
       "<style scoped>\n",
       "    .dataframe tbody tr th:only-of-type {\n",
       "        vertical-align: middle;\n",
       "    }\n",
       "\n",
       "    .dataframe tbody tr th {\n",
       "        vertical-align: top;\n",
       "    }\n",
       "\n",
       "    .dataframe thead th {\n",
       "        text-align: right;\n",
       "    }\n",
       "</style>\n",
       "<table border=\"1\" class=\"dataframe\">\n",
       "  <thead>\n",
       "    <tr style=\"text-align: right;\">\n",
       "      <th></th>\n",
       "      <th>g2p_id</th>\n",
       "      <th>gene_symbol</th>\n",
       "      <th>gene_mim</th>\n",
       "      <th>hgnc_id</th>\n",
       "      <th>previous_gene_symbols</th>\n",
       "      <th>disease_name</th>\n",
       "      <th>disease_mim</th>\n",
       "      <th>disease_MONDO</th>\n",
       "      <th>allelic_requirement</th>\n",
       "      <th>cross_cutting_modifier</th>\n",
       "      <th>confidence</th>\n",
       "      <th>variant_consequence</th>\n",
       "      <th>variant_types</th>\n",
       "      <th>molecular_mechanism</th>\n",
       "      <th>molecular_mechanism_categorisation</th>\n",
       "      <th>molecular_mechanism_evidence</th>\n",
       "      <th>phenotypes</th>\n",
       "      <th>publications</th>\n",
       "      <th>panel</th>\n",
       "      <th>comments</th>\n",
       "      <th>date_of_last_review</th>\n",
       "      <th>g2p_record_url</th>\n",
       "    </tr>\n",
       "  </thead>\n",
       "  <tbody>\n",
       "    <tr>\n",
       "      <th>955</th>\n",
       "      <td>G2P00977</td>\n",
       "      <td>ZNF599</td>\n",
       "      <td>NaN</td>\n",
       "      <td>HGNC:26408</td>\n",
       "      <td>FLJ30663</td>\n",
       "      <td>ZNF599-related NOT IN OMIM</td>\n",
       "      <td>NaN</td>\n",
       "      <td>NaN</td>\n",
       "      <td>monoallelic_autosomal</td>\n",
       "      <td>NaN</td>\n",
       "      <td>limited</td>\n",
       "      <td>uncertain</td>\n",
       "      <td>NaN</td>\n",
       "      <td>undetermined</td>\n",
       "      <td>inferred</td>\n",
       "      <td>NaN</td>\n",
       "      <td>NaN</td>\n",
       "      <td>NaN</td>\n",
       "      <td>Developmental disorders</td>\n",
       "      <td>NaN</td>\n",
       "      <td>2015-07-22 16:15:03+00:00</td>\n",
       "      <td>https://www.ebi.ac.uk/gene2phenotype/lgd/G2P00977</td>\n",
       "    </tr>\n",
       "    <tr>\n",
       "      <th>3452</th>\n",
       "      <td>G2P02168</td>\n",
       "      <td>MFSD6L</td>\n",
       "      <td>NaN</td>\n",
       "      <td>HGNC:26656</td>\n",
       "      <td>FLJ35773</td>\n",
       "      <td>MFSD6L-related congenital cataract</td>\n",
       "      <td>NaN</td>\n",
       "      <td>MONDO:0005129</td>\n",
       "      <td>biallelic_autosomal</td>\n",
       "      <td>NaN</td>\n",
       "      <td>limited</td>\n",
       "      <td>altered gene product structure</td>\n",
       "      <td>inframe_insertion; inframe_deletion; missense_...</td>\n",
       "      <td>undetermined</td>\n",
       "      <td>inferred</td>\n",
       "      <td>NaN</td>\n",
       "      <td>HP:0000007; HP:0010864</td>\n",
       "      <td>22935719</td>\n",
       "      <td>Eye disorders</td>\n",
       "      <td>NaN</td>\n",
       "      <td>2017-08-29 09:35:13+00:00</td>\n",
       "      <td>https://www.ebi.ac.uk/gene2phenotype/lgd/G2P02168</td>\n",
       "    </tr>\n",
       "  </tbody>\n",
       "</table>\n",
       "</div>"
      ],
      "text/plain": [
       "        g2p_id gene_symbol gene_mim     hgnc_id previous_gene_symbols  \\\n",
       "955   G2P00977      ZNF599      NaN  HGNC:26408              FLJ30663   \n",
       "3452  G2P02168      MFSD6L      NaN  HGNC:26656              FLJ35773   \n",
       "\n",
       "                            disease_name disease_mim  disease_MONDO  \\\n",
       "955           ZNF599-related NOT IN OMIM         NaN            NaN   \n",
       "3452  MFSD6L-related congenital cataract         NaN  MONDO:0005129   \n",
       "\n",
       "        allelic_requirement cross_cutting_modifier confidence  \\\n",
       "955   monoallelic_autosomal                    NaN    limited   \n",
       "3452    biallelic_autosomal                    NaN    limited   \n",
       "\n",
       "                 variant_consequence  \\\n",
       "955                        uncertain   \n",
       "3452  altered gene product structure   \n",
       "\n",
       "                                          variant_types molecular_mechanism  \\\n",
       "955                                                 NaN        undetermined   \n",
       "3452  inframe_insertion; inframe_deletion; missense_...        undetermined   \n",
       "\n",
       "     molecular_mechanism_categorisation molecular_mechanism_evidence  \\\n",
       "955                            inferred                          NaN   \n",
       "3452                           inferred                          NaN   \n",
       "\n",
       "                  phenotypes publications                    panel comments  \\\n",
       "955                      NaN          NaN  Developmental disorders      NaN   \n",
       "3452  HP:0000007; HP:0010864     22935719            Eye disorders      NaN   \n",
       "\n",
       "           date_of_last_review  \\\n",
       "955  2015-07-22 16:15:03+00:00   \n",
       "3452 2017-08-29 09:35:13+00:00   \n",
       "\n",
       "                                         g2p_record_url  \n",
       "955   https://www.ebi.ac.uk/gene2phenotype/lgd/G2P00977  \n",
       "3452  https://www.ebi.ac.uk/gene2phenotype/lgd/G2P02168  "
      ]
     },
     "execution_count": 20,
     "metadata": {},
     "output_type": "execute_result"
    }
   ],
   "source": [
    "df[df[\"gene_mim\"].isna()]"
   ]
  },
  {
   "cell_type": "code",
   "execution_count": 21,
   "id": "9b72d9da",
   "metadata": {
    "ExecuteTime": {
     "end_time": "2025-04-15T23:39:58.782687Z",
     "start_time": "2025-04-15T23:39:58.772714Z"
    }
   },
   "outputs": [
    {
     "data": {
      "text/plain": [
       "0"
      ]
     },
     "execution_count": 21,
     "metadata": {},
     "output_type": "execute_result"
    },
    {
     "data": {
      "text/plain": [
       "0"
      ]
     },
     "execution_count": 21,
     "metadata": {},
     "output_type": "execute_result"
    }
   ],
   "source": [
    "## saving stats on data with no gene IDs, just in case\n",
    "\n",
    "stats_no_gene_IDs = {\n",
    "    \"n_rows\": df[df[\"gene_mim\"].isna() & df[\"hgnc_id\"].isna()].shape[0],\n",
    "    \"n_names\": len(df[df[\"gene_mim\"].isna() & df[\"hgnc_id\"].isna()][\"gene_symbol\"].unique())\n",
    "}\n",
    "\n",
    "stats_no_gene_IDs[\"n_rows\"]\n",
    "stats_no_gene_IDs[\"n_names\"]"
   ]
  },
  {
   "cell_type": "markdown",
   "id": "8ec56f53",
   "metadata": {},
   "source": [
    "#### HGNC"
   ]
  },
  {
   "cell_type": "markdown",
   "id": "42bf5e56",
   "metadata": {},
   "source": [
    "__Running Gene HGNC IDs through NodeNorm__\n",
    "\n",
    "\n",
    "Catching potential mapping failures for later stats report"
   ]
  },
  {
   "cell_type": "code",
   "execution_count": 22,
   "id": "9af3c9da",
   "metadata": {
    "ExecuteTime": {
     "end_time": "2025-04-15T23:39:58.788253Z",
     "start_time": "2025-04-15T23:39:58.785051Z"
    }
   },
   "outputs": [],
   "source": [
    "## saving stats on data with no HGNC IDs, just in case\n",
    "\n",
    "n_rows_no_hgnc = df[\"hgnc_id\"].isna().sum()"
   ]
  },
  {
   "cell_type": "code",
   "execution_count": 23,
   "id": "54f32d70",
   "metadata": {
    "ExecuteTime": {
     "end_time": "2025-04-15T23:39:58.796077Z",
     "start_time": "2025-04-15T23:39:58.790518Z"
    }
   },
   "outputs": [
    {
     "data": {
      "text/plain": [
       "3000"
      ]
     },
     "execution_count": 23,
     "metadata": {},
     "output_type": "execute_result"
    }
   ],
   "source": [
    "## get set of unique CURIEs to put into NodeNorm\n",
    "hgnc = df[\"hgnc_id\"].dropna().unique()\n",
    "len(hgnc)"
   ]
  },
  {
   "cell_type": "code",
   "execution_count": 24,
   "id": "e98887c0",
   "metadata": {
    "ExecuteTime": {
     "end_time": "2025-04-15T23:39:58.801530Z",
     "start_time": "2025-04-15T23:39:58.798378Z"
    }
   },
   "outputs": [],
   "source": [
    "hgnc_nodenorm_mapping = {}\n",
    "\n",
    "## set up variables to catch potential mapping failures\n",
    "stats_hgnc_mapping_failures = {\n",
    "    \"unexpected_error\": {},\n",
    "    \"nodenorm_returned_none\": [],\n",
    "    \"wrong_category\": {},\n",
    "    \"no_label\": []\n",
    "    \n",
    "}"
   ]
  },
  {
   "cell_type": "code",
   "execution_count": 25,
   "id": "9521a856",
   "metadata": {
    "ExecuteTime": {
     "end_time": "2025-04-15T23:40:08.423816Z",
     "start_time": "2025-04-15T23:39:58.804965Z"
    }
   },
   "outputs": [],
   "source": [
    "## larger batches are quicker\n",
    "for batch in batched(hgnc, 1000):\n",
    "    ## returns tuples -> cast to list\n",
    "    req_body = {\n",
    "        \"curies\": list(batch),\n",
    "        \"conflate\": True,\n",
    "    }\n",
    "    r = requests.post(nodenorm_url, json=req_body)\n",
    "    response = r.json()\n",
    "    \n",
    "    ## not doing dict comprehension. allows easier review, logic writing\n",
    "    for k,v in response.items():\n",
    "        ## catch unexpected errors\n",
    "        try:\n",
    "            ## if NodeNorm didn't have info on this ID, v will be None\n",
    "            if v is not None:\n",
    "                ## don't keep mapping if category is not the expected one\n",
    "                if v[\"type\"][0] == \"biolink:Gene\":\n",
    "                    ## also throw out mapping if no primary label found\n",
    "                    if v[\"id\"].get(\"label\"):\n",
    "                        temp = {\n",
    "                            k: {\"primary_id\": v[\"id\"][\"identifier\"],\n",
    "                                \"primary_label\": v[\"id\"][\"label\"]\n",
    "                               }\n",
    "                        }\n",
    "                        hgnc_nodenorm_mapping.update(temp)\n",
    "                    else:\n",
    "                        stats_hgnc_mapping_failures[\"no_label\"].append(k)\n",
    "#                         print(f\"{k}: NodeNorm didn't find primary label. Not keeping this mapping.\")\n",
    "                else:\n",
    "                    stats_hgnc_mapping_failures[\"wrong_category\"].update({k: v[\"type\"][0]})\n",
    "#                     print(f'{k}: NodeNorm found different category {v[\"type\"][0]}. Not keeping this mapping.')\n",
    "            else:\n",
    "                stats_hgnc_mapping_failures[\"nodenorm_returned_none\"].append(k)\n",
    "#                 print(f\"{k}: NodeNorm didn't recognize this ID\")\n",
    "        except:\n",
    "            stats_hgnc_mapping_failures[\"unexpected_error\"].update({k: v})\n",
    "            print(f'Encountered an unexpected error.')\n",
    "            print(f'NodeNorm response key: {k}')\n",
    "            print(f'NodeNorm response value: {v}')"
   ]
  },
  {
   "cell_type": "code",
   "execution_count": 26,
   "id": "fce525ef",
   "metadata": {
    "ExecuteTime": {
     "end_time": "2025-04-15T23:40:08.431704Z",
     "start_time": "2025-04-15T23:40:08.426283Z"
    }
   },
   "outputs": [
    {
     "data": {
      "text/plain": [
       "3000"
      ]
     },
     "execution_count": 26,
     "metadata": {},
     "output_type": "execute_result"
    },
    {
     "data": {
      "text/plain": [
       "{'unexpected_error': {},\n",
       " 'nodenorm_returned_none': [],\n",
       " 'wrong_category': {},\n",
       " 'no_label': []}"
      ]
     },
     "execution_count": 26,
     "metadata": {},
     "output_type": "execute_result"
    }
   ],
   "source": [
    "len(hgnc_nodenorm_mapping)\n",
    "\n",
    "stats_hgnc_mapping_failures"
   ]
  },
  {
   "cell_type": "markdown",
   "id": "f45b85ef",
   "metadata": {},
   "source": [
    "#### OMIM"
   ]
  },
  {
   "cell_type": "markdown",
   "id": "449d1aa0",
   "metadata": {},
   "source": [
    "__Running Gene OMIM IDs through NodeNorm__\n",
    "\n",
    "Catching potential mapping failures for later stats report. \n",
    "\n",
    "Pasted, adjusted from HGNC code blocks above."
   ]
  },
  {
   "cell_type": "code",
   "execution_count": 27,
   "id": "93037c9d",
   "metadata": {
    "ExecuteTime": {
     "end_time": "2025-04-15T23:40:08.440122Z",
     "start_time": "2025-04-15T23:40:08.434792Z"
    }
   },
   "outputs": [
    {
     "data": {
      "text/plain": [
       "2998"
      ]
     },
     "execution_count": 27,
     "metadata": {},
     "output_type": "execute_result"
    }
   ],
   "source": [
    "## get set of unique CURIEs to put into NodeNorm\n",
    "gene_omim = df[\"gene_mim\"].dropna().unique()\n",
    "len(gene_omim)"
   ]
  },
  {
   "cell_type": "code",
   "execution_count": 28,
   "id": "8ab2b46b",
   "metadata": {
    "ExecuteTime": {
     "end_time": "2025-04-15T23:40:08.453514Z",
     "start_time": "2025-04-15T23:40:08.450444Z"
    }
   },
   "outputs": [],
   "source": [
    "gene_omim_nodenorm_mapping = {}\n",
    "\n",
    "## set up variables to catch potential mapping failures\n",
    "stats_gene_omim_mapping_failures = {\n",
    "    \"unexpected_error\": {},\n",
    "    \"nodenorm_returned_none\": [],\n",
    "    \"wrong_category\": {},\n",
    "    \"no_label\": []\n",
    "    \n",
    "}"
   ]
  },
  {
   "cell_type": "code",
   "execution_count": 29,
   "id": "26d80f83",
   "metadata": {
    "ExecuteTime": {
     "end_time": "2025-04-15T23:40:16.788414Z",
     "start_time": "2025-04-15T23:40:08.455765Z"
    }
   },
   "outputs": [],
   "source": [
    "## larger batches are quicker\n",
    "for batch in batched(gene_omim, 1000):\n",
    "    ## returns tuples -> cast to list\n",
    "    req_body = {\n",
    "        \"curies\": list(batch),\n",
    "        \"conflate\": True,\n",
    "    }\n",
    "    r = requests.post(nodenorm_url, json=req_body)\n",
    "    response = r.json()\n",
    "    \n",
    "    ## not doing dict comprehension. allows easier review, logic writing\n",
    "    for k,v in response.items():\n",
    "        ## catch unexpected errors\n",
    "        try:\n",
    "            ## if NodeNorm didn't have info on this ID, v will be None\n",
    "            if v is not None:\n",
    "                ## don't keep mapping if category is not the expected one\n",
    "                if v[\"type\"][0] == \"biolink:Gene\":\n",
    "                    ## also throw out mapping if no primary label found\n",
    "                    if v[\"id\"].get(\"label\"):\n",
    "                        temp = {\n",
    "                            k: {\"primary_id\": v[\"id\"][\"identifier\"],\n",
    "                                \"primary_label\": v[\"id\"][\"label\"]\n",
    "                               }\n",
    "                        }\n",
    "                        gene_omim_nodenorm_mapping.update(temp)\n",
    "                    else:\n",
    "                        stats_gene_omim_mapping_failures[\"no_label\"].append(k)\n",
    "#                         print(f\"{k}: NodeNorm didn't find primary label. Not keeping this mapping.\")\n",
    "                else:\n",
    "                    stats_gene_omim_mapping_failures[\"wrong_category\"].update({k: v[\"type\"][0]})\n",
    "#                     print(f'{k}: NodeNorm found different category {v[\"type\"][0]}. Not keeping this mapping.')\n",
    "            else:\n",
    "                stats_gene_omim_mapping_failures[\"nodenorm_returned_none\"].append(k)\n",
    "#                 print(f\"{k}: NodeNorm didn't recognize this ID\")\n",
    "        except:\n",
    "            stats_gene_omim_mapping_failures[\"unexpected_error\"].update({k: v})\n",
    "            print(f'Encountered an unexpected error.')\n",
    "            print(f'NodeNorm response key: {k}')\n",
    "            print(f'NodeNorm response value: {v}')"
   ]
  },
  {
   "cell_type": "code",
   "execution_count": 30,
   "id": "8b342012",
   "metadata": {
    "ExecuteTime": {
     "end_time": "2025-04-15T23:40:16.796504Z",
     "start_time": "2025-04-15T23:40:16.791014Z"
    }
   },
   "outputs": [
    {
     "data": {
      "text/plain": [
       "2997"
      ]
     },
     "execution_count": 30,
     "metadata": {},
     "output_type": "execute_result"
    },
    {
     "data": {
      "text/plain": [
       "{'unexpected_error': {},\n",
       " 'nodenorm_returned_none': ['OMIM:621003'],\n",
       " 'wrong_category': {},\n",
       " 'no_label': []}"
      ]
     },
     "execution_count": 30,
     "metadata": {},
     "output_type": "execute_result"
    }
   ],
   "source": [
    "len(gene_omim_nodenorm_mapping)\n",
    "\n",
    "stats_gene_omim_mapping_failures"
   ]
  },
  {
   "cell_type": "code",
   "execution_count": 31,
   "id": "29752c2e",
   "metadata": {
    "ExecuteTime": {
     "end_time": "2025-04-15T23:40:16.816042Z",
     "start_time": "2025-04-15T23:40:16.799109Z"
    }
   },
   "outputs": [
    {
     "data": {
      "text/html": [
       "<div>\n",
       "<style scoped>\n",
       "    .dataframe tbody tr th:only-of-type {\n",
       "        vertical-align: middle;\n",
       "    }\n",
       "\n",
       "    .dataframe tbody tr th {\n",
       "        vertical-align: top;\n",
       "    }\n",
       "\n",
       "    .dataframe thead th {\n",
       "        text-align: right;\n",
       "    }\n",
       "</style>\n",
       "<table border=\"1\" class=\"dataframe\">\n",
       "  <thead>\n",
       "    <tr style=\"text-align: right;\">\n",
       "      <th></th>\n",
       "      <th>g2p_id</th>\n",
       "      <th>gene_symbol</th>\n",
       "      <th>gene_mim</th>\n",
       "      <th>hgnc_id</th>\n",
       "      <th>previous_gene_symbols</th>\n",
       "      <th>disease_name</th>\n",
       "      <th>disease_mim</th>\n",
       "      <th>disease_MONDO</th>\n",
       "      <th>allelic_requirement</th>\n",
       "      <th>cross_cutting_modifier</th>\n",
       "      <th>confidence</th>\n",
       "      <th>variant_consequence</th>\n",
       "      <th>variant_types</th>\n",
       "      <th>molecular_mechanism</th>\n",
       "      <th>molecular_mechanism_categorisation</th>\n",
       "      <th>molecular_mechanism_evidence</th>\n",
       "      <th>phenotypes</th>\n",
       "      <th>publications</th>\n",
       "      <th>panel</th>\n",
       "      <th>comments</th>\n",
       "      <th>date_of_last_review</th>\n",
       "      <th>g2p_record_url</th>\n",
       "    </tr>\n",
       "  </thead>\n",
       "  <tbody>\n",
       "    <tr>\n",
       "      <th>2766</th>\n",
       "      <td>G2P03714</td>\n",
       "      <td>SP9</td>\n",
       "      <td>OMIM:621003</td>\n",
       "      <td>HGNC:30690</td>\n",
       "      <td>ZNF990</td>\n",
       "      <td>SP9-related neurodevelopmental disorder with/w...</td>\n",
       "      <td>NaN</td>\n",
       "      <td>NaN</td>\n",
       "      <td>monoallelic_autosomal</td>\n",
       "      <td>NaN</td>\n",
       "      <td>moderate</td>\n",
       "      <td>altered gene product structure</td>\n",
       "      <td>frameshift_variant_NMD_escaping; missense_variant</td>\n",
       "      <td>undetermined</td>\n",
       "      <td>inferred</td>\n",
       "      <td>NaN</td>\n",
       "      <td>NaN</td>\n",
       "      <td>38288683</td>\n",
       "      <td>Developmental disorders</td>\n",
       "      <td>Discussions during curation agreed that there ...</td>\n",
       "      <td>2025-03-05 11:14:46+00:00</td>\n",
       "      <td>https://www.ebi.ac.uk/gene2phenotype/lgd/G2P03714</td>\n",
       "    </tr>\n",
       "  </tbody>\n",
       "</table>\n",
       "</div>"
      ],
      "text/plain": [
       "        g2p_id gene_symbol     gene_mim     hgnc_id previous_gene_symbols  \\\n",
       "2766  G2P03714         SP9  OMIM:621003  HGNC:30690                ZNF990   \n",
       "\n",
       "                                           disease_name disease_mim  \\\n",
       "2766  SP9-related neurodevelopmental disorder with/w...         NaN   \n",
       "\n",
       "     disease_MONDO    allelic_requirement cross_cutting_modifier confidence  \\\n",
       "2766           NaN  monoallelic_autosomal                    NaN   moderate   \n",
       "\n",
       "                 variant_consequence  \\\n",
       "2766  altered gene product structure   \n",
       "\n",
       "                                          variant_types molecular_mechanism  \\\n",
       "2766  frameshift_variant_NMD_escaping; missense_variant        undetermined   \n",
       "\n",
       "     molecular_mechanism_categorisation molecular_mechanism_evidence  \\\n",
       "2766                           inferred                          NaN   \n",
       "\n",
       "     phenotypes publications                    panel  \\\n",
       "2766        NaN     38288683  Developmental disorders   \n",
       "\n",
       "                                               comments  \\\n",
       "2766  Discussions during curation agreed that there ...   \n",
       "\n",
       "           date_of_last_review  \\\n",
       "2766 2025-03-05 11:14:46+00:00   \n",
       "\n",
       "                                         g2p_record_url  \n",
       "2766  https://www.ebi.ac.uk/gene2phenotype/lgd/G2P03714  "
      ]
     },
     "execution_count": 31,
     "metadata": {},
     "output_type": "execute_result"
    }
   ],
   "source": [
    "## from looking at 2025-03-28 data\n",
    "df[df[\"gene_mim\"] == \"OMIM:621003\"]"
   ]
  },
  {
   "cell_type": "markdown",
   "id": "2d9af385",
   "metadata": {},
   "source": [
    "**2025-03-28 data:** `OMIM:621003` is a valid gene ID [(OMIM webpage)](https://omim.org/entry/602668), so this is a NodeNorm error."
   ]
  },
  {
   "cell_type": "markdown",
   "id": "beaa91c8",
   "metadata": {},
   "source": [
    "#### Comparing HGNC vs OMIM"
   ]
  },
  {
   "cell_type": "code",
   "execution_count": 32,
   "id": "7401b121",
   "metadata": {
    "ExecuteTime": {
     "end_time": "2025-04-15T23:40:16.832290Z",
     "start_time": "2025-04-15T23:40:16.818502Z"
    }
   },
   "outputs": [],
   "source": [
    "## if row has both IDs, look for diff in mappings from each ID\n",
    "for row in df[[\"gene_mim\", \"hgnc_id\"]].itertuples(index=False):\n",
    "    ## has both IDs\n",
    "    if pd.notna(row.gene_mim) and pd.notna(row.hgnc_id):\n",
    "        ## if have NodeNorm mappings for both\n",
    "        if gene_omim_nodenorm_mapping.get(row.gene_mim) and \\\n",
    "        hgnc_nodenorm_mapping.get(row.hgnc_id):\n",
    "            ## check if mappings are diff\n",
    "            if gene_omim_nodenorm_mapping[row.gene_mim][\"primary_id\"] != \\\n",
    "            hgnc_nodenorm_mapping[row.hgnc_id][\"primary_id\"]:\n",
    "                print(row)\n",
    "\n",
    "## 2025-03-28 data: nothing prints, so there are no mismatches"
   ]
  },
  {
   "cell_type": "code",
   "execution_count": 33,
   "id": "e0dcee11",
   "metadata": {
    "ExecuteTime": {
     "end_time": "2025-04-15T23:40:16.844792Z",
     "start_time": "2025-04-15T23:40:16.834977Z"
    }
   },
   "outputs": [
    {
     "name": "stdout",
     "output_type": "stream",
     "text": [
      "G2P name MT-TP, ID HGNC:7494\n",
      "NodeNorm name TRNP, ID NCBIGene:4571\n",
      "\n",
      "\n",
      "G2P name CENPJ, ID HGNC:17272\n",
      "NodeNorm name CPAP, ID NCBIGene:55835\n",
      "\n",
      "\n",
      "G2P name CCDC103, ID HGNC:32700\n",
      "NodeNorm name DNAAF19, ID NCBIGene:388389\n",
      "\n",
      "\n",
      "G2P name MT-TL1, ID HGNC:7490\n",
      "NodeNorm name TRNL1, ID NCBIGene:4567\n",
      "\n",
      "\n",
      "G2P name MT-ND1, ID HGNC:7455\n",
      "NodeNorm name ND1, ID NCBIGene:4535\n",
      "\n",
      "\n",
      "G2P name MT-ND4, ID HGNC:7459\n",
      "NodeNorm name ND4, ID NCBIGene:4538\n",
      "\n",
      "\n",
      "G2P name MT-ATP6, ID HGNC:7414\n",
      "NodeNorm name ATP6, ID NCBIGene:4508\n",
      "\n",
      "\n",
      "G2P name MT-ND5, ID HGNC:7461\n",
      "NodeNorm name ND5, ID NCBIGene:4540\n",
      "\n",
      "\n",
      "G2P name MT-ND6, ID HGNC:7462\n",
      "NodeNorm name ND6, ID NCBIGene:4541\n",
      "\n",
      "\n"
     ]
    }
   ],
   "source": [
    "## look for differences in name between NodeNormed and original data\n",
    "\n",
    "for row in df[[\"gene_symbol\", \"hgnc_id\"]].itertuples(index=False):\n",
    "    ## works because both columns have no missing values and there's no failed mappings\n",
    "    ## if this changes, need to adjust this code block\n",
    "    if row.gene_symbol != hgnc_nodenorm_mapping[row.hgnc_id][\"primary_label\"]:\n",
    "        print(f\"G2P name {row.gene_symbol}, ID {row.hgnc_id}\")\n",
    "        print(f'NodeNorm name {hgnc_nodenorm_mapping[row.hgnc_id][\"primary_label\"]}, ID {hgnc_nodenorm_mapping[row.hgnc_id][\"primary_id\"]}')\n",
    "        print(\"\\n\")"
   ]
  },
  {
   "cell_type": "markdown",
   "id": "357c59c1",
   "metadata": {},
   "source": [
    "**2025-03-28 data:** \n",
    "\n",
    "Review of mismatched names:\n",
    "* NodeNorm is correct that CENPJ should be CPAP, CCDC103 -> DNAAF19\n",
    "* The rest look like mitochondrial genes, and NCBIGene main name seems to match G2P name, not NodeNorm -> messaged NodeNorm"
   ]
  },
  {
   "cell_type": "markdown",
   "id": "24a02122",
   "metadata": {},
   "source": [
    "#### Conclusions"
   ]
  },
  {
   "cell_type": "markdown",
   "id": "15f9836e",
   "metadata": {},
   "source": [
    "<div class=\"alert alert-block alert-success\">\n",
    "\n",
    "**2025-03-28 data:** \n",
    "    \n",
    "__Exploration__\n",
    "\n",
    "* no mapping failures\n",
    "* when rows have both OMIM and HGNC IDs, there were no differences in NodeNorm mapping (\"mismatches\")\n",
    "    \n",
    "__Decision: Use HGNC ID column to generate NodeNorm values__\n",
    "\n",
    "* less missing values (none right now)\n",
    "* these IDs are probably only genes (vs OMIM terms can be multiple types) "
   ]
  },
  {
   "cell_type": "markdown",
   "id": "783a5f57",
   "metadata": {},
   "source": [
    "### Exploring: Diseases"
   ]
  },
  {
   "cell_type": "markdown",
   "id": "f1879b18",
   "metadata": {},
   "source": [
    "There are many more missing IDs for Disease, compared to Gene. \n",
    "\n",
    "As mentioned at the beginning of the \"Pre-NodeNorming\" section, I won't be using NameResolver right now. \n",
    "\n",
    "__This means all rows w/o any disease IDs will be removed__ because they cannot be pre-NodeNormed. "
   ]
  },
  {
   "cell_type": "code",
   "execution_count": 34,
   "id": "7a13a8c2",
   "metadata": {
    "ExecuteTime": {
     "end_time": "2025-04-15T23:40:16.857508Z",
     "start_time": "2025-04-15T23:40:16.847314Z"
    }
   },
   "outputs": [
    {
     "name": "stdout",
     "output_type": "stream",
     "text": [
      "<class 'pandas.core.frame.DataFrame'>\n",
      "RangeIndex: 3659 entries, 0 to 3658\n",
      "Data columns (total 3 columns):\n",
      " #   Column         Non-Null Count  Dtype \n",
      "---  ------         --------------  ----- \n",
      " 0   disease_name   3659 non-null   object\n",
      " 1   disease_mim    2572 non-null   object\n",
      " 2   disease_MONDO  564 non-null    object\n",
      "dtypes: object(3)\n",
      "memory usage: 85.9+ KB\n"
     ]
    }
   ],
   "source": [
    "df[[\"disease_name\", \"disease_mim\", \"disease_MONDO\"]].info()"
   ]
  },
  {
   "cell_type": "code",
   "execution_count": 35,
   "id": "f4c77261",
   "metadata": {
    "ExecuteTime": {
     "end_time": "2025-04-15T23:40:16.886281Z",
     "start_time": "2025-04-15T23:40:16.861366Z"
    }
   },
   "outputs": [
    {
     "data": {
      "text/html": [
       "<div>\n",
       "<style scoped>\n",
       "    .dataframe tbody tr th:only-of-type {\n",
       "        vertical-align: middle;\n",
       "    }\n",
       "\n",
       "    .dataframe tbody tr th {\n",
       "        vertical-align: top;\n",
       "    }\n",
       "\n",
       "    .dataframe thead th {\n",
       "        text-align: right;\n",
       "    }\n",
       "</style>\n",
       "<table border=\"1\" class=\"dataframe\">\n",
       "  <thead>\n",
       "    <tr style=\"text-align: right;\">\n",
       "      <th></th>\n",
       "      <th>g2p_id</th>\n",
       "      <th>gene_symbol</th>\n",
       "      <th>gene_mim</th>\n",
       "      <th>hgnc_id</th>\n",
       "      <th>previous_gene_symbols</th>\n",
       "      <th>disease_name</th>\n",
       "      <th>disease_mim</th>\n",
       "      <th>disease_MONDO</th>\n",
       "      <th>allelic_requirement</th>\n",
       "      <th>cross_cutting_modifier</th>\n",
       "      <th>confidence</th>\n",
       "      <th>variant_consequence</th>\n",
       "      <th>variant_types</th>\n",
       "      <th>molecular_mechanism</th>\n",
       "      <th>molecular_mechanism_categorisation</th>\n",
       "      <th>molecular_mechanism_evidence</th>\n",
       "      <th>phenotypes</th>\n",
       "      <th>publications</th>\n",
       "      <th>panel</th>\n",
       "      <th>comments</th>\n",
       "      <th>date_of_last_review</th>\n",
       "      <th>g2p_record_url</th>\n",
       "    </tr>\n",
       "  </thead>\n",
       "  <tbody>\n",
       "    <tr>\n",
       "      <th>15</th>\n",
       "      <td>G2P00016</td>\n",
       "      <td>NAA10</td>\n",
       "      <td>OMIM:300013</td>\n",
       "      <td>HGNC:18704</td>\n",
       "      <td>ARD1; ARD1A; DXS707; TE2</td>\n",
       "      <td>NAA10-related nonpecific severe intellectual d...</td>\n",
       "      <td>NaN</td>\n",
       "      <td>NaN</td>\n",
       "      <td>monoallelic_X_heterozygous</td>\n",
       "      <td>NaN</td>\n",
       "      <td>definitive</td>\n",
       "      <td>altered gene product structure</td>\n",
       "      <td>inframe_insertion; inframe_deletion; missense_...</td>\n",
       "      <td>undetermined</td>\n",
       "      <td>inferred</td>\n",
       "      <td>NaN</td>\n",
       "      <td>NaN</td>\n",
       "      <td>25099252</td>\n",
       "      <td>Developmental disorders</td>\n",
       "      <td>NaN</td>\n",
       "      <td>2015-07-22 16:14:09+00:00</td>\n",
       "      <td>https://www.ebi.ac.uk/gene2phenotype/lgd/G2P00016</td>\n",
       "    </tr>\n",
       "    <tr>\n",
       "      <th>20</th>\n",
       "      <td>G2P00021</td>\n",
       "      <td>COL1A1</td>\n",
       "      <td>OMIM:120150</td>\n",
       "      <td>HGNC:2197</td>\n",
       "      <td>OI4</td>\n",
       "      <td>COL1A1-related osteogenesis imperfecta spectrum</td>\n",
       "      <td>NaN</td>\n",
       "      <td>NaN</td>\n",
       "      <td>monoallelic_autosomal</td>\n",
       "      <td>restricted mutation set</td>\n",
       "      <td>definitive</td>\n",
       "      <td>altered gene product structure</td>\n",
       "      <td>NaN</td>\n",
       "      <td>dominant negative</td>\n",
       "      <td>inferred</td>\n",
       "      <td>NaN</td>\n",
       "      <td>HP:0002808; HP:0000347; HP:0005622; HP:0001075...</td>\n",
       "      <td>9295084; 3082886; 18409203; 2295701; 1988452; ...</td>\n",
       "      <td>Developmental disorders; Skin disorders; Skele...</td>\n",
       "      <td>NaN</td>\n",
       "      <td>2025-01-15 11:51:09+00:00</td>\n",
       "      <td>https://www.ebi.ac.uk/gene2phenotype/lgd/G2P00021</td>\n",
       "    </tr>\n",
       "    <tr>\n",
       "      <th>32</th>\n",
       "      <td>G2P00033</td>\n",
       "      <td>SCN2A</td>\n",
       "      <td>OMIM:182390</td>\n",
       "      <td>HGNC:10588</td>\n",
       "      <td>HBSCI; HBSCII; NAV1.2; SCN2A1; SCN2A2</td>\n",
       "      <td>SCN2A-related nonspecific severe intellectual ...</td>\n",
       "      <td>NaN</td>\n",
       "      <td>NaN</td>\n",
       "      <td>monoallelic_autosomal</td>\n",
       "      <td>NaN</td>\n",
       "      <td>definitive</td>\n",
       "      <td>absent gene product</td>\n",
       "      <td>NaN</td>\n",
       "      <td>loss of function</td>\n",
       "      <td>inferred</td>\n",
       "      <td>NaN</td>\n",
       "      <td>NaN</td>\n",
       "      <td>30062040</td>\n",
       "      <td>Developmental disorders</td>\n",
       "      <td>NaN</td>\n",
       "      <td>2015-07-22 16:14:11+00:00</td>\n",
       "      <td>https://www.ebi.ac.uk/gene2phenotype/lgd/G2P00033</td>\n",
       "    </tr>\n",
       "    <tr>\n",
       "      <th>56</th>\n",
       "      <td>G2P00057</td>\n",
       "      <td>FLNA</td>\n",
       "      <td>OMIM:300017</td>\n",
       "      <td>HGNC:3754</td>\n",
       "      <td>ABP-280; FLN; FLN1; OPD1; OPD2</td>\n",
       "      <td>FLNA-related epileptic encephalopathy</td>\n",
       "      <td>NaN</td>\n",
       "      <td>NaN</td>\n",
       "      <td>monoallelic_X_heterozygous</td>\n",
       "      <td>NaN</td>\n",
       "      <td>definitive</td>\n",
       "      <td>altered gene product structure</td>\n",
       "      <td>inframe_insertion; inframe_deletion; missense_...</td>\n",
       "      <td>undetermined</td>\n",
       "      <td>inferred</td>\n",
       "      <td>NaN</td>\n",
       "      <td>NaN</td>\n",
       "      <td>23934111</td>\n",
       "      <td>Developmental disorders; Skin disorders</td>\n",
       "      <td>NaN</td>\n",
       "      <td>2025-01-27 22:44:48+00:00</td>\n",
       "      <td>https://www.ebi.ac.uk/gene2phenotype/lgd/G2P00057</td>\n",
       "    </tr>\n",
       "    <tr>\n",
       "      <th>83</th>\n",
       "      <td>G2P00086</td>\n",
       "      <td>PRRT2</td>\n",
       "      <td>OMIM:614386</td>\n",
       "      <td>HGNC:30500</td>\n",
       "      <td>DKFZP547J199; DSPB3; DYT10; EKD1; FICCA; FLJ25...</td>\n",
       "      <td>PRRT2-related intellectual developmental disorder</td>\n",
       "      <td>NaN</td>\n",
       "      <td>NaN</td>\n",
       "      <td>biallelic_autosomal</td>\n",
       "      <td>NaN</td>\n",
       "      <td>definitive</td>\n",
       "      <td>absent gene product</td>\n",
       "      <td>NaN</td>\n",
       "      <td>loss of function</td>\n",
       "      <td>inferred</td>\n",
       "      <td>NaN</td>\n",
       "      <td>NaN</td>\n",
       "      <td>21937992</td>\n",
       "      <td>Developmental disorders</td>\n",
       "      <td>NaN</td>\n",
       "      <td>2015-07-22 16:14:14+00:00</td>\n",
       "      <td>https://www.ebi.ac.uk/gene2phenotype/lgd/G2P00086</td>\n",
       "    </tr>\n",
       "    <tr>\n",
       "      <th>...</th>\n",
       "      <td>...</td>\n",
       "      <td>...</td>\n",
       "      <td>...</td>\n",
       "      <td>...</td>\n",
       "      <td>...</td>\n",
       "      <td>...</td>\n",
       "      <td>...</td>\n",
       "      <td>...</td>\n",
       "      <td>...</td>\n",
       "      <td>...</td>\n",
       "      <td>...</td>\n",
       "      <td>...</td>\n",
       "      <td>...</td>\n",
       "      <td>...</td>\n",
       "      <td>...</td>\n",
       "      <td>...</td>\n",
       "      <td>...</td>\n",
       "      <td>...</td>\n",
       "      <td>...</td>\n",
       "      <td>...</td>\n",
       "      <td>...</td>\n",
       "      <td>...</td>\n",
       "    </tr>\n",
       "    <tr>\n",
       "      <th>3621</th>\n",
       "      <td>G2P02428</td>\n",
       "      <td>IPO13</td>\n",
       "      <td>OMIM:610411</td>\n",
       "      <td>HGNC:16853</td>\n",
       "      <td>IMP13; KIAA0724; RANBP13</td>\n",
       "      <td>IPO13-related ocular coloboma, microphthalmia,...</td>\n",
       "      <td>NaN</td>\n",
       "      <td>NaN</td>\n",
       "      <td>biallelic_autosomal</td>\n",
       "      <td>NaN</td>\n",
       "      <td>strong</td>\n",
       "      <td>absent gene product</td>\n",
       "      <td>NaN</td>\n",
       "      <td>loss of function</td>\n",
       "      <td>inferred</td>\n",
       "      <td>NaN</td>\n",
       "      <td>HP:0000007; HP:0000568; HP:0000482; HP:0000612</td>\n",
       "      <td>29700284</td>\n",
       "      <td>Eye disorders</td>\n",
       "      <td>NaN</td>\n",
       "      <td>2018-05-25 14:49:39+00:00</td>\n",
       "      <td>https://www.ebi.ac.uk/gene2phenotype/lgd/G2P02428</td>\n",
       "    </tr>\n",
       "    <tr>\n",
       "      <th>3624</th>\n",
       "      <td>G2P02432</td>\n",
       "      <td>MAFB</td>\n",
       "      <td>OMIM:608968</td>\n",
       "      <td>HGNC:6408</td>\n",
       "      <td>KRML</td>\n",
       "      <td>MAFB-related focal segmental glomerulosclerosi...</td>\n",
       "      <td>NaN</td>\n",
       "      <td>NaN</td>\n",
       "      <td>monoallelic_autosomal</td>\n",
       "      <td>NaN</td>\n",
       "      <td>strong</td>\n",
       "      <td>altered gene product structure</td>\n",
       "      <td>inframe_insertion; inframe_deletion; missense_...</td>\n",
       "      <td>undetermined</td>\n",
       "      <td>inferred</td>\n",
       "      <td>NaN</td>\n",
       "      <td>NaN</td>\n",
       "      <td>29779709</td>\n",
       "      <td>Eye disorders</td>\n",
       "      <td>NaN</td>\n",
       "      <td>2018-05-30 15:12:32+00:00</td>\n",
       "      <td>https://www.ebi.ac.uk/gene2phenotype/lgd/G2P02432</td>\n",
       "    </tr>\n",
       "    <tr>\n",
       "      <th>3630</th>\n",
       "      <td>G2P02540</td>\n",
       "      <td>IFT88</td>\n",
       "      <td>OMIM:600595</td>\n",
       "      <td>HGNC:20606</td>\n",
       "      <td>D13S1056E; HTG737; MGC26259; TG737; TTC10</td>\n",
       "      <td>IFT88-related non-syndromic retinal degeneration</td>\n",
       "      <td>NaN</td>\n",
       "      <td>NaN</td>\n",
       "      <td>biallelic_autosomal</td>\n",
       "      <td>NaN</td>\n",
       "      <td>limited</td>\n",
       "      <td>absent gene product</td>\n",
       "      <td>NaN</td>\n",
       "      <td>loss of function</td>\n",
       "      <td>inferred</td>\n",
       "      <td>NaN</td>\n",
       "      <td>HP:0000007; HP:0000662; HP:0007947; HP:0008035...</td>\n",
       "      <td>29978320</td>\n",
       "      <td>Eye disorders</td>\n",
       "      <td>NaN</td>\n",
       "      <td>2025-01-16 11:09:04+00:00</td>\n",
       "      <td>https://www.ebi.ac.uk/gene2phenotype/lgd/G2P02540</td>\n",
       "    </tr>\n",
       "    <tr>\n",
       "      <th>3646</th>\n",
       "      <td>G2P02823</td>\n",
       "      <td>MFRP</td>\n",
       "      <td>OMIM:606227</td>\n",
       "      <td>HGNC:18121</td>\n",
       "      <td>C1QTNF5; FLJ30570; NNO2; RD6</td>\n",
       "      <td>MFRP-related non-syndromic retinitis pigmenta</td>\n",
       "      <td>NaN</td>\n",
       "      <td>NaN</td>\n",
       "      <td>biallelic_autosomal</td>\n",
       "      <td>NaN</td>\n",
       "      <td>definitive</td>\n",
       "      <td>uncertain</td>\n",
       "      <td>NaN</td>\n",
       "      <td>undetermined</td>\n",
       "      <td>inferred</td>\n",
       "      <td>NaN</td>\n",
       "      <td>HP:0000556; HP:0000510</td>\n",
       "      <td>24474277; 22605927; 22142163</td>\n",
       "      <td>Eye disorders</td>\n",
       "      <td>NaN</td>\n",
       "      <td>2024-10-25 14:34:52+00:00</td>\n",
       "      <td>https://www.ebi.ac.uk/gene2phenotype/lgd/G2P02823</td>\n",
       "    </tr>\n",
       "    <tr>\n",
       "      <th>3649</th>\n",
       "      <td>G2P02826</td>\n",
       "      <td>RPE65</td>\n",
       "      <td>OMIM:180069</td>\n",
       "      <td>HGNC:10294</td>\n",
       "      <td>BCO3; LCA2; RD12; RP20</td>\n",
       "      <td>RPE65-related retinal dystrophy</td>\n",
       "      <td>NaN</td>\n",
       "      <td>NaN</td>\n",
       "      <td>monoallelic_autosomal</td>\n",
       "      <td>NaN</td>\n",
       "      <td>definitive</td>\n",
       "      <td>altered gene product structure</td>\n",
       "      <td>inframe_insertion; inframe_deletion; missense_...</td>\n",
       "      <td>undetermined</td>\n",
       "      <td>inferred</td>\n",
       "      <td>NaN</td>\n",
       "      <td>HP:0000556; HP:0001139</td>\n",
       "      <td>27307694; 21654732; 29947567</td>\n",
       "      <td>Eye disorders</td>\n",
       "      <td>NaN</td>\n",
       "      <td>2019-10-30 14:45:12+00:00</td>\n",
       "      <td>https://www.ebi.ac.uk/gene2phenotype/lgd/G2P02826</td>\n",
       "    </tr>\n",
       "  </tbody>\n",
       "</table>\n",
       "<p>642 rows × 22 columns</p>\n",
       "</div>"
      ],
      "text/plain": [
       "        g2p_id gene_symbol     gene_mim     hgnc_id  \\\n",
       "15    G2P00016       NAA10  OMIM:300013  HGNC:18704   \n",
       "20    G2P00021      COL1A1  OMIM:120150   HGNC:2197   \n",
       "32    G2P00033       SCN2A  OMIM:182390  HGNC:10588   \n",
       "56    G2P00057        FLNA  OMIM:300017   HGNC:3754   \n",
       "83    G2P00086       PRRT2  OMIM:614386  HGNC:30500   \n",
       "...        ...         ...          ...         ...   \n",
       "3621  G2P02428       IPO13  OMIM:610411  HGNC:16853   \n",
       "3624  G2P02432        MAFB  OMIM:608968   HGNC:6408   \n",
       "3630  G2P02540       IFT88  OMIM:600595  HGNC:20606   \n",
       "3646  G2P02823        MFRP  OMIM:606227  HGNC:18121   \n",
       "3649  G2P02826       RPE65  OMIM:180069  HGNC:10294   \n",
       "\n",
       "                                  previous_gene_symbols  \\\n",
       "15                             ARD1; ARD1A; DXS707; TE2   \n",
       "20                                                  OI4   \n",
       "32                HBSCI; HBSCII; NAV1.2; SCN2A1; SCN2A2   \n",
       "56                       ABP-280; FLN; FLN1; OPD1; OPD2   \n",
       "83    DKFZP547J199; DSPB3; DYT10; EKD1; FICCA; FLJ25...   \n",
       "...                                                 ...   \n",
       "3621                           IMP13; KIAA0724; RANBP13   \n",
       "3624                                               KRML   \n",
       "3630          D13S1056E; HTG737; MGC26259; TG737; TTC10   \n",
       "3646                       C1QTNF5; FLJ30570; NNO2; RD6   \n",
       "3649                             BCO3; LCA2; RD12; RP20   \n",
       "\n",
       "                                           disease_name disease_mim  \\\n",
       "15    NAA10-related nonpecific severe intellectual d...         NaN   \n",
       "20      COL1A1-related osteogenesis imperfecta spectrum         NaN   \n",
       "32    SCN2A-related nonspecific severe intellectual ...         NaN   \n",
       "56                FLNA-related epileptic encephalopathy         NaN   \n",
       "83    PRRT2-related intellectual developmental disorder         NaN   \n",
       "...                                                 ...         ...   \n",
       "3621  IPO13-related ocular coloboma, microphthalmia,...         NaN   \n",
       "3624  MAFB-related focal segmental glomerulosclerosi...         NaN   \n",
       "3630   IFT88-related non-syndromic retinal degeneration         NaN   \n",
       "3646      MFRP-related non-syndromic retinitis pigmenta         NaN   \n",
       "3649                    RPE65-related retinal dystrophy         NaN   \n",
       "\n",
       "     disease_MONDO         allelic_requirement   cross_cutting_modifier  \\\n",
       "15             NaN  monoallelic_X_heterozygous                      NaN   \n",
       "20             NaN       monoallelic_autosomal  restricted mutation set   \n",
       "32             NaN       monoallelic_autosomal                      NaN   \n",
       "56             NaN  monoallelic_X_heterozygous                      NaN   \n",
       "83             NaN         biallelic_autosomal                      NaN   \n",
       "...            ...                         ...                      ...   \n",
       "3621           NaN         biallelic_autosomal                      NaN   \n",
       "3624           NaN       monoallelic_autosomal                      NaN   \n",
       "3630           NaN         biallelic_autosomal                      NaN   \n",
       "3646           NaN         biallelic_autosomal                      NaN   \n",
       "3649           NaN       monoallelic_autosomal                      NaN   \n",
       "\n",
       "      confidence             variant_consequence  \\\n",
       "15    definitive  altered gene product structure   \n",
       "20    definitive  altered gene product structure   \n",
       "32    definitive             absent gene product   \n",
       "56    definitive  altered gene product structure   \n",
       "83    definitive             absent gene product   \n",
       "...          ...                             ...   \n",
       "3621      strong             absent gene product   \n",
       "3624      strong  altered gene product structure   \n",
       "3630     limited             absent gene product   \n",
       "3646  definitive                       uncertain   \n",
       "3649  definitive  altered gene product structure   \n",
       "\n",
       "                                          variant_types molecular_mechanism  \\\n",
       "15    inframe_insertion; inframe_deletion; missense_...        undetermined   \n",
       "20                                                  NaN   dominant negative   \n",
       "32                                                  NaN    loss of function   \n",
       "56    inframe_insertion; inframe_deletion; missense_...        undetermined   \n",
       "83                                                  NaN    loss of function   \n",
       "...                                                 ...                 ...   \n",
       "3621                                                NaN    loss of function   \n",
       "3624  inframe_insertion; inframe_deletion; missense_...        undetermined   \n",
       "3630                                                NaN    loss of function   \n",
       "3646                                                NaN        undetermined   \n",
       "3649  inframe_insertion; inframe_deletion; missense_...        undetermined   \n",
       "\n",
       "     molecular_mechanism_categorisation molecular_mechanism_evidence  \\\n",
       "15                             inferred                          NaN   \n",
       "20                             inferred                          NaN   \n",
       "32                             inferred                          NaN   \n",
       "56                             inferred                          NaN   \n",
       "83                             inferred                          NaN   \n",
       "...                                 ...                          ...   \n",
       "3621                           inferred                          NaN   \n",
       "3624                           inferred                          NaN   \n",
       "3630                           inferred                          NaN   \n",
       "3646                           inferred                          NaN   \n",
       "3649                           inferred                          NaN   \n",
       "\n",
       "                                             phenotypes  \\\n",
       "15                                                  NaN   \n",
       "20    HP:0002808; HP:0000347; HP:0005622; HP:0001075...   \n",
       "32                                                  NaN   \n",
       "56                                                  NaN   \n",
       "83                                                  NaN   \n",
       "...                                                 ...   \n",
       "3621     HP:0000007; HP:0000568; HP:0000482; HP:0000612   \n",
       "3624                                                NaN   \n",
       "3630  HP:0000007; HP:0000662; HP:0007947; HP:0008035...   \n",
       "3646                             HP:0000556; HP:0000510   \n",
       "3649                             HP:0000556; HP:0001139   \n",
       "\n",
       "                                           publications  \\\n",
       "15                                             25099252   \n",
       "20    9295084; 3082886; 18409203; 2295701; 1988452; ...   \n",
       "32                                             30062040   \n",
       "56                                             23934111   \n",
       "83                                             21937992   \n",
       "...                                                 ...   \n",
       "3621                                           29700284   \n",
       "3624                                           29779709   \n",
       "3630                                           29978320   \n",
       "3646                       24474277; 22605927; 22142163   \n",
       "3649                       27307694; 21654732; 29947567   \n",
       "\n",
       "                                                  panel comments  \\\n",
       "15                              Developmental disorders      NaN   \n",
       "20    Developmental disorders; Skin disorders; Skele...      NaN   \n",
       "32                              Developmental disorders      NaN   \n",
       "56              Developmental disorders; Skin disorders      NaN   \n",
       "83                              Developmental disorders      NaN   \n",
       "...                                                 ...      ...   \n",
       "3621                                      Eye disorders      NaN   \n",
       "3624                                      Eye disorders      NaN   \n",
       "3630                                      Eye disorders      NaN   \n",
       "3646                                      Eye disorders      NaN   \n",
       "3649                                      Eye disorders      NaN   \n",
       "\n",
       "           date_of_last_review  \\\n",
       "15   2015-07-22 16:14:09+00:00   \n",
       "20   2025-01-15 11:51:09+00:00   \n",
       "32   2015-07-22 16:14:11+00:00   \n",
       "56   2025-01-27 22:44:48+00:00   \n",
       "83   2015-07-22 16:14:14+00:00   \n",
       "...                        ...   \n",
       "3621 2018-05-25 14:49:39+00:00   \n",
       "3624 2018-05-30 15:12:32+00:00   \n",
       "3630 2025-01-16 11:09:04+00:00   \n",
       "3646 2024-10-25 14:34:52+00:00   \n",
       "3649 2019-10-30 14:45:12+00:00   \n",
       "\n",
       "                                         g2p_record_url  \n",
       "15    https://www.ebi.ac.uk/gene2phenotype/lgd/G2P00016  \n",
       "20    https://www.ebi.ac.uk/gene2phenotype/lgd/G2P00021  \n",
       "32    https://www.ebi.ac.uk/gene2phenotype/lgd/G2P00033  \n",
       "56    https://www.ebi.ac.uk/gene2phenotype/lgd/G2P00057  \n",
       "83    https://www.ebi.ac.uk/gene2phenotype/lgd/G2P00086  \n",
       "...                                                 ...  \n",
       "3621  https://www.ebi.ac.uk/gene2phenotype/lgd/G2P02428  \n",
       "3624  https://www.ebi.ac.uk/gene2phenotype/lgd/G2P02432  \n",
       "3630  https://www.ebi.ac.uk/gene2phenotype/lgd/G2P02540  \n",
       "3646  https://www.ebi.ac.uk/gene2phenotype/lgd/G2P02823  \n",
       "3649  https://www.ebi.ac.uk/gene2phenotype/lgd/G2P02826  \n",
       "\n",
       "[642 rows x 22 columns]"
      ]
     },
     "execution_count": 35,
     "metadata": {},
     "output_type": "execute_result"
    }
   ],
   "source": [
    "df[df[\"disease_mim\"].isna() & df[\"disease_MONDO\"].isna()]"
   ]
  },
  {
   "cell_type": "code",
   "execution_count": 36,
   "id": "7451392e",
   "metadata": {
    "ExecuteTime": {
     "end_time": "2025-04-15T23:40:16.898818Z",
     "start_time": "2025-04-15T23:40:16.888529Z"
    }
   },
   "outputs": [
    {
     "data": {
      "text/plain": [
       "642"
      ]
     },
     "execution_count": 36,
     "metadata": {},
     "output_type": "execute_result"
    },
    {
     "data": {
      "text/plain": [
       "629"
      ]
     },
     "execution_count": 36,
     "metadata": {},
     "output_type": "execute_result"
    }
   ],
   "source": [
    "## saving stats on data with no disease IDs\n",
    "\n",
    "stats_no_disease_IDs = {\n",
    "    \"n_rows\": df[df[\"disease_mim\"].isna() & df[\"disease_MONDO\"].isna()].shape[0],\n",
    "    \"n_names\": len(df[df[\"disease_mim\"].isna() & df[\"disease_MONDO\"].isna()][\"disease_name\"].unique())\n",
    "}\n",
    "\n",
    "stats_no_disease_IDs[\"n_rows\"]\n",
    "stats_no_disease_IDs[\"n_names\"]"
   ]
  },
  {
   "cell_type": "markdown",
   "id": "b7a750dc",
   "metadata": {},
   "source": [
    "#### OMIM/orphanet"
   ]
  },
  {
   "cell_type": "markdown",
   "id": "4a12fa8f",
   "metadata": {},
   "source": [
    "__Running OMIM/orphanet IDs through NodeNorm__\n",
    "\n",
    "Catching mapping failures for later stats report\n",
    "\n",
    "Pasted, adjusted from HGNC code blocks above."
   ]
  },
  {
   "cell_type": "code",
   "execution_count": 37,
   "id": "619356be",
   "metadata": {
    "ExecuteTime": {
     "end_time": "2025-04-15T23:40:16.905931Z",
     "start_time": "2025-04-15T23:40:16.901140Z"
    }
   },
   "outputs": [
    {
     "data": {
      "text/plain": [
       "2403"
      ]
     },
     "execution_count": 37,
     "metadata": {},
     "output_type": "execute_result"
    }
   ],
   "source": [
    "## put into parser (format): DONE\n",
    "\n",
    "## get set of unique CURIEs to put into NodeNorm\n",
    "disease_OmOr = df[\"disease_mim\"].dropna().unique()\n",
    "len(disease_OmOr)"
   ]
  },
  {
   "cell_type": "code",
   "execution_count": 38,
   "id": "1400dd55",
   "metadata": {
    "ExecuteTime": {
     "end_time": "2025-04-15T23:40:16.911087Z",
     "start_time": "2025-04-15T23:40:16.908008Z"
    }
   },
   "outputs": [],
   "source": [
    "## put into parser (format): DONE\n",
    "\n",
    "OmOr_nodenorm_mapping = {}\n",
    "\n",
    "## set up variables to catch mapping failures\n",
    "stats_OmOr_mapping_failures = {\n",
    "    \"unexpected_error\": {},\n",
    "    \"nodenorm_returned_none\": [],\n",
    "    \"wrong_category\": {},\n",
    "    \"no_label\": []\n",
    "    \n",
    "}"
   ]
  },
  {
   "cell_type": "code",
   "execution_count": 39,
   "id": "858b6f93",
   "metadata": {
    "ExecuteTime": {
     "end_time": "2025-04-15T23:40:24.928287Z",
     "start_time": "2025-04-15T23:40:16.913859Z"
    }
   },
   "outputs": [],
   "source": [
    "## put into parser (format): DONE\n",
    "\n",
    "## larger batches are quicker\n",
    "for batch in batched(disease_OmOr, 1000):\n",
    "    ## returns tuples -> cast to list\n",
    "    req_body = {\n",
    "        \"curies\": list(batch),\n",
    "        \"conflate\": True,\n",
    "    }\n",
    "    r = requests.post(nodenorm_url, json=req_body)\n",
    "    response = r.json()\n",
    "    \n",
    "    ## not doing dict comprehension. allows easier review, logic writing\n",
    "    for k,v in response.items():\n",
    "        ## catch unexpected errors\n",
    "        try:\n",
    "            ## if NodeNorm didn't have info on this ID, v will be None\n",
    "            if v is not None:\n",
    "                ## don't keep mapping if category is not the expected one\n",
    "                if v[\"type\"][0] == \"biolink:Disease\":\n",
    "                    ## also throw out mapping if no primary label found\n",
    "                    if v[\"id\"].get(\"label\"):\n",
    "                        temp = {\n",
    "                            k: {\"primary_id\": v[\"id\"][\"identifier\"],\n",
    "                                \"primary_label\": v[\"id\"][\"label\"]\n",
    "                               }\n",
    "                        }\n",
    "                        OmOr_nodenorm_mapping.update(temp)\n",
    "                    else:\n",
    "                        stats_OmOr_mapping_failures[\"no_label\"].append(k)\n",
    "#                         print(f\"{k}: NodeNorm didn't find primary label. Not keeping this mapping.\")\n",
    "                else:\n",
    "                    stats_OmOr_mapping_failures[\"wrong_category\"].update({k: v[\"type\"][0]})\n",
    "#                     print(f'{k}: NodeNorm found different category {v[\"type\"][0]}. Not keeping this mapping.')\n",
    "            else:\n",
    "                stats_OmOr_mapping_failures[\"nodenorm_returned_none\"].append(k)\n",
    "#                 print(f\"{k}: NodeNorm didn't recognize this ID\")\n",
    "        except:\n",
    "            stats_OmOr_mapping_failures[\"unexpected_error\"].update({k: v})\n",
    "            print(f'Encountered an unexpected error.')\n",
    "            print(f'NodeNorm response key: {k}')\n",
    "            print(f'NodeNorm response value: {v}')"
   ]
  },
  {
   "cell_type": "code",
   "execution_count": 40,
   "id": "a772ebfd",
   "metadata": {
    "ExecuteTime": {
     "end_time": "2025-04-15T23:40:24.937009Z",
     "start_time": "2025-04-15T23:40:24.930565Z"
    }
   },
   "outputs": [],
   "source": [
    "## put into parser (format): DONE\n",
    "\n",
    "## calculate stats: number of rows affected by each type of mapping failure\n",
    "n_rows_no_data = df[\n",
    "    df[\"disease_mim\"].isin(stats_OmOr_mapping_failures[\"nodenorm_returned_none\"])\n",
    "].shape[0]\n",
    "n_rows_wrong_category = df[\n",
    "    df[\"disease_mim\"].isin(stats_OmOr_mapping_failures[\"wrong_category\"].keys())\n",
    "].shape[0]\n",
    "n_rows_no_label = df[\n",
    "    df[\"disease_mim\"].isin(stats_OmOr_mapping_failures[\"no_label\"])\n",
    "].shape[0]"
   ]
  },
  {
   "cell_type": "code",
   "execution_count": 41,
   "id": "2e81d56b",
   "metadata": {
    "ExecuteTime": {
     "end_time": "2025-04-15T23:40:24.948569Z",
     "start_time": "2025-04-15T23:40:24.939204Z"
    }
   },
   "outputs": [
    {
     "data": {
      "text/plain": [
       "2335"
      ]
     },
     "execution_count": 41,
     "metadata": {},
     "output_type": "execute_result"
    },
    {
     "data": {
      "text/plain": [
       "{}"
      ]
     },
     "execution_count": 41,
     "metadata": {},
     "output_type": "execute_result"
    },
    {
     "data": {
      "text/plain": [
       "39"
      ]
     },
     "execution_count": 41,
     "metadata": {},
     "output_type": "execute_result"
    },
    {
     "data": {
      "text/plain": [
       "26"
      ]
     },
     "execution_count": 41,
     "metadata": {},
     "output_type": "execute_result"
    },
    {
     "data": {
      "text/plain": [
       "3"
      ]
     },
     "execution_count": 41,
     "metadata": {},
     "output_type": "execute_result"
    }
   ],
   "source": [
    "len(OmOr_nodenorm_mapping)\n",
    "\n",
    "stats_OmOr_mapping_failures[\"unexpected_error\"]\n",
    "\n",
    "len(stats_OmOr_mapping_failures[\"nodenorm_returned_none\"])\n",
    "len(stats_OmOr_mapping_failures[\"wrong_category\"])\n",
    "len(stats_OmOr_mapping_failures[\"no_label\"])"
   ]
  },
  {
   "cell_type": "code",
   "execution_count": 42,
   "id": "77af9e52",
   "metadata": {
    "ExecuteTime": {
     "end_time": "2025-04-15T23:40:24.955277Z",
     "start_time": "2025-04-15T23:40:24.951103Z"
    }
   },
   "outputs": [
    {
     "data": {
      "text/plain": [
       "dict_keys(['OMIM:300153', 'OMIM:300171', 'OMIM:188400', 'OMIM:611579', 'OMIM:603707', 'OMIM:601789', 'OMIM:603360', 'OMIM:609413', 'OMIM:300197', 'OMIM:603164', 'OMIM:123580', 'OMIM:601758', 'OMIM:601498', 'OMIM:601791', 'OMIM:170993', 'OMIM:601893', 'OMIM:606525', 'OMIM:602859', 'OMIM:612082', 'OMIM:601757', 'OMIM:300204', 'OMIM:600112', 'OMIM:104155', 'OMIM:618615', 'OMIM:614281', 'OMIM:603718'])"
      ]
     },
     "execution_count": 42,
     "metadata": {},
     "output_type": "execute_result"
    }
   ],
   "source": [
    "## code used to review mapping failures \n",
    "\n",
    "# stats_OmOr_mapping_failures[\"nodenorm_returned_none\"]\n",
    "\n",
    "stats_OmOr_mapping_failures[\"wrong_category\"].keys()\n",
    "\n",
    "# stats_OmOr_mapping_failures[\"no_label\"]"
   ]
  },
  {
   "cell_type": "code",
   "execution_count": 43,
   "id": "fa7539a8",
   "metadata": {
    "ExecuteTime": {
     "end_time": "2025-04-15T23:40:24.960008Z",
     "start_time": "2025-04-15T23:40:24.957546Z"
    }
   },
   "outputs": [],
   "source": [
    "## code used to review mapping failures \n",
    "\n",
    "# df[df[\"disease_mim\"] == \"OMIM:613180\"]"
   ]
  },
  {
   "cell_type": "markdown",
   "id": "8a424998",
   "metadata": {},
   "source": [
    "<div class=\"alert alert-block alert-info\">\n",
    "\n",
    "**2025-02-28 data:**    \n",
    "    \n",
    "__Reviewed Disease OMIM/orphanet NodeNorm mapping failures__\n",
    "\n",
    "All were OMIM IDs, none were orphanet. \n",
    "    \n",
    "39 cases where NodeNorm returned None (didn't recognize/resolve ID). __I checked some (10)__:\n",
    "* 5: ID has been replaced/moved to a diff ID (OMIM:607236, OMIM:608890, OMIM:613180, OMIM:300706, OMIM:300141) -> emailed EBI gene2pheno\n",
    "* 3: ID doesn't exist (OMIM:249163, OMIM:319029, OMIM:237145) -> emailed EBI gene2pheno\n",
    "* 1: NodeNorm error - this is a valid disease ID that it should recognize (OMIM:133700) -> messaged NodeNorm\n",
    "* 1: valid ID, but it doesn't seem to be a disease. There may be better IDs out there (OMIM:601884) -> messaged NodeNorm, emailed EBI gene2pheno\n",
    "\n",
    "26 cases where NodeNorm category was something else (currently, always Gene). I checked all: \n",
    "* 25: NodeNorm is correct, this is a gene -> emailed EBI gene2pheno\n",
    "* 1: NodeNorm error - this is a valid disease ID (OMIM:188400) -> messaged NodeNorm\n",
    "    \n",
    "3 cases where NodeNorm didn't have a primary label. I checked all:\n",
    "* 2: NodeNorm error - these are valid disease IDs with labels (OMIM:620987, OMIM:620964) -> messaged NodeNorm\n",
    "* 1: valid ID, but it doesn't seem to be a disease (OMIM:300129). EBI gene2pheno shouldn't use, not sure it should be in NodeNorm -> messaged NodeNorm, emailed EBI gene2pheno\n",
    "    \n",
    "</div>"
   ]
  },
  {
   "cell_type": "code",
   "execution_count": 44,
   "id": "7a18bbdf",
   "metadata": {
    "ExecuteTime": {
     "end_time": "2025-04-15T23:40:24.965966Z",
     "start_time": "2025-04-15T23:40:24.962521Z"
    }
   },
   "outputs": [],
   "source": [
    "## code used to check for orphanet mapping failures \n",
    "\n",
    "for i in stats_OmOr_mapping_failures[\"nodenorm_returned_none\"]:\n",
    "    if \"orphanet\" in i:\n",
    "        print(i)\n",
    "        \n",
    "for i in stats_OmOr_mapping_failures[\"wrong_category\"].keys():\n",
    "    if \"orphanet\" in i:\n",
    "        print(i)\n",
    "\n",
    "for i in stats_OmOr_mapping_failures[\"no_label\"]:\n",
    "    if \"orphanet\" in i:\n",
    "        print(i)"
   ]
  },
  {
   "cell_type": "markdown",
   "id": "161a4c40",
   "metadata": {},
   "source": [
    "**2025-02-28 data:** \n",
    "\n",
    "No orphanet IDs were had mapping failures but I checked all (9) mappings anyways - they looked fine. "
   ]
  },
  {
   "cell_type": "code",
   "execution_count": 45,
   "id": "e90e26d5",
   "metadata": {
    "ExecuteTime": {
     "end_time": "2025-04-15T23:40:24.990345Z",
     "start_time": "2025-04-15T23:40:24.968246Z"
    }
   },
   "outputs": [
    {
     "data": {
      "text/html": [
       "<div>\n",
       "<style scoped>\n",
       "    .dataframe tbody tr th:only-of-type {\n",
       "        vertical-align: middle;\n",
       "    }\n",
       "\n",
       "    .dataframe tbody tr th {\n",
       "        vertical-align: top;\n",
       "    }\n",
       "\n",
       "    .dataframe thead th {\n",
       "        text-align: right;\n",
       "    }\n",
       "</style>\n",
       "<table border=\"1\" class=\"dataframe\">\n",
       "  <thead>\n",
       "    <tr style=\"text-align: right;\">\n",
       "      <th></th>\n",
       "      <th>g2p_id</th>\n",
       "      <th>gene_symbol</th>\n",
       "      <th>gene_mim</th>\n",
       "      <th>hgnc_id</th>\n",
       "      <th>previous_gene_symbols</th>\n",
       "      <th>disease_name</th>\n",
       "      <th>disease_mim</th>\n",
       "      <th>disease_MONDO</th>\n",
       "      <th>allelic_requirement</th>\n",
       "      <th>cross_cutting_modifier</th>\n",
       "      <th>confidence</th>\n",
       "      <th>variant_consequence</th>\n",
       "      <th>variant_types</th>\n",
       "      <th>molecular_mechanism</th>\n",
       "      <th>molecular_mechanism_categorisation</th>\n",
       "      <th>molecular_mechanism_evidence</th>\n",
       "      <th>phenotypes</th>\n",
       "      <th>publications</th>\n",
       "      <th>panel</th>\n",
       "      <th>comments</th>\n",
       "      <th>date_of_last_review</th>\n",
       "      <th>g2p_record_url</th>\n",
       "    </tr>\n",
       "  </thead>\n",
       "  <tbody>\n",
       "    <tr>\n",
       "      <th>1959</th>\n",
       "      <td>G2P02555</td>\n",
       "      <td>SMAD6</td>\n",
       "      <td>OMIM:602931</td>\n",
       "      <td>HGNC:6772</td>\n",
       "      <td>HST17432; MADH6; MADH7</td>\n",
       "      <td>SMAD6-related non-syndromic craniosynostosis</td>\n",
       "      <td>orphanet:139390</td>\n",
       "      <td>NaN</td>\n",
       "      <td>monoallelic_autosomal</td>\n",
       "      <td>NaN</td>\n",
       "      <td>limited</td>\n",
       "      <td>absent gene product</td>\n",
       "      <td>NaN</td>\n",
       "      <td>loss of function</td>\n",
       "      <td>inferred</td>\n",
       "      <td>NaN</td>\n",
       "      <td>HP:0001363</td>\n",
       "      <td>27606499; 28808027</td>\n",
       "      <td>Developmental disorders</td>\n",
       "      <td>NaN</td>\n",
       "      <td>2019-04-17 12:18:34+00:00</td>\n",
       "      <td>https://www.ebi.ac.uk/gene2phenotype/lgd/G2P02555</td>\n",
       "    </tr>\n",
       "    <tr>\n",
       "      <th>1968</th>\n",
       "      <td>G2P02564</td>\n",
       "      <td>TONSL</td>\n",
       "      <td>OMIM:604546</td>\n",
       "      <td>HGNC:7801</td>\n",
       "      <td>IKBR; NFKBIL2</td>\n",
       "      <td>TONSL-related sponastrime dysplasia</td>\n",
       "      <td>orphanet:93357</td>\n",
       "      <td>NaN</td>\n",
       "      <td>biallelic_autosomal</td>\n",
       "      <td>NaN</td>\n",
       "      <td>strong</td>\n",
       "      <td>absent gene product</td>\n",
       "      <td>NaN</td>\n",
       "      <td>loss of function</td>\n",
       "      <td>inferred</td>\n",
       "      <td>NaN</td>\n",
       "      <td>HP:0100255; HP:0002650; HP:0005281; HP:0004322</td>\n",
       "      <td>30773277; 30773278</td>\n",
       "      <td>Developmental disorders</td>\n",
       "      <td>NaN</td>\n",
       "      <td>2018-11-07 09:53:40+00:00</td>\n",
       "      <td>https://www.ebi.ac.uk/gene2phenotype/lgd/G2P02564</td>\n",
       "    </tr>\n",
       "    <tr>\n",
       "      <th>2792</th>\n",
       "      <td>G2P01819</td>\n",
       "      <td>RET</td>\n",
       "      <td>OMIM:164761</td>\n",
       "      <td>HGNC:9967</td>\n",
       "      <td>CDHF12; CDHR16; HSCR1; MEN2A; MEN2B; MTC1; PTC...</td>\n",
       "      <td>RET-related medullary thyroid carcinoma</td>\n",
       "      <td>orphanet:1332</td>\n",
       "      <td>NaN</td>\n",
       "      <td>monoallelic_autosomal</td>\n",
       "      <td>NaN</td>\n",
       "      <td>definitive</td>\n",
       "      <td>uncertain</td>\n",
       "      <td>NaN</td>\n",
       "      <td>undetermined</td>\n",
       "      <td>inferred</td>\n",
       "      <td>NaN</td>\n",
       "      <td>HP:0002865</td>\n",
       "      <td>10323403; 11454140; 14602786; 15240641; 950672...</td>\n",
       "      <td>Skin disorders; Cancer disorders</td>\n",
       "      <td>NaN</td>\n",
       "      <td>2017-09-01 16:19:16+00:00</td>\n",
       "      <td>https://www.ebi.ac.uk/gene2phenotype/lgd/G2P01819</td>\n",
       "    </tr>\n",
       "    <tr>\n",
       "      <th>2913</th>\n",
       "      <td>G2P02669</td>\n",
       "      <td>INSR</td>\n",
       "      <td>OMIM:147670</td>\n",
       "      <td>HGNC:6091</td>\n",
       "      <td>CD220</td>\n",
       "      <td>INSR-related leprechaunism</td>\n",
       "      <td>orphanet:508</td>\n",
       "      <td>NaN</td>\n",
       "      <td>biallelic_autosomal</td>\n",
       "      <td>NaN</td>\n",
       "      <td>definitive</td>\n",
       "      <td>absent gene product</td>\n",
       "      <td>NaN</td>\n",
       "      <td>loss of function</td>\n",
       "      <td>inferred</td>\n",
       "      <td>NaN</td>\n",
       "      <td>HP:0000924; HP:0008897; HP:0003202; HP:0003162...</td>\n",
       "      <td>8105179; 7815442</td>\n",
       "      <td>Skin disorders</td>\n",
       "      <td>NaN</td>\n",
       "      <td>2019-09-16 15:47:00+00:00</td>\n",
       "      <td>https://www.ebi.ac.uk/gene2phenotype/lgd/G2P02669</td>\n",
       "    </tr>\n",
       "    <tr>\n",
       "      <th>3143</th>\n",
       "      <td>G2P03354</td>\n",
       "      <td>SEC23B</td>\n",
       "      <td>OMIM:610512</td>\n",
       "      <td>HGNC:10702</td>\n",
       "      <td>CDA-II; CDAII; CDAN2; HEMPAS</td>\n",
       "      <td>SEC23B-related Cowden syndrome</td>\n",
       "      <td>orphanet:201</td>\n",
       "      <td>NaN</td>\n",
       "      <td>monoallelic_autosomal</td>\n",
       "      <td>NaN</td>\n",
       "      <td>limited</td>\n",
       "      <td>uncertain</td>\n",
       "      <td>NaN</td>\n",
       "      <td>gain of function</td>\n",
       "      <td>inferred</td>\n",
       "      <td>NaN</td>\n",
       "      <td>HP:0012846; HP:0005584; HP:0500009; HP:0012114...</td>\n",
       "      <td>26522472</td>\n",
       "      <td>Cancer disorders</td>\n",
       "      <td>NaN</td>\n",
       "      <td>2022-11-30 08:49:50+00:00</td>\n",
       "      <td>https://www.ebi.ac.uk/gene2phenotype/lgd/G2P03354</td>\n",
       "    </tr>\n",
       "    <tr>\n",
       "      <th>3316</th>\n",
       "      <td>G2P02001</td>\n",
       "      <td>RCBTB1</td>\n",
       "      <td>OMIM:607867</td>\n",
       "      <td>HGNC:18243</td>\n",
       "      <td>CLLD7; CLLL7; FLJ10716</td>\n",
       "      <td>RCBTB1-related familial exudative vitreoretino...</td>\n",
       "      <td>orphanet:891</td>\n",
       "      <td>NaN</td>\n",
       "      <td>monoallelic_autosomal</td>\n",
       "      <td>NaN</td>\n",
       "      <td>limited</td>\n",
       "      <td>altered gene product structure</td>\n",
       "      <td>inframe_insertion; inframe_deletion; missense_...</td>\n",
       "      <td>undetermined</td>\n",
       "      <td>inferred</td>\n",
       "      <td>NaN</td>\n",
       "      <td>HP:0001141; HP:0012231; HP:0003829; HP:0000541...</td>\n",
       "      <td>26908610</td>\n",
       "      <td>Eye disorders</td>\n",
       "      <td>NaN</td>\n",
       "      <td>2017-06-11 18:14:48+00:00</td>\n",
       "      <td>https://www.ebi.ac.uk/gene2phenotype/lgd/G2P02001</td>\n",
       "    </tr>\n",
       "    <tr>\n",
       "      <th>3496</th>\n",
       "      <td>G2P02222</td>\n",
       "      <td>REV3L</td>\n",
       "      <td>OMIM:602776</td>\n",
       "      <td>HGNC:9968</td>\n",
       "      <td>POLZ; REV3</td>\n",
       "      <td>REV3L-related Moebius syndrome</td>\n",
       "      <td>orphanet:570</td>\n",
       "      <td>NaN</td>\n",
       "      <td>monoallelic_autosomal</td>\n",
       "      <td>NaN</td>\n",
       "      <td>limited</td>\n",
       "      <td>uncertain</td>\n",
       "      <td>NaN</td>\n",
       "      <td>undetermined</td>\n",
       "      <td>inferred</td>\n",
       "      <td>NaN</td>\n",
       "      <td>NaN</td>\n",
       "      <td>26068067</td>\n",
       "      <td>Eye disorders</td>\n",
       "      <td>NaN</td>\n",
       "      <td>2017-08-30 12:00:00+00:00</td>\n",
       "      <td>https://www.ebi.ac.uk/gene2phenotype/lgd/G2P02222</td>\n",
       "    </tr>\n",
       "    <tr>\n",
       "      <th>3538</th>\n",
       "      <td>G2P02286</td>\n",
       "      <td>TMEM98</td>\n",
       "      <td>OMIM:615949</td>\n",
       "      <td>HGNC:24529</td>\n",
       "      <td>DKFZP564K1964</td>\n",
       "      <td>TMEM98-related nanophthalmos</td>\n",
       "      <td>orphanet:35612</td>\n",
       "      <td>NaN</td>\n",
       "      <td>monoallelic_autosomal</td>\n",
       "      <td>NaN</td>\n",
       "      <td>strong</td>\n",
       "      <td>uncertain</td>\n",
       "      <td>NaN</td>\n",
       "      <td>undetermined</td>\n",
       "      <td>inferred</td>\n",
       "      <td>NaN</td>\n",
       "      <td>NaN</td>\n",
       "      <td>24852644; 26392740</td>\n",
       "      <td>Eye disorders</td>\n",
       "      <td>NaN</td>\n",
       "      <td>2017-08-31 13:26:51+00:00</td>\n",
       "      <td>https://www.ebi.ac.uk/gene2phenotype/lgd/G2P02286</td>\n",
       "    </tr>\n",
       "    <tr>\n",
       "      <th>3619</th>\n",
       "      <td>G2P02426</td>\n",
       "      <td>TENM3</td>\n",
       "      <td>OMIM:610083</td>\n",
       "      <td>HGNC:29944</td>\n",
       "      <td>KIAA1455; ODZ3; TEN-M3; TEN3</td>\n",
       "      <td>TENM3-related colobomatous microphthalmia</td>\n",
       "      <td>orphanet:98938</td>\n",
       "      <td>NaN</td>\n",
       "      <td>biallelic_autosomal</td>\n",
       "      <td>NaN</td>\n",
       "      <td>strong</td>\n",
       "      <td>absent gene product</td>\n",
       "      <td>NaN</td>\n",
       "      <td>loss of function</td>\n",
       "      <td>inferred</td>\n",
       "      <td>NaN</td>\n",
       "      <td>HP:0000565; HP:0000568; HP:0000589; HP:0000567...</td>\n",
       "      <td>29753094; 27103084; 22766609</td>\n",
       "      <td>Eye disorders</td>\n",
       "      <td>NaN</td>\n",
       "      <td>2018-05-25 09:59:48+00:00</td>\n",
       "      <td>https://www.ebi.ac.uk/gene2phenotype/lgd/G2P02426</td>\n",
       "    </tr>\n",
       "  </tbody>\n",
       "</table>\n",
       "</div>"
      ],
      "text/plain": [
       "        g2p_id gene_symbol     gene_mim     hgnc_id  \\\n",
       "1959  G2P02555       SMAD6  OMIM:602931   HGNC:6772   \n",
       "1968  G2P02564       TONSL  OMIM:604546   HGNC:7801   \n",
       "2792  G2P01819         RET  OMIM:164761   HGNC:9967   \n",
       "2913  G2P02669        INSR  OMIM:147670   HGNC:6091   \n",
       "3143  G2P03354      SEC23B  OMIM:610512  HGNC:10702   \n",
       "3316  G2P02001      RCBTB1  OMIM:607867  HGNC:18243   \n",
       "3496  G2P02222       REV3L  OMIM:602776   HGNC:9968   \n",
       "3538  G2P02286      TMEM98  OMIM:615949  HGNC:24529   \n",
       "3619  G2P02426       TENM3  OMIM:610083  HGNC:29944   \n",
       "\n",
       "                                  previous_gene_symbols  \\\n",
       "1959                             HST17432; MADH6; MADH7   \n",
       "1968                                      IKBR; NFKBIL2   \n",
       "2792  CDHF12; CDHR16; HSCR1; MEN2A; MEN2B; MTC1; PTC...   \n",
       "2913                                              CD220   \n",
       "3143                       CDA-II; CDAII; CDAN2; HEMPAS   \n",
       "3316                             CLLD7; CLLL7; FLJ10716   \n",
       "3496                                         POLZ; REV3   \n",
       "3538                                      DKFZP564K1964   \n",
       "3619                       KIAA1455; ODZ3; TEN-M3; TEN3   \n",
       "\n",
       "                                           disease_name      disease_mim  \\\n",
       "1959       SMAD6-related non-syndromic craniosynostosis  orphanet:139390   \n",
       "1968                TONSL-related sponastrime dysplasia   orphanet:93357   \n",
       "2792            RET-related medullary thyroid carcinoma    orphanet:1332   \n",
       "2913                         INSR-related leprechaunism     orphanet:508   \n",
       "3143                     SEC23B-related Cowden syndrome     orphanet:201   \n",
       "3316  RCBTB1-related familial exudative vitreoretino...     orphanet:891   \n",
       "3496                     REV3L-related Moebius syndrome     orphanet:570   \n",
       "3538                       TMEM98-related nanophthalmos   orphanet:35612   \n",
       "3619          TENM3-related colobomatous microphthalmia   orphanet:98938   \n",
       "\n",
       "     disease_MONDO    allelic_requirement cross_cutting_modifier  confidence  \\\n",
       "1959           NaN  monoallelic_autosomal                    NaN     limited   \n",
       "1968           NaN    biallelic_autosomal                    NaN      strong   \n",
       "2792           NaN  monoallelic_autosomal                    NaN  definitive   \n",
       "2913           NaN    biallelic_autosomal                    NaN  definitive   \n",
       "3143           NaN  monoallelic_autosomal                    NaN     limited   \n",
       "3316           NaN  monoallelic_autosomal                    NaN     limited   \n",
       "3496           NaN  monoallelic_autosomal                    NaN     limited   \n",
       "3538           NaN  monoallelic_autosomal                    NaN      strong   \n",
       "3619           NaN    biallelic_autosomal                    NaN      strong   \n",
       "\n",
       "                 variant_consequence  \\\n",
       "1959             absent gene product   \n",
       "1968             absent gene product   \n",
       "2792                       uncertain   \n",
       "2913             absent gene product   \n",
       "3143                       uncertain   \n",
       "3316  altered gene product structure   \n",
       "3496                       uncertain   \n",
       "3538                       uncertain   \n",
       "3619             absent gene product   \n",
       "\n",
       "                                          variant_types molecular_mechanism  \\\n",
       "1959                                                NaN    loss of function   \n",
       "1968                                                NaN    loss of function   \n",
       "2792                                                NaN        undetermined   \n",
       "2913                                                NaN    loss of function   \n",
       "3143                                                NaN    gain of function   \n",
       "3316  inframe_insertion; inframe_deletion; missense_...        undetermined   \n",
       "3496                                                NaN        undetermined   \n",
       "3538                                                NaN        undetermined   \n",
       "3619                                                NaN    loss of function   \n",
       "\n",
       "     molecular_mechanism_categorisation molecular_mechanism_evidence  \\\n",
       "1959                           inferred                          NaN   \n",
       "1968                           inferred                          NaN   \n",
       "2792                           inferred                          NaN   \n",
       "2913                           inferred                          NaN   \n",
       "3143                           inferred                          NaN   \n",
       "3316                           inferred                          NaN   \n",
       "3496                           inferred                          NaN   \n",
       "3538                           inferred                          NaN   \n",
       "3619                           inferred                          NaN   \n",
       "\n",
       "                                             phenotypes  \\\n",
       "1959                                         HP:0001363   \n",
       "1968     HP:0100255; HP:0002650; HP:0005281; HP:0004322   \n",
       "2792                                         HP:0002865   \n",
       "2913  HP:0000924; HP:0008897; HP:0003202; HP:0003162...   \n",
       "3143  HP:0012846; HP:0005584; HP:0500009; HP:0012114...   \n",
       "3316  HP:0001141; HP:0012231; HP:0003829; HP:0000541...   \n",
       "3496                                                NaN   \n",
       "3538                                                NaN   \n",
       "3619  HP:0000565; HP:0000568; HP:0000589; HP:0000567...   \n",
       "\n",
       "                                           publications  \\\n",
       "1959                                 27606499; 28808027   \n",
       "1968                                 30773277; 30773278   \n",
       "2792  10323403; 11454140; 14602786; 15240641; 950672...   \n",
       "2913                                   8105179; 7815442   \n",
       "3143                                           26522472   \n",
       "3316                                           26908610   \n",
       "3496                                           26068067   \n",
       "3538                                 24852644; 26392740   \n",
       "3619                       29753094; 27103084; 22766609   \n",
       "\n",
       "                                 panel comments       date_of_last_review  \\\n",
       "1959           Developmental disorders      NaN 2019-04-17 12:18:34+00:00   \n",
       "1968           Developmental disorders      NaN 2018-11-07 09:53:40+00:00   \n",
       "2792  Skin disorders; Cancer disorders      NaN 2017-09-01 16:19:16+00:00   \n",
       "2913                    Skin disorders      NaN 2019-09-16 15:47:00+00:00   \n",
       "3143                  Cancer disorders      NaN 2022-11-30 08:49:50+00:00   \n",
       "3316                     Eye disorders      NaN 2017-06-11 18:14:48+00:00   \n",
       "3496                     Eye disorders      NaN 2017-08-30 12:00:00+00:00   \n",
       "3538                     Eye disorders      NaN 2017-08-31 13:26:51+00:00   \n",
       "3619                     Eye disorders      NaN 2018-05-25 09:59:48+00:00   \n",
       "\n",
       "                                         g2p_record_url  \n",
       "1959  https://www.ebi.ac.uk/gene2phenotype/lgd/G2P02555  \n",
       "1968  https://www.ebi.ac.uk/gene2phenotype/lgd/G2P02564  \n",
       "2792  https://www.ebi.ac.uk/gene2phenotype/lgd/G2P01819  \n",
       "2913  https://www.ebi.ac.uk/gene2phenotype/lgd/G2P02669  \n",
       "3143  https://www.ebi.ac.uk/gene2phenotype/lgd/G2P03354  \n",
       "3316  https://www.ebi.ac.uk/gene2phenotype/lgd/G2P02001  \n",
       "3496  https://www.ebi.ac.uk/gene2phenotype/lgd/G2P02222  \n",
       "3538  https://www.ebi.ac.uk/gene2phenotype/lgd/G2P02286  \n",
       "3619  https://www.ebi.ac.uk/gene2phenotype/lgd/G2P02426  "
      ]
     },
     "execution_count": 45,
     "metadata": {},
     "output_type": "execute_result"
    }
   ],
   "source": [
    "df[df[\"disease_mim\"].str.contains(\"orphanet\", na=False)]"
   ]
  },
  {
   "cell_type": "code",
   "execution_count": 46,
   "id": "90389c39",
   "metadata": {
    "ExecuteTime": {
     "end_time": "2025-04-15T23:40:24.998611Z",
     "start_time": "2025-04-15T23:40:24.992805Z"
    }
   },
   "outputs": [
    {
     "data": {
      "text/plain": [
       "{'primary_id': 'MONDO:0015277',\n",
       " 'primary_label': 'medullary thyroid gland carcinoma'}"
      ]
     },
     "execution_count": 46,
     "metadata": {},
     "output_type": "execute_result"
    }
   ],
   "source": [
    "OmOr_nodenorm_mapping[\"orphanet:1332\"]"
   ]
  },
  {
   "cell_type": "markdown",
   "id": "9048bf0b",
   "metadata": {},
   "source": [
    "<div class=\"alert alert-block alert-success\">\n",
    "\n",
    "**2025-03-28 data:** \n",
    "    \n",
    "I decided <b>not to try using MONDO mappings when the OMIM mapping failed</b>, because there's only a few cases where those rows even have MONDO IDs to use. \n",
    "\n",
    "* nodenorm_returned_none (39): none have MONDO\n",
    "* wrong_category (26): only 2 have MONDO\n",
    "* no_label (3): none have MONDO"
   ]
  },
  {
   "cell_type": "code",
   "execution_count": 47,
   "id": "98f75765",
   "metadata": {
    "ExecuteTime": {
     "end_time": "2025-04-15T23:40:25.018763Z",
     "start_time": "2025-04-15T23:40:25.002042Z"
    }
   },
   "outputs": [
    {
     "data": {
      "text/plain": [
       "(0, 22)"
      ]
     },
     "execution_count": 47,
     "metadata": {},
     "output_type": "execute_result"
    },
    {
     "data": {
      "text/plain": [
       "(2, 22)"
      ]
     },
     "execution_count": 47,
     "metadata": {},
     "output_type": "execute_result"
    },
    {
     "data": {
      "text/plain": [
       "(0, 22)"
      ]
     },
     "execution_count": 47,
     "metadata": {},
     "output_type": "execute_result"
    }
   ],
   "source": [
    "## code used to check how many rows have OMIM failure + MONDO ID \n",
    "\n",
    "df[df[\"disease_mim\"].isin(stats_OmOr_mapping_failures[\"nodenorm_returned_none\"]) & \n",
    "   df[\"disease_MONDO\"].notna()].shape\n",
    "\n",
    "df[df[\"disease_mim\"].isin(stats_OmOr_mapping_failures[\"wrong_category\"].keys()) & \n",
    "   df[\"disease_MONDO\"].notna()].shape\n",
    "\n",
    "df[df[\"disease_mim\"].isin(stats_OmOr_mapping_failures[\"no_label\"]) & \n",
    "   df[\"disease_MONDO\"].notna()].shape"
   ]
  },
  {
   "cell_type": "markdown",
   "id": "913e54f4",
   "metadata": {},
   "source": [
    "#### MONDO"
   ]
  },
  {
   "cell_type": "markdown",
   "id": "b0ddd6ee",
   "metadata": {},
   "source": [
    "__Running MONDO IDs through NodeNorm__\n",
    "\n",
    "Catching potential mapping failures for later stats report\n",
    "\n",
    "Pasted, adjusted from Disease OMIM/orphanet code blocks above."
   ]
  },
  {
   "cell_type": "code",
   "execution_count": 48,
   "id": "c920a622",
   "metadata": {
    "ExecuteTime": {
     "end_time": "2025-04-15T23:40:25.025935Z",
     "start_time": "2025-04-15T23:40:25.021052Z"
    }
   },
   "outputs": [
    {
     "data": {
      "text/plain": [
       "383"
      ]
     },
     "execution_count": 48,
     "metadata": {},
     "output_type": "execute_result"
    }
   ],
   "source": [
    "## get set of unique CURIEs to put into NodeNorm\n",
    "mondo = df[\"disease_MONDO\"].dropna().unique()\n",
    "len(mondo)"
   ]
  },
  {
   "cell_type": "code",
   "execution_count": 49,
   "id": "673d2dca",
   "metadata": {
    "ExecuteTime": {
     "end_time": "2025-04-15T23:40:25.031060Z",
     "start_time": "2025-04-15T23:40:25.028213Z"
    }
   },
   "outputs": [],
   "source": [
    "mondo_nodenorm_mapping = {}\n",
    "\n",
    "## set up variables to catch mapping failures\n",
    "stats_mondo_mapping_failures = {\n",
    "    \"unexpected_error\": {},\n",
    "    \"nodenorm_returned_none\": [],\n",
    "    \"wrong_category\": {},\n",
    "    \"no_label\": []\n",
    "    \n",
    "}"
   ]
  },
  {
   "cell_type": "code",
   "execution_count": 50,
   "id": "747ab750",
   "metadata": {
    "ExecuteTime": {
     "end_time": "2025-04-15T23:40:26.158926Z",
     "start_time": "2025-04-15T23:40:25.033567Z"
    }
   },
   "outputs": [],
   "source": [
    "## larger batches are quicker\n",
    "for batch in batched(mondo, 1000):\n",
    "    ## returns tuples -> cast to list\n",
    "    req_body = {\n",
    "        \"curies\": list(batch),\n",
    "        \"conflate\": True,\n",
    "    }\n",
    "    r = requests.post(nodenorm_url, json=req_body)\n",
    "    response = r.json()\n",
    "    \n",
    "    ## not doing dict comprehension. allows easier review, logic writing\n",
    "    for k,v in response.items():\n",
    "        ## catch unexpected errors\n",
    "        try:\n",
    "            ## if NodeNorm didn't have info on this ID, v will be None\n",
    "            if v is not None:\n",
    "                ## don't keep mapping if category is not the expected one\n",
    "                if v[\"type\"][0] == \"biolink:Disease\":\n",
    "                    ## also throw out mapping if no primary label found\n",
    "                    if v[\"id\"].get(\"label\"):\n",
    "                        temp = {\n",
    "                            k: {\"primary_id\": v[\"id\"][\"identifier\"],\n",
    "                                \"primary_label\": v[\"id\"][\"label\"]\n",
    "                               }\n",
    "                        }\n",
    "                        mondo_nodenorm_mapping.update(temp)\n",
    "                    else:\n",
    "                        stats_mondo_mapping_failures[\"no_label\"].append(k)\n",
    "#                         print(f\"{k}: NodeNorm didn't find primary label. Not keeping this mapping.\")\n",
    "                else:\n",
    "                    stats_mondo_mapping_failures[\"wrong_category\"].update({k: v[\"type\"][0]})\n",
    "#                     print(f'{k}: NodeNorm found different category {v[\"type\"][0]}. Not keeping this mapping.')\n",
    "            else:\n",
    "                stats_mondo_mapping_failures[\"nodenorm_returned_none\"].append(k)\n",
    "#                 print(f\"{k}: NodeNorm didn't recognize this ID\")\n",
    "        except:\n",
    "            stats_mondo_mapping_failures[\"unexpected_error\"].update({k: v})\n",
    "            print(f'Encountered an unexpected error.')\n",
    "            print(f'NodeNorm response key: {k}')\n",
    "            print(f'NodeNorm response value: {v}')"
   ]
  },
  {
   "cell_type": "code",
   "execution_count": 51,
   "id": "ed2380a5",
   "metadata": {
    "ExecuteTime": {
     "end_time": "2025-04-15T23:40:26.167768Z",
     "start_time": "2025-04-15T23:40:26.161176Z"
    }
   },
   "outputs": [
    {
     "data": {
      "text/plain": [
       "383"
      ]
     },
     "execution_count": 51,
     "metadata": {},
     "output_type": "execute_result"
    },
    {
     "data": {
      "text/plain": [
       "{'unexpected_error': {},\n",
       " 'nodenorm_returned_none': [],\n",
       " 'wrong_category': {},\n",
       " 'no_label': []}"
      ]
     },
     "execution_count": 51,
     "metadata": {},
     "output_type": "execute_result"
    }
   ],
   "source": [
    "len(mondo_nodenorm_mapping)\n",
    "\n",
    "stats_mondo_mapping_failures"
   ]
  },
  {
   "cell_type": "markdown",
   "id": "f900c94a",
   "metadata": {},
   "source": [
    "#### Comparing OMIM/orphanet vs MONDO"
   ]
  },
  {
   "cell_type": "code",
   "execution_count": 52,
   "id": "32763357",
   "metadata": {
    "ExecuteTime": {
     "end_time": "2025-04-15T23:40:26.181680Z",
     "start_time": "2025-04-15T23:40:26.170863Z"
    }
   },
   "outputs": [
    {
     "name": "stdout",
     "output_type": "stream",
     "text": [
      "There's 22 mismatches between the OMIM/orphanet and MONDO NodeNorm mappings.\n"
     ]
    }
   ],
   "source": [
    "## if row has both IDs, look for diff in mappings from each ID\n",
    "\n",
    "## list of tuples (omim/orpha, mondo)\n",
    "mismatches = []\n",
    "\n",
    "for row in df[[\"disease_mim\", \"disease_MONDO\"]].itertuples(index=False):\n",
    "    ## has both IDs\n",
    "    if pd.notna(row.disease_mim) and pd.notna(row.disease_MONDO):\n",
    "        ## if have NodeNorm mappings for both\n",
    "        if OmOr_nodenorm_mapping.get(row.disease_mim) and \\\n",
    "        mondo_nodenorm_mapping.get(row.disease_MONDO):\n",
    "            ## check if mappings are diff\n",
    "            if OmOr_nodenorm_mapping[row.disease_mim][\"primary_id\"] != \\\n",
    "            mondo_nodenorm_mapping[row.disease_MONDO][\"primary_id\"]:\n",
    "                mismatches.append((row.disease_mim, row.disease_MONDO))\n",
    "\n",
    "print(f\"There's {len(mismatches)} mismatches between the OMIM/orphanet and MONDO NodeNorm mappings.\")"
   ]
  },
  {
   "cell_type": "code",
   "execution_count": 53,
   "id": "d1e6d632",
   "metadata": {
    "ExecuteTime": {
     "end_time": "2025-04-15T23:40:26.188643Z",
     "start_time": "2025-04-15T23:40:26.184591Z"
    }
   },
   "outputs": [
    {
     "data": {
      "text/plain": [
       "('OMIM:175800', 'MONDO:0006602')"
      ]
     },
     "execution_count": 53,
     "metadata": {},
     "output_type": "execute_result"
    }
   ],
   "source": [
    "## code chunk to review mismatches 1 by 1\n",
    "mismatches[21]"
   ]
  },
  {
   "cell_type": "code",
   "execution_count": 54,
   "id": "67e5a562",
   "metadata": {
    "ExecuteTime": {
     "end_time": "2025-04-15T23:40:26.196439Z",
     "start_time": "2025-04-15T23:40:26.191176Z"
    }
   },
   "outputs": [
    {
     "data": {
      "text/plain": [
       "{'primary_id': 'MONDO:0008290',\n",
       " 'primary_label': 'porokeratosis 1, Mibelli type'}"
      ]
     },
     "execution_count": 54,
     "metadata": {},
     "output_type": "execute_result"
    },
    {
     "data": {
      "text/plain": [
       "{'primary_id': 'MONDO:0006602', 'primary_label': 'porokeratosis'}"
      ]
     },
     "execution_count": 54,
     "metadata": {},
     "output_type": "execute_result"
    }
   ],
   "source": [
    "## code chunk to review mismatches 1 by 1\n",
    "\n",
    "OmOr_nodenorm_mapping[\"OMIM:175800\"]\n",
    "mondo_nodenorm_mapping[\"MONDO:0006602\"]"
   ]
  },
  {
   "cell_type": "code",
   "execution_count": 55,
   "id": "9523c561",
   "metadata": {
    "ExecuteTime": {
     "end_time": "2025-04-15T23:40:26.231081Z",
     "start_time": "2025-04-15T23:40:26.198707Z"
    },
    "scrolled": false
   },
   "outputs": [
    {
     "data": {
      "text/html": [
       "<div>\n",
       "<style scoped>\n",
       "    .dataframe tbody tr th:only-of-type {\n",
       "        vertical-align: middle;\n",
       "    }\n",
       "\n",
       "    .dataframe tbody tr th {\n",
       "        vertical-align: top;\n",
       "    }\n",
       "\n",
       "    .dataframe thead th {\n",
       "        text-align: right;\n",
       "    }\n",
       "</style>\n",
       "<table border=\"1\" class=\"dataframe\">\n",
       "  <thead>\n",
       "    <tr style=\"text-align: right;\">\n",
       "      <th></th>\n",
       "      <th>g2p_id</th>\n",
       "      <th>gene_symbol</th>\n",
       "      <th>gene_mim</th>\n",
       "      <th>hgnc_id</th>\n",
       "      <th>previous_gene_symbols</th>\n",
       "      <th>disease_name</th>\n",
       "      <th>disease_mim</th>\n",
       "      <th>disease_MONDO</th>\n",
       "      <th>allelic_requirement</th>\n",
       "      <th>cross_cutting_modifier</th>\n",
       "      <th>confidence</th>\n",
       "      <th>variant_consequence</th>\n",
       "      <th>variant_types</th>\n",
       "      <th>molecular_mechanism</th>\n",
       "      <th>molecular_mechanism_categorisation</th>\n",
       "      <th>molecular_mechanism_evidence</th>\n",
       "      <th>phenotypes</th>\n",
       "      <th>publications</th>\n",
       "      <th>panel</th>\n",
       "      <th>comments</th>\n",
       "      <th>date_of_last_review</th>\n",
       "      <th>g2p_record_url</th>\n",
       "    </tr>\n",
       "  </thead>\n",
       "  <tbody>\n",
       "    <tr>\n",
       "      <th>2524</th>\n",
       "      <td>G2P03293</td>\n",
       "      <td>FHL1</td>\n",
       "      <td>OMIM:300163</td>\n",
       "      <td>HGNC:3702</td>\n",
       "      <td>BA535K18.1; FHL1B; FLH1A; KYO-T; MGC111107; SL...</td>\n",
       "      <td>FHL1-related Emery-Dreifuss muscular dystrophy</td>\n",
       "      <td>OMIM:300696</td>\n",
       "      <td>MONDO:0010680</td>\n",
       "      <td>monoallelic_X_hemizygous</td>\n",
       "      <td>NaN</td>\n",
       "      <td>definitive</td>\n",
       "      <td>decreased gene product level; absent gene prod...</td>\n",
       "      <td>stop_gained_NMD_escaping; stop_lost; splice_re...</td>\n",
       "      <td>loss of function</td>\n",
       "      <td>inferred</td>\n",
       "      <td>NaN</td>\n",
       "      <td>HP:0003306; HP:0003704; HP:0003805; HP:0003676...</td>\n",
       "      <td>18179888; 19687455; 30681346; 19716112; 201868...</td>\n",
       "      <td>Developmental disorders; Cardiac disorders</td>\n",
       "      <td>Expert review done on 12/01/2022; FHL1-related...</td>\n",
       "      <td>2024-03-26 10:33:21+00:00</td>\n",
       "      <td>https://www.ebi.ac.uk/gene2phenotype/lgd/G2P03293</td>\n",
       "    </tr>\n",
       "  </tbody>\n",
       "</table>\n",
       "</div>"
      ],
      "text/plain": [
       "        g2p_id gene_symbol     gene_mim    hgnc_id  \\\n",
       "2524  G2P03293        FHL1  OMIM:300163  HGNC:3702   \n",
       "\n",
       "                                  previous_gene_symbols  \\\n",
       "2524  BA535K18.1; FHL1B; FLH1A; KYO-T; MGC111107; SL...   \n",
       "\n",
       "                                        disease_name  disease_mim  \\\n",
       "2524  FHL1-related Emery-Dreifuss muscular dystrophy  OMIM:300696   \n",
       "\n",
       "      disease_MONDO       allelic_requirement cross_cutting_modifier  \\\n",
       "2524  MONDO:0010680  monoallelic_X_hemizygous                    NaN   \n",
       "\n",
       "      confidence                                variant_consequence  \\\n",
       "2524  definitive  decreased gene product level; absent gene prod...   \n",
       "\n",
       "                                          variant_types molecular_mechanism  \\\n",
       "2524  stop_gained_NMD_escaping; stop_lost; splice_re...    loss of function   \n",
       "\n",
       "     molecular_mechanism_categorisation molecular_mechanism_evidence  \\\n",
       "2524                           inferred                          NaN   \n",
       "\n",
       "                                             phenotypes  \\\n",
       "2524  HP:0003306; HP:0003704; HP:0003805; HP:0003676...   \n",
       "\n",
       "                                           publications  \\\n",
       "2524  18179888; 19687455; 30681346; 19716112; 201868...   \n",
       "\n",
       "                                           panel  \\\n",
       "2524  Developmental disorders; Cardiac disorders   \n",
       "\n",
       "                                               comments  \\\n",
       "2524  Expert review done on 12/01/2022; FHL1-related...   \n",
       "\n",
       "           date_of_last_review  \\\n",
       "2524 2024-03-26 10:33:21+00:00   \n",
       "\n",
       "                                         g2p_record_url  \n",
       "2524  https://www.ebi.ac.uk/gene2phenotype/lgd/G2P03293  "
      ]
     },
     "execution_count": 55,
     "metadata": {},
     "output_type": "execute_result"
    },
    {
     "data": {
      "text/html": [
       "<div>\n",
       "<style scoped>\n",
       "    .dataframe tbody tr th:only-of-type {\n",
       "        vertical-align: middle;\n",
       "    }\n",
       "\n",
       "    .dataframe tbody tr th {\n",
       "        vertical-align: top;\n",
       "    }\n",
       "\n",
       "    .dataframe thead th {\n",
       "        text-align: right;\n",
       "    }\n",
       "</style>\n",
       "<table border=\"1\" class=\"dataframe\">\n",
       "  <thead>\n",
       "    <tr style=\"text-align: right;\">\n",
       "      <th></th>\n",
       "      <th>g2p_id</th>\n",
       "      <th>gene_symbol</th>\n",
       "      <th>gene_mim</th>\n",
       "      <th>hgnc_id</th>\n",
       "      <th>previous_gene_symbols</th>\n",
       "      <th>disease_name</th>\n",
       "      <th>disease_mim</th>\n",
       "      <th>disease_MONDO</th>\n",
       "      <th>allelic_requirement</th>\n",
       "      <th>cross_cutting_modifier</th>\n",
       "      <th>confidence</th>\n",
       "      <th>variant_consequence</th>\n",
       "      <th>variant_types</th>\n",
       "      <th>molecular_mechanism</th>\n",
       "      <th>molecular_mechanism_categorisation</th>\n",
       "      <th>molecular_mechanism_evidence</th>\n",
       "      <th>phenotypes</th>\n",
       "      <th>publications</th>\n",
       "      <th>panel</th>\n",
       "      <th>comments</th>\n",
       "      <th>date_of_last_review</th>\n",
       "      <th>g2p_record_url</th>\n",
       "    </tr>\n",
       "  </thead>\n",
       "  <tbody>\n",
       "    <tr>\n",
       "      <th>122</th>\n",
       "      <td>G2P00126</td>\n",
       "      <td>ACTB</td>\n",
       "      <td>OMIM:102630</td>\n",
       "      <td>HGNC:132</td>\n",
       "      <td>NaN</td>\n",
       "      <td>ACTB-related Baraitser-Winter syndrome</td>\n",
       "      <td>OMIM:243310</td>\n",
       "      <td>MONDO:0013812</td>\n",
       "      <td>monoallelic_autosomal</td>\n",
       "      <td>restricted mutation set</td>\n",
       "      <td>definitive</td>\n",
       "      <td>altered gene product structure</td>\n",
       "      <td>inframe_insertion; inframe_deletion; missense_...</td>\n",
       "      <td>gain of function</td>\n",
       "      <td>inferred</td>\n",
       "      <td>NaN</td>\n",
       "      <td>HP:0001274; HP:0002162; HP:0008897; HP:0005487...</td>\n",
       "      <td>22366783; 25052316; 27625340; 38592426; 34970860</td>\n",
       "      <td>Developmental disorders; Eye disorders</td>\n",
       "      <td>NaN</td>\n",
       "      <td>2015-07-22 16:14:17+00:00</td>\n",
       "      <td>https://www.ebi.ac.uk/gene2phenotype/lgd/G2P00126</td>\n",
       "    </tr>\n",
       "    <tr>\n",
       "      <th>1610</th>\n",
       "      <td>G2P01638</td>\n",
       "      <td>ACTG1</td>\n",
       "      <td>OMIM:102560</td>\n",
       "      <td>HGNC:144</td>\n",
       "      <td>ACTG; DFNA20; DFNA26</td>\n",
       "      <td>ACTG1-related Baraitser-Winter syndrome</td>\n",
       "      <td>OMIM:614583</td>\n",
       "      <td>MONDO:0013812</td>\n",
       "      <td>monoallelic_autosomal</td>\n",
       "      <td>restricted mutation set</td>\n",
       "      <td>definitive</td>\n",
       "      <td>altered gene product structure</td>\n",
       "      <td>inframe_insertion; inframe_deletion; missense_...</td>\n",
       "      <td>gain of function</td>\n",
       "      <td>inferred</td>\n",
       "      <td>NaN</td>\n",
       "      <td>HP:0000159; HP:0001167; HP:0001274; HP:0000465...</td>\n",
       "      <td>22366783; 25052316; 27096712; 27240540; 29024830</td>\n",
       "      <td>Developmental disorders; Eye disorders</td>\n",
       "      <td>NaN</td>\n",
       "      <td>2015-07-22 16:15:41+00:00</td>\n",
       "      <td>https://www.ebi.ac.uk/gene2phenotype/lgd/G2P01638</td>\n",
       "    </tr>\n",
       "  </tbody>\n",
       "</table>\n",
       "</div>"
      ],
      "text/plain": [
       "        g2p_id gene_symbol     gene_mim   hgnc_id previous_gene_symbols  \\\n",
       "122   G2P00126        ACTB  OMIM:102630  HGNC:132                   NaN   \n",
       "1610  G2P01638       ACTG1  OMIM:102560  HGNC:144  ACTG; DFNA20; DFNA26   \n",
       "\n",
       "                                 disease_name  disease_mim  disease_MONDO  \\\n",
       "122    ACTB-related Baraitser-Winter syndrome  OMIM:243310  MONDO:0013812   \n",
       "1610  ACTG1-related Baraitser-Winter syndrome  OMIM:614583  MONDO:0013812   \n",
       "\n",
       "        allelic_requirement   cross_cutting_modifier  confidence  \\\n",
       "122   monoallelic_autosomal  restricted mutation set  definitive   \n",
       "1610  monoallelic_autosomal  restricted mutation set  definitive   \n",
       "\n",
       "                 variant_consequence  \\\n",
       "122   altered gene product structure   \n",
       "1610  altered gene product structure   \n",
       "\n",
       "                                          variant_types molecular_mechanism  \\\n",
       "122   inframe_insertion; inframe_deletion; missense_...    gain of function   \n",
       "1610  inframe_insertion; inframe_deletion; missense_...    gain of function   \n",
       "\n",
       "     molecular_mechanism_categorisation molecular_mechanism_evidence  \\\n",
       "122                            inferred                          NaN   \n",
       "1610                           inferred                          NaN   \n",
       "\n",
       "                                             phenotypes  \\\n",
       "122   HP:0001274; HP:0002162; HP:0008897; HP:0005487...   \n",
       "1610  HP:0000159; HP:0001167; HP:0001274; HP:0000465...   \n",
       "\n",
       "                                          publications  \\\n",
       "122   22366783; 25052316; 27625340; 38592426; 34970860   \n",
       "1610  22366783; 25052316; 27096712; 27240540; 29024830   \n",
       "\n",
       "                                       panel comments  \\\n",
       "122   Developmental disorders; Eye disorders      NaN   \n",
       "1610  Developmental disorders; Eye disorders      NaN   \n",
       "\n",
       "           date_of_last_review  \\\n",
       "122  2015-07-22 16:14:17+00:00   \n",
       "1610 2015-07-22 16:15:41+00:00   \n",
       "\n",
       "                                         g2p_record_url  \n",
       "122   https://www.ebi.ac.uk/gene2phenotype/lgd/G2P00126  \n",
       "1610  https://www.ebi.ac.uk/gene2phenotype/lgd/G2P01638  "
      ]
     },
     "execution_count": 55,
     "metadata": {},
     "output_type": "execute_result"
    }
   ],
   "source": [
    "## code chunk to review mismatches 1 by 1\n",
    "\n",
    "df[df[\"disease_mim\"] == \"OMIM:300696\"]\n",
    "df[df[\"disease_MONDO\"] == \"MONDO:0013812\"]"
   ]
  },
  {
   "cell_type": "markdown",
   "id": "a6f81213",
   "metadata": {
    "ExecuteTime": {
     "end_time": "2025-03-29T06:19:08.679605Z",
     "start_time": "2025-03-29T06:19:08.670116Z"
    }
   },
   "source": [
    "<div class=\"alert alert-block alert-info\">    \n",
    "\n",
    "**2025-02-28 data:** \n",
    "\n",
    "__Review of OMIM vs MONDO NodeNorm mismatches (22)__\n",
    "\n",
    "None were orphanet.    \n",
    "    \n",
    "---\n",
    "\n",
    "__19: OMIM's mapping is better__\n",
    "\n",
    "> __6: Mondo ID is related but wrong__ -> emailed EBI gene2pheno w/ example\n",
    "> * 'OMIM:243310', 'MONDO:0013812': omim is correct syndrome 1, but mondo is syndrome 2 (diff gene)\n",
    "> * 'OMIM:613575', 'MONDO:0044314': omim is correct 55, but mondo is 78 (diff gene)\n",
    "> * 'OMIM:101000', 'MONDO:0008075': omim is correct type of schwannomatosis (NF2/type 2), vs mondo is a sibling. \n",
    ">   * NodeNorm should map omim to MONDO:0007039 but isn't -> messaged NodeNorm\n",
    "> * 'OMIM:613987', __'MONDO:0009136'__: omim is correct recessive 2, but mondo is recessive 1 (diff gene? Confusing because Monarch page links to gene NHP2 but OMIM page doesn't)\n",
    ">   * NodeNorm should map omim to MONDO:0013519 but isn't -> messaged NodeNorm  \n",
    "> * 'OMIM:613988', 'MONDO:0009136': omim is correct recessive 3, but mondo is recessive 1 (diff gene)\n",
    ">   * NodeNorm should map omim to MONDO:0013520 but isn't -> messaged NodeNorm\n",
    "> * 'OMIM:616353', 'MONDO:0009136': omim is correct recessive 6, but mondo is recessive 1 (diff gene)\n",
    ">   * NodeNorm should map omim to MONDO:0014600 but isn't -> messaged NodeNorm\n",
    "\n",
    "> __13: Mondo ID is too general__ (can see on Monarch website) -> emailed EBI gene2pheno w/ example\n",
    "> * 'OMIM:300696', 'MONDO:0010680': omim maps to MONDO:0010401, child of the mondo\n",
    "> * 'OMIM:304120', 'MONDO:0019027': omim maps to MONDO:0010571 (syndrome type 2), child of the mondo (syndrome)\n",
    "> * 'OMIM:610019', 'MONDO:0005129': omim maps to MONDO:0012395 (cataract 18), child of the mondo (cataract)\n",
    "> * 'OMIM:611726', 'MONDO:0016295': omim maps to MONDO:0012721, child of the mondo \n",
    "> * 'OMIM:602668', 'MONDO:0016107': omim maps to MONDO:0011266 (type 2), child of the mondo\n",
    "> * 'OMIM:203200', 'MONDO:0018910': omim maps to MONDO:0008746 (type 2), child of the mondo\n",
    "> * 'OMIM:614328', 'MONDO:0017411': omim maps to MONDO:0013693 (type 1), child of the mondo\n",
    "> * 'OMIM:175800', 'MONDO:0006602': omim maps to MONDO:0008290 (1, mibelli type), grandchild of the mondo\n",
    "> * 'OMIM:614073', **'MONDO:0019312'**: omim maps to MONDO:0013556 (syndrome 4), child of the mondo (syndrome)\n",
    "> * 'OMIM:614074', 'MONDO:0019312': omim maps to MONDO:0013557 (syndrome 5), child of the mondo (syndrome)\n",
    "> * 'OMIM:614075', 'MONDO:0019312': omim maps to MONDO:0013558 (syndrome 6), child of the mondo (syndrome)\n",
    "> * 'OMIM:614076', 'MONDO:0019312': omim maps to MONDO:0013559 (syndrome 7), child of the mondo (syndrome)\n",
    "> * 'OMIM:614077', 'MONDO:0019312': omim maps to MONDO:0013560 (syndrome 8), child of the mondo (syndrome)\n",
    "\n",
    "    \n",
    "**1: MONDO's mapping is better**\n",
    "<br>\n",
    "Omim ID is slightly off -> __TELL EBI GENE2PHENO?__\n",
    "* 'OMIM:613723', 'MONDO:0009181': mondo matches the disease name and phenotypes listed in the record better than the omim \n",
    "\n",
    "\n",
    "**1: Unsure**\n",
    "* 'OMIM:158350', 'MONDO:0017623': omim is for Cowden syndrome 1, mondo is for PTEN hamartoma tumor syndrome. These are very similar, so I'm not sure which one is better. -> __TELL EBI GENE2PHENO?__\n",
    "  * There's also another record w/ just the OMIM ID. I think the two rows should be merged. -> __TELL EBI GENE2PHENO?__\n",
    "\n",
    "\n",
    "**1: NodeNorm error** -> messaged NodeNorm\n",
    "* 'OMIM:224230', 'MONDO:0009136': both are recessive 1, NodeNorm should map to same entity\n",
    "\n",
    "**Other rows reviewed:**\n",
    "* 'OMIM:614583', 'MONDO:0013812': map to same correct entity"
   ]
  },
  {
   "cell_type": "markdown",
   "id": "2becfcf1",
   "metadata": {},
   "source": [
    "**2025-02-28 data:** \n",
    "\n",
    "The prelim decision is to use disease OMIM/orphanet IDs because:\n",
    "* less missing values\n",
    "* more accurate in cases where there's also a MONDO ID"
   ]
  },
  {
   "cell_type": "markdown",
   "id": "229aed57",
   "metadata": {},
   "source": [
    "#### Checking MONDO data"
   ]
  },
  {
   "cell_type": "markdown",
   "id": "025b4397",
   "metadata": {},
   "source": [
    "Above, I decided the OMIM/orphanet disease IDs were better. \n",
    "\n",
    "However, I wondered if the MONDO IDs were accurate to the disease name when there weren't OMIM/orphanet IDs. Then they could be used for NodeNorming and less data would be dropped because it wasn't pre-NodeNormed. "
   ]
  },
  {
   "cell_type": "code",
   "execution_count": 56,
   "id": "b57b6cf6",
   "metadata": {
    "ExecuteTime": {
     "end_time": "2025-04-15T23:40:26.239478Z",
     "start_time": "2025-04-15T23:40:26.233496Z"
    }
   },
   "outputs": [],
   "source": [
    "## get the data that has MONDO, doesn't have OMIM/orphanet\n",
    "\n",
    "df_mondo_only = df[df[\"disease_mim\"].isna() & df[\"disease_MONDO\"].notna()].copy()\n",
    "\n",
    "mondo_only = df_mondo_only[\"disease_MONDO\"].dropna().unique()"
   ]
  },
  {
   "cell_type": "code",
   "execution_count": 57,
   "id": "4e8daf83",
   "metadata": {
    "ExecuteTime": {
     "end_time": "2025-04-15T23:40:26.248207Z",
     "start_time": "2025-04-15T23:40:26.241826Z"
    }
   },
   "outputs": [
    {
     "data": {
      "text/plain": [
       "445"
      ]
     },
     "execution_count": 57,
     "metadata": {},
     "output_type": "execute_result"
    },
    {
     "data": {
      "text/plain": [
       "278"
      ]
     },
     "execution_count": 57,
     "metadata": {},
     "output_type": "execute_result"
    }
   ],
   "source": [
    "## saving stats on data with only MONDO ID\n",
    "\n",
    "stats_mondo_only = {\n",
    "    \"n_rows\": df_mondo_only.shape[0],\n",
    "    \"n_names\": len(mondo_only)\n",
    "}\n",
    "\n",
    "stats_mondo_only[\"n_rows\"]\n",
    "stats_mondo_only[\"n_names\"]"
   ]
  },
  {
   "cell_type": "code",
   "execution_count": 58,
   "id": "0b66bd98",
   "metadata": {
    "ExecuteTime": {
     "end_time": "2025-04-15T23:40:26.269302Z",
     "start_time": "2025-04-15T23:40:26.250620Z"
    }
   },
   "outputs": [
    {
     "data": {
      "text/html": [
       "<div>\n",
       "<style scoped>\n",
       "    .dataframe tbody tr th:only-of-type {\n",
       "        vertical-align: middle;\n",
       "    }\n",
       "\n",
       "    .dataframe tbody tr th {\n",
       "        vertical-align: top;\n",
       "    }\n",
       "\n",
       "    .dataframe thead th {\n",
       "        text-align: right;\n",
       "    }\n",
       "</style>\n",
       "<table border=\"1\" class=\"dataframe\">\n",
       "  <thead>\n",
       "    <tr style=\"text-align: right;\">\n",
       "      <th></th>\n",
       "      <th>g2p_id</th>\n",
       "      <th>gene_symbol</th>\n",
       "      <th>gene_mim</th>\n",
       "      <th>hgnc_id</th>\n",
       "      <th>previous_gene_symbols</th>\n",
       "      <th>disease_name</th>\n",
       "      <th>disease_mim</th>\n",
       "      <th>disease_MONDO</th>\n",
       "      <th>allelic_requirement</th>\n",
       "      <th>cross_cutting_modifier</th>\n",
       "      <th>confidence</th>\n",
       "      <th>variant_consequence</th>\n",
       "      <th>variant_types</th>\n",
       "      <th>molecular_mechanism</th>\n",
       "      <th>molecular_mechanism_categorisation</th>\n",
       "      <th>molecular_mechanism_evidence</th>\n",
       "      <th>phenotypes</th>\n",
       "      <th>publications</th>\n",
       "      <th>panel</th>\n",
       "      <th>comments</th>\n",
       "      <th>date_of_last_review</th>\n",
       "      <th>g2p_record_url</th>\n",
       "    </tr>\n",
       "  </thead>\n",
       "  <tbody>\n",
       "    <tr>\n",
       "      <th>3241</th>\n",
       "      <td>G2P03497</td>\n",
       "      <td>POP1</td>\n",
       "      <td>OMIM:602486</td>\n",
       "      <td>HGNC:30129</td>\n",
       "      <td>NaN</td>\n",
       "      <td>POP1-related anauxetic dysplasia</td>\n",
       "      <td>NaN</td>\n",
       "      <td>MONDO:0011773</td>\n",
       "      <td>biallelic_autosomal</td>\n",
       "      <td>NaN</td>\n",
       "      <td>definitive</td>\n",
       "      <td>decreased gene product level</td>\n",
       "      <td>NaN</td>\n",
       "      <td>undetermined</td>\n",
       "      <td>inferred</td>\n",
       "      <td>NaN</td>\n",
       "      <td>NaN</td>\n",
       "      <td>21455487; 27380734; 28067412</td>\n",
       "      <td>Skeletal disorders</td>\n",
       "      <td>NaN</td>\n",
       "      <td>2023-12-20 09:04:04+00:00</td>\n",
       "      <td>https://www.ebi.ac.uk/gene2phenotype/lgd/G2P03497</td>\n",
       "    </tr>\n",
       "  </tbody>\n",
       "</table>\n",
       "</div>"
      ],
      "text/plain": [
       "        g2p_id gene_symbol     gene_mim     hgnc_id previous_gene_symbols  \\\n",
       "3241  G2P03497        POP1  OMIM:602486  HGNC:30129                   NaN   \n",
       "\n",
       "                          disease_name disease_mim  disease_MONDO  \\\n",
       "3241  POP1-related anauxetic dysplasia         NaN  MONDO:0011773   \n",
       "\n",
       "      allelic_requirement cross_cutting_modifier  confidence  \\\n",
       "3241  biallelic_autosomal                    NaN  definitive   \n",
       "\n",
       "               variant_consequence variant_types molecular_mechanism  \\\n",
       "3241  decreased gene product level           NaN        undetermined   \n",
       "\n",
       "     molecular_mechanism_categorisation molecular_mechanism_evidence  \\\n",
       "3241                           inferred                          NaN   \n",
       "\n",
       "     phenotypes                  publications               panel comments  \\\n",
       "3241        NaN  21455487; 27380734; 28067412  Skeletal disorders      NaN   \n",
       "\n",
       "           date_of_last_review  \\\n",
       "3241 2023-12-20 09:04:04+00:00   \n",
       "\n",
       "                                         g2p_record_url  \n",
       "3241  https://www.ebi.ac.uk/gene2phenotype/lgd/G2P03497  "
      ]
     },
     "execution_count": 58,
     "metadata": {},
     "output_type": "execute_result"
    }
   ],
   "source": [
    "## code chunk used to review some of the data\n",
    "\n",
    "# df_mondo_only[df_mondo_only[\"disease_MONDO\"] == mondo_only[240]]\n",
    "\n",
    "df_mondo_only[df_mondo_only[\"panel\"].str.contains(\"Skeletal\", na=False)]"
   ]
  },
  {
   "cell_type": "markdown",
   "id": "fc3f5864",
   "metadata": {},
   "source": [
    "<div class=\"alert alert-block alert-info\">    \n",
    "\n",
    "**2025-02-28 data:** \n",
    "\n",
    "__Reviewed some of the data__\n",
    "\n",
    "Method: look at individual MONDO IDs. Covered all panels (only 1 skeletal, no hearing). 3 from earlier review (related to mismatches) + idx 0-240, step 10 + skeletal. \n",
    "    \n",
    "__Summary__\n",
    "* 37 rows (29 unique MONDO)\n",
    "* __~16%__ were wrong (6/37) \n",
    "* Could tell EBI gene2pheno of issues but they are similar to those listed in mismatch mapping section"
   ]
  },
  {
   "cell_type": "markdown",
   "id": "36d795ed",
   "metadata": {},
   "source": [
    "__Details__\n",
    "\n",
    "__6 MONDO is related but wrong__\n",
    "* \"MONDO:0009136\" for \"RTEL1-related dyskeratosis congenita\" (two rows): mondo is recessive 1, which is wrong. Should be recessive 5 MONDO:0014076/OMIM:615190 (old/synonym name is dominant 4) \n",
    "* \"MONDO:0044314\" for 4 rows \"CLN3-related retinal dystrophy\", \"GUCA1B-\", \"PRPS1-\", \"SNRNP200-\": mondo is type 78 (specifically for ARHGEF18), which is wrong. Should instead be:\n",
    "  * CLN3 and PRPS1: a more general term like MONDO:0004580 (retinal degeneration) -> MONDO:0019118 (inherited retinal dystrophy) -> MONDO:0019200 (retinitis pigmentosa)\n",
    "  * GUCA1B: type 48, MONDO:0013447\n",
    "  * SNRNP200: type 33, MONDO:0012477\n",
    "* \"MONDO:0013522\" for \"TERC-related dyskeratosis congenita\": mondo is for type 3 (specifically for TINF2, that row is in \"Great\" section). Should be type 1 MONDO:0007485/OMIM:127550. (confusing because Monarch's page of type 1 includes TINF2 and TERT too, but OMIM page only includes TERC)\n",
    "\n",
    "\n",
    "__4 MONDO is too general__ \n",
    "* \"MONDO:0020341\" (periventricular nodular heterotopia) for \"ERMARD-related periventricular heterotopia\". The ERMARD-specific version is a child term: MONDO:0014240/OMIM:615544 (type 6)\n",
    "* \"MONDO:0018965\" (Alport syndrome) for \"COL4A5-related Alport syndrome\". The COL4A5-specific version is a child term: MONDO:0010520/OMIM:301050  (X-linked)\n",
    "* \"MONDO:0024676\" for \"REST-related Wilms tumour\": The REST-specific version is a **related** term: MONDO:0014779/OMIM:616806 (type 6)\n",
    "* \"MONDO:0011773\" for \"POP1-related anauxetic dysplasia\": the POP1-specific version is a child term: MONDO:0054561/OMIM:617396 (type 2)\n",
    "\n",
    "\n",
    "__4 Unsure -> TELL EBI GENE2PHENO?__\n",
    "* \"MONDO:0005129\" for \"CYP51A1-related congenital cataract\": mondo is cataract, which is not wrong but kinda general. MONDO:0033853 seems better (correlated with gene, matches phenotypes, orphanet ref uses one of the ref papers) \n",
    "* \"MONDO:0018869\" for \"TMTC3-related cobblestone lissencephaly\": while the mondo (cobblestone lissencephaly) sounds correct, it isn't linked to this gene. VS another sibling disease is linked to the gene, matches phenotypes, uses same paper: MONDO:0014992/OMIM:617255 (lissencephaly 8)\n",
    "* \"MONDO:0100100\" for \"SELENON-related myopathy\": while mondo has exact name match, it's not directly linked to gene. Instead, its child disease is directly linked to gene MONDO:0011271/OMIM:602771 (rigid spine muscular dystrophy 1)\n",
    "* \"MONDO:0020367\" for \"MYOC-related juvenile open angle glaucoma\": while mondo is almost-exact name match, it's not directly linked to gene. Instead, its child disease is directly linked to gene MONDO:0007664/OMIM:137750 (glaucoma 1, open angle, A) \n",
    "\n",
    "\n",
    "__5 Okay (using general term is fine)__\n",
    "* \"MONDO:0005129\" for 3 other rows \"WDR87-related congenital cataract\", \"AKR1E2-\", \"MFSD6L-\": couldn't find better mappings. \n",
    "* \"MONDO:0015469\" for \"DHRS3 related craniosynostosis\": couldn't find better mapping\n",
    "* \"MONDO:0024676\" (childhood kidney Wilms tumor) for \"CTR9-related Wilms tumour\", \"TRIM28-\": couldn't find better mapping. TRIM28 is correlated to parent term (kidney Wilms tumor). \n",
    "\n",
    "\n",
    "__18 Great__\n",
    "* \"MONDO:0012506\" for \"DSC2-related arrhythmogenic right ventricular cardiomyopathy\"\n",
    "* \"MONDO:0011001\" for \"SCN5A-related Brugada syndrome\"\n",
    "* \"MONDO:0013262\" for \"MYH7-related dilated cardiomyopathy\"\n",
    "* \"MONDO:0013369\" for \"TNNI3-related hypertrophic cardiomyopathy\"\n",
    "* \"MONDO:0010946\" for \"PRKAG2-related cardiomyopathy\"\n",
    "* \"MONDO:0014143\" for \"RIT1-related Noonan syndrome\"\n",
    "* \"MONDO:0010015\" for \"PXDN-related anterior segment dysgenesis with sclerocornea\"\n",
    "* \"MONDO:0014214\" for \"DYNC2I1-related short-rib polydactyly\"\n",
    "* \"MONDO:0013522\" for \"TINF2-related dyskeratosis congenita\"\n",
    "* \"MONDO:0032876\" for \"WASF1-related intellectual disability with seizures\"\n",
    "* \"MONDO:0859164\" for \"UNC45A-related osteootohepatoenteric syndrome\"\n",
    "* \"MONDO:0018772\" for \"SLC30A7-related Joubert syndrome\": using general term is fine since there isn't any established subtype of Joubert syndrome for this gene\n",
    "* \"MONDO:0010215\" for \"ERCC4-related xeroderma pigmentosum, group F\"\n",
    "* \"MONDO:0009735\" for \"SPINK5-related Netherton syndrome\"\n",
    "* \"MONDO:0007808\" for \"KRT1-related ichthyosis hystrix, Curth-Macklin type\"\n",
    "* \"MONDO:0007566\" for \"TGFBR1-related multiple self-healing squamous epithelioma\"\n",
    "* \"MONDO:0008285\" for \"PDGFRA-related gastrointestinal stromal tumor/GIST-plus syndrome, somatic or familial\"\n",
    "* \"MONDO:0010912\" for \"TUBB3-related fibrosis of extraocular muscles, congenital\""
   ]
  },
  {
   "cell_type": "markdown",
   "id": "a29eccf5",
   "metadata": {},
   "source": [
    "#### Conclusions"
   ]
  },
  {
   "cell_type": "markdown",
   "id": "931ad893",
   "metadata": {},
   "source": [
    "<div class=\"alert alert-block alert-success\">\n",
    "\n",
    "**2025-02-28 data:** \n",
    "    \n",
    "__Exploration__\n",
    "\n",
    "* some rows have no disease IDs\n",
    "* a few NodeNorm mapping failures for OMIM IDs (several diff kinds): ~2.8%. 68 failures / (2401 unique values in column - 9 orphanet)\n",
    "  * no NodeNorm mapping failures for MONDO IDs\n",
    "* when rows have both OMIM and MONDO IDs, there are sometimes differences in NodeNorm mapping (\"mismatches\"). __In these cases, OMIM IDs were much more accurate__\n",
    "* __MONDO IDs can be inaccurate__ - see the blue review boxes\n",
    "  * VS it was much rarer to find an inaccurate OMIM ID mapping (found 1 case)\n",
    "\n",
    "\n",
    "__Decision: Use OMIM ID column to generate NodeNorm values__\n",
    "\n",
    "* less missing values\n",
    "* seems to be more accurate (for successful NodeNorm mappings)"
   ]
  },
  {
   "cell_type": "markdown",
   "id": "9d69e637",
   "metadata": {},
   "source": [
    "## Stats on rows removed during NodeNorming"
   ]
  },
  {
   "cell_type": "markdown",
   "id": "d25bd6ed",
   "metadata": {},
   "source": [
    "This section prints the statistics on rows in the original data that were removed. \n",
    "\n",
    "(Uses variables generated during the previous section \"Pre-NodeNorming\")"
   ]
  },
  {
   "cell_type": "markdown",
   "id": "e687d839",
   "metadata": {},
   "source": [
    "<div class=\"alert alert-block alert-success\">\n",
    "\n",
    "**2025-03-28 data:** \n",
    "\n",
    "Genes: No rows removed due to lack of IDs for NodeNorming or NodeNorm mapping issues."
   ]
  },
  {
   "cell_type": "code",
   "execution_count": 59,
   "id": "801a10f8",
   "metadata": {
    "ExecuteTime": {
     "end_time": "2025-04-15T23:40:26.276267Z",
     "start_time": "2025-04-15T23:40:26.271740Z"
    }
   },
   "outputs": [
    {
     "name": "stdout",
     "output_type": "stream",
     "text": [
      "Gene Pre-NodeNorming\n",
      "\n",
      "0 row(s) with no gene IDs\n",
      "0 row(s) with no HGNC IDs\n",
      "\n",
      "\n",
      "HGNC NodeNorm mapping failures:\n",
      "IDs with no data in NodeNorm: 0\n",
      "IDs with the wrong NodeNormed category: 0\n",
      "IDs with no label in NodeNorm: 0\n"
     ]
    }
   ],
   "source": [
    "## partial put into parser (format): DONE\n",
    "\n",
    "print(\"Gene Pre-NodeNorming\\n\")\n",
    "\n",
    "## no gene IDs\n",
    "print(f'{stats_no_gene_IDs[\"n_rows\"]} row(s) with no gene IDs')\n",
    "\n",
    "## no HGNC IDs: key column for NodeNorming\n",
    "print(f'{n_rows_no_hgnc} row(s) with no HGNC IDs')\n",
    "\n",
    "## HGNC NodeNorm issues: none, but showing anyways\n",
    "print(\"\\n\")\n",
    "print(\"HGNC NodeNorm mapping failures:\")\n",
    "\n",
    "print(f'IDs with no data in NodeNorm: {len(stats_hgnc_mapping_failures[\"nodenorm_returned_none\"])}')\n",
    "print(f'IDs with the wrong NodeNormed category: {len(stats_hgnc_mapping_failures[\"wrong_category\"])}')\n",
    "print(f'IDs with no label in NodeNorm: {len(stats_hgnc_mapping_failures[\"no_label\"])}')"
   ]
  },
  {
   "cell_type": "markdown",
   "id": "b282749c",
   "metadata": {},
   "source": [
    "<div class=\"alert alert-block alert-success\">\n",
    "\n",
    "**2025-03-28 data:** \n",
    "    \n",
    "__Diseases: many rows removed__ due to lack of IDs for NodeNorming or NodeNorm mapping issues."
   ]
  },
  {
   "cell_type": "code",
   "execution_count": 60,
   "id": "35356465",
   "metadata": {
    "ExecuteTime": {
     "end_time": "2025-04-15T23:40:26.285059Z",
     "start_time": "2025-04-15T23:40:26.279626Z"
    }
   },
   "outputs": [
    {
     "name": "stdout",
     "output_type": "stream",
     "text": [
      "Disease Pre-NodeNorming\n",
      "\n",
      "642 row(s) with no disease IDs (= 629 unique diseases)\n",
      "+ 445 row(s) with no OMIM ID (= 278 unique diseases)\n",
      "\n",
      "\n",
      "OMIM NodeNorm mapping failures:\n",
      "41 row(s) for 39 IDs with no data in NodeNorm\n",
      "27 row(s) for 26 IDs with the wrong NodeNormed category\n",
      "3 row(s) for 3 IDs with no label in NodeNorm\n"
     ]
    }
   ],
   "source": [
    "## partial put into parser (format): DONE\n",
    "\n",
    "print(\"Disease Pre-NodeNorming\\n\")\n",
    "\n",
    "## no disease IDs\n",
    "print(f'{stats_no_disease_IDs[\"n_rows\"]} row(s) with no disease IDs '\n",
    "      f'(= {stats_no_disease_IDs[\"n_names\"]} unique diseases)')\n",
    "\n",
    "## plus the rows that only lack OMIM IDs: key column for NodeNorming\n",
    "print(f'+ {stats_mondo_only[\"n_rows\"]} row(s) with no OMIM ID '\n",
    "      f'(= {stats_mondo_only[\"n_names\"]} unique diseases)')\n",
    "\n",
    "## OMIM NodeNorm issues\n",
    "print(\"\\n\")\n",
    "print(\"OMIM NodeNorm mapping failures:\")\n",
    "\n",
    "print(f'{n_rows_no_data} row(s) for '\n",
    "      f'{len(stats_OmOr_mapping_failures[\"nodenorm_returned_none\"])} '\n",
    "      f'IDs with no data in NodeNorm')\n",
    "\n",
    "print(f'{n_rows_wrong_category} row(s) for '\n",
    "      f'{len(stats_OmOr_mapping_failures[\"wrong_category\"])} '\n",
    "      f'IDs with the wrong NodeNormed category')\n",
    "\n",
    "print(f'{n_rows_no_label} row(s) for '\n",
    "      f'{len(stats_OmOr_mapping_failures[\"no_label\"])} '\n",
    "      f'IDs with no label in NodeNorm')"
   ]
  },
  {
   "cell_type": "markdown",
   "id": "9e970596",
   "metadata": {},
   "source": [
    "<div class=\"alert alert-block alert-success\">\n",
    "    \n",
    "__Totals__"
   ]
  },
  {
   "cell_type": "code",
   "execution_count": 61,
   "id": "be76c03c",
   "metadata": {
    "ExecuteTime": {
     "end_time": "2025-04-15T23:40:26.291292Z",
     "start_time": "2025-04-15T23:40:26.287239Z"
    }
   },
   "outputs": [
    {
     "name": "stdout",
     "output_type": "stream",
     "text": [
      "3659 rows/records before Pre-NodeNorming\n",
      "\n",
      "1158 rows removed during Disease NodeNorming process\n",
      "\n",
      "2501 rows/records left (68.4%)\n"
     ]
    }
   ],
   "source": [
    "## put into parser (format): DONE\n",
    "\n",
    "n_rows_original = df.shape[0]\n",
    "n_rows_removed = stats_no_disease_IDs[\"n_rows\"] + stats_mondo_only[\"n_rows\"] + \\\n",
    "                 n_rows_no_data + n_rows_wrong_category + n_rows_no_label\n",
    "n_rows_after = n_rows_original - n_rows_removed\n",
    "\n",
    "print(f\"{n_rows_original} rows/records before Pre-NodeNorming\\n\")\n",
    "\n",
    "print(f\"{n_rows_removed} rows removed during Disease NodeNorming process\\n\")\n",
    "\n",
    "print(f\"{n_rows_after} rows/records left ({n_rows_after/n_rows_original:.1%})\")"
   ]
  },
  {
   "cell_type": "markdown",
   "id": "23343f7c",
   "metadata": {},
   "source": [
    "## Adding NodeNorm data, removing rows"
   ]
  },
  {
   "cell_type": "markdown",
   "id": "1d708cbc",
   "metadata": {},
   "source": [
    "Using gene HGNC and disease OMIM/orphanet IDs for pre-NodeNorming"
   ]
  },
  {
   "cell_type": "code",
   "execution_count": 62,
   "id": "3d727809",
   "metadata": {
    "ExecuteTime": {
     "end_time": "2025-04-15T23:40:26.308017Z",
     "start_time": "2025-04-15T23:40:26.293733Z"
    }
   },
   "outputs": [],
   "source": [
    "## put into parser (format): DONE\n",
    "\n",
    "## Gene: assumes no missing values\n",
    "df[\"gene_nodenorm_id\"] = [hgnc_nodenorm_mapping[i][\"primary_id\"] for i in df[\"hgnc_id\"]]\n",
    "df[\"gene_nodenorm_label\"] = [hgnc_nodenorm_mapping[i][\"primary_label\"] for i in df[\"hgnc_id\"]]\n",
    "\n",
    "df[\"disease_nodenorm_id\"] = [OmOr_nodenorm_mapping[i][\"primary_id\"] \n",
    "                             if OmOr_nodenorm_mapping.get(i) \n",
    "                             else pd.NA\n",
    "                             for i in df[\"disease_mim\"]]\n",
    "\n",
    "df[\"disease_nodenorm_label\"] = [OmOr_nodenorm_mapping[i][\"primary_label\"] \n",
    "                                if OmOr_nodenorm_mapping.get(i) \n",
    "                                else pd.NA\n",
    "                                for i in df[\"disease_mim\"]]"
   ]
  },
  {
   "cell_type": "code",
   "execution_count": 63,
   "id": "c362f22a",
   "metadata": {
    "ExecuteTime": {
     "end_time": "2025-04-15T23:40:26.330669Z",
     "start_time": "2025-04-15T23:40:26.310248Z"
    }
   },
   "outputs": [
    {
     "data": {
      "text/html": [
       "<div>\n",
       "<style scoped>\n",
       "    .dataframe tbody tr th:only-of-type {\n",
       "        vertical-align: middle;\n",
       "    }\n",
       "\n",
       "    .dataframe tbody tr th {\n",
       "        vertical-align: top;\n",
       "    }\n",
       "\n",
       "    .dataframe thead th {\n",
       "        text-align: right;\n",
       "    }\n",
       "</style>\n",
       "<table border=\"1\" class=\"dataframe\">\n",
       "  <thead>\n",
       "    <tr style=\"text-align: right;\">\n",
       "      <th></th>\n",
       "      <th>g2p_id</th>\n",
       "      <th>gene_symbol</th>\n",
       "      <th>gene_mim</th>\n",
       "      <th>hgnc_id</th>\n",
       "      <th>previous_gene_symbols</th>\n",
       "      <th>disease_name</th>\n",
       "      <th>disease_mim</th>\n",
       "      <th>disease_MONDO</th>\n",
       "      <th>allelic_requirement</th>\n",
       "      <th>cross_cutting_modifier</th>\n",
       "      <th>confidence</th>\n",
       "      <th>variant_consequence</th>\n",
       "      <th>variant_types</th>\n",
       "      <th>molecular_mechanism</th>\n",
       "      <th>molecular_mechanism_categorisation</th>\n",
       "      <th>molecular_mechanism_evidence</th>\n",
       "      <th>phenotypes</th>\n",
       "      <th>publications</th>\n",
       "      <th>panel</th>\n",
       "      <th>comments</th>\n",
       "      <th>date_of_last_review</th>\n",
       "      <th>g2p_record_url</th>\n",
       "      <th>gene_nodenorm_id</th>\n",
       "      <th>gene_nodenorm_label</th>\n",
       "      <th>disease_nodenorm_id</th>\n",
       "      <th>disease_nodenorm_label</th>\n",
       "    </tr>\n",
       "  </thead>\n",
       "  <tbody>\n",
       "    <tr>\n",
       "      <th>0</th>\n",
       "      <td>G2P00001</td>\n",
       "      <td>HMX1</td>\n",
       "      <td>OMIM:142992</td>\n",
       "      <td>HGNC:5017</td>\n",
       "      <td>H6; NKX5-3</td>\n",
       "      <td>HMX1-related oculoauricular syndrome</td>\n",
       "      <td>OMIM:612109</td>\n",
       "      <td>NaN</td>\n",
       "      <td>biallelic_autosomal</td>\n",
       "      <td>NaN</td>\n",
       "      <td>definitive</td>\n",
       "      <td>absent gene product</td>\n",
       "      <td>NaN</td>\n",
       "      <td>loss of function</td>\n",
       "      <td>inferred</td>\n",
       "      <td>NaN</td>\n",
       "      <td>HP:0000568; HP:0000589; HP:0000007; HP:0000482...</td>\n",
       "      <td>18423520; 25574057; 29140751</td>\n",
       "      <td>Developmental disorders; Eye disorders</td>\n",
       "      <td>NaN</td>\n",
       "      <td>2019-09-26 16:23:46+00:00</td>\n",
       "      <td>https://www.ebi.ac.uk/gene2phenotype/lgd/G2P00001</td>\n",
       "      <td>NCBIGene:3166</td>\n",
       "      <td>HMX1</td>\n",
       "      <td>MONDO:0012802</td>\n",
       "      <td>oculoauricular syndrome</td>\n",
       "    </tr>\n",
       "    <tr>\n",
       "      <th>1</th>\n",
       "      <td>G2P00002</td>\n",
       "      <td>SLX4</td>\n",
       "      <td>OMIM:613278</td>\n",
       "      <td>HGNC:23845</td>\n",
       "      <td>BTBD12; FANCP; KIAA1784; KIAA1987</td>\n",
       "      <td>SLX4-related Fanconi anemia</td>\n",
       "      <td>OMIM:613951</td>\n",
       "      <td>NaN</td>\n",
       "      <td>biallelic_autosomal</td>\n",
       "      <td>NaN</td>\n",
       "      <td>definitive</td>\n",
       "      <td>absent gene product</td>\n",
       "      <td>NaN</td>\n",
       "      <td>loss of function</td>\n",
       "      <td>inferred</td>\n",
       "      <td>NaN</td>\n",
       "      <td>HP:0000347; HP:0000007; HP:0001903; HP:0002984...</td>\n",
       "      <td>21240275; 21240277</td>\n",
       "      <td>Developmental disorders</td>\n",
       "      <td>NaN</td>\n",
       "      <td>2025-01-28 23:09:54+00:00</td>\n",
       "      <td>https://www.ebi.ac.uk/gene2phenotype/lgd/G2P00002</td>\n",
       "      <td>NCBIGene:84464</td>\n",
       "      <td>SLX4</td>\n",
       "      <td>MONDO:0013499</td>\n",
       "      <td>Fanconi anemia complementation group P</td>\n",
       "    </tr>\n",
       "    <tr>\n",
       "      <th>2</th>\n",
       "      <td>G2P00003</td>\n",
       "      <td>ARG1</td>\n",
       "      <td>OMIM:608313</td>\n",
       "      <td>HGNC:663</td>\n",
       "      <td>NaN</td>\n",
       "      <td>ARG1-related argininemia</td>\n",
       "      <td>OMIM:207800</td>\n",
       "      <td>NaN</td>\n",
       "      <td>biallelic_autosomal</td>\n",
       "      <td>NaN</td>\n",
       "      <td>definitive</td>\n",
       "      <td>absent gene product</td>\n",
       "      <td>NaN</td>\n",
       "      <td>loss of function</td>\n",
       "      <td>inferred</td>\n",
       "      <td>NaN</td>\n",
       "      <td>HP:0000752; HP:0000737; HP:0000007; HP:0008339...</td>\n",
       "      <td>10502833; 1598908; 7649538; 1463019; 2365823</td>\n",
       "      <td>Developmental disorders</td>\n",
       "      <td>NaN</td>\n",
       "      <td>2015-07-22 16:14:07+00:00</td>\n",
       "      <td>https://www.ebi.ac.uk/gene2phenotype/lgd/G2P00003</td>\n",
       "      <td>NCBIGene:383</td>\n",
       "      <td>ARG1</td>\n",
       "      <td>MONDO:0008814</td>\n",
       "      <td>Argininemia</td>\n",
       "    </tr>\n",
       "    <tr>\n",
       "      <th>3</th>\n",
       "      <td>G2P00004</td>\n",
       "      <td>ATR</td>\n",
       "      <td>OMIM:601215</td>\n",
       "      <td>HGNC:882</td>\n",
       "      <td>FRP1; MEC1; SCKL; SCKL1</td>\n",
       "      <td>ATR-related Seckel syndrome</td>\n",
       "      <td>OMIM:210600</td>\n",
       "      <td>NaN</td>\n",
       "      <td>biallelic_autosomal</td>\n",
       "      <td>NaN</td>\n",
       "      <td>strong</td>\n",
       "      <td>absent gene product</td>\n",
       "      <td>NaN</td>\n",
       "      <td>loss of function</td>\n",
       "      <td>inferred</td>\n",
       "      <td>NaN</td>\n",
       "      <td>HP:0000347; HP:0010230; HP:0001249; HP:0002750...</td>\n",
       "      <td>NaN</td>\n",
       "      <td>Developmental disorders; Skeletal disorders</td>\n",
       "      <td>NaN</td>\n",
       "      <td>2025-01-27 14:24:27+00:00</td>\n",
       "      <td>https://www.ebi.ac.uk/gene2phenotype/lgd/G2P00004</td>\n",
       "      <td>NCBIGene:545</td>\n",
       "      <td>ATR</td>\n",
       "      <td>MONDO:0008869</td>\n",
       "      <td>Seckel syndrome 1</td>\n",
       "    </tr>\n",
       "    <tr>\n",
       "      <th>4</th>\n",
       "      <td>G2P00005</td>\n",
       "      <td>FANCB</td>\n",
       "      <td>OMIM:300515</td>\n",
       "      <td>HGNC:3583</td>\n",
       "      <td>FAAP95; FAB; FLJ34064</td>\n",
       "      <td>FANCB-related Fanconi anemia</td>\n",
       "      <td>OMIM:300514</td>\n",
       "      <td>NaN</td>\n",
       "      <td>monoallelic_X_hemizygous</td>\n",
       "      <td>NaN</td>\n",
       "      <td>definitive</td>\n",
       "      <td>absent gene product</td>\n",
       "      <td>NaN</td>\n",
       "      <td>loss of function</td>\n",
       "      <td>inferred</td>\n",
       "      <td>NaN</td>\n",
       "      <td>HP:0000924; HP:0001871; HP:0001701; HP:0000083...</td>\n",
       "      <td>16679491; 21910217; 36135330; 32106311; 307922...</td>\n",
       "      <td>Developmental disorders; Skin disorders</td>\n",
       "      <td>NaN</td>\n",
       "      <td>2024-08-20 14:13:58+00:00</td>\n",
       "      <td>https://www.ebi.ac.uk/gene2phenotype/lgd/G2P00005</td>\n",
       "      <td>NCBIGene:2187</td>\n",
       "      <td>FANCB</td>\n",
       "      <td>MONDO:0010351</td>\n",
       "      <td>Fanconi anemia complementation group B</td>\n",
       "    </tr>\n",
       "  </tbody>\n",
       "</table>\n",
       "</div>"
      ],
      "text/plain": [
       "     g2p_id gene_symbol     gene_mim     hgnc_id  \\\n",
       "0  G2P00001        HMX1  OMIM:142992   HGNC:5017   \n",
       "1  G2P00002        SLX4  OMIM:613278  HGNC:23845   \n",
       "2  G2P00003        ARG1  OMIM:608313    HGNC:663   \n",
       "3  G2P00004         ATR  OMIM:601215    HGNC:882   \n",
       "4  G2P00005       FANCB  OMIM:300515   HGNC:3583   \n",
       "\n",
       "               previous_gene_symbols                          disease_name  \\\n",
       "0                         H6; NKX5-3  HMX1-related oculoauricular syndrome   \n",
       "1  BTBD12; FANCP; KIAA1784; KIAA1987           SLX4-related Fanconi anemia   \n",
       "2                                NaN              ARG1-related argininemia   \n",
       "3            FRP1; MEC1; SCKL; SCKL1           ATR-related Seckel syndrome   \n",
       "4              FAAP95; FAB; FLJ34064          FANCB-related Fanconi anemia   \n",
       "\n",
       "   disease_mim disease_MONDO       allelic_requirement cross_cutting_modifier  \\\n",
       "0  OMIM:612109           NaN       biallelic_autosomal                    NaN   \n",
       "1  OMIM:613951           NaN       biallelic_autosomal                    NaN   \n",
       "2  OMIM:207800           NaN       biallelic_autosomal                    NaN   \n",
       "3  OMIM:210600           NaN       biallelic_autosomal                    NaN   \n",
       "4  OMIM:300514           NaN  monoallelic_X_hemizygous                    NaN   \n",
       "\n",
       "   confidence  variant_consequence variant_types molecular_mechanism  \\\n",
       "0  definitive  absent gene product           NaN    loss of function   \n",
       "1  definitive  absent gene product           NaN    loss of function   \n",
       "2  definitive  absent gene product           NaN    loss of function   \n",
       "3      strong  absent gene product           NaN    loss of function   \n",
       "4  definitive  absent gene product           NaN    loss of function   \n",
       "\n",
       "  molecular_mechanism_categorisation molecular_mechanism_evidence  \\\n",
       "0                           inferred                          NaN   \n",
       "1                           inferred                          NaN   \n",
       "2                           inferred                          NaN   \n",
       "3                           inferred                          NaN   \n",
       "4                           inferred                          NaN   \n",
       "\n",
       "                                          phenotypes  \\\n",
       "0  HP:0000568; HP:0000589; HP:0000007; HP:0000482...   \n",
       "1  HP:0000347; HP:0000007; HP:0001903; HP:0002984...   \n",
       "2  HP:0000752; HP:0000737; HP:0000007; HP:0008339...   \n",
       "3  HP:0000347; HP:0010230; HP:0001249; HP:0002750...   \n",
       "4  HP:0000924; HP:0001871; HP:0001701; HP:0000083...   \n",
       "\n",
       "                                        publications  \\\n",
       "0                       18423520; 25574057; 29140751   \n",
       "1                                 21240275; 21240277   \n",
       "2       10502833; 1598908; 7649538; 1463019; 2365823   \n",
       "3                                                NaN   \n",
       "4  16679491; 21910217; 36135330; 32106311; 307922...   \n",
       "\n",
       "                                         panel comments  \\\n",
       "0       Developmental disorders; Eye disorders      NaN   \n",
       "1                      Developmental disorders      NaN   \n",
       "2                      Developmental disorders      NaN   \n",
       "3  Developmental disorders; Skeletal disorders      NaN   \n",
       "4      Developmental disorders; Skin disorders      NaN   \n",
       "\n",
       "        date_of_last_review  \\\n",
       "0 2019-09-26 16:23:46+00:00   \n",
       "1 2025-01-28 23:09:54+00:00   \n",
       "2 2015-07-22 16:14:07+00:00   \n",
       "3 2025-01-27 14:24:27+00:00   \n",
       "4 2024-08-20 14:13:58+00:00   \n",
       "\n",
       "                                      g2p_record_url gene_nodenorm_id  \\\n",
       "0  https://www.ebi.ac.uk/gene2phenotype/lgd/G2P00001    NCBIGene:3166   \n",
       "1  https://www.ebi.ac.uk/gene2phenotype/lgd/G2P00002   NCBIGene:84464   \n",
       "2  https://www.ebi.ac.uk/gene2phenotype/lgd/G2P00003     NCBIGene:383   \n",
       "3  https://www.ebi.ac.uk/gene2phenotype/lgd/G2P00004     NCBIGene:545   \n",
       "4  https://www.ebi.ac.uk/gene2phenotype/lgd/G2P00005    NCBIGene:2187   \n",
       "\n",
       "  gene_nodenorm_label disease_nodenorm_id  \\\n",
       "0                HMX1       MONDO:0012802   \n",
       "1                SLX4       MONDO:0013499   \n",
       "2                ARG1       MONDO:0008814   \n",
       "3                 ATR       MONDO:0008869   \n",
       "4               FANCB       MONDO:0010351   \n",
       "\n",
       "                   disease_nodenorm_label  \n",
       "0                 oculoauricular syndrome  \n",
       "1  Fanconi anemia complementation group P  \n",
       "2                             Argininemia  \n",
       "3                       Seckel syndrome 1  \n",
       "4  Fanconi anemia complementation group B  "
      ]
     },
     "execution_count": 63,
     "metadata": {},
     "output_type": "execute_result"
    }
   ],
   "source": [
    "df.head()"
   ]
  },
  {
   "cell_type": "code",
   "execution_count": 64,
   "id": "caee28a8",
   "metadata": {
    "ExecuteTime": {
     "end_time": "2025-04-15T23:40:26.342896Z",
     "start_time": "2025-04-15T23:40:26.333090Z"
    }
   },
   "outputs": [],
   "source": [
    "## put into parser (change in-place): DONE\n",
    "\n",
    "df_only_nodenormed = df.dropna(subset=[\"gene_nodenorm_id\", \"gene_nodenorm_label\", \n",
    "                                       \"disease_nodenorm_id\", \"disease_nodenorm_label\"],\n",
    "                              ignore_index=True).copy()"
   ]
  },
  {
   "cell_type": "code",
   "execution_count": 65,
   "id": "4fc8d268",
   "metadata": {
    "ExecuteTime": {
     "end_time": "2025-04-15T23:40:26.350323Z",
     "start_time": "2025-04-15T23:40:26.345471Z"
    }
   },
   "outputs": [
    {
     "data": {
      "text/plain": [
       "(2501, 26)"
      ]
     },
     "execution_count": 65,
     "metadata": {},
     "output_type": "execute_result"
    },
    {
     "data": {
      "text/plain": [
       "2501"
      ]
     },
     "execution_count": 65,
     "metadata": {},
     "output_type": "execute_result"
    }
   ],
   "source": [
    "## same! so it works as expected\n",
    "\n",
    "df_only_nodenormed.shape\n",
    "\n",
    "n_rows_after"
   ]
  },
  {
   "cell_type": "code",
   "execution_count": 66,
   "id": "0c05d470",
   "metadata": {
    "ExecuteTime": {
     "end_time": "2025-04-15T23:40:26.381780Z",
     "start_time": "2025-04-15T23:40:26.352578Z"
    }
   },
   "outputs": [
    {
     "name": "stdout",
     "output_type": "stream",
     "text": [
      "<class 'pandas.core.frame.DataFrame'>\n",
      "RangeIndex: 2501 entries, 0 to 2500\n",
      "Data columns (total 26 columns):\n",
      " #   Column                              Non-Null Count  Dtype              \n",
      "---  ------                              --------------  -----              \n",
      " 0   g2p_id                              2501 non-null   object             \n",
      " 1   gene_symbol                         2501 non-null   object             \n",
      " 2   gene_mim                            2501 non-null   object             \n",
      " 3   hgnc_id                             2501 non-null   object             \n",
      " 4   previous_gene_symbols               2248 non-null   object             \n",
      " 5   disease_name                        2501 non-null   object             \n",
      " 6   disease_mim                         2501 non-null   object             \n",
      " 7   disease_MONDO                       117 non-null    object             \n",
      " 8   allelic_requirement                 2501 non-null   object             \n",
      " 9   cross_cutting_modifier              284 non-null    object             \n",
      " 10  confidence                          2501 non-null   object             \n",
      " 11  variant_consequence                 2487 non-null   object             \n",
      " 12  variant_types                       548 non-null    object             \n",
      " 13  molecular_mechanism                 2501 non-null   object             \n",
      " 14  molecular_mechanism_categorisation  2501 non-null   object             \n",
      " 15  molecular_mechanism_evidence        21 non-null     object             \n",
      " 16  phenotypes                          1908 non-null   object             \n",
      " 17  publications                        2249 non-null   object             \n",
      " 18  panel                               2501 non-null   object             \n",
      " 19  comments                            16 non-null     object             \n",
      " 20  date_of_last_review                 2501 non-null   datetime64[ns, UTC]\n",
      " 21  g2p_record_url                      2501 non-null   object             \n",
      " 22  gene_nodenorm_id                    2501 non-null   object             \n",
      " 23  gene_nodenorm_label                 2501 non-null   object             \n",
      " 24  disease_nodenorm_id                 2501 non-null   object             \n",
      " 25  disease_nodenorm_label              2501 non-null   object             \n",
      "dtypes: datetime64[ns, UTC](1), object(25)\n",
      "memory usage: 4.1 MB\n"
     ]
    }
   ],
   "source": [
    "df_only_nodenormed.info(memory_usage=\"deep\")"
   ]
  },
  {
   "cell_type": "markdown",
   "id": "f74925fe",
   "metadata": {},
   "source": [
    "## Confidence values"
   ]
  },
  {
   "cell_type": "markdown",
   "id": "a58de6ec",
   "metadata": {},
   "source": [
    "**2024-04-15:**\n",
    "\n",
    "Every row/record has 1 confidence value, representing how confident the curators are that \"this gene has a causal role in this disease\". The definitions of the possible values are provided [here (under G2P Confidence Category)](https://www.ebi.ac.uk/gene2phenotype/about/terminology). \n",
    "\n",
    "\n",
    "**CURRENT DEFINITIONS** (including in case they change later)\n",
    "\n",
    "> **definitive**: The role of this gene in this particular disease has been repeatedly demonstrated in both the research and clinical diagnostic settings, and has been upheld over time (at least 2 independent publication over 3 years' time). No convincing evidence has emerged that contradicts the role of the gene in the specified disease. (previously labelled as confirmed) The strength of evidence within publications as well as their number and publication dates is taken into account. In practice, this usually means at least 4 publications over 5 years. Typically this will also include convincing bioinformatic or functional evidence of causation, making it very unlikely that this gene-disease association would ever be refuted.\n",
    ">\n",
    ">**strong**: The role of this gene as a monogenic cause of disease has been repeatedly and independently demonstrated providing very strong convincing evidence in humans and no conflicting evidence for this gene's role in this disease. (previously labelled as probable).\n",
    ">\n",
    ">**moderate**: There is moderate evidence in humans to support a casual role for this gene in this disease with no contradictory evidence. The body of evidence is not large (e.g possibly only one key paper) but appears convincing enough that the gene-disease pair is likely to be validated with additional evidence in the near future.\n",
    ">\n",
    ">**\"limited\"**: Little human evidence exists to support a casual role for this gene in this disease, but not all evidence has been refuted. For example, there may be a collection of rare missense variants in humans but without convincing functional impact, segregration data that could either arise by chance (e.g across one or two meioses) or does not implicate a single gene, or functional data without direct recapitulation of the phenotype. Overall, the body of evidence does not meet contemporary criteria for claiming a valid association with disease. The majority are probably false associations. (previously labelled as possible).\n",
    ">\n",
    ">**\"disputed\"**: \"Although evidence has been reported, other evidence of equal weight disputes the claim.\"\n",
    ">\n",
    ">**\"refuted\"**: \"There has been an assertion of a gene-disease association in the literature, but new valid evidence has arisen that refutes the entire original body of evidence.\""
   ]
  },
  {
   "cell_type": "markdown",
   "id": "26d13956",
   "metadata": {},
   "source": [
    "<div class=\"alert alert-block alert-success\">\n",
    "\n",
    "**2024-04-15:**\n",
    "\n",
    "My thinking is...\n",
    "1. rows with **\"refuted\"** and **\"disputed\"** values **should not be used to create edges for Translator**, because there's strong evidence that there ISN'T an association (negation) based on the definitions. \n",
    "2. rows with **\"limited\"** confidence can be kept because I interpret the definition as saying there is AN association - it's just not causal (as far as we know) and it's unclear how \"real\"/important it is. So these rows should have a predicate weaker than \"causes\"/\"contributes to\" -> **using \"related to\" for now**. \n",
    "3. keep rows with **\"moderate\", \"strong\", \"definitive\"** values, because there's moderate-definitive evidence that a gene DOES HAVE a causal role in this disease -> **\"using \"causes\" for now**\n",
    "\n",
    "Other possible data modeling: use subject_form_or_variant_qualifier *genetic_variant_form*. Okay because every row has an allelic_requirement, and those [terms](https://www.ebi.ac.uk/gene2phenotype/about/terminology) are for mutations."
   ]
  },
  {
   "cell_type": "markdown",
   "id": "f3525fe6",
   "metadata": {},
   "source": [
    "<div class=\"alert alert-block alert-danger\">\n",
    "\n",
    "Data-modeling notes: options for gene-disease associations are confusing \n",
    "* can \"causes / contributes to\" be used? Maybe it makes more sense to use them with qualifiers on gene/protein (form or variant, aspect)...but are we allowed to use qualifiers here?\n",
    "* what's the diff between \"associated with\" and \"genetically associated with\"? \n",
    "* \"gene associated with condition\" is child of \"genetically associated with\", but seems to be more general - basically a \"related to\". Also would look weird in UI, right? "
   ]
  },
  {
   "cell_type": "code",
   "execution_count": 69,
   "id": "e004b5d1",
   "metadata": {
    "ExecuteTime": {
     "end_time": "2025-04-15T23:57:58.277102Z",
     "start_time": "2025-04-15T23:57:58.271515Z"
    }
   },
   "outputs": [
    {
     "data": {
      "text/plain": [
       "confidence\n",
       "definitive    1614\n",
       "strong         542\n",
       "limited        255\n",
       "moderate        89\n",
       "refuted          1\n",
       "Name: count, dtype: int64"
      ]
     },
     "execution_count": 69,
     "metadata": {},
     "output_type": "execute_result"
    }
   ],
   "source": [
    "## NodeNormed data only\n",
    "df_only_nodenormed[\"confidence\"].value_counts()"
   ]
  },
  {
   "cell_type": "code",
   "execution_count": 68,
   "id": "1c5abe55",
   "metadata": {
    "ExecuteTime": {
     "end_time": "2025-04-15T23:57:29.035328Z",
     "start_time": "2025-04-15T23:57:29.028951Z"
    }
   },
   "outputs": [
    {
     "data": {
      "text/plain": [
       "confidence\n",
       "definitive    2047\n",
       "strong         853\n",
       "limited        518\n",
       "moderate       240\n",
       "refuted          1\n",
       "Name: count, dtype: int64"
      ]
     },
     "execution_count": 68,
     "metadata": {},
     "output_type": "execute_result"
    }
   ],
   "source": [
    "## all data (before NodeNorming)\n",
    "df[\"confidence\"].value_counts()"
   ]
  },
  {
   "cell_type": "markdown",
   "id": "9619bd0a",
   "metadata": {},
   "source": [
    "**2025-03-28 data:** \n",
    "No \"disputed\" values, only 1 \"refuted\" row to remove"
   ]
  },
  {
   "cell_type": "markdown",
   "id": "9b1e6195",
   "metadata": {},
   "source": [
    "### Removing rows + stats"
   ]
  },
  {
   "cell_type": "code",
   "execution_count": 72,
   "id": "7a93f0b5",
   "metadata": {
    "ExecuteTime": {
     "end_time": "2025-04-16T02:08:48.419539Z",
     "start_time": "2025-04-16T02:08:48.414901Z"
    }
   },
   "outputs": [],
   "source": [
    "## calculate stats before removing\n",
    "\n",
    "n_rows_before = df_only_nodenormed.shape[0]\n",
    "n_rows_refuted = df_only_nodenormed[df_only_nodenormed[\"confidence\"] == \"refuted\"].shape[0]\n",
    "n_rows_disputed = df_only_nodenormed[df_only_nodenormed[\"confidence\"] == \"disputed\"].shape[0]"
   ]
  },
  {
   "cell_type": "code",
   "execution_count": 73,
   "id": "b368dfe8",
   "metadata": {
    "ExecuteTime": {
     "end_time": "2025-04-16T02:08:51.171150Z",
     "start_time": "2025-04-16T02:08:51.166005Z"
    }
   },
   "outputs": [],
   "source": [
    "## remove rows, calculate stats after\n",
    "\n",
    "df_only_nodenormed = df_only_nodenormed[~ df_only_nodenormed[\"confidence\"].isin([\"refuted\", \"disputed\"])]\n",
    "n_rows_after = df_only_nodenormed.shape[0]"
   ]
  },
  {
   "cell_type": "code",
   "execution_count": 75,
   "id": "002da44d",
   "metadata": {
    "ExecuteTime": {
     "end_time": "2025-04-16T02:09:20.669092Z",
     "start_time": "2025-04-16T02:09:20.665067Z"
    }
   },
   "outputs": [
    {
     "name": "stdout",
     "output_type": "stream",
     "text": [
      "Number of rows before: 2501\n",
      "\n",
      "Removing rows based on confidence:\n",
      "1: 'refuted'\n",
      "0: 'disputed'\n",
      "\n",
      "\n",
      "Number of rows after: 2500\n"
     ]
    }
   ],
   "source": [
    "## Print stats\n",
    "\n",
    "print(f\"Number of rows before: {n_rows_before}\\n\")\n",
    "\n",
    "print(f\"Removing rows based on confidence:\")\n",
    "print(f\"{n_rows_refuted}: 'refuted'\")\n",
    "print(f\"{n_rows_disputed}: 'disputed'\")\n",
    "print(\"\\n\")\n",
    "\n",
    "print(f\"Number of rows after: {n_rows_after}\")"
   ]
  },
  {
   "cell_type": "markdown",
   "id": "38ebbe59",
   "metadata": {},
   "source": [
    "## Generating documents"
   ]
  },
  {
   "cell_type": "code",
   "execution_count": 67,
   "id": "1bea6afb",
   "metadata": {
    "ExecuteTime": {
     "end_time": "2025-04-09T08:15:13.341029Z",
     "start_time": "2025-04-09T08:15:13.329228Z"
    }
   },
   "outputs": [
    {
     "data": {
      "text/plain": [
       "['ISK', 'JLNS2', 'LQT5', 'MINK']"
      ]
     },
     "execution_count": 67,
     "metadata": {},
     "output_type": "execute_result"
    }
   ],
   "source": [
    "## code chunk for testing parts of inner code\n",
    "\n",
    "for row in df.itertuples(index=False):\n",
    "    if pd.notna(row.previous_gene_symbols):\n",
    "        [i.strip() for i in row.previous_gene_symbols.split(\";\")]\n",
    "        break"
   ]
  },
  {
   "cell_type": "code",
   "execution_count": 68,
   "id": "4692267d",
   "metadata": {
    "ExecuteTime": {
     "end_time": "2025-04-09T08:15:13.485578Z",
     "start_time": "2025-04-09T08:15:13.344318Z"
    }
   },
   "outputs": [],
   "source": [
    "## put into parser (format): DONE\n",
    "##   don't save in array, yield each document instead\n",
    "\n",
    "## GENERATING DOCS, saving in array\n",
    "documents = []\n",
    "\n",
    "## using itertuples because it's faster, preserves datatypes\n",
    "for row in df_only_nodenormed.itertuples(index=False):\n",
    "    ## simple assignments\n",
    "    document = {\n",
    "        \"_id\": row.g2p_id,\n",
    "        \"subject\": {\n",
    "            \"id\": row.gene_nodenorm_id,\n",
    "            \"label\": row.gene_nodenorm_label,\n",
    "            \"original_subject\": row.hgnc_id,\n",
    "            \"original_data\": {\n",
    "                \"hgnc_symbol\": row.gene_symbol,\n",
    "                \"hgnc\": row.hgnc_id,\n",
    "            },\n",
    "            \"type\": \"Gene\"\n",
    "        },\n",
    "        \"association\": {\n",
    "            \"g2p_record_id\": row.g2p_id,\n",
    "            \"g2p_record_url\": row.g2p_record_url,\n",
    "            \"allelic_requirement\": row.allelic_requirement,\n",
    "            \"confidence\": row.confidence,\n",
    "            \"molecular_mechanism\": row.molecular_mechanism,\n",
    "            \"molecular_mechanism_categorisation\": row.molecular_mechanism_categorisation,\n",
    "            \"g2p_panels\": [i.strip() for i in row.panel.split(\";\")],\n",
    "            \"date_of_last_review\": str(row.date_of_last_review)\n",
    "        },\n",
    "        \"object\": {\n",
    "            \"id\": row.disease_nodenorm_id,\n",
    "            \"label\": row.disease_nodenorm_label,\n",
    "            ## currently, after NodeNorming, no NAs in OMIM/orphanet column\n",
    "            \"original_object\": row.disease_mim,\n",
    "            \"original_data\": {\n",
    "                ## not putting disease_mim here: parsing into separate OMIM and orphanet fields \n",
    "                \"name\": row.disease_name,\n",
    "            },\n",
    "            \"type\": \"Disease\"\n",
    "        }\n",
    "    }    \n",
    "    ## only create field if value is not NA\n",
    "    ##   if value is NA, list comprehension with split won't work\n",
    "    ## Gene\n",
    "    if pd.notna(row.gene_mim):\n",
    "        document[\"subject\"][\"original_data\"][\"omim\"] = row.gene_mim\n",
    "    if pd.notna(row.previous_gene_symbols):\n",
    "        document[\"subject\"][\"original_data\"][\"previous_gene_symbols\"] = \\\n",
    "        [i.strip() for i in row.previous_gene_symbols.split(\";\")]\n",
    "        \n",
    "    ## Association\n",
    "    if pd.notna(row.cross_cutting_modifier):\n",
    "        document[\"association\"][\"cross_cutting_modifiers\"] = [i.strip() for i in row.cross_cutting_modifier.split(\";\")]\n",
    "    if pd.notna(row.variant_consequence):\n",
    "        document[\"association\"][\"variant_consequences\"] = [i.strip() for i in row.variant_consequence.split(\";\")]\n",
    "    if pd.notna(row.variant_types):\n",
    "        document[\"association\"][\"variant_types\"] = [i.strip() for i in row.variant_types.split(\";\")]\n",
    "    ## uses diff delimiters, could do more parsing\n",
    "    if pd.notna(row.molecular_mechanism_evidence):\n",
    "        document[\"association\"][\"molecular_mechanism_evidence\"] = [i.strip() for i in row.molecular_mechanism_evidence.split(\"&\")]\n",
    "    if pd.notna(row.phenotypes):\n",
    "        document[\"association\"][\"phenotypes\"] = [i.strip() for i in row.phenotypes.split(\";\")]\n",
    "    if pd.notna(row.publications):\n",
    "        document[\"association\"][\"pmids\"] = [i.strip() for i in row.publications.split(\";\")]\n",
    "    if pd.notna(row.comments):\n",
    "        document[\"association\"][\"curator_comments\"] = row.comments\n",
    "     \n",
    "    ## Disease\n",
    "    ## disease_mim: create field depending on whether OMIM or orphanet    \n",
    "    if pd.notna(row.disease_mim):\n",
    "        if row.disease_mim.startswith(\"orphanet\"):\n",
    "            document[\"object\"][\"original_data\"][\"orphanet\"] = row.disease_mim\n",
    "        elif row.disease_mim.startswith(\"OMIM\"):\n",
    "            document[\"object\"][\"original_data\"][\"omim\"] = row.disease_mim\n",
    "    if pd.notna(row.disease_MONDO):\n",
    "        document[\"object\"][\"original_data\"][\"mondo\"] = row.disease_MONDO\n",
    "    \n",
    "    documents.append(document)"
   ]
  },
  {
   "cell_type": "markdown",
   "id": "cdd0f4f7",
   "metadata": {},
   "source": [
    "## Checking documents"
   ]
  },
  {
   "cell_type": "code",
   "execution_count": 69,
   "id": "0d715012",
   "metadata": {
    "ExecuteTime": {
     "end_time": "2025-04-09T08:15:13.492171Z",
     "start_time": "2025-04-09T08:15:13.488228Z"
    }
   },
   "outputs": [
    {
     "data": {
      "text/plain": [
       "2499"
      ]
     },
     "execution_count": 69,
     "metadata": {},
     "output_type": "execute_result"
    }
   ],
   "source": [
    "len(documents)"
   ]
  },
  {
   "cell_type": "code",
   "execution_count": 70,
   "id": "496719ed",
   "metadata": {
    "ExecuteTime": {
     "end_time": "2025-04-09T08:15:13.496813Z",
     "start_time": "2025-04-09T08:15:13.494280Z"
    }
   },
   "outputs": [],
   "source": [
    "## code chunk for finding rows -> then look up corresponding doc by idx\n",
    "# df_only_nodenormed[df_only_nodenormed[\"disease_mim\"].str.contains(\"orphanet\", na=False)]\n",
    "\n",
    "\n",
    "# df_only_nodenormed[df_only_nodenormed[\"previous_gene_symbols\"].isna()]\n",
    "# df_only_nodenormed[df_only_nodenormed[\"disease_MONDO\"].notna()]"
   ]
  },
  {
   "cell_type": "code",
   "execution_count": 71,
   "id": "513e415a",
   "metadata": {
    "ExecuteTime": {
     "end_time": "2025-04-09T08:15:13.504035Z",
     "start_time": "2025-04-09T08:15:13.499087Z"
    }
   },
   "outputs": [
    {
     "name": "stdout",
     "output_type": "stream",
     "text": [
      "{'_id': 'G2P00116',\n",
      " 'association': {'allelic_requirement': 'biallelic_autosomal',\n",
      "                 'confidence': 'definitive',\n",
      "                 'date_of_last_review': '2015-07-22 16:14:16+00:00',\n",
      "                 'g2p_panels': ['Developmental disorders'],\n",
      "                 'g2p_record_id': 'G2P00116',\n",
      "                 'g2p_record_url': 'https://www.ebi.ac.uk/gene2phenotype/lgd/G2P00116',\n",
      "                 'molecular_mechanism': 'loss of function',\n",
      "                 'molecular_mechanism_categorisation': 'inferred',\n",
      "                 'phenotypes': ['HP:0003281',\n",
      "                                'HP:0001903',\n",
      "                                'HP:0003593',\n",
      "                                'HP:0001425',\n",
      "                                'HP:0000007'],\n",
      "                 'pmids': ['19412178'],\n",
      "                 'variant_consequences': ['absent gene product']},\n",
      " 'object': {'id': 'MONDO:0008785',\n",
      "            'label': 'sideroblastic anemia 2',\n",
      "            'original_data': {'name': 'SLC25A38-related anemia, sideroblastic, '\n",
      "                                      'pyridoxine-refractory',\n",
      "                              'omim': 'OMIM:205950'},\n",
      "            'original_object': 'OMIM:205950',\n",
      "            'type': 'Disease'},\n",
      " 'subject': {'id': 'NCBIGene:54977',\n",
      "             'label': 'SLC25A38',\n",
      "             'original_data': {'hgnc': 'HGNC:26054',\n",
      "                               'hgnc_symbol': 'SLC25A38',\n",
      "                               'omim': 'OMIM:610819',\n",
      "                               'previous_gene_symbols': ['FLJ20551']},\n",
      "             'original_subject': 'HGNC:26054',\n",
      "             'type': 'Gene'}}\n"
     ]
    }
   ],
   "source": [
    "pprint(documents[416])\n",
    "\n",
    "# documents[416]"
   ]
  },
  {
   "cell_type": "markdown",
   "id": "c3fb5da8",
   "metadata": {},
   "source": [
    "## Parser notes"
   ]
  },
  {
   "cell_type": "markdown",
   "id": "8ebfd610",
   "metadata": {},
   "source": [
    "Fine to use raise/assert in parser (raise is technically better programming behavior: https://realpython.com/python-assert-statement/#understanding-common-pitfalls-of-assert)\n",
    "\n",
    "\n",
    "My notes on parser:\n",
    "* adding prefixes to gene/disease IDs is good for pre-NodeNorming steps\n",
    "* keeping diff gene/disease ID namespaces as separate fields right now is good for current BTE/x-bte-annotation system\n",
    "  * Also, original subject will always be HGNC, original object will always be disease OMIM with current code\n",
    "\n",
    "\n",
    "My notes on syntax:\n",
    "* use `yield` when you want to \"return\" within a \"for loop\" (return only happen once, then exit for-loop/function execution)\n",
    "  * that's what it's used in main execution, when you're iterating over csv rows to generate documents\n",
    "* use `yield from {function}` to get the data from a generator (created by `yield` being used the function)"
   ]
  },
  {
   "cell_type": "code",
   "execution_count": null,
   "id": "2d34c282",
   "metadata": {},
   "outputs": [],
   "source": []
  }
 ],
 "metadata": {
  "kernelspec": {
   "display_name": "Python 3 (ipykernel)",
   "language": "python",
   "name": "python3"
  },
  "language_info": {
   "codemirror_mode": {
    "name": "ipython",
    "version": 3
   },
   "file_extension": ".py",
   "mimetype": "text/x-python",
   "name": "python",
   "nbconvert_exporter": "python",
   "pygments_lexer": "ipython3",
   "version": "3.12.9"
  },
  "toc": {
   "base_numbering": 1,
   "nav_menu": {},
   "number_sections": false,
   "sideBar": true,
   "skip_h1_title": true,
   "title_cell": "Table of Contents",
   "title_sidebar": "Contents",
   "toc_cell": true,
   "toc_position": {
    "height": "calc(100% - 180px)",
    "left": "10px",
    "top": "150px",
    "width": "258.15px"
   },
   "toc_section_display": true,
   "toc_window_display": false
  }
 },
 "nbformat": 4,
 "nbformat_minor": 5
}
