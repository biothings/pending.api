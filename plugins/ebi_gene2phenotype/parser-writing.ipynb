{
 "cells": [
  {
   "cell_type": "markdown",
   "id": "65fd087a",
   "metadata": {
    "toc": true
   },
   "source": [
    "<h1>Table of Contents<span class=\"tocSkip\"></span></h1>\n",
    "<div class=\"toc\"><ul class=\"toc-item\"><li><span><a href=\"#Loading-data\" data-toc-modified-id=\"Loading-data-1\">Loading data</a></span></li><li><span><a href=\"#Check,-remove-duplicates\" data-toc-modified-id=\"Check,-remove-duplicates-2\">Check, remove duplicates</a></span></li><li><span><a href=\"#Column-level-transforms\" data-toc-modified-id=\"Column-level-transforms-3\">Column-level transforms</a></span></li><li><span><a href=\"#Confidence-values\" data-toc-modified-id=\"Confidence-values-4\">Confidence values</a></span><ul class=\"toc-item\"><li><span><a href=\"#Removing-rows-+-stats\" data-toc-modified-id=\"Removing-rows-+-stats-4.1\">Removing rows + stats</a></span></li></ul></li><li><span><a href=\"#Pre-NodeNorming\" data-toc-modified-id=\"Pre-NodeNorming-5\">Pre-NodeNorming</a></span><ul class=\"toc-item\"><li><span><a href=\"#Exploring:-Genes\" data-toc-modified-id=\"Exploring:-Genes-5.1\">Exploring: Genes</a></span><ul class=\"toc-item\"><li><span><a href=\"#HGNC\" data-toc-modified-id=\"HGNC-5.1.1\">HGNC</a></span></li><li><span><a href=\"#OMIM\" data-toc-modified-id=\"OMIM-5.1.2\">OMIM</a></span></li><li><span><a href=\"#Comparing-HGNC-vs-OMIM\" data-toc-modified-id=\"Comparing-HGNC-vs-OMIM-5.1.3\">Comparing HGNC vs OMIM</a></span></li><li><span><a href=\"#Conclusions\" data-toc-modified-id=\"Conclusions-5.1.4\">Conclusions</a></span></li></ul></li><li><span><a href=\"#Exploring:-Diseases\" data-toc-modified-id=\"Exploring:-Diseases-5.2\">Exploring: Diseases</a></span><ul class=\"toc-item\"><li><span><a href=\"#OMIM/orphanet\" data-toc-modified-id=\"OMIM/orphanet-5.2.1\">OMIM/orphanet</a></span></li><li><span><a href=\"#MONDO\" data-toc-modified-id=\"MONDO-5.2.2\">MONDO</a></span></li><li><span><a href=\"#Comparing-OMIM/orphanet-vs-MONDO\" data-toc-modified-id=\"Comparing-OMIM/orphanet-vs-MONDO-5.2.3\">Comparing OMIM/orphanet vs MONDO</a></span></li><li><span><a href=\"#Checking-MONDO-data\" data-toc-modified-id=\"Checking-MONDO-data-5.2.4\">Checking MONDO data</a></span></li><li><span><a href=\"#Conclusions\" data-toc-modified-id=\"Conclusions-5.2.5\">Conclusions</a></span></li></ul></li></ul></li><li><span><a href=\"#Stats-on-rows-removed-during-NodeNorming\" data-toc-modified-id=\"Stats-on-rows-removed-during-NodeNorming-6\">Stats on rows removed during NodeNorming</a></span></li><li><span><a href=\"#Adding-NodeNorm-data,-removing-rows\" data-toc-modified-id=\"Adding-NodeNorm-data,-removing-rows-7\">Adding NodeNorm data, removing rows</a></span></li><li><span><a href=\"#Generating-documents\" data-toc-modified-id=\"Generating-documents-8\">Generating documents</a></span><ul class=\"toc-item\"><li><span><a href=\"#Rows-not-included\" data-toc-modified-id=\"Rows-not-included-8.1\">Rows not included</a></span></li><li><span><a href=\"#Columns-not-included\" data-toc-modified-id=\"Columns-not-included-8.2\">Columns not included</a></span></li><li><span><a href=\"#Generating-now!\" data-toc-modified-id=\"Generating-now!-8.3\">Generating now!</a></span></li></ul></li><li><span><a href=\"#Checking-documents\" data-toc-modified-id=\"Checking-documents-9\">Checking documents</a></span></li><li><span><a href=\"#BioThings-Parser-notes\" data-toc-modified-id=\"BioThings-Parser-notes-10\">BioThings Parser notes</a></span></li></ul></div>"
   ]
  },
  {
   "cell_type": "markdown",
   "id": "f18ee197",
   "metadata": {},
   "source": [
    "# Notebook for parser development"
   ]
  },
  {
   "cell_type": "code",
   "execution_count": 1,
   "id": "3573099c",
   "metadata": {
    "ExecuteTime": {
     "end_time": "2025-04-18T06:36:54.408008Z",
     "start_time": "2025-04-18T06:36:54.363469Z"
    }
   },
   "outputs": [],
   "source": [
    "## not for parser. for notebook only \n",
    "\n",
    "## CX: allows multiple lines of code to print from one code block\n",
    "from IPython.core.interactiveshell import InteractiveShell\n",
    "InteractiveShell.ast_node_interactivity = \"all\""
   ]
  },
  {
   "cell_type": "markdown",
   "id": "aa862467",
   "metadata": {},
   "source": [
    "## Loading data"
   ]
  },
  {
   "cell_type": "markdown",
   "id": "96f2ef49",
   "metadata": {},
   "source": [
    "__Current approach__ is to load all files into 1 pandas dataframe. Then I can...\n",
    "\n",
    "1. check the duplicates situation: records found in multiple panel files. I can check whether the same record looks different between files or not (by checking duplicates using all columns vs key columns). -> Raise errors if yes\n",
    "2. remove duplicates before generating documents\n",
    "3. Do some tasks column-wise over all the data, rather than while iterating over rows\n",
    "\n",
    "Notes:\n",
    "* There are a few existing BioThings parsers that also use `pandas` to load the entire raw data file at once: https://github.com/search?q=repo%3Abiothings%2Fpending.api%20pandas&type=code\n",
    "* But there are other parsers that use `csv` to load the file **one row at a time** (generator): https://github.com/search?q=repo%3Abiothings%2Fpending.api+csv+reader&type=code\n",
    "\n",
    "---\n",
    "\n",
    "If I did the generator approach (load files 1 by 1, 1 row at a time), I'd have to modify how I do things:\n",
    "1. Don't do the duplicates check. But try to mitigate potential \"duplicate\" issues: \n",
    "   - Sort all delimited strings\n",
    "   - Use a hash of all column values (when they're all strings) for `_id`. Want rows with all the same values to produce the same hash\n",
    "2. Either leave to BioThings toolset to remove duplicates, or could save a running set of `_id` hashes to check if row was already encountered -> not create duplicate docs\n",
    "3. Do the tasks on single rows/chunks (pandas [read_csv](https://pandas.pydata.org/docs/reference/api/pandas.read_csv.html#pandas.read_csv) has an iterator for rows/chunks! see iterator/chunksize parameters)"
   ]
  },
  {
   "cell_type": "code",
   "execution_count": 2,
   "id": "8325a51e",
   "metadata": {
    "ExecuteTime": {
     "end_time": "2025-04-18T06:36:55.372517Z",
     "start_time": "2025-04-18T06:36:54.410535Z"
    }
   },
   "outputs": [],
   "source": [
    "## put into parser: DONE\n",
    "import pathlib\n",
    "import pandas as pd\n",
    "\n",
    "## don't put in parser. Just for this notebook\n",
    "import glob\n",
    "from pprint import pprint\n",
    "\n",
    "## unsure on putting into parser: more for notebook viewing/debugging...\n",
    "pd.options.display.max_columns = None"
   ]
  },
  {
   "cell_type": "markdown",
   "id": "e23c358f",
   "metadata": {},
   "source": [
    "<div class=\"alert alert-block alert-danger\">\n",
    "\n",
    "Adjust the code block below for path/pattern for data files. \n",
    "    \n",
    "This notebook was originally written using data files from the 2025-02-28 release to FTP site "
   ]
  },
  {
   "cell_type": "code",
   "execution_count": 3,
   "id": "63f0a6ac",
   "metadata": {
    "ExecuteTime": {
     "end_time": "2025-04-18T06:36:55.382860Z",
     "start_time": "2025-04-18T06:36:55.374628Z"
    }
   },
   "outputs": [
    {
     "data": {
      "text/plain": [
       "[PosixPath('/Users/colleenxu/Desktop/EBIgene2pheno_files/From_FTP/2025-03-28/DDG2P_2025-03-28.csv.gz'),\n",
       " PosixPath('/Users/colleenxu/Desktop/EBIgene2pheno_files/From_FTP/2025-03-28/HearingLossG2P_2025-03-28.csv.gz'),\n",
       " PosixPath('/Users/colleenxu/Desktop/EBIgene2pheno_files/From_FTP/2025-03-28/SkinG2P_2025-03-28.csv.gz'),\n",
       " PosixPath('/Users/colleenxu/Desktop/EBIgene2pheno_files/From_FTP/2025-03-28/CancerG2P_2025-03-28.csv.gz'),\n",
       " PosixPath('/Users/colleenxu/Desktop/EBIgene2pheno_files/From_FTP/2025-03-28/CardiacG2P_2025-03-28.csv.gz'),\n",
       " PosixPath('/Users/colleenxu/Desktop/EBIgene2pheno_files/From_FTP/2025-03-28/SkeletalG2P_2025-03-28.csv.gz'),\n",
       " PosixPath('/Users/colleenxu/Desktop/EBIgene2pheno_files/From_FTP/2025-03-28/EyeG2P_2025-03-28.csv.gz')]"
      ]
     },
     "execution_count": 3,
     "metadata": {},
     "output_type": "execute_result"
    }
   ],
   "source": [
    "## put into parser (format): DONE\n",
    "\n",
    "base_file_path = pathlib.Path.home().joinpath(\"Desktop\", \"EBIgene2pheno_files\", \n",
    "                                              \"From_FTP\", \"2025-03-28\")\n",
    "\n",
    "## uses pathlib's Path.glob, which produces a generator. \n",
    "## cast into list so parser code can check if paths were actually matched or not\n",
    "all_file_paths = list(base_file_path.glob(\"*.csv.gz\"))\n",
    "all_file_paths"
   ]
  },
  {
   "cell_type": "code",
   "execution_count": 4,
   "id": "0b010c8a",
   "metadata": {
    "ExecuteTime": {
     "end_time": "2025-04-18T06:36:55.392711Z",
     "start_time": "2025-04-18T06:36:55.386677Z"
    }
   },
   "outputs": [
    {
     "data": {
      "text/plain": [
       "<generator object Path.glob at 0x10ebd7010>"
      ]
     },
     "execution_count": 4,
     "metadata": {},
     "output_type": "execute_result"
    },
    {
     "data": {
      "text/plain": [
       "[]"
      ]
     },
     "execution_count": 4,
     "metadata": {},
     "output_type": "execute_result"
    }
   ],
   "source": [
    "## an example: pathlib's Path.glob produces a generator\n",
    "## vs glob.glob produces an array (from cwd only?)\n",
    "base_file_path.glob(\"*2025-02-28.csv.gz\")\n",
    "glob.glob(\"*2025-02-28.csv.gz\")"
   ]
  },
  {
   "cell_type": "code",
   "execution_count": 5,
   "id": "dd0fc904",
   "metadata": {
    "ExecuteTime": {
     "end_time": "2025-04-18T06:36:55.507479Z",
     "start_time": "2025-04-18T06:36:55.394982Z"
    },
    "scrolled": true
   },
   "outputs": [],
   "source": [
    "## put into parser (format): DONE\n",
    "\n",
    "## using generator expression (think list/dict comprehension) within pd.concat to load files 1 at a time\n",
    "## ingesting all columns as str for now\n",
    "df = pd.concat((pd.read_csv(f, dtype=str) for f in all_file_paths), ignore_index=True)\n",
    "\n",
    "## make column names snake-case - usable with itertuples later\n",
    "df.columns = df.columns.str.replace(\" \", \"_\")"
   ]
  },
  {
   "cell_type": "code",
   "execution_count": 6,
   "id": "141a10e4",
   "metadata": {
    "ExecuteTime": {
     "end_time": "2025-04-18T06:36:55.521813Z",
     "start_time": "2025-04-18T06:36:55.509754Z"
    }
   },
   "outputs": [
    {
     "name": "stdout",
     "output_type": "stream",
     "text": [
      "<class 'pandas.core.series.Series'>\n",
      "RangeIndex: 4726 entries, 0 to 4725\n",
      "Series name: date_of_last_review\n",
      "Non-Null Count  Dtype \n",
      "--------------  ----- \n",
      "4726 non-null   object\n",
      "dtypes: object(1)\n",
      "memory usage: 341.7 KB\n"
     ]
    }
   ],
   "source": [
    "df[\"date_of_last_review\"].info(memory_usage=\"deep\")"
   ]
  },
  {
   "cell_type": "code",
   "execution_count": 7,
   "id": "73f6a6fb",
   "metadata": {
    "ExecuteTime": {
     "end_time": "2025-04-18T06:36:55.539451Z",
     "start_time": "2025-04-18T06:36:55.524189Z"
    }
   },
   "outputs": [
    {
     "name": "stdout",
     "output_type": "stream",
     "text": [
      "<class 'pandas.core.series.Series'>\n",
      "RangeIndex: 4726 entries, 0 to 4725\n",
      "Series name: date_of_last_review\n",
      "Non-Null Count  Dtype              \n",
      "--------------  -----              \n",
      "4726 non-null   datetime64[ns, UTC]\n",
      "dtypes: datetime64[ns, UTC](1)\n",
      "memory usage: 37.1 KB\n"
     ]
    }
   ],
   "source": [
    "## change this column to datetime, saves memory\n",
    "df[\"date_of_last_review\"] = pd.to_datetime(df[\"date_of_last_review\"])\n",
    "df[\"date_of_last_review\"].info(memory_usage=\"deep\")"
   ]
  },
  {
   "cell_type": "code",
   "execution_count": 8,
   "id": "13360ed5",
   "metadata": {
    "ExecuteTime": {
     "end_time": "2025-04-18T06:36:55.544713Z",
     "start_time": "2025-04-18T06:36:55.541836Z"
    }
   },
   "outputs": [],
   "source": [
    "## I couldn't figure out how to import + ingest column as datetime in 1 step \n",
    "## this is what I tried that didn't work\n",
    "\n",
    "## worked with pandas 2.0.3, but didn't work with pandas 2.2.3: ingested as str\n",
    "# df = pd.concat((pd.read_csv(f, dtype=str, parse_dates=[\"date of last review\"]) \n",
    "#                 for f in all_file_paths), ignore_index=True)\n",
    "\n",
    "## doesn't work\n",
    "# df = pd.concat((pd.read_csv(f, dtype=str, parse_dates=[\"date of last review\"], \n",
    "#                            date_format=\"%Y-%m-%d %H:%M:%S%:z\") \n",
    "#                 for f in all_file_paths), ignore_index=True)\n",
    "## throws an error\n",
    "# df = pd.concat((pd.read_csv(f, dtype=str, parse_dates=[[\"date of last review\"]], \n",
    "#                            date_format=\"%Y-%m-%d %H:%M:%S%:z\") \n",
    "#                 for f in all_file_paths), ignore_index=True)\n",
    "## throws an error\n",
    "# df = pd.concat((pd.read_csv(f, dtype={\"date of last review\": pd.datetime64[ns, tz]})\n",
    "#                 for f in all_file_paths), ignore_index=True)"
   ]
  },
  {
   "cell_type": "code",
   "execution_count": 9,
   "id": "f6e957f0",
   "metadata": {
    "ExecuteTime": {
     "end_time": "2025-04-18T06:36:55.570213Z",
     "start_time": "2025-04-18T06:36:55.546870Z"
    }
   },
   "outputs": [
    {
     "data": {
      "text/plain": [
       "(4726, 21)"
      ]
     },
     "execution_count": 9,
     "metadata": {},
     "output_type": "execute_result"
    },
    {
     "data": {
      "text/html": [
       "<div>\n",
       "<style scoped>\n",
       "    .dataframe tbody tr th:only-of-type {\n",
       "        vertical-align: middle;\n",
       "    }\n",
       "\n",
       "    .dataframe tbody tr th {\n",
       "        vertical-align: top;\n",
       "    }\n",
       "\n",
       "    .dataframe thead th {\n",
       "        text-align: right;\n",
       "    }\n",
       "</style>\n",
       "<table border=\"1\" class=\"dataframe\">\n",
       "  <thead>\n",
       "    <tr style=\"text-align: right;\">\n",
       "      <th></th>\n",
       "      <th>g2p_id</th>\n",
       "      <th>gene_symbol</th>\n",
       "      <th>gene_mim</th>\n",
       "      <th>hgnc_id</th>\n",
       "      <th>previous_gene_symbols</th>\n",
       "      <th>disease_name</th>\n",
       "      <th>disease_mim</th>\n",
       "      <th>disease_MONDO</th>\n",
       "      <th>allelic_requirement</th>\n",
       "      <th>cross_cutting_modifier</th>\n",
       "      <th>confidence</th>\n",
       "      <th>variant_consequence</th>\n",
       "      <th>variant_types</th>\n",
       "      <th>molecular_mechanism</th>\n",
       "      <th>molecular_mechanism_categorisation</th>\n",
       "      <th>molecular_mechanism_evidence</th>\n",
       "      <th>phenotypes</th>\n",
       "      <th>publications</th>\n",
       "      <th>panel</th>\n",
       "      <th>comments</th>\n",
       "      <th>date_of_last_review</th>\n",
       "    </tr>\n",
       "  </thead>\n",
       "  <tbody>\n",
       "    <tr>\n",
       "      <th>0</th>\n",
       "      <td>G2P00001</td>\n",
       "      <td>HMX1</td>\n",
       "      <td>142992</td>\n",
       "      <td>5017</td>\n",
       "      <td>H6; NKX5-3</td>\n",
       "      <td>HMX1-related oculoauricular syndrome</td>\n",
       "      <td>612109</td>\n",
       "      <td>NaN</td>\n",
       "      <td>biallelic_autosomal</td>\n",
       "      <td>NaN</td>\n",
       "      <td>definitive</td>\n",
       "      <td>absent gene product</td>\n",
       "      <td>NaN</td>\n",
       "      <td>loss of function</td>\n",
       "      <td>inferred</td>\n",
       "      <td>NaN</td>\n",
       "      <td>HP:0000568; HP:0000589; HP:0000007; HP:0000482...</td>\n",
       "      <td>18423520; 25574057; 29140751</td>\n",
       "      <td>DD; Eye</td>\n",
       "      <td>NaN</td>\n",
       "      <td>2019-09-26 16:23:46+00:00</td>\n",
       "    </tr>\n",
       "    <tr>\n",
       "      <th>1</th>\n",
       "      <td>G2P00002</td>\n",
       "      <td>SLX4</td>\n",
       "      <td>613278</td>\n",
       "      <td>23845</td>\n",
       "      <td>BTBD12; FANCP; KIAA1784; KIAA1987</td>\n",
       "      <td>SLX4-related Fanconi anemia</td>\n",
       "      <td>613951</td>\n",
       "      <td>NaN</td>\n",
       "      <td>biallelic_autosomal</td>\n",
       "      <td>NaN</td>\n",
       "      <td>definitive</td>\n",
       "      <td>absent gene product</td>\n",
       "      <td>NaN</td>\n",
       "      <td>loss of function</td>\n",
       "      <td>inferred</td>\n",
       "      <td>NaN</td>\n",
       "      <td>HP:0000347; HP:0000007; HP:0001903; HP:0002984...</td>\n",
       "      <td>21240275; 21240277</td>\n",
       "      <td>DD</td>\n",
       "      <td>NaN</td>\n",
       "      <td>2025-01-28 23:09:54+00:00</td>\n",
       "    </tr>\n",
       "    <tr>\n",
       "      <th>2</th>\n",
       "      <td>G2P00003</td>\n",
       "      <td>ARG1</td>\n",
       "      <td>608313</td>\n",
       "      <td>663</td>\n",
       "      <td>NaN</td>\n",
       "      <td>ARG1-related argininemia</td>\n",
       "      <td>207800</td>\n",
       "      <td>NaN</td>\n",
       "      <td>biallelic_autosomal</td>\n",
       "      <td>NaN</td>\n",
       "      <td>definitive</td>\n",
       "      <td>absent gene product</td>\n",
       "      <td>NaN</td>\n",
       "      <td>loss of function</td>\n",
       "      <td>inferred</td>\n",
       "      <td>NaN</td>\n",
       "      <td>HP:0000752; HP:0000737; HP:0000007; HP:0008339...</td>\n",
       "      <td>10502833; 1598908; 7649538; 1463019; 2365823</td>\n",
       "      <td>DD</td>\n",
       "      <td>NaN</td>\n",
       "      <td>2015-07-22 16:14:07+00:00</td>\n",
       "    </tr>\n",
       "    <tr>\n",
       "      <th>3</th>\n",
       "      <td>G2P00004</td>\n",
       "      <td>ATR</td>\n",
       "      <td>601215</td>\n",
       "      <td>882</td>\n",
       "      <td>FRP1; MEC1; SCKL; SCKL1</td>\n",
       "      <td>ATR-related Seckel syndrome</td>\n",
       "      <td>210600</td>\n",
       "      <td>NaN</td>\n",
       "      <td>biallelic_autosomal</td>\n",
       "      <td>NaN</td>\n",
       "      <td>strong</td>\n",
       "      <td>absent gene product</td>\n",
       "      <td>NaN</td>\n",
       "      <td>loss of function</td>\n",
       "      <td>inferred</td>\n",
       "      <td>NaN</td>\n",
       "      <td>HP:0000347; HP:0010230; HP:0001249; HP:0002750...</td>\n",
       "      <td>NaN</td>\n",
       "      <td>DD; Skeletal</td>\n",
       "      <td>NaN</td>\n",
       "      <td>2025-01-27 14:24:27+00:00</td>\n",
       "    </tr>\n",
       "    <tr>\n",
       "      <th>4</th>\n",
       "      <td>G2P00005</td>\n",
       "      <td>FANCB</td>\n",
       "      <td>300515</td>\n",
       "      <td>3583</td>\n",
       "      <td>FAAP95; FAB; FLJ34064</td>\n",
       "      <td>FANCB-related Fanconi anemia</td>\n",
       "      <td>300514</td>\n",
       "      <td>NaN</td>\n",
       "      <td>monoallelic_X_hemizygous</td>\n",
       "      <td>NaN</td>\n",
       "      <td>definitive</td>\n",
       "      <td>absent gene product</td>\n",
       "      <td>NaN</td>\n",
       "      <td>loss of function</td>\n",
       "      <td>inferred</td>\n",
       "      <td>NaN</td>\n",
       "      <td>HP:0000924; HP:0001871; HP:0001701; HP:0000083...</td>\n",
       "      <td>16679491; 21910217; 36135330; 32106311; 307922...</td>\n",
       "      <td>DD; Skin</td>\n",
       "      <td>NaN</td>\n",
       "      <td>2024-08-20 14:13:58+00:00</td>\n",
       "    </tr>\n",
       "  </tbody>\n",
       "</table>\n",
       "</div>"
      ],
      "text/plain": [
       "     g2p_id gene_symbol gene_mim hgnc_id              previous_gene_symbols  \\\n",
       "0  G2P00001        HMX1   142992    5017                         H6; NKX5-3   \n",
       "1  G2P00002        SLX4   613278   23845  BTBD12; FANCP; KIAA1784; KIAA1987   \n",
       "2  G2P00003        ARG1   608313     663                                NaN   \n",
       "3  G2P00004         ATR   601215     882            FRP1; MEC1; SCKL; SCKL1   \n",
       "4  G2P00005       FANCB   300515    3583              FAAP95; FAB; FLJ34064   \n",
       "\n",
       "                           disease_name disease_mim disease_MONDO  \\\n",
       "0  HMX1-related oculoauricular syndrome      612109           NaN   \n",
       "1           SLX4-related Fanconi anemia      613951           NaN   \n",
       "2              ARG1-related argininemia      207800           NaN   \n",
       "3           ATR-related Seckel syndrome      210600           NaN   \n",
       "4          FANCB-related Fanconi anemia      300514           NaN   \n",
       "\n",
       "        allelic_requirement cross_cutting_modifier  confidence  \\\n",
       "0       biallelic_autosomal                    NaN  definitive   \n",
       "1       biallelic_autosomal                    NaN  definitive   \n",
       "2       biallelic_autosomal                    NaN  definitive   \n",
       "3       biallelic_autosomal                    NaN      strong   \n",
       "4  monoallelic_X_hemizygous                    NaN  definitive   \n",
       "\n",
       "   variant_consequence variant_types molecular_mechanism  \\\n",
       "0  absent gene product           NaN    loss of function   \n",
       "1  absent gene product           NaN    loss of function   \n",
       "2  absent gene product           NaN    loss of function   \n",
       "3  absent gene product           NaN    loss of function   \n",
       "4  absent gene product           NaN    loss of function   \n",
       "\n",
       "  molecular_mechanism_categorisation molecular_mechanism_evidence  \\\n",
       "0                           inferred                          NaN   \n",
       "1                           inferred                          NaN   \n",
       "2                           inferred                          NaN   \n",
       "3                           inferred                          NaN   \n",
       "4                           inferred                          NaN   \n",
       "\n",
       "                                          phenotypes  \\\n",
       "0  HP:0000568; HP:0000589; HP:0000007; HP:0000482...   \n",
       "1  HP:0000347; HP:0000007; HP:0001903; HP:0002984...   \n",
       "2  HP:0000752; HP:0000737; HP:0000007; HP:0008339...   \n",
       "3  HP:0000347; HP:0010230; HP:0001249; HP:0002750...   \n",
       "4  HP:0000924; HP:0001871; HP:0001701; HP:0000083...   \n",
       "\n",
       "                                        publications         panel comments  \\\n",
       "0                       18423520; 25574057; 29140751       DD; Eye      NaN   \n",
       "1                                 21240275; 21240277            DD      NaN   \n",
       "2       10502833; 1598908; 7649538; 1463019; 2365823            DD      NaN   \n",
       "3                                                NaN  DD; Skeletal      NaN   \n",
       "4  16679491; 21910217; 36135330; 32106311; 307922...      DD; Skin      NaN   \n",
       "\n",
       "        date_of_last_review  \n",
       "0 2019-09-26 16:23:46+00:00  \n",
       "1 2025-01-28 23:09:54+00:00  \n",
       "2 2015-07-22 16:14:07+00:00  \n",
       "3 2025-01-27 14:24:27+00:00  \n",
       "4 2024-08-20 14:13:58+00:00  "
      ]
     },
     "execution_count": 9,
     "metadata": {},
     "output_type": "execute_result"
    }
   ],
   "source": [
    "df.shape\n",
    "df.head()"
   ]
  },
  {
   "cell_type": "code",
   "execution_count": 10,
   "id": "51f96324",
   "metadata": {
    "ExecuteTime": {
     "end_time": "2025-04-18T06:36:55.615102Z",
     "start_time": "2025-04-18T06:36:55.575421Z"
    }
   },
   "outputs": [
    {
     "name": "stdout",
     "output_type": "stream",
     "text": [
      "<class 'pandas.core.frame.DataFrame'>\n",
      "RangeIndex: 4726 entries, 0 to 4725\n",
      "Data columns (total 21 columns):\n",
      " #   Column                              Non-Null Count  Dtype              \n",
      "---  ------                              --------------  -----              \n",
      " 0   g2p_id                              4726 non-null   object             \n",
      " 1   gene_symbol                         4726 non-null   object             \n",
      " 2   gene_mim                            4724 non-null   object             \n",
      " 3   hgnc_id                             4726 non-null   object             \n",
      " 4   previous_gene_symbols               4251 non-null   object             \n",
      " 5   disease_name                        4726 non-null   object             \n",
      " 6   disease_mim                         3576 non-null   object             \n",
      " 7   disease_MONDO                       641 non-null    object             \n",
      " 8   allelic_requirement                 4726 non-null   object             \n",
      " 9   cross_cutting_modifier              632 non-null    object             \n",
      " 10  confidence                          4726 non-null   object             \n",
      " 11  variant_consequence                 4705 non-null   object             \n",
      " 12  variant_types                       1203 non-null   object             \n",
      " 13  molecular_mechanism                 4726 non-null   object             \n",
      " 14  molecular_mechanism_categorisation  4726 non-null   object             \n",
      " 15  molecular_mechanism_evidence        92 non-null     object             \n",
      " 16  phenotypes                          3395 non-null   object             \n",
      " 17  publications                        4305 non-null   object             \n",
      " 18  panel                               4726 non-null   object             \n",
      " 19  comments                            136 non-null    object             \n",
      " 20  date_of_last_review                 4726 non-null   datetime64[ns, UTC]\n",
      "dtypes: datetime64[ns, UTC](1), object(20)\n",
      "memory usage: 6.1 MB\n"
     ]
    }
   ],
   "source": [
    "df.info(memory_usage=\"deep\")"
   ]
  },
  {
   "cell_type": "markdown",
   "id": "2a5724a6",
   "metadata": {},
   "source": [
    "## Check, remove duplicates"
   ]
  },
  {
   "cell_type": "markdown",
   "id": "5a41d004",
   "metadata": {},
   "source": [
    "There are duplicate rows in this dataframe because the record (gene + disease + more) is in several panels (disease falls into multiple categories). This was explored in the data-playground notebook. \n",
    "\n",
    "We want to drop those duplicates. \n",
    "However, I was concerned that the delimited-string values could differ (only in list order) for the same record in diff files. \n",
    "So that's what this check is for. "
   ]
  },
  {
   "cell_type": "code",
   "execution_count": 11,
   "id": "a6531826",
   "metadata": {
    "ExecuteTime": {
     "end_time": "2025-04-18T06:36:55.637986Z",
     "start_time": "2025-04-18T06:36:55.617589Z"
    }
   },
   "outputs": [],
   "source": [
    "## put into parser (format): DONE\n",
    "\n",
    "n_duplicates_column_combo = df[df.duplicated(subset=[\"g2p_id\"], keep=False)].shape\n",
    "\n",
    "n_duplicates_all_columns = df[df.duplicated(keep=False)].shape\n",
    "\n",
    "## for testing\n",
    "# n_duplicates_all_columns = (1, 1)\n",
    "\n",
    "\n",
    "if n_duplicates_column_combo != n_duplicates_all_columns: \n",
    "    raise AssertionError(\"The data format has changed, and the assumptions about duplicates/key columns may \" \\\n",
    "                          \"no longer hold. Re-explore the data and adjust the parser.\")"
   ]
  },
  {
   "cell_type": "code",
   "execution_count": 12,
   "id": "1659d217",
   "metadata": {
    "ExecuteTime": {
     "end_time": "2025-04-18T06:36:55.656986Z",
     "start_time": "2025-04-18T06:36:55.640275Z"
    }
   },
   "outputs": [],
   "source": [
    "## put into parser (format): DONE\n",
    "\n",
    "## drop duplicates\n",
    "df.drop_duplicates(inplace=True, ignore_index=True)"
   ]
  },
  {
   "cell_type": "code",
   "execution_count": 13,
   "id": "8b25cb57",
   "metadata": {
    "ExecuteTime": {
     "end_time": "2025-04-18T06:36:55.689402Z",
     "start_time": "2025-04-18T06:36:55.659282Z"
    },
    "scrolled": true
   },
   "outputs": [
    {
     "name": "stdout",
     "output_type": "stream",
     "text": [
      "<class 'pandas.core.frame.DataFrame'>\n",
      "RangeIndex: 3659 entries, 0 to 3658\n",
      "Data columns (total 21 columns):\n",
      " #   Column                              Non-Null Count  Dtype              \n",
      "---  ------                              --------------  -----              \n",
      " 0   g2p_id                              3659 non-null   object             \n",
      " 1   gene_symbol                         3659 non-null   object             \n",
      " 2   gene_mim                            3657 non-null   object             \n",
      " 3   hgnc_id                             3659 non-null   object             \n",
      " 4   previous_gene_symbols               3287 non-null   object             \n",
      " 5   disease_name                        3659 non-null   object             \n",
      " 6   disease_mim                         2572 non-null   object             \n",
      " 7   disease_MONDO                       564 non-null    object             \n",
      " 8   allelic_requirement                 3659 non-null   object             \n",
      " 9   cross_cutting_modifier              454 non-null    object             \n",
      " 10  confidence                          3659 non-null   object             \n",
      " 11  variant_consequence                 3641 non-null   object             \n",
      " 12  variant_types                       1010 non-null   object             \n",
      " 13  molecular_mechanism                 3659 non-null   object             \n",
      " 14  molecular_mechanism_categorisation  3659 non-null   object             \n",
      " 15  molecular_mechanism_evidence        81 non-null     object             \n",
      " 16  phenotypes                          2431 non-null   object             \n",
      " 17  publications                        3313 non-null   object             \n",
      " 18  panel                               3659 non-null   object             \n",
      " 19  comments                            110 non-null    object             \n",
      " 20  date_of_last_review                 3659 non-null   datetime64[ns, UTC]\n",
      "dtypes: datetime64[ns, UTC](1), object(20)\n",
      "memory usage: 4.6 MB\n"
     ]
    }
   ],
   "source": [
    "df.info(memory_usage=\"deep\")"
   ]
  },
  {
   "cell_type": "markdown",
   "id": "a797c65d",
   "metadata": {},
   "source": [
    "## Column-level transforms"
   ]
  },
  {
   "cell_type": "markdown",
   "id": "a4feb973",
   "metadata": {},
   "source": [
    "Based on data-playground \"Notes on parsing data to create documents\" section"
   ]
  },
  {
   "cell_type": "code",
   "execution_count": 14,
   "id": "3f9b5222",
   "metadata": {
    "ExecuteTime": {
     "end_time": "2025-04-18T06:36:55.699540Z",
     "start_time": "2025-04-18T06:36:55.691674Z"
    }
   },
   "outputs": [],
   "source": [
    "## double-checking how to add prefixes to OMIM vs orphanet IDs\n",
    "\n",
    "df_diseasemim = df.copy()\n",
    "\n",
    "## done to preserve NA\n",
    "df_diseasemim[\"disease_mim\"] = [i if pd.isna(i) \\\n",
    "                                else \"OMIM:\" + i if i.isnumeric() \\\n",
    "                                else i \\\n",
    "                                for i in df_diseasemim[\"disease_mim\"]]\n",
    "\n",
    "df_diseasemim[\"disease_mim\"] = df_diseasemim[\"disease_mim\"].str.replace(\"Orphanet\", \"orphanet\")"
   ]
  },
  {
   "cell_type": "code",
   "execution_count": 15,
   "id": "14883b59",
   "metadata": {
    "ExecuteTime": {
     "end_time": "2025-04-18T06:36:55.713487Z",
     "start_time": "2025-04-18T06:36:55.701793Z"
    }
   },
   "outputs": [
    {
     "data": {
      "text/plain": [
       "(2563, 21)"
      ]
     },
     "execution_count": 15,
     "metadata": {},
     "output_type": "execute_result"
    },
    {
     "data": {
      "text/plain": [
       "(9, 21)"
      ]
     },
     "execution_count": 15,
     "metadata": {},
     "output_type": "execute_result"
    }
   ],
   "source": [
    "df_diseasemim[df_diseasemim[\"disease_mim\"].str.contains(\"OMIM:\", na=False)].shape\n",
    "\n",
    "df_diseasemim[df_diseasemim[\"disease_mim\"].str.contains(\"orphanet:\", na=False)].shape\n",
    "\n",
    "## add up row count. If == num non-null in info above, you're good \n",
    "## right now 2570 == 2570, so good"
   ]
  },
  {
   "cell_type": "code",
   "execution_count": 16,
   "id": "abb752b8",
   "metadata": {
    "ExecuteTime": {
     "end_time": "2025-04-18T06:36:55.740791Z",
     "start_time": "2025-04-18T06:36:55.715891Z"
    }
   },
   "outputs": [],
   "source": [
    "## put into parser (format): DONE\n",
    "\n",
    "## COLUMN-LEVEL TRANSFORMS\n",
    "\n",
    "## adding Translator/biolink prefixes to IDs\n",
    "df[\"gene_mim\"] = \"OMIM:\" + df[\"gene_mim\"]\n",
    "df[\"hgnc_id\"] = \"HGNC:\" + df[\"hgnc_id\"]\n",
    "df[\"disease_mim\"] = df[\"disease_mim\"].str.replace(\"Orphanet\", \"orphanet\")\n",
    "## done to preserve NA\n",
    "df[\"disease_mim\"] = [i if pd.isna(i)\n",
    "                     else \"OMIM:\" + i if i.isnumeric()\n",
    "                     else i\n",
    "                     for i in df[\"disease_mim\"]]\n",
    "\n",
    "## strip whitespace\n",
    "df[\"disease_name\"] = df[\"disease_name\"].str.strip()\n",
    "df[\"comments\"] = df[\"comments\"].str.strip()\n",
    "\n",
    "## create new columns\n",
    "## UI really wants resource website urls like this. May need to adjust over time as website changes\n",
    "df[\"g2p_record_url\"] = \"https://www.ebi.ac.uk/gene2phenotype/lgd/\" +  df[\"g2p_id\"]\n",
    "\n",
    "## replace panel keywords with full names shown on G2P website for single record\n",
    "## keeping \"Hearing loss\" as-is, changing all other values\n",
    "df[\"panel\"] = df[\"panel\"].str.replace(\"DD\", \"Developmental disorders\")\n",
    "df[\"panel\"] = df[\"panel\"].str.replace(\"Cancer\", \"Cancer disorders\")\n",
    "df[\"panel\"] = df[\"panel\"].str.replace(\"Cardiac\", \"Cardiac disorders\")\n",
    "df[\"panel\"] = df[\"panel\"].str.replace(\"Eye\", \"Eye disorders\")\n",
    "df[\"panel\"] = df[\"panel\"].str.replace(\"Skeletal\", \"Skeletal disorders\")\n",
    "df[\"panel\"] = df[\"panel\"].str.replace(\"Skin\", \"Skin disorders\")"
   ]
  },
  {
   "cell_type": "code",
   "execution_count": 17,
   "id": "b05f644d",
   "metadata": {
    "ExecuteTime": {
     "end_time": "2025-04-18T06:36:55.761334Z",
     "start_time": "2025-04-18T06:36:55.743136Z"
    },
    "scrolled": true
   },
   "outputs": [
    {
     "data": {
      "text/html": [
       "<div>\n",
       "<style scoped>\n",
       "    .dataframe tbody tr th:only-of-type {\n",
       "        vertical-align: middle;\n",
       "    }\n",
       "\n",
       "    .dataframe tbody tr th {\n",
       "        vertical-align: top;\n",
       "    }\n",
       "\n",
       "    .dataframe thead th {\n",
       "        text-align: right;\n",
       "    }\n",
       "</style>\n",
       "<table border=\"1\" class=\"dataframe\">\n",
       "  <thead>\n",
       "    <tr style=\"text-align: right;\">\n",
       "      <th></th>\n",
       "      <th>g2p_id</th>\n",
       "      <th>gene_symbol</th>\n",
       "      <th>gene_mim</th>\n",
       "      <th>hgnc_id</th>\n",
       "      <th>previous_gene_symbols</th>\n",
       "      <th>disease_name</th>\n",
       "      <th>disease_mim</th>\n",
       "      <th>disease_MONDO</th>\n",
       "      <th>allelic_requirement</th>\n",
       "      <th>cross_cutting_modifier</th>\n",
       "      <th>confidence</th>\n",
       "      <th>variant_consequence</th>\n",
       "      <th>variant_types</th>\n",
       "      <th>molecular_mechanism</th>\n",
       "      <th>molecular_mechanism_categorisation</th>\n",
       "      <th>molecular_mechanism_evidence</th>\n",
       "      <th>phenotypes</th>\n",
       "      <th>publications</th>\n",
       "      <th>panel</th>\n",
       "      <th>comments</th>\n",
       "      <th>date_of_last_review</th>\n",
       "      <th>g2p_record_url</th>\n",
       "    </tr>\n",
       "  </thead>\n",
       "  <tbody>\n",
       "    <tr>\n",
       "      <th>0</th>\n",
       "      <td>G2P00001</td>\n",
       "      <td>HMX1</td>\n",
       "      <td>OMIM:142992</td>\n",
       "      <td>HGNC:5017</td>\n",
       "      <td>H6; NKX5-3</td>\n",
       "      <td>HMX1-related oculoauricular syndrome</td>\n",
       "      <td>OMIM:612109</td>\n",
       "      <td>NaN</td>\n",
       "      <td>biallelic_autosomal</td>\n",
       "      <td>NaN</td>\n",
       "      <td>definitive</td>\n",
       "      <td>absent gene product</td>\n",
       "      <td>NaN</td>\n",
       "      <td>loss of function</td>\n",
       "      <td>inferred</td>\n",
       "      <td>NaN</td>\n",
       "      <td>HP:0000568; HP:0000589; HP:0000007; HP:0000482...</td>\n",
       "      <td>18423520; 25574057; 29140751</td>\n",
       "      <td>Developmental disorders; Eye disorders</td>\n",
       "      <td>NaN</td>\n",
       "      <td>2019-09-26 16:23:46+00:00</td>\n",
       "      <td>https://www.ebi.ac.uk/gene2phenotype/lgd/G2P00001</td>\n",
       "    </tr>\n",
       "    <tr>\n",
       "      <th>1</th>\n",
       "      <td>G2P00002</td>\n",
       "      <td>SLX4</td>\n",
       "      <td>OMIM:613278</td>\n",
       "      <td>HGNC:23845</td>\n",
       "      <td>BTBD12; FANCP; KIAA1784; KIAA1987</td>\n",
       "      <td>SLX4-related Fanconi anemia</td>\n",
       "      <td>OMIM:613951</td>\n",
       "      <td>NaN</td>\n",
       "      <td>biallelic_autosomal</td>\n",
       "      <td>NaN</td>\n",
       "      <td>definitive</td>\n",
       "      <td>absent gene product</td>\n",
       "      <td>NaN</td>\n",
       "      <td>loss of function</td>\n",
       "      <td>inferred</td>\n",
       "      <td>NaN</td>\n",
       "      <td>HP:0000347; HP:0000007; HP:0001903; HP:0002984...</td>\n",
       "      <td>21240275; 21240277</td>\n",
       "      <td>Developmental disorders</td>\n",
       "      <td>NaN</td>\n",
       "      <td>2025-01-28 23:09:54+00:00</td>\n",
       "      <td>https://www.ebi.ac.uk/gene2phenotype/lgd/G2P00002</td>\n",
       "    </tr>\n",
       "    <tr>\n",
       "      <th>2</th>\n",
       "      <td>G2P00003</td>\n",
       "      <td>ARG1</td>\n",
       "      <td>OMIM:608313</td>\n",
       "      <td>HGNC:663</td>\n",
       "      <td>NaN</td>\n",
       "      <td>ARG1-related argininemia</td>\n",
       "      <td>OMIM:207800</td>\n",
       "      <td>NaN</td>\n",
       "      <td>biallelic_autosomal</td>\n",
       "      <td>NaN</td>\n",
       "      <td>definitive</td>\n",
       "      <td>absent gene product</td>\n",
       "      <td>NaN</td>\n",
       "      <td>loss of function</td>\n",
       "      <td>inferred</td>\n",
       "      <td>NaN</td>\n",
       "      <td>HP:0000752; HP:0000737; HP:0000007; HP:0008339...</td>\n",
       "      <td>10502833; 1598908; 7649538; 1463019; 2365823</td>\n",
       "      <td>Developmental disorders</td>\n",
       "      <td>NaN</td>\n",
       "      <td>2015-07-22 16:14:07+00:00</td>\n",
       "      <td>https://www.ebi.ac.uk/gene2phenotype/lgd/G2P00003</td>\n",
       "    </tr>\n",
       "    <tr>\n",
       "      <th>3</th>\n",
       "      <td>G2P00004</td>\n",
       "      <td>ATR</td>\n",
       "      <td>OMIM:601215</td>\n",
       "      <td>HGNC:882</td>\n",
       "      <td>FRP1; MEC1; SCKL; SCKL1</td>\n",
       "      <td>ATR-related Seckel syndrome</td>\n",
       "      <td>OMIM:210600</td>\n",
       "      <td>NaN</td>\n",
       "      <td>biallelic_autosomal</td>\n",
       "      <td>NaN</td>\n",
       "      <td>strong</td>\n",
       "      <td>absent gene product</td>\n",
       "      <td>NaN</td>\n",
       "      <td>loss of function</td>\n",
       "      <td>inferred</td>\n",
       "      <td>NaN</td>\n",
       "      <td>HP:0000347; HP:0010230; HP:0001249; HP:0002750...</td>\n",
       "      <td>NaN</td>\n",
       "      <td>Developmental disorders; Skeletal disorders</td>\n",
       "      <td>NaN</td>\n",
       "      <td>2025-01-27 14:24:27+00:00</td>\n",
       "      <td>https://www.ebi.ac.uk/gene2phenotype/lgd/G2P00004</td>\n",
       "    </tr>\n",
       "    <tr>\n",
       "      <th>4</th>\n",
       "      <td>G2P00005</td>\n",
       "      <td>FANCB</td>\n",
       "      <td>OMIM:300515</td>\n",
       "      <td>HGNC:3583</td>\n",
       "      <td>FAAP95; FAB; FLJ34064</td>\n",
       "      <td>FANCB-related Fanconi anemia</td>\n",
       "      <td>OMIM:300514</td>\n",
       "      <td>NaN</td>\n",
       "      <td>monoallelic_X_hemizygous</td>\n",
       "      <td>NaN</td>\n",
       "      <td>definitive</td>\n",
       "      <td>absent gene product</td>\n",
       "      <td>NaN</td>\n",
       "      <td>loss of function</td>\n",
       "      <td>inferred</td>\n",
       "      <td>NaN</td>\n",
       "      <td>HP:0000924; HP:0001871; HP:0001701; HP:0000083...</td>\n",
       "      <td>16679491; 21910217; 36135330; 32106311; 307922...</td>\n",
       "      <td>Developmental disorders; Skin disorders</td>\n",
       "      <td>NaN</td>\n",
       "      <td>2024-08-20 14:13:58+00:00</td>\n",
       "      <td>https://www.ebi.ac.uk/gene2phenotype/lgd/G2P00005</td>\n",
       "    </tr>\n",
       "  </tbody>\n",
       "</table>\n",
       "</div>"
      ],
      "text/plain": [
       "     g2p_id gene_symbol     gene_mim     hgnc_id  \\\n",
       "0  G2P00001        HMX1  OMIM:142992   HGNC:5017   \n",
       "1  G2P00002        SLX4  OMIM:613278  HGNC:23845   \n",
       "2  G2P00003        ARG1  OMIM:608313    HGNC:663   \n",
       "3  G2P00004         ATR  OMIM:601215    HGNC:882   \n",
       "4  G2P00005       FANCB  OMIM:300515   HGNC:3583   \n",
       "\n",
       "               previous_gene_symbols                          disease_name  \\\n",
       "0                         H6; NKX5-3  HMX1-related oculoauricular syndrome   \n",
       "1  BTBD12; FANCP; KIAA1784; KIAA1987           SLX4-related Fanconi anemia   \n",
       "2                                NaN              ARG1-related argininemia   \n",
       "3            FRP1; MEC1; SCKL; SCKL1           ATR-related Seckel syndrome   \n",
       "4              FAAP95; FAB; FLJ34064          FANCB-related Fanconi anemia   \n",
       "\n",
       "   disease_mim disease_MONDO       allelic_requirement cross_cutting_modifier  \\\n",
       "0  OMIM:612109           NaN       biallelic_autosomal                    NaN   \n",
       "1  OMIM:613951           NaN       biallelic_autosomal                    NaN   \n",
       "2  OMIM:207800           NaN       biallelic_autosomal                    NaN   \n",
       "3  OMIM:210600           NaN       biallelic_autosomal                    NaN   \n",
       "4  OMIM:300514           NaN  monoallelic_X_hemizygous                    NaN   \n",
       "\n",
       "   confidence  variant_consequence variant_types molecular_mechanism  \\\n",
       "0  definitive  absent gene product           NaN    loss of function   \n",
       "1  definitive  absent gene product           NaN    loss of function   \n",
       "2  definitive  absent gene product           NaN    loss of function   \n",
       "3      strong  absent gene product           NaN    loss of function   \n",
       "4  definitive  absent gene product           NaN    loss of function   \n",
       "\n",
       "  molecular_mechanism_categorisation molecular_mechanism_evidence  \\\n",
       "0                           inferred                          NaN   \n",
       "1                           inferred                          NaN   \n",
       "2                           inferred                          NaN   \n",
       "3                           inferred                          NaN   \n",
       "4                           inferred                          NaN   \n",
       "\n",
       "                                          phenotypes  \\\n",
       "0  HP:0000568; HP:0000589; HP:0000007; HP:0000482...   \n",
       "1  HP:0000347; HP:0000007; HP:0001903; HP:0002984...   \n",
       "2  HP:0000752; HP:0000737; HP:0000007; HP:0008339...   \n",
       "3  HP:0000347; HP:0010230; HP:0001249; HP:0002750...   \n",
       "4  HP:0000924; HP:0001871; HP:0001701; HP:0000083...   \n",
       "\n",
       "                                        publications  \\\n",
       "0                       18423520; 25574057; 29140751   \n",
       "1                                 21240275; 21240277   \n",
       "2       10502833; 1598908; 7649538; 1463019; 2365823   \n",
       "3                                                NaN   \n",
       "4  16679491; 21910217; 36135330; 32106311; 307922...   \n",
       "\n",
       "                                         panel comments  \\\n",
       "0       Developmental disorders; Eye disorders      NaN   \n",
       "1                      Developmental disorders      NaN   \n",
       "2                      Developmental disorders      NaN   \n",
       "3  Developmental disorders; Skeletal disorders      NaN   \n",
       "4      Developmental disorders; Skin disorders      NaN   \n",
       "\n",
       "        date_of_last_review                                     g2p_record_url  \n",
       "0 2019-09-26 16:23:46+00:00  https://www.ebi.ac.uk/gene2phenotype/lgd/G2P00001  \n",
       "1 2025-01-28 23:09:54+00:00  https://www.ebi.ac.uk/gene2phenotype/lgd/G2P00002  \n",
       "2 2015-07-22 16:14:07+00:00  https://www.ebi.ac.uk/gene2phenotype/lgd/G2P00003  \n",
       "3 2025-01-27 14:24:27+00:00  https://www.ebi.ac.uk/gene2phenotype/lgd/G2P00004  \n",
       "4 2024-08-20 14:13:58+00:00  https://www.ebi.ac.uk/gene2phenotype/lgd/G2P00005  "
      ]
     },
     "execution_count": 17,
     "metadata": {},
     "output_type": "execute_result"
    }
   ],
   "source": [
    "## checking on column-level transforms\n",
    "\n",
    "df.head()\n",
    "# df[\"g2p record url\"].unique()[0:100]\n",
    "\n",
    "# df[df[\"disease mim\"].str.contains(\"orphanet\", na=False)]  ## 9 rows, so that's correct\n",
    "# df[df[\"panel\"].str.contains(\"Hearing\", na=False)]"
   ]
  },
  {
   "cell_type": "markdown",
   "id": "6bc6242a",
   "metadata": {},
   "source": [
    "## Confidence values"
   ]
  },
  {
   "cell_type": "markdown",
   "id": "0d4e07e0",
   "metadata": {},
   "source": [
    "**2024-04-15:**\n",
    "\n",
    "Every row/record has 1 confidence value, representing how confident the curators are that \"this gene has a causal role in this disease\". The definitions of the possible values are provided [here (under G2P Confidence Category)](https://www.ebi.ac.uk/gene2phenotype/about/terminology). \n",
    "\n",
    "\n",
    "**CURRENT DEFINITIONS** (including in case they change later)\n",
    "\n",
    "> **definitive**: The role of this gene in this particular disease has been repeatedly demonstrated in both the research and clinical diagnostic settings, and has been upheld over time (at least 2 independent publication over 3 years' time). No convincing evidence has emerged that contradicts the role of the gene in the specified disease. (previously labelled as confirmed) The strength of evidence within publications as well as their number and publication dates is taken into account. In practice, this usually means at least 4 publications over 5 years. Typically this will also include convincing bioinformatic or functional evidence of causation, making it very unlikely that this gene-disease association would ever be refuted.\n",
    ">\n",
    ">**strong**: The role of this gene as a monogenic cause of disease has been repeatedly and independently demonstrated providing very strong convincing evidence in humans and no conflicting evidence for this gene's role in this disease. (previously labelled as probable).\n",
    ">\n",
    ">**moderate**: There is moderate evidence in humans to support a casual role for this gene in this disease with no contradictory evidence. The body of evidence is not large (e.g possibly only one key paper) but appears convincing enough that the gene-disease pair is likely to be validated with additional evidence in the near future.\n",
    ">\n",
    ">**\"limited\"**: Little human evidence exists to support a casual role for this gene in this disease, but not all evidence has been refuted. For example, there may be a collection of rare missense variants in humans but without convincing functional impact, segregration data that could either arise by chance (e.g across one or two meioses) or does not implicate a single gene, or functional data without direct recapitulation of the phenotype. Overall, the body of evidence does not meet contemporary criteria for claiming a valid association with disease. The majority are probably false associations. (previously labelled as possible).\n",
    ">\n",
    ">**\"disputed\"**: \"Although evidence has been reported, other evidence of equal weight disputes the claim.\"\n",
    ">\n",
    ">**\"refuted\"**: \"There has been an assertion of a gene-disease association in the literature, but new valid evidence has arisen that refutes the entire original body of evidence.\""
   ]
  },
  {
   "cell_type": "markdown",
   "id": "d5b0d7ad",
   "metadata": {},
   "source": [
    "<div class=\"alert alert-block alert-success\">\n",
    "\n",
    "**2024-04-15:**\n",
    "\n",
    "My thinking is...\n",
    "1. rows with **\"refuted\"** and **\"disputed\"** values **should not be used to create edges for Translator**, because there's strong evidence that there ISN'T an association (negation) based on the definitions. \n",
    "2. rows with **\"limited\"** confidence can be kept because I interpret the definition as saying there is AN association - it's just not causal (as far as we know) and it's unclear how \"real\"/important it is. So these rows should have a predicate weaker than \"causes\"/\"contributes to\" -> **using \"related to\" for now**. \n",
    "3. keep rows with **\"moderate\", \"strong\", \"definitive\"** values, because there's moderate-definitive evidence that a gene DOES HAVE a causal role in this disease -> **\"using \"causes\" for now**\n",
    "\n",
    "    \n",
    "Plus: use subject_form_or_variant_qualifier *genetic_variant_form*. Okay because every row has an allelic_requirement value, and those [terms](https://www.ebi.ac.uk/gene2phenotype/about/terminology) are for the gene's mutations that possibly cause the disease. "
   ]
  },
  {
   "cell_type": "markdown",
   "id": "bc0837c1",
   "metadata": {},
   "source": [
    "<div class=\"alert alert-block alert-danger\">\n",
    "\n",
    "Data-modeling notes: options for gene-disease associations are confusing \n",
    "* can \"causes / contributes to\" be used? Maybe it makes more sense to use them with qualifiers on gene/protein (form or variant, aspect)...but are we allowed to use qualifiers here?\n",
    "* what's the diff between \"associated with\" and \"genetically associated with\"? \n",
    "* \"gene associated with condition\" is child of \"genetically associated with\", but seems to be more general - basically a \"related to\". Also would look weird in UI, right? "
   ]
  },
  {
   "cell_type": "code",
   "execution_count": 18,
   "id": "bc8729d7",
   "metadata": {
    "ExecuteTime": {
     "end_time": "2025-04-18T06:37:18.978524Z",
     "start_time": "2025-04-18T06:37:18.972588Z"
    }
   },
   "outputs": [
    {
     "data": {
      "text/plain": [
       "confidence\n",
       "definitive    2047\n",
       "strong         853\n",
       "limited        518\n",
       "moderate       240\n",
       "refuted          1\n",
       "Name: count, dtype: int64"
      ]
     },
     "execution_count": 18,
     "metadata": {},
     "output_type": "execute_result"
    }
   ],
   "source": [
    "df[\"confidence\"].value_counts()"
   ]
  },
  {
   "cell_type": "markdown",
   "id": "6420f677",
   "metadata": {},
   "source": [
    "**2025-03-28 data:** \n",
    "No \"disputed\" values, only 1 \"refuted\" row to remove"
   ]
  },
  {
   "cell_type": "markdown",
   "id": "3226e564",
   "metadata": {},
   "source": [
    "### Removing rows + stats"
   ]
  },
  {
   "cell_type": "code",
   "execution_count": 19,
   "id": "fff9d0b0",
   "metadata": {
    "ExecuteTime": {
     "end_time": "2025-04-18T06:39:14.841317Z",
     "start_time": "2025-04-18T06:39:14.835839Z"
    }
   },
   "outputs": [],
   "source": [
    "## put into parser (format): DONE\n",
    "\n",
    "## calculate stats before removing\n",
    "\n",
    "n_rows_original = df.shape[0]\n",
    "n_rows_refuted = df[df[\"confidence\"] == \"refuted\"].shape[0]\n",
    "n_rows_disputed = df[df[\"confidence\"] == \"disputed\"].shape[0]"
   ]
  },
  {
   "cell_type": "code",
   "execution_count": 20,
   "id": "342634bc",
   "metadata": {
    "ExecuteTime": {
     "end_time": "2025-04-18T06:39:16.018606Z",
     "start_time": "2025-04-18T06:39:16.009599Z"
    }
   },
   "outputs": [],
   "source": [
    "## put into parser (format): DONE\n",
    "\n",
    "## remove rows, calculate stats after\n",
    "\n",
    "df = df[~ df[\"confidence\"].isin([\"refuted\", \"disputed\"])].reset_index(drop=True)\n",
    "n_rows_after_confidence = df.shape[0]"
   ]
  },
  {
   "cell_type": "code",
   "execution_count": 21,
   "id": "95ee0237",
   "metadata": {
    "ExecuteTime": {
     "end_time": "2025-04-18T06:39:17.612631Z",
     "start_time": "2025-04-18T06:39:17.605642Z"
    }
   },
   "outputs": [
    {
     "name": "stdout",
     "output_type": "stream",
     "text": [
      "3659 unique rows/records in original dataset\n",
      "\n",
      "Removing rows based on confidence:\n",
      "1: 'refuted'\n",
      "0: 'disputed'\n",
      "\n",
      "3658 rows afterwards\n"
     ]
    }
   ],
   "source": [
    "## put into parser (format): DONE\n",
    "\n",
    "## Print stats\n",
    "\n",
    "print(f\"{n_rows_original} unique rows/records in original dataset\\n\")\n",
    "\n",
    "print(f\"Removing rows based on confidence:\")\n",
    "print(f\"{n_rows_refuted}: 'refuted'\")\n",
    "print(f\"{n_rows_disputed}: 'disputed'\\n\")\n",
    "\n",
    "print(f\"{n_rows_after_confidence} rows afterwards\")"
   ]
  },
  {
   "cell_type": "markdown",
   "id": "0ff20129",
   "metadata": {},
   "source": [
    "## Pre-NodeNorming"
   ]
  },
  {
   "cell_type": "markdown",
   "id": "377992a6",
   "metadata": {},
   "source": [
    "Querying NodeNorm: send unique values (no duplicates!) from entire column in large batches -> generate mapping dict to use. \n",
    "<br>\n",
    "__Not querying 1-by-1 or 1 row at a time: much slower__ and would involve sending duplicate IDs (unless saved dict is kept outside loop and checked) \n",
    "\n",
    "Not going to use NameResolver: not optimistic this would work anyways. My manual process of getting \"better\" disease IDs is to use the gene IDs, find the diseases they're linked to in OMIM and Monarch, and seeing if those match the data's disease name / phenotypes / publications. This is more complicated than just using NameResolver."
   ]
  },
  {
   "cell_type": "markdown",
   "id": "1266243a",
   "metadata": {},
   "source": [
    "<div class=\"alert alert-block alert-danger\">\n",
    "\n",
    "Set the NodeNorm URL you want to use. "
   ]
  },
  {
   "cell_type": "code",
   "execution_count": 22,
   "id": "ec7095c7",
   "metadata": {
    "ExecuteTime": {
     "end_time": "2025-04-18T06:39:34.149962Z",
     "start_time": "2025-04-18T06:39:33.981226Z"
    }
   },
   "outputs": [],
   "source": [
    "## put into parser (format): DONE\n",
    "\n",
    "import requests\n",
    "\n",
    "## from BioThings annotator code: for interoperability between diff Python versions\n",
    "# try:\n",
    "#     from itertools import batched  # new in Python 3.12\n",
    "# except ImportError:\n",
    "#     from itertools import islice\n",
    "\n",
    "#     def batched(iterable, n):\n",
    "#         # batched('ABCDEFG', 3) → ABC DEF G\n",
    "#         if n < 1:\n",
    "#             raise ValueError(\"n must be at least one\")\n",
    "#         iterator = iter(iterable)\n",
    "#         while batch := tuple(islice(iterator, n)):\n",
    "#             yield batch\n",
    "\n",
    "## doing to test that this works\n",
    "from itertools import islice\n",
    "\n",
    "def batched(iterable, n):\n",
    "    # batched('ABCDEFG', 3) → ABC DEF G\n",
    "    if n < 1:\n",
    "        raise ValueError(\"n must be at least one\")\n",
    "    iterator = iter(iterable)\n",
    "    while batch := tuple(islice(iterator, n)):\n",
    "        yield batch\n",
    "\n",
    "nodenorm_url = \"https://nodenorm.ci.transltr.io/get_normalized_nodes\""
   ]
  },
  {
   "cell_type": "markdown",
   "id": "fd327545",
   "metadata": {},
   "source": [
    "### Exploring: Genes"
   ]
  },
  {
   "cell_type": "markdown",
   "id": "95105b25",
   "metadata": {},
   "source": [
    "**2025-03-28 data:** Every row has at least 1 gene ID (HGNC column has no missing values). So no rows will be removed because there's no gene IDs to use for the pre-NodeNorming. "
   ]
  },
  {
   "cell_type": "code",
   "execution_count": 23,
   "id": "c9c7d169",
   "metadata": {
    "ExecuteTime": {
     "end_time": "2025-04-18T06:39:36.763030Z",
     "start_time": "2025-04-18T06:39:36.753802Z"
    }
   },
   "outputs": [
    {
     "name": "stdout",
     "output_type": "stream",
     "text": [
      "<class 'pandas.core.frame.DataFrame'>\n",
      "RangeIndex: 3658 entries, 0 to 3657\n",
      "Data columns (total 3 columns):\n",
      " #   Column       Non-Null Count  Dtype \n",
      "---  ------       --------------  ----- \n",
      " 0   gene_symbol  3658 non-null   object\n",
      " 1   hgnc_id      3658 non-null   object\n",
      " 2   gene_mim     3656 non-null   object\n",
      "dtypes: object(3)\n",
      "memory usage: 85.9+ KB\n"
     ]
    }
   ],
   "source": [
    "df[[\"gene_symbol\", \"hgnc_id\", \"gene_mim\"]].info()"
   ]
  },
  {
   "cell_type": "code",
   "execution_count": 24,
   "id": "fd6ea459",
   "metadata": {
    "ExecuteTime": {
     "end_time": "2025-04-18T06:39:37.403983Z",
     "start_time": "2025-04-18T06:39:37.386150Z"
    }
   },
   "outputs": [
    {
     "data": {
      "text/html": [
       "<div>\n",
       "<style scoped>\n",
       "    .dataframe tbody tr th:only-of-type {\n",
       "        vertical-align: middle;\n",
       "    }\n",
       "\n",
       "    .dataframe tbody tr th {\n",
       "        vertical-align: top;\n",
       "    }\n",
       "\n",
       "    .dataframe thead th {\n",
       "        text-align: right;\n",
       "    }\n",
       "</style>\n",
       "<table border=\"1\" class=\"dataframe\">\n",
       "  <thead>\n",
       "    <tr style=\"text-align: right;\">\n",
       "      <th></th>\n",
       "      <th>g2p_id</th>\n",
       "      <th>gene_symbol</th>\n",
       "      <th>gene_mim</th>\n",
       "      <th>hgnc_id</th>\n",
       "      <th>previous_gene_symbols</th>\n",
       "      <th>disease_name</th>\n",
       "      <th>disease_mim</th>\n",
       "      <th>disease_MONDO</th>\n",
       "      <th>allelic_requirement</th>\n",
       "      <th>cross_cutting_modifier</th>\n",
       "      <th>confidence</th>\n",
       "      <th>variant_consequence</th>\n",
       "      <th>variant_types</th>\n",
       "      <th>molecular_mechanism</th>\n",
       "      <th>molecular_mechanism_categorisation</th>\n",
       "      <th>molecular_mechanism_evidence</th>\n",
       "      <th>phenotypes</th>\n",
       "      <th>publications</th>\n",
       "      <th>panel</th>\n",
       "      <th>comments</th>\n",
       "      <th>date_of_last_review</th>\n",
       "      <th>g2p_record_url</th>\n",
       "    </tr>\n",
       "  </thead>\n",
       "  <tbody>\n",
       "    <tr>\n",
       "      <th>954</th>\n",
       "      <td>G2P00977</td>\n",
       "      <td>ZNF599</td>\n",
       "      <td>NaN</td>\n",
       "      <td>HGNC:26408</td>\n",
       "      <td>FLJ30663</td>\n",
       "      <td>ZNF599-related NOT IN OMIM</td>\n",
       "      <td>NaN</td>\n",
       "      <td>NaN</td>\n",
       "      <td>monoallelic_autosomal</td>\n",
       "      <td>NaN</td>\n",
       "      <td>limited</td>\n",
       "      <td>uncertain</td>\n",
       "      <td>NaN</td>\n",
       "      <td>undetermined</td>\n",
       "      <td>inferred</td>\n",
       "      <td>NaN</td>\n",
       "      <td>NaN</td>\n",
       "      <td>NaN</td>\n",
       "      <td>Developmental disorders</td>\n",
       "      <td>NaN</td>\n",
       "      <td>2015-07-22 16:15:03+00:00</td>\n",
       "      <td>https://www.ebi.ac.uk/gene2phenotype/lgd/G2P00977</td>\n",
       "    </tr>\n",
       "    <tr>\n",
       "      <th>3451</th>\n",
       "      <td>G2P02168</td>\n",
       "      <td>MFSD6L</td>\n",
       "      <td>NaN</td>\n",
       "      <td>HGNC:26656</td>\n",
       "      <td>FLJ35773</td>\n",
       "      <td>MFSD6L-related congenital cataract</td>\n",
       "      <td>NaN</td>\n",
       "      <td>MONDO:0005129</td>\n",
       "      <td>biallelic_autosomal</td>\n",
       "      <td>NaN</td>\n",
       "      <td>limited</td>\n",
       "      <td>altered gene product structure</td>\n",
       "      <td>inframe_insertion; inframe_deletion; missense_...</td>\n",
       "      <td>undetermined</td>\n",
       "      <td>inferred</td>\n",
       "      <td>NaN</td>\n",
       "      <td>HP:0000007; HP:0010864</td>\n",
       "      <td>22935719</td>\n",
       "      <td>Eye disorders</td>\n",
       "      <td>NaN</td>\n",
       "      <td>2017-08-29 09:35:13+00:00</td>\n",
       "      <td>https://www.ebi.ac.uk/gene2phenotype/lgd/G2P02168</td>\n",
       "    </tr>\n",
       "  </tbody>\n",
       "</table>\n",
       "</div>"
      ],
      "text/plain": [
       "        g2p_id gene_symbol gene_mim     hgnc_id previous_gene_symbols  \\\n",
       "954   G2P00977      ZNF599      NaN  HGNC:26408              FLJ30663   \n",
       "3451  G2P02168      MFSD6L      NaN  HGNC:26656              FLJ35773   \n",
       "\n",
       "                            disease_name disease_mim  disease_MONDO  \\\n",
       "954           ZNF599-related NOT IN OMIM         NaN            NaN   \n",
       "3451  MFSD6L-related congenital cataract         NaN  MONDO:0005129   \n",
       "\n",
       "        allelic_requirement cross_cutting_modifier confidence  \\\n",
       "954   monoallelic_autosomal                    NaN    limited   \n",
       "3451    biallelic_autosomal                    NaN    limited   \n",
       "\n",
       "                 variant_consequence  \\\n",
       "954                        uncertain   \n",
       "3451  altered gene product structure   \n",
       "\n",
       "                                          variant_types molecular_mechanism  \\\n",
       "954                                                 NaN        undetermined   \n",
       "3451  inframe_insertion; inframe_deletion; missense_...        undetermined   \n",
       "\n",
       "     molecular_mechanism_categorisation molecular_mechanism_evidence  \\\n",
       "954                            inferred                          NaN   \n",
       "3451                           inferred                          NaN   \n",
       "\n",
       "                  phenotypes publications                    panel comments  \\\n",
       "954                      NaN          NaN  Developmental disorders      NaN   \n",
       "3451  HP:0000007; HP:0010864     22935719            Eye disorders      NaN   \n",
       "\n",
       "           date_of_last_review  \\\n",
       "954  2015-07-22 16:15:03+00:00   \n",
       "3451 2017-08-29 09:35:13+00:00   \n",
       "\n",
       "                                         g2p_record_url  \n",
       "954   https://www.ebi.ac.uk/gene2phenotype/lgd/G2P00977  \n",
       "3451  https://www.ebi.ac.uk/gene2phenotype/lgd/G2P02168  "
      ]
     },
     "execution_count": 24,
     "metadata": {},
     "output_type": "execute_result"
    }
   ],
   "source": [
    "df[df[\"gene_mim\"].isna()]"
   ]
  },
  {
   "cell_type": "code",
   "execution_count": 25,
   "id": "9b72d9da",
   "metadata": {
    "ExecuteTime": {
     "end_time": "2025-04-18T06:39:39.672474Z",
     "start_time": "2025-04-18T06:39:39.663776Z"
    }
   },
   "outputs": [
    {
     "data": {
      "text/plain": [
       "0"
      ]
     },
     "execution_count": 25,
     "metadata": {},
     "output_type": "execute_result"
    },
    {
     "data": {
      "text/plain": [
       "0"
      ]
     },
     "execution_count": 25,
     "metadata": {},
     "output_type": "execute_result"
    }
   ],
   "source": [
    "## saving stats on data with no gene IDs, just in case\n",
    "\n",
    "stats_no_gene_IDs = {\n",
    "    \"n_rows\": df[df[\"gene_mim\"].isna() & df[\"hgnc_id\"].isna()].shape[0],\n",
    "    \"n_names\": len(df[df[\"gene_mim\"].isna() & df[\"hgnc_id\"].isna()][\"gene_symbol\"].unique())\n",
    "}\n",
    "\n",
    "stats_no_gene_IDs[\"n_rows\"]\n",
    "stats_no_gene_IDs[\"n_names\"]"
   ]
  },
  {
   "cell_type": "markdown",
   "id": "8ec56f53",
   "metadata": {},
   "source": [
    "#### HGNC"
   ]
  },
  {
   "cell_type": "markdown",
   "id": "42bf5e56",
   "metadata": {},
   "source": [
    "__Running Gene HGNC IDs through NodeNorm__\n",
    "\n",
    "\n",
    "Catching potential mapping failures for later stats report"
   ]
  },
  {
   "cell_type": "code",
   "execution_count": 26,
   "id": "9af3c9da",
   "metadata": {
    "ExecuteTime": {
     "end_time": "2025-04-18T06:39:42.426624Z",
     "start_time": "2025-04-18T06:39:42.423441Z"
    }
   },
   "outputs": [],
   "source": [
    "## saving stats on data with no HGNC IDs, just in case\n",
    "\n",
    "n_rows_no_hgnc = df[\"hgnc_id\"].isna().sum()"
   ]
  },
  {
   "cell_type": "code",
   "execution_count": 27,
   "id": "54f32d70",
   "metadata": {
    "ExecuteTime": {
     "end_time": "2025-04-18T06:39:42.951695Z",
     "start_time": "2025-04-18T06:39:42.946706Z"
    }
   },
   "outputs": [
    {
     "data": {
      "text/plain": [
       "3000"
      ]
     },
     "execution_count": 27,
     "metadata": {},
     "output_type": "execute_result"
    }
   ],
   "source": [
    "## get set of unique CURIEs to put into NodeNorm\n",
    "hgnc = df[\"hgnc_id\"].dropna().unique()\n",
    "len(hgnc)"
   ]
  },
  {
   "cell_type": "code",
   "execution_count": 28,
   "id": "e98887c0",
   "metadata": {
    "ExecuteTime": {
     "end_time": "2025-04-18T06:39:43.382761Z",
     "start_time": "2025-04-18T06:39:43.379606Z"
    }
   },
   "outputs": [],
   "source": [
    "hgnc_nodenorm_mapping = {}\n",
    "\n",
    "## set up variables to catch potential mapping failures\n",
    "stats_hgnc_mapping_failures = {\n",
    "    \"unexpected_error\": {},\n",
    "    \"nodenorm_returned_none\": [],\n",
    "    \"wrong_category\": {},\n",
    "    \"no_label\": []\n",
    "    \n",
    "}"
   ]
  },
  {
   "cell_type": "code",
   "execution_count": 29,
   "id": "9521a856",
   "metadata": {
    "ExecuteTime": {
     "end_time": "2025-04-18T06:39:52.083609Z",
     "start_time": "2025-04-18T06:39:43.909348Z"
    }
   },
   "outputs": [],
   "source": [
    "## larger batches are quicker\n",
    "for batch in batched(hgnc, 1000):\n",
    "    ## returns tuples -> cast to list\n",
    "    req_body = {\n",
    "        \"curies\": list(batch),\n",
    "        \"conflate\": True,\n",
    "    }\n",
    "    r = requests.post(nodenorm_url, json=req_body)\n",
    "    response = r.json()\n",
    "    \n",
    "    ## not doing dict comprehension. allows easier review, logic writing\n",
    "    for k,v in response.items():\n",
    "        ## catch unexpected errors\n",
    "        try:\n",
    "            ## if NodeNorm didn't have info on this ID, v will be None\n",
    "            if v is not None:\n",
    "                ## don't keep mapping if category is not the expected one\n",
    "                if v[\"type\"][0] == \"biolink:Gene\":\n",
    "                    ## also throw out mapping if no primary label found\n",
    "                    if v[\"id\"].get(\"label\"):\n",
    "                        temp = {\n",
    "                            k: {\"primary_id\": v[\"id\"][\"identifier\"],\n",
    "                                \"primary_label\": v[\"id\"][\"label\"]\n",
    "                               }\n",
    "                        }\n",
    "                        hgnc_nodenorm_mapping.update(temp)\n",
    "                    else:\n",
    "                        stats_hgnc_mapping_failures[\"no_label\"].append(k)\n",
    "#                         print(f\"{k}: NodeNorm didn't find primary label. Not keeping this mapping.\")\n",
    "                else:\n",
    "                    stats_hgnc_mapping_failures[\"wrong_category\"].update({k: v[\"type\"][0]})\n",
    "#                     print(f'{k}: NodeNorm found different category {v[\"type\"][0]}. Not keeping this mapping.')\n",
    "            else:\n",
    "                stats_hgnc_mapping_failures[\"nodenorm_returned_none\"].append(k)\n",
    "#                 print(f\"{k}: NodeNorm didn't recognize this ID\")\n",
    "        except:\n",
    "            stats_hgnc_mapping_failures[\"unexpected_error\"].update({k: v})\n",
    "            print(f'Encountered an unexpected error.')\n",
    "            print(f'NodeNorm response key: {k}')\n",
    "            print(f'NodeNorm response value: {v}')"
   ]
  },
  {
   "cell_type": "code",
   "execution_count": 30,
   "id": "fce525ef",
   "metadata": {
    "ExecuteTime": {
     "end_time": "2025-04-18T06:39:52.092001Z",
     "start_time": "2025-04-18T06:39:52.086480Z"
    }
   },
   "outputs": [
    {
     "data": {
      "text/plain": [
       "3000"
      ]
     },
     "execution_count": 30,
     "metadata": {},
     "output_type": "execute_result"
    },
    {
     "data": {
      "text/plain": [
       "{'unexpected_error': {},\n",
       " 'nodenorm_returned_none': [],\n",
       " 'wrong_category': {},\n",
       " 'no_label': []}"
      ]
     },
     "execution_count": 30,
     "metadata": {},
     "output_type": "execute_result"
    }
   ],
   "source": [
    "len(hgnc_nodenorm_mapping)\n",
    "\n",
    "stats_hgnc_mapping_failures"
   ]
  },
  {
   "cell_type": "markdown",
   "id": "f45b85ef",
   "metadata": {},
   "source": [
    "#### OMIM"
   ]
  },
  {
   "cell_type": "markdown",
   "id": "449d1aa0",
   "metadata": {},
   "source": [
    "__Running Gene OMIM IDs through NodeNorm__\n",
    "\n",
    "Catching potential mapping failures for later stats report. \n",
    "\n",
    "Pasted, adjusted from HGNC code blocks above."
   ]
  },
  {
   "cell_type": "code",
   "execution_count": 31,
   "id": "93037c9d",
   "metadata": {
    "ExecuteTime": {
     "end_time": "2025-04-18T06:39:54.782014Z",
     "start_time": "2025-04-18T06:39:54.777158Z"
    }
   },
   "outputs": [
    {
     "data": {
      "text/plain": [
       "2998"
      ]
     },
     "execution_count": 31,
     "metadata": {},
     "output_type": "execute_result"
    }
   ],
   "source": [
    "## get set of unique CURIEs to put into NodeNorm\n",
    "gene_omim = df[\"gene_mim\"].dropna().unique()\n",
    "len(gene_omim)"
   ]
  },
  {
   "cell_type": "code",
   "execution_count": 32,
   "id": "8ab2b46b",
   "metadata": {
    "ExecuteTime": {
     "end_time": "2025-04-18T06:39:55.227978Z",
     "start_time": "2025-04-18T06:39:55.224796Z"
    }
   },
   "outputs": [],
   "source": [
    "gene_omim_nodenorm_mapping = {}\n",
    "\n",
    "## set up variables to catch potential mapping failures\n",
    "stats_gene_omim_mapping_failures = {\n",
    "    \"unexpected_error\": {},\n",
    "    \"nodenorm_returned_none\": [],\n",
    "    \"wrong_category\": {},\n",
    "    \"no_label\": []\n",
    "    \n",
    "}"
   ]
  },
  {
   "cell_type": "code",
   "execution_count": 33,
   "id": "26d80f83",
   "metadata": {
    "ExecuteTime": {
     "end_time": "2025-04-18T06:40:03.228993Z",
     "start_time": "2025-04-18T06:39:55.695326Z"
    }
   },
   "outputs": [],
   "source": [
    "## larger batches are quicker\n",
    "for batch in batched(gene_omim, 1000):\n",
    "    ## returns tuples -> cast to list\n",
    "    req_body = {\n",
    "        \"curies\": list(batch),\n",
    "        \"conflate\": True,\n",
    "    }\n",
    "    r = requests.post(nodenorm_url, json=req_body)\n",
    "    response = r.json()\n",
    "    \n",
    "    ## not doing dict comprehension. allows easier review, logic writing\n",
    "    for k,v in response.items():\n",
    "        ## catch unexpected errors\n",
    "        try:\n",
    "            ## if NodeNorm didn't have info on this ID, v will be None\n",
    "            if v is not None:\n",
    "                ## don't keep mapping if category is not the expected one\n",
    "                if v[\"type\"][0] == \"biolink:Gene\":\n",
    "                    ## also throw out mapping if no primary label found\n",
    "                    if v[\"id\"].get(\"label\"):\n",
    "                        temp = {\n",
    "                            k: {\"primary_id\": v[\"id\"][\"identifier\"],\n",
    "                                \"primary_label\": v[\"id\"][\"label\"]\n",
    "                               }\n",
    "                        }\n",
    "                        gene_omim_nodenorm_mapping.update(temp)\n",
    "                    else:\n",
    "                        stats_gene_omim_mapping_failures[\"no_label\"].append(k)\n",
    "#                         print(f\"{k}: NodeNorm didn't find primary label. Not keeping this mapping.\")\n",
    "                else:\n",
    "                    stats_gene_omim_mapping_failures[\"wrong_category\"].update({k: v[\"type\"][0]})\n",
    "#                     print(f'{k}: NodeNorm found different category {v[\"type\"][0]}. Not keeping this mapping.')\n",
    "            else:\n",
    "                stats_gene_omim_mapping_failures[\"nodenorm_returned_none\"].append(k)\n",
    "#                 print(f\"{k}: NodeNorm didn't recognize this ID\")\n",
    "        except:\n",
    "            stats_gene_omim_mapping_failures[\"unexpected_error\"].update({k: v})\n",
    "            print(f'Encountered an unexpected error.')\n",
    "            print(f'NodeNorm response key: {k}')\n",
    "            print(f'NodeNorm response value: {v}')"
   ]
  },
  {
   "cell_type": "code",
   "execution_count": 34,
   "id": "8b342012",
   "metadata": {
    "ExecuteTime": {
     "end_time": "2025-04-18T06:40:07.465979Z",
     "start_time": "2025-04-18T06:40:07.460125Z"
    }
   },
   "outputs": [
    {
     "data": {
      "text/plain": [
       "2997"
      ]
     },
     "execution_count": 34,
     "metadata": {},
     "output_type": "execute_result"
    },
    {
     "data": {
      "text/plain": [
       "{'unexpected_error': {},\n",
       " 'nodenorm_returned_none': ['OMIM:621003'],\n",
       " 'wrong_category': {},\n",
       " 'no_label': []}"
      ]
     },
     "execution_count": 34,
     "metadata": {},
     "output_type": "execute_result"
    }
   ],
   "source": [
    "len(gene_omim_nodenorm_mapping)\n",
    "\n",
    "stats_gene_omim_mapping_failures"
   ]
  },
  {
   "cell_type": "code",
   "execution_count": 35,
   "id": "29752c2e",
   "metadata": {
    "ExecuteTime": {
     "end_time": "2025-04-18T06:40:08.743995Z",
     "start_time": "2025-04-18T06:40:08.726837Z"
    }
   },
   "outputs": [
    {
     "data": {
      "text/html": [
       "<div>\n",
       "<style scoped>\n",
       "    .dataframe tbody tr th:only-of-type {\n",
       "        vertical-align: middle;\n",
       "    }\n",
       "\n",
       "    .dataframe tbody tr th {\n",
       "        vertical-align: top;\n",
       "    }\n",
       "\n",
       "    .dataframe thead th {\n",
       "        text-align: right;\n",
       "    }\n",
       "</style>\n",
       "<table border=\"1\" class=\"dataframe\">\n",
       "  <thead>\n",
       "    <tr style=\"text-align: right;\">\n",
       "      <th></th>\n",
       "      <th>g2p_id</th>\n",
       "      <th>gene_symbol</th>\n",
       "      <th>gene_mim</th>\n",
       "      <th>hgnc_id</th>\n",
       "      <th>previous_gene_symbols</th>\n",
       "      <th>disease_name</th>\n",
       "      <th>disease_mim</th>\n",
       "      <th>disease_MONDO</th>\n",
       "      <th>allelic_requirement</th>\n",
       "      <th>cross_cutting_modifier</th>\n",
       "      <th>confidence</th>\n",
       "      <th>variant_consequence</th>\n",
       "      <th>variant_types</th>\n",
       "      <th>molecular_mechanism</th>\n",
       "      <th>molecular_mechanism_categorisation</th>\n",
       "      <th>molecular_mechanism_evidence</th>\n",
       "      <th>phenotypes</th>\n",
       "      <th>publications</th>\n",
       "      <th>panel</th>\n",
       "      <th>comments</th>\n",
       "      <th>date_of_last_review</th>\n",
       "      <th>g2p_record_url</th>\n",
       "    </tr>\n",
       "  </thead>\n",
       "  <tbody>\n",
       "    <tr>\n",
       "      <th>2765</th>\n",
       "      <td>G2P03714</td>\n",
       "      <td>SP9</td>\n",
       "      <td>OMIM:621003</td>\n",
       "      <td>HGNC:30690</td>\n",
       "      <td>ZNF990</td>\n",
       "      <td>SP9-related neurodevelopmental disorder with/w...</td>\n",
       "      <td>NaN</td>\n",
       "      <td>NaN</td>\n",
       "      <td>monoallelic_autosomal</td>\n",
       "      <td>NaN</td>\n",
       "      <td>moderate</td>\n",
       "      <td>altered gene product structure</td>\n",
       "      <td>frameshift_variant_NMD_escaping; missense_variant</td>\n",
       "      <td>undetermined</td>\n",
       "      <td>inferred</td>\n",
       "      <td>NaN</td>\n",
       "      <td>NaN</td>\n",
       "      <td>38288683</td>\n",
       "      <td>Developmental disorders</td>\n",
       "      <td>Discussions during curation agreed that there ...</td>\n",
       "      <td>2025-03-05 11:14:46+00:00</td>\n",
       "      <td>https://www.ebi.ac.uk/gene2phenotype/lgd/G2P03714</td>\n",
       "    </tr>\n",
       "  </tbody>\n",
       "</table>\n",
       "</div>"
      ],
      "text/plain": [
       "        g2p_id gene_symbol     gene_mim     hgnc_id previous_gene_symbols  \\\n",
       "2765  G2P03714         SP9  OMIM:621003  HGNC:30690                ZNF990   \n",
       "\n",
       "                                           disease_name disease_mim  \\\n",
       "2765  SP9-related neurodevelopmental disorder with/w...         NaN   \n",
       "\n",
       "     disease_MONDO    allelic_requirement cross_cutting_modifier confidence  \\\n",
       "2765           NaN  monoallelic_autosomal                    NaN   moderate   \n",
       "\n",
       "                 variant_consequence  \\\n",
       "2765  altered gene product structure   \n",
       "\n",
       "                                          variant_types molecular_mechanism  \\\n",
       "2765  frameshift_variant_NMD_escaping; missense_variant        undetermined   \n",
       "\n",
       "     molecular_mechanism_categorisation molecular_mechanism_evidence  \\\n",
       "2765                           inferred                          NaN   \n",
       "\n",
       "     phenotypes publications                    panel  \\\n",
       "2765        NaN     38288683  Developmental disorders   \n",
       "\n",
       "                                               comments  \\\n",
       "2765  Discussions during curation agreed that there ...   \n",
       "\n",
       "           date_of_last_review  \\\n",
       "2765 2025-03-05 11:14:46+00:00   \n",
       "\n",
       "                                         g2p_record_url  \n",
       "2765  https://www.ebi.ac.uk/gene2phenotype/lgd/G2P03714  "
      ]
     },
     "execution_count": 35,
     "metadata": {},
     "output_type": "execute_result"
    }
   ],
   "source": [
    "## from looking at 2025-03-28 data\n",
    "df[df[\"gene_mim\"] == \"OMIM:621003\"]"
   ]
  },
  {
   "cell_type": "markdown",
   "id": "2d9af385",
   "metadata": {},
   "source": [
    "**2025-03-28 data:** `OMIM:621003` is a valid gene ID [(OMIM webpage)](https://omim.org/entry/602668), so this is a NodeNorm error."
   ]
  },
  {
   "cell_type": "markdown",
   "id": "beaa91c8",
   "metadata": {},
   "source": [
    "#### Comparing HGNC vs OMIM"
   ]
  },
  {
   "cell_type": "code",
   "execution_count": 36,
   "id": "7401b121",
   "metadata": {
    "ExecuteTime": {
     "end_time": "2025-04-18T06:40:12.495468Z",
     "start_time": "2025-04-18T06:40:12.481813Z"
    }
   },
   "outputs": [],
   "source": [
    "## if row has both IDs, look for diff in mappings from each ID\n",
    "for row in df[[\"gene_mim\", \"hgnc_id\"]].itertuples(index=False):\n",
    "    ## has both IDs\n",
    "    if pd.notna(row.gene_mim) and pd.notna(row.hgnc_id):\n",
    "        ## if have NodeNorm mappings for both\n",
    "        if gene_omim_nodenorm_mapping.get(row.gene_mim) and \\\n",
    "        hgnc_nodenorm_mapping.get(row.hgnc_id):\n",
    "            ## check if mappings are diff\n",
    "            if gene_omim_nodenorm_mapping[row.gene_mim][\"primary_id\"] != \\\n",
    "            hgnc_nodenorm_mapping[row.hgnc_id][\"primary_id\"]:\n",
    "                print(row)\n",
    "\n",
    "## 2025-03-28 data: nothing prints, so there are no mismatches"
   ]
  },
  {
   "cell_type": "code",
   "execution_count": 37,
   "id": "e0dcee11",
   "metadata": {
    "ExecuteTime": {
     "end_time": "2025-04-18T06:40:12.951020Z",
     "start_time": "2025-04-18T06:40:12.942175Z"
    }
   },
   "outputs": [
    {
     "name": "stdout",
     "output_type": "stream",
     "text": [
      "G2P name MT-TP, ID HGNC:7494\n",
      "NodeNorm name TRNP, ID NCBIGene:4571\n",
      "\n",
      "\n",
      "G2P name CENPJ, ID HGNC:17272\n",
      "NodeNorm name CPAP, ID NCBIGene:55835\n",
      "\n",
      "\n",
      "G2P name CCDC103, ID HGNC:32700\n",
      "NodeNorm name DNAAF19, ID NCBIGene:388389\n",
      "\n",
      "\n",
      "G2P name MT-TL1, ID HGNC:7490\n",
      "NodeNorm name TRNL1, ID NCBIGene:4567\n",
      "\n",
      "\n",
      "G2P name MT-ND1, ID HGNC:7455\n",
      "NodeNorm name ND1, ID NCBIGene:4535\n",
      "\n",
      "\n",
      "G2P name MT-ND4, ID HGNC:7459\n",
      "NodeNorm name ND4, ID NCBIGene:4538\n",
      "\n",
      "\n",
      "G2P name MT-ATP6, ID HGNC:7414\n",
      "NodeNorm name ATP6, ID NCBIGene:4508\n",
      "\n",
      "\n",
      "G2P name MT-ND5, ID HGNC:7461\n",
      "NodeNorm name ND5, ID NCBIGene:4540\n",
      "\n",
      "\n",
      "G2P name MT-ND6, ID HGNC:7462\n",
      "NodeNorm name ND6, ID NCBIGene:4541\n",
      "\n",
      "\n"
     ]
    }
   ],
   "source": [
    "## look for differences in name between NodeNormed and original data\n",
    "\n",
    "for row in df[[\"gene_symbol\", \"hgnc_id\"]].itertuples(index=False):\n",
    "    ## works because both columns have no missing values and there's no failed mappings\n",
    "    ## if this changes, need to adjust this code block\n",
    "    if row.gene_symbol != hgnc_nodenorm_mapping[row.hgnc_id][\"primary_label\"]:\n",
    "        print(f\"G2P name {row.gene_symbol}, ID {row.hgnc_id}\")\n",
    "        print(f'NodeNorm name {hgnc_nodenorm_mapping[row.hgnc_id][\"primary_label\"]}, ID {hgnc_nodenorm_mapping[row.hgnc_id][\"primary_id\"]}')\n",
    "        print(\"\\n\")"
   ]
  },
  {
   "cell_type": "markdown",
   "id": "357c59c1",
   "metadata": {},
   "source": [
    "**2025-03-28 data:** \n",
    "\n",
    "Review of mismatched names:\n",
    "* NodeNorm is correct that CENPJ should be CPAP, CCDC103 -> DNAAF19\n",
    "* The rest look like mitochondrial genes, and NCBIGene main name seems to match G2P name, not NodeNorm -> messaged NodeNorm"
   ]
  },
  {
   "cell_type": "markdown",
   "id": "24a02122",
   "metadata": {},
   "source": [
    "#### Conclusions"
   ]
  },
  {
   "cell_type": "markdown",
   "id": "15f9836e",
   "metadata": {},
   "source": [
    "<div class=\"alert alert-block alert-success\">\n",
    "\n",
    "**2025-03-28 data:** \n",
    "    \n",
    "__Exploration__\n",
    "\n",
    "* no mapping failures\n",
    "* when rows have both OMIM and HGNC IDs, there were no differences in NodeNorm mapping (\"mismatches\")\n",
    "    \n",
    "__Decision: Use HGNC ID column to generate NodeNorm values__\n",
    "\n",
    "* less missing values (none right now)\n",
    "* these IDs are probably only genes (vs OMIM terms can be multiple types) "
   ]
  },
  {
   "cell_type": "markdown",
   "id": "783a5f57",
   "metadata": {},
   "source": [
    "### Exploring: Diseases"
   ]
  },
  {
   "cell_type": "markdown",
   "id": "f1879b18",
   "metadata": {},
   "source": [
    "There are many more missing IDs for Disease, compared to Gene. \n",
    "\n",
    "As mentioned at the beginning of the \"Pre-NodeNorming\" section, I won't be using NameResolver right now. \n",
    "\n",
    "__This means all rows w/o any disease IDs will be removed__ because they cannot be pre-NodeNormed. "
   ]
  },
  {
   "cell_type": "code",
   "execution_count": 38,
   "id": "7a13a8c2",
   "metadata": {
    "ExecuteTime": {
     "end_time": "2025-04-18T06:40:16.610325Z",
     "start_time": "2025-04-18T06:40:16.601271Z"
    }
   },
   "outputs": [
    {
     "name": "stdout",
     "output_type": "stream",
     "text": [
      "<class 'pandas.core.frame.DataFrame'>\n",
      "RangeIndex: 3658 entries, 0 to 3657\n",
      "Data columns (total 3 columns):\n",
      " #   Column         Non-Null Count  Dtype \n",
      "---  ------         --------------  ----- \n",
      " 0   disease_name   3658 non-null   object\n",
      " 1   disease_mim    2571 non-null   object\n",
      " 2   disease_MONDO  564 non-null    object\n",
      "dtypes: object(3)\n",
      "memory usage: 85.9+ KB\n"
     ]
    }
   ],
   "source": [
    "df[[\"disease_name\", \"disease_mim\", \"disease_MONDO\"]].info()"
   ]
  },
  {
   "cell_type": "code",
   "execution_count": 39,
   "id": "f4c77261",
   "metadata": {
    "ExecuteTime": {
     "end_time": "2025-04-18T06:40:17.021266Z",
     "start_time": "2025-04-18T06:40:16.998435Z"
    }
   },
   "outputs": [
    {
     "data": {
      "text/html": [
       "<div>\n",
       "<style scoped>\n",
       "    .dataframe tbody tr th:only-of-type {\n",
       "        vertical-align: middle;\n",
       "    }\n",
       "\n",
       "    .dataframe tbody tr th {\n",
       "        vertical-align: top;\n",
       "    }\n",
       "\n",
       "    .dataframe thead th {\n",
       "        text-align: right;\n",
       "    }\n",
       "</style>\n",
       "<table border=\"1\" class=\"dataframe\">\n",
       "  <thead>\n",
       "    <tr style=\"text-align: right;\">\n",
       "      <th></th>\n",
       "      <th>g2p_id</th>\n",
       "      <th>gene_symbol</th>\n",
       "      <th>gene_mim</th>\n",
       "      <th>hgnc_id</th>\n",
       "      <th>previous_gene_symbols</th>\n",
       "      <th>disease_name</th>\n",
       "      <th>disease_mim</th>\n",
       "      <th>disease_MONDO</th>\n",
       "      <th>allelic_requirement</th>\n",
       "      <th>cross_cutting_modifier</th>\n",
       "      <th>confidence</th>\n",
       "      <th>variant_consequence</th>\n",
       "      <th>variant_types</th>\n",
       "      <th>molecular_mechanism</th>\n",
       "      <th>molecular_mechanism_categorisation</th>\n",
       "      <th>molecular_mechanism_evidence</th>\n",
       "      <th>phenotypes</th>\n",
       "      <th>publications</th>\n",
       "      <th>panel</th>\n",
       "      <th>comments</th>\n",
       "      <th>date_of_last_review</th>\n",
       "      <th>g2p_record_url</th>\n",
       "    </tr>\n",
       "  </thead>\n",
       "  <tbody>\n",
       "    <tr>\n",
       "      <th>15</th>\n",
       "      <td>G2P00016</td>\n",
       "      <td>NAA10</td>\n",
       "      <td>OMIM:300013</td>\n",
       "      <td>HGNC:18704</td>\n",
       "      <td>ARD1; ARD1A; DXS707; TE2</td>\n",
       "      <td>NAA10-related nonpecific severe intellectual d...</td>\n",
       "      <td>NaN</td>\n",
       "      <td>NaN</td>\n",
       "      <td>monoallelic_X_heterozygous</td>\n",
       "      <td>NaN</td>\n",
       "      <td>definitive</td>\n",
       "      <td>altered gene product structure</td>\n",
       "      <td>inframe_insertion; inframe_deletion; missense_...</td>\n",
       "      <td>undetermined</td>\n",
       "      <td>inferred</td>\n",
       "      <td>NaN</td>\n",
       "      <td>NaN</td>\n",
       "      <td>25099252</td>\n",
       "      <td>Developmental disorders</td>\n",
       "      <td>NaN</td>\n",
       "      <td>2015-07-22 16:14:09+00:00</td>\n",
       "      <td>https://www.ebi.ac.uk/gene2phenotype/lgd/G2P00016</td>\n",
       "    </tr>\n",
       "    <tr>\n",
       "      <th>20</th>\n",
       "      <td>G2P00021</td>\n",
       "      <td>COL1A1</td>\n",
       "      <td>OMIM:120150</td>\n",
       "      <td>HGNC:2197</td>\n",
       "      <td>OI4</td>\n",
       "      <td>COL1A1-related osteogenesis imperfecta spectrum</td>\n",
       "      <td>NaN</td>\n",
       "      <td>NaN</td>\n",
       "      <td>monoallelic_autosomal</td>\n",
       "      <td>restricted mutation set</td>\n",
       "      <td>definitive</td>\n",
       "      <td>altered gene product structure</td>\n",
       "      <td>NaN</td>\n",
       "      <td>dominant negative</td>\n",
       "      <td>inferred</td>\n",
       "      <td>NaN</td>\n",
       "      <td>HP:0002808; HP:0000347; HP:0005622; HP:0001075...</td>\n",
       "      <td>9295084; 3082886; 18409203; 2295701; 1988452; ...</td>\n",
       "      <td>Developmental disorders; Skin disorders; Skele...</td>\n",
       "      <td>NaN</td>\n",
       "      <td>2025-01-15 11:51:09+00:00</td>\n",
       "      <td>https://www.ebi.ac.uk/gene2phenotype/lgd/G2P00021</td>\n",
       "    </tr>\n",
       "    <tr>\n",
       "      <th>32</th>\n",
       "      <td>G2P00033</td>\n",
       "      <td>SCN2A</td>\n",
       "      <td>OMIM:182390</td>\n",
       "      <td>HGNC:10588</td>\n",
       "      <td>HBSCI; HBSCII; NAV1.2; SCN2A1; SCN2A2</td>\n",
       "      <td>SCN2A-related nonspecific severe intellectual ...</td>\n",
       "      <td>NaN</td>\n",
       "      <td>NaN</td>\n",
       "      <td>monoallelic_autosomal</td>\n",
       "      <td>NaN</td>\n",
       "      <td>definitive</td>\n",
       "      <td>absent gene product</td>\n",
       "      <td>NaN</td>\n",
       "      <td>loss of function</td>\n",
       "      <td>inferred</td>\n",
       "      <td>NaN</td>\n",
       "      <td>NaN</td>\n",
       "      <td>30062040</td>\n",
       "      <td>Developmental disorders</td>\n",
       "      <td>NaN</td>\n",
       "      <td>2015-07-22 16:14:11+00:00</td>\n",
       "      <td>https://www.ebi.ac.uk/gene2phenotype/lgd/G2P00033</td>\n",
       "    </tr>\n",
       "    <tr>\n",
       "      <th>56</th>\n",
       "      <td>G2P00057</td>\n",
       "      <td>FLNA</td>\n",
       "      <td>OMIM:300017</td>\n",
       "      <td>HGNC:3754</td>\n",
       "      <td>ABP-280; FLN; FLN1; OPD1; OPD2</td>\n",
       "      <td>FLNA-related epileptic encephalopathy</td>\n",
       "      <td>NaN</td>\n",
       "      <td>NaN</td>\n",
       "      <td>monoallelic_X_heterozygous</td>\n",
       "      <td>NaN</td>\n",
       "      <td>definitive</td>\n",
       "      <td>altered gene product structure</td>\n",
       "      <td>inframe_insertion; inframe_deletion; missense_...</td>\n",
       "      <td>undetermined</td>\n",
       "      <td>inferred</td>\n",
       "      <td>NaN</td>\n",
       "      <td>NaN</td>\n",
       "      <td>23934111</td>\n",
       "      <td>Developmental disorders; Skin disorders</td>\n",
       "      <td>NaN</td>\n",
       "      <td>2025-01-27 22:44:48+00:00</td>\n",
       "      <td>https://www.ebi.ac.uk/gene2phenotype/lgd/G2P00057</td>\n",
       "    </tr>\n",
       "    <tr>\n",
       "      <th>83</th>\n",
       "      <td>G2P00086</td>\n",
       "      <td>PRRT2</td>\n",
       "      <td>OMIM:614386</td>\n",
       "      <td>HGNC:30500</td>\n",
       "      <td>DKFZP547J199; DSPB3; DYT10; EKD1; FICCA; FLJ25...</td>\n",
       "      <td>PRRT2-related intellectual developmental disorder</td>\n",
       "      <td>NaN</td>\n",
       "      <td>NaN</td>\n",
       "      <td>biallelic_autosomal</td>\n",
       "      <td>NaN</td>\n",
       "      <td>definitive</td>\n",
       "      <td>absent gene product</td>\n",
       "      <td>NaN</td>\n",
       "      <td>loss of function</td>\n",
       "      <td>inferred</td>\n",
       "      <td>NaN</td>\n",
       "      <td>NaN</td>\n",
       "      <td>21937992</td>\n",
       "      <td>Developmental disorders</td>\n",
       "      <td>NaN</td>\n",
       "      <td>2015-07-22 16:14:14+00:00</td>\n",
       "      <td>https://www.ebi.ac.uk/gene2phenotype/lgd/G2P00086</td>\n",
       "    </tr>\n",
       "    <tr>\n",
       "      <th>...</th>\n",
       "      <td>...</td>\n",
       "      <td>...</td>\n",
       "      <td>...</td>\n",
       "      <td>...</td>\n",
       "      <td>...</td>\n",
       "      <td>...</td>\n",
       "      <td>...</td>\n",
       "      <td>...</td>\n",
       "      <td>...</td>\n",
       "      <td>...</td>\n",
       "      <td>...</td>\n",
       "      <td>...</td>\n",
       "      <td>...</td>\n",
       "      <td>...</td>\n",
       "      <td>...</td>\n",
       "      <td>...</td>\n",
       "      <td>...</td>\n",
       "      <td>...</td>\n",
       "      <td>...</td>\n",
       "      <td>...</td>\n",
       "      <td>...</td>\n",
       "      <td>...</td>\n",
       "    </tr>\n",
       "    <tr>\n",
       "      <th>3620</th>\n",
       "      <td>G2P02428</td>\n",
       "      <td>IPO13</td>\n",
       "      <td>OMIM:610411</td>\n",
       "      <td>HGNC:16853</td>\n",
       "      <td>IMP13; KIAA0724; RANBP13</td>\n",
       "      <td>IPO13-related ocular coloboma, microphthalmia,...</td>\n",
       "      <td>NaN</td>\n",
       "      <td>NaN</td>\n",
       "      <td>biallelic_autosomal</td>\n",
       "      <td>NaN</td>\n",
       "      <td>strong</td>\n",
       "      <td>absent gene product</td>\n",
       "      <td>NaN</td>\n",
       "      <td>loss of function</td>\n",
       "      <td>inferred</td>\n",
       "      <td>NaN</td>\n",
       "      <td>HP:0000007; HP:0000568; HP:0000482; HP:0000612</td>\n",
       "      <td>29700284</td>\n",
       "      <td>Eye disorders</td>\n",
       "      <td>NaN</td>\n",
       "      <td>2018-05-25 14:49:39+00:00</td>\n",
       "      <td>https://www.ebi.ac.uk/gene2phenotype/lgd/G2P02428</td>\n",
       "    </tr>\n",
       "    <tr>\n",
       "      <th>3623</th>\n",
       "      <td>G2P02432</td>\n",
       "      <td>MAFB</td>\n",
       "      <td>OMIM:608968</td>\n",
       "      <td>HGNC:6408</td>\n",
       "      <td>KRML</td>\n",
       "      <td>MAFB-related focal segmental glomerulosclerosi...</td>\n",
       "      <td>NaN</td>\n",
       "      <td>NaN</td>\n",
       "      <td>monoallelic_autosomal</td>\n",
       "      <td>NaN</td>\n",
       "      <td>strong</td>\n",
       "      <td>altered gene product structure</td>\n",
       "      <td>inframe_insertion; inframe_deletion; missense_...</td>\n",
       "      <td>undetermined</td>\n",
       "      <td>inferred</td>\n",
       "      <td>NaN</td>\n",
       "      <td>NaN</td>\n",
       "      <td>29779709</td>\n",
       "      <td>Eye disorders</td>\n",
       "      <td>NaN</td>\n",
       "      <td>2018-05-30 15:12:32+00:00</td>\n",
       "      <td>https://www.ebi.ac.uk/gene2phenotype/lgd/G2P02432</td>\n",
       "    </tr>\n",
       "    <tr>\n",
       "      <th>3629</th>\n",
       "      <td>G2P02540</td>\n",
       "      <td>IFT88</td>\n",
       "      <td>OMIM:600595</td>\n",
       "      <td>HGNC:20606</td>\n",
       "      <td>D13S1056E; HTG737; MGC26259; TG737; TTC10</td>\n",
       "      <td>IFT88-related non-syndromic retinal degeneration</td>\n",
       "      <td>NaN</td>\n",
       "      <td>NaN</td>\n",
       "      <td>biallelic_autosomal</td>\n",
       "      <td>NaN</td>\n",
       "      <td>limited</td>\n",
       "      <td>absent gene product</td>\n",
       "      <td>NaN</td>\n",
       "      <td>loss of function</td>\n",
       "      <td>inferred</td>\n",
       "      <td>NaN</td>\n",
       "      <td>HP:0000007; HP:0000662; HP:0007947; HP:0008035...</td>\n",
       "      <td>29978320</td>\n",
       "      <td>Eye disorders</td>\n",
       "      <td>NaN</td>\n",
       "      <td>2025-01-16 11:09:04+00:00</td>\n",
       "      <td>https://www.ebi.ac.uk/gene2phenotype/lgd/G2P02540</td>\n",
       "    </tr>\n",
       "    <tr>\n",
       "      <th>3645</th>\n",
       "      <td>G2P02823</td>\n",
       "      <td>MFRP</td>\n",
       "      <td>OMIM:606227</td>\n",
       "      <td>HGNC:18121</td>\n",
       "      <td>C1QTNF5; FLJ30570; NNO2; RD6</td>\n",
       "      <td>MFRP-related non-syndromic retinitis pigmenta</td>\n",
       "      <td>NaN</td>\n",
       "      <td>NaN</td>\n",
       "      <td>biallelic_autosomal</td>\n",
       "      <td>NaN</td>\n",
       "      <td>definitive</td>\n",
       "      <td>uncertain</td>\n",
       "      <td>NaN</td>\n",
       "      <td>undetermined</td>\n",
       "      <td>inferred</td>\n",
       "      <td>NaN</td>\n",
       "      <td>HP:0000556; HP:0000510</td>\n",
       "      <td>24474277; 22605927; 22142163</td>\n",
       "      <td>Eye disorders</td>\n",
       "      <td>NaN</td>\n",
       "      <td>2024-10-25 14:34:52+00:00</td>\n",
       "      <td>https://www.ebi.ac.uk/gene2phenotype/lgd/G2P02823</td>\n",
       "    </tr>\n",
       "    <tr>\n",
       "      <th>3648</th>\n",
       "      <td>G2P02826</td>\n",
       "      <td>RPE65</td>\n",
       "      <td>OMIM:180069</td>\n",
       "      <td>HGNC:10294</td>\n",
       "      <td>BCO3; LCA2; RD12; RP20</td>\n",
       "      <td>RPE65-related retinal dystrophy</td>\n",
       "      <td>NaN</td>\n",
       "      <td>NaN</td>\n",
       "      <td>monoallelic_autosomal</td>\n",
       "      <td>NaN</td>\n",
       "      <td>definitive</td>\n",
       "      <td>altered gene product structure</td>\n",
       "      <td>inframe_insertion; inframe_deletion; missense_...</td>\n",
       "      <td>undetermined</td>\n",
       "      <td>inferred</td>\n",
       "      <td>NaN</td>\n",
       "      <td>HP:0000556; HP:0001139</td>\n",
       "      <td>27307694; 21654732; 29947567</td>\n",
       "      <td>Eye disorders</td>\n",
       "      <td>NaN</td>\n",
       "      <td>2019-10-30 14:45:12+00:00</td>\n",
       "      <td>https://www.ebi.ac.uk/gene2phenotype/lgd/G2P02826</td>\n",
       "    </tr>\n",
       "  </tbody>\n",
       "</table>\n",
       "<p>642 rows × 22 columns</p>\n",
       "</div>"
      ],
      "text/plain": [
       "        g2p_id gene_symbol     gene_mim     hgnc_id  \\\n",
       "15    G2P00016       NAA10  OMIM:300013  HGNC:18704   \n",
       "20    G2P00021      COL1A1  OMIM:120150   HGNC:2197   \n",
       "32    G2P00033       SCN2A  OMIM:182390  HGNC:10588   \n",
       "56    G2P00057        FLNA  OMIM:300017   HGNC:3754   \n",
       "83    G2P00086       PRRT2  OMIM:614386  HGNC:30500   \n",
       "...        ...         ...          ...         ...   \n",
       "3620  G2P02428       IPO13  OMIM:610411  HGNC:16853   \n",
       "3623  G2P02432        MAFB  OMIM:608968   HGNC:6408   \n",
       "3629  G2P02540       IFT88  OMIM:600595  HGNC:20606   \n",
       "3645  G2P02823        MFRP  OMIM:606227  HGNC:18121   \n",
       "3648  G2P02826       RPE65  OMIM:180069  HGNC:10294   \n",
       "\n",
       "                                  previous_gene_symbols  \\\n",
       "15                             ARD1; ARD1A; DXS707; TE2   \n",
       "20                                                  OI4   \n",
       "32                HBSCI; HBSCII; NAV1.2; SCN2A1; SCN2A2   \n",
       "56                       ABP-280; FLN; FLN1; OPD1; OPD2   \n",
       "83    DKFZP547J199; DSPB3; DYT10; EKD1; FICCA; FLJ25...   \n",
       "...                                                 ...   \n",
       "3620                           IMP13; KIAA0724; RANBP13   \n",
       "3623                                               KRML   \n",
       "3629          D13S1056E; HTG737; MGC26259; TG737; TTC10   \n",
       "3645                       C1QTNF5; FLJ30570; NNO2; RD6   \n",
       "3648                             BCO3; LCA2; RD12; RP20   \n",
       "\n",
       "                                           disease_name disease_mim  \\\n",
       "15    NAA10-related nonpecific severe intellectual d...         NaN   \n",
       "20      COL1A1-related osteogenesis imperfecta spectrum         NaN   \n",
       "32    SCN2A-related nonspecific severe intellectual ...         NaN   \n",
       "56                FLNA-related epileptic encephalopathy         NaN   \n",
       "83    PRRT2-related intellectual developmental disorder         NaN   \n",
       "...                                                 ...         ...   \n",
       "3620  IPO13-related ocular coloboma, microphthalmia,...         NaN   \n",
       "3623  MAFB-related focal segmental glomerulosclerosi...         NaN   \n",
       "3629   IFT88-related non-syndromic retinal degeneration         NaN   \n",
       "3645      MFRP-related non-syndromic retinitis pigmenta         NaN   \n",
       "3648                    RPE65-related retinal dystrophy         NaN   \n",
       "\n",
       "     disease_MONDO         allelic_requirement   cross_cutting_modifier  \\\n",
       "15             NaN  monoallelic_X_heterozygous                      NaN   \n",
       "20             NaN       monoallelic_autosomal  restricted mutation set   \n",
       "32             NaN       monoallelic_autosomal                      NaN   \n",
       "56             NaN  monoallelic_X_heterozygous                      NaN   \n",
       "83             NaN         biallelic_autosomal                      NaN   \n",
       "...            ...                         ...                      ...   \n",
       "3620           NaN         biallelic_autosomal                      NaN   \n",
       "3623           NaN       monoallelic_autosomal                      NaN   \n",
       "3629           NaN         biallelic_autosomal                      NaN   \n",
       "3645           NaN         biallelic_autosomal                      NaN   \n",
       "3648           NaN       monoallelic_autosomal                      NaN   \n",
       "\n",
       "      confidence             variant_consequence  \\\n",
       "15    definitive  altered gene product structure   \n",
       "20    definitive  altered gene product structure   \n",
       "32    definitive             absent gene product   \n",
       "56    definitive  altered gene product structure   \n",
       "83    definitive             absent gene product   \n",
       "...          ...                             ...   \n",
       "3620      strong             absent gene product   \n",
       "3623      strong  altered gene product structure   \n",
       "3629     limited             absent gene product   \n",
       "3645  definitive                       uncertain   \n",
       "3648  definitive  altered gene product structure   \n",
       "\n",
       "                                          variant_types molecular_mechanism  \\\n",
       "15    inframe_insertion; inframe_deletion; missense_...        undetermined   \n",
       "20                                                  NaN   dominant negative   \n",
       "32                                                  NaN    loss of function   \n",
       "56    inframe_insertion; inframe_deletion; missense_...        undetermined   \n",
       "83                                                  NaN    loss of function   \n",
       "...                                                 ...                 ...   \n",
       "3620                                                NaN    loss of function   \n",
       "3623  inframe_insertion; inframe_deletion; missense_...        undetermined   \n",
       "3629                                                NaN    loss of function   \n",
       "3645                                                NaN        undetermined   \n",
       "3648  inframe_insertion; inframe_deletion; missense_...        undetermined   \n",
       "\n",
       "     molecular_mechanism_categorisation molecular_mechanism_evidence  \\\n",
       "15                             inferred                          NaN   \n",
       "20                             inferred                          NaN   \n",
       "32                             inferred                          NaN   \n",
       "56                             inferred                          NaN   \n",
       "83                             inferred                          NaN   \n",
       "...                                 ...                          ...   \n",
       "3620                           inferred                          NaN   \n",
       "3623                           inferred                          NaN   \n",
       "3629                           inferred                          NaN   \n",
       "3645                           inferred                          NaN   \n",
       "3648                           inferred                          NaN   \n",
       "\n",
       "                                             phenotypes  \\\n",
       "15                                                  NaN   \n",
       "20    HP:0002808; HP:0000347; HP:0005622; HP:0001075...   \n",
       "32                                                  NaN   \n",
       "56                                                  NaN   \n",
       "83                                                  NaN   \n",
       "...                                                 ...   \n",
       "3620     HP:0000007; HP:0000568; HP:0000482; HP:0000612   \n",
       "3623                                                NaN   \n",
       "3629  HP:0000007; HP:0000662; HP:0007947; HP:0008035...   \n",
       "3645                             HP:0000556; HP:0000510   \n",
       "3648                             HP:0000556; HP:0001139   \n",
       "\n",
       "                                           publications  \\\n",
       "15                                             25099252   \n",
       "20    9295084; 3082886; 18409203; 2295701; 1988452; ...   \n",
       "32                                             30062040   \n",
       "56                                             23934111   \n",
       "83                                             21937992   \n",
       "...                                                 ...   \n",
       "3620                                           29700284   \n",
       "3623                                           29779709   \n",
       "3629                                           29978320   \n",
       "3645                       24474277; 22605927; 22142163   \n",
       "3648                       27307694; 21654732; 29947567   \n",
       "\n",
       "                                                  panel comments  \\\n",
       "15                              Developmental disorders      NaN   \n",
       "20    Developmental disorders; Skin disorders; Skele...      NaN   \n",
       "32                              Developmental disorders      NaN   \n",
       "56              Developmental disorders; Skin disorders      NaN   \n",
       "83                              Developmental disorders      NaN   \n",
       "...                                                 ...      ...   \n",
       "3620                                      Eye disorders      NaN   \n",
       "3623                                      Eye disorders      NaN   \n",
       "3629                                      Eye disorders      NaN   \n",
       "3645                                      Eye disorders      NaN   \n",
       "3648                                      Eye disorders      NaN   \n",
       "\n",
       "           date_of_last_review  \\\n",
       "15   2015-07-22 16:14:09+00:00   \n",
       "20   2025-01-15 11:51:09+00:00   \n",
       "32   2015-07-22 16:14:11+00:00   \n",
       "56   2025-01-27 22:44:48+00:00   \n",
       "83   2015-07-22 16:14:14+00:00   \n",
       "...                        ...   \n",
       "3620 2018-05-25 14:49:39+00:00   \n",
       "3623 2018-05-30 15:12:32+00:00   \n",
       "3629 2025-01-16 11:09:04+00:00   \n",
       "3645 2024-10-25 14:34:52+00:00   \n",
       "3648 2019-10-30 14:45:12+00:00   \n",
       "\n",
       "                                         g2p_record_url  \n",
       "15    https://www.ebi.ac.uk/gene2phenotype/lgd/G2P00016  \n",
       "20    https://www.ebi.ac.uk/gene2phenotype/lgd/G2P00021  \n",
       "32    https://www.ebi.ac.uk/gene2phenotype/lgd/G2P00033  \n",
       "56    https://www.ebi.ac.uk/gene2phenotype/lgd/G2P00057  \n",
       "83    https://www.ebi.ac.uk/gene2phenotype/lgd/G2P00086  \n",
       "...                                                 ...  \n",
       "3620  https://www.ebi.ac.uk/gene2phenotype/lgd/G2P02428  \n",
       "3623  https://www.ebi.ac.uk/gene2phenotype/lgd/G2P02432  \n",
       "3629  https://www.ebi.ac.uk/gene2phenotype/lgd/G2P02540  \n",
       "3645  https://www.ebi.ac.uk/gene2phenotype/lgd/G2P02823  \n",
       "3648  https://www.ebi.ac.uk/gene2phenotype/lgd/G2P02826  \n",
       "\n",
       "[642 rows x 22 columns]"
      ]
     },
     "execution_count": 39,
     "metadata": {},
     "output_type": "execute_result"
    }
   ],
   "source": [
    "df[df[\"disease_mim\"].isna() & df[\"disease_MONDO\"].isna()]"
   ]
  },
  {
   "cell_type": "code",
   "execution_count": 40,
   "id": "7451392e",
   "metadata": {
    "ExecuteTime": {
     "end_time": "2025-04-18T06:40:26.915651Z",
     "start_time": "2025-04-18T06:40:26.905875Z"
    }
   },
   "outputs": [
    {
     "data": {
      "text/plain": [
       "642"
      ]
     },
     "execution_count": 40,
     "metadata": {},
     "output_type": "execute_result"
    },
    {
     "data": {
      "text/plain": [
       "629"
      ]
     },
     "execution_count": 40,
     "metadata": {},
     "output_type": "execute_result"
    }
   ],
   "source": [
    "## saving stats on data with no disease IDs\n",
    "\n",
    "stats_no_disease_IDs = {\n",
    "    \"n_rows\": df[df[\"disease_mim\"].isna() & df[\"disease_MONDO\"].isna()].shape[0],\n",
    "    \"n_names\": len(df[df[\"disease_mim\"].isna() & df[\"disease_MONDO\"].isna()][\"disease_name\"].unique())\n",
    "}\n",
    "\n",
    "stats_no_disease_IDs[\"n_rows\"]\n",
    "stats_no_disease_IDs[\"n_names\"]"
   ]
  },
  {
   "cell_type": "markdown",
   "id": "b7a750dc",
   "metadata": {},
   "source": [
    "#### OMIM/orphanet"
   ]
  },
  {
   "cell_type": "markdown",
   "id": "4a12fa8f",
   "metadata": {},
   "source": [
    "__Running OMIM/orphanet IDs through NodeNorm__\n",
    "\n",
    "Catching mapping failures for later stats report\n",
    "\n",
    "Pasted, adjusted from HGNC code blocks above."
   ]
  },
  {
   "cell_type": "code",
   "execution_count": 41,
   "id": "619356be",
   "metadata": {
    "ExecuteTime": {
     "end_time": "2025-04-18T06:40:29.890049Z",
     "start_time": "2025-04-18T06:40:29.885038Z"
    }
   },
   "outputs": [
    {
     "data": {
      "text/plain": [
       "2402"
      ]
     },
     "execution_count": 41,
     "metadata": {},
     "output_type": "execute_result"
    }
   ],
   "source": [
    "## put into parser (format): DONE\n",
    "\n",
    "## get set of unique CURIEs to put into NodeNorm\n",
    "disease_OmOr = df[\"disease_mim\"].dropna().unique()\n",
    "len(disease_OmOr)"
   ]
  },
  {
   "cell_type": "code",
   "execution_count": 42,
   "id": "1400dd55",
   "metadata": {
    "ExecuteTime": {
     "end_time": "2025-04-18T06:40:30.772959Z",
     "start_time": "2025-04-18T06:40:30.769768Z"
    }
   },
   "outputs": [],
   "source": [
    "## put into parser (format): DONE\n",
    "\n",
    "OmOr_nodenorm_mapping = {}\n",
    "\n",
    "## set up variables to catch mapping failures\n",
    "stats_OmOr_mapping_failures = {\n",
    "    \"unexpected_error\": {},\n",
    "    \"nodenorm_returned_none\": [],\n",
    "    \"wrong_category\": {},\n",
    "    \"no_label\": []\n",
    "    \n",
    "}"
   ]
  },
  {
   "cell_type": "code",
   "execution_count": 43,
   "id": "858b6f93",
   "metadata": {
    "ExecuteTime": {
     "end_time": "2025-04-18T06:40:38.091376Z",
     "start_time": "2025-04-18T06:40:31.668169Z"
    }
   },
   "outputs": [],
   "source": [
    "## put into parser (format): DONE\n",
    "\n",
    "## larger batches are quicker\n",
    "for batch in batched(disease_OmOr, 1000):\n",
    "    ## returns tuples -> cast to list\n",
    "    req_body = {\n",
    "        \"curies\": list(batch),\n",
    "        \"conflate\": True,\n",
    "    }\n",
    "    r = requests.post(nodenorm_url, json=req_body)\n",
    "    response = r.json()\n",
    "    \n",
    "    ## not doing dict comprehension. allows easier review, logic writing\n",
    "    for k,v in response.items():\n",
    "        ## catch unexpected errors\n",
    "        try:\n",
    "            ## if NodeNorm didn't have info on this ID, v will be None\n",
    "            if v is not None:\n",
    "                ## don't keep mapping if category is not the expected one\n",
    "                if v[\"type\"][0] == \"biolink:Disease\":\n",
    "                    ## also throw out mapping if no primary label found\n",
    "                    if v[\"id\"].get(\"label\"):\n",
    "                        temp = {\n",
    "                            k: {\"primary_id\": v[\"id\"][\"identifier\"],\n",
    "                                \"primary_label\": v[\"id\"][\"label\"]\n",
    "                               }\n",
    "                        }\n",
    "                        OmOr_nodenorm_mapping.update(temp)\n",
    "                    else:\n",
    "                        stats_OmOr_mapping_failures[\"no_label\"].append(k)\n",
    "#                         print(f\"{k}: NodeNorm didn't find primary label. Not keeping this mapping.\")\n",
    "                else:\n",
    "                    stats_OmOr_mapping_failures[\"wrong_category\"].update({k: v[\"type\"][0]})\n",
    "#                     print(f'{k}: NodeNorm found different category {v[\"type\"][0]}. Not keeping this mapping.')\n",
    "            else:\n",
    "                stats_OmOr_mapping_failures[\"nodenorm_returned_none\"].append(k)\n",
    "#                 print(f\"{k}: NodeNorm didn't recognize this ID\")\n",
    "        except:\n",
    "            stats_OmOr_mapping_failures[\"unexpected_error\"].update({k: v})\n",
    "            print(f'Encountered an unexpected error.')\n",
    "            print(f'NodeNorm response key: {k}')\n",
    "            print(f'NodeNorm response value: {v}')"
   ]
  },
  {
   "cell_type": "code",
   "execution_count": 44,
   "id": "a772ebfd",
   "metadata": {
    "ExecuteTime": {
     "end_time": "2025-04-18T06:40:38.844506Z",
     "start_time": "2025-04-18T06:40:38.838147Z"
    }
   },
   "outputs": [],
   "source": [
    "## put into parser (format): DONE\n",
    "\n",
    "## calculate stats: number of rows affected by each type of mapping failure\n",
    "stats_OmOr_mapping_failures.update({\n",
    "    \"n_rows_none\": df[df[\"disease_mim\"].isin(stats_OmOr_mapping_failures[\"nodenorm_returned_none\"])].shape[0],\n",
    "    \"n_rows_wrong_category\": df[df[\"disease_mim\"].isin(stats_OmOr_mapping_failures[\"wrong_category\"].keys())].shape[0],\n",
    "    \"n_rows_no_label\": df[df[\"disease_mim\"].isin(stats_OmOr_mapping_failures[\"no_label\"])].shape[0]\n",
    "})"
   ]
  },
  {
   "cell_type": "code",
   "execution_count": 45,
   "id": "2e81d56b",
   "metadata": {
    "ExecuteTime": {
     "end_time": "2025-04-18T06:40:39.620924Z",
     "start_time": "2025-04-18T06:40:39.611507Z"
    }
   },
   "outputs": [
    {
     "data": {
      "text/plain": [
       "2334"
      ]
     },
     "execution_count": 45,
     "metadata": {},
     "output_type": "execute_result"
    },
    {
     "data": {
      "text/plain": [
       "{}"
      ]
     },
     "execution_count": 45,
     "metadata": {},
     "output_type": "execute_result"
    },
    {
     "data": {
      "text/plain": [
       "39"
      ]
     },
     "execution_count": 45,
     "metadata": {},
     "output_type": "execute_result"
    },
    {
     "data": {
      "text/plain": [
       "26"
      ]
     },
     "execution_count": 45,
     "metadata": {},
     "output_type": "execute_result"
    },
    {
     "data": {
      "text/plain": [
       "3"
      ]
     },
     "execution_count": 45,
     "metadata": {},
     "output_type": "execute_result"
    }
   ],
   "source": [
    "len(OmOr_nodenorm_mapping)\n",
    "\n",
    "stats_OmOr_mapping_failures[\"unexpected_error\"]\n",
    "\n",
    "len(stats_OmOr_mapping_failures[\"nodenorm_returned_none\"])\n",
    "len(stats_OmOr_mapping_failures[\"wrong_category\"])\n",
    "len(stats_OmOr_mapping_failures[\"no_label\"])"
   ]
  },
  {
   "cell_type": "code",
   "execution_count": 46,
   "id": "77af9e52",
   "metadata": {
    "ExecuteTime": {
     "end_time": "2025-04-18T06:40:48.660180Z",
     "start_time": "2025-04-18T06:40:48.655805Z"
    }
   },
   "outputs": [
    {
     "data": {
      "text/plain": [
       "dict_keys(['OMIM:300153', 'OMIM:300171', 'OMIM:188400', 'OMIM:611579', 'OMIM:603707', 'OMIM:601789', 'OMIM:603360', 'OMIM:609413', 'OMIM:300197', 'OMIM:603164', 'OMIM:123580', 'OMIM:601758', 'OMIM:601498', 'OMIM:601791', 'OMIM:170993', 'OMIM:601893', 'OMIM:606525', 'OMIM:602859', 'OMIM:612082', 'OMIM:601757', 'OMIM:300204', 'OMIM:600112', 'OMIM:104155', 'OMIM:618615', 'OMIM:614281', 'OMIM:603718'])"
      ]
     },
     "execution_count": 46,
     "metadata": {},
     "output_type": "execute_result"
    }
   ],
   "source": [
    "## code used to review mapping failures \n",
    "\n",
    "# stats_OmOr_mapping_failures[\"nodenorm_returned_none\"]\n",
    "\n",
    "stats_OmOr_mapping_failures[\"wrong_category\"].keys()\n",
    "\n",
    "# stats_OmOr_mapping_failures[\"no_label\"]"
   ]
  },
  {
   "cell_type": "code",
   "execution_count": 47,
   "id": "fa7539a8",
   "metadata": {
    "ExecuteTime": {
     "end_time": "2025-04-18T06:40:50.108098Z",
     "start_time": "2025-04-18T06:40:50.105710Z"
    }
   },
   "outputs": [],
   "source": [
    "## code used to review mapping failures \n",
    "\n",
    "# df[df[\"disease_mim\"] == \"OMIM:613180\"]"
   ]
  },
  {
   "cell_type": "markdown",
   "id": "8a424998",
   "metadata": {},
   "source": [
    "<div class=\"alert alert-block alert-info\">\n",
    "\n",
    "**2025-02-28 data:**    \n",
    "    \n",
    "__Reviewed Disease OMIM/orphanet NodeNorm mapping failures__\n",
    "\n",
    "All were OMIM IDs, none were orphanet. \n",
    "    \n",
    "39 cases where NodeNorm returned None (didn't recognize/resolve ID). __I checked some (10)__:\n",
    "* 5: ID has been replaced/moved to a diff ID (OMIM:607236, OMIM:608890, OMIM:613180, OMIM:300706, OMIM:300141) -> emailed EBI gene2pheno\n",
    "* 3: ID doesn't exist (OMIM:249163, OMIM:319029, OMIM:237145) -> emailed EBI gene2pheno\n",
    "* 1: NodeNorm error - this is a valid disease ID that it should recognize (OMIM:133700) -> messaged NodeNorm\n",
    "* 1: valid ID, but it doesn't seem to be a disease. There may be better IDs out there (OMIM:601884) -> messaged NodeNorm, emailed EBI gene2pheno\n",
    "\n",
    "26 cases where NodeNorm category was something else (currently, always Gene). I checked all: \n",
    "* 25: NodeNorm is correct, this is a gene -> emailed EBI gene2pheno\n",
    "* 1: NodeNorm error - this is a valid disease ID (OMIM:188400) -> messaged NodeNorm\n",
    "    \n",
    "3 cases where NodeNorm didn't have a primary label. I checked all:\n",
    "* 2: NodeNorm error - these are valid disease IDs with labels (OMIM:620987, OMIM:620964) -> messaged NodeNorm\n",
    "* 1: valid ID, but it doesn't seem to be a disease (OMIM:300129). EBI gene2pheno shouldn't use, not sure it should be in NodeNorm -> messaged NodeNorm, emailed EBI gene2pheno\n",
    "    \n",
    "</div>"
   ]
  },
  {
   "cell_type": "code",
   "execution_count": 48,
   "id": "7a18bbdf",
   "metadata": {
    "ExecuteTime": {
     "end_time": "2025-04-18T06:40:56.472514Z",
     "start_time": "2025-04-18T06:40:56.468978Z"
    }
   },
   "outputs": [],
   "source": [
    "## code used to check for orphanet mapping failures \n",
    "\n",
    "for i in stats_OmOr_mapping_failures[\"nodenorm_returned_none\"]:\n",
    "    if \"orphanet\" in i:\n",
    "        print(i)\n",
    "        \n",
    "for i in stats_OmOr_mapping_failures[\"wrong_category\"].keys():\n",
    "    if \"orphanet\" in i:\n",
    "        print(i)\n",
    "\n",
    "for i in stats_OmOr_mapping_failures[\"no_label\"]:\n",
    "    if \"orphanet\" in i:\n",
    "        print(i)"
   ]
  },
  {
   "cell_type": "markdown",
   "id": "161a4c40",
   "metadata": {},
   "source": [
    "**2025-02-28 data:** \n",
    "\n",
    "No orphanet IDs were had mapping failures but I checked all (9) mappings anyways - they looked fine. "
   ]
  },
  {
   "cell_type": "code",
   "execution_count": 49,
   "id": "e90e26d5",
   "metadata": {
    "ExecuteTime": {
     "end_time": "2025-04-18T06:40:58.406956Z",
     "start_time": "2025-04-18T06:40:58.384464Z"
    }
   },
   "outputs": [
    {
     "data": {
      "text/html": [
       "<div>\n",
       "<style scoped>\n",
       "    .dataframe tbody tr th:only-of-type {\n",
       "        vertical-align: middle;\n",
       "    }\n",
       "\n",
       "    .dataframe tbody tr th {\n",
       "        vertical-align: top;\n",
       "    }\n",
       "\n",
       "    .dataframe thead th {\n",
       "        text-align: right;\n",
       "    }\n",
       "</style>\n",
       "<table border=\"1\" class=\"dataframe\">\n",
       "  <thead>\n",
       "    <tr style=\"text-align: right;\">\n",
       "      <th></th>\n",
       "      <th>g2p_id</th>\n",
       "      <th>gene_symbol</th>\n",
       "      <th>gene_mim</th>\n",
       "      <th>hgnc_id</th>\n",
       "      <th>previous_gene_symbols</th>\n",
       "      <th>disease_name</th>\n",
       "      <th>disease_mim</th>\n",
       "      <th>disease_MONDO</th>\n",
       "      <th>allelic_requirement</th>\n",
       "      <th>cross_cutting_modifier</th>\n",
       "      <th>confidence</th>\n",
       "      <th>variant_consequence</th>\n",
       "      <th>variant_types</th>\n",
       "      <th>molecular_mechanism</th>\n",
       "      <th>molecular_mechanism_categorisation</th>\n",
       "      <th>molecular_mechanism_evidence</th>\n",
       "      <th>phenotypes</th>\n",
       "      <th>publications</th>\n",
       "      <th>panel</th>\n",
       "      <th>comments</th>\n",
       "      <th>date_of_last_review</th>\n",
       "      <th>g2p_record_url</th>\n",
       "    </tr>\n",
       "  </thead>\n",
       "  <tbody>\n",
       "    <tr>\n",
       "      <th>1958</th>\n",
       "      <td>G2P02555</td>\n",
       "      <td>SMAD6</td>\n",
       "      <td>OMIM:602931</td>\n",
       "      <td>HGNC:6772</td>\n",
       "      <td>HST17432; MADH6; MADH7</td>\n",
       "      <td>SMAD6-related non-syndromic craniosynostosis</td>\n",
       "      <td>orphanet:139390</td>\n",
       "      <td>NaN</td>\n",
       "      <td>monoallelic_autosomal</td>\n",
       "      <td>NaN</td>\n",
       "      <td>limited</td>\n",
       "      <td>absent gene product</td>\n",
       "      <td>NaN</td>\n",
       "      <td>loss of function</td>\n",
       "      <td>inferred</td>\n",
       "      <td>NaN</td>\n",
       "      <td>HP:0001363</td>\n",
       "      <td>27606499; 28808027</td>\n",
       "      <td>Developmental disorders</td>\n",
       "      <td>NaN</td>\n",
       "      <td>2019-04-17 12:18:34+00:00</td>\n",
       "      <td>https://www.ebi.ac.uk/gene2phenotype/lgd/G2P02555</td>\n",
       "    </tr>\n",
       "    <tr>\n",
       "      <th>1967</th>\n",
       "      <td>G2P02564</td>\n",
       "      <td>TONSL</td>\n",
       "      <td>OMIM:604546</td>\n",
       "      <td>HGNC:7801</td>\n",
       "      <td>IKBR; NFKBIL2</td>\n",
       "      <td>TONSL-related sponastrime dysplasia</td>\n",
       "      <td>orphanet:93357</td>\n",
       "      <td>NaN</td>\n",
       "      <td>biallelic_autosomal</td>\n",
       "      <td>NaN</td>\n",
       "      <td>strong</td>\n",
       "      <td>absent gene product</td>\n",
       "      <td>NaN</td>\n",
       "      <td>loss of function</td>\n",
       "      <td>inferred</td>\n",
       "      <td>NaN</td>\n",
       "      <td>HP:0100255; HP:0002650; HP:0005281; HP:0004322</td>\n",
       "      <td>30773277; 30773278</td>\n",
       "      <td>Developmental disorders</td>\n",
       "      <td>NaN</td>\n",
       "      <td>2018-11-07 09:53:40+00:00</td>\n",
       "      <td>https://www.ebi.ac.uk/gene2phenotype/lgd/G2P02564</td>\n",
       "    </tr>\n",
       "    <tr>\n",
       "      <th>2791</th>\n",
       "      <td>G2P01819</td>\n",
       "      <td>RET</td>\n",
       "      <td>OMIM:164761</td>\n",
       "      <td>HGNC:9967</td>\n",
       "      <td>CDHF12; CDHR16; HSCR1; MEN2A; MEN2B; MTC1; PTC...</td>\n",
       "      <td>RET-related medullary thyroid carcinoma</td>\n",
       "      <td>orphanet:1332</td>\n",
       "      <td>NaN</td>\n",
       "      <td>monoallelic_autosomal</td>\n",
       "      <td>NaN</td>\n",
       "      <td>definitive</td>\n",
       "      <td>uncertain</td>\n",
       "      <td>NaN</td>\n",
       "      <td>undetermined</td>\n",
       "      <td>inferred</td>\n",
       "      <td>NaN</td>\n",
       "      <td>HP:0002865</td>\n",
       "      <td>10323403; 11454140; 14602786; 15240641; 950672...</td>\n",
       "      <td>Skin disorders; Cancer disorders</td>\n",
       "      <td>NaN</td>\n",
       "      <td>2017-09-01 16:19:16+00:00</td>\n",
       "      <td>https://www.ebi.ac.uk/gene2phenotype/lgd/G2P01819</td>\n",
       "    </tr>\n",
       "    <tr>\n",
       "      <th>2912</th>\n",
       "      <td>G2P02669</td>\n",
       "      <td>INSR</td>\n",
       "      <td>OMIM:147670</td>\n",
       "      <td>HGNC:6091</td>\n",
       "      <td>CD220</td>\n",
       "      <td>INSR-related leprechaunism</td>\n",
       "      <td>orphanet:508</td>\n",
       "      <td>NaN</td>\n",
       "      <td>biallelic_autosomal</td>\n",
       "      <td>NaN</td>\n",
       "      <td>definitive</td>\n",
       "      <td>absent gene product</td>\n",
       "      <td>NaN</td>\n",
       "      <td>loss of function</td>\n",
       "      <td>inferred</td>\n",
       "      <td>NaN</td>\n",
       "      <td>HP:0000924; HP:0008897; HP:0003202; HP:0003162...</td>\n",
       "      <td>8105179; 7815442</td>\n",
       "      <td>Skin disorders</td>\n",
       "      <td>NaN</td>\n",
       "      <td>2019-09-16 15:47:00+00:00</td>\n",
       "      <td>https://www.ebi.ac.uk/gene2phenotype/lgd/G2P02669</td>\n",
       "    </tr>\n",
       "    <tr>\n",
       "      <th>3142</th>\n",
       "      <td>G2P03354</td>\n",
       "      <td>SEC23B</td>\n",
       "      <td>OMIM:610512</td>\n",
       "      <td>HGNC:10702</td>\n",
       "      <td>CDA-II; CDAII; CDAN2; HEMPAS</td>\n",
       "      <td>SEC23B-related Cowden syndrome</td>\n",
       "      <td>orphanet:201</td>\n",
       "      <td>NaN</td>\n",
       "      <td>monoallelic_autosomal</td>\n",
       "      <td>NaN</td>\n",
       "      <td>limited</td>\n",
       "      <td>uncertain</td>\n",
       "      <td>NaN</td>\n",
       "      <td>gain of function</td>\n",
       "      <td>inferred</td>\n",
       "      <td>NaN</td>\n",
       "      <td>HP:0012846; HP:0005584; HP:0500009; HP:0012114...</td>\n",
       "      <td>26522472</td>\n",
       "      <td>Cancer disorders</td>\n",
       "      <td>NaN</td>\n",
       "      <td>2022-11-30 08:49:50+00:00</td>\n",
       "      <td>https://www.ebi.ac.uk/gene2phenotype/lgd/G2P03354</td>\n",
       "    </tr>\n",
       "    <tr>\n",
       "      <th>3315</th>\n",
       "      <td>G2P02001</td>\n",
       "      <td>RCBTB1</td>\n",
       "      <td>OMIM:607867</td>\n",
       "      <td>HGNC:18243</td>\n",
       "      <td>CLLD7; CLLL7; FLJ10716</td>\n",
       "      <td>RCBTB1-related familial exudative vitreoretino...</td>\n",
       "      <td>orphanet:891</td>\n",
       "      <td>NaN</td>\n",
       "      <td>monoallelic_autosomal</td>\n",
       "      <td>NaN</td>\n",
       "      <td>limited</td>\n",
       "      <td>altered gene product structure</td>\n",
       "      <td>inframe_insertion; inframe_deletion; missense_...</td>\n",
       "      <td>undetermined</td>\n",
       "      <td>inferred</td>\n",
       "      <td>NaN</td>\n",
       "      <td>HP:0001141; HP:0012231; HP:0003829; HP:0000541...</td>\n",
       "      <td>26908610</td>\n",
       "      <td>Eye disorders</td>\n",
       "      <td>NaN</td>\n",
       "      <td>2017-06-11 18:14:48+00:00</td>\n",
       "      <td>https://www.ebi.ac.uk/gene2phenotype/lgd/G2P02001</td>\n",
       "    </tr>\n",
       "    <tr>\n",
       "      <th>3495</th>\n",
       "      <td>G2P02222</td>\n",
       "      <td>REV3L</td>\n",
       "      <td>OMIM:602776</td>\n",
       "      <td>HGNC:9968</td>\n",
       "      <td>POLZ; REV3</td>\n",
       "      <td>REV3L-related Moebius syndrome</td>\n",
       "      <td>orphanet:570</td>\n",
       "      <td>NaN</td>\n",
       "      <td>monoallelic_autosomal</td>\n",
       "      <td>NaN</td>\n",
       "      <td>limited</td>\n",
       "      <td>uncertain</td>\n",
       "      <td>NaN</td>\n",
       "      <td>undetermined</td>\n",
       "      <td>inferred</td>\n",
       "      <td>NaN</td>\n",
       "      <td>NaN</td>\n",
       "      <td>26068067</td>\n",
       "      <td>Eye disorders</td>\n",
       "      <td>NaN</td>\n",
       "      <td>2017-08-30 12:00:00+00:00</td>\n",
       "      <td>https://www.ebi.ac.uk/gene2phenotype/lgd/G2P02222</td>\n",
       "    </tr>\n",
       "    <tr>\n",
       "      <th>3537</th>\n",
       "      <td>G2P02286</td>\n",
       "      <td>TMEM98</td>\n",
       "      <td>OMIM:615949</td>\n",
       "      <td>HGNC:24529</td>\n",
       "      <td>DKFZP564K1964</td>\n",
       "      <td>TMEM98-related nanophthalmos</td>\n",
       "      <td>orphanet:35612</td>\n",
       "      <td>NaN</td>\n",
       "      <td>monoallelic_autosomal</td>\n",
       "      <td>NaN</td>\n",
       "      <td>strong</td>\n",
       "      <td>uncertain</td>\n",
       "      <td>NaN</td>\n",
       "      <td>undetermined</td>\n",
       "      <td>inferred</td>\n",
       "      <td>NaN</td>\n",
       "      <td>NaN</td>\n",
       "      <td>24852644; 26392740</td>\n",
       "      <td>Eye disorders</td>\n",
       "      <td>NaN</td>\n",
       "      <td>2017-08-31 13:26:51+00:00</td>\n",
       "      <td>https://www.ebi.ac.uk/gene2phenotype/lgd/G2P02286</td>\n",
       "    </tr>\n",
       "    <tr>\n",
       "      <th>3618</th>\n",
       "      <td>G2P02426</td>\n",
       "      <td>TENM3</td>\n",
       "      <td>OMIM:610083</td>\n",
       "      <td>HGNC:29944</td>\n",
       "      <td>KIAA1455; ODZ3; TEN-M3; TEN3</td>\n",
       "      <td>TENM3-related colobomatous microphthalmia</td>\n",
       "      <td>orphanet:98938</td>\n",
       "      <td>NaN</td>\n",
       "      <td>biallelic_autosomal</td>\n",
       "      <td>NaN</td>\n",
       "      <td>strong</td>\n",
       "      <td>absent gene product</td>\n",
       "      <td>NaN</td>\n",
       "      <td>loss of function</td>\n",
       "      <td>inferred</td>\n",
       "      <td>NaN</td>\n",
       "      <td>HP:0000565; HP:0000568; HP:0000589; HP:0000567...</td>\n",
       "      <td>29753094; 27103084; 22766609</td>\n",
       "      <td>Eye disorders</td>\n",
       "      <td>NaN</td>\n",
       "      <td>2018-05-25 09:59:48+00:00</td>\n",
       "      <td>https://www.ebi.ac.uk/gene2phenotype/lgd/G2P02426</td>\n",
       "    </tr>\n",
       "  </tbody>\n",
       "</table>\n",
       "</div>"
      ],
      "text/plain": [
       "        g2p_id gene_symbol     gene_mim     hgnc_id  \\\n",
       "1958  G2P02555       SMAD6  OMIM:602931   HGNC:6772   \n",
       "1967  G2P02564       TONSL  OMIM:604546   HGNC:7801   \n",
       "2791  G2P01819         RET  OMIM:164761   HGNC:9967   \n",
       "2912  G2P02669        INSR  OMIM:147670   HGNC:6091   \n",
       "3142  G2P03354      SEC23B  OMIM:610512  HGNC:10702   \n",
       "3315  G2P02001      RCBTB1  OMIM:607867  HGNC:18243   \n",
       "3495  G2P02222       REV3L  OMIM:602776   HGNC:9968   \n",
       "3537  G2P02286      TMEM98  OMIM:615949  HGNC:24529   \n",
       "3618  G2P02426       TENM3  OMIM:610083  HGNC:29944   \n",
       "\n",
       "                                  previous_gene_symbols  \\\n",
       "1958                             HST17432; MADH6; MADH7   \n",
       "1967                                      IKBR; NFKBIL2   \n",
       "2791  CDHF12; CDHR16; HSCR1; MEN2A; MEN2B; MTC1; PTC...   \n",
       "2912                                              CD220   \n",
       "3142                       CDA-II; CDAII; CDAN2; HEMPAS   \n",
       "3315                             CLLD7; CLLL7; FLJ10716   \n",
       "3495                                         POLZ; REV3   \n",
       "3537                                      DKFZP564K1964   \n",
       "3618                       KIAA1455; ODZ3; TEN-M3; TEN3   \n",
       "\n",
       "                                           disease_name      disease_mim  \\\n",
       "1958       SMAD6-related non-syndromic craniosynostosis  orphanet:139390   \n",
       "1967                TONSL-related sponastrime dysplasia   orphanet:93357   \n",
       "2791            RET-related medullary thyroid carcinoma    orphanet:1332   \n",
       "2912                         INSR-related leprechaunism     orphanet:508   \n",
       "3142                     SEC23B-related Cowden syndrome     orphanet:201   \n",
       "3315  RCBTB1-related familial exudative vitreoretino...     orphanet:891   \n",
       "3495                     REV3L-related Moebius syndrome     orphanet:570   \n",
       "3537                       TMEM98-related nanophthalmos   orphanet:35612   \n",
       "3618          TENM3-related colobomatous microphthalmia   orphanet:98938   \n",
       "\n",
       "     disease_MONDO    allelic_requirement cross_cutting_modifier  confidence  \\\n",
       "1958           NaN  monoallelic_autosomal                    NaN     limited   \n",
       "1967           NaN    biallelic_autosomal                    NaN      strong   \n",
       "2791           NaN  monoallelic_autosomal                    NaN  definitive   \n",
       "2912           NaN    biallelic_autosomal                    NaN  definitive   \n",
       "3142           NaN  monoallelic_autosomal                    NaN     limited   \n",
       "3315           NaN  monoallelic_autosomal                    NaN     limited   \n",
       "3495           NaN  monoallelic_autosomal                    NaN     limited   \n",
       "3537           NaN  monoallelic_autosomal                    NaN      strong   \n",
       "3618           NaN    biallelic_autosomal                    NaN      strong   \n",
       "\n",
       "                 variant_consequence  \\\n",
       "1958             absent gene product   \n",
       "1967             absent gene product   \n",
       "2791                       uncertain   \n",
       "2912             absent gene product   \n",
       "3142                       uncertain   \n",
       "3315  altered gene product structure   \n",
       "3495                       uncertain   \n",
       "3537                       uncertain   \n",
       "3618             absent gene product   \n",
       "\n",
       "                                          variant_types molecular_mechanism  \\\n",
       "1958                                                NaN    loss of function   \n",
       "1967                                                NaN    loss of function   \n",
       "2791                                                NaN        undetermined   \n",
       "2912                                                NaN    loss of function   \n",
       "3142                                                NaN    gain of function   \n",
       "3315  inframe_insertion; inframe_deletion; missense_...        undetermined   \n",
       "3495                                                NaN        undetermined   \n",
       "3537                                                NaN        undetermined   \n",
       "3618                                                NaN    loss of function   \n",
       "\n",
       "     molecular_mechanism_categorisation molecular_mechanism_evidence  \\\n",
       "1958                           inferred                          NaN   \n",
       "1967                           inferred                          NaN   \n",
       "2791                           inferred                          NaN   \n",
       "2912                           inferred                          NaN   \n",
       "3142                           inferred                          NaN   \n",
       "3315                           inferred                          NaN   \n",
       "3495                           inferred                          NaN   \n",
       "3537                           inferred                          NaN   \n",
       "3618                           inferred                          NaN   \n",
       "\n",
       "                                             phenotypes  \\\n",
       "1958                                         HP:0001363   \n",
       "1967     HP:0100255; HP:0002650; HP:0005281; HP:0004322   \n",
       "2791                                         HP:0002865   \n",
       "2912  HP:0000924; HP:0008897; HP:0003202; HP:0003162...   \n",
       "3142  HP:0012846; HP:0005584; HP:0500009; HP:0012114...   \n",
       "3315  HP:0001141; HP:0012231; HP:0003829; HP:0000541...   \n",
       "3495                                                NaN   \n",
       "3537                                                NaN   \n",
       "3618  HP:0000565; HP:0000568; HP:0000589; HP:0000567...   \n",
       "\n",
       "                                           publications  \\\n",
       "1958                                 27606499; 28808027   \n",
       "1967                                 30773277; 30773278   \n",
       "2791  10323403; 11454140; 14602786; 15240641; 950672...   \n",
       "2912                                   8105179; 7815442   \n",
       "3142                                           26522472   \n",
       "3315                                           26908610   \n",
       "3495                                           26068067   \n",
       "3537                                 24852644; 26392740   \n",
       "3618                       29753094; 27103084; 22766609   \n",
       "\n",
       "                                 panel comments       date_of_last_review  \\\n",
       "1958           Developmental disorders      NaN 2019-04-17 12:18:34+00:00   \n",
       "1967           Developmental disorders      NaN 2018-11-07 09:53:40+00:00   \n",
       "2791  Skin disorders; Cancer disorders      NaN 2017-09-01 16:19:16+00:00   \n",
       "2912                    Skin disorders      NaN 2019-09-16 15:47:00+00:00   \n",
       "3142                  Cancer disorders      NaN 2022-11-30 08:49:50+00:00   \n",
       "3315                     Eye disorders      NaN 2017-06-11 18:14:48+00:00   \n",
       "3495                     Eye disorders      NaN 2017-08-30 12:00:00+00:00   \n",
       "3537                     Eye disorders      NaN 2017-08-31 13:26:51+00:00   \n",
       "3618                     Eye disorders      NaN 2018-05-25 09:59:48+00:00   \n",
       "\n",
       "                                         g2p_record_url  \n",
       "1958  https://www.ebi.ac.uk/gene2phenotype/lgd/G2P02555  \n",
       "1967  https://www.ebi.ac.uk/gene2phenotype/lgd/G2P02564  \n",
       "2791  https://www.ebi.ac.uk/gene2phenotype/lgd/G2P01819  \n",
       "2912  https://www.ebi.ac.uk/gene2phenotype/lgd/G2P02669  \n",
       "3142  https://www.ebi.ac.uk/gene2phenotype/lgd/G2P03354  \n",
       "3315  https://www.ebi.ac.uk/gene2phenotype/lgd/G2P02001  \n",
       "3495  https://www.ebi.ac.uk/gene2phenotype/lgd/G2P02222  \n",
       "3537  https://www.ebi.ac.uk/gene2phenotype/lgd/G2P02286  \n",
       "3618  https://www.ebi.ac.uk/gene2phenotype/lgd/G2P02426  "
      ]
     },
     "execution_count": 49,
     "metadata": {},
     "output_type": "execute_result"
    }
   ],
   "source": [
    "df[df[\"disease_mim\"].str.contains(\"orphanet\", na=False)]"
   ]
  },
  {
   "cell_type": "code",
   "execution_count": 50,
   "id": "90389c39",
   "metadata": {
    "ExecuteTime": {
     "end_time": "2025-04-18T06:41:01.001058Z",
     "start_time": "2025-04-18T06:41:00.996980Z"
    }
   },
   "outputs": [
    {
     "data": {
      "text/plain": [
       "{'primary_id': 'MONDO:0015277',\n",
       " 'primary_label': 'medullary thyroid gland carcinoma'}"
      ]
     },
     "execution_count": 50,
     "metadata": {},
     "output_type": "execute_result"
    }
   ],
   "source": [
    "OmOr_nodenorm_mapping[\"orphanet:1332\"]"
   ]
  },
  {
   "cell_type": "markdown",
   "id": "9048bf0b",
   "metadata": {},
   "source": [
    "<div class=\"alert alert-block alert-success\">\n",
    "\n",
    "**2025-03-28 data:** \n",
    "    \n",
    "I decided <b>not to try using MONDO mappings when the OMIM mapping failed</b>, because there's only a few cases where those rows even have MONDO IDs to use. \n",
    "\n",
    "* nodenorm_returned_none (39): none have MONDO\n",
    "* wrong_category (26): only 2 have MONDO\n",
    "* no_label (3): none have MONDO"
   ]
  },
  {
   "cell_type": "code",
   "execution_count": 51,
   "id": "98f75765",
   "metadata": {
    "ExecuteTime": {
     "end_time": "2025-04-18T06:41:02.875969Z",
     "start_time": "2025-04-18T06:41:02.864684Z"
    }
   },
   "outputs": [
    {
     "data": {
      "text/plain": [
       "(0, 22)"
      ]
     },
     "execution_count": 51,
     "metadata": {},
     "output_type": "execute_result"
    },
    {
     "data": {
      "text/plain": [
       "(2, 22)"
      ]
     },
     "execution_count": 51,
     "metadata": {},
     "output_type": "execute_result"
    },
    {
     "data": {
      "text/plain": [
       "(0, 22)"
      ]
     },
     "execution_count": 51,
     "metadata": {},
     "output_type": "execute_result"
    }
   ],
   "source": [
    "## code used to check how many rows have OMIM failure + MONDO ID \n",
    "\n",
    "df[df[\"disease_mim\"].isin(stats_OmOr_mapping_failures[\"nodenorm_returned_none\"]) & \n",
    "   df[\"disease_MONDO\"].notna()].shape\n",
    "\n",
    "df[df[\"disease_mim\"].isin(stats_OmOr_mapping_failures[\"wrong_category\"].keys()) & \n",
    "   df[\"disease_MONDO\"].notna()].shape\n",
    "\n",
    "df[df[\"disease_mim\"].isin(stats_OmOr_mapping_failures[\"no_label\"]) & \n",
    "   df[\"disease_MONDO\"].notna()].shape"
   ]
  },
  {
   "cell_type": "markdown",
   "id": "913e54f4",
   "metadata": {},
   "source": [
    "#### MONDO"
   ]
  },
  {
   "cell_type": "markdown",
   "id": "b0ddd6ee",
   "metadata": {},
   "source": [
    "__Running MONDO IDs through NodeNorm__\n",
    "\n",
    "Catching potential mapping failures for later stats report\n",
    "\n",
    "Pasted, adjusted from Disease OMIM/orphanet code blocks above."
   ]
  },
  {
   "cell_type": "code",
   "execution_count": 52,
   "id": "c920a622",
   "metadata": {
    "ExecuteTime": {
     "end_time": "2025-04-18T06:41:05.903092Z",
     "start_time": "2025-04-18T06:41:05.898199Z"
    }
   },
   "outputs": [
    {
     "data": {
      "text/plain": [
       "383"
      ]
     },
     "execution_count": 52,
     "metadata": {},
     "output_type": "execute_result"
    }
   ],
   "source": [
    "## get set of unique CURIEs to put into NodeNorm\n",
    "mondo = df[\"disease_MONDO\"].dropna().unique()\n",
    "len(mondo)"
   ]
  },
  {
   "cell_type": "code",
   "execution_count": 53,
   "id": "673d2dca",
   "metadata": {
    "ExecuteTime": {
     "end_time": "2025-04-18T06:41:06.457489Z",
     "start_time": "2025-04-18T06:41:06.454594Z"
    }
   },
   "outputs": [],
   "source": [
    "mondo_nodenorm_mapping = {}\n",
    "\n",
    "## set up variables to catch mapping failures\n",
    "stats_mondo_mapping_failures = {\n",
    "    \"unexpected_error\": {},\n",
    "    \"nodenorm_returned_none\": [],\n",
    "    \"wrong_category\": {},\n",
    "    \"no_label\": []\n",
    "    \n",
    "}"
   ]
  },
  {
   "cell_type": "code",
   "execution_count": 54,
   "id": "747ab750",
   "metadata": {
    "ExecuteTime": {
     "end_time": "2025-04-18T06:41:08.561079Z",
     "start_time": "2025-04-18T06:41:07.048259Z"
    }
   },
   "outputs": [],
   "source": [
    "## larger batches are quicker\n",
    "for batch in batched(mondo, 1000):\n",
    "    ## returns tuples -> cast to list\n",
    "    req_body = {\n",
    "        \"curies\": list(batch),\n",
    "        \"conflate\": True,\n",
    "    }\n",
    "    r = requests.post(nodenorm_url, json=req_body)\n",
    "    response = r.json()\n",
    "    \n",
    "    ## not doing dict comprehension. allows easier review, logic writing\n",
    "    for k,v in response.items():\n",
    "        ## catch unexpected errors\n",
    "        try:\n",
    "            ## if NodeNorm didn't have info on this ID, v will be None\n",
    "            if v is not None:\n",
    "                ## don't keep mapping if category is not the expected one\n",
    "                if v[\"type\"][0] == \"biolink:Disease\":\n",
    "                    ## also throw out mapping if no primary label found\n",
    "                    if v[\"id\"].get(\"label\"):\n",
    "                        temp = {\n",
    "                            k: {\"primary_id\": v[\"id\"][\"identifier\"],\n",
    "                                \"primary_label\": v[\"id\"][\"label\"]\n",
    "                               }\n",
    "                        }\n",
    "                        mondo_nodenorm_mapping.update(temp)\n",
    "                    else:\n",
    "                        stats_mondo_mapping_failures[\"no_label\"].append(k)\n",
    "#                         print(f\"{k}: NodeNorm didn't find primary label. Not keeping this mapping.\")\n",
    "                else:\n",
    "                    stats_mondo_mapping_failures[\"wrong_category\"].update({k: v[\"type\"][0]})\n",
    "#                     print(f'{k}: NodeNorm found different category {v[\"type\"][0]}. Not keeping this mapping.')\n",
    "            else:\n",
    "                stats_mondo_mapping_failures[\"nodenorm_returned_none\"].append(k)\n",
    "#                 print(f\"{k}: NodeNorm didn't recognize this ID\")\n",
    "        except:\n",
    "            stats_mondo_mapping_failures[\"unexpected_error\"].update({k: v})\n",
    "            print(f'Encountered an unexpected error.')\n",
    "            print(f'NodeNorm response key: {k}')\n",
    "            print(f'NodeNorm response value: {v}')"
   ]
  },
  {
   "cell_type": "code",
   "execution_count": 55,
   "id": "ed2380a5",
   "metadata": {
    "ExecuteTime": {
     "end_time": "2025-04-18T06:41:09.275039Z",
     "start_time": "2025-04-18T06:41:09.268582Z"
    }
   },
   "outputs": [
    {
     "data": {
      "text/plain": [
       "383"
      ]
     },
     "execution_count": 55,
     "metadata": {},
     "output_type": "execute_result"
    },
    {
     "data": {
      "text/plain": [
       "{'unexpected_error': {},\n",
       " 'nodenorm_returned_none': [],\n",
       " 'wrong_category': {},\n",
       " 'no_label': []}"
      ]
     },
     "execution_count": 55,
     "metadata": {},
     "output_type": "execute_result"
    }
   ],
   "source": [
    "len(mondo_nodenorm_mapping)\n",
    "\n",
    "stats_mondo_mapping_failures"
   ]
  },
  {
   "cell_type": "markdown",
   "id": "f900c94a",
   "metadata": {},
   "source": [
    "#### Comparing OMIM/orphanet vs MONDO"
   ]
  },
  {
   "cell_type": "code",
   "execution_count": 56,
   "id": "32763357",
   "metadata": {
    "ExecuteTime": {
     "end_time": "2025-04-18T06:41:12.261130Z",
     "start_time": "2025-04-18T06:41:12.250464Z"
    }
   },
   "outputs": [
    {
     "name": "stdout",
     "output_type": "stream",
     "text": [
      "There's 22 mismatches between the OMIM/orphanet and MONDO NodeNorm mappings.\n"
     ]
    }
   ],
   "source": [
    "## if row has both IDs, look for diff in mappings from each ID\n",
    "\n",
    "## list of tuples (omim/orpha, mondo)\n",
    "mismatches = []\n",
    "\n",
    "for row in df[[\"disease_mim\", \"disease_MONDO\"]].itertuples(index=False):\n",
    "    ## has both IDs\n",
    "    if pd.notna(row.disease_mim) and pd.notna(row.disease_MONDO):\n",
    "        ## if have NodeNorm mappings for both\n",
    "        if OmOr_nodenorm_mapping.get(row.disease_mim) and \\\n",
    "        mondo_nodenorm_mapping.get(row.disease_MONDO):\n",
    "            ## check if mappings are diff\n",
    "            if OmOr_nodenorm_mapping[row.disease_mim][\"primary_id\"] != \\\n",
    "            mondo_nodenorm_mapping[row.disease_MONDO][\"primary_id\"]:\n",
    "                mismatches.append((row.disease_mim, row.disease_MONDO))\n",
    "\n",
    "print(f\"There's {len(mismatches)} mismatches between the OMIM/orphanet and MONDO NodeNorm mappings.\")"
   ]
  },
  {
   "cell_type": "code",
   "execution_count": 57,
   "id": "d1e6d632",
   "metadata": {
    "ExecuteTime": {
     "end_time": "2025-04-18T06:41:14.615222Z",
     "start_time": "2025-04-18T06:41:14.611385Z"
    }
   },
   "outputs": [
    {
     "data": {
      "text/plain": [
       "('OMIM:175800', 'MONDO:0006602')"
      ]
     },
     "execution_count": 57,
     "metadata": {},
     "output_type": "execute_result"
    }
   ],
   "source": [
    "## code chunk to review mismatches 1 by 1\n",
    "mismatches[21]"
   ]
  },
  {
   "cell_type": "code",
   "execution_count": 58,
   "id": "67e5a562",
   "metadata": {
    "ExecuteTime": {
     "end_time": "2025-04-18T06:41:15.258504Z",
     "start_time": "2025-04-18T06:41:15.252851Z"
    }
   },
   "outputs": [
    {
     "data": {
      "text/plain": [
       "{'primary_id': 'MONDO:0008290',\n",
       " 'primary_label': 'porokeratosis 1, Mibelli type'}"
      ]
     },
     "execution_count": 58,
     "metadata": {},
     "output_type": "execute_result"
    },
    {
     "data": {
      "text/plain": [
       "{'primary_id': 'MONDO:0006602', 'primary_label': 'porokeratosis'}"
      ]
     },
     "execution_count": 58,
     "metadata": {},
     "output_type": "execute_result"
    }
   ],
   "source": [
    "## code chunk to review mismatches 1 by 1\n",
    "\n",
    "OmOr_nodenorm_mapping[\"OMIM:175800\"]\n",
    "mondo_nodenorm_mapping[\"MONDO:0006602\"]"
   ]
  },
  {
   "cell_type": "code",
   "execution_count": 59,
   "id": "9523c561",
   "metadata": {
    "ExecuteTime": {
     "end_time": "2025-04-18T06:41:16.220939Z",
     "start_time": "2025-04-18T06:41:16.189965Z"
    },
    "scrolled": false
   },
   "outputs": [
    {
     "data": {
      "text/html": [
       "<div>\n",
       "<style scoped>\n",
       "    .dataframe tbody tr th:only-of-type {\n",
       "        vertical-align: middle;\n",
       "    }\n",
       "\n",
       "    .dataframe tbody tr th {\n",
       "        vertical-align: top;\n",
       "    }\n",
       "\n",
       "    .dataframe thead th {\n",
       "        text-align: right;\n",
       "    }\n",
       "</style>\n",
       "<table border=\"1\" class=\"dataframe\">\n",
       "  <thead>\n",
       "    <tr style=\"text-align: right;\">\n",
       "      <th></th>\n",
       "      <th>g2p_id</th>\n",
       "      <th>gene_symbol</th>\n",
       "      <th>gene_mim</th>\n",
       "      <th>hgnc_id</th>\n",
       "      <th>previous_gene_symbols</th>\n",
       "      <th>disease_name</th>\n",
       "      <th>disease_mim</th>\n",
       "      <th>disease_MONDO</th>\n",
       "      <th>allelic_requirement</th>\n",
       "      <th>cross_cutting_modifier</th>\n",
       "      <th>confidence</th>\n",
       "      <th>variant_consequence</th>\n",
       "      <th>variant_types</th>\n",
       "      <th>molecular_mechanism</th>\n",
       "      <th>molecular_mechanism_categorisation</th>\n",
       "      <th>molecular_mechanism_evidence</th>\n",
       "      <th>phenotypes</th>\n",
       "      <th>publications</th>\n",
       "      <th>panel</th>\n",
       "      <th>comments</th>\n",
       "      <th>date_of_last_review</th>\n",
       "      <th>g2p_record_url</th>\n",
       "    </tr>\n",
       "  </thead>\n",
       "  <tbody>\n",
       "    <tr>\n",
       "      <th>2523</th>\n",
       "      <td>G2P03293</td>\n",
       "      <td>FHL1</td>\n",
       "      <td>OMIM:300163</td>\n",
       "      <td>HGNC:3702</td>\n",
       "      <td>BA535K18.1; FHL1B; FLH1A; KYO-T; MGC111107; SL...</td>\n",
       "      <td>FHL1-related Emery-Dreifuss muscular dystrophy</td>\n",
       "      <td>OMIM:300696</td>\n",
       "      <td>MONDO:0010680</td>\n",
       "      <td>monoallelic_X_hemizygous</td>\n",
       "      <td>NaN</td>\n",
       "      <td>definitive</td>\n",
       "      <td>decreased gene product level; absent gene prod...</td>\n",
       "      <td>stop_gained_NMD_escaping; stop_lost; splice_re...</td>\n",
       "      <td>loss of function</td>\n",
       "      <td>inferred</td>\n",
       "      <td>NaN</td>\n",
       "      <td>HP:0003306; HP:0003704; HP:0003805; HP:0003676...</td>\n",
       "      <td>18179888; 19687455; 30681346; 19716112; 201868...</td>\n",
       "      <td>Developmental disorders; Cardiac disorders</td>\n",
       "      <td>Expert review done on 12/01/2022; FHL1-related...</td>\n",
       "      <td>2024-03-26 10:33:21+00:00</td>\n",
       "      <td>https://www.ebi.ac.uk/gene2phenotype/lgd/G2P03293</td>\n",
       "    </tr>\n",
       "  </tbody>\n",
       "</table>\n",
       "</div>"
      ],
      "text/plain": [
       "        g2p_id gene_symbol     gene_mim    hgnc_id  \\\n",
       "2523  G2P03293        FHL1  OMIM:300163  HGNC:3702   \n",
       "\n",
       "                                  previous_gene_symbols  \\\n",
       "2523  BA535K18.1; FHL1B; FLH1A; KYO-T; MGC111107; SL...   \n",
       "\n",
       "                                        disease_name  disease_mim  \\\n",
       "2523  FHL1-related Emery-Dreifuss muscular dystrophy  OMIM:300696   \n",
       "\n",
       "      disease_MONDO       allelic_requirement cross_cutting_modifier  \\\n",
       "2523  MONDO:0010680  monoallelic_X_hemizygous                    NaN   \n",
       "\n",
       "      confidence                                variant_consequence  \\\n",
       "2523  definitive  decreased gene product level; absent gene prod...   \n",
       "\n",
       "                                          variant_types molecular_mechanism  \\\n",
       "2523  stop_gained_NMD_escaping; stop_lost; splice_re...    loss of function   \n",
       "\n",
       "     molecular_mechanism_categorisation molecular_mechanism_evidence  \\\n",
       "2523                           inferred                          NaN   \n",
       "\n",
       "                                             phenotypes  \\\n",
       "2523  HP:0003306; HP:0003704; HP:0003805; HP:0003676...   \n",
       "\n",
       "                                           publications  \\\n",
       "2523  18179888; 19687455; 30681346; 19716112; 201868...   \n",
       "\n",
       "                                           panel  \\\n",
       "2523  Developmental disorders; Cardiac disorders   \n",
       "\n",
       "                                               comments  \\\n",
       "2523  Expert review done on 12/01/2022; FHL1-related...   \n",
       "\n",
       "           date_of_last_review  \\\n",
       "2523 2024-03-26 10:33:21+00:00   \n",
       "\n",
       "                                         g2p_record_url  \n",
       "2523  https://www.ebi.ac.uk/gene2phenotype/lgd/G2P03293  "
      ]
     },
     "execution_count": 59,
     "metadata": {},
     "output_type": "execute_result"
    },
    {
     "data": {
      "text/html": [
       "<div>\n",
       "<style scoped>\n",
       "    .dataframe tbody tr th:only-of-type {\n",
       "        vertical-align: middle;\n",
       "    }\n",
       "\n",
       "    .dataframe tbody tr th {\n",
       "        vertical-align: top;\n",
       "    }\n",
       "\n",
       "    .dataframe thead th {\n",
       "        text-align: right;\n",
       "    }\n",
       "</style>\n",
       "<table border=\"1\" class=\"dataframe\">\n",
       "  <thead>\n",
       "    <tr style=\"text-align: right;\">\n",
       "      <th></th>\n",
       "      <th>g2p_id</th>\n",
       "      <th>gene_symbol</th>\n",
       "      <th>gene_mim</th>\n",
       "      <th>hgnc_id</th>\n",
       "      <th>previous_gene_symbols</th>\n",
       "      <th>disease_name</th>\n",
       "      <th>disease_mim</th>\n",
       "      <th>disease_MONDO</th>\n",
       "      <th>allelic_requirement</th>\n",
       "      <th>cross_cutting_modifier</th>\n",
       "      <th>confidence</th>\n",
       "      <th>variant_consequence</th>\n",
       "      <th>variant_types</th>\n",
       "      <th>molecular_mechanism</th>\n",
       "      <th>molecular_mechanism_categorisation</th>\n",
       "      <th>molecular_mechanism_evidence</th>\n",
       "      <th>phenotypes</th>\n",
       "      <th>publications</th>\n",
       "      <th>panel</th>\n",
       "      <th>comments</th>\n",
       "      <th>date_of_last_review</th>\n",
       "      <th>g2p_record_url</th>\n",
       "    </tr>\n",
       "  </thead>\n",
       "  <tbody>\n",
       "    <tr>\n",
       "      <th>122</th>\n",
       "      <td>G2P00126</td>\n",
       "      <td>ACTB</td>\n",
       "      <td>OMIM:102630</td>\n",
       "      <td>HGNC:132</td>\n",
       "      <td>NaN</td>\n",
       "      <td>ACTB-related Baraitser-Winter syndrome</td>\n",
       "      <td>OMIM:243310</td>\n",
       "      <td>MONDO:0013812</td>\n",
       "      <td>monoallelic_autosomal</td>\n",
       "      <td>restricted mutation set</td>\n",
       "      <td>definitive</td>\n",
       "      <td>altered gene product structure</td>\n",
       "      <td>inframe_insertion; inframe_deletion; missense_...</td>\n",
       "      <td>gain of function</td>\n",
       "      <td>inferred</td>\n",
       "      <td>NaN</td>\n",
       "      <td>HP:0001274; HP:0002162; HP:0008897; HP:0005487...</td>\n",
       "      <td>22366783; 25052316; 27625340; 38592426; 34970860</td>\n",
       "      <td>Developmental disorders; Eye disorders</td>\n",
       "      <td>NaN</td>\n",
       "      <td>2015-07-22 16:14:17+00:00</td>\n",
       "      <td>https://www.ebi.ac.uk/gene2phenotype/lgd/G2P00126</td>\n",
       "    </tr>\n",
       "    <tr>\n",
       "      <th>1609</th>\n",
       "      <td>G2P01638</td>\n",
       "      <td>ACTG1</td>\n",
       "      <td>OMIM:102560</td>\n",
       "      <td>HGNC:144</td>\n",
       "      <td>ACTG; DFNA20; DFNA26</td>\n",
       "      <td>ACTG1-related Baraitser-Winter syndrome</td>\n",
       "      <td>OMIM:614583</td>\n",
       "      <td>MONDO:0013812</td>\n",
       "      <td>monoallelic_autosomal</td>\n",
       "      <td>restricted mutation set</td>\n",
       "      <td>definitive</td>\n",
       "      <td>altered gene product structure</td>\n",
       "      <td>inframe_insertion; inframe_deletion; missense_...</td>\n",
       "      <td>gain of function</td>\n",
       "      <td>inferred</td>\n",
       "      <td>NaN</td>\n",
       "      <td>HP:0000159; HP:0001167; HP:0001274; HP:0000465...</td>\n",
       "      <td>22366783; 25052316; 27096712; 27240540; 29024830</td>\n",
       "      <td>Developmental disorders; Eye disorders</td>\n",
       "      <td>NaN</td>\n",
       "      <td>2015-07-22 16:15:41+00:00</td>\n",
       "      <td>https://www.ebi.ac.uk/gene2phenotype/lgd/G2P01638</td>\n",
       "    </tr>\n",
       "  </tbody>\n",
       "</table>\n",
       "</div>"
      ],
      "text/plain": [
       "        g2p_id gene_symbol     gene_mim   hgnc_id previous_gene_symbols  \\\n",
       "122   G2P00126        ACTB  OMIM:102630  HGNC:132                   NaN   \n",
       "1609  G2P01638       ACTG1  OMIM:102560  HGNC:144  ACTG; DFNA20; DFNA26   \n",
       "\n",
       "                                 disease_name  disease_mim  disease_MONDO  \\\n",
       "122    ACTB-related Baraitser-Winter syndrome  OMIM:243310  MONDO:0013812   \n",
       "1609  ACTG1-related Baraitser-Winter syndrome  OMIM:614583  MONDO:0013812   \n",
       "\n",
       "        allelic_requirement   cross_cutting_modifier  confidence  \\\n",
       "122   monoallelic_autosomal  restricted mutation set  definitive   \n",
       "1609  monoallelic_autosomal  restricted mutation set  definitive   \n",
       "\n",
       "                 variant_consequence  \\\n",
       "122   altered gene product structure   \n",
       "1609  altered gene product structure   \n",
       "\n",
       "                                          variant_types molecular_mechanism  \\\n",
       "122   inframe_insertion; inframe_deletion; missense_...    gain of function   \n",
       "1609  inframe_insertion; inframe_deletion; missense_...    gain of function   \n",
       "\n",
       "     molecular_mechanism_categorisation molecular_mechanism_evidence  \\\n",
       "122                            inferred                          NaN   \n",
       "1609                           inferred                          NaN   \n",
       "\n",
       "                                             phenotypes  \\\n",
       "122   HP:0001274; HP:0002162; HP:0008897; HP:0005487...   \n",
       "1609  HP:0000159; HP:0001167; HP:0001274; HP:0000465...   \n",
       "\n",
       "                                          publications  \\\n",
       "122   22366783; 25052316; 27625340; 38592426; 34970860   \n",
       "1609  22366783; 25052316; 27096712; 27240540; 29024830   \n",
       "\n",
       "                                       panel comments  \\\n",
       "122   Developmental disorders; Eye disorders      NaN   \n",
       "1609  Developmental disorders; Eye disorders      NaN   \n",
       "\n",
       "           date_of_last_review  \\\n",
       "122  2015-07-22 16:14:17+00:00   \n",
       "1609 2015-07-22 16:15:41+00:00   \n",
       "\n",
       "                                         g2p_record_url  \n",
       "122   https://www.ebi.ac.uk/gene2phenotype/lgd/G2P00126  \n",
       "1609  https://www.ebi.ac.uk/gene2phenotype/lgd/G2P01638  "
      ]
     },
     "execution_count": 59,
     "metadata": {},
     "output_type": "execute_result"
    }
   ],
   "source": [
    "## code chunk to review mismatches 1 by 1\n",
    "\n",
    "df[df[\"disease_mim\"] == \"OMIM:300696\"]\n",
    "df[df[\"disease_MONDO\"] == \"MONDO:0013812\"]"
   ]
  },
  {
   "cell_type": "markdown",
   "id": "a6f81213",
   "metadata": {
    "ExecuteTime": {
     "end_time": "2025-03-29T06:19:08.679605Z",
     "start_time": "2025-03-29T06:19:08.670116Z"
    }
   },
   "source": [
    "<div class=\"alert alert-block alert-info\">    \n",
    "\n",
    "**2025-02-28 data:** \n",
    "\n",
    "__Review of OMIM vs MONDO NodeNorm mismatches (22)__\n",
    "\n",
    "None were orphanet.    \n",
    "    \n",
    "---\n",
    "\n",
    "__19: OMIM's mapping is better__\n",
    "\n",
    "> __6: Mondo ID is related but wrong__ -> emailed EBI gene2pheno w/ example\n",
    "> * 'OMIM:243310', 'MONDO:0013812': omim is correct syndrome 1, but mondo is syndrome 2 (diff gene)\n",
    "> * 'OMIM:613575', 'MONDO:0044314': omim is correct 55, but mondo is 78 (diff gene)\n",
    "> * 'OMIM:101000', 'MONDO:0008075': omim is correct type of schwannomatosis (NF2/type 2), vs mondo is a sibling. \n",
    ">   * NodeNorm should map omim to MONDO:0007039 but isn't -> messaged NodeNorm\n",
    "> * 'OMIM:613987', __'MONDO:0009136'__: omim is correct recessive 2, but mondo is recessive 1 (diff gene? Confusing because Monarch page links to gene NHP2 but OMIM page doesn't)\n",
    ">   * NodeNorm should map omim to MONDO:0013519 but isn't -> messaged NodeNorm  \n",
    "> * 'OMIM:613988', 'MONDO:0009136': omim is correct recessive 3, but mondo is recessive 1 (diff gene)\n",
    ">   * NodeNorm should map omim to MONDO:0013520 but isn't -> messaged NodeNorm\n",
    "> * 'OMIM:616353', 'MONDO:0009136': omim is correct recessive 6, but mondo is recessive 1 (diff gene)\n",
    ">   * NodeNorm should map omim to MONDO:0014600 but isn't -> messaged NodeNorm\n",
    "\n",
    "> __13: Mondo ID is too general__ (can see on Monarch website) -> emailed EBI gene2pheno w/ example\n",
    "> * 'OMIM:300696', 'MONDO:0010680': omim maps to MONDO:0010401, child of the mondo\n",
    "> * 'OMIM:304120', 'MONDO:0019027': omim maps to MONDO:0010571 (syndrome type 2), child of the mondo (syndrome)\n",
    "> * 'OMIM:610019', 'MONDO:0005129': omim maps to MONDO:0012395 (cataract 18), child of the mondo (cataract)\n",
    "> * 'OMIM:611726', 'MONDO:0016295': omim maps to MONDO:0012721, child of the mondo \n",
    "> * 'OMIM:602668', 'MONDO:0016107': omim maps to MONDO:0011266 (type 2), child of the mondo\n",
    "> * 'OMIM:203200', 'MONDO:0018910': omim maps to MONDO:0008746 (type 2), child of the mondo\n",
    "> * 'OMIM:614328', 'MONDO:0017411': omim maps to MONDO:0013693 (type 1), child of the mondo\n",
    "> * 'OMIM:175800', 'MONDO:0006602': omim maps to MONDO:0008290 (1, mibelli type), grandchild of the mondo\n",
    "> * 'OMIM:614073', **'MONDO:0019312'**: omim maps to MONDO:0013556 (syndrome 4), child of the mondo (syndrome)\n",
    "> * 'OMIM:614074', 'MONDO:0019312': omim maps to MONDO:0013557 (syndrome 5), child of the mondo (syndrome)\n",
    "> * 'OMIM:614075', 'MONDO:0019312': omim maps to MONDO:0013558 (syndrome 6), child of the mondo (syndrome)\n",
    "> * 'OMIM:614076', 'MONDO:0019312': omim maps to MONDO:0013559 (syndrome 7), child of the mondo (syndrome)\n",
    "> * 'OMIM:614077', 'MONDO:0019312': omim maps to MONDO:0013560 (syndrome 8), child of the mondo (syndrome)\n",
    "\n",
    "    \n",
    "**1: MONDO's mapping is better**\n",
    "<br>\n",
    "Omim ID is slightly off -> __TELL EBI GENE2PHENO?__\n",
    "* 'OMIM:613723', 'MONDO:0009181': mondo matches the disease name and phenotypes listed in the record better than the omim \n",
    "\n",
    "\n",
    "**1: Unsure**\n",
    "* 'OMIM:158350', 'MONDO:0017623': omim is for Cowden syndrome 1, mondo is for PTEN hamartoma tumor syndrome. These are very similar, so I'm not sure which one is better. -> __TELL EBI GENE2PHENO?__\n",
    "  * There's also another record w/ just the OMIM ID. I think the two rows should be merged. -> __TELL EBI GENE2PHENO?__\n",
    "\n",
    "\n",
    "**1: NodeNorm error** -> messaged NodeNorm\n",
    "* 'OMIM:224230', 'MONDO:0009136': both are recessive 1, NodeNorm should map to same entity\n",
    "\n",
    "**Other rows reviewed:**\n",
    "* 'OMIM:614583', 'MONDO:0013812': map to same correct entity"
   ]
  },
  {
   "cell_type": "markdown",
   "id": "2becfcf1",
   "metadata": {},
   "source": [
    "**2025-02-28 data:** \n",
    "\n",
    "The prelim decision is to use disease OMIM/orphanet IDs because:\n",
    "* less missing values\n",
    "* more accurate in cases where there's also a MONDO ID"
   ]
  },
  {
   "cell_type": "markdown",
   "id": "229aed57",
   "metadata": {},
   "source": [
    "#### Checking MONDO data"
   ]
  },
  {
   "cell_type": "markdown",
   "id": "025b4397",
   "metadata": {},
   "source": [
    "Above, I decided the OMIM/orphanet disease IDs were better. \n",
    "\n",
    "However, I wondered if the MONDO IDs were accurate to the disease name when there weren't OMIM/orphanet IDs. Then they could be used for NodeNorming and less data would be dropped because it wasn't pre-NodeNormed. "
   ]
  },
  {
   "cell_type": "code",
   "execution_count": 60,
   "id": "b57b6cf6",
   "metadata": {
    "ExecuteTime": {
     "end_time": "2025-04-18T06:41:20.486684Z",
     "start_time": "2025-04-18T06:41:20.481649Z"
    }
   },
   "outputs": [],
   "source": [
    "## get the data that has MONDO, doesn't have OMIM/orphanet\n",
    "\n",
    "df_mondo_only = df[df[\"disease_mim\"].isna() & df[\"disease_MONDO\"].notna()].copy()\n",
    "\n",
    "mondo_only = df_mondo_only[\"disease_MONDO\"].dropna().unique()"
   ]
  },
  {
   "cell_type": "code",
   "execution_count": 61,
   "id": "4e8daf83",
   "metadata": {
    "ExecuteTime": {
     "end_time": "2025-04-18T06:41:21.074727Z",
     "start_time": "2025-04-18T06:41:21.068737Z"
    }
   },
   "outputs": [
    {
     "data": {
      "text/plain": [
       "445"
      ]
     },
     "execution_count": 61,
     "metadata": {},
     "output_type": "execute_result"
    },
    {
     "data": {
      "text/plain": [
       "278"
      ]
     },
     "execution_count": 61,
     "metadata": {},
     "output_type": "execute_result"
    }
   ],
   "source": [
    "## saving stats on data with only MONDO ID\n",
    "\n",
    "stats_mondo_only = {\n",
    "    \"n_rows\": df_mondo_only.shape[0],\n",
    "    \"n_names\": len(mondo_only)\n",
    "}\n",
    "\n",
    "stats_mondo_only[\"n_rows\"]\n",
    "stats_mondo_only[\"n_names\"]"
   ]
  },
  {
   "cell_type": "code",
   "execution_count": 62,
   "id": "0b66bd98",
   "metadata": {
    "ExecuteTime": {
     "end_time": "2025-04-18T06:41:22.184579Z",
     "start_time": "2025-04-18T06:41:22.167685Z"
    }
   },
   "outputs": [
    {
     "data": {
      "text/html": [
       "<div>\n",
       "<style scoped>\n",
       "    .dataframe tbody tr th:only-of-type {\n",
       "        vertical-align: middle;\n",
       "    }\n",
       "\n",
       "    .dataframe tbody tr th {\n",
       "        vertical-align: top;\n",
       "    }\n",
       "\n",
       "    .dataframe thead th {\n",
       "        text-align: right;\n",
       "    }\n",
       "</style>\n",
       "<table border=\"1\" class=\"dataframe\">\n",
       "  <thead>\n",
       "    <tr style=\"text-align: right;\">\n",
       "      <th></th>\n",
       "      <th>g2p_id</th>\n",
       "      <th>gene_symbol</th>\n",
       "      <th>gene_mim</th>\n",
       "      <th>hgnc_id</th>\n",
       "      <th>previous_gene_symbols</th>\n",
       "      <th>disease_name</th>\n",
       "      <th>disease_mim</th>\n",
       "      <th>disease_MONDO</th>\n",
       "      <th>allelic_requirement</th>\n",
       "      <th>cross_cutting_modifier</th>\n",
       "      <th>confidence</th>\n",
       "      <th>variant_consequence</th>\n",
       "      <th>variant_types</th>\n",
       "      <th>molecular_mechanism</th>\n",
       "      <th>molecular_mechanism_categorisation</th>\n",
       "      <th>molecular_mechanism_evidence</th>\n",
       "      <th>phenotypes</th>\n",
       "      <th>publications</th>\n",
       "      <th>panel</th>\n",
       "      <th>comments</th>\n",
       "      <th>date_of_last_review</th>\n",
       "      <th>g2p_record_url</th>\n",
       "    </tr>\n",
       "  </thead>\n",
       "  <tbody>\n",
       "    <tr>\n",
       "      <th>3240</th>\n",
       "      <td>G2P03497</td>\n",
       "      <td>POP1</td>\n",
       "      <td>OMIM:602486</td>\n",
       "      <td>HGNC:30129</td>\n",
       "      <td>NaN</td>\n",
       "      <td>POP1-related anauxetic dysplasia</td>\n",
       "      <td>NaN</td>\n",
       "      <td>MONDO:0011773</td>\n",
       "      <td>biallelic_autosomal</td>\n",
       "      <td>NaN</td>\n",
       "      <td>definitive</td>\n",
       "      <td>decreased gene product level</td>\n",
       "      <td>NaN</td>\n",
       "      <td>undetermined</td>\n",
       "      <td>inferred</td>\n",
       "      <td>NaN</td>\n",
       "      <td>NaN</td>\n",
       "      <td>21455487; 27380734; 28067412</td>\n",
       "      <td>Skeletal disorders</td>\n",
       "      <td>NaN</td>\n",
       "      <td>2023-12-20 09:04:04+00:00</td>\n",
       "      <td>https://www.ebi.ac.uk/gene2phenotype/lgd/G2P03497</td>\n",
       "    </tr>\n",
       "  </tbody>\n",
       "</table>\n",
       "</div>"
      ],
      "text/plain": [
       "        g2p_id gene_symbol     gene_mim     hgnc_id previous_gene_symbols  \\\n",
       "3240  G2P03497        POP1  OMIM:602486  HGNC:30129                   NaN   \n",
       "\n",
       "                          disease_name disease_mim  disease_MONDO  \\\n",
       "3240  POP1-related anauxetic dysplasia         NaN  MONDO:0011773   \n",
       "\n",
       "      allelic_requirement cross_cutting_modifier  confidence  \\\n",
       "3240  biallelic_autosomal                    NaN  definitive   \n",
       "\n",
       "               variant_consequence variant_types molecular_mechanism  \\\n",
       "3240  decreased gene product level           NaN        undetermined   \n",
       "\n",
       "     molecular_mechanism_categorisation molecular_mechanism_evidence  \\\n",
       "3240                           inferred                          NaN   \n",
       "\n",
       "     phenotypes                  publications               panel comments  \\\n",
       "3240        NaN  21455487; 27380734; 28067412  Skeletal disorders      NaN   \n",
       "\n",
       "           date_of_last_review  \\\n",
       "3240 2023-12-20 09:04:04+00:00   \n",
       "\n",
       "                                         g2p_record_url  \n",
       "3240  https://www.ebi.ac.uk/gene2phenotype/lgd/G2P03497  "
      ]
     },
     "execution_count": 62,
     "metadata": {},
     "output_type": "execute_result"
    }
   ],
   "source": [
    "## code chunk used to review some of the data\n",
    "\n",
    "# df_mondo_only[df_mondo_only[\"disease_MONDO\"] == mondo_only[240]]\n",
    "\n",
    "df_mondo_only[df_mondo_only[\"panel\"].str.contains(\"Skeletal\", na=False)]"
   ]
  },
  {
   "cell_type": "markdown",
   "id": "fc3f5864",
   "metadata": {},
   "source": [
    "<div class=\"alert alert-block alert-info\">    \n",
    "\n",
    "**2025-02-28 data:** \n",
    "\n",
    "__Reviewed some of the data__\n",
    "\n",
    "Method: look at individual MONDO IDs. Covered all panels (only 1 skeletal, no hearing). 3 from earlier review (related to mismatches) + idx 0-240, step 10 + skeletal. \n",
    "    \n",
    "__Summary__\n",
    "* 37 rows (29 unique MONDO)\n",
    "* __~16%__ were wrong (6/37) \n",
    "* Could tell EBI gene2pheno of issues but they are similar to those listed in mismatch mapping section"
   ]
  },
  {
   "cell_type": "markdown",
   "id": "36d795ed",
   "metadata": {},
   "source": [
    "__Details__\n",
    "\n",
    "__6 MONDO is related but wrong__\n",
    "* \"MONDO:0009136\" for \"RTEL1-related dyskeratosis congenita\" (two rows): mondo is recessive 1, which is wrong. Should be recessive 5 MONDO:0014076/OMIM:615190 (old/synonym name is dominant 4) \n",
    "* \"MONDO:0044314\" for 4 rows \"CLN3-related retinal dystrophy\", \"GUCA1B-\", \"PRPS1-\", \"SNRNP200-\": mondo is type 78 (specifically for ARHGEF18), which is wrong. Should instead be:\n",
    "  * CLN3 and PRPS1: a more general term like MONDO:0004580 (retinal degeneration) -> MONDO:0019118 (inherited retinal dystrophy) -> MONDO:0019200 (retinitis pigmentosa)\n",
    "  * GUCA1B: type 48, MONDO:0013447\n",
    "  * SNRNP200: type 33, MONDO:0012477\n",
    "* \"MONDO:0013522\" for \"TERC-related dyskeratosis congenita\": mondo is for type 3 (specifically for TINF2, that row is in \"Great\" section). Should be type 1 MONDO:0007485/OMIM:127550. (confusing because Monarch's page of type 1 includes TINF2 and TERT too, but OMIM page only includes TERC)\n",
    "\n",
    "\n",
    "__4 MONDO is too general__ \n",
    "* \"MONDO:0020341\" (periventricular nodular heterotopia) for \"ERMARD-related periventricular heterotopia\". The ERMARD-specific version is a child term: MONDO:0014240/OMIM:615544 (type 6)\n",
    "* \"MONDO:0018965\" (Alport syndrome) for \"COL4A5-related Alport syndrome\". The COL4A5-specific version is a child term: MONDO:0010520/OMIM:301050  (X-linked)\n",
    "* \"MONDO:0024676\" for \"REST-related Wilms tumour\": The REST-specific version is a **related** term: MONDO:0014779/OMIM:616806 (type 6)\n",
    "* \"MONDO:0011773\" for \"POP1-related anauxetic dysplasia\": the POP1-specific version is a child term: MONDO:0054561/OMIM:617396 (type 2)\n",
    "\n",
    "\n",
    "__4 Unsure -> TELL EBI GENE2PHENO?__\n",
    "* \"MONDO:0005129\" for \"CYP51A1-related congenital cataract\": mondo is cataract, which is not wrong but kinda general. MONDO:0033853 seems better (correlated with gene, matches phenotypes, orphanet ref uses one of the ref papers) \n",
    "* \"MONDO:0018869\" for \"TMTC3-related cobblestone lissencephaly\": while the mondo (cobblestone lissencephaly) sounds correct, it isn't linked to this gene. VS another sibling disease is linked to the gene, matches phenotypes, uses same paper: MONDO:0014992/OMIM:617255 (lissencephaly 8)\n",
    "* \"MONDO:0100100\" for \"SELENON-related myopathy\": while mondo has exact name match, it's not directly linked to gene. Instead, its child disease is directly linked to gene MONDO:0011271/OMIM:602771 (rigid spine muscular dystrophy 1)\n",
    "* \"MONDO:0020367\" for \"MYOC-related juvenile open angle glaucoma\": while mondo is almost-exact name match, it's not directly linked to gene. Instead, its child disease is directly linked to gene MONDO:0007664/OMIM:137750 (glaucoma 1, open angle, A) \n",
    "\n",
    "\n",
    "__5 Okay (using general term is fine)__\n",
    "* \"MONDO:0005129\" for 3 other rows \"WDR87-related congenital cataract\", \"AKR1E2-\", \"MFSD6L-\": couldn't find better mappings. \n",
    "* \"MONDO:0015469\" for \"DHRS3 related craniosynostosis\": couldn't find better mapping\n",
    "* \"MONDO:0024676\" (childhood kidney Wilms tumor) for \"CTR9-related Wilms tumour\", \"TRIM28-\": couldn't find better mapping. TRIM28 is correlated to parent term (kidney Wilms tumor). \n",
    "\n",
    "\n",
    "__18 Great__\n",
    "* \"MONDO:0012506\" for \"DSC2-related arrhythmogenic right ventricular cardiomyopathy\"\n",
    "* \"MONDO:0011001\" for \"SCN5A-related Brugada syndrome\"\n",
    "* \"MONDO:0013262\" for \"MYH7-related dilated cardiomyopathy\"\n",
    "* \"MONDO:0013369\" for \"TNNI3-related hypertrophic cardiomyopathy\"\n",
    "* \"MONDO:0010946\" for \"PRKAG2-related cardiomyopathy\"\n",
    "* \"MONDO:0014143\" for \"RIT1-related Noonan syndrome\"\n",
    "* \"MONDO:0010015\" for \"PXDN-related anterior segment dysgenesis with sclerocornea\"\n",
    "* \"MONDO:0014214\" for \"DYNC2I1-related short-rib polydactyly\"\n",
    "* \"MONDO:0013522\" for \"TINF2-related dyskeratosis congenita\"\n",
    "* \"MONDO:0032876\" for \"WASF1-related intellectual disability with seizures\"\n",
    "* \"MONDO:0859164\" for \"UNC45A-related osteootohepatoenteric syndrome\"\n",
    "* \"MONDO:0018772\" for \"SLC30A7-related Joubert syndrome\": using general term is fine since there isn't any established subtype of Joubert syndrome for this gene\n",
    "* \"MONDO:0010215\" for \"ERCC4-related xeroderma pigmentosum, group F\"\n",
    "* \"MONDO:0009735\" for \"SPINK5-related Netherton syndrome\"\n",
    "* \"MONDO:0007808\" for \"KRT1-related ichthyosis hystrix, Curth-Macklin type\"\n",
    "* \"MONDO:0007566\" for \"TGFBR1-related multiple self-healing squamous epithelioma\"\n",
    "* \"MONDO:0008285\" for \"PDGFRA-related gastrointestinal stromal tumor/GIST-plus syndrome, somatic or familial\"\n",
    "* \"MONDO:0010912\" for \"TUBB3-related fibrosis of extraocular muscles, congenital\""
   ]
  },
  {
   "cell_type": "markdown",
   "id": "a29eccf5",
   "metadata": {},
   "source": [
    "#### Conclusions"
   ]
  },
  {
   "cell_type": "markdown",
   "id": "931ad893",
   "metadata": {},
   "source": [
    "<div class=\"alert alert-block alert-success\">\n",
    "\n",
    "**2025-02-28 data:** \n",
    "    \n",
    "__Exploration__\n",
    "\n",
    "* some rows have no disease IDs\n",
    "* a few NodeNorm mapping failures for OMIM IDs (several diff kinds): ~2.8%. 68 failures / (2401 unique values in column - 9 orphanet)\n",
    "  * no NodeNorm mapping failures for MONDO IDs\n",
    "* when rows have both OMIM and MONDO IDs, there are sometimes differences in NodeNorm mapping (\"mismatches\"). __In these cases, OMIM IDs were much more accurate__\n",
    "* __MONDO IDs can be inaccurate__ - see the blue review boxes\n",
    "  * VS it was much rarer to find an inaccurate OMIM ID mapping (found 1 case)\n",
    "\n",
    "\n",
    "__Decision: Use OMIM ID column to generate NodeNorm values__\n",
    "\n",
    "* less missing values\n",
    "* seems to be more accurate (for successful NodeNorm mappings)"
   ]
  },
  {
   "cell_type": "markdown",
   "id": "9d69e637",
   "metadata": {},
   "source": [
    "## Stats on rows removed during NodeNorming"
   ]
  },
  {
   "cell_type": "markdown",
   "id": "d25bd6ed",
   "metadata": {},
   "source": [
    "This section prints the statistics on rows in the original data that were removed. \n",
    "\n",
    "(Uses variables generated during the previous section \"Pre-NodeNorming\")"
   ]
  },
  {
   "cell_type": "markdown",
   "id": "e687d839",
   "metadata": {},
   "source": [
    "<div class=\"alert alert-block alert-success\">\n",
    "\n",
    "**2025-03-28 data:** \n",
    "\n",
    "Genes: No rows removed due to lack of IDs for NodeNorming or NodeNorm mapping issues."
   ]
  },
  {
   "cell_type": "code",
   "execution_count": 63,
   "id": "801a10f8",
   "metadata": {
    "ExecuteTime": {
     "end_time": "2025-04-18T06:41:40.046651Z",
     "start_time": "2025-04-18T06:41:40.041708Z"
    }
   },
   "outputs": [
    {
     "name": "stdout",
     "output_type": "stream",
     "text": [
      "Gene Pre-NodeNorming\n",
      "\n",
      "0 row(s) with no gene IDs\n",
      "0 row(s) with no HGNC IDs\n",
      "\n",
      "\n",
      "HGNC NodeNorm mapping failures:\n",
      "IDs with no data in NodeNorm: 0\n",
      "IDs with the wrong NodeNormed category: 0\n",
      "IDs with no label in NodeNorm: 0\n"
     ]
    }
   ],
   "source": [
    "## partial put into parser (format): DONE\n",
    "\n",
    "print(\"Gene Pre-NodeNorming\\n\")\n",
    "\n",
    "## no gene IDs\n",
    "print(f'{stats_no_gene_IDs[\"n_rows\"]} row(s) with no gene IDs')\n",
    "\n",
    "## no HGNC IDs: key column for NodeNorming\n",
    "print(f'{n_rows_no_hgnc} row(s) with no HGNC IDs')\n",
    "\n",
    "## HGNC NodeNorm issues: none, but showing anyways\n",
    "print(\"\\n\")\n",
    "print(\"HGNC NodeNorm mapping failures:\")\n",
    "\n",
    "print(f'IDs with no data in NodeNorm: {len(stats_hgnc_mapping_failures[\"nodenorm_returned_none\"])}')\n",
    "print(f'IDs with the wrong NodeNormed category: {len(stats_hgnc_mapping_failures[\"wrong_category\"])}')\n",
    "print(f'IDs with no label in NodeNorm: {len(stats_hgnc_mapping_failures[\"no_label\"])}')"
   ]
  },
  {
   "cell_type": "markdown",
   "id": "b282749c",
   "metadata": {},
   "source": [
    "<div class=\"alert alert-block alert-success\">\n",
    "\n",
    "**2025-03-28 data:** \n",
    "    \n",
    "__Diseases: many rows removed__ due to lack of IDs for NodeNorming or NodeNorm mapping issues."
   ]
  },
  {
   "cell_type": "code",
   "execution_count": 64,
   "id": "bbfc6243",
   "metadata": {
    "ExecuteTime": {
     "end_time": "2025-04-18T06:41:43.906558Z",
     "start_time": "2025-04-18T06:41:43.902493Z"
    }
   },
   "outputs": [
    {
     "data": {
      "text/plain": [
       "dict_keys(['unexpected_error', 'nodenorm_returned_none', 'wrong_category', 'no_label', 'n_rows_none', 'n_rows_wrong_category', 'n_rows_no_label'])"
      ]
     },
     "execution_count": 64,
     "metadata": {},
     "output_type": "execute_result"
    }
   ],
   "source": [
    "stats_OmOr_mapping_failures.keys()"
   ]
  },
  {
   "cell_type": "code",
   "execution_count": 65,
   "id": "35356465",
   "metadata": {
    "ExecuteTime": {
     "end_time": "2025-04-18T06:41:49.148822Z",
     "start_time": "2025-04-18T06:41:49.143777Z"
    }
   },
   "outputs": [
    {
     "name": "stdout",
     "output_type": "stream",
     "text": [
      "Disease Pre-NodeNorming\n",
      "\n",
      "642 row(s) with no disease IDs (= 629 unique diseases)\n",
      "+ 445 row(s) with no OMIM ID (= 278 unique diseases)\n",
      "\n",
      "\n",
      "OMIM NodeNorm mapping failures:\n",
      "41 row(s) for 39 IDs with no data in NodeNorm\n",
      "27 row(s) for 26 IDs with the wrong NodeNormed category\n",
      "3 row(s) for 3 IDs with no label in NodeNorm\n"
     ]
    }
   ],
   "source": [
    "## partial put into parser (format): DONE\n",
    "\n",
    "print(\"Disease Pre-NodeNorming\\n\")\n",
    "\n",
    "## no disease IDs\n",
    "print(f'{stats_no_disease_IDs[\"n_rows\"]} row(s) with no disease IDs '\n",
    "      f'(= {stats_no_disease_IDs[\"n_names\"]} unique diseases)')\n",
    "\n",
    "## plus the rows that only lack OMIM IDs: key column for NodeNorming\n",
    "print(f'+ {stats_mondo_only[\"n_rows\"]} row(s) with no OMIM ID '\n",
    "      f'(= {stats_mondo_only[\"n_names\"]} unique diseases)')\n",
    "\n",
    "## OMIM NodeNorm issues\n",
    "print(\"\\n\")\n",
    "print(\"OMIM NodeNorm mapping failures:\")\n",
    "\n",
    "print(f'{stats_OmOr_mapping_failures[\"n_rows_none\"]} row(s) for '\n",
    "      f'{len(stats_OmOr_mapping_failures[\"nodenorm_returned_none\"])} '\n",
    "      f'IDs with no data in NodeNorm')\n",
    "\n",
    "print(f'{stats_OmOr_mapping_failures[\"n_rows_wrong_category\"]} row(s) for '\n",
    "      f'{len(stats_OmOr_mapping_failures[\"wrong_category\"])} '\n",
    "      f'IDs with the wrong NodeNormed category')\n",
    "\n",
    "print(f'{stats_OmOr_mapping_failures[\"n_rows_no_label\"]} row(s) for '\n",
    "      f'{len(stats_OmOr_mapping_failures[\"no_label\"])} '\n",
    "      f'IDs with no label in NodeNorm')"
   ]
  },
  {
   "cell_type": "markdown",
   "id": "9e970596",
   "metadata": {},
   "source": [
    "<div class=\"alert alert-block alert-success\">\n",
    "    \n",
    "__Totals__"
   ]
  },
  {
   "cell_type": "code",
   "execution_count": 71,
   "id": "be76c03c",
   "metadata": {
    "ExecuteTime": {
     "end_time": "2025-04-18T06:43:38.050459Z",
     "start_time": "2025-04-18T06:43:38.045824Z"
    }
   },
   "outputs": [
    {
     "name": "stdout",
     "output_type": "stream",
     "text": [
      "3658 rows/records before Pre-NodeNorming\n",
      "\n",
      "1158 rows removed during Disease NodeNorming process\n",
      "\n",
      "2500 rows/records left (68.3%)\n"
     ]
    }
   ],
   "source": [
    "## put into parser (format): DONE\n",
    "\n",
    "n_rows_before_nodenorm = df.shape[0]\n",
    "n_rows_nodenorm_removed = stats_no_disease_IDs[\"n_rows\"] + stats_mondo_only[\"n_rows\"] + \\\n",
    "                          stats_OmOr_mapping_failures[\"n_rows_none\"] + \\\n",
    "                          stats_OmOr_mapping_failures[\"n_rows_wrong_category\"] + \\\n",
    "                          stats_OmOr_mapping_failures[\"n_rows_no_label\"]\n",
    "n_rows_after_nodenorm = n_rows_before_nodenorm - n_rows_nodenorm_removed\n",
    "\n",
    "print(f\"{n_rows_before_nodenorm} rows/records before Pre-NodeNorming\\n\")\n",
    "\n",
    "print(f\"{n_rows_nodenorm_removed} rows removed during Disease NodeNorming process\\n\")\n",
    "\n",
    "print(f\"{n_rows_after_nodenorm} rows/records left ({n_rows_after_nodenorm/n_rows_before_nodenorm:.1%})\")"
   ]
  },
  {
   "cell_type": "markdown",
   "id": "23343f7c",
   "metadata": {},
   "source": [
    "## Adding NodeNorm data, removing rows"
   ]
  },
  {
   "cell_type": "markdown",
   "id": "1d708cbc",
   "metadata": {},
   "source": [
    "Using gene HGNC and disease OMIM/orphanet IDs for pre-NodeNorming"
   ]
  },
  {
   "cell_type": "code",
   "execution_count": 67,
   "id": "3d727809",
   "metadata": {
    "ExecuteTime": {
     "end_time": "2025-04-18T06:42:51.363963Z",
     "start_time": "2025-04-18T06:42:51.351386Z"
    }
   },
   "outputs": [],
   "source": [
    "## put into parser (format): DONE\n",
    "\n",
    "## Gene: assumes no missing values\n",
    "df[\"gene_nodenorm_id\"] = [hgnc_nodenorm_mapping[i][\"primary_id\"] for i in df[\"hgnc_id\"]]\n",
    "df[\"gene_nodenorm_label\"] = [hgnc_nodenorm_mapping[i][\"primary_label\"] for i in df[\"hgnc_id\"]]\n",
    "\n",
    "df[\"disease_nodenorm_id\"] = [OmOr_nodenorm_mapping[i][\"primary_id\"] \n",
    "                             if OmOr_nodenorm_mapping.get(i) \n",
    "                             else pd.NA\n",
    "                             for i in df[\"disease_mim\"]]\n",
    "\n",
    "df[\"disease_nodenorm_label\"] = [OmOr_nodenorm_mapping[i][\"primary_label\"] \n",
    "                                if OmOr_nodenorm_mapping.get(i) \n",
    "                                else pd.NA\n",
    "                                for i in df[\"disease_mim\"]]"
   ]
  },
  {
   "cell_type": "code",
   "execution_count": 68,
   "id": "c362f22a",
   "metadata": {
    "ExecuteTime": {
     "end_time": "2025-04-18T06:42:52.144949Z",
     "start_time": "2025-04-18T06:42:52.125401Z"
    }
   },
   "outputs": [
    {
     "data": {
      "text/html": [
       "<div>\n",
       "<style scoped>\n",
       "    .dataframe tbody tr th:only-of-type {\n",
       "        vertical-align: middle;\n",
       "    }\n",
       "\n",
       "    .dataframe tbody tr th {\n",
       "        vertical-align: top;\n",
       "    }\n",
       "\n",
       "    .dataframe thead th {\n",
       "        text-align: right;\n",
       "    }\n",
       "</style>\n",
       "<table border=\"1\" class=\"dataframe\">\n",
       "  <thead>\n",
       "    <tr style=\"text-align: right;\">\n",
       "      <th></th>\n",
       "      <th>g2p_id</th>\n",
       "      <th>gene_symbol</th>\n",
       "      <th>gene_mim</th>\n",
       "      <th>hgnc_id</th>\n",
       "      <th>previous_gene_symbols</th>\n",
       "      <th>disease_name</th>\n",
       "      <th>disease_mim</th>\n",
       "      <th>disease_MONDO</th>\n",
       "      <th>allelic_requirement</th>\n",
       "      <th>cross_cutting_modifier</th>\n",
       "      <th>confidence</th>\n",
       "      <th>variant_consequence</th>\n",
       "      <th>variant_types</th>\n",
       "      <th>molecular_mechanism</th>\n",
       "      <th>molecular_mechanism_categorisation</th>\n",
       "      <th>molecular_mechanism_evidence</th>\n",
       "      <th>phenotypes</th>\n",
       "      <th>publications</th>\n",
       "      <th>panel</th>\n",
       "      <th>comments</th>\n",
       "      <th>date_of_last_review</th>\n",
       "      <th>g2p_record_url</th>\n",
       "      <th>gene_nodenorm_id</th>\n",
       "      <th>gene_nodenorm_label</th>\n",
       "      <th>disease_nodenorm_id</th>\n",
       "      <th>disease_nodenorm_label</th>\n",
       "    </tr>\n",
       "  </thead>\n",
       "  <tbody>\n",
       "    <tr>\n",
       "      <th>0</th>\n",
       "      <td>G2P00001</td>\n",
       "      <td>HMX1</td>\n",
       "      <td>OMIM:142992</td>\n",
       "      <td>HGNC:5017</td>\n",
       "      <td>H6; NKX5-3</td>\n",
       "      <td>HMX1-related oculoauricular syndrome</td>\n",
       "      <td>OMIM:612109</td>\n",
       "      <td>NaN</td>\n",
       "      <td>biallelic_autosomal</td>\n",
       "      <td>NaN</td>\n",
       "      <td>definitive</td>\n",
       "      <td>absent gene product</td>\n",
       "      <td>NaN</td>\n",
       "      <td>loss of function</td>\n",
       "      <td>inferred</td>\n",
       "      <td>NaN</td>\n",
       "      <td>HP:0000568; HP:0000589; HP:0000007; HP:0000482...</td>\n",
       "      <td>18423520; 25574057; 29140751</td>\n",
       "      <td>Developmental disorders; Eye disorders</td>\n",
       "      <td>NaN</td>\n",
       "      <td>2019-09-26 16:23:46+00:00</td>\n",
       "      <td>https://www.ebi.ac.uk/gene2phenotype/lgd/G2P00001</td>\n",
       "      <td>NCBIGene:3166</td>\n",
       "      <td>HMX1</td>\n",
       "      <td>MONDO:0012802</td>\n",
       "      <td>oculoauricular syndrome</td>\n",
       "    </tr>\n",
       "    <tr>\n",
       "      <th>1</th>\n",
       "      <td>G2P00002</td>\n",
       "      <td>SLX4</td>\n",
       "      <td>OMIM:613278</td>\n",
       "      <td>HGNC:23845</td>\n",
       "      <td>BTBD12; FANCP; KIAA1784; KIAA1987</td>\n",
       "      <td>SLX4-related Fanconi anemia</td>\n",
       "      <td>OMIM:613951</td>\n",
       "      <td>NaN</td>\n",
       "      <td>biallelic_autosomal</td>\n",
       "      <td>NaN</td>\n",
       "      <td>definitive</td>\n",
       "      <td>absent gene product</td>\n",
       "      <td>NaN</td>\n",
       "      <td>loss of function</td>\n",
       "      <td>inferred</td>\n",
       "      <td>NaN</td>\n",
       "      <td>HP:0000347; HP:0000007; HP:0001903; HP:0002984...</td>\n",
       "      <td>21240275; 21240277</td>\n",
       "      <td>Developmental disorders</td>\n",
       "      <td>NaN</td>\n",
       "      <td>2025-01-28 23:09:54+00:00</td>\n",
       "      <td>https://www.ebi.ac.uk/gene2phenotype/lgd/G2P00002</td>\n",
       "      <td>NCBIGene:84464</td>\n",
       "      <td>SLX4</td>\n",
       "      <td>MONDO:0013499</td>\n",
       "      <td>Fanconi anemia complementation group P</td>\n",
       "    </tr>\n",
       "    <tr>\n",
       "      <th>2</th>\n",
       "      <td>G2P00003</td>\n",
       "      <td>ARG1</td>\n",
       "      <td>OMIM:608313</td>\n",
       "      <td>HGNC:663</td>\n",
       "      <td>NaN</td>\n",
       "      <td>ARG1-related argininemia</td>\n",
       "      <td>OMIM:207800</td>\n",
       "      <td>NaN</td>\n",
       "      <td>biallelic_autosomal</td>\n",
       "      <td>NaN</td>\n",
       "      <td>definitive</td>\n",
       "      <td>absent gene product</td>\n",
       "      <td>NaN</td>\n",
       "      <td>loss of function</td>\n",
       "      <td>inferred</td>\n",
       "      <td>NaN</td>\n",
       "      <td>HP:0000752; HP:0000737; HP:0000007; HP:0008339...</td>\n",
       "      <td>10502833; 1598908; 7649538; 1463019; 2365823</td>\n",
       "      <td>Developmental disorders</td>\n",
       "      <td>NaN</td>\n",
       "      <td>2015-07-22 16:14:07+00:00</td>\n",
       "      <td>https://www.ebi.ac.uk/gene2phenotype/lgd/G2P00003</td>\n",
       "      <td>NCBIGene:383</td>\n",
       "      <td>ARG1</td>\n",
       "      <td>MONDO:0008814</td>\n",
       "      <td>Argininemia</td>\n",
       "    </tr>\n",
       "    <tr>\n",
       "      <th>3</th>\n",
       "      <td>G2P00004</td>\n",
       "      <td>ATR</td>\n",
       "      <td>OMIM:601215</td>\n",
       "      <td>HGNC:882</td>\n",
       "      <td>FRP1; MEC1; SCKL; SCKL1</td>\n",
       "      <td>ATR-related Seckel syndrome</td>\n",
       "      <td>OMIM:210600</td>\n",
       "      <td>NaN</td>\n",
       "      <td>biallelic_autosomal</td>\n",
       "      <td>NaN</td>\n",
       "      <td>strong</td>\n",
       "      <td>absent gene product</td>\n",
       "      <td>NaN</td>\n",
       "      <td>loss of function</td>\n",
       "      <td>inferred</td>\n",
       "      <td>NaN</td>\n",
       "      <td>HP:0000347; HP:0010230; HP:0001249; HP:0002750...</td>\n",
       "      <td>NaN</td>\n",
       "      <td>Developmental disorders; Skeletal disorders</td>\n",
       "      <td>NaN</td>\n",
       "      <td>2025-01-27 14:24:27+00:00</td>\n",
       "      <td>https://www.ebi.ac.uk/gene2phenotype/lgd/G2P00004</td>\n",
       "      <td>NCBIGene:545</td>\n",
       "      <td>ATR</td>\n",
       "      <td>MONDO:0008869</td>\n",
       "      <td>Seckel syndrome 1</td>\n",
       "    </tr>\n",
       "    <tr>\n",
       "      <th>4</th>\n",
       "      <td>G2P00005</td>\n",
       "      <td>FANCB</td>\n",
       "      <td>OMIM:300515</td>\n",
       "      <td>HGNC:3583</td>\n",
       "      <td>FAAP95; FAB; FLJ34064</td>\n",
       "      <td>FANCB-related Fanconi anemia</td>\n",
       "      <td>OMIM:300514</td>\n",
       "      <td>NaN</td>\n",
       "      <td>monoallelic_X_hemizygous</td>\n",
       "      <td>NaN</td>\n",
       "      <td>definitive</td>\n",
       "      <td>absent gene product</td>\n",
       "      <td>NaN</td>\n",
       "      <td>loss of function</td>\n",
       "      <td>inferred</td>\n",
       "      <td>NaN</td>\n",
       "      <td>HP:0000924; HP:0001871; HP:0001701; HP:0000083...</td>\n",
       "      <td>16679491; 21910217; 36135330; 32106311; 307922...</td>\n",
       "      <td>Developmental disorders; Skin disorders</td>\n",
       "      <td>NaN</td>\n",
       "      <td>2024-08-20 14:13:58+00:00</td>\n",
       "      <td>https://www.ebi.ac.uk/gene2phenotype/lgd/G2P00005</td>\n",
       "      <td>NCBIGene:2187</td>\n",
       "      <td>FANCB</td>\n",
       "      <td>MONDO:0010351</td>\n",
       "      <td>Fanconi anemia complementation group B</td>\n",
       "    </tr>\n",
       "  </tbody>\n",
       "</table>\n",
       "</div>"
      ],
      "text/plain": [
       "     g2p_id gene_symbol     gene_mim     hgnc_id  \\\n",
       "0  G2P00001        HMX1  OMIM:142992   HGNC:5017   \n",
       "1  G2P00002        SLX4  OMIM:613278  HGNC:23845   \n",
       "2  G2P00003        ARG1  OMIM:608313    HGNC:663   \n",
       "3  G2P00004         ATR  OMIM:601215    HGNC:882   \n",
       "4  G2P00005       FANCB  OMIM:300515   HGNC:3583   \n",
       "\n",
       "               previous_gene_symbols                          disease_name  \\\n",
       "0                         H6; NKX5-3  HMX1-related oculoauricular syndrome   \n",
       "1  BTBD12; FANCP; KIAA1784; KIAA1987           SLX4-related Fanconi anemia   \n",
       "2                                NaN              ARG1-related argininemia   \n",
       "3            FRP1; MEC1; SCKL; SCKL1           ATR-related Seckel syndrome   \n",
       "4              FAAP95; FAB; FLJ34064          FANCB-related Fanconi anemia   \n",
       "\n",
       "   disease_mim disease_MONDO       allelic_requirement cross_cutting_modifier  \\\n",
       "0  OMIM:612109           NaN       biallelic_autosomal                    NaN   \n",
       "1  OMIM:613951           NaN       biallelic_autosomal                    NaN   \n",
       "2  OMIM:207800           NaN       biallelic_autosomal                    NaN   \n",
       "3  OMIM:210600           NaN       biallelic_autosomal                    NaN   \n",
       "4  OMIM:300514           NaN  monoallelic_X_hemizygous                    NaN   \n",
       "\n",
       "   confidence  variant_consequence variant_types molecular_mechanism  \\\n",
       "0  definitive  absent gene product           NaN    loss of function   \n",
       "1  definitive  absent gene product           NaN    loss of function   \n",
       "2  definitive  absent gene product           NaN    loss of function   \n",
       "3      strong  absent gene product           NaN    loss of function   \n",
       "4  definitive  absent gene product           NaN    loss of function   \n",
       "\n",
       "  molecular_mechanism_categorisation molecular_mechanism_evidence  \\\n",
       "0                           inferred                          NaN   \n",
       "1                           inferred                          NaN   \n",
       "2                           inferred                          NaN   \n",
       "3                           inferred                          NaN   \n",
       "4                           inferred                          NaN   \n",
       "\n",
       "                                          phenotypes  \\\n",
       "0  HP:0000568; HP:0000589; HP:0000007; HP:0000482...   \n",
       "1  HP:0000347; HP:0000007; HP:0001903; HP:0002984...   \n",
       "2  HP:0000752; HP:0000737; HP:0000007; HP:0008339...   \n",
       "3  HP:0000347; HP:0010230; HP:0001249; HP:0002750...   \n",
       "4  HP:0000924; HP:0001871; HP:0001701; HP:0000083...   \n",
       "\n",
       "                                        publications  \\\n",
       "0                       18423520; 25574057; 29140751   \n",
       "1                                 21240275; 21240277   \n",
       "2       10502833; 1598908; 7649538; 1463019; 2365823   \n",
       "3                                                NaN   \n",
       "4  16679491; 21910217; 36135330; 32106311; 307922...   \n",
       "\n",
       "                                         panel comments  \\\n",
       "0       Developmental disorders; Eye disorders      NaN   \n",
       "1                      Developmental disorders      NaN   \n",
       "2                      Developmental disorders      NaN   \n",
       "3  Developmental disorders; Skeletal disorders      NaN   \n",
       "4      Developmental disorders; Skin disorders      NaN   \n",
       "\n",
       "        date_of_last_review  \\\n",
       "0 2019-09-26 16:23:46+00:00   \n",
       "1 2025-01-28 23:09:54+00:00   \n",
       "2 2015-07-22 16:14:07+00:00   \n",
       "3 2025-01-27 14:24:27+00:00   \n",
       "4 2024-08-20 14:13:58+00:00   \n",
       "\n",
       "                                      g2p_record_url gene_nodenorm_id  \\\n",
       "0  https://www.ebi.ac.uk/gene2phenotype/lgd/G2P00001    NCBIGene:3166   \n",
       "1  https://www.ebi.ac.uk/gene2phenotype/lgd/G2P00002   NCBIGene:84464   \n",
       "2  https://www.ebi.ac.uk/gene2phenotype/lgd/G2P00003     NCBIGene:383   \n",
       "3  https://www.ebi.ac.uk/gene2phenotype/lgd/G2P00004     NCBIGene:545   \n",
       "4  https://www.ebi.ac.uk/gene2phenotype/lgd/G2P00005    NCBIGene:2187   \n",
       "\n",
       "  gene_nodenorm_label disease_nodenorm_id  \\\n",
       "0                HMX1       MONDO:0012802   \n",
       "1                SLX4       MONDO:0013499   \n",
       "2                ARG1       MONDO:0008814   \n",
       "3                 ATR       MONDO:0008869   \n",
       "4               FANCB       MONDO:0010351   \n",
       "\n",
       "                   disease_nodenorm_label  \n",
       "0                 oculoauricular syndrome  \n",
       "1  Fanconi anemia complementation group P  \n",
       "2                             Argininemia  \n",
       "3                       Seckel syndrome 1  \n",
       "4  Fanconi anemia complementation group B  "
      ]
     },
     "execution_count": 68,
     "metadata": {},
     "output_type": "execute_result"
    }
   ],
   "source": [
    "df.head()"
   ]
  },
  {
   "cell_type": "code",
   "execution_count": 69,
   "id": "caee28a8",
   "metadata": {
    "ExecuteTime": {
     "end_time": "2025-04-18T06:42:55.128050Z",
     "start_time": "2025-04-18T06:42:55.118286Z"
    }
   },
   "outputs": [],
   "source": [
    "## put into parser (change in-place): DONE\n",
    "\n",
    "df_only_nodenormed = df.dropna(subset=[\"gene_nodenorm_id\", \"gene_nodenorm_label\", \n",
    "                                       \"disease_nodenorm_id\", \"disease_nodenorm_label\"],\n",
    "                              ignore_index=True).copy()"
   ]
  },
  {
   "cell_type": "code",
   "execution_count": 72,
   "id": "4fc8d268",
   "metadata": {
    "ExecuteTime": {
     "end_time": "2025-04-18T06:43:53.619311Z",
     "start_time": "2025-04-18T06:43:53.613394Z"
    }
   },
   "outputs": [
    {
     "data": {
      "text/plain": [
       "(2500, 26)"
      ]
     },
     "execution_count": 72,
     "metadata": {},
     "output_type": "execute_result"
    },
    {
     "data": {
      "text/plain": [
       "2500"
      ]
     },
     "execution_count": 72,
     "metadata": {},
     "output_type": "execute_result"
    }
   ],
   "source": [
    "## same! so it works as expected\n",
    "\n",
    "df_only_nodenormed.shape\n",
    "\n",
    "n_rows_after_nodenorm"
   ]
  },
  {
   "cell_type": "code",
   "execution_count": 73,
   "id": "0c05d470",
   "metadata": {
    "ExecuteTime": {
     "end_time": "2025-04-18T06:43:55.893607Z",
     "start_time": "2025-04-18T06:43:55.864985Z"
    }
   },
   "outputs": [
    {
     "name": "stdout",
     "output_type": "stream",
     "text": [
      "<class 'pandas.core.frame.DataFrame'>\n",
      "RangeIndex: 2500 entries, 0 to 2499\n",
      "Data columns (total 26 columns):\n",
      " #   Column                              Non-Null Count  Dtype              \n",
      "---  ------                              --------------  -----              \n",
      " 0   g2p_id                              2500 non-null   object             \n",
      " 1   gene_symbol                         2500 non-null   object             \n",
      " 2   gene_mim                            2500 non-null   object             \n",
      " 3   hgnc_id                             2500 non-null   object             \n",
      " 4   previous_gene_symbols               2247 non-null   object             \n",
      " 5   disease_name                        2500 non-null   object             \n",
      " 6   disease_mim                         2500 non-null   object             \n",
      " 7   disease_MONDO                       117 non-null    object             \n",
      " 8   allelic_requirement                 2500 non-null   object             \n",
      " 9   cross_cutting_modifier              283 non-null    object             \n",
      " 10  confidence                          2500 non-null   object             \n",
      " 11  variant_consequence                 2486 non-null   object             \n",
      " 12  variant_types                       547 non-null    object             \n",
      " 13  molecular_mechanism                 2500 non-null   object             \n",
      " 14  molecular_mechanism_categorisation  2500 non-null   object             \n",
      " 15  molecular_mechanism_evidence        21 non-null     object             \n",
      " 16  phenotypes                          1907 non-null   object             \n",
      " 17  publications                        2248 non-null   object             \n",
      " 18  panel                               2500 non-null   object             \n",
      " 19  comments                            16 non-null     object             \n",
      " 20  date_of_last_review                 2500 non-null   datetime64[ns, UTC]\n",
      " 21  g2p_record_url                      2500 non-null   object             \n",
      " 22  gene_nodenorm_id                    2500 non-null   object             \n",
      " 23  gene_nodenorm_label                 2500 non-null   object             \n",
      " 24  disease_nodenorm_id                 2500 non-null   object             \n",
      " 25  disease_nodenorm_label              2500 non-null   object             \n",
      "dtypes: datetime64[ns, UTC](1), object(25)\n",
      "memory usage: 4.1 MB\n"
     ]
    }
   ],
   "source": [
    "df_only_nodenormed.info(memory_usage=\"deep\")"
   ]
  },
  {
   "cell_type": "markdown",
   "id": "38ebbe59",
   "metadata": {},
   "source": [
    "## Generating documents"
   ]
  },
  {
   "cell_type": "markdown",
   "id": "8db7ab91",
   "metadata": {},
   "source": [
    "<div class=\"alert alert-block alert-danger\">\n",
    "\n",
    "Currently generating as list of TRAPI edges WITH special field `_id` for BioThings. "
   ]
  },
  {
   "cell_type": "markdown",
   "id": "9f01e8af",
   "metadata": {},
   "source": [
    "### Rows not included"
   ]
  },
  {
   "cell_type": "markdown",
   "id": "73e93ccc",
   "metadata": {},
   "source": [
    "<div class=\"alert alert-block alert-info\">\n",
    "\n",
    "See section \"Stats on rows removed during NodeNorming\"\n",
    "* No IDs in disease_mim column (can't NodeNorm)\n",
    "* NodeNorm mapping failures for disease_mim column IDs \n",
    "* confidence column value == \"refuted\" or \"disputed\""
   ]
  },
  {
   "cell_type": "markdown",
   "id": "79ebea07",
   "metadata": {},
   "source": [
    "### Columns not included"
   ]
  },
  {
   "cell_type": "markdown",
   "id": "c0c7b27e",
   "metadata": {},
   "source": [
    "<div class=\"alert alert-block alert-info\">\n",
    "\n",
    "See data-playground for details\n",
    "\n",
    "<br>\n",
    "\n",
    "Seem **easier** to get into Translator, potentially useful: \n",
    "- **molecular_mechanism**: could affect subject_form_or_variant_qualifier's value? Can just keep genetic_variant_form for \"undetermined\". But kinda tricky to pick biolink terms for some rare values (dominant negative, undetermined non-loss-of-function) - and would be loss of info to drop them. \n",
    "- **confidence**: \n",
    "   - there's biolink association-slot *has confidence level*. But there's also a biolink entity *confidence level* that's supposed to have values from CIO. \n",
    "   - Are G2P's terms okay? Or are they supposed to be mapped to ontology terms like CIO/SEPIO?-(which...may be a loss of info compared to G2P's term definitions)\n",
    "- **allelic_requirement**: I thought there was a biolink-term to put this on an edge, but I can't find it now. The values can be converted into HPO \"mode of inheritance terms\" if necessary (see data-playground notebook for mapping table)\n",
    "\n",
    "<br>\n",
    "\n",
    "Seem harder to get into Translator, potentially useful: \n",
    "- **molecular_mechanism_categorisation**: \"qualifies\" the molecular_mechanism (seems to say how molecular mechanism was decided: \"inferred\" or \"evidence\") \n",
    "- **cross_cutting_modifier**: additional info on inheritance. Limited set of terms BUT \"; \"- delimited. Some terms may map to \"HPO inheritance qualifier terms\" (didn't try). Lots of missing data (NA)\n",
    "- **variant_consequence**: row can have multiple values (\"; \"- delimited). Limited set of terms already mapped to SO.\n",
    "- **variant_types**: row can have multiple values (\"; \"- delimited). Medium set of terms already mapped to SO. Lots of missing data (NA)\n",
    "- **molecular_mechanism_evidence**: treat as free text? very complicated string \n",
    "- **comments**: treat as free text\n",
    "    \n",
    "<br>\n",
    "\n",
    "Can ignore: \n",
    "- g2p_id: helpful in looking up data in original resource. But kinda accounted for with g2p_record_url?\n",
    "- gene_mim\n",
    "- disease_MONDO\n",
    "- gene_symbol\n",
    "- previous_gene_symbols\n",
    "- disease_name\n",
    "- phenotypes: \"reported by the publication\". Unclear how they fit in gene-disease association or a diff edge (gene-phenotype, phenotype-disease)\n",
    "- panel: pretty specific, original resource's way of organizing data\n",
    "- gene_nodenorm_label: can get elsewhere?\n",
    "- disease_nodenorm_label: can get elsewhere?"
   ]
  },
  {
   "cell_type": "code",
   "execution_count": 74,
   "id": "fa6343ac",
   "metadata": {
    "ExecuteTime": {
     "end_time": "2025-04-18T06:55:37.444632Z",
     "start_time": "2025-04-18T06:55:37.438849Z"
    },
    "scrolled": true
   },
   "outputs": [
    {
     "data": {
      "text/plain": [
       "molecular_mechanism\n",
       "loss of function                     2167\n",
       "undetermined                         1172\n",
       "gain of function                      185\n",
       "dominant negative                     131\n",
       "undetermined non-loss-of-function       3\n",
       "Name: count, dtype: int64"
      ]
     },
     "execution_count": 74,
     "metadata": {},
     "output_type": "execute_result"
    }
   ],
   "source": [
    "## code chunk to review data\n",
    "\n",
    "df[\"molecular_mechanism\"].value_counts()"
   ]
  },
  {
   "cell_type": "code",
   "execution_count": 75,
   "id": "af5d0f3f",
   "metadata": {
    "ExecuteTime": {
     "end_time": "2025-04-18T06:55:38.411565Z",
     "start_time": "2025-04-18T06:55:38.392744Z"
    }
   },
   "outputs": [
    {
     "data": {
      "text/html": [
       "<div>\n",
       "<style scoped>\n",
       "    .dataframe tbody tr th:only-of-type {\n",
       "        vertical-align: middle;\n",
       "    }\n",
       "\n",
       "    .dataframe tbody tr th {\n",
       "        vertical-align: top;\n",
       "    }\n",
       "\n",
       "    .dataframe thead th {\n",
       "        text-align: right;\n",
       "    }\n",
       "</style>\n",
       "<table border=\"1\" class=\"dataframe\">\n",
       "  <thead>\n",
       "    <tr style=\"text-align: right;\">\n",
       "      <th></th>\n",
       "      <th>g2p_id</th>\n",
       "      <th>gene_symbol</th>\n",
       "      <th>gene_mim</th>\n",
       "      <th>hgnc_id</th>\n",
       "      <th>previous_gene_symbols</th>\n",
       "      <th>disease_name</th>\n",
       "      <th>disease_mim</th>\n",
       "      <th>disease_MONDO</th>\n",
       "      <th>allelic_requirement</th>\n",
       "      <th>cross_cutting_modifier</th>\n",
       "      <th>confidence</th>\n",
       "      <th>variant_consequence</th>\n",
       "      <th>variant_types</th>\n",
       "      <th>molecular_mechanism</th>\n",
       "      <th>molecular_mechanism_categorisation</th>\n",
       "      <th>molecular_mechanism_evidence</th>\n",
       "      <th>phenotypes</th>\n",
       "      <th>publications</th>\n",
       "      <th>panel</th>\n",
       "      <th>comments</th>\n",
       "      <th>date_of_last_review</th>\n",
       "      <th>g2p_record_url</th>\n",
       "      <th>gene_nodenorm_id</th>\n",
       "      <th>gene_nodenorm_label</th>\n",
       "      <th>disease_nodenorm_id</th>\n",
       "      <th>disease_nodenorm_label</th>\n",
       "    </tr>\n",
       "  </thead>\n",
       "  <tbody>\n",
       "    <tr>\n",
       "      <th>3174</th>\n",
       "      <td>G2P03538</td>\n",
       "      <td>NPAT</td>\n",
       "      <td>OMIM:601448</td>\n",
       "      <td>HGNC:7896</td>\n",
       "      <td>E14; P220</td>\n",
       "      <td>NPAT-related cancer</td>\n",
       "      <td>NaN</td>\n",
       "      <td>NaN</td>\n",
       "      <td>monoallelic_autosomal</td>\n",
       "      <td>NaN</td>\n",
       "      <td>moderate</td>\n",
       "      <td>decreased gene product level</td>\n",
       "      <td>stop_gained</td>\n",
       "      <td>loss of function</td>\n",
       "      <td>inferred</td>\n",
       "      <td>NaN</td>\n",
       "      <td>NaN</td>\n",
       "      <td>38778081</td>\n",
       "      <td>Cancer disorders</td>\n",
       "      <td>NaN</td>\n",
       "      <td>2025-03-14 12:04:00+00:00</td>\n",
       "      <td>https://www.ebi.ac.uk/gene2phenotype/lgd/G2P03538</td>\n",
       "      <td>NCBIGene:4863</td>\n",
       "      <td>NPAT</td>\n",
       "      <td>&lt;NA&gt;</td>\n",
       "      <td>&lt;NA&gt;</td>\n",
       "    </tr>\n",
       "  </tbody>\n",
       "</table>\n",
       "</div>"
      ],
      "text/plain": [
       "        g2p_id gene_symbol     gene_mim    hgnc_id previous_gene_symbols  \\\n",
       "3174  G2P03538        NPAT  OMIM:601448  HGNC:7896             E14; P220   \n",
       "\n",
       "             disease_name disease_mim disease_MONDO    allelic_requirement  \\\n",
       "3174  NPAT-related cancer         NaN           NaN  monoallelic_autosomal   \n",
       "\n",
       "     cross_cutting_modifier confidence           variant_consequence  \\\n",
       "3174                    NaN   moderate  decreased gene product level   \n",
       "\n",
       "     variant_types molecular_mechanism molecular_mechanism_categorisation  \\\n",
       "3174   stop_gained    loss of function                           inferred   \n",
       "\n",
       "     molecular_mechanism_evidence phenotypes publications             panel  \\\n",
       "3174                          NaN        NaN     38778081  Cancer disorders   \n",
       "\n",
       "     comments       date_of_last_review  \\\n",
       "3174      NaN 2025-03-14 12:04:00+00:00   \n",
       "\n",
       "                                         g2p_record_url gene_nodenorm_id  \\\n",
       "3174  https://www.ebi.ac.uk/gene2phenotype/lgd/G2P03538    NCBIGene:4863   \n",
       "\n",
       "     gene_nodenorm_label disease_nodenorm_id disease_nodenorm_label  \n",
       "3174                NPAT                <NA>                   <NA>  "
      ]
     },
     "execution_count": 75,
     "metadata": {},
     "output_type": "execute_result"
    }
   ],
   "source": [
    "## code chunk to review data\n",
    "## checking date of last review\n",
    "\n",
    "df[df[\"g2p_id\"] == \"G2P03538\"]"
   ]
  },
  {
   "cell_type": "code",
   "execution_count": 76,
   "id": "7590582d",
   "metadata": {
    "ExecuteTime": {
     "end_time": "2025-04-18T06:55:40.609902Z",
     "start_time": "2025-04-18T06:55:40.604092Z"
    }
   },
   "outputs": [
    {
     "data": {
      "text/plain": [
       "molecular_mechanism_evidence\n",
       "34965576 -> models: non-human model organism                                                                                                   2\n",
       "37126546 -> models: non-human model organism; rescue: non-human model organism                                                                 2\n",
       "39480921 -> function: protein expression; models: non-human model organism                                                                     2\n",
       "29992740 -> functional_alteration: non patient cells                                                                                           1\n",
       "37951597 -> function: biochemical; functional_alteration: patient cells; models: non-human model organism; rescue: non-human model organism    1\n",
       "Name: count, dtype: int64"
      ]
     },
     "execution_count": 76,
     "metadata": {},
     "output_type": "execute_result"
    }
   ],
   "source": [
    "## code chunk to review data\n",
    "\n",
    "df[\"molecular_mechanism_evidence\"].value_counts()[0:5]\n",
    "\n",
    "## df.info()"
   ]
  },
  {
   "cell_type": "markdown",
   "id": "49145525",
   "metadata": {},
   "source": [
    "### Generating now!"
   ]
  },
  {
   "cell_type": "code",
   "execution_count": 77,
   "id": "1bea6afb",
   "metadata": {
    "ExecuteTime": {
     "end_time": "2025-04-18T06:55:44.647770Z",
     "start_time": "2025-04-18T06:55:44.636273Z"
    }
   },
   "outputs": [
    {
     "data": {
      "text/plain": [
       "{'_id': 'G2P00001',\n",
       " 'subject': 'NCBIGene:3166',\n",
       " 'sources': [{'resource_id': 'infores:ebi-gene2phenotype',\n",
       "   'resource_role': 'primary_knowledge_source',\n",
       "   'source_record_urls': ['https://www.ebi.ac.uk/gene2phenotype/lgd/G2P00001']}],\n",
       " 'attributes': [{'attribute_type_id': 'biolink:original_subject',\n",
       "   'value': 'HGNC:5017'},\n",
       "  {'attribute_type_id': 'biolink:publications',\n",
       "   'value': ['PMID:18423520', 'PMID:25574057', 'PMID:29140751']}]}"
      ]
     },
     "execution_count": 77,
     "metadata": {},
     "output_type": "execute_result"
    }
   ],
   "source": [
    "## code chunk for testing parts of inner code\n",
    "\n",
    "for row in df.itertuples(index=False):\n",
    "    document = {\n",
    "        \"_id\": row.g2p_id,\n",
    "        \"subject\": row.gene_nodenorm_id,\n",
    "        \"sources\": [\n",
    "            {\n",
    "                \"resource_id\": \"infores:ebi-gene2phenotype\",\n",
    "                \"resource_role\": \"primary_knowledge_source\",\n",
    "                \"source_record_urls\": [row.g2p_record_url]\n",
    "            }\n",
    "        ],\n",
    "        \"attributes\": [\n",
    "            {\n",
    "                \"attribute_type_id\": \"biolink:original_subject\",\n",
    "                \"value\": row.hgnc_id\n",
    "            }\n",
    "        ]\n",
    "    }\n",
    "    if pd.notna(row.publications):\n",
    "        document[\"attributes\"].append(\n",
    "            {\n",
    "                \"attribute_type_id\": \"biolink:publications\",\n",
    "                \"value\": [\"PMID:\" + i.strip() for i in row.publications.split(\";\")]\n",
    "            }\n",
    "        )\n",
    "    document\n",
    "    break"
   ]
  },
  {
   "cell_type": "code",
   "execution_count": 78,
   "id": "4692267d",
   "metadata": {
    "ExecuteTime": {
     "end_time": "2025-04-18T06:55:52.641964Z",
     "start_time": "2025-04-18T06:55:52.589192Z"
    }
   },
   "outputs": [],
   "source": [
    "## put into parser (format): DONE\n",
    "##   don't save in array, yield each document instead\n",
    "\n",
    "## GENERATING DOCS, saving in array\n",
    "documents = []\n",
    "\n",
    "## using itertuples because it's faster, preserves datatypes\n",
    "for row in df_only_nodenormed.itertuples(index=False):\n",
    "    ## simple assignments: no NA or \"if\"\n",
    "    document = {\n",
    "        \"_id\": row.g2p_id,\n",
    "        \"subject\": row.gene_nodenorm_id,\n",
    "        \"qualifiers\": [  ## needs data-modeling/TRAPI validation review\n",
    "            {\n",
    "                \"qualifier_type_id\": \"biolink:subject_form_or_variant_qualifier\",\n",
    "                \"qualifier_value\": \"genetic_variant_form\"\n",
    "            }\n",
    "        ],\n",
    "        \"object\": row.disease_nodenorm_id,\n",
    "        \"sources\": [\n",
    "            {\n",
    "                \"resource_id\": \"infores:ebi-gene2phenotype\",\n",
    "                \"resource_role\": \"primary_knowledge_source\",\n",
    "                \"source_record_urls\": [row.g2p_record_url]\n",
    "            }\n",
    "        ],\n",
    "        \"attributes\": [\n",
    "            {\n",
    "                \"attribute_type_id\": \"biolink:knowledge_level\",\n",
    "                \"value\": \"knowledge_assertion\"\n",
    "            },\n",
    "            {\n",
    "                \"attribute_type_id\": \"biolink:agent_type\",\n",
    "                \"value\": \"manual_agent\"\n",
    "            },\n",
    "            {\n",
    "                \"attribute_type_id\": \"biolink:original_subject\",\n",
    "                \"original_attribute_name\": \"hgnc id\",  ## original column name\n",
    "                \"value\": row.hgnc_id\n",
    "            },\n",
    "            {   ## currently, after NodeNorming, no NAs in OMIM/orphanet column\n",
    "                \"attribute_type_id\": \"biolink:original_object\",\n",
    "                \"original_attribute_name\": \"disease mim\",  ## original column name\n",
    "                \"value\": row.disease_mim\n",
    "            },\n",
    "            {   ## needs data-modeling/TRAPI validation review\n",
    "                ## EBI gene2pheno website calls this \"Last Updated\"/\"Last Updated On\"\n",
    "                \"attribute_type_id\": \"biolink:update_date\",\n",
    "                \"original_attribute_name\": \"date of last review\",  ## original column name\n",
    "                \"value\": str(row.date_of_last_review)\n",
    "            },\n",
    "        ]\n",
    "    }\n",
    "    \n",
    "    ## more complex assignments (\"if\", handling NA). When value is NA, list comprehension with split won't work\n",
    "    ## predicate\n",
    "    if row.confidence == \"limited\":\n",
    "        document[\"predicate\"] = \"biolink:related_to\"\n",
    "    elif row.confidence in [\"moderate\", \"strong\", \"definitive\"]:\n",
    "        document[\"predicate\"] = \"biolink:causes\"\n",
    "    else:\n",
    "        raise ValueError(f\"Unexpected confidence value during predicate mapping: {row.confidence}. Adjust parser.\")\n",
    "    ## publications\n",
    "    if pd.notna(row.publications):\n",
    "        document[\"attributes\"].append(\n",
    "            {\n",
    "                \"attribute_type_id\": \"biolink:publications\",\n",
    "                \"value\": [\"PMID:\" + i.strip() for i in row.publications.split(\";\")]\n",
    "            }\n",
    "        )\n",
    "    \n",
    "    documents.append(document)"
   ]
  },
  {
   "cell_type": "markdown",
   "id": "cdd0f4f7",
   "metadata": {},
   "source": [
    "## Checking documents"
   ]
  },
  {
   "cell_type": "code",
   "execution_count": 79,
   "id": "0d715012",
   "metadata": {
    "ExecuteTime": {
     "end_time": "2025-04-18T06:55:54.641245Z",
     "start_time": "2025-04-18T06:55:54.636805Z"
    }
   },
   "outputs": [
    {
     "data": {
      "text/plain": [
       "2500"
      ]
     },
     "execution_count": 79,
     "metadata": {},
     "output_type": "execute_result"
    }
   ],
   "source": [
    "len(documents)"
   ]
  },
  {
   "cell_type": "code",
   "execution_count": 82,
   "id": "482cff53",
   "metadata": {
    "ExecuteTime": {
     "end_time": "2025-04-18T07:02:18.849822Z",
     "start_time": "2025-04-18T07:02:18.838129Z"
    }
   },
   "outputs": [
    {
     "name": "stdout",
     "output_type": "stream",
     "text": [
      "<class 'pandas.core.frame.DataFrame'>\n",
      "RangeIndex: 2500 entries, 0 to 2499\n",
      "Data columns (total 26 columns):\n",
      " #   Column                              Non-Null Count  Dtype              \n",
      "---  ------                              --------------  -----              \n",
      " 0   g2p_id                              2500 non-null   object             \n",
      " 1   gene_symbol                         2500 non-null   object             \n",
      " 2   gene_mim                            2500 non-null   object             \n",
      " 3   hgnc_id                             2500 non-null   object             \n",
      " 4   previous_gene_symbols               2247 non-null   object             \n",
      " 5   disease_name                        2500 non-null   object             \n",
      " 6   disease_mim                         2500 non-null   object             \n",
      " 7   disease_MONDO                       117 non-null    object             \n",
      " 8   allelic_requirement                 2500 non-null   object             \n",
      " 9   cross_cutting_modifier              283 non-null    object             \n",
      " 10  confidence                          2500 non-null   object             \n",
      " 11  variant_consequence                 2486 non-null   object             \n",
      " 12  variant_types                       547 non-null    object             \n",
      " 13  molecular_mechanism                 2500 non-null   object             \n",
      " 14  molecular_mechanism_categorisation  2500 non-null   object             \n",
      " 15  molecular_mechanism_evidence        21 non-null     object             \n",
      " 16  phenotypes                          1907 non-null   object             \n",
      " 17  publications                        2248 non-null   object             \n",
      " 18  panel                               2500 non-null   object             \n",
      " 19  comments                            16 non-null     object             \n",
      " 20  date_of_last_review                 2500 non-null   datetime64[ns, UTC]\n",
      " 21  g2p_record_url                      2500 non-null   object             \n",
      " 22  gene_nodenorm_id                    2500 non-null   object             \n",
      " 23  gene_nodenorm_label                 2500 non-null   object             \n",
      " 24  disease_nodenorm_id                 2500 non-null   object             \n",
      " 25  disease_nodenorm_label              2500 non-null   object             \n",
      "dtypes: datetime64[ns, UTC](1), object(25)\n",
      "memory usage: 507.9+ KB\n"
     ]
    }
   ],
   "source": [
    "df_only_nodenormed.info()"
   ]
  },
  {
   "cell_type": "code",
   "execution_count": 90,
   "id": "496719ed",
   "metadata": {
    "ExecuteTime": {
     "end_time": "2025-04-18T07:09:23.542231Z",
     "start_time": "2025-04-18T07:09:23.517499Z"
    }
   },
   "outputs": [
    {
     "data": {
      "text/html": [
       "<div>\n",
       "<style scoped>\n",
       "    .dataframe tbody tr th:only-of-type {\n",
       "        vertical-align: middle;\n",
       "    }\n",
       "\n",
       "    .dataframe tbody tr th {\n",
       "        vertical-align: top;\n",
       "    }\n",
       "\n",
       "    .dataframe thead th {\n",
       "        text-align: right;\n",
       "    }\n",
       "</style>\n",
       "<table border=\"1\" class=\"dataframe\">\n",
       "  <thead>\n",
       "    <tr style=\"text-align: right;\">\n",
       "      <th></th>\n",
       "      <th>g2p_id</th>\n",
       "      <th>gene_symbol</th>\n",
       "      <th>gene_mim</th>\n",
       "      <th>hgnc_id</th>\n",
       "      <th>previous_gene_symbols</th>\n",
       "      <th>disease_name</th>\n",
       "      <th>disease_mim</th>\n",
       "      <th>disease_MONDO</th>\n",
       "      <th>allelic_requirement</th>\n",
       "      <th>cross_cutting_modifier</th>\n",
       "      <th>confidence</th>\n",
       "      <th>variant_consequence</th>\n",
       "      <th>variant_types</th>\n",
       "      <th>molecular_mechanism</th>\n",
       "      <th>molecular_mechanism_categorisation</th>\n",
       "      <th>molecular_mechanism_evidence</th>\n",
       "      <th>phenotypes</th>\n",
       "      <th>publications</th>\n",
       "      <th>panel</th>\n",
       "      <th>comments</th>\n",
       "      <th>date_of_last_review</th>\n",
       "      <th>g2p_record_url</th>\n",
       "      <th>gene_nodenorm_id</th>\n",
       "      <th>gene_nodenorm_label</th>\n",
       "      <th>disease_nodenorm_id</th>\n",
       "      <th>disease_nodenorm_label</th>\n",
       "    </tr>\n",
       "  </thead>\n",
       "  <tbody>\n",
       "    <tr>\n",
       "      <th>8</th>\n",
       "      <td>G2P00010</td>\n",
       "      <td>TRIM32</td>\n",
       "      <td>OMIM:602290</td>\n",
       "      <td>HGNC:16380</td>\n",
       "      <td>BBS11; HT2A; LGMD2H; TATIP</td>\n",
       "      <td>TRIM32-related Bardet-Biedl syndrome</td>\n",
       "      <td>OMIM:615988</td>\n",
       "      <td>NaN</td>\n",
       "      <td>biallelic_autosomal</td>\n",
       "      <td>NaN</td>\n",
       "      <td>limited</td>\n",
       "      <td>uncertain</td>\n",
       "      <td>NaN</td>\n",
       "      <td>undetermined</td>\n",
       "      <td>inferred</td>\n",
       "      <td>NaN</td>\n",
       "      <td>HP:0000148; HP:0002251; HP:0002167; HP:0000518...</td>\n",
       "      <td>16606853</td>\n",
       "      <td>Developmental disorders; Eye disorders</td>\n",
       "      <td>NaN</td>\n",
       "      <td>2025-01-21 22:12:35+00:00</td>\n",
       "      <td>https://www.ebi.ac.uk/gene2phenotype/lgd/G2P00010</td>\n",
       "      <td>NCBIGene:22954</td>\n",
       "      <td>TRIM32</td>\n",
       "      <td>MONDO:0014439</td>\n",
       "      <td>Bardet-Biedl syndrome 11</td>\n",
       "    </tr>\n",
       "    <tr>\n",
       "      <th>26</th>\n",
       "      <td>G2P00030</td>\n",
       "      <td>ERLIN2</td>\n",
       "      <td>OMIM:611605</td>\n",
       "      <td>HGNC:1356</td>\n",
       "      <td>C8ORF2; ERLIN-2; NET32; SPFH2; SPG18</td>\n",
       "      <td>ERLIN2-related intellectual developmental diso...</td>\n",
       "      <td>OMIM:611225</td>\n",
       "      <td>NaN</td>\n",
       "      <td>biallelic_autosomal</td>\n",
       "      <td>NaN</td>\n",
       "      <td>limited</td>\n",
       "      <td>altered gene product structure</td>\n",
       "      <td>inframe_insertion; inframe_deletion; missense_...</td>\n",
       "      <td>undetermined</td>\n",
       "      <td>inferred</td>\n",
       "      <td>NaN</td>\n",
       "      <td>NaN</td>\n",
       "      <td>21937992</td>\n",
       "      <td>Developmental disorders</td>\n",
       "      <td>NaN</td>\n",
       "      <td>2025-01-16 13:37:48+00:00</td>\n",
       "      <td>https://www.ebi.ac.uk/gene2phenotype/lgd/G2P00030</td>\n",
       "      <td>NCBIGene:11160</td>\n",
       "      <td>ERLIN2</td>\n",
       "      <td>MONDO:0012639</td>\n",
       "      <td>hereditary spastic paraplegia 18</td>\n",
       "    </tr>\n",
       "    <tr>\n",
       "      <th>34</th>\n",
       "      <td>G2P00040</td>\n",
       "      <td>GJA1</td>\n",
       "      <td>OMIM:121014</td>\n",
       "      <td>HGNC:4274</td>\n",
       "      <td>CX43; GJAL; ODD; ODDD; ODOD; SDTY3</td>\n",
       "      <td>GJA1-related Hallermann-Streiff syndrome</td>\n",
       "      <td>OMIM:234100</td>\n",
       "      <td>NaN</td>\n",
       "      <td>biallelic_autosomal</td>\n",
       "      <td>NaN</td>\n",
       "      <td>limited</td>\n",
       "      <td>altered gene product structure</td>\n",
       "      <td>inframe_insertion; inframe_deletion; missense_...</td>\n",
       "      <td>undetermined</td>\n",
       "      <td>inferred</td>\n",
       "      <td>NaN</td>\n",
       "      <td>HP:0000347; HP:0000588; HP:0003307; HP:0000233...</td>\n",
       "      <td>14981729; 14974090</td>\n",
       "      <td>Developmental disorders; Eye disorders; Skin d...</td>\n",
       "      <td>NaN</td>\n",
       "      <td>2023-05-24 09:07:26+00:00</td>\n",
       "      <td>https://www.ebi.ac.uk/gene2phenotype/lgd/G2P00040</td>\n",
       "      <td>NCBIGene:2697</td>\n",
       "      <td>GJA1</td>\n",
       "      <td>MONDO:0009318</td>\n",
       "      <td>Hallermann-Streiff syndrome</td>\n",
       "    </tr>\n",
       "    <tr>\n",
       "      <th>43</th>\n",
       "      <td>G2P00051</td>\n",
       "      <td>SUMO1</td>\n",
       "      <td>OMIM:601912</td>\n",
       "      <td>HGNC:12502</td>\n",
       "      <td>GMP1; OFC10; PIC1; SMT3C; SMT3H3; SUMO-1; UBL1</td>\n",
       "      <td>SUMO1-related cleft lip with or without cleft ...</td>\n",
       "      <td>OMIM:608874</td>\n",
       "      <td>NaN</td>\n",
       "      <td>monoallelic_autosomal</td>\n",
       "      <td>NaN</td>\n",
       "      <td>limited</td>\n",
       "      <td>absent gene product</td>\n",
       "      <td>NaN</td>\n",
       "      <td>loss of function</td>\n",
       "      <td>inferred</td>\n",
       "      <td>NaN</td>\n",
       "      <td>HP:0100333; HP:0100334</td>\n",
       "      <td>16990542</td>\n",
       "      <td>Developmental disorders</td>\n",
       "      <td>NaN</td>\n",
       "      <td>2025-01-27 16:20:50+00:00</td>\n",
       "      <td>https://www.ebi.ac.uk/gene2phenotype/lgd/G2P00051</td>\n",
       "      <td>NCBIGene:7341</td>\n",
       "      <td>SUMO1</td>\n",
       "      <td>MONDO:0012142</td>\n",
       "      <td>orofacial cleft 5</td>\n",
       "    </tr>\n",
       "    <tr>\n",
       "      <th>69</th>\n",
       "      <td>G2P00081</td>\n",
       "      <td>STIM1</td>\n",
       "      <td>OMIM:605921</td>\n",
       "      <td>HGNC:11386</td>\n",
       "      <td>D11S4896E; GOK</td>\n",
       "      <td>STIM1-related tubular-aggregate myopathy</td>\n",
       "      <td>OMIM:160565</td>\n",
       "      <td>NaN</td>\n",
       "      <td>monoallelic_autosomal</td>\n",
       "      <td>restricted mutation set</td>\n",
       "      <td>limited</td>\n",
       "      <td>altered gene product structure</td>\n",
       "      <td>NaN</td>\n",
       "      <td>gain of function</td>\n",
       "      <td>inferred</td>\n",
       "      <td>NaN</td>\n",
       "      <td>HP:0003388; HP:0003552; HP:0003581; HP:0002522...</td>\n",
       "      <td>23332920</td>\n",
       "      <td>Developmental disorders</td>\n",
       "      <td>NaN</td>\n",
       "      <td>2015-07-22 16:14:14+00:00</td>\n",
       "      <td>https://www.ebi.ac.uk/gene2phenotype/lgd/G2P00081</td>\n",
       "      <td>NCBIGene:6786</td>\n",
       "      <td>STIM1</td>\n",
       "      <td>MONDO:0024531</td>\n",
       "      <td>myopathy, tubular aggregate, 1</td>\n",
       "    </tr>\n",
       "    <tr>\n",
       "      <th>...</th>\n",
       "      <td>...</td>\n",
       "      <td>...</td>\n",
       "      <td>...</td>\n",
       "      <td>...</td>\n",
       "      <td>...</td>\n",
       "      <td>...</td>\n",
       "      <td>...</td>\n",
       "      <td>...</td>\n",
       "      <td>...</td>\n",
       "      <td>...</td>\n",
       "      <td>...</td>\n",
       "      <td>...</td>\n",
       "      <td>...</td>\n",
       "      <td>...</td>\n",
       "      <td>...</td>\n",
       "      <td>...</td>\n",
       "      <td>...</td>\n",
       "      <td>...</td>\n",
       "      <td>...</td>\n",
       "      <td>...</td>\n",
       "      <td>...</td>\n",
       "      <td>...</td>\n",
       "      <td>...</td>\n",
       "      <td>...</td>\n",
       "      <td>...</td>\n",
       "      <td>...</td>\n",
       "    </tr>\n",
       "    <tr>\n",
       "      <th>2479</th>\n",
       "      <td>G2P02409</td>\n",
       "      <td>SEMA4A</td>\n",
       "      <td>OMIM:607292</td>\n",
       "      <td>HGNC:10729</td>\n",
       "      <td>CORD10; FLJ12287; SEMAB; SEMB</td>\n",
       "      <td>SEMA4A-related retinitis pigmentosa</td>\n",
       "      <td>OMIM:610282</td>\n",
       "      <td>NaN</td>\n",
       "      <td>biallelic_autosomal</td>\n",
       "      <td>NaN</td>\n",
       "      <td>limited</td>\n",
       "      <td>altered gene product structure</td>\n",
       "      <td>inframe_insertion; inframe_deletion; missense_...</td>\n",
       "      <td>undetermined</td>\n",
       "      <td>inferred</td>\n",
       "      <td>NaN</td>\n",
       "      <td>HP:0000556</td>\n",
       "      <td>16199541; 28805479</td>\n",
       "      <td>Eye disorders</td>\n",
       "      <td>NaN</td>\n",
       "      <td>2019-10-30 15:30:20+00:00</td>\n",
       "      <td>https://www.ebi.ac.uk/gene2phenotype/lgd/G2P02409</td>\n",
       "      <td>NCBIGene:64218</td>\n",
       "      <td>SEMA4A</td>\n",
       "      <td>MONDO:0012463</td>\n",
       "      <td>retinitis pigmentosa 35</td>\n",
       "    </tr>\n",
       "    <tr>\n",
       "      <th>2482</th>\n",
       "      <td>G2P02425</td>\n",
       "      <td>MARK3</td>\n",
       "      <td>OMIM:602678</td>\n",
       "      <td>HGNC:6897</td>\n",
       "      <td>CTAK1; KP78; PAR-1A</td>\n",
       "      <td>MARK3-related visual impairment and progressiv...</td>\n",
       "      <td>OMIM:618283</td>\n",
       "      <td>NaN</td>\n",
       "      <td>biallelic_autosomal</td>\n",
       "      <td>NaN</td>\n",
       "      <td>limited</td>\n",
       "      <td>altered gene product structure</td>\n",
       "      <td>inframe_insertion; inframe_deletion; missense_...</td>\n",
       "      <td>undetermined</td>\n",
       "      <td>inferred</td>\n",
       "      <td>NaN</td>\n",
       "      <td>HP:0000568; HP:0000007; HP:0007663; HP:0000540...</td>\n",
       "      <td>29771303</td>\n",
       "      <td>Eye disorders</td>\n",
       "      <td>NaN</td>\n",
       "      <td>2018-05-25 09:40:38+00:00</td>\n",
       "      <td>https://www.ebi.ac.uk/gene2phenotype/lgd/G2P02425</td>\n",
       "      <td>NCBIGene:4140</td>\n",
       "      <td>MARK3</td>\n",
       "      <td>MONDO:0032655</td>\n",
       "      <td>visual impairment and progressive phthisis bulbi</td>\n",
       "    </tr>\n",
       "    <tr>\n",
       "      <th>2484</th>\n",
       "      <td>G2P02427</td>\n",
       "      <td>AHR</td>\n",
       "      <td>OMIM:600253</td>\n",
       "      <td>HGNC:348</td>\n",
       "      <td>BHLHE76</td>\n",
       "      <td>AHR-related retinitis pigmentosa</td>\n",
       "      <td>OMIM:618345</td>\n",
       "      <td>NaN</td>\n",
       "      <td>biallelic_autosomal</td>\n",
       "      <td>NaN</td>\n",
       "      <td>limited</td>\n",
       "      <td>absent gene product</td>\n",
       "      <td>NaN</td>\n",
       "      <td>loss of function</td>\n",
       "      <td>inferred</td>\n",
       "      <td>NaN</td>\n",
       "      <td>HP:0000556; HP:0000007; HP:0000512; HP:0000510</td>\n",
       "      <td>29726989</td>\n",
       "      <td>Eye disorders</td>\n",
       "      <td>NaN</td>\n",
       "      <td>2025-01-14 14:22:05+00:00</td>\n",
       "      <td>https://www.ebi.ac.uk/gene2phenotype/lgd/G2P02427</td>\n",
       "      <td>NCBIGene:196</td>\n",
       "      <td>AHR</td>\n",
       "      <td>MONDO:0032689</td>\n",
       "      <td>retinitis pigmentosa 85</td>\n",
       "    </tr>\n",
       "    <tr>\n",
       "      <th>2485</th>\n",
       "      <td>G2P02430</td>\n",
       "      <td>ESPN</td>\n",
       "      <td>OMIM:606351</td>\n",
       "      <td>HGNC:13281</td>\n",
       "      <td>DFNB36</td>\n",
       "      <td>ESPN-related Usher syndrome</td>\n",
       "      <td>OMIM:614504</td>\n",
       "      <td>NaN</td>\n",
       "      <td>biallelic_autosomal</td>\n",
       "      <td>NaN</td>\n",
       "      <td>limited</td>\n",
       "      <td>uncertain</td>\n",
       "      <td>NaN</td>\n",
       "      <td>undetermined</td>\n",
       "      <td>inferred</td>\n",
       "      <td>NaN</td>\n",
       "      <td>HP:0000662; HP:0000510; HP:0000529; HP:0000543...</td>\n",
       "      <td>29572253</td>\n",
       "      <td>Eye disorders</td>\n",
       "      <td>NaN</td>\n",
       "      <td>2018-05-25 16:39:18+00:00</td>\n",
       "      <td>https://www.ebi.ac.uk/gene2phenotype/lgd/G2P02430</td>\n",
       "      <td>NCBIGene:83715</td>\n",
       "      <td>ESPN</td>\n",
       "      <td>MONDO:0013788</td>\n",
       "      <td>Usher syndrome type 3B</td>\n",
       "    </tr>\n",
       "    <tr>\n",
       "      <th>2488</th>\n",
       "      <td>G2P02546</td>\n",
       "      <td>ARSG</td>\n",
       "      <td>OMIM:610008</td>\n",
       "      <td>HGNC:24102</td>\n",
       "      <td>KIAA1001</td>\n",
       "      <td>ARSG-related atypical Usher syndrome</td>\n",
       "      <td>OMIM:618144</td>\n",
       "      <td>NaN</td>\n",
       "      <td>biallelic_autosomal</td>\n",
       "      <td>NaN</td>\n",
       "      <td>limited</td>\n",
       "      <td>altered gene product structure</td>\n",
       "      <td>inframe_insertion; inframe_deletion; missense_...</td>\n",
       "      <td>undetermined</td>\n",
       "      <td>inferred</td>\n",
       "      <td>NaN</td>\n",
       "      <td>HP:0000007; HP:0003581; HP:0008615; HP:0003676...</td>\n",
       "      <td>29300381</td>\n",
       "      <td>Eye disorders</td>\n",
       "      <td>NaN</td>\n",
       "      <td>2025-01-14 15:17:16+00:00</td>\n",
       "      <td>https://www.ebi.ac.uk/gene2phenotype/lgd/G2P02546</td>\n",
       "      <td>NCBIGene:22901</td>\n",
       "      <td>ARSG</td>\n",
       "      <td>MONDO:0029141</td>\n",
       "      <td>Usher syndrome, type 4</td>\n",
       "    </tr>\n",
       "  </tbody>\n",
       "</table>\n",
       "<p>255 rows × 26 columns</p>\n",
       "</div>"
      ],
      "text/plain": [
       "        g2p_id gene_symbol     gene_mim     hgnc_id  \\\n",
       "8     G2P00010      TRIM32  OMIM:602290  HGNC:16380   \n",
       "26    G2P00030      ERLIN2  OMIM:611605   HGNC:1356   \n",
       "34    G2P00040        GJA1  OMIM:121014   HGNC:4274   \n",
       "43    G2P00051       SUMO1  OMIM:601912  HGNC:12502   \n",
       "69    G2P00081       STIM1  OMIM:605921  HGNC:11386   \n",
       "...        ...         ...          ...         ...   \n",
       "2479  G2P02409      SEMA4A  OMIM:607292  HGNC:10729   \n",
       "2482  G2P02425       MARK3  OMIM:602678   HGNC:6897   \n",
       "2484  G2P02427         AHR  OMIM:600253    HGNC:348   \n",
       "2485  G2P02430        ESPN  OMIM:606351  HGNC:13281   \n",
       "2488  G2P02546        ARSG  OMIM:610008  HGNC:24102   \n",
       "\n",
       "                               previous_gene_symbols  \\\n",
       "8                         BBS11; HT2A; LGMD2H; TATIP   \n",
       "26              C8ORF2; ERLIN-2; NET32; SPFH2; SPG18   \n",
       "34                CX43; GJAL; ODD; ODDD; ODOD; SDTY3   \n",
       "43    GMP1; OFC10; PIC1; SMT3C; SMT3H3; SUMO-1; UBL1   \n",
       "69                                    D11S4896E; GOK   \n",
       "...                                              ...   \n",
       "2479                   CORD10; FLJ12287; SEMAB; SEMB   \n",
       "2482                             CTAK1; KP78; PAR-1A   \n",
       "2484                                         BHLHE76   \n",
       "2485                                          DFNB36   \n",
       "2488                                        KIAA1001   \n",
       "\n",
       "                                           disease_name  disease_mim  \\\n",
       "8                  TRIM32-related Bardet-Biedl syndrome  OMIM:615988   \n",
       "26    ERLIN2-related intellectual developmental diso...  OMIM:611225   \n",
       "34             GJA1-related Hallermann-Streiff syndrome  OMIM:234100   \n",
       "43    SUMO1-related cleft lip with or without cleft ...  OMIM:608874   \n",
       "69             STIM1-related tubular-aggregate myopathy  OMIM:160565   \n",
       "...                                                 ...          ...   \n",
       "2479                SEMA4A-related retinitis pigmentosa  OMIM:610282   \n",
       "2482  MARK3-related visual impairment and progressiv...  OMIM:618283   \n",
       "2484                   AHR-related retinitis pigmentosa  OMIM:618345   \n",
       "2485                        ESPN-related Usher syndrome  OMIM:614504   \n",
       "2488               ARSG-related atypical Usher syndrome  OMIM:618144   \n",
       "\n",
       "     disease_MONDO    allelic_requirement   cross_cutting_modifier confidence  \\\n",
       "8              NaN    biallelic_autosomal                      NaN    limited   \n",
       "26             NaN    biallelic_autosomal                      NaN    limited   \n",
       "34             NaN    biallelic_autosomal                      NaN    limited   \n",
       "43             NaN  monoallelic_autosomal                      NaN    limited   \n",
       "69             NaN  monoallelic_autosomal  restricted mutation set    limited   \n",
       "...            ...                    ...                      ...        ...   \n",
       "2479           NaN    biallelic_autosomal                      NaN    limited   \n",
       "2482           NaN    biallelic_autosomal                      NaN    limited   \n",
       "2484           NaN    biallelic_autosomal                      NaN    limited   \n",
       "2485           NaN    biallelic_autosomal                      NaN    limited   \n",
       "2488           NaN    biallelic_autosomal                      NaN    limited   \n",
       "\n",
       "                 variant_consequence  \\\n",
       "8                          uncertain   \n",
       "26    altered gene product structure   \n",
       "34    altered gene product structure   \n",
       "43               absent gene product   \n",
       "69    altered gene product structure   \n",
       "...                              ...   \n",
       "2479  altered gene product structure   \n",
       "2482  altered gene product structure   \n",
       "2484             absent gene product   \n",
       "2485                       uncertain   \n",
       "2488  altered gene product structure   \n",
       "\n",
       "                                          variant_types molecular_mechanism  \\\n",
       "8                                                   NaN        undetermined   \n",
       "26    inframe_insertion; inframe_deletion; missense_...        undetermined   \n",
       "34    inframe_insertion; inframe_deletion; missense_...        undetermined   \n",
       "43                                                  NaN    loss of function   \n",
       "69                                                  NaN    gain of function   \n",
       "...                                                 ...                 ...   \n",
       "2479  inframe_insertion; inframe_deletion; missense_...        undetermined   \n",
       "2482  inframe_insertion; inframe_deletion; missense_...        undetermined   \n",
       "2484                                                NaN    loss of function   \n",
       "2485                                                NaN        undetermined   \n",
       "2488  inframe_insertion; inframe_deletion; missense_...        undetermined   \n",
       "\n",
       "     molecular_mechanism_categorisation molecular_mechanism_evidence  \\\n",
       "8                              inferred                          NaN   \n",
       "26                             inferred                          NaN   \n",
       "34                             inferred                          NaN   \n",
       "43                             inferred                          NaN   \n",
       "69                             inferred                          NaN   \n",
       "...                                 ...                          ...   \n",
       "2479                           inferred                          NaN   \n",
       "2482                           inferred                          NaN   \n",
       "2484                           inferred                          NaN   \n",
       "2485                           inferred                          NaN   \n",
       "2488                           inferred                          NaN   \n",
       "\n",
       "                                             phenotypes        publications  \\\n",
       "8     HP:0000148; HP:0002251; HP:0002167; HP:0000518...            16606853   \n",
       "26                                                  NaN            21937992   \n",
       "34    HP:0000347; HP:0000588; HP:0003307; HP:0000233...  14981729; 14974090   \n",
       "43                               HP:0100333; HP:0100334            16990542   \n",
       "69    HP:0003388; HP:0003552; HP:0003581; HP:0002522...            23332920   \n",
       "...                                                 ...                 ...   \n",
       "2479                                         HP:0000556  16199541; 28805479   \n",
       "2482  HP:0000568; HP:0000007; HP:0007663; HP:0000540...            29771303   \n",
       "2484     HP:0000556; HP:0000007; HP:0000512; HP:0000510            29726989   \n",
       "2485  HP:0000662; HP:0000510; HP:0000529; HP:0000543...            29572253   \n",
       "2488  HP:0000007; HP:0003581; HP:0008615; HP:0003676...            29300381   \n",
       "\n",
       "                                                  panel comments  \\\n",
       "8                Developmental disorders; Eye disorders      NaN   \n",
       "26                              Developmental disorders      NaN   \n",
       "34    Developmental disorders; Eye disorders; Skin d...      NaN   \n",
       "43                              Developmental disorders      NaN   \n",
       "69                              Developmental disorders      NaN   \n",
       "...                                                 ...      ...   \n",
       "2479                                      Eye disorders      NaN   \n",
       "2482                                      Eye disorders      NaN   \n",
       "2484                                      Eye disorders      NaN   \n",
       "2485                                      Eye disorders      NaN   \n",
       "2488                                      Eye disorders      NaN   \n",
       "\n",
       "           date_of_last_review  \\\n",
       "8    2025-01-21 22:12:35+00:00   \n",
       "26   2025-01-16 13:37:48+00:00   \n",
       "34   2023-05-24 09:07:26+00:00   \n",
       "43   2025-01-27 16:20:50+00:00   \n",
       "69   2015-07-22 16:14:14+00:00   \n",
       "...                        ...   \n",
       "2479 2019-10-30 15:30:20+00:00   \n",
       "2482 2018-05-25 09:40:38+00:00   \n",
       "2484 2025-01-14 14:22:05+00:00   \n",
       "2485 2018-05-25 16:39:18+00:00   \n",
       "2488 2025-01-14 15:17:16+00:00   \n",
       "\n",
       "                                         g2p_record_url gene_nodenorm_id  \\\n",
       "8     https://www.ebi.ac.uk/gene2phenotype/lgd/G2P00010   NCBIGene:22954   \n",
       "26    https://www.ebi.ac.uk/gene2phenotype/lgd/G2P00030   NCBIGene:11160   \n",
       "34    https://www.ebi.ac.uk/gene2phenotype/lgd/G2P00040    NCBIGene:2697   \n",
       "43    https://www.ebi.ac.uk/gene2phenotype/lgd/G2P00051    NCBIGene:7341   \n",
       "69    https://www.ebi.ac.uk/gene2phenotype/lgd/G2P00081    NCBIGene:6786   \n",
       "...                                                 ...              ...   \n",
       "2479  https://www.ebi.ac.uk/gene2phenotype/lgd/G2P02409   NCBIGene:64218   \n",
       "2482  https://www.ebi.ac.uk/gene2phenotype/lgd/G2P02425    NCBIGene:4140   \n",
       "2484  https://www.ebi.ac.uk/gene2phenotype/lgd/G2P02427     NCBIGene:196   \n",
       "2485  https://www.ebi.ac.uk/gene2phenotype/lgd/G2P02430   NCBIGene:83715   \n",
       "2488  https://www.ebi.ac.uk/gene2phenotype/lgd/G2P02546   NCBIGene:22901   \n",
       "\n",
       "     gene_nodenorm_label disease_nodenorm_id  \\\n",
       "8                 TRIM32       MONDO:0014439   \n",
       "26                ERLIN2       MONDO:0012639   \n",
       "34                  GJA1       MONDO:0009318   \n",
       "43                 SUMO1       MONDO:0012142   \n",
       "69                 STIM1       MONDO:0024531   \n",
       "...                  ...                 ...   \n",
       "2479              SEMA4A       MONDO:0012463   \n",
       "2482               MARK3       MONDO:0032655   \n",
       "2484                 AHR       MONDO:0032689   \n",
       "2485                ESPN       MONDO:0013788   \n",
       "2488                ARSG       MONDO:0029141   \n",
       "\n",
       "                                disease_nodenorm_label  \n",
       "8                             Bardet-Biedl syndrome 11  \n",
       "26                    hereditary spastic paraplegia 18  \n",
       "34                         Hallermann-Streiff syndrome  \n",
       "43                                   orofacial cleft 5  \n",
       "69                      myopathy, tubular aggregate, 1  \n",
       "...                                                ...  \n",
       "2479                           retinitis pigmentosa 35  \n",
       "2482  visual impairment and progressive phthisis bulbi  \n",
       "2484                           retinitis pigmentosa 85  \n",
       "2485                            Usher syndrome type 3B  \n",
       "2488                            Usher syndrome, type 4  \n",
       "\n",
       "[255 rows x 26 columns]"
      ]
     },
     "execution_count": 90,
     "metadata": {},
     "output_type": "execute_result"
    }
   ],
   "source": [
    "## code chunk for finding rows -> then look up corresponding doc by idx\n",
    "# df_only_nodenormed[df_only_nodenormed[\"disease_mim\"].str.contains(\"orphanet\", na=False)]\n",
    "df_only_nodenormed[df_only_nodenormed[\"confidence\"] == \"limited\"]\n",
    "# df_only_nodenormed[df_only_nodenormed[\"publications\"].isna()]\n",
    "# df_only_nodenormed[~df_only_nodenormed[\"publications\"].str.contains(\";\", na=True)]\n",
    "\n",
    "\n",
    "\n",
    "# df_only_nodenormed[df_only_nodenormed[\"previous_gene_symbols\"].isna()]\n",
    "# df_only_nodenormed[df_only_nodenormed[\"disease_MONDO\"].notna()]"
   ]
  },
  {
   "cell_type": "code",
   "execution_count": 91,
   "id": "513e415a",
   "metadata": {
    "ExecuteTime": {
     "end_time": "2025-04-18T07:09:57.515947Z",
     "start_time": "2025-04-18T07:09:57.511815Z"
    }
   },
   "outputs": [
    {
     "name": "stdout",
     "output_type": "stream",
     "text": [
      "{'_id': 'G2P00040',\n",
      " 'attributes': [{'attribute_type_id': 'biolink:knowledge_level',\n",
      "                 'value': 'knowledge_assertion'},\n",
      "                {'attribute_type_id': 'biolink:agent_type',\n",
      "                 'value': 'manual_agent'},\n",
      "                {'attribute_type_id': 'biolink:original_subject',\n",
      "                 'original_attribute_name': 'hgnc id',\n",
      "                 'value': 'HGNC:4274'},\n",
      "                {'attribute_type_id': 'biolink:original_object',\n",
      "                 'original_attribute_name': 'disease mim',\n",
      "                 'value': 'OMIM:234100'},\n",
      "                {'attribute_type_id': 'biolink:update_date',\n",
      "                 'original_attribute_name': 'date of last review',\n",
      "                 'value': '2023-05-24 09:07:26+00:00'},\n",
      "                {'attribute_type_id': 'biolink:publications',\n",
      "                 'value': ['PMID:14981729', 'PMID:14974090']}],\n",
      " 'object': 'MONDO:0009318',\n",
      " 'predicate': 'biolink:related_to',\n",
      " 'qualifiers': [{'qualifier_type_id': 'biolink:subject_form_or_variant_qualifier',\n",
      "                 'qualifier_value': 'genetic_variant_form'}],\n",
      " 'sources': [{'resource_id': 'infores:ebi-gene2phenotype',\n",
      "              'resource_role': 'primary_knowledge_source',\n",
      "              'source_record_urls': ['https://www.ebi.ac.uk/gene2phenotype/lgd/G2P00040']}],\n",
      " 'subject': 'NCBIGene:2697'}\n"
     ]
    }
   ],
   "source": [
    "pprint(documents[34])\n",
    "\n",
    "# documents[416]"
   ]
  },
  {
   "cell_type": "markdown",
   "id": "c3fb5da8",
   "metadata": {},
   "source": [
    "## BioThings Parser notes"
   ]
  },
  {
   "cell_type": "markdown",
   "id": "8ebfd610",
   "metadata": {},
   "source": [
    "Fine to use raise/assert in parser (raise is technically better programming behavior: https://realpython.com/python-assert-statement/#understanding-common-pitfalls-of-assert)\n",
    "\n",
    "\n",
    "My notes on parser:\n",
    "* adding prefixes to gene/disease IDs is good for pre-NodeNorming steps\n",
    "* keeping diff gene/disease ID namespaces as separate fields right now is good for current BTE/x-bte-annotation system\n",
    "  * Also, original subject will always be HGNC, original object will always be disease OMIM with current code\n",
    "\n",
    "\n",
    "My notes on syntax:\n",
    "* use `yield` when you want to \"return\" within a \"for loop\" (return only happen once, then exit for-loop/function execution)\n",
    "  * that's what it's used in main execution, when you're iterating over csv rows to generate documents\n",
    "* use `yield from {function}` to get the data from a generator (created by `yield` being used the function)"
   ]
  },
  {
   "cell_type": "code",
   "execution_count": null,
   "id": "2d34c282",
   "metadata": {},
   "outputs": [],
   "source": []
  }
 ],
 "metadata": {
  "kernelspec": {
   "display_name": "Python 3 (ipykernel)",
   "language": "python",
   "name": "python3"
  },
  "language_info": {
   "codemirror_mode": {
    "name": "ipython",
    "version": 3
   },
   "file_extension": ".py",
   "mimetype": "text/x-python",
   "name": "python",
   "nbconvert_exporter": "python",
   "pygments_lexer": "ipython3",
   "version": "3.12.9"
  },
  "toc": {
   "base_numbering": 1,
   "nav_menu": {},
   "number_sections": false,
   "sideBar": true,
   "skip_h1_title": true,
   "title_cell": "Table of Contents",
   "title_sidebar": "Contents",
   "toc_cell": true,
   "toc_position": {
    "height": "calc(100% - 180px)",
    "left": "10px",
    "top": "150px",
    "width": "258.15px"
   },
   "toc_section_display": true,
   "toc_window_display": false
  }
 },
 "nbformat": 4,
 "nbformat_minor": 5
}
