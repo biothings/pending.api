{
 "cells": [
  {
   "cell_type": "markdown",
   "id": "65fd087a",
   "metadata": {
    "toc": true
   },
   "source": [
    "<h1>Table of Contents<span class=\"tocSkip\"></span></h1>\n",
    "<div class=\"toc\"><ul class=\"toc-item\"><li><span><a href=\"#Loading-data\" data-toc-modified-id=\"Loading-data-1\">Loading data</a></span></li><li><span><a href=\"#Check,-remove-duplicates\" data-toc-modified-id=\"Check,-remove-duplicates-2\">Check, remove duplicates</a></span></li><li><span><a href=\"#Column-level-transforms\" data-toc-modified-id=\"Column-level-transforms-3\">Column-level transforms</a></span></li><li><span><a href=\"#Confidence-values\" data-toc-modified-id=\"Confidence-values-4\">Confidence values</a></span><ul class=\"toc-item\"><li><span><a href=\"#Removing-rows-+-stats\" data-toc-modified-id=\"Removing-rows-+-stats-4.1\">Removing rows + stats</a></span></li></ul></li><li><span><a href=\"#Pre-NodeNorming\" data-toc-modified-id=\"Pre-NodeNorming-5\">Pre-NodeNorming</a></span><ul class=\"toc-item\"><li><span><a href=\"#Exploring:-Genes\" data-toc-modified-id=\"Exploring:-Genes-5.1\">Exploring: Genes</a></span><ul class=\"toc-item\"><li><span><a href=\"#HGNC\" data-toc-modified-id=\"HGNC-5.1.1\">HGNC</a></span></li><li><span><a href=\"#OMIM\" data-toc-modified-id=\"OMIM-5.1.2\">OMIM</a></span></li><li><span><a href=\"#Comparing-HGNC-vs-OMIM\" data-toc-modified-id=\"Comparing-HGNC-vs-OMIM-5.1.3\">Comparing HGNC vs OMIM</a></span></li><li><span><a href=\"#Conclusions\" data-toc-modified-id=\"Conclusions-5.1.4\">Conclusions</a></span></li></ul></li><li><span><a href=\"#Exploring:-Diseases\" data-toc-modified-id=\"Exploring:-Diseases-5.2\">Exploring: Diseases</a></span><ul class=\"toc-item\"><li><span><a href=\"#OMIM/orphanet\" data-toc-modified-id=\"OMIM/orphanet-5.2.1\">OMIM/orphanet</a></span></li><li><span><a href=\"#MONDO\" data-toc-modified-id=\"MONDO-5.2.2\">MONDO</a></span></li><li><span><a href=\"#Comparing-OMIM/orphanet-vs-MONDO\" data-toc-modified-id=\"Comparing-OMIM/orphanet-vs-MONDO-5.2.3\">Comparing OMIM/orphanet vs MONDO</a></span></li><li><span><a href=\"#Checking-MONDO-data\" data-toc-modified-id=\"Checking-MONDO-data-5.2.4\">Checking MONDO data</a></span></li><li><span><a href=\"#Conclusions\" data-toc-modified-id=\"Conclusions-5.2.5\">Conclusions</a></span></li></ul></li></ul></li><li><span><a href=\"#Stats-on-rows-removed-during-NodeNorming\" data-toc-modified-id=\"Stats-on-rows-removed-during-NodeNorming-6\">Stats on rows removed during NodeNorming</a></span></li><li><span><a href=\"#Adding-NodeNorm-data,-removing-rows\" data-toc-modified-id=\"Adding-NodeNorm-data,-removing-rows-7\">Adding NodeNorm data, removing rows</a></span></li><li><span><a href=\"#Generating-documents\" data-toc-modified-id=\"Generating-documents-8\">Generating documents</a></span><ul class=\"toc-item\"><li><span><a href=\"#Rows-not-included\" data-toc-modified-id=\"Rows-not-included-8.1\">Rows not included</a></span></li><li><span><a href=\"#Columns-not-included\" data-toc-modified-id=\"Columns-not-included-8.2\">Columns not included</a></span></li><li><span><a href=\"#BioThings-type-parser\" data-toc-modified-id=\"BioThings-type-parser-8.3\">BioThings-type parser</a></span></li><li><span><a href=\"#File:-List-of-TRAPI-edges\" data-toc-modified-id=\"File:-List-of-TRAPI-edges-8.4\">File: List of TRAPI edges</a></span></li><li><span><a href=\"#File:-KGX-edges\" data-toc-modified-id=\"File:-KGX-edges-8.5\">File: KGX edges</a></span></li><li><span><a href=\"#File:-KGX-nodes\" data-toc-modified-id=\"File:-KGX-nodes-8.6\">File: KGX nodes</a></span></li></ul></li><li><span><a href=\"#Checking-documents\" data-toc-modified-id=\"Checking-documents-9\">Checking documents</a></span></li><li><span><a href=\"#BioThings-Parser-notes\" data-toc-modified-id=\"BioThings-Parser-notes-10\">BioThings Parser notes</a></span></li></ul></div>"
   ]
  },
  {
   "cell_type": "markdown",
   "id": "f18ee197",
   "metadata": {},
   "source": [
    "# Notebook for EBI gene2pheno parser development"
   ]
  },
  {
   "cell_type": "code",
   "execution_count": 1,
   "id": "3573099c",
   "metadata": {
    "ExecuteTime": {
     "end_time": "2025-07-23T06:49:19.557283Z",
     "start_time": "2025-07-23T06:49:19.513155Z"
    }
   },
   "outputs": [],
   "source": [
    "## not for parser. for notebook only \n",
    "\n",
    "## CX: allows multiple lines of code to print from one code block\n",
    "from IPython.core.interactiveshell import InteractiveShell\n",
    "InteractiveShell.ast_node_interactivity = \"all\""
   ]
  },
  {
   "cell_type": "markdown",
   "id": "aa862467",
   "metadata": {},
   "source": [
    "## Loading data"
   ]
  },
  {
   "cell_type": "markdown",
   "id": "96f2ef49",
   "metadata": {},
   "source": [
    "__Current approach__ is to load all files into 1 pandas dataframe. Then I can...\n",
    "\n",
    "1. check the duplicates situation: records found in multiple panel files. I can check whether the same record looks different between files or not (by checking duplicates using all columns vs key columns). -> Raise errors if yes\n",
    "2. remove duplicates before generating documents\n",
    "3. Do some tasks column-wise over all the data, rather than while iterating over rows\n",
    "\n",
    "Notes:\n",
    "* There are a few existing BioThings parsers that also use `pandas` to load the entire raw data file at once: https://github.com/search?q=repo%3Abiothings%2Fpending.api%20pandas&type=code\n",
    "* But there are other parsers that use `csv` to load the file **one row at a time** (generator): https://github.com/search?q=repo%3Abiothings%2Fpending.api+csv+reader&type=code\n",
    "\n",
    "---\n",
    "\n",
    "If I did the generator approach (load files 1 by 1, 1 row at a time), I'd have to modify how I do things:\n",
    "1. Don't do the duplicates check. But try to mitigate potential \"duplicate\" issues: \n",
    "   - Sort all delimited strings\n",
    "   - Use a hash of all column values (when they're all strings) for `_id`. Want rows with all the same values to produce the same hash\n",
    "2. Either leave to BioThings toolset to remove duplicates, or could save a running set of `_id` hashes to check if row was already encountered -> not create duplicate docs\n",
    "3. Do the tasks on single rows/chunks (pandas [read_csv](https://pandas.pydata.org/docs/reference/api/pandas.read_csv.html#pandas.read_csv) has an iterator for rows/chunks! see iterator/chunksize parameters)"
   ]
  },
  {
   "cell_type": "code",
   "execution_count": 2,
   "id": "8325a51e",
   "metadata": {
    "ExecuteTime": {
     "end_time": "2025-07-23T06:49:29.851215Z",
     "start_time": "2025-07-23T06:49:19.560147Z"
    }
   },
   "outputs": [],
   "source": [
    "## put into parser: DONE\n",
    "import pathlib\n",
    "import pandas as pd\n",
    "\n",
    "## don't put in parser. Just for this notebook\n",
    "import glob\n",
    "from pprint import pprint\n",
    "\n",
    "## unsure on putting into parser: more for notebook viewing/debugging...\n",
    "pd.options.display.max_columns = None"
   ]
  },
  {
   "cell_type": "markdown",
   "id": "e23c358f",
   "metadata": {},
   "source": [
    "<div class=\"alert alert-block alert-danger\">\n",
    "\n",
    "Adjust the code block below for path/pattern for data files. \n",
    "    \n",
    "This notebook was originally written using data files from the 2025-02-28 static release on the [FTP site](https://ftp.ebi.ac.uk/pub/databases/gene2phenotype/G2P_data_downloads/).\n",
    "The latest data can be downloaded from the [website](https://www.ebi.ac.uk/gene2phenotype/download)"
   ]
  },
  {
   "cell_type": "code",
   "execution_count": 3,
   "id": "63f0a6ac",
   "metadata": {
    "ExecuteTime": {
     "end_time": "2025-07-23T06:49:29.862352Z",
     "start_time": "2025-07-23T06:49:29.854329Z"
    }
   },
   "outputs": [
    {
     "data": {
      "text/plain": [
       "[PosixPath('/Users/colleenxu/Desktop/EBIgene2pheno_files/From_FTP/2025-06-27/CardiacG2P_2025-06-27.csv.gz'),\n",
       " PosixPath('/Users/colleenxu/Desktop/EBIgene2pheno_files/From_FTP/2025-06-27/SkeletalG2P_2025-06-27.csv.gz'),\n",
       " PosixPath('/Users/colleenxu/Desktop/EBIgene2pheno_files/From_FTP/2025-06-27/DDG2P_2025-06-27.csv.gz'),\n",
       " PosixPath('/Users/colleenxu/Desktop/EBIgene2pheno_files/From_FTP/2025-06-27/SkinG2P_2025-06-27.csv.gz'),\n",
       " PosixPath('/Users/colleenxu/Desktop/EBIgene2pheno_files/From_FTP/2025-06-27/CancerG2P_2025-06-27.csv.gz'),\n",
       " PosixPath('/Users/colleenxu/Desktop/EBIgene2pheno_files/From_FTP/2025-06-27/EyeG2P_2025-06-27.csv.gz'),\n",
       " PosixPath('/Users/colleenxu/Desktop/EBIgene2pheno_files/From_FTP/2025-06-27/EarG2P_2025-06-27.csv.gz')]"
      ]
     },
     "execution_count": 3,
     "metadata": {},
     "output_type": "execute_result"
    }
   ],
   "source": [
    "## put into parser (format): DONE\n",
    "\n",
    "base_file_path = pathlib.Path.home().joinpath(\"Desktop\", \"EBIgene2pheno_files\", \n",
    "                                              \"From_FTP\", \"2025-06-27\")\n",
    "\n",
    "## uses pathlib's Path.glob, which produces a generator. \n",
    "## cast into list so parser code can check if paths were actually matched or not\n",
    "all_file_paths = list(base_file_path.glob(\"*.csv.gz\"))\n",
    "all_file_paths"
   ]
  },
  {
   "cell_type": "code",
   "execution_count": 4,
   "id": "0b010c8a",
   "metadata": {
    "ExecuteTime": {
     "end_time": "2025-07-23T06:49:29.871983Z",
     "start_time": "2025-07-23T06:49:29.866306Z"
    }
   },
   "outputs": [
    {
     "data": {
      "text/plain": [
       "<generator object Path.glob at 0x109293010>"
      ]
     },
     "execution_count": 4,
     "metadata": {},
     "output_type": "execute_result"
    },
    {
     "data": {
      "text/plain": [
       "[]"
      ]
     },
     "execution_count": 4,
     "metadata": {},
     "output_type": "execute_result"
    }
   ],
   "source": [
    "## an example: pathlib's Path.glob produces a generator\n",
    "## vs glob.glob produces an array (from cwd only?)\n",
    "base_file_path.glob(\"*2025-02-28.csv.gz\")\n",
    "glob.glob(\"*2025-02-28.csv.gz\")"
   ]
  },
  {
   "cell_type": "code",
   "execution_count": 5,
   "id": "dd0fc904",
   "metadata": {
    "ExecuteTime": {
     "end_time": "2025-07-23T06:49:29.988088Z",
     "start_time": "2025-07-23T06:49:29.873818Z"
    },
    "scrolled": true
   },
   "outputs": [],
   "source": [
    "## put into parser (format): DONE\n",
    "\n",
    "## using generator expression (think list/dict comprehension) within pd.concat to load files 1 at a time\n",
    "## ingesting all columns as str for now\n",
    "df = pd.concat((pd.read_csv(f, dtype=str) for f in all_file_paths), ignore_index=True)\n",
    "\n",
    "## make column names snake-case - usable with itertuples later\n",
    "df.columns = df.columns.str.replace(\" \", \"_\")"
   ]
  },
  {
   "cell_type": "code",
   "execution_count": 6,
   "id": "141a10e4",
   "metadata": {
    "ExecuteTime": {
     "end_time": "2025-07-23T06:49:29.997894Z",
     "start_time": "2025-07-23T06:49:29.990385Z"
    }
   },
   "outputs": [
    {
     "name": "stdout",
     "output_type": "stream",
     "text": [
      "<class 'pandas.core.series.Series'>\n",
      "RangeIndex: 4844 entries, 0 to 4843\n",
      "Series name: date_of_last_review\n",
      "Non-Null Count  Dtype \n",
      "--------------  ----- \n",
      "4844 non-null   object\n",
      "dtypes: object(1)\n",
      "memory usage: 350.2 KB\n"
     ]
    }
   ],
   "source": [
    "df[\"date_of_last_review\"].info(memory_usage=\"deep\")"
   ]
  },
  {
   "cell_type": "code",
   "execution_count": 7,
   "id": "73f6a6fb",
   "metadata": {
    "ExecuteTime": {
     "end_time": "2025-07-23T06:49:30.014557Z",
     "start_time": "2025-07-23T06:49:30.000217Z"
    }
   },
   "outputs": [
    {
     "name": "stdout",
     "output_type": "stream",
     "text": [
      "<class 'pandas.core.series.Series'>\n",
      "RangeIndex: 4844 entries, 0 to 4843\n",
      "Series name: date_of_last_review\n",
      "Non-Null Count  Dtype              \n",
      "--------------  -----              \n",
      "4844 non-null   datetime64[ns, UTC]\n",
      "dtypes: datetime64[ns, UTC](1)\n",
      "memory usage: 38.0 KB\n"
     ]
    }
   ],
   "source": [
    "## change this column to datetime, saves memory\n",
    "df[\"date_of_last_review\"] = pd.to_datetime(df[\"date_of_last_review\"])\n",
    "df[\"date_of_last_review\"].info(memory_usage=\"deep\")"
   ]
  },
  {
   "cell_type": "code",
   "execution_count": 8,
   "id": "13360ed5",
   "metadata": {
    "ExecuteTime": {
     "end_time": "2025-07-23T06:49:30.019824Z",
     "start_time": "2025-07-23T06:49:30.017029Z"
    }
   },
   "outputs": [],
   "source": [
    "## I couldn't figure out how to import + ingest column as datetime in 1 step \n",
    "## this is what I tried that didn't work\n",
    "\n",
    "## worked with pandas 2.0.3, but didn't work with pandas 2.2.3: ingested as str\n",
    "# df = pd.concat((pd.read_csv(f, dtype=str, parse_dates=[\"date of last review\"]) \n",
    "#                 for f in all_file_paths), ignore_index=True)\n",
    "\n",
    "## doesn't work\n",
    "# df = pd.concat((pd.read_csv(f, dtype=str, parse_dates=[\"date of last review\"], \n",
    "#                            date_format=\"%Y-%m-%d %H:%M:%S%:z\") \n",
    "#                 for f in all_file_paths), ignore_index=True)\n",
    "## throws an error\n",
    "# df = pd.concat((pd.read_csv(f, dtype=str, parse_dates=[[\"date of last review\"]], \n",
    "#                            date_format=\"%Y-%m-%d %H:%M:%S%:z\") \n",
    "#                 for f in all_file_paths), ignore_index=True)\n",
    "## throws an error\n",
    "# df = pd.concat((pd.read_csv(f, dtype={\"date of last review\": pd.datetime64[ns, tz]})\n",
    "#                 for f in all_file_paths), ignore_index=True)"
   ]
  },
  {
   "cell_type": "code",
   "execution_count": 9,
   "id": "f6e957f0",
   "metadata": {
    "ExecuteTime": {
     "end_time": "2025-07-23T06:49:30.052054Z",
     "start_time": "2025-07-23T06:49:30.021916Z"
    }
   },
   "outputs": [
    {
     "data": {
      "text/plain": [
       "(4844, 21)"
      ]
     },
     "execution_count": 9,
     "metadata": {},
     "output_type": "execute_result"
    },
    {
     "data": {
      "text/html": [
       "<div>\n",
       "<style scoped>\n",
       "    .dataframe tbody tr th:only-of-type {\n",
       "        vertical-align: middle;\n",
       "    }\n",
       "\n",
       "    .dataframe tbody tr th {\n",
       "        vertical-align: top;\n",
       "    }\n",
       "\n",
       "    .dataframe thead th {\n",
       "        text-align: right;\n",
       "    }\n",
       "</style>\n",
       "<table border=\"1\" class=\"dataframe\">\n",
       "  <thead>\n",
       "    <tr style=\"text-align: right;\">\n",
       "      <th></th>\n",
       "      <th>g2p_id</th>\n",
       "      <th>gene_symbol</th>\n",
       "      <th>gene_mim</th>\n",
       "      <th>hgnc_id</th>\n",
       "      <th>previous_gene_symbols</th>\n",
       "      <th>disease_name</th>\n",
       "      <th>disease_mim</th>\n",
       "      <th>disease_MONDO</th>\n",
       "      <th>allelic_requirement</th>\n",
       "      <th>cross_cutting_modifier</th>\n",
       "      <th>confidence</th>\n",
       "      <th>variant_consequence</th>\n",
       "      <th>variant_types</th>\n",
       "      <th>molecular_mechanism</th>\n",
       "      <th>molecular_mechanism_categorisation</th>\n",
       "      <th>molecular_mechanism_evidence</th>\n",
       "      <th>phenotypes</th>\n",
       "      <th>publications</th>\n",
       "      <th>panel</th>\n",
       "      <th>comments</th>\n",
       "      <th>date_of_last_review</th>\n",
       "    </tr>\n",
       "  </thead>\n",
       "  <tbody>\n",
       "    <tr>\n",
       "      <th>0</th>\n",
       "      <td>G2P00124</td>\n",
       "      <td>KCNE1</td>\n",
       "      <td>176261</td>\n",
       "      <td>6240</td>\n",
       "      <td>ISK; JLNS2; LQT5; MINK</td>\n",
       "      <td>KCNE1-related Jervell and Lange-Nielsen syndrome</td>\n",
       "      <td>612347</td>\n",
       "      <td>MONDO:0012871</td>\n",
       "      <td>biallelic_autosomal</td>\n",
       "      <td>potential secondary finding</td>\n",
       "      <td>strong</td>\n",
       "      <td>altered gene product structure</td>\n",
       "      <td>missense_variant; inframe_insertion; inframe_d...</td>\n",
       "      <td>undetermined</td>\n",
       "      <td>inferred</td>\n",
       "      <td>NaN</td>\n",
       "      <td>HP:0001657; HP:0001279; HP:0000007; HP:0000407</td>\n",
       "      <td>30461122</td>\n",
       "      <td>DD; Cardiac</td>\n",
       "      <td>KCNE1-related JLNS is due to altered gene prod...</td>\n",
       "      <td>2024-04-05 12:05:01+00:00</td>\n",
       "    </tr>\n",
       "    <tr>\n",
       "      <th>1</th>\n",
       "      <td>G2P00841</td>\n",
       "      <td>PTPN11</td>\n",
       "      <td>176876</td>\n",
       "      <td>9644</td>\n",
       "      <td>BPTP3; NS1; PTP2C; SH-PTP2; SHP-2; SHP2</td>\n",
       "      <td>PTPN11-related Noonan syndrome with multiple l...</td>\n",
       "      <td>151100</td>\n",
       "      <td>NaN</td>\n",
       "      <td>monoallelic_autosomal</td>\n",
       "      <td>NaN</td>\n",
       "      <td>definitive</td>\n",
       "      <td>altered gene product structure</td>\n",
       "      <td>missense_variant; inframe_deletion; inframe_in...</td>\n",
       "      <td>undetermined</td>\n",
       "      <td>inferred</td>\n",
       "      <td>NaN</td>\n",
       "      <td>HP:0001709; HP:0000957; HP:0004409; HP:0001639...</td>\n",
       "      <td>27484170; 26377839; 25917897; 25884655; 248207...</td>\n",
       "      <td>DD; Skin; Cardiac</td>\n",
       "      <td>Expert review done on 12/01/2022; Noonan syndr...</td>\n",
       "      <td>2025-01-21 14:56:43+00:00</td>\n",
       "    </tr>\n",
       "    <tr>\n",
       "      <th>2</th>\n",
       "      <td>G2P03247</td>\n",
       "      <td>DSC2</td>\n",
       "      <td>125645</td>\n",
       "      <td>3036</td>\n",
       "      <td>CDHF2; DSC3</td>\n",
       "      <td>DSC2-related arrhythmogenic right ventricular ...</td>\n",
       "      <td>NaN</td>\n",
       "      <td>MONDO:0012506</td>\n",
       "      <td>monoallelic_autosomal</td>\n",
       "      <td>NaN</td>\n",
       "      <td>definitive</td>\n",
       "      <td>decreased gene product level; altered gene pro...</td>\n",
       "      <td>stop_gained; frameshift_variant; NMD_triggerin...</td>\n",
       "      <td>undetermined</td>\n",
       "      <td>inferred</td>\n",
       "      <td>NaN</td>\n",
       "      <td>NaN</td>\n",
       "      <td>31028357; 23911551; 21636032; 33831308; 263105...</td>\n",
       "      <td>Cardiac</td>\n",
       "      <td>Expert review done on 05/01/2022; DSC2-related...</td>\n",
       "      <td>2024-03-20 09:36:09+00:00</td>\n",
       "    </tr>\n",
       "    <tr>\n",
       "      <th>3</th>\n",
       "      <td>G2P03248</td>\n",
       "      <td>DSC2</td>\n",
       "      <td>125645</td>\n",
       "      <td>3036</td>\n",
       "      <td>CDHF2; DSC3</td>\n",
       "      <td>DSC2-related arrhythmogenic right ventricular ...</td>\n",
       "      <td>NaN</td>\n",
       "      <td>MONDO:0012506</td>\n",
       "      <td>biallelic_autosomal</td>\n",
       "      <td>NaN</td>\n",
       "      <td>definitive</td>\n",
       "      <td>decreased gene product level; altered gene pro...</td>\n",
       "      <td>stop_gained; frameshift_variant; NMD_triggerin...</td>\n",
       "      <td>undetermined</td>\n",
       "      <td>inferred</td>\n",
       "      <td>NaN</td>\n",
       "      <td>NaN</td>\n",
       "      <td>31028357; 23911551; 21636032; 33831308; 263105...</td>\n",
       "      <td>Cardiac</td>\n",
       "      <td>Expert review done on 05/01/2022; DSC2-related...</td>\n",
       "      <td>2024-03-20 09:35:19+00:00</td>\n",
       "    </tr>\n",
       "    <tr>\n",
       "      <th>4</th>\n",
       "      <td>G2P03249</td>\n",
       "      <td>DSG2</td>\n",
       "      <td>125671</td>\n",
       "      <td>3049</td>\n",
       "      <td>CDHF5</td>\n",
       "      <td>DSG2-related arrhythmogenic right ventricular ...</td>\n",
       "      <td>NaN</td>\n",
       "      <td>MONDO:0012434</td>\n",
       "      <td>monoallelic_autosomal</td>\n",
       "      <td>NaN</td>\n",
       "      <td>definitive</td>\n",
       "      <td>decreased gene product level; altered gene pro...</td>\n",
       "      <td>stop_gained; frameshift_variant; splice_accept...</td>\n",
       "      <td>undetermined</td>\n",
       "      <td>inferred</td>\n",
       "      <td>NaN</td>\n",
       "      <td>NaN</td>\n",
       "      <td>21636032; 33831308; 33917638; 34400560; 240707...</td>\n",
       "      <td>Cardiac</td>\n",
       "      <td>Expert review done on 05/01/2022; DSG2-related...</td>\n",
       "      <td>2024-03-20 09:40:18+00:00</td>\n",
       "    </tr>\n",
       "  </tbody>\n",
       "</table>\n",
       "</div>"
      ],
      "text/plain": [
       "     g2p_id gene_symbol gene_mim hgnc_id  \\\n",
       "0  G2P00124       KCNE1   176261    6240   \n",
       "1  G2P00841      PTPN11   176876    9644   \n",
       "2  G2P03247        DSC2   125645    3036   \n",
       "3  G2P03248        DSC2   125645    3036   \n",
       "4  G2P03249        DSG2   125671    3049   \n",
       "\n",
       "                     previous_gene_symbols  \\\n",
       "0                   ISK; JLNS2; LQT5; MINK   \n",
       "1  BPTP3; NS1; PTP2C; SH-PTP2; SHP-2; SHP2   \n",
       "2                              CDHF2; DSC3   \n",
       "3                              CDHF2; DSC3   \n",
       "4                                    CDHF5   \n",
       "\n",
       "                                        disease_name disease_mim  \\\n",
       "0   KCNE1-related Jervell and Lange-Nielsen syndrome      612347   \n",
       "1  PTPN11-related Noonan syndrome with multiple l...      151100   \n",
       "2  DSC2-related arrhythmogenic right ventricular ...         NaN   \n",
       "3  DSC2-related arrhythmogenic right ventricular ...         NaN   \n",
       "4  DSG2-related arrhythmogenic right ventricular ...         NaN   \n",
       "\n",
       "   disease_MONDO    allelic_requirement       cross_cutting_modifier  \\\n",
       "0  MONDO:0012871    biallelic_autosomal  potential secondary finding   \n",
       "1            NaN  monoallelic_autosomal                          NaN   \n",
       "2  MONDO:0012506  monoallelic_autosomal                          NaN   \n",
       "3  MONDO:0012506    biallelic_autosomal                          NaN   \n",
       "4  MONDO:0012434  monoallelic_autosomal                          NaN   \n",
       "\n",
       "   confidence                                variant_consequence  \\\n",
       "0      strong                     altered gene product structure   \n",
       "1  definitive                     altered gene product structure   \n",
       "2  definitive  decreased gene product level; altered gene pro...   \n",
       "3  definitive  decreased gene product level; altered gene pro...   \n",
       "4  definitive  decreased gene product level; altered gene pro...   \n",
       "\n",
       "                                       variant_types molecular_mechanism  \\\n",
       "0  missense_variant; inframe_insertion; inframe_d...        undetermined   \n",
       "1  missense_variant; inframe_deletion; inframe_in...        undetermined   \n",
       "2  stop_gained; frameshift_variant; NMD_triggerin...        undetermined   \n",
       "3  stop_gained; frameshift_variant; NMD_triggerin...        undetermined   \n",
       "4  stop_gained; frameshift_variant; splice_accept...        undetermined   \n",
       "\n",
       "  molecular_mechanism_categorisation molecular_mechanism_evidence  \\\n",
       "0                           inferred                          NaN   \n",
       "1                           inferred                          NaN   \n",
       "2                           inferred                          NaN   \n",
       "3                           inferred                          NaN   \n",
       "4                           inferred                          NaN   \n",
       "\n",
       "                                          phenotypes  \\\n",
       "0     HP:0001657; HP:0001279; HP:0000007; HP:0000407   \n",
       "1  HP:0001709; HP:0000957; HP:0004409; HP:0001639...   \n",
       "2                                                NaN   \n",
       "3                                                NaN   \n",
       "4                                                NaN   \n",
       "\n",
       "                                        publications              panel  \\\n",
       "0                                           30461122        DD; Cardiac   \n",
       "1  27484170; 26377839; 25917897; 25884655; 248207...  DD; Skin; Cardiac   \n",
       "2  31028357; 23911551; 21636032; 33831308; 263105...            Cardiac   \n",
       "3  31028357; 23911551; 21636032; 33831308; 263105...            Cardiac   \n",
       "4  21636032; 33831308; 33917638; 34400560; 240707...            Cardiac   \n",
       "\n",
       "                                            comments       date_of_last_review  \n",
       "0  KCNE1-related JLNS is due to altered gene prod... 2024-04-05 12:05:01+00:00  \n",
       "1  Expert review done on 12/01/2022; Noonan syndr... 2025-01-21 14:56:43+00:00  \n",
       "2  Expert review done on 05/01/2022; DSC2-related... 2024-03-20 09:36:09+00:00  \n",
       "3  Expert review done on 05/01/2022; DSC2-related... 2024-03-20 09:35:19+00:00  \n",
       "4  Expert review done on 05/01/2022; DSG2-related... 2024-03-20 09:40:18+00:00  "
      ]
     },
     "execution_count": 9,
     "metadata": {},
     "output_type": "execute_result"
    }
   ],
   "source": [
    "df.shape\n",
    "df.head()"
   ]
  },
  {
   "cell_type": "code",
   "execution_count": 10,
   "id": "51f96324",
   "metadata": {
    "ExecuteTime": {
     "end_time": "2025-07-23T06:49:30.094654Z",
     "start_time": "2025-07-23T06:49:30.056921Z"
    },
    "scrolled": false
   },
   "outputs": [
    {
     "name": "stdout",
     "output_type": "stream",
     "text": [
      "<class 'pandas.core.frame.DataFrame'>\n",
      "RangeIndex: 4844 entries, 0 to 4843\n",
      "Data columns (total 21 columns):\n",
      " #   Column                              Non-Null Count  Dtype              \n",
      "---  ------                              --------------  -----              \n",
      " 0   g2p_id                              4844 non-null   object             \n",
      " 1   gene_symbol                         4844 non-null   object             \n",
      " 2   gene_mim                            4841 non-null   object             \n",
      " 3   hgnc_id                             4844 non-null   object             \n",
      " 4   previous_gene_symbols               4476 non-null   object             \n",
      " 5   disease_name                        4844 non-null   object             \n",
      " 6   disease_mim                         4036 non-null   object             \n",
      " 7   disease_MONDO                       3028 non-null   object             \n",
      " 8   allelic_requirement                 4844 non-null   object             \n",
      " 9   cross_cutting_modifier              649 non-null    object             \n",
      " 10  confidence                          4844 non-null   object             \n",
      " 11  variant_consequence                 4823 non-null   object             \n",
      " 12  variant_types                       1250 non-null   object             \n",
      " 13  molecular_mechanism                 4844 non-null   object             \n",
      " 14  molecular_mechanism_categorisation  4844 non-null   object             \n",
      " 15  molecular_mechanism_evidence        112 non-null    object             \n",
      " 16  phenotypes                          3494 non-null   object             \n",
      " 17  publications                        4416 non-null   object             \n",
      " 18  panel                               4844 non-null   object             \n",
      " 19  comments                            144 non-null    object             \n",
      " 20  date_of_last_review                 4844 non-null   datetime64[ns, UTC]\n",
      "dtypes: datetime64[ns, UTC](1), object(20)\n",
      "memory usage: 6.3 MB\n"
     ]
    }
   ],
   "source": [
    "df.info(memory_usage=\"deep\")"
   ]
  },
  {
   "cell_type": "markdown",
   "id": "2a5724a6",
   "metadata": {},
   "source": [
    "## Check, remove duplicates"
   ]
  },
  {
   "cell_type": "markdown",
   "id": "5a41d004",
   "metadata": {},
   "source": [
    "There are duplicate rows in this dataframe because the record (gene + disease + more) is in several panels (disease falls into multiple categories). This was explored in the data-playground notebook. \n",
    "\n",
    "We want to drop those duplicates. \n",
    "However, I was concerned that the delimited-string values could differ (only in list order) for the same record in diff files. \n",
    "So that's what this check is for. "
   ]
  },
  {
   "cell_type": "code",
   "execution_count": 11,
   "id": "a6531826",
   "metadata": {
    "ExecuteTime": {
     "end_time": "2025-07-23T06:49:30.118155Z",
     "start_time": "2025-07-23T06:49:30.097324Z"
    }
   },
   "outputs": [],
   "source": [
    "## put into parser (format): DONE\n",
    "\n",
    "n_duplicates_column_combo = df[df.duplicated(subset=[\"g2p_id\"], keep=False)].shape\n",
    "\n",
    "n_duplicates_all_columns = df[df.duplicated(keep=False)].shape\n",
    "\n",
    "## for testing\n",
    "# n_duplicates_all_columns = (1, 1)\n",
    "\n",
    "\n",
    "if n_duplicates_column_combo != n_duplicates_all_columns: \n",
    "    raise AssertionError(\"The data format has changed, and the assumptions about duplicates/key columns may \" \\\n",
    "                          \"no longer hold. Re-explore the data and adjust the parser.\")"
   ]
  },
  {
   "cell_type": "code",
   "execution_count": 12,
   "id": "1659d217",
   "metadata": {
    "ExecuteTime": {
     "end_time": "2025-07-23T06:49:30.141456Z",
     "start_time": "2025-07-23T06:49:30.121405Z"
    }
   },
   "outputs": [],
   "source": [
    "## put into parser (format): DONE\n",
    "\n",
    "## drop duplicates\n",
    "df.drop_duplicates(inplace=True, ignore_index=True)"
   ]
  },
  {
   "cell_type": "code",
   "execution_count": 13,
   "id": "8b25cb57",
   "metadata": {
    "ExecuteTime": {
     "end_time": "2025-07-23T06:49:30.174364Z",
     "start_time": "2025-07-23T06:49:30.143686Z"
    },
    "scrolled": true
   },
   "outputs": [
    {
     "name": "stdout",
     "output_type": "stream",
     "text": [
      "<class 'pandas.core.frame.DataFrame'>\n",
      "RangeIndex: 3707 entries, 0 to 3706\n",
      "Data columns (total 21 columns):\n",
      " #   Column                              Non-Null Count  Dtype              \n",
      "---  ------                              --------------  -----              \n",
      " 0   g2p_id                              3707 non-null   object             \n",
      " 1   gene_symbol                         3707 non-null   object             \n",
      " 2   gene_mim                            3704 non-null   object             \n",
      " 3   hgnc_id                             3707 non-null   object             \n",
      " 4   previous_gene_symbols               3424 non-null   object             \n",
      " 5   disease_name                        3707 non-null   object             \n",
      " 6   disease_mim                         2944 non-null   object             \n",
      " 7   disease_MONDO                       2187 non-null   object             \n",
      " 8   allelic_requirement                 3707 non-null   object             \n",
      " 9   cross_cutting_modifier              462 non-null    object             \n",
      " 10  confidence                          3707 non-null   object             \n",
      " 11  variant_consequence                 3689 non-null   object             \n",
      " 12  variant_types                       1038 non-null   object             \n",
      " 13  molecular_mechanism                 3707 non-null   object             \n",
      " 14  molecular_mechanism_categorisation  3707 non-null   object             \n",
      " 15  molecular_mechanism_evidence        97 non-null     object             \n",
      " 16  phenotypes                          2464 non-null   object             \n",
      " 17  publications                        3357 non-null   object             \n",
      " 18  panel                               3707 non-null   object             \n",
      " 19  comments                            117 non-null    object             \n",
      " 20  date_of_last_review                 3707 non-null   datetime64[ns, UTC]\n",
      "dtypes: datetime64[ns, UTC](1), object(20)\n",
      "memory usage: 4.7 MB\n"
     ]
    }
   ],
   "source": [
    "df.info(memory_usage=\"deep\")"
   ]
  },
  {
   "cell_type": "markdown",
   "id": "a797c65d",
   "metadata": {},
   "source": [
    "## Column-level transforms"
   ]
  },
  {
   "cell_type": "markdown",
   "id": "a4feb973",
   "metadata": {},
   "source": [
    "Based on data-playground \"Notes on parsing data to create documents\" section"
   ]
  },
  {
   "cell_type": "code",
   "execution_count": 14,
   "id": "3f9b5222",
   "metadata": {
    "ExecuteTime": {
     "end_time": "2025-07-23T06:49:30.185445Z",
     "start_time": "2025-07-23T06:49:30.176636Z"
    }
   },
   "outputs": [],
   "source": [
    "## double-checking how to add prefixes to OMIM vs orphanet IDs\n",
    "\n",
    "df_diseasemim = df.copy()\n",
    "\n",
    "## done to preserve NA\n",
    "df_diseasemim[\"disease_mim\"] = [i if pd.isna(i) \\\n",
    "                                else \"OMIM:\" + i if i.isnumeric() \\\n",
    "                                else i \\\n",
    "                                for i in df_diseasemim[\"disease_mim\"]]\n",
    "\n",
    "df_diseasemim[\"disease_mim\"] = df_diseasemim[\"disease_mim\"].str.replace(\"Orphanet\", \"orphanet\")"
   ]
  },
  {
   "cell_type": "code",
   "execution_count": 15,
   "id": "14883b59",
   "metadata": {
    "ExecuteTime": {
     "end_time": "2025-07-23T06:49:30.200114Z",
     "start_time": "2025-07-23T06:49:30.187747Z"
    }
   },
   "outputs": [
    {
     "data": {
      "text/plain": [
       "(2943, 21)"
      ]
     },
     "execution_count": 15,
     "metadata": {},
     "output_type": "execute_result"
    },
    {
     "data": {
      "text/plain": [
       "(1, 21)"
      ]
     },
     "execution_count": 15,
     "metadata": {},
     "output_type": "execute_result"
    }
   ],
   "source": [
    "df_diseasemim[df_diseasemim[\"disease_mim\"].str.contains(\"OMIM:\", na=False)].shape\n",
    "\n",
    "df_diseasemim[df_diseasemim[\"disease_mim\"].str.contains(\"orphanet:\", na=False)].shape\n",
    "\n",
    "## add up row count. If == num non-null in info above, you're good \n",
    "## right now 2944 == 2944, so good"
   ]
  },
  {
   "cell_type": "code",
   "execution_count": 16,
   "id": "abb752b8",
   "metadata": {
    "ExecuteTime": {
     "end_time": "2025-07-23T06:49:30.229995Z",
     "start_time": "2025-07-23T06:49:30.203195Z"
    }
   },
   "outputs": [],
   "source": [
    "## put into parser (format): DONE\n",
    "\n",
    "## COLUMN-LEVEL TRANSFORMS\n",
    "\n",
    "## adding Translator/biolink prefixes to IDs\n",
    "df[\"gene_mim\"] = \"OMIM:\" + df[\"gene_mim\"]\n",
    "df[\"hgnc_id\"] = \"HGNC:\" + df[\"hgnc_id\"]\n",
    "df[\"disease_mim\"] = df[\"disease_mim\"].str.replace(\"Orphanet\", \"orphanet\")\n",
    "## done to preserve NA\n",
    "df[\"disease_mim\"] = [i if pd.isna(i)\n",
    "                     else \"OMIM:\" + i if i.isnumeric()\n",
    "                     else i\n",
    "                     for i in df[\"disease_mim\"]]\n",
    "\n",
    "## strip whitespace\n",
    "df[\"disease_name\"] = df[\"disease_name\"].str.strip()\n",
    "df[\"comments\"] = df[\"comments\"].str.strip()\n",
    "\n",
    "## create new columns\n",
    "## UI really wants resource website urls like this. May need to adjust over time as website changes\n",
    "df[\"g2p_record_url\"] = \"https://www.ebi.ac.uk/gene2phenotype/lgd/\" +  df[\"g2p_id\"]\n",
    "\n",
    "## replace panel keywords with full names shown on G2P website for single record\n",
    "## keeping \"Hearing loss\" as-is, changing all other values\n",
    "df[\"panel\"] = df[\"panel\"].str.replace(\"DD\", \"Developmental disorders\")\n",
    "df[\"panel\"] = df[\"panel\"].str.replace(\"Cancer\", \"Cancer disorders\")\n",
    "df[\"panel\"] = df[\"panel\"].str.replace(\"Cardiac\", \"Cardiac disorders\")\n",
    "df[\"panel\"] = df[\"panel\"].str.replace(\"Eye\", \"Eye disorders\")\n",
    "df[\"panel\"] = df[\"panel\"].str.replace(\"Skeletal\", \"Skeletal disorders\")\n",
    "df[\"panel\"] = df[\"panel\"].str.replace(\"Skin\", \"Skin disorders\")"
   ]
  },
  {
   "cell_type": "code",
   "execution_count": 17,
   "id": "b05f644d",
   "metadata": {
    "ExecuteTime": {
     "end_time": "2025-07-23T06:49:30.250096Z",
     "start_time": "2025-07-23T06:49:30.232617Z"
    },
    "scrolled": true
   },
   "outputs": [
    {
     "data": {
      "text/html": [
       "<div>\n",
       "<style scoped>\n",
       "    .dataframe tbody tr th:only-of-type {\n",
       "        vertical-align: middle;\n",
       "    }\n",
       "\n",
       "    .dataframe tbody tr th {\n",
       "        vertical-align: top;\n",
       "    }\n",
       "\n",
       "    .dataframe thead th {\n",
       "        text-align: right;\n",
       "    }\n",
       "</style>\n",
       "<table border=\"1\" class=\"dataframe\">\n",
       "  <thead>\n",
       "    <tr style=\"text-align: right;\">\n",
       "      <th></th>\n",
       "      <th>g2p_id</th>\n",
       "      <th>gene_symbol</th>\n",
       "      <th>gene_mim</th>\n",
       "      <th>hgnc_id</th>\n",
       "      <th>previous_gene_symbols</th>\n",
       "      <th>disease_name</th>\n",
       "      <th>disease_mim</th>\n",
       "      <th>disease_MONDO</th>\n",
       "      <th>allelic_requirement</th>\n",
       "      <th>cross_cutting_modifier</th>\n",
       "      <th>confidence</th>\n",
       "      <th>variant_consequence</th>\n",
       "      <th>variant_types</th>\n",
       "      <th>molecular_mechanism</th>\n",
       "      <th>molecular_mechanism_categorisation</th>\n",
       "      <th>molecular_mechanism_evidence</th>\n",
       "      <th>phenotypes</th>\n",
       "      <th>publications</th>\n",
       "      <th>panel</th>\n",
       "      <th>comments</th>\n",
       "      <th>date_of_last_review</th>\n",
       "      <th>g2p_record_url</th>\n",
       "    </tr>\n",
       "  </thead>\n",
       "  <tbody>\n",
       "    <tr>\n",
       "      <th>0</th>\n",
       "      <td>G2P00124</td>\n",
       "      <td>KCNE1</td>\n",
       "      <td>OMIM:176261</td>\n",
       "      <td>HGNC:6240</td>\n",
       "      <td>ISK; JLNS2; LQT5; MINK</td>\n",
       "      <td>KCNE1-related Jervell and Lange-Nielsen syndrome</td>\n",
       "      <td>OMIM:612347</td>\n",
       "      <td>MONDO:0012871</td>\n",
       "      <td>biallelic_autosomal</td>\n",
       "      <td>potential secondary finding</td>\n",
       "      <td>strong</td>\n",
       "      <td>altered gene product structure</td>\n",
       "      <td>missense_variant; inframe_insertion; inframe_d...</td>\n",
       "      <td>undetermined</td>\n",
       "      <td>inferred</td>\n",
       "      <td>NaN</td>\n",
       "      <td>HP:0001657; HP:0001279; HP:0000007; HP:0000407</td>\n",
       "      <td>30461122</td>\n",
       "      <td>Developmental disorders; Cardiac disorders</td>\n",
       "      <td>KCNE1-related JLNS is due to altered gene prod...</td>\n",
       "      <td>2024-04-05 12:05:01+00:00</td>\n",
       "      <td>https://www.ebi.ac.uk/gene2phenotype/lgd/G2P00124</td>\n",
       "    </tr>\n",
       "    <tr>\n",
       "      <th>1</th>\n",
       "      <td>G2P00841</td>\n",
       "      <td>PTPN11</td>\n",
       "      <td>OMIM:176876</td>\n",
       "      <td>HGNC:9644</td>\n",
       "      <td>BPTP3; NS1; PTP2C; SH-PTP2; SHP-2; SHP2</td>\n",
       "      <td>PTPN11-related Noonan syndrome with multiple l...</td>\n",
       "      <td>OMIM:151100</td>\n",
       "      <td>NaN</td>\n",
       "      <td>monoallelic_autosomal</td>\n",
       "      <td>NaN</td>\n",
       "      <td>definitive</td>\n",
       "      <td>altered gene product structure</td>\n",
       "      <td>missense_variant; inframe_deletion; inframe_in...</td>\n",
       "      <td>undetermined</td>\n",
       "      <td>inferred</td>\n",
       "      <td>NaN</td>\n",
       "      <td>HP:0001709; HP:0000957; HP:0004409; HP:0001639...</td>\n",
       "      <td>27484170; 26377839; 25917897; 25884655; 248207...</td>\n",
       "      <td>Developmental disorders; Skin disorders; Cardi...</td>\n",
       "      <td>Expert review done on 12/01/2022; Noonan syndr...</td>\n",
       "      <td>2025-01-21 14:56:43+00:00</td>\n",
       "      <td>https://www.ebi.ac.uk/gene2phenotype/lgd/G2P00841</td>\n",
       "    </tr>\n",
       "    <tr>\n",
       "      <th>2</th>\n",
       "      <td>G2P03247</td>\n",
       "      <td>DSC2</td>\n",
       "      <td>OMIM:125645</td>\n",
       "      <td>HGNC:3036</td>\n",
       "      <td>CDHF2; DSC3</td>\n",
       "      <td>DSC2-related arrhythmogenic right ventricular ...</td>\n",
       "      <td>NaN</td>\n",
       "      <td>MONDO:0012506</td>\n",
       "      <td>monoallelic_autosomal</td>\n",
       "      <td>NaN</td>\n",
       "      <td>definitive</td>\n",
       "      <td>decreased gene product level; altered gene pro...</td>\n",
       "      <td>stop_gained; frameshift_variant; NMD_triggerin...</td>\n",
       "      <td>undetermined</td>\n",
       "      <td>inferred</td>\n",
       "      <td>NaN</td>\n",
       "      <td>NaN</td>\n",
       "      <td>31028357; 23911551; 21636032; 33831308; 263105...</td>\n",
       "      <td>Cardiac disorders</td>\n",
       "      <td>Expert review done on 05/01/2022; DSC2-related...</td>\n",
       "      <td>2024-03-20 09:36:09+00:00</td>\n",
       "      <td>https://www.ebi.ac.uk/gene2phenotype/lgd/G2P03247</td>\n",
       "    </tr>\n",
       "    <tr>\n",
       "      <th>3</th>\n",
       "      <td>G2P03248</td>\n",
       "      <td>DSC2</td>\n",
       "      <td>OMIM:125645</td>\n",
       "      <td>HGNC:3036</td>\n",
       "      <td>CDHF2; DSC3</td>\n",
       "      <td>DSC2-related arrhythmogenic right ventricular ...</td>\n",
       "      <td>NaN</td>\n",
       "      <td>MONDO:0012506</td>\n",
       "      <td>biallelic_autosomal</td>\n",
       "      <td>NaN</td>\n",
       "      <td>definitive</td>\n",
       "      <td>decreased gene product level; altered gene pro...</td>\n",
       "      <td>stop_gained; frameshift_variant; NMD_triggerin...</td>\n",
       "      <td>undetermined</td>\n",
       "      <td>inferred</td>\n",
       "      <td>NaN</td>\n",
       "      <td>NaN</td>\n",
       "      <td>31028357; 23911551; 21636032; 33831308; 263105...</td>\n",
       "      <td>Cardiac disorders</td>\n",
       "      <td>Expert review done on 05/01/2022; DSC2-related...</td>\n",
       "      <td>2024-03-20 09:35:19+00:00</td>\n",
       "      <td>https://www.ebi.ac.uk/gene2phenotype/lgd/G2P03248</td>\n",
       "    </tr>\n",
       "    <tr>\n",
       "      <th>4</th>\n",
       "      <td>G2P03249</td>\n",
       "      <td>DSG2</td>\n",
       "      <td>OMIM:125671</td>\n",
       "      <td>HGNC:3049</td>\n",
       "      <td>CDHF5</td>\n",
       "      <td>DSG2-related arrhythmogenic right ventricular ...</td>\n",
       "      <td>NaN</td>\n",
       "      <td>MONDO:0012434</td>\n",
       "      <td>monoallelic_autosomal</td>\n",
       "      <td>NaN</td>\n",
       "      <td>definitive</td>\n",
       "      <td>decreased gene product level; altered gene pro...</td>\n",
       "      <td>stop_gained; frameshift_variant; splice_accept...</td>\n",
       "      <td>undetermined</td>\n",
       "      <td>inferred</td>\n",
       "      <td>NaN</td>\n",
       "      <td>NaN</td>\n",
       "      <td>21636032; 33831308; 33917638; 34400560; 240707...</td>\n",
       "      <td>Cardiac disorders</td>\n",
       "      <td>Expert review done on 05/01/2022; DSG2-related...</td>\n",
       "      <td>2024-03-20 09:40:18+00:00</td>\n",
       "      <td>https://www.ebi.ac.uk/gene2phenotype/lgd/G2P03249</td>\n",
       "    </tr>\n",
       "  </tbody>\n",
       "</table>\n",
       "</div>"
      ],
      "text/plain": [
       "     g2p_id gene_symbol     gene_mim    hgnc_id  \\\n",
       "0  G2P00124       KCNE1  OMIM:176261  HGNC:6240   \n",
       "1  G2P00841      PTPN11  OMIM:176876  HGNC:9644   \n",
       "2  G2P03247        DSC2  OMIM:125645  HGNC:3036   \n",
       "3  G2P03248        DSC2  OMIM:125645  HGNC:3036   \n",
       "4  G2P03249        DSG2  OMIM:125671  HGNC:3049   \n",
       "\n",
       "                     previous_gene_symbols  \\\n",
       "0                   ISK; JLNS2; LQT5; MINK   \n",
       "1  BPTP3; NS1; PTP2C; SH-PTP2; SHP-2; SHP2   \n",
       "2                              CDHF2; DSC3   \n",
       "3                              CDHF2; DSC3   \n",
       "4                                    CDHF5   \n",
       "\n",
       "                                        disease_name  disease_mim  \\\n",
       "0   KCNE1-related Jervell and Lange-Nielsen syndrome  OMIM:612347   \n",
       "1  PTPN11-related Noonan syndrome with multiple l...  OMIM:151100   \n",
       "2  DSC2-related arrhythmogenic right ventricular ...          NaN   \n",
       "3  DSC2-related arrhythmogenic right ventricular ...          NaN   \n",
       "4  DSG2-related arrhythmogenic right ventricular ...          NaN   \n",
       "\n",
       "   disease_MONDO    allelic_requirement       cross_cutting_modifier  \\\n",
       "0  MONDO:0012871    biallelic_autosomal  potential secondary finding   \n",
       "1            NaN  monoallelic_autosomal                          NaN   \n",
       "2  MONDO:0012506  monoallelic_autosomal                          NaN   \n",
       "3  MONDO:0012506    biallelic_autosomal                          NaN   \n",
       "4  MONDO:0012434  monoallelic_autosomal                          NaN   \n",
       "\n",
       "   confidence                                variant_consequence  \\\n",
       "0      strong                     altered gene product structure   \n",
       "1  definitive                     altered gene product structure   \n",
       "2  definitive  decreased gene product level; altered gene pro...   \n",
       "3  definitive  decreased gene product level; altered gene pro...   \n",
       "4  definitive  decreased gene product level; altered gene pro...   \n",
       "\n",
       "                                       variant_types molecular_mechanism  \\\n",
       "0  missense_variant; inframe_insertion; inframe_d...        undetermined   \n",
       "1  missense_variant; inframe_deletion; inframe_in...        undetermined   \n",
       "2  stop_gained; frameshift_variant; NMD_triggerin...        undetermined   \n",
       "3  stop_gained; frameshift_variant; NMD_triggerin...        undetermined   \n",
       "4  stop_gained; frameshift_variant; splice_accept...        undetermined   \n",
       "\n",
       "  molecular_mechanism_categorisation molecular_mechanism_evidence  \\\n",
       "0                           inferred                          NaN   \n",
       "1                           inferred                          NaN   \n",
       "2                           inferred                          NaN   \n",
       "3                           inferred                          NaN   \n",
       "4                           inferred                          NaN   \n",
       "\n",
       "                                          phenotypes  \\\n",
       "0     HP:0001657; HP:0001279; HP:0000007; HP:0000407   \n",
       "1  HP:0001709; HP:0000957; HP:0004409; HP:0001639...   \n",
       "2                                                NaN   \n",
       "3                                                NaN   \n",
       "4                                                NaN   \n",
       "\n",
       "                                        publications  \\\n",
       "0                                           30461122   \n",
       "1  27484170; 26377839; 25917897; 25884655; 248207...   \n",
       "2  31028357; 23911551; 21636032; 33831308; 263105...   \n",
       "3  31028357; 23911551; 21636032; 33831308; 263105...   \n",
       "4  21636032; 33831308; 33917638; 34400560; 240707...   \n",
       "\n",
       "                                               panel  \\\n",
       "0         Developmental disorders; Cardiac disorders   \n",
       "1  Developmental disorders; Skin disorders; Cardi...   \n",
       "2                                  Cardiac disorders   \n",
       "3                                  Cardiac disorders   \n",
       "4                                  Cardiac disorders   \n",
       "\n",
       "                                            comments  \\\n",
       "0  KCNE1-related JLNS is due to altered gene prod...   \n",
       "1  Expert review done on 12/01/2022; Noonan syndr...   \n",
       "2  Expert review done on 05/01/2022; DSC2-related...   \n",
       "3  Expert review done on 05/01/2022; DSC2-related...   \n",
       "4  Expert review done on 05/01/2022; DSG2-related...   \n",
       "\n",
       "        date_of_last_review                                     g2p_record_url  \n",
       "0 2024-04-05 12:05:01+00:00  https://www.ebi.ac.uk/gene2phenotype/lgd/G2P00124  \n",
       "1 2025-01-21 14:56:43+00:00  https://www.ebi.ac.uk/gene2phenotype/lgd/G2P00841  \n",
       "2 2024-03-20 09:36:09+00:00  https://www.ebi.ac.uk/gene2phenotype/lgd/G2P03247  \n",
       "3 2024-03-20 09:35:19+00:00  https://www.ebi.ac.uk/gene2phenotype/lgd/G2P03248  \n",
       "4 2024-03-20 09:40:18+00:00  https://www.ebi.ac.uk/gene2phenotype/lgd/G2P03249  "
      ]
     },
     "execution_count": 17,
     "metadata": {},
     "output_type": "execute_result"
    }
   ],
   "source": [
    "## checking on column-level transforms\n",
    "\n",
    "df.head()\n",
    "# df[\"g2p record url\"].unique()[0:100]\n",
    "\n",
    "# df[df[\"disease_mim\"].str.contains(\"orphanet\", na=False)]  ## 9 rows, so that's correct\n",
    "# df[df[\"panel\"].str.contains(\"Hearing\", na=False)]"
   ]
  },
  {
   "cell_type": "markdown",
   "id": "6bc6242a",
   "metadata": {},
   "source": [
    "## Confidence values"
   ]
  },
  {
   "cell_type": "markdown",
   "id": "0d4e07e0",
   "metadata": {},
   "source": [
    "**2025-07-22:**\n",
    "\n",
    "Every row/record has 1 confidence value, representing how confident the curators are that \"this gene has a causal role in this disease\". The definitions of the possible values are provided [here](https://www.ebi.ac.uk/gene2phenotype/about/terminology#g2p-confidence-section). \n",
    "\n",
    "\n",
    "**CURRENT DEFINITIONS** (including in case they change later)\n",
    "\n",
    "> **definitive**: The role of this gene in this particular disease has been repeatedly demonstrated in both the research and clinical diagnostic settings, and has been upheld over time (at least 2 independent publication over 3 years' time). No convincing evidence has emerged that contradicts the role of the gene in the specified disease. (previously labelled as confirmed) The strength of evidence within publications as well as their number and publication dates is taken into account. In practice, this usually means at least 4 publications over 5 years. Typically this will also include convincing bioinformatic or functional evidence of causation, making it very unlikely that this gene-disease association would ever be refuted.\n",
    ">\n",
    ">**strong**: The role of this gene as a monogenic cause of disease has been repeatedly and independently demonstrated providing very strong convincing evidence in humans and no conflicting evidence for this gene's role in this disease. (previously labelled as probable).\n",
    ">\n",
    ">**moderate**: There is moderate evidence in humans to support a casual role for this gene in this disease with no contradictory evidence. The body of evidence is not large (e.g possibly only one key paper) but appears convincing enough that the gene-disease pair is likely to be validated with additional evidence in the near future.\n",
    ">\n",
    ">**limited**: Little human evidence exists to support a casual role for this gene in this disease, but not all evidence has been refuted. For example, there may be a collection of rare missense variants in humans but without convincing functional impact, segregration data that could either arise by chance (e.g across one or two meioses) or does not implicate a single gene, or functional data without direct recapitulation of the phenotype. Overall, the body of evidence does not meet contemporary criteria for claiming a valid association with disease. The majority are probably false associations. (previously labelled as possible).\n",
    ">\n",
    ">**disputed**: Although evidence has been reported, other evidence of equal weight disputes the claim.\n",
    ">\n",
    ">**refuted**: There has been an assertion of a gene-disease association in the literature, but new valid evidence has arisen that refutes the entire original body of evidence."
   ]
  },
  {
   "cell_type": "markdown",
   "id": "d5b0d7ad",
   "metadata": {},
   "source": [
    "<div class=\"alert alert-block alert-success\">\n",
    "\n",
    "**2025-07-22:**\n",
    "\n",
    "After input from Sierra and Matt:\n",
    "1. **FOR NOW**, rows with **\"refuted\"** or **\"disputed\"** values **should not be used** to create edges for Translator. These mean there's strong evidence that there ISN'T an association (negation). **This decision can be revisited** once Translator can model/handle negation better. \n",
    "2. rows with **\"limited\"** value **should not be used** to create edges for Translator. Sierra and Matt pointed out the last sentence of the definition: \"The majority are probably false associations. (previously labelled as possible).\" The reasoning is that these may not be \"real\" associations. \n",
    "3. keep rows with **\"moderate\", \"strong\", \"definitive\"** values, because there's moderate-definitive evidence that a gene DOES HAVE a causal role in this disease. Can use the strong predicate \"causes\" \n",
    "\n",
    "Other **data-modeling decision**: **FOR NOW**, using `subject_form_or_variant_qualifier` (for Gene). Values are `genetic_variant_form` or a descendant, based on the allelic_requirement values. The allelic requirement [terms](https://www.ebi.ac.uk/gene2phenotype/about/terminology#allelic-requirement-section) describe the genotype (of gene variants) linked to the disease. "
   ]
  },
  {
   "cell_type": "markdown",
   "id": "bc0837c1",
   "metadata": {},
   "source": [
    "<div class=\"alert alert-block alert-danger\">\n",
    "\n",
    "Data-modeling notes: options for gene-disease associations are confusing \n",
    "* \"causes / contributes to\" makes more sense when qualifiers on the gene/protein are used. \n",
    "* what's the diff between \"associated with\" and \"genetically associated with\"? \n",
    "* \"gene associated with condition\" is child of \"genetically associated with\", but seems to be more general - basically a \"related to\". Also would look weird in UI, right? "
   ]
  },
  {
   "cell_type": "code",
   "execution_count": 18,
   "id": "bc8729d7",
   "metadata": {
    "ExecuteTime": {
     "end_time": "2025-07-23T07:06:28.207169Z",
     "start_time": "2025-07-23T07:06:28.200355Z"
    }
   },
   "outputs": [
    {
     "data": {
      "text/plain": [
       "confidence\n",
       "definitive    2064\n",
       "strong         862\n",
       "limited        525\n",
       "moderate       255\n",
       "refuted          1\n",
       "Name: count, dtype: int64"
      ]
     },
     "execution_count": 18,
     "metadata": {},
     "output_type": "execute_result"
    }
   ],
   "source": [
    "df[\"confidence\"].value_counts()"
   ]
  },
  {
   "cell_type": "markdown",
   "id": "3226e564",
   "metadata": {},
   "source": [
    "### Removing rows + stats"
   ]
  },
  {
   "cell_type": "code",
   "execution_count": 19,
   "id": "fff9d0b0",
   "metadata": {
    "ExecuteTime": {
     "end_time": "2025-07-23T07:07:41.227005Z",
     "start_time": "2025-07-23T07:07:41.219586Z"
    }
   },
   "outputs": [],
   "source": [
    "## put into parser (format): \n",
    "\n",
    "## calculate stats before removing\n",
    "\n",
    "n_rows_original = df.shape[0]\n",
    "n_rows_refuted = df[df[\"confidence\"] == \"refuted\"].shape[0]\n",
    "n_rows_disputed = df[df[\"confidence\"] == \"disputed\"].shape[0]\n",
    "n_rows_limited = df[df[\"confidence\"] == \"limited\"].shape[0]"
   ]
  },
  {
   "cell_type": "code",
   "execution_count": 20,
   "id": "342634bc",
   "metadata": {
    "ExecuteTime": {
     "end_time": "2025-07-23T07:08:21.606113Z",
     "start_time": "2025-07-23T07:08:21.597743Z"
    }
   },
   "outputs": [],
   "source": [
    "## put into parser (format): \n",
    "\n",
    "## remove rows, calculate stats after\n",
    "\n",
    "df = df[~ df[\"confidence\"].isin([\"refuted\", \"disputed\", \"limited\"])].reset_index(drop=True)\n",
    "n_rows_after_confidence = df.shape[0]"
   ]
  },
  {
   "cell_type": "code",
   "execution_count": 22,
   "id": "95ee0237",
   "metadata": {
    "ExecuteTime": {
     "end_time": "2025-07-23T07:08:46.459785Z",
     "start_time": "2025-07-23T07:08:46.455610Z"
    }
   },
   "outputs": [
    {
     "name": "stdout",
     "output_type": "stream",
     "text": [
      "3707 unique rows/records in original dataset\n",
      "\n",
      "Removing rows based on confidence:\n",
      "1: 'refuted'\n",
      "0: 'disputed'\n",
      "525: 'limited'\n",
      "\n",
      "3181 rows afterwards\n"
     ]
    }
   ],
   "source": [
    "## put into parser (format): \n",
    "\n",
    "## Print stats\n",
    "\n",
    "print(f\"{n_rows_original} unique rows/records in original dataset\\n\")\n",
    "\n",
    "print(f\"Removing rows based on confidence:\")\n",
    "print(f\"{n_rows_refuted}: 'refuted'\")\n",
    "print(f\"{n_rows_disputed}: 'disputed'\")\n",
    "print(f\"{n_rows_limited}: 'limited'\\n\")\n",
    "\n",
    "\n",
    "print(f\"{n_rows_after_confidence} rows afterwards\")"
   ]
  },
  {
   "cell_type": "markdown",
   "id": "0ff20129",
   "metadata": {},
   "source": [
    "## Pre-NodeNorming"
   ]
  },
  {
   "cell_type": "markdown",
   "id": "377992a6",
   "metadata": {},
   "source": [
    "Querying NodeNorm: send unique values (no duplicates!) from entire column in large batches -> generate mapping dict to use. \n",
    "<br>\n",
    "__Not querying 1-by-1 or 1 row at a time: much slower__ and would involve sending duplicate IDs (unless saved dict is kept outside loop and checked) \n",
    "\n",
    "Not going to use NameResolver: not optimistic this would work anyways. My manual process of getting \"better\" disease IDs is to use the gene IDs, find the diseases they're linked to in OMIM and Monarch, and seeing if those match the data's disease name / phenotypes / publications. This is more complicated than just using NameResolver."
   ]
  },
  {
   "cell_type": "markdown",
   "id": "1266243a",
   "metadata": {},
   "source": [
    "<div class=\"alert alert-block alert-danger\">\n",
    "\n",
    "Set the NodeNorm URL you want to use. "
   ]
  },
  {
   "cell_type": "code",
   "execution_count": 23,
   "id": "ec7095c7",
   "metadata": {
    "ExecuteTime": {
     "end_time": "2025-07-23T07:09:10.500159Z",
     "start_time": "2025-07-23T07:09:10.273080Z"
    }
   },
   "outputs": [],
   "source": [
    "## put into parser (format): DONE\n",
    "\n",
    "import requests\n",
    "\n",
    "## from BioThings annotator code: for interoperability between diff Python versions\n",
    "# try:\n",
    "#     from itertools import batched  # new in Python 3.12\n",
    "# except ImportError:\n",
    "#     from itertools import islice\n",
    "\n",
    "#     def batched(iterable, n):\n",
    "#         # batched('ABCDEFG', 3) → ABC DEF G\n",
    "#         if n < 1:\n",
    "#             raise ValueError(\"n must be at least one\")\n",
    "#         iterator = iter(iterable)\n",
    "#         while batch := tuple(islice(iterator, n)):\n",
    "#             yield batch\n",
    "\n",
    "## doing to test that this works\n",
    "from itertools import islice\n",
    "\n",
    "def batched(iterable, n):\n",
    "    # batched('ABCDEFG', 3) → ABC DEF G\n",
    "    if n < 1:\n",
    "        raise ValueError(\"n must be at least one\")\n",
    "    iterator = iter(iterable)\n",
    "    while batch := tuple(islice(iterator, n)):\n",
    "        yield batch\n",
    "\n",
    "nodenorm_url = \"https://nodenorm.ci.transltr.io/get_normalized_nodes\""
   ]
  },
  {
   "cell_type": "markdown",
   "id": "fd327545",
   "metadata": {},
   "source": [
    "### Exploring: Genes"
   ]
  },
  {
   "cell_type": "markdown",
   "id": "95105b25",
   "metadata": {},
   "source": [
    "**2025-06-27 data:** Every row has at least 1 gene ID (HGNC column has no missing values). So no rows will be removed because there's no gene IDs to use for the pre-NodeNorming. "
   ]
  },
  {
   "cell_type": "code",
   "execution_count": 24,
   "id": "c9c7d169",
   "metadata": {
    "ExecuteTime": {
     "end_time": "2025-07-23T07:10:52.630238Z",
     "start_time": "2025-07-23T07:10:52.621640Z"
    }
   },
   "outputs": [
    {
     "name": "stdout",
     "output_type": "stream",
     "text": [
      "<class 'pandas.core.frame.DataFrame'>\n",
      "RangeIndex: 3181 entries, 0 to 3180\n",
      "Data columns (total 3 columns):\n",
      " #   Column       Non-Null Count  Dtype \n",
      "---  ------       --------------  ----- \n",
      " 0   gene_symbol  3181 non-null   object\n",
      " 1   hgnc_id      3181 non-null   object\n",
      " 2   gene_mim     3180 non-null   object\n",
      "dtypes: object(3)\n",
      "memory usage: 74.7+ KB\n"
     ]
    }
   ],
   "source": [
    "df[[\"gene_symbol\", \"hgnc_id\", \"gene_mim\"]].info()"
   ]
  },
  {
   "cell_type": "code",
   "execution_count": 25,
   "id": "fd6ea459",
   "metadata": {
    "ExecuteTime": {
     "end_time": "2025-07-23T07:10:56.535982Z",
     "start_time": "2025-07-23T07:10:56.518884Z"
    }
   },
   "outputs": [
    {
     "data": {
      "text/html": [
       "<div>\n",
       "<style scoped>\n",
       "    .dataframe tbody tr th:only-of-type {\n",
       "        vertical-align: middle;\n",
       "    }\n",
       "\n",
       "    .dataframe tbody tr th {\n",
       "        vertical-align: top;\n",
       "    }\n",
       "\n",
       "    .dataframe thead th {\n",
       "        text-align: right;\n",
       "    }\n",
       "</style>\n",
       "<table border=\"1\" class=\"dataframe\">\n",
       "  <thead>\n",
       "    <tr style=\"text-align: right;\">\n",
       "      <th></th>\n",
       "      <th>g2p_id</th>\n",
       "      <th>gene_symbol</th>\n",
       "      <th>gene_mim</th>\n",
       "      <th>hgnc_id</th>\n",
       "      <th>previous_gene_symbols</th>\n",
       "      <th>disease_name</th>\n",
       "      <th>disease_mim</th>\n",
       "      <th>disease_MONDO</th>\n",
       "      <th>allelic_requirement</th>\n",
       "      <th>cross_cutting_modifier</th>\n",
       "      <th>confidence</th>\n",
       "      <th>variant_consequence</th>\n",
       "      <th>variant_types</th>\n",
       "      <th>molecular_mechanism</th>\n",
       "      <th>molecular_mechanism_categorisation</th>\n",
       "      <th>molecular_mechanism_evidence</th>\n",
       "      <th>phenotypes</th>\n",
       "      <th>publications</th>\n",
       "      <th>panel</th>\n",
       "      <th>comments</th>\n",
       "      <th>date_of_last_review</th>\n",
       "      <th>g2p_record_url</th>\n",
       "    </tr>\n",
       "  </thead>\n",
       "  <tbody>\n",
       "    <tr>\n",
       "      <th>2477</th>\n",
       "      <td>G2P03745</td>\n",
       "      <td>RNU2-2P</td>\n",
       "      <td>NaN</td>\n",
       "      <td>HGNC:10152</td>\n",
       "      <td>NaN</td>\n",
       "      <td>RNU2-2P-related neurodevelopmental disorder wi...</td>\n",
       "      <td>NaN</td>\n",
       "      <td>NaN</td>\n",
       "      <td>monoallelic_autosomal</td>\n",
       "      <td>NaN</td>\n",
       "      <td>strong</td>\n",
       "      <td>altered gene product structure</td>\n",
       "      <td>ncRNA</td>\n",
       "      <td>undetermined</td>\n",
       "      <td>inferred</td>\n",
       "      <td>NaN</td>\n",
       "      <td>NaN</td>\n",
       "      <td>40210679; 40442284</td>\n",
       "      <td>Developmental disorders</td>\n",
       "      <td>Gene now called RNU2-2. Recurrent variants: n....</td>\n",
       "      <td>2025-06-04 09:34:09+00:00</td>\n",
       "      <td>https://www.ebi.ac.uk/gene2phenotype/lgd/G2P03745</td>\n",
       "    </tr>\n",
       "  </tbody>\n",
       "</table>\n",
       "</div>"
      ],
      "text/plain": [
       "        g2p_id gene_symbol gene_mim     hgnc_id previous_gene_symbols  \\\n",
       "2477  G2P03745     RNU2-2P      NaN  HGNC:10152                   NaN   \n",
       "\n",
       "                                           disease_name disease_mim  \\\n",
       "2477  RNU2-2P-related neurodevelopmental disorder wi...         NaN   \n",
       "\n",
       "     disease_MONDO    allelic_requirement cross_cutting_modifier confidence  \\\n",
       "2477           NaN  monoallelic_autosomal                    NaN     strong   \n",
       "\n",
       "                 variant_consequence variant_types molecular_mechanism  \\\n",
       "2477  altered gene product structure         ncRNA        undetermined   \n",
       "\n",
       "     molecular_mechanism_categorisation molecular_mechanism_evidence  \\\n",
       "2477                           inferred                          NaN   \n",
       "\n",
       "     phenotypes        publications                    panel  \\\n",
       "2477        NaN  40210679; 40442284  Developmental disorders   \n",
       "\n",
       "                                               comments  \\\n",
       "2477  Gene now called RNU2-2. Recurrent variants: n....   \n",
       "\n",
       "           date_of_last_review  \\\n",
       "2477 2025-06-04 09:34:09+00:00   \n",
       "\n",
       "                                         g2p_record_url  \n",
       "2477  https://www.ebi.ac.uk/gene2phenotype/lgd/G2P03745  "
      ]
     },
     "execution_count": 25,
     "metadata": {},
     "output_type": "execute_result"
    }
   ],
   "source": [
    "df[df[\"gene_mim\"].isna()]"
   ]
  },
  {
   "cell_type": "code",
   "execution_count": 26,
   "id": "9b72d9da",
   "metadata": {
    "ExecuteTime": {
     "end_time": "2025-07-23T07:11:16.835434Z",
     "start_time": "2025-07-23T07:11:16.825615Z"
    }
   },
   "outputs": [
    {
     "data": {
      "text/plain": [
       "0"
      ]
     },
     "execution_count": 26,
     "metadata": {},
     "output_type": "execute_result"
    },
    {
     "data": {
      "text/plain": [
       "0"
      ]
     },
     "execution_count": 26,
     "metadata": {},
     "output_type": "execute_result"
    }
   ],
   "source": [
    "## saving stats on data with no gene IDs, just in case\n",
    "\n",
    "stats_no_gene_IDs = {\n",
    "    \"n_rows\": df[df[\"gene_mim\"].isna() & df[\"hgnc_id\"].isna()].shape[0],\n",
    "    \"n_names\": len(df[df[\"gene_mim\"].isna() & df[\"hgnc_id\"].isna()][\"gene_symbol\"].unique())\n",
    "}\n",
    "\n",
    "stats_no_gene_IDs[\"n_rows\"]\n",
    "stats_no_gene_IDs[\"n_names\"]"
   ]
  },
  {
   "cell_type": "markdown",
   "id": "8ec56f53",
   "metadata": {},
   "source": [
    "#### HGNC"
   ]
  },
  {
   "cell_type": "markdown",
   "id": "42bf5e56",
   "metadata": {},
   "source": [
    "__Running Gene HGNC IDs through NodeNorm__\n",
    "\n",
    "\n",
    "Catching potential mapping failures for later stats report"
   ]
  },
  {
   "cell_type": "code",
   "execution_count": 27,
   "id": "9af3c9da",
   "metadata": {
    "ExecuteTime": {
     "end_time": "2025-07-23T07:11:19.559854Z",
     "start_time": "2025-07-23T07:11:19.556898Z"
    }
   },
   "outputs": [],
   "source": [
    "## saving stats on data with no HGNC IDs, just in case\n",
    "\n",
    "n_rows_no_hgnc = df[\"hgnc_id\"].isna().sum()"
   ]
  },
  {
   "cell_type": "code",
   "execution_count": 28,
   "id": "54f32d70",
   "metadata": {
    "ExecuteTime": {
     "end_time": "2025-07-23T07:11:20.179059Z",
     "start_time": "2025-07-23T07:11:20.173827Z"
    }
   },
   "outputs": [
    {
     "data": {
      "text/plain": [
       "2627"
      ]
     },
     "execution_count": 28,
     "metadata": {},
     "output_type": "execute_result"
    }
   ],
   "source": [
    "## get set of unique CURIEs to put into NodeNorm\n",
    "hgnc = df[\"hgnc_id\"].dropna().unique()\n",
    "len(hgnc)"
   ]
  },
  {
   "cell_type": "code",
   "execution_count": 29,
   "id": "e98887c0",
   "metadata": {
    "ExecuteTime": {
     "end_time": "2025-07-23T07:11:21.217120Z",
     "start_time": "2025-07-23T07:11:21.214144Z"
    }
   },
   "outputs": [],
   "source": [
    "hgnc_nodenorm_mapping = {}\n",
    "\n",
    "## set up variables to catch potential mapping failures\n",
    "stats_hgnc_mapping_failures = {\n",
    "    \"unexpected_error\": {},\n",
    "    \"nodenorm_returned_none\": [],\n",
    "    \"wrong_category\": {},\n",
    "    \"no_label\": []\n",
    "    \n",
    "}"
   ]
  },
  {
   "cell_type": "code",
   "execution_count": 30,
   "id": "9521a856",
   "metadata": {
    "ExecuteTime": {
     "end_time": "2025-07-23T07:11:33.111403Z",
     "start_time": "2025-07-23T07:11:23.330600Z"
    }
   },
   "outputs": [],
   "source": [
    "## larger batches are quicker\n",
    "for batch in batched(hgnc, 1000):\n",
    "    ## returns tuples -> cast to list\n",
    "    req_body = {\n",
    "        \"curies\": list(batch),\n",
    "        \"conflate\": True,\n",
    "    }\n",
    "    r = requests.post(nodenorm_url, json=req_body)\n",
    "    response = r.json()\n",
    "    \n",
    "    ## not doing dict comprehension. allows easier review, logic writing\n",
    "    for k,v in response.items():\n",
    "        ## catch unexpected errors\n",
    "        try:\n",
    "            ## if NodeNorm didn't have info on this ID, v will be None\n",
    "            if v is not None:\n",
    "                ## don't keep mapping if category is not the expected one\n",
    "                if v[\"type\"][0] == \"biolink:Gene\":\n",
    "                    ## also throw out mapping if no primary label found\n",
    "                    if v[\"id\"].get(\"label\"):\n",
    "                        temp = {\n",
    "                            k: {\"primary_id\": v[\"id\"][\"identifier\"],\n",
    "                                \"primary_label\": v[\"id\"][\"label\"]\n",
    "                               }\n",
    "                        }\n",
    "                        hgnc_nodenorm_mapping.update(temp)\n",
    "                    else:\n",
    "                        stats_hgnc_mapping_failures[\"no_label\"].append(k)\n",
    "#                         print(f\"{k}: NodeNorm didn't find primary label. Not keeping this mapping.\")\n",
    "                else:\n",
    "                    stats_hgnc_mapping_failures[\"wrong_category\"].update({k: v[\"type\"][0]})\n",
    "#                     print(f'{k}: NodeNorm found different category {v[\"type\"][0]}. Not keeping this mapping.')\n",
    "            else:\n",
    "                stats_hgnc_mapping_failures[\"nodenorm_returned_none\"].append(k)\n",
    "#                 print(f\"{k}: NodeNorm didn't recognize this ID\")\n",
    "        except:\n",
    "            stats_hgnc_mapping_failures[\"unexpected_error\"].update({k: v})\n",
    "            print(f'Encountered an unexpected error.')\n",
    "            print(f'NodeNorm response key: {k}')\n",
    "            print(f'NodeNorm response value: {v}')"
   ]
  },
  {
   "cell_type": "code",
   "execution_count": 31,
   "id": "fce525ef",
   "metadata": {
    "ExecuteTime": {
     "end_time": "2025-07-23T07:11:33.119879Z",
     "start_time": "2025-07-23T07:11:33.114289Z"
    }
   },
   "outputs": [
    {
     "data": {
      "text/plain": [
       "2627"
      ]
     },
     "execution_count": 31,
     "metadata": {},
     "output_type": "execute_result"
    },
    {
     "data": {
      "text/plain": [
       "{'unexpected_error': {},\n",
       " 'nodenorm_returned_none': [],\n",
       " 'wrong_category': {},\n",
       " 'no_label': []}"
      ]
     },
     "execution_count": 31,
     "metadata": {},
     "output_type": "execute_result"
    }
   ],
   "source": [
    "len(hgnc_nodenorm_mapping)\n",
    "\n",
    "stats_hgnc_mapping_failures"
   ]
  },
  {
   "cell_type": "markdown",
   "id": "f45b85ef",
   "metadata": {},
   "source": [
    "#### OMIM"
   ]
  },
  {
   "cell_type": "markdown",
   "id": "449d1aa0",
   "metadata": {},
   "source": [
    "__Running Gene OMIM IDs through NodeNorm__\n",
    "\n",
    "Catching potential mapping failures for later stats report. \n",
    "\n",
    "Pasted, adjusted from HGNC code blocks above."
   ]
  },
  {
   "cell_type": "code",
   "execution_count": 32,
   "id": "93037c9d",
   "metadata": {
    "ExecuteTime": {
     "end_time": "2025-07-23T07:11:37.356802Z",
     "start_time": "2025-07-23T07:11:37.351836Z"
    }
   },
   "outputs": [
    {
     "data": {
      "text/plain": [
       "2626"
      ]
     },
     "execution_count": 32,
     "metadata": {},
     "output_type": "execute_result"
    }
   ],
   "source": [
    "## get set of unique CURIEs to put into NodeNorm\n",
    "gene_omim = df[\"gene_mim\"].dropna().unique()\n",
    "len(gene_omim)"
   ]
  },
  {
   "cell_type": "code",
   "execution_count": 33,
   "id": "8ab2b46b",
   "metadata": {
    "ExecuteTime": {
     "end_time": "2025-07-23T07:11:38.247327Z",
     "start_time": "2025-07-23T07:11:38.244257Z"
    }
   },
   "outputs": [],
   "source": [
    "gene_omim_nodenorm_mapping = {}\n",
    "\n",
    "## set up variables to catch potential mapping failures\n",
    "stats_gene_omim_mapping_failures = {\n",
    "    \"unexpected_error\": {},\n",
    "    \"nodenorm_returned_none\": [],\n",
    "    \"wrong_category\": {},\n",
    "    \"no_label\": []\n",
    "    \n",
    "}"
   ]
  },
  {
   "cell_type": "code",
   "execution_count": 34,
   "id": "26d80f83",
   "metadata": {
    "ExecuteTime": {
     "end_time": "2025-07-23T07:11:50.033980Z",
     "start_time": "2025-07-23T07:11:40.699476Z"
    }
   },
   "outputs": [],
   "source": [
    "## larger batches are quicker\n",
    "for batch in batched(gene_omim, 1000):\n",
    "    ## returns tuples -> cast to list\n",
    "    req_body = {\n",
    "        \"curies\": list(batch),\n",
    "        \"conflate\": True,\n",
    "    }\n",
    "    r = requests.post(nodenorm_url, json=req_body)\n",
    "    response = r.json()\n",
    "    \n",
    "    ## not doing dict comprehension. allows easier review, logic writing\n",
    "    for k,v in response.items():\n",
    "        ## catch unexpected errors\n",
    "        try:\n",
    "            ## if NodeNorm didn't have info on this ID, v will be None\n",
    "            if v is not None:\n",
    "                ## don't keep mapping if category is not the expected one\n",
    "                if v[\"type\"][0] == \"biolink:Gene\":\n",
    "                    ## also throw out mapping if no primary label found\n",
    "                    if v[\"id\"].get(\"label\"):\n",
    "                        temp = {\n",
    "                            k: {\"primary_id\": v[\"id\"][\"identifier\"],\n",
    "                                \"primary_label\": v[\"id\"][\"label\"]\n",
    "                               }\n",
    "                        }\n",
    "                        gene_omim_nodenorm_mapping.update(temp)\n",
    "                    else:\n",
    "                        stats_gene_omim_mapping_failures[\"no_label\"].append(k)\n",
    "#                         print(f\"{k}: NodeNorm didn't find primary label. Not keeping this mapping.\")\n",
    "                else:\n",
    "                    stats_gene_omim_mapping_failures[\"wrong_category\"].update({k: v[\"type\"][0]})\n",
    "#                     print(f'{k}: NodeNorm found different category {v[\"type\"][0]}. Not keeping this mapping.')\n",
    "            else:\n",
    "                stats_gene_omim_mapping_failures[\"nodenorm_returned_none\"].append(k)\n",
    "#                 print(f\"{k}: NodeNorm didn't recognize this ID\")\n",
    "        except:\n",
    "            stats_gene_omim_mapping_failures[\"unexpected_error\"].update({k: v})\n",
    "            print(f'Encountered an unexpected error.')\n",
    "            print(f'NodeNorm response key: {k}')\n",
    "            print(f'NodeNorm response value: {v}')"
   ]
  },
  {
   "cell_type": "code",
   "execution_count": 35,
   "id": "8b342012",
   "metadata": {
    "ExecuteTime": {
     "end_time": "2025-07-23T07:11:50.042561Z",
     "start_time": "2025-07-23T07:11:50.036729Z"
    }
   },
   "outputs": [
    {
     "data": {
      "text/plain": [
       "2626"
      ]
     },
     "execution_count": 35,
     "metadata": {},
     "output_type": "execute_result"
    },
    {
     "data": {
      "text/plain": [
       "{'unexpected_error': {},\n",
       " 'nodenorm_returned_none': [],\n",
       " 'wrong_category': {},\n",
       " 'no_label': []}"
      ]
     },
     "execution_count": 35,
     "metadata": {},
     "output_type": "execute_result"
    }
   ],
   "source": [
    "len(gene_omim_nodenorm_mapping)\n",
    "\n",
    "stats_gene_omim_mapping_failures"
   ]
  },
  {
   "cell_type": "markdown",
   "id": "beaa91c8",
   "metadata": {},
   "source": [
    "#### Comparing HGNC vs OMIM"
   ]
  },
  {
   "cell_type": "code",
   "execution_count": 36,
   "id": "7401b121",
   "metadata": {
    "ExecuteTime": {
     "end_time": "2025-07-23T07:12:01.386116Z",
     "start_time": "2025-07-23T07:12:01.373178Z"
    }
   },
   "outputs": [],
   "source": [
    "## if row has both IDs, look for diff in mappings from each ID\n",
    "for row in df[[\"gene_mim\", \"hgnc_id\"]].itertuples(index=False):\n",
    "    ## has both IDs\n",
    "    if pd.notna(row.gene_mim) and pd.notna(row.hgnc_id):\n",
    "        ## if have NodeNorm mappings for both\n",
    "        if gene_omim_nodenorm_mapping.get(row.gene_mim) and \\\n",
    "        hgnc_nodenorm_mapping.get(row.hgnc_id):\n",
    "            ## check if mappings are diff\n",
    "            if gene_omim_nodenorm_mapping[row.gene_mim][\"primary_id\"] != \\\n",
    "            hgnc_nodenorm_mapping[row.hgnc_id][\"primary_id\"]:\n",
    "                print(row)\n",
    "\n",
    "## 2025-06-27 data: nothing prints, so there are no mismatches"
   ]
  },
  {
   "cell_type": "code",
   "execution_count": 37,
   "id": "e0dcee11",
   "metadata": {
    "ExecuteTime": {
     "end_time": "2025-07-23T07:12:04.854129Z",
     "start_time": "2025-07-23T07:12:04.845910Z"
    }
   },
   "outputs": [
    {
     "name": "stdout",
     "output_type": "stream",
     "text": [
      "G2P name MT-TP, ID HGNC:7494\n",
      "NodeNorm name TRNP, ID NCBIGene:4571\n",
      "\n",
      "\n",
      "G2P name CENPJ, ID HGNC:17272\n",
      "NodeNorm name CPAP, ID NCBIGene:55835\n",
      "\n",
      "\n",
      "G2P name CCDC103, ID HGNC:32700\n",
      "NodeNorm name DNAAF19, ID NCBIGene:388389\n",
      "\n",
      "\n",
      "G2P name CCDC115, ID HGNC:28178\n",
      "NodeNorm name VMA22, ID NCBIGene:84317\n",
      "\n",
      "\n",
      "G2P name TMEM199, ID HGNC:18085\n",
      "NodeNorm name VMA12, ID NCBIGene:147007\n",
      "\n",
      "\n",
      "G2P name RNU2-2P, ID HGNC:10152\n",
      "NodeNorm name RNU2-2, ID NCBIGene:26855\n",
      "\n",
      "\n",
      "G2P name MT-ND1, ID HGNC:7455\n",
      "NodeNorm name ND1, ID NCBIGene:4535\n",
      "\n",
      "\n",
      "G2P name MT-ND4, ID HGNC:7459\n",
      "NodeNorm name ND4, ID NCBIGene:4538\n",
      "\n",
      "\n",
      "G2P name MT-ATP6, ID HGNC:7414\n",
      "NodeNorm name ATP6, ID NCBIGene:4508\n",
      "\n",
      "\n",
      "G2P name MT-ND5, ID HGNC:7461\n",
      "NodeNorm name ND5, ID NCBIGene:4540\n",
      "\n",
      "\n",
      "G2P name MT-ND6, ID HGNC:7462\n",
      "NodeNorm name ND6, ID NCBIGene:4541\n",
      "\n",
      "\n"
     ]
    }
   ],
   "source": [
    "## look for differences in name between NodeNormed and original data\n",
    "\n",
    "for row in df[[\"gene_symbol\", \"hgnc_id\"]].itertuples(index=False):\n",
    "    ## works because both columns have no missing values and there's no failed mappings\n",
    "    ## if this changes, need to adjust this code block\n",
    "    if row.gene_symbol != hgnc_nodenorm_mapping[row.hgnc_id][\"primary_label\"]:\n",
    "        print(f\"G2P name {row.gene_symbol}, ID {row.hgnc_id}\")\n",
    "        print(f'NodeNorm name {hgnc_nodenorm_mapping[row.hgnc_id][\"primary_label\"]}, ID {hgnc_nodenorm_mapping[row.hgnc_id][\"primary_id\"]}')\n",
    "        print(\"\\n\")"
   ]
  },
  {
   "cell_type": "markdown",
   "id": "357c59c1",
   "metadata": {},
   "source": [
    "**2025-03-28 data:** \n",
    "\n",
    "Review of mismatched names:\n",
    "* NodeNorm is correct that CENPJ should be CPAP, CCDC103 -> DNAAF19\n",
    "* The rest look like mitochondrial genes, and NCBIGene main name seems to match G2P name, not NodeNorm -> messaged NodeNorm"
   ]
  },
  {
   "cell_type": "markdown",
   "id": "24a02122",
   "metadata": {},
   "source": [
    "#### Conclusions"
   ]
  },
  {
   "cell_type": "markdown",
   "id": "15f9836e",
   "metadata": {},
   "source": [
    "<div class=\"alert alert-block alert-success\">\n",
    "\n",
    "**2025-03-28 data:** \n",
    "    \n",
    "__Exploration__\n",
    "\n",
    "* no mapping failures\n",
    "* when rows have both OMIM and HGNC IDs, there were no differences in NodeNorm mapping (\"mismatches\")\n",
    "    \n",
    "__Decision: Use HGNC ID column to generate NodeNorm values__\n",
    "\n",
    "* less missing values (none right now)\n",
    "* these IDs are probably only genes (vs OMIM ID namespace has multiple kinds of entities)"
   ]
  },
  {
   "cell_type": "markdown",
   "id": "783a5f57",
   "metadata": {},
   "source": [
    "### Exploring: Diseases"
   ]
  },
  {
   "cell_type": "markdown",
   "id": "f1879b18",
   "metadata": {},
   "source": [
    "There are many more missing IDs for Disease, compared to Gene. \n",
    "\n",
    "As mentioned at the beginning of the \"Pre-NodeNorming\" section, I won't be using NameResolver right now. \n",
    "\n",
    "__This means all rows w/o any disease IDs will be removed__ because they cannot be pre-NodeNormed. "
   ]
  },
  {
   "cell_type": "code",
   "execution_count": 38,
   "id": "7a13a8c2",
   "metadata": {
    "ExecuteTime": {
     "end_time": "2025-07-23T21:47:25.035245Z",
     "start_time": "2025-07-23T21:47:24.965295Z"
    }
   },
   "outputs": [
    {
     "name": "stdout",
     "output_type": "stream",
     "text": [
      "<class 'pandas.core.frame.DataFrame'>\n",
      "RangeIndex: 3181 entries, 0 to 3180\n",
      "Data columns (total 3 columns):\n",
      " #   Column         Non-Null Count  Dtype \n",
      "---  ------         --------------  ----- \n",
      " 0   disease_name   3181 non-null   object\n",
      " 1   disease_mim    2638 non-null   object\n",
      " 2   disease_MONDO  1878 non-null   object\n",
      "dtypes: object(3)\n",
      "memory usage: 74.7+ KB\n"
     ]
    }
   ],
   "source": [
    "df[[\"disease_name\", \"disease_mim\", \"disease_MONDO\"]].info()"
   ]
  },
  {
   "cell_type": "code",
   "execution_count": 39,
   "id": "f4c77261",
   "metadata": {
    "ExecuteTime": {
     "end_time": "2025-07-23T21:47:32.451930Z",
     "start_time": "2025-07-23T21:47:32.412443Z"
    }
   },
   "outputs": [
    {
     "data": {
      "text/html": [
       "<div>\n",
       "<style scoped>\n",
       "    .dataframe tbody tr th:only-of-type {\n",
       "        vertical-align: middle;\n",
       "    }\n",
       "\n",
       "    .dataframe tbody tr th {\n",
       "        vertical-align: top;\n",
       "    }\n",
       "\n",
       "    .dataframe thead th {\n",
       "        text-align: right;\n",
       "    }\n",
       "</style>\n",
       "<table border=\"1\" class=\"dataframe\">\n",
       "  <thead>\n",
       "    <tr style=\"text-align: right;\">\n",
       "      <th></th>\n",
       "      <th>g2p_id</th>\n",
       "      <th>gene_symbol</th>\n",
       "      <th>gene_mim</th>\n",
       "      <th>hgnc_id</th>\n",
       "      <th>previous_gene_symbols</th>\n",
       "      <th>disease_name</th>\n",
       "      <th>disease_mim</th>\n",
       "      <th>disease_MONDO</th>\n",
       "      <th>allelic_requirement</th>\n",
       "      <th>cross_cutting_modifier</th>\n",
       "      <th>confidence</th>\n",
       "      <th>variant_consequence</th>\n",
       "      <th>variant_types</th>\n",
       "      <th>molecular_mechanism</th>\n",
       "      <th>molecular_mechanism_categorisation</th>\n",
       "      <th>molecular_mechanism_evidence</th>\n",
       "      <th>phenotypes</th>\n",
       "      <th>publications</th>\n",
       "      <th>panel</th>\n",
       "      <th>comments</th>\n",
       "      <th>date_of_last_review</th>\n",
       "      <th>g2p_record_url</th>\n",
       "    </tr>\n",
       "  </thead>\n",
       "  <tbody>\n",
       "    <tr>\n",
       "      <th>69</th>\n",
       "      <td>G2P03445</td>\n",
       "      <td>GAA</td>\n",
       "      <td>OMIM:606800</td>\n",
       "      <td>HGNC:4065</td>\n",
       "      <td>NaN</td>\n",
       "      <td>GAA-related Pompe disease</td>\n",
       "      <td>NaN</td>\n",
       "      <td>NaN</td>\n",
       "      <td>biallelic_autosomal</td>\n",
       "      <td>restricted mutation set</td>\n",
       "      <td>definitive</td>\n",
       "      <td>decreased gene product level; altered gene pro...</td>\n",
       "      <td>NaN</td>\n",
       "      <td>undetermined</td>\n",
       "      <td>inferred</td>\n",
       "      <td>NaN</td>\n",
       "      <td>NaN</td>\n",
       "      <td>30681346; 31254424; 1652892; 8094613; 7981676;...</td>\n",
       "      <td>Cardiac disorders</td>\n",
       "      <td>Pompe disease is inherited as an autosomal rec...</td>\n",
       "      <td>2024-03-26 10:53:54+00:00</td>\n",
       "      <td>https://www.ebi.ac.uk/gene2phenotype/lgd/G2P03445</td>\n",
       "    </tr>\n",
       "    <tr>\n",
       "      <th>77</th>\n",
       "      <td>G2P03717</td>\n",
       "      <td>ACTN2</td>\n",
       "      <td>OMIM:102573</td>\n",
       "      <td>HGNC:164</td>\n",
       "      <td>NaN</td>\n",
       "      <td>ACTN2-related cardiac and skeletal myopathy</td>\n",
       "      <td>NaN</td>\n",
       "      <td>NaN</td>\n",
       "      <td>monoallelic_autosomal</td>\n",
       "      <td>NaN</td>\n",
       "      <td>definitive</td>\n",
       "      <td>altered gene product level; decreased gene pro...</td>\n",
       "      <td>stop_gained; frameshift_variant; missense_vari...</td>\n",
       "      <td>undetermined</td>\n",
       "      <td>inferred</td>\n",
       "      <td>NaN</td>\n",
       "      <td>NaN</td>\n",
       "      <td>17097056; 20022194; 25173926; 25224718; 275322...</td>\n",
       "      <td>Cardiac disorders</td>\n",
       "      <td>Pathogenic variants in ACTN2 are definitively ...</td>\n",
       "      <td>2025-03-07 13:46:46+00:00</td>\n",
       "      <td>https://www.ebi.ac.uk/gene2phenotype/lgd/G2P03717</td>\n",
       "    </tr>\n",
       "    <tr>\n",
       "      <th>78</th>\n",
       "      <td>G2P03718</td>\n",
       "      <td>FHOD3</td>\n",
       "      <td>OMIM:609691</td>\n",
       "      <td>HGNC:26178</td>\n",
       "      <td>FHOS2; FLJ22297; FLJ22717; KIAA1695</td>\n",
       "      <td>FHOD3-related hypertrophic cardiomyopathy</td>\n",
       "      <td>NaN</td>\n",
       "      <td>NaN</td>\n",
       "      <td>monoallelic_autosomal</td>\n",
       "      <td>NaN</td>\n",
       "      <td>definitive</td>\n",
       "      <td>altered gene product structure</td>\n",
       "      <td>splice_acceptor_variant_NMD_escaping; missense...</td>\n",
       "      <td>undetermined</td>\n",
       "      <td>inferred</td>\n",
       "      <td>NaN</td>\n",
       "      <td>NaN</td>\n",
       "      <td>19706596; 29907873; 30442288; 30898215; 317428...</td>\n",
       "      <td>Cardiac disorders</td>\n",
       "      <td>Pathogenic variants in FHOD3 are definitively ...</td>\n",
       "      <td>2025-03-07 13:48:22+00:00</td>\n",
       "      <td>https://www.ebi.ac.uk/gene2phenotype/lgd/G2P03718</td>\n",
       "    </tr>\n",
       "    <tr>\n",
       "      <th>157</th>\n",
       "      <td>G2P00448</td>\n",
       "      <td>IGF2</td>\n",
       "      <td>OMIM:147470</td>\n",
       "      <td>HGNC:5466</td>\n",
       "      <td>C11ORF43; FLJ44734; IGF-II</td>\n",
       "      <td>IGF2-related Beckwith-Wiedemann syndrome</td>\n",
       "      <td>NaN</td>\n",
       "      <td>NaN</td>\n",
       "      <td>monoallelic_autosomal</td>\n",
       "      <td>imprinted region; restricted mutation set</td>\n",
       "      <td>definitive</td>\n",
       "      <td>altered gene product structure</td>\n",
       "      <td>NaN</td>\n",
       "      <td>gain of function</td>\n",
       "      <td>inferred</td>\n",
       "      <td>NaN</td>\n",
       "      <td>HP:0001548; HP:0000269; HP:0002240; HP:0002667...</td>\n",
       "      <td>NaN</td>\n",
       "      <td>Developmental disorders; Skeletal disorders</td>\n",
       "      <td>NaN</td>\n",
       "      <td>2023-05-24 09:07:28+00:00</td>\n",
       "      <td>https://www.ebi.ac.uk/gene2phenotype/lgd/G2P00448</td>\n",
       "    </tr>\n",
       "    <tr>\n",
       "      <th>216</th>\n",
       "      <td>G2P00872</td>\n",
       "      <td>PIK3CA</td>\n",
       "      <td>OMIM:171834</td>\n",
       "      <td>HGNC:8975</td>\n",
       "      <td>PI3K</td>\n",
       "      <td>PIK3CA-related overgrowth spectrum disorder wi...</td>\n",
       "      <td>NaN</td>\n",
       "      <td>NaN</td>\n",
       "      <td>monoallelic_autosomal</td>\n",
       "      <td>typically mosaic; restricted mutation set</td>\n",
       "      <td>definitive</td>\n",
       "      <td>altered gene product structure</td>\n",
       "      <td>NaN</td>\n",
       "      <td>gain of function</td>\n",
       "      <td>inferred</td>\n",
       "      <td>NaN</td>\n",
       "      <td>HP:0000494; HP:0001744; HP:0002667; HP:0001852...</td>\n",
       "      <td>22658544; 22729224</td>\n",
       "      <td>Developmental disorders; Skeletal disorders</td>\n",
       "      <td>NaN</td>\n",
       "      <td>2024-12-11 11:40:22+00:00</td>\n",
       "      <td>https://www.ebi.ac.uk/gene2phenotype/lgd/G2P00872</td>\n",
       "    </tr>\n",
       "    <tr>\n",
       "      <th>...</th>\n",
       "      <td>...</td>\n",
       "      <td>...</td>\n",
       "      <td>...</td>\n",
       "      <td>...</td>\n",
       "      <td>...</td>\n",
       "      <td>...</td>\n",
       "      <td>...</td>\n",
       "      <td>...</td>\n",
       "      <td>...</td>\n",
       "      <td>...</td>\n",
       "      <td>...</td>\n",
       "      <td>...</td>\n",
       "      <td>...</td>\n",
       "      <td>...</td>\n",
       "      <td>...</td>\n",
       "      <td>...</td>\n",
       "      <td>...</td>\n",
       "      <td>...</td>\n",
       "      <td>...</td>\n",
       "      <td>...</td>\n",
       "      <td>...</td>\n",
       "      <td>...</td>\n",
       "    </tr>\n",
       "    <tr>\n",
       "      <th>3143</th>\n",
       "      <td>G2P02826</td>\n",
       "      <td>RPE65</td>\n",
       "      <td>OMIM:180069</td>\n",
       "      <td>HGNC:10294</td>\n",
       "      <td>BCO3; LCA2; RD12; RP20</td>\n",
       "      <td>RPE65-related retinal dystrophy</td>\n",
       "      <td>NaN</td>\n",
       "      <td>NaN</td>\n",
       "      <td>monoallelic_autosomal</td>\n",
       "      <td>NaN</td>\n",
       "      <td>definitive</td>\n",
       "      <td>altered gene product structure</td>\n",
       "      <td>missense_variant; inframe_deletion; inframe_in...</td>\n",
       "      <td>undetermined</td>\n",
       "      <td>inferred</td>\n",
       "      <td>NaN</td>\n",
       "      <td>HP:0001139; HP:0000556</td>\n",
       "      <td>27307694; 21654732; 29947567</td>\n",
       "      <td>Eye disorders</td>\n",
       "      <td>NaN</td>\n",
       "      <td>2019-10-30 14:45:12+00:00</td>\n",
       "      <td>https://www.ebi.ac.uk/gene2phenotype/lgd/G2P02826</td>\n",
       "    </tr>\n",
       "    <tr>\n",
       "      <th>3153</th>\n",
       "      <td>G2P03582</td>\n",
       "      <td>MYO6</td>\n",
       "      <td>OMIM:600970</td>\n",
       "      <td>HGNC:7605</td>\n",
       "      <td>DFNA22; DFNB37; KIAA0389</td>\n",
       "      <td>MYO6-related nonsyndromic genetic hearing loss</td>\n",
       "      <td>NaN</td>\n",
       "      <td>NaN</td>\n",
       "      <td>biallelic_autosomal</td>\n",
       "      <td>NaN</td>\n",
       "      <td>definitive</td>\n",
       "      <td>decreased gene product level; altered gene pro...</td>\n",
       "      <td>stop_gained; frameshift_variant; splice_accept...</td>\n",
       "      <td>undetermined</td>\n",
       "      <td>inferred</td>\n",
       "      <td>NaN</td>\n",
       "      <td>NaN</td>\n",
       "      <td>18348273; 23485424; 25999546; 12687499; 24105371</td>\n",
       "      <td>Ear</td>\n",
       "      <td>NaN</td>\n",
       "      <td>2024-11-28 14:52:17+00:00</td>\n",
       "      <td>https://www.ebi.ac.uk/gene2phenotype/lgd/G2P03582</td>\n",
       "    </tr>\n",
       "    <tr>\n",
       "      <th>3154</th>\n",
       "      <td>G2P03583</td>\n",
       "      <td>MYO6</td>\n",
       "      <td>OMIM:600970</td>\n",
       "      <td>HGNC:7605</td>\n",
       "      <td>DFNA22; DFNB37; KIAA0389</td>\n",
       "      <td>MYO6-related nonsyndromic genetic hearing loss</td>\n",
       "      <td>NaN</td>\n",
       "      <td>NaN</td>\n",
       "      <td>monoallelic_autosomal</td>\n",
       "      <td>NaN</td>\n",
       "      <td>definitive</td>\n",
       "      <td>decreased gene product level; altered gene pro...</td>\n",
       "      <td>stop_gained; frameshift_variant; splice_accept...</td>\n",
       "      <td>undetermined</td>\n",
       "      <td>inferred</td>\n",
       "      <td>NaN</td>\n",
       "      <td>NaN</td>\n",
       "      <td>18348273; 23485424; 25999546; 24105371</td>\n",
       "      <td>Ear</td>\n",
       "      <td>NaN</td>\n",
       "      <td>2024-11-28 14:47:17+00:00</td>\n",
       "      <td>https://www.ebi.ac.uk/gene2phenotype/lgd/G2P03583</td>\n",
       "    </tr>\n",
       "    <tr>\n",
       "      <th>3155</th>\n",
       "      <td>G2P01747</td>\n",
       "      <td>CDC14A</td>\n",
       "      <td>OMIM:603504</td>\n",
       "      <td>HGNC:1718</td>\n",
       "      <td>CDC14; CDC14A1; CDC14A2; DFNB105; DFNB32</td>\n",
       "      <td>CDC14A-related deafness</td>\n",
       "      <td>NaN</td>\n",
       "      <td>NaN</td>\n",
       "      <td>biallelic_autosomal</td>\n",
       "      <td>NaN</td>\n",
       "      <td>strong</td>\n",
       "      <td>absent gene product</td>\n",
       "      <td>NaN</td>\n",
       "      <td>loss of function</td>\n",
       "      <td>inferred</td>\n",
       "      <td>NaN</td>\n",
       "      <td>NaN</td>\n",
       "      <td>27259055</td>\n",
       "      <td>Ear</td>\n",
       "      <td>NaN</td>\n",
       "      <td>2025-04-08 17:02:31+00:00</td>\n",
       "      <td>https://www.ebi.ac.uk/gene2phenotype/lgd/G2P01747</td>\n",
       "    </tr>\n",
       "    <tr>\n",
       "      <th>3179</th>\n",
       "      <td>G2P01852</td>\n",
       "      <td>SOX10</td>\n",
       "      <td>OMIM:602229</td>\n",
       "      <td>HGNC:11190</td>\n",
       "      <td>DOM; SOX-10; WS2E; WS4</td>\n",
       "      <td>SOX10-related Kallmann syndrome with deafness</td>\n",
       "      <td>NaN</td>\n",
       "      <td>NaN</td>\n",
       "      <td>monoallelic_autosomal</td>\n",
       "      <td>NaN</td>\n",
       "      <td>definitive</td>\n",
       "      <td>absent gene product</td>\n",
       "      <td>NaN</td>\n",
       "      <td>loss of function</td>\n",
       "      <td>inferred</td>\n",
       "      <td>NaN</td>\n",
       "      <td>NaN</td>\n",
       "      <td>23643381</td>\n",
       "      <td>Ear</td>\n",
       "      <td>NaN</td>\n",
       "      <td>2025-04-28 10:21:28+00:00</td>\n",
       "      <td>https://www.ebi.ac.uk/gene2phenotype/lgd/G2P01852</td>\n",
       "    </tr>\n",
       "  </tbody>\n",
       "</table>\n",
       "<p>248 rows × 22 columns</p>\n",
       "</div>"
      ],
      "text/plain": [
       "        g2p_id gene_symbol     gene_mim     hgnc_id  \\\n",
       "69    G2P03445         GAA  OMIM:606800   HGNC:4065   \n",
       "77    G2P03717       ACTN2  OMIM:102573    HGNC:164   \n",
       "78    G2P03718       FHOD3  OMIM:609691  HGNC:26178   \n",
       "157   G2P00448        IGF2  OMIM:147470   HGNC:5466   \n",
       "216   G2P00872      PIK3CA  OMIM:171834   HGNC:8975   \n",
       "...        ...         ...          ...         ...   \n",
       "3143  G2P02826       RPE65  OMIM:180069  HGNC:10294   \n",
       "3153  G2P03582        MYO6  OMIM:600970   HGNC:7605   \n",
       "3154  G2P03583        MYO6  OMIM:600970   HGNC:7605   \n",
       "3155  G2P01747      CDC14A  OMIM:603504   HGNC:1718   \n",
       "3179  G2P01852       SOX10  OMIM:602229  HGNC:11190   \n",
       "\n",
       "                         previous_gene_symbols  \\\n",
       "69                                         NaN   \n",
       "77                                         NaN   \n",
       "78         FHOS2; FLJ22297; FLJ22717; KIAA1695   \n",
       "157                 C11ORF43; FLJ44734; IGF-II   \n",
       "216                                       PI3K   \n",
       "...                                        ...   \n",
       "3143                    BCO3; LCA2; RD12; RP20   \n",
       "3153                  DFNA22; DFNB37; KIAA0389   \n",
       "3154                  DFNA22; DFNB37; KIAA0389   \n",
       "3155  CDC14; CDC14A1; CDC14A2; DFNB105; DFNB32   \n",
       "3179                    DOM; SOX-10; WS2E; WS4   \n",
       "\n",
       "                                           disease_name disease_mim  \\\n",
       "69                            GAA-related Pompe disease         NaN   \n",
       "77          ACTN2-related cardiac and skeletal myopathy         NaN   \n",
       "78            FHOD3-related hypertrophic cardiomyopathy         NaN   \n",
       "157            IGF2-related Beckwith-Wiedemann syndrome         NaN   \n",
       "216   PIK3CA-related overgrowth spectrum disorder wi...         NaN   \n",
       "...                                                 ...         ...   \n",
       "3143                    RPE65-related retinal dystrophy         NaN   \n",
       "3153     MYO6-related nonsyndromic genetic hearing loss         NaN   \n",
       "3154     MYO6-related nonsyndromic genetic hearing loss         NaN   \n",
       "3155                            CDC14A-related deafness         NaN   \n",
       "3179      SOX10-related Kallmann syndrome with deafness         NaN   \n",
       "\n",
       "     disease_MONDO    allelic_requirement  \\\n",
       "69             NaN    biallelic_autosomal   \n",
       "77             NaN  monoallelic_autosomal   \n",
       "78             NaN  monoallelic_autosomal   \n",
       "157            NaN  monoallelic_autosomal   \n",
       "216            NaN  monoallelic_autosomal   \n",
       "...            ...                    ...   \n",
       "3143           NaN  monoallelic_autosomal   \n",
       "3153           NaN    biallelic_autosomal   \n",
       "3154           NaN  monoallelic_autosomal   \n",
       "3155           NaN    biallelic_autosomal   \n",
       "3179           NaN  monoallelic_autosomal   \n",
       "\n",
       "                         cross_cutting_modifier  confidence  \\\n",
       "69                      restricted mutation set  definitive   \n",
       "77                                          NaN  definitive   \n",
       "78                                          NaN  definitive   \n",
       "157   imprinted region; restricted mutation set  definitive   \n",
       "216   typically mosaic; restricted mutation set  definitive   \n",
       "...                                         ...         ...   \n",
       "3143                                        NaN  definitive   \n",
       "3153                                        NaN  definitive   \n",
       "3154                                        NaN  definitive   \n",
       "3155                                        NaN      strong   \n",
       "3179                                        NaN  definitive   \n",
       "\n",
       "                                    variant_consequence  \\\n",
       "69    decreased gene product level; altered gene pro...   \n",
       "77    altered gene product level; decreased gene pro...   \n",
       "78                       altered gene product structure   \n",
       "157                      altered gene product structure   \n",
       "216                      altered gene product structure   \n",
       "...                                                 ...   \n",
       "3143                     altered gene product structure   \n",
       "3153  decreased gene product level; altered gene pro...   \n",
       "3154  decreased gene product level; altered gene pro...   \n",
       "3155                                absent gene product   \n",
       "3179                                absent gene product   \n",
       "\n",
       "                                          variant_types molecular_mechanism  \\\n",
       "69                                                  NaN        undetermined   \n",
       "77    stop_gained; frameshift_variant; missense_vari...        undetermined   \n",
       "78    splice_acceptor_variant_NMD_escaping; missense...        undetermined   \n",
       "157                                                 NaN    gain of function   \n",
       "216                                                 NaN    gain of function   \n",
       "...                                                 ...                 ...   \n",
       "3143  missense_variant; inframe_deletion; inframe_in...        undetermined   \n",
       "3153  stop_gained; frameshift_variant; splice_accept...        undetermined   \n",
       "3154  stop_gained; frameshift_variant; splice_accept...        undetermined   \n",
       "3155                                                NaN    loss of function   \n",
       "3179                                                NaN    loss of function   \n",
       "\n",
       "     molecular_mechanism_categorisation molecular_mechanism_evidence  \\\n",
       "69                             inferred                          NaN   \n",
       "77                             inferred                          NaN   \n",
       "78                             inferred                          NaN   \n",
       "157                            inferred                          NaN   \n",
       "216                            inferred                          NaN   \n",
       "...                                 ...                          ...   \n",
       "3143                           inferred                          NaN   \n",
       "3153                           inferred                          NaN   \n",
       "3154                           inferred                          NaN   \n",
       "3155                           inferred                          NaN   \n",
       "3179                           inferred                          NaN   \n",
       "\n",
       "                                             phenotypes  \\\n",
       "69                                                  NaN   \n",
       "77                                                  NaN   \n",
       "78                                                  NaN   \n",
       "157   HP:0001548; HP:0000269; HP:0002240; HP:0002667...   \n",
       "216   HP:0000494; HP:0001744; HP:0002667; HP:0001852...   \n",
       "...                                                 ...   \n",
       "3143                             HP:0001139; HP:0000556   \n",
       "3153                                                NaN   \n",
       "3154                                                NaN   \n",
       "3155                                                NaN   \n",
       "3179                                                NaN   \n",
       "\n",
       "                                           publications  \\\n",
       "69    30681346; 31254424; 1652892; 8094613; 7981676;...   \n",
       "77    17097056; 20022194; 25173926; 25224718; 275322...   \n",
       "78    19706596; 29907873; 30442288; 30898215; 317428...   \n",
       "157                                                 NaN   \n",
       "216                                  22658544; 22729224   \n",
       "...                                                 ...   \n",
       "3143                       27307694; 21654732; 29947567   \n",
       "3153   18348273; 23485424; 25999546; 12687499; 24105371   \n",
       "3154             18348273; 23485424; 25999546; 24105371   \n",
       "3155                                           27259055   \n",
       "3179                                           23643381   \n",
       "\n",
       "                                            panel  \\\n",
       "69                              Cardiac disorders   \n",
       "77                              Cardiac disorders   \n",
       "78                              Cardiac disorders   \n",
       "157   Developmental disorders; Skeletal disorders   \n",
       "216   Developmental disorders; Skeletal disorders   \n",
       "...                                           ...   \n",
       "3143                                Eye disorders   \n",
       "3153                                          Ear   \n",
       "3154                                          Ear   \n",
       "3155                                          Ear   \n",
       "3179                                          Ear   \n",
       "\n",
       "                                               comments  \\\n",
       "69    Pompe disease is inherited as an autosomal rec...   \n",
       "77    Pathogenic variants in ACTN2 are definitively ...   \n",
       "78    Pathogenic variants in FHOD3 are definitively ...   \n",
       "157                                                 NaN   \n",
       "216                                                 NaN   \n",
       "...                                                 ...   \n",
       "3143                                                NaN   \n",
       "3153                                                NaN   \n",
       "3154                                                NaN   \n",
       "3155                                                NaN   \n",
       "3179                                                NaN   \n",
       "\n",
       "           date_of_last_review  \\\n",
       "69   2024-03-26 10:53:54+00:00   \n",
       "77   2025-03-07 13:46:46+00:00   \n",
       "78   2025-03-07 13:48:22+00:00   \n",
       "157  2023-05-24 09:07:28+00:00   \n",
       "216  2024-12-11 11:40:22+00:00   \n",
       "...                        ...   \n",
       "3143 2019-10-30 14:45:12+00:00   \n",
       "3153 2024-11-28 14:52:17+00:00   \n",
       "3154 2024-11-28 14:47:17+00:00   \n",
       "3155 2025-04-08 17:02:31+00:00   \n",
       "3179 2025-04-28 10:21:28+00:00   \n",
       "\n",
       "                                         g2p_record_url  \n",
       "69    https://www.ebi.ac.uk/gene2phenotype/lgd/G2P03445  \n",
       "77    https://www.ebi.ac.uk/gene2phenotype/lgd/G2P03717  \n",
       "78    https://www.ebi.ac.uk/gene2phenotype/lgd/G2P03718  \n",
       "157   https://www.ebi.ac.uk/gene2phenotype/lgd/G2P00448  \n",
       "216   https://www.ebi.ac.uk/gene2phenotype/lgd/G2P00872  \n",
       "...                                                 ...  \n",
       "3143  https://www.ebi.ac.uk/gene2phenotype/lgd/G2P02826  \n",
       "3153  https://www.ebi.ac.uk/gene2phenotype/lgd/G2P03582  \n",
       "3154  https://www.ebi.ac.uk/gene2phenotype/lgd/G2P03583  \n",
       "3155  https://www.ebi.ac.uk/gene2phenotype/lgd/G2P01747  \n",
       "3179  https://www.ebi.ac.uk/gene2phenotype/lgd/G2P01852  \n",
       "\n",
       "[248 rows x 22 columns]"
      ]
     },
     "execution_count": 39,
     "metadata": {},
     "output_type": "execute_result"
    }
   ],
   "source": [
    "df[df[\"disease_mim\"].isna() & df[\"disease_MONDO\"].isna()]"
   ]
  },
  {
   "cell_type": "code",
   "execution_count": 40,
   "id": "7451392e",
   "metadata": {
    "ExecuteTime": {
     "end_time": "2025-07-23T21:47:36.993941Z",
     "start_time": "2025-07-23T21:47:36.983066Z"
    }
   },
   "outputs": [
    {
     "data": {
      "text/plain": [
       "248"
      ]
     },
     "execution_count": 40,
     "metadata": {},
     "output_type": "execute_result"
    },
    {
     "data": {
      "text/plain": [
       "243"
      ]
     },
     "execution_count": 40,
     "metadata": {},
     "output_type": "execute_result"
    }
   ],
   "source": [
    "## saving stats on data with no disease IDs\n",
    "\n",
    "stats_no_disease_IDs = {\n",
    "    \"n_rows\": df[df[\"disease_mim\"].isna() & df[\"disease_MONDO\"].isna()].shape[0],\n",
    "    \"n_names\": len(df[df[\"disease_mim\"].isna() & df[\"disease_MONDO\"].isna()][\"disease_name\"].unique())\n",
    "}\n",
    "\n",
    "stats_no_disease_IDs[\"n_rows\"]\n",
    "stats_no_disease_IDs[\"n_names\"]"
   ]
  },
  {
   "cell_type": "markdown",
   "id": "b7a750dc",
   "metadata": {},
   "source": [
    "#### OMIM/orphanet"
   ]
  },
  {
   "cell_type": "markdown",
   "id": "4a12fa8f",
   "metadata": {},
   "source": [
    "__Running OMIM/orphanet IDs through NodeNorm__\n",
    "\n",
    "Catching mapping failures for later stats report\n",
    "\n",
    "Pasted, adjusted from HGNC code blocks above."
   ]
  },
  {
   "cell_type": "code",
   "execution_count": 41,
   "id": "619356be",
   "metadata": {
    "ExecuteTime": {
     "end_time": "2025-07-23T21:47:49.068286Z",
     "start_time": "2025-07-23T21:47:49.062562Z"
    }
   },
   "outputs": [
    {
     "data": {
      "text/plain": [
       "2552"
      ]
     },
     "execution_count": 41,
     "metadata": {},
     "output_type": "execute_result"
    }
   ],
   "source": [
    "## put into parser (format): DONE\n",
    "\n",
    "## get set of unique CURIEs to put into NodeNorm\n",
    "disease_OmOr = df[\"disease_mim\"].dropna().unique()\n",
    "len(disease_OmOr)"
   ]
  },
  {
   "cell_type": "code",
   "execution_count": 42,
   "id": "1400dd55",
   "metadata": {
    "ExecuteTime": {
     "end_time": "2025-07-23T21:47:50.056482Z",
     "start_time": "2025-07-23T21:47:50.053555Z"
    }
   },
   "outputs": [],
   "source": [
    "## put into parser (format): DONE\n",
    "\n",
    "OmOr_nodenorm_mapping = {}\n",
    "\n",
    "## set up variables to catch mapping failures\n",
    "stats_OmOr_mapping_failures = {\n",
    "    \"unexpected_error\": {},\n",
    "    \"nodenorm_returned_none\": [],\n",
    "    \"wrong_category\": {},\n",
    "    \"no_label\": []\n",
    "    \n",
    "}"
   ]
  },
  {
   "cell_type": "code",
   "execution_count": 43,
   "id": "858b6f93",
   "metadata": {
    "ExecuteTime": {
     "end_time": "2025-07-23T21:48:00.130645Z",
     "start_time": "2025-07-23T21:47:52.338622Z"
    }
   },
   "outputs": [],
   "source": [
    "## put into parser (format): DONE\n",
    "\n",
    "## larger batches are quicker\n",
    "for batch in batched(disease_OmOr, 1000):\n",
    "    ## returns tuples -> cast to list\n",
    "    req_body = {\n",
    "        \"curies\": list(batch),\n",
    "        \"conflate\": True,\n",
    "    }\n",
    "    r = requests.post(nodenorm_url, json=req_body)\n",
    "    response = r.json()\n",
    "    \n",
    "    ## not doing dict comprehension. allows easier review, logic writing\n",
    "    for k,v in response.items():\n",
    "        ## catch unexpected errors\n",
    "        try:\n",
    "            ## if NodeNorm didn't have info on this ID, v will be None\n",
    "            if v is not None:\n",
    "                ## don't keep mapping if category is not the expected one\n",
    "                if v[\"type\"][0] == \"biolink:Disease\":\n",
    "                    ## also throw out mapping if no primary label found\n",
    "                    if v[\"id\"].get(\"label\"):\n",
    "                        temp = {\n",
    "                            k: {\"primary_id\": v[\"id\"][\"identifier\"],\n",
    "                                \"primary_label\": v[\"id\"][\"label\"]\n",
    "                               }\n",
    "                        }\n",
    "                        OmOr_nodenorm_mapping.update(temp)\n",
    "                    else:\n",
    "                        stats_OmOr_mapping_failures[\"no_label\"].append(k)\n",
    "#                         print(f\"{k}: NodeNorm didn't find primary label. Not keeping this mapping.\")\n",
    "                else:\n",
    "                    stats_OmOr_mapping_failures[\"wrong_category\"].update({k: v[\"type\"][0]})\n",
    "#                     print(f'{k}: NodeNorm found different category {v[\"type\"][0]}. Not keeping this mapping.')\n",
    "            else:\n",
    "                stats_OmOr_mapping_failures[\"nodenorm_returned_none\"].append(k)\n",
    "#                 print(f\"{k}: NodeNorm didn't recognize this ID\")\n",
    "        except:\n",
    "            stats_OmOr_mapping_failures[\"unexpected_error\"].update({k: v})\n",
    "            print(f'Encountered an unexpected error.')\n",
    "            print(f'NodeNorm response key: {k}')\n",
    "            print(f'NodeNorm response value: {v}')"
   ]
  },
  {
   "cell_type": "code",
   "execution_count": 44,
   "id": "a772ebfd",
   "metadata": {
    "ExecuteTime": {
     "end_time": "2025-07-23T21:48:00.140620Z",
     "start_time": "2025-07-23T21:48:00.133946Z"
    }
   },
   "outputs": [],
   "source": [
    "## put into parser (format): DONE\n",
    "\n",
    "## calculate stats: number of rows affected by each type of mapping failure\n",
    "stats_OmOr_mapping_failures.update({\n",
    "    \"n_rows_none\": df[df[\"disease_mim\"].isin(stats_OmOr_mapping_failures[\"nodenorm_returned_none\"])].shape[0],\n",
    "    \"n_rows_wrong_category\": df[df[\"disease_mim\"].isin(stats_OmOr_mapping_failures[\"wrong_category\"].keys())].shape[0],\n",
    "    \"n_rows_no_label\": df[df[\"disease_mim\"].isin(stats_OmOr_mapping_failures[\"no_label\"])].shape[0]\n",
    "})"
   ]
  },
  {
   "cell_type": "code",
   "execution_count": 45,
   "id": "2e81d56b",
   "metadata": {
    "ExecuteTime": {
     "end_time": "2025-07-23T21:48:00.153229Z",
     "start_time": "2025-07-23T21:48:00.143319Z"
    }
   },
   "outputs": [
    {
     "data": {
      "text/plain": [
       "2544"
      ]
     },
     "execution_count": 45,
     "metadata": {},
     "output_type": "execute_result"
    },
    {
     "data": {
      "text/plain": [
       "{}"
      ]
     },
     "execution_count": 45,
     "metadata": {},
     "output_type": "execute_result"
    },
    {
     "data": {
      "text/plain": [
       "4"
      ]
     },
     "execution_count": 45,
     "metadata": {},
     "output_type": "execute_result"
    },
    {
     "data": {
      "text/plain": [
       "3"
      ]
     },
     "execution_count": 45,
     "metadata": {},
     "output_type": "execute_result"
    },
    {
     "data": {
      "text/plain": [
       "1"
      ]
     },
     "execution_count": 45,
     "metadata": {},
     "output_type": "execute_result"
    }
   ],
   "source": [
    "len(OmOr_nodenorm_mapping)\n",
    "\n",
    "stats_OmOr_mapping_failures[\"unexpected_error\"]\n",
    "\n",
    "len(stats_OmOr_mapping_failures[\"nodenorm_returned_none\"])\n",
    "len(stats_OmOr_mapping_failures[\"wrong_category\"])\n",
    "len(stats_OmOr_mapping_failures[\"no_label\"])"
   ]
  },
  {
   "cell_type": "code",
   "execution_count": 46,
   "id": "77af9e52",
   "metadata": {
    "ExecuteTime": {
     "end_time": "2025-07-23T21:50:22.349408Z",
     "start_time": "2025-07-23T21:50:22.340891Z"
    }
   },
   "outputs": [
    {
     "data": {
      "text/plain": [
       "['OMIM:601884', 'OMIM:133701', 'OMIM:133700', 'OMIM:150800']"
      ]
     },
     "execution_count": 46,
     "metadata": {},
     "output_type": "execute_result"
    },
    {
     "data": {
      "text/plain": [
       "{'OMIM:188400': 'biolink:Gene',\n",
       " 'OMIM:123580': 'biolink:Gene',\n",
       " 'OMIM:300204': 'biolink:Gene'}"
      ]
     },
     "execution_count": 46,
     "metadata": {},
     "output_type": "execute_result"
    },
    {
     "data": {
      "text/plain": [
       "['OMIM:621034']"
      ]
     },
     "execution_count": 46,
     "metadata": {},
     "output_type": "execute_result"
    }
   ],
   "source": [
    "## code used to review mapping failures \n",
    "\n",
    "stats_OmOr_mapping_failures[\"nodenorm_returned_none\"]\n",
    "\n",
    "stats_OmOr_mapping_failures[\"wrong_category\"]\n",
    "\n",
    "stats_OmOr_mapping_failures[\"no_label\"]"
   ]
  },
  {
   "cell_type": "code",
   "execution_count": 48,
   "id": "fa7539a8",
   "metadata": {
    "ExecuteTime": {
     "end_time": "2025-07-24T06:38:28.638870Z",
     "start_time": "2025-07-24T06:38:28.619921Z"
    }
   },
   "outputs": [
    {
     "data": {
      "text/html": [
       "<div>\n",
       "<style scoped>\n",
       "    .dataframe tbody tr th:only-of-type {\n",
       "        vertical-align: middle;\n",
       "    }\n",
       "\n",
       "    .dataframe tbody tr th {\n",
       "        vertical-align: top;\n",
       "    }\n",
       "\n",
       "    .dataframe thead th {\n",
       "        text-align: right;\n",
       "    }\n",
       "</style>\n",
       "<table border=\"1\" class=\"dataframe\">\n",
       "  <thead>\n",
       "    <tr style=\"text-align: right;\">\n",
       "      <th></th>\n",
       "      <th>g2p_id</th>\n",
       "      <th>gene_symbol</th>\n",
       "      <th>gene_mim</th>\n",
       "      <th>hgnc_id</th>\n",
       "      <th>previous_gene_symbols</th>\n",
       "      <th>disease_name</th>\n",
       "      <th>disease_mim</th>\n",
       "      <th>disease_MONDO</th>\n",
       "      <th>allelic_requirement</th>\n",
       "      <th>cross_cutting_modifier</th>\n",
       "      <th>confidence</th>\n",
       "      <th>variant_consequence</th>\n",
       "      <th>variant_types</th>\n",
       "      <th>molecular_mechanism</th>\n",
       "      <th>molecular_mechanism_categorisation</th>\n",
       "      <th>molecular_mechanism_evidence</th>\n",
       "      <th>phenotypes</th>\n",
       "      <th>publications</th>\n",
       "      <th>panel</th>\n",
       "      <th>comments</th>\n",
       "      <th>date_of_last_review</th>\n",
       "      <th>g2p_record_url</th>\n",
       "    </tr>\n",
       "  </thead>\n",
       "  <tbody>\n",
       "    <tr>\n",
       "      <th>162</th>\n",
       "      <td>G2P00486</td>\n",
       "      <td>EXT2</td>\n",
       "      <td>OMIM:608210</td>\n",
       "      <td>HGNC:3513</td>\n",
       "      <td>SOTV</td>\n",
       "      <td>EXT2-related multiple exostoses</td>\n",
       "      <td>OMIM:133701</td>\n",
       "      <td>MONDO:0007586</td>\n",
       "      <td>monoallelic_autosomal</td>\n",
       "      <td>NaN</td>\n",
       "      <td>definitive</td>\n",
       "      <td>absent gene product</td>\n",
       "      <td>NaN</td>\n",
       "      <td>loss of function</td>\n",
       "      <td>inferred</td>\n",
       "      <td>NaN</td>\n",
       "      <td>HP:0004322; HP:0003276; HP:0000006; HP:0002812...</td>\n",
       "      <td>9326317</td>\n",
       "      <td>Developmental disorders; Cancer disorders; Ske...</td>\n",
       "      <td>NaN</td>\n",
       "      <td>2023-05-24 09:07:28+00:00</td>\n",
       "      <td>https://www.ebi.ac.uk/gene2phenotype/lgd/G2P00486</td>\n",
       "    </tr>\n",
       "  </tbody>\n",
       "</table>\n",
       "</div>"
      ],
      "text/plain": [
       "       g2p_id gene_symbol     gene_mim    hgnc_id previous_gene_symbols  \\\n",
       "162  G2P00486        EXT2  OMIM:608210  HGNC:3513                  SOTV   \n",
       "\n",
       "                        disease_name  disease_mim  disease_MONDO  \\\n",
       "162  EXT2-related multiple exostoses  OMIM:133701  MONDO:0007586   \n",
       "\n",
       "       allelic_requirement cross_cutting_modifier  confidence  \\\n",
       "162  monoallelic_autosomal                    NaN  definitive   \n",
       "\n",
       "     variant_consequence variant_types molecular_mechanism  \\\n",
       "162  absent gene product           NaN    loss of function   \n",
       "\n",
       "    molecular_mechanism_categorisation molecular_mechanism_evidence  \\\n",
       "162                           inferred                          NaN   \n",
       "\n",
       "                                            phenotypes publications  \\\n",
       "162  HP:0004322; HP:0003276; HP:0000006; HP:0002812...      9326317   \n",
       "\n",
       "                                                 panel comments  \\\n",
       "162  Developmental disorders; Cancer disorders; Ske...      NaN   \n",
       "\n",
       "          date_of_last_review  \\\n",
       "162 2023-05-24 09:07:28+00:00   \n",
       "\n",
       "                                        g2p_record_url  \n",
       "162  https://www.ebi.ac.uk/gene2phenotype/lgd/G2P00486  "
      ]
     },
     "execution_count": 48,
     "metadata": {},
     "output_type": "execute_result"
    }
   ],
   "source": [
    "## code used to review mapping failures \n",
    "\n",
    "df[df[\"disease_mim\"] == \"OMIM:133701\"]"
   ]
  },
  {
   "cell_type": "markdown",
   "id": "37f7b761",
   "metadata": {},
   "source": [
    "<div class=\"alert alert-block alert-info\">\n",
    "\n",
    "**Update 2025-06-27: Fewer mapping failures!**\n",
    "    \n",
    "4 cases where NodeNorm returned None: \n",
    "* OMIM:601884 - [valid ID](https://omim.org/entry/601884), but it doesn't seem to be a disease (previously reviewed, reported to EBI gene2pheno, NodeNorm)\n",
    "* OMIM:133701 - [valid disease ID](https://omim.org/entry/133701), NodeNorm issue\n",
    "* OMIM:133700 - [valid disease ID](https://omim.org/entry/133700), NodeNorm issue (previously reviewed, reported)\n",
    "* OMIM:150800 - [valid disease ID](https://omim.org/entry/150800), NodeNorm issue\n",
    "\n",
    "   \n",
    "3 cases where NodeNorm category was something else (currently, always Gene): \n",
    "* OMIM:188400 - [valid disease ID](https://omim.org/entry/188400), NodeNorm error (previously reviewed, reported)\n",
    "* OMIM:123580 - [confirmed to be a gene ID](https://omim.org/entry/123580), EBI gene2pheno error\n",
    "* OMIM:300204 - [confirmed to be a gene ID](https://omim.org/entry/300204), EBI gene2pheno error\n",
    "    \n",
    "    \n",
    "1 case where NodeNorm didn't have a primary label: \n",
    "* OMIM:621034 - [valid disease ID](https://omim.org/entry/621034), NodeNorm error"
   ]
  },
  {
   "cell_type": "markdown",
   "id": "9048bf0b",
   "metadata": {},
   "source": [
    "<div class=\"alert alert-block alert-success\">\n",
    "\n",
    "**POSSIBLE REVISIT**: Could re-analyze disease_MONDO column data to see if it's more reliable. \n",
    "    \n",
    "**2025-03-28 data:** \n",
    "    \n",
    "I decided <b>not to try using MONDO mappings when the OMIM mapping failed</b>, because there's only a few cases where those rows even have MONDO IDs to use. "
   ]
  },
  {
   "cell_type": "code",
   "execution_count": 50,
   "id": "98f75765",
   "metadata": {
    "ExecuteTime": {
     "end_time": "2025-07-24T06:46:43.293354Z",
     "start_time": "2025-07-24T06:46:43.271652Z"
    }
   },
   "outputs": [
    {
     "data": {
      "text/plain": [
       "(2, 22)"
      ]
     },
     "execution_count": 50,
     "metadata": {},
     "output_type": "execute_result"
    },
    {
     "data": {
      "text/plain": [
       "(0, 22)"
      ]
     },
     "execution_count": 50,
     "metadata": {},
     "output_type": "execute_result"
    },
    {
     "data": {
      "text/plain": [
       "(0, 22)"
      ]
     },
     "execution_count": 50,
     "metadata": {},
     "output_type": "execute_result"
    }
   ],
   "source": [
    "## code used to check how many rows have OMIM failure + MONDO ID \n",
    "\n",
    "df[df[\"disease_mim\"].isin(stats_OmOr_mapping_failures[\"nodenorm_returned_none\"]) & \n",
    "   df[\"disease_MONDO\"].notna()].shape\n",
    "\n",
    "df[df[\"disease_mim\"].isin(stats_OmOr_mapping_failures[\"wrong_category\"].keys()) & \n",
    "   df[\"disease_MONDO\"].notna()].shape\n",
    "\n",
    "df[df[\"disease_mim\"].isin(stats_OmOr_mapping_failures[\"no_label\"]) & \n",
    "   df[\"disease_MONDO\"].notna()].shape"
   ]
  },
  {
   "cell_type": "markdown",
   "id": "913e54f4",
   "metadata": {},
   "source": [
    "#### MONDO"
   ]
  },
  {
   "cell_type": "markdown",
   "id": "b0ddd6ee",
   "metadata": {},
   "source": [
    "__Running MONDO IDs through NodeNorm__\n",
    "\n",
    "Catching potential mapping failures for later stats report\n",
    "\n",
    "Pasted, adjusted from Disease OMIM/orphanet code blocks above."
   ]
  },
  {
   "cell_type": "code",
   "execution_count": 51,
   "id": "c920a622",
   "metadata": {
    "ExecuteTime": {
     "end_time": "2025-07-24T06:47:36.115053Z",
     "start_time": "2025-07-24T06:47:36.110172Z"
    }
   },
   "outputs": [
    {
     "data": {
      "text/plain": [
       "1735"
      ]
     },
     "execution_count": 51,
     "metadata": {},
     "output_type": "execute_result"
    }
   ],
   "source": [
    "## get set of unique CURIEs to put into NodeNorm\n",
    "mondo = df[\"disease_MONDO\"].dropna().unique()\n",
    "len(mondo)"
   ]
  },
  {
   "cell_type": "code",
   "execution_count": 52,
   "id": "673d2dca",
   "metadata": {
    "ExecuteTime": {
     "end_time": "2025-07-24T06:47:38.470401Z",
     "start_time": "2025-07-24T06:47:38.467441Z"
    }
   },
   "outputs": [],
   "source": [
    "mondo_nodenorm_mapping = {}\n",
    "\n",
    "## set up variables to catch mapping failures\n",
    "stats_mondo_mapping_failures = {\n",
    "    \"unexpected_error\": {},\n",
    "    \"nodenorm_returned_none\": [],\n",
    "    \"wrong_category\": {},\n",
    "    \"no_label\": []\n",
    "    \n",
    "}"
   ]
  },
  {
   "cell_type": "code",
   "execution_count": 53,
   "id": "747ab750",
   "metadata": {
    "ExecuteTime": {
     "end_time": "2025-07-24T06:47:45.522076Z",
     "start_time": "2025-07-24T06:47:40.898107Z"
    }
   },
   "outputs": [],
   "source": [
    "## larger batches are quicker\n",
    "for batch in batched(mondo, 1000):\n",
    "    ## returns tuples -> cast to list\n",
    "    req_body = {\n",
    "        \"curies\": list(batch),\n",
    "        \"conflate\": True,\n",
    "    }\n",
    "    r = requests.post(nodenorm_url, json=req_body)\n",
    "    response = r.json()\n",
    "    \n",
    "    ## not doing dict comprehension. allows easier review, logic writing\n",
    "    for k,v in response.items():\n",
    "        ## catch unexpected errors\n",
    "        try:\n",
    "            ## if NodeNorm didn't have info on this ID, v will be None\n",
    "            if v is not None:\n",
    "                ## don't keep mapping if category is not the expected one\n",
    "                if v[\"type\"][0] == \"biolink:Disease\":\n",
    "                    ## also throw out mapping if no primary label found\n",
    "                    if v[\"id\"].get(\"label\"):\n",
    "                        temp = {\n",
    "                            k: {\"primary_id\": v[\"id\"][\"identifier\"],\n",
    "                                \"primary_label\": v[\"id\"][\"label\"]\n",
    "                               }\n",
    "                        }\n",
    "                        mondo_nodenorm_mapping.update(temp)\n",
    "                    else:\n",
    "                        stats_mondo_mapping_failures[\"no_label\"].append(k)\n",
    "#                         print(f\"{k}: NodeNorm didn't find primary label. Not keeping this mapping.\")\n",
    "                else:\n",
    "                    stats_mondo_mapping_failures[\"wrong_category\"].update({k: v[\"type\"][0]})\n",
    "#                     print(f'{k}: NodeNorm found different category {v[\"type\"][0]}. Not keeping this mapping.')\n",
    "            else:\n",
    "                stats_mondo_mapping_failures[\"nodenorm_returned_none\"].append(k)\n",
    "#                 print(f\"{k}: NodeNorm didn't recognize this ID\")\n",
    "        except:\n",
    "            stats_mondo_mapping_failures[\"unexpected_error\"].update({k: v})\n",
    "            print(f'Encountered an unexpected error.')\n",
    "            print(f'NodeNorm response key: {k}')\n",
    "            print(f'NodeNorm response value: {v}')"
   ]
  },
  {
   "cell_type": "code",
   "execution_count": 54,
   "id": "ed2380a5",
   "metadata": {
    "ExecuteTime": {
     "end_time": "2025-07-24T06:47:45.530956Z",
     "start_time": "2025-07-24T06:47:45.525043Z"
    }
   },
   "outputs": [
    {
     "data": {
      "text/plain": [
       "1734"
      ]
     },
     "execution_count": 54,
     "metadata": {},
     "output_type": "execute_result"
    },
    {
     "data": {
      "text/plain": [
       "{'unexpected_error': {},\n",
       " 'nodenorm_returned_none': ['MONDO:0976124'],\n",
       " 'wrong_category': {},\n",
       " 'no_label': []}"
      ]
     },
     "execution_count": 54,
     "metadata": {},
     "output_type": "execute_result"
    }
   ],
   "source": [
    "len(mondo_nodenorm_mapping)\n",
    "\n",
    "stats_mondo_mapping_failures"
   ]
  },
  {
   "cell_type": "markdown",
   "id": "cf6ff618",
   "metadata": {},
   "source": [
    "**2025-06-27:**\n",
    "\n",
    "[MONDO:0976124](https://monarchinitiative.org/MONDO:0976124) is a valid disease ID, so this is a NodeNorm issue. "
   ]
  },
  {
   "cell_type": "code",
   "execution_count": 52,
   "id": "71d34d39",
   "metadata": {
    "ExecuteTime": {
     "end_time": "2025-07-18T09:34:45.107777Z",
     "start_time": "2025-07-18T09:34:45.090575Z"
    }
   },
   "outputs": [
    {
     "data": {
      "text/html": [
       "<div>\n",
       "<style scoped>\n",
       "    .dataframe tbody tr th:only-of-type {\n",
       "        vertical-align: middle;\n",
       "    }\n",
       "\n",
       "    .dataframe tbody tr th {\n",
       "        vertical-align: top;\n",
       "    }\n",
       "\n",
       "    .dataframe thead th {\n",
       "        text-align: right;\n",
       "    }\n",
       "</style>\n",
       "<table border=\"1\" class=\"dataframe\">\n",
       "  <thead>\n",
       "    <tr style=\"text-align: right;\">\n",
       "      <th></th>\n",
       "      <th>g2p_id</th>\n",
       "      <th>gene_symbol</th>\n",
       "      <th>gene_mim</th>\n",
       "      <th>hgnc_id</th>\n",
       "      <th>previous_gene_symbols</th>\n",
       "      <th>disease_name</th>\n",
       "      <th>disease_mim</th>\n",
       "      <th>disease_MONDO</th>\n",
       "      <th>allelic_requirement</th>\n",
       "      <th>cross_cutting_modifier</th>\n",
       "      <th>confidence</th>\n",
       "      <th>variant_consequence</th>\n",
       "      <th>variant_types</th>\n",
       "      <th>molecular_mechanism</th>\n",
       "      <th>molecular_mechanism_categorisation</th>\n",
       "      <th>molecular_mechanism_evidence</th>\n",
       "      <th>phenotypes</th>\n",
       "      <th>publications</th>\n",
       "      <th>panel</th>\n",
       "      <th>comments</th>\n",
       "      <th>date_of_last_review</th>\n",
       "      <th>g2p_record_url</th>\n",
       "    </tr>\n",
       "  </thead>\n",
       "  <tbody>\n",
       "    <tr>\n",
       "      <th>2817</th>\n",
       "      <td>G2P03584</td>\n",
       "      <td>TCP1</td>\n",
       "      <td>OMIM:186980</td>\n",
       "      <td>HGNC:11655</td>\n",
       "      <td>CCT1; CCTA; D6S230E</td>\n",
       "      <td>TCP1-related neurodevelopmental disorder with ...</td>\n",
       "      <td>NaN</td>\n",
       "      <td>MONDO:0976124</td>\n",
       "      <td>monoallelic_autosomal</td>\n",
       "      <td>typically de novo</td>\n",
       "      <td>moderate</td>\n",
       "      <td>decreased gene product level; absent gene prod...</td>\n",
       "      <td>missense_variant; stop_gained; frameshift_variant</td>\n",
       "      <td>loss of function</td>\n",
       "      <td>evidence</td>\n",
       "      <td>39480921 -&gt; functional_alteration: non patient...</td>\n",
       "      <td>NaN</td>\n",
       "      <td>39480921</td>\n",
       "      <td>Developmental disorders</td>\n",
       "      <td>Gene also known as CCT1.</td>\n",
       "      <td>2025-02-27 15:14:14+00:00</td>\n",
       "      <td>https://www.ebi.ac.uk/gene2phenotype/lgd/G2P03584</td>\n",
       "    </tr>\n",
       "  </tbody>\n",
       "</table>\n",
       "</div>"
      ],
      "text/plain": [
       "        g2p_id gene_symbol     gene_mim     hgnc_id previous_gene_symbols  \\\n",
       "2817  G2P03584        TCP1  OMIM:186980  HGNC:11655   CCT1; CCTA; D6S230E   \n",
       "\n",
       "                                           disease_name disease_mim  \\\n",
       "2817  TCP1-related neurodevelopmental disorder with ...         NaN   \n",
       "\n",
       "      disease_MONDO    allelic_requirement cross_cutting_modifier confidence  \\\n",
       "2817  MONDO:0976124  monoallelic_autosomal      typically de novo   moderate   \n",
       "\n",
       "                                    variant_consequence  \\\n",
       "2817  decreased gene product level; absent gene prod...   \n",
       "\n",
       "                                          variant_types molecular_mechanism  \\\n",
       "2817  missense_variant; stop_gained; frameshift_variant    loss of function   \n",
       "\n",
       "     molecular_mechanism_categorisation  \\\n",
       "2817                           evidence   \n",
       "\n",
       "                           molecular_mechanism_evidence phenotypes  \\\n",
       "2817  39480921 -> functional_alteration: non patient...        NaN   \n",
       "\n",
       "     publications                    panel                  comments  \\\n",
       "2817     39480921  Developmental disorders  Gene also known as CCT1.   \n",
       "\n",
       "           date_of_last_review  \\\n",
       "2817 2025-02-27 15:14:14+00:00   \n",
       "\n",
       "                                         g2p_record_url  \n",
       "2817  https://www.ebi.ac.uk/gene2phenotype/lgd/G2P03584  "
      ]
     },
     "execution_count": 52,
     "metadata": {},
     "output_type": "execute_result"
    }
   ],
   "source": [
    "df[df[\"disease_MONDO\"] == \"MONDO:0976124\"]"
   ]
  },
  {
   "cell_type": "markdown",
   "id": "f900c94a",
   "metadata": {},
   "source": [
    "#### Comparing OMIM/orphanet vs MONDO"
   ]
  },
  {
   "cell_type": "markdown",
   "id": "549a9088",
   "metadata": {},
   "source": [
    "**POSSIBLE REVISIT**: Could re-analyze disease_MONDO column data to see if it's more reliable. "
   ]
  },
  {
   "cell_type": "code",
   "execution_count": null,
   "id": "b769ed04",
   "metadata": {},
   "outputs": [],
   "source": [
    "\n",
    "\n",
    "## if row has both IDs, look for diff in mappings from each ID\n",
    "\n",
    "## list of tuples (omim/orpha, mondo)\n",
    "mismatches = []\n",
    "\n",
    "for row in df[[\"disease_mim\", \"disease_MONDO\"]].itertuples(index=False):\n",
    "    ## has both IDs\n",
    "    if pd.notna(row.disease_mim) and pd.notna(row.disease_MONDO):\n",
    "        ## if have NodeNorm mappings for both\n",
    "        if OmOr_nodenorm_mapping.get(row.disease_mim) and \\\n",
    "        mondo_nodenorm_mapping.get(row.disease_MONDO):\n",
    "            ## check if mappings are diff\n",
    "            if OmOr_nodenorm_mapping[row.disease_mim][\"primary_id\"] != \\\n",
    "            mondo_nodenorm_mapping[row.disease_MONDO][\"primary_id\"]:\n",
    "                mismatches.append((row.disease_mim, row.disease_MONDO))\n",
    "\n",
    "print(f\"There's {len(mismatches)} mismatches between the OMIM/orphanet and MONDO NodeNorm mappings.\")"
   ]
  },
  {
   "cell_type": "code",
   "execution_count": 57,
   "id": "d1e6d632",
   "metadata": {
    "ExecuteTime": {
     "end_time": "2025-07-24T06:49:17.494237Z",
     "start_time": "2025-07-24T06:49:17.489765Z"
    }
   },
   "outputs": [
    {
     "data": {
      "text/plain": [
       "('OMIM:300696', 'MONDO:0010680')"
      ]
     },
     "execution_count": 57,
     "metadata": {},
     "output_type": "execute_result"
    }
   ],
   "source": [
    "## code chunk to review mismatches 1 by 1\n",
    "mismatches[0]"
   ]
  },
  {
   "cell_type": "code",
   "execution_count": 58,
   "id": "67e5a562",
   "metadata": {
    "ExecuteTime": {
     "end_time": "2025-07-24T06:49:27.769912Z",
     "start_time": "2025-07-24T06:49:27.763818Z"
    }
   },
   "outputs": [
    {
     "data": {
      "text/plain": [
       "{'primary_id': 'MONDO:0010401',\n",
       " 'primary_label': 'X-linked myopathy with postural muscle atrophy'}"
      ]
     },
     "execution_count": 58,
     "metadata": {},
     "output_type": "execute_result"
    },
    {
     "data": {
      "text/plain": [
       "{'primary_id': 'MONDO:0010680',\n",
       " 'primary_label': 'X-linked Emery-Dreifuss muscular dystrophy'}"
      ]
     },
     "execution_count": 58,
     "metadata": {},
     "output_type": "execute_result"
    }
   ],
   "source": [
    "## code chunk to review mismatches 1 by 1\n",
    "\n",
    "OmOr_nodenorm_mapping[\"OMIM:300696\"]\n",
    "mondo_nodenorm_mapping[\"MONDO:0010680\"]"
   ]
  },
  {
   "cell_type": "code",
   "execution_count": 59,
   "id": "9523c561",
   "metadata": {
    "ExecuteTime": {
     "end_time": "2025-07-24T06:50:15.843919Z",
     "start_time": "2025-07-24T06:50:15.812684Z"
    },
    "scrolled": false
   },
   "outputs": [
    {
     "data": {
      "text/html": [
       "<div>\n",
       "<style scoped>\n",
       "    .dataframe tbody tr th:only-of-type {\n",
       "        vertical-align: middle;\n",
       "    }\n",
       "\n",
       "    .dataframe tbody tr th {\n",
       "        vertical-align: top;\n",
       "    }\n",
       "\n",
       "    .dataframe thead th {\n",
       "        text-align: right;\n",
       "    }\n",
       "</style>\n",
       "<table border=\"1\" class=\"dataframe\">\n",
       "  <thead>\n",
       "    <tr style=\"text-align: right;\">\n",
       "      <th></th>\n",
       "      <th>g2p_id</th>\n",
       "      <th>gene_symbol</th>\n",
       "      <th>gene_mim</th>\n",
       "      <th>hgnc_id</th>\n",
       "      <th>previous_gene_symbols</th>\n",
       "      <th>disease_name</th>\n",
       "      <th>disease_mim</th>\n",
       "      <th>disease_MONDO</th>\n",
       "      <th>allelic_requirement</th>\n",
       "      <th>cross_cutting_modifier</th>\n",
       "      <th>confidence</th>\n",
       "      <th>variant_consequence</th>\n",
       "      <th>variant_types</th>\n",
       "      <th>molecular_mechanism</th>\n",
       "      <th>molecular_mechanism_categorisation</th>\n",
       "      <th>molecular_mechanism_evidence</th>\n",
       "      <th>phenotypes</th>\n",
       "      <th>publications</th>\n",
       "      <th>panel</th>\n",
       "      <th>comments</th>\n",
       "      <th>date_of_last_review</th>\n",
       "      <th>g2p_record_url</th>\n",
       "    </tr>\n",
       "  </thead>\n",
       "  <tbody>\n",
       "    <tr>\n",
       "      <th>48</th>\n",
       "      <td>G2P03293</td>\n",
       "      <td>FHL1</td>\n",
       "      <td>OMIM:300163</td>\n",
       "      <td>HGNC:3702</td>\n",
       "      <td>BA535K18.1; FHL1B; FLH1A; KYO-T; MGC111107; SL...</td>\n",
       "      <td>FHL1-related Emery-Dreifuss muscular dystrophy</td>\n",
       "      <td>OMIM:300696</td>\n",
       "      <td>MONDO:0010680</td>\n",
       "      <td>monoallelic_X_hemizygous</td>\n",
       "      <td>NaN</td>\n",
       "      <td>definitive</td>\n",
       "      <td>decreased gene product level; absent gene prod...</td>\n",
       "      <td>stop_gained_NMD_escaping; missense_variant; fr...</td>\n",
       "      <td>loss of function</td>\n",
       "      <td>inferred</td>\n",
       "      <td>NaN</td>\n",
       "      <td>HP:0003691; HP:0003701; HP:0003704; HP:0001419...</td>\n",
       "      <td>18179888; 19687455; 30681346; 19716112; 201868...</td>\n",
       "      <td>Developmental disorders; Cardiac disorders</td>\n",
       "      <td>Expert review done on 12/01/2022; FHL1-related...</td>\n",
       "      <td>2024-03-26 10:33:21+00:00</td>\n",
       "      <td>https://www.ebi.ac.uk/gene2phenotype/lgd/G2P03293</td>\n",
       "    </tr>\n",
       "  </tbody>\n",
       "</table>\n",
       "</div>"
      ],
      "text/plain": [
       "      g2p_id gene_symbol     gene_mim    hgnc_id  \\\n",
       "48  G2P03293        FHL1  OMIM:300163  HGNC:3702   \n",
       "\n",
       "                                previous_gene_symbols  \\\n",
       "48  BA535K18.1; FHL1B; FLH1A; KYO-T; MGC111107; SL...   \n",
       "\n",
       "                                      disease_name  disease_mim  \\\n",
       "48  FHL1-related Emery-Dreifuss muscular dystrophy  OMIM:300696   \n",
       "\n",
       "    disease_MONDO       allelic_requirement cross_cutting_modifier  \\\n",
       "48  MONDO:0010680  monoallelic_X_hemizygous                    NaN   \n",
       "\n",
       "    confidence                                variant_consequence  \\\n",
       "48  definitive  decreased gene product level; absent gene prod...   \n",
       "\n",
       "                                        variant_types molecular_mechanism  \\\n",
       "48  stop_gained_NMD_escaping; missense_variant; fr...    loss of function   \n",
       "\n",
       "   molecular_mechanism_categorisation molecular_mechanism_evidence  \\\n",
       "48                           inferred                          NaN   \n",
       "\n",
       "                                           phenotypes  \\\n",
       "48  HP:0003691; HP:0003701; HP:0003704; HP:0001419...   \n",
       "\n",
       "                                         publications  \\\n",
       "48  18179888; 19687455; 30681346; 19716112; 201868...   \n",
       "\n",
       "                                         panel  \\\n",
       "48  Developmental disorders; Cardiac disorders   \n",
       "\n",
       "                                             comments  \\\n",
       "48  Expert review done on 12/01/2022; FHL1-related...   \n",
       "\n",
       "         date_of_last_review  \\\n",
       "48 2024-03-26 10:33:21+00:00   \n",
       "\n",
       "                                       g2p_record_url  \n",
       "48  https://www.ebi.ac.uk/gene2phenotype/lgd/G2P03293  "
      ]
     },
     "execution_count": 59,
     "metadata": {},
     "output_type": "execute_result"
    },
    {
     "data": {
      "text/html": [
       "<div>\n",
       "<style scoped>\n",
       "    .dataframe tbody tr th:only-of-type {\n",
       "        vertical-align: middle;\n",
       "    }\n",
       "\n",
       "    .dataframe tbody tr th {\n",
       "        vertical-align: top;\n",
       "    }\n",
       "\n",
       "    .dataframe thead th {\n",
       "        text-align: right;\n",
       "    }\n",
       "</style>\n",
       "<table border=\"1\" class=\"dataframe\">\n",
       "  <thead>\n",
       "    <tr style=\"text-align: right;\">\n",
       "      <th></th>\n",
       "      <th>g2p_id</th>\n",
       "      <th>gene_symbol</th>\n",
       "      <th>gene_mim</th>\n",
       "      <th>hgnc_id</th>\n",
       "      <th>previous_gene_symbols</th>\n",
       "      <th>disease_name</th>\n",
       "      <th>disease_mim</th>\n",
       "      <th>disease_MONDO</th>\n",
       "      <th>allelic_requirement</th>\n",
       "      <th>cross_cutting_modifier</th>\n",
       "      <th>confidence</th>\n",
       "      <th>variant_consequence</th>\n",
       "      <th>variant_types</th>\n",
       "      <th>molecular_mechanism</th>\n",
       "      <th>molecular_mechanism_categorisation</th>\n",
       "      <th>molecular_mechanism_evidence</th>\n",
       "      <th>phenotypes</th>\n",
       "      <th>publications</th>\n",
       "      <th>panel</th>\n",
       "      <th>comments</th>\n",
       "      <th>date_of_last_review</th>\n",
       "      <th>g2p_record_url</th>\n",
       "    </tr>\n",
       "  </thead>\n",
       "  <tbody>\n",
       "    <tr>\n",
       "      <th>48</th>\n",
       "      <td>G2P03293</td>\n",
       "      <td>FHL1</td>\n",
       "      <td>OMIM:300163</td>\n",
       "      <td>HGNC:3702</td>\n",
       "      <td>BA535K18.1; FHL1B; FLH1A; KYO-T; MGC111107; SL...</td>\n",
       "      <td>FHL1-related Emery-Dreifuss muscular dystrophy</td>\n",
       "      <td>OMIM:300696</td>\n",
       "      <td>MONDO:0010680</td>\n",
       "      <td>monoallelic_X_hemizygous</td>\n",
       "      <td>NaN</td>\n",
       "      <td>definitive</td>\n",
       "      <td>decreased gene product level; absent gene prod...</td>\n",
       "      <td>stop_gained_NMD_escaping; missense_variant; fr...</td>\n",
       "      <td>loss of function</td>\n",
       "      <td>inferred</td>\n",
       "      <td>NaN</td>\n",
       "      <td>HP:0003691; HP:0003701; HP:0003704; HP:0001419...</td>\n",
       "      <td>18179888; 19687455; 30681346; 19716112; 201868...</td>\n",
       "      <td>Developmental disorders; Cardiac disorders</td>\n",
       "      <td>Expert review done on 12/01/2022; FHL1-related...</td>\n",
       "      <td>2024-03-26 10:33:21+00:00</td>\n",
       "      <td>https://www.ebi.ac.uk/gene2phenotype/lgd/G2P03293</td>\n",
       "    </tr>\n",
       "  </tbody>\n",
       "</table>\n",
       "</div>"
      ],
      "text/plain": [
       "      g2p_id gene_symbol     gene_mim    hgnc_id  \\\n",
       "48  G2P03293        FHL1  OMIM:300163  HGNC:3702   \n",
       "\n",
       "                                previous_gene_symbols  \\\n",
       "48  BA535K18.1; FHL1B; FLH1A; KYO-T; MGC111107; SL...   \n",
       "\n",
       "                                      disease_name  disease_mim  \\\n",
       "48  FHL1-related Emery-Dreifuss muscular dystrophy  OMIM:300696   \n",
       "\n",
       "    disease_MONDO       allelic_requirement cross_cutting_modifier  \\\n",
       "48  MONDO:0010680  monoallelic_X_hemizygous                    NaN   \n",
       "\n",
       "    confidence                                variant_consequence  \\\n",
       "48  definitive  decreased gene product level; absent gene prod...   \n",
       "\n",
       "                                        variant_types molecular_mechanism  \\\n",
       "48  stop_gained_NMD_escaping; missense_variant; fr...    loss of function   \n",
       "\n",
       "   molecular_mechanism_categorisation molecular_mechanism_evidence  \\\n",
       "48                           inferred                          NaN   \n",
       "\n",
       "                                           phenotypes  \\\n",
       "48  HP:0003691; HP:0003701; HP:0003704; HP:0001419...   \n",
       "\n",
       "                                         publications  \\\n",
       "48  18179888; 19687455; 30681346; 19716112; 201868...   \n",
       "\n",
       "                                         panel  \\\n",
       "48  Developmental disorders; Cardiac disorders   \n",
       "\n",
       "                                             comments  \\\n",
       "48  Expert review done on 12/01/2022; FHL1-related...   \n",
       "\n",
       "         date_of_last_review  \\\n",
       "48 2024-03-26 10:33:21+00:00   \n",
       "\n",
       "                                       g2p_record_url  \n",
       "48  https://www.ebi.ac.uk/gene2phenotype/lgd/G2P03293  "
      ]
     },
     "execution_count": 59,
     "metadata": {},
     "output_type": "execute_result"
    }
   ],
   "source": [
    "## code chunk to review mismatches 1 by 1\n",
    "\n",
    "df[df[\"disease_mim\"] == \"OMIM:300696\"]\n",
    "df[df[\"disease_MONDO\"] == \"MONDO:0010680\"]"
   ]
  },
  {
   "cell_type": "markdown",
   "id": "a6f81213",
   "metadata": {
    "ExecuteTime": {
     "end_time": "2025-03-29T06:19:08.679605Z",
     "start_time": "2025-03-29T06:19:08.670116Z"
    }
   },
   "source": [
    "<div class=\"alert alert-block alert-info\">    \n",
    "\n",
    "**2025-02-28 data:** \n",
    "\n",
    "__Review of OMIM vs MONDO NodeNorm mismatches (22)__\n",
    "\n",
    "None were orphanet.    \n",
    "    \n",
    "---\n",
    "\n",
    "__19: OMIM's mapping is better__\n",
    "\n",
    "> __6: Mondo ID is related but wrong__ -> emailed EBI gene2pheno w/ example\n",
    "> * 'OMIM:243310', 'MONDO:0013812': omim is correct syndrome 1, but mondo is syndrome 2 (diff gene)\n",
    "> * 'OMIM:613575', 'MONDO:0044314': omim is correct 55, but mondo is 78 (diff gene)\n",
    "> * 'OMIM:101000', 'MONDO:0008075': omim is correct type of schwannomatosis (NF2/type 2), vs mondo is a sibling. \n",
    ">   * NodeNorm should map omim to MONDO:0007039 but isn't -> messaged NodeNorm\n",
    "> * 'OMIM:613987', __'MONDO:0009136'__: omim is correct recessive 2, but mondo is recessive 1 (diff gene? Confusing because Monarch page links to gene NHP2 but OMIM page doesn't)\n",
    ">   * NodeNorm should map omim to MONDO:0013519 but isn't -> messaged NodeNorm  \n",
    "> * 'OMIM:613988', 'MONDO:0009136': omim is correct recessive 3, but mondo is recessive 1 (diff gene)\n",
    ">   * NodeNorm should map omim to MONDO:0013520 but isn't -> messaged NodeNorm\n",
    "> * 'OMIM:616353', 'MONDO:0009136': omim is correct recessive 6, but mondo is recessive 1 (diff gene)\n",
    ">   * NodeNorm should map omim to MONDO:0014600 but isn't -> messaged NodeNorm\n",
    "\n",
    "> __13: Mondo ID is too general__ (can see on Monarch website) -> emailed EBI gene2pheno w/ example\n",
    "> * 'OMIM:300696', 'MONDO:0010680': omim maps to MONDO:0010401, child of the mondo\n",
    "> * 'OMIM:304120', 'MONDO:0019027': omim maps to MONDO:0010571 (syndrome type 2), child of the mondo (syndrome)\n",
    "> * 'OMIM:610019', 'MONDO:0005129': omim maps to MONDO:0012395 (cataract 18), child of the mondo (cataract)\n",
    "> * 'OMIM:611726', 'MONDO:0016295': omim maps to MONDO:0012721, child of the mondo \n",
    "> * 'OMIM:602668', 'MONDO:0016107': omim maps to MONDO:0011266 (type 2), child of the mondo\n",
    "> * 'OMIM:203200', 'MONDO:0018910': omim maps to MONDO:0008746 (type 2), child of the mondo\n",
    "> * 'OMIM:614328', 'MONDO:0017411': omim maps to MONDO:0013693 (type 1), child of the mondo\n",
    "> * 'OMIM:175800', 'MONDO:0006602': omim maps to MONDO:0008290 (1, mibelli type), grandchild of the mondo\n",
    "> * 'OMIM:614073', **'MONDO:0019312'**: omim maps to MONDO:0013556 (syndrome 4), child of the mondo (syndrome)\n",
    "> * 'OMIM:614074', 'MONDO:0019312': omim maps to MONDO:0013557 (syndrome 5), child of the mondo (syndrome)\n",
    "> * 'OMIM:614075', 'MONDO:0019312': omim maps to MONDO:0013558 (syndrome 6), child of the mondo (syndrome)\n",
    "> * 'OMIM:614076', 'MONDO:0019312': omim maps to MONDO:0013559 (syndrome 7), child of the mondo (syndrome)\n",
    "> * 'OMIM:614077', 'MONDO:0019312': omim maps to MONDO:0013560 (syndrome 8), child of the mondo (syndrome)\n",
    "\n",
    "    \n",
    "**1: MONDO's mapping is better**\n",
    "<br>\n",
    "Omim ID is slightly off -> __TELL EBI GENE2PHENO?__\n",
    "* 'OMIM:613723', 'MONDO:0009181': mondo matches the disease name and phenotypes listed in the record better than the omim \n",
    "\n",
    "\n",
    "**1: Unsure**\n",
    "* 'OMIM:158350', 'MONDO:0017623': omim is for Cowden syndrome 1, mondo is for PTEN hamartoma tumor syndrome. These are very similar, so I'm not sure which one is better. -> __TELL EBI GENE2PHENO?__\n",
    "  * There's also another record w/ just the OMIM ID. I think the two rows should be merged. -> __TELL EBI GENE2PHENO?__\n",
    "\n",
    "\n",
    "**1: NodeNorm error** -> messaged NodeNorm\n",
    "* 'OMIM:224230', 'MONDO:0009136': both are recessive 1, NodeNorm should map to same entity\n",
    "\n",
    "**Other rows reviewed:**\n",
    "* 'OMIM:614583', 'MONDO:0013812': map to same correct entity"
   ]
  },
  {
   "cell_type": "markdown",
   "id": "2becfcf1",
   "metadata": {},
   "source": [
    "**2025-02-28 data:** \n",
    "\n",
    "The prelim decision is to use disease OMIM/orphanet IDs because:\n",
    "* less missing values\n",
    "* more accurate in cases where there's also a MONDO ID"
   ]
  },
  {
   "cell_type": "markdown",
   "id": "229aed57",
   "metadata": {},
   "source": [
    "#### Checking MONDO data"
   ]
  },
  {
   "cell_type": "markdown",
   "id": "025b4397",
   "metadata": {},
   "source": [
    "Above, I decided the OMIM/orphanet disease IDs were better. \n",
    "\n",
    "However, I wondered if the MONDO IDs were accurate to the disease name when there weren't OMIM/orphanet IDs. Then they could be used for NodeNorming and less data would be dropped because it wasn't pre-NodeNormed. "
   ]
  },
  {
   "cell_type": "code",
   "execution_count": 60,
   "id": "b57b6cf6",
   "metadata": {
    "ExecuteTime": {
     "end_time": "2025-07-24T06:51:06.362303Z",
     "start_time": "2025-07-24T06:51:06.356018Z"
    }
   },
   "outputs": [],
   "source": [
    "## get the data that has MONDO, doesn't have OMIM/orphanet\n",
    "\n",
    "df_mondo_only = df[df[\"disease_mim\"].isna() & df[\"disease_MONDO\"].notna()].copy()\n",
    "\n",
    "mondo_only = df_mondo_only[\"disease_MONDO\"].dropna().unique()"
   ]
  },
  {
   "cell_type": "code",
   "execution_count": 61,
   "id": "4e8daf83",
   "metadata": {
    "ExecuteTime": {
     "end_time": "2025-07-24T06:51:07.261016Z",
     "start_time": "2025-07-24T06:51:07.254703Z"
    }
   },
   "outputs": [
    {
     "data": {
      "text/plain": [
       "295"
      ]
     },
     "execution_count": 61,
     "metadata": {},
     "output_type": "execute_result"
    },
    {
     "data": {
      "text/plain": [
       "181"
      ]
     },
     "execution_count": 61,
     "metadata": {},
     "output_type": "execute_result"
    }
   ],
   "source": [
    "## saving stats on data with only MONDO ID\n",
    "\n",
    "stats_mondo_only = {\n",
    "    \"n_rows\": df_mondo_only.shape[0],\n",
    "    \"n_names\": len(mondo_only)\n",
    "}\n",
    "\n",
    "stats_mondo_only[\"n_rows\"]\n",
    "stats_mondo_only[\"n_names\"]"
   ]
  },
  {
   "cell_type": "code",
   "execution_count": 62,
   "id": "0b66bd98",
   "metadata": {
    "ExecuteTime": {
     "end_time": "2025-07-24T06:51:13.419844Z",
     "start_time": "2025-07-24T06:51:13.400376Z"
    }
   },
   "outputs": [
    {
     "data": {
      "text/html": [
       "<div>\n",
       "<style scoped>\n",
       "    .dataframe tbody tr th:only-of-type {\n",
       "        vertical-align: middle;\n",
       "    }\n",
       "\n",
       "    .dataframe tbody tr th {\n",
       "        vertical-align: top;\n",
       "    }\n",
       "\n",
       "    .dataframe thead th {\n",
       "        text-align: right;\n",
       "    }\n",
       "</style>\n",
       "<table border=\"1\" class=\"dataframe\">\n",
       "  <thead>\n",
       "    <tr style=\"text-align: right;\">\n",
       "      <th></th>\n",
       "      <th>g2p_id</th>\n",
       "      <th>gene_symbol</th>\n",
       "      <th>gene_mim</th>\n",
       "      <th>hgnc_id</th>\n",
       "      <th>previous_gene_symbols</th>\n",
       "      <th>disease_name</th>\n",
       "      <th>disease_mim</th>\n",
       "      <th>disease_MONDO</th>\n",
       "      <th>allelic_requirement</th>\n",
       "      <th>cross_cutting_modifier</th>\n",
       "      <th>confidence</th>\n",
       "      <th>variant_consequence</th>\n",
       "      <th>variant_types</th>\n",
       "      <th>molecular_mechanism</th>\n",
       "      <th>molecular_mechanism_categorisation</th>\n",
       "      <th>molecular_mechanism_evidence</th>\n",
       "      <th>phenotypes</th>\n",
       "      <th>publications</th>\n",
       "      <th>panel</th>\n",
       "      <th>comments</th>\n",
       "      <th>date_of_last_review</th>\n",
       "      <th>g2p_record_url</th>\n",
       "    </tr>\n",
       "  </thead>\n",
       "  <tbody>\n",
       "    <tr>\n",
       "      <th>129</th>\n",
       "      <td>G2P00284</td>\n",
       "      <td>ALPL</td>\n",
       "      <td>OMIM:171760</td>\n",
       "      <td>HGNC:438</td>\n",
       "      <td>HOPS; TNALP; TNAP; TNSALP</td>\n",
       "      <td>ALPL-related hypophosphatasia</td>\n",
       "      <td>NaN</td>\n",
       "      <td>MONDO:0018570</td>\n",
       "      <td>biallelic_autosomal</td>\n",
       "      <td>NaN</td>\n",
       "      <td>definitive</td>\n",
       "      <td>altered gene product structure</td>\n",
       "      <td>missense_variant; inframe_deletion; inframe_in...</td>\n",
       "      <td>undetermined</td>\n",
       "      <td>inferred</td>\n",
       "      <td>NaN</td>\n",
       "      <td>HP:0002979; HP:0001945; HP:0002659; HP:0002150...</td>\n",
       "      <td>3174660</td>\n",
       "      <td>Developmental disorders; Skeletal disorders</td>\n",
       "      <td>NaN</td>\n",
       "      <td>2025-01-29 08:10:33+00:00</td>\n",
       "      <td>https://www.ebi.ac.uk/gene2phenotype/lgd/G2P00284</td>\n",
       "    </tr>\n",
       "    <tr>\n",
       "      <th>387</th>\n",
       "      <td>G2P02554</td>\n",
       "      <td>PRRX1</td>\n",
       "      <td>OMIM:167420</td>\n",
       "      <td>HGNC:9142</td>\n",
       "      <td>PHOX1; PMX1</td>\n",
       "      <td>PRRX1-related craniosynostosis</td>\n",
       "      <td>NaN</td>\n",
       "      <td>MONDO:0015469</td>\n",
       "      <td>monoallelic_autosomal</td>\n",
       "      <td>NaN</td>\n",
       "      <td>moderate</td>\n",
       "      <td>decreased gene product level; altered gene pro...</td>\n",
       "      <td>missense_variant; stop_gained; frameshift_variant</td>\n",
       "      <td>undetermined</td>\n",
       "      <td>inferred</td>\n",
       "      <td>NaN</td>\n",
       "      <td>HP:0001363</td>\n",
       "      <td>37154149</td>\n",
       "      <td>Developmental disorders; Skeletal disorders</td>\n",
       "      <td>NaN</td>\n",
       "      <td>2024-03-22 10:30:40+00:00</td>\n",
       "      <td>https://www.ebi.ac.uk/gene2phenotype/lgd/G2P02554</td>\n",
       "    </tr>\n",
       "    <tr>\n",
       "      <th>406</th>\n",
       "      <td>G2P03725</td>\n",
       "      <td>MIR140</td>\n",
       "      <td>OMIM:611894</td>\n",
       "      <td>HGNC:31527</td>\n",
       "      <td>MIRN140</td>\n",
       "      <td>MIR140-related spondyloepiphyseal dysplasia, N...</td>\n",
       "      <td>NaN</td>\n",
       "      <td>MONDO:0032835</td>\n",
       "      <td>monoallelic_autosomal</td>\n",
       "      <td>NaN</td>\n",
       "      <td>moderate</td>\n",
       "      <td>altered gene product structure</td>\n",
       "      <td>ncRNA</td>\n",
       "      <td>gain of function</td>\n",
       "      <td>evidence</td>\n",
       "      <td>30804514 -&gt; function: protein expression; func...</td>\n",
       "      <td>HP:0034281; HP:0001156; HP:0003498; HP:0011800...</td>\n",
       "      <td>30804514</td>\n",
       "      <td>Developmental disorders; Skeletal disorders</td>\n",
       "      <td>NaN</td>\n",
       "      <td>2025-05-07 10:53:46+00:00</td>\n",
       "      <td>https://www.ebi.ac.uk/gene2phenotype/lgd/G2P03725</td>\n",
       "    </tr>\n",
       "  </tbody>\n",
       "</table>\n",
       "</div>"
      ],
      "text/plain": [
       "       g2p_id gene_symbol     gene_mim     hgnc_id      previous_gene_symbols  \\\n",
       "129  G2P00284        ALPL  OMIM:171760    HGNC:438  HOPS; TNALP; TNAP; TNSALP   \n",
       "387  G2P02554       PRRX1  OMIM:167420   HGNC:9142                PHOX1; PMX1   \n",
       "406  G2P03725      MIR140  OMIM:611894  HGNC:31527                    MIRN140   \n",
       "\n",
       "                                          disease_name disease_mim  \\\n",
       "129                      ALPL-related hypophosphatasia         NaN   \n",
       "387                     PRRX1-related craniosynostosis         NaN   \n",
       "406  MIR140-related spondyloepiphyseal dysplasia, N...         NaN   \n",
       "\n",
       "     disease_MONDO    allelic_requirement cross_cutting_modifier  confidence  \\\n",
       "129  MONDO:0018570    biallelic_autosomal                    NaN  definitive   \n",
       "387  MONDO:0015469  monoallelic_autosomal                    NaN    moderate   \n",
       "406  MONDO:0032835  monoallelic_autosomal                    NaN    moderate   \n",
       "\n",
       "                                   variant_consequence  \\\n",
       "129                     altered gene product structure   \n",
       "387  decreased gene product level; altered gene pro...   \n",
       "406                     altered gene product structure   \n",
       "\n",
       "                                         variant_types molecular_mechanism  \\\n",
       "129  missense_variant; inframe_deletion; inframe_in...        undetermined   \n",
       "387  missense_variant; stop_gained; frameshift_variant        undetermined   \n",
       "406                                              ncRNA    gain of function   \n",
       "\n",
       "    molecular_mechanism_categorisation  \\\n",
       "129                           inferred   \n",
       "387                           inferred   \n",
       "406                           evidence   \n",
       "\n",
       "                          molecular_mechanism_evidence  \\\n",
       "129                                                NaN   \n",
       "387                                                NaN   \n",
       "406  30804514 -> function: protein expression; func...   \n",
       "\n",
       "                                            phenotypes publications  \\\n",
       "129  HP:0002979; HP:0001945; HP:0002659; HP:0002150...      3174660   \n",
       "387                                         HP:0001363     37154149   \n",
       "406  HP:0034281; HP:0001156; HP:0003498; HP:0011800...     30804514   \n",
       "\n",
       "                                           panel comments  \\\n",
       "129  Developmental disorders; Skeletal disorders      NaN   \n",
       "387  Developmental disorders; Skeletal disorders      NaN   \n",
       "406  Developmental disorders; Skeletal disorders      NaN   \n",
       "\n",
       "          date_of_last_review  \\\n",
       "129 2025-01-29 08:10:33+00:00   \n",
       "387 2024-03-22 10:30:40+00:00   \n",
       "406 2025-05-07 10:53:46+00:00   \n",
       "\n",
       "                                        g2p_record_url  \n",
       "129  https://www.ebi.ac.uk/gene2phenotype/lgd/G2P00284  \n",
       "387  https://www.ebi.ac.uk/gene2phenotype/lgd/G2P02554  \n",
       "406  https://www.ebi.ac.uk/gene2phenotype/lgd/G2P03725  "
      ]
     },
     "execution_count": 62,
     "metadata": {},
     "output_type": "execute_result"
    }
   ],
   "source": [
    "## code chunk used to review some of the data\n",
    "\n",
    "# df_mondo_only[df_mondo_only[\"disease_MONDO\"] == mondo_only[240]]\n",
    "\n",
    "df_mondo_only[df_mondo_only[\"panel\"].str.contains(\"Skeletal\", na=False)]"
   ]
  },
  {
   "cell_type": "markdown",
   "id": "fc3f5864",
   "metadata": {},
   "source": [
    "<div class=\"alert alert-block alert-info\">    \n",
    "\n",
    "**2025-02-28 data:** \n",
    "\n",
    "__Reviewed some of the data__\n",
    "\n",
    "Method: look at individual MONDO IDs. Covered all panels (only 1 skeletal, no hearing). 3 from earlier review (related to mismatches) + idx 0-240, step 10 + skeletal. \n",
    "    \n",
    "__Summary__\n",
    "* 37 rows (29 unique MONDO)\n",
    "* __~16%__ were wrong (6/37) \n",
    "* Could tell EBI gene2pheno of issues but they are similar to those listed in mismatch mapping section"
   ]
  },
  {
   "cell_type": "markdown",
   "id": "36d795ed",
   "metadata": {},
   "source": [
    "__Details__\n",
    "\n",
    "__6 MONDO is related but wrong__\n",
    "* \"MONDO:0009136\" for \"RTEL1-related dyskeratosis congenita\" (two rows): mondo is recessive 1, which is wrong. Should be recessive 5 MONDO:0014076/OMIM:615190 (old/synonym name is dominant 4) \n",
    "* \"MONDO:0044314\" for 4 rows \"CLN3-related retinal dystrophy\", \"GUCA1B-\", \"PRPS1-\", \"SNRNP200-\": mondo is type 78 (specifically for ARHGEF18), which is wrong. Should instead be:\n",
    "  * CLN3 and PRPS1: a more general term like MONDO:0004580 (retinal degeneration) -> MONDO:0019118 (inherited retinal dystrophy) -> MONDO:0019200 (retinitis pigmentosa)\n",
    "  * GUCA1B: type 48, MONDO:0013447\n",
    "  * SNRNP200: type 33, MONDO:0012477\n",
    "* \"MONDO:0013522\" for \"TERC-related dyskeratosis congenita\": mondo is for type 3 (specifically for TINF2, that row is in \"Great\" section). Should be type 1 MONDO:0007485/OMIM:127550. (confusing because Monarch's page of type 1 includes TINF2 and TERT too, but OMIM page only includes TERC)\n",
    "\n",
    "\n",
    "__4 MONDO is too general__ \n",
    "* \"MONDO:0020341\" (periventricular nodular heterotopia) for \"ERMARD-related periventricular heterotopia\". The ERMARD-specific version is a child term: MONDO:0014240/OMIM:615544 (type 6)\n",
    "* \"MONDO:0018965\" (Alport syndrome) for \"COL4A5-related Alport syndrome\". The COL4A5-specific version is a child term: MONDO:0010520/OMIM:301050  (X-linked)\n",
    "* \"MONDO:0024676\" for \"REST-related Wilms tumour\": The REST-specific version is a **related** term: MONDO:0014779/OMIM:616806 (type 6)\n",
    "* \"MONDO:0011773\" for \"POP1-related anauxetic dysplasia\": the POP1-specific version is a child term: MONDO:0054561/OMIM:617396 (type 2)\n",
    "\n",
    "\n",
    "__4 Unsure -> TELL EBI GENE2PHENO?__\n",
    "* \"MONDO:0005129\" for \"CYP51A1-related congenital cataract\": mondo is cataract, which is not wrong but kinda general. MONDO:0033853 seems better (correlated with gene, matches phenotypes, orphanet ref uses one of the ref papers) \n",
    "* \"MONDO:0018869\" for \"TMTC3-related cobblestone lissencephaly\": while the mondo (cobblestone lissencephaly) sounds correct, it isn't linked to this gene. VS another sibling disease is linked to the gene, matches phenotypes, uses same paper: MONDO:0014992/OMIM:617255 (lissencephaly 8)\n",
    "* \"MONDO:0100100\" for \"SELENON-related myopathy\": while mondo has exact name match, it's not directly linked to gene. Instead, its child disease is directly linked to gene MONDO:0011271/OMIM:602771 (rigid spine muscular dystrophy 1)\n",
    "* \"MONDO:0020367\" for \"MYOC-related juvenile open angle glaucoma\": while mondo is almost-exact name match, it's not directly linked to gene. Instead, its child disease is directly linked to gene MONDO:0007664/OMIM:137750 (glaucoma 1, open angle, A) \n",
    "\n",
    "\n",
    "__5 Okay (using general term is fine)__\n",
    "* \"MONDO:0005129\" for 3 other rows \"WDR87-related congenital cataract\", \"AKR1E2-\", \"MFSD6L-\": couldn't find better mappings. \n",
    "* \"MONDO:0015469\" for \"DHRS3 related craniosynostosis\": couldn't find better mapping\n",
    "* \"MONDO:0024676\" (childhood kidney Wilms tumor) for \"CTR9-related Wilms tumour\", \"TRIM28-\": couldn't find better mapping. TRIM28 is correlated to parent term (kidney Wilms tumor). \n",
    "\n",
    "\n",
    "__18 Great__\n",
    "* \"MONDO:0012506\" for \"DSC2-related arrhythmogenic right ventricular cardiomyopathy\"\n",
    "* \"MONDO:0011001\" for \"SCN5A-related Brugada syndrome\"\n",
    "* \"MONDO:0013262\" for \"MYH7-related dilated cardiomyopathy\"\n",
    "* \"MONDO:0013369\" for \"TNNI3-related hypertrophic cardiomyopathy\"\n",
    "* \"MONDO:0010946\" for \"PRKAG2-related cardiomyopathy\"\n",
    "* \"MONDO:0014143\" for \"RIT1-related Noonan syndrome\"\n",
    "* \"MONDO:0010015\" for \"PXDN-related anterior segment dysgenesis with sclerocornea\"\n",
    "* \"MONDO:0014214\" for \"DYNC2I1-related short-rib polydactyly\"\n",
    "* \"MONDO:0013522\" for \"TINF2-related dyskeratosis congenita\"\n",
    "* \"MONDO:0032876\" for \"WASF1-related intellectual disability with seizures\"\n",
    "* \"MONDO:0859164\" for \"UNC45A-related osteootohepatoenteric syndrome\"\n",
    "* \"MONDO:0018772\" for \"SLC30A7-related Joubert syndrome\": using general term is fine since there isn't any established subtype of Joubert syndrome for this gene\n",
    "* \"MONDO:0010215\" for \"ERCC4-related xeroderma pigmentosum, group F\"\n",
    "* \"MONDO:0009735\" for \"SPINK5-related Netherton syndrome\"\n",
    "* \"MONDO:0007808\" for \"KRT1-related ichthyosis hystrix, Curth-Macklin type\"\n",
    "* \"MONDO:0007566\" for \"TGFBR1-related multiple self-healing squamous epithelioma\"\n",
    "* \"MONDO:0008285\" for \"PDGFRA-related gastrointestinal stromal tumor/GIST-plus syndrome, somatic or familial\"\n",
    "* \"MONDO:0010912\" for \"TUBB3-related fibrosis of extraocular muscles, congenital\""
   ]
  },
  {
   "cell_type": "markdown",
   "id": "a29eccf5",
   "metadata": {},
   "source": [
    "#### Conclusions"
   ]
  },
  {
   "cell_type": "markdown",
   "id": "931ad893",
   "metadata": {},
   "source": [
    "<div class=\"alert alert-block alert-success\">\n",
    "\n",
    "**2025-02-28 data:** \n",
    "    \n",
    "__Exploration__\n",
    "\n",
    "* some rows have no disease IDs\n",
    "* a few NodeNorm mapping failures for OMIM IDs (several diff kinds): ~2.8%. 68 failures / (2401 unique values in column - 9 orphanet)\n",
    "  * no NodeNorm mapping failures for MONDO IDs\n",
    "* when rows have both OMIM and MONDO IDs, there are sometimes differences in NodeNorm mapping (\"mismatches\"). __In these cases, OMIM IDs were much more accurate__\n",
    "* __MONDO IDs can be inaccurate__ - see the blue review boxes\n",
    "  * VS it was much rarer to find an inaccurate OMIM ID mapping (found 1 case)\n",
    "\n",
    "\n",
    "__Decision: Use OMIM ID column to generate NodeNorm values__\n",
    "\n",
    "* less missing values\n",
    "* seems to be more accurate (for successful NodeNorm mappings)"
   ]
  },
  {
   "cell_type": "markdown",
   "id": "9d69e637",
   "metadata": {},
   "source": [
    "## Stats on rows removed during NodeNorming"
   ]
  },
  {
   "cell_type": "markdown",
   "id": "d25bd6ed",
   "metadata": {},
   "source": [
    "This section prints the statistics on rows in the original data that were removed. \n",
    "\n",
    "(Uses variables generated during the previous section \"Pre-NodeNorming\")"
   ]
  },
  {
   "cell_type": "markdown",
   "id": "e687d839",
   "metadata": {},
   "source": [
    "<div class=\"alert alert-block alert-success\">\n",
    "\n",
    "**2025-03-28 data:** \n",
    "\n",
    "Genes: No rows removed due to lack of IDs for NodeNorming or NodeNorm mapping issues."
   ]
  },
  {
   "cell_type": "code",
   "execution_count": 63,
   "id": "801a10f8",
   "metadata": {
    "ExecuteTime": {
     "end_time": "2025-07-24T06:51:27.204093Z",
     "start_time": "2025-07-24T06:51:27.199408Z"
    }
   },
   "outputs": [
    {
     "name": "stdout",
     "output_type": "stream",
     "text": [
      "Gene Pre-NodeNorming\n",
      "\n",
      "0 row(s) with no gene IDs\n",
      "0 row(s) with no HGNC IDs\n",
      "\n",
      "\n",
      "HGNC NodeNorm mapping failures:\n",
      "IDs with no data in NodeNorm: 0\n",
      "IDs with the wrong NodeNormed category: 0\n",
      "IDs with no label in NodeNorm: 0\n"
     ]
    }
   ],
   "source": [
    "## partial put into parser (format): DONE\n",
    "\n",
    "print(\"Gene Pre-NodeNorming\\n\")\n",
    "\n",
    "## no gene IDs\n",
    "print(f'{stats_no_gene_IDs[\"n_rows\"]} row(s) with no gene IDs')\n",
    "\n",
    "## no HGNC IDs: key column for NodeNorming\n",
    "print(f'{n_rows_no_hgnc} row(s) with no HGNC IDs')\n",
    "\n",
    "## HGNC NodeNorm issues: none, but showing anyways\n",
    "print(\"\\n\")\n",
    "print(\"HGNC NodeNorm mapping failures:\")\n",
    "\n",
    "print(f'IDs with no data in NodeNorm: {len(stats_hgnc_mapping_failures[\"nodenorm_returned_none\"])}')\n",
    "print(f'IDs with the wrong NodeNormed category: {len(stats_hgnc_mapping_failures[\"wrong_category\"])}')\n",
    "print(f'IDs with no label in NodeNorm: {len(stats_hgnc_mapping_failures[\"no_label\"])}')"
   ]
  },
  {
   "cell_type": "markdown",
   "id": "b282749c",
   "metadata": {},
   "source": [
    "<div class=\"alert alert-block alert-success\">\n",
    "\n",
    "**2025-03-28 data:** \n",
    "    \n",
    "__Diseases: many rows removed__ due to lack of IDs for NodeNorming or NodeNorm mapping issues."
   ]
  },
  {
   "cell_type": "code",
   "execution_count": 64,
   "id": "bbfc6243",
   "metadata": {
    "ExecuteTime": {
     "end_time": "2025-07-24T06:51:30.557732Z",
     "start_time": "2025-07-24T06:51:30.553397Z"
    }
   },
   "outputs": [
    {
     "data": {
      "text/plain": [
       "dict_keys(['unexpected_error', 'nodenorm_returned_none', 'wrong_category', 'no_label', 'n_rows_none', 'n_rows_wrong_category', 'n_rows_no_label'])"
      ]
     },
     "execution_count": 64,
     "metadata": {},
     "output_type": "execute_result"
    }
   ],
   "source": [
    "stats_OmOr_mapping_failures.keys()"
   ]
  },
  {
   "cell_type": "code",
   "execution_count": 65,
   "id": "35356465",
   "metadata": {
    "ExecuteTime": {
     "end_time": "2025-07-24T06:51:31.451131Z",
     "start_time": "2025-07-24T06:51:31.445960Z"
    }
   },
   "outputs": [
    {
     "name": "stdout",
     "output_type": "stream",
     "text": [
      "Disease Pre-NodeNorming\n",
      "\n",
      "248 row(s) with no disease IDs (= 243 unique diseases)\n",
      "+ 295 row(s) with no OMIM ID (= 181 unique diseases)\n",
      "\n",
      "\n",
      "OMIM NodeNorm mapping failures:\n",
      "4 row(s) for 4 IDs with no data in NodeNorm\n",
      "3 row(s) for 3 IDs with the wrong NodeNormed category\n",
      "1 row(s) for 1 IDs with no label in NodeNorm\n"
     ]
    }
   ],
   "source": [
    "## partial put into parser (format): DONE\n",
    "\n",
    "print(\"Disease Pre-NodeNorming\\n\")\n",
    "\n",
    "## no disease IDs\n",
    "print(f'{stats_no_disease_IDs[\"n_rows\"]} row(s) with no disease IDs '\n",
    "      f'(= {stats_no_disease_IDs[\"n_names\"]} unique diseases)')\n",
    "\n",
    "## plus the rows that only lack OMIM IDs: key column for NodeNorming\n",
    "print(f'+ {stats_mondo_only[\"n_rows\"]} row(s) with no OMIM ID '\n",
    "      f'(= {stats_mondo_only[\"n_names\"]} unique diseases)')\n",
    "\n",
    "## OMIM NodeNorm issues\n",
    "print(\"\\n\")\n",
    "print(\"OMIM NodeNorm mapping failures:\")\n",
    "\n",
    "print(f'{stats_OmOr_mapping_failures[\"n_rows_none\"]} row(s) for '\n",
    "      f'{len(stats_OmOr_mapping_failures[\"nodenorm_returned_none\"])} '\n",
    "      f'IDs with no data in NodeNorm')\n",
    "\n",
    "print(f'{stats_OmOr_mapping_failures[\"n_rows_wrong_category\"]} row(s) for '\n",
    "      f'{len(stats_OmOr_mapping_failures[\"wrong_category\"])} '\n",
    "      f'IDs with the wrong NodeNormed category')\n",
    "\n",
    "print(f'{stats_OmOr_mapping_failures[\"n_rows_no_label\"]} row(s) for '\n",
    "      f'{len(stats_OmOr_mapping_failures[\"no_label\"])} '\n",
    "      f'IDs with no label in NodeNorm')"
   ]
  },
  {
   "cell_type": "markdown",
   "id": "9e970596",
   "metadata": {},
   "source": [
    "<div class=\"alert alert-block alert-success\">\n",
    "    \n",
    "__Totals__"
   ]
  },
  {
   "cell_type": "code",
   "execution_count": 66,
   "id": "be76c03c",
   "metadata": {
    "ExecuteTime": {
     "end_time": "2025-07-24T06:51:54.893598Z",
     "start_time": "2025-07-24T06:51:54.888581Z"
    }
   },
   "outputs": [
    {
     "name": "stdout",
     "output_type": "stream",
     "text": [
      "3181 rows/records before Pre-NodeNorming\n",
      "\n",
      "551 rows removed during Disease NodeNorming process\n",
      "\n",
      "2630 rows/records left (82.7%)\n"
     ]
    }
   ],
   "source": [
    "## put into parser (format): DONE\n",
    "\n",
    "n_rows_before_nodenorm = df.shape[0]\n",
    "n_rows_nodenorm_removed = stats_no_disease_IDs[\"n_rows\"] + stats_mondo_only[\"n_rows\"] + \\\n",
    "                          stats_OmOr_mapping_failures[\"n_rows_none\"] + \\\n",
    "                          stats_OmOr_mapping_failures[\"n_rows_wrong_category\"] + \\\n",
    "                          stats_OmOr_mapping_failures[\"n_rows_no_label\"]\n",
    "n_rows_after_nodenorm = n_rows_before_nodenorm - n_rows_nodenorm_removed\n",
    "\n",
    "print(f\"{n_rows_before_nodenorm} rows/records before Pre-NodeNorming\\n\")\n",
    "\n",
    "print(f\"{n_rows_nodenorm_removed} rows removed during Disease NodeNorming process\\n\")\n",
    "\n",
    "print(f\"{n_rows_after_nodenorm} rows/records left ({n_rows_after_nodenorm/n_rows_before_nodenorm:.1%})\")"
   ]
  },
  {
   "cell_type": "markdown",
   "id": "23343f7c",
   "metadata": {},
   "source": [
    "## Adding NodeNorm data, removing rows"
   ]
  },
  {
   "cell_type": "markdown",
   "id": "1d708cbc",
   "metadata": {},
   "source": [
    "Using gene HGNC and disease OMIM/orphanet IDs for pre-NodeNorming"
   ]
  },
  {
   "cell_type": "code",
   "execution_count": 67,
   "id": "3d727809",
   "metadata": {
    "ExecuteTime": {
     "end_time": "2025-07-24T06:52:21.693318Z",
     "start_time": "2025-07-24T06:52:21.675982Z"
    }
   },
   "outputs": [],
   "source": [
    "## put into parser (format): DONE\n",
    "\n",
    "## Gene: assumes no missing values\n",
    "df[\"gene_nodenorm_id\"] = [hgnc_nodenorm_mapping[i][\"primary_id\"] for i in df[\"hgnc_id\"]]\n",
    "df[\"gene_nodenorm_label\"] = [hgnc_nodenorm_mapping[i][\"primary_label\"] for i in df[\"hgnc_id\"]]\n",
    "\n",
    "df[\"disease_nodenorm_id\"] = [OmOr_nodenorm_mapping[i][\"primary_id\"] \n",
    "                             if OmOr_nodenorm_mapping.get(i) \n",
    "                             else pd.NA\n",
    "                             for i in df[\"disease_mim\"]]\n",
    "\n",
    "df[\"disease_nodenorm_label\"] = [OmOr_nodenorm_mapping[i][\"primary_label\"] \n",
    "                                if OmOr_nodenorm_mapping.get(i) \n",
    "                                else pd.NA\n",
    "                                for i in df[\"disease_mim\"]]"
   ]
  },
  {
   "cell_type": "code",
   "execution_count": 68,
   "id": "c362f22a",
   "metadata": {
    "ExecuteTime": {
     "end_time": "2025-07-24T06:52:22.433479Z",
     "start_time": "2025-07-24T06:52:22.413353Z"
    }
   },
   "outputs": [
    {
     "data": {
      "text/html": [
       "<div>\n",
       "<style scoped>\n",
       "    .dataframe tbody tr th:only-of-type {\n",
       "        vertical-align: middle;\n",
       "    }\n",
       "\n",
       "    .dataframe tbody tr th {\n",
       "        vertical-align: top;\n",
       "    }\n",
       "\n",
       "    .dataframe thead th {\n",
       "        text-align: right;\n",
       "    }\n",
       "</style>\n",
       "<table border=\"1\" class=\"dataframe\">\n",
       "  <thead>\n",
       "    <tr style=\"text-align: right;\">\n",
       "      <th></th>\n",
       "      <th>g2p_id</th>\n",
       "      <th>gene_symbol</th>\n",
       "      <th>gene_mim</th>\n",
       "      <th>hgnc_id</th>\n",
       "      <th>previous_gene_symbols</th>\n",
       "      <th>disease_name</th>\n",
       "      <th>disease_mim</th>\n",
       "      <th>disease_MONDO</th>\n",
       "      <th>allelic_requirement</th>\n",
       "      <th>cross_cutting_modifier</th>\n",
       "      <th>confidence</th>\n",
       "      <th>variant_consequence</th>\n",
       "      <th>variant_types</th>\n",
       "      <th>molecular_mechanism</th>\n",
       "      <th>molecular_mechanism_categorisation</th>\n",
       "      <th>molecular_mechanism_evidence</th>\n",
       "      <th>phenotypes</th>\n",
       "      <th>publications</th>\n",
       "      <th>panel</th>\n",
       "      <th>comments</th>\n",
       "      <th>date_of_last_review</th>\n",
       "      <th>g2p_record_url</th>\n",
       "      <th>gene_nodenorm_id</th>\n",
       "      <th>gene_nodenorm_label</th>\n",
       "      <th>disease_nodenorm_id</th>\n",
       "      <th>disease_nodenorm_label</th>\n",
       "    </tr>\n",
       "  </thead>\n",
       "  <tbody>\n",
       "    <tr>\n",
       "      <th>0</th>\n",
       "      <td>G2P00124</td>\n",
       "      <td>KCNE1</td>\n",
       "      <td>OMIM:176261</td>\n",
       "      <td>HGNC:6240</td>\n",
       "      <td>ISK; JLNS2; LQT5; MINK</td>\n",
       "      <td>KCNE1-related Jervell and Lange-Nielsen syndrome</td>\n",
       "      <td>OMIM:612347</td>\n",
       "      <td>MONDO:0012871</td>\n",
       "      <td>biallelic_autosomal</td>\n",
       "      <td>potential secondary finding</td>\n",
       "      <td>strong</td>\n",
       "      <td>altered gene product structure</td>\n",
       "      <td>missense_variant; inframe_insertion; inframe_d...</td>\n",
       "      <td>undetermined</td>\n",
       "      <td>inferred</td>\n",
       "      <td>NaN</td>\n",
       "      <td>HP:0001657; HP:0001279; HP:0000007; HP:0000407</td>\n",
       "      <td>30461122</td>\n",
       "      <td>Developmental disorders; Cardiac disorders</td>\n",
       "      <td>KCNE1-related JLNS is due to altered gene prod...</td>\n",
       "      <td>2024-04-05 12:05:01+00:00</td>\n",
       "      <td>https://www.ebi.ac.uk/gene2phenotype/lgd/G2P00124</td>\n",
       "      <td>NCBIGene:3753</td>\n",
       "      <td>KCNE1</td>\n",
       "      <td>MONDO:0012871</td>\n",
       "      <td>Jervell and Lange-Nielsen syndrome 2</td>\n",
       "    </tr>\n",
       "    <tr>\n",
       "      <th>1</th>\n",
       "      <td>G2P00841</td>\n",
       "      <td>PTPN11</td>\n",
       "      <td>OMIM:176876</td>\n",
       "      <td>HGNC:9644</td>\n",
       "      <td>BPTP3; NS1; PTP2C; SH-PTP2; SHP-2; SHP2</td>\n",
       "      <td>PTPN11-related Noonan syndrome with multiple l...</td>\n",
       "      <td>OMIM:151100</td>\n",
       "      <td>NaN</td>\n",
       "      <td>monoallelic_autosomal</td>\n",
       "      <td>NaN</td>\n",
       "      <td>definitive</td>\n",
       "      <td>altered gene product structure</td>\n",
       "      <td>missense_variant; inframe_deletion; inframe_in...</td>\n",
       "      <td>undetermined</td>\n",
       "      <td>inferred</td>\n",
       "      <td>NaN</td>\n",
       "      <td>HP:0001709; HP:0000957; HP:0004409; HP:0001639...</td>\n",
       "      <td>27484170; 26377839; 25917897; 25884655; 248207...</td>\n",
       "      <td>Developmental disorders; Skin disorders; Cardi...</td>\n",
       "      <td>Expert review done on 12/01/2022; Noonan syndr...</td>\n",
       "      <td>2025-01-21 14:56:43+00:00</td>\n",
       "      <td>https://www.ebi.ac.uk/gene2phenotype/lgd/G2P00841</td>\n",
       "      <td>NCBIGene:5781</td>\n",
       "      <td>PTPN11</td>\n",
       "      <td>MONDO:0100082</td>\n",
       "      <td>LEOPARD syndrome 1</td>\n",
       "    </tr>\n",
       "    <tr>\n",
       "      <th>2</th>\n",
       "      <td>G2P03247</td>\n",
       "      <td>DSC2</td>\n",
       "      <td>OMIM:125645</td>\n",
       "      <td>HGNC:3036</td>\n",
       "      <td>CDHF2; DSC3</td>\n",
       "      <td>DSC2-related arrhythmogenic right ventricular ...</td>\n",
       "      <td>NaN</td>\n",
       "      <td>MONDO:0012506</td>\n",
       "      <td>monoallelic_autosomal</td>\n",
       "      <td>NaN</td>\n",
       "      <td>definitive</td>\n",
       "      <td>decreased gene product level; altered gene pro...</td>\n",
       "      <td>stop_gained; frameshift_variant; NMD_triggerin...</td>\n",
       "      <td>undetermined</td>\n",
       "      <td>inferred</td>\n",
       "      <td>NaN</td>\n",
       "      <td>NaN</td>\n",
       "      <td>31028357; 23911551; 21636032; 33831308; 263105...</td>\n",
       "      <td>Cardiac disorders</td>\n",
       "      <td>Expert review done on 05/01/2022; DSC2-related...</td>\n",
       "      <td>2024-03-20 09:36:09+00:00</td>\n",
       "      <td>https://www.ebi.ac.uk/gene2phenotype/lgd/G2P03247</td>\n",
       "      <td>NCBIGene:1824</td>\n",
       "      <td>DSC2</td>\n",
       "      <td>&lt;NA&gt;</td>\n",
       "      <td>&lt;NA&gt;</td>\n",
       "    </tr>\n",
       "    <tr>\n",
       "      <th>3</th>\n",
       "      <td>G2P03248</td>\n",
       "      <td>DSC2</td>\n",
       "      <td>OMIM:125645</td>\n",
       "      <td>HGNC:3036</td>\n",
       "      <td>CDHF2; DSC3</td>\n",
       "      <td>DSC2-related arrhythmogenic right ventricular ...</td>\n",
       "      <td>NaN</td>\n",
       "      <td>MONDO:0012506</td>\n",
       "      <td>biallelic_autosomal</td>\n",
       "      <td>NaN</td>\n",
       "      <td>definitive</td>\n",
       "      <td>decreased gene product level; altered gene pro...</td>\n",
       "      <td>stop_gained; frameshift_variant; NMD_triggerin...</td>\n",
       "      <td>undetermined</td>\n",
       "      <td>inferred</td>\n",
       "      <td>NaN</td>\n",
       "      <td>NaN</td>\n",
       "      <td>31028357; 23911551; 21636032; 33831308; 263105...</td>\n",
       "      <td>Cardiac disorders</td>\n",
       "      <td>Expert review done on 05/01/2022; DSC2-related...</td>\n",
       "      <td>2024-03-20 09:35:19+00:00</td>\n",
       "      <td>https://www.ebi.ac.uk/gene2phenotype/lgd/G2P03248</td>\n",
       "      <td>NCBIGene:1824</td>\n",
       "      <td>DSC2</td>\n",
       "      <td>&lt;NA&gt;</td>\n",
       "      <td>&lt;NA&gt;</td>\n",
       "    </tr>\n",
       "    <tr>\n",
       "      <th>4</th>\n",
       "      <td>G2P03249</td>\n",
       "      <td>DSG2</td>\n",
       "      <td>OMIM:125671</td>\n",
       "      <td>HGNC:3049</td>\n",
       "      <td>CDHF5</td>\n",
       "      <td>DSG2-related arrhythmogenic right ventricular ...</td>\n",
       "      <td>NaN</td>\n",
       "      <td>MONDO:0012434</td>\n",
       "      <td>monoallelic_autosomal</td>\n",
       "      <td>NaN</td>\n",
       "      <td>definitive</td>\n",
       "      <td>decreased gene product level; altered gene pro...</td>\n",
       "      <td>stop_gained; frameshift_variant; splice_accept...</td>\n",
       "      <td>undetermined</td>\n",
       "      <td>inferred</td>\n",
       "      <td>NaN</td>\n",
       "      <td>NaN</td>\n",
       "      <td>21636032; 33831308; 33917638; 34400560; 240707...</td>\n",
       "      <td>Cardiac disorders</td>\n",
       "      <td>Expert review done on 05/01/2022; DSG2-related...</td>\n",
       "      <td>2024-03-20 09:40:18+00:00</td>\n",
       "      <td>https://www.ebi.ac.uk/gene2phenotype/lgd/G2P03249</td>\n",
       "      <td>NCBIGene:1829</td>\n",
       "      <td>DSG2</td>\n",
       "      <td>&lt;NA&gt;</td>\n",
       "      <td>&lt;NA&gt;</td>\n",
       "    </tr>\n",
       "  </tbody>\n",
       "</table>\n",
       "</div>"
      ],
      "text/plain": [
       "     g2p_id gene_symbol     gene_mim    hgnc_id  \\\n",
       "0  G2P00124       KCNE1  OMIM:176261  HGNC:6240   \n",
       "1  G2P00841      PTPN11  OMIM:176876  HGNC:9644   \n",
       "2  G2P03247        DSC2  OMIM:125645  HGNC:3036   \n",
       "3  G2P03248        DSC2  OMIM:125645  HGNC:3036   \n",
       "4  G2P03249        DSG2  OMIM:125671  HGNC:3049   \n",
       "\n",
       "                     previous_gene_symbols  \\\n",
       "0                   ISK; JLNS2; LQT5; MINK   \n",
       "1  BPTP3; NS1; PTP2C; SH-PTP2; SHP-2; SHP2   \n",
       "2                              CDHF2; DSC3   \n",
       "3                              CDHF2; DSC3   \n",
       "4                                    CDHF5   \n",
       "\n",
       "                                        disease_name  disease_mim  \\\n",
       "0   KCNE1-related Jervell and Lange-Nielsen syndrome  OMIM:612347   \n",
       "1  PTPN11-related Noonan syndrome with multiple l...  OMIM:151100   \n",
       "2  DSC2-related arrhythmogenic right ventricular ...          NaN   \n",
       "3  DSC2-related arrhythmogenic right ventricular ...          NaN   \n",
       "4  DSG2-related arrhythmogenic right ventricular ...          NaN   \n",
       "\n",
       "   disease_MONDO    allelic_requirement       cross_cutting_modifier  \\\n",
       "0  MONDO:0012871    biallelic_autosomal  potential secondary finding   \n",
       "1            NaN  monoallelic_autosomal                          NaN   \n",
       "2  MONDO:0012506  monoallelic_autosomal                          NaN   \n",
       "3  MONDO:0012506    biallelic_autosomal                          NaN   \n",
       "4  MONDO:0012434  monoallelic_autosomal                          NaN   \n",
       "\n",
       "   confidence                                variant_consequence  \\\n",
       "0      strong                     altered gene product structure   \n",
       "1  definitive                     altered gene product structure   \n",
       "2  definitive  decreased gene product level; altered gene pro...   \n",
       "3  definitive  decreased gene product level; altered gene pro...   \n",
       "4  definitive  decreased gene product level; altered gene pro...   \n",
       "\n",
       "                                       variant_types molecular_mechanism  \\\n",
       "0  missense_variant; inframe_insertion; inframe_d...        undetermined   \n",
       "1  missense_variant; inframe_deletion; inframe_in...        undetermined   \n",
       "2  stop_gained; frameshift_variant; NMD_triggerin...        undetermined   \n",
       "3  stop_gained; frameshift_variant; NMD_triggerin...        undetermined   \n",
       "4  stop_gained; frameshift_variant; splice_accept...        undetermined   \n",
       "\n",
       "  molecular_mechanism_categorisation molecular_mechanism_evidence  \\\n",
       "0                           inferred                          NaN   \n",
       "1                           inferred                          NaN   \n",
       "2                           inferred                          NaN   \n",
       "3                           inferred                          NaN   \n",
       "4                           inferred                          NaN   \n",
       "\n",
       "                                          phenotypes  \\\n",
       "0     HP:0001657; HP:0001279; HP:0000007; HP:0000407   \n",
       "1  HP:0001709; HP:0000957; HP:0004409; HP:0001639...   \n",
       "2                                                NaN   \n",
       "3                                                NaN   \n",
       "4                                                NaN   \n",
       "\n",
       "                                        publications  \\\n",
       "0                                           30461122   \n",
       "1  27484170; 26377839; 25917897; 25884655; 248207...   \n",
       "2  31028357; 23911551; 21636032; 33831308; 263105...   \n",
       "3  31028357; 23911551; 21636032; 33831308; 263105...   \n",
       "4  21636032; 33831308; 33917638; 34400560; 240707...   \n",
       "\n",
       "                                               panel  \\\n",
       "0         Developmental disorders; Cardiac disorders   \n",
       "1  Developmental disorders; Skin disorders; Cardi...   \n",
       "2                                  Cardiac disorders   \n",
       "3                                  Cardiac disorders   \n",
       "4                                  Cardiac disorders   \n",
       "\n",
       "                                            comments  \\\n",
       "0  KCNE1-related JLNS is due to altered gene prod...   \n",
       "1  Expert review done on 12/01/2022; Noonan syndr...   \n",
       "2  Expert review done on 05/01/2022; DSC2-related...   \n",
       "3  Expert review done on 05/01/2022; DSC2-related...   \n",
       "4  Expert review done on 05/01/2022; DSG2-related...   \n",
       "\n",
       "        date_of_last_review  \\\n",
       "0 2024-04-05 12:05:01+00:00   \n",
       "1 2025-01-21 14:56:43+00:00   \n",
       "2 2024-03-20 09:36:09+00:00   \n",
       "3 2024-03-20 09:35:19+00:00   \n",
       "4 2024-03-20 09:40:18+00:00   \n",
       "\n",
       "                                      g2p_record_url gene_nodenorm_id  \\\n",
       "0  https://www.ebi.ac.uk/gene2phenotype/lgd/G2P00124    NCBIGene:3753   \n",
       "1  https://www.ebi.ac.uk/gene2phenotype/lgd/G2P00841    NCBIGene:5781   \n",
       "2  https://www.ebi.ac.uk/gene2phenotype/lgd/G2P03247    NCBIGene:1824   \n",
       "3  https://www.ebi.ac.uk/gene2phenotype/lgd/G2P03248    NCBIGene:1824   \n",
       "4  https://www.ebi.ac.uk/gene2phenotype/lgd/G2P03249    NCBIGene:1829   \n",
       "\n",
       "  gene_nodenorm_label disease_nodenorm_id  \\\n",
       "0               KCNE1       MONDO:0012871   \n",
       "1              PTPN11       MONDO:0100082   \n",
       "2                DSC2                <NA>   \n",
       "3                DSC2                <NA>   \n",
       "4                DSG2                <NA>   \n",
       "\n",
       "                 disease_nodenorm_label  \n",
       "0  Jervell and Lange-Nielsen syndrome 2  \n",
       "1                    LEOPARD syndrome 1  \n",
       "2                                  <NA>  \n",
       "3                                  <NA>  \n",
       "4                                  <NA>  "
      ]
     },
     "execution_count": 68,
     "metadata": {},
     "output_type": "execute_result"
    }
   ],
   "source": [
    "df.head()"
   ]
  },
  {
   "cell_type": "code",
   "execution_count": 69,
   "id": "caee28a8",
   "metadata": {
    "ExecuteTime": {
     "end_time": "2025-07-24T06:52:25.583887Z",
     "start_time": "2025-07-24T06:52:25.571082Z"
    }
   },
   "outputs": [],
   "source": [
    "## put into parser (change in-place): DONE\n",
    "\n",
    "df_only_nodenormed = df.dropna(subset=[\"gene_nodenorm_id\", \"gene_nodenorm_label\", \n",
    "                                       \"disease_nodenorm_id\", \"disease_nodenorm_label\"],\n",
    "                              ignore_index=True).copy()"
   ]
  },
  {
   "cell_type": "code",
   "execution_count": 70,
   "id": "4fc8d268",
   "metadata": {
    "ExecuteTime": {
     "end_time": "2025-07-24T06:52:26.431167Z",
     "start_time": "2025-07-24T06:52:26.425263Z"
    }
   },
   "outputs": [
    {
     "data": {
      "text/plain": [
       "(2630, 26)"
      ]
     },
     "execution_count": 70,
     "metadata": {},
     "output_type": "execute_result"
    },
    {
     "data": {
      "text/plain": [
       "2630"
      ]
     },
     "execution_count": 70,
     "metadata": {},
     "output_type": "execute_result"
    }
   ],
   "source": [
    "## same! so it works as expected\n",
    "\n",
    "df_only_nodenormed.shape\n",
    "\n",
    "n_rows_after_nodenorm"
   ]
  },
  {
   "cell_type": "code",
   "execution_count": 71,
   "id": "0c05d470",
   "metadata": {
    "ExecuteTime": {
     "end_time": "2025-07-24T06:52:33.993943Z",
     "start_time": "2025-07-24T06:52:33.963449Z"
    }
   },
   "outputs": [
    {
     "name": "stdout",
     "output_type": "stream",
     "text": [
      "<class 'pandas.core.frame.DataFrame'>\n",
      "RangeIndex: 2630 entries, 0 to 2629\n",
      "Data columns (total 26 columns):\n",
      " #   Column                              Non-Null Count  Dtype              \n",
      "---  ------                              --------------  -----              \n",
      " 0   g2p_id                              2630 non-null   object             \n",
      " 1   gene_symbol                         2630 non-null   object             \n",
      " 2   gene_mim                            2630 non-null   object             \n",
      " 3   hgnc_id                             2630 non-null   object             \n",
      " 4   previous_gene_symbols               2430 non-null   object             \n",
      " 5   disease_name                        2630 non-null   object             \n",
      " 6   disease_mim                         2630 non-null   object             \n",
      " 7   disease_MONDO                       1581 non-null   object             \n",
      " 8   allelic_requirement                 2630 non-null   object             \n",
      " 9   cross_cutting_modifier              287 non-null    object             \n",
      " 10  confidence                          2630 non-null   object             \n",
      " 11  variant_consequence                 2621 non-null   object             \n",
      " 12  variant_types                       556 non-null    object             \n",
      " 13  molecular_mechanism                 2630 non-null   object             \n",
      " 14  molecular_mechanism_categorisation  2630 non-null   object             \n",
      " 15  molecular_mechanism_evidence        35 non-null     object             \n",
      " 16  phenotypes                          1945 non-null   object             \n",
      " 17  publications                        2363 non-null   object             \n",
      " 18  panel                               2630 non-null   object             \n",
      " 19  comments                            23 non-null     object             \n",
      " 20  date_of_last_review                 2630 non-null   datetime64[ns, UTC]\n",
      " 21  g2p_record_url                      2630 non-null   object             \n",
      " 22  gene_nodenorm_id                    2630 non-null   object             \n",
      " 23  gene_nodenorm_label                 2630 non-null   object             \n",
      " 24  disease_nodenorm_id                 2630 non-null   object             \n",
      " 25  disease_nodenorm_label              2630 non-null   object             \n",
      "dtypes: datetime64[ns, UTC](1), object(25)\n",
      "memory usage: 4.3 MB\n"
     ]
    }
   ],
   "source": [
    "df_only_nodenormed.info(memory_usage=\"deep\")"
   ]
  },
  {
   "cell_type": "code",
   "execution_count": null,
   "id": "5dd5e486",
   "metadata": {},
   "outputs": [],
   "source": [
    "## code block to review NodeNorm \"duplicate edges\" - from DISEASES\n",
    "\n",
    "# df_textmining_nodenorm_dups = df_textmining[\n",
    "#     df_textmining.duplicated(\n",
    "#         subset=[\"gene_nodenorm_id\", \"disease_nodenorm_id\"], \n",
    "#         keep=False)].copy()\n",
    "\n",
    "# df_textmining_nodenorm_dups.sort_values(by=[\"disease_nodenorm_id\", \"gene_nodenorm_id\"],\n",
    "#                                         inplace=True)\n",
    "\n",
    "# df_textmining_nodenorm_dups.shape\n",
    "\n",
    "# df_textmining_nodenorm_dups"
   ]
  },
  {
   "cell_type": "code",
   "execution_count": null,
   "id": "f4c5c7fa",
   "metadata": {},
   "outputs": [],
   "source": []
  },
  {
   "cell_type": "markdown",
   "id": "38ebbe59",
   "metadata": {},
   "source": [
    "## Generating documents"
   ]
  },
  {
   "cell_type": "markdown",
   "id": "9f01e8af",
   "metadata": {},
   "source": [
    "### Rows not included"
   ]
  },
  {
   "cell_type": "markdown",
   "id": "73e93ccc",
   "metadata": {},
   "source": [
    "<div class=\"alert alert-block alert-info\">\n",
    "\n",
    "See section \"Stats on rows removed during NodeNorming\"\n",
    "* No IDs in disease_mim column \n",
    "* NodeNorm mapping failures for disease_mim column IDs\n",
    "* confidence column value == (\"refuted\" OR \"disputed\" OR \"limited\")"
   ]
  },
  {
   "cell_type": "markdown",
   "id": "79ebea07",
   "metadata": {},
   "source": [
    "### Columns not included"
   ]
  },
  {
   "cell_type": "markdown",
   "id": "c0c7b27e",
   "metadata": {},
   "source": [
    "<div class=\"alert alert-block alert-info\">\n",
    "\n",
    "See data-playground for details\n",
    "\n",
    "<br>\n",
    "\n",
    "Seem **easier** to get into Translator, potentially useful: \n",
    "\n",
    "- disease_MONDO\n",
    "- **confidence**: \n",
    "   - there's biolink association-slot *has confidence level*. But there's also a biolink entity *confidence level* that's supposed to have values from CIO. \n",
    "   - Are G2P's terms okay? Or are they supposed to be mapped to ontology terms like CIO/SEPIO?-(which...may be a loss of info compared to G2P's term definitions)\n",
    "- **allelic_requirement**: biolink-model PR to create edge property for this. The values will likely need to be converted into HPO \"mode of inheritance terms\" (see data-playground notebook for mapping table)\n",
    "\n",
    "<br>\n",
    "\n",
    "Seem harder to get into Translator, potentially useful: \n",
    "- **molecular_mechanism_categorisation**: \"qualifies\" the molecular_mechanism (seems to say how molecular mechanism was decided: \"inferred\" or \"evidence\").\n",
    "  - tricky since it's like \"how knowledge was obtained\" for a specific part of edge (I'm using molecular_mechanism to adjust the subject qualifier) \n",
    "- **cross_cutting_modifier**: additional info on inheritance. Limited set of terms BUT \"; \"- delimited. Some terms may map to \"HPO inheritance qualifier terms\" (didn't try). Lots of missing data (NA). \n",
    "  - would be a new edge/node property or qualifier. But complicated because EBI gene2pheno has custom terms, not just from HPO inheritance qualifiers. \n",
    "- **variant_consequence**: row can have multiple values (\"; \"- delimited). Limited set of terms already mapped to SO.\n",
    "  - seems like aspect qualifier, but this can be a list for a gene-disease edge - and I'm not sure how to handle this (not that comfortable splitting into multiple edges)\n",
    "- **variant_types**: row can have multiple values (\"; \"- delimited). Medium set of terms already mapped to SO. Lots of missing data (NA)\n",
    "  - would be a new edge/node property or qualifier (somewhat modeled as predicates, for variant-gene relationships).\n",
    "- **molecular_mechanism_evidence**: treat as free text? very complicated string \n",
    "- **comments**: treat as free text\n",
    "    \n",
    "<br>\n",
    "\n",
    "Can ignore: \n",
    "- gene_mim\n",
    "- gene_symbol\n",
    "- previous_gene_symbols\n",
    "- disease_name\n",
    "- phenotypes: \"reported by the publication\". Unclear how they fit in gene-disease association or a diff edge (gene-phenotype, phenotype-disease)\n",
    "- panel: pretty specific, original resource's way of organizing data"
   ]
  },
  {
   "cell_type": "code",
   "execution_count": 72,
   "id": "fa6343ac",
   "metadata": {
    "ExecuteTime": {
     "end_time": "2025-07-24T07:00:29.578561Z",
     "start_time": "2025-07-24T07:00:29.572305Z"
    },
    "scrolled": true
   },
   "outputs": [
    {
     "data": {
      "text/plain": [
       "molecular_mechanism\n",
       "loss of function                     2015\n",
       "undetermined                          872\n",
       "gain of function                      172\n",
       "dominant negative                     119\n",
       "undetermined non-loss-of-function       3\n",
       "Name: count, dtype: int64"
      ]
     },
     "execution_count": 72,
     "metadata": {},
     "output_type": "execute_result"
    }
   ],
   "source": [
    "## code chunk to review data\n",
    "\n",
    "df[\"molecular_mechanism\"].value_counts()"
   ]
  },
  {
   "cell_type": "code",
   "execution_count": 73,
   "id": "af5d0f3f",
   "metadata": {
    "ExecuteTime": {
     "end_time": "2025-07-24T07:00:37.701299Z",
     "start_time": "2025-07-24T07:00:37.681257Z"
    }
   },
   "outputs": [
    {
     "data": {
      "text/html": [
       "<div>\n",
       "<style scoped>\n",
       "    .dataframe tbody tr th:only-of-type {\n",
       "        vertical-align: middle;\n",
       "    }\n",
       "\n",
       "    .dataframe tbody tr th {\n",
       "        vertical-align: top;\n",
       "    }\n",
       "\n",
       "    .dataframe thead th {\n",
       "        text-align: right;\n",
       "    }\n",
       "</style>\n",
       "<table border=\"1\" class=\"dataframe\">\n",
       "  <thead>\n",
       "    <tr style=\"text-align: right;\">\n",
       "      <th></th>\n",
       "      <th>g2p_id</th>\n",
       "      <th>gene_symbol</th>\n",
       "      <th>gene_mim</th>\n",
       "      <th>hgnc_id</th>\n",
       "      <th>previous_gene_symbols</th>\n",
       "      <th>disease_name</th>\n",
       "      <th>disease_mim</th>\n",
       "      <th>disease_MONDO</th>\n",
       "      <th>allelic_requirement</th>\n",
       "      <th>cross_cutting_modifier</th>\n",
       "      <th>confidence</th>\n",
       "      <th>variant_consequence</th>\n",
       "      <th>variant_types</th>\n",
       "      <th>molecular_mechanism</th>\n",
       "      <th>molecular_mechanism_categorisation</th>\n",
       "      <th>molecular_mechanism_evidence</th>\n",
       "      <th>phenotypes</th>\n",
       "      <th>publications</th>\n",
       "      <th>panel</th>\n",
       "      <th>comments</th>\n",
       "      <th>date_of_last_review</th>\n",
       "      <th>g2p_record_url</th>\n",
       "      <th>gene_nodenorm_id</th>\n",
       "      <th>gene_nodenorm_label</th>\n",
       "      <th>disease_nodenorm_id</th>\n",
       "      <th>disease_nodenorm_label</th>\n",
       "    </tr>\n",
       "  </thead>\n",
       "  <tbody>\n",
       "    <tr>\n",
       "      <th>2825</th>\n",
       "      <td>G2P03538</td>\n",
       "      <td>NPAT</td>\n",
       "      <td>OMIM:601448</td>\n",
       "      <td>HGNC:7896</td>\n",
       "      <td>E14; P220</td>\n",
       "      <td>NPAT-related cancer</td>\n",
       "      <td>NaN</td>\n",
       "      <td>NaN</td>\n",
       "      <td>monoallelic_autosomal</td>\n",
       "      <td>NaN</td>\n",
       "      <td>moderate</td>\n",
       "      <td>decreased gene product level</td>\n",
       "      <td>stop_gained</td>\n",
       "      <td>loss of function</td>\n",
       "      <td>inferred</td>\n",
       "      <td>NaN</td>\n",
       "      <td>NaN</td>\n",
       "      <td>38778081</td>\n",
       "      <td>Cancer disorders</td>\n",
       "      <td>NaN</td>\n",
       "      <td>2025-03-14 12:04:00+00:00</td>\n",
       "      <td>https://www.ebi.ac.uk/gene2phenotype/lgd/G2P03538</td>\n",
       "      <td>NCBIGene:4863</td>\n",
       "      <td>NPAT</td>\n",
       "      <td>&lt;NA&gt;</td>\n",
       "      <td>&lt;NA&gt;</td>\n",
       "    </tr>\n",
       "  </tbody>\n",
       "</table>\n",
       "</div>"
      ],
      "text/plain": [
       "        g2p_id gene_symbol     gene_mim    hgnc_id previous_gene_symbols  \\\n",
       "2825  G2P03538        NPAT  OMIM:601448  HGNC:7896             E14; P220   \n",
       "\n",
       "             disease_name disease_mim disease_MONDO    allelic_requirement  \\\n",
       "2825  NPAT-related cancer         NaN           NaN  monoallelic_autosomal   \n",
       "\n",
       "     cross_cutting_modifier confidence           variant_consequence  \\\n",
       "2825                    NaN   moderate  decreased gene product level   \n",
       "\n",
       "     variant_types molecular_mechanism molecular_mechanism_categorisation  \\\n",
       "2825   stop_gained    loss of function                           inferred   \n",
       "\n",
       "     molecular_mechanism_evidence phenotypes publications             panel  \\\n",
       "2825                          NaN        NaN     38778081  Cancer disorders   \n",
       "\n",
       "     comments       date_of_last_review  \\\n",
       "2825      NaN 2025-03-14 12:04:00+00:00   \n",
       "\n",
       "                                         g2p_record_url gene_nodenorm_id  \\\n",
       "2825  https://www.ebi.ac.uk/gene2phenotype/lgd/G2P03538    NCBIGene:4863   \n",
       "\n",
       "     gene_nodenorm_label disease_nodenorm_id disease_nodenorm_label  \n",
       "2825                NPAT                <NA>                   <NA>  "
      ]
     },
     "execution_count": 73,
     "metadata": {},
     "output_type": "execute_result"
    }
   ],
   "source": [
    "## code chunk to review data\n",
    "## checking date of last review\n",
    "\n",
    "df[df[\"g2p_id\"] == \"G2P03538\"]"
   ]
  },
  {
   "cell_type": "code",
   "execution_count": 74,
   "id": "7590582d",
   "metadata": {
    "ExecuteTime": {
     "end_time": "2025-07-24T07:00:43.955043Z",
     "start_time": "2025-07-24T07:00:43.947915Z"
    }
   },
   "outputs": [
    {
     "data": {
      "text/plain": [
       "molecular_mechanism_evidence\n",
       "39480921 -> function: protein expression; models: non-human model organism                                                           2\n",
       "34965576 -> models: non-human model organism                                                                                         2\n",
       "37126546 -> models: non-human model organism; rescue: non-human model organism                                                       2\n",
       "10611230 -> function: biochemical, protein expression; functional_alteration: non patient cells; models: non-human model organism    1\n",
       "34040189 -> models: non-human model organism; rescue: non-human model organism                                                       1\n",
       "Name: count, dtype: int64"
      ]
     },
     "execution_count": 74,
     "metadata": {},
     "output_type": "execute_result"
    }
   ],
   "source": [
    "## code chunk to review data\n",
    "\n",
    "df[\"molecular_mechanism_evidence\"].value_counts()[0:5]\n",
    "\n",
    "## df.info()"
   ]
  },
  {
   "cell_type": "code",
   "execution_count": 76,
   "id": "91f8b636",
   "metadata": {
    "ExecuteTime": {
     "end_time": "2025-07-24T07:02:54.481356Z",
     "start_time": "2025-07-24T07:02:54.391706Z"
    }
   },
   "outputs": [],
   "source": [
    "## want jsonlines format\n",
    "\n",
    "import jsonlines"
   ]
  },
  {
   "cell_type": "markdown",
   "id": "49145525",
   "metadata": {
    "heading_collapsed": true
   },
   "source": [
    "### BioThings-type parser "
   ]
  },
  {
   "cell_type": "markdown",
   "id": "c4bb90d5",
   "metadata": {
    "hidden": true
   },
   "source": [
    "Includes `_id` set to g2p_id value"
   ]
  },
  {
   "cell_type": "code",
   "execution_count": null,
   "id": "1bea6afb",
   "metadata": {
    "ExecuteTime": {
     "end_time": "2025-05-21T06:44:13.504311Z",
     "start_time": "2025-05-21T06:44:13.493109Z"
    },
    "hidden": true
   },
   "outputs": [],
   "source": [
    "## code chunk for testing parts of inner code\n",
    "\n",
    "for row in df.itertuples(index=False):\n",
    "    document = {\n",
    "        \"_id\": row.g2p_id,\n",
    "        \"subject\": row.gene_nodenorm_id,\n",
    "        \"sources\": [\n",
    "            {\n",
    "                \"resource_id\": \"infores:ebi-gene2phenotype\",\n",
    "                \"resource_role\": \"primary_knowledge_source\",\n",
    "                \"source_record_urls\": [row.g2p_record_url]\n",
    "            }\n",
    "        ],\n",
    "        \"attributes\": [\n",
    "            {\n",
    "                \"attribute_type_id\": \"biolink:original_subject\",\n",
    "                \"value\": row.hgnc_id\n",
    "            }\n",
    "        ]\n",
    "    }\n",
    "    if pd.notna(row.publications):\n",
    "        document[\"attributes\"].append(\n",
    "            {\n",
    "                \"attribute_type_id\": \"biolink:publications\",\n",
    "                \"value\": [\"PMID:\" + i.strip() for i in row.publications.split(\";\")]\n",
    "            }\n",
    "        )\n",
    "    document\n",
    "    break"
   ]
  },
  {
   "cell_type": "code",
   "execution_count": null,
   "id": "4692267d",
   "metadata": {
    "ExecuteTime": {
     "end_time": "2025-05-21T06:44:13.561125Z",
     "start_time": "2025-05-21T06:44:13.506827Z"
    },
    "hidden": true
   },
   "outputs": [],
   "source": [
    "## put into parser (format): DONE\n",
    "##   don't save in array, yield each document instead\n",
    "\n",
    "## GENERATING DOCS, saving in array\n",
    "documents = []\n",
    "\n",
    "## using itertuples because it's faster, preserves datatypes\n",
    "for row in df_only_nodenormed.itertuples(index=False):\n",
    "    ## simple assignments: no NA or \"if\"\n",
    "    document = {\n",
    "        \"_id\": row.g2p_id,\n",
    "        \"subject\": row.gene_nodenorm_id,\n",
    "        \"qualifiers\": [  ## needs data-modeling/TRAPI validation review\n",
    "            {\n",
    "                \"qualifier_type_id\": \"biolink:subject_form_or_variant_qualifier\",\n",
    "                \"qualifier_value\": \"genetic_variant_form\"\n",
    "            }\n",
    "        ],\n",
    "        \"object\": row.disease_nodenorm_id,\n",
    "        \"sources\": [\n",
    "            {\n",
    "                \"resource_id\": \"infores:ebi-gene2phenotype\",\n",
    "                \"resource_role\": \"primary_knowledge_source\",\n",
    "                \"source_record_urls\": [row.g2p_record_url]\n",
    "            }\n",
    "        ],\n",
    "        \"attributes\": [\n",
    "            {\n",
    "                \"attribute_type_id\": \"biolink:knowledge_level\",\n",
    "                \"value\": \"knowledge_assertion\"\n",
    "            },\n",
    "            {\n",
    "                \"attribute_type_id\": \"biolink:agent_type\",\n",
    "                \"value\": \"manual_agent\"\n",
    "            },\n",
    "            {\n",
    "                \"attribute_type_id\": \"biolink:original_subject\",\n",
    "                \"original_attribute_name\": \"hgnc id\",  ## original column name\n",
    "                \"value\": row.hgnc_id\n",
    "            },\n",
    "            {   ## currently, after NodeNorming, no NAs in OMIM/orphanet column\n",
    "                \"attribute_type_id\": \"biolink:original_object\",\n",
    "                \"original_attribute_name\": \"disease mim\",  ## original column name\n",
    "                \"value\": row.disease_mim\n",
    "            },\n",
    "            {   ## needs data-modeling/TRAPI validation review\n",
    "                ## EBI gene2pheno website calls this \"Last Updated\"/\"Last Updated On\"\n",
    "                \"attribute_type_id\": \"biolink:update_date\",\n",
    "                \"original_attribute_name\": \"date of last review\",  ## original column name\n",
    "                \"value\": str(row.date_of_last_review)\n",
    "            },\n",
    "        ]\n",
    "    }\n",
    "    \n",
    "    ## more complex assignments (\"if\", handling NA). When value is NA, list comprehension with split won't work\n",
    "    ## predicate\n",
    "    if row.confidence == \"limited\":\n",
    "        document[\"predicate\"] = \"biolink:related_to\"\n",
    "    elif row.confidence in [\"moderate\", \"strong\", \"definitive\"]:\n",
    "        document[\"predicate\"] = \"biolink:causes\"\n",
    "    else:\n",
    "        raise ValueError(f\"Unexpected confidence value during predicate mapping: {row.confidence}. Adjust parser.\")\n",
    "    ## publications\n",
    "    if pd.notna(row.publications):\n",
    "        document[\"attributes\"].append(\n",
    "            {\n",
    "                \"attribute_type_id\": \"biolink:publications\",\n",
    "                \"value\": [\"PMID:\" + i.strip() for i in row.publications.split(\";\")]\n",
    "            }\n",
    "        )\n",
    "    \n",
    "    documents.append(document)"
   ]
  },
  {
   "cell_type": "markdown",
   "id": "5b6df62f",
   "metadata": {},
   "source": [
    "### File: List of TRAPI edges"
   ]
  },
  {
   "cell_type": "markdown",
   "id": "75e81061",
   "metadata": {},
   "source": [
    "This code isn't in parser.py\n",
    "\n",
    "Doesn't have `_id`! Doesn't include original_attribute_name for original_subject, original_object, update_date."
   ]
  },
  {
   "cell_type": "code",
   "execution_count": 73,
   "id": "4860e705",
   "metadata": {
    "ExecuteTime": {
     "end_time": "2025-07-18T09:45:55.889395Z",
     "start_time": "2025-07-18T09:45:55.885106Z"
    }
   },
   "outputs": [
    {
     "data": {
      "text/plain": [
       "Index(['g2p_id', 'gene_symbol', 'gene_mim', 'hgnc_id', 'previous_gene_symbols',\n",
       "       'disease_name', 'disease_mim', 'disease_MONDO', 'allelic_requirement',\n",
       "       'cross_cutting_modifier', 'confidence', 'variant_consequence',\n",
       "       'variant_types', 'molecular_mechanism',\n",
       "       'molecular_mechanism_categorisation', 'molecular_mechanism_evidence',\n",
       "       'phenotypes', 'publications', 'panel', 'comments',\n",
       "       'date_of_last_review', 'g2p_record_url', 'gene_nodenorm_id',\n",
       "       'gene_nodenorm_label', 'disease_nodenorm_id', 'disease_nodenorm_label'],\n",
       "      dtype='object')"
      ]
     },
     "execution_count": 73,
     "metadata": {},
     "output_type": "execute_result"
    }
   ],
   "source": [
    "df_only_nodenormed.columns"
   ]
  },
  {
   "cell_type": "code",
   "execution_count": 77,
   "id": "635c4f44",
   "metadata": {
    "ExecuteTime": {
     "end_time": "2025-07-24T07:04:50.932095Z",
     "start_time": "2025-07-24T07:04:50.772709Z"
    }
   },
   "outputs": [],
   "source": [
    "## wrapped with file writer, otherwise contents very similar to before\n",
    "## commented out original_attribute_name\n",
    "\n",
    "with jsonlines.open('EBIgene2pheno_trapi_edges.jsonl', mode='w', compact=True) as trapi_writer:\n",
    "\n",
    "    ## using itertuples because it's faster, preserves datatypes\n",
    "    for row in df_only_nodenormed.itertuples(index=False):\n",
    "        \n",
    "        ## simple assignments: no NA or \"if\"\n",
    "        document = {\n",
    "            \"subject\": row.gene_nodenorm_id,\n",
    "            \"predicate\": \"biolink:causes\",\n",
    "            \"object\": row.disease_nodenorm_id,\n",
    "            \"sources\": [\n",
    "                {\n",
    "                    \"resource_id\": \"infores:ebi-gene2phenotype\",\n",
    "                    \"resource_role\": \"primary_knowledge_source\",\n",
    "                    \"source_record_urls\": [row.g2p_record_url]\n",
    "                }\n",
    "            ],\n",
    "            \"attributes\": [\n",
    "                {\n",
    "                    \"attribute_type_id\": \"biolink:knowledge_level\",\n",
    "                    \"value\": \"knowledge_assertion\"\n",
    "                },\n",
    "                {\n",
    "                    \"attribute_type_id\": \"biolink:agent_type\",\n",
    "                    \"value\": \"manual_agent\"\n",
    "                },\n",
    "                {\n",
    "                    \"attribute_type_id\": \"biolink:original_subject\",\n",
    "#                     \"original_attribute_name\": \"hgnc id\",  ## original column name\n",
    "                    \"value\": row.hgnc_id\n",
    "                },\n",
    "                {   ## currently, after NodeNorming, no NAs in OMIM/orphanet column\n",
    "                    \"attribute_type_id\": \"biolink:original_object\",\n",
    "#                     \"original_attribute_name\": \"disease mim\",  ## original column name\n",
    "                    \"value\": row.disease_mim\n",
    "                },\n",
    "                {   ## needs data-modeling/TRAPI validation review\n",
    "                    ## EBI gene2pheno website calls this \"Last Updated\"/\"Last Updated On\"\n",
    "                    \"attribute_type_id\": \"biolink:update_date\",\n",
    "#                     \"original_attribute_name\": \"date of last review\",  ## original column name\n",
    "                    \"value\": str(row.date_of_last_review)\n",
    "                },\n",
    "            ]\n",
    "        }\n",
    "\n",
    "        ## more complex assignments (\"if\", handling NA). When value is NA, list comprehension with split won't work\n",
    "        ## publications\n",
    "        if pd.notna(row.publications):\n",
    "            document[\"attributes\"].append(\n",
    "                {\n",
    "                    \"attribute_type_id\": \"biolink:publications\",\n",
    "                    \"value\": [\"PMID:\" + i.strip() for i in row.publications.split(\";\")]\n",
    "                }\n",
    "            )\n",
    "            \n",
    "        ## qualifier\n",
    "        if row.molecular_mechanism == \"loss of function\":\n",
    "            document[\"qualifiers\"] = [\n",
    "                {\n",
    "                    \"qualifier_type_id\": \"biolink:subject_form_or_variant_qualifier\",\n",
    "                    \"qualifier_value\": \"loss_of_function_variant_form\"\n",
    "                }\n",
    "            ]\n",
    "        elif row.molecular_mechanism == \"undetermined\":\n",
    "            document[\"qualifiers\"] = [\n",
    "                {\n",
    "                    \"qualifier_type_id\": \"biolink:subject_form_or_variant_qualifier\",\n",
    "                    \"qualifier_value\": \"genetic_variant_form\"\n",
    "                }\n",
    "            ]\n",
    "        elif row.molecular_mechanism == \"gain of function\":\n",
    "            document[\"qualifiers\"] = [\n",
    "                {\n",
    "                    \"qualifier_type_id\": \"biolink:subject_form_or_variant_qualifier\",\n",
    "                    \"qualifier_value\": \"gain_of_function_variant_form\"\n",
    "                }\n",
    "            ]\n",
    "        elif row.molecular_mechanism == \"dominant negative\":\n",
    "            document[\"qualifiers\"] = [\n",
    "                {\n",
    "                    \"qualifier_type_id\": \"biolink:subject_form_or_variant_qualifier\",\n",
    "                    \"qualifier_value\": \"dominant_negative_variant_form\"\n",
    "                }\n",
    "            ]\n",
    "        elif row.molecular_mechanism == \"undetermined non-loss-of-function\":\n",
    "            document[\"qualifiers\"] = [\n",
    "                {\n",
    "                    \"qualifier_type_id\": \"biolink:subject_form_or_variant_qualifier\",\n",
    "                    \"qualifier_value\": \"non_loss_of_function_variant_form\"\n",
    "                }\n",
    "            ]\n",
    "        else:\n",
    "            raise ValueError(f\"Unexpected molecular_mechanism value during qualifier mapping: {row.molecular_mechanism}. Adjust parser.\")\n",
    "\n",
    "        ## doing so it doesn't print\n",
    "        bytes = trapi_writer.write(document)"
   ]
  },
  {
   "cell_type": "markdown",
   "id": "efed3d53",
   "metadata": {},
   "source": [
    "### File: KGX edges"
   ]
  },
  {
   "cell_type": "markdown",
   "id": "9dfc5604",
   "metadata": {},
   "source": [
    "This code isn't in parser.py\n",
    "\n",
    "Doesn't include original_attribute_name for original_subject, original_object, update_date"
   ]
  },
  {
   "cell_type": "code",
   "execution_count": 78,
   "id": "2c12f9c1",
   "metadata": {
    "ExecuteTime": {
     "end_time": "2025-07-24T07:04:57.802429Z",
     "start_time": "2025-07-24T07:04:57.715546Z"
    }
   },
   "outputs": [],
   "source": [
    "\n",
    "with jsonlines.open('EBIgene2pheno_kgx_edges.jsonl', mode='w', compact=True) as kgx_edges_writer:\n",
    "\n",
    "    ## using itertuples because it's faster, preserves datatypes\n",
    "    for row in df_only_nodenormed.itertuples(index=False):\n",
    "        \n",
    "        ## simple assignments: no NA or \"if\"\n",
    "        document = {\n",
    "            \"subject\": row.gene_nodenorm_id,\n",
    "            \"predicate\": \"biolink:causes\",\n",
    "            \"object\": row.disease_nodenorm_id,\n",
    "            \"sources\": [\n",
    "                {\n",
    "                    \"resource_id\": \"infores:ebi-gene2phenotype\",\n",
    "                    \"resource_role\": \"primary_knowledge_source\",\n",
    "                    \"source_record_urls\": [row.g2p_record_url]\n",
    "                }\n",
    "            ],\n",
    "            \"knowledge_level\": \"knowledge_assertion\",\n",
    "            \"agent_type\": \"manual_agent\",\n",
    "            \"original_subject\": row.hgnc_id,\n",
    "            ## currently, after NodeNorming, no NAs in OMIM/orphanet column\n",
    "            \"original_object\": row.disease_mim,\n",
    "            ## needs data-modeling/TRAPI validation review\n",
    "            ## EBI gene2pheno website calls this \"Last Updated\"/\"Last Updated On\"\n",
    "            \"update_date\": str(row.date_of_last_review),\n",
    "        }\n",
    "\n",
    "        ## more complex assignments (\"if\", handling NA). When value is NA, list comprehension with split won't work\n",
    "        ## publications\n",
    "        if pd.notna(row.publications):\n",
    "            document[\"publications\"] = [\"PMID:\" + i.strip() for i in row.publications.split(\";\")]\n",
    "\n",
    "        ## qualifier\n",
    "        if row.molecular_mechanism == \"loss of function\":\n",
    "            document[\"subject_form_or_variant_qualifier\"] = \"loss_of_function_variant_form\"\n",
    "        elif row.molecular_mechanism == \"undetermined\":\n",
    "            document[\"subject_form_or_variant_qualifier\"] = \"genetic_variant_form\"\n",
    "        elif row.molecular_mechanism == \"gain of function\":\n",
    "            document[\"subject_form_or_variant_qualifier\"] = \"gain_of_function_variant_form\"\n",
    "        elif row.molecular_mechanism == \"dominant negative\":\n",
    "            document[\"subject_form_or_variant_qualifier\"] = \"dominant_negative_variant_form\"\n",
    "        elif row.molecular_mechanism == \"undetermined non-loss-of-function\":\n",
    "            document[\"subject_form_or_variant_qualifier\"] = \"non_loss_of_function_variant_form\"\n",
    "        else:\n",
    "            raise ValueError(f\"Unexpected molecular_mechanism value during qualifier mapping: {row.molecular_mechanism}. Adjust parser.\")\n",
    "\n",
    "            \n",
    "        ## doing so it doesn't print\n",
    "        bytes = kgx_edges_writer.write(document)"
   ]
  },
  {
   "cell_type": "markdown",
   "id": "cb2b5d7c",
   "metadata": {},
   "source": [
    "### File: KGX nodes"
   ]
  },
  {
   "cell_type": "markdown",
   "id": "3c7639ad",
   "metadata": {},
   "source": [
    "This code isn't in parser.py\n",
    "\n",
    "Requires id and category. name and other properties (basically node attributes) are optional. "
   ]
  },
  {
   "cell_type": "code",
   "execution_count": 79,
   "id": "a7b0c3de",
   "metadata": {
    "ExecuteTime": {
     "end_time": "2025-07-24T07:05:00.846298Z",
     "start_time": "2025-07-24T07:05:00.827843Z"
    }
   },
   "outputs": [
    {
     "data": {
      "text/html": [
       "<div>\n",
       "<style scoped>\n",
       "    .dataframe tbody tr th:only-of-type {\n",
       "        vertical-align: middle;\n",
       "    }\n",
       "\n",
       "    .dataframe tbody tr th {\n",
       "        vertical-align: top;\n",
       "    }\n",
       "\n",
       "    .dataframe thead th {\n",
       "        text-align: right;\n",
       "    }\n",
       "</style>\n",
       "<table border=\"1\" class=\"dataframe\">\n",
       "  <thead>\n",
       "    <tr style=\"text-align: right;\">\n",
       "      <th></th>\n",
       "      <th>gene_nodenorm_id</th>\n",
       "      <th>gene_nodenorm_label</th>\n",
       "    </tr>\n",
       "  </thead>\n",
       "  <tbody>\n",
       "    <tr>\n",
       "      <th>0</th>\n",
       "      <td>NCBIGene:3753</td>\n",
       "      <td>KCNE1</td>\n",
       "    </tr>\n",
       "    <tr>\n",
       "      <th>1</th>\n",
       "      <td>NCBIGene:5781</td>\n",
       "      <td>PTPN11</td>\n",
       "    </tr>\n",
       "    <tr>\n",
       "      <th>2</th>\n",
       "      <td>NCBIGene:3728</td>\n",
       "      <td>JUP</td>\n",
       "    </tr>\n",
       "    <tr>\n",
       "      <th>3</th>\n",
       "      <td>NCBIGene:801</td>\n",
       "      <td>CALM1</td>\n",
       "    </tr>\n",
       "    <tr>\n",
       "      <th>4</th>\n",
       "      <td>NCBIGene:2273</td>\n",
       "      <td>FHL1</td>\n",
       "    </tr>\n",
       "    <tr>\n",
       "      <th>...</th>\n",
       "      <td>...</td>\n",
       "      <td>...</td>\n",
       "    </tr>\n",
       "    <tr>\n",
       "      <th>2621</th>\n",
       "      <td>NCBIGene:374462</td>\n",
       "      <td>PTPRQ</td>\n",
       "    </tr>\n",
       "    <tr>\n",
       "      <th>2622</th>\n",
       "      <td>NCBIGene:5269</td>\n",
       "      <td>SERPINB6</td>\n",
       "    </tr>\n",
       "    <tr>\n",
       "      <th>2623</th>\n",
       "      <td>NCBIGene:7007</td>\n",
       "      <td>TECTA</td>\n",
       "    </tr>\n",
       "    <tr>\n",
       "      <th>2625</th>\n",
       "      <td>NCBIGene:286262</td>\n",
       "      <td>TPRN</td>\n",
       "    </tr>\n",
       "    <tr>\n",
       "      <th>2626</th>\n",
       "      <td>NCBIGene:51475</td>\n",
       "      <td>CABP2</td>\n",
       "    </tr>\n",
       "  </tbody>\n",
       "</table>\n",
       "<p>2256 rows × 2 columns</p>\n",
       "</div>"
      ],
      "text/plain": [
       "     gene_nodenorm_id gene_nodenorm_label\n",
       "0       NCBIGene:3753               KCNE1\n",
       "1       NCBIGene:5781              PTPN11\n",
       "2       NCBIGene:3728                 JUP\n",
       "3        NCBIGene:801               CALM1\n",
       "4       NCBIGene:2273                FHL1\n",
       "...               ...                 ...\n",
       "2621  NCBIGene:374462               PTPRQ\n",
       "2622    NCBIGene:5269            SERPINB6\n",
       "2623    NCBIGene:7007               TECTA\n",
       "2625  NCBIGene:286262                TPRN\n",
       "2626   NCBIGene:51475               CABP2\n",
       "\n",
       "[2256 rows x 2 columns]"
      ]
     },
     "execution_count": 79,
     "metadata": {},
     "output_type": "execute_result"
    },
    {
     "data": {
      "text/html": [
       "<div>\n",
       "<style scoped>\n",
       "    .dataframe tbody tr th:only-of-type {\n",
       "        vertical-align: middle;\n",
       "    }\n",
       "\n",
       "    .dataframe tbody tr th {\n",
       "        vertical-align: top;\n",
       "    }\n",
       "\n",
       "    .dataframe thead th {\n",
       "        text-align: right;\n",
       "    }\n",
       "</style>\n",
       "<table border=\"1\" class=\"dataframe\">\n",
       "  <thead>\n",
       "    <tr style=\"text-align: right;\">\n",
       "      <th></th>\n",
       "      <th>disease_nodenorm_id</th>\n",
       "      <th>disease_nodenorm_label</th>\n",
       "    </tr>\n",
       "  </thead>\n",
       "  <tbody>\n",
       "    <tr>\n",
       "      <th>0</th>\n",
       "      <td>MONDO:0012871</td>\n",
       "      <td>Jervell and Lange-Nielsen syndrome 2</td>\n",
       "    </tr>\n",
       "    <tr>\n",
       "      <th>1</th>\n",
       "      <td>MONDO:0100082</td>\n",
       "      <td>LEOPARD syndrome 1</td>\n",
       "    </tr>\n",
       "    <tr>\n",
       "      <th>2</th>\n",
       "      <td>MONDO:0011017</td>\n",
       "      <td>Naxos disease</td>\n",
       "    </tr>\n",
       "    <tr>\n",
       "      <th>3</th>\n",
       "      <td>MONDO:0013966</td>\n",
       "      <td>catecholaminergic polymorphic ventricular tach...</td>\n",
       "    </tr>\n",
       "    <tr>\n",
       "      <th>4</th>\n",
       "      <td>MONDO:0010401</td>\n",
       "      <td>X-linked myopathy with postural muscle atrophy</td>\n",
       "    </tr>\n",
       "    <tr>\n",
       "      <th>...</th>\n",
       "      <td>...</td>\n",
       "      <td>...</td>\n",
       "    </tr>\n",
       "    <tr>\n",
       "      <th>2625</th>\n",
       "      <td>MONDO:0013215</td>\n",
       "      <td>autosomal recessive nonsyndromic hearing loss 79</td>\n",
       "    </tr>\n",
       "    <tr>\n",
       "      <th>2626</th>\n",
       "      <td>MONDO:0013963</td>\n",
       "      <td>autosomal recessive nonsyndromic hearing loss 93</td>\n",
       "    </tr>\n",
       "    <tr>\n",
       "      <th>2627</th>\n",
       "      <td>MONDO:0007395</td>\n",
       "      <td>craniofacial-deafness-hand syndrome</td>\n",
       "    </tr>\n",
       "    <tr>\n",
       "      <th>2628</th>\n",
       "      <td>MONDO:0011519</td>\n",
       "      <td>autosomal dominant nonsyndromic hearing loss 23</td>\n",
       "    </tr>\n",
       "    <tr>\n",
       "      <th>2629</th>\n",
       "      <td>MONDO:0011350</td>\n",
       "      <td>autosomal dominant nonsyndromic hearing loss 17</td>\n",
       "    </tr>\n",
       "  </tbody>\n",
       "</table>\n",
       "<p>2539 rows × 2 columns</p>\n",
       "</div>"
      ],
      "text/plain": [
       "     disease_nodenorm_id                             disease_nodenorm_label\n",
       "0          MONDO:0012871               Jervell and Lange-Nielsen syndrome 2\n",
       "1          MONDO:0100082                                 LEOPARD syndrome 1\n",
       "2          MONDO:0011017                                      Naxos disease\n",
       "3          MONDO:0013966  catecholaminergic polymorphic ventricular tach...\n",
       "4          MONDO:0010401     X-linked myopathy with postural muscle atrophy\n",
       "...                  ...                                                ...\n",
       "2625       MONDO:0013215   autosomal recessive nonsyndromic hearing loss 79\n",
       "2626       MONDO:0013963   autosomal recessive nonsyndromic hearing loss 93\n",
       "2627       MONDO:0007395                craniofacial-deafness-hand syndrome\n",
       "2628       MONDO:0011519    autosomal dominant nonsyndromic hearing loss 23\n",
       "2629       MONDO:0011350    autosomal dominant nonsyndromic hearing loss 17\n",
       "\n",
       "[2539 rows x 2 columns]"
      ]
     },
     "execution_count": 79,
     "metadata": {},
     "output_type": "execute_result"
    }
   ],
   "source": [
    "nodenormed_genes_final = df_only_nodenormed[[\"gene_nodenorm_id\", \"gene_nodenorm_label\"]].drop_duplicates()\n",
    "nodenormed_diseases_final = df_only_nodenormed[[\"disease_nodenorm_id\", \"disease_nodenorm_label\"]].drop_duplicates()\n",
    "\n",
    "nodenormed_genes_final\n",
    "nodenormed_diseases_final"
   ]
  },
  {
   "cell_type": "code",
   "execution_count": 80,
   "id": "d071fa84",
   "metadata": {
    "ExecuteTime": {
     "end_time": "2025-07-24T07:05:04.854645Z",
     "start_time": "2025-07-24T07:05:04.792943Z"
    }
   },
   "outputs": [],
   "source": [
    "\n",
    "with jsonlines.open('EBIgene2pheno_kgx_nodes.jsonl', mode='w', compact=True) as kgx_nodes_writer:\n",
    "    \n",
    "    ## using itertuples because it's faster, preserves datatypes\n",
    "    for row in nodenormed_genes_final.itertuples(index=False):\n",
    "        ## doing so it doesn't print\n",
    "        bytes = kgx_nodes_writer.write({\n",
    "            \"id\": row.gene_nodenorm_id,\n",
    "            \"name\": row.gene_nodenorm_label,            \n",
    "            ## hard-coded because during pre-NodeNorm process, only kept entities with this primary category\n",
    "            \"category\": [\"biolink:Gene\"]\n",
    "            \n",
    "        })\n",
    "\n",
    "    ## using itertuples because it's faster, preserves datatypes\n",
    "    for row in nodenormed_diseases_final.itertuples(index=False):\n",
    "        ## doing so it doesn't print\n",
    "        bytes = kgx_nodes_writer.write({\n",
    "            \"id\": row.disease_nodenorm_id,\n",
    "            \"name\": row.disease_nodenorm_label,\n",
    "            ## hard-coded because during pre-NodeNorm process, only kept entities with this primary category\n",
    "            \"category\": [\"biolink:Disease\"]\n",
    "        })"
   ]
  },
  {
   "cell_type": "code",
   "execution_count": 81,
   "id": "f7c77ea9",
   "metadata": {
    "ExecuteTime": {
     "end_time": "2025-07-24T07:05:05.600223Z",
     "start_time": "2025-07-24T07:05:05.596404Z"
    }
   },
   "outputs": [
    {
     "data": {
      "text/plain": [
       "4795"
      ]
     },
     "execution_count": 81,
     "metadata": {},
     "output_type": "execute_result"
    }
   ],
   "source": [
    "nodenormed_genes_final.shape[0] + nodenormed_diseases_final.shape[0]"
   ]
  },
  {
   "cell_type": "markdown",
   "id": "cdd0f4f7",
   "metadata": {},
   "source": [
    "## Checking documents"
   ]
  },
  {
   "cell_type": "code",
   "execution_count": null,
   "id": "0d715012",
   "metadata": {
    "ExecuteTime": {
     "end_time": "2025-05-08T05:38:12.096743Z",
     "start_time": "2025-05-08T05:38:11.739337Z"
    }
   },
   "outputs": [],
   "source": [
    "len(documents)"
   ]
  },
  {
   "cell_type": "code",
   "execution_count": null,
   "id": "482cff53",
   "metadata": {
    "ExecuteTime": {
     "end_time": "2025-04-18T07:02:18.849822Z",
     "start_time": "2025-04-18T07:02:18.838129Z"
    }
   },
   "outputs": [],
   "source": [
    "df_only_nodenormed.info()"
   ]
  },
  {
   "cell_type": "code",
   "execution_count": null,
   "id": "496719ed",
   "metadata": {
    "ExecuteTime": {
     "end_time": "2025-04-18T07:09:23.542231Z",
     "start_time": "2025-04-18T07:09:23.517499Z"
    }
   },
   "outputs": [],
   "source": [
    "## code chunk for finding rows -> then look up corresponding doc by idx\n",
    "# df_only_nodenormed[df_only_nodenormed[\"disease_mim\"].str.contains(\"orphanet\", na=False)]\n",
    "# df_only_nodenormed[df_only_nodenormed[\"confidence\"] == \"limited\"]\n",
    "# df_only_nodenormed[df_only_nodenormed[\"publications\"].isna()]\n",
    "# df_only_nodenormed[~df_only_nodenormed[\"publications\"].str.contains(\";\", na=True)]\n",
    "\n",
    "\n",
    "\n",
    "# df_only_nodenormed[df_only_nodenormed[\"previous_gene_symbols\"].isna()]\n",
    "# df_only_nodenormed[df_only_nodenormed[\"disease_MONDO\"].notna()]"
   ]
  },
  {
   "cell_type": "code",
   "execution_count": null,
   "id": "513e415a",
   "metadata": {
    "ExecuteTime": {
     "end_time": "2025-04-18T07:09:57.515947Z",
     "start_time": "2025-04-18T07:09:57.511815Z"
    }
   },
   "outputs": [],
   "source": [
    "pprint(documents[34])\n",
    "\n",
    "# documents[416]"
   ]
  },
  {
   "cell_type": "markdown",
   "id": "c3fb5da8",
   "metadata": {},
   "source": [
    "## BioThings Parser notes"
   ]
  },
  {
   "cell_type": "markdown",
   "id": "8ebfd610",
   "metadata": {},
   "source": [
    "Fine to use raise/assert in parser (raise is technically better programming behavior: https://realpython.com/python-assert-statement/#understanding-common-pitfalls-of-assert)\n",
    "\n",
    "\n",
    "My notes on parser:\n",
    "* adding prefixes to gene/disease IDs is good for pre-NodeNorming steps\n",
    "* keeping diff gene/disease ID namespaces as separate fields right now is good for current BTE/x-bte-annotation system\n",
    "  * Also, original subject will always be HGNC, original object will always be disease OMIM with current code\n",
    "\n",
    "\n",
    "My notes on syntax:\n",
    "* use `yield` when you want to \"return\" within a \"for loop\" (return only happen once, then exit for-loop/function execution)\n",
    "  * that's what it's used in main execution, when you're iterating over csv rows to generate documents\n",
    "* use `yield from {function}` to get the data from a generator (created by `yield` being used the function)"
   ]
  },
  {
   "cell_type": "code",
   "execution_count": null,
   "id": "2d34c282",
   "metadata": {},
   "outputs": [],
   "source": []
  }
 ],
 "metadata": {
  "kernelspec": {
   "display_name": "Python 3 (ipykernel)",
   "language": "python",
   "name": "python3"
  },
  "language_info": {
   "codemirror_mode": {
    "name": "ipython",
    "version": 3
   },
   "file_extension": ".py",
   "mimetype": "text/x-python",
   "name": "python",
   "nbconvert_exporter": "python",
   "pygments_lexer": "ipython3",
   "version": "3.12.9"
  },
  "toc": {
   "base_numbering": 1,
   "nav_menu": {
    "height": "400px",
    "width": "290px"
   },
   "number_sections": false,
   "sideBar": true,
   "skip_h1_title": true,
   "title_cell": "Table of Contents",
   "title_sidebar": "Contents",
   "toc_cell": true,
   "toc_position": {
    "height": "calc(100% - 180px)",
    "left": "10px",
    "top": "150px",
    "width": "258.15px"
   },
   "toc_section_display": true,
   "toc_window_display": false
  }
 },
 "nbformat": 4,
 "nbformat_minor": 5
}
