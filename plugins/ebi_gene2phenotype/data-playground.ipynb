{
 "cells": [
  {
   "cell_type": "markdown",
   "id": "a413234c",
   "metadata": {},
   "source": [
    "# Exploring EBI gene2pheno data for parser"
   ]
  },
  {
   "cell_type": "markdown",
   "id": "a7806d5e",
   "metadata": {},
   "source": [
    "## Downloading data"
   ]
  },
  {
   "cell_type": "markdown",
   "id": "99a94602",
   "metadata": {},
   "source": [
    "Latest data (created on the fly) can be downloaded from:\n",
    "* webpage https://www.ebi.ac.uk/gene2phenotype/download: currently manual clicks only. Can use the \"all data\" file!\n",
    "* API urls https://www.ebi.ac.uk/gene2phenotype/api/: `panel/{name}/download/` endpoint. Has \"all data\" option! Works programmatically and manually\n",
    "\n",
    "Static release files can be downloaded from the FTP site http://ftp.ebi.ac.uk/pub/databases/gene2phenotype/ (in the G2P_data_downloads subfolder). **These releases will include the \"all data\" file starting in Aug 2025.** It updates on a monthly basis, according to the [README](http://ftp.ebi.ac.uk/pub/databases/gene2phenotype/README). However, I notice that the FTP site is sometimes slow on my computer (Firefox browser). \n",
    "\n",
    "\n",
    "I'm using all data (either downloading the \"all data\" file or all the panel/subset files). "
   ]
  },
  {
   "cell_type": "markdown",
   "id": "cc2ed7fe",
   "metadata": {},
   "source": [
    "## Load data "
   ]
  },
  {
   "cell_type": "code",
   "execution_count": 2,
   "id": "be796066",
   "metadata": {
    "ExecuteTime": {
     "end_time": "2025-07-30T08:18:05.212658Z",
     "start_time": "2025-07-30T08:18:05.208867Z"
    }
   },
   "outputs": [],
   "source": [
    "## import packages for exploring here\n",
    "\n",
    "## CX: allows multiple lines of code to print from one code block\n",
    "from IPython.core.interactiveshell import InteractiveShell\n",
    "InteractiveShell.ast_node_interactivity = \"all\"\n",
    "\n",
    "import pathlib\n",
    "import pandas as pd\n",
    "import glob\n",
    "from pprint import pprint\n",
    "\n",
    "\n",
    "## for notebook viewing/debugging...\n",
    "pd.options.display.max_columns = None"
   ]
  },
  {
   "cell_type": "code",
   "execution_count": 8,
   "id": "043dccbf",
   "metadata": {
    "ExecuteTime": {
     "end_time": "2025-07-30T08:21:53.756746Z",
     "start_time": "2025-07-30T08:21:53.721541Z"
    }
   },
   "outputs": [],
   "source": [
    "## adjust based on where files are stored\n",
    "base_file_path = pathlib.Path.home().joinpath(\"Desktop\", \"EBIgene2pheno_files\", \n",
    "                                              \"From_Website\", \"2025-07-30\")\n",
    "\n",
    "## uses pathlib's Path.glob, which produces a generator. \n",
    "## cast into list so parser code can check if paths were actually matched or not\n",
    "all_file_paths = list(base_file_path.glob(\"*.csv\"))"
   ]
  },
  {
   "cell_type": "markdown",
   "id": "accbdf66",
   "metadata": {},
   "source": [
    "### 1 dataframe - compare subset files vs \"all\" link"
   ]
  },
  {
   "cell_type": "markdown",
   "id": "86ab7f20",
   "metadata": {},
   "source": [
    "These files come from the webpage (manual click downloads) or API."
   ]
  },
  {
   "cell_type": "markdown",
   "id": "b2299442",
   "metadata": {},
   "source": [
    "#### merging subset files"
   ]
  },
  {
   "cell_type": "code",
   "execution_count": 38,
   "id": "dee20926",
   "metadata": {
    "ExecuteTime": {
     "end_time": "2025-07-30T09:37:40.517991Z",
     "start_time": "2025-07-30T09:37:40.394601Z"
    }
   },
   "outputs": [],
   "source": [
    "## using generator expression (think list/dict comprehension) within pd.concat to load files 1 at a time\n",
    "## ingesting all columns as str for now\n",
    "df_merged = pd.concat((pd.read_csv(f, dtype=str) for f in all_file_paths), ignore_index=True)\n",
    "\n",
    "## make column names snake-case - usable with itertuples later\n",
    "df_merged.columns = df_merged.columns.str.replace(\" \", \"_\")"
   ]
  },
  {
   "cell_type": "code",
   "execution_count": 39,
   "id": "848daa54",
   "metadata": {
    "ExecuteTime": {
     "end_time": "2025-07-30T09:37:43.070994Z",
     "start_time": "2025-07-30T09:37:43.045435Z"
    }
   },
   "outputs": [
    {
     "name": "stdout",
     "output_type": "stream",
     "text": [
      "(2066, 23)\n"
     ]
    }
   ],
   "source": [
    "## checking for duplicates - should be since rows in multiple panels\n",
    "\n",
    "n_duplicates_column_combo = df_merged[df_merged.duplicated(subset=[\"g2p_id\"], keep=False)].shape\n",
    "\n",
    "n_duplicates_all_columns = df_merged[df_merged.duplicated(keep=False)].shape\n",
    "\n",
    "## for testing\n",
    "# n_duplicates_all_columns = (1, 1)\n",
    "\n",
    "if n_duplicates_column_combo != n_duplicates_all_columns: \n",
    "    raise AssertionError(\"The data format has changed, and the assumptions about duplicates/key columns may \" \\\n",
    "                          \"no longer hold. Re-explore the data and adjust the parser.\")\n",
    "    \n",
    "print(n_duplicates_column_combo)"
   ]
  },
  {
   "cell_type": "code",
   "execution_count": 40,
   "id": "1ca20ada",
   "metadata": {
    "ExecuteTime": {
     "end_time": "2025-07-30T09:37:47.896236Z",
     "start_time": "2025-07-30T09:37:47.846905Z"
    }
   },
   "outputs": [
    {
     "name": "stdout",
     "output_type": "stream",
     "text": [
      "<class 'pandas.core.frame.DataFrame'>\n",
      "RangeIndex: 3718 entries, 0 to 3717\n",
      "Data columns (total 23 columns):\n",
      " #   Column                              Non-Null Count  Dtype \n",
      "---  ------                              --------------  ----- \n",
      " 0   g2p_id                              3718 non-null   object\n",
      " 1   gene_symbol                         3718 non-null   object\n",
      " 2   gene_mim                            3715 non-null   object\n",
      " 3   hgnc_id                             3718 non-null   object\n",
      " 4   previous_gene_symbols               3433 non-null   object\n",
      " 5   disease_name                        3718 non-null   object\n",
      " 6   disease_mim                         2949 non-null   object\n",
      " 7   disease_MONDO                       2196 non-null   object\n",
      " 8   allelic_requirement                 3718 non-null   object\n",
      " 9   cross_cutting_modifier              464 non-null    object\n",
      " 10  confidence                          3718 non-null   object\n",
      " 11  variant_consequence                 3700 non-null   object\n",
      " 12  variant_types                       1055 non-null   object\n",
      " 13  molecular_mechanism                 3718 non-null   object\n",
      " 14  molecular_mechanism_support         3718 non-null   object\n",
      " 15  molecular_mechanism_categorisation  38 non-null     object\n",
      " 16  molecular_mechanism_evidence        105 non-null    object\n",
      " 17  phenotypes                          2477 non-null   object\n",
      " 18  publications                        3370 non-null   object\n",
      " 19  panel                               3718 non-null   object\n",
      " 20  comments                            120 non-null    object\n",
      " 21  date_of_last_review                 3718 non-null   object\n",
      " 22  review                              0 non-null      object\n",
      "dtypes: object(23)\n",
      "memory usage: 5.2 MB\n"
     ]
    }
   ],
   "source": [
    "df_merged.drop_duplicates(inplace=True, ignore_index=True)\n",
    "\n",
    "df_merged.info(memory_usage=\"deep\")"
   ]
  },
  {
   "cell_type": "markdown",
   "id": "762ffee6",
   "metadata": {},
   "source": [
    "#### \"All data\" download from webpage "
   ]
  },
  {
   "cell_type": "code",
   "execution_count": 41,
   "id": "4e2b1246",
   "metadata": {
    "ExecuteTime": {
     "end_time": "2025-07-30T09:37:56.469357Z",
     "start_time": "2025-07-30T09:37:56.361551Z"
    },
    "scrolled": true
   },
   "outputs": [
    {
     "name": "stdout",
     "output_type": "stream",
     "text": [
      "<class 'pandas.core.frame.DataFrame'>\n",
      "RangeIndex: 3718 entries, 0 to 3717\n",
      "Data columns (total 23 columns):\n",
      " #   Column                              Non-Null Count  Dtype \n",
      "---  ------                              --------------  ----- \n",
      " 0   g2p_id                              3718 non-null   object\n",
      " 1   gene_symbol                         3718 non-null   object\n",
      " 2   gene_mim                            3715 non-null   object\n",
      " 3   hgnc_id                             3718 non-null   object\n",
      " 4   previous_gene_symbols               3433 non-null   object\n",
      " 5   disease_name                        3718 non-null   object\n",
      " 6   disease_mim                         2949 non-null   object\n",
      " 7   disease_MONDO                       2196 non-null   object\n",
      " 8   allelic_requirement                 3718 non-null   object\n",
      " 9   cross_cutting_modifier              464 non-null    object\n",
      " 10  confidence                          3718 non-null   object\n",
      " 11  variant_consequence                 3700 non-null   object\n",
      " 12  variant_types                       1055 non-null   object\n",
      " 13  molecular_mechanism                 3718 non-null   object\n",
      " 14  molecular_mechanism_support         3718 non-null   object\n",
      " 15  molecular_mechanism_categorisation  38 non-null     object\n",
      " 16  molecular_mechanism_evidence        105 non-null    object\n",
      " 17  phenotypes                          2477 non-null   object\n",
      " 18  publications                        3370 non-null   object\n",
      " 19  panel                               3718 non-null   object\n",
      " 20  comments                            120 non-null    object\n",
      " 21  date_of_last_review                 3718 non-null   object\n",
      " 22  review                              0 non-null      object\n",
      "dtypes: object(23)\n",
      "memory usage: 5.2 MB\n"
     ]
    }
   ],
   "source": [
    "option_all_path = pathlib.Path.home().joinpath(\"Desktop\", \"EBIgene2pheno_files\", \n",
    "                                              \"From_Website\", \"G2P_all_2025-07-30.csv\")\n",
    "\n",
    "df_option_all = pd.read_csv(option_all_path, dtype=str)\n",
    "df_option_all.columns = df_option_all.columns.str.replace(\" \", \"_\")\n",
    "\n",
    "df_option_all.info(memory_usage=\"deep\")\n",
    "## the numbers are the same as df_merged"
   ]
  },
  {
   "cell_type": "code",
   "execution_count": 42,
   "id": "091ef7fc",
   "metadata": {
    "ExecuteTime": {
     "end_time": "2025-07-30T09:38:02.370449Z",
     "start_time": "2025-07-30T09:38:02.360294Z"
    }
   },
   "outputs": [
    {
     "data": {
      "text/html": [
       "<div>\n",
       "<style scoped>\n",
       "    .dataframe tbody tr th:only-of-type {\n",
       "        vertical-align: middle;\n",
       "    }\n",
       "\n",
       "    .dataframe tbody tr th {\n",
       "        vertical-align: top;\n",
       "    }\n",
       "\n",
       "    .dataframe thead th {\n",
       "        text-align: right;\n",
       "    }\n",
       "</style>\n",
       "<table border=\"1\" class=\"dataframe\">\n",
       "  <thead>\n",
       "    <tr style=\"text-align: right;\">\n",
       "      <th></th>\n",
       "      <th>g2p_id</th>\n",
       "      <th>gene_symbol</th>\n",
       "      <th>gene_mim</th>\n",
       "      <th>hgnc_id</th>\n",
       "      <th>previous_gene_symbols</th>\n",
       "      <th>disease_name</th>\n",
       "      <th>disease_mim</th>\n",
       "      <th>disease_MONDO</th>\n",
       "      <th>allelic_requirement</th>\n",
       "      <th>cross_cutting_modifier</th>\n",
       "      <th>confidence</th>\n",
       "      <th>variant_consequence</th>\n",
       "      <th>variant_types</th>\n",
       "      <th>molecular_mechanism</th>\n",
       "      <th>molecular_mechanism_support</th>\n",
       "      <th>molecular_mechanism_categorisation</th>\n",
       "      <th>molecular_mechanism_evidence</th>\n",
       "      <th>phenotypes</th>\n",
       "      <th>publications</th>\n",
       "      <th>panel</th>\n",
       "      <th>comments</th>\n",
       "      <th>date_of_last_review</th>\n",
       "      <th>review</th>\n",
       "    </tr>\n",
       "  </thead>\n",
       "  <tbody>\n",
       "  </tbody>\n",
       "</table>\n",
       "</div>"
      ],
      "text/plain": [
       "Empty DataFrame\n",
       "Columns: [g2p_id, gene_symbol, gene_mim, hgnc_id, previous_gene_symbols, disease_name, disease_mim, disease_MONDO, allelic_requirement, cross_cutting_modifier, confidence, variant_consequence, variant_types, molecular_mechanism, molecular_mechanism_support, molecular_mechanism_categorisation, molecular_mechanism_evidence, phenotypes, publications, panel, comments, date_of_last_review, review]\n",
       "Index: []"
      ]
     },
     "execution_count": 42,
     "metadata": {},
     "output_type": "execute_result"
    }
   ],
   "source": [
    "## does the \"all\" file have duplicates? - no! yay!\n",
    "\n",
    "df_option_all[df_option_all.duplicated(subset=[\"g2p_id\"], keep=False)]"
   ]
  },
  {
   "cell_type": "code",
   "execution_count": 46,
   "id": "4748760e",
   "metadata": {
    "ExecuteTime": {
     "end_time": "2025-07-30T09:38:48.367944Z",
     "start_time": "2025-07-30T09:38:48.353887Z"
    }
   },
   "outputs": [
    {
     "data": {
      "text/plain": [
       "True"
      ]
     },
     "execution_count": 46,
     "metadata": {},
     "output_type": "execute_result"
    }
   ],
   "source": [
    "## check if these dataframes are identical or not\n",
    "\n",
    "## first sort them the same way\n",
    "df_merged.sort_values(by=\"g2p_id\", inplace=True, ignore_index=True)\n",
    "df_option_all.sort_values(by=\"g2p_id\", inplace=True, ignore_index=True)\n",
    "\n",
    "## these are identical!!!\n",
    "df_merged.equals(df_option_all)"
   ]
  },
  {
   "cell_type": "markdown",
   "id": "de1218d0",
   "metadata": {},
   "source": [
    "#### \"All data\" download from API url"
   ]
  },
  {
   "cell_type": "code",
   "execution_count": 44,
   "id": "22d77d15",
   "metadata": {
    "ExecuteTime": {
     "end_time": "2025-07-30T09:38:11.326372Z",
     "start_time": "2025-07-30T09:38:08.981389Z"
    }
   },
   "outputs": [],
   "source": [
    "## pandas downloading file from URL: works, a little slow\n",
    "\n",
    "df_url_all = pd.read_csv(\"https://www.ebi.ac.uk/gene2phenotype/api/panel/all/download/\", \n",
    "                         dtype=str)"
   ]
  },
  {
   "cell_type": "code",
   "execution_count": 45,
   "id": "271fb122",
   "metadata": {
    "ExecuteTime": {
     "end_time": "2025-07-30T09:38:21.410823Z",
     "start_time": "2025-07-30T09:38:21.374349Z"
    }
   },
   "outputs": [
    {
     "name": "stdout",
     "output_type": "stream",
     "text": [
      "<class 'pandas.core.frame.DataFrame'>\n",
      "RangeIndex: 3718 entries, 0 to 3717\n",
      "Data columns (total 23 columns):\n",
      " #   Column                              Non-Null Count  Dtype \n",
      "---  ------                              --------------  ----- \n",
      " 0   g2p_id                              3718 non-null   object\n",
      " 1   gene_symbol                         3718 non-null   object\n",
      " 2   gene_mim                            3715 non-null   object\n",
      " 3   hgnc_id                             3718 non-null   object\n",
      " 4   previous_gene_symbols               3433 non-null   object\n",
      " 5   disease_name                        3718 non-null   object\n",
      " 6   disease_mim                         2949 non-null   object\n",
      " 7   disease_MONDO                       2196 non-null   object\n",
      " 8   allelic_requirement                 3718 non-null   object\n",
      " 9   cross_cutting_modifier              464 non-null    object\n",
      " 10  confidence                          3718 non-null   object\n",
      " 11  variant_consequence                 3700 non-null   object\n",
      " 12  variant_types                       1055 non-null   object\n",
      " 13  molecular_mechanism                 3718 non-null   object\n",
      " 14  molecular_mechanism_support         3718 non-null   object\n",
      " 15  molecular_mechanism_categorisation  38 non-null     object\n",
      " 16  molecular_mechanism_evidence        105 non-null    object\n",
      " 17  phenotypes                          2477 non-null   object\n",
      " 18  publications                        3370 non-null   object\n",
      " 19  panel                               3718 non-null   object\n",
      " 20  comments                            120 non-null    object\n",
      " 21  date_of_last_review                 3718 non-null   object\n",
      " 22  review                              0 non-null      object\n",
      "dtypes: object(23)\n",
      "memory usage: 5.2 MB\n"
     ]
    }
   ],
   "source": [
    "df_url_all.columns = df_url_all.columns.str.replace(\" \", \"_\")\n",
    "\n",
    "df_url_all.info(memory_usage=\"deep\")\n",
    "## the numbers are the same as df_merged and df_option_all"
   ]
  },
  {
   "cell_type": "code",
   "execution_count": 48,
   "id": "38e86b9e",
   "metadata": {
    "ExecuteTime": {
     "end_time": "2025-07-30T09:39:49.663322Z",
     "start_time": "2025-07-30T09:39:49.648870Z"
    }
   },
   "outputs": [
    {
     "data": {
      "text/plain": [
       "True"
      ]
     },
     "execution_count": 48,
     "metadata": {},
     "output_type": "execute_result"
    }
   ],
   "source": [
    "## check if sliced dataframe is identical to others or not\n",
    "\n",
    "## first sort them the same way\n",
    "df_url_all.sort_values(by=\"g2p_id\", inplace=True, ignore_index=True)\n",
    "\n",
    "## these are identical!!!\n",
    "## meaning this also doesn't have duplicates\n",
    "df_option_all.equals(df_url_all)"
   ]
  },
  {
   "cell_type": "markdown",
   "id": "f9673d92",
   "metadata": {},
   "source": [
    "<div class=\"alert alert-block alert-success\">\n",
    "\n",
    "\n",
    "Conclusions:\n",
    "* \"all data\" file does have all data, w/o duplicates. So it is nice to use!\n",
    "* Using API link to retrieve \"all data\" file is the easiest to set up common ingest pipeline to use"
   ]
  },
  {
   "cell_type": "markdown",
   "id": "68b42b3f",
   "metadata": {},
   "source": [
    "### original: 1 dataframe for each subset"
   ]
  },
  {
   "cell_type": "code",
   "execution_count": 4,
   "id": "f75451df",
   "metadata": {
    "ExecuteTime": {
     "end_time": "2025-04-04T06:14:40.133166Z",
     "start_time": "2025-04-04T06:14:40.013406Z"
    }
   },
   "outputs": [],
   "source": [
    "## Construct df for each file\n",
    "\n",
    "cancer = pd.read_csv(base_file_path.joinpath('G2P_Cancer_2025-03-13.csv'), \n",
    "                      dtype={\"gene mim\": str, \"hgnc id\": str, \"disease mim\": str})\n",
    "cardiac = pd.read_csv(base_file_path.joinpath('G2P_Cardiac_2025-03-13.csv'), \n",
    "                      dtype={\"gene mim\": str, \"hgnc id\": str, \"disease mim\": str})\n",
    "developmental = pd.read_csv(base_file_path.joinpath('G2P_DD_2025-03-13.csv'), \n",
    "                      dtype={\"gene mim\": str, \"hgnc id\": str, \"disease mim\": str})\n",
    "eye = pd.read_csv(base_file_path.joinpath('G2P_Eye_2025-03-13.csv'), \n",
    "                      dtype={\"gene mim\": str, \"hgnc id\": str, \"disease mim\": str})\n",
    "hearing = pd.read_csv(base_file_path.joinpath('G2P_Hearing loss_2025-03-13.csv'), \n",
    "                      dtype={\"gene mim\": str, \"hgnc id\": str, \"disease mim\": str})\n",
    "skeletal = pd.read_csv(base_file_path.joinpath('G2P_Skeletal_2025-03-13.csv'), \n",
    "                      dtype={\"gene mim\": str, \"hgnc id\": str, \"disease mim\": str})\n",
    "skin = pd.read_csv(base_file_path.joinpath('G2P_Skin_2025-03-13.csv'), \n",
    "                      dtype={\"gene mim\": str, \"hgnc id\": str, \"disease mim\": str})\n",
    "\n",
    "## saving for possible future use\n",
    "# unique_filename_substring = [\n",
    "#     'Cancer',\n",
    "#     'Cardiac',\n",
    "#     'DD',\n",
    "#     'Eye',\n",
    "#     'Hearing loss',\n",
    "#     'Skeletal',\n",
    "#     'Skin'\n",
    "# ]"
   ]
  },
  {
   "cell_type": "markdown",
   "id": "27d98b6c",
   "metadata": {},
   "source": [
    "## Code chunks to explore individual files"
   ]
  },
  {
   "cell_type": "code",
   "execution_count": 5,
   "id": "833fb8d7",
   "metadata": {
    "ExecuteTime": {
     "end_time": "2025-04-04T06:14:43.485218Z",
     "start_time": "2025-04-04T06:14:43.477990Z"
    }
   },
   "outputs": [
    {
     "data": {
      "text/plain": [
       "array([ True,  True,  True,  True,  True,  True,  True,  True,  True,\n",
       "        True,  True,  True,  True,  True,  True,  True,  True,  True,\n",
       "        True,  True,  True])"
      ]
     },
     "execution_count": 5,
     "metadata": {},
     "output_type": "execute_result"
    }
   ],
   "source": [
    "## checking that each file's columns are the same: they are\n",
    "cancer.columns == skin.columns"
   ]
  },
  {
   "cell_type": "code",
   "execution_count": 6,
   "id": "e99aee21",
   "metadata": {
    "ExecuteTime": {
     "end_time": "2025-04-04T06:14:45.132578Z",
     "start_time": "2025-04-04T06:14:45.127705Z"
    }
   },
   "outputs": [
    {
     "data": {
      "text/plain": [
       "Index(['g2p id', 'gene symbol', 'gene mim', 'hgnc id', 'previous gene symbols',\n",
       "       'disease name', 'disease mim', 'disease MONDO', 'allelic requirement',\n",
       "       'cross cutting modifier', 'confidence', 'variant consequence',\n",
       "       'variant types', 'molecular mechanism',\n",
       "       'molecular mechanism categorisation', 'molecular mechanism evidence',\n",
       "       'phenotypes', 'publications', 'panel', 'comments',\n",
       "       'date of last review'],\n",
       "      dtype='object')"
      ]
     },
     "execution_count": 6,
     "metadata": {},
     "output_type": "execute_result"
    }
   ],
   "source": [
    "cardiac.columns"
   ]
  },
  {
   "cell_type": "markdown",
   "id": "4011b70e",
   "metadata": {},
   "source": [
    "Reviewing individual dataframes, values within each column"
   ]
  },
  {
   "cell_type": "code",
   "execution_count": 7,
   "id": "494cd482",
   "metadata": {
    "ExecuteTime": {
     "end_time": "2025-04-04T06:15:38.065464Z",
     "start_time": "2025-04-04T06:15:38.054868Z"
    }
   },
   "outputs": [
    {
     "name": "stdout",
     "output_type": "stream",
     "text": [
      "<class 'pandas.core.frame.DataFrame'>\n",
      "RangeIndex: 607 entries, 0 to 606\n",
      "Data columns (total 21 columns):\n",
      " #   Column                              Non-Null Count  Dtype \n",
      "---  ------                              --------------  ----- \n",
      " 0   g2p id                              607 non-null    object\n",
      " 1   gene symbol                         607 non-null    object\n",
      " 2   gene mim                            607 non-null    object\n",
      " 3   hgnc id                             607 non-null    object\n",
      " 4   previous gene symbols               554 non-null    object\n",
      " 5   disease name                        607 non-null    object\n",
      " 6   disease mim                         475 non-null    object\n",
      " 7   disease MONDO                       166 non-null    object\n",
      " 8   allelic requirement                 607 non-null    object\n",
      " 9   cross cutting modifier              133 non-null    object\n",
      " 10  confidence                          607 non-null    object\n",
      " 11  variant consequence                 607 non-null    object\n",
      " 12  variant types                       71 non-null     object\n",
      " 13  molecular mechanism                 607 non-null    object\n",
      " 14  molecular mechanism categorisation  607 non-null    object\n",
      " 15  molecular mechanism evidence        2 non-null      object\n",
      " 16  phenotypes                          553 non-null    object\n",
      " 17  publications                        581 non-null    object\n",
      " 18  panel                               607 non-null    object\n",
      " 19  comments                            8 non-null      object\n",
      " 20  date of last review                 607 non-null    object\n",
      "dtypes: object(21)\n",
      "memory usage: 99.7+ KB\n"
     ]
    }
   ],
   "source": [
    "skin.info()"
   ]
  },
  {
   "cell_type": "code",
   "execution_count": 8,
   "id": "8a9276b5",
   "metadata": {
    "ExecuteTime": {
     "end_time": "2025-04-04T06:17:23.349090Z",
     "start_time": "2025-04-04T06:17:23.322994Z"
    }
   },
   "outputs": [
    {
     "data": {
      "text/html": [
       "<div>\n",
       "<style scoped>\n",
       "    .dataframe tbody tr th:only-of-type {\n",
       "        vertical-align: middle;\n",
       "    }\n",
       "\n",
       "    .dataframe tbody tr th {\n",
       "        vertical-align: top;\n",
       "    }\n",
       "\n",
       "    .dataframe thead th {\n",
       "        text-align: right;\n",
       "    }\n",
       "</style>\n",
       "<table border=\"1\" class=\"dataframe\">\n",
       "  <thead>\n",
       "    <tr style=\"text-align: right;\">\n",
       "      <th></th>\n",
       "      <th>g2p id</th>\n",
       "      <th>gene symbol</th>\n",
       "      <th>gene mim</th>\n",
       "      <th>hgnc id</th>\n",
       "      <th>previous gene symbols</th>\n",
       "      <th>disease name</th>\n",
       "      <th>disease mim</th>\n",
       "      <th>disease MONDO</th>\n",
       "      <th>allelic requirement</th>\n",
       "      <th>cross cutting modifier</th>\n",
       "      <th>confidence</th>\n",
       "      <th>variant consequence</th>\n",
       "      <th>variant types</th>\n",
       "      <th>molecular mechanism</th>\n",
       "      <th>molecular mechanism categorisation</th>\n",
       "      <th>molecular mechanism evidence</th>\n",
       "      <th>phenotypes</th>\n",
       "      <th>publications</th>\n",
       "      <th>panel</th>\n",
       "      <th>comments</th>\n",
       "      <th>date of last review</th>\n",
       "    </tr>\n",
       "  </thead>\n",
       "  <tbody>\n",
       "  </tbody>\n",
       "</table>\n",
       "</div>"
      ],
      "text/plain": [
       "Empty DataFrame\n",
       "Columns: [g2p id, gene symbol, gene mim, hgnc id, previous gene symbols, disease name, disease mim, disease MONDO, allelic requirement, cross cutting modifier, confidence, variant consequence, variant types, molecular mechanism, molecular mechanism categorisation, molecular mechanism evidence, phenotypes, publications, panel, comments, date of last review]\n",
       "Index: []"
      ]
     },
     "execution_count": 8,
     "metadata": {},
     "output_type": "execute_result"
    },
    {
     "data": {
      "text/html": [
       "<div>\n",
       "<style scoped>\n",
       "    .dataframe tbody tr th:only-of-type {\n",
       "        vertical-align: middle;\n",
       "    }\n",
       "\n",
       "    .dataframe tbody tr th {\n",
       "        vertical-align: top;\n",
       "    }\n",
       "\n",
       "    .dataframe thead th {\n",
       "        text-align: right;\n",
       "    }\n",
       "</style>\n",
       "<table border=\"1\" class=\"dataframe\">\n",
       "  <thead>\n",
       "    <tr style=\"text-align: right;\">\n",
       "      <th></th>\n",
       "      <th>g2p id</th>\n",
       "      <th>gene symbol</th>\n",
       "      <th>gene mim</th>\n",
       "      <th>hgnc id</th>\n",
       "      <th>previous gene symbols</th>\n",
       "      <th>disease name</th>\n",
       "      <th>disease mim</th>\n",
       "      <th>disease MONDO</th>\n",
       "      <th>allelic requirement</th>\n",
       "      <th>cross cutting modifier</th>\n",
       "      <th>confidence</th>\n",
       "      <th>variant consequence</th>\n",
       "      <th>variant types</th>\n",
       "      <th>molecular mechanism</th>\n",
       "      <th>molecular mechanism categorisation</th>\n",
       "      <th>molecular mechanism evidence</th>\n",
       "      <th>phenotypes</th>\n",
       "      <th>publications</th>\n",
       "      <th>panel</th>\n",
       "      <th>comments</th>\n",
       "      <th>date of last review</th>\n",
       "    </tr>\n",
       "  </thead>\n",
       "  <tbody>\n",
       "  </tbody>\n",
       "</table>\n",
       "</div>"
      ],
      "text/plain": [
       "Empty DataFrame\n",
       "Columns: [g2p id, gene symbol, gene mim, hgnc id, previous gene symbols, disease name, disease mim, disease MONDO, allelic requirement, cross cutting modifier, confidence, variant consequence, variant types, molecular mechanism, molecular mechanism categorisation, molecular mechanism evidence, phenotypes, publications, panel, comments, date of last review]\n",
       "Index: []"
      ]
     },
     "execution_count": 8,
     "metadata": {},
     "output_type": "execute_result"
    }
   ],
   "source": [
    "## was looking for duplicate records within 1 dataframe?\n",
    "\n",
    "skin[skin.duplicated(subset=['g2p id'], keep=False)].sort_values(by=['gene symbol', 'disease name'])\n",
    "\n",
    "skin[skin.duplicated(subset=['gene symbol', 'disease name', 'allelic requirement', 'molecular mechanism'], keep=False)].sort_values(by=['gene symbol', 'disease name'])"
   ]
  },
  {
   "cell_type": "code",
   "execution_count": 462,
   "id": "382d7562",
   "metadata": {
    "ExecuteTime": {
     "end_time": "2025-03-18T07:27:22.542713Z",
     "start_time": "2025-03-18T07:27:22.537630Z"
    }
   },
   "outputs": [
    {
     "data": {
      "text/plain": [
       "341"
      ]
     },
     "execution_count": 462,
     "metadata": {},
     "output_type": "execute_result"
    }
   ],
   "source": [
    "skin[\"date of last review\"].nunique()"
   ]
  },
  {
   "cell_type": "code",
   "execution_count": null,
   "id": "67027b6a",
   "metadata": {},
   "outputs": [],
   "source": [
    "## useful function\n",
    "def check_if_contains(df, column_name, patterns):\n",
    "    for i in patterns:\n",
    "        temp = df[df[column_name].str.contains(pat=i, na=False)]\n",
    "        if temp.size > 0:\n",
    "            print(f'\"{i}\"')\n",
    "            print(temp.shape)"
   ]
  },
  {
   "cell_type": "code",
   "execution_count": 463,
   "id": "ed92489c",
   "metadata": {
    "ExecuteTime": {
     "end_time": "2025-03-18T07:27:26.944853Z",
     "start_time": "2025-03-18T07:27:26.939643Z"
    }
   },
   "outputs": [
    {
     "data": {
      "text/plain": [
       "array(['2024-08-20 14:13:58+00:00', '2017-09-01 16:19:16+00:00',\n",
       "       '2025-01-15 11:51:09+00:00', '2017-09-01 16:19:15+00:00',\n",
       "       '2023-05-24 09:07:26+00:00', '2025-01-27 22:44:48+00:00',\n",
       "       '2025-01-27 16:20:20+00:00', '2018-01-21 21:15:11+00:00',\n",
       "       '2025-01-27 15:06:26+00:00', '2025-01-21 21:25:35+00:00',\n",
       "       '2025-01-27 16:10:36+00:00', '2022-09-08 10:23:08+00:00',\n",
       "       '2025-01-28 23:05:54+00:00', '2010-01-01 00:00:00+00:00',\n",
       "       '2024-08-20 14:10:55+00:00', '2022-08-03 13:41:12+00:00',\n",
       "       '2025-01-28 23:06:55+00:00', '2019-09-16 15:47:08+00:00',\n",
       "       '2025-01-27 14:32:43+00:00', '2025-01-27 14:33:14+00:00',\n",
       "       '2025-01-20 23:47:41+00:00', '2025-01-21 13:09:11+00:00',\n",
       "       '2022-08-03 13:34:46+00:00', '2023-05-24 09:07:27+00:00',\n",
       "       '2015-07-22 16:14:25+00:00', '2024-12-13 14:31:01+00:00',\n",
       "       '2025-01-20 22:48:05+00:00', '2018-07-05 15:56:34+00:00',\n",
       "       '2024-12-13 11:11:03+00:00', '2024-12-23 20:57:52+00:00',\n",
       "       '2025-01-16 17:15:27+00:00', '2025-01-21 21:38:14+00:00',\n",
       "       '2025-01-27 14:31:28+00:00', '2025-01-21 21:39:13+00:00',\n",
       "       '2025-01-16 15:03:32+00:00', '2019-09-16 15:47:11+00:00',\n",
       "       '2015-07-22 16:14:30+00:00', '2022-08-03 12:00:53+00:00',\n",
       "       '2022-08-03 13:16:26+00:00', '2025-01-28 23:06:35+00:00',\n",
       "       '2022-08-19 08:42:26+00:00', '2025-01-21 16:00:23+00:00',\n",
       "       '2022-08-03 10:51:21+00:00', '2025-01-28 08:51:03+00:00',\n",
       "       '2022-08-03 13:37:53+00:00', '2025-01-28 09:07:50+00:00',\n",
       "       '2022-08-03 13:13:16+00:00', '2025-01-21 11:34:30+00:00',\n",
       "       '2018-01-20 21:16:39+00:00', '2023-05-24 09:07:28+00:00',\n",
       "       '2025-01-27 22:34:41+00:00', '2015-07-22 16:14:42+00:00',\n",
       "       '2022-08-03 11:59:29+00:00', '2025-01-28 16:48:15+00:00',\n",
       "       '2023-08-04 14:33:32+00:00', '2025-01-27 14:40:58+00:00',\n",
       "       '2025-01-28 23:09:35+00:00', '2022-08-03 13:17:17+00:00',\n",
       "       '2025-01-21 15:02:57+00:00', '2018-01-20 21:20:36+00:00',\n",
       "       '2025-01-27 16:04:45+00:00', '2025-01-28 23:06:15+00:00',\n",
       "       '2022-08-03 13:39:50+00:00', '2018-07-05 15:56:43+00:00',\n",
       "       '2023-05-24 09:07:29+00:00', '2025-01-09 15:40:17+00:00',\n",
       "       '2025-01-20 23:09:24+00:00', '2025-01-28 09:11:47+00:00',\n",
       "       '2022-08-03 13:35:35+00:00', '2025-02-07 11:10:31+00:00',\n",
       "       '2025-01-28 23:04:36+00:00', '2025-01-23 12:39:46+00:00',\n",
       "       '2025-01-27 09:29:54+00:00', '2025-01-27 10:37:50+00:00',\n",
       "       '2025-01-27 16:01:21+00:00', '2025-01-21 14:56:43+00:00',\n",
       "       '2018-01-20 21:22:28+00:00', '2025-01-23 12:28:12+00:00',\n",
       "       '2024-08-22 19:02:02+00:00', '2025-01-16 11:49:56+00:00',\n",
       "       '2021-06-23 09:53:09+00:00', '2025-01-28 23:05:32+00:00',\n",
       "       '2022-08-03 13:21:50+00:00', '2025-01-27 14:54:05+00:00',\n",
       "       '2023-05-24 09:07:30+00:00', '2025-01-21 21:28:52+00:00',\n",
       "       '2022-08-03 13:31:48+00:00', '2024-02-14 12:32:22+00:00',\n",
       "       '2024-12-23 15:38:15+00:00', '2024-11-07 09:26:01+00:00',\n",
       "       '2025-01-27 14:58:28+00:00', '2024-08-20 14:15:43+00:00',\n",
       "       '2019-09-16 15:47:01+00:00', '2017-08-31 10:51:41+00:00',\n",
       "       '2024-12-23 20:54:06+00:00', '2023-05-24 09:07:31+00:00',\n",
       "       '2015-07-22 16:15:16+00:00', '2025-01-27 14:33:40+00:00',\n",
       "       '2023-04-24 13:43:14+00:00', '2025-01-21 21:30:16+00:00'],\n",
       "      dtype=object)"
      ]
     },
     "execution_count": 463,
     "metadata": {},
     "output_type": "execute_result"
    }
   ],
   "source": [
    "## check for \";\", \":\", \"_\", \" \"\n",
    "# check_if_contains(skin, \"publications\", [\"PMID\", \":\", \"_\"])\n",
    "# skin[skin[\"disease mim\"].str.contains(\":\", na=False)]\n",
    "            \n",
    "# skin[\"comments\"].nunique()\n",
    "skin[\"date of last review\"].unique()[0:100]"
   ]
  },
  {
   "cell_type": "code",
   "execution_count": 451,
   "id": "1526fee8",
   "metadata": {
    "ExecuteTime": {
     "end_time": "2025-03-18T07:24:27.131813Z",
     "start_time": "2025-03-18T07:24:27.126149Z"
    },
    "scrolled": true
   },
   "outputs": [
    {
     "data": {
      "text/plain": [
       "(62, 21)"
      ]
     },
     "execution_count": 451,
     "metadata": {},
     "output_type": "execute_result"
    }
   ],
   "source": [
    "# eye[eye[\"gene mim\"].isna()]\n",
    "\n",
    "skin[skin[\"disease mim\"].isna() & skin[\"disease MONDO\"].isna()].shape\n",
    "\n",
    "# cancer[cancer[\"comments\"].notna()]"
   ]
  },
  {
   "cell_type": "code",
   "execution_count": 353,
   "id": "f50007d3",
   "metadata": {
    "ExecuteTime": {
     "end_time": "2025-03-18T00:41:57.803448Z",
     "start_time": "2025-03-18T00:41:57.787457Z"
    }
   },
   "outputs": [
    {
     "data": {
      "text/html": [
       "<div>\n",
       "<style scoped>\n",
       "    .dataframe tbody tr th:only-of-type {\n",
       "        vertical-align: middle;\n",
       "    }\n",
       "\n",
       "    .dataframe tbody tr th {\n",
       "        vertical-align: top;\n",
       "    }\n",
       "\n",
       "    .dataframe thead th {\n",
       "        text-align: right;\n",
       "    }\n",
       "</style>\n",
       "<table border=\"1\" class=\"dataframe\">\n",
       "  <thead>\n",
       "    <tr style=\"text-align: right;\">\n",
       "      <th></th>\n",
       "      <th>g2p id</th>\n",
       "      <th>gene symbol</th>\n",
       "      <th>gene mim</th>\n",
       "      <th>hgnc id</th>\n",
       "      <th>previous gene symbols</th>\n",
       "      <th>disease name</th>\n",
       "      <th>disease mim</th>\n",
       "      <th>disease MONDO</th>\n",
       "      <th>allelic requirement</th>\n",
       "      <th>cross cutting modifier</th>\n",
       "      <th>confidence</th>\n",
       "      <th>variant consequence</th>\n",
       "      <th>variant types</th>\n",
       "      <th>molecular mechanism</th>\n",
       "      <th>molecular mechanism categorisation</th>\n",
       "      <th>molecular mechanism evidence</th>\n",
       "      <th>phenotypes</th>\n",
       "      <th>publications</th>\n",
       "      <th>panel</th>\n",
       "      <th>comments</th>\n",
       "      <th>date of last review</th>\n",
       "    </tr>\n",
       "  </thead>\n",
       "  <tbody>\n",
       "    <tr>\n",
       "      <th>0</th>\n",
       "      <td>G2P03582</td>\n",
       "      <td>MYO6</td>\n",
       "      <td>600970</td>\n",
       "      <td>7605</td>\n",
       "      <td>DFNA22; DFNB37; KIAA0389</td>\n",
       "      <td>MYO6-related nonsyndromic genetic hearing loss</td>\n",
       "      <td>NaN</td>\n",
       "      <td>NaN</td>\n",
       "      <td>biallelic_autosomal</td>\n",
       "      <td>NaN</td>\n",
       "      <td>definitive</td>\n",
       "      <td>decreased gene product level; altered gene pro...</td>\n",
       "      <td>splice_donor_variant; splice_acceptor_variant;...</td>\n",
       "      <td>undetermined</td>\n",
       "      <td>inferred</td>\n",
       "      <td>NaN</td>\n",
       "      <td>NaN</td>\n",
       "      <td>18348273; 23485424; 25999546; 12687499; 24105371</td>\n",
       "      <td>Hearing loss</td>\n",
       "      <td>NaN</td>\n",
       "      <td>2024-11-28 14:52:17+00:00</td>\n",
       "    </tr>\n",
       "    <tr>\n",
       "      <th>1</th>\n",
       "      <td>G2P03583</td>\n",
       "      <td>MYO6</td>\n",
       "      <td>600970</td>\n",
       "      <td>7605</td>\n",
       "      <td>DFNA22; DFNB37; KIAA0389</td>\n",
       "      <td>MYO6-related nonsyndromic genetic hearing loss</td>\n",
       "      <td>NaN</td>\n",
       "      <td>NaN</td>\n",
       "      <td>monoallelic_autosomal</td>\n",
       "      <td>NaN</td>\n",
       "      <td>definitive</td>\n",
       "      <td>decreased gene product level; altered gene pro...</td>\n",
       "      <td>splice_donor_variant; splice_acceptor_variant;...</td>\n",
       "      <td>undetermined</td>\n",
       "      <td>inferred</td>\n",
       "      <td>NaN</td>\n",
       "      <td>NaN</td>\n",
       "      <td>18348273; 23485424; 25999546; 24105371</td>\n",
       "      <td>Hearing loss</td>\n",
       "      <td>NaN</td>\n",
       "      <td>2024-11-28 14:47:17+00:00</td>\n",
       "    </tr>\n",
       "  </tbody>\n",
       "</table>\n",
       "</div>"
      ],
      "text/plain": [
       "     g2p id gene symbol gene mim hgnc id     previous gene symbols  \\\n",
       "0  G2P03582        MYO6   600970    7605  DFNA22; DFNB37; KIAA0389   \n",
       "1  G2P03583        MYO6   600970    7605  DFNA22; DFNB37; KIAA0389   \n",
       "\n",
       "                                     disease name disease mim  disease MONDO  \\\n",
       "0  MYO6-related nonsyndromic genetic hearing loss         NaN            NaN   \n",
       "1  MYO6-related nonsyndromic genetic hearing loss         NaN            NaN   \n",
       "\n",
       "     allelic requirement  cross cutting modifier  confidence  \\\n",
       "0    biallelic_autosomal                     NaN  definitive   \n",
       "1  monoallelic_autosomal                     NaN  definitive   \n",
       "\n",
       "                                 variant consequence  \\\n",
       "0  decreased gene product level; altered gene pro...   \n",
       "1  decreased gene product level; altered gene pro...   \n",
       "\n",
       "                                       variant types molecular mechanism  \\\n",
       "0  splice_donor_variant; splice_acceptor_variant;...        undetermined   \n",
       "1  splice_donor_variant; splice_acceptor_variant;...        undetermined   \n",
       "\n",
       "  molecular mechanism categorisation  molecular mechanism evidence  \\\n",
       "0                           inferred                           NaN   \n",
       "1                           inferred                           NaN   \n",
       "\n",
       "   phenotypes                                      publications         panel  \\\n",
       "0         NaN  18348273; 23485424; 25999546; 12687499; 24105371  Hearing loss   \n",
       "1         NaN            18348273; 23485424; 25999546; 24105371  Hearing loss   \n",
       "\n",
       "   comments        date of last review  \n",
       "0       NaN  2024-11-28 14:52:17+00:00  \n",
       "1       NaN  2024-11-28 14:47:17+00:00  "
      ]
     },
     "execution_count": 353,
     "metadata": {},
     "output_type": "execute_result"
    }
   ],
   "source": [
    "hearing"
   ]
  },
  {
   "cell_type": "code",
   "execution_count": 357,
   "id": "72f9c33f",
   "metadata": {
    "ExecuteTime": {
     "end_time": "2025-03-18T06:53:42.909415Z",
     "start_time": "2025-03-18T06:53:42.904824Z"
    }
   },
   "outputs": [
    {
     "data": {
      "text/plain": [
       "array(['18348273; 23485424; 25999546; 12687499; 24105371',\n",
       "       '18348273; 23485424; 25999546; 24105371'], dtype=object)"
      ]
     },
     "execution_count": 357,
     "metadata": {},
     "output_type": "execute_result"
    }
   ],
   "source": [
    "hearing['publications'].unique()"
   ]
  },
  {
   "cell_type": "markdown",
   "id": "53468f58",
   "metadata": {},
   "source": [
    "## Notes on parsing data to create documents "
   ]
  },
  {
   "cell_type": "markdown",
   "id": "44861edf",
   "metadata": {},
   "source": [
    "### Gene subject section"
   ]
  },
  {
   "cell_type": "markdown",
   "id": "f0323f99",
   "metadata": {},
   "source": [
    "- \"gene symbol\": str. \"HGNC-assigned gene symbol\" (according to DataDownloadFormat txt file)\n",
    "  - DOC TRANSFORM: hgnc_symbol\n",
    "- \"gene mim\": OMIM ID for gene. NodeNorm does recognize these. Some files have a NA.\n",
    "  - DF READ: force dtype to be str\n",
    "  - DF TRANSFORM: \n",
    "    - add current Translator prefix\n",
    "  - DOC TRANSFORM: omim\n",
    "    - CHECK for NA. Only assign field if not NA  \n",
    "- \"hgnc id\"\n",
    "  - DF READ / DF TRANSFORM: same as \"gene mim\"\n",
    "  - DOC TRANSFORM: hgnc\n",
    "- \"previous gene symbols\": \"; \"-delimited.\n",
    "  - DOC TRANSFORM:\n",
    "    - CHECK for NA. Only assign field if not NA\n",
    "    - Turn into array of str: \";\"-split and then strip whitespace "
   ]
  },
  {
   "cell_type": "markdown",
   "id": "7951a6bb",
   "metadata": {},
   "source": [
    "### Disease object section"
   ]
  },
  {
   "cell_type": "markdown",
   "id": "19814de6",
   "metadata": {},
   "source": [
    "- \"disease name\": in DD file, I found two cases where the name seemed to be \"; \"-delimited. Going to keep as str though, because it's used as node name. \n",
    "  - DF TRANSFORM:\n",
    "    - strip whitespace (noticed a case in skeletal)\n",
    "  - DOC TRANSFORM: name\n",
    "- \"disease mim\": OMIM ID for disease. But there are some Orphanet IDs mixed in (raw data prefix is \"Orphanet:\")\n",
    "  - DF READ: force dtype to be str\n",
    "  - DF TRANSFORM: add/replace current Translator prefix\n",
    "  - DOC TRANSFORM: omim, orphanet\n",
    "    - CHECK for NA (many rows are). Only assign field if not NA\n",
    "    - CHECK for \"orphanet:\": if yes, assign to orphanet field instead\n",
    "- \"disease MONDO\": MONDO ID for disease (already Translator-formatted CURIE) \n",
    "  - DOC TRANSFORM: mondo\n",
    "    - CHECK for NA (many rows are). Only assign field if not NA"
   ]
  },
  {
   "cell_type": "markdown",
   "id": "3c50ed79",
   "metadata": {},
   "source": [
    "### Association section"
   ]
  },
  {
   "cell_type": "markdown",
   "id": "f005dacf",
   "metadata": {},
   "source": [
    "- \"g2p id\": resource's unique stable ID for each record/row (according to DataDownloadFormat txt file, G2P webpage for single record)\n",
    "  - DF TRANSFORM:\n",
    "    - create new column, generating G2P webpage urls for each record like https://www.ebi.ac.uk/gene2phenotype/lgd/G2P03386. this may be brittle/work to maintain, but I know UI really wants stuff like this\n",
    "  - DOC TRANSFORM: g2p_record_id, g2p_record_url\n",
    "- \"allelic requirement\": required genotype (according to G2P webpage for single record). str (categorical). [G2P website](https://www.ebi.ac.uk/gene2phenotype/about/terminology) says these are synonyms of HPO \"mode of inheritance terms\", which seem to be from the [inheritance part of the ontology](https://hpo.jax.org/browse/term/HP:0000005). I've included a mapping table in reference section.\n",
    "- \"cross cutting modifier\": additional info relevant to gene-disease inheritance (according to G2P webpage for single record). Can be \"; \"-delimited, otherwise would be categorical. [G2P website](https://www.ebi.ac.uk/gene2phenotype/about/terminology) says these are HPO inheritance qualifier terms \"when available\" ([this part of ontology](https://hpo.jax.org/browse/term/HP:0034335)). I didn't try mapping these.\n",
    "  - DOC TRANSFORM: cross_cutting_modifiers (plural)\n",
    "    - CHECK for NA (many rows are). Only assign field if not NA\n",
    "    - Turn into array of str: \";\"-split and then strip whitespace \n",
    "- \"confidence\": confidence that the association is real (according to G2P webpage for panel). [G2P website](https://www.ebi.ac.uk/gene2phenotype/about/terminology) has definitions of terms. str (categorical)\n",
    "- \"variant consequence\": consequences of reported variants on product (protein or RNA) (according to G2P webpage for single record). Can be \"; \"-delimited, otherwise would be categorical. [G2P website](https://www.ebi.ac.uk/gene2phenotype/about/terminology) has definitions of terms and SO mappings. \n",
    "  - DOC TRANSFORM: variant_consequences (plural)\n",
    "    - CHECK for NA. Only assign field if not NA\n",
    "    - Turn into array of str: \";\"-split and then strip whitespace \n",
    "- \"variant types\": associated with gene-disease pair (according to G2P webpage for single record). Can be \"; \"-delimited, otherwise would be categorical. [G2P website](https://www.ebi.ac.uk/gene2phenotype/about/terminology) has definitions of terms and SO mappings (large table!). \n",
    "  - DOC TRANSFORM:\n",
    "    - CHECK for NA (many rows are, sometimes). Only assign field if not NA\n",
    "    - Turn into array of str: \";\"-split and then strip whitespace \n",
    "- \"molecular mechanism\": mechanism of how gene's variants causes disease (according to G2P webpage for single record). str (categorical). [G2P website](https://www.ebi.ac.uk/gene2phenotype/about/terminology) has definitions of terms.\n",
    "- \"molecular mechanism categorisation\": seems to say how molecular mechanism was decided. Shows up as \"support\" on G2P webpage for single record. possible values: \"inferred\" or \"evidence\". str (categorical). \n",
    "- \"molecular mechanism evidence\": complicated structure. Looks like \" & \"-delimited, then primary_key (publication ID) -> object (diff key: value pairs split by \"; \", values can be \", \"-delimited lists). \n",
    "  - DOC TRANSFORM:\n",
    "    - CHECK for NA (many rows are). Only assign field if not NA\n",
    "    - Turn into array of str: \"&\"-split and then strip whitespace. Not going to do more parsing for now.  \n",
    "- \"phenotypes\": HPO IDs (already Translator-formatted CURIE) for phenotypes reported by the publications (according to G2P webpage for single record). Can be \"; \"-delimited\n",
    "  - based on G2P website, these are organized/assigned to specific gene-disease records...so I'm keeping as a part of the gene-disease assocation, rather than creating diff objects for gene-phenotype (if I did this, it would be a separate function)\n",
    "  - DOC TRANSFORM:\n",
    "    - CHECK for NA (many rows are, sometimes). Only assign field if not NA\n",
    "    - Turn into array of str: \";\"-split and then strip whitespace \n",
    "- \"publications\": these are PMIDs with no prefix (based on G2P webpage for single record). Can be \"; \"-delimited\n",
    "  - DOC TRANSFORM: pmids\n",
    "    - CHECK for NA (many rows are, sometimes). Only assign field if not NA\n",
    "    - Turn into array of str: \";\"-split and then strip whitespace \n",
    "- \"panel\": the G2P panels this record is assigned to (according to DataDownloadFormat txt file). Can be \"; \"-delimited, otherwise would be categorical.\n",
    "  - DOC TRANSFORM: g2p_panels\n",
    "    - map (str.replace) values to match G2P webpage for single record\n",
    "      - \"DD\" = \"Developmental disorders\"\n",
    "      - add \" disorders\" to end: \"Cancer\", \"Cardiac\", \"Eye\", \"Skeletal\", \"Skin\"\n",
    "      - keep as-is: \"Hearing loss\"\n",
    "    - Turn into array of str: \";\"-split and then strip whitespace \n",
    "- \"comments\": additional comments from curation team (according to DataDownloadFormat txt file). Appears to be free-text (sometimes short, sometimes very long)\n",
    "  - DF TRANSFORM:\n",
    "    - strip whitespace\n",
    "  - DOC TRANSFORM: curator_comments\n",
    "    - CHECK for NA (many rows are, sometimes). Only assign field if not NA\n",
    "- \"date of last review\":\n",
    "  - DF TRANSFORM:\n",
    "    - optional: turn dtype into datetime https://pandas.pydata.org/docs/reference/api/pandas.to_datetime.html#pandas.to_datetime\n",
    "\n",
    "\n",
    "__Allelic requirement terms__\n",
    "\n",
    "| G2P | HPO name | HPO ID | Exact synonym? | \n",
    "| :- | :- | :- | :- |\n",
    "| biallelic_autosomal | Autosomal recessive inheritance | HP:0000007 | Yes |\n",
    "| monoallelic_autosomal | Autosomal dominant inheritance | HP:0000006 | Yes |\n",
    "| biallelic_PAR | Pseudoautosomal recessive inheritance | HP:0034341 | Yes |\n",
    "| monoallelic_PAR | Pseudoautosomal dominant inheritance | HP:0034340 | Yes |\n",
    "| mitochondrial | Mitochondrial inheritance | HP:0001427 | Yes |\n",
    "| monoallelic_Y_hemizygous | Y-linked inheritance | HP:0001450 | Yes |\n",
    "| monoallelic_X | X-linked inheritance | HP:0001417 | No (my guess) |\n",
    "| monoallelic_X_hemizygous | X-linked recessive inheritance | HP:0001419 | No (my guess) |\n",
    "| monoallelic_X_heterozygous | X-linked dominant inheritance | HP:0001423 | No (my guess) |\n",
    "\n",
    "---\n",
    "\n",
    "__Not doing right now: optional making new columns/fields__\n",
    "\n",
    "Would do value-mapping using static dicts? Which would be brittle/work to maintain\n",
    "\n",
    "* \"allelic requirement\": create new columns for HPO mapping IDs/labels (reference below)\n",
    "* \"variant consequence\": create new column(s) for SO mapping (value is ID or labels, or a list of dict for ID/label pairs)\n",
    "* \"variant types\": create new column(s) for SO mapping"
   ]
  },
  {
   "cell_type": "markdown",
   "id": "93355c4a",
   "metadata": {},
   "source": [
    "## Issues merging data into 1 dataframe"
   ]
  },
  {
   "cell_type": "markdown",
   "id": "2b65c38f",
   "metadata": {},
   "source": [
    "If I loaded all data into 1 dataframe, there will likely be duplicate rows because the gene-disease pair is in several panels (aka disease falls into multiple categories). One proof of this is `panel` being a \"; \"-delimited string.\n",
    "\n",
    "Drop duplicates will be needed. \n",
    "\n",
    "However, what if other column values differ between files (like \"; \"-delimited strings having a diff order of elements)? Especially wondering about `panel`. \n",
    "\n",
    "Exploring this:\n",
    "* Add all dataframes together into a big dataframe\n",
    "* how many duplicates are there based on the columns that matter for unique row: 'g2p id'\n",
    "  * other important set: 'gene symbol', 'disease name', 'allelic requirement', 'molecular mechanism'\n",
    "* VS how many duplicates are there considering all columns? \n",
    "\n",
    "If the duplicate numbers differ between the two, then some other column's values are contributing to \"unique\" rows between diff files. (probably everything duplicate count < subset duplicate count)\n",
    "* If the problem is \"; \"-delimited string order, then can reorder them (split, sort, join. Can you do this column-wise rather than iterating?). Then can look for duplicate rows.\n",
    "\n",
    "If the numbers are the same, then we're good! No other columns matter for unique row, and the duplicates can be dropped (based on all columns). "
   ]
  },
  {
   "cell_type": "code",
   "execution_count": null,
   "id": "bcea908c",
   "metadata": {},
   "outputs": [],
   "source": [
    "everything = pd.concat(objs=[cancer, cardiac, developmental, eye, hearing, skeletal, skin], ignore_index=True)"
   ]
  },
  {
   "cell_type": "code",
   "execution_count": 10,
   "id": "83248c45",
   "metadata": {
    "ExecuteTime": {
     "end_time": "2025-04-04T06:24:19.684839Z",
     "start_time": "2025-04-04T06:24:19.677871Z"
    }
   },
   "outputs": [
    {
     "data": {
      "text/plain": [
       "(4721, 21)"
      ]
     },
     "execution_count": 10,
     "metadata": {},
     "output_type": "execute_result"
    },
    {
     "data": {
      "text/plain": [
       "4721"
      ]
     },
     "execution_count": 10,
     "metadata": {},
     "output_type": "execute_result"
    }
   ],
   "source": [
    "everything.shape\n",
    "\n",
    "cancer.shape[0] + cardiac.shape[0] + \\\n",
    "developmental.shape[0] + eye.shape[0] + \\\n",
    "hearing.shape[0] + skeletal.shape[0] + \\\n",
    "skin.shape[0]"
   ]
  },
  {
   "cell_type": "code",
   "execution_count": 11,
   "id": "4df8e0d4",
   "metadata": {
    "ExecuteTime": {
     "end_time": "2025-04-04T06:24:22.354015Z",
     "start_time": "2025-04-04T06:24:22.313760Z"
    }
   },
   "outputs": [
    {
     "data": {
      "text/plain": [
       "(1935, 21)"
      ]
     },
     "execution_count": 11,
     "metadata": {},
     "output_type": "execute_result"
    },
    {
     "data": {
      "text/plain": [
       "(1935, 21)"
      ]
     },
     "execution_count": 11,
     "metadata": {},
     "output_type": "execute_result"
    },
    {
     "data": {
      "text/plain": [
       "(1935, 21)"
      ]
     },
     "execution_count": 11,
     "metadata": {},
     "output_type": "execute_result"
    }
   ],
   "source": [
    "everything[everything.duplicated(subset=['g2p id'], keep=False)].sort_values(by=['gene symbol', 'disease name']).shape\n",
    "\n",
    "\n",
    "everything[everything.duplicated(subset=['gene symbol', 'disease name', 'allelic requirement', 'molecular mechanism'], keep=False)].sort_values(by=['gene symbol', 'disease name']).shape\n",
    "\n",
    "everything[everything.duplicated(keep=False)].shape"
   ]
  },
  {
   "cell_type": "code",
   "execution_count": 12,
   "id": "1577f1c6",
   "metadata": {
    "ExecuteTime": {
     "end_time": "2025-04-04T06:24:25.636090Z",
     "start_time": "2025-04-04T06:24:25.619080Z"
    }
   },
   "outputs": [
    {
     "data": {
      "text/html": [
       "<div>\n",
       "<style scoped>\n",
       "    .dataframe tbody tr th:only-of-type {\n",
       "        vertical-align: middle;\n",
       "    }\n",
       "\n",
       "    .dataframe tbody tr th {\n",
       "        vertical-align: top;\n",
       "    }\n",
       "\n",
       "    .dataframe thead th {\n",
       "        text-align: right;\n",
       "    }\n",
       "</style>\n",
       "<table border=\"1\" class=\"dataframe\">\n",
       "  <thead>\n",
       "    <tr style=\"text-align: right;\">\n",
       "      <th></th>\n",
       "      <th>g2p id</th>\n",
       "      <th>gene symbol</th>\n",
       "      <th>gene mim</th>\n",
       "      <th>hgnc id</th>\n",
       "      <th>previous gene symbols</th>\n",
       "      <th>disease name</th>\n",
       "      <th>disease mim</th>\n",
       "      <th>disease MONDO</th>\n",
       "      <th>allelic requirement</th>\n",
       "      <th>cross cutting modifier</th>\n",
       "      <th>confidence</th>\n",
       "      <th>variant consequence</th>\n",
       "      <th>variant types</th>\n",
       "      <th>molecular mechanism</th>\n",
       "      <th>molecular mechanism categorisation</th>\n",
       "      <th>molecular mechanism evidence</th>\n",
       "      <th>phenotypes</th>\n",
       "      <th>publications</th>\n",
       "      <th>panel</th>\n",
       "      <th>comments</th>\n",
       "      <th>date of last review</th>\n",
       "    </tr>\n",
       "  </thead>\n",
       "  <tbody>\n",
       "    <tr>\n",
       "      <th>839</th>\n",
       "      <td>G2P00650</td>\n",
       "      <td>AAAS</td>\n",
       "      <td>605378</td>\n",
       "      <td>13666</td>\n",
       "      <td>NaN</td>\n",
       "      <td>AAAS-related chalasia-addisonianism-alacrima s...</td>\n",
       "      <td>231550</td>\n",
       "      <td>NaN</td>\n",
       "      <td>biallelic_autosomal</td>\n",
       "      <td>NaN</td>\n",
       "      <td>definitive</td>\n",
       "      <td>absent gene product</td>\n",
       "      <td>NaN</td>\n",
       "      <td>loss of function</td>\n",
       "      <td>inferred</td>\n",
       "      <td>NaN</td>\n",
       "      <td>HP:0002459; HP:0011463; HP:0003487; HP:0001278...</td>\n",
       "      <td>11062474; 11701718; 18628786; 11159947; 15173230</td>\n",
       "      <td>DD; Eye; Skin</td>\n",
       "      <td>NaN</td>\n",
       "      <td>2025-01-27 14:40:58+00:00</td>\n",
       "    </tr>\n",
       "    <tr>\n",
       "      <th>3104</th>\n",
       "      <td>G2P00650</td>\n",
       "      <td>AAAS</td>\n",
       "      <td>605378</td>\n",
       "      <td>13666</td>\n",
       "      <td>NaN</td>\n",
       "      <td>AAAS-related chalasia-addisonianism-alacrima s...</td>\n",
       "      <td>231550</td>\n",
       "      <td>NaN</td>\n",
       "      <td>biallelic_autosomal</td>\n",
       "      <td>NaN</td>\n",
       "      <td>definitive</td>\n",
       "      <td>absent gene product</td>\n",
       "      <td>NaN</td>\n",
       "      <td>loss of function</td>\n",
       "      <td>inferred</td>\n",
       "      <td>NaN</td>\n",
       "      <td>HP:0002459; HP:0011463; HP:0003487; HP:0001278...</td>\n",
       "      <td>11062474; 11701718; 18628786; 11159947; 15173230</td>\n",
       "      <td>DD; Eye; Skin</td>\n",
       "      <td>NaN</td>\n",
       "      <td>2025-01-27 14:40:58+00:00</td>\n",
       "    </tr>\n",
       "    <tr>\n",
       "      <th>4198</th>\n",
       "      <td>G2P00650</td>\n",
       "      <td>AAAS</td>\n",
       "      <td>605378</td>\n",
       "      <td>13666</td>\n",
       "      <td>NaN</td>\n",
       "      <td>AAAS-related chalasia-addisonianism-alacrima s...</td>\n",
       "      <td>231550</td>\n",
       "      <td>NaN</td>\n",
       "      <td>biallelic_autosomal</td>\n",
       "      <td>NaN</td>\n",
       "      <td>definitive</td>\n",
       "      <td>absent gene product</td>\n",
       "      <td>NaN</td>\n",
       "      <td>loss of function</td>\n",
       "      <td>inferred</td>\n",
       "      <td>NaN</td>\n",
       "      <td>HP:0002459; HP:0011463; HP:0003487; HP:0001278...</td>\n",
       "      <td>11062474; 11701718; 18628786; 11159947; 15173230</td>\n",
       "      <td>DD; Eye; Skin</td>\n",
       "      <td>NaN</td>\n",
       "      <td>2025-01-27 14:40:58+00:00</td>\n",
       "    </tr>\n",
       "  </tbody>\n",
       "</table>\n",
       "</div>"
      ],
      "text/plain": [
       "        g2p id gene symbol gene mim hgnc id previous gene symbols  \\\n",
       "839   G2P00650        AAAS   605378   13666                   NaN   \n",
       "3104  G2P00650        AAAS   605378   13666                   NaN   \n",
       "4198  G2P00650        AAAS   605378   13666                   NaN   \n",
       "\n",
       "                                           disease name disease mim  \\\n",
       "839   AAAS-related chalasia-addisonianism-alacrima s...      231550   \n",
       "3104  AAAS-related chalasia-addisonianism-alacrima s...      231550   \n",
       "4198  AAAS-related chalasia-addisonianism-alacrima s...      231550   \n",
       "\n",
       "     disease MONDO  allelic requirement cross cutting modifier  confidence  \\\n",
       "839            NaN  biallelic_autosomal                    NaN  definitive   \n",
       "3104           NaN  biallelic_autosomal                    NaN  definitive   \n",
       "4198           NaN  biallelic_autosomal                    NaN  definitive   \n",
       "\n",
       "      variant consequence variant types molecular mechanism  \\\n",
       "839   absent gene product           NaN    loss of function   \n",
       "3104  absent gene product           NaN    loss of function   \n",
       "4198  absent gene product           NaN    loss of function   \n",
       "\n",
       "     molecular mechanism categorisation molecular mechanism evidence  \\\n",
       "839                            inferred                          NaN   \n",
       "3104                           inferred                          NaN   \n",
       "4198                           inferred                          NaN   \n",
       "\n",
       "                                             phenotypes  \\\n",
       "839   HP:0002459; HP:0011463; HP:0003487; HP:0001278...   \n",
       "3104  HP:0002459; HP:0011463; HP:0003487; HP:0001278...   \n",
       "4198  HP:0002459; HP:0011463; HP:0003487; HP:0001278...   \n",
       "\n",
       "                                          publications          panel  \\\n",
       "839   11062474; 11701718; 18628786; 11159947; 15173230  DD; Eye; Skin   \n",
       "3104  11062474; 11701718; 18628786; 11159947; 15173230  DD; Eye; Skin   \n",
       "4198  11062474; 11701718; 18628786; 11159947; 15173230  DD; Eye; Skin   \n",
       "\n",
       "     comments        date of last review  \n",
       "839       NaN  2025-01-27 14:40:58+00:00  \n",
       "3104      NaN  2025-01-27 14:40:58+00:00  \n",
       "4198      NaN  2025-01-27 14:40:58+00:00  "
      ]
     },
     "execution_count": 12,
     "metadata": {},
     "output_type": "execute_result"
    }
   ],
   "source": [
    "everything[everything[\"g2p id\"] == \"G2P00650\"]"
   ]
  },
  {
   "cell_type": "markdown",
   "id": "64e72236",
   "metadata": {},
   "source": [
    "So...the numbers are the same! This means duplicate records/rows from diff files are completely identical, and can be dropped easily (based on all columns)"
   ]
  },
  {
   "cell_type": "markdown",
   "id": "b90c3600",
   "metadata": {},
   "source": [
    "## Other parser code ideas"
   ]
  },
  {
   "cell_type": "markdown",
   "id": "d1d3577d",
   "metadata": {},
   "source": [
    "* each row => turn into 1 association object\n",
    "  * document/object MUST have `_id` key (primary ID for BioThings database - ElasticSearch / mongo DB?) \n",
    "    * use 'g2p id' for `_id`\n",
    "    * unique 'gene symbol', 'disease name', 'allelic requirement', 'molecular mechanism' combo\n",
    "    * \"G2P records are Locus-Genotype-Mechanism-Disease-Evidence (LGMDE) threads describing gene-disease associations\" -> this is what a unique row is from resource POV (ref: homepage table \"Total LGMDE Records\" info (i) button)\n",
    "* sometimes disease doesn't have any IDs for it => still make document/object but won't use in Translator unless it has ID\n",
    "  * all hearing records (2) have this problem.\n",
    "* str split method will create single-element arrays if no delimiter found\n",
    "* parser feeds into upload step -> function should be generator to iterate through all stuff -> for each, yield the document(s) as dict/json\n",
    "\n",
    "Confidence is important to filter on for Translator! => will still make document/object but don't use! \n",
    "* don't use \"limited\", \"disputed\", \"refuted\": Translator doesn't handle negation (\"refuted\") or low/conflicting evidence (\"disputed\" or \"limited\")"
   ]
  }
 ],
 "metadata": {
  "kernelspec": {
   "display_name": "Python 3 (ipykernel)",
   "language": "python",
   "name": "python3"
  },
  "language_info": {
   "codemirror_mode": {
    "name": "ipython",
    "version": 3
   },
   "file_extension": ".py",
   "mimetype": "text/x-python",
   "name": "python",
   "nbconvert_exporter": "python",
   "pygments_lexer": "ipython3",
   "version": "3.12.9"
  },
  "toc": {
   "base_numbering": 1,
   "nav_menu": {},
   "number_sections": false,
   "sideBar": true,
   "skip_h1_title": true,
   "title_cell": "Table of Contents",
   "title_sidebar": "Contents",
   "toc_cell": false,
   "toc_position": {
    "height": "calc(100% - 180px)",
    "left": "10px",
    "top": "150px",
    "width": "220.5px"
   },
   "toc_section_display": true,
   "toc_window_display": false
  }
 },
 "nbformat": 4,
 "nbformat_minor": 5
}
