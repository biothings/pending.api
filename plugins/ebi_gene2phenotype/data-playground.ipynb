{
 "cells": [
  {
   "cell_type": "markdown",
   "id": "a413234c",
   "metadata": {},
   "source": [
    "# Exploring EBI gene2pheno data for parser"
   ]
  },
  {
   "cell_type": "markdown",
   "id": "a7806d5e",
   "metadata": {},
   "source": [
    "## Downloading data"
   ]
  },
  {
   "cell_type": "markdown",
   "id": "99a94602",
   "metadata": {},
   "source": [
    "Latest data (created on the fly) can be downloaded from:\n",
    "* webpage https://www.ebi.ac.uk/gene2phenotype/download: currently manual clicks only. Can use the \"all data\" file!\n",
    "* API urls https://www.ebi.ac.uk/gene2phenotype/api/: `panel/{name}/download/` endpoint. Has \"all data\" option! Works programmatically and manually\n",
    "\n",
    "Static release files can be downloaded from the FTP site http://ftp.ebi.ac.uk/pub/databases/gene2phenotype/ (in the G2P_data_downloads subfolder). **These releases will include the \"all data\" file starting in Aug 2025.** It updates on a monthly basis, according to the [README](http://ftp.ebi.ac.uk/pub/databases/gene2phenotype/README). However, I notice that the FTP site is sometimes slow on my computer (Firefox browser). \n",
    "\n",
    "\n",
    "I'm using all data (either downloading the \"all data\" file or all the panel/subset files). "
   ]
  },
  {
   "cell_type": "markdown",
   "id": "cc2ed7fe",
   "metadata": {},
   "source": [
    "## Load data "
   ]
  },
  {
   "cell_type": "code",
   "execution_count": 1,
   "id": "be796066",
   "metadata": {
    "ExecuteTime": {
     "end_time": "2025-09-04T19:38:04.703190Z",
     "start_time": "2025-09-04T19:38:04.127918Z"
    }
   },
   "outputs": [],
   "source": [
    "## import packages for exploring here\n",
    "\n",
    "## CX: allows multiple lines of code to print from one code block\n",
    "from IPython.core.interactiveshell import InteractiveShell\n",
    "InteractiveShell.ast_node_interactivity = \"all\"\n",
    "\n",
    "import pathlib\n",
    "import pandas as pd\n",
    "import glob\n",
    "import numpy as np\n",
    "from pprint import pprint\n",
    "\n",
    "\n",
    "## for notebook viewing/debugging...\n",
    "pd.options.display.max_columns = None"
   ]
  },
  {
   "cell_type": "code",
   "execution_count": 2,
   "id": "043dccbf",
   "metadata": {
    "ExecuteTime": {
     "end_time": "2025-09-04T19:38:06.337800Z",
     "start_time": "2025-09-04T19:38:06.333508Z"
    }
   },
   "outputs": [],
   "source": [
    "## adjust based on where files are stored\n",
    "base_file_path = pathlib.Path.home().joinpath(\"Desktop\", \"EBIgene2pheno_files\", \n",
    "                                              \"From_Website\", \"2025-07-30\")\n",
    "\n",
    "## uses pathlib's Path.glob, which produces a generator. \n",
    "## cast into list so parser code can check if paths were actually matched or not\n",
    "all_file_paths = list(base_file_path.glob(\"*.csv\"))"
   ]
  },
  {
   "cell_type": "markdown",
   "id": "accbdf66",
   "metadata": {},
   "source": [
    "### 1 dataframe - compare subset files vs \"all\" link"
   ]
  },
  {
   "cell_type": "markdown",
   "id": "86ab7f20",
   "metadata": {},
   "source": [
    "These files come from the webpage (manual click downloads) or API."
   ]
  },
  {
   "cell_type": "markdown",
   "id": "b2299442",
   "metadata": {
    "heading_collapsed": true
   },
   "source": [
    "#### merging subset files"
   ]
  },
  {
   "cell_type": "code",
   "execution_count": 38,
   "id": "dee20926",
   "metadata": {
    "ExecuteTime": {
     "end_time": "2025-07-30T09:37:40.517991Z",
     "start_time": "2025-07-30T09:37:40.394601Z"
    },
    "hidden": true
   },
   "outputs": [],
   "source": [
    "## using generator expression (think list/dict comprehension) within pd.concat to load files 1 at a time\n",
    "## ingesting all columns as str for now\n",
    "df_merged = pd.concat((pd.read_csv(f, dtype=str) for f in all_file_paths), ignore_index=True)\n",
    "\n",
    "## make column names snake-case - usable with itertuples later\n",
    "df_merged.columns = df_merged.columns.str.replace(\" \", \"_\")"
   ]
  },
  {
   "cell_type": "code",
   "execution_count": 39,
   "id": "848daa54",
   "metadata": {
    "ExecuteTime": {
     "end_time": "2025-07-30T09:37:43.070994Z",
     "start_time": "2025-07-30T09:37:43.045435Z"
    },
    "hidden": true
   },
   "outputs": [
    {
     "name": "stdout",
     "output_type": "stream",
     "text": [
      "(2066, 23)\n"
     ]
    }
   ],
   "source": [
    "## checking for duplicates - should be since rows in multiple panels\n",
    "\n",
    "n_duplicates_column_combo = df_merged[df_merged.duplicated(subset=[\"g2p_id\"], keep=False)].shape\n",
    "\n",
    "n_duplicates_all_columns = df_merged[df_merged.duplicated(keep=False)].shape\n",
    "\n",
    "## for testing\n",
    "# n_duplicates_all_columns = (1, 1)\n",
    "\n",
    "if n_duplicates_column_combo != n_duplicates_all_columns: \n",
    "    raise AssertionError(\"The data format has changed, and the assumptions about duplicates/key columns may \" \\\n",
    "                          \"no longer hold. Re-explore the data and adjust the parser.\")\n",
    "    \n",
    "print(n_duplicates_column_combo)"
   ]
  },
  {
   "cell_type": "code",
   "execution_count": 40,
   "id": "1ca20ada",
   "metadata": {
    "ExecuteTime": {
     "end_time": "2025-07-30T09:37:47.896236Z",
     "start_time": "2025-07-30T09:37:47.846905Z"
    },
    "hidden": true
   },
   "outputs": [
    {
     "name": "stdout",
     "output_type": "stream",
     "text": [
      "<class 'pandas.core.frame.DataFrame'>\n",
      "RangeIndex: 3718 entries, 0 to 3717\n",
      "Data columns (total 23 columns):\n",
      " #   Column                              Non-Null Count  Dtype \n",
      "---  ------                              --------------  ----- \n",
      " 0   g2p_id                              3718 non-null   object\n",
      " 1   gene_symbol                         3718 non-null   object\n",
      " 2   gene_mim                            3715 non-null   object\n",
      " 3   hgnc_id                             3718 non-null   object\n",
      " 4   previous_gene_symbols               3433 non-null   object\n",
      " 5   disease_name                        3718 non-null   object\n",
      " 6   disease_mim                         2949 non-null   object\n",
      " 7   disease_MONDO                       2196 non-null   object\n",
      " 8   allelic_requirement                 3718 non-null   object\n",
      " 9   cross_cutting_modifier              464 non-null    object\n",
      " 10  confidence                          3718 non-null   object\n",
      " 11  variant_consequence                 3700 non-null   object\n",
      " 12  variant_types                       1055 non-null   object\n",
      " 13  molecular_mechanism                 3718 non-null   object\n",
      " 14  molecular_mechanism_support         3718 non-null   object\n",
      " 15  molecular_mechanism_categorisation  38 non-null     object\n",
      " 16  molecular_mechanism_evidence        105 non-null    object\n",
      " 17  phenotypes                          2477 non-null   object\n",
      " 18  publications                        3370 non-null   object\n",
      " 19  panel                               3718 non-null   object\n",
      " 20  comments                            120 non-null    object\n",
      " 21  date_of_last_review                 3718 non-null   object\n",
      " 22  review                              0 non-null      object\n",
      "dtypes: object(23)\n",
      "memory usage: 5.2 MB\n"
     ]
    }
   ],
   "source": [
    "df_merged.drop_duplicates(inplace=True, ignore_index=True)\n",
    "\n",
    "df_merged.info(memory_usage=\"deep\")"
   ]
  },
  {
   "cell_type": "markdown",
   "id": "762ffee6",
   "metadata": {
    "heading_collapsed": true
   },
   "source": [
    "#### \"All data\" manual download from webpage"
   ]
  },
  {
   "cell_type": "code",
   "execution_count": 41,
   "id": "4e2b1246",
   "metadata": {
    "ExecuteTime": {
     "end_time": "2025-07-30T09:37:56.469357Z",
     "start_time": "2025-07-30T09:37:56.361551Z"
    },
    "hidden": true,
    "scrolled": true
   },
   "outputs": [
    {
     "name": "stdout",
     "output_type": "stream",
     "text": [
      "<class 'pandas.core.frame.DataFrame'>\n",
      "RangeIndex: 3718 entries, 0 to 3717\n",
      "Data columns (total 23 columns):\n",
      " #   Column                              Non-Null Count  Dtype \n",
      "---  ------                              --------------  ----- \n",
      " 0   g2p_id                              3718 non-null   object\n",
      " 1   gene_symbol                         3718 non-null   object\n",
      " 2   gene_mim                            3715 non-null   object\n",
      " 3   hgnc_id                             3718 non-null   object\n",
      " 4   previous_gene_symbols               3433 non-null   object\n",
      " 5   disease_name                        3718 non-null   object\n",
      " 6   disease_mim                         2949 non-null   object\n",
      " 7   disease_MONDO                       2196 non-null   object\n",
      " 8   allelic_requirement                 3718 non-null   object\n",
      " 9   cross_cutting_modifier              464 non-null    object\n",
      " 10  confidence                          3718 non-null   object\n",
      " 11  variant_consequence                 3700 non-null   object\n",
      " 12  variant_types                       1055 non-null   object\n",
      " 13  molecular_mechanism                 3718 non-null   object\n",
      " 14  molecular_mechanism_support         3718 non-null   object\n",
      " 15  molecular_mechanism_categorisation  38 non-null     object\n",
      " 16  molecular_mechanism_evidence        105 non-null    object\n",
      " 17  phenotypes                          2477 non-null   object\n",
      " 18  publications                        3370 non-null   object\n",
      " 19  panel                               3718 non-null   object\n",
      " 20  comments                            120 non-null    object\n",
      " 21  date_of_last_review                 3718 non-null   object\n",
      " 22  review                              0 non-null      object\n",
      "dtypes: object(23)\n",
      "memory usage: 5.2 MB\n"
     ]
    }
   ],
   "source": [
    "option_all_path = pathlib.Path.home().joinpath(\"Desktop\", \"EBIgene2pheno_files\", \n",
    "                                              \"From_Website\", \"G2P_all_2025-07-30.csv\")\n",
    "\n",
    "df_option_all = pd.read_csv(option_all_path, dtype=str)\n",
    "df_option_all.columns = df_option_all.columns.str.replace(\" \", \"_\")\n",
    "\n",
    "df_option_all.info(memory_usage=\"deep\")\n",
    "## the numbers are the same as df_merged"
   ]
  },
  {
   "cell_type": "code",
   "execution_count": 42,
   "id": "091ef7fc",
   "metadata": {
    "ExecuteTime": {
     "end_time": "2025-07-30T09:38:02.370449Z",
     "start_time": "2025-07-30T09:38:02.360294Z"
    },
    "hidden": true
   },
   "outputs": [
    {
     "data": {
      "text/html": [
       "<div>\n",
       "<style scoped>\n",
       "    .dataframe tbody tr th:only-of-type {\n",
       "        vertical-align: middle;\n",
       "    }\n",
       "\n",
       "    .dataframe tbody tr th {\n",
       "        vertical-align: top;\n",
       "    }\n",
       "\n",
       "    .dataframe thead th {\n",
       "        text-align: right;\n",
       "    }\n",
       "</style>\n",
       "<table border=\"1\" class=\"dataframe\">\n",
       "  <thead>\n",
       "    <tr style=\"text-align: right;\">\n",
       "      <th></th>\n",
       "      <th>g2p_id</th>\n",
       "      <th>gene_symbol</th>\n",
       "      <th>gene_mim</th>\n",
       "      <th>hgnc_id</th>\n",
       "      <th>previous_gene_symbols</th>\n",
       "      <th>disease_name</th>\n",
       "      <th>disease_mim</th>\n",
       "      <th>disease_MONDO</th>\n",
       "      <th>allelic_requirement</th>\n",
       "      <th>cross_cutting_modifier</th>\n",
       "      <th>confidence</th>\n",
       "      <th>variant_consequence</th>\n",
       "      <th>variant_types</th>\n",
       "      <th>molecular_mechanism</th>\n",
       "      <th>molecular_mechanism_support</th>\n",
       "      <th>molecular_mechanism_categorisation</th>\n",
       "      <th>molecular_mechanism_evidence</th>\n",
       "      <th>phenotypes</th>\n",
       "      <th>publications</th>\n",
       "      <th>panel</th>\n",
       "      <th>comments</th>\n",
       "      <th>date_of_last_review</th>\n",
       "      <th>review</th>\n",
       "    </tr>\n",
       "  </thead>\n",
       "  <tbody>\n",
       "  </tbody>\n",
       "</table>\n",
       "</div>"
      ],
      "text/plain": [
       "Empty DataFrame\n",
       "Columns: [g2p_id, gene_symbol, gene_mim, hgnc_id, previous_gene_symbols, disease_name, disease_mim, disease_MONDO, allelic_requirement, cross_cutting_modifier, confidence, variant_consequence, variant_types, molecular_mechanism, molecular_mechanism_support, molecular_mechanism_categorisation, molecular_mechanism_evidence, phenotypes, publications, panel, comments, date_of_last_review, review]\n",
       "Index: []"
      ]
     },
     "execution_count": 42,
     "metadata": {},
     "output_type": "execute_result"
    }
   ],
   "source": [
    "## does the \"all\" file have duplicates? - no! yay!\n",
    "\n",
    "df_option_all[df_option_all.duplicated(subset=[\"g2p_id\"], keep=False)]"
   ]
  },
  {
   "cell_type": "code",
   "execution_count": 46,
   "id": "4748760e",
   "metadata": {
    "ExecuteTime": {
     "end_time": "2025-07-30T09:38:48.367944Z",
     "start_time": "2025-07-30T09:38:48.353887Z"
    },
    "hidden": true
   },
   "outputs": [
    {
     "data": {
      "text/plain": [
       "True"
      ]
     },
     "execution_count": 46,
     "metadata": {},
     "output_type": "execute_result"
    }
   ],
   "source": [
    "## check if these dataframes are identical or not\n",
    "\n",
    "## first sort them the same way\n",
    "df_merged.sort_values(by=\"g2p_id\", inplace=True, ignore_index=True)\n",
    "df_option_all.sort_values(by=\"g2p_id\", inplace=True, ignore_index=True)\n",
    "\n",
    "## these are identical!!!\n",
    "df_merged.equals(df_option_all)"
   ]
  },
  {
   "cell_type": "markdown",
   "id": "de1218d0",
   "metadata": {},
   "source": [
    "#### \"All data\" download from API url"
   ]
  },
  {
   "cell_type": "code",
   "execution_count": 3,
   "id": "22d77d15",
   "metadata": {
    "ExecuteTime": {
     "end_time": "2025-09-04T19:38:11.645465Z",
     "start_time": "2025-09-04T19:38:09.249145Z"
    }
   },
   "outputs": [],
   "source": [
    "## pandas downloading file from URL: works, a little slow\n",
    "\n",
    "df_url_all = pd.read_csv(\"https://www.ebi.ac.uk/gene2phenotype/api/panel/all/download/\", \n",
    "                         dtype=str)"
   ]
  },
  {
   "cell_type": "code",
   "execution_count": 4,
   "id": "271fb122",
   "metadata": {
    "ExecuteTime": {
     "end_time": "2025-09-04T19:38:12.456336Z",
     "start_time": "2025-09-04T19:38:12.418135Z"
    }
   },
   "outputs": [
    {
     "name": "stdout",
     "output_type": "stream",
     "text": [
      "<class 'pandas.core.frame.DataFrame'>\n",
      "RangeIndex: 3720 entries, 0 to 3719\n",
      "Data columns (total 23 columns):\n",
      " #   Column                              Non-Null Count  Dtype \n",
      "---  ------                              --------------  ----- \n",
      " 0   g2p_id                              3720 non-null   object\n",
      " 1   gene_symbol                         3720 non-null   object\n",
      " 2   gene_mim                            3717 non-null   object\n",
      " 3   hgnc_id                             3720 non-null   object\n",
      " 4   previous_gene_symbols               3435 non-null   object\n",
      " 5   disease_name                        3720 non-null   object\n",
      " 6   disease_mim                         2954 non-null   object\n",
      " 7   disease_MONDO                       2224 non-null   object\n",
      " 8   allelic_requirement                 3720 non-null   object\n",
      " 9   cross_cutting_modifier              468 non-null    object\n",
      " 10  confidence                          3720 non-null   object\n",
      " 11  variant_consequence                 3702 non-null   object\n",
      " 12  variant_types                       1072 non-null   object\n",
      " 13  molecular_mechanism                 3720 non-null   object\n",
      " 14  molecular_mechanism_support         3720 non-null   object\n",
      " 15  molecular_mechanism_categorisation  40 non-null     object\n",
      " 16  molecular_mechanism_evidence        120 non-null    object\n",
      " 17  phenotypes                          2480 non-null   object\n",
      " 18  publications                        3378 non-null   object\n",
      " 19  panel                               3720 non-null   object\n",
      " 20  comments                            129 non-null    object\n",
      " 21  date_of_last_review                 3720 non-null   object\n",
      " 22  review                              1 non-null      object\n",
      "dtypes: object(23)\n",
      "memory usage: 5.2 MB\n"
     ]
    }
   ],
   "source": [
    "df_url_all.columns = df_url_all.columns.str.replace(\" \", \"_\")\n",
    "\n",
    "df_url_all.info(memory_usage=\"deep\")\n",
    "## the numbers are the same as df_merged and df_option_all"
   ]
  },
  {
   "cell_type": "code",
   "execution_count": 5,
   "id": "0206c316",
   "metadata": {
    "ExecuteTime": {
     "end_time": "2025-09-04T19:38:16.289107Z",
     "start_time": "2025-09-04T19:38:16.272574Z"
    }
   },
   "outputs": [
    {
     "data": {
      "text/html": [
       "<div>\n",
       "<style scoped>\n",
       "    .dataframe tbody tr th:only-of-type {\n",
       "        vertical-align: middle;\n",
       "    }\n",
       "\n",
       "    .dataframe tbody tr th {\n",
       "        vertical-align: top;\n",
       "    }\n",
       "\n",
       "    .dataframe thead th {\n",
       "        text-align: right;\n",
       "    }\n",
       "</style>\n",
       "<table border=\"1\" class=\"dataframe\">\n",
       "  <thead>\n",
       "    <tr style=\"text-align: right;\">\n",
       "      <th></th>\n",
       "      <th>g2p_id</th>\n",
       "      <th>gene_symbol</th>\n",
       "      <th>gene_mim</th>\n",
       "      <th>hgnc_id</th>\n",
       "      <th>previous_gene_symbols</th>\n",
       "      <th>disease_name</th>\n",
       "      <th>disease_mim</th>\n",
       "      <th>disease_MONDO</th>\n",
       "      <th>allelic_requirement</th>\n",
       "      <th>cross_cutting_modifier</th>\n",
       "      <th>confidence</th>\n",
       "      <th>variant_consequence</th>\n",
       "      <th>variant_types</th>\n",
       "      <th>molecular_mechanism</th>\n",
       "      <th>molecular_mechanism_support</th>\n",
       "      <th>molecular_mechanism_categorisation</th>\n",
       "      <th>molecular_mechanism_evidence</th>\n",
       "      <th>phenotypes</th>\n",
       "      <th>publications</th>\n",
       "      <th>panel</th>\n",
       "      <th>comments</th>\n",
       "      <th>date_of_last_review</th>\n",
       "      <th>review</th>\n",
       "    </tr>\n",
       "  </thead>\n",
       "  <tbody>\n",
       "  </tbody>\n",
       "</table>\n",
       "</div>"
      ],
      "text/plain": [
       "Empty DataFrame\n",
       "Columns: [g2p_id, gene_symbol, gene_mim, hgnc_id, previous_gene_symbols, disease_name, disease_mim, disease_MONDO, allelic_requirement, cross_cutting_modifier, confidence, variant_consequence, variant_types, molecular_mechanism, molecular_mechanism_support, molecular_mechanism_categorisation, molecular_mechanism_evidence, phenotypes, publications, panel, comments, date_of_last_review, review]\n",
       "Index: []"
      ]
     },
     "execution_count": 5,
     "metadata": {},
     "output_type": "execute_result"
    }
   ],
   "source": [
    "## does the \"all\" file have duplicates? - no! yay!\n",
    "\n",
    "df_url_all[df_url_all.duplicated(subset=[\"g2p_id\"], keep=False)]"
   ]
  },
  {
   "cell_type": "code",
   "execution_count": null,
   "id": "38e86b9e",
   "metadata": {
    "ExecuteTime": {
     "end_time": "2025-09-04T19:38:18.298516Z",
     "start_time": "2025-09-04T19:38:17.930547Z"
    }
   },
   "outputs": [],
   "source": [
    "## check if sliced dataframe is identical to others or not\n",
    "\n",
    "## first sort them the same way\n",
    "df_url_all.sort_values(by=\"g2p_id\", inplace=True, ignore_index=True)\n",
    "\n",
    "## these are identical!!!\n",
    "## meaning this also doesn't have duplicates\n",
    "df_option_all.equals(df_url_all)"
   ]
  },
  {
   "cell_type": "markdown",
   "id": "f9673d92",
   "metadata": {},
   "source": [
    "<div class=\"alert alert-block alert-success\">\n",
    "\n",
    "\n",
    "Conclusions:\n",
    "* \"all data\" file does have all data, w/o duplicates. So it is nice to use!\n",
    "* Using API link to retrieve \"all data\" file is the easiest to set up common ingest pipeline to use"
   ]
  },
  {
   "cell_type": "markdown",
   "id": "68b42b3f",
   "metadata": {
    "heading_collapsed": true
   },
   "source": [
    "### original: 1 dataframe for each subset"
   ]
  },
  {
   "cell_type": "code",
   "execution_count": 4,
   "id": "f75451df",
   "metadata": {
    "ExecuteTime": {
     "end_time": "2025-04-04T06:14:40.133166Z",
     "start_time": "2025-04-04T06:14:40.013406Z"
    },
    "hidden": true
   },
   "outputs": [],
   "source": [
    "## Construct df for each file\n",
    "\n",
    "cancer = pd.read_csv(base_file_path.joinpath('G2P_Cancer_2025-03-13.csv'), \n",
    "                      dtype={\"gene mim\": str, \"hgnc id\": str, \"disease mim\": str})\n",
    "cardiac = pd.read_csv(base_file_path.joinpath('G2P_Cardiac_2025-03-13.csv'), \n",
    "                      dtype={\"gene mim\": str, \"hgnc id\": str, \"disease mim\": str})\n",
    "developmental = pd.read_csv(base_file_path.joinpath('G2P_DD_2025-03-13.csv'), \n",
    "                      dtype={\"gene mim\": str, \"hgnc id\": str, \"disease mim\": str})\n",
    "eye = pd.read_csv(base_file_path.joinpath('G2P_Eye_2025-03-13.csv'), \n",
    "                      dtype={\"gene mim\": str, \"hgnc id\": str, \"disease mim\": str})\n",
    "hearing = pd.read_csv(base_file_path.joinpath('G2P_Hearing loss_2025-03-13.csv'), \n",
    "                      dtype={\"gene mim\": str, \"hgnc id\": str, \"disease mim\": str})\n",
    "skeletal = pd.read_csv(base_file_path.joinpath('G2P_Skeletal_2025-03-13.csv'), \n",
    "                      dtype={\"gene mim\": str, \"hgnc id\": str, \"disease mim\": str})\n",
    "skin = pd.read_csv(base_file_path.joinpath('G2P_Skin_2025-03-13.csv'), \n",
    "                      dtype={\"gene mim\": str, \"hgnc id\": str, \"disease mim\": str})\n",
    "\n",
    "## saving for possible future use\n",
    "# unique_filename_substring = [\n",
    "#     'Cancer',\n",
    "#     'Cardiac',\n",
    "#     'DD',\n",
    "#     'Eye',\n",
    "#     'Hearing loss',\n",
    "#     'Skeletal',\n",
    "#     'Skin'\n",
    "# ]"
   ]
  },
  {
   "cell_type": "markdown",
   "id": "27d98b6c",
   "metadata": {},
   "source": [
    "## Code chunks to explore individual files"
   ]
  },
  {
   "cell_type": "code",
   "execution_count": 7,
   "id": "67027b6a",
   "metadata": {
    "ExecuteTime": {
     "end_time": "2025-09-04T19:38:30.954076Z",
     "start_time": "2025-09-04T19:38:30.950568Z"
    }
   },
   "outputs": [],
   "source": [
    "## useful function\n",
    "def check_if_contains(df, column_name, patterns):\n",
    "    for i in patterns:\n",
    "        temp = df[df[column_name].str.contains(pat=i, na=False)]\n",
    "        if temp.size > 0:\n",
    "            print(f'\"{i}\"')\n",
    "            print(temp.shape)"
   ]
  },
  {
   "cell_type": "code",
   "execution_count": 8,
   "id": "e99aee21",
   "metadata": {
    "ExecuteTime": {
     "end_time": "2025-09-04T19:38:31.497338Z",
     "start_time": "2025-09-04T19:38:31.474707Z"
    }
   },
   "outputs": [
    {
     "data": {
      "text/html": [
       "<div>\n",
       "<style scoped>\n",
       "    .dataframe tbody tr th:only-of-type {\n",
       "        vertical-align: middle;\n",
       "    }\n",
       "\n",
       "    .dataframe tbody tr th {\n",
       "        vertical-align: top;\n",
       "    }\n",
       "\n",
       "    .dataframe thead th {\n",
       "        text-align: right;\n",
       "    }\n",
       "</style>\n",
       "<table border=\"1\" class=\"dataframe\">\n",
       "  <thead>\n",
       "    <tr style=\"text-align: right;\">\n",
       "      <th></th>\n",
       "      <th>g2p_id</th>\n",
       "      <th>gene_symbol</th>\n",
       "      <th>gene_mim</th>\n",
       "      <th>hgnc_id</th>\n",
       "      <th>previous_gene_symbols</th>\n",
       "      <th>disease_name</th>\n",
       "      <th>disease_mim</th>\n",
       "      <th>disease_MONDO</th>\n",
       "      <th>allelic_requirement</th>\n",
       "      <th>cross_cutting_modifier</th>\n",
       "      <th>confidence</th>\n",
       "      <th>variant_consequence</th>\n",
       "      <th>variant_types</th>\n",
       "      <th>molecular_mechanism</th>\n",
       "      <th>molecular_mechanism_support</th>\n",
       "      <th>molecular_mechanism_categorisation</th>\n",
       "      <th>molecular_mechanism_evidence</th>\n",
       "      <th>phenotypes</th>\n",
       "      <th>publications</th>\n",
       "      <th>panel</th>\n",
       "      <th>comments</th>\n",
       "      <th>date_of_last_review</th>\n",
       "      <th>review</th>\n",
       "    </tr>\n",
       "  </thead>\n",
       "  <tbody>\n",
       "    <tr>\n",
       "      <th>0</th>\n",
       "      <td>G2P00001</td>\n",
       "      <td>HMX1</td>\n",
       "      <td>142992</td>\n",
       "      <td>5017</td>\n",
       "      <td>H6; NKX5-3</td>\n",
       "      <td>HMX1-related oculoauricular syndrome</td>\n",
       "      <td>612109</td>\n",
       "      <td>MONDO:0012802</td>\n",
       "      <td>biallelic_autosomal</td>\n",
       "      <td>NaN</td>\n",
       "      <td>definitive</td>\n",
       "      <td>absent gene product</td>\n",
       "      <td>NaN</td>\n",
       "      <td>loss of function</td>\n",
       "      <td>inferred</td>\n",
       "      <td>NaN</td>\n",
       "      <td>NaN</td>\n",
       "      <td>HP:0000007; HP:0000482; HP:0000505; HP:0000518...</td>\n",
       "      <td>18423520; 25574057; 29140751</td>\n",
       "      <td>DD; Eye</td>\n",
       "      <td>NaN</td>\n",
       "      <td>2019-09-26 16:23:46+00:00</td>\n",
       "      <td>NaN</td>\n",
       "    </tr>\n",
       "    <tr>\n",
       "      <th>1</th>\n",
       "      <td>G2P00002</td>\n",
       "      <td>SLX4</td>\n",
       "      <td>613278</td>\n",
       "      <td>23845</td>\n",
       "      <td>BTBD12; FANCP; KIAA1784; KIAA1987</td>\n",
       "      <td>SLX4-related Fanconi anemia</td>\n",
       "      <td>613951</td>\n",
       "      <td>MONDO:0013499</td>\n",
       "      <td>biallelic_autosomal</td>\n",
       "      <td>NaN</td>\n",
       "      <td>definitive</td>\n",
       "      <td>absent gene product</td>\n",
       "      <td>NaN</td>\n",
       "      <td>loss of function</td>\n",
       "      <td>inferred</td>\n",
       "      <td>NaN</td>\n",
       "      <td>NaN</td>\n",
       "      <td>HP:0000007; HP:0000028; HP:0000085; HP:0000125...</td>\n",
       "      <td>21240275; 21240277</td>\n",
       "      <td>DD</td>\n",
       "      <td>NaN</td>\n",
       "      <td>2025-01-28 23:09:54+00:00</td>\n",
       "      <td>NaN</td>\n",
       "    </tr>\n",
       "    <tr>\n",
       "      <th>2</th>\n",
       "      <td>G2P00003</td>\n",
       "      <td>ARG1</td>\n",
       "      <td>608313</td>\n",
       "      <td>663</td>\n",
       "      <td>NaN</td>\n",
       "      <td>ARG1-related argininemia</td>\n",
       "      <td>207800</td>\n",
       "      <td>MONDO:0008814</td>\n",
       "      <td>biallelic_autosomal</td>\n",
       "      <td>NaN</td>\n",
       "      <td>definitive</td>\n",
       "      <td>absent gene product</td>\n",
       "      <td>NaN</td>\n",
       "      <td>loss of function</td>\n",
       "      <td>inferred</td>\n",
       "      <td>NaN</td>\n",
       "      <td>NaN</td>\n",
       "      <td>HP:0000007; HP:0000737; HP:0000752; HP:0001249...</td>\n",
       "      <td>10502833; 1463019; 1598908; 2365823; 7649538</td>\n",
       "      <td>DD</td>\n",
       "      <td>NaN</td>\n",
       "      <td>2015-07-22 16:14:07+00:00</td>\n",
       "      <td>NaN</td>\n",
       "    </tr>\n",
       "    <tr>\n",
       "      <th>3</th>\n",
       "      <td>G2P00004</td>\n",
       "      <td>ATR</td>\n",
       "      <td>601215</td>\n",
       "      <td>882</td>\n",
       "      <td>FRP1; MEC1; SCKL; SCKL1</td>\n",
       "      <td>ATR-related Seckel syndrome</td>\n",
       "      <td>210600</td>\n",
       "      <td>MONDO:0008869</td>\n",
       "      <td>biallelic_autosomal</td>\n",
       "      <td>NaN</td>\n",
       "      <td>strong</td>\n",
       "      <td>absent gene product</td>\n",
       "      <td>NaN</td>\n",
       "      <td>loss of function</td>\n",
       "      <td>inferred</td>\n",
       "      <td>NaN</td>\n",
       "      <td>NaN</td>\n",
       "      <td>HP:0000007; HP:0000028; HP:0000047; HP:0000057...</td>\n",
       "      <td>NaN</td>\n",
       "      <td>DD; Skeletal</td>\n",
       "      <td>NaN</td>\n",
       "      <td>2025-01-27 14:24:27+00:00</td>\n",
       "      <td>NaN</td>\n",
       "    </tr>\n",
       "    <tr>\n",
       "      <th>4</th>\n",
       "      <td>G2P00005</td>\n",
       "      <td>FANCB</td>\n",
       "      <td>300515</td>\n",
       "      <td>3583</td>\n",
       "      <td>FAAP95; FAB; FLJ34064</td>\n",
       "      <td>FANCB-related Fanconi anemia</td>\n",
       "      <td>300514</td>\n",
       "      <td>MONDO:0010351</td>\n",
       "      <td>monoallelic_X_hemizygous</td>\n",
       "      <td>NaN</td>\n",
       "      <td>definitive</td>\n",
       "      <td>absent gene product</td>\n",
       "      <td>NaN</td>\n",
       "      <td>loss of function</td>\n",
       "      <td>inferred</td>\n",
       "      <td>NaN</td>\n",
       "      <td>NaN</td>\n",
       "      <td>HP:0000083; HP:0000100; HP:0000119; HP:0000707...</td>\n",
       "      <td>15502827; 16679491; 21910217; 22052692; 236135...</td>\n",
       "      <td>DD; Skin</td>\n",
       "      <td>NaN</td>\n",
       "      <td>2024-08-20 14:13:58+00:00</td>\n",
       "      <td>NaN</td>\n",
       "    </tr>\n",
       "    <tr>\n",
       "      <th>...</th>\n",
       "      <td>...</td>\n",
       "      <td>...</td>\n",
       "      <td>...</td>\n",
       "      <td>...</td>\n",
       "      <td>...</td>\n",
       "      <td>...</td>\n",
       "      <td>...</td>\n",
       "      <td>...</td>\n",
       "      <td>...</td>\n",
       "      <td>...</td>\n",
       "      <td>...</td>\n",
       "      <td>...</td>\n",
       "      <td>...</td>\n",
       "      <td>...</td>\n",
       "      <td>...</td>\n",
       "      <td>...</td>\n",
       "      <td>...</td>\n",
       "      <td>...</td>\n",
       "      <td>...</td>\n",
       "      <td>...</td>\n",
       "      <td>...</td>\n",
       "      <td>...</td>\n",
       "      <td>...</td>\n",
       "    </tr>\n",
       "    <tr>\n",
       "      <th>3715</th>\n",
       "      <td>G2P03776</td>\n",
       "      <td>SNUPN</td>\n",
       "      <td>607902</td>\n",
       "      <td>14245</td>\n",
       "      <td>RNUT1; SNURPORTIN-1; SNURPORTIN1</td>\n",
       "      <td>SNUPN-related muscular dystrophy with or witho...</td>\n",
       "      <td>NaN</td>\n",
       "      <td>MONDO:0971171</td>\n",
       "      <td>biallelic_autosomal</td>\n",
       "      <td>potential secondary finding</td>\n",
       "      <td>strong</td>\n",
       "      <td>altered gene product structure</td>\n",
       "      <td>frameshift_variant_NMD_escaping; missense_vari...</td>\n",
       "      <td>loss of function</td>\n",
       "      <td>evidence</td>\n",
       "      <td>NaN</td>\n",
       "      <td>38366623 -&gt; function: biochemical, protein exp...</td>\n",
       "      <td>NaN</td>\n",
       "      <td>38366623; 38413582</td>\n",
       "      <td>DD</td>\n",
       "      <td>NaN</td>\n",
       "      <td>2025-09-03 09:23:28+00:00</td>\n",
       "      <td>NaN</td>\n",
       "    </tr>\n",
       "    <tr>\n",
       "      <th>3716</th>\n",
       "      <td>G2P03777</td>\n",
       "      <td>CAPN15</td>\n",
       "      <td>603267</td>\n",
       "      <td>11182</td>\n",
       "      <td>SOLH</td>\n",
       "      <td>CAPN15-related oculogastrointestinal neurodeve...</td>\n",
       "      <td>619318</td>\n",
       "      <td>MONDO:0036189</td>\n",
       "      <td>biallelic_autosomal</td>\n",
       "      <td>NaN</td>\n",
       "      <td>strong</td>\n",
       "      <td>absent gene product; altered gene product stru...</td>\n",
       "      <td>frameshift_variant; intron_variant; missense_v...</td>\n",
       "      <td>loss of function</td>\n",
       "      <td>evidence</td>\n",
       "      <td>NaN</td>\n",
       "      <td>32885237 -&gt; models: non-human model organism &amp;...</td>\n",
       "      <td>HP:0000059; HP:0000089; HP:0000126; HP:0000252...</td>\n",
       "      <td>32885237; 33410501; 36786328; 37596828; 40485323</td>\n",
       "      <td>DD</td>\n",
       "      <td>Founder variant in the French-Canadian populat...</td>\n",
       "      <td>2025-08-18 15:53:39+00:00</td>\n",
       "      <td>NaN</td>\n",
       "    </tr>\n",
       "    <tr>\n",
       "      <th>3717</th>\n",
       "      <td>G2P03780</td>\n",
       "      <td>RAB5C</td>\n",
       "      <td>604037</td>\n",
       "      <td>9785</td>\n",
       "      <td>RAB5CL; RABL</td>\n",
       "      <td>RAB5C-related neurodevelopmental disorder</td>\n",
       "      <td>NaN</td>\n",
       "      <td>NaN</td>\n",
       "      <td>monoallelic_autosomal</td>\n",
       "      <td>typically de novo</td>\n",
       "      <td>moderate</td>\n",
       "      <td>altered gene product structure</td>\n",
       "      <td>inframe_insertion; missense_variant; stop_gained</td>\n",
       "      <td>dominant negative</td>\n",
       "      <td>evidence</td>\n",
       "      <td>NaN</td>\n",
       "      <td>37552066 -&gt; function: biochemical, protein int...</td>\n",
       "      <td>NaN</td>\n",
       "      <td>37552066</td>\n",
       "      <td>DD</td>\n",
       "      <td>PMID 37552066 does not assess mRNA in LoF case...</td>\n",
       "      <td>2025-09-03 09:34:56+00:00</td>\n",
       "      <td>NaN</td>\n",
       "    </tr>\n",
       "    <tr>\n",
       "      <th>3718</th>\n",
       "      <td>G2P03782</td>\n",
       "      <td>WDR83OS</td>\n",
       "      <td>618474</td>\n",
       "      <td>30203</td>\n",
       "      <td>C19ORF56; PAT10; PTD008</td>\n",
       "      <td>WDR83OS-related neurodevelopmental disorder wi...</td>\n",
       "      <td>NaN</td>\n",
       "      <td>MONDO:0975877</td>\n",
       "      <td>biallelic_autosomal</td>\n",
       "      <td>NaN</td>\n",
       "      <td>moderate</td>\n",
       "      <td>altered gene product structure</td>\n",
       "      <td>frameshift_variant_NMD_escaping; splice_donor_...</td>\n",
       "      <td>loss of function</td>\n",
       "      <td>inferred</td>\n",
       "      <td>NaN</td>\n",
       "      <td>39471804 -&gt; models: non-human model organism</td>\n",
       "      <td>NaN</td>\n",
       "      <td>30250217; 39471804</td>\n",
       "      <td>DD</td>\n",
       "      <td>NaN</td>\n",
       "      <td>2025-09-03 09:51:14+00:00</td>\n",
       "      <td>NaN</td>\n",
       "    </tr>\n",
       "    <tr>\n",
       "      <th>3719</th>\n",
       "      <td>G2P03783</td>\n",
       "      <td>TM2D3</td>\n",
       "      <td>610014</td>\n",
       "      <td>24128</td>\n",
       "      <td>BLP2; FLJ22604</td>\n",
       "      <td>TM2D3-related neurodevelopmental disorder with...</td>\n",
       "      <td>NaN</td>\n",
       "      <td>NaN</td>\n",
       "      <td>biallelic_autosomal</td>\n",
       "      <td>NaN</td>\n",
       "      <td>moderate</td>\n",
       "      <td>altered gene product structure; decreased gene...</td>\n",
       "      <td>frameshift_variant; missense_variant; stop_gai...</td>\n",
       "      <td>loss of function</td>\n",
       "      <td>evidence</td>\n",
       "      <td>NaN</td>\n",
       "      <td>40449487 -&gt; function: biochemical, protein int...</td>\n",
       "      <td>NaN</td>\n",
       "      <td>40449487</td>\n",
       "      <td>DD</td>\n",
       "      <td>NaN</td>\n",
       "      <td>2025-09-04 13:35:39+00:00</td>\n",
       "      <td>NaN</td>\n",
       "    </tr>\n",
       "  </tbody>\n",
       "</table>\n",
       "<p>3720 rows × 23 columns</p>\n",
       "</div>"
      ],
      "text/plain": [
       "        g2p_id gene_symbol gene_mim hgnc_id  \\\n",
       "0     G2P00001        HMX1   142992    5017   \n",
       "1     G2P00002        SLX4   613278   23845   \n",
       "2     G2P00003        ARG1   608313     663   \n",
       "3     G2P00004         ATR   601215     882   \n",
       "4     G2P00005       FANCB   300515    3583   \n",
       "...        ...         ...      ...     ...   \n",
       "3715  G2P03776       SNUPN   607902   14245   \n",
       "3716  G2P03777      CAPN15   603267   11182   \n",
       "3717  G2P03780       RAB5C   604037    9785   \n",
       "3718  G2P03782     WDR83OS   618474   30203   \n",
       "3719  G2P03783       TM2D3   610014   24128   \n",
       "\n",
       "                  previous_gene_symbols  \\\n",
       "0                            H6; NKX5-3   \n",
       "1     BTBD12; FANCP; KIAA1784; KIAA1987   \n",
       "2                                   NaN   \n",
       "3               FRP1; MEC1; SCKL; SCKL1   \n",
       "4                 FAAP95; FAB; FLJ34064   \n",
       "...                                 ...   \n",
       "3715   RNUT1; SNURPORTIN-1; SNURPORTIN1   \n",
       "3716                               SOLH   \n",
       "3717                       RAB5CL; RABL   \n",
       "3718            C19ORF56; PAT10; PTD008   \n",
       "3719                     BLP2; FLJ22604   \n",
       "\n",
       "                                           disease_name disease_mim  \\\n",
       "0                  HMX1-related oculoauricular syndrome      612109   \n",
       "1                           SLX4-related Fanconi anemia      613951   \n",
       "2                              ARG1-related argininemia      207800   \n",
       "3                           ATR-related Seckel syndrome      210600   \n",
       "4                          FANCB-related Fanconi anemia      300514   \n",
       "...                                                 ...         ...   \n",
       "3715  SNUPN-related muscular dystrophy with or witho...         NaN   \n",
       "3716  CAPN15-related oculogastrointestinal neurodeve...      619318   \n",
       "3717          RAB5C-related neurodevelopmental disorder         NaN   \n",
       "3718  WDR83OS-related neurodevelopmental disorder wi...         NaN   \n",
       "3719  TM2D3-related neurodevelopmental disorder with...         NaN   \n",
       "\n",
       "      disease_MONDO       allelic_requirement       cross_cutting_modifier  \\\n",
       "0     MONDO:0012802       biallelic_autosomal                          NaN   \n",
       "1     MONDO:0013499       biallelic_autosomal                          NaN   \n",
       "2     MONDO:0008814       biallelic_autosomal                          NaN   \n",
       "3     MONDO:0008869       biallelic_autosomal                          NaN   \n",
       "4     MONDO:0010351  monoallelic_X_hemizygous                          NaN   \n",
       "...             ...                       ...                          ...   \n",
       "3715  MONDO:0971171       biallelic_autosomal  potential secondary finding   \n",
       "3716  MONDO:0036189       biallelic_autosomal                          NaN   \n",
       "3717            NaN     monoallelic_autosomal            typically de novo   \n",
       "3718  MONDO:0975877       biallelic_autosomal                          NaN   \n",
       "3719            NaN       biallelic_autosomal                          NaN   \n",
       "\n",
       "      confidence                                variant_consequence  \\\n",
       "0     definitive                                absent gene product   \n",
       "1     definitive                                absent gene product   \n",
       "2     definitive                                absent gene product   \n",
       "3         strong                                absent gene product   \n",
       "4     definitive                                absent gene product   \n",
       "...          ...                                                ...   \n",
       "3715      strong                     altered gene product structure   \n",
       "3716      strong  absent gene product; altered gene product stru...   \n",
       "3717    moderate                     altered gene product structure   \n",
       "3718    moderate                     altered gene product structure   \n",
       "3719    moderate  altered gene product structure; decreased gene...   \n",
       "\n",
       "                                          variant_types molecular_mechanism  \\\n",
       "0                                                   NaN    loss of function   \n",
       "1                                                   NaN    loss of function   \n",
       "2                                                   NaN    loss of function   \n",
       "3                                                   NaN    loss of function   \n",
       "4                                                   NaN    loss of function   \n",
       "...                                                 ...                 ...   \n",
       "3715  frameshift_variant_NMD_escaping; missense_vari...    loss of function   \n",
       "3716  frameshift_variant; intron_variant; missense_v...    loss of function   \n",
       "3717   inframe_insertion; missense_variant; stop_gained   dominant negative   \n",
       "3718  frameshift_variant_NMD_escaping; splice_donor_...    loss of function   \n",
       "3719  frameshift_variant; missense_variant; stop_gai...    loss of function   \n",
       "\n",
       "     molecular_mechanism_support molecular_mechanism_categorisation  \\\n",
       "0                       inferred                                NaN   \n",
       "1                       inferred                                NaN   \n",
       "2                       inferred                                NaN   \n",
       "3                       inferred                                NaN   \n",
       "4                       inferred                                NaN   \n",
       "...                          ...                                ...   \n",
       "3715                    evidence                                NaN   \n",
       "3716                    evidence                                NaN   \n",
       "3717                    evidence                                NaN   \n",
       "3718                    inferred                                NaN   \n",
       "3719                    evidence                                NaN   \n",
       "\n",
       "                           molecular_mechanism_evidence  \\\n",
       "0                                                   NaN   \n",
       "1                                                   NaN   \n",
       "2                                                   NaN   \n",
       "3                                                   NaN   \n",
       "4                                                   NaN   \n",
       "...                                                 ...   \n",
       "3715  38366623 -> function: biochemical, protein exp...   \n",
       "3716  32885237 -> models: non-human model organism &...   \n",
       "3717  37552066 -> function: biochemical, protein int...   \n",
       "3718       39471804 -> models: non-human model organism   \n",
       "3719  40449487 -> function: biochemical, protein int...   \n",
       "\n",
       "                                             phenotypes  \\\n",
       "0     HP:0000007; HP:0000482; HP:0000505; HP:0000518...   \n",
       "1     HP:0000007; HP:0000028; HP:0000085; HP:0000125...   \n",
       "2     HP:0000007; HP:0000737; HP:0000752; HP:0001249...   \n",
       "3     HP:0000007; HP:0000028; HP:0000047; HP:0000057...   \n",
       "4     HP:0000083; HP:0000100; HP:0000119; HP:0000707...   \n",
       "...                                                 ...   \n",
       "3715                                                NaN   \n",
       "3716  HP:0000059; HP:0000089; HP:0000126; HP:0000252...   \n",
       "3717                                                NaN   \n",
       "3718                                                NaN   \n",
       "3719                                                NaN   \n",
       "\n",
       "                                           publications         panel  \\\n",
       "0                          18423520; 25574057; 29140751       DD; Eye   \n",
       "1                                    21240275; 21240277            DD   \n",
       "2          10502833; 1463019; 1598908; 2365823; 7649538            DD   \n",
       "3                                                   NaN  DD; Skeletal   \n",
       "4     15502827; 16679491; 21910217; 22052692; 236135...      DD; Skin   \n",
       "...                                                 ...           ...   \n",
       "3715                                 38366623; 38413582            DD   \n",
       "3716   32885237; 33410501; 36786328; 37596828; 40485323            DD   \n",
       "3717                                           37552066            DD   \n",
       "3718                                 30250217; 39471804            DD   \n",
       "3719                                           40449487            DD   \n",
       "\n",
       "                                               comments  \\\n",
       "0                                                   NaN   \n",
       "1                                                   NaN   \n",
       "2                                                   NaN   \n",
       "3                                                   NaN   \n",
       "4                                                   NaN   \n",
       "...                                                 ...   \n",
       "3715                                                NaN   \n",
       "3716  Founder variant in the French-Canadian populat...   \n",
       "3717  PMID 37552066 does not assess mRNA in LoF case...   \n",
       "3718                                                NaN   \n",
       "3719                                                NaN   \n",
       "\n",
       "            date_of_last_review review  \n",
       "0     2019-09-26 16:23:46+00:00    NaN  \n",
       "1     2025-01-28 23:09:54+00:00    NaN  \n",
       "2     2015-07-22 16:14:07+00:00    NaN  \n",
       "3     2025-01-27 14:24:27+00:00    NaN  \n",
       "4     2024-08-20 14:13:58+00:00    NaN  \n",
       "...                         ...    ...  \n",
       "3715  2025-09-03 09:23:28+00:00    NaN  \n",
       "3716  2025-08-18 15:53:39+00:00    NaN  \n",
       "3717  2025-09-03 09:34:56+00:00    NaN  \n",
       "3718  2025-09-03 09:51:14+00:00    NaN  \n",
       "3719  2025-09-04 13:35:39+00:00    NaN  \n",
       "\n",
       "[3720 rows x 23 columns]"
      ]
     },
     "execution_count": 8,
     "metadata": {},
     "output_type": "execute_result"
    }
   ],
   "source": [
    "df_url_all"
   ]
  },
  {
   "cell_type": "markdown",
   "id": "4011b70e",
   "metadata": {},
   "source": [
    "Reviewing individual dataframes, values within each column"
   ]
  },
  {
   "cell_type": "code",
   "execution_count": 9,
   "id": "494cd482",
   "metadata": {
    "ExecuteTime": {
     "end_time": "2025-09-04T19:38:35.710004Z",
     "start_time": "2025-09-04T19:38:35.697704Z"
    }
   },
   "outputs": [
    {
     "name": "stdout",
     "output_type": "stream",
     "text": [
      "<class 'pandas.core.frame.DataFrame'>\n",
      "RangeIndex: 3720 entries, 0 to 3719\n",
      "Data columns (total 23 columns):\n",
      " #   Column                              Non-Null Count  Dtype \n",
      "---  ------                              --------------  ----- \n",
      " 0   g2p_id                              3720 non-null   object\n",
      " 1   gene_symbol                         3720 non-null   object\n",
      " 2   gene_mim                            3717 non-null   object\n",
      " 3   hgnc_id                             3720 non-null   object\n",
      " 4   previous_gene_symbols               3435 non-null   object\n",
      " 5   disease_name                        3720 non-null   object\n",
      " 6   disease_mim                         2954 non-null   object\n",
      " 7   disease_MONDO                       2224 non-null   object\n",
      " 8   allelic_requirement                 3720 non-null   object\n",
      " 9   cross_cutting_modifier              468 non-null    object\n",
      " 10  confidence                          3720 non-null   object\n",
      " 11  variant_consequence                 3702 non-null   object\n",
      " 12  variant_types                       1072 non-null   object\n",
      " 13  molecular_mechanism                 3720 non-null   object\n",
      " 14  molecular_mechanism_support         3720 non-null   object\n",
      " 15  molecular_mechanism_categorisation  40 non-null     object\n",
      " 16  molecular_mechanism_evidence        120 non-null    object\n",
      " 17  phenotypes                          2480 non-null   object\n",
      " 18  publications                        3378 non-null   object\n",
      " 19  panel                               3720 non-null   object\n",
      " 20  comments                            129 non-null    object\n",
      " 21  date_of_last_review                 3720 non-null   object\n",
      " 22  review                              1 non-null      object\n",
      "dtypes: object(23)\n",
      "memory usage: 668.6+ KB\n"
     ]
    }
   ],
   "source": [
    "df_url_all.info()"
   ]
  },
  {
   "cell_type": "code",
   "execution_count": 10,
   "id": "f2a232cb",
   "metadata": {
    "ExecuteTime": {
     "end_time": "2025-09-04T19:39:01.447803Z",
     "start_time": "2025-09-04T19:39:01.425760Z"
    }
   },
   "outputs": [
    {
     "data": {
      "text/plain": [
       "allelic_requirement\n",
       "biallelic_autosomal           1991\n",
       "monoallelic_autosomal         1484\n",
       "monoallelic_X_hemizygous       176\n",
       "monoallelic_X_heterozygous      59\n",
       "mitochondrial                    9\n",
       "monoallelic_Y_hemizygous         1\n",
       "Name: count, dtype: int64"
      ]
     },
     "execution_count": 10,
     "metadata": {},
     "output_type": "execute_result"
    },
    {
     "data": {
      "text/html": [
       "<div>\n",
       "<style scoped>\n",
       "    .dataframe tbody tr th:only-of-type {\n",
       "        vertical-align: middle;\n",
       "    }\n",
       "\n",
       "    .dataframe tbody tr th {\n",
       "        vertical-align: top;\n",
       "    }\n",
       "\n",
       "    .dataframe thead th {\n",
       "        text-align: right;\n",
       "    }\n",
       "</style>\n",
       "<table border=\"1\" class=\"dataframe\">\n",
       "  <thead>\n",
       "    <tr style=\"text-align: right;\">\n",
       "      <th></th>\n",
       "      <th>g2p_id</th>\n",
       "      <th>gene_symbol</th>\n",
       "      <th>gene_mim</th>\n",
       "      <th>hgnc_id</th>\n",
       "      <th>previous_gene_symbols</th>\n",
       "      <th>disease_name</th>\n",
       "      <th>disease_mim</th>\n",
       "      <th>disease_MONDO</th>\n",
       "      <th>allelic_requirement</th>\n",
       "      <th>cross_cutting_modifier</th>\n",
       "      <th>confidence</th>\n",
       "      <th>variant_consequence</th>\n",
       "      <th>variant_types</th>\n",
       "      <th>molecular_mechanism</th>\n",
       "      <th>molecular_mechanism_support</th>\n",
       "      <th>molecular_mechanism_categorisation</th>\n",
       "      <th>molecular_mechanism_evidence</th>\n",
       "      <th>phenotypes</th>\n",
       "      <th>publications</th>\n",
       "      <th>panel</th>\n",
       "      <th>comments</th>\n",
       "      <th>date_of_last_review</th>\n",
       "      <th>review</th>\n",
       "    </tr>\n",
       "  </thead>\n",
       "  <tbody>\n",
       "    <tr>\n",
       "      <th>503</th>\n",
       "      <td>G2P00506</td>\n",
       "      <td>BANF1</td>\n",
       "      <td>603811</td>\n",
       "      <td>17397</td>\n",
       "      <td>BAF</td>\n",
       "      <td>BANF1-related Nestor-Guillermo progeria syndrome</td>\n",
       "      <td>614008</td>\n",
       "      <td>MONDO:0013523</td>\n",
       "      <td>biallelic_autosomal</td>\n",
       "      <td>NaN</td>\n",
       "      <td>strong</td>\n",
       "      <td>altered gene product structure</td>\n",
       "      <td>inframe_deletion; inframe_insertion; missense_...</td>\n",
       "      <td>undetermined</td>\n",
       "      <td>inferred</td>\n",
       "      <td>NaN</td>\n",
       "      <td>NaN</td>\n",
       "      <td>HP:0000007; HP:0000272; HP:0000347; HP:0000444...</td>\n",
       "      <td>21549337; 21932319</td>\n",
       "      <td>DD</td>\n",
       "      <td>NaN</td>\n",
       "      <td>2025-08-14 10:50:26+00:00</td>\n",
       "      <td>under review</td>\n",
       "    </tr>\n",
       "  </tbody>\n",
       "</table>\n",
       "</div>"
      ],
      "text/plain": [
       "       g2p_id gene_symbol gene_mim hgnc_id previous_gene_symbols  \\\n",
       "503  G2P00506       BANF1   603811   17397                   BAF   \n",
       "\n",
       "                                         disease_name disease_mim  \\\n",
       "503  BANF1-related Nestor-Guillermo progeria syndrome      614008   \n",
       "\n",
       "     disease_MONDO  allelic_requirement cross_cutting_modifier confidence  \\\n",
       "503  MONDO:0013523  biallelic_autosomal                    NaN     strong   \n",
       "\n",
       "                variant_consequence  \\\n",
       "503  altered gene product structure   \n",
       "\n",
       "                                         variant_types molecular_mechanism  \\\n",
       "503  inframe_deletion; inframe_insertion; missense_...        undetermined   \n",
       "\n",
       "    molecular_mechanism_support molecular_mechanism_categorisation  \\\n",
       "503                    inferred                                NaN   \n",
       "\n",
       "    molecular_mechanism_evidence  \\\n",
       "503                          NaN   \n",
       "\n",
       "                                            phenotypes        publications  \\\n",
       "503  HP:0000007; HP:0000272; HP:0000347; HP:0000444...  21549337; 21932319   \n",
       "\n",
       "    panel comments        date_of_last_review        review  \n",
       "503    DD      NaN  2025-08-14 10:50:26+00:00  under review  "
      ]
     },
     "execution_count": 10,
     "metadata": {},
     "output_type": "execute_result"
    }
   ],
   "source": [
    "## regularly used to review\n",
    "# df_url_all[df_url_all[\"disease_MONDO\"].str.contains(r'\\D', na=False)]\n",
    "df_url_all[\"allelic_requirement\"].value_counts()\n",
    "# df_url_all[df_url_all[\"comments\"].notna()]\n",
    "# df_url_all[\"comments\"].unique()[0:20]\n",
    "\n",
    "df_url_all[df_url_all[\"review\"].notna()]"
   ]
  },
  {
   "cell_type": "code",
   "execution_count": null,
   "id": "67071a3c",
   "metadata": {},
   "outputs": [],
   "source": [
    "## check if disease OMIM ID column has non-numeric values (aka other IDs)\n",
    "# df_url_all[df_url_all[\"disease_mim\"].str.contains(r'\\D', na=False)]\n",
    "\n",
    "## disease_name\n",
    "## checked : (does it have IDs: no), ; (does it have lists - a little but not going to split)\n",
    "# df_url_all[df_url_all[\"disease_name\"].str.contains(\":\", na=False)]\n",
    "\n",
    "## rows with no disease ID\n",
    "# df_url_all[df_url_all[\"disease_mim\"].isna() & \n",
    "#            df_url_all[\"disease_MONDO\"].isna()]\n",
    "\n",
    "\n",
    "## publications column doesn't have prefixes\n",
    "# check_if_contains(df_url_all, \"publications\", [\"PMID\", \":\", \"_\"])\n",
    "\n",
    "\n",
    "## digging into new column molecular_mechanism_support\n",
    "# df_url_all[\"molecular_mechanism_support\"].value_counts()\n",
    "# df_url_all[df_url_all[\"molecular_mechanism_support\"] == \"evidence\"]\n",
    "\n",
    "## digging into changed column molecular_mechanism_categorisation\n",
    "# df_url_all[\"molecular_mechanism_categorisation\"].value_counts()\n",
    "# df_url_all[df_url_all[\"molecular_mechanism_categorisation\"].notna()]\n",
    "\n",
    "## digging into molecular_mechanism_evidence\n",
    "# df_url_all[\"molecular_mechanism_evidence\"].nunique()\n",
    "# df_url_all[\"molecular_mechanism_evidence\"].unique()[0:20]\n",
    "# df_url_all[df_url_all[\"molecular_mechanism_evidence\"].str.contains(\"39315527\", na=False)]"
   ]
  },
  {
   "cell_type": "markdown",
   "id": "9657fd36",
   "metadata": {
    "heading_collapsed": true
   },
   "source": [
    "### Old review chunks"
   ]
  },
  {
   "cell_type": "code",
   "execution_count": 5,
   "id": "833fb8d7",
   "metadata": {
    "ExecuteTime": {
     "end_time": "2025-04-04T06:14:43.485218Z",
     "start_time": "2025-04-04T06:14:43.477990Z"
    },
    "hidden": true
   },
   "outputs": [
    {
     "data": {
      "text/plain": [
       "array([ True,  True,  True,  True,  True,  True,  True,  True,  True,\n",
       "        True,  True,  True,  True,  True,  True,  True,  True,  True,\n",
       "        True,  True,  True])"
      ]
     },
     "execution_count": 5,
     "metadata": {},
     "output_type": "execute_result"
    }
   ],
   "source": [
    "## checking that each file's columns are the same: they are\n",
    "cancer.columns == skin.columns"
   ]
  },
  {
   "cell_type": "code",
   "execution_count": 8,
   "id": "8a9276b5",
   "metadata": {
    "ExecuteTime": {
     "end_time": "2025-04-04T06:17:23.349090Z",
     "start_time": "2025-04-04T06:17:23.322994Z"
    },
    "hidden": true
   },
   "outputs": [
    {
     "data": {
      "text/html": [
       "<div>\n",
       "<style scoped>\n",
       "    .dataframe tbody tr th:only-of-type {\n",
       "        vertical-align: middle;\n",
       "    }\n",
       "\n",
       "    .dataframe tbody tr th {\n",
       "        vertical-align: top;\n",
       "    }\n",
       "\n",
       "    .dataframe thead th {\n",
       "        text-align: right;\n",
       "    }\n",
       "</style>\n",
       "<table border=\"1\" class=\"dataframe\">\n",
       "  <thead>\n",
       "    <tr style=\"text-align: right;\">\n",
       "      <th></th>\n",
       "      <th>g2p id</th>\n",
       "      <th>gene symbol</th>\n",
       "      <th>gene mim</th>\n",
       "      <th>hgnc id</th>\n",
       "      <th>previous gene symbols</th>\n",
       "      <th>disease name</th>\n",
       "      <th>disease mim</th>\n",
       "      <th>disease MONDO</th>\n",
       "      <th>allelic requirement</th>\n",
       "      <th>cross cutting modifier</th>\n",
       "      <th>confidence</th>\n",
       "      <th>variant consequence</th>\n",
       "      <th>variant types</th>\n",
       "      <th>molecular mechanism</th>\n",
       "      <th>molecular mechanism categorisation</th>\n",
       "      <th>molecular mechanism evidence</th>\n",
       "      <th>phenotypes</th>\n",
       "      <th>publications</th>\n",
       "      <th>panel</th>\n",
       "      <th>comments</th>\n",
       "      <th>date of last review</th>\n",
       "    </tr>\n",
       "  </thead>\n",
       "  <tbody>\n",
       "  </tbody>\n",
       "</table>\n",
       "</div>"
      ],
      "text/plain": [
       "Empty DataFrame\n",
       "Columns: [g2p id, gene symbol, gene mim, hgnc id, previous gene symbols, disease name, disease mim, disease MONDO, allelic requirement, cross cutting modifier, confidence, variant consequence, variant types, molecular mechanism, molecular mechanism categorisation, molecular mechanism evidence, phenotypes, publications, panel, comments, date of last review]\n",
       "Index: []"
      ]
     },
     "execution_count": 8,
     "metadata": {},
     "output_type": "execute_result"
    },
    {
     "data": {
      "text/html": [
       "<div>\n",
       "<style scoped>\n",
       "    .dataframe tbody tr th:only-of-type {\n",
       "        vertical-align: middle;\n",
       "    }\n",
       "\n",
       "    .dataframe tbody tr th {\n",
       "        vertical-align: top;\n",
       "    }\n",
       "\n",
       "    .dataframe thead th {\n",
       "        text-align: right;\n",
       "    }\n",
       "</style>\n",
       "<table border=\"1\" class=\"dataframe\">\n",
       "  <thead>\n",
       "    <tr style=\"text-align: right;\">\n",
       "      <th></th>\n",
       "      <th>g2p id</th>\n",
       "      <th>gene symbol</th>\n",
       "      <th>gene mim</th>\n",
       "      <th>hgnc id</th>\n",
       "      <th>previous gene symbols</th>\n",
       "      <th>disease name</th>\n",
       "      <th>disease mim</th>\n",
       "      <th>disease MONDO</th>\n",
       "      <th>allelic requirement</th>\n",
       "      <th>cross cutting modifier</th>\n",
       "      <th>confidence</th>\n",
       "      <th>variant consequence</th>\n",
       "      <th>variant types</th>\n",
       "      <th>molecular mechanism</th>\n",
       "      <th>molecular mechanism categorisation</th>\n",
       "      <th>molecular mechanism evidence</th>\n",
       "      <th>phenotypes</th>\n",
       "      <th>publications</th>\n",
       "      <th>panel</th>\n",
       "      <th>comments</th>\n",
       "      <th>date of last review</th>\n",
       "    </tr>\n",
       "  </thead>\n",
       "  <tbody>\n",
       "  </tbody>\n",
       "</table>\n",
       "</div>"
      ],
      "text/plain": [
       "Empty DataFrame\n",
       "Columns: [g2p id, gene symbol, gene mim, hgnc id, previous gene symbols, disease name, disease mim, disease MONDO, allelic requirement, cross cutting modifier, confidence, variant consequence, variant types, molecular mechanism, molecular mechanism categorisation, molecular mechanism evidence, phenotypes, publications, panel, comments, date of last review]\n",
       "Index: []"
      ]
     },
     "execution_count": 8,
     "metadata": {},
     "output_type": "execute_result"
    }
   ],
   "source": [
    "## was looking for duplicate records within 1 dataframe?\n",
    "\n",
    "skin[skin.duplicated(subset=['g2p id'], keep=False)].sort_values(by=['gene symbol', 'disease name'])\n",
    "\n",
    "skin[skin.duplicated(subset=['gene symbol', 'disease name', 'allelic requirement', 'molecular mechanism'], keep=False)].sort_values(by=['gene symbol', 'disease name'])"
   ]
  },
  {
   "cell_type": "code",
   "execution_count": 353,
   "id": "f50007d3",
   "metadata": {
    "ExecuteTime": {
     "end_time": "2025-03-18T00:41:57.803448Z",
     "start_time": "2025-03-18T00:41:57.787457Z"
    },
    "hidden": true
   },
   "outputs": [
    {
     "data": {
      "text/html": [
       "<div>\n",
       "<style scoped>\n",
       "    .dataframe tbody tr th:only-of-type {\n",
       "        vertical-align: middle;\n",
       "    }\n",
       "\n",
       "    .dataframe tbody tr th {\n",
       "        vertical-align: top;\n",
       "    }\n",
       "\n",
       "    .dataframe thead th {\n",
       "        text-align: right;\n",
       "    }\n",
       "</style>\n",
       "<table border=\"1\" class=\"dataframe\">\n",
       "  <thead>\n",
       "    <tr style=\"text-align: right;\">\n",
       "      <th></th>\n",
       "      <th>g2p id</th>\n",
       "      <th>gene symbol</th>\n",
       "      <th>gene mim</th>\n",
       "      <th>hgnc id</th>\n",
       "      <th>previous gene symbols</th>\n",
       "      <th>disease name</th>\n",
       "      <th>disease mim</th>\n",
       "      <th>disease MONDO</th>\n",
       "      <th>allelic requirement</th>\n",
       "      <th>cross cutting modifier</th>\n",
       "      <th>confidence</th>\n",
       "      <th>variant consequence</th>\n",
       "      <th>variant types</th>\n",
       "      <th>molecular mechanism</th>\n",
       "      <th>molecular mechanism categorisation</th>\n",
       "      <th>molecular mechanism evidence</th>\n",
       "      <th>phenotypes</th>\n",
       "      <th>publications</th>\n",
       "      <th>panel</th>\n",
       "      <th>comments</th>\n",
       "      <th>date of last review</th>\n",
       "    </tr>\n",
       "  </thead>\n",
       "  <tbody>\n",
       "    <tr>\n",
       "      <th>0</th>\n",
       "      <td>G2P03582</td>\n",
       "      <td>MYO6</td>\n",
       "      <td>600970</td>\n",
       "      <td>7605</td>\n",
       "      <td>DFNA22; DFNB37; KIAA0389</td>\n",
       "      <td>MYO6-related nonsyndromic genetic hearing loss</td>\n",
       "      <td>NaN</td>\n",
       "      <td>NaN</td>\n",
       "      <td>biallelic_autosomal</td>\n",
       "      <td>NaN</td>\n",
       "      <td>definitive</td>\n",
       "      <td>decreased gene product level; altered gene pro...</td>\n",
       "      <td>splice_donor_variant; splice_acceptor_variant;...</td>\n",
       "      <td>undetermined</td>\n",
       "      <td>inferred</td>\n",
       "      <td>NaN</td>\n",
       "      <td>NaN</td>\n",
       "      <td>18348273; 23485424; 25999546; 12687499; 24105371</td>\n",
       "      <td>Hearing loss</td>\n",
       "      <td>NaN</td>\n",
       "      <td>2024-11-28 14:52:17+00:00</td>\n",
       "    </tr>\n",
       "    <tr>\n",
       "      <th>1</th>\n",
       "      <td>G2P03583</td>\n",
       "      <td>MYO6</td>\n",
       "      <td>600970</td>\n",
       "      <td>7605</td>\n",
       "      <td>DFNA22; DFNB37; KIAA0389</td>\n",
       "      <td>MYO6-related nonsyndromic genetic hearing loss</td>\n",
       "      <td>NaN</td>\n",
       "      <td>NaN</td>\n",
       "      <td>monoallelic_autosomal</td>\n",
       "      <td>NaN</td>\n",
       "      <td>definitive</td>\n",
       "      <td>decreased gene product level; altered gene pro...</td>\n",
       "      <td>splice_donor_variant; splice_acceptor_variant;...</td>\n",
       "      <td>undetermined</td>\n",
       "      <td>inferred</td>\n",
       "      <td>NaN</td>\n",
       "      <td>NaN</td>\n",
       "      <td>18348273; 23485424; 25999546; 24105371</td>\n",
       "      <td>Hearing loss</td>\n",
       "      <td>NaN</td>\n",
       "      <td>2024-11-28 14:47:17+00:00</td>\n",
       "    </tr>\n",
       "  </tbody>\n",
       "</table>\n",
       "</div>"
      ],
      "text/plain": [
       "     g2p id gene symbol gene mim hgnc id     previous gene symbols  \\\n",
       "0  G2P03582        MYO6   600970    7605  DFNA22; DFNB37; KIAA0389   \n",
       "1  G2P03583        MYO6   600970    7605  DFNA22; DFNB37; KIAA0389   \n",
       "\n",
       "                                     disease name disease mim  disease MONDO  \\\n",
       "0  MYO6-related nonsyndromic genetic hearing loss         NaN            NaN   \n",
       "1  MYO6-related nonsyndromic genetic hearing loss         NaN            NaN   \n",
       "\n",
       "     allelic requirement  cross cutting modifier  confidence  \\\n",
       "0    biallelic_autosomal                     NaN  definitive   \n",
       "1  monoallelic_autosomal                     NaN  definitive   \n",
       "\n",
       "                                 variant consequence  \\\n",
       "0  decreased gene product level; altered gene pro...   \n",
       "1  decreased gene product level; altered gene pro...   \n",
       "\n",
       "                                       variant types molecular mechanism  \\\n",
       "0  splice_donor_variant; splice_acceptor_variant;...        undetermined   \n",
       "1  splice_donor_variant; splice_acceptor_variant;...        undetermined   \n",
       "\n",
       "  molecular mechanism categorisation  molecular mechanism evidence  \\\n",
       "0                           inferred                           NaN   \n",
       "1                           inferred                           NaN   \n",
       "\n",
       "   phenotypes                                      publications         panel  \\\n",
       "0         NaN  18348273; 23485424; 25999546; 12687499; 24105371  Hearing loss   \n",
       "1         NaN            18348273; 23485424; 25999546; 24105371  Hearing loss   \n",
       "\n",
       "   comments        date of last review  \n",
       "0       NaN  2024-11-28 14:52:17+00:00  \n",
       "1       NaN  2024-11-28 14:47:17+00:00  "
      ]
     },
     "execution_count": 353,
     "metadata": {},
     "output_type": "execute_result"
    }
   ],
   "source": [
    "hearing"
   ]
  },
  {
   "cell_type": "markdown",
   "id": "53468f58",
   "metadata": {},
   "source": [
    "## Notes on parsing data to create documents "
   ]
  },
  {
   "cell_type": "markdown",
   "id": "44861edf",
   "metadata": {},
   "source": [
    "### Gene subject section"
   ]
  },
  {
   "cell_type": "markdown",
   "id": "f0323f99",
   "metadata": {},
   "source": [
    "- \"gene symbol\": str. \"HGNC-assigned gene symbol\" (according to Data_download_format txt file)\n",
    "  - DOC TRANSFORM: hgnc_symbol\n",
    "- \"gene mim\": OMIM ID for gene. NodeNorm does recognize these. Some files have a NA.\n",
    "  - DF READ: force dtype to be str\n",
    "  - DF TRANSFORM: \n",
    "    - add current Translator prefix\n",
    "  - DOC TRANSFORM: omim\n",
    "    - CHECK for NA. Only assign field if not NA  \n",
    "- \"hgnc id\"\n",
    "  - DF READ / DF TRANSFORM: same as \"gene mim\"\n",
    "  - DOC TRANSFORM: hgnc\n",
    "- \"previous gene symbols\": \"; \"-delimited.\n",
    "  - DOC TRANSFORM:\n",
    "    - CHECK for NA. Only assign field if not NA\n",
    "    - Turn into array of str: \";\"-split and then strip whitespace "
   ]
  },
  {
   "cell_type": "markdown",
   "id": "7951a6bb",
   "metadata": {},
   "source": [
    "### Disease object section"
   ]
  },
  {
   "cell_type": "markdown",
   "id": "19814de6",
   "metadata": {},
   "source": [
    "- \"disease name\": in DD file, I found two cases where the name seemed to be \"; \"-delimited. Going to keep as str though, because it's used as node name. \n",
    "  - DF TRANSFORM:\n",
    "    - strip whitespace (noticed a case in skeletal)\n",
    "  - DOC TRANSFORM: name\n",
    "- \"disease mim\": OMIM ID for disease. But there are some Orphanet IDs mixed in (raw data prefix is \"Orphanet:\")\n",
    "  - DF READ: force dtype to be str\n",
    "  - DF TRANSFORM: add/replace current Translator prefix\n",
    "  - DOC TRANSFORM: omim, orphanet\n",
    "    - CHECK for NA (many rows are). Only assign field if not NA\n",
    "    - CHECK for \"orphanet:\": if yes, assign to orphanet field instead\n",
    "- \"disease MONDO\": MONDO ID for disease (already Translator-formatted CURIE) \n",
    "  - DOC TRANSFORM: mondo\n",
    "    - CHECK for NA (many rows are). Only assign field if not NA"
   ]
  },
  {
   "cell_type": "markdown",
   "id": "3c50ed79",
   "metadata": {},
   "source": [
    "### Association section"
   ]
  },
  {
   "cell_type": "markdown",
   "id": "84957ed7",
   "metadata": {},
   "source": [
    "**Aug 2025 format update**\n",
    "\n",
    "added/augmented notes for \"variant types\", \"molecular mechanism evidence\", \"date of last review\"\n",
    "\n",
    "analyzed format changes, took notes on:\n",
    "- old \"molecular_mechanism_categorisation\" column -> now \"molecular_mechanism_support\"\n",
    "- new \"molecular_mechanism_categorisation\" content\n",
    "- new \"review\" column\n",
    "\n",
    "DataDownloadFormat => Data_download_format (file name changed?)"
   ]
  },
  {
   "cell_type": "markdown",
   "id": "f005dacf",
   "metadata": {},
   "source": [
    "**Content**\n",
    "\n",
    "- \"g2p id\": resource's unique stable ID for each record/row (according to Data_download_format txt file, G2P webpage for single record)\n",
    "  - DF TRANSFORM:\n",
    "    - create new column, generating G2P webpage urls for each record like https://www.ebi.ac.uk/gene2phenotype/lgd/G2P03386. this may be brittle/work to maintain, but I know UI really wants stuff like this\n",
    "  - DOC TRANSFORM: g2p_record_id, g2p_record_url\n",
    "- \"allelic requirement\": required genotype (according to G2P webpage for single record). str (categorical). [G2P website](https://www.ebi.ac.uk/gene2phenotype/about/terminology) says these are synonyms of HPO \"mode of inheritance terms\", which seem to be from the [inheritance part of the ontology](https://hpo.jax.org/browse/term/HP:0000005). I've included a mapping table in reference section.\n",
    "- \"cross cutting modifier\": additional info relevant to gene-disease inheritance (according to G2P webpage for single record). Can be \"; \"-delimited, otherwise would be categorical. [G2P website](https://www.ebi.ac.uk/gene2phenotype/about/terminology) says these are HPO inheritance qualifier terms \"when available\" ([this part of ontology](https://hpo.jax.org/browse/term/HP:0034335)). I didn't try mapping these.\n",
    "  - DOC TRANSFORM: cross_cutting_modifiers (plural)\n",
    "    - CHECK for NA (many rows are). Only assign field if not NA\n",
    "    - Turn into array of str: \";\"-split and then strip whitespace \n",
    "- \"confidence\": confidence that the association is real (according to G2P webpage for panel). [G2P website](https://www.ebi.ac.uk/gene2phenotype/about/terminology) has definitions of terms. str (categorical)\n",
    "- \"variant consequence\": consequences of reported variants on product (protein or RNA) (according to G2P webpage for single record). Can be \"; \"-delimited, otherwise would be categorical. [G2P website](https://www.ebi.ac.uk/gene2phenotype/about/terminology) has definitions of terms and SO mappings. \n",
    "  - DOC TRANSFORM: variant_consequences (plural)\n",
    "    - CHECK for NA. Only assign field if not NA\n",
    "    - Turn into array of str: \";\"-split and then strip whitespace \n",
    "- \"variant types\": associated with gene-disease pair (according to G2P webpage for single record). Can be \"; \"-delimited, otherwise would be categorical. [G2P website](https://www.ebi.ac.uk/gene2phenotype/about/terminology) has definitions of terms and SO mappings (large table!). **>100 UNIQUE VALUES (SINGLE, MIX OF TERMS). I don't think using this as a qualifier is a good idea - it's confusing**\n",
    "  - DOC TRANSFORM:\n",
    "    - CHECK for NA (many rows are). Only assign field if not NA\n",
    "    - Turn into array of str: \";\"-split and then strip whitespace \n",
    "- \"molecular mechanism\": mechanism of how gene's variants causes disease (according to G2P webpage for single record). str (categorical). [G2P website](https://www.ebi.ac.uk/gene2phenotype/about/terminology) has definitions of terms.\n",
    "- \"molecular mechanism support\" (**new Aug 2025**): seems to say how molecular mechanism was decided. **Doesn't seem to show up on single-record webpage** (compared rows with value \"evidence\" / no \"molecular_mechanism_categorisation\" value to their webpages; the webpages don't have the string \"evidence\"). Possible values: \"inferred\" or \"evidence\". str (categorical). \n",
    "- \"molecular mechanism categorisation\" (**new Aug 2025**): more detailed mechanism info, structured (displayed in single-record webpage as a table). VERY SPARSE (LOTS OF NA). \n",
    "  - key: term from the [\"molecular mechanism synopsis\" section of terminology page](https://www.ebi.ac.uk/gene2phenotype/about/terminology#mechanism-synopsis-section). Separator between key and value is \":\" \n",
    "  - value: either 'evidence' or 'inferred' (no missing values, usually \"evidence\"). \n",
    "  - Can have multiple key-value pairs (\"; \"-delimited). Each key-value pair becomes one row in molecular mechanism -> categorisation section of single-record webpage. \n",
    "- \"molecular mechanism evidence\": \"types of evidence available to support reported mechanism\", according to Data download format txt. complicated structure, is displayed in single-record webpages as a table. Lots of NA. \n",
    "  - `publication_ID -> functional studies`. In the functional studies section:\n",
    "    - key: seems to be from a limited vocab (\"function\", \"functional_alteration\", \"models\", \"rescue\"). Separator between key and value is \": \".\n",
    "    - value: perhaps from limited vocab (specific to each key)\n",
    "    - can have multiple key-value pairs (\"; \"-delimited). Become different bullet points in functional studies column in single-record webpage table\n",
    "  - can have info from multiple publications (\" & \"-delimited). Become different rows in single-record webpage table\n",
    "- \"phenotypes\": HPO IDs (already Translator-formatted CURIE) for phenotypes reported by the publications (according to G2P webpage for single record). Can be \"; \"-delimited\n",
    "  - based on G2P website, these are organized/assigned to specific gene-disease records...so I'm keeping as a part of the gene-disease assocation, rather than creating diff objects for gene-phenotype (if I did this, it would be a separate function)\n",
    "  - DOC TRANSFORM:\n",
    "    - CHECK for NA (many rows are). Only assign field if not NA\n",
    "    - Turn into array of str: \";\"-split and then strip whitespace \n",
    "- \"publications\": these are PMIDs with no prefix (based on G2P webpage for single record). Can be \"; \"-delimited\n",
    "  - DOC TRANSFORM: pmids\n",
    "    - CHECK for NA (many rows are). Only assign field if not NA\n",
    "    - Turn into array of str: \";\"-split and then strip whitespace \n",
    "- \"panel\": the G2P panels this record is assigned to (according to Data_download_format txt file). Can be \"; \"-delimited, otherwise would be categorical.\n",
    "  - DOC TRANSFORM: g2p_panels\n",
    "    - map (str.replace) values to match G2P webpage for single record\n",
    "      - \"DD\" = \"Developmental disorders\"\n",
    "      - add \" disorders\" to end: \"Cancer\", \"Cardiac\", \"Eye\", \"Skeletal\", \"Skin\"\n",
    "      - keep as-is: \"Hearing loss\"\n",
    "    - Turn into array of str: \";\"-split and then strip whitespace \n",
    "- \"comments\": additional comments from curation team (according to Data_download_format txt file). Appears to be free-text (sometimes short, sometimes very long)\n",
    "  - DF TRANSFORM:\n",
    "    - strip whitespace\n",
    "  - DOC TRANSFORM: curator_comments\n",
    "    - CHECK for NA (many rows are). Only assign field if not NA\n",
    "- \"date of last review\": date the record was modified or reviewed (according to Data_download_format txt file). In single-record webpage, this is called \"Last Updated On\". \n",
    "  - DF TRANSFORM:\n",
    "    - optional: turn dtype into datetime https://pandas.pydata.org/docs/reference/api/pandas.to_datetime.html#pandas.to_datetime\n",
    "- \"review\" (**new Aug 2025**): indicates when record is under review (according to Data_download_format txt file). Don't know what the possible values are (boolean?) because I've only seen the column be all NA so far.\n",
    "\n",
    "\n",
    "__Allelic requirement terms__\n",
    "\n",
    "Brought up the mapping issues (**bolded**) to HP: https://github.com/obophenotype/human-phenotype-ontology/issues/11243. \"Should be\" == according to [2024 GenCC paper](https://www.gimjournal.org/article/S1098-3600(23)01045-6/fulltext) on harmonizing terminology\n",
    "\n",
    "\n",
    "| G2P | HPO name | HPO ID | Exact synonym? | \n",
    "| :- | :- | :- | :- |\n",
    "| biallelic_autosomal | Autosomal recessive inheritance | HP:0000007 | Yes |\n",
    "| monoallelic_autosomal | Autosomal dominant inheritance | HP:0000006 | Yes |\n",
    "| biallelic_PAR | Pseudoautosomal recessive inheritance | HP:0034341 | Yes |\n",
    "| monoallelic_PAR | Pseudoautosomal dominant inheritance | HP:0034340 | Yes |\n",
    "| mitochondrial | Mitochondrial inheritance | HP:0001427 | Yes |\n",
    "| monoallelic_Y_hemizygous | Y-linked inheritance | HP:0001450 | Yes |\n",
    "| **monoallelic_X** | X-linked inheritance | HP:0001417 | Yes |\n",
    "| **monoallelic_X_hemizygous** | X-linked recessive inheritance | HP:0001419 | Yes |\n",
    "| **monoallelic_X_heterozygous** | X-linked dominant inheritance | HP:0001423 | Yes |\n",
    "\n",
    "\n",
    "---\n",
    "\n",
    "__Would involve making new columns/fields__\n",
    "\n",
    "Would do value-mapping using static dicts? Which would be brittle/work to maintain\n",
    "\n",
    "* \"allelic requirement\": create new columns for HPO mapping IDs/labels (reference above)\n",
    "* \"variant consequence\": create new column(s) for SO mapping (value is ID or labels, or a list of dict for ID/label pairs)\n",
    "* \"variant types\": create new column(s) for SO mapping"
   ]
  },
  {
   "cell_type": "markdown",
   "id": "93355c4a",
   "metadata": {},
   "source": [
    "## Issues merging data into 1 dataframe"
   ]
  },
  {
   "cell_type": "markdown",
   "id": "2b65c38f",
   "metadata": {},
   "source": [
    "If I loaded all data into 1 dataframe, there will likely be duplicate rows because the gene-disease pair is in several panels (aka disease falls into multiple categories). One proof of this is `panel` being a \"; \"-delimited string.\n",
    "\n",
    "Drop duplicates will be needed. \n",
    "\n",
    "However, what if other column values differ between files (like \"; \"-delimited strings having a diff order of elements)? Especially wondering about `panel`. \n",
    "\n",
    "Exploring this:\n",
    "* Add all dataframes together into a big dataframe\n",
    "* how many duplicates are there based on the columns that matter for unique row: 'g2p id'\n",
    "  * other important set: 'gene symbol', 'disease name', 'allelic requirement', 'molecular mechanism'\n",
    "* VS how many duplicates are there considering all columns? \n",
    "\n",
    "If the duplicate numbers differ between the two, then some other column's values are contributing to \"unique\" rows between diff files. (probably everything duplicate count < subset duplicate count)\n",
    "* If the problem is \"; \"-delimited string order, then can reorder them (split, sort, join. Can you do this column-wise rather than iterating?). Then can look for duplicate rows.\n",
    "\n",
    "If the numbers are the same, then we're good! No other columns matter for unique row, and the duplicates can be dropped (based on all columns). "
   ]
  },
  {
   "cell_type": "code",
   "execution_count": null,
   "id": "bcea908c",
   "metadata": {},
   "outputs": [],
   "source": [
    "everything = pd.concat(objs=[cancer, cardiac, developmental, eye, hearing, skeletal, skin], ignore_index=True)"
   ]
  },
  {
   "cell_type": "code",
   "execution_count": 10,
   "id": "83248c45",
   "metadata": {
    "ExecuteTime": {
     "end_time": "2025-04-04T06:24:19.684839Z",
     "start_time": "2025-04-04T06:24:19.677871Z"
    }
   },
   "outputs": [
    {
     "data": {
      "text/plain": [
       "(4721, 21)"
      ]
     },
     "execution_count": 10,
     "metadata": {},
     "output_type": "execute_result"
    },
    {
     "data": {
      "text/plain": [
       "4721"
      ]
     },
     "execution_count": 10,
     "metadata": {},
     "output_type": "execute_result"
    }
   ],
   "source": [
    "everything.shape\n",
    "\n",
    "cancer.shape[0] + cardiac.shape[0] + \\\n",
    "developmental.shape[0] + eye.shape[0] + \\\n",
    "hearing.shape[0] + skeletal.shape[0] + \\\n",
    "skin.shape[0]"
   ]
  },
  {
   "cell_type": "code",
   "execution_count": 11,
   "id": "4df8e0d4",
   "metadata": {
    "ExecuteTime": {
     "end_time": "2025-04-04T06:24:22.354015Z",
     "start_time": "2025-04-04T06:24:22.313760Z"
    }
   },
   "outputs": [
    {
     "data": {
      "text/plain": [
       "(1935, 21)"
      ]
     },
     "execution_count": 11,
     "metadata": {},
     "output_type": "execute_result"
    },
    {
     "data": {
      "text/plain": [
       "(1935, 21)"
      ]
     },
     "execution_count": 11,
     "metadata": {},
     "output_type": "execute_result"
    },
    {
     "data": {
      "text/plain": [
       "(1935, 21)"
      ]
     },
     "execution_count": 11,
     "metadata": {},
     "output_type": "execute_result"
    }
   ],
   "source": [
    "everything[everything.duplicated(subset=['g2p id'], keep=False)].sort_values(by=['gene symbol', 'disease name']).shape\n",
    "\n",
    "\n",
    "everything[everything.duplicated(subset=['gene symbol', 'disease name', 'allelic requirement', 'molecular mechanism'], keep=False)].sort_values(by=['gene symbol', 'disease name']).shape\n",
    "\n",
    "everything[everything.duplicated(keep=False)].shape"
   ]
  },
  {
   "cell_type": "code",
   "execution_count": 12,
   "id": "1577f1c6",
   "metadata": {
    "ExecuteTime": {
     "end_time": "2025-04-04T06:24:25.636090Z",
     "start_time": "2025-04-04T06:24:25.619080Z"
    }
   },
   "outputs": [
    {
     "data": {
      "text/html": [
       "<div>\n",
       "<style scoped>\n",
       "    .dataframe tbody tr th:only-of-type {\n",
       "        vertical-align: middle;\n",
       "    }\n",
       "\n",
       "    .dataframe tbody tr th {\n",
       "        vertical-align: top;\n",
       "    }\n",
       "\n",
       "    .dataframe thead th {\n",
       "        text-align: right;\n",
       "    }\n",
       "</style>\n",
       "<table border=\"1\" class=\"dataframe\">\n",
       "  <thead>\n",
       "    <tr style=\"text-align: right;\">\n",
       "      <th></th>\n",
       "      <th>g2p id</th>\n",
       "      <th>gene symbol</th>\n",
       "      <th>gene mim</th>\n",
       "      <th>hgnc id</th>\n",
       "      <th>previous gene symbols</th>\n",
       "      <th>disease name</th>\n",
       "      <th>disease mim</th>\n",
       "      <th>disease MONDO</th>\n",
       "      <th>allelic requirement</th>\n",
       "      <th>cross cutting modifier</th>\n",
       "      <th>confidence</th>\n",
       "      <th>variant consequence</th>\n",
       "      <th>variant types</th>\n",
       "      <th>molecular mechanism</th>\n",
       "      <th>molecular mechanism categorisation</th>\n",
       "      <th>molecular mechanism evidence</th>\n",
       "      <th>phenotypes</th>\n",
       "      <th>publications</th>\n",
       "      <th>panel</th>\n",
       "      <th>comments</th>\n",
       "      <th>date of last review</th>\n",
       "    </tr>\n",
       "  </thead>\n",
       "  <tbody>\n",
       "    <tr>\n",
       "      <th>839</th>\n",
       "      <td>G2P00650</td>\n",
       "      <td>AAAS</td>\n",
       "      <td>605378</td>\n",
       "      <td>13666</td>\n",
       "      <td>NaN</td>\n",
       "      <td>AAAS-related chalasia-addisonianism-alacrima s...</td>\n",
       "      <td>231550</td>\n",
       "      <td>NaN</td>\n",
       "      <td>biallelic_autosomal</td>\n",
       "      <td>NaN</td>\n",
       "      <td>definitive</td>\n",
       "      <td>absent gene product</td>\n",
       "      <td>NaN</td>\n",
       "      <td>loss of function</td>\n",
       "      <td>inferred</td>\n",
       "      <td>NaN</td>\n",
       "      <td>HP:0002459; HP:0011463; HP:0003487; HP:0001278...</td>\n",
       "      <td>11062474; 11701718; 18628786; 11159947; 15173230</td>\n",
       "      <td>DD; Eye; Skin</td>\n",
       "      <td>NaN</td>\n",
       "      <td>2025-01-27 14:40:58+00:00</td>\n",
       "    </tr>\n",
       "    <tr>\n",
       "      <th>3104</th>\n",
       "      <td>G2P00650</td>\n",
       "      <td>AAAS</td>\n",
       "      <td>605378</td>\n",
       "      <td>13666</td>\n",
       "      <td>NaN</td>\n",
       "      <td>AAAS-related chalasia-addisonianism-alacrima s...</td>\n",
       "      <td>231550</td>\n",
       "      <td>NaN</td>\n",
       "      <td>biallelic_autosomal</td>\n",
       "      <td>NaN</td>\n",
       "      <td>definitive</td>\n",
       "      <td>absent gene product</td>\n",
       "      <td>NaN</td>\n",
       "      <td>loss of function</td>\n",
       "      <td>inferred</td>\n",
       "      <td>NaN</td>\n",
       "      <td>HP:0002459; HP:0011463; HP:0003487; HP:0001278...</td>\n",
       "      <td>11062474; 11701718; 18628786; 11159947; 15173230</td>\n",
       "      <td>DD; Eye; Skin</td>\n",
       "      <td>NaN</td>\n",
       "      <td>2025-01-27 14:40:58+00:00</td>\n",
       "    </tr>\n",
       "    <tr>\n",
       "      <th>4198</th>\n",
       "      <td>G2P00650</td>\n",
       "      <td>AAAS</td>\n",
       "      <td>605378</td>\n",
       "      <td>13666</td>\n",
       "      <td>NaN</td>\n",
       "      <td>AAAS-related chalasia-addisonianism-alacrima s...</td>\n",
       "      <td>231550</td>\n",
       "      <td>NaN</td>\n",
       "      <td>biallelic_autosomal</td>\n",
       "      <td>NaN</td>\n",
       "      <td>definitive</td>\n",
       "      <td>absent gene product</td>\n",
       "      <td>NaN</td>\n",
       "      <td>loss of function</td>\n",
       "      <td>inferred</td>\n",
       "      <td>NaN</td>\n",
       "      <td>HP:0002459; HP:0011463; HP:0003487; HP:0001278...</td>\n",
       "      <td>11062474; 11701718; 18628786; 11159947; 15173230</td>\n",
       "      <td>DD; Eye; Skin</td>\n",
       "      <td>NaN</td>\n",
       "      <td>2025-01-27 14:40:58+00:00</td>\n",
       "    </tr>\n",
       "  </tbody>\n",
       "</table>\n",
       "</div>"
      ],
      "text/plain": [
       "        g2p id gene symbol gene mim hgnc id previous gene symbols  \\\n",
       "839   G2P00650        AAAS   605378   13666                   NaN   \n",
       "3104  G2P00650        AAAS   605378   13666                   NaN   \n",
       "4198  G2P00650        AAAS   605378   13666                   NaN   \n",
       "\n",
       "                                           disease name disease mim  \\\n",
       "839   AAAS-related chalasia-addisonianism-alacrima s...      231550   \n",
       "3104  AAAS-related chalasia-addisonianism-alacrima s...      231550   \n",
       "4198  AAAS-related chalasia-addisonianism-alacrima s...      231550   \n",
       "\n",
       "     disease MONDO  allelic requirement cross cutting modifier  confidence  \\\n",
       "839            NaN  biallelic_autosomal                    NaN  definitive   \n",
       "3104           NaN  biallelic_autosomal                    NaN  definitive   \n",
       "4198           NaN  biallelic_autosomal                    NaN  definitive   \n",
       "\n",
       "      variant consequence variant types molecular mechanism  \\\n",
       "839   absent gene product           NaN    loss of function   \n",
       "3104  absent gene product           NaN    loss of function   \n",
       "4198  absent gene product           NaN    loss of function   \n",
       "\n",
       "     molecular mechanism categorisation molecular mechanism evidence  \\\n",
       "839                            inferred                          NaN   \n",
       "3104                           inferred                          NaN   \n",
       "4198                           inferred                          NaN   \n",
       "\n",
       "                                             phenotypes  \\\n",
       "839   HP:0002459; HP:0011463; HP:0003487; HP:0001278...   \n",
       "3104  HP:0002459; HP:0011463; HP:0003487; HP:0001278...   \n",
       "4198  HP:0002459; HP:0011463; HP:0003487; HP:0001278...   \n",
       "\n",
       "                                          publications          panel  \\\n",
       "839   11062474; 11701718; 18628786; 11159947; 15173230  DD; Eye; Skin   \n",
       "3104  11062474; 11701718; 18628786; 11159947; 15173230  DD; Eye; Skin   \n",
       "4198  11062474; 11701718; 18628786; 11159947; 15173230  DD; Eye; Skin   \n",
       "\n",
       "     comments        date of last review  \n",
       "839       NaN  2025-01-27 14:40:58+00:00  \n",
       "3104      NaN  2025-01-27 14:40:58+00:00  \n",
       "4198      NaN  2025-01-27 14:40:58+00:00  "
      ]
     },
     "execution_count": 12,
     "metadata": {},
     "output_type": "execute_result"
    }
   ],
   "source": [
    "everything[everything[\"g2p id\"] == \"G2P00650\"]"
   ]
  },
  {
   "cell_type": "markdown",
   "id": "64e72236",
   "metadata": {},
   "source": [
    "So...the numbers are the same! This means duplicate records/rows from diff files are completely identical, and can be dropped easily (based on all columns)"
   ]
  },
  {
   "cell_type": "markdown",
   "id": "b90c3600",
   "metadata": {},
   "source": [
    "## Other parser code ideas"
   ]
  },
  {
   "cell_type": "markdown",
   "id": "d1d3577d",
   "metadata": {},
   "source": [
    "* each row => turn into 1 association object\n",
    "  * document/object MUST have `_id` key (primary ID for BioThings database - ElasticSearch / mongo DB?) \n",
    "    * use 'g2p id' for `_id`\n",
    "    * unique 'gene symbol', 'disease name', 'allelic requirement', 'molecular mechanism' combo\n",
    "    * \"G2P records are Locus-Genotype-Mechanism-Disease-Evidence (LGMDE) threads describing gene-disease associations\" -> this is what a unique row is from resource POV (ref: homepage table \"Total LGMDE Records\" info (i) button)\n",
    "* sometimes disease doesn't have any IDs for it => still make document/object but won't use in Translator unless it has ID\n",
    "  * all hearing records (2) have this problem.\n",
    "* str split method will create single-element arrays if no delimiter found\n",
    "* parser feeds into upload step -> function should be generator to iterate through all stuff -> for each, yield the document(s) as dict/json\n",
    "\n",
    "Confidence is important to filter on for Translator! => will still make document/object but don't use! \n",
    "* don't use \"limited\", \"disputed\", \"refuted\": Translator doesn't handle negation (\"refuted\") or low/conflicting evidence (\"disputed\" or \"limited\")"
   ]
  }
 ],
 "metadata": {
  "kernelspec": {
   "display_name": "Python 3 (ipykernel)",
   "language": "python",
   "name": "python3"
  },
  "language_info": {
   "codemirror_mode": {
    "name": "ipython",
    "version": 3
   },
   "file_extension": ".py",
   "mimetype": "text/x-python",
   "name": "python",
   "nbconvert_exporter": "python",
   "pygments_lexer": "ipython3",
   "version": "3.12.9"
  },
  "toc": {
   "base_numbering": 1,
   "nav_menu": {},
   "number_sections": false,
   "sideBar": true,
   "skip_h1_title": true,
   "title_cell": "Table of Contents",
   "title_sidebar": "Contents",
   "toc_cell": false,
   "toc_position": {
    "height": "calc(100% - 180px)",
    "left": "10px",
    "top": "150px",
    "width": "220.5px"
   },
   "toc_section_display": true,
   "toc_window_display": false
  }
 },
 "nbformat": 4,
 "nbformat_minor": 5
}
