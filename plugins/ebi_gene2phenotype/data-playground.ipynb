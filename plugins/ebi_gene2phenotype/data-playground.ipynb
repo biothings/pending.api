{
 "cells": [
  {
   "cell_type": "markdown",
   "id": "a413234c",
   "metadata": {},
   "source": [
    "# Exploring EBI gene2pheno data for parser"
   ]
  },
  {
   "cell_type": "markdown",
   "id": "a7806d5e",
   "metadata": {},
   "source": [
    "## Downloading data"
   ]
  },
  {
   "cell_type": "markdown",
   "id": "99a94602",
   "metadata": {},
   "source": [
    "Latest data can be downloaded from https://www.ebi.ac.uk/gene2phenotype/download. But I can't figure out the actual links for the downloads. \n",
    "\n",
    "Static release files (currently 2025-02-28) can be downloaded from the FTP site http://ftp.ebi.ac.uk/pub/databases/gene2phenotype/ (in the G2P_data_downloads subfolder). It is supposed to update on a monthly basis, according to the [README](http://ftp.ebi.ac.uk/pub/databases/gene2phenotype/README). However, I notice that the FTP site is sometimes slow on my computer (Firefox browser). \n",
    "\n",
    "I'm using all disorder panels/files:\n",
    "* Cancer\n",
    "* Cardiac\n",
    "* Developmental disorders (DD)\n",
    "* Eye\n",
    "* Hearing\n",
    "* Skeletal\n",
    "* Skin"
   ]
  },
  {
   "cell_type": "markdown",
   "id": "cc2ed7fe",
   "metadata": {},
   "source": [
    "## Load data into separate pandas dataframes"
   ]
  },
  {
   "cell_type": "code",
   "execution_count": 17,
   "id": "be796066",
   "metadata": {
    "ExecuteTime": {
     "end_time": "2025-03-14T08:59:26.007353Z",
     "start_time": "2025-03-14T08:59:26.003729Z"
    }
   },
   "outputs": [],
   "source": [
    "## import packages for exploring here\n",
    "\n",
    "## CX: allows multiple lines of code to print from one code block\n",
    "from IPython.core.interactiveshell import InteractiveShell\n",
    "InteractiveShell.ast_node_interactivity = \"all\"\n",
    "\n",
    "import pathlib\n",
    "import pandas as pd\n",
    "import glob\n",
    "\n",
    "pd.options.display.max_columns = None"
   ]
  },
  {
   "cell_type": "code",
   "execution_count": 3,
   "id": "f75451df",
   "metadata": {
    "ExecuteTime": {
     "end_time": "2025-03-14T08:38:01.686637Z",
     "start_time": "2025-03-14T08:38:01.581526Z"
    }
   },
   "outputs": [],
   "source": [
    "## Construct paths for files\n",
    "\n",
    "## adjust based on where files are stored\n",
    "base_file_path = pathlib.Path.home().joinpath('Desktop', 'EBIgene2pheno_files', 'From_Website')\n",
    "\n",
    "cancer = pd.read_csv(base_file_path.joinpath('G2P_Cancer_2025-03-13.csv'))\n",
    "cardiac = pd.read_csv(base_file_path.joinpath('G2P_Cardiac_2025-03-13.csv'))\n",
    "developmental = pd.read_csv(base_file_path.joinpath('G2P_DD_2025-03-13.csv'))\n",
    "eye = pd.read_csv(base_file_path.joinpath('G2P_Eye_2025-03-13.csv'))\n",
    "hearing = pd.read_csv(base_file_path.joinpath('G2P_Hearing loss_2025-03-13.csv'))\n",
    "skeletal = pd.read_csv(base_file_path.joinpath('G2P_Skeletal_2025-03-13.csv'))\n",
    "skin = pd.read_csv(base_file_path.joinpath('G2P_Skin_2025-03-13.csv'))\n",
    "\n",
    "## saving for possible future use\n",
    "# unique_filename_substring = [\n",
    "#     'Cancer',\n",
    "#     'Cardiac',\n",
    "#     'DD',\n",
    "#     'Eye',\n",
    "#     'Hearing loss',\n",
    "#     'Skeletal',\n",
    "#     'Skin'\n",
    "# ]"
   ]
  },
  {
   "cell_type": "code",
   "execution_count": 4,
   "id": "043dccbf",
   "metadata": {
    "ExecuteTime": {
     "end_time": "2025-03-14T08:38:02.470651Z",
     "start_time": "2025-03-14T08:38:02.465891Z"
    }
   },
   "outputs": [
    {
     "name": "stdout",
     "output_type": "stream",
     "text": [
      "/Users/colleenxu/Desktop/EBIgene2pheno_files/From_Website/G2P_Skin_2025-03-13.csv\n",
      "/Users/colleenxu/Desktop/EBIgene2pheno_files/From_Website/G2P_Hearing loss_2025-03-13.csv\n",
      "/Users/colleenxu/Desktop/EBIgene2pheno_files/From_Website/G2P_Cardiac_2025-03-13.csv\n",
      "/Users/colleenxu/Desktop/EBIgene2pheno_files/From_Website/G2P_Skeletal_2025-03-13.csv\n",
      "/Users/colleenxu/Desktop/EBIgene2pheno_files/From_Website/G2P_Cancer_2025-03-13.csv\n",
      "/Users/colleenxu/Desktop/EBIgene2pheno_files/From_Website/G2P_DD_2025-03-13.csv\n",
      "/Users/colleenxu/Desktop/EBIgene2pheno_files/From_Website/G2P_Eye_2025-03-13.csv\n"
     ]
    }
   ],
   "source": [
    "## way to get all paths for all files without knowing their actual names\n",
    "for i in base_file_path.glob(\"*.csv\"):\n",
    "    print(i)"
   ]
  },
  {
   "cell_type": "code",
   "execution_count": 5,
   "id": "833fb8d7",
   "metadata": {
    "ExecuteTime": {
     "end_time": "2025-03-14T08:38:09.954402Z",
     "start_time": "2025-03-14T08:38:09.947089Z"
    }
   },
   "outputs": [
    {
     "data": {
      "text/plain": [
       "array([ True,  True,  True,  True,  True,  True,  True,  True,  True,\n",
       "        True,  True,  True,  True,  True,  True,  True,  True,  True,\n",
       "        True,  True,  True])"
      ]
     },
     "execution_count": 5,
     "metadata": {},
     "output_type": "execute_result"
    }
   ],
   "source": [
    "## checking that each file's columns are the same: they are\n",
    "cancer.columns == skin.columns"
   ]
  },
  {
   "cell_type": "code",
   "execution_count": 6,
   "id": "e99aee21",
   "metadata": {
    "ExecuteTime": {
     "end_time": "2025-03-14T08:38:15.808217Z",
     "start_time": "2025-03-14T08:38:15.803514Z"
    }
   },
   "outputs": [
    {
     "data": {
      "text/plain": [
       "Index(['g2p id', 'gene symbol', 'gene mim', 'hgnc id', 'previous gene symbols',\n",
       "       'disease name', 'disease mim', 'disease MONDO', 'allelic requirement',\n",
       "       'cross cutting modifier', 'confidence', 'variant consequence',\n",
       "       'variant types', 'molecular mechanism',\n",
       "       'molecular mechanism categorisation', 'molecular mechanism evidence',\n",
       "       'phenotypes', 'publications', 'panel', 'comments',\n",
       "       'date of last review'],\n",
       "      dtype='object')"
      ]
     },
     "execution_count": 6,
     "metadata": {},
     "output_type": "execute_result"
    }
   ],
   "source": [
    "cancer.columns"
   ]
  },
  {
   "cell_type": "code",
   "execution_count": 18,
   "id": "d28971e4",
   "metadata": {
    "ExecuteTime": {
     "end_time": "2025-03-14T08:59:30.593447Z",
     "start_time": "2025-03-14T08:59:30.576799Z"
    }
   },
   "outputs": [
    {
     "data": {
      "text/html": [
       "<div>\n",
       "<style scoped>\n",
       "    .dataframe tbody tr th:only-of-type {\n",
       "        vertical-align: middle;\n",
       "    }\n",
       "\n",
       "    .dataframe tbody tr th {\n",
       "        vertical-align: top;\n",
       "    }\n",
       "\n",
       "    .dataframe thead th {\n",
       "        text-align: right;\n",
       "    }\n",
       "</style>\n",
       "<table border=\"1\" class=\"dataframe\">\n",
       "  <thead>\n",
       "    <tr style=\"text-align: right;\">\n",
       "      <th></th>\n",
       "      <th>g2p id</th>\n",
       "      <th>gene symbol</th>\n",
       "      <th>gene mim</th>\n",
       "      <th>hgnc id</th>\n",
       "      <th>previous gene symbols</th>\n",
       "      <th>disease name</th>\n",
       "      <th>disease mim</th>\n",
       "      <th>disease MONDO</th>\n",
       "      <th>allelic requirement</th>\n",
       "      <th>cross cutting modifier</th>\n",
       "      <th>confidence</th>\n",
       "      <th>variant consequence</th>\n",
       "      <th>variant types</th>\n",
       "      <th>molecular mechanism</th>\n",
       "      <th>molecular mechanism categorisation</th>\n",
       "      <th>molecular mechanism evidence</th>\n",
       "      <th>phenotypes</th>\n",
       "      <th>publications</th>\n",
       "      <th>panel</th>\n",
       "      <th>comments</th>\n",
       "      <th>date of last review</th>\n",
       "    </tr>\n",
       "  </thead>\n",
       "  <tbody>\n",
       "    <tr>\n",
       "      <th>92</th>\n",
       "      <td>G2P03361</td>\n",
       "      <td>RTEL1</td>\n",
       "      <td>608833</td>\n",
       "      <td>15888</td>\n",
       "      <td>BK3184A7.3; C20ORF41; DKFZP434C013; KIAA1088; ...</td>\n",
       "      <td>RTEL1-related dyskeratosis congenita</td>\n",
       "      <td>NaN</td>\n",
       "      <td>MONDO:0009136</td>\n",
       "      <td>monoallelic_autosomal</td>\n",
       "      <td>NaN</td>\n",
       "      <td>moderate</td>\n",
       "      <td>absent gene product; altered gene product stru...</td>\n",
       "      <td>NaN</td>\n",
       "      <td>loss of function</td>\n",
       "      <td>inferred</td>\n",
       "      <td>NaN</td>\n",
       "      <td>HP:0030438; HP:0030442; HP:0004808; HP:0012182</td>\n",
       "      <td>23329068; 23453664</td>\n",
       "      <td>DD; Skin; Cancer</td>\n",
       "      <td>NaN</td>\n",
       "      <td>2024-12-24 10:10:42+00:00</td>\n",
       "    </tr>\n",
       "    <tr>\n",
       "      <th>107</th>\n",
       "      <td>G2P03386</td>\n",
       "      <td>RTEL1</td>\n",
       "      <td>608833</td>\n",
       "      <td>15888</td>\n",
       "      <td>BK3184A7.3; C20ORF41; DKFZP434C013; KIAA1088; ...</td>\n",
       "      <td>RTEL1-related dyskeratosis congenita</td>\n",
       "      <td>NaN</td>\n",
       "      <td>MONDO:0009136</td>\n",
       "      <td>biallelic_autosomal</td>\n",
       "      <td>NaN</td>\n",
       "      <td>definitive</td>\n",
       "      <td>absent gene product; altered gene product stru...</td>\n",
       "      <td>NaN</td>\n",
       "      <td>loss of function</td>\n",
       "      <td>evidence</td>\n",
       "      <td>23329068 -&gt; functional_alteration: patient cel...</td>\n",
       "      <td>HP:0030438; HP:0030442; HP:0004808; HP:0012182</td>\n",
       "      <td>23329068; 23453664; 23591994; 23959892</td>\n",
       "      <td>DD; Skin; Cancer</td>\n",
       "      <td>NaN</td>\n",
       "      <td>2025-03-05 15:53:21+00:00</td>\n",
       "    </tr>\n",
       "  </tbody>\n",
       "</table>\n",
       "</div>"
      ],
      "text/plain": [
       "       g2p id gene symbol  gene mim  hgnc id  \\\n",
       "92   G2P03361       RTEL1    608833    15888   \n",
       "107  G2P03386       RTEL1    608833    15888   \n",
       "\n",
       "                                 previous gene symbols  \\\n",
       "92   BK3184A7.3; C20ORF41; DKFZP434C013; KIAA1088; ...   \n",
       "107  BK3184A7.3; C20ORF41; DKFZP434C013; KIAA1088; ...   \n",
       "\n",
       "                             disease name disease mim  disease MONDO  \\\n",
       "92   RTEL1-related dyskeratosis congenita         NaN  MONDO:0009136   \n",
       "107  RTEL1-related dyskeratosis congenita         NaN  MONDO:0009136   \n",
       "\n",
       "       allelic requirement cross cutting modifier  confidence  \\\n",
       "92   monoallelic_autosomal                    NaN    moderate   \n",
       "107    biallelic_autosomal                    NaN  definitive   \n",
       "\n",
       "                                   variant consequence variant types  \\\n",
       "92   absent gene product; altered gene product stru...           NaN   \n",
       "107  absent gene product; altered gene product stru...           NaN   \n",
       "\n",
       "    molecular mechanism molecular mechanism categorisation  \\\n",
       "92     loss of function                           inferred   \n",
       "107    loss of function                           evidence   \n",
       "\n",
       "                          molecular mechanism evidence  \\\n",
       "92                                                 NaN   \n",
       "107  23329068 -> functional_alteration: patient cel...   \n",
       "\n",
       "                                         phenotypes  \\\n",
       "92   HP:0030438; HP:0030442; HP:0004808; HP:0012182   \n",
       "107  HP:0030438; HP:0030442; HP:0004808; HP:0012182   \n",
       "\n",
       "                               publications             panel comments  \\\n",
       "92                       23329068; 23453664  DD; Skin; Cancer      NaN   \n",
       "107  23329068; 23453664; 23591994; 23959892  DD; Skin; Cancer      NaN   \n",
       "\n",
       "           date of last review  \n",
       "92   2024-12-24 10:10:42+00:00  \n",
       "107  2025-03-05 15:53:21+00:00  "
      ]
     },
     "execution_count": 18,
     "metadata": {},
     "output_type": "execute_result"
    }
   ],
   "source": [
    "## there's 1 gene-disease pair duplicate\n",
    "cancer[cancer.duplicated(subset=['gene symbol', 'disease name'], keep=False)]"
   ]
  },
  {
   "cell_type": "code",
   "execution_count": 7,
   "id": "494cd482",
   "metadata": {
    "ExecuteTime": {
     "end_time": "2025-03-14T08:38:25.084484Z",
     "start_time": "2025-03-14T08:38:25.074361Z"
    }
   },
   "outputs": [
    {
     "name": "stdout",
     "output_type": "stream",
     "text": [
      "<class 'pandas.core.frame.DataFrame'>\n",
      "RangeIndex: 125 entries, 0 to 124\n",
      "Data columns (total 21 columns):\n",
      " #   Column                              Non-Null Count  Dtype \n",
      "---  ------                              --------------  ----- \n",
      " 0   g2p id                              125 non-null    object\n",
      " 1   gene symbol                         125 non-null    object\n",
      " 2   gene mim                            125 non-null    int64 \n",
      " 3   hgnc id                             125 non-null    int64 \n",
      " 4   previous gene symbols               121 non-null    object\n",
      " 5   disease name                        125 non-null    object\n",
      " 6   disease mim                         68 non-null     object\n",
      " 7   disease MONDO                       43 non-null     object\n",
      " 8   allelic requirement                 125 non-null    object\n",
      " 9   cross cutting modifier              5 non-null      object\n",
      " 10  confidence                          125 non-null    object\n",
      " 11  variant consequence                 125 non-null    object\n",
      " 12  variant types                       12 non-null     object\n",
      " 13  molecular mechanism                 125 non-null    object\n",
      " 14  molecular mechanism categorisation  125 non-null    object\n",
      " 15  molecular mechanism evidence        2 non-null      object\n",
      " 16  phenotypes                          117 non-null    object\n",
      " 17  publications                        123 non-null    object\n",
      " 18  panel                               125 non-null    object\n",
      " 19  comments                            2 non-null      object\n",
      " 20  date of last review                 125 non-null    object\n",
      "dtypes: int64(2), object(19)\n",
      "memory usage: 20.6+ KB\n"
     ]
    }
   ],
   "source": [
    "cancer.info()"
   ]
  },
  {
   "cell_type": "code",
   "execution_count": 19,
   "id": "e68fb901",
   "metadata": {
    "ExecuteTime": {
     "end_time": "2025-03-14T08:59:38.983111Z",
     "start_time": "2025-03-14T08:59:38.966746Z"
    }
   },
   "outputs": [
    {
     "data": {
      "text/html": [
       "<div>\n",
       "<style scoped>\n",
       "    .dataframe tbody tr th:only-of-type {\n",
       "        vertical-align: middle;\n",
       "    }\n",
       "\n",
       "    .dataframe tbody tr th {\n",
       "        vertical-align: top;\n",
       "    }\n",
       "\n",
       "    .dataframe thead th {\n",
       "        text-align: right;\n",
       "    }\n",
       "</style>\n",
       "<table border=\"1\" class=\"dataframe\">\n",
       "  <thead>\n",
       "    <tr style=\"text-align: right;\">\n",
       "      <th></th>\n",
       "      <th>g2p id</th>\n",
       "      <th>gene symbol</th>\n",
       "      <th>gene mim</th>\n",
       "      <th>hgnc id</th>\n",
       "      <th>previous gene symbols</th>\n",
       "      <th>disease name</th>\n",
       "      <th>disease mim</th>\n",
       "      <th>disease MONDO</th>\n",
       "      <th>allelic requirement</th>\n",
       "      <th>cross cutting modifier</th>\n",
       "      <th>confidence</th>\n",
       "      <th>variant consequence</th>\n",
       "      <th>variant types</th>\n",
       "      <th>molecular mechanism</th>\n",
       "      <th>molecular mechanism categorisation</th>\n",
       "      <th>molecular mechanism evidence</th>\n",
       "      <th>phenotypes</th>\n",
       "      <th>publications</th>\n",
       "      <th>panel</th>\n",
       "      <th>comments</th>\n",
       "      <th>date of last review</th>\n",
       "    </tr>\n",
       "  </thead>\n",
       "  <tbody>\n",
       "    <tr>\n",
       "      <th>0</th>\n",
       "      <td>G2P00027</td>\n",
       "      <td>BRIP1</td>\n",
       "      <td>605882</td>\n",
       "      <td>20473</td>\n",
       "      <td>BACH1; FANCJ; OF</td>\n",
       "      <td>BRIP1-related Fanconi anemia</td>\n",
       "      <td>609054</td>\n",
       "      <td>NaN</td>\n",
       "      <td>biallelic_autosomal</td>\n",
       "      <td>NaN</td>\n",
       "      <td>definitive</td>\n",
       "      <td>absent gene product</td>\n",
       "      <td>NaN</td>\n",
       "      <td>loss of function</td>\n",
       "      <td>inferred</td>\n",
       "      <td>NaN</td>\n",
       "      <td>HP:0003221; HP:0009778; HP:0001511; HP:0001263...</td>\n",
       "      <td>16116424</td>\n",
       "      <td>DD; Cancer</td>\n",
       "      <td>NaN</td>\n",
       "      <td>2025-01-28 23:03:26+00:00</td>\n",
       "    </tr>\n",
       "    <tr>\n",
       "      <th>1</th>\n",
       "      <td>G2P00049</td>\n",
       "      <td>XPC</td>\n",
       "      <td>613208</td>\n",
       "      <td>12816</td>\n",
       "      <td>RAD4; XPCC</td>\n",
       "      <td>XPC-related xeroderma pigmentosum</td>\n",
       "      <td>278720</td>\n",
       "      <td>NaN</td>\n",
       "      <td>biallelic_autosomal</td>\n",
       "      <td>NaN</td>\n",
       "      <td>definitive</td>\n",
       "      <td>absent gene product</td>\n",
       "      <td>NaN</td>\n",
       "      <td>loss of function</td>\n",
       "      <td>inferred</td>\n",
       "      <td>NaN</td>\n",
       "      <td>HP:0004334; HP:0012056; HP:0000491; HP:0002671...</td>\n",
       "      <td>8298653; 14662655; 11511294; 11121128; 9804340...</td>\n",
       "      <td>DD; Skin; Cancer</td>\n",
       "      <td>NaN</td>\n",
       "      <td>2017-09-01 16:19:16+00:00</td>\n",
       "    </tr>\n",
       "    <tr>\n",
       "      <th>2</th>\n",
       "      <td>G2P00165</td>\n",
       "      <td>NOP10</td>\n",
       "      <td>606471</td>\n",
       "      <td>14378</td>\n",
       "      <td>MGC70651; NOLA3; NOP10P</td>\n",
       "      <td>NOP10-related dyskeratosis congenita</td>\n",
       "      <td>224230</td>\n",
       "      <td>MONDO:0009136</td>\n",
       "      <td>biallelic_autosomal</td>\n",
       "      <td>NaN</td>\n",
       "      <td>moderate</td>\n",
       "      <td>absent gene product; altered gene product stru...</td>\n",
       "      <td>missense_variant; inframe_deletion; inframe_in...</td>\n",
       "      <td>undetermined</td>\n",
       "      <td>inferred</td>\n",
       "      <td>NaN</td>\n",
       "      <td>HP:0009926; HP:0000691; HP:0002745; HP:0002206...</td>\n",
       "      <td>17507419</td>\n",
       "      <td>DD; Cancer</td>\n",
       "      <td>NaN</td>\n",
       "      <td>2015-07-22 16:14:19+00:00</td>\n",
       "    </tr>\n",
       "    <tr>\n",
       "      <th>3</th>\n",
       "      <td>G2P00177</td>\n",
       "      <td>DDB2</td>\n",
       "      <td>600811</td>\n",
       "      <td>2718</td>\n",
       "      <td>DDBB; FLJ34321; UV-DDB2; XPE</td>\n",
       "      <td>DDB2-related xeroderma pigmentosum, group E, d...</td>\n",
       "      <td>278740</td>\n",
       "      <td>NaN</td>\n",
       "      <td>biallelic_autosomal</td>\n",
       "      <td>NaN</td>\n",
       "      <td>definitive</td>\n",
       "      <td>absent gene product</td>\n",
       "      <td>NaN</td>\n",
       "      <td>loss of function</td>\n",
       "      <td>inferred</td>\n",
       "      <td>NaN</td>\n",
       "      <td>HP:0004334; HP:0000491; HP:0002671; HP:0000509...</td>\n",
       "      <td>8798680; 10469312; 12812979</td>\n",
       "      <td>DD; Skin; Cancer</td>\n",
       "      <td>NaN</td>\n",
       "      <td>2017-09-01 16:19:15+00:00</td>\n",
       "    </tr>\n",
       "    <tr>\n",
       "      <th>4</th>\n",
       "      <td>G2P00181</td>\n",
       "      <td>ERCC3</td>\n",
       "      <td>133510</td>\n",
       "      <td>3435</td>\n",
       "      <td>BTF2; RAD25; SSL2; XPB</td>\n",
       "      <td>ERCC3-related xeroderma pigmentosum, group B</td>\n",
       "      <td>610651</td>\n",
       "      <td>NaN</td>\n",
       "      <td>biallelic_autosomal</td>\n",
       "      <td>NaN</td>\n",
       "      <td>definitive</td>\n",
       "      <td>absent gene product</td>\n",
       "      <td>NaN</td>\n",
       "      <td>loss of function</td>\n",
       "      <td>inferred</td>\n",
       "      <td>NaN</td>\n",
       "      <td>HP:0004315; HP:0001480; HP:0002135; HP:0011400...</td>\n",
       "      <td>16947863; 8408834; 4811796</td>\n",
       "      <td>DD; Skin; Cancer</td>\n",
       "      <td>NaN</td>\n",
       "      <td>2024-08-20 14:10:55+00:00</td>\n",
       "    </tr>\n",
       "  </tbody>\n",
       "</table>\n",
       "</div>"
      ],
      "text/plain": [
       "     g2p id gene symbol  gene mim  hgnc id         previous gene symbols  \\\n",
       "0  G2P00027       BRIP1    605882    20473              BACH1; FANCJ; OF   \n",
       "1  G2P00049         XPC    613208    12816                    RAD4; XPCC   \n",
       "2  G2P00165       NOP10    606471    14378       MGC70651; NOLA3; NOP10P   \n",
       "3  G2P00177        DDB2    600811     2718  DDBB; FLJ34321; UV-DDB2; XPE   \n",
       "4  G2P00181       ERCC3    133510     3435        BTF2; RAD25; SSL2; XPB   \n",
       "\n",
       "                                        disease name disease mim  \\\n",
       "0                       BRIP1-related Fanconi anemia      609054   \n",
       "1                  XPC-related xeroderma pigmentosum      278720   \n",
       "2               NOP10-related dyskeratosis congenita      224230   \n",
       "3  DDB2-related xeroderma pigmentosum, group E, d...      278740   \n",
       "4       ERCC3-related xeroderma pigmentosum, group B      610651   \n",
       "\n",
       "   disease MONDO  allelic requirement cross cutting modifier  confidence  \\\n",
       "0            NaN  biallelic_autosomal                    NaN  definitive   \n",
       "1            NaN  biallelic_autosomal                    NaN  definitive   \n",
       "2  MONDO:0009136  biallelic_autosomal                    NaN    moderate   \n",
       "3            NaN  biallelic_autosomal                    NaN  definitive   \n",
       "4            NaN  biallelic_autosomal                    NaN  definitive   \n",
       "\n",
       "                                 variant consequence  \\\n",
       "0                                absent gene product   \n",
       "1                                absent gene product   \n",
       "2  absent gene product; altered gene product stru...   \n",
       "3                                absent gene product   \n",
       "4                                absent gene product   \n",
       "\n",
       "                                       variant types molecular mechanism  \\\n",
       "0                                                NaN    loss of function   \n",
       "1                                                NaN    loss of function   \n",
       "2  missense_variant; inframe_deletion; inframe_in...        undetermined   \n",
       "3                                                NaN    loss of function   \n",
       "4                                                NaN    loss of function   \n",
       "\n",
       "  molecular mechanism categorisation molecular mechanism evidence  \\\n",
       "0                           inferred                          NaN   \n",
       "1                           inferred                          NaN   \n",
       "2                           inferred                          NaN   \n",
       "3                           inferred                          NaN   \n",
       "4                           inferred                          NaN   \n",
       "\n",
       "                                          phenotypes  \\\n",
       "0  HP:0003221; HP:0009778; HP:0001511; HP:0001263...   \n",
       "1  HP:0004334; HP:0012056; HP:0000491; HP:0002671...   \n",
       "2  HP:0009926; HP:0000691; HP:0002745; HP:0002206...   \n",
       "3  HP:0004334; HP:0000491; HP:0002671; HP:0000509...   \n",
       "4  HP:0004315; HP:0001480; HP:0002135; HP:0011400...   \n",
       "\n",
       "                                        publications             panel  \\\n",
       "0                                           16116424        DD; Cancer   \n",
       "1  8298653; 14662655; 11511294; 11121128; 9804340...  DD; Skin; Cancer   \n",
       "2                                           17507419        DD; Cancer   \n",
       "3                        8798680; 10469312; 12812979  DD; Skin; Cancer   \n",
       "4                         16947863; 8408834; 4811796  DD; Skin; Cancer   \n",
       "\n",
       "  comments        date of last review  \n",
       "0      NaN  2025-01-28 23:03:26+00:00  \n",
       "1      NaN  2017-09-01 16:19:16+00:00  \n",
       "2      NaN  2015-07-22 16:14:19+00:00  \n",
       "3      NaN  2017-09-01 16:19:15+00:00  \n",
       "4      NaN  2024-08-20 14:10:55+00:00  "
      ]
     },
     "execution_count": 19,
     "metadata": {},
     "output_type": "execute_result"
    }
   ],
   "source": [
    "cancer.head()"
   ]
  },
  {
   "cell_type": "code",
   "execution_count": 37,
   "id": "46ec176f",
   "metadata": {
    "ExecuteTime": {
     "end_time": "2025-03-14T19:11:52.119891Z",
     "start_time": "2025-03-14T19:11:52.113115Z"
    }
   },
   "outputs": [
    {
     "data": {
      "text/plain": [
       "124"
      ]
     },
     "execution_count": 37,
     "metadata": {},
     "output_type": "execute_result"
    }
   ],
   "source": [
    "cancer[\"disease name\"].nunique()"
   ]
  },
  {
   "cell_type": "code",
   "execution_count": 36,
   "id": "ed92489c",
   "metadata": {
    "ExecuteTime": {
     "end_time": "2025-03-14T19:11:48.261014Z",
     "start_time": "2025-03-14T19:11:48.249238Z"
    }
   },
   "outputs": [
    {
     "data": {
      "text/plain": [
       "64"
      ]
     },
     "execution_count": 36,
     "metadata": {},
     "output_type": "execute_result"
    },
    {
     "data": {
      "text/plain": [
       "array(['609054', '278720', '224230', '278740', '610651', '162200',\n",
       "       '158350', '615272', '133701', '162300', '613988', '133700',\n",
       "       '614038', '278780', '613987', '276300', '191100', '305000',\n",
       "       '208900', '613325', '175050', '278700', '109400', '610832',\n",
       "       '609053', '613254', nan, '614327', '174900', '137215', '601626',\n",
       "       '609265', '132700', '613244', '150800', '135150', '131100',\n",
       "       '605074', '101000', '614337', '160980', '180200', 'Orphanet:1332',\n",
       "       '171400', '148500', '601399', '601650', '606764', '606864',\n",
       "       '605373', '151623', '193300', '613013', '145001', '171300',\n",
       "       '162091', '614165', 'Orphanet:201', '616553', '613014', '175200',\n",
       "       '278750', '228550', '613989', '616353'], dtype=object)"
      ]
     },
     "execution_count": 36,
     "metadata": {},
     "output_type": "execute_result"
    }
   ],
   "source": [
    "cancer[\"disease mim\"].nunique()\n",
    "cancer[\"disease mim\"].unique()"
   ]
  },
  {
   "cell_type": "code",
   "execution_count": 39,
   "id": "73b17e65",
   "metadata": {
    "ExecuteTime": {
     "end_time": "2025-03-14T20:05:08.704590Z",
     "start_time": "2025-03-14T20:05:08.687441Z"
    },
    "scrolled": true
   },
   "outputs": [
    {
     "data": {
      "text/html": [
       "<div>\n",
       "<style scoped>\n",
       "    .dataframe tbody tr th:only-of-type {\n",
       "        vertical-align: middle;\n",
       "    }\n",
       "\n",
       "    .dataframe tbody tr th {\n",
       "        vertical-align: top;\n",
       "    }\n",
       "\n",
       "    .dataframe thead th {\n",
       "        text-align: right;\n",
       "    }\n",
       "</style>\n",
       "<table border=\"1\" class=\"dataframe\">\n",
       "  <thead>\n",
       "    <tr style=\"text-align: right;\">\n",
       "      <th></th>\n",
       "      <th>g2p id</th>\n",
       "      <th>gene symbol</th>\n",
       "      <th>gene mim</th>\n",
       "      <th>hgnc id</th>\n",
       "      <th>previous gene symbols</th>\n",
       "      <th>disease name</th>\n",
       "      <th>disease mim</th>\n",
       "      <th>disease MONDO</th>\n",
       "      <th>allelic requirement</th>\n",
       "      <th>cross cutting modifier</th>\n",
       "      <th>confidence</th>\n",
       "      <th>variant consequence</th>\n",
       "      <th>variant types</th>\n",
       "      <th>molecular mechanism</th>\n",
       "      <th>molecular mechanism categorisation</th>\n",
       "      <th>molecular mechanism evidence</th>\n",
       "      <th>phenotypes</th>\n",
       "      <th>publications</th>\n",
       "      <th>panel</th>\n",
       "      <th>comments</th>\n",
       "      <th>date of last review</th>\n",
       "    </tr>\n",
       "  </thead>\n",
       "  <tbody>\n",
       "    <tr>\n",
       "      <th>85</th>\n",
       "      <td>G2P03354</td>\n",
       "      <td>SEC23B</td>\n",
       "      <td>610512</td>\n",
       "      <td>10702</td>\n",
       "      <td>CDA-II; CDAII; CDAN2; HEMPAS</td>\n",
       "      <td>SEC23B-related Cowden syndrome</td>\n",
       "      <td>Orphanet:201</td>\n",
       "      <td>NaN</td>\n",
       "      <td>monoallelic_autosomal</td>\n",
       "      <td>NaN</td>\n",
       "      <td>limited</td>\n",
       "      <td>uncertain</td>\n",
       "      <td>NaN</td>\n",
       "      <td>gain of function</td>\n",
       "      <td>inferred</td>\n",
       "      <td>NaN</td>\n",
       "      <td>HP:0012056; HP:0500009; HP:0012114; HP:0012846...</td>\n",
       "      <td>26522472</td>\n",
       "      <td>Cancer</td>\n",
       "      <td>NaN</td>\n",
       "      <td>2022-11-30 08:49:50+00:00</td>\n",
       "    </tr>\n",
       "  </tbody>\n",
       "</table>\n",
       "</div>"
      ],
      "text/plain": [
       "      g2p id gene symbol  gene mim  hgnc id         previous gene symbols  \\\n",
       "85  G2P03354      SEC23B    610512    10702  CDA-II; CDAII; CDAN2; HEMPAS   \n",
       "\n",
       "                      disease name   disease mim disease MONDO  \\\n",
       "85  SEC23B-related Cowden syndrome  Orphanet:201           NaN   \n",
       "\n",
       "      allelic requirement cross cutting modifier confidence  \\\n",
       "85  monoallelic_autosomal                    NaN    limited   \n",
       "\n",
       "   variant consequence variant types molecular mechanism  \\\n",
       "85           uncertain           NaN    gain of function   \n",
       "\n",
       "   molecular mechanism categorisation molecular mechanism evidence  \\\n",
       "85                           inferred                          NaN   \n",
       "\n",
       "                                           phenotypes publications   panel  \\\n",
       "85  HP:0012056; HP:0500009; HP:0012114; HP:0012846...     26522472  Cancer   \n",
       "\n",
       "   comments        date of last review  \n",
       "85      NaN  2022-11-30 08:49:50+00:00  "
      ]
     },
     "execution_count": 39,
     "metadata": {},
     "output_type": "execute_result"
    }
   ],
   "source": [
    "cancer[cancer[\"disease mim\"] == \"Orphanet:201\"]"
   ]
  },
  {
   "cell_type": "markdown",
   "id": "f0323f99",
   "metadata": {},
   "source": [
    "### Organizing data into documents/individual association objects:\n",
    "\n",
    "NOW ON:\n",
    "* \"disease mim\" -> OMG sometimes there's orphanet stuff mixed in?? Checked both IDs already. These are correct mappings...just not always omim o_0 \n",
    "\n",
    "\n",
    "\n",
    "Gene subject section:\n",
    "* \"gene symbol\": str, \"HGNC-assigned gene symbol\" => hgnc_gene_symbol \n",
    "  * optional check for ;-delimiter, raise error if there is one?\n",
    "* \"gene mim\": OMIM ID for gene. NodeNorm does recognize these => gene_omim_id. Turn into str\n",
    "  * optional check if loaded as int (means format is correct): if not, raise error and report unique values so we can see what's going on\n",
    "* \"hgnc id\" => turn into str\n",
    "  * optional check: same as \"gene mim\" \n",
    "* \"previous gene symbols\": looks like \"; \"-delimited. => turn into array of str. Probably \";\"-split and then strip whitespace. \n",
    "  * CHECK for NA, don't build field\n",
    "\n",
    "\n",
    "Association section:\n",
    "* \"g2p id\": str, resource's unique stable ID for each record/row => g2p_record_id\n",
    "  * USE TO GENERATE NEW FIELD: resource webpage url for record/association. Like https://www.ebi.ac.uk/gene2phenotype/lgd/G2P03386. => probably best method: create new column. Then when iterating by row, simple assignment to g2p_record_url\n",
    "    * this may be brittle/work to maintain, but I know UI really wants stuff like this -> create new column to generate these urls\n",
    "  \n",
    "Disease object section:\n",
    "* \"disease name\"\n",
    "* \"disease mim\": OMIM ID for disease. But there are some Orphanet IDs mixed in => disease_omim_id, disease_orphanet_id\n",
    "  * CHECK if loaded as int (format/all omim IDs): if not, raise warning and report unique values so we can see what's going on\n",
    "  * \n",
    "\n",
    "Don't use:"
   ]
  },
  {
   "cell_type": "code",
   "execution_count": null,
   "id": "4638823f",
   "metadata": {},
   "outputs": [],
   "source": []
  },
  {
   "cell_type": "markdown",
   "id": "d1d3577d",
   "metadata": {},
   "source": [
    "General Ideas:\n",
    "* each row = unique gene-disease-allelic requirement combo => turn into 1 association object\n",
    "  * \"G2P records are Locus-Genotype-Mechanism-Disease-Evidence (LGMDE) threads describing gene-disease associations\" -> this is what a unique row is from resource POV (ref: homepage table \"Total LGMDE Records\" info (i) button)\n",
    "* sometimes disease doesn't have any IDs for it => still make document/object but won't use in Translator unless it has ID\n",
    "\n",
    "  \n",
    "* if I loaded all data into 1 dataframe, there will be duplicate rows because the gene-disease pair is in several panels (aka disease falls into multiple categories). See how panel is a comma-delimited string => drop duplicates will be needed (but be careful to include all fields that matter for unique row)"
   ]
  },
  {
   "cell_type": "markdown",
   "id": "9613e19d",
   "metadata": {},
   "source": [
    "## BioThings Parser requirements"
   ]
  },
  {
   "cell_type": "markdown",
   "id": "f80e7828",
   "metadata": {},
   "source": [
    "* parser feeds into upload step -> function should be generator to iterate through all stuff\" -> for each, yield the document/object as json\n",
    "\n",
    "\n",
    "* output needs to be json dump (object -> `_id` key (should , then value is the document) "
   ]
  },
  {
   "cell_type": "code",
   "execution_count": null,
   "id": "3d345b23",
   "metadata": {},
   "outputs": [],
   "source": []
  }
 ],
 "metadata": {
  "kernelspec": {
   "display_name": "Python 3 (ipykernel)",
   "language": "python",
   "name": "python3"
  },
  "language_info": {
   "codemirror_mode": {
    "name": "ipython",
    "version": 3
   },
   "file_extension": ".py",
   "mimetype": "text/x-python",
   "name": "python",
   "nbconvert_exporter": "python",
   "pygments_lexer": "ipython3",
   "version": "3.11.4"
  },
  "toc": {
   "base_numbering": 1,
   "nav_menu": {},
   "number_sections": false,
   "sideBar": true,
   "skip_h1_title": true,
   "title_cell": "Table of Contents",
   "title_sidebar": "Contents",
   "toc_cell": false,
   "toc_position": {
    "height": "calc(100% - 180px)",
    "left": "10px",
    "top": "150px",
    "width": "220.5px"
   },
   "toc_section_display": true,
   "toc_window_display": false
  }
 },
 "nbformat": 4,
 "nbformat_minor": 5
}
