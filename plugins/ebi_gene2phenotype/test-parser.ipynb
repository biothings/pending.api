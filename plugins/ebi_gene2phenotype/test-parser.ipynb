{
 "cells": [
  {
   "cell_type": "code",
   "execution_count": 1,
   "id": "97b21653",
   "metadata": {
    "ExecuteTime": {
     "end_time": "2025-04-09T07:54:33.586536Z",
     "start_time": "2025-04-09T07:54:33.010030Z"
    }
   },
   "outputs": [],
   "source": [
    "## CX: allows multiple lines of code to print from one code block\n",
    "from IPython.core.interactiveshell import InteractiveShell\n",
    "InteractiveShell.ast_node_interactivity = \"all\"\n",
    "\n",
    "import pathlib\n",
    "import parser\n",
    "from pprint import pprint"
   ]
  },
  {
   "cell_type": "code",
   "execution_count": 2,
   "id": "3450104a",
   "metadata": {
    "ExecuteTime": {
     "end_time": "2025-04-09T07:54:52.978634Z",
     "start_time": "2025-04-09T07:54:34.522376Z"
    }
   },
   "outputs": [
    {
     "name": "stdout",
     "output_type": "stream",
     "text": [
      "hgnc_id NodeNorm mapping failures:\n",
      "0 row(s) for 0 IDs with no data in NodeNorm\n",
      "0 row(s) for 0 IDs with the wrong NodeNormed category (not biolink:Gene)\n",
      "0 row(s) for 0 IDs with no label in NodeNorm\n",
      "\n",
      "\n",
      "disease_mim NodeNorm mapping failures:\n",
      "41 row(s) for 39 IDs with no data in NodeNorm\n",
      "27 row(s) for 26 IDs with the wrong NodeNormed category (not biolink:Disease)\n",
      "3 row(s) for 3 IDs with no label in NodeNorm\n",
      "\n",
      "\n",
      "3647 rows/records before NodeNorming\n",
      "1148 rows removed during NodeNorming process. Reasons: NA values in hgnc_id or disease_mim columns, NodeNorm mapping failures\n",
      "2499 rows after NodeNorming (68.5%)\n",
      "\n"
     ]
    }
   ],
   "source": [
    "base_file_path = pathlib.Path.home().joinpath(\"Desktop\", \"EBIgene2pheno_files\", \n",
    "                                              \"From_FTP\", \"2025-02-28\")\n",
    "\n",
    "parser_made_docs = list(parser.upload_documents(base_file_path))"
   ]
  },
  {
   "cell_type": "code",
   "execution_count": 3,
   "id": "c4f3df13",
   "metadata": {
    "ExecuteTime": {
     "end_time": "2025-04-09T07:56:28.902173Z",
     "start_time": "2025-04-09T07:56:28.895283Z"
    }
   },
   "outputs": [
    {
     "data": {
      "text/plain": [
       "2499"
      ]
     },
     "execution_count": 3,
     "metadata": {},
     "output_type": "execute_result"
    }
   ],
   "source": [
    "## matches number of rows in parser-writing after drop_duplicates()\n",
    "len(parser_made_docs)"
   ]
  },
  {
   "cell_type": "code",
   "execution_count": 12,
   "id": "2879f913",
   "metadata": {
    "ExecuteTime": {
     "end_time": "2025-04-09T08:13:14.434134Z",
     "start_time": "2025-04-09T08:13:14.429110Z"
    }
   },
   "outputs": [
    {
     "name": "stdout",
     "output_type": "stream",
     "text": [
      "{'_id': 'G2P03677',\n",
      " 'association': {'allelic_requirement': 'biallelic_autosomal',\n",
      "                 'confidence': 'limited',\n",
      "                 'date_of_last_review': '2025-01-09 15:40:41+00:00',\n",
      "                 'g2p_panels': ['Skin disorders'],\n",
      "                 'g2p_record_id': 'G2P03677',\n",
      "                 'g2p_record_url': 'https://www.ebi.ac.uk/gene2phenotype/lgd/G2P03677',\n",
      "                 'molecular_mechanism': 'undetermined',\n",
      "                 'molecular_mechanism_categorisation': 'inferred',\n",
      "                 'phenotypes': ['HP:0000982',\n",
      "                                'HP:0000653',\n",
      "                                'HP:0045075',\n",
      "                                'HP:0001820',\n",
      "                                'HP:0002224',\n",
      "                                'HP:0000007',\n",
      "                                'HP:0040149',\n",
      "                                'HP:0002209',\n",
      "                                'HP:0002231'],\n",
      "                 'pmids': ['24671081'],\n",
      "                 'variant_consequences': ['altered gene product structure']},\n",
      " 'object': {'id': 'MONDO:0014492',\n",
      "            'label': 'wooly hair-palmoplantar keratoderma syndrome',\n",
      "            'original_data': {'mondo': 'MONDO:0014492',\n",
      "                              'name': 'KANK2-related palmoplantar keratoderma '\n",
      "                                      'and woolly hair',\n",
      "                              'omim': 'OMIM:616099'},\n",
      "            'original_object': 'OMIM:616099',\n",
      "            'type': 'Disease'},\n",
      " 'subject': {'id': 'NCBIGene:25959',\n",
      "             'label': 'KANK2',\n",
      "             'original_data': {'hgnc': 'HGNC:29300',\n",
      "                               'hgnc_symbol': 'KANK2',\n",
      "                               'omim': 'OMIM:614610',\n",
      "                               'previous_gene_symbols': ['ANKRD25',\n",
      "                                                         'KIAA1518',\n",
      "                                                         'MXRA3',\n",
      "                                                         'SIP']},\n",
      "             'original_subject': 'HGNC:29300',\n",
      "             'type': 'Gene'}}\n"
     ]
    }
   ],
   "source": [
    "pprint(parser_made_docs[2173])\n",
    "\n",
    "# parser_made_docs[416]"
   ]
  },
  {
   "cell_type": "code",
   "execution_count": 4,
   "id": "e0ec4b5e",
   "metadata": {
    "ExecuteTime": {
     "end_time": "2025-04-09T07:56:42.907354Z",
     "start_time": "2025-04-09T07:56:42.903985Z"
    }
   },
   "outputs": [],
   "source": [
    "def tally_field_existing(top_level_field, internal_field):\n",
    "    tally = 0\n",
    "    for i in parser_made_docs:\n",
    "        if i[top_level_field].get(internal_field):\n",
    "            tally += 1\n",
    "    return tally"
   ]
  },
  {
   "cell_type": "code",
   "execution_count": 9,
   "id": "dfda1594",
   "metadata": {
    "ExecuteTime": {
     "end_time": "2025-04-09T08:01:47.687017Z",
     "start_time": "2025-04-09T08:01:47.676510Z"
    }
   },
   "outputs": [
    {
     "data": {
      "text/plain": [
       "2499"
      ]
     },
     "execution_count": 9,
     "metadata": {},
     "output_type": "execute_result"
    },
    {
     "data": {
      "text/plain": [
       "2499"
      ]
     },
     "execution_count": 9,
     "metadata": {},
     "output_type": "execute_result"
    },
    {
     "data": {
      "text/plain": [
       "2499"
      ]
     },
     "execution_count": 9,
     "metadata": {},
     "output_type": "execute_result"
    }
   ],
   "source": [
    "## matches counts from parser-writing df.info() after drop_duplicates\n",
    "\n",
    "tally_field_existing(\"subject\", \"id\")\n",
    "tally_field_existing(\"subject\", \"label\")\n",
    "tally_field_existing(\"subject\", \"original_data\")"
   ]
  },
  {
   "cell_type": "code",
   "execution_count": null,
   "id": "72bb2f71",
   "metadata": {
    "ExecuteTime": {
     "end_time": "2025-03-26T20:34:40.202239Z",
     "start_time": "2025-03-26T20:34:40.179537Z"
    }
   },
   "outputs": [],
   "source": [
    "## matches counts from parser-writing df.info() after drop_duplicates\n",
    "\n",
    "tally_field_existing(\"association\", \"g2p_record_id\")\n",
    "\n",
    "tally_field_existing(\"association\", \"cross_cutting_modifiers\")\n",
    "tally_field_existing(\"association\", \"variant_consequences\")\n",
    "tally_field_existing(\"association\", \"variant_types\")\n",
    "tally_field_existing(\"association\", \"molecular_mechanism_evidence\")\n",
    "tally_field_existing(\"association\", \"phenotypes\")\n",
    "tally_field_existing(\"association\", \"pmids\")\n",
    "tally_field_existing(\"association\", \"curator_comments\")"
   ]
  },
  {
   "cell_type": "code",
   "execution_count": null,
   "id": "cbf02631",
   "metadata": {},
   "outputs": [],
   "source": []
  }
 ],
 "metadata": {
  "kernelspec": {
   "display_name": "Python 3 (ipykernel)",
   "language": "python",
   "name": "python3"
  },
  "language_info": {
   "codemirror_mode": {
    "name": "ipython",
    "version": 3
   },
   "file_extension": ".py",
   "mimetype": "text/x-python",
   "name": "python",
   "nbconvert_exporter": "python",
   "pygments_lexer": "ipython3",
   "version": "3.11.4"
  },
  "toc": {
   "base_numbering": 1,
   "nav_menu": {},
   "number_sections": true,
   "sideBar": true,
   "skip_h1_title": false,
   "title_cell": "Table of Contents",
   "title_sidebar": "Contents",
   "toc_cell": false,
   "toc_position": {},
   "toc_section_display": true,
   "toc_window_display": false
  }
 },
 "nbformat": 4,
 "nbformat_minor": 5
}
