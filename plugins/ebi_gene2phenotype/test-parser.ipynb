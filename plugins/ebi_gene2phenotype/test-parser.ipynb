{
 "cells": [
  {
   "cell_type": "code",
   "execution_count": 1,
   "id": "97b21653",
   "metadata": {
    "ExecuteTime": {
     "end_time": "2025-04-18T07:00:16.345475Z",
     "start_time": "2025-04-18T07:00:15.787498Z"
    }
   },
   "outputs": [],
   "source": [
    "## CX: allows multiple lines of code to print from one code block\n",
    "from IPython.core.interactiveshell import InteractiveShell\n",
    "InteractiveShell.ast_node_interactivity = \"all\"\n",
    "\n",
    "import pathlib\n",
    "import parser\n",
    "from pprint import pprint"
   ]
  },
  {
   "cell_type": "code",
   "execution_count": 2,
   "id": "3450104a",
   "metadata": {
    "ExecuteTime": {
     "end_time": "2025-04-18T07:00:29.876542Z",
     "start_time": "2025-04-18T07:00:17.430732Z"
    }
   },
   "outputs": [
    {
     "name": "stdout",
     "output_type": "stream",
     "text": [
      "3659 unique rows/records in original dataset\n",
      "\n",
      "Removing rows based on confidence:\n",
      "1: 'refuted'\n",
      "0: 'disputed'\n",
      "\n",
      "3658 rows afterwards\n",
      "\n",
      "hgnc_id NodeNorm mapping failures:\n",
      "0 row(s) for 0 IDs with no data in NodeNorm\n",
      "0 row(s) for 0 IDs with the wrong NodeNormed category (not biolink:Gene)\n",
      "0 row(s) for 0 IDs with no label in NodeNorm\n",
      "\n",
      "disease_mim NodeNorm mapping failures:\n",
      "41 row(s) for 39 IDs with no data in NodeNorm\n",
      "27 row(s) for 26 IDs with the wrong NodeNormed category (not biolink:Disease)\n",
      "3 row(s) for 3 IDs with no label in NodeNorm\n",
      "\n",
      "1158 rows removed during NodeNorming process. Reasons: NA values in hgnc_id or disease_mim columns, NodeNorm mapping failures\n",
      "2500 rows after NodeNorming (68.3%)\n",
      "\n"
     ]
    }
   ],
   "source": [
    "base_file_path = pathlib.Path.home().joinpath(\"Desktop\", \"EBIgene2pheno_files\", \n",
    "                                              \"From_FTP\", \"2025-03-28\")\n",
    "\n",
    "parser_made_docs = list(parser.upload_documents(base_file_path))"
   ]
  },
  {
   "cell_type": "code",
   "execution_count": 3,
   "id": "c4f3df13",
   "metadata": {
    "ExecuteTime": {
     "end_time": "2025-04-09T07:56:28.902173Z",
     "start_time": "2025-04-09T07:56:28.895283Z"
    }
   },
   "outputs": [
    {
     "data": {
      "text/plain": [
       "2499"
      ]
     },
     "execution_count": 3,
     "metadata": {},
     "output_type": "execute_result"
    }
   ],
   "source": [
    "## matches number of rows in parser-writing after drop_duplicates()\n",
    "len(parser_made_docs)"
   ]
  },
  {
   "cell_type": "code",
   "execution_count": 11,
   "id": "2879f913",
   "metadata": {
    "ExecuteTime": {
     "end_time": "2025-04-18T07:09:35.401378Z",
     "start_time": "2025-04-18T07:09:35.396969Z"
    }
   },
   "outputs": [
    {
     "name": "stdout",
     "output_type": "stream",
     "text": [
      "{'_id': 'G2P00030',\n",
      " 'attributes': [{'attribute_type_id': 'biolink:knowledge_level',\n",
      "                 'value': 'knowledge_assertion'},\n",
      "                {'attribute_type_id': 'biolink:agent_type',\n",
      "                 'value': 'manual_agent'},\n",
      "                {'attribute_type_id': 'biolink:original_subject',\n",
      "                 'original_attribute_name': 'hgnc id',\n",
      "                 'value': 'HGNC:1356'},\n",
      "                {'attribute_type_id': 'biolink:original_object',\n",
      "                 'original_attribute_name': 'disease mim',\n",
      "                 'value': 'OMIM:611225'},\n",
      "                {'attribute_type_id': 'biolink:update_date',\n",
      "                 'original_attribute_name': 'date of last review',\n",
      "                 'value': '2025-01-16 13:37:48+00:00'},\n",
      "                {'attribute_type_id': 'biolink:publications',\n",
      "                 'value': ['PMID:21937992']}],\n",
      " 'object': 'MONDO:0012639',\n",
      " 'predicate': 'biolink:related_to',\n",
      " 'qualifiers': [{'qualifier_type_id': 'biolink:subject_form_or_variant_qualifier',\n",
      "                 'qualifier_value': 'genetic_variant_form'}],\n",
      " 'sources': [{'resource_id': 'infores:ebi-gene2phenotype',\n",
      "              'resource_role': 'primary_knowledge_source',\n",
      "              'source_record_urls': ['https://www.ebi.ac.uk/gene2phenotype/lgd/G2P00030']}],\n",
      " 'subject': 'NCBIGene:11160'}\n"
     ]
    }
   ],
   "source": [
    "pprint(parser_made_docs[26])\n",
    "\n",
    "# parser_made_docs[416]"
   ]
  },
  {
   "cell_type": "markdown",
   "id": "6d10bc24",
   "metadata": {},
   "source": [
    "### Old code"
   ]
  },
  {
   "cell_type": "code",
   "execution_count": 4,
   "id": "e0ec4b5e",
   "metadata": {
    "ExecuteTime": {
     "end_time": "2025-04-09T23:56:27.410825Z",
     "start_time": "2025-04-09T23:56:27.407459Z"
    }
   },
   "outputs": [],
   "source": [
    "def tally_field_existing(top_level_field, internal_field):\n",
    "    tally = 0\n",
    "    for i in parser_made_docs:\n",
    "        if i[top_level_field].get(internal_field):\n",
    "            tally += 1\n",
    "    return tally"
   ]
  },
  {
   "cell_type": "code",
   "execution_count": 5,
   "id": "dfda1594",
   "metadata": {
    "ExecuteTime": {
     "end_time": "2025-04-09T23:56:27.959685Z",
     "start_time": "2025-04-09T23:56:27.947354Z"
    }
   },
   "outputs": [
    {
     "data": {
      "text/plain": [
       "2501"
      ]
     },
     "execution_count": 5,
     "metadata": {},
     "output_type": "execute_result"
    },
    {
     "data": {
      "text/plain": [
       "2501"
      ]
     },
     "execution_count": 5,
     "metadata": {},
     "output_type": "execute_result"
    },
    {
     "data": {
      "text/plain": [
       "2501"
      ]
     },
     "execution_count": 5,
     "metadata": {},
     "output_type": "execute_result"
    }
   ],
   "source": [
    "## matches counts from parser-writing df.info() after drop_duplicates\n",
    "\n",
    "tally_field_existing(\"subject\", \"id\")\n",
    "tally_field_existing(\"subject\", \"label\")\n",
    "tally_field_existing(\"subject\", \"original_data\")"
   ]
  },
  {
   "cell_type": "code",
   "execution_count": 6,
   "id": "72bb2f71",
   "metadata": {
    "ExecuteTime": {
     "end_time": "2025-04-09T23:56:32.874425Z",
     "start_time": "2025-04-09T23:56:32.853244Z"
    }
   },
   "outputs": [
    {
     "data": {
      "text/plain": [
       "2501"
      ]
     },
     "execution_count": 6,
     "metadata": {},
     "output_type": "execute_result"
    },
    {
     "data": {
      "text/plain": [
       "284"
      ]
     },
     "execution_count": 6,
     "metadata": {},
     "output_type": "execute_result"
    },
    {
     "data": {
      "text/plain": [
       "2487"
      ]
     },
     "execution_count": 6,
     "metadata": {},
     "output_type": "execute_result"
    },
    {
     "data": {
      "text/plain": [
       "548"
      ]
     },
     "execution_count": 6,
     "metadata": {},
     "output_type": "execute_result"
    },
    {
     "data": {
      "text/plain": [
       "21"
      ]
     },
     "execution_count": 6,
     "metadata": {},
     "output_type": "execute_result"
    },
    {
     "data": {
      "text/plain": [
       "1908"
      ]
     },
     "execution_count": 6,
     "metadata": {},
     "output_type": "execute_result"
    },
    {
     "data": {
      "text/plain": [
       "2249"
      ]
     },
     "execution_count": 6,
     "metadata": {},
     "output_type": "execute_result"
    },
    {
     "data": {
      "text/plain": [
       "16"
      ]
     },
     "execution_count": 6,
     "metadata": {},
     "output_type": "execute_result"
    }
   ],
   "source": [
    "## matches counts from parser-writing df.info() after drop_duplicates\n",
    "\n",
    "tally_field_existing(\"association\", \"g2p_record_id\")\n",
    "\n",
    "tally_field_existing(\"association\", \"cross_cutting_modifiers\")\n",
    "tally_field_existing(\"association\", \"variant_consequences\")\n",
    "tally_field_existing(\"association\", \"variant_types\")\n",
    "tally_field_existing(\"association\", \"molecular_mechanism_evidence\")\n",
    "tally_field_existing(\"association\", \"phenotypes\")\n",
    "tally_field_existing(\"association\", \"pmids\")\n",
    "tally_field_existing(\"association\", \"curator_comments\")"
   ]
  },
  {
   "cell_type": "code",
   "execution_count": null,
   "id": "cbf02631",
   "metadata": {},
   "outputs": [],
   "source": []
  }
 ],
 "metadata": {
  "kernelspec": {
   "display_name": "Python 3 (ipykernel)",
   "language": "python",
   "name": "python3"
  },
  "language_info": {
   "codemirror_mode": {
    "name": "ipython",
    "version": 3
   },
   "file_extension": ".py",
   "mimetype": "text/x-python",
   "name": "python",
   "nbconvert_exporter": "python",
   "pygments_lexer": "ipython3",
   "version": "3.12.9"
  },
  "toc": {
   "base_numbering": 1,
   "nav_menu": {},
   "number_sections": false,
   "sideBar": true,
   "skip_h1_title": false,
   "title_cell": "Table of Contents",
   "title_sidebar": "Contents",
   "toc_cell": false,
   "toc_position": {
    "height": "calc(100% - 180px)",
    "left": "10px",
    "top": "150px",
    "width": "208.533px"
   },
   "toc_section_display": true,
   "toc_window_display": false
  }
 },
 "nbformat": 4,
 "nbformat_minor": 5
}
