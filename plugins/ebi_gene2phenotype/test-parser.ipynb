{
 "cells": [
  {
   "cell_type": "code",
   "execution_count": 1,
   "id": "97b21653",
   "metadata": {
    "ExecuteTime": {
     "end_time": "2025-03-31T20:26:23.884282Z",
     "start_time": "2025-03-31T20:26:23.334162Z"
    }
   },
   "outputs": [],
   "source": [
    "## CX: allows multiple lines of code to print from one code block\n",
    "from IPython.core.interactiveshell import InteractiveShell\n",
    "InteractiveShell.ast_node_interactivity = \"all\"\n",
    "\n",
    "import pathlib\n",
    "import parser\n",
    "from pprint import pprint"
   ]
  },
  {
   "cell_type": "code",
   "execution_count": 2,
   "id": "3450104a",
   "metadata": {
    "ExecuteTime": {
     "end_time": "2025-03-31T20:26:38.728972Z",
     "start_time": "2025-03-31T20:26:25.540032Z"
    }
   },
   "outputs": [
    {
     "name": "stdout",
     "output_type": "stream",
     "text": [
      "OMIM:601884: NodeNorm didn't recognize this ID\n",
      "OMIM:133700: NodeNorm didn't recognize this ID\n",
      "OMIM:249163: NodeNorm didn't recognize this ID\n",
      "OMIM:300153: NodeNorm found different category biolink:Gene. Not keeping this mapping.\n",
      "OMIM:300171: NodeNorm found different category biolink:Gene. Not keeping this mapping.\n",
      "OMIM:319029: NodeNorm didn't recognize this ID\n",
      "OMIM:613180: NodeNorm didn't recognize this ID\n",
      "OMIM:188400: NodeNorm found different category biolink:Gene. Not keeping this mapping.\n",
      "OMIM:300706: NodeNorm didn't recognize this ID\n",
      "OMIM:611579: NodeNorm found different category biolink:Gene. Not keeping this mapping.\n",
      "OMIM:237145: NodeNorm didn't recognize this ID\n",
      "OMIM:300141: NodeNorm didn't recognize this ID\n",
      "OMIM:319490: NodeNorm didn't recognize this ID\n",
      "OMIM:603707: NodeNorm found different category biolink:Gene. Not keeping this mapping.\n",
      "OMIM:601789: NodeNorm found different category biolink:Gene. Not keeping this mapping.\n",
      "OMIM:300630: NodeNorm didn't recognize this ID\n",
      "OMIM:603360: NodeNorm found different category biolink:Gene. Not keeping this mapping.\n",
      "OMIM:319494: NodeNorm didn't recognize this ID\n",
      "OMIM:612652: NodeNorm didn't recognize this ID\n",
      "OMIM:614192: NodeNorm didn't recognize this ID\n",
      "OMIM:609413: NodeNorm found different category biolink:Gene. Not keeping this mapping.\n",
      "OMIM:276069: NodeNorm didn't recognize this ID\n",
      "OMIM:316970: NodeNorm didn't recognize this ID\n",
      "OMIM:311150: NodeNorm didn't recognize this ID\n",
      "OMIM:300197: NodeNorm found different category biolink:Gene. Not keeping this mapping.\n",
      "OMIM:614157: NodeNorm didn't recognize this ID\n",
      "OMIM:603164: NodeNorm found different category biolink:Gene. Not keeping this mapping.\n",
      "OMIM:123580: NodeNorm found different category biolink:Gene. Not keeping this mapping.\n",
      "OMIM:237124: NodeNorm didn't recognize this ID\n",
      "OMIM:239588: NodeNorm didn't recognize this ID\n",
      "OMIM:601758: NodeNorm found different category biolink:Gene. Not keeping this mapping.\n",
      "OMIM:601498: NodeNorm found different category biolink:Gene. Not keeping this mapping.\n",
      "OMIM:300129: NodeNorm didn't find primary label. Not keeping this mapping.\n",
      "OMIM:69432: NodeNorm didn't recognize this ID\n",
      "OMIM:603513: NodeNorm didn't recognize this ID\n",
      "OMIM:601791: NodeNorm found different category biolink:Gene. Not keeping this mapping.\n",
      "OMIM:615057: NodeNorm didn't recognize this ID\n",
      "OMIM:170993: NodeNorm found different category biolink:Gene. Not keeping this mapping.\n",
      "OMIM:237128: NodeNorm didn't recognize this ID\n",
      "OMIM:601893: NodeNorm found different category biolink:Gene. Not keeping this mapping.\n",
      "OMIM:300220: NodeNorm didn't recognize this ID\n",
      "OMIM:237149: NodeNorm didn't recognize this ID\n",
      "OMIM:610426: NodeNorm didn't recognize this ID\n",
      "OMIM:606525: NodeNorm found different category biolink:Gene. Not keeping this mapping.\n",
      "OMIM:319493: NodeNorm didn't recognize this ID\n",
      "OMIM:116150: NodeNorm didn't recognize this ID\n",
      "OMIM:610765: NodeNorm didn't recognize this ID\n",
      "OMIM:602859: NodeNorm found different category biolink:Gene. Not keeping this mapping.\n",
      "OMIM:612082: NodeNorm found different category biolink:Gene. Not keeping this mapping.\n",
      "OMIM:601757: NodeNorm found different category biolink:Gene. Not keeping this mapping.\n",
      "OMIM:611277: NodeNorm didn't recognize this ID\n",
      "OMIM:258276: NodeNorm didn't recognize this ID\n",
      "OMIM:205306: NodeNorm didn't recognize this ID\n",
      "OMIM:285648: NodeNorm didn't recognize this ID\n",
      "OMIM:308078: NodeNorm didn't recognize this ID\n",
      "OMIM:300204: NodeNorm found different category biolink:Gene. Not keeping this mapping.\n",
      "OMIM:600112: NodeNorm found different category biolink:Gene. Not keeping this mapping.\n",
      "OMIM:104155: NodeNorm found different category biolink:Gene. Not keeping this mapping.\n",
      "OMIM:618615: NodeNorm found different category biolink:Gene. Not keeping this mapping.\n",
      "OMIM:614281: NodeNorm found different category biolink:Gene. Not keeping this mapping.\n",
      "OMIM:620987: NodeNorm didn't find primary label. Not keeping this mapping.\n",
      "OMIM:620964: NodeNorm didn't find primary label. Not keeping this mapping.\n",
      "OMIM:621034: NodeNorm didn't recognize this ID\n",
      "OMIM:150800: NodeNorm didn't recognize this ID\n",
      "OMIM:319158: NodeNorm didn't recognize this ID\n",
      "OMIM:608890: NodeNorm didn't recognize this ID\n",
      "OMIM:603718: NodeNorm found different category biolink:Gene. Not keeping this mapping.\n",
      "OMIM:607236: NodeNorm didn't recognize this ID\n"
     ]
    }
   ],
   "source": [
    "base_file_path = pathlib.Path.home().joinpath(\"Desktop\", \"EBIgene2pheno_files\", \"From_FTP\")\n",
    "\n",
    "parser_made_docs = list(parser.upload_documents(base_file_path))"
   ]
  },
  {
   "cell_type": "code",
   "execution_count": 3,
   "id": "c4f3df13",
   "metadata": {
    "ExecuteTime": {
     "end_time": "2025-03-31T20:26:42.836547Z",
     "start_time": "2025-03-31T20:26:42.830142Z"
    }
   },
   "outputs": [
    {
     "data": {
      "text/plain": [
       "3647"
      ]
     },
     "execution_count": 3,
     "metadata": {},
     "output_type": "execute_result"
    }
   ],
   "source": [
    "## matches number of rows in parser-writing after drop_duplicates()\n",
    "len(parser_made_docs)"
   ]
  },
  {
   "cell_type": "code",
   "execution_count": 4,
   "id": "e0ec4b5e",
   "metadata": {
    "ExecuteTime": {
     "end_time": "2025-03-26T20:34:34.107407Z",
     "start_time": "2025-03-26T20:34:34.104050Z"
    }
   },
   "outputs": [],
   "source": [
    "def tally_field_existing(top_level_field, internal_field):\n",
    "    tally = 0\n",
    "    for i in parser_made_docs:\n",
    "        if i[top_level_field].get(internal_field):\n",
    "            tally += 1\n",
    "    return tally"
   ]
  },
  {
   "cell_type": "code",
   "execution_count": 5,
   "id": "0b69ac4a",
   "metadata": {
    "ExecuteTime": {
     "end_time": "2025-03-26T20:34:34.787912Z",
     "start_time": "2025-03-26T20:34:34.777440Z"
    }
   },
   "outputs": [
    {
     "data": {
      "text/plain": [
       "3647"
      ]
     },
     "execution_count": 5,
     "metadata": {},
     "output_type": "execute_result"
    },
    {
     "data": {
      "text/plain": [
       "3645"
      ]
     },
     "execution_count": 5,
     "metadata": {},
     "output_type": "execute_result"
    },
    {
     "data": {
      "text/plain": [
       "3277"
      ]
     },
     "execution_count": 5,
     "metadata": {},
     "output_type": "execute_result"
    }
   ],
   "source": [
    "## matches counts from parser-writing df.info() after drop_duplicates\n",
    "\n",
    "tally_field_existing(\"subject\", \"hgnc_symbol\")\n",
    "tally_field_existing(\"subject\", \"omim\")\n",
    "tally_field_existing(\"subject\", \"previous_gene_symbols\")"
   ]
  },
  {
   "cell_type": "code",
   "execution_count": 6,
   "id": "16dc2f6b",
   "metadata": {
    "ExecuteTime": {
     "end_time": "2025-03-26T20:34:37.436584Z",
     "start_time": "2025-03-26T20:34:37.427103Z"
    }
   },
   "outputs": [
    {
     "data": {
      "text/plain": [
       "2561"
      ]
     },
     "execution_count": 6,
     "metadata": {},
     "output_type": "execute_result"
    },
    {
     "data": {
      "text/plain": [
       "9"
      ]
     },
     "execution_count": 6,
     "metadata": {},
     "output_type": "execute_result"
    },
    {
     "data": {
      "text/plain": [
       "561"
      ]
     },
     "execution_count": 6,
     "metadata": {},
     "output_type": "execute_result"
    }
   ],
   "source": [
    "## matches counts from parser-writing df.info() after drop_duplicates\n",
    "\n",
    "tally_field_existing(\"object\", \"omim\")\n",
    "tally_field_existing(\"object\", \"orphanet\")\n",
    "tally_field_existing(\"object\", \"mondo\")"
   ]
  },
  {
   "cell_type": "code",
   "execution_count": 7,
   "id": "72bb2f71",
   "metadata": {
    "ExecuteTime": {
     "end_time": "2025-03-26T20:34:40.202239Z",
     "start_time": "2025-03-26T20:34:40.179537Z"
    }
   },
   "outputs": [
    {
     "data": {
      "text/plain": [
       "3647"
      ]
     },
     "execution_count": 7,
     "metadata": {},
     "output_type": "execute_result"
    },
    {
     "data": {
      "text/plain": [
       "451"
      ]
     },
     "execution_count": 7,
     "metadata": {},
     "output_type": "execute_result"
    },
    {
     "data": {
      "text/plain": [
       "3629"
      ]
     },
     "execution_count": 7,
     "metadata": {},
     "output_type": "execute_result"
    },
    {
     "data": {
      "text/plain": [
       "997"
      ]
     },
     "execution_count": 7,
     "metadata": {},
     "output_type": "execute_result"
    },
    {
     "data": {
      "text/plain": [
       "28"
      ]
     },
     "execution_count": 7,
     "metadata": {},
     "output_type": "execute_result"
    },
    {
     "data": {
      "text/plain": [
       "2430"
      ]
     },
     "execution_count": 7,
     "metadata": {},
     "output_type": "execute_result"
    },
    {
     "data": {
      "text/plain": [
       "3301"
      ]
     },
     "execution_count": 7,
     "metadata": {},
     "output_type": "execute_result"
    },
    {
     "data": {
      "text/plain": [
       "103"
      ]
     },
     "execution_count": 7,
     "metadata": {},
     "output_type": "execute_result"
    }
   ],
   "source": [
    "## matches counts from parser-writing df.info() after drop_duplicates\n",
    "\n",
    "tally_field_existing(\"association\", \"g2p_record_id\")\n",
    "\n",
    "tally_field_existing(\"association\", \"cross_cutting_modifiers\")\n",
    "tally_field_existing(\"association\", \"variant_consequences\")\n",
    "tally_field_existing(\"association\", \"variant_types\")\n",
    "tally_field_existing(\"association\", \"molecular_mechanism_evidence\")\n",
    "tally_field_existing(\"association\", \"phenotypes\")\n",
    "tally_field_existing(\"association\", \"pmids\")\n",
    "tally_field_existing(\"association\", \"curator_comments\")"
   ]
  },
  {
   "cell_type": "code",
   "execution_count": 7,
   "id": "2879f913",
   "metadata": {
    "ExecuteTime": {
     "end_time": "2025-03-31T20:27:42.354018Z",
     "start_time": "2025-03-31T20:27:42.349963Z"
    }
   },
   "outputs": [
    {
     "name": "stdout",
     "output_type": "stream",
     "text": [
      "{'_id': 'G2P01302',\n",
      " 'association': {'allelic_requirement': 'biallelic_autosomal',\n",
      "                 'confidence': 'definitive',\n",
      "                 'date_of_last_review': '2015-07-22 16:15:20+00:00',\n",
      "                 'g2p_panels': ['Developmental disorders', 'Eye disorders'],\n",
      "                 'g2p_record_id': 'G2P01302',\n",
      "                 'g2p_record_url': 'https://www.ebi.ac.uk/gene2phenotype/lgd/G2P01302',\n",
      "                 'molecular_mechanism': 'loss of function',\n",
      "                 'molecular_mechanism_categorisation': 'inferred',\n",
      "                 'phenotypes': ['HP:0000007'],\n",
      "                 'pmids': ['21636066', '11519376', '26622071', '22935719'],\n",
      "                 'variant_consequences': ['absent gene product']},\n",
      " 'object': {'mondo': 'MONDO:0005129',\n",
      "            'name': 'FYCO1-related congenital cataract',\n",
      "            'nodenorm': {'primary_id': 'MONDO:0012395',\n",
      "                         'primary_label': 'cataract 18'},\n",
      "            'omim': 'OMIM:610019',\n",
      "            'type': 'Disease'},\n",
      " 'subject': {'hgnc': 'HGNC:14673',\n",
      "             'hgnc_symbol': 'FYCO1',\n",
      "             'nodenorm': {'primary_id': 'NCBIGene:79443',\n",
      "                          'primary_label': 'FYCO1'},\n",
      "             'omim': 'OMIM:607182',\n",
      "             'previous_gene_symbols': ['FLJ13335', 'ZFYVE7'],\n",
      "             'type': 'Gene'}}\n"
     ]
    }
   ],
   "source": [
    "pprint(parser_made_docs[1465])\n",
    "\n",
    "# parser_made_docs[416]"
   ]
  },
  {
   "cell_type": "code",
   "execution_count": null,
   "id": "cbf02631",
   "metadata": {},
   "outputs": [],
   "source": []
  }
 ],
 "metadata": {
  "kernelspec": {
   "display_name": "Python 3 (ipykernel)",
   "language": "python",
   "name": "python3"
  },
  "language_info": {
   "codemirror_mode": {
    "name": "ipython",
    "version": 3
   },
   "file_extension": ".py",
   "mimetype": "text/x-python",
   "name": "python",
   "nbconvert_exporter": "python",
   "pygments_lexer": "ipython3",
   "version": "3.11.4"
  },
  "toc": {
   "base_numbering": 1,
   "nav_menu": {},
   "number_sections": true,
   "sideBar": true,
   "skip_h1_title": false,
   "title_cell": "Table of Contents",
   "title_sidebar": "Contents",
   "toc_cell": false,
   "toc_position": {},
   "toc_section_display": true,
   "toc_window_display": false
  }
 },
 "nbformat": 4,
 "nbformat_minor": 5
}
