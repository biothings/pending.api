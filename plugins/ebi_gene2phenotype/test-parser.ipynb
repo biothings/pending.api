{
 "cells": [
  {
   "cell_type": "code",
   "execution_count": 1,
   "id": "97b21653",
   "metadata": {
    "ExecuteTime": {
     "end_time": "2025-03-26T20:34:32.033701Z",
     "start_time": "2025-03-26T20:34:31.493420Z"
    }
   },
   "outputs": [],
   "source": [
    "## CX: allows multiple lines of code to print from one code block\n",
    "from IPython.core.interactiveshell import InteractiveShell\n",
    "InteractiveShell.ast_node_interactivity = \"all\"\n",
    "\n",
    "import pathlib\n",
    "import parser\n",
    "from pprint import pprint"
   ]
  },
  {
   "cell_type": "code",
   "execution_count": 2,
   "id": "3450104a",
   "metadata": {
    "ExecuteTime": {
     "end_time": "2025-03-26T20:34:33.094358Z",
     "start_time": "2025-03-26T20:34:32.798553Z"
    }
   },
   "outputs": [],
   "source": [
    "base_file_path = pathlib.Path.home().joinpath(\"Desktop\", \"EBIgene2pheno_files\", \"From_FTP\")\n",
    "\n",
    "parser_made_docs = list(parser.upload_documents(base_file_path))"
   ]
  },
  {
   "cell_type": "code",
   "execution_count": 3,
   "id": "c4f3df13",
   "metadata": {
    "ExecuteTime": {
     "end_time": "2025-03-26T20:34:33.586219Z",
     "start_time": "2025-03-26T20:34:33.579825Z"
    }
   },
   "outputs": [
    {
     "data": {
      "text/plain": [
       "3647"
      ]
     },
     "execution_count": 3,
     "metadata": {},
     "output_type": "execute_result"
    }
   ],
   "source": [
    "## matches number of rows in parser-writing after drop_duplicates()\n",
    "len(parser_made_docs)"
   ]
  },
  {
   "cell_type": "code",
   "execution_count": 4,
   "id": "e0ec4b5e",
   "metadata": {
    "ExecuteTime": {
     "end_time": "2025-03-26T20:34:34.107407Z",
     "start_time": "2025-03-26T20:34:34.104050Z"
    }
   },
   "outputs": [],
   "source": [
    "def tally_field_existing(top_level_field, internal_field):\n",
    "    tally = 0\n",
    "    for i in parser_made_docs:\n",
    "        if i[top_level_field].get(internal_field):\n",
    "            tally += 1\n",
    "    return tally"
   ]
  },
  {
   "cell_type": "code",
   "execution_count": 5,
   "id": "0b69ac4a",
   "metadata": {
    "ExecuteTime": {
     "end_time": "2025-03-26T20:34:34.787912Z",
     "start_time": "2025-03-26T20:34:34.777440Z"
    }
   },
   "outputs": [
    {
     "data": {
      "text/plain": [
       "3647"
      ]
     },
     "execution_count": 5,
     "metadata": {},
     "output_type": "execute_result"
    },
    {
     "data": {
      "text/plain": [
       "3645"
      ]
     },
     "execution_count": 5,
     "metadata": {},
     "output_type": "execute_result"
    },
    {
     "data": {
      "text/plain": [
       "3277"
      ]
     },
     "execution_count": 5,
     "metadata": {},
     "output_type": "execute_result"
    }
   ],
   "source": [
    "## matches counts from parser-writing df.info() after drop_duplicates\n",
    "\n",
    "tally_field_existing(\"subject\", \"hgnc_symbol\")\n",
    "tally_field_existing(\"subject\", \"omim\")\n",
    "tally_field_existing(\"subject\", \"previous_gene_symbols\")"
   ]
  },
  {
   "cell_type": "code",
   "execution_count": 6,
   "id": "16dc2f6b",
   "metadata": {
    "ExecuteTime": {
     "end_time": "2025-03-26T20:34:37.436584Z",
     "start_time": "2025-03-26T20:34:37.427103Z"
    }
   },
   "outputs": [
    {
     "data": {
      "text/plain": [
       "2561"
      ]
     },
     "execution_count": 6,
     "metadata": {},
     "output_type": "execute_result"
    },
    {
     "data": {
      "text/plain": [
       "9"
      ]
     },
     "execution_count": 6,
     "metadata": {},
     "output_type": "execute_result"
    },
    {
     "data": {
      "text/plain": [
       "561"
      ]
     },
     "execution_count": 6,
     "metadata": {},
     "output_type": "execute_result"
    }
   ],
   "source": [
    "## matches counts from parser-writing df.info() after drop_duplicates\n",
    "\n",
    "tally_field_existing(\"object\", \"omim\")\n",
    "tally_field_existing(\"object\", \"orphanet\")\n",
    "tally_field_existing(\"object\", \"mondo\")"
   ]
  },
  {
   "cell_type": "code",
   "execution_count": 7,
   "id": "72bb2f71",
   "metadata": {
    "ExecuteTime": {
     "end_time": "2025-03-26T20:34:40.202239Z",
     "start_time": "2025-03-26T20:34:40.179537Z"
    }
   },
   "outputs": [
    {
     "data": {
      "text/plain": [
       "3647"
      ]
     },
     "execution_count": 7,
     "metadata": {},
     "output_type": "execute_result"
    },
    {
     "data": {
      "text/plain": [
       "451"
      ]
     },
     "execution_count": 7,
     "metadata": {},
     "output_type": "execute_result"
    },
    {
     "data": {
      "text/plain": [
       "3629"
      ]
     },
     "execution_count": 7,
     "metadata": {},
     "output_type": "execute_result"
    },
    {
     "data": {
      "text/plain": [
       "997"
      ]
     },
     "execution_count": 7,
     "metadata": {},
     "output_type": "execute_result"
    },
    {
     "data": {
      "text/plain": [
       "28"
      ]
     },
     "execution_count": 7,
     "metadata": {},
     "output_type": "execute_result"
    },
    {
     "data": {
      "text/plain": [
       "2430"
      ]
     },
     "execution_count": 7,
     "metadata": {},
     "output_type": "execute_result"
    },
    {
     "data": {
      "text/plain": [
       "3301"
      ]
     },
     "execution_count": 7,
     "metadata": {},
     "output_type": "execute_result"
    },
    {
     "data": {
      "text/plain": [
       "103"
      ]
     },
     "execution_count": 7,
     "metadata": {},
     "output_type": "execute_result"
    }
   ],
   "source": [
    "## matches counts from parser-writing df.info() after drop_duplicates\n",
    "\n",
    "tally_field_existing(\"association\", \"g2p_record_id\")\n",
    "\n",
    "tally_field_existing(\"association\", \"cross_cutting_modifiers\")\n",
    "tally_field_existing(\"association\", \"variant_consequences\")\n",
    "tally_field_existing(\"association\", \"variant_types\")\n",
    "tally_field_existing(\"association\", \"molecular_mechanism_evidence\")\n",
    "tally_field_existing(\"association\", \"phenotypes\")\n",
    "tally_field_existing(\"association\", \"pmids\")\n",
    "tally_field_existing(\"association\", \"curator_comments\")"
   ]
  },
  {
   "cell_type": "code",
   "execution_count": 44,
   "id": "2879f913",
   "metadata": {
    "ExecuteTime": {
     "end_time": "2025-03-26T22:13:30.218609Z",
     "start_time": "2025-03-26T22:13:30.215189Z"
    }
   },
   "outputs": [
    {
     "name": "stdout",
     "output_type": "stream",
     "text": [
      "{'_id': 'G2P03582',\n",
      " 'association': {'allelic_requirement': 'biallelic_autosomal',\n",
      "                 'confidence': 'definitive',\n",
      "                 'date_of_last_review': '2024-11-28 14:52:17+00:00',\n",
      "                 'g2p_panels': ['Hearing loss'],\n",
      "                 'g2p_record_id': 'G2P03582',\n",
      "                 'g2p_record_url': 'https://www.ebi.ac.uk/gene2phenotype/lgd/G2P03582',\n",
      "                 'molecular_mechanism': 'undetermined',\n",
      "                 'molecular_mechanism_categorisation': 'inferred',\n",
      "                 'pmids': ['18348273',\n",
      "                           '23485424',\n",
      "                           '25999546',\n",
      "                           '12687499',\n",
      "                           '24105371'],\n",
      "                 'variant_consequences': ['decreased gene product level',\n",
      "                                          'altered gene product structure'],\n",
      "                 'variant_types': ['missense_variant',\n",
      "                                   'stop_gained',\n",
      "                                   'frameshift_variant',\n",
      "                                   'splice_acceptor_variant',\n",
      "                                   'splice_donor_variant']},\n",
      " 'object': {'name': 'MYO6-related nonsyndromic genetic hearing loss',\n",
      "            'type': 'Disease'},\n",
      " 'subject': {'hgnc': 'HGNC:7605',\n",
      "             'hgnc_symbol': 'MYO6',\n",
      "             'omim': 'OMIM:600970',\n",
      "             'previous_gene_symbols': ['DFNA22', 'DFNB37', 'KIAA0389'],\n",
      "             'type': 'Gene'}}\n"
     ]
    }
   ],
   "source": [
    "pprint(parser_made_docs[3159])\n",
    "\n",
    "# parser_made_docs[416]"
   ]
  },
  {
   "cell_type": "code",
   "execution_count": null,
   "id": "cbf02631",
   "metadata": {},
   "outputs": [],
   "source": []
  }
 ],
 "metadata": {
  "kernelspec": {
   "display_name": "Python 3 (ipykernel)",
   "language": "python",
   "name": "python3"
  },
  "language_info": {
   "codemirror_mode": {
    "name": "ipython",
    "version": 3
   },
   "file_extension": ".py",
   "mimetype": "text/x-python",
   "name": "python",
   "nbconvert_exporter": "python",
   "pygments_lexer": "ipython3",
   "version": "3.11.4"
  },
  "toc": {
   "base_numbering": 1,
   "nav_menu": {},
   "number_sections": true,
   "sideBar": true,
   "skip_h1_title": false,
   "title_cell": "Table of Contents",
   "title_sidebar": "Contents",
   "toc_cell": false,
   "toc_position": {},
   "toc_section_display": true,
   "toc_window_display": false
  }
 },
 "nbformat": 4,
 "nbformat_minor": 5
}
