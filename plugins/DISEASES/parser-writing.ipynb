{
 "cells": [
  {
   "cell_type": "markdown",
   "id": "65fd087a",
   "metadata": {
    "toc": true
   },
   "source": [
    "<h1>Table of Contents<span class=\"tocSkip\"></span></h1>\n",
    "<div class=\"toc\"><ul class=\"toc-item\"><li><span><a href=\"#Exploring-data\" data-toc-modified-id=\"Exploring-data-1\">Exploring data</a></span><ul class=\"toc-item\"><li><span><a href=\"#Downloading-files\" data-toc-modified-id=\"Downloading-files-1.1\">Downloading files</a></span></li><li><span><a href=\"#Check-for-duplicates\" data-toc-modified-id=\"Check-for-duplicates-1.2\">Check for duplicates</a></span></li><li><span><a href=\"#gene_id-column\" data-toc-modified-id=\"gene_id-column-1.3\">gene_id column</a></span><ul class=\"toc-item\"><li><span><a href=\"#Text-mining\" data-toc-modified-id=\"Text-mining-1.3.1\">Text-mining</a></span></li><li><span><a href=\"#Knowledge\" data-toc-modified-id=\"Knowledge-1.3.2\">Knowledge</a></span></li></ul></li><li><span><a href=\"#gene_name-column\" data-toc-modified-id=\"gene_name-column-1.4\">gene_name column</a></span></li><li><span><a href=\"#disease_id\" data-toc-modified-id=\"disease_id-1.5\">disease_id</a></span><ul class=\"toc-item\"><li><span><a href=\"#Text-mining\" data-toc-modified-id=\"Text-mining-1.5.1\">Text-mining</a></span></li><li><span><a href=\"#Knowledge\" data-toc-modified-id=\"Knowledge-1.5.2\">Knowledge</a></span></li></ul></li><li><span><a href=\"#Other-columns\" data-toc-modified-id=\"Other-columns-1.6\">Other columns</a></span><ul class=\"toc-item\"><li><span><a href=\"#Text-mining\" data-toc-modified-id=\"Text-mining-1.6.1\">Text-mining</a></span></li><li><span><a href=\"#Knowledge\" data-toc-modified-id=\"Knowledge-1.6.2\">Knowledge</a></span></li></ul></li></ul></li><li><span><a href=\"#Remove-rows\" data-toc-modified-id=\"Remove-rows-2\">Remove rows</a></span></li><li><span><a href=\"#Pre-NodeNorming\" data-toc-modified-id=\"Pre-NodeNorming-3\">Pre-NodeNorming</a></span><ul class=\"toc-item\"><li><span><a href=\"#Genes\" data-toc-modified-id=\"Genes-3.1\">Genes</a></span></li><li><span><a href=\"#Diseases\" data-toc-modified-id=\"Diseases-3.2\">Diseases</a></span></li><li><span><a href=\"#Adding-NodeNorm-data,-removing-rows\" data-toc-modified-id=\"Adding-NodeNorm-data,-removing-rows-3.3\">Adding NodeNorm data, removing rows</a></span></li><li><span><a href=\"#Exploring-&quot;duplicates&quot;-from-NodeNorming\" data-toc-modified-id=\"Exploring-&quot;duplicates&quot;-from-NodeNorming-3.4\">Exploring \"duplicates\" from NodeNorming</a></span></li></ul></li><li><span><a href=\"#Generating-documents\" data-toc-modified-id=\"Generating-documents-4\">Generating documents</a></span><ul class=\"toc-item\"><li><span><a href=\"#Rows-not-included\" data-toc-modified-id=\"Rows-not-included-4.1\">Rows not included</a></span></li><li><span><a href=\"#Columns-not-included\" data-toc-modified-id=\"Columns-not-included-4.2\">Columns not included</a></span></li><li><span><a href=\"#File:-List-of-TRAPI-edges\" data-toc-modified-id=\"File:-List-of-TRAPI-edges-4.3\">File: List of TRAPI edges</a></span></li><li><span><a href=\"#File:-KGX-edges\" data-toc-modified-id=\"File:-KGX-edges-4.4\">File: KGX edges</a></span></li><li><span><a href=\"#File:-KGX-nodes\" data-toc-modified-id=\"File:-KGX-nodes-4.5\">File: KGX nodes</a></span></li></ul></li><li><span><a href=\"#Notes\" data-toc-modified-id=\"Notes-5\">Notes</a></span></li></ul></div>"
   ]
  },
  {
   "cell_type": "markdown",
   "id": "f18ee197",
   "metadata": {},
   "source": [
    "# Notebook for DISEASES parser development"
   ]
  },
  {
   "cell_type": "code",
   "execution_count": 1,
   "id": "3573099c",
   "metadata": {
    "ExecuteTime": {
     "end_time": "2025-05-06T06:36:45.552765Z",
     "start_time": "2025-05-06T06:36:45.548199Z"
    }
   },
   "outputs": [],
   "source": [
    "## not for parser. for notebook only \n",
    "\n",
    "## CX: allows multiple lines of code to print from one code block\n",
    "from IPython.core.interactiveshell import InteractiveShell\n",
    "InteractiveShell.ast_node_interactivity = \"all\""
   ]
  },
  {
   "cell_type": "markdown",
   "id": "aa862467",
   "metadata": {},
   "source": [
    "## Exploring data"
   ]
  },
  {
   "cell_type": "markdown",
   "id": "0a4ac932",
   "metadata": {},
   "source": [
    "### Downloading files"
   ]
  },
  {
   "cell_type": "markdown",
   "id": "96f2ef49",
   "metadata": {},
   "source": [
    "Going to load entire files for review. \n",
    "\n",
    "In parser, may want to do a generator approach and ingest large chunks (ex: 1000-2000 lines) at 1 time. This balances \"less memory footprint\" vs \"NodeNorming in large batches is faster\". \n",
    "\n",
    "(pandas [read_table](https://pandas.pydata.org/docs/reference/api/pandas.read_table.html) has an iterator for rows/chunks! see iterator/chunksize parameters)"
   ]
  },
  {
   "cell_type": "code",
   "execution_count": 2,
   "id": "8325a51e",
   "metadata": {
    "ExecuteTime": {
     "end_time": "2025-05-06T06:36:49.703886Z",
     "start_time": "2025-05-06T06:36:49.178403Z"
    }
   },
   "outputs": [],
   "source": [
    "## put in parser (format)\n",
    "import pathlib\n",
    "import pandas as pd\n",
    "\n",
    "## don't put in parser. Just for this notebook\n",
    "from pprint import pprint\n",
    "\n",
    "## unsure on putting into parser: more for notebook viewing/debugging...\n",
    "pd.options.display.max_columns = None"
   ]
  },
  {
   "cell_type": "code",
   "execution_count": 3,
   "id": "49ac26f3",
   "metadata": {
    "ExecuteTime": {
     "end_time": "2025-05-06T06:36:50.841342Z",
     "start_time": "2025-05-06T06:36:50.837756Z"
    }
   },
   "outputs": [],
   "source": [
    "## useful function for exploring data\n",
    "def check_if_contains(df, column_name, patterns):\n",
    "    for i in patterns:\n",
    "        temp = df[df[column_name].str.contains(pat=i, case=False)]\n",
    "        if temp.size > 0:\n",
    "            print(f'\"{i}\"')\n",
    "            print(temp.shape)"
   ]
  },
  {
   "cell_type": "markdown",
   "id": "e23c358f",
   "metadata": {},
   "source": [
    "<div class=\"alert alert-block alert-danger\">\n",
    "    \n",
    "This notebook was originally written using data files downloaded 2025-04-14 between 4:23-4:24 PM Pacific time (23:23-23:24 UTC+0) from https://diseases.jensenlab.org/Downloads. "
   ]
  },
  {
   "cell_type": "code",
   "execution_count": 4,
   "id": "63f0a6ac",
   "metadata": {
    "ExecuteTime": {
     "end_time": "2025-05-06T06:36:54.556600Z",
     "start_time": "2025-05-06T06:36:54.547278Z"
    }
   },
   "outputs": [
    {
     "data": {
      "text/plain": [
       "PosixPath('/Users/colleenxu/Desktop/DISEASES_files/2025_05_02/human_disease_textmining_filtered.tsv')"
      ]
     },
     "execution_count": 4,
     "metadata": {},
     "output_type": "execute_result"
    },
    {
     "data": {
      "text/plain": [
       "PosixPath('/Users/colleenxu/Desktop/DISEASES_files/2025_05_02/human_disease_knowledge_filtered.tsv')"
      ]
     },
     "execution_count": 4,
     "metadata": {},
     "output_type": "execute_result"
    }
   ],
   "source": [
    "## put in parser (format)\n",
    "\n",
    "## paths to raw data files\n",
    "\n",
    "base_file_path = pathlib.Path.home().joinpath(\"Desktop\", \"DISEASES_files\", \"2025_05_02\")\n",
    "\n",
    "textmining_path = base_file_path.joinpath(\"human_disease_textmining_filtered.tsv\")\n",
    "knowledge_path = base_file_path.joinpath(\"human_disease_knowledge_filtered.tsv\")\n",
    "\n",
    "textmining_path\n",
    "knowledge_path"
   ]
  },
  {
   "cell_type": "code",
   "execution_count": 5,
   "id": "dd0fc904",
   "metadata": {
    "ExecuteTime": {
     "end_time": "2025-05-06T06:36:57.610943Z",
     "start_time": "2025-05-06T06:36:56.675273Z"
    },
    "scrolled": true
   },
   "outputs": [],
   "source": [
    "## put in parser (format)\n",
    "\n",
    "## download files\n",
    "\n",
    "## files have no headers: adding based on https://diseases.jensenlab.org/Downloads\n",
    "textmining_header = [\"gene_id\", \"gene_name\", \"disease_id\", \"disease_name\", \n",
    "                     \"z_score\", \"confidence_score\", \"url\"]\n",
    "knowledge_header = [\"gene_id\", \"gene_name\", \"disease_id\", \"disease_name\", \n",
    "                    \"source_db\", \"evidence_type\", \"confidence_score\"]\n",
    "\n",
    "\n",
    "df_textmining = pd.read_table(textmining_path, sep=\"\\t\", names=textmining_header)\n",
    "df_knowledge = pd.read_table(knowledge_path, sep=\"\\t\", names=knowledge_header)"
   ]
  },
  {
   "cell_type": "markdown",
   "id": "feb424a4",
   "metadata": {},
   "source": [
    "<div class=\"alert alert-block alert-info\">\n",
    "\n",
    "No missing values"
   ]
  },
  {
   "cell_type": "code",
   "execution_count": 6,
   "id": "141a10e4",
   "metadata": {
    "ExecuteTime": {
     "end_time": "2025-05-06T06:37:00.132852Z",
     "start_time": "2025-05-06T06:36:59.693295Z"
    }
   },
   "outputs": [
    {
     "name": "stdout",
     "output_type": "stream",
     "text": [
      "<class 'pandas.core.frame.DataFrame'>\n",
      "RangeIndex: 288571 entries, 0 to 288570\n",
      "Data columns (total 7 columns):\n",
      " #   Column            Non-Null Count   Dtype  \n",
      "---  ------            --------------   -----  \n",
      " 0   gene_id           288571 non-null  object \n",
      " 1   gene_name         288571 non-null  object \n",
      " 2   disease_id        288571 non-null  object \n",
      " 3   disease_name      288571 non-null  object \n",
      " 4   z_score           288571 non-null  float64\n",
      " 5   confidence_score  288571 non-null  float64\n",
      " 6   url               288571 non-null  object \n",
      "dtypes: float64(2), object(5)\n",
      "memory usage: 113.7 MB\n"
     ]
    }
   ],
   "source": [
    "df_textmining.info(memory_usage=\"deep\")"
   ]
  },
  {
   "cell_type": "code",
   "execution_count": 7,
   "id": "cd37fa22",
   "metadata": {
    "ExecuteTime": {
     "end_time": "2025-05-06T06:37:05.810282Z",
     "start_time": "2025-05-06T06:37:05.795247Z"
    }
   },
   "outputs": [
    {
     "data": {
      "text/html": [
       "<div>\n",
       "<style scoped>\n",
       "    .dataframe tbody tr th:only-of-type {\n",
       "        vertical-align: middle;\n",
       "    }\n",
       "\n",
       "    .dataframe tbody tr th {\n",
       "        vertical-align: top;\n",
       "    }\n",
       "\n",
       "    .dataframe thead th {\n",
       "        text-align: right;\n",
       "    }\n",
       "</style>\n",
       "<table border=\"1\" class=\"dataframe\">\n",
       "  <thead>\n",
       "    <tr style=\"text-align: right;\">\n",
       "      <th></th>\n",
       "      <th>gene_id</th>\n",
       "      <th>gene_name</th>\n",
       "      <th>disease_id</th>\n",
       "      <th>disease_name</th>\n",
       "      <th>z_score</th>\n",
       "      <th>confidence_score</th>\n",
       "      <th>url</th>\n",
       "    </tr>\n",
       "  </thead>\n",
       "  <tbody>\n",
       "    <tr>\n",
       "      <th>0</th>\n",
       "      <td>18S_rRNA</td>\n",
       "      <td>18S_rRNA</td>\n",
       "      <td>DOID:9643</td>\n",
       "      <td>Babesiosis</td>\n",
       "      <td>7.230</td>\n",
       "      <td>3.615</td>\n",
       "      <td>https://diseases.jensenlab.org/Entity?document...</td>\n",
       "    </tr>\n",
       "    <tr>\n",
       "      <th>1</th>\n",
       "      <td>18S_rRNA</td>\n",
       "      <td>18S_rRNA</td>\n",
       "      <td>DOID:3733</td>\n",
       "      <td>Theileriasis</td>\n",
       "      <td>6.363</td>\n",
       "      <td>3.181</td>\n",
       "      <td>https://diseases.jensenlab.org/Entity?document...</td>\n",
       "    </tr>\n",
       "    <tr>\n",
       "      <th>2</th>\n",
       "      <td>18S_rRNA</td>\n",
       "      <td>18S_rRNA</td>\n",
       "      <td>DOID:12365</td>\n",
       "      <td>Malaria</td>\n",
       "      <td>6.293</td>\n",
       "      <td>3.146</td>\n",
       "      <td>https://diseases.jensenlab.org/Entity?document...</td>\n",
       "    </tr>\n",
       "    <tr>\n",
       "      <th>3</th>\n",
       "      <td>18S_rRNA</td>\n",
       "      <td>18S_rRNA</td>\n",
       "      <td>DOID:9640</td>\n",
       "      <td>Sarcocystosis</td>\n",
       "      <td>6.142</td>\n",
       "      <td>3.071</td>\n",
       "      <td>https://diseases.jensenlab.org/Entity?document...</td>\n",
       "    </tr>\n",
       "    <tr>\n",
       "      <th>4</th>\n",
       "      <td>18S_rRNA</td>\n",
       "      <td>18S_rRNA</td>\n",
       "      <td>DOID:1733</td>\n",
       "      <td>Cryptosporidiosis</td>\n",
       "      <td>6.108</td>\n",
       "      <td>3.054</td>\n",
       "      <td>https://diseases.jensenlab.org/Entity?document...</td>\n",
       "    </tr>\n",
       "    <tr>\n",
       "      <th>...</th>\n",
       "      <td>...</td>\n",
       "      <td>...</td>\n",
       "      <td>...</td>\n",
       "      <td>...</td>\n",
       "      <td>...</td>\n",
       "      <td>...</td>\n",
       "      <td>...</td>\n",
       "    </tr>\n",
       "    <tr>\n",
       "      <th>288566</th>\n",
       "      <td>snoU13</td>\n",
       "      <td>snoU13</td>\n",
       "      <td>DOID:0110084</td>\n",
       "      <td>Arrhythmogenic right ventricular dysplasia 13</td>\n",
       "      <td>3.774</td>\n",
       "      <td>1.887</td>\n",
       "      <td>https://diseases.jensenlab.org/Entity?document...</td>\n",
       "    </tr>\n",
       "    <tr>\n",
       "      <th>288567</th>\n",
       "      <td>snoU13</td>\n",
       "      <td>snoU13</td>\n",
       "      <td>DOID:0110408</td>\n",
       "      <td>Retinitis pigmentosa 11</td>\n",
       "      <td>3.386</td>\n",
       "      <td>1.693</td>\n",
       "      <td>https://diseases.jensenlab.org/Entity?document...</td>\n",
       "    </tr>\n",
       "    <tr>\n",
       "      <th>288568</th>\n",
       "      <td>snoU13</td>\n",
       "      <td>snoU13</td>\n",
       "      <td>DOID:1849</td>\n",
       "      <td>Cannabis dependence</td>\n",
       "      <td>3.227</td>\n",
       "      <td>1.613</td>\n",
       "      <td>https://diseases.jensenlab.org/Entity?document...</td>\n",
       "    </tr>\n",
       "    <tr>\n",
       "      <th>288569</th>\n",
       "      <td>snoU13</td>\n",
       "      <td>snoU13</td>\n",
       "      <td>DOID:0060775</td>\n",
       "      <td>Microvillus inclusion disease</td>\n",
       "      <td>3.146</td>\n",
       "      <td>1.573</td>\n",
       "      <td>https://diseases.jensenlab.org/Entity?document...</td>\n",
       "    </tr>\n",
       "    <tr>\n",
       "      <th>288570</th>\n",
       "      <td>snoU18</td>\n",
       "      <td>snoU18</td>\n",
       "      <td>DOID:12211</td>\n",
       "      <td>Filarial elephantiasis</td>\n",
       "      <td>3.456</td>\n",
       "      <td>1.728</td>\n",
       "      <td>https://diseases.jensenlab.org/Entity?document...</td>\n",
       "    </tr>\n",
       "  </tbody>\n",
       "</table>\n",
       "<p>288571 rows × 7 columns</p>\n",
       "</div>"
      ],
      "text/plain": [
       "         gene_id gene_name    disease_id  \\\n",
       "0       18S_rRNA  18S_rRNA     DOID:9643   \n",
       "1       18S_rRNA  18S_rRNA     DOID:3733   \n",
       "2       18S_rRNA  18S_rRNA    DOID:12365   \n",
       "3       18S_rRNA  18S_rRNA     DOID:9640   \n",
       "4       18S_rRNA  18S_rRNA     DOID:1733   \n",
       "...          ...       ...           ...   \n",
       "288566    snoU13    snoU13  DOID:0110084   \n",
       "288567    snoU13    snoU13  DOID:0110408   \n",
       "288568    snoU13    snoU13     DOID:1849   \n",
       "288569    snoU13    snoU13  DOID:0060775   \n",
       "288570    snoU18    snoU18    DOID:12211   \n",
       "\n",
       "                                         disease_name  z_score  \\\n",
       "0                                          Babesiosis    7.230   \n",
       "1                                        Theileriasis    6.363   \n",
       "2                                             Malaria    6.293   \n",
       "3                                       Sarcocystosis    6.142   \n",
       "4                                   Cryptosporidiosis    6.108   \n",
       "...                                               ...      ...   \n",
       "288566  Arrhythmogenic right ventricular dysplasia 13    3.774   \n",
       "288567                        Retinitis pigmentosa 11    3.386   \n",
       "288568                            Cannabis dependence    3.227   \n",
       "288569                  Microvillus inclusion disease    3.146   \n",
       "288570                         Filarial elephantiasis    3.456   \n",
       "\n",
       "        confidence_score                                                url  \n",
       "0                  3.615  https://diseases.jensenlab.org/Entity?document...  \n",
       "1                  3.181  https://diseases.jensenlab.org/Entity?document...  \n",
       "2                  3.146  https://diseases.jensenlab.org/Entity?document...  \n",
       "3                  3.071  https://diseases.jensenlab.org/Entity?document...  \n",
       "4                  3.054  https://diseases.jensenlab.org/Entity?document...  \n",
       "...                  ...                                                ...  \n",
       "288566             1.887  https://diseases.jensenlab.org/Entity?document...  \n",
       "288567             1.693  https://diseases.jensenlab.org/Entity?document...  \n",
       "288568             1.613  https://diseases.jensenlab.org/Entity?document...  \n",
       "288569             1.573  https://diseases.jensenlab.org/Entity?document...  \n",
       "288570             1.728  https://diseases.jensenlab.org/Entity?document...  \n",
       "\n",
       "[288571 rows x 7 columns]"
      ]
     },
     "execution_count": 7,
     "metadata": {},
     "output_type": "execute_result"
    }
   ],
   "source": [
    "df_textmining"
   ]
  },
  {
   "cell_type": "code",
   "execution_count": 8,
   "id": "6342b113",
   "metadata": {
    "ExecuteTime": {
     "end_time": "2025-05-06T06:37:09.366995Z",
     "start_time": "2025-05-06T06:37:09.346050Z"
    }
   },
   "outputs": [
    {
     "name": "stdout",
     "output_type": "stream",
     "text": [
      "<class 'pandas.core.frame.DataFrame'>\n",
      "RangeIndex: 7638 entries, 0 to 7637\n",
      "Data columns (total 7 columns):\n",
      " #   Column            Non-Null Count  Dtype \n",
      "---  ------            --------------  ----- \n",
      " 0   gene_id           7638 non-null   object\n",
      " 1   gene_name         7638 non-null   object\n",
      " 2   disease_id        7638 non-null   object\n",
      " 3   disease_name      7638 non-null   object\n",
      " 4   source_db         7638 non-null   object\n",
      " 5   evidence_type     7638 non-null   object\n",
      " 6   confidence_score  7638 non-null   int64 \n",
      "dtypes: int64(1), object(6)\n",
      "memory usage: 2.7 MB\n"
     ]
    }
   ],
   "source": [
    "df_knowledge.info(memory_usage=\"deep\")"
   ]
  },
  {
   "cell_type": "code",
   "execution_count": 9,
   "id": "316d7e3d",
   "metadata": {
    "ExecuteTime": {
     "end_time": "2025-05-06T06:37:12.832336Z",
     "start_time": "2025-05-06T06:37:12.821323Z"
    }
   },
   "outputs": [
    {
     "data": {
      "text/html": [
       "<div>\n",
       "<style scoped>\n",
       "    .dataframe tbody tr th:only-of-type {\n",
       "        vertical-align: middle;\n",
       "    }\n",
       "\n",
       "    .dataframe tbody tr th {\n",
       "        vertical-align: top;\n",
       "    }\n",
       "\n",
       "    .dataframe thead th {\n",
       "        text-align: right;\n",
       "    }\n",
       "</style>\n",
       "<table border=\"1\" class=\"dataframe\">\n",
       "  <thead>\n",
       "    <tr style=\"text-align: right;\">\n",
       "      <th></th>\n",
       "      <th>gene_id</th>\n",
       "      <th>gene_name</th>\n",
       "      <th>disease_id</th>\n",
       "      <th>disease_name</th>\n",
       "      <th>source_db</th>\n",
       "      <th>evidence_type</th>\n",
       "      <th>confidence_score</th>\n",
       "    </tr>\n",
       "  </thead>\n",
       "  <tbody>\n",
       "    <tr>\n",
       "      <th>0</th>\n",
       "      <td>ABHD11-AS1</td>\n",
       "      <td>ABHD11-AS1</td>\n",
       "      <td>DOID:1928</td>\n",
       "      <td>Williams-Beuren syndrome</td>\n",
       "      <td>MedlinePlus</td>\n",
       "      <td>CURATED</td>\n",
       "      <td>5</td>\n",
       "    </tr>\n",
       "    <tr>\n",
       "      <th>1</th>\n",
       "      <td>ENSP00000001146</td>\n",
       "      <td>CYP26B1</td>\n",
       "      <td>DOID:2340</td>\n",
       "      <td>Craniosynostosis</td>\n",
       "      <td>UniProtKB-KW</td>\n",
       "      <td>CURATED</td>\n",
       "      <td>4</td>\n",
       "    </tr>\n",
       "    <tr>\n",
       "      <th>2</th>\n",
       "      <td>ENSP00000003084</td>\n",
       "      <td>CFTR</td>\n",
       "      <td>DOID:0111862</td>\n",
       "      <td>Congenital bilateral absence of vas deferens</td>\n",
       "      <td>MedlinePlus</td>\n",
       "      <td>CURATED</td>\n",
       "      <td>5</td>\n",
       "    </tr>\n",
       "    <tr>\n",
       "      <th>3</th>\n",
       "      <td>ENSP00000003084</td>\n",
       "      <td>CFTR</td>\n",
       "      <td>DOID:1485</td>\n",
       "      <td>Cystic fibrosis</td>\n",
       "      <td>MedlinePlus</td>\n",
       "      <td>CURATED</td>\n",
       "      <td>5</td>\n",
       "    </tr>\n",
       "    <tr>\n",
       "      <th>4</th>\n",
       "      <td>ENSP00000005226</td>\n",
       "      <td>USH1C</td>\n",
       "      <td>DOID:0050439</td>\n",
       "      <td>Usher syndrome</td>\n",
       "      <td>MedlinePlus</td>\n",
       "      <td>CURATED</td>\n",
       "      <td>5</td>\n",
       "    </tr>\n",
       "    <tr>\n",
       "      <th>...</th>\n",
       "      <td>...</td>\n",
       "      <td>...</td>\n",
       "      <td>...</td>\n",
       "      <td>...</td>\n",
       "      <td>...</td>\n",
       "      <td>...</td>\n",
       "      <td>...</td>\n",
       "    </tr>\n",
       "    <tr>\n",
       "      <th>7633</th>\n",
       "      <td>hsa-miR-145-5p</td>\n",
       "      <td>hsa-miR-145-5p</td>\n",
       "      <td>DOID:0090016</td>\n",
       "      <td>Chromosome 5q deletion syndrome</td>\n",
       "      <td>MedlinePlus</td>\n",
       "      <td>CURATED</td>\n",
       "      <td>5</td>\n",
       "    </tr>\n",
       "    <tr>\n",
       "      <th>7634</th>\n",
       "      <td>hsa-miR-146a-5p</td>\n",
       "      <td>hsa-miR-146a-5p</td>\n",
       "      <td>DOID:0090016</td>\n",
       "      <td>Chromosome 5q deletion syndrome</td>\n",
       "      <td>MedlinePlus</td>\n",
       "      <td>CURATED</td>\n",
       "      <td>5</td>\n",
       "    </tr>\n",
       "    <tr>\n",
       "      <th>7635</th>\n",
       "      <td>hsa-miR-184</td>\n",
       "      <td>hsa-miR-184</td>\n",
       "      <td>DOID:10126</td>\n",
       "      <td>Keratoconus</td>\n",
       "      <td>MedlinePlus</td>\n",
       "      <td>CURATED</td>\n",
       "      <td>5</td>\n",
       "    </tr>\n",
       "    <tr>\n",
       "      <th>7636</th>\n",
       "      <td>hsa-miR-590-5p</td>\n",
       "      <td>hsa-miR-590-5p</td>\n",
       "      <td>DOID:1928</td>\n",
       "      <td>Williams-Beuren syndrome</td>\n",
       "      <td>MedlinePlus</td>\n",
       "      <td>CURATED</td>\n",
       "      <td>5</td>\n",
       "    </tr>\n",
       "    <tr>\n",
       "      <th>7637</th>\n",
       "      <td>hsa-miR-96-5p</td>\n",
       "      <td>hsa-miR-96-5p</td>\n",
       "      <td>DOID:0050563</td>\n",
       "      <td>Nonsyndromic deafness</td>\n",
       "      <td>MedlinePlus</td>\n",
       "      <td>CURATED</td>\n",
       "      <td>5</td>\n",
       "    </tr>\n",
       "  </tbody>\n",
       "</table>\n",
       "<p>7638 rows × 7 columns</p>\n",
       "</div>"
      ],
      "text/plain": [
       "              gene_id        gene_name    disease_id  \\\n",
       "0          ABHD11-AS1       ABHD11-AS1     DOID:1928   \n",
       "1     ENSP00000001146          CYP26B1     DOID:2340   \n",
       "2     ENSP00000003084             CFTR  DOID:0111862   \n",
       "3     ENSP00000003084             CFTR     DOID:1485   \n",
       "4     ENSP00000005226            USH1C  DOID:0050439   \n",
       "...               ...              ...           ...   \n",
       "7633   hsa-miR-145-5p   hsa-miR-145-5p  DOID:0090016   \n",
       "7634  hsa-miR-146a-5p  hsa-miR-146a-5p  DOID:0090016   \n",
       "7635      hsa-miR-184      hsa-miR-184    DOID:10126   \n",
       "7636   hsa-miR-590-5p   hsa-miR-590-5p     DOID:1928   \n",
       "7637    hsa-miR-96-5p    hsa-miR-96-5p  DOID:0050563   \n",
       "\n",
       "                                      disease_name     source_db  \\\n",
       "0                         Williams-Beuren syndrome   MedlinePlus   \n",
       "1                                 Craniosynostosis  UniProtKB-KW   \n",
       "2     Congenital bilateral absence of vas deferens   MedlinePlus   \n",
       "3                                  Cystic fibrosis   MedlinePlus   \n",
       "4                                   Usher syndrome   MedlinePlus   \n",
       "...                                            ...           ...   \n",
       "7633               Chromosome 5q deletion syndrome   MedlinePlus   \n",
       "7634               Chromosome 5q deletion syndrome   MedlinePlus   \n",
       "7635                                   Keratoconus   MedlinePlus   \n",
       "7636                      Williams-Beuren syndrome   MedlinePlus   \n",
       "7637                         Nonsyndromic deafness   MedlinePlus   \n",
       "\n",
       "     evidence_type  confidence_score  \n",
       "0          CURATED                 5  \n",
       "1          CURATED                 4  \n",
       "2          CURATED                 5  \n",
       "3          CURATED                 5  \n",
       "4          CURATED                 5  \n",
       "...            ...               ...  \n",
       "7633       CURATED                 5  \n",
       "7634       CURATED                 5  \n",
       "7635       CURATED                 5  \n",
       "7636       CURATED                 5  \n",
       "7637       CURATED                 5  \n",
       "\n",
       "[7638 rows x 7 columns]"
      ]
     },
     "execution_count": 9,
     "metadata": {},
     "output_type": "execute_result"
    }
   ],
   "source": [
    "df_knowledge"
   ]
  },
  {
   "cell_type": "markdown",
   "id": "b86c4bde",
   "metadata": {},
   "source": [
    "### Check for duplicates"
   ]
  },
  {
   "cell_type": "markdown",
   "id": "792b3c9d",
   "metadata": {},
   "source": [
    "<div class=\"alert alert-block alert-info\">\n",
    "\n",
    "Duplicates found in knowledge file. This is a DISEASES-side problem.\n",
    "    \n",
    "Ideas for how to handle duplicates (including if they show up in text-mining file later): \n",
    "* ingest entire file and remove duplicates\n",
    "* **doing this right now**: check a set of \"already-done\" edges (gene_id, disease_id, source_db for knowledge) right before creating document (earlier steps will cut down number of rows to create documents with). "
   ]
  },
  {
   "cell_type": "code",
   "execution_count": 10,
   "id": "27447a61",
   "metadata": {
    "ExecuteTime": {
     "end_time": "2025-05-06T06:37:22.397598Z",
     "start_time": "2025-05-06T06:37:22.323977Z"
    }
   },
   "outputs": [
    {
     "data": {
      "text/plain": [
       "(0, 7)"
      ]
     },
     "execution_count": 10,
     "metadata": {},
     "output_type": "execute_result"
    }
   ],
   "source": [
    "df_textmining[df_textmining.duplicated(subset=[\"gene_id\", \"disease_id\"], keep=False)].shape"
   ]
  },
  {
   "cell_type": "code",
   "execution_count": 11,
   "id": "09d9f86c",
   "metadata": {
    "ExecuteTime": {
     "end_time": "2025-05-06T06:37:23.132440Z",
     "start_time": "2025-05-06T06:37:23.120409Z"
    }
   },
   "outputs": [
    {
     "data": {
      "text/plain": [
       "(16, 7)"
      ]
     },
     "execution_count": 11,
     "metadata": {},
     "output_type": "execute_result"
    }
   ],
   "source": [
    "df_knowledge[df_knowledge.duplicated(keep=False)].shape"
   ]
  },
  {
   "cell_type": "code",
   "execution_count": 12,
   "id": "e32743e5",
   "metadata": {
    "ExecuteTime": {
     "end_time": "2025-05-06T06:37:23.730011Z",
     "start_time": "2025-05-06T06:37:23.708232Z"
    }
   },
   "outputs": [
    {
     "data": {
      "text/plain": [
       "(16, 7)"
      ]
     },
     "execution_count": 12,
     "metadata": {},
     "output_type": "execute_result"
    },
    {
     "data": {
      "text/html": [
       "<div>\n",
       "<style scoped>\n",
       "    .dataframe tbody tr th:only-of-type {\n",
       "        vertical-align: middle;\n",
       "    }\n",
       "\n",
       "    .dataframe tbody tr th {\n",
       "        vertical-align: top;\n",
       "    }\n",
       "\n",
       "    .dataframe thead th {\n",
       "        text-align: right;\n",
       "    }\n",
       "</style>\n",
       "<table border=\"1\" class=\"dataframe\">\n",
       "  <thead>\n",
       "    <tr style=\"text-align: right;\">\n",
       "      <th></th>\n",
       "      <th>gene_id</th>\n",
       "      <th>gene_name</th>\n",
       "      <th>disease_id</th>\n",
       "      <th>disease_name</th>\n",
       "      <th>source_db</th>\n",
       "      <th>evidence_type</th>\n",
       "      <th>confidence_score</th>\n",
       "    </tr>\n",
       "  </thead>\n",
       "  <tbody>\n",
       "    <tr>\n",
       "      <th>1600</th>\n",
       "      <td>ENSP00000269703</td>\n",
       "      <td>CYP4F22</td>\n",
       "      <td>DOID:0060655</td>\n",
       "      <td>Autosomal recessive congenital ichthyosis</td>\n",
       "      <td>MedlinePlus</td>\n",
       "      <td>CURATED</td>\n",
       "      <td>5</td>\n",
       "    </tr>\n",
       "    <tr>\n",
       "      <th>1601</th>\n",
       "      <td>ENSP00000269703</td>\n",
       "      <td>CYP4F22</td>\n",
       "      <td>DOID:0060655</td>\n",
       "      <td>Autosomal recessive congenital ichthyosis</td>\n",
       "      <td>MedlinePlus</td>\n",
       "      <td>CURATED</td>\n",
       "      <td>5</td>\n",
       "    </tr>\n",
       "    <tr>\n",
       "      <th>1649</th>\n",
       "      <td>ENSP00000272895</td>\n",
       "      <td>ABCA12</td>\n",
       "      <td>DOID:0060655</td>\n",
       "      <td>Autosomal recessive congenital ichthyosis</td>\n",
       "      <td>MedlinePlus</td>\n",
       "      <td>CURATED</td>\n",
       "      <td>5</td>\n",
       "    </tr>\n",
       "    <tr>\n",
       "      <th>1650</th>\n",
       "      <td>ENSP00000272895</td>\n",
       "      <td>ABCA12</td>\n",
       "      <td>DOID:0060655</td>\n",
       "      <td>Autosomal recessive congenital ichthyosis</td>\n",
       "      <td>MedlinePlus</td>\n",
       "      <td>CURATED</td>\n",
       "      <td>5</td>\n",
       "    </tr>\n",
       "    <tr>\n",
       "      <th>1970</th>\n",
       "      <td>ENSP00000291295</td>\n",
       "      <td>CALM3</td>\n",
       "      <td>DOID:2843</td>\n",
       "      <td>Long QT syndrome</td>\n",
       "      <td>UniProtKB-KW</td>\n",
       "      <td>CURATED</td>\n",
       "      <td>4</td>\n",
       "    </tr>\n",
       "    <tr>\n",
       "      <th>1971</th>\n",
       "      <td>ENSP00000291295</td>\n",
       "      <td>CALM3</td>\n",
       "      <td>DOID:2843</td>\n",
       "      <td>Long QT syndrome</td>\n",
       "      <td>UniProtKB-KW</td>\n",
       "      <td>CURATED</td>\n",
       "      <td>4</td>\n",
       "    </tr>\n",
       "    <tr>\n",
       "      <th>2542</th>\n",
       "      <td>ENSP00000311687</td>\n",
       "      <td>NIPAL4</td>\n",
       "      <td>DOID:0060655</td>\n",
       "      <td>Autosomal recessive congenital ichthyosis</td>\n",
       "      <td>MedlinePlus</td>\n",
       "      <td>CURATED</td>\n",
       "      <td>5</td>\n",
       "    </tr>\n",
       "    <tr>\n",
       "      <th>2543</th>\n",
       "      <td>ENSP00000311687</td>\n",
       "      <td>NIPAL4</td>\n",
       "      <td>DOID:0060655</td>\n",
       "      <td>Autosomal recessive congenital ichthyosis</td>\n",
       "      <td>MedlinePlus</td>\n",
       "      <td>CURATED</td>\n",
       "      <td>5</td>\n",
       "    </tr>\n",
       "    <tr>\n",
       "      <th>3374</th>\n",
       "      <td>ENSP00000342392</td>\n",
       "      <td>MESP2</td>\n",
       "      <td>DOID:0050568</td>\n",
       "      <td>Spondylocostal dysostosis</td>\n",
       "      <td>MedlinePlus</td>\n",
       "      <td>CURATED</td>\n",
       "      <td>5</td>\n",
       "    </tr>\n",
       "    <tr>\n",
       "      <th>3375</th>\n",
       "      <td>ENSP00000342392</td>\n",
       "      <td>MESP2</td>\n",
       "      <td>DOID:0050568</td>\n",
       "      <td>Spondylocostal dysostosis</td>\n",
       "      <td>MedlinePlus</td>\n",
       "      <td>CURATED</td>\n",
       "      <td>5</td>\n",
       "    </tr>\n",
       "    <tr>\n",
       "      <th>4396</th>\n",
       "      <td>ENSP00000360141</td>\n",
       "      <td>GNAS</td>\n",
       "      <td>DOID:12252</td>\n",
       "      <td>DOID:12252</td>\n",
       "      <td>UniProtKB-KW</td>\n",
       "      <td>CURATED</td>\n",
       "      <td>4</td>\n",
       "    </tr>\n",
       "    <tr>\n",
       "      <th>4397</th>\n",
       "      <td>ENSP00000360141</td>\n",
       "      <td>GNAS</td>\n",
       "      <td>DOID:12252</td>\n",
       "      <td>DOID:12252</td>\n",
       "      <td>UniProtKB-KW</td>\n",
       "      <td>CURATED</td>\n",
       "      <td>4</td>\n",
       "    </tr>\n",
       "    <tr>\n",
       "      <th>4398</th>\n",
       "      <td>ENSP00000360141</td>\n",
       "      <td>GNAS</td>\n",
       "      <td>DOID:12252</td>\n",
       "      <td>DOID:12252</td>\n",
       "      <td>UniProtKB-KW</td>\n",
       "      <td>CURATED</td>\n",
       "      <td>4</td>\n",
       "    </tr>\n",
       "    <tr>\n",
       "      <th>4399</th>\n",
       "      <td>ENSP00000360141</td>\n",
       "      <td>GNAS</td>\n",
       "      <td>DOID:12252</td>\n",
       "      <td>DOID:12252</td>\n",
       "      <td>UniProtKB-KW</td>\n",
       "      <td>CURATED</td>\n",
       "      <td>4</td>\n",
       "    </tr>\n",
       "    <tr>\n",
       "      <th>5451</th>\n",
       "      <td>ENSP00000379845</td>\n",
       "      <td>ABAT</td>\n",
       "      <td>DOID:0060407</td>\n",
       "      <td>Chromosome 18q deletion syndrome</td>\n",
       "      <td>MedlinePlus</td>\n",
       "      <td>CURATED</td>\n",
       "      <td>5</td>\n",
       "    </tr>\n",
       "    <tr>\n",
       "      <th>5452</th>\n",
       "      <td>ENSP00000379845</td>\n",
       "      <td>ABAT</td>\n",
       "      <td>DOID:0060407</td>\n",
       "      <td>Chromosome 18q deletion syndrome</td>\n",
       "      <td>MedlinePlus</td>\n",
       "      <td>CURATED</td>\n",
       "      <td>5</td>\n",
       "    </tr>\n",
       "  </tbody>\n",
       "</table>\n",
       "</div>"
      ],
      "text/plain": [
       "              gene_id gene_name    disease_id  \\\n",
       "1600  ENSP00000269703   CYP4F22  DOID:0060655   \n",
       "1601  ENSP00000269703   CYP4F22  DOID:0060655   \n",
       "1649  ENSP00000272895    ABCA12  DOID:0060655   \n",
       "1650  ENSP00000272895    ABCA12  DOID:0060655   \n",
       "1970  ENSP00000291295     CALM3     DOID:2843   \n",
       "1971  ENSP00000291295     CALM3     DOID:2843   \n",
       "2542  ENSP00000311687    NIPAL4  DOID:0060655   \n",
       "2543  ENSP00000311687    NIPAL4  DOID:0060655   \n",
       "3374  ENSP00000342392     MESP2  DOID:0050568   \n",
       "3375  ENSP00000342392     MESP2  DOID:0050568   \n",
       "4396  ENSP00000360141      GNAS    DOID:12252   \n",
       "4397  ENSP00000360141      GNAS    DOID:12252   \n",
       "4398  ENSP00000360141      GNAS    DOID:12252   \n",
       "4399  ENSP00000360141      GNAS    DOID:12252   \n",
       "5451  ENSP00000379845      ABAT  DOID:0060407   \n",
       "5452  ENSP00000379845      ABAT  DOID:0060407   \n",
       "\n",
       "                                   disease_name     source_db evidence_type  \\\n",
       "1600  Autosomal recessive congenital ichthyosis   MedlinePlus       CURATED   \n",
       "1601  Autosomal recessive congenital ichthyosis   MedlinePlus       CURATED   \n",
       "1649  Autosomal recessive congenital ichthyosis   MedlinePlus       CURATED   \n",
       "1650  Autosomal recessive congenital ichthyosis   MedlinePlus       CURATED   \n",
       "1970                           Long QT syndrome  UniProtKB-KW       CURATED   \n",
       "1971                           Long QT syndrome  UniProtKB-KW       CURATED   \n",
       "2542  Autosomal recessive congenital ichthyosis   MedlinePlus       CURATED   \n",
       "2543  Autosomal recessive congenital ichthyosis   MedlinePlus       CURATED   \n",
       "3374                  Spondylocostal dysostosis   MedlinePlus       CURATED   \n",
       "3375                  Spondylocostal dysostosis   MedlinePlus       CURATED   \n",
       "4396                                 DOID:12252  UniProtKB-KW       CURATED   \n",
       "4397                                 DOID:12252  UniProtKB-KW       CURATED   \n",
       "4398                                 DOID:12252  UniProtKB-KW       CURATED   \n",
       "4399                                 DOID:12252  UniProtKB-KW       CURATED   \n",
       "5451           Chromosome 18q deletion syndrome   MedlinePlus       CURATED   \n",
       "5452           Chromosome 18q deletion syndrome   MedlinePlus       CURATED   \n",
       "\n",
       "      confidence_score  \n",
       "1600                 5  \n",
       "1601                 5  \n",
       "1649                 5  \n",
       "1650                 5  \n",
       "1970                 4  \n",
       "1971                 4  \n",
       "2542                 5  \n",
       "2543                 5  \n",
       "3374                 5  \n",
       "3375                 5  \n",
       "4396                 4  \n",
       "4397                 4  \n",
       "4398                 4  \n",
       "4399                 4  \n",
       "5451                 5  \n",
       "5452                 5  "
      ]
     },
     "execution_count": 12,
     "metadata": {},
     "output_type": "execute_result"
    }
   ],
   "source": [
    "## double-checking if specific column subset can work to check for duplicates\n",
    "df_knowledge[df_knowledge.duplicated(subset=[\"gene_id\", \"disease_id\", \"source_db\"], keep=False)].shape\n",
    "## same count so it can\n",
    "\n",
    "## print for manual review\n",
    "df_knowledge[df_knowledge.duplicated(keep=False)]"
   ]
  },
  {
   "cell_type": "markdown",
   "id": "f7e56475",
   "metadata": {},
   "source": [
    "### gene_id column"
   ]
  },
  {
   "cell_type": "markdown",
   "id": "dae5449b",
   "metadata": {},
   "source": [
    "<div class=\"alert alert-block alert-info\">\n",
    "\n",
    "**A small portion of the data doesn't have ENSP IDs (text-mining and knowledge)!** Instead, the values are names (same as gene_name). **Drop these rows from further parsing (can't NodeNorm)** \n",
    "    \n",
    "I checked this \"no ENSP\" data for other ID namespaces mentioned in the paper, but couldn't find any matches. Other ID namespaces mentioned in [paper's Materials and methods](https://academic.oup.com/database/article/doi/10.1093/database/baac019/6554833?login=false#344427091) -> Dictionaries section:\n",
    "\n",
    "> The human gene dictionary was obtained from STRING v11.0 (27) and is based on information from **Ensembl (34), UniProtKB (12) and HGNC (35)** databases."
   ]
  },
  {
   "cell_type": "code",
   "execution_count": 13,
   "id": "b4d8bd0a",
   "metadata": {
    "ExecuteTime": {
     "end_time": "2025-05-06T06:37:35.898919Z",
     "start_time": "2025-05-06T06:37:35.596171Z"
    }
   },
   "outputs": [
    {
     "name": "stdout",
     "output_type": "stream",
     "text": [
      "text-mining\n",
      "knowledge\n"
     ]
    }
   ],
   "source": [
    "## check for delimiters (between prefix and ID, between IDs)\n",
    "\n",
    "delimiters = [\",\", \";\", \":\"]\n",
    "\n",
    "print(\"text-mining\")\n",
    "check_if_contains(df_textmining, \"gene_id\", delimiters)\n",
    "\n",
    "print(\"knowledge\")\n",
    "check_if_contains(df_knowledge, \"gene_id\", delimiters)\n",
    "\n",
    "## didn't print any stats, so not found"
   ]
  },
  {
   "cell_type": "code",
   "execution_count": 14,
   "id": "d675120d",
   "metadata": {
    "ExecuteTime": {
     "end_time": "2025-05-06T06:37:36.724006Z",
     "start_time": "2025-05-06T06:37:36.621270Z"
    }
   },
   "outputs": [
    {
     "data": {
      "text/html": [
       "<div>\n",
       "<style scoped>\n",
       "    .dataframe tbody tr th:only-of-type {\n",
       "        vertical-align: middle;\n",
       "    }\n",
       "\n",
       "    .dataframe tbody tr th {\n",
       "        vertical-align: top;\n",
       "    }\n",
       "\n",
       "    .dataframe thead th {\n",
       "        text-align: right;\n",
       "    }\n",
       "</style>\n",
       "<table border=\"1\" class=\"dataframe\">\n",
       "  <thead>\n",
       "    <tr style=\"text-align: right;\">\n",
       "      <th></th>\n",
       "      <th>gene_id</th>\n",
       "      <th>gene_name</th>\n",
       "      <th>disease_id</th>\n",
       "      <th>disease_name</th>\n",
       "      <th>z_score</th>\n",
       "      <th>confidence_score</th>\n",
       "      <th>url</th>\n",
       "    </tr>\n",
       "  </thead>\n",
       "  <tbody>\n",
       "  </tbody>\n",
       "</table>\n",
       "</div>"
      ],
      "text/plain": [
       "Empty DataFrame\n",
       "Columns: [gene_id, gene_name, disease_id, disease_name, z_score, confidence_score, url]\n",
       "Index: []"
      ]
     },
     "execution_count": 14,
     "metadata": {},
     "output_type": "execute_result"
    }
   ],
   "source": [
    "## double-check work on 1 value\n",
    "df_textmining[df_textmining[\"gene_id\"].str.contains(\":\", case=False)]"
   ]
  },
  {
   "cell_type": "code",
   "execution_count": 15,
   "id": "8a2aaf5c",
   "metadata": {
    "ExecuteTime": {
     "end_time": "2025-05-06T06:37:37.585931Z",
     "start_time": "2025-05-06T06:37:37.583371Z"
    }
   },
   "outputs": [],
   "source": [
    "## looked at \"_\": sometimes it can be a delimiter between prefix and ID\n",
    "## text-mining: there are values, but all were names\n",
    "\n",
    "# df_textmining[df_textmining[\"gene_id\"].str.contains(\"_\", case=False)][\"gene_id\"].unique()\n",
    "\n",
    "# len(df_textmining[df_textmining[\"gene_id\"].str.contains(\"_\", case=False)][\"gene_id\"].unique())"
   ]
  },
  {
   "cell_type": "code",
   "execution_count": 16,
   "id": "b6be1589",
   "metadata": {
    "ExecuteTime": {
     "end_time": "2025-05-06T06:37:39.265358Z",
     "start_time": "2025-05-06T06:37:39.258017Z"
    }
   },
   "outputs": [
    {
     "data": {
      "text/plain": [
       "(0, 7)"
      ]
     },
     "execution_count": 16,
     "metadata": {},
     "output_type": "execute_result"
    }
   ],
   "source": [
    "## no values\n",
    "\n",
    "df_knowledge[df_knowledge[\"gene_id\"].str.contains(\"_\")].shape"
   ]
  },
  {
   "cell_type": "markdown",
   "id": "4faf7a2b",
   "metadata": {},
   "source": [
    "#### Text-mining"
   ]
  },
  {
   "cell_type": "code",
   "execution_count": 17,
   "id": "c8b15e6b",
   "metadata": {
    "ExecuteTime": {
     "end_time": "2025-05-06T06:37:42.213180Z",
     "start_time": "2025-05-06T06:37:42.119572Z"
    }
   },
   "outputs": [
    {
     "data": {
      "text/plain": [
       "(16505, 7)"
      ]
     },
     "execution_count": 17,
     "metadata": {},
     "output_type": "execute_result"
    },
    {
     "data": {
      "text/plain": [
       "0.05719562949845965"
      ]
     },
     "execution_count": 17,
     "metadata": {},
     "output_type": "execute_result"
    }
   ],
   "source": [
    "## how much data doesn't have ENSP ID\n",
    "df_no_ENSP_textmining = df_textmining[~ df_textmining[\"gene_id\"].str.startswith(\"ENSP\")].copy()\n",
    "df_no_ENSP_textmining.shape\n",
    "\n",
    "## vs entire dataset\n",
    "df_no_ENSP_textmining.shape[0] / df_textmining.shape[0]"
   ]
  },
  {
   "cell_type": "code",
   "execution_count": 18,
   "id": "a21557fc",
   "metadata": {
    "ExecuteTime": {
     "end_time": "2025-05-06T06:37:43.604173Z",
     "start_time": "2025-05-06T06:37:43.596376Z"
    }
   },
   "outputs": [
    {
     "data": {
      "text/plain": [
       "(16505, 7)"
      ]
     },
     "execution_count": 18,
     "metadata": {},
     "output_type": "execute_result"
    }
   ],
   "source": [
    "## when data doesn't have ENSP ID, are ID == name?\n",
    "df_no_ENSP_textmining[df_no_ENSP_textmining[\"gene_id\"] == \n",
    "                      df_no_ENSP_textmining[\"gene_name\"]].shape\n",
    "\n",
    "## yes: shape is the same"
   ]
  },
  {
   "cell_type": "code",
   "execution_count": 19,
   "id": "f7ca39f7",
   "metadata": {
    "ExecuteTime": {
     "end_time": "2025-05-06T06:37:44.416636Z",
     "start_time": "2025-05-06T06:37:44.409680Z"
    }
   },
   "outputs": [
    {
     "data": {
      "text/plain": [
       "array(['18S_rRNA', '28S_rRNA', '45S_rRNA', ..., 'pRNA', 'snoU13',\n",
       "       'snoU18'], shape=(3961,), dtype=object)"
      ]
     },
     "execution_count": 19,
     "metadata": {},
     "output_type": "execute_result"
    }
   ],
   "source": [
    "## thousands of unique values\n",
    "df_no_ENSP_textmining[\"gene_id\"].unique()"
   ]
  },
  {
   "cell_type": "code",
   "execution_count": 20,
   "id": "2202267d",
   "metadata": {
    "ExecuteTime": {
     "end_time": "2025-05-06T06:37:46.235005Z",
     "start_time": "2025-05-06T06:37:46.185663Z"
    }
   },
   "outputs": [],
   "source": [
    "## look for other ID namespaces mentioned in paper\n",
    "\n",
    "possible_gene_namespaces = [\"ENSG\", \"ensembl\", \"uniprotkb\", \"uniprot\", \"hgnc\"]\n",
    "## remember function uses case=False (not sensitive)\n",
    "check_if_contains(df_no_ENSP_textmining, \"gene_id\", possible_gene_namespaces)\n",
    "\n",
    "## none: nothing prints"
   ]
  },
  {
   "cell_type": "code",
   "execution_count": 21,
   "id": "ad7069d3",
   "metadata": {
    "ExecuteTime": {
     "end_time": "2025-05-06T06:37:47.489830Z",
     "start_time": "2025-05-06T06:37:47.320944Z"
    }
   },
   "outputs": [
    {
     "data": {
      "text/html": [
       "<div>\n",
       "<style scoped>\n",
       "    .dataframe tbody tr th:only-of-type {\n",
       "        vertical-align: middle;\n",
       "    }\n",
       "\n",
       "    .dataframe tbody tr th {\n",
       "        vertical-align: top;\n",
       "    }\n",
       "\n",
       "    .dataframe thead th {\n",
       "        text-align: right;\n",
       "    }\n",
       "</style>\n",
       "<table border=\"1\" class=\"dataframe\">\n",
       "  <thead>\n",
       "    <tr style=\"text-align: right;\">\n",
       "      <th></th>\n",
       "      <th>gene_id</th>\n",
       "      <th>gene_name</th>\n",
       "      <th>disease_id</th>\n",
       "      <th>disease_name</th>\n",
       "      <th>z_score</th>\n",
       "      <th>confidence_score</th>\n",
       "      <th>url</th>\n",
       "    </tr>\n",
       "  </thead>\n",
       "  <tbody>\n",
       "  </tbody>\n",
       "</table>\n",
       "</div>"
      ],
      "text/plain": [
       "Empty DataFrame\n",
       "Columns: [gene_id, gene_name, disease_id, disease_name, z_score, confidence_score, url]\n",
       "Index: []"
      ]
     },
     "execution_count": 21,
     "metadata": {},
     "output_type": "execute_result"
    }
   ],
   "source": [
    "## double-check work on 1 value\n",
    "df_textmining[df_textmining[\"gene_id\"].str.contains(\"hgnc\", case=False)]"
   ]
  },
  {
   "cell_type": "markdown",
   "id": "4c5dfe80",
   "metadata": {},
   "source": [
    "#### Knowledge"
   ]
  },
  {
   "cell_type": "code",
   "execution_count": 22,
   "id": "b1e9ce0f",
   "metadata": {
    "ExecuteTime": {
     "end_time": "2025-05-06T06:37:49.549726Z",
     "start_time": "2025-05-06T06:37:49.526677Z"
    }
   },
   "outputs": [
    {
     "data": {
      "text/plain": [
       "(41, 7)"
      ]
     },
     "execution_count": 22,
     "metadata": {},
     "output_type": "execute_result"
    },
    {
     "data": {
      "text/plain": [
       "0.00536789735532862"
      ]
     },
     "execution_count": 22,
     "metadata": {},
     "output_type": "execute_result"
    },
    {
     "data": {
      "text/html": [
       "<div>\n",
       "<style scoped>\n",
       "    .dataframe tbody tr th:only-of-type {\n",
       "        vertical-align: middle;\n",
       "    }\n",
       "\n",
       "    .dataframe tbody tr th {\n",
       "        vertical-align: top;\n",
       "    }\n",
       "\n",
       "    .dataframe thead th {\n",
       "        text-align: right;\n",
       "    }\n",
       "</style>\n",
       "<table border=\"1\" class=\"dataframe\">\n",
       "  <thead>\n",
       "    <tr style=\"text-align: right;\">\n",
       "      <th></th>\n",
       "      <th>gene_id</th>\n",
       "      <th>gene_name</th>\n",
       "    </tr>\n",
       "  </thead>\n",
       "  <tbody>\n",
       "    <tr>\n",
       "      <th>0</th>\n",
       "      <td>ABHD11-AS1</td>\n",
       "      <td>ABHD11-AS1</td>\n",
       "    </tr>\n",
       "    <tr>\n",
       "      <th>7598</th>\n",
       "      <td>H19</td>\n",
       "      <td>H19</td>\n",
       "    </tr>\n",
       "    <tr>\n",
       "      <th>7602</th>\n",
       "      <td>KCNQ1OT1</td>\n",
       "      <td>KCNQ1OT1</td>\n",
       "    </tr>\n",
       "    <tr>\n",
       "      <th>7603</th>\n",
       "      <td>MIR17HG</td>\n",
       "      <td>MIR17HG</td>\n",
       "    </tr>\n",
       "    <tr>\n",
       "      <th>7604</th>\n",
       "      <td>MT-RNR1</td>\n",
       "      <td>MT-RNR1</td>\n",
       "    </tr>\n",
       "    <tr>\n",
       "      <th>7605</th>\n",
       "      <td>MT-TF</td>\n",
       "      <td>MT-TF</td>\n",
       "    </tr>\n",
       "    <tr>\n",
       "      <th>7606</th>\n",
       "      <td>MT-TH</td>\n",
       "      <td>MT-TH</td>\n",
       "    </tr>\n",
       "    <tr>\n",
       "      <th>7608</th>\n",
       "      <td>MT-TI</td>\n",
       "      <td>MT-TI</td>\n",
       "    </tr>\n",
       "    <tr>\n",
       "      <th>7610</th>\n",
       "      <td>MT-TK</td>\n",
       "      <td>MT-TK</td>\n",
       "    </tr>\n",
       "    <tr>\n",
       "      <th>7612</th>\n",
       "      <td>MT-TL1</td>\n",
       "      <td>MT-TL1</td>\n",
       "    </tr>\n",
       "    <tr>\n",
       "      <th>7617</th>\n",
       "      <td>MT-TP</td>\n",
       "      <td>MT-TP</td>\n",
       "    </tr>\n",
       "    <tr>\n",
       "      <th>7618</th>\n",
       "      <td>MT-TS1</td>\n",
       "      <td>MT-TS1</td>\n",
       "    </tr>\n",
       "    <tr>\n",
       "      <th>7621</th>\n",
       "      <td>MT-TS2</td>\n",
       "      <td>MT-TS2</td>\n",
       "    </tr>\n",
       "    <tr>\n",
       "      <th>7623</th>\n",
       "      <td>MT-TT</td>\n",
       "      <td>MT-TT</td>\n",
       "    </tr>\n",
       "    <tr>\n",
       "      <th>7624</th>\n",
       "      <td>MT-TV</td>\n",
       "      <td>MT-TV</td>\n",
       "    </tr>\n",
       "    <tr>\n",
       "      <th>7626</th>\n",
       "      <td>MT-TW</td>\n",
       "      <td>MT-TW</td>\n",
       "    </tr>\n",
       "    <tr>\n",
       "      <th>7627</th>\n",
       "      <td>RMRP</td>\n",
       "      <td>RMRP</td>\n",
       "    </tr>\n",
       "    <tr>\n",
       "      <th>7629</th>\n",
       "      <td>TERC</td>\n",
       "      <td>TERC</td>\n",
       "    </tr>\n",
       "    <tr>\n",
       "      <th>7631</th>\n",
       "      <td>U7</td>\n",
       "      <td>U7</td>\n",
       "    </tr>\n",
       "    <tr>\n",
       "      <th>7632</th>\n",
       "      <td>hsa-miR-137</td>\n",
       "      <td>hsa-miR-137</td>\n",
       "    </tr>\n",
       "    <tr>\n",
       "      <th>7633</th>\n",
       "      <td>hsa-miR-145-5p</td>\n",
       "      <td>hsa-miR-145-5p</td>\n",
       "    </tr>\n",
       "    <tr>\n",
       "      <th>7634</th>\n",
       "      <td>hsa-miR-146a-5p</td>\n",
       "      <td>hsa-miR-146a-5p</td>\n",
       "    </tr>\n",
       "    <tr>\n",
       "      <th>7635</th>\n",
       "      <td>hsa-miR-184</td>\n",
       "      <td>hsa-miR-184</td>\n",
       "    </tr>\n",
       "    <tr>\n",
       "      <th>7636</th>\n",
       "      <td>hsa-miR-590-5p</td>\n",
       "      <td>hsa-miR-590-5p</td>\n",
       "    </tr>\n",
       "    <tr>\n",
       "      <th>7637</th>\n",
       "      <td>hsa-miR-96-5p</td>\n",
       "      <td>hsa-miR-96-5p</td>\n",
       "    </tr>\n",
       "  </tbody>\n",
       "</table>\n",
       "</div>"
      ],
      "text/plain": [
       "              gene_id        gene_name\n",
       "0          ABHD11-AS1       ABHD11-AS1\n",
       "7598              H19              H19\n",
       "7602         KCNQ1OT1         KCNQ1OT1\n",
       "7603          MIR17HG          MIR17HG\n",
       "7604          MT-RNR1          MT-RNR1\n",
       "7605            MT-TF            MT-TF\n",
       "7606            MT-TH            MT-TH\n",
       "7608            MT-TI            MT-TI\n",
       "7610            MT-TK            MT-TK\n",
       "7612           MT-TL1           MT-TL1\n",
       "7617            MT-TP            MT-TP\n",
       "7618           MT-TS1           MT-TS1\n",
       "7621           MT-TS2           MT-TS2\n",
       "7623            MT-TT            MT-TT\n",
       "7624            MT-TV            MT-TV\n",
       "7626            MT-TW            MT-TW\n",
       "7627             RMRP             RMRP\n",
       "7629             TERC             TERC\n",
       "7631               U7               U7\n",
       "7632      hsa-miR-137      hsa-miR-137\n",
       "7633   hsa-miR-145-5p   hsa-miR-145-5p\n",
       "7634  hsa-miR-146a-5p  hsa-miR-146a-5p\n",
       "7635      hsa-miR-184      hsa-miR-184\n",
       "7636   hsa-miR-590-5p   hsa-miR-590-5p\n",
       "7637    hsa-miR-96-5p    hsa-miR-96-5p"
      ]
     },
     "execution_count": 22,
     "metadata": {},
     "output_type": "execute_result"
    }
   ],
   "source": [
    "## quick look at knowledge data: short enough for manual review\n",
    "\n",
    "## how much data doesn't have ENSP ID\n",
    "df_knowledge[~ df_knowledge[\"gene_id\"].str.startswith(\"ENSP\")].shape\n",
    "\n",
    "## vs entire dataset\n",
    "df_knowledge[~ df_knowledge[\"gene_id\"].str.startswith(\"ENSP\")].shape[0] / df_knowledge.shape[0]\n",
    "\n",
    "## unique values: can see that gene_id is a name (== gene_name), not an ID\n",
    "df_knowledge[~ df_knowledge[\"gene_id\"].str.startswith(\"ENSP\")][[\"gene_id\", \"gene_name\"]].drop_duplicates()"
   ]
  },
  {
   "cell_type": "markdown",
   "id": "c08d94e3",
   "metadata": {},
   "source": [
    "### gene_name column"
   ]
  },
  {
   "cell_type": "markdown",
   "id": "e0a49dd4",
   "metadata": {},
   "source": [
    "Didn't find IDs in this column that aren't in `gene_id`. \n",
    "\n",
    "Don't need this column for Translator output"
   ]
  },
  {
   "cell_type": "code",
   "execution_count": 23,
   "id": "40da75ac",
   "metadata": {
    "ExecuteTime": {
     "end_time": "2025-05-06T06:37:56.384753Z",
     "start_time": "2025-05-06T06:37:56.379346Z"
    }
   },
   "outputs": [
    {
     "data": {
      "text/plain": [
       "[',', ';', ':']"
      ]
     },
     "execution_count": 23,
     "metadata": {},
     "output_type": "execute_result"
    },
    {
     "data": {
      "text/plain": [
       "['ENSG', 'ensembl', 'uniprotkb', 'uniprot', 'hgnc']"
      ]
     },
     "execution_count": 23,
     "metadata": {},
     "output_type": "execute_result"
    }
   ],
   "source": [
    "delimiters\n",
    "possible_gene_namespaces"
   ]
  },
  {
   "cell_type": "code",
   "execution_count": 24,
   "id": "df7d3cc4",
   "metadata": {
    "ExecuteTime": {
     "end_time": "2025-05-06T06:37:57.738066Z",
     "start_time": "2025-05-06T06:37:57.435123Z"
    }
   },
   "outputs": [
    {
     "name": "stdout",
     "output_type": "stream",
     "text": [
      "text-mining\n",
      "knowledge\n"
     ]
    }
   ],
   "source": [
    "## look for delimiters\n",
    "\n",
    "print(\"text-mining\")\n",
    "check_if_contains(df_textmining, \"gene_name\", delimiters)\n",
    "\n",
    "print(\"knowledge\")\n",
    "check_if_contains(df_knowledge, \"gene_name\", delimiters)\n",
    "\n",
    "## didn't print any stats, so not found"
   ]
  },
  {
   "cell_type": "code",
   "execution_count": 25,
   "id": "838ee490",
   "metadata": {
    "ExecuteTime": {
     "end_time": "2025-05-06T06:37:58.954917Z",
     "start_time": "2025-05-06T06:37:58.380529Z"
    }
   },
   "outputs": [
    {
     "name": "stdout",
     "output_type": "stream",
     "text": [
      "text-mining\n",
      "knowledge\n"
     ]
    }
   ],
   "source": [
    "## look for other ID namespaces\n",
    "\n",
    "print(\"text-mining\")\n",
    "check_if_contains(df_textmining, \"gene_name\", possible_gene_namespaces)\n",
    "\n",
    "print(\"knowledge\")\n",
    "check_if_contains(df_knowledge, \"gene_name\", possible_gene_namespaces)\n",
    "\n",
    "## didn't print any stats, so not found"
   ]
  },
  {
   "cell_type": "code",
   "execution_count": 26,
   "id": "810947d9",
   "metadata": {
    "ExecuteTime": {
     "end_time": "2025-05-06T06:38:00.448470Z",
     "start_time": "2025-05-06T06:38:00.431024Z"
    }
   },
   "outputs": [
    {
     "data": {
      "text/html": [
       "<div>\n",
       "<style scoped>\n",
       "    .dataframe tbody tr th:only-of-type {\n",
       "        vertical-align: middle;\n",
       "    }\n",
       "\n",
       "    .dataframe tbody tr th {\n",
       "        vertical-align: top;\n",
       "    }\n",
       "\n",
       "    .dataframe thead th {\n",
       "        text-align: right;\n",
       "    }\n",
       "</style>\n",
       "<table border=\"1\" class=\"dataframe\">\n",
       "  <thead>\n",
       "    <tr style=\"text-align: right;\">\n",
       "      <th></th>\n",
       "      <th>gene_id</th>\n",
       "      <th>gene_name</th>\n",
       "      <th>disease_id</th>\n",
       "      <th>disease_name</th>\n",
       "      <th>z_score</th>\n",
       "      <th>confidence_score</th>\n",
       "      <th>url</th>\n",
       "    </tr>\n",
       "  </thead>\n",
       "  <tbody>\n",
       "  </tbody>\n",
       "</table>\n",
       "</div>"
      ],
      "text/plain": [
       "Empty DataFrame\n",
       "Columns: [gene_id, gene_name, disease_id, disease_name, z_score, confidence_score, url]\n",
       "Index: []"
      ]
     },
     "execution_count": 26,
     "metadata": {},
     "output_type": "execute_result"
    }
   ],
   "source": [
    "## for textmining only, are there rows with ENSP in gene_name but not gene_id?\n",
    "## not for knowledge: already reviewed manually\n",
    "\n",
    "df_no_ENSP_textmining[df_no_ENSP_textmining[\"gene_name\"].str.contains(\"ENSP\", case=False)]\n",
    "## no, empty df"
   ]
  },
  {
   "cell_type": "markdown",
   "id": "5523f8b8",
   "metadata": {},
   "source": [
    "### disease_id"
   ]
  },
  {
   "cell_type": "markdown",
   "id": "c959f4f2",
   "metadata": {},
   "source": [
    "<div class=\"alert alert-block alert-info\">\n",
    "\n",
    "**A small portion of the data doesn't have DOID IDs!** Instead, they're AmyCo IDs (not usable). **Drop these rows from further parsing (can't NodeNorm)** "
   ]
  },
  {
   "cell_type": "code",
   "execution_count": 27,
   "id": "e4acbeff",
   "metadata": {
    "ExecuteTime": {
     "end_time": "2025-05-06T06:38:03.234790Z",
     "start_time": "2025-05-06T06:38:02.926276Z"
    }
   },
   "outputs": [
    {
     "name": "stdout",
     "output_type": "stream",
     "text": [
      "text-mining\n",
      "knowledge\n"
     ]
    }
   ],
   "source": [
    "## check for delimiters (between prefix and ID, between IDs)\n",
    "## custom set since DOID: has :\n",
    "\n",
    "print(\"text-mining\")\n",
    "check_if_contains(df_textmining, \"disease_id\", [\",\", \";\", \"_\"])\n",
    "\n",
    "print(\"knowledge\")\n",
    "check_if_contains(df_knowledge, \"disease_id\", [\",\", \";\", \"_\"])\n",
    "\n",
    "## didn't print any stats, so not found"
   ]
  },
  {
   "cell_type": "markdown",
   "id": "1d2befee",
   "metadata": {},
   "source": [
    "#### Text-mining"
   ]
  },
  {
   "cell_type": "code",
   "execution_count": 28,
   "id": "d5219767",
   "metadata": {
    "ExecuteTime": {
     "end_time": "2025-05-06T06:38:05.637973Z",
     "start_time": "2025-05-06T06:38:05.546040Z"
    }
   },
   "outputs": [
    {
     "data": {
      "text/plain": [
       "(42, 7)"
      ]
     },
     "execution_count": 28,
     "metadata": {},
     "output_type": "execute_result"
    },
    {
     "data": {
      "text/plain": [
       "0.00014554477061104546"
      ]
     },
     "execution_count": 28,
     "metadata": {},
     "output_type": "execute_result"
    }
   ],
   "source": [
    "## how much data doesn't have DOID ID\n",
    "df_no_DOID_textmining = df_textmining[~ df_textmining[\"disease_id\"].str.startswith(\"DOID:\")].copy()\n",
    "df_no_DOID_textmining.shape\n",
    "\n",
    "## vs entire dataset\n",
    "df_no_DOID_textmining.shape[0] / df_textmining.shape[0]"
   ]
  },
  {
   "cell_type": "code",
   "execution_count": 29,
   "id": "4cd4cf2c",
   "metadata": {
    "ExecuteTime": {
     "end_time": "2025-05-06T06:38:06.531689Z",
     "start_time": "2025-05-06T06:38:06.523147Z"
    }
   },
   "outputs": [
    {
     "data": {
      "text/html": [
       "<div>\n",
       "<style scoped>\n",
       "    .dataframe tbody tr th:only-of-type {\n",
       "        vertical-align: middle;\n",
       "    }\n",
       "\n",
       "    .dataframe tbody tr th {\n",
       "        vertical-align: top;\n",
       "    }\n",
       "\n",
       "    .dataframe thead th {\n",
       "        text-align: right;\n",
       "    }\n",
       "</style>\n",
       "<table border=\"1\" class=\"dataframe\">\n",
       "  <thead>\n",
       "    <tr style=\"text-align: right;\">\n",
       "      <th></th>\n",
       "      <th>disease_id</th>\n",
       "      <th>disease_name</th>\n",
       "    </tr>\n",
       "  </thead>\n",
       "  <tbody>\n",
       "    <tr>\n",
       "      <th>51380</th>\n",
       "      <td>AmyCo:23</td>\n",
       "      <td>AH Amyloidosis</td>\n",
       "    </tr>\n",
       "    <tr>\n",
       "      <th>59407</th>\n",
       "      <td>AmyCo:35</td>\n",
       "      <td>Calcifying Epithelial Odontogenic Tumor</td>\n",
       "    </tr>\n",
       "    <tr>\n",
       "      <th>61404</th>\n",
       "      <td>AmyCo:73</td>\n",
       "      <td>Senile Seminal Vesicle Amyloidosis</td>\n",
       "    </tr>\n",
       "    <tr>\n",
       "      <th>79414</th>\n",
       "      <td>AmyCo:30</td>\n",
       "      <td>Wild-type transthyretin-related Amyloidosis</td>\n",
       "    </tr>\n",
       "    <tr>\n",
       "      <th>96613</th>\n",
       "      <td>AmyCo:27</td>\n",
       "      <td>Leukocyte chemotactic factor 2 Amyloidosis</td>\n",
       "    </tr>\n",
       "    <tr>\n",
       "      <th>127630</th>\n",
       "      <td>AmyCo:29</td>\n",
       "      <td>AA Amyloidosis</td>\n",
       "    </tr>\n",
       "    <tr>\n",
       "      <th>176518</th>\n",
       "      <td>AmyCo:37</td>\n",
       "      <td>Isolated Atrial Amyloidosis</td>\n",
       "    </tr>\n",
       "    <tr>\n",
       "      <th>187314</th>\n",
       "      <td>AmyCo:20</td>\n",
       "      <td>Hereditary lysozyme Amyloidosis</td>\n",
       "    </tr>\n",
       "    <tr>\n",
       "      <th>246160</th>\n",
       "      <td>AmyCo:24</td>\n",
       "      <td>AHL Amyloidosis</td>\n",
       "    </tr>\n",
       "    <tr>\n",
       "      <th>254995</th>\n",
       "      <td>AmyCo:8</td>\n",
       "      <td>Immunoglobulin Light-chain Amyloidosis</td>\n",
       "    </tr>\n",
       "    <tr>\n",
       "      <th>262482</th>\n",
       "      <td>AmyCo:36</td>\n",
       "      <td>Variably Protease-Sensitive Prionopathy</td>\n",
       "    </tr>\n",
       "  </tbody>\n",
       "</table>\n",
       "</div>"
      ],
      "text/plain": [
       "       disease_id                                 disease_name\n",
       "51380    AmyCo:23                               AH Amyloidosis\n",
       "59407    AmyCo:35      Calcifying Epithelial Odontogenic Tumor\n",
       "61404    AmyCo:73           Senile Seminal Vesicle Amyloidosis\n",
       "79414    AmyCo:30  Wild-type transthyretin-related Amyloidosis\n",
       "96613    AmyCo:27   Leukocyte chemotactic factor 2 Amyloidosis\n",
       "127630   AmyCo:29                               AA Amyloidosis\n",
       "176518   AmyCo:37                  Isolated Atrial Amyloidosis\n",
       "187314   AmyCo:20              Hereditary lysozyme Amyloidosis\n",
       "246160   AmyCo:24                              AHL Amyloidosis\n",
       "254995    AmyCo:8       Immunoglobulin Light-chain Amyloidosis\n",
       "262482   AmyCo:36      Variably Protease-Sensitive Prionopathy"
      ]
     },
     "execution_count": 29,
     "metadata": {},
     "output_type": "execute_result"
    }
   ],
   "source": [
    "## look at non-DOID data: unique values\n",
    "df_no_DOID_textmining[[\"disease_id\", \"disease_name\"]].drop_duplicates()"
   ]
  },
  {
   "cell_type": "markdown",
   "id": "6a5ef2d4",
   "metadata": {},
   "source": [
    "#### Knowledge"
   ]
  },
  {
   "cell_type": "code",
   "execution_count": 30,
   "id": "02f0a9a4",
   "metadata": {
    "ExecuteTime": {
     "end_time": "2025-05-06T06:38:09.456978Z",
     "start_time": "2025-05-06T06:38:09.447928Z"
    }
   },
   "outputs": [
    {
     "data": {
      "text/plain": [
       "(71, 7)"
      ]
     },
     "execution_count": 30,
     "metadata": {},
     "output_type": "execute_result"
    },
    {
     "data": {
      "text/plain": [
       "0.009295627127520294"
      ]
     },
     "execution_count": 30,
     "metadata": {},
     "output_type": "execute_result"
    }
   ],
   "source": [
    "## how much data doesn't have DOID ID\n",
    "df_no_DOID_knowledge = df_knowledge[~ df_knowledge[\"disease_id\"].str.startswith(\"DOID:\")].copy()\n",
    "df_no_DOID_knowledge.shape\n",
    "\n",
    "## vs entire dataset\n",
    "df_no_DOID_knowledge.shape[0] / df_knowledge.shape[0]"
   ]
  },
  {
   "cell_type": "code",
   "execution_count": 31,
   "id": "40ffb380",
   "metadata": {
    "ExecuteTime": {
     "end_time": "2025-05-06T06:38:10.358327Z",
     "start_time": "2025-05-06T06:38:10.349145Z"
    }
   },
   "outputs": [
    {
     "data": {
      "text/html": [
       "<div>\n",
       "<style scoped>\n",
       "    .dataframe tbody tr th:only-of-type {\n",
       "        vertical-align: middle;\n",
       "    }\n",
       "\n",
       "    .dataframe tbody tr th {\n",
       "        vertical-align: top;\n",
       "    }\n",
       "\n",
       "    .dataframe thead th {\n",
       "        text-align: right;\n",
       "    }\n",
       "</style>\n",
       "<table border=\"1\" class=\"dataframe\">\n",
       "  <thead>\n",
       "    <tr style=\"text-align: right;\">\n",
       "      <th></th>\n",
       "      <th>disease_id</th>\n",
       "      <th>disease_name</th>\n",
       "    </tr>\n",
       "  </thead>\n",
       "  <tbody>\n",
       "    <tr>\n",
       "      <th>351</th>\n",
       "      <td>AmyCo:26</td>\n",
       "      <td>Apolipoprotein C-III associated Amyloidosis</td>\n",
       "    </tr>\n",
       "    <tr>\n",
       "      <th>508</th>\n",
       "      <td>AmyCo:16</td>\n",
       "      <td>Localized insulin-derived Amyloidosis</td>\n",
       "    </tr>\n",
       "    <tr>\n",
       "      <th>509</th>\n",
       "      <td>AmyCo:17</td>\n",
       "      <td>Apolipoprotein A-I associated Amyloidosis</td>\n",
       "    </tr>\n",
       "    <tr>\n",
       "      <th>511</th>\n",
       "      <td>AmyCo:63</td>\n",
       "      <td>Enfuvirtide-induced Amyloidosis</td>\n",
       "    </tr>\n",
       "    <tr>\n",
       "      <th>518</th>\n",
       "      <td>AmyCo:30</td>\n",
       "      <td>Wild-type transthyretin-related Amyloidosis</td>\n",
       "    </tr>\n",
       "    <tr>\n",
       "      <th>731</th>\n",
       "      <td>AmyCo:22</td>\n",
       "      <td>Apolipoprotein A-II associated Amyloidosis</td>\n",
       "    </tr>\n",
       "    <tr>\n",
       "      <th>732</th>\n",
       "      <td>AmyCo:23</td>\n",
       "      <td>AH Amyloidosis</td>\n",
       "    </tr>\n",
       "    <tr>\n",
       "      <th>733</th>\n",
       "      <td>AmyCo:24</td>\n",
       "      <td>AHL Amyloidosis</td>\n",
       "    </tr>\n",
       "    <tr>\n",
       "      <th>734</th>\n",
       "      <td>AmyCo:25</td>\n",
       "      <td>Apolipoprotein C-II associated Amyloidosis</td>\n",
       "    </tr>\n",
       "    <tr>\n",
       "      <th>736</th>\n",
       "      <td>AmyCo:27</td>\n",
       "      <td>Leukocyte chemotactic factor 2 Amyloidosis</td>\n",
       "    </tr>\n",
       "    <tr>\n",
       "      <th>737</th>\n",
       "      <td>AmyCo:28</td>\n",
       "      <td>Apolipoprotein A-IV associated Amyloidosis</td>\n",
       "    </tr>\n",
       "    <tr>\n",
       "      <th>738</th>\n",
       "      <td>AmyCo:29</td>\n",
       "      <td>AA Amyloidosis</td>\n",
       "    </tr>\n",
       "    <tr>\n",
       "      <th>739</th>\n",
       "      <td>AmyCo:33</td>\n",
       "      <td>Wild type beta-2-microglobulin-related Amyloid...</td>\n",
       "    </tr>\n",
       "    <tr>\n",
       "      <th>741</th>\n",
       "      <td>AmyCo:8</td>\n",
       "      <td>Immunoglobulin Light-chain Amyloidosis</td>\n",
       "    </tr>\n",
       "    <tr>\n",
       "      <th>835</th>\n",
       "      <td>AmyCo:67</td>\n",
       "      <td>PrP Systemic Amyloidosis</td>\n",
       "    </tr>\n",
       "    <tr>\n",
       "      <th>1050</th>\n",
       "      <td>AmyCo:20</td>\n",
       "      <td>Hereditary lysozyme Amyloidosis</td>\n",
       "    </tr>\n",
       "    <tr>\n",
       "      <th>1558</th>\n",
       "      <td>AmyCo:40</td>\n",
       "      <td>Medin Amyloidosis</td>\n",
       "    </tr>\n",
       "    <tr>\n",
       "      <th>4556</th>\n",
       "      <td>AmyCo:73</td>\n",
       "      <td>Senile Seminal Vesicle Amyloidosis</td>\n",
       "    </tr>\n",
       "    <tr>\n",
       "      <th>4799</th>\n",
       "      <td>AmyCo:37</td>\n",
       "      <td>Isolated Atrial Amyloidosis</td>\n",
       "    </tr>\n",
       "    <tr>\n",
       "      <th>5419</th>\n",
       "      <td>AmyCo:35</td>\n",
       "      <td>Calcifying Epithelial Odontogenic Tumor</td>\n",
       "    </tr>\n",
       "    <tr>\n",
       "      <th>5948</th>\n",
       "      <td>AmyCo:36</td>\n",
       "      <td>Variably Protease-Sensitive Prionopathy</td>\n",
       "    </tr>\n",
       "    <tr>\n",
       "      <th>7457</th>\n",
       "      <td>AmyCo:75</td>\n",
       "      <td>Hereditary beta-2-microglobulin-related Amyloi...</td>\n",
       "    </tr>\n",
       "    <tr>\n",
       "      <th>7499</th>\n",
       "      <td>AmyCo:19</td>\n",
       "      <td>Hereditary fibrinogen A alpha-chain Amyloidosis</td>\n",
       "    </tr>\n",
       "  </tbody>\n",
       "</table>\n",
       "</div>"
      ],
      "text/plain": [
       "     disease_id                                       disease_name\n",
       "351    AmyCo:26        Apolipoprotein C-III associated Amyloidosis\n",
       "508    AmyCo:16              Localized insulin-derived Amyloidosis\n",
       "509    AmyCo:17          Apolipoprotein A-I associated Amyloidosis\n",
       "511    AmyCo:63                    Enfuvirtide-induced Amyloidosis\n",
       "518    AmyCo:30        Wild-type transthyretin-related Amyloidosis\n",
       "731    AmyCo:22         Apolipoprotein A-II associated Amyloidosis\n",
       "732    AmyCo:23                                     AH Amyloidosis\n",
       "733    AmyCo:24                                    AHL Amyloidosis\n",
       "734    AmyCo:25         Apolipoprotein C-II associated Amyloidosis\n",
       "736    AmyCo:27         Leukocyte chemotactic factor 2 Amyloidosis\n",
       "737    AmyCo:28         Apolipoprotein A-IV associated Amyloidosis\n",
       "738    AmyCo:29                                     AA Amyloidosis\n",
       "739    AmyCo:33  Wild type beta-2-microglobulin-related Amyloid...\n",
       "741     AmyCo:8             Immunoglobulin Light-chain Amyloidosis\n",
       "835    AmyCo:67                           PrP Systemic Amyloidosis\n",
       "1050   AmyCo:20                    Hereditary lysozyme Amyloidosis\n",
       "1558   AmyCo:40                                  Medin Amyloidosis\n",
       "4556   AmyCo:73                 Senile Seminal Vesicle Amyloidosis\n",
       "4799   AmyCo:37                        Isolated Atrial Amyloidosis\n",
       "5419   AmyCo:35            Calcifying Epithelial Odontogenic Tumor\n",
       "5948   AmyCo:36            Variably Protease-Sensitive Prionopathy\n",
       "7457   AmyCo:75  Hereditary beta-2-microglobulin-related Amyloi...\n",
       "7499   AmyCo:19    Hereditary fibrinogen A alpha-chain Amyloidosis"
      ]
     },
     "execution_count": 31,
     "metadata": {},
     "output_type": "execute_result"
    }
   ],
   "source": [
    "## look at non-DOID data: unique values\n",
    "df_no_DOID_knowledge[[\"disease_id\", \"disease_name\"]].drop_duplicates()"
   ]
  },
  {
   "cell_type": "markdown",
   "id": "9a985800",
   "metadata": {},
   "source": [
    "### Other columns"
   ]
  },
  {
   "cell_type": "markdown",
   "id": "4b2b6757",
   "metadata": {},
   "source": [
    "Quick checks on what other data looks like. \n",
    "\n",
    "Didn't review disease_name: already reviewed non-DOID rows, don't need in Translator output "
   ]
  },
  {
   "cell_type": "markdown",
   "id": "46823004",
   "metadata": {},
   "source": [
    "#### Text-mining"
   ]
  },
  {
   "cell_type": "code",
   "execution_count": 32,
   "id": "7a5b84bb",
   "metadata": {
    "ExecuteTime": {
     "end_time": "2025-05-06T06:38:14.469572Z",
     "start_time": "2025-05-06T06:38:14.439006Z"
    }
   },
   "outputs": [
    {
     "data": {
      "text/plain": [
       "count    288571.000000\n",
       "mean          3.900408\n",
       "std           0.825318\n",
       "min           3.000000\n",
       "25%           3.279000\n",
       "50%           3.664000\n",
       "75%           4.280000\n",
       "max          10.055000\n",
       "Name: z_score, dtype: float64"
      ]
     },
     "execution_count": 32,
     "metadata": {},
     "output_type": "execute_result"
    },
    {
     "data": {
      "text/plain": [
       "count    288571.000000\n",
       "mean          1.950045\n",
       "std           0.411813\n",
       "min           1.500000\n",
       "25%           1.639000\n",
       "50%           1.832000\n",
       "75%           2.140000\n",
       "max           4.000000\n",
       "Name: confidence_score, dtype: float64"
      ]
     },
     "execution_count": 32,
     "metadata": {},
     "output_type": "execute_result"
    }
   ],
   "source": [
    "## minimum being 3 means filtering was probably done, to remove anything with low z-score\n",
    "df_textmining[\"z_score\"].describe()\n",
    "\n",
    "## 1 = 2 standard deviations above mean, cutoff at 4\n",
    "df_textmining[\"confidence_score\"].describe()"
   ]
  },
  {
   "cell_type": "code",
   "execution_count": 33,
   "id": "6f4ee4c1",
   "metadata": {
    "ExecuteTime": {
     "end_time": "2025-05-06T06:38:26.727065Z",
     "start_time": "2025-05-06T06:38:26.491793Z"
    }
   },
   "outputs": [],
   "source": [
    "## url: check for delimiters (multiple urls)\n",
    "## custom set since DOID: (:), some names have _\n",
    "\n",
    "check_if_contains(df_textmining, \"url\", [\",\", \";\"])\n",
    "\n",
    "## didn't print any stats, so not found"
   ]
  },
  {
   "cell_type": "code",
   "execution_count": 34,
   "id": "b3659488",
   "metadata": {
    "ExecuteTime": {
     "end_time": "2025-05-06T06:38:27.508656Z",
     "start_time": "2025-05-06T06:38:27.463323Z"
    }
   },
   "outputs": [
    {
     "data": {
      "text/html": [
       "<div>\n",
       "<style scoped>\n",
       "    .dataframe tbody tr th:only-of-type {\n",
       "        vertical-align: middle;\n",
       "    }\n",
       "\n",
       "    .dataframe tbody tr th {\n",
       "        vertical-align: top;\n",
       "    }\n",
       "\n",
       "    .dataframe thead th {\n",
       "        text-align: right;\n",
       "    }\n",
       "</style>\n",
       "<table border=\"1\" class=\"dataframe\">\n",
       "  <thead>\n",
       "    <tr style=\"text-align: right;\">\n",
       "      <th></th>\n",
       "      <th>gene_id</th>\n",
       "      <th>gene_name</th>\n",
       "      <th>disease_id</th>\n",
       "      <th>disease_name</th>\n",
       "      <th>z_score</th>\n",
       "      <th>confidence_score</th>\n",
       "      <th>url</th>\n",
       "    </tr>\n",
       "  </thead>\n",
       "  <tbody>\n",
       "  </tbody>\n",
       "</table>\n",
       "</div>"
      ],
      "text/plain": [
       "Empty DataFrame\n",
       "Columns: [gene_id, gene_name, disease_id, disease_name, z_score, confidence_score, url]\n",
       "Index: []"
      ]
     },
     "execution_count": 34,
     "metadata": {},
     "output_type": "execute_result"
    }
   ],
   "source": [
    "## url: check for whitespace - none\n",
    "\n",
    "df_textmining[df_textmining[\"url\"].str.isspace()]"
   ]
  },
  {
   "cell_type": "markdown",
   "id": "cc14434c",
   "metadata": {},
   "source": [
    "#### Knowledge"
   ]
  },
  {
   "cell_type": "code",
   "execution_count": 35,
   "id": "a24b9be5",
   "metadata": {
    "ExecuteTime": {
     "end_time": "2025-05-06T06:38:29.784861Z",
     "start_time": "2025-05-06T06:38:29.778853Z"
    }
   },
   "outputs": [
    {
     "data": {
      "text/plain": [
       "source_db\n",
       "MedlinePlus     3770\n",
       "UniProtKB-KW    3611\n",
       "AmyCo            257\n",
       "Name: count, dtype: int64"
      ]
     },
     "execution_count": 35,
     "metadata": {},
     "output_type": "execute_result"
    }
   ],
   "source": [
    "df_knowledge[\"source_db\"].value_counts()"
   ]
  },
  {
   "cell_type": "code",
   "execution_count": 36,
   "id": "d21b8cb7",
   "metadata": {
    "ExecuteTime": {
     "end_time": "2025-05-06T06:38:30.513579Z",
     "start_time": "2025-05-06T06:38:30.507731Z"
    }
   },
   "outputs": [
    {
     "data": {
      "text/plain": [
       "evidence_type\n",
       "CURATED    7638\n",
       "Name: count, dtype: int64"
      ]
     },
     "execution_count": 36,
     "metadata": {},
     "output_type": "execute_result"
    }
   ],
   "source": [
    "df_knowledge[\"evidence_type\"].value_counts()\n",
    "## always the same value"
   ]
  },
  {
   "cell_type": "code",
   "execution_count": 37,
   "id": "e5a29a4f",
   "metadata": {
    "ExecuteTime": {
     "end_time": "2025-05-06T06:38:31.167870Z",
     "start_time": "2025-05-06T06:38:31.162224Z"
    },
    "scrolled": true
   },
   "outputs": [
    {
     "data": {
      "text/plain": [
       "confidence_score\n",
       "4    3817\n",
       "5    3770\n",
       "3      35\n",
       "2      16\n",
       "Name: count, dtype: int64"
      ]
     },
     "execution_count": 37,
     "metadata": {},
     "output_type": "execute_result"
    }
   ],
   "source": [
    "df_knowledge[\"confidence_score\"].value_counts()"
   ]
  },
  {
   "cell_type": "markdown",
   "id": "608993f4",
   "metadata": {},
   "source": [
    "## Remove rows"
   ]
  },
  {
   "cell_type": "markdown",
   "id": "07946299",
   "metadata": {},
   "source": [
    "<div class=\"alert alert-block alert-info\">\n",
    "\n",
    "Removing:\n",
    "* knowledge's UniProtKB-KW data: Doesn't seem accurate, Likely has licensing issues (OMIM). Analysis in Slack canvas\n",
    "* rows that don't have ENSP IDs in gene_id column: can't NodeNorm them\n",
    "* rows that don't have DOID IDs in disease_id column: can't NodeNorm them\n",
    "\n",
    "Not removing duplicates! Because planning to ingest file in chunks, so need other method (check set of already-done). "
   ]
  },
  {
   "cell_type": "code",
   "execution_count": 38,
   "id": "a14061b3",
   "metadata": {
    "ExecuteTime": {
     "end_time": "2025-05-06T06:38:34.959817Z",
     "start_time": "2025-05-06T06:38:34.956971Z"
    }
   },
   "outputs": [],
   "source": [
    "## calculate stats before removing\n",
    "\n",
    "nrows_textmining_original = df_textmining.shape[0]\n",
    "nrows_knowledge_original = df_knowledge.shape[0]"
   ]
  },
  {
   "cell_type": "code",
   "execution_count": 39,
   "id": "4ee8e2ae",
   "metadata": {
    "ExecuteTime": {
     "end_time": "2025-05-06T06:38:35.822618Z",
     "start_time": "2025-05-06T06:38:35.817238Z"
    }
   },
   "outputs": [
    {
     "name": "stdout",
     "output_type": "stream",
     "text": [
      "knowledge: 3611 rows removed\n"
     ]
    }
   ],
   "source": [
    "## put into parser (don't do stats, print)\n",
    "\n",
    "## remove knowledge's UniProtKB-KW data\n",
    "df_knowledge = df_knowledge[df_knowledge[\"source_db\"] != \"UniProtKB-KW\"]\n",
    "\n",
    "## stats\n",
    "nrows_knowledge_filtered = df_knowledge.shape[0]\n",
    "print(f\"knowledge: {nrows_knowledge_original - nrows_knowledge_filtered} rows removed\")"
   ]
  },
  {
   "cell_type": "code",
   "execution_count": 40,
   "id": "7a52ce49",
   "metadata": {
    "ExecuteTime": {
     "end_time": "2025-05-06T06:38:36.936869Z",
     "start_time": "2025-05-06T06:38:36.825691Z"
    }
   },
   "outputs": [
    {
     "name": "stdout",
     "output_type": "stream",
     "text": [
      "textmining: 16505 rows removed\n",
      "knowledge: 41 rows removed\n"
     ]
    }
   ],
   "source": [
    "## put into parser (don't do stats, print)\n",
    "\n",
    "## remove rows that don't have ENSP IDs\n",
    "df_textmining = df_textmining[df_textmining[\"gene_id\"].str.startswith(\"ENSP\")]\n",
    "df_knowledge = df_knowledge[df_knowledge[\"gene_id\"].str.startswith(\"ENSP\")]\n",
    "\n",
    "\n",
    "## stats\n",
    "nrows_textmining_filtered = df_textmining.shape[0]\n",
    "print(f\"textmining: {nrows_textmining_original - nrows_textmining_filtered} rows removed\")\n",
    "## don't rewrite variable yet, so you can compare previous to now\n",
    "print(f\"knowledge: {nrows_knowledge_filtered - df_knowledge.shape[0]} rows removed\")\n",
    "\n",
    "## update this variable\n",
    "nrows_knowledge_filtered = df_knowledge.shape[0]"
   ]
  },
  {
   "cell_type": "code",
   "execution_count": 41,
   "id": "30f51663",
   "metadata": {
    "ExecuteTime": {
     "end_time": "2025-05-06T06:38:38.702454Z",
     "start_time": "2025-05-06T06:38:38.587279Z"
    }
   },
   "outputs": [
    {
     "name": "stdout",
     "output_type": "stream",
     "text": [
      "textmining: 42 rows removed\n",
      "knowledge: 71 rows removed\n"
     ]
    }
   ],
   "source": [
    "## put into parser (don't do stats, print)\n",
    "\n",
    "## remove rows that don't have DOID IDs\n",
    "df_textmining = df_textmining[df_textmining[\"disease_id\"].str.startswith(\"DOID:\")]\n",
    "df_knowledge = df_knowledge[df_knowledge[\"disease_id\"].str.startswith(\"DOID:\")]\n",
    "\n",
    "\n",
    "## stats\n",
    "## don't rewrite variable yet, so you can compare previous to now\n",
    "print(f\"textmining: {nrows_textmining_filtered - df_textmining.shape[0]} rows removed\")\n",
    "print(f\"knowledge: {nrows_knowledge_filtered - df_knowledge.shape[0]} rows removed\")\n",
    "\n",
    "## update this variable\n",
    "nrows_textmining_filtered = df_textmining.shape[0]\n",
    "nrows_knowledge_filtered = df_knowledge.shape[0]"
   ]
  },
  {
   "cell_type": "code",
   "execution_count": 42,
   "id": "0ed627c8",
   "metadata": {
    "ExecuteTime": {
     "end_time": "2025-05-06T06:38:41.149161Z",
     "start_time": "2025-05-06T06:38:41.137356Z"
    }
   },
   "outputs": [
    {
     "data": {
      "text/html": [
       "<div>\n",
       "<style scoped>\n",
       "    .dataframe tbody tr th:only-of-type {\n",
       "        vertical-align: middle;\n",
       "    }\n",
       "\n",
       "    .dataframe tbody tr th {\n",
       "        vertical-align: top;\n",
       "    }\n",
       "\n",
       "    .dataframe thead th {\n",
       "        text-align: right;\n",
       "    }\n",
       "</style>\n",
       "<table border=\"1\" class=\"dataframe\">\n",
       "  <thead>\n",
       "    <tr style=\"text-align: right;\">\n",
       "      <th></th>\n",
       "      <th>gene_id</th>\n",
       "      <th>gene_name</th>\n",
       "      <th>disease_id</th>\n",
       "      <th>disease_name</th>\n",
       "      <th>source_db</th>\n",
       "      <th>evidence_type</th>\n",
       "      <th>confidence_score</th>\n",
       "    </tr>\n",
       "  </thead>\n",
       "  <tbody>\n",
       "    <tr>\n",
       "      <th>63</th>\n",
       "      <td>ENSP00000167586</td>\n",
       "      <td>KRT14</td>\n",
       "      <td>DOID:0050430</td>\n",
       "      <td>Multiple endocrine neoplasia type 2A</td>\n",
       "      <td>AmyCo</td>\n",
       "      <td>CURATED</td>\n",
       "      <td>2</td>\n",
       "    </tr>\n",
       "    <tr>\n",
       "      <th>64</th>\n",
       "      <td>ENSP00000167586</td>\n",
       "      <td>KRT14</td>\n",
       "      <td>DOID:0050639</td>\n",
       "      <td>Primary cutaneous amyloidosis</td>\n",
       "      <td>AmyCo</td>\n",
       "      <td>CURATED</td>\n",
       "      <td>4</td>\n",
       "    </tr>\n",
       "    <tr>\n",
       "      <th>66</th>\n",
       "      <td>ENSP00000167586</td>\n",
       "      <td>KRT14</td>\n",
       "      <td>DOID:2513</td>\n",
       "      <td>Basal cell carcinoma</td>\n",
       "      <td>AmyCo</td>\n",
       "      <td>CURATED</td>\n",
       "      <td>4</td>\n",
       "    </tr>\n",
       "    <tr>\n",
       "      <th>70</th>\n",
       "      <td>ENSP00000167586</td>\n",
       "      <td>KRT14</td>\n",
       "      <td>DOID:6498</td>\n",
       "      <td>Seborrheic keratosis</td>\n",
       "      <td>AmyCo</td>\n",
       "      <td>CURATED</td>\n",
       "      <td>4</td>\n",
       "    </tr>\n",
       "    <tr>\n",
       "      <th>71</th>\n",
       "      <td>ENSP00000167586</td>\n",
       "      <td>KRT14</td>\n",
       "      <td>DOID:7039</td>\n",
       "      <td>Borst-Jadassohn intraepidermal carcinoma</td>\n",
       "      <td>AmyCo</td>\n",
       "      <td>CURATED</td>\n",
       "      <td>3</td>\n",
       "    </tr>\n",
       "    <tr>\n",
       "      <th>...</th>\n",
       "      <td>...</td>\n",
       "      <td>...</td>\n",
       "      <td>...</td>\n",
       "      <td>...</td>\n",
       "      <td>...</td>\n",
       "      <td>...</td>\n",
       "      <td>...</td>\n",
       "    </tr>\n",
       "    <tr>\n",
       "      <th>7400</th>\n",
       "      <td>ENSP00000497221</td>\n",
       "      <td>ITM2B</td>\n",
       "      <td>DOID:0070029</td>\n",
       "      <td>ITM2B-related cerebral amyloid angiopathy 1</td>\n",
       "      <td>AmyCo</td>\n",
       "      <td>CURATED</td>\n",
       "      <td>4</td>\n",
       "    </tr>\n",
       "    <tr>\n",
       "      <th>7401</th>\n",
       "      <td>ENSP00000497221</td>\n",
       "      <td>ITM2B</td>\n",
       "      <td>DOID:0070030</td>\n",
       "      <td>ITM2B-related cerebral amyloid angiopathy 2</td>\n",
       "      <td>AmyCo</td>\n",
       "      <td>CURATED</td>\n",
       "      <td>4</td>\n",
       "    </tr>\n",
       "    <tr>\n",
       "      <th>7458</th>\n",
       "      <td>ENSP00000497910</td>\n",
       "      <td>B2M</td>\n",
       "      <td>DOID:0050747</td>\n",
       "      <td>DOID:0050747</td>\n",
       "      <td>AmyCo</td>\n",
       "      <td>CURATED</td>\n",
       "      <td>4</td>\n",
       "    </tr>\n",
       "    <tr>\n",
       "      <th>7586</th>\n",
       "      <td>ENSP00000500990</td>\n",
       "      <td>SNCA</td>\n",
       "      <td>DOID:12217</td>\n",
       "      <td>Lewy body dementia</td>\n",
       "      <td>AmyCo</td>\n",
       "      <td>CURATED</td>\n",
       "      <td>4</td>\n",
       "    </tr>\n",
       "    <tr>\n",
       "      <th>7589</th>\n",
       "      <td>ENSP00000500990</td>\n",
       "      <td>SNCA</td>\n",
       "      <td>DOID:14330</td>\n",
       "      <td>Parkinson's disease</td>\n",
       "      <td>AmyCo</td>\n",
       "      <td>CURATED</td>\n",
       "      <td>4</td>\n",
       "    </tr>\n",
       "  </tbody>\n",
       "</table>\n",
       "<p>186 rows × 7 columns</p>\n",
       "</div>"
      ],
      "text/plain": [
       "              gene_id gene_name    disease_id  \\\n",
       "63    ENSP00000167586     KRT14  DOID:0050430   \n",
       "64    ENSP00000167586     KRT14  DOID:0050639   \n",
       "66    ENSP00000167586     KRT14     DOID:2513   \n",
       "70    ENSP00000167586     KRT14     DOID:6498   \n",
       "71    ENSP00000167586     KRT14     DOID:7039   \n",
       "...               ...       ...           ...   \n",
       "7400  ENSP00000497221     ITM2B  DOID:0070029   \n",
       "7401  ENSP00000497221     ITM2B  DOID:0070030   \n",
       "7458  ENSP00000497910       B2M  DOID:0050747   \n",
       "7586  ENSP00000500990      SNCA    DOID:12217   \n",
       "7589  ENSP00000500990      SNCA    DOID:14330   \n",
       "\n",
       "                                     disease_name source_db evidence_type  \\\n",
       "63           Multiple endocrine neoplasia type 2A     AmyCo       CURATED   \n",
       "64                  Primary cutaneous amyloidosis     AmyCo       CURATED   \n",
       "66                           Basal cell carcinoma     AmyCo       CURATED   \n",
       "70                           Seborrheic keratosis     AmyCo       CURATED   \n",
       "71       Borst-Jadassohn intraepidermal carcinoma     AmyCo       CURATED   \n",
       "...                                           ...       ...           ...   \n",
       "7400  ITM2B-related cerebral amyloid angiopathy 1     AmyCo       CURATED   \n",
       "7401  ITM2B-related cerebral amyloid angiopathy 2     AmyCo       CURATED   \n",
       "7458                                 DOID:0050747     AmyCo       CURATED   \n",
       "7586                           Lewy body dementia     AmyCo       CURATED   \n",
       "7589                          Parkinson's disease     AmyCo       CURATED   \n",
       "\n",
       "      confidence_score  \n",
       "63                   2  \n",
       "64                   4  \n",
       "66                   4  \n",
       "70                   4  \n",
       "71                   3  \n",
       "...                ...  \n",
       "7400                 4  \n",
       "7401                 4  \n",
       "7458                 4  \n",
       "7586                 4  \n",
       "7589                 4  \n",
       "\n",
       "[186 rows x 7 columns]"
      ]
     },
     "execution_count": 42,
     "metadata": {},
     "output_type": "execute_result"
    }
   ],
   "source": [
    "## code to reviewing dataframes, make sure all removed properly\n",
    "\n",
    "# df_textmining\n",
    "# df_textmining[~ df_textmining[\"disease_id\"].str.contains(\"DOID\")]\n",
    "\n",
    "# df_knowledge\n",
    "# df_knowledge[~ df_knowledge[\"disease_id\"].str.contains(\"DOID\")]\n",
    "# df_knowledge[df_knowledge[\"source_db\"] == \"UniProtKB-KW\"]\n",
    "\n",
    "## AmyCo data still in database (wasn't all under AmyCo disease IDs)\n",
    "df_knowledge[df_knowledge[\"source_db\"] == \"AmyCo\"]"
   ]
  },
  {
   "cell_type": "markdown",
   "id": "a797c65d",
   "metadata": {},
   "source": [
    "## Pre-NodeNorming"
   ]
  },
  {
   "cell_type": "code",
   "execution_count": 43,
   "id": "38cf08b5",
   "metadata": {
    "ExecuteTime": {
     "end_time": "2025-05-06T06:38:45.603113Z",
     "start_time": "2025-05-06T06:38:45.571508Z"
    }
   },
   "outputs": [],
   "source": [
    "## put into parser (format)\n",
    "\n",
    "## adding Translator/biolink prefixes to gene ID, for NodeNorming\n",
    "## don't need to do DOID, already in right format\n",
    "\n",
    "## loop for notebook only, to do both dataframes \n",
    "for df in [df_textmining, df_knowledge]:\n",
    "    df[\"gene_id\"] = \"ENSEMBL:\" + df[\"gene_id\"]"
   ]
  },
  {
   "cell_type": "code",
   "execution_count": 44,
   "id": "ed2645c0",
   "metadata": {
    "ExecuteTime": {
     "end_time": "2025-05-06T06:38:46.277812Z",
     "start_time": "2025-05-06T06:38:46.267311Z"
    }
   },
   "outputs": [
    {
     "data": {
      "text/html": [
       "<div>\n",
       "<style scoped>\n",
       "    .dataframe tbody tr th:only-of-type {\n",
       "        vertical-align: middle;\n",
       "    }\n",
       "\n",
       "    .dataframe tbody tr th {\n",
       "        vertical-align: top;\n",
       "    }\n",
       "\n",
       "    .dataframe thead th {\n",
       "        text-align: right;\n",
       "    }\n",
       "</style>\n",
       "<table border=\"1\" class=\"dataframe\">\n",
       "  <thead>\n",
       "    <tr style=\"text-align: right;\">\n",
       "      <th></th>\n",
       "      <th>gene_id</th>\n",
       "      <th>gene_name</th>\n",
       "      <th>disease_id</th>\n",
       "      <th>disease_name</th>\n",
       "      <th>source_db</th>\n",
       "      <th>evidence_type</th>\n",
       "      <th>confidence_score</th>\n",
       "    </tr>\n",
       "  </thead>\n",
       "  <tbody>\n",
       "    <tr>\n",
       "      <th>2</th>\n",
       "      <td>ENSEMBL:ENSP00000003084</td>\n",
       "      <td>CFTR</td>\n",
       "      <td>DOID:0111862</td>\n",
       "      <td>Congenital bilateral absence of vas deferens</td>\n",
       "      <td>MedlinePlus</td>\n",
       "      <td>CURATED</td>\n",
       "      <td>5</td>\n",
       "    </tr>\n",
       "    <tr>\n",
       "      <th>3</th>\n",
       "      <td>ENSEMBL:ENSP00000003084</td>\n",
       "      <td>CFTR</td>\n",
       "      <td>DOID:1485</td>\n",
       "      <td>Cystic fibrosis</td>\n",
       "      <td>MedlinePlus</td>\n",
       "      <td>CURATED</td>\n",
       "      <td>5</td>\n",
       "    </tr>\n",
       "    <tr>\n",
       "      <th>4</th>\n",
       "      <td>ENSEMBL:ENSP00000005226</td>\n",
       "      <td>USH1C</td>\n",
       "      <td>DOID:0050439</td>\n",
       "      <td>Usher syndrome</td>\n",
       "      <td>MedlinePlus</td>\n",
       "      <td>CURATED</td>\n",
       "      <td>5</td>\n",
       "    </tr>\n",
       "    <tr>\n",
       "      <th>5</th>\n",
       "      <td>ENSEMBL:ENSP00000005226</td>\n",
       "      <td>USH1C</td>\n",
       "      <td>DOID:0050563</td>\n",
       "      <td>Nonsyndromic deafness</td>\n",
       "      <td>MedlinePlus</td>\n",
       "      <td>CURATED</td>\n",
       "      <td>5</td>\n",
       "    </tr>\n",
       "    <tr>\n",
       "      <th>11</th>\n",
       "      <td>ENSEMBL:ENSP00000013807</td>\n",
       "      <td>ERCC1</td>\n",
       "      <td>DOID:0050427</td>\n",
       "      <td>Xeroderma pigmentosum</td>\n",
       "      <td>MedlinePlus</td>\n",
       "      <td>CURATED</td>\n",
       "      <td>5</td>\n",
       "    </tr>\n",
       "    <tr>\n",
       "      <th>...</th>\n",
       "      <td>...</td>\n",
       "      <td>...</td>\n",
       "      <td>...</td>\n",
       "      <td>...</td>\n",
       "      <td>...</td>\n",
       "      <td>...</td>\n",
       "      <td>...</td>\n",
       "    </tr>\n",
       "    <tr>\n",
       "      <th>7590</th>\n",
       "      <td>ENSEMBL:ENSP00000500990</td>\n",
       "      <td>SNCA</td>\n",
       "      <td>DOID:14330</td>\n",
       "      <td>Parkinson's disease</td>\n",
       "      <td>MedlinePlus</td>\n",
       "      <td>CURATED</td>\n",
       "      <td>5</td>\n",
       "    </tr>\n",
       "    <tr>\n",
       "      <th>7592</th>\n",
       "      <td>ENSEMBL:ENSP00000500990</td>\n",
       "      <td>SNCA</td>\n",
       "      <td>DOID:4752</td>\n",
       "      <td>Multiple system atrophy</td>\n",
       "      <td>MedlinePlus</td>\n",
       "      <td>CURATED</td>\n",
       "      <td>5</td>\n",
       "    </tr>\n",
       "    <tr>\n",
       "      <th>7593</th>\n",
       "      <td>ENSEMBL:ENSP00000501092</td>\n",
       "      <td>TFAP2A</td>\n",
       "      <td>DOID:0050691</td>\n",
       "      <td>Branchiooculofacial syndrome</td>\n",
       "      <td>MedlinePlus</td>\n",
       "      <td>CURATED</td>\n",
       "      <td>5</td>\n",
       "    </tr>\n",
       "    <tr>\n",
       "      <th>7594</th>\n",
       "      <td>ENSEMBL:ENSP00000501092</td>\n",
       "      <td>TFAP2A</td>\n",
       "      <td>DOID:12270</td>\n",
       "      <td>Coloboma</td>\n",
       "      <td>MedlinePlus</td>\n",
       "      <td>CURATED</td>\n",
       "      <td>5</td>\n",
       "    </tr>\n",
       "    <tr>\n",
       "      <th>7595</th>\n",
       "      <td>ENSEMBL:ENSP00000501111</td>\n",
       "      <td>CEL</td>\n",
       "      <td>DOID:0050524</td>\n",
       "      <td>maturity-onset diabetes of the young</td>\n",
       "      <td>MedlinePlus</td>\n",
       "      <td>CURATED</td>\n",
       "      <td>5</td>\n",
       "    </tr>\n",
       "  </tbody>\n",
       "</table>\n",
       "<p>3915 rows × 7 columns</p>\n",
       "</div>"
      ],
      "text/plain": [
       "                      gene_id gene_name    disease_id  \\\n",
       "2     ENSEMBL:ENSP00000003084      CFTR  DOID:0111862   \n",
       "3     ENSEMBL:ENSP00000003084      CFTR     DOID:1485   \n",
       "4     ENSEMBL:ENSP00000005226     USH1C  DOID:0050439   \n",
       "5     ENSEMBL:ENSP00000005226     USH1C  DOID:0050563   \n",
       "11    ENSEMBL:ENSP00000013807     ERCC1  DOID:0050427   \n",
       "...                       ...       ...           ...   \n",
       "7590  ENSEMBL:ENSP00000500990      SNCA    DOID:14330   \n",
       "7592  ENSEMBL:ENSP00000500990      SNCA     DOID:4752   \n",
       "7593  ENSEMBL:ENSP00000501092    TFAP2A  DOID:0050691   \n",
       "7594  ENSEMBL:ENSP00000501092    TFAP2A    DOID:12270   \n",
       "7595  ENSEMBL:ENSP00000501111       CEL  DOID:0050524   \n",
       "\n",
       "                                      disease_name    source_db evidence_type  \\\n",
       "2     Congenital bilateral absence of vas deferens  MedlinePlus       CURATED   \n",
       "3                                  Cystic fibrosis  MedlinePlus       CURATED   \n",
       "4                                   Usher syndrome  MedlinePlus       CURATED   \n",
       "5                            Nonsyndromic deafness  MedlinePlus       CURATED   \n",
       "11                           Xeroderma pigmentosum  MedlinePlus       CURATED   \n",
       "...                                            ...          ...           ...   \n",
       "7590                           Parkinson's disease  MedlinePlus       CURATED   \n",
       "7592                       Multiple system atrophy  MedlinePlus       CURATED   \n",
       "7593                  Branchiooculofacial syndrome  MedlinePlus       CURATED   \n",
       "7594                                      Coloboma  MedlinePlus       CURATED   \n",
       "7595          maturity-onset diabetes of the young  MedlinePlus       CURATED   \n",
       "\n",
       "      confidence_score  \n",
       "2                    5  \n",
       "3                    5  \n",
       "4                    5  \n",
       "5                    5  \n",
       "11                   5  \n",
       "...                ...  \n",
       "7590                 5  \n",
       "7592                 5  \n",
       "7593                 5  \n",
       "7594                 5  \n",
       "7595                 5  \n",
       "\n",
       "[3915 rows x 7 columns]"
      ]
     },
     "execution_count": 44,
     "metadata": {},
     "output_type": "execute_result"
    }
   ],
   "source": [
    "## double-check how they look\n",
    "\n",
    "df_knowledge"
   ]
  },
  {
   "cell_type": "markdown",
   "id": "377992a6",
   "metadata": {},
   "source": [
    "Querying NodeNorm: send unique values (no duplicates!) in large batches -> generate mapping dict to use. \n",
    "<br>\n",
    "__Not querying 1-by-1 or 1 row at a time: much slower__ and would involve sending duplicate IDs (unless saved dict is kept outside loop and checked) "
   ]
  },
  {
   "cell_type": "markdown",
   "id": "1266243a",
   "metadata": {},
   "source": [
    "<div class=\"alert alert-block alert-danger\">\n",
    "\n",
    "Set the NodeNorm URL you want to use. "
   ]
  },
  {
   "cell_type": "code",
   "execution_count": 45,
   "id": "ec7095c7",
   "metadata": {
    "ExecuteTime": {
     "end_time": "2025-05-06T06:38:51.282110Z",
     "start_time": "2025-05-06T06:38:51.164686Z"
    }
   },
   "outputs": [],
   "source": [
    "## put into parser (format)\n",
    "\n",
    "import requests\n",
    "\n",
    "## from BioThings annotator code: for interoperability between diff Python versions\n",
    "try:\n",
    "    from itertools import batched  # new in Python 3.12\n",
    "except ImportError:\n",
    "    from itertools import islice\n",
    "\n",
    "    def batched(iterable, n):\n",
    "        # batched('ABCDEFG', 3) → ABC DEF G\n",
    "        if n < 1:\n",
    "            raise ValueError(\"n must be at least one\")\n",
    "        iterator = iter(iterable)\n",
    "        while batch := tuple(islice(iterator, n)):\n",
    "            yield batch\n",
    "\n",
    "## dev instance\n",
    "nodenorm_url = \"https://nodenormalization-sri.renci.org/get_normalized_nodes\"\n",
    "# nodenorm_url = \"https://nodenorm.ci.transltr.io/get_normalized_nodes\""
   ]
  },
  {
   "cell_type": "markdown",
   "id": "fd327545",
   "metadata": {},
   "source": [
    "### Genes"
   ]
  },
  {
   "cell_type": "code",
   "execution_count": 46,
   "id": "54f32d70",
   "metadata": {
    "ExecuteTime": {
     "end_time": "2025-05-06T06:38:55.964716Z",
     "start_time": "2025-05-06T06:38:55.926900Z"
    }
   },
   "outputs": [
    {
     "data": {
      "text/plain": [
       "16847"
      ]
     },
     "execution_count": 46,
     "metadata": {},
     "output_type": "execute_result"
    },
    {
     "data": {
      "text/plain": [
       "2535"
      ]
     },
     "execution_count": 46,
     "metadata": {},
     "output_type": "execute_result"
    },
    {
     "data": {
      "text/plain": [
       "16850"
      ]
     },
     "execution_count": 46,
     "metadata": {},
     "output_type": "execute_result"
    }
   ],
   "source": [
    "## put into parser (set unique on curie list)\n",
    "\n",
    "## get set of unique CURIEs to put into NodeNorm\n",
    "geneIDs_textmining = set(df_textmining[\"gene_id\"].unique())\n",
    "geneIDs_knowledge = set(df_knowledge[\"gene_id\"].unique())\n",
    "geneIDs_all = geneIDs_textmining | geneIDs_knowledge\n",
    "\n",
    "len(geneIDs_textmining)\n",
    "len(geneIDs_knowledge)\n",
    "len(geneIDs_all)"
   ]
  },
  {
   "cell_type": "code",
   "execution_count": 47,
   "id": "e98887c0",
   "metadata": {
    "ExecuteTime": {
     "end_time": "2025-05-06T06:39:19.232721Z",
     "start_time": "2025-05-06T06:39:19.229800Z"
    }
   },
   "outputs": [],
   "source": [
    "## put into parser (partial?)\n",
    "\n",
    "gene_nodenorm_mapping = {}\n",
    "\n",
    "## set up variables to catch potential mapping failures\n",
    "stats_gene_mapping_failures = {\n",
    "    \"unexpected_error\": {},\n",
    "    \"nodenorm_returned_none\": [],\n",
    "    \"wrong_category\": {},\n",
    "    \"no_label\": []\n",
    "}"
   ]
  },
  {
   "cell_type": "markdown",
   "id": "d2c78fc5",
   "metadata": {},
   "source": [
    "Allowed types are Gene and Protein (depending on if gene/protein conflation worked for the ENSP ID or not)"
   ]
  },
  {
   "cell_type": "code",
   "execution_count": 48,
   "id": "9521a856",
   "metadata": {
    "ExecuteTime": {
     "end_time": "2025-05-06T06:39:50.172506Z",
     "start_time": "2025-05-06T06:39:22.317697Z"
    }
   },
   "outputs": [],
   "source": [
    "## put into parser (don't need to iterate through batch, just use all in chunk you're on)\n",
    "\n",
    "## larger batches are quicker\n",
    "for batch in batched(geneIDs_all, 1000):\n",
    "    ## returns tuples -> cast to list\n",
    "    req_body = {\n",
    "        \"curies\": list(batch),\n",
    "        \"conflate\": True,\n",
    "    }\n",
    "    r = requests.post(nodenorm_url, json=req_body)\n",
    "    response = r.json()\n",
    "    \n",
    "    ## not doing dict comprehension. allows easier review, logic writing\n",
    "    for k,v in response.items():\n",
    "        ## catch unexpected errors\n",
    "        try:\n",
    "            ## if NodeNorm didn't have info on this ID, v will be None\n",
    "            if v is not None:\n",
    "                ## don't keep mapping if category is not the expected one\n",
    "                if v[\"type\"][0] in [\"biolink:Gene\", \"biolink:Protein\"]:\n",
    "                    ## also throw out mapping if no primary label found\n",
    "                    if v[\"id\"].get(\"label\"):\n",
    "                        temp = {\n",
    "                            k: {\"primary_id\": v[\"id\"][\"identifier\"],\n",
    "                                \"primary_label\": v[\"id\"][\"label\"],\n",
    "                                ## saving category: currently required for KGX nodes file output\n",
    "                                \"category\": v[\"type\"][0]\n",
    "                               }\n",
    "                        }\n",
    "                        gene_nodenorm_mapping.update(temp)\n",
    "                    else:\n",
    "                        stats_gene_mapping_failures[\"no_label\"].append(k)\n",
    "#                         print(f\"{k}: NodeNorm didn't find primary label. Not keeping this mapping.\")\n",
    "                else:\n",
    "                    stats_gene_mapping_failures[\"wrong_category\"].update({k: v[\"type\"][0]})\n",
    "#                     print(f'{k}: NodeNorm found different category {v[\"type\"][0]}. Not keeping this mapping.')\n",
    "            else:\n",
    "                stats_gene_mapping_failures[\"nodenorm_returned_none\"].append(k)\n",
    "#                 print(f\"{k}: NodeNorm didn't recognize this ID\")\n",
    "        except:\n",
    "            stats_gene_mapping_failures[\"unexpected_error\"].update({k: v})\n",
    "            print(f'Encountered an unexpected error.')\n",
    "            print(f'NodeNorm response key: {k}')\n",
    "            print(f'NodeNorm response value: {v}')"
   ]
  },
  {
   "cell_type": "code",
   "execution_count": 49,
   "id": "fce525ef",
   "metadata": {
    "ExecuteTime": {
     "end_time": "2025-05-06T06:39:52.165073Z",
     "start_time": "2025-05-06T06:39:52.155986Z"
    }
   },
   "outputs": [
    {
     "data": {
      "text/plain": [
       "16477"
      ]
     },
     "execution_count": 49,
     "metadata": {},
     "output_type": "execute_result"
    },
    {
     "data": {
      "text/plain": [
       "{}"
      ]
     },
     "execution_count": 49,
     "metadata": {},
     "output_type": "execute_result"
    },
    {
     "data": {
      "text/plain": [
       "315"
      ]
     },
     "execution_count": 49,
     "metadata": {},
     "output_type": "execute_result"
    },
    {
     "data": {
      "text/plain": [
       "0"
      ]
     },
     "execution_count": 49,
     "metadata": {},
     "output_type": "execute_result"
    },
    {
     "data": {
      "text/plain": [
       "58"
      ]
     },
     "execution_count": 49,
     "metadata": {},
     "output_type": "execute_result"
    }
   ],
   "source": [
    "len(gene_nodenorm_mapping)\n",
    "\n",
    "stats_gene_mapping_failures[\"unexpected_error\"]\n",
    "\n",
    "len(stats_gene_mapping_failures[\"nodenorm_returned_none\"])\n",
    "len(stats_gene_mapping_failures[\"wrong_category\"])\n",
    "len(stats_gene_mapping_failures[\"no_label\"])"
   ]
  },
  {
   "cell_type": "code",
   "execution_count": 50,
   "id": "302e3003",
   "metadata": {
    "ExecuteTime": {
     "end_time": "2025-05-06T06:39:57.212197Z",
     "start_time": "2025-05-06T06:39:57.207798Z"
    }
   },
   "outputs": [
    {
     "data": {
      "text/plain": [
       "['ENSEMBL:ENSP00000479693',\n",
       " 'ENSEMBL:ENSP00000328848',\n",
       " 'ENSEMBL:ENSP00000222388',\n",
       " 'ENSEMBL:ENSP00000305742',\n",
       " 'ENSEMBL:ENSP00000380432',\n",
       " 'ENSEMBL:ENSP00000377616',\n",
       " 'ENSEMBL:ENSP00000215727',\n",
       " 'ENSEMBL:ENSP00000388552']"
      ]
     },
     "execution_count": 50,
     "metadata": {},
     "output_type": "execute_result"
    }
   ],
   "source": [
    "## code block for reviewing failures\n",
    "\n",
    "# stats_gene_mapping_failures[\"nodenorm_returned_none\"][270:280]\n",
    "stats_gene_mapping_failures[\"no_label\"][50:58]"
   ]
  },
  {
   "cell_type": "markdown",
   "id": "d656426f",
   "metadata": {},
   "source": [
    "<div class=\"alert alert-block alert-info\">\n",
    "\n",
    "**2025-05-02 data:**\n",
    "\n",
    "**Reviewed ENSEMBL ENSP mapping failures**\n",
    "\n",
    "315 cases where NodeNorm returned None (didn't recognize/resolve ID). __I checked some (20)__ (0:10, 270:280). __Conclusion: DISEASES problem, using outdated IDs__\n",
    "\n",
    "* 17: ID is deprecated. Language: \"no longer in the database but it has been mapped to 1 deprecated identifier\")\n",
    "* 3: ID has been replaced? Language: \"no longer in the database.It has been mapped to 1 current identifier\". (ENSP00000074304, ENSP00000480798, ENSP00000482552)\n",
    "\n",
    "<br>\n",
    "    \n",
    "58 cases where NodeNorm didn't have a primary label. __I checked some (18)__ (0:10, 50:58). __Conclusion: NodeNorm issue sometimes, other times a complex biology/data situation__\n",
    "\n",
    "All were legit IDs, but I guess NodeNorm isn't mapping them to their genes. Some thoughts:\n",
    "* noticed many genes were overlapping locus/readthrough gene\n",
    "* But some of these genes look \"fairly regular\" and the ENSP ID is the \"Ensembl Canonical\". So it's strange that NodeNorm isn't mapping them to their genes -> messaged NodeNorm\n",
    "  * ENSP00000419081 for CALML4 ENSG00000129007 \n",
    "  * ENSP00000211076 for TPSD1 ENSG00000095917 (not overlapping!)\n",
    "  * ENSP00000361746 for EPPIN ENSG00000101448\n",
    "  * ENSP00000215727 for SERPIND1 ENSG00000099937 (not overlapping!)\n",
    "  * ENSP00000348089 for ERCC6 ENSG00000225830 (not overlapping!)\n",
    "  * ENSP00000361232 for DDX31 ENSG00000125485 (not overlapping!)"
   ]
  },
  {
   "cell_type": "code",
   "execution_count": 51,
   "id": "02fb64f9",
   "metadata": {
    "ExecuteTime": {
     "end_time": "2025-05-06T06:40:00.467974Z",
     "start_time": "2025-05-06T06:40:00.413724Z"
    }
   },
   "outputs": [],
   "source": [
    "## calculate stats: number of rows affected by each type of mapping failure\n",
    "stats_gene_mapping_failures.update({\n",
    "    \"nrows_textmining_none\": df_textmining[df_textmining[\"gene_id\"].isin(stats_gene_mapping_failures[\"nodenorm_returned_none\"])].shape[0],\n",
    "    \"nrows_knowledge_none\": df_knowledge[df_knowledge[\"gene_id\"].isin(stats_gene_mapping_failures[\"nodenorm_returned_none\"])].shape[0],\n",
    "\n",
    "    \"n_rows_textmining_wrongcategory\": df_textmining[df_textmining[\"gene_id\"].isin(stats_gene_mapping_failures[\"wrong_category\"].keys())].shape[0],\n",
    "    \"n_rows_knowledge_wrongcategory\": df_knowledge[df_knowledge[\"gene_id\"].isin(stats_gene_mapping_failures[\"wrong_category\"].keys())].shape[0],\n",
    "\n",
    "    \n",
    "    \"n_rows_textmining_nolabel\": df_textmining[df_textmining[\"gene_id\"].isin(stats_gene_mapping_failures[\"no_label\"])].shape[0],\n",
    "    \"n_rows_knowledge_nolabel\": df_knowledge[df_knowledge[\"gene_id\"].isin(stats_gene_mapping_failures[\"no_label\"])].shape[0],\n",
    "})"
   ]
  },
  {
   "cell_type": "code",
   "execution_count": 52,
   "id": "28524687",
   "metadata": {
    "ExecuteTime": {
     "end_time": "2025-05-06T06:40:01.061279Z",
     "start_time": "2025-05-06T06:40:01.047113Z"
    }
   },
   "outputs": [
    {
     "data": {
      "text/plain": [
       "4232"
      ]
     },
     "execution_count": 52,
     "metadata": {},
     "output_type": "execute_result"
    },
    {
     "data": {
      "text/plain": [
       "52"
      ]
     },
     "execution_count": 52,
     "metadata": {},
     "output_type": "execute_result"
    },
    {
     "data": {
      "text/plain": [
       "0"
      ]
     },
     "execution_count": 52,
     "metadata": {},
     "output_type": "execute_result"
    },
    {
     "data": {
      "text/plain": [
       "0"
      ]
     },
     "execution_count": 52,
     "metadata": {},
     "output_type": "execute_result"
    },
    {
     "data": {
      "text/plain": [
       "1419"
      ]
     },
     "execution_count": 52,
     "metadata": {},
     "output_type": "execute_result"
    },
    {
     "data": {
      "text/plain": [
       "8"
      ]
     },
     "execution_count": 52,
     "metadata": {},
     "output_type": "execute_result"
    }
   ],
   "source": [
    "stats_gene_mapping_failures[\"nrows_textmining_none\"]\n",
    "stats_gene_mapping_failures[\"nrows_knowledge_none\"]\n",
    "stats_gene_mapping_failures[\"n_rows_textmining_wrongcategory\"]\n",
    "stats_gene_mapping_failures[\"n_rows_knowledge_wrongcategory\"]\n",
    "stats_gene_mapping_failures[\"n_rows_textmining_nolabel\"]\n",
    "stats_gene_mapping_failures[\"n_rows_knowledge_nolabel\"]"
   ]
  },
  {
   "cell_type": "markdown",
   "id": "783a5f57",
   "metadata": {},
   "source": [
    "### Diseases"
   ]
  },
  {
   "cell_type": "code",
   "execution_count": 53,
   "id": "900a0766",
   "metadata": {
    "ExecuteTime": {
     "end_time": "2025-05-06T06:40:06.601897Z",
     "start_time": "2025-05-06T06:40:06.571644Z"
    }
   },
   "outputs": [
    {
     "data": {
      "text/plain": [
       "5556"
      ]
     },
     "execution_count": 53,
     "metadata": {},
     "output_type": "execute_result"
    },
    {
     "data": {
      "text/plain": [
       "1036"
      ]
     },
     "execution_count": 53,
     "metadata": {},
     "output_type": "execute_result"
    },
    {
     "data": {
      "text/plain": [
       "5671"
      ]
     },
     "execution_count": 53,
     "metadata": {},
     "output_type": "execute_result"
    }
   ],
   "source": [
    "\n",
    "## get set of unique CURIEs to put into NodeNorm\n",
    "diseaseIDs_textmining = set(df_textmining[\"disease_id\"].unique())\n",
    "diseaseIDs_knowledge = set(df_knowledge[\"disease_id\"].unique())\n",
    "diseaseIDs_all = diseaseIDs_textmining | diseaseIDs_knowledge\n",
    "\n",
    "len(diseaseIDs_textmining)\n",
    "len(diseaseIDs_knowledge)\n",
    "len(diseaseIDs_all)"
   ]
  },
  {
   "cell_type": "code",
   "execution_count": 54,
   "id": "1400dd55",
   "metadata": {
    "ExecuteTime": {
     "end_time": "2025-05-06T06:40:08.036151Z",
     "start_time": "2025-05-06T06:40:08.032998Z"
    }
   },
   "outputs": [],
   "source": [
    "\n",
    "disease_nodenorm_mapping = {}\n",
    "\n",
    "## set up variables to catch mapping failures\n",
    "stats_disease_mapping_failures = {\n",
    "    \"unexpected_error\": {},\n",
    "    \"nodenorm_returned_none\": [],\n",
    "    \"wrong_category\": {},\n",
    "    \"no_label\": []\n",
    "    \n",
    "}"
   ]
  },
  {
   "cell_type": "code",
   "execution_count": 55,
   "id": "858b6f93",
   "metadata": {
    "ExecuteTime": {
     "end_time": "2025-05-06T06:40:17.515857Z",
     "start_time": "2025-05-06T06:40:08.863331Z"
    }
   },
   "outputs": [],
   "source": [
    "\n",
    "\n",
    "## larger batches are quicker\n",
    "for batch in batched(diseaseIDs_all, 1000):\n",
    "    ## returns tuples -> cast to list\n",
    "    req_body = {\n",
    "        \"curies\": list(batch),\n",
    "        \"conflate\": True,\n",
    "    }\n",
    "    r = requests.post(nodenorm_url, json=req_body)\n",
    "    response = r.json()\n",
    "    \n",
    "    ## not doing dict comprehension. allows easier review, logic writing\n",
    "    for k,v in response.items():\n",
    "        ## catch unexpected errors\n",
    "        try:\n",
    "            ## if NodeNorm didn't have info on this ID, v will be None\n",
    "            if v is not None:\n",
    "                ## don't keep mapping if category is not the expected one\n",
    "                if v[\"type\"][0] == \"biolink:Disease\":\n",
    "                    ## also throw out mapping if no primary label found\n",
    "                    if v[\"id\"].get(\"label\"):\n",
    "                        temp = {\n",
    "                            k: {\"primary_id\": v[\"id\"][\"identifier\"],\n",
    "                                \"primary_label\": v[\"id\"][\"label\"]\n",
    "                               }\n",
    "                        }\n",
    "                        disease_nodenorm_mapping.update(temp)\n",
    "                    else:\n",
    "                        stats_disease_mapping_failures[\"no_label\"].append(k)\n",
    "#                         print(f\"{k}: NodeNorm didn't find primary label. Not keeping this mapping.\")\n",
    "                else:\n",
    "                    stats_disease_mapping_failures[\"wrong_category\"].update({k: v[\"type\"][0]})\n",
    "#                     print(f'{k}: NodeNorm found different category {v[\"type\"][0]}. Not keeping this mapping.')\n",
    "            else:\n",
    "                stats_disease_mapping_failures[\"nodenorm_returned_none\"].append(k)\n",
    "#                 print(f\"{k}: NodeNorm didn't recognize this ID\")\n",
    "        except:\n",
    "            stats_disease_mapping_failures[\"unexpected_error\"].update({k: v})\n",
    "            print(f'Encountered an unexpected error.')\n",
    "            print(f'NodeNorm response key: {k}')\n",
    "            print(f'NodeNorm response value: {v}')"
   ]
  },
  {
   "cell_type": "code",
   "execution_count": 56,
   "id": "2e81d56b",
   "metadata": {
    "ExecuteTime": {
     "end_time": "2025-05-06T06:40:18.161498Z",
     "start_time": "2025-05-06T06:40:18.150564Z"
    }
   },
   "outputs": [
    {
     "data": {
      "text/plain": [
       "5641"
      ]
     },
     "execution_count": 56,
     "metadata": {},
     "output_type": "execute_result"
    },
    {
     "data": {
      "text/plain": [
       "{}"
      ]
     },
     "execution_count": 56,
     "metadata": {},
     "output_type": "execute_result"
    },
    {
     "data": {
      "text/plain": [
       "30"
      ]
     },
     "execution_count": 56,
     "metadata": {},
     "output_type": "execute_result"
    },
    {
     "data": {
      "text/plain": [
       "0"
      ]
     },
     "execution_count": 56,
     "metadata": {},
     "output_type": "execute_result"
    },
    {
     "data": {
      "text/plain": [
       "0"
      ]
     },
     "execution_count": 56,
     "metadata": {},
     "output_type": "execute_result"
    }
   ],
   "source": [
    "len(disease_nodenorm_mapping)\n",
    "\n",
    "stats_disease_mapping_failures[\"unexpected_error\"]\n",
    "\n",
    "len(stats_disease_mapping_failures[\"nodenorm_returned_none\"])\n",
    "len(stats_disease_mapping_failures[\"wrong_category\"])\n",
    "len(stats_disease_mapping_failures[\"no_label\"])"
   ]
  },
  {
   "cell_type": "code",
   "execution_count": 57,
   "id": "77af9e52",
   "metadata": {
    "ExecuteTime": {
     "end_time": "2025-05-06T06:40:19.452746Z",
     "start_time": "2025-05-06T06:40:19.448465Z"
    }
   },
   "outputs": [
    {
     "data": {
      "text/plain": [
       "['DOID:1607',\n",
       " 'DOID:0080365',\n",
       " 'DOID:1920',\n",
       " 'DOID:2383',\n",
       " 'DOID:0060321',\n",
       " 'DOID:4377',\n",
       " 'DOID:11595',\n",
       " 'DOID:11282',\n",
       " 'DOID:10986',\n",
       " 'DOID:14070']"
      ]
     },
     "execution_count": 57,
     "metadata": {},
     "output_type": "execute_result"
    }
   ],
   "source": [
    "## code used to review mapping failures \n",
    "\n",
    "stats_disease_mapping_failures[\"nodenorm_returned_none\"][0:10]"
   ]
  },
  {
   "cell_type": "markdown",
   "id": "ec0e6d96",
   "metadata": {},
   "source": [
    "<div class=\"alert alert-block alert-info\">\n",
    "\n",
    "**2025-05-02 data:**\n",
    "\n",
    "**Reviewed Disease DOID mapping failures**\n",
    "\n",
    "30 cases where NodeNorm returned None (didn't recognize/resolve ID). __I checked some (first 10)__:\n",
    "\n",
    "All were legit IDs: don't understand why NodeNorm returned none -> messaged NodeNorm"
   ]
  },
  {
   "cell_type": "code",
   "execution_count": 58,
   "id": "a772ebfd",
   "metadata": {
    "ExecuteTime": {
     "end_time": "2025-05-06T06:40:25.427049Z",
     "start_time": "2025-05-06T06:40:25.393257Z"
    }
   },
   "outputs": [],
   "source": [
    "## calculate stats: number of rows affected by each type of mapping failure\n",
    "stats_disease_mapping_failures.update({\n",
    "    \"nrows_textmining_none\": df_textmining[df_textmining[\"disease_id\"].isin(stats_disease_mapping_failures[\"nodenorm_returned_none\"])].shape[0],\n",
    "    \"nrows_knowledge_none\": df_knowledge[df_knowledge[\"disease_id\"].isin(stats_disease_mapping_failures[\"nodenorm_returned_none\"])].shape[0],\n",
    "\n",
    "    \"n_rows_textmining_wrongcategory\": df_textmining[df_textmining[\"disease_id\"].isin(stats_disease_mapping_failures[\"wrong_category\"].keys())].shape[0],\n",
    "    \"n_rows_knowledge_wrongcategory\": df_knowledge[df_knowledge[\"disease_id\"].isin(stats_disease_mapping_failures[\"wrong_category\"].keys())].shape[0],\n",
    "\n",
    "    \n",
    "    \"n_rows_textmining_nolabel\": df_textmining[df_textmining[\"disease_id\"].isin(stats_disease_mapping_failures[\"no_label\"])].shape[0],\n",
    "    \"n_rows_knowledge_nolabel\": df_knowledge[df_knowledge[\"disease_id\"].isin(stats_disease_mapping_failures[\"no_label\"])].shape[0],\n",
    "})"
   ]
  },
  {
   "cell_type": "code",
   "execution_count": 59,
   "id": "ca44cd5e",
   "metadata": {
    "ExecuteTime": {
     "end_time": "2025-05-06T06:40:26.027548Z",
     "start_time": "2025-05-06T06:40:26.017042Z"
    }
   },
   "outputs": [
    {
     "data": {
      "text/plain": [
       "624"
      ]
     },
     "execution_count": 59,
     "metadata": {},
     "output_type": "execute_result"
    },
    {
     "data": {
      "text/plain": [
       "10"
      ]
     },
     "execution_count": 59,
     "metadata": {},
     "output_type": "execute_result"
    },
    {
     "data": {
      "text/plain": [
       "0"
      ]
     },
     "execution_count": 59,
     "metadata": {},
     "output_type": "execute_result"
    },
    {
     "data": {
      "text/plain": [
       "0"
      ]
     },
     "execution_count": 59,
     "metadata": {},
     "output_type": "execute_result"
    },
    {
     "data": {
      "text/plain": [
       "0"
      ]
     },
     "execution_count": 59,
     "metadata": {},
     "output_type": "execute_result"
    },
    {
     "data": {
      "text/plain": [
       "0"
      ]
     },
     "execution_count": 59,
     "metadata": {},
     "output_type": "execute_result"
    }
   ],
   "source": [
    "stats_disease_mapping_failures[\"nrows_textmining_none\"]\n",
    "stats_disease_mapping_failures[\"nrows_knowledge_none\"]\n",
    "stats_disease_mapping_failures[\"n_rows_textmining_wrongcategory\"]\n",
    "stats_disease_mapping_failures[\"n_rows_knowledge_wrongcategory\"]\n",
    "stats_disease_mapping_failures[\"n_rows_textmining_nolabel\"]\n",
    "stats_disease_mapping_failures[\"n_rows_knowledge_nolabel\"]"
   ]
  },
  {
   "cell_type": "markdown",
   "id": "23343f7c",
   "metadata": {},
   "source": [
    "### Adding NodeNorm data, removing rows"
   ]
  },
  {
   "cell_type": "markdown",
   "id": "1d708cbc",
   "metadata": {},
   "source": [
    "<div class=\"alert alert-block alert-info\">\n",
    "\n",
    "Removing rows that lack NodeNorm data, due to small amount of failures during NodeNorm process: \n",
    "* NodeNorm returned none\n",
    "* NodeNorm didn't have primary label (genes only) "
   ]
  },
  {
   "cell_type": "code",
   "execution_count": 60,
   "id": "3d727809",
   "metadata": {
    "ExecuteTime": {
     "end_time": "2025-05-06T06:40:36.801735Z",
     "start_time": "2025-05-06T06:40:36.341561Z"
    }
   },
   "outputs": [],
   "source": [
    "## put into parser (format): \n",
    "\n",
    "## text-mining\n",
    "df_textmining[\"gene_nodenorm_id\"] = [gene_nodenorm_mapping[i][\"primary_id\"] \n",
    "                                     if gene_nodenorm_mapping.get(i) \n",
    "                                     else pd.NA\n",
    "                                     for i in df_textmining[\"gene_id\"]]\n",
    "\n",
    "df_textmining[\"gene_nodenorm_label\"] = [gene_nodenorm_mapping[i][\"primary_label\"] \n",
    "                                        if gene_nodenorm_mapping.get(i) \n",
    "                                        else pd.NA\n",
    "                                        for i in df_textmining[\"gene_id\"]]\n",
    "\n",
    "df_textmining[\"gene_nodenorm_category\"] = [gene_nodenorm_mapping[i][\"category\"] \n",
    "                                           if gene_nodenorm_mapping.get(i) \n",
    "                                           else pd.NA\n",
    "                                           for i in df_textmining[\"gene_id\"]]\n",
    "\n",
    "df_textmining[\"disease_nodenorm_id\"] = [disease_nodenorm_mapping[i][\"primary_id\"] \n",
    "                                        if disease_nodenorm_mapping.get(i) \n",
    "                                        else pd.NA\n",
    "                                        for i in df_textmining[\"disease_id\"]]\n",
    "\n",
    "df_textmining[\"disease_nodenorm_label\"] = [disease_nodenorm_mapping[i][\"primary_label\"] \n",
    "                                           if disease_nodenorm_mapping.get(i) \n",
    "                                           else pd.NA\n",
    "                                           for i in df_textmining[\"disease_id\"]]"
   ]
  },
  {
   "cell_type": "code",
   "execution_count": 61,
   "id": "8783b9aa",
   "metadata": {
    "ExecuteTime": {
     "end_time": "2025-05-06T06:40:42.661674Z",
     "start_time": "2025-05-06T06:40:42.644119Z"
    }
   },
   "outputs": [],
   "source": [
    "\n",
    "## knowledge\n",
    "df_knowledge[\"gene_nodenorm_id\"] = [gene_nodenorm_mapping[i][\"primary_id\"] \n",
    "                                    if gene_nodenorm_mapping.get(i) \n",
    "                                    else pd.NA\n",
    "                                    for i in df_knowledge[\"gene_id\"]]\n",
    "\n",
    "df_knowledge[\"gene_nodenorm_label\"] = [gene_nodenorm_mapping[i][\"primary_label\"] \n",
    "                                       if gene_nodenorm_mapping.get(i) \n",
    "                                       else pd.NA\n",
    "                                       for i in df_knowledge[\"gene_id\"]]\n",
    "\n",
    "df_knowledge[\"gene_nodenorm_category\"] = [gene_nodenorm_mapping[i][\"category\"] \n",
    "                                          if gene_nodenorm_mapping.get(i) \n",
    "                                          else pd.NA\n",
    "                                          for i in df_knowledge[\"gene_id\"]]\n",
    "\n",
    "df_knowledge[\"disease_nodenorm_id\"] = [disease_nodenorm_mapping[i][\"primary_id\"] \n",
    "                                       if disease_nodenorm_mapping.get(i) \n",
    "                                       else pd.NA\n",
    "                                       for i in df_knowledge[\"disease_id\"]]\n",
    "\n",
    "df_knowledge[\"disease_nodenorm_label\"] = [disease_nodenorm_mapping[i][\"primary_label\"] \n",
    "                                          if disease_nodenorm_mapping.get(i) \n",
    "                                          else pd.NA\n",
    "                                          for i in df_knowledge[\"disease_id\"]]"
   ]
  },
  {
   "cell_type": "code",
   "execution_count": null,
   "id": "430314be",
   "metadata": {
    "ExecuteTime": {
     "end_time": "2025-05-05T20:48:30.351978Z",
     "start_time": "2025-05-05T20:48:30.349451Z"
    }
   },
   "outputs": [],
   "source": [
    "## code chunk to review df\n",
    "\n",
    "# df_textmining\n",
    "# df_knowledge"
   ]
  },
  {
   "cell_type": "code",
   "execution_count": 62,
   "id": "caee28a8",
   "metadata": {
    "ExecuteTime": {
     "end_time": "2025-05-06T06:40:53.163253Z",
     "start_time": "2025-05-06T06:40:53.023360Z"
    }
   },
   "outputs": [],
   "source": [
    "## put into parser: \n",
    "\n",
    "## doing subset just in case (original data didn't have any NAs that would be\n",
    "##   dropped on accident, but still) \n",
    "\n",
    "df_textmining.dropna(subset=[\"gene_nodenorm_id\", \"gene_nodenorm_label\", \n",
    "                            \"disease_nodenorm_id\", \"disease_nodenorm_label\"],\n",
    "                    ignore_index=True, inplace=True)\n",
    "\n",
    "df_knowledge.dropna(subset=[\"gene_nodenorm_id\", \"gene_nodenorm_label\", \n",
    "                            \"disease_nodenorm_id\", \"disease_nodenorm_label\"],\n",
    "                    ignore_index=True, inplace=True)"
   ]
  },
  {
   "cell_type": "code",
   "execution_count": 63,
   "id": "4fc8d268",
   "metadata": {
    "ExecuteTime": {
     "end_time": "2025-05-06T06:40:55.108800Z",
     "start_time": "2025-05-06T06:40:55.103239Z"
    }
   },
   "outputs": [
    {
     "data": {
      "text/plain": [
       "(265761, 12)"
      ]
     },
     "execution_count": 63,
     "metadata": {},
     "output_type": "execute_result"
    },
    {
     "data": {
      "text/plain": [
       "(3846, 12)"
      ]
     },
     "execution_count": 63,
     "metadata": {},
     "output_type": "execute_result"
    }
   ],
   "source": [
    "## didn't do stats for before/after\n",
    "\n",
    "df_textmining.shape\n",
    "df_knowledge.shape"
   ]
  },
  {
   "cell_type": "markdown",
   "id": "0b6fab64",
   "metadata": {},
   "source": [
    "### Exploring \"duplicates\" from NodeNorming"
   ]
  },
  {
   "cell_type": "code",
   "execution_count": 66,
   "id": "ff2a578d",
   "metadata": {
    "ExecuteTime": {
     "end_time": "2025-05-06T06:41:41.197353Z",
     "start_time": "2025-05-06T06:41:41.171109Z"
    },
    "scrolled": false
   },
   "outputs": [
    {
     "data": {
      "text/html": [
       "<div>\n",
       "<style scoped>\n",
       "    .dataframe tbody tr th:only-of-type {\n",
       "        vertical-align: middle;\n",
       "    }\n",
       "\n",
       "    .dataframe tbody tr th {\n",
       "        vertical-align: top;\n",
       "    }\n",
       "\n",
       "    .dataframe thead th {\n",
       "        text-align: right;\n",
       "    }\n",
       "</style>\n",
       "<table border=\"1\" class=\"dataframe\">\n",
       "  <thead>\n",
       "    <tr style=\"text-align: right;\">\n",
       "      <th></th>\n",
       "      <th>gene_id</th>\n",
       "      <th>gene_name</th>\n",
       "      <th>disease_id</th>\n",
       "      <th>disease_name</th>\n",
       "      <th>source_db</th>\n",
       "      <th>evidence_type</th>\n",
       "      <th>confidence_score</th>\n",
       "      <th>gene_nodenorm_id</th>\n",
       "      <th>gene_nodenorm_label</th>\n",
       "      <th>gene_nodenorm_category</th>\n",
       "      <th>disease_nodenorm_id</th>\n",
       "      <th>disease_nodenorm_label</th>\n",
       "    </tr>\n",
       "  </thead>\n",
       "  <tbody>\n",
       "    <tr>\n",
       "      <th>2216</th>\n",
       "      <td>ENSEMBL:ENSP00000361021</td>\n",
       "      <td>PTEN</td>\n",
       "      <td>DOID:0050657</td>\n",
       "      <td>Bannayan-Riley-Ruvalcaba syndrome</td>\n",
       "      <td>MedlinePlus</td>\n",
       "      <td>CURATED</td>\n",
       "      <td>5</td>\n",
       "      <td>UniProtKB:P60484-1</td>\n",
       "      <td>phosphatidylinositol 3,4,5-trisphosphate 3-pho...</td>\n",
       "      <td>biolink:Protein</td>\n",
       "      <td>MONDO:0016063</td>\n",
       "      <td>Cowden disease</td>\n",
       "    </tr>\n",
       "    <tr>\n",
       "      <th>2224</th>\n",
       "      <td>ENSEMBL:ENSP00000361021</td>\n",
       "      <td>PTEN</td>\n",
       "      <td>DOID:6457</td>\n",
       "      <td>Cowden syndrome</td>\n",
       "      <td>MedlinePlus</td>\n",
       "      <td>CURATED</td>\n",
       "      <td>5</td>\n",
       "      <td>UniProtKB:P60484-1</td>\n",
       "      <td>phosphatidylinositol 3,4,5-trisphosphate 3-pho...</td>\n",
       "      <td>biolink:Protein</td>\n",
       "      <td>MONDO:0016063</td>\n",
       "      <td>Cowden disease</td>\n",
       "    </tr>\n",
       "    <tr>\n",
       "      <th>340</th>\n",
       "      <td>ENSEMBL:ENSP00000251595</td>\n",
       "      <td>HBA2</td>\n",
       "      <td>DOID:1099</td>\n",
       "      <td>Alpha thalassemia</td>\n",
       "      <td>MedlinePlus</td>\n",
       "      <td>CURATED</td>\n",
       "      <td>5</td>\n",
       "      <td>UniProtKB:P69905</td>\n",
       "      <td>HBA_HUMAN Hemoglobin subunit alpha (sprot)</td>\n",
       "      <td>biolink:Protein</td>\n",
       "      <td>MONDO:0011399</td>\n",
       "      <td>alpha thalassemia spectrum</td>\n",
       "    </tr>\n",
       "    <tr>\n",
       "      <th>1388</th>\n",
       "      <td>ENSEMBL:ENSP00000322421</td>\n",
       "      <td>HBA1</td>\n",
       "      <td>DOID:1099</td>\n",
       "      <td>Alpha thalassemia</td>\n",
       "      <td>MedlinePlus</td>\n",
       "      <td>CURATED</td>\n",
       "      <td>5</td>\n",
       "      <td>UniProtKB:P69905</td>\n",
       "      <td>HBA_HUMAN Hemoglobin subunit alpha (sprot)</td>\n",
       "      <td>biolink:Protein</td>\n",
       "      <td>MONDO:0011399</td>\n",
       "      <td>alpha thalassemia spectrum</td>\n",
       "    </tr>\n",
       "    <tr>\n",
       "      <th>117</th>\n",
       "      <td>ENSEMBL:ENSP00000221700</td>\n",
       "      <td>CYP4F2</td>\n",
       "      <td>DOID:0080665</td>\n",
       "      <td>Warfarin resistance</td>\n",
       "      <td>MedlinePlus</td>\n",
       "      <td>CURATED</td>\n",
       "      <td>5</td>\n",
       "      <td>UniProtKB:P78329-1</td>\n",
       "      <td>cytochrome P450 4F2 isoform h1 (human)</td>\n",
       "      <td>biolink:Protein</td>\n",
       "      <td>MONDO:0007390</td>\n",
       "      <td>coumarin resistance</td>\n",
       "    </tr>\n",
       "    <tr>\n",
       "      <th>118</th>\n",
       "      <td>ENSEMBL:ENSP00000221700</td>\n",
       "      <td>CYP4F2</td>\n",
       "      <td>DOID:0080666</td>\n",
       "      <td>Warfarin sensitivity</td>\n",
       "      <td>MedlinePlus</td>\n",
       "      <td>CURATED</td>\n",
       "      <td>5</td>\n",
       "      <td>UniProtKB:P78329-1</td>\n",
       "      <td>cytochrome P450 4F2 isoform h1 (human)</td>\n",
       "      <td>biolink:Protein</td>\n",
       "      <td>MONDO:0007390</td>\n",
       "      <td>coumarin resistance</td>\n",
       "    </tr>\n",
       "    <tr>\n",
       "      <th>2539</th>\n",
       "      <td>ENSEMBL:ENSP00000370083</td>\n",
       "      <td>SMN1</td>\n",
       "      <td>DOID:12377</td>\n",
       "      <td>Spinal muscular atrophy</td>\n",
       "      <td>MedlinePlus</td>\n",
       "      <td>CURATED</td>\n",
       "      <td>5</td>\n",
       "      <td>UniProtKB:Q16637-1</td>\n",
       "      <td>survival motor neuron protein isoform 1 (human)</td>\n",
       "      <td>biolink:Protein</td>\n",
       "      <td>MONDO:0001516</td>\n",
       "      <td>spinal muscular atrophy</td>\n",
       "    </tr>\n",
       "    <tr>\n",
       "      <th>2542</th>\n",
       "      <td>ENSEMBL:ENSP00000370119</td>\n",
       "      <td>SMN2</td>\n",
       "      <td>DOID:12377</td>\n",
       "      <td>Spinal muscular atrophy</td>\n",
       "      <td>MedlinePlus</td>\n",
       "      <td>CURATED</td>\n",
       "      <td>5</td>\n",
       "      <td>UniProtKB:Q16637-1</td>\n",
       "      <td>survival motor neuron protein isoform 1 (human)</td>\n",
       "      <td>biolink:Protein</td>\n",
       "      <td>MONDO:0001516</td>\n",
       "      <td>spinal muscular atrophy</td>\n",
       "    </tr>\n",
       "    <tr>\n",
       "      <th>2693</th>\n",
       "      <td>ENSEMBL:ENSP00000378426</td>\n",
       "      <td>VKORC1</td>\n",
       "      <td>DOID:0080665</td>\n",
       "      <td>Warfarin resistance</td>\n",
       "      <td>MedlinePlus</td>\n",
       "      <td>CURATED</td>\n",
       "      <td>5</td>\n",
       "      <td>UniProtKB:Q9BQB6-1</td>\n",
       "      <td>vitamin K epoxide reductase complex subunit 1 ...</td>\n",
       "      <td>biolink:Protein</td>\n",
       "      <td>MONDO:0007390</td>\n",
       "      <td>coumarin resistance</td>\n",
       "    </tr>\n",
       "    <tr>\n",
       "      <th>2694</th>\n",
       "      <td>ENSEMBL:ENSP00000378426</td>\n",
       "      <td>VKORC1</td>\n",
       "      <td>DOID:0080666</td>\n",
       "      <td>Warfarin sensitivity</td>\n",
       "      <td>MedlinePlus</td>\n",
       "      <td>CURATED</td>\n",
       "      <td>5</td>\n",
       "      <td>UniProtKB:Q9BQB6-1</td>\n",
       "      <td>vitamin K epoxide reductase complex subunit 1 ...</td>\n",
       "      <td>biolink:Protein</td>\n",
       "      <td>MONDO:0007390</td>\n",
       "      <td>coumarin resistance</td>\n",
       "    </tr>\n",
       "  </tbody>\n",
       "</table>\n",
       "</div>"
      ],
      "text/plain": [
       "                      gene_id gene_name    disease_id  \\\n",
       "2216  ENSEMBL:ENSP00000361021      PTEN  DOID:0050657   \n",
       "2224  ENSEMBL:ENSP00000361021      PTEN     DOID:6457   \n",
       "340   ENSEMBL:ENSP00000251595      HBA2     DOID:1099   \n",
       "1388  ENSEMBL:ENSP00000322421      HBA1     DOID:1099   \n",
       "117   ENSEMBL:ENSP00000221700    CYP4F2  DOID:0080665   \n",
       "118   ENSEMBL:ENSP00000221700    CYP4F2  DOID:0080666   \n",
       "2539  ENSEMBL:ENSP00000370083      SMN1    DOID:12377   \n",
       "2542  ENSEMBL:ENSP00000370119      SMN2    DOID:12377   \n",
       "2693  ENSEMBL:ENSP00000378426    VKORC1  DOID:0080665   \n",
       "2694  ENSEMBL:ENSP00000378426    VKORC1  DOID:0080666   \n",
       "\n",
       "                           disease_name    source_db evidence_type  \\\n",
       "2216  Bannayan-Riley-Ruvalcaba syndrome  MedlinePlus       CURATED   \n",
       "2224                    Cowden syndrome  MedlinePlus       CURATED   \n",
       "340                   Alpha thalassemia  MedlinePlus       CURATED   \n",
       "1388                  Alpha thalassemia  MedlinePlus       CURATED   \n",
       "117                 Warfarin resistance  MedlinePlus       CURATED   \n",
       "118                Warfarin sensitivity  MedlinePlus       CURATED   \n",
       "2539            Spinal muscular atrophy  MedlinePlus       CURATED   \n",
       "2542            Spinal muscular atrophy  MedlinePlus       CURATED   \n",
       "2693                Warfarin resistance  MedlinePlus       CURATED   \n",
       "2694               Warfarin sensitivity  MedlinePlus       CURATED   \n",
       "\n",
       "      confidence_score    gene_nodenorm_id  \\\n",
       "2216                 5  UniProtKB:P60484-1   \n",
       "2224                 5  UniProtKB:P60484-1   \n",
       "340                  5    UniProtKB:P69905   \n",
       "1388                 5    UniProtKB:P69905   \n",
       "117                  5  UniProtKB:P78329-1   \n",
       "118                  5  UniProtKB:P78329-1   \n",
       "2539                 5  UniProtKB:Q16637-1   \n",
       "2542                 5  UniProtKB:Q16637-1   \n",
       "2693                 5  UniProtKB:Q9BQB6-1   \n",
       "2694                 5  UniProtKB:Q9BQB6-1   \n",
       "\n",
       "                                    gene_nodenorm_label  \\\n",
       "2216  phosphatidylinositol 3,4,5-trisphosphate 3-pho...   \n",
       "2224  phosphatidylinositol 3,4,5-trisphosphate 3-pho...   \n",
       "340          HBA_HUMAN Hemoglobin subunit alpha (sprot)   \n",
       "1388         HBA_HUMAN Hemoglobin subunit alpha (sprot)   \n",
       "117              cytochrome P450 4F2 isoform h1 (human)   \n",
       "118              cytochrome P450 4F2 isoform h1 (human)   \n",
       "2539    survival motor neuron protein isoform 1 (human)   \n",
       "2542    survival motor neuron protein isoform 1 (human)   \n",
       "2693  vitamin K epoxide reductase complex subunit 1 ...   \n",
       "2694  vitamin K epoxide reductase complex subunit 1 ...   \n",
       "\n",
       "     gene_nodenorm_category disease_nodenorm_id      disease_nodenorm_label  \n",
       "2216        biolink:Protein       MONDO:0016063              Cowden disease  \n",
       "2224        biolink:Protein       MONDO:0016063              Cowden disease  \n",
       "340         biolink:Protein       MONDO:0011399  alpha thalassemia spectrum  \n",
       "1388        biolink:Protein       MONDO:0011399  alpha thalassemia spectrum  \n",
       "117         biolink:Protein       MONDO:0007390         coumarin resistance  \n",
       "118         biolink:Protein       MONDO:0007390         coumarin resistance  \n",
       "2539        biolink:Protein       MONDO:0001516     spinal muscular atrophy  \n",
       "2542        biolink:Protein       MONDO:0001516     spinal muscular atrophy  \n",
       "2693        biolink:Protein       MONDO:0007390         coumarin resistance  \n",
       "2694        biolink:Protein       MONDO:0007390         coumarin resistance  "
      ]
     },
     "execution_count": 66,
     "metadata": {},
     "output_type": "execute_result"
    }
   ],
   "source": [
    "df_knowledge_noTotalDups = df_knowledge.drop_duplicates()\n",
    "\n",
    "df_knowledge_noTotalDups[\n",
    "    df_knowledge_noTotalDups.duplicated(\n",
    "        subset=[\"gene_nodenorm_id\", \"disease_nodenorm_id\", \"source_db\"], \n",
    "        keep=False)].sort_values(by=[\"gene_nodenorm_id\", \"disease_nodenorm_id\"])"
   ]
  },
  {
   "cell_type": "code",
   "execution_count": 67,
   "id": "4b74b5d6",
   "metadata": {
    "ExecuteTime": {
     "end_time": "2025-05-06T06:42:03.273638Z",
     "start_time": "2025-05-06T06:42:03.106146Z"
    },
    "scrolled": false
   },
   "outputs": [
    {
     "data": {
      "text/plain": [
       "(1122, 12)"
      ]
     },
     "execution_count": 67,
     "metadata": {},
     "output_type": "execute_result"
    },
    {
     "data": {
      "text/html": [
       "<div>\n",
       "<style scoped>\n",
       "    .dataframe tbody tr th:only-of-type {\n",
       "        vertical-align: middle;\n",
       "    }\n",
       "\n",
       "    .dataframe tbody tr th {\n",
       "        vertical-align: top;\n",
       "    }\n",
       "\n",
       "    .dataframe thead th {\n",
       "        text-align: right;\n",
       "    }\n",
       "</style>\n",
       "<table border=\"1\" class=\"dataframe\">\n",
       "  <thead>\n",
       "    <tr style=\"text-align: right;\">\n",
       "      <th></th>\n",
       "      <th>gene_id</th>\n",
       "      <th>gene_name</th>\n",
       "      <th>disease_id</th>\n",
       "      <th>disease_name</th>\n",
       "      <th>z_score</th>\n",
       "      <th>confidence_score</th>\n",
       "      <th>url</th>\n",
       "      <th>gene_nodenorm_id</th>\n",
       "      <th>gene_nodenorm_label</th>\n",
       "      <th>gene_nodenorm_category</th>\n",
       "      <th>disease_nodenorm_id</th>\n",
       "      <th>disease_nodenorm_label</th>\n",
       "    </tr>\n",
       "  </thead>\n",
       "  <tbody>\n",
       "    <tr>\n",
       "      <th>12467</th>\n",
       "      <td>ENSEMBL:ENSP00000222553</td>\n",
       "      <td>NAMPT</td>\n",
       "      <td>DOID:11612</td>\n",
       "      <td>Polycystic ovary syndrome</td>\n",
       "      <td>4.966</td>\n",
       "      <td>2.483</td>\n",
       "      <td>https://diseases.jensenlab.org/Entity?document...</td>\n",
       "      <td>NCBIGene:10135</td>\n",
       "      <td>NAMPT</td>\n",
       "      <td>biolink:Gene</td>\n",
       "      <td>MONDO:0008487</td>\n",
       "      <td>Androgen excess</td>\n",
       "    </tr>\n",
       "    <tr>\n",
       "      <th>12484</th>\n",
       "      <td>ENSEMBL:ENSP00000222553</td>\n",
       "      <td>NAMPT</td>\n",
       "      <td>DOID:11613</td>\n",
       "      <td>Hyperandrogenism</td>\n",
       "      <td>3.953</td>\n",
       "      <td>1.977</td>\n",
       "      <td>https://diseases.jensenlab.org/Entity?document...</td>\n",
       "      <td>NCBIGene:10135</td>\n",
       "      <td>NAMPT</td>\n",
       "      <td>biolink:Gene</td>\n",
       "      <td>MONDO:0008487</td>\n",
       "      <td>Androgen excess</td>\n",
       "    </tr>\n",
       "    <tr>\n",
       "      <th>34107</th>\n",
       "      <td>ENSEMBL:ENSP00000256958</td>\n",
       "      <td>SLCO1B1</td>\n",
       "      <td>DOID:0080666</td>\n",
       "      <td>Warfarin sensitivity</td>\n",
       "      <td>4.099</td>\n",
       "      <td>2.050</td>\n",
       "      <td>https://diseases.jensenlab.org/Entity?document...</td>\n",
       "      <td>NCBIGene:10599</td>\n",
       "      <td>SLCO1B1</td>\n",
       "      <td>biolink:Gene</td>\n",
       "      <td>MONDO:0007390</td>\n",
       "      <td>coumarin resistance</td>\n",
       "    </tr>\n",
       "    <tr>\n",
       "      <th>34135</th>\n",
       "      <td>ENSEMBL:ENSP00000256958</td>\n",
       "      <td>SLCO1B1</td>\n",
       "      <td>DOID:0080665</td>\n",
       "      <td>Warfarin resistance</td>\n",
       "      <td>3.236</td>\n",
       "      <td>1.618</td>\n",
       "      <td>https://diseases.jensenlab.org/Entity?document...</td>\n",
       "      <td>NCBIGene:10599</td>\n",
       "      <td>SLCO1B1</td>\n",
       "      <td>biolink:Gene</td>\n",
       "      <td>MONDO:0007390</td>\n",
       "      <td>coumarin resistance</td>\n",
       "    </tr>\n",
       "    <tr>\n",
       "      <th>80319</th>\n",
       "      <td>ENSEMBL:ENSP00000299198</td>\n",
       "      <td>CKB</td>\n",
       "      <td>DOID:1575</td>\n",
       "      <td>Rheumatic disease</td>\n",
       "      <td>4.728</td>\n",
       "      <td>2.364</td>\n",
       "      <td>https://diseases.jensenlab.org/Entity?document...</td>\n",
       "      <td>NCBIGene:1152</td>\n",
       "      <td>CKB</td>\n",
       "      <td>biolink:Gene</td>\n",
       "      <td>MONDO:0005554</td>\n",
       "      <td>Rheumatism</td>\n",
       "    </tr>\n",
       "    <tr>\n",
       "      <th>...</th>\n",
       "      <td>...</td>\n",
       "      <td>...</td>\n",
       "      <td>...</td>\n",
       "      <td>...</td>\n",
       "      <td>...</td>\n",
       "      <td>...</td>\n",
       "      <td>...</td>\n",
       "      <td>...</td>\n",
       "      <td>...</td>\n",
       "      <td>...</td>\n",
       "      <td>...</td>\n",
       "      <td>...</td>\n",
       "    </tr>\n",
       "    <tr>\n",
       "      <th>85769</th>\n",
       "      <td>ENSEMBL:ENSP00000303178</td>\n",
       "      <td>CDY1B</td>\n",
       "      <td>DOID:12336</td>\n",
       "      <td>Male infertility</td>\n",
       "      <td>5.439</td>\n",
       "      <td>2.719</td>\n",
       "      <td>https://diseases.jensenlab.org/Entity?document...</td>\n",
       "      <td>UniProtKB:Q9Y6F8-2</td>\n",
       "      <td>testis-specific chromodomain protein Y 1 isofo...</td>\n",
       "      <td>biolink:Protein</td>\n",
       "      <td>MONDO:0005372</td>\n",
       "      <td>male infertility</td>\n",
       "    </tr>\n",
       "    <tr>\n",
       "      <th>85573</th>\n",
       "      <td>ENSEMBL:ENSP00000302968</td>\n",
       "      <td>CDY1</td>\n",
       "      <td>DOID:1921</td>\n",
       "      <td>Klinefelter syndrome</td>\n",
       "      <td>4.214</td>\n",
       "      <td>2.107</td>\n",
       "      <td>https://diseases.jensenlab.org/Entity?document...</td>\n",
       "      <td>UniProtKB:Q9Y6F8-2</td>\n",
       "      <td>testis-specific chromodomain protein Y 1 isofo...</td>\n",
       "      <td>biolink:Protein</td>\n",
       "      <td>MONDO:0006823</td>\n",
       "      <td>Klinefelter syndrome</td>\n",
       "    </tr>\n",
       "    <tr>\n",
       "      <th>85771</th>\n",
       "      <td>ENSEMBL:ENSP00000303178</td>\n",
       "      <td>CDY1B</td>\n",
       "      <td>DOID:1921</td>\n",
       "      <td>Klinefelter syndrome</td>\n",
       "      <td>3.726</td>\n",
       "      <td>1.863</td>\n",
       "      <td>https://diseases.jensenlab.org/Entity?document...</td>\n",
       "      <td>UniProtKB:Q9Y6F8-2</td>\n",
       "      <td>testis-specific chromodomain protein Y 1 isofo...</td>\n",
       "      <td>biolink:Protein</td>\n",
       "      <td>MONDO:0006823</td>\n",
       "      <td>Klinefelter syndrome</td>\n",
       "    </tr>\n",
       "    <tr>\n",
       "      <th>85575</th>\n",
       "      <td>ENSEMBL:ENSP00000302968</td>\n",
       "      <td>CDY1</td>\n",
       "      <td>DOID:11383</td>\n",
       "      <td>Cryptorchidism</td>\n",
       "      <td>3.720</td>\n",
       "      <td>1.860</td>\n",
       "      <td>https://diseases.jensenlab.org/Entity?document...</td>\n",
       "      <td>UniProtKB:Q9Y6F8-2</td>\n",
       "      <td>testis-specific chromodomain protein Y 1 isofo...</td>\n",
       "      <td>biolink:Protein</td>\n",
       "      <td>MONDO:0009047</td>\n",
       "      <td>cryptorchidism</td>\n",
       "    </tr>\n",
       "    <tr>\n",
       "      <th>85773</th>\n",
       "      <td>ENSEMBL:ENSP00000303178</td>\n",
       "      <td>CDY1B</td>\n",
       "      <td>DOID:11383</td>\n",
       "      <td>Cryptorchidism</td>\n",
       "      <td>3.597</td>\n",
       "      <td>1.798</td>\n",
       "      <td>https://diseases.jensenlab.org/Entity?document...</td>\n",
       "      <td>UniProtKB:Q9Y6F8-2</td>\n",
       "      <td>testis-specific chromodomain protein Y 1 isofo...</td>\n",
       "      <td>biolink:Protein</td>\n",
       "      <td>MONDO:0009047</td>\n",
       "      <td>cryptorchidism</td>\n",
       "    </tr>\n",
       "  </tbody>\n",
       "</table>\n",
       "<p>1122 rows × 12 columns</p>\n",
       "</div>"
      ],
      "text/plain": [
       "                       gene_id gene_name    disease_id  \\\n",
       "12467  ENSEMBL:ENSP00000222553     NAMPT    DOID:11612   \n",
       "12484  ENSEMBL:ENSP00000222553     NAMPT    DOID:11613   \n",
       "34107  ENSEMBL:ENSP00000256958   SLCO1B1  DOID:0080666   \n",
       "34135  ENSEMBL:ENSP00000256958   SLCO1B1  DOID:0080665   \n",
       "80319  ENSEMBL:ENSP00000299198       CKB     DOID:1575   \n",
       "...                        ...       ...           ...   \n",
       "85769  ENSEMBL:ENSP00000303178     CDY1B    DOID:12336   \n",
       "85573  ENSEMBL:ENSP00000302968      CDY1     DOID:1921   \n",
       "85771  ENSEMBL:ENSP00000303178     CDY1B     DOID:1921   \n",
       "85575  ENSEMBL:ENSP00000302968      CDY1    DOID:11383   \n",
       "85773  ENSEMBL:ENSP00000303178     CDY1B    DOID:11383   \n",
       "\n",
       "                    disease_name  z_score  confidence_score  \\\n",
       "12467  Polycystic ovary syndrome    4.966             2.483   \n",
       "12484           Hyperandrogenism    3.953             1.977   \n",
       "34107       Warfarin sensitivity    4.099             2.050   \n",
       "34135        Warfarin resistance    3.236             1.618   \n",
       "80319          Rheumatic disease    4.728             2.364   \n",
       "...                          ...      ...               ...   \n",
       "85769           Male infertility    5.439             2.719   \n",
       "85573       Klinefelter syndrome    4.214             2.107   \n",
       "85771       Klinefelter syndrome    3.726             1.863   \n",
       "85575             Cryptorchidism    3.720             1.860   \n",
       "85773             Cryptorchidism    3.597             1.798   \n",
       "\n",
       "                                                     url    gene_nodenorm_id  \\\n",
       "12467  https://diseases.jensenlab.org/Entity?document...      NCBIGene:10135   \n",
       "12484  https://diseases.jensenlab.org/Entity?document...      NCBIGene:10135   \n",
       "34107  https://diseases.jensenlab.org/Entity?document...      NCBIGene:10599   \n",
       "34135  https://diseases.jensenlab.org/Entity?document...      NCBIGene:10599   \n",
       "80319  https://diseases.jensenlab.org/Entity?document...       NCBIGene:1152   \n",
       "...                                                  ...                 ...   \n",
       "85769  https://diseases.jensenlab.org/Entity?document...  UniProtKB:Q9Y6F8-2   \n",
       "85573  https://diseases.jensenlab.org/Entity?document...  UniProtKB:Q9Y6F8-2   \n",
       "85771  https://diseases.jensenlab.org/Entity?document...  UniProtKB:Q9Y6F8-2   \n",
       "85575  https://diseases.jensenlab.org/Entity?document...  UniProtKB:Q9Y6F8-2   \n",
       "85773  https://diseases.jensenlab.org/Entity?document...  UniProtKB:Q9Y6F8-2   \n",
       "\n",
       "                                     gene_nodenorm_label  \\\n",
       "12467                                              NAMPT   \n",
       "12484                                              NAMPT   \n",
       "34107                                            SLCO1B1   \n",
       "34135                                            SLCO1B1   \n",
       "80319                                                CKB   \n",
       "...                                                  ...   \n",
       "85769  testis-specific chromodomain protein Y 1 isofo...   \n",
       "85573  testis-specific chromodomain protein Y 1 isofo...   \n",
       "85771  testis-specific chromodomain protein Y 1 isofo...   \n",
       "85575  testis-specific chromodomain protein Y 1 isofo...   \n",
       "85773  testis-specific chromodomain protein Y 1 isofo...   \n",
       "\n",
       "      gene_nodenorm_category disease_nodenorm_id disease_nodenorm_label  \n",
       "12467           biolink:Gene       MONDO:0008487        Androgen excess  \n",
       "12484           biolink:Gene       MONDO:0008487        Androgen excess  \n",
       "34107           biolink:Gene       MONDO:0007390    coumarin resistance  \n",
       "34135           biolink:Gene       MONDO:0007390    coumarin resistance  \n",
       "80319           biolink:Gene       MONDO:0005554             Rheumatism  \n",
       "...                      ...                 ...                    ...  \n",
       "85769        biolink:Protein       MONDO:0005372       male infertility  \n",
       "85573        biolink:Protein       MONDO:0006823   Klinefelter syndrome  \n",
       "85771        biolink:Protein       MONDO:0006823   Klinefelter syndrome  \n",
       "85575        biolink:Protein       MONDO:0009047         cryptorchidism  \n",
       "85773        biolink:Protein       MONDO:0009047         cryptorchidism  \n",
       "\n",
       "[1122 rows x 12 columns]"
      ]
     },
     "execution_count": 67,
     "metadata": {},
     "output_type": "execute_result"
    }
   ],
   "source": [
    "df_textmining[\n",
    "    df_textmining.duplicated(\n",
    "        subset=[\"gene_nodenorm_id\", \"disease_nodenorm_id\"], \n",
    "        keep=False)].sort_values(by=[\"gene_nodenorm_id\", \"disease_nodenorm_id\"]).shape\n",
    "\n",
    "df_textmining[\n",
    "    df_textmining.duplicated(\n",
    "        subset=[\"gene_nodenorm_id\", \"disease_nodenorm_id\"], \n",
    "        keep=False)].sort_values(by=[\"gene_nodenorm_id\", \"disease_nodenorm_id\"])"
   ]
  },
  {
   "cell_type": "markdown",
   "id": "38ebbe59",
   "metadata": {},
   "source": [
    "## Generating documents"
   ]
  },
  {
   "cell_type": "code",
   "execution_count": 69,
   "id": "789f3c0c",
   "metadata": {
    "ExecuteTime": {
     "end_time": "2025-05-06T06:42:51.740094Z",
     "start_time": "2025-05-06T06:42:51.674242Z"
    }
   },
   "outputs": [],
   "source": [
    "## put in parser!!\n",
    "## want jsonlines format\n",
    "\n",
    "import jsonlines"
   ]
  },
  {
   "cell_type": "markdown",
   "id": "9f01e8af",
   "metadata": {},
   "source": [
    "### Rows not included"
   ]
  },
  {
   "cell_type": "markdown",
   "id": "73e93ccc",
   "metadata": {},
   "source": [
    "<div class=\"alert alert-block alert-info\">\n",
    "\n",
    "* knowledge's UniProtKB-KW data\n",
    "* No ENSP in gene_id columns (seemed to be names, couldn't NodeNorm)\n",
    "* No DOID in disease_id columns (can't NodeNorm AmyCo)\n",
    "* NodeNorm mapping failures for gene or disease IDs\n",
    "* duplicates: will check when generating docs, not create if already did"
   ]
  },
  {
   "cell_type": "markdown",
   "id": "79ebea07",
   "metadata": {},
   "source": [
    "### Columns not included"
   ]
  },
  {
   "cell_type": "markdown",
   "id": "c0c7b27e",
   "metadata": {},
   "source": [
    "<div class=\"alert alert-block alert-info\">\n",
    "\n",
    "- gene_name\n",
    "- disease_name\n",
    "- evidence_type: same for all rows, not needed"
   ]
  },
  {
   "cell_type": "code",
   "execution_count": 68,
   "id": "f314f25d",
   "metadata": {
    "ExecuteTime": {
     "end_time": "2025-05-06T06:42:39.673524Z",
     "start_time": "2025-05-06T06:42:39.667482Z"
    }
   },
   "outputs": [
    {
     "data": {
      "text/plain": [
       "Index(['gene_id', 'gene_name', 'disease_id', 'disease_name', 'z_score',\n",
       "       'confidence_score', 'url', 'gene_nodenorm_id', 'gene_nodenorm_label',\n",
       "       'gene_nodenorm_category', 'disease_nodenorm_id',\n",
       "       'disease_nodenorm_label'],\n",
       "      dtype='object')"
      ]
     },
     "execution_count": 68,
     "metadata": {},
     "output_type": "execute_result"
    },
    {
     "data": {
      "text/plain": [
       "Index(['gene_id', 'gene_name', 'disease_id', 'disease_name', 'source_db',\n",
       "       'evidence_type', 'confidence_score', 'gene_nodenorm_id',\n",
       "       'gene_nodenorm_label', 'gene_nodenorm_category', 'disease_nodenorm_id',\n",
       "       'disease_nodenorm_label'],\n",
       "      dtype='object')"
      ]
     },
     "execution_count": 68,
     "metadata": {},
     "output_type": "execute_result"
    }
   ],
   "source": [
    "df_textmining.columns\n",
    "\n",
    "df_knowledge.columns"
   ]
  },
  {
   "cell_type": "markdown",
   "id": "49145525",
   "metadata": {},
   "source": [
    "### File: List of TRAPI edges "
   ]
  },
  {
   "cell_type": "code",
   "execution_count": 73,
   "id": "1bea6afb",
   "metadata": {
    "ExecuteTime": {
     "end_time": "2025-05-06T06:43:59.887408Z",
     "start_time": "2025-05-06T06:43:59.860528Z"
    }
   },
   "outputs": [
    {
     "name": "stdout",
     "output_type": "stream",
     "text": [
      "duplicate row encountered: ENSEMBL:ENSP00000269703_DOID:0060655_MedlinePlus\n"
     ]
    }
   ],
   "source": [
    "## code chunk for testing parts of inner code\n",
    "\n",
    "with jsonlines.open('DISEASES_trapi_edges.jsonl', mode='w', compact=True) as trapi_writer:\n",
    "    knowledge_tally = set()\n",
    "    \n",
    "    ## using itertuples because it's faster, preserves datatypes\n",
    "    for row in df_knowledge.itertuples(index=False):\n",
    "        ## construct row abbreviation: needs source_db!\n",
    "        temp = row.gene_id + \"_\" + row.disease_id + \"_\" + row.source_db\n",
    "        \n",
    "        if temp not in knowledge_tally:\n",
    "            knowledge_tally.add(temp)\n",
    "\n",
    "            document = {\n",
    "                ## simple assignments: no if\n",
    "                \"subject\": row.gene_nodenorm_id,\n",
    "                \"predicate\": \"biolink:genetically_associated_with\",\n",
    "                \"object\": row.disease_nodenorm_id,\n",
    "                \"attributes\": [\n",
    "                    {\n",
    "                        \"attribute_type_id\": \"biolink:knowledge_level\",\n",
    "                        \"value\": \"knowledge_assertion\"\n",
    "                    },\n",
    "                    {\n",
    "                        \"attribute_type_id\": \"biolink:agent_type\",\n",
    "                        \"value\": \"manual_agent\"\n",
    "                    },\n",
    "                    {   ## needs data-modeling/TRAPI validation review\n",
    "                        \"attribute_type_id\": \"SEPIO:0000168\",\n",
    "                        \"value\": row.confidence_score\n",
    "                    },\n",
    "                    {\n",
    "                        \"attribute_type_id\": \"biolink:original_subject\",\n",
    "                        \"original_attribute_name\": \"gene_id\",  ## original column name\n",
    "                        \"value\": row.gene_id\n",
    "                    },\n",
    "                    {\n",
    "                        \"attribute_type_id\": \"biolink:original_object\",\n",
    "                        \"original_attribute_name\": \"disease_id\",  ## original column name\n",
    "                        \"value\": row.disease_id\n",
    "                    },\n",
    "                ]\n",
    "            }\n",
    "            ## sources: depends on source_db value\n",
    "            if row.source_db == \"MedlinePlus\":\n",
    "                document[\"sources\"] = [\n",
    "                    {\n",
    "                        \"resource_id\": \"infores:medlineplus\",\n",
    "                        \"resource_role\": \"primary_knowledge_source\"\n",
    "                    },\n",
    "                    {\n",
    "                        \"resource_id\": \"infores:diseases\",\n",
    "                        \"resource_role\": \"aggregator_knowledge_source\",\n",
    "                        \"upstream_resource_ids\": [\"infores:medlineplus\"]\n",
    "                    }\n",
    "                ]\n",
    "            elif row.source_db == \"AmyCo\":\n",
    "                document[\"sources\"] = [\n",
    "                    {   ## not in infores registry yet!\n",
    "                        \"resource_id\": \"infores:amyco\",\n",
    "                        \"resource_role\": \"primary_knowledge_source\"\n",
    "                    },\n",
    "                    {\n",
    "                        \"resource_id\": \"infores:diseases\",\n",
    "                        \"resource_role\": \"aggregator_knowledge_source\",\n",
    "                        \"upstream_resource_ids\": [\"infores:amyco\"]\n",
    "                    }\n",
    "                ]\n",
    "            else:\n",
    "                raise ValueError(f\"Unexpected source_db value during source mapping: {row.source_db}. Adjust parser.\")\n",
    "            \n",
    "            ## doing so it doesn't print\n",
    "            bytes = trapi_writer.write(document)\n",
    "        else:\n",
    "            ## won't write the document\n",
    "            print(f\"duplicate row encountered: {temp}\")\n",
    "            break"
   ]
  },
  {
   "cell_type": "code",
   "execution_count": 76,
   "id": "4692267d",
   "metadata": {
    "ExecuteTime": {
     "end_time": "2025-05-06T06:44:35.789286Z",
     "start_time": "2025-05-06T06:44:29.854100Z"
    }
   },
   "outputs": [
    {
     "name": "stdout",
     "output_type": "stream",
     "text": [
      "duplicate row encountered: ENSEMBL:ENSP00000269703_DOID:0060655_MedlinePlus\n",
      "duplicate row encountered: ENSEMBL:ENSP00000272895_DOID:0060655_MedlinePlus\n",
      "duplicate row encountered: ENSEMBL:ENSP00000311687_DOID:0060655_MedlinePlus\n",
      "duplicate row encountered: ENSEMBL:ENSP00000342392_DOID:0050568_MedlinePlus\n",
      "duplicate row encountered: ENSEMBL:ENSP00000379845_DOID:0060407_MedlinePlus\n"
     ]
    }
   ],
   "source": [
    "## put into parser (format): \n",
    "## separate functions for textmined vs not, trapi edges vs kgx??\n",
    "## will want the tally to live outside the reading data -> writing loop, so it can\n",
    "##   keep track of what edges were already done\n",
    "\n",
    "## if needed to create two diff output file formats at same time, could initiate\n",
    "##   to separate writers and use both at once \n",
    "\n",
    "\n",
    "with jsonlines.open('DISEASES_trapi_edges.jsonl', mode='w', compact=True) as trapi_writer:\n",
    "    \n",
    "## text-mined data: \n",
    "    textmining_tally = set()\n",
    "    \n",
    "    ## using itertuples because it's faster, preserves datatypes\n",
    "    for row in df_textmining.itertuples(index=False):\n",
    "        ## construct row abbreviation\n",
    "        temp = row.gene_id + \"_\" + row.disease_id\n",
    "        \n",
    "        if temp not in textmining_tally:\n",
    "            textmining_tally.add(temp)\n",
    "\n",
    "            document = {\n",
    "                \"subject\": row.gene_nodenorm_id,\n",
    "                \"predicate\": \"biolink:occurs_together_in_literature_with\",\n",
    "                \"object\": row.disease_nodenorm_id,\n",
    "                \"sources\": [\n",
    "                    {\n",
    "                        \"resource_id\": \"infores:diseases\",\n",
    "                        \"resource_role\": \"primary_knowledge_source\",\n",
    "                        \"source_record_urls\": [row.url]\n",
    "                    }\n",
    "                ],\n",
    "                \"attributes\": [\n",
    "                    {\n",
    "                        \"attribute_type_id\": \"biolink:knowledge_level\",\n",
    "                        \"value\": \"statistical_association\"\n",
    "                    },\n",
    "                    {\n",
    "                        \"attribute_type_id\": \"biolink:agent_type\",\n",
    "                        \"value\": \"text_mining_agent\"\n",
    "                    },\n",
    "                    {   ## needs data-modeling/TRAPI validation review\n",
    "                        \"attribute_type_id\": \"STATO:0000104\",\n",
    "                        \"value\": row.z_score\n",
    "                    },\n",
    "                    {   ## needs data-modeling/TRAPI validation review\n",
    "                        \"attribute_type_id\": \"SEPIO:0000168\",\n",
    "                        \"value\": row.confidence_score\n",
    "                    },\n",
    "                    {\n",
    "                        \"attribute_type_id\": \"biolink:original_subject\",\n",
    "                        \"original_attribute_name\": \"gene_id\",  ## original column name\n",
    "                        \"value\": row.gene_id\n",
    "                    },\n",
    "                    {\n",
    "                        \"attribute_type_id\": \"biolink:original_object\",\n",
    "                        \"original_attribute_name\": \"disease_id\",  ## original column name\n",
    "                        \"value\": row.disease_id\n",
    "                    },\n",
    "                ]\n",
    "            }\n",
    "            ## doing so it doesn't print\n",
    "            bytes = trapi_writer.write(document)\n",
    "        else:\n",
    "            ## won't write the document\n",
    "            print(f\"duplicate row encountered: {temp}\")\n",
    "\n",
    "## knowledge data: parser - separate function (diff row abbreviation, document)\n",
    "    knowledge_tally = set()\n",
    "    \n",
    "    ## using itertuples because it's faster, preserves datatypes\n",
    "    for row in df_knowledge.itertuples(index=False):\n",
    "        ## construct row abbreviation: needs source_db!\n",
    "        temp = row.gene_id + \"_\" + row.disease_id + \"_\" + row.source_db\n",
    "        \n",
    "        if temp not in knowledge_tally:\n",
    "            knowledge_tally.add(temp)\n",
    "\n",
    "            document = {\n",
    "                ## simple assignments: no if\n",
    "                \"subject\": row.gene_nodenorm_id,\n",
    "                \"predicate\": \"biolink:genetically_associated_with\",\n",
    "                \"object\": row.disease_nodenorm_id,\n",
    "                \"attributes\": [\n",
    "                    {\n",
    "                        \"attribute_type_id\": \"biolink:knowledge_level\",\n",
    "                        \"value\": \"knowledge_assertion\"\n",
    "                    },\n",
    "                    {\n",
    "                        \"attribute_type_id\": \"biolink:agent_type\",\n",
    "                        \"value\": \"manual_agent\"\n",
    "                    },\n",
    "                    {   ## needs data-modeling/TRAPI validation review\n",
    "                        \"attribute_type_id\": \"SEPIO:0000168\",\n",
    "                        \"value\": row.confidence_score\n",
    "                    },\n",
    "                    {\n",
    "                        \"attribute_type_id\": \"biolink:original_subject\",\n",
    "                        \"original_attribute_name\": \"gene_id\",  ## original column name\n",
    "                        \"value\": row.gene_id\n",
    "                    },\n",
    "                    {\n",
    "                        \"attribute_type_id\": \"biolink:original_object\",\n",
    "                        \"original_attribute_name\": \"disease_id\",  ## original column name\n",
    "                        \"value\": row.disease_id\n",
    "                    },\n",
    "                ]\n",
    "            }\n",
    "            ## sources: depends on source_db value\n",
    "            if row.source_db == \"MedlinePlus\":\n",
    "                document[\"sources\"] = [\n",
    "                    {\n",
    "                        \"resource_id\": \"infores:medlineplus\",\n",
    "                        \"resource_role\": \"primary_knowledge_source\"\n",
    "                    },\n",
    "                    {\n",
    "                        \"resource_id\": \"infores:diseases\",\n",
    "                        \"resource_role\": \"aggregator_knowledge_source\",\n",
    "                        \"upstream_resource_ids\": [\"infores:medlineplus\"]\n",
    "                    }\n",
    "                ]\n",
    "            elif row.source_db == \"AmyCo\":\n",
    "                document[\"sources\"] = [\n",
    "                    {   ## not in infores registry yet!\n",
    "                        \"resource_id\": \"infores:amyco\",\n",
    "                        \"resource_role\": \"primary_knowledge_source\"\n",
    "                    },\n",
    "                    {\n",
    "                        \"resource_id\": \"infores:diseases\",\n",
    "                        \"resource_role\": \"aggregator_knowledge_source\",\n",
    "                        \"upstream_resource_ids\": [\"infores:amyco\"]\n",
    "                    }\n",
    "                ]\n",
    "            else:\n",
    "                raise ValueError(f\"Unexpected source_db value during source mapping: {row.source_db}. Adjust parser.\")\n",
    "            ## doing so it doesn't print\n",
    "            bytes = trapi_writer.write(document)\n",
    "        else:\n",
    "            ## won't write the document\n",
    "            print(f\"duplicate row encountered: {temp}\")"
   ]
  },
  {
   "cell_type": "code",
   "execution_count": 77,
   "id": "1f67b647",
   "metadata": {
    "ExecuteTime": {
     "end_time": "2025-05-06T06:44:45.119641Z",
     "start_time": "2025-05-06T06:44:45.102784Z"
    }
   },
   "outputs": [
    {
     "data": {
      "text/html": [
       "<div>\n",
       "<style scoped>\n",
       "    .dataframe tbody tr th:only-of-type {\n",
       "        vertical-align: middle;\n",
       "    }\n",
       "\n",
       "    .dataframe tbody tr th {\n",
       "        vertical-align: top;\n",
       "    }\n",
       "\n",
       "    .dataframe thead th {\n",
       "        text-align: right;\n",
       "    }\n",
       "</style>\n",
       "<table border=\"1\" class=\"dataframe\">\n",
       "  <thead>\n",
       "    <tr style=\"text-align: right;\">\n",
       "      <th></th>\n",
       "      <th>gene_id</th>\n",
       "      <th>gene_name</th>\n",
       "      <th>disease_id</th>\n",
       "      <th>disease_name</th>\n",
       "      <th>source_db</th>\n",
       "      <th>evidence_type</th>\n",
       "      <th>confidence_score</th>\n",
       "      <th>gene_nodenorm_id</th>\n",
       "      <th>gene_nodenorm_label</th>\n",
       "      <th>gene_nodenorm_category</th>\n",
       "      <th>disease_nodenorm_id</th>\n",
       "      <th>disease_nodenorm_label</th>\n",
       "    </tr>\n",
       "  </thead>\n",
       "  <tbody>\n",
       "    <tr>\n",
       "      <th>798</th>\n",
       "      <td>ENSEMBL:ENSP00000269703</td>\n",
       "      <td>CYP4F22</td>\n",
       "      <td>DOID:0060655</td>\n",
       "      <td>Autosomal recessive congenital ichthyosis</td>\n",
       "      <td>MedlinePlus</td>\n",
       "      <td>CURATED</td>\n",
       "      <td>5</td>\n",
       "      <td>NCBIGene:126410</td>\n",
       "      <td>CYP4F22</td>\n",
       "      <td>biolink:Gene</td>\n",
       "      <td>MONDO:0017265</td>\n",
       "      <td>autosomal recessive congenital ichthyosis</td>\n",
       "    </tr>\n",
       "    <tr>\n",
       "      <th>799</th>\n",
       "      <td>ENSEMBL:ENSP00000269703</td>\n",
       "      <td>CYP4F22</td>\n",
       "      <td>DOID:0060655</td>\n",
       "      <td>Autosomal recessive congenital ichthyosis</td>\n",
       "      <td>MedlinePlus</td>\n",
       "      <td>CURATED</td>\n",
       "      <td>5</td>\n",
       "      <td>NCBIGene:126410</td>\n",
       "      <td>CYP4F22</td>\n",
       "      <td>biolink:Gene</td>\n",
       "      <td>MONDO:0017265</td>\n",
       "      <td>autosomal recessive congenital ichthyosis</td>\n",
       "    </tr>\n",
       "    <tr>\n",
       "      <th>823</th>\n",
       "      <td>ENSEMBL:ENSP00000272895</td>\n",
       "      <td>ABCA12</td>\n",
       "      <td>DOID:0060655</td>\n",
       "      <td>Autosomal recessive congenital ichthyosis</td>\n",
       "      <td>MedlinePlus</td>\n",
       "      <td>CURATED</td>\n",
       "      <td>5</td>\n",
       "      <td>UniProtKB:Q86UK0-1</td>\n",
       "      <td>glucosylceramide transporter ABCA12 isoform h1...</td>\n",
       "      <td>biolink:Protein</td>\n",
       "      <td>MONDO:0017265</td>\n",
       "      <td>autosomal recessive congenital ichthyosis</td>\n",
       "    </tr>\n",
       "    <tr>\n",
       "      <th>824</th>\n",
       "      <td>ENSEMBL:ENSP00000272895</td>\n",
       "      <td>ABCA12</td>\n",
       "      <td>DOID:0060655</td>\n",
       "      <td>Autosomal recessive congenital ichthyosis</td>\n",
       "      <td>MedlinePlus</td>\n",
       "      <td>CURATED</td>\n",
       "      <td>5</td>\n",
       "      <td>UniProtKB:Q86UK0-1</td>\n",
       "      <td>glucosylceramide transporter ABCA12 isoform h1...</td>\n",
       "      <td>biolink:Protein</td>\n",
       "      <td>MONDO:0017265</td>\n",
       "      <td>autosomal recessive congenital ichthyosis</td>\n",
       "    </tr>\n",
       "    <tr>\n",
       "      <th>1261</th>\n",
       "      <td>ENSEMBL:ENSP00000311687</td>\n",
       "      <td>NIPAL4</td>\n",
       "      <td>DOID:0060655</td>\n",
       "      <td>Autosomal recessive congenital ichthyosis</td>\n",
       "      <td>MedlinePlus</td>\n",
       "      <td>CURATED</td>\n",
       "      <td>5</td>\n",
       "      <td>UniProtKB:Q0D2K0-1</td>\n",
       "      <td>magnesium transporter NIPA4 isoform h1 (human)</td>\n",
       "      <td>biolink:Protein</td>\n",
       "      <td>MONDO:0017265</td>\n",
       "      <td>autosomal recessive congenital ichthyosis</td>\n",
       "    </tr>\n",
       "    <tr>\n",
       "      <th>1262</th>\n",
       "      <td>ENSEMBL:ENSP00000311687</td>\n",
       "      <td>NIPAL4</td>\n",
       "      <td>DOID:0060655</td>\n",
       "      <td>Autosomal recessive congenital ichthyosis</td>\n",
       "      <td>MedlinePlus</td>\n",
       "      <td>CURATED</td>\n",
       "      <td>5</td>\n",
       "      <td>UniProtKB:Q0D2K0-1</td>\n",
       "      <td>magnesium transporter NIPA4 isoform h1 (human)</td>\n",
       "      <td>biolink:Protein</td>\n",
       "      <td>MONDO:0017265</td>\n",
       "      <td>autosomal recessive congenital ichthyosis</td>\n",
       "    </tr>\n",
       "    <tr>\n",
       "      <th>1662</th>\n",
       "      <td>ENSEMBL:ENSP00000342392</td>\n",
       "      <td>MESP2</td>\n",
       "      <td>DOID:0050568</td>\n",
       "      <td>Spondylocostal dysostosis</td>\n",
       "      <td>MedlinePlus</td>\n",
       "      <td>CURATED</td>\n",
       "      <td>5</td>\n",
       "      <td>NCBIGene:145873</td>\n",
       "      <td>MESP2</td>\n",
       "      <td>biolink:Gene</td>\n",
       "      <td>MONDO:0000359</td>\n",
       "      <td>spondylocostal dysostosis</td>\n",
       "    </tr>\n",
       "    <tr>\n",
       "      <th>1663</th>\n",
       "      <td>ENSEMBL:ENSP00000342392</td>\n",
       "      <td>MESP2</td>\n",
       "      <td>DOID:0050568</td>\n",
       "      <td>Spondylocostal dysostosis</td>\n",
       "      <td>MedlinePlus</td>\n",
       "      <td>CURATED</td>\n",
       "      <td>5</td>\n",
       "      <td>NCBIGene:145873</td>\n",
       "      <td>MESP2</td>\n",
       "      <td>biolink:Gene</td>\n",
       "      <td>MONDO:0000359</td>\n",
       "      <td>spondylocostal dysostosis</td>\n",
       "    </tr>\n",
       "    <tr>\n",
       "      <th>2731</th>\n",
       "      <td>ENSEMBL:ENSP00000379845</td>\n",
       "      <td>ABAT</td>\n",
       "      <td>DOID:0060407</td>\n",
       "      <td>Chromosome 18q deletion syndrome</td>\n",
       "      <td>MedlinePlus</td>\n",
       "      <td>CURATED</td>\n",
       "      <td>5</td>\n",
       "      <td>NCBIGene:18</td>\n",
       "      <td>ABAT</td>\n",
       "      <td>biolink:Gene</td>\n",
       "      <td>MONDO:0011147</td>\n",
       "      <td>chromosome 18q deletion syndrome</td>\n",
       "    </tr>\n",
       "    <tr>\n",
       "      <th>2732</th>\n",
       "      <td>ENSEMBL:ENSP00000379845</td>\n",
       "      <td>ABAT</td>\n",
       "      <td>DOID:0060407</td>\n",
       "      <td>Chromosome 18q deletion syndrome</td>\n",
       "      <td>MedlinePlus</td>\n",
       "      <td>CURATED</td>\n",
       "      <td>5</td>\n",
       "      <td>NCBIGene:18</td>\n",
       "      <td>ABAT</td>\n",
       "      <td>biolink:Gene</td>\n",
       "      <td>MONDO:0011147</td>\n",
       "      <td>chromosome 18q deletion syndrome</td>\n",
       "    </tr>\n",
       "  </tbody>\n",
       "</table>\n",
       "</div>"
      ],
      "text/plain": [
       "                      gene_id gene_name    disease_id  \\\n",
       "798   ENSEMBL:ENSP00000269703   CYP4F22  DOID:0060655   \n",
       "799   ENSEMBL:ENSP00000269703   CYP4F22  DOID:0060655   \n",
       "823   ENSEMBL:ENSP00000272895    ABCA12  DOID:0060655   \n",
       "824   ENSEMBL:ENSP00000272895    ABCA12  DOID:0060655   \n",
       "1261  ENSEMBL:ENSP00000311687    NIPAL4  DOID:0060655   \n",
       "1262  ENSEMBL:ENSP00000311687    NIPAL4  DOID:0060655   \n",
       "1662  ENSEMBL:ENSP00000342392     MESP2  DOID:0050568   \n",
       "1663  ENSEMBL:ENSP00000342392     MESP2  DOID:0050568   \n",
       "2731  ENSEMBL:ENSP00000379845      ABAT  DOID:0060407   \n",
       "2732  ENSEMBL:ENSP00000379845      ABAT  DOID:0060407   \n",
       "\n",
       "                                   disease_name    source_db evidence_type  \\\n",
       "798   Autosomal recessive congenital ichthyosis  MedlinePlus       CURATED   \n",
       "799   Autosomal recessive congenital ichthyosis  MedlinePlus       CURATED   \n",
       "823   Autosomal recessive congenital ichthyosis  MedlinePlus       CURATED   \n",
       "824   Autosomal recessive congenital ichthyosis  MedlinePlus       CURATED   \n",
       "1261  Autosomal recessive congenital ichthyosis  MedlinePlus       CURATED   \n",
       "1262  Autosomal recessive congenital ichthyosis  MedlinePlus       CURATED   \n",
       "1662                  Spondylocostal dysostosis  MedlinePlus       CURATED   \n",
       "1663                  Spondylocostal dysostosis  MedlinePlus       CURATED   \n",
       "2731           Chromosome 18q deletion syndrome  MedlinePlus       CURATED   \n",
       "2732           Chromosome 18q deletion syndrome  MedlinePlus       CURATED   \n",
       "\n",
       "      confidence_score    gene_nodenorm_id  \\\n",
       "798                  5     NCBIGene:126410   \n",
       "799                  5     NCBIGene:126410   \n",
       "823                  5  UniProtKB:Q86UK0-1   \n",
       "824                  5  UniProtKB:Q86UK0-1   \n",
       "1261                 5  UniProtKB:Q0D2K0-1   \n",
       "1262                 5  UniProtKB:Q0D2K0-1   \n",
       "1662                 5     NCBIGene:145873   \n",
       "1663                 5     NCBIGene:145873   \n",
       "2731                 5         NCBIGene:18   \n",
       "2732                 5         NCBIGene:18   \n",
       "\n",
       "                                    gene_nodenorm_label  \\\n",
       "798                                             CYP4F22   \n",
       "799                                             CYP4F22   \n",
       "823   glucosylceramide transporter ABCA12 isoform h1...   \n",
       "824   glucosylceramide transporter ABCA12 isoform h1...   \n",
       "1261     magnesium transporter NIPA4 isoform h1 (human)   \n",
       "1262     magnesium transporter NIPA4 isoform h1 (human)   \n",
       "1662                                              MESP2   \n",
       "1663                                              MESP2   \n",
       "2731                                               ABAT   \n",
       "2732                                               ABAT   \n",
       "\n",
       "     gene_nodenorm_category disease_nodenorm_id  \\\n",
       "798            biolink:Gene       MONDO:0017265   \n",
       "799            biolink:Gene       MONDO:0017265   \n",
       "823         biolink:Protein       MONDO:0017265   \n",
       "824         biolink:Protein       MONDO:0017265   \n",
       "1261        biolink:Protein       MONDO:0017265   \n",
       "1262        biolink:Protein       MONDO:0017265   \n",
       "1662           biolink:Gene       MONDO:0000359   \n",
       "1663           biolink:Gene       MONDO:0000359   \n",
       "2731           biolink:Gene       MONDO:0011147   \n",
       "2732           biolink:Gene       MONDO:0011147   \n",
       "\n",
       "                         disease_nodenorm_label  \n",
       "798   autosomal recessive congenital ichthyosis  \n",
       "799   autosomal recessive congenital ichthyosis  \n",
       "823   autosomal recessive congenital ichthyosis  \n",
       "824   autosomal recessive congenital ichthyosis  \n",
       "1261  autosomal recessive congenital ichthyosis  \n",
       "1262  autosomal recessive congenital ichthyosis  \n",
       "1662                  spondylocostal dysostosis  \n",
       "1663                  spondylocostal dysostosis  \n",
       "2731           chromosome 18q deletion syndrome  \n",
       "2732           chromosome 18q deletion syndrome  "
      ]
     },
     "execution_count": 77,
     "metadata": {},
     "output_type": "execute_result"
    }
   ],
   "source": [
    "df_knowledge[df_knowledge.duplicated(subset=[\"gene_id\", \"disease_id\", \"source_db\"], keep=False)]"
   ]
  },
  {
   "cell_type": "code",
   "execution_count": 78,
   "id": "ded0e92c",
   "metadata": {
    "ExecuteTime": {
     "end_time": "2025-05-06T06:44:49.121680Z",
     "start_time": "2025-05-06T06:44:49.117823Z"
    }
   },
   "outputs": [
    {
     "data": {
      "text/plain": [
       "269602"
      ]
     },
     "execution_count": 78,
     "metadata": {},
     "output_type": "execute_result"
    }
   ],
   "source": [
    "## number of docs that should be created\n",
    "df_textmining.shape[0] + df_knowledge.shape[0] - 5  ## add together, remove duplicates"
   ]
  },
  {
   "cell_type": "markdown",
   "id": "70cea85c",
   "metadata": {},
   "source": [
    "### File: KGX edges"
   ]
  },
  {
   "cell_type": "code",
   "execution_count": 79,
   "id": "c9fcd128",
   "metadata": {
    "ExecuteTime": {
     "end_time": "2025-05-06T06:45:06.033682Z",
     "start_time": "2025-05-06T06:45:06.018672Z"
    }
   },
   "outputs": [
    {
     "data": {
      "text/html": [
       "<div>\n",
       "<style scoped>\n",
       "    .dataframe tbody tr th:only-of-type {\n",
       "        vertical-align: middle;\n",
       "    }\n",
       "\n",
       "    .dataframe tbody tr th {\n",
       "        vertical-align: top;\n",
       "    }\n",
       "\n",
       "    .dataframe thead th {\n",
       "        text-align: right;\n",
       "    }\n",
       "</style>\n",
       "<table border=\"1\" class=\"dataframe\">\n",
       "  <thead>\n",
       "    <tr style=\"text-align: right;\">\n",
       "      <th></th>\n",
       "      <th>gene_id</th>\n",
       "      <th>gene_name</th>\n",
       "      <th>disease_id</th>\n",
       "      <th>disease_name</th>\n",
       "      <th>z_score</th>\n",
       "      <th>confidence_score</th>\n",
       "      <th>url</th>\n",
       "      <th>gene_nodenorm_id</th>\n",
       "      <th>gene_nodenorm_label</th>\n",
       "      <th>gene_nodenorm_category</th>\n",
       "      <th>disease_nodenorm_id</th>\n",
       "      <th>disease_nodenorm_label</th>\n",
       "    </tr>\n",
       "  </thead>\n",
       "  <tbody>\n",
       "    <tr>\n",
       "      <th>0</th>\n",
       "      <td>ENSEMBL:ENSP00000000233</td>\n",
       "      <td>ARF5</td>\n",
       "      <td>DOID:0111266</td>\n",
       "      <td>Geroderma osteodysplasticum</td>\n",
       "      <td>4.775</td>\n",
       "      <td>2.388</td>\n",
       "      <td>https://diseases.jensenlab.org/Entity?document...</td>\n",
       "      <td>NCBIGene:381</td>\n",
       "      <td>ARF5</td>\n",
       "      <td>biolink:Gene</td>\n",
       "      <td>MONDO:0009271</td>\n",
       "      <td>geroderma osteodysplastica</td>\n",
       "    </tr>\n",
       "    <tr>\n",
       "      <th>1</th>\n",
       "      <td>ENSEMBL:ENSP00000000233</td>\n",
       "      <td>ARF5</td>\n",
       "      <td>DOID:162</td>\n",
       "      <td>Cancer</td>\n",
       "      <td>3.214</td>\n",
       "      <td>1.607</td>\n",
       "      <td>https://diseases.jensenlab.org/Entity?document...</td>\n",
       "      <td>NCBIGene:381</td>\n",
       "      <td>ARF5</td>\n",
       "      <td>biolink:Gene</td>\n",
       "      <td>MONDO:0004992</td>\n",
       "      <td>cancer</td>\n",
       "    </tr>\n",
       "    <tr>\n",
       "      <th>2</th>\n",
       "      <td>ENSEMBL:ENSP00000000233</td>\n",
       "      <td>ARF5</td>\n",
       "      <td>DOID:863</td>\n",
       "      <td>Nervous system disease</td>\n",
       "      <td>3.055</td>\n",
       "      <td>1.528</td>\n",
       "      <td>https://diseases.jensenlab.org/Entity?document...</td>\n",
       "      <td>NCBIGene:381</td>\n",
       "      <td>ARF5</td>\n",
       "      <td>biolink:Gene</td>\n",
       "      <td>MONDO:0005071</td>\n",
       "      <td>nervous system disorder</td>\n",
       "    </tr>\n",
       "    <tr>\n",
       "      <th>3</th>\n",
       "      <td>ENSEMBL:ENSP00000000412</td>\n",
       "      <td>M6PR</td>\n",
       "      <td>DOID:0080070</td>\n",
       "      <td>Mucolipidosis II alpha/beta</td>\n",
       "      <td>5.533</td>\n",
       "      <td>2.767</td>\n",
       "      <td>https://diseases.jensenlab.org/Entity?document...</td>\n",
       "      <td>NCBIGene:4074</td>\n",
       "      <td>M6PR</td>\n",
       "      <td>biolink:Gene</td>\n",
       "      <td>MONDO:0009650</td>\n",
       "      <td>Mucolipidosis 2</td>\n",
       "    </tr>\n",
       "    <tr>\n",
       "      <th>4</th>\n",
       "      <td>ENSEMBL:ENSP00000000412</td>\n",
       "      <td>M6PR</td>\n",
       "      <td>DOID:0080071</td>\n",
       "      <td>Mucolipidosis III alpha/beta</td>\n",
       "      <td>4.227</td>\n",
       "      <td>2.113</td>\n",
       "      <td>https://diseases.jensenlab.org/Entity?document...</td>\n",
       "      <td>NCBIGene:4074</td>\n",
       "      <td>M6PR</td>\n",
       "      <td>biolink:Gene</td>\n",
       "      <td>MONDO:0018931</td>\n",
       "      <td>mucolipidosis type III, alpha/beta</td>\n",
       "    </tr>\n",
       "    <tr>\n",
       "      <th>...</th>\n",
       "      <td>...</td>\n",
       "      <td>...</td>\n",
       "      <td>...</td>\n",
       "      <td>...</td>\n",
       "      <td>...</td>\n",
       "      <td>...</td>\n",
       "      <td>...</td>\n",
       "      <td>...</td>\n",
       "      <td>...</td>\n",
       "      <td>...</td>\n",
       "      <td>...</td>\n",
       "      <td>...</td>\n",
       "    </tr>\n",
       "    <tr>\n",
       "      <th>265756</th>\n",
       "      <td>ENSEMBL:ENSP00000501277</td>\n",
       "      <td>LDB1</td>\n",
       "      <td>DOID:0081445</td>\n",
       "      <td>Sickle cell disease</td>\n",
       "      <td>4.322</td>\n",
       "      <td>2.161</td>\n",
       "      <td>https://diseases.jensenlab.org/Entity?document...</td>\n",
       "      <td>UniProtKB:Q86U70-1</td>\n",
       "      <td>LIM domain-binding protein 1 isoform 1 (human)</td>\n",
       "      <td>biolink:Protein</td>\n",
       "      <td>MONDO:0011382</td>\n",
       "      <td>sickle cell anemia</td>\n",
       "    </tr>\n",
       "    <tr>\n",
       "      <th>265757</th>\n",
       "      <td>ENSEMBL:ENSP00000501277</td>\n",
       "      <td>LDB1</td>\n",
       "      <td>DOID:2355</td>\n",
       "      <td>Anemia</td>\n",
       "      <td>4.298</td>\n",
       "      <td>2.149</td>\n",
       "      <td>https://diseases.jensenlab.org/Entity?document...</td>\n",
       "      <td>UniProtKB:Q86U70-1</td>\n",
       "      <td>LIM domain-binding protein 1 isoform 1 (human)</td>\n",
       "      <td>biolink:Protein</td>\n",
       "      <td>MONDO:0002280</td>\n",
       "      <td>anemia</td>\n",
       "    </tr>\n",
       "    <tr>\n",
       "      <th>265758</th>\n",
       "      <td>ENSEMBL:ENSP00000501277</td>\n",
       "      <td>LDB1</td>\n",
       "      <td>DOID:162</td>\n",
       "      <td>Cancer</td>\n",
       "      <td>4.214</td>\n",
       "      <td>2.107</td>\n",
       "      <td>https://diseases.jensenlab.org/Entity?document...</td>\n",
       "      <td>UniProtKB:Q86U70-1</td>\n",
       "      <td>LIM domain-binding protein 1 isoform 1 (human)</td>\n",
       "      <td>biolink:Protein</td>\n",
       "      <td>MONDO:0004992</td>\n",
       "      <td>cancer</td>\n",
       "    </tr>\n",
       "    <tr>\n",
       "      <th>265759</th>\n",
       "      <td>ENSEMBL:ENSP00000501277</td>\n",
       "      <td>LDB1</td>\n",
       "      <td>DOID:9467</td>\n",
       "      <td>nail-patella syndrome</td>\n",
       "      <td>3.957</td>\n",
       "      <td>1.978</td>\n",
       "      <td>https://diseases.jensenlab.org/Entity?document...</td>\n",
       "      <td>UniProtKB:Q86U70-1</td>\n",
       "      <td>LIM domain-binding protein 1 isoform 1 (human)</td>\n",
       "      <td>biolink:Protein</td>\n",
       "      <td>MONDO:0008061</td>\n",
       "      <td>nail-patella syndrome</td>\n",
       "    </tr>\n",
       "    <tr>\n",
       "      <th>265760</th>\n",
       "      <td>ENSEMBL:ENSP00000501277</td>\n",
       "      <td>LDB1</td>\n",
       "      <td>DOID:75</td>\n",
       "      <td>Lymphatic system disease</td>\n",
       "      <td>3.804</td>\n",
       "      <td>1.902</td>\n",
       "      <td>https://diseases.jensenlab.org/Entity?document...</td>\n",
       "      <td>UniProtKB:Q86U70-1</td>\n",
       "      <td>LIM domain-binding protein 1 isoform 1 (human)</td>\n",
       "      <td>biolink:Protein</td>\n",
       "      <td>MONDO:0005833</td>\n",
       "      <td>Lymphadenopathy</td>\n",
       "    </tr>\n",
       "  </tbody>\n",
       "</table>\n",
       "<p>265761 rows × 12 columns</p>\n",
       "</div>"
      ],
      "text/plain": [
       "                        gene_id gene_name    disease_id  \\\n",
       "0       ENSEMBL:ENSP00000000233      ARF5  DOID:0111266   \n",
       "1       ENSEMBL:ENSP00000000233      ARF5      DOID:162   \n",
       "2       ENSEMBL:ENSP00000000233      ARF5      DOID:863   \n",
       "3       ENSEMBL:ENSP00000000412      M6PR  DOID:0080070   \n",
       "4       ENSEMBL:ENSP00000000412      M6PR  DOID:0080071   \n",
       "...                         ...       ...           ...   \n",
       "265756  ENSEMBL:ENSP00000501277      LDB1  DOID:0081445   \n",
       "265757  ENSEMBL:ENSP00000501277      LDB1     DOID:2355   \n",
       "265758  ENSEMBL:ENSP00000501277      LDB1      DOID:162   \n",
       "265759  ENSEMBL:ENSP00000501277      LDB1     DOID:9467   \n",
       "265760  ENSEMBL:ENSP00000501277      LDB1       DOID:75   \n",
       "\n",
       "                        disease_name  z_score  confidence_score  \\\n",
       "0        Geroderma osteodysplasticum    4.775             2.388   \n",
       "1                             Cancer    3.214             1.607   \n",
       "2             Nervous system disease    3.055             1.528   \n",
       "3        Mucolipidosis II alpha/beta    5.533             2.767   \n",
       "4       Mucolipidosis III alpha/beta    4.227             2.113   \n",
       "...                              ...      ...               ...   \n",
       "265756           Sickle cell disease    4.322             2.161   \n",
       "265757                        Anemia    4.298             2.149   \n",
       "265758                        Cancer    4.214             2.107   \n",
       "265759         nail-patella syndrome    3.957             1.978   \n",
       "265760      Lymphatic system disease    3.804             1.902   \n",
       "\n",
       "                                                      url    gene_nodenorm_id  \\\n",
       "0       https://diseases.jensenlab.org/Entity?document...        NCBIGene:381   \n",
       "1       https://diseases.jensenlab.org/Entity?document...        NCBIGene:381   \n",
       "2       https://diseases.jensenlab.org/Entity?document...        NCBIGene:381   \n",
       "3       https://diseases.jensenlab.org/Entity?document...       NCBIGene:4074   \n",
       "4       https://diseases.jensenlab.org/Entity?document...       NCBIGene:4074   \n",
       "...                                                   ...                 ...   \n",
       "265756  https://diseases.jensenlab.org/Entity?document...  UniProtKB:Q86U70-1   \n",
       "265757  https://diseases.jensenlab.org/Entity?document...  UniProtKB:Q86U70-1   \n",
       "265758  https://diseases.jensenlab.org/Entity?document...  UniProtKB:Q86U70-1   \n",
       "265759  https://diseases.jensenlab.org/Entity?document...  UniProtKB:Q86U70-1   \n",
       "265760  https://diseases.jensenlab.org/Entity?document...  UniProtKB:Q86U70-1   \n",
       "\n",
       "                                   gene_nodenorm_label gene_nodenorm_category  \\\n",
       "0                                                 ARF5           biolink:Gene   \n",
       "1                                                 ARF5           biolink:Gene   \n",
       "2                                                 ARF5           biolink:Gene   \n",
       "3                                                 M6PR           biolink:Gene   \n",
       "4                                                 M6PR           biolink:Gene   \n",
       "...                                                ...                    ...   \n",
       "265756  LIM domain-binding protein 1 isoform 1 (human)        biolink:Protein   \n",
       "265757  LIM domain-binding protein 1 isoform 1 (human)        biolink:Protein   \n",
       "265758  LIM domain-binding protein 1 isoform 1 (human)        biolink:Protein   \n",
       "265759  LIM domain-binding protein 1 isoform 1 (human)        biolink:Protein   \n",
       "265760  LIM domain-binding protein 1 isoform 1 (human)        biolink:Protein   \n",
       "\n",
       "       disease_nodenorm_id              disease_nodenorm_label  \n",
       "0            MONDO:0009271          geroderma osteodysplastica  \n",
       "1            MONDO:0004992                              cancer  \n",
       "2            MONDO:0005071             nervous system disorder  \n",
       "3            MONDO:0009650                     Mucolipidosis 2  \n",
       "4            MONDO:0018931  mucolipidosis type III, alpha/beta  \n",
       "...                    ...                                 ...  \n",
       "265756       MONDO:0011382                  sickle cell anemia  \n",
       "265757       MONDO:0002280                              anemia  \n",
       "265758       MONDO:0004992                              cancer  \n",
       "265759       MONDO:0008061               nail-patella syndrome  \n",
       "265760       MONDO:0005833                     Lymphadenopathy  \n",
       "\n",
       "[265761 rows x 12 columns]"
      ]
     },
     "execution_count": 79,
     "metadata": {},
     "output_type": "execute_result"
    }
   ],
   "source": [
    "df_textmining"
   ]
  },
  {
   "cell_type": "code",
   "execution_count": 80,
   "id": "b96bc85f",
   "metadata": {
    "ExecuteTime": {
     "end_time": "2025-05-06T06:45:13.076600Z",
     "start_time": "2025-05-06T06:45:13.046773Z"
    }
   },
   "outputs": [],
   "source": [
    "## code chunk for testing parts of inner code\n",
    "\n",
    "with jsonlines.open('DISEASES_kgx_edges.jsonl', mode='w', compact=True) as kgx_edges_writer:\n",
    "    textmining_tally = set()\n",
    "    \n",
    "    ## using itertuples because it's faster, preserves datatypes\n",
    "    for row in df_textmining.itertuples(index=False):\n",
    "        ## construct row abbreviation\n",
    "        temp = row.gene_id + \"_\" + row.disease_id\n",
    "        \n",
    "        if temp not in textmining_tally:\n",
    "            textmining_tally.add(temp)\n",
    "\n",
    "            document = {\n",
    "                \"subject\": row.gene_nodenorm_id,\n",
    "                \"predicate\": \"biolink:occurs_together_in_literature_with\",\n",
    "                \"object\": row.disease_nodenorm_id,\n",
    "                \"primary_knowledge_source\": \"infores:diseases\",\n",
    "                ## taken from Sierra. This should be disease source's source_record_urls\n",
    "                \"pks_record_urls\": [row.url],  \n",
    "                \"knowledge_level\": \"statistical_association\",\n",
    "                \"agent_type\": \"text_mining_agent\",\n",
    "                \"STATO:0000104\": row.z_score,  ## needs data-modeling/TRAPI validation review\n",
    "                \"SEPIO:0000168\": row.confidence_score,  ## needs data-modeling/TRAPI validation review\n",
    "                \"original_subject\": row.gene_id,\n",
    "                \"original_object\": row.disease_id,\n",
    "            }\n",
    "            ## doing so it doesn't print\n",
    "            bytes = kgx_edges_writer.write(document)\n",
    "        else:\n",
    "            ## won't write the document\n",
    "            print(f\"duplicate row encountered: {temp}\")\n",
    "        \n",
    "        if row.gene_id == \"ENSEMBL:ENSP00000000412\":\n",
    "            break    "
   ]
  },
  {
   "cell_type": "code",
   "execution_count": 81,
   "id": "596dfc38",
   "metadata": {
    "ExecuteTime": {
     "end_time": "2025-05-06T06:45:23.872356Z",
     "start_time": "2025-05-06T06:45:20.039483Z"
    }
   },
   "outputs": [
    {
     "name": "stdout",
     "output_type": "stream",
     "text": [
      "duplicate row encountered: ENSEMBL:ENSP00000269703_DOID:0060655_MedlinePlus\n",
      "duplicate row encountered: ENSEMBL:ENSP00000272895_DOID:0060655_MedlinePlus\n",
      "duplicate row encountered: ENSEMBL:ENSP00000311687_DOID:0060655_MedlinePlus\n",
      "duplicate row encountered: ENSEMBL:ENSP00000342392_DOID:0050568_MedlinePlus\n",
      "duplicate row encountered: ENSEMBL:ENSP00000379845_DOID:0060407_MedlinePlus\n"
     ]
    }
   ],
   "source": [
    "\n",
    "\n",
    "with jsonlines.open('DISEASES_kgx_edges.jsonl', mode='w', compact=True) as kgx_edges_writer:\n",
    "    \n",
    "## text-mined data: parser - separate function (diff row abbreviation, document)\n",
    "    textmining_tally = set()\n",
    "    \n",
    "    ## using itertuples because it's faster, preserves datatypes\n",
    "    for row in df_textmining.itertuples(index=False):\n",
    "        ## construct row abbreviation\n",
    "        temp = row.gene_id + \"_\" + row.disease_id\n",
    "        \n",
    "        if temp not in textmining_tally:\n",
    "            textmining_tally.add(temp)\n",
    "\n",
    "            document = {\n",
    "                \"subject\": row.gene_nodenorm_id,\n",
    "                \"predicate\": \"biolink:occurs_together_in_literature_with\",\n",
    "                \"object\": row.disease_nodenorm_id,\n",
    "                \"primary_knowledge_source\": \"infores:diseases\",\n",
    "                ## taken from Sierra. This should be disease source's source_record_urls\n",
    "                \"pks_record_urls\": [row.url],  \n",
    "                \"knowledge_level\": \"statistical_association\",\n",
    "                \"agent_type\": \"text_mining_agent\",\n",
    "                \"STATO:0000104\": row.z_score,  ## needs data-modeling/TRAPI validation review\n",
    "                \"SEPIO:0000168\": row.confidence_score,  ## needs data-modeling/TRAPI validation review\n",
    "                \"original_subject\": row.gene_id,\n",
    "                \"original_object\": row.disease_id,\n",
    "            }\n",
    "            ## doing so it doesn't print\n",
    "            bytes = kgx_edges_writer.write(document)\n",
    "        else:\n",
    "            ## won't write the document\n",
    "            print(f\"duplicate row encountered: {temp}\")\n",
    "\n",
    "## knowledge data: parser - separate function (diff row abbreviation, document)\n",
    "    knowledge_tally = set()\n",
    "    \n",
    "    ## using itertuples because it's faster, preserves datatypes\n",
    "    for row in df_knowledge.itertuples(index=False):\n",
    "        ## construct row abbreviation: needs source_db!\n",
    "        temp = row.gene_id + \"_\" + row.disease_id + \"_\" + row.source_db\n",
    "        \n",
    "        if temp not in knowledge_tally:\n",
    "            knowledge_tally.add(temp)\n",
    "\n",
    "            document = {\n",
    "                ## simple assignments: no if\n",
    "                \"subject\": row.gene_nodenorm_id,\n",
    "                \"predicate\": \"biolink:genetically_associated_with\",\n",
    "                \"object\": row.disease_nodenorm_id,\n",
    "                \"knowledge_level\": \"knowledge_assertion\",\n",
    "                \"agent_type\": \"manual_agent\",\n",
    "                \"SEPIO:0000168\": row.confidence_score,  ## needs data-modeling/TRAPI validation review\n",
    "                \"original_subject\": row.gene_id,\n",
    "                \"original_object\": row.disease_id,\n",
    "            }\n",
    "            ## sources: depends on source_db value\n",
    "            if row.source_db == \"MedlinePlus\":\n",
    "                document[\"primary_knowledge_source\"] = \"infores:medlineplus\"\n",
    "                document[\"aggregator_knowledge_source\"] = \"infores:diseases\"\n",
    "            elif row.source_db == \"AmyCo\":\n",
    "                 ## not in infores registry yet!\n",
    "                document[\"primary_knowledge_source\"] = \"infores:amyco\"\n",
    "                document[\"aggregator_knowledge_source\"] = \"infores:diseases\"                \n",
    "            else:\n",
    "                raise ValueError(f\"Unexpected source_db value during source mapping: {row.source_db}. Adjust parser.\")\n",
    "            ## doing so it doesn't print\n",
    "            bytes = kgx_edges_writer.write(document)\n",
    "        else:\n",
    "            ## won't write the document\n",
    "            print(f\"duplicate row encountered: {temp}\")"
   ]
  },
  {
   "cell_type": "markdown",
   "id": "1b6ee739",
   "metadata": {},
   "source": [
    "### File: KGX nodes"
   ]
  },
  {
   "cell_type": "markdown",
   "id": "d81173fd",
   "metadata": {},
   "source": [
    "Requires id and category. name and other properties (basically node attributes) are optional. "
   ]
  },
  {
   "cell_type": "code",
   "execution_count": 85,
   "id": "f282dfea",
   "metadata": {
    "ExecuteTime": {
     "end_time": "2025-05-06T06:47:54.056538Z",
     "start_time": "2025-05-06T06:47:53.820898Z"
    }
   },
   "outputs": [
    {
     "data": {
      "text/html": [
       "<div>\n",
       "<style scoped>\n",
       "    .dataframe tbody tr th:only-of-type {\n",
       "        vertical-align: middle;\n",
       "    }\n",
       "\n",
       "    .dataframe tbody tr th {\n",
       "        vertical-align: top;\n",
       "    }\n",
       "\n",
       "    .dataframe thead th {\n",
       "        text-align: right;\n",
       "    }\n",
       "</style>\n",
       "<table border=\"1\" class=\"dataframe\">\n",
       "  <thead>\n",
       "    <tr style=\"text-align: right;\">\n",
       "      <th></th>\n",
       "      <th>gene_nodenorm_id</th>\n",
       "      <th>gene_nodenorm_label</th>\n",
       "      <th>gene_nodenorm_category</th>\n",
       "    </tr>\n",
       "  </thead>\n",
       "  <tbody>\n",
       "    <tr>\n",
       "      <th>0</th>\n",
       "      <td>NCBIGene:381</td>\n",
       "      <td>ARF5</td>\n",
       "      <td>biolink:Gene</td>\n",
       "    </tr>\n",
       "    <tr>\n",
       "      <th>3</th>\n",
       "      <td>NCBIGene:4074</td>\n",
       "      <td>M6PR</td>\n",
       "      <td>biolink:Gene</td>\n",
       "    </tr>\n",
       "    <tr>\n",
       "      <th>10</th>\n",
       "      <td>NCBIGene:2288</td>\n",
       "      <td>FKBP4</td>\n",
       "      <td>biolink:Gene</td>\n",
       "    </tr>\n",
       "    <tr>\n",
       "      <th>34</th>\n",
       "      <td>UniProtKB:Q9NR63-1</td>\n",
       "      <td>cytochrome P450 26B1 isoform 1 (human)</td>\n",
       "      <td>biolink:Protein</td>\n",
       "    </tr>\n",
       "    <tr>\n",
       "      <th>50</th>\n",
       "      <td>UniProtKB:Q7L592-1</td>\n",
       "      <td>protein arginine methyltransferase NDUFAF7, mi...</td>\n",
       "      <td>biolink:Protein</td>\n",
       "    </tr>\n",
       "    <tr>\n",
       "      <th>...</th>\n",
       "      <td>...</td>\n",
       "      <td>...</td>\n",
       "      <td>...</td>\n",
       "    </tr>\n",
       "    <tr>\n",
       "      <th>265755</th>\n",
       "      <td>UniProtKB:Q149M9-3</td>\n",
       "      <td>NACHT domain- and WD repeat-containing protein...</td>\n",
       "      <td>biolink:Protein</td>\n",
       "    </tr>\n",
       "    <tr>\n",
       "      <th>265756</th>\n",
       "      <td>UniProtKB:Q86U70-1</td>\n",
       "      <td>LIM domain-binding protein 1 isoform 1 (human)</td>\n",
       "      <td>biolink:Protein</td>\n",
       "    </tr>\n",
       "    <tr>\n",
       "      <th>266215</th>\n",
       "      <td>UniProtKB:P41219-1</td>\n",
       "      <td>peripherin isoform h1 (human)</td>\n",
       "      <td>biolink:Protein</td>\n",
       "    </tr>\n",
       "    <tr>\n",
       "      <th>268558</th>\n",
       "      <td>UniProtKB:Q96JH8-4</td>\n",
       "      <td>Ras-associating and dilute domain-containing p...</td>\n",
       "      <td>biolink:Protein</td>\n",
       "    </tr>\n",
       "    <tr>\n",
       "      <th>268911</th>\n",
       "      <td>UniProtKB:Q8N187-1</td>\n",
       "      <td>calcium-responsive transcription factor isofor...</td>\n",
       "      <td>biolink:Protein</td>\n",
       "    </tr>\n",
       "  </tbody>\n",
       "</table>\n",
       "<p>16396 rows × 3 columns</p>\n",
       "</div>"
      ],
      "text/plain": [
       "          gene_nodenorm_id                                gene_nodenorm_label  \\\n",
       "0             NCBIGene:381                                               ARF5   \n",
       "3            NCBIGene:4074                                               M6PR   \n",
       "10           NCBIGene:2288                                              FKBP4   \n",
       "34      UniProtKB:Q9NR63-1             cytochrome P450 26B1 isoform 1 (human)   \n",
       "50      UniProtKB:Q7L592-1  protein arginine methyltransferase NDUFAF7, mi...   \n",
       "...                    ...                                                ...   \n",
       "265755  UniProtKB:Q149M9-3  NACHT domain- and WD repeat-containing protein...   \n",
       "265756  UniProtKB:Q86U70-1     LIM domain-binding protein 1 isoform 1 (human)   \n",
       "266215  UniProtKB:P41219-1                      peripherin isoform h1 (human)   \n",
       "268558  UniProtKB:Q96JH8-4  Ras-associating and dilute domain-containing p...   \n",
       "268911  UniProtKB:Q8N187-1  calcium-responsive transcription factor isofor...   \n",
       "\n",
       "       gene_nodenorm_category  \n",
       "0                biolink:Gene  \n",
       "3                biolink:Gene  \n",
       "10               biolink:Gene  \n",
       "34            biolink:Protein  \n",
       "50            biolink:Protein  \n",
       "...                       ...  \n",
       "265755        biolink:Protein  \n",
       "265756        biolink:Protein  \n",
       "266215        biolink:Protein  \n",
       "268558        biolink:Protein  \n",
       "268911        biolink:Protein  \n",
       "\n",
       "[16396 rows x 3 columns]"
      ]
     },
     "execution_count": 85,
     "metadata": {},
     "output_type": "execute_result"
    },
    {
     "data": {
      "text/html": [
       "<div>\n",
       "<style scoped>\n",
       "    .dataframe tbody tr th:only-of-type {\n",
       "        vertical-align: middle;\n",
       "    }\n",
       "\n",
       "    .dataframe tbody tr th {\n",
       "        vertical-align: top;\n",
       "    }\n",
       "\n",
       "    .dataframe thead th {\n",
       "        text-align: right;\n",
       "    }\n",
       "</style>\n",
       "<table border=\"1\" class=\"dataframe\">\n",
       "  <thead>\n",
       "    <tr style=\"text-align: right;\">\n",
       "      <th></th>\n",
       "      <th>disease_nodenorm_id</th>\n",
       "      <th>disease_nodenorm_label</th>\n",
       "    </tr>\n",
       "  </thead>\n",
       "  <tbody>\n",
       "    <tr>\n",
       "      <th>0</th>\n",
       "      <td>MONDO:0009271</td>\n",
       "      <td>geroderma osteodysplastica</td>\n",
       "    </tr>\n",
       "    <tr>\n",
       "      <th>1</th>\n",
       "      <td>MONDO:0004992</td>\n",
       "      <td>cancer</td>\n",
       "    </tr>\n",
       "    <tr>\n",
       "      <th>2</th>\n",
       "      <td>MONDO:0005071</td>\n",
       "      <td>nervous system disorder</td>\n",
       "    </tr>\n",
       "    <tr>\n",
       "      <th>3</th>\n",
       "      <td>MONDO:0009650</td>\n",
       "      <td>Mucolipidosis 2</td>\n",
       "    </tr>\n",
       "    <tr>\n",
       "      <th>4</th>\n",
       "      <td>MONDO:0018931</td>\n",
       "      <td>mucolipidosis type III, alpha/beta</td>\n",
       "    </tr>\n",
       "    <tr>\n",
       "      <th>...</th>\n",
       "      <td>...</td>\n",
       "      <td>...</td>\n",
       "    </tr>\n",
       "    <tr>\n",
       "      <th>269365</th>\n",
       "      <td>MONDO:0011152</td>\n",
       "      <td>PHGDH deficiency</td>\n",
       "    </tr>\n",
       "    <tr>\n",
       "      <th>269378</th>\n",
       "      <td>MONDO:0100428</td>\n",
       "      <td>progressive bulbar palsy of childhood</td>\n",
       "    </tr>\n",
       "    <tr>\n",
       "      <th>269389</th>\n",
       "      <td>MONDO:0012791</td>\n",
       "      <td>mitochondrial DNA depletion syndrome, encephal...</td>\n",
       "    </tr>\n",
       "    <tr>\n",
       "      <th>269584</th>\n",
       "      <td>MONDO:0009949</td>\n",
       "      <td>pyruvate carboxylase deficiency disease</td>\n",
       "    </tr>\n",
       "    <tr>\n",
       "      <th>269597</th>\n",
       "      <td>MONDO:0010556</td>\n",
       "      <td>X-linked chondrodysplasia punctata</td>\n",
       "    </tr>\n",
       "  </tbody>\n",
       "</table>\n",
       "<p>5556 rows × 2 columns</p>\n",
       "</div>"
      ],
      "text/plain": [
       "       disease_nodenorm_id                             disease_nodenorm_label\n",
       "0            MONDO:0009271                         geroderma osteodysplastica\n",
       "1            MONDO:0004992                                             cancer\n",
       "2            MONDO:0005071                            nervous system disorder\n",
       "3            MONDO:0009650                                    Mucolipidosis 2\n",
       "4            MONDO:0018931                 mucolipidosis type III, alpha/beta\n",
       "...                    ...                                                ...\n",
       "269365       MONDO:0011152                                   PHGDH deficiency\n",
       "269378       MONDO:0100428              progressive bulbar palsy of childhood\n",
       "269389       MONDO:0012791  mitochondrial DNA depletion syndrome, encephal...\n",
       "269584       MONDO:0009949            pyruvate carboxylase deficiency disease\n",
       "269597       MONDO:0010556                 X-linked chondrodysplasia punctata\n",
       "\n",
       "[5556 rows x 2 columns]"
      ]
     },
     "execution_count": 85,
     "metadata": {},
     "output_type": "execute_result"
    }
   ],
   "source": [
    "## get unique list of NodeNormed nodes\n",
    "\n",
    "## need category \n",
    "nodenormed_genes_final = pd.concat([df_textmining[[\"gene_nodenorm_id\", \"gene_nodenorm_label\", \"gene_nodenorm_category\"]], \n",
    "                         df_knowledge[[\"gene_nodenorm_id\", \"gene_nodenorm_label\", \"gene_nodenorm_category\"]]], \n",
    "                        ignore_index=True).drop_duplicates()\n",
    "nodenormed_diseases_final = pd.concat([df_textmining[[\"disease_nodenorm_id\", \"disease_nodenorm_label\"]], \n",
    "                            df_knowledge[[\"disease_nodenorm_id\", \"disease_nodenorm_label\"]]], \n",
    "                           ignore_index=True).drop_duplicates()\n",
    "\n",
    "nodenormed_genes_final\n",
    "## vs len mapping 16477\n",
    "nodenormed_diseases_final\n",
    "## vs len mapping 5641"
   ]
  },
  {
   "cell_type": "code",
   "execution_count": 83,
   "id": "a225b747",
   "metadata": {
    "ExecuteTime": {
     "end_time": "2025-05-06T06:46:45.388290Z",
     "start_time": "2025-05-06T06:46:45.256016Z"
    }
   },
   "outputs": [],
   "source": [
    "\n",
    "\n",
    "with jsonlines.open('DISEASES_kgx_nodes.jsonl', mode='w', compact=True) as kgx_nodes_writer:\n",
    "    \n",
    "    ## using itertuples because it's faster, preserves datatypes\n",
    "    for row in nodenormed_genes_final.itertuples(index=False):\n",
    "        ## doing so it doesn't print\n",
    "        bytes = kgx_nodes_writer.write({\n",
    "            \"id\": row.gene_nodenorm_id,\n",
    "            \"name\": row.gene_nodenorm_label,\n",
    "            \"category\": [row.gene_nodenorm_category]\n",
    "        })\n",
    "\n",
    "    ## using itertuples because it's faster, preserves datatypes\n",
    "    for row in nodenormed_diseases_final.itertuples(index=False):\n",
    "        ## doing so it doesn't print\n",
    "        bytes = kgx_nodes_writer.write({\n",
    "            \"id\": row.disease_nodenorm_id,\n",
    "            \"name\": row.disease_nodenorm_label,\n",
    "            ## hard-coded because during pre-NodeNorm process, only kept entities with this primary category\n",
    "            \"category\": [\"biolink:Disease\"]\n",
    "        })"
   ]
  },
  {
   "cell_type": "code",
   "execution_count": 86,
   "id": "4b35d368",
   "metadata": {
    "ExecuteTime": {
     "end_time": "2025-05-06T06:47:58.502980Z",
     "start_time": "2025-05-06T06:47:58.498802Z"
    }
   },
   "outputs": [
    {
     "data": {
      "text/plain": [
       "21952"
      ]
     },
     "execution_count": 86,
     "metadata": {},
     "output_type": "execute_result"
    }
   ],
   "source": [
    "nodenormed_genes_final.shape[0] + nodenormed_diseases_final.shape[0]"
   ]
  },
  {
   "cell_type": "markdown",
   "id": "c3fb5da8",
   "metadata": {},
   "source": [
    "## Notes"
   ]
  },
  {
   "cell_type": "markdown",
   "id": "8ebfd610",
   "metadata": {},
   "source": [
    "* KGX version is missing original_attribute_name, upstream_resource_ids\n",
    "* __uses infores:amyco, which isn't in infores catalog release yet__ \n",
    "* __will create edges that look like duplicates because triple is the same, but the original IDs/data is diff. Just leaving it this way for now -> but will need to consider what to do (possible to merge??).__\n",
    "* confidence_score is sometimes float (from text-mining) and sometimes int (from knowledge). Not worried about, for now. "
   ]
  },
  {
   "cell_type": "code",
   "execution_count": null,
   "id": "2d34c282",
   "metadata": {},
   "outputs": [],
   "source": []
  }
 ],
 "metadata": {
  "kernelspec": {
   "display_name": "Python 3 (ipykernel)",
   "language": "python",
   "name": "python3"
  },
  "language_info": {
   "codemirror_mode": {
    "name": "ipython",
    "version": 3
   },
   "file_extension": ".py",
   "mimetype": "text/x-python",
   "name": "python",
   "nbconvert_exporter": "python",
   "pygments_lexer": "ipython3",
   "version": "3.12.9"
  },
  "toc": {
   "base_numbering": 1,
   "nav_menu": {},
   "number_sections": false,
   "sideBar": true,
   "skip_h1_title": true,
   "title_cell": "Table of Contents",
   "title_sidebar": "Contents",
   "toc_cell": true,
   "toc_position": {
    "height": "calc(100% - 180px)",
    "left": "10px",
    "top": "150px",
    "width": "258.15px"
   },
   "toc_section_display": true,
   "toc_window_display": true
  }
 },
 "nbformat": 4,
 "nbformat_minor": 5
}
