{
 "cells": [
  {
   "cell_type": "markdown",
   "id": "65fd087a",
   "metadata": {
    "toc": true
   },
   "source": [
    "<h1>Table of Contents<span class=\"tocSkip\"></span></h1>\n",
    "<div class=\"toc\"><ul class=\"toc-item\"><li><span><a href=\"#Exploring-data\" data-toc-modified-id=\"Exploring-data-1\">Exploring data</a></span><ul class=\"toc-item\"><li><span><a href=\"#Downloading-files\" data-toc-modified-id=\"Downloading-files-1.1\">Downloading files</a></span></li><li><span><a href=\"#Check-for-duplicates\" data-toc-modified-id=\"Check-for-duplicates-1.2\">Check for duplicates</a></span></li><li><span><a href=\"#gene_id-column\" data-toc-modified-id=\"gene_id-column-1.3\">gene_id column</a></span><ul class=\"toc-item\"><li><span><a href=\"#Text-mining\" data-toc-modified-id=\"Text-mining-1.3.1\">Text-mining</a></span></li><li><span><a href=\"#Knowledge\" data-toc-modified-id=\"Knowledge-1.3.2\">Knowledge</a></span></li></ul></li><li><span><a href=\"#gene_name-column\" data-toc-modified-id=\"gene_name-column-1.4\">gene_name column</a></span></li><li><span><a href=\"#disease_id\" data-toc-modified-id=\"disease_id-1.5\">disease_id</a></span><ul class=\"toc-item\"><li><span><a href=\"#Text-mining\" data-toc-modified-id=\"Text-mining-1.5.1\">Text-mining</a></span></li><li><span><a href=\"#Knowledge\" data-toc-modified-id=\"Knowledge-1.5.2\">Knowledge</a></span></li></ul></li><li><span><a href=\"#Other-columns\" data-toc-modified-id=\"Other-columns-1.6\">Other columns</a></span><ul class=\"toc-item\"><li><span><a href=\"#Text-mining\" data-toc-modified-id=\"Text-mining-1.6.1\">Text-mining</a></span></li><li><span><a href=\"#Knowledge\" data-toc-modified-id=\"Knowledge-1.6.2\">Knowledge</a></span></li></ul></li></ul></li><li><span><a href=\"#Remove-rows\" data-toc-modified-id=\"Remove-rows-2\">Remove rows</a></span></li><li><span><a href=\"#Pre-NodeNorming\" data-toc-modified-id=\"Pre-NodeNorming-3\">Pre-NodeNorming</a></span><ul class=\"toc-item\"><li><span><a href=\"#Genes\" data-toc-modified-id=\"Genes-3.1\">Genes</a></span></li><li><span><a href=\"#Diseases\" data-toc-modified-id=\"Diseases-3.2\">Diseases</a></span></li><li><span><a href=\"#Adding-NodeNorm-data,-removing-rows\" data-toc-modified-id=\"Adding-NodeNorm-data,-removing-rows-3.3\">Adding NodeNorm data, removing rows</a></span></li><li><span><a href=\"#Exploring-&quot;duplicates&quot;-from-NodeNorming\" data-toc-modified-id=\"Exploring-&quot;duplicates&quot;-from-NodeNorming-3.4\">Exploring \"duplicates\" from NodeNorming</a></span></li></ul></li><li><span><a href=\"#Generating-documents\" data-toc-modified-id=\"Generating-documents-4\">Generating documents</a></span><ul class=\"toc-item\"><li><span><a href=\"#Rows-not-included\" data-toc-modified-id=\"Rows-not-included-4.1\">Rows not included</a></span></li><li><span><a href=\"#Columns-not-included\" data-toc-modified-id=\"Columns-not-included-4.2\">Columns not included</a></span></li><li><span><a href=\"#File:-List-of-TRAPI-edges\" data-toc-modified-id=\"File:-List-of-TRAPI-edges-4.3\">File: List of TRAPI edges</a></span></li><li><span><a href=\"#File:-KGX\" data-toc-modified-id=\"File:-KGX-4.4\">File: KGX</a></span></li></ul></li><li><span><a href=\"#Notes\" data-toc-modified-id=\"Notes-5\">Notes</a></span></li></ul></div>"
   ]
  },
  {
   "cell_type": "markdown",
   "id": "f18ee197",
   "metadata": {},
   "source": [
    "# Notebook for DISEASES parser development"
   ]
  },
  {
   "cell_type": "code",
   "execution_count": 1,
   "id": "3573099c",
   "metadata": {
    "ExecuteTime": {
     "end_time": "2025-05-02T20:24:24.035832Z",
     "start_time": "2025-05-02T20:24:23.991355Z"
    }
   },
   "outputs": [],
   "source": [
    "## not for parser. for notebook only \n",
    "\n",
    "## CX: allows multiple lines of code to print from one code block\n",
    "from IPython.core.interactiveshell import InteractiveShell\n",
    "InteractiveShell.ast_node_interactivity = \"all\""
   ]
  },
  {
   "cell_type": "markdown",
   "id": "aa862467",
   "metadata": {},
   "source": [
    "## Exploring data"
   ]
  },
  {
   "cell_type": "markdown",
   "id": "0a4ac932",
   "metadata": {},
   "source": [
    "### Downloading files"
   ]
  },
  {
   "cell_type": "markdown",
   "id": "96f2ef49",
   "metadata": {},
   "source": [
    "Going to load entire files for review. \n",
    "\n",
    "In parser, may want to do a generator approach and ingest large chunks (ex: 1000-2000 lines) at 1 time. This balances \"less memory footprint\" vs \"NodeNorming in large batches is faster\". \n",
    "\n",
    "(pandas [read_table](https://pandas.pydata.org/docs/reference/api/pandas.read_table.html) has an iterator for rows/chunks! see iterator/chunksize parameters)"
   ]
  },
  {
   "cell_type": "code",
   "execution_count": 2,
   "id": "8325a51e",
   "metadata": {
    "ExecuteTime": {
     "end_time": "2025-05-02T20:24:27.893600Z",
     "start_time": "2025-05-02T20:24:26.786625Z"
    }
   },
   "outputs": [],
   "source": [
    "## put in parser (format)\n",
    "import pathlib\n",
    "import pandas as pd\n",
    "\n",
    "## don't put in parser. Just for this notebook\n",
    "from pprint import pprint\n",
    "\n",
    "## unsure on putting into parser: more for notebook viewing/debugging...\n",
    "pd.options.display.max_columns = None"
   ]
  },
  {
   "cell_type": "code",
   "execution_count": 3,
   "id": "49ac26f3",
   "metadata": {
    "ExecuteTime": {
     "end_time": "2025-05-02T20:24:28.519035Z",
     "start_time": "2025-05-02T20:24:28.515482Z"
    }
   },
   "outputs": [],
   "source": [
    "## useful function for exploring data\n",
    "def check_if_contains(df, column_name, patterns):\n",
    "    for i in patterns:\n",
    "        temp = df[df[column_name].str.contains(pat=i, case=False)]\n",
    "        if temp.size > 0:\n",
    "            print(f'\"{i}\"')\n",
    "            print(temp.shape)"
   ]
  },
  {
   "cell_type": "markdown",
   "id": "e23c358f",
   "metadata": {},
   "source": [
    "<div class=\"alert alert-block alert-danger\">\n",
    "    \n",
    "This notebook was originally written using data files downloaded 2025-04-14 between 4:23-4:24 PM Pacific time (23:23-23:24 UTC+0) from https://diseases.jensenlab.org/Downloads. "
   ]
  },
  {
   "cell_type": "code",
   "execution_count": 4,
   "id": "63f0a6ac",
   "metadata": {
    "ExecuteTime": {
     "end_time": "2025-05-02T20:26:28.294999Z",
     "start_time": "2025-05-02T20:26:28.285904Z"
    }
   },
   "outputs": [
    {
     "data": {
      "text/plain": [
       "PosixPath('/Users/colleenxu/Desktop/DISEASES_files/2025_05_02/human_disease_textmining_filtered.tsv')"
      ]
     },
     "execution_count": 4,
     "metadata": {},
     "output_type": "execute_result"
    },
    {
     "data": {
      "text/plain": [
       "PosixPath('/Users/colleenxu/Desktop/DISEASES_files/2025_05_02/human_disease_knowledge_filtered.tsv')"
      ]
     },
     "execution_count": 4,
     "metadata": {},
     "output_type": "execute_result"
    }
   ],
   "source": [
    "## put in parser (format)\n",
    "\n",
    "## paths to raw data files\n",
    "\n",
    "base_file_path = pathlib.Path.home().joinpath(\"Desktop\", \"DISEASES_files\", \"2025_05_02\")\n",
    "\n",
    "textmining_path = base_file_path.joinpath(\"human_disease_textmining_filtered.tsv\")\n",
    "knowledge_path = base_file_path.joinpath(\"human_disease_knowledge_filtered.tsv\")\n",
    "\n",
    "textmining_path\n",
    "knowledge_path"
   ]
  },
  {
   "cell_type": "code",
   "execution_count": 5,
   "id": "dd0fc904",
   "metadata": {
    "ExecuteTime": {
     "end_time": "2025-05-02T20:26:31.673400Z",
     "start_time": "2025-05-02T20:26:30.732446Z"
    },
    "scrolled": true
   },
   "outputs": [],
   "source": [
    "## put in parser (format)\n",
    "\n",
    "## download files\n",
    "\n",
    "## files have no headers: adding based on https://diseases.jensenlab.org/Downloads\n",
    "textmining_header = [\"gene_id\", \"gene_name\", \"disease_id\", \"disease_name\", \n",
    "                     \"z_score\", \"confidence_score\", \"url\"]\n",
    "knowledge_header = [\"gene_id\", \"gene_name\", \"disease_id\", \"disease_name\", \n",
    "                    \"source_db\", \"evidence_type\", \"confidence_score\"]\n",
    "\n",
    "\n",
    "df_textmining = pd.read_table(textmining_path, sep=\"\\t\", names=textmining_header)\n",
    "df_knowledge = pd.read_table(knowledge_path, sep=\"\\t\", names=knowledge_header)"
   ]
  },
  {
   "cell_type": "markdown",
   "id": "feb424a4",
   "metadata": {},
   "source": [
    "<div class=\"alert alert-block alert-info\">\n",
    "\n",
    "No missing values"
   ]
  },
  {
   "cell_type": "code",
   "execution_count": 6,
   "id": "141a10e4",
   "metadata": {
    "ExecuteTime": {
     "end_time": "2025-05-02T20:26:39.202170Z",
     "start_time": "2025-05-02T20:26:38.769241Z"
    }
   },
   "outputs": [
    {
     "name": "stdout",
     "output_type": "stream",
     "text": [
      "<class 'pandas.core.frame.DataFrame'>\n",
      "RangeIndex: 288571 entries, 0 to 288570\n",
      "Data columns (total 7 columns):\n",
      " #   Column            Non-Null Count   Dtype  \n",
      "---  ------            --------------   -----  \n",
      " 0   gene_id           288571 non-null  object \n",
      " 1   gene_name         288571 non-null  object \n",
      " 2   disease_id        288571 non-null  object \n",
      " 3   disease_name      288571 non-null  object \n",
      " 4   z_score           288571 non-null  float64\n",
      " 5   confidence_score  288571 non-null  float64\n",
      " 6   url               288571 non-null  object \n",
      "dtypes: float64(2), object(5)\n",
      "memory usage: 113.7 MB\n"
     ]
    }
   ],
   "source": [
    "df_textmining.info(memory_usage=\"deep\")"
   ]
  },
  {
   "cell_type": "code",
   "execution_count": 7,
   "id": "cd37fa22",
   "metadata": {
    "ExecuteTime": {
     "end_time": "2025-05-02T20:26:46.588121Z",
     "start_time": "2025-05-02T20:26:46.572750Z"
    }
   },
   "outputs": [
    {
     "data": {
      "text/html": [
       "<div>\n",
       "<style scoped>\n",
       "    .dataframe tbody tr th:only-of-type {\n",
       "        vertical-align: middle;\n",
       "    }\n",
       "\n",
       "    .dataframe tbody tr th {\n",
       "        vertical-align: top;\n",
       "    }\n",
       "\n",
       "    .dataframe thead th {\n",
       "        text-align: right;\n",
       "    }\n",
       "</style>\n",
       "<table border=\"1\" class=\"dataframe\">\n",
       "  <thead>\n",
       "    <tr style=\"text-align: right;\">\n",
       "      <th></th>\n",
       "      <th>gene_id</th>\n",
       "      <th>gene_name</th>\n",
       "      <th>disease_id</th>\n",
       "      <th>disease_name</th>\n",
       "      <th>z_score</th>\n",
       "      <th>confidence_score</th>\n",
       "      <th>url</th>\n",
       "    </tr>\n",
       "  </thead>\n",
       "  <tbody>\n",
       "    <tr>\n",
       "      <th>0</th>\n",
       "      <td>18S_rRNA</td>\n",
       "      <td>18S_rRNA</td>\n",
       "      <td>DOID:9643</td>\n",
       "      <td>Babesiosis</td>\n",
       "      <td>7.230</td>\n",
       "      <td>3.615</td>\n",
       "      <td>https://diseases.jensenlab.org/Entity?document...</td>\n",
       "    </tr>\n",
       "    <tr>\n",
       "      <th>1</th>\n",
       "      <td>18S_rRNA</td>\n",
       "      <td>18S_rRNA</td>\n",
       "      <td>DOID:3733</td>\n",
       "      <td>Theileriasis</td>\n",
       "      <td>6.363</td>\n",
       "      <td>3.181</td>\n",
       "      <td>https://diseases.jensenlab.org/Entity?document...</td>\n",
       "    </tr>\n",
       "    <tr>\n",
       "      <th>2</th>\n",
       "      <td>18S_rRNA</td>\n",
       "      <td>18S_rRNA</td>\n",
       "      <td>DOID:12365</td>\n",
       "      <td>Malaria</td>\n",
       "      <td>6.293</td>\n",
       "      <td>3.146</td>\n",
       "      <td>https://diseases.jensenlab.org/Entity?document...</td>\n",
       "    </tr>\n",
       "    <tr>\n",
       "      <th>3</th>\n",
       "      <td>18S_rRNA</td>\n",
       "      <td>18S_rRNA</td>\n",
       "      <td>DOID:9640</td>\n",
       "      <td>Sarcocystosis</td>\n",
       "      <td>6.142</td>\n",
       "      <td>3.071</td>\n",
       "      <td>https://diseases.jensenlab.org/Entity?document...</td>\n",
       "    </tr>\n",
       "    <tr>\n",
       "      <th>4</th>\n",
       "      <td>18S_rRNA</td>\n",
       "      <td>18S_rRNA</td>\n",
       "      <td>DOID:1733</td>\n",
       "      <td>Cryptosporidiosis</td>\n",
       "      <td>6.108</td>\n",
       "      <td>3.054</td>\n",
       "      <td>https://diseases.jensenlab.org/Entity?document...</td>\n",
       "    </tr>\n",
       "    <tr>\n",
       "      <th>...</th>\n",
       "      <td>...</td>\n",
       "      <td>...</td>\n",
       "      <td>...</td>\n",
       "      <td>...</td>\n",
       "      <td>...</td>\n",
       "      <td>...</td>\n",
       "      <td>...</td>\n",
       "    </tr>\n",
       "    <tr>\n",
       "      <th>288566</th>\n",
       "      <td>snoU13</td>\n",
       "      <td>snoU13</td>\n",
       "      <td>DOID:0110084</td>\n",
       "      <td>Arrhythmogenic right ventricular dysplasia 13</td>\n",
       "      <td>3.774</td>\n",
       "      <td>1.887</td>\n",
       "      <td>https://diseases.jensenlab.org/Entity?document...</td>\n",
       "    </tr>\n",
       "    <tr>\n",
       "      <th>288567</th>\n",
       "      <td>snoU13</td>\n",
       "      <td>snoU13</td>\n",
       "      <td>DOID:0110408</td>\n",
       "      <td>Retinitis pigmentosa 11</td>\n",
       "      <td>3.386</td>\n",
       "      <td>1.693</td>\n",
       "      <td>https://diseases.jensenlab.org/Entity?document...</td>\n",
       "    </tr>\n",
       "    <tr>\n",
       "      <th>288568</th>\n",
       "      <td>snoU13</td>\n",
       "      <td>snoU13</td>\n",
       "      <td>DOID:1849</td>\n",
       "      <td>Cannabis dependence</td>\n",
       "      <td>3.227</td>\n",
       "      <td>1.613</td>\n",
       "      <td>https://diseases.jensenlab.org/Entity?document...</td>\n",
       "    </tr>\n",
       "    <tr>\n",
       "      <th>288569</th>\n",
       "      <td>snoU13</td>\n",
       "      <td>snoU13</td>\n",
       "      <td>DOID:0060775</td>\n",
       "      <td>Microvillus inclusion disease</td>\n",
       "      <td>3.146</td>\n",
       "      <td>1.573</td>\n",
       "      <td>https://diseases.jensenlab.org/Entity?document...</td>\n",
       "    </tr>\n",
       "    <tr>\n",
       "      <th>288570</th>\n",
       "      <td>snoU18</td>\n",
       "      <td>snoU18</td>\n",
       "      <td>DOID:12211</td>\n",
       "      <td>Filarial elephantiasis</td>\n",
       "      <td>3.456</td>\n",
       "      <td>1.728</td>\n",
       "      <td>https://diseases.jensenlab.org/Entity?document...</td>\n",
       "    </tr>\n",
       "  </tbody>\n",
       "</table>\n",
       "<p>288571 rows × 7 columns</p>\n",
       "</div>"
      ],
      "text/plain": [
       "         gene_id gene_name    disease_id  \\\n",
       "0       18S_rRNA  18S_rRNA     DOID:9643   \n",
       "1       18S_rRNA  18S_rRNA     DOID:3733   \n",
       "2       18S_rRNA  18S_rRNA    DOID:12365   \n",
       "3       18S_rRNA  18S_rRNA     DOID:9640   \n",
       "4       18S_rRNA  18S_rRNA     DOID:1733   \n",
       "...          ...       ...           ...   \n",
       "288566    snoU13    snoU13  DOID:0110084   \n",
       "288567    snoU13    snoU13  DOID:0110408   \n",
       "288568    snoU13    snoU13     DOID:1849   \n",
       "288569    snoU13    snoU13  DOID:0060775   \n",
       "288570    snoU18    snoU18    DOID:12211   \n",
       "\n",
       "                                         disease_name  z_score  \\\n",
       "0                                          Babesiosis    7.230   \n",
       "1                                        Theileriasis    6.363   \n",
       "2                                             Malaria    6.293   \n",
       "3                                       Sarcocystosis    6.142   \n",
       "4                                   Cryptosporidiosis    6.108   \n",
       "...                                               ...      ...   \n",
       "288566  Arrhythmogenic right ventricular dysplasia 13    3.774   \n",
       "288567                        Retinitis pigmentosa 11    3.386   \n",
       "288568                            Cannabis dependence    3.227   \n",
       "288569                  Microvillus inclusion disease    3.146   \n",
       "288570                         Filarial elephantiasis    3.456   \n",
       "\n",
       "        confidence_score                                                url  \n",
       "0                  3.615  https://diseases.jensenlab.org/Entity?document...  \n",
       "1                  3.181  https://diseases.jensenlab.org/Entity?document...  \n",
       "2                  3.146  https://diseases.jensenlab.org/Entity?document...  \n",
       "3                  3.071  https://diseases.jensenlab.org/Entity?document...  \n",
       "4                  3.054  https://diseases.jensenlab.org/Entity?document...  \n",
       "...                  ...                                                ...  \n",
       "288566             1.887  https://diseases.jensenlab.org/Entity?document...  \n",
       "288567             1.693  https://diseases.jensenlab.org/Entity?document...  \n",
       "288568             1.613  https://diseases.jensenlab.org/Entity?document...  \n",
       "288569             1.573  https://diseases.jensenlab.org/Entity?document...  \n",
       "288570             1.728  https://diseases.jensenlab.org/Entity?document...  \n",
       "\n",
       "[288571 rows x 7 columns]"
      ]
     },
     "execution_count": 7,
     "metadata": {},
     "output_type": "execute_result"
    }
   ],
   "source": [
    "df_textmining"
   ]
  },
  {
   "cell_type": "code",
   "execution_count": 8,
   "id": "6342b113",
   "metadata": {
    "ExecuteTime": {
     "end_time": "2025-05-02T20:26:51.895327Z",
     "start_time": "2025-05-02T20:26:51.873742Z"
    }
   },
   "outputs": [
    {
     "name": "stdout",
     "output_type": "stream",
     "text": [
      "<class 'pandas.core.frame.DataFrame'>\n",
      "RangeIndex: 7638 entries, 0 to 7637\n",
      "Data columns (total 7 columns):\n",
      " #   Column            Non-Null Count  Dtype \n",
      "---  ------            --------------  ----- \n",
      " 0   gene_id           7638 non-null   object\n",
      " 1   gene_name         7638 non-null   object\n",
      " 2   disease_id        7638 non-null   object\n",
      " 3   disease_name      7638 non-null   object\n",
      " 4   source_db         7638 non-null   object\n",
      " 5   evidence_type     7638 non-null   object\n",
      " 6   confidence_score  7638 non-null   int64 \n",
      "dtypes: int64(1), object(6)\n",
      "memory usage: 2.7 MB\n"
     ]
    }
   ],
   "source": [
    "df_knowledge.info(memory_usage=\"deep\")"
   ]
  },
  {
   "cell_type": "code",
   "execution_count": 9,
   "id": "316d7e3d",
   "metadata": {
    "ExecuteTime": {
     "end_time": "2025-05-02T20:26:54.179241Z",
     "start_time": "2025-05-02T20:26:54.166775Z"
    }
   },
   "outputs": [
    {
     "data": {
      "text/html": [
       "<div>\n",
       "<style scoped>\n",
       "    .dataframe tbody tr th:only-of-type {\n",
       "        vertical-align: middle;\n",
       "    }\n",
       "\n",
       "    .dataframe tbody tr th {\n",
       "        vertical-align: top;\n",
       "    }\n",
       "\n",
       "    .dataframe thead th {\n",
       "        text-align: right;\n",
       "    }\n",
       "</style>\n",
       "<table border=\"1\" class=\"dataframe\">\n",
       "  <thead>\n",
       "    <tr style=\"text-align: right;\">\n",
       "      <th></th>\n",
       "      <th>gene_id</th>\n",
       "      <th>gene_name</th>\n",
       "      <th>disease_id</th>\n",
       "      <th>disease_name</th>\n",
       "      <th>source_db</th>\n",
       "      <th>evidence_type</th>\n",
       "      <th>confidence_score</th>\n",
       "    </tr>\n",
       "  </thead>\n",
       "  <tbody>\n",
       "    <tr>\n",
       "      <th>0</th>\n",
       "      <td>ABHD11-AS1</td>\n",
       "      <td>ABHD11-AS1</td>\n",
       "      <td>DOID:1928</td>\n",
       "      <td>Williams-Beuren syndrome</td>\n",
       "      <td>MedlinePlus</td>\n",
       "      <td>CURATED</td>\n",
       "      <td>5</td>\n",
       "    </tr>\n",
       "    <tr>\n",
       "      <th>1</th>\n",
       "      <td>ENSP00000001146</td>\n",
       "      <td>CYP26B1</td>\n",
       "      <td>DOID:2340</td>\n",
       "      <td>Craniosynostosis</td>\n",
       "      <td>UniProtKB-KW</td>\n",
       "      <td>CURATED</td>\n",
       "      <td>4</td>\n",
       "    </tr>\n",
       "    <tr>\n",
       "      <th>2</th>\n",
       "      <td>ENSP00000003084</td>\n",
       "      <td>CFTR</td>\n",
       "      <td>DOID:0111862</td>\n",
       "      <td>Congenital bilateral absence of vas deferens</td>\n",
       "      <td>MedlinePlus</td>\n",
       "      <td>CURATED</td>\n",
       "      <td>5</td>\n",
       "    </tr>\n",
       "    <tr>\n",
       "      <th>3</th>\n",
       "      <td>ENSP00000003084</td>\n",
       "      <td>CFTR</td>\n",
       "      <td>DOID:1485</td>\n",
       "      <td>Cystic fibrosis</td>\n",
       "      <td>MedlinePlus</td>\n",
       "      <td>CURATED</td>\n",
       "      <td>5</td>\n",
       "    </tr>\n",
       "    <tr>\n",
       "      <th>4</th>\n",
       "      <td>ENSP00000005226</td>\n",
       "      <td>USH1C</td>\n",
       "      <td>DOID:0050439</td>\n",
       "      <td>Usher syndrome</td>\n",
       "      <td>MedlinePlus</td>\n",
       "      <td>CURATED</td>\n",
       "      <td>5</td>\n",
       "    </tr>\n",
       "    <tr>\n",
       "      <th>...</th>\n",
       "      <td>...</td>\n",
       "      <td>...</td>\n",
       "      <td>...</td>\n",
       "      <td>...</td>\n",
       "      <td>...</td>\n",
       "      <td>...</td>\n",
       "      <td>...</td>\n",
       "    </tr>\n",
       "    <tr>\n",
       "      <th>7633</th>\n",
       "      <td>hsa-miR-145-5p</td>\n",
       "      <td>hsa-miR-145-5p</td>\n",
       "      <td>DOID:0090016</td>\n",
       "      <td>Chromosome 5q deletion syndrome</td>\n",
       "      <td>MedlinePlus</td>\n",
       "      <td>CURATED</td>\n",
       "      <td>5</td>\n",
       "    </tr>\n",
       "    <tr>\n",
       "      <th>7634</th>\n",
       "      <td>hsa-miR-146a-5p</td>\n",
       "      <td>hsa-miR-146a-5p</td>\n",
       "      <td>DOID:0090016</td>\n",
       "      <td>Chromosome 5q deletion syndrome</td>\n",
       "      <td>MedlinePlus</td>\n",
       "      <td>CURATED</td>\n",
       "      <td>5</td>\n",
       "    </tr>\n",
       "    <tr>\n",
       "      <th>7635</th>\n",
       "      <td>hsa-miR-184</td>\n",
       "      <td>hsa-miR-184</td>\n",
       "      <td>DOID:10126</td>\n",
       "      <td>Keratoconus</td>\n",
       "      <td>MedlinePlus</td>\n",
       "      <td>CURATED</td>\n",
       "      <td>5</td>\n",
       "    </tr>\n",
       "    <tr>\n",
       "      <th>7636</th>\n",
       "      <td>hsa-miR-590-5p</td>\n",
       "      <td>hsa-miR-590-5p</td>\n",
       "      <td>DOID:1928</td>\n",
       "      <td>Williams-Beuren syndrome</td>\n",
       "      <td>MedlinePlus</td>\n",
       "      <td>CURATED</td>\n",
       "      <td>5</td>\n",
       "    </tr>\n",
       "    <tr>\n",
       "      <th>7637</th>\n",
       "      <td>hsa-miR-96-5p</td>\n",
       "      <td>hsa-miR-96-5p</td>\n",
       "      <td>DOID:0050563</td>\n",
       "      <td>Nonsyndromic deafness</td>\n",
       "      <td>MedlinePlus</td>\n",
       "      <td>CURATED</td>\n",
       "      <td>5</td>\n",
       "    </tr>\n",
       "  </tbody>\n",
       "</table>\n",
       "<p>7638 rows × 7 columns</p>\n",
       "</div>"
      ],
      "text/plain": [
       "              gene_id        gene_name    disease_id  \\\n",
       "0          ABHD11-AS1       ABHD11-AS1     DOID:1928   \n",
       "1     ENSP00000001146          CYP26B1     DOID:2340   \n",
       "2     ENSP00000003084             CFTR  DOID:0111862   \n",
       "3     ENSP00000003084             CFTR     DOID:1485   \n",
       "4     ENSP00000005226            USH1C  DOID:0050439   \n",
       "...               ...              ...           ...   \n",
       "7633   hsa-miR-145-5p   hsa-miR-145-5p  DOID:0090016   \n",
       "7634  hsa-miR-146a-5p  hsa-miR-146a-5p  DOID:0090016   \n",
       "7635      hsa-miR-184      hsa-miR-184    DOID:10126   \n",
       "7636   hsa-miR-590-5p   hsa-miR-590-5p     DOID:1928   \n",
       "7637    hsa-miR-96-5p    hsa-miR-96-5p  DOID:0050563   \n",
       "\n",
       "                                      disease_name     source_db  \\\n",
       "0                         Williams-Beuren syndrome   MedlinePlus   \n",
       "1                                 Craniosynostosis  UniProtKB-KW   \n",
       "2     Congenital bilateral absence of vas deferens   MedlinePlus   \n",
       "3                                  Cystic fibrosis   MedlinePlus   \n",
       "4                                   Usher syndrome   MedlinePlus   \n",
       "...                                            ...           ...   \n",
       "7633               Chromosome 5q deletion syndrome   MedlinePlus   \n",
       "7634               Chromosome 5q deletion syndrome   MedlinePlus   \n",
       "7635                                   Keratoconus   MedlinePlus   \n",
       "7636                      Williams-Beuren syndrome   MedlinePlus   \n",
       "7637                         Nonsyndromic deafness   MedlinePlus   \n",
       "\n",
       "     evidence_type  confidence_score  \n",
       "0          CURATED                 5  \n",
       "1          CURATED                 4  \n",
       "2          CURATED                 5  \n",
       "3          CURATED                 5  \n",
       "4          CURATED                 5  \n",
       "...            ...               ...  \n",
       "7633       CURATED                 5  \n",
       "7634       CURATED                 5  \n",
       "7635       CURATED                 5  \n",
       "7636       CURATED                 5  \n",
       "7637       CURATED                 5  \n",
       "\n",
       "[7638 rows x 7 columns]"
      ]
     },
     "execution_count": 9,
     "metadata": {},
     "output_type": "execute_result"
    }
   ],
   "source": [
    "df_knowledge"
   ]
  },
  {
   "cell_type": "markdown",
   "id": "b86c4bde",
   "metadata": {},
   "source": [
    "### Check for duplicates"
   ]
  },
  {
   "cell_type": "markdown",
   "id": "792b3c9d",
   "metadata": {},
   "source": [
    "<div class=\"alert alert-block alert-info\">\n",
    "\n",
    "Duplicates found in knowledge file. This is a DISEASES-side problem.\n",
    "    \n",
    "Ideas for how to handle duplicates (including if they show up in text-mining file later): \n",
    "* ingest entire file and remove duplicates\n",
    "* **doing this right now**: check a set of \"already-done\" edges (gene_id, disease_id, source_db for knowledge) right before creating document (earlier steps will cut down number of rows to create documents with). "
   ]
  },
  {
   "cell_type": "code",
   "execution_count": 10,
   "id": "27447a61",
   "metadata": {
    "ExecuteTime": {
     "end_time": "2025-05-02T20:26:57.942627Z",
     "start_time": "2025-05-02T20:26:57.869131Z"
    }
   },
   "outputs": [
    {
     "data": {
      "text/plain": [
       "(0, 7)"
      ]
     },
     "execution_count": 10,
     "metadata": {},
     "output_type": "execute_result"
    }
   ],
   "source": [
    "df_textmining[df_textmining.duplicated(subset=[\"gene_id\", \"disease_id\"], keep=False)].shape"
   ]
  },
  {
   "cell_type": "code",
   "execution_count": 11,
   "id": "09d9f86c",
   "metadata": {
    "ExecuteTime": {
     "end_time": "2025-05-02T20:26:58.641536Z",
     "start_time": "2025-05-02T20:26:58.629095Z"
    }
   },
   "outputs": [
    {
     "data": {
      "text/plain": [
       "(16, 7)"
      ]
     },
     "execution_count": 11,
     "metadata": {},
     "output_type": "execute_result"
    }
   ],
   "source": [
    "df_knowledge[df_knowledge.duplicated(keep=False)].shape"
   ]
  },
  {
   "cell_type": "code",
   "execution_count": 12,
   "id": "e32743e5",
   "metadata": {
    "ExecuteTime": {
     "end_time": "2025-05-02T20:26:59.692085Z",
     "start_time": "2025-05-02T20:26:59.669190Z"
    }
   },
   "outputs": [
    {
     "data": {
      "text/plain": [
       "(16, 7)"
      ]
     },
     "execution_count": 12,
     "metadata": {},
     "output_type": "execute_result"
    },
    {
     "data": {
      "text/html": [
       "<div>\n",
       "<style scoped>\n",
       "    .dataframe tbody tr th:only-of-type {\n",
       "        vertical-align: middle;\n",
       "    }\n",
       "\n",
       "    .dataframe tbody tr th {\n",
       "        vertical-align: top;\n",
       "    }\n",
       "\n",
       "    .dataframe thead th {\n",
       "        text-align: right;\n",
       "    }\n",
       "</style>\n",
       "<table border=\"1\" class=\"dataframe\">\n",
       "  <thead>\n",
       "    <tr style=\"text-align: right;\">\n",
       "      <th></th>\n",
       "      <th>gene_id</th>\n",
       "      <th>gene_name</th>\n",
       "      <th>disease_id</th>\n",
       "      <th>disease_name</th>\n",
       "      <th>source_db</th>\n",
       "      <th>evidence_type</th>\n",
       "      <th>confidence_score</th>\n",
       "    </tr>\n",
       "  </thead>\n",
       "  <tbody>\n",
       "    <tr>\n",
       "      <th>1600</th>\n",
       "      <td>ENSP00000269703</td>\n",
       "      <td>CYP4F22</td>\n",
       "      <td>DOID:0060655</td>\n",
       "      <td>Autosomal recessive congenital ichthyosis</td>\n",
       "      <td>MedlinePlus</td>\n",
       "      <td>CURATED</td>\n",
       "      <td>5</td>\n",
       "    </tr>\n",
       "    <tr>\n",
       "      <th>1601</th>\n",
       "      <td>ENSP00000269703</td>\n",
       "      <td>CYP4F22</td>\n",
       "      <td>DOID:0060655</td>\n",
       "      <td>Autosomal recessive congenital ichthyosis</td>\n",
       "      <td>MedlinePlus</td>\n",
       "      <td>CURATED</td>\n",
       "      <td>5</td>\n",
       "    </tr>\n",
       "    <tr>\n",
       "      <th>1649</th>\n",
       "      <td>ENSP00000272895</td>\n",
       "      <td>ABCA12</td>\n",
       "      <td>DOID:0060655</td>\n",
       "      <td>Autosomal recessive congenital ichthyosis</td>\n",
       "      <td>MedlinePlus</td>\n",
       "      <td>CURATED</td>\n",
       "      <td>5</td>\n",
       "    </tr>\n",
       "    <tr>\n",
       "      <th>1650</th>\n",
       "      <td>ENSP00000272895</td>\n",
       "      <td>ABCA12</td>\n",
       "      <td>DOID:0060655</td>\n",
       "      <td>Autosomal recessive congenital ichthyosis</td>\n",
       "      <td>MedlinePlus</td>\n",
       "      <td>CURATED</td>\n",
       "      <td>5</td>\n",
       "    </tr>\n",
       "    <tr>\n",
       "      <th>1970</th>\n",
       "      <td>ENSP00000291295</td>\n",
       "      <td>CALM3</td>\n",
       "      <td>DOID:2843</td>\n",
       "      <td>Long QT syndrome</td>\n",
       "      <td>UniProtKB-KW</td>\n",
       "      <td>CURATED</td>\n",
       "      <td>4</td>\n",
       "    </tr>\n",
       "    <tr>\n",
       "      <th>1971</th>\n",
       "      <td>ENSP00000291295</td>\n",
       "      <td>CALM3</td>\n",
       "      <td>DOID:2843</td>\n",
       "      <td>Long QT syndrome</td>\n",
       "      <td>UniProtKB-KW</td>\n",
       "      <td>CURATED</td>\n",
       "      <td>4</td>\n",
       "    </tr>\n",
       "    <tr>\n",
       "      <th>2542</th>\n",
       "      <td>ENSP00000311687</td>\n",
       "      <td>NIPAL4</td>\n",
       "      <td>DOID:0060655</td>\n",
       "      <td>Autosomal recessive congenital ichthyosis</td>\n",
       "      <td>MedlinePlus</td>\n",
       "      <td>CURATED</td>\n",
       "      <td>5</td>\n",
       "    </tr>\n",
       "    <tr>\n",
       "      <th>2543</th>\n",
       "      <td>ENSP00000311687</td>\n",
       "      <td>NIPAL4</td>\n",
       "      <td>DOID:0060655</td>\n",
       "      <td>Autosomal recessive congenital ichthyosis</td>\n",
       "      <td>MedlinePlus</td>\n",
       "      <td>CURATED</td>\n",
       "      <td>5</td>\n",
       "    </tr>\n",
       "    <tr>\n",
       "      <th>3374</th>\n",
       "      <td>ENSP00000342392</td>\n",
       "      <td>MESP2</td>\n",
       "      <td>DOID:0050568</td>\n",
       "      <td>Spondylocostal dysostosis</td>\n",
       "      <td>MedlinePlus</td>\n",
       "      <td>CURATED</td>\n",
       "      <td>5</td>\n",
       "    </tr>\n",
       "    <tr>\n",
       "      <th>3375</th>\n",
       "      <td>ENSP00000342392</td>\n",
       "      <td>MESP2</td>\n",
       "      <td>DOID:0050568</td>\n",
       "      <td>Spondylocostal dysostosis</td>\n",
       "      <td>MedlinePlus</td>\n",
       "      <td>CURATED</td>\n",
       "      <td>5</td>\n",
       "    </tr>\n",
       "    <tr>\n",
       "      <th>4396</th>\n",
       "      <td>ENSP00000360141</td>\n",
       "      <td>GNAS</td>\n",
       "      <td>DOID:12252</td>\n",
       "      <td>DOID:12252</td>\n",
       "      <td>UniProtKB-KW</td>\n",
       "      <td>CURATED</td>\n",
       "      <td>4</td>\n",
       "    </tr>\n",
       "    <tr>\n",
       "      <th>4397</th>\n",
       "      <td>ENSP00000360141</td>\n",
       "      <td>GNAS</td>\n",
       "      <td>DOID:12252</td>\n",
       "      <td>DOID:12252</td>\n",
       "      <td>UniProtKB-KW</td>\n",
       "      <td>CURATED</td>\n",
       "      <td>4</td>\n",
       "    </tr>\n",
       "    <tr>\n",
       "      <th>4398</th>\n",
       "      <td>ENSP00000360141</td>\n",
       "      <td>GNAS</td>\n",
       "      <td>DOID:12252</td>\n",
       "      <td>DOID:12252</td>\n",
       "      <td>UniProtKB-KW</td>\n",
       "      <td>CURATED</td>\n",
       "      <td>4</td>\n",
       "    </tr>\n",
       "    <tr>\n",
       "      <th>4399</th>\n",
       "      <td>ENSP00000360141</td>\n",
       "      <td>GNAS</td>\n",
       "      <td>DOID:12252</td>\n",
       "      <td>DOID:12252</td>\n",
       "      <td>UniProtKB-KW</td>\n",
       "      <td>CURATED</td>\n",
       "      <td>4</td>\n",
       "    </tr>\n",
       "    <tr>\n",
       "      <th>5451</th>\n",
       "      <td>ENSP00000379845</td>\n",
       "      <td>ABAT</td>\n",
       "      <td>DOID:0060407</td>\n",
       "      <td>Chromosome 18q deletion syndrome</td>\n",
       "      <td>MedlinePlus</td>\n",
       "      <td>CURATED</td>\n",
       "      <td>5</td>\n",
       "    </tr>\n",
       "    <tr>\n",
       "      <th>5452</th>\n",
       "      <td>ENSP00000379845</td>\n",
       "      <td>ABAT</td>\n",
       "      <td>DOID:0060407</td>\n",
       "      <td>Chromosome 18q deletion syndrome</td>\n",
       "      <td>MedlinePlus</td>\n",
       "      <td>CURATED</td>\n",
       "      <td>5</td>\n",
       "    </tr>\n",
       "  </tbody>\n",
       "</table>\n",
       "</div>"
      ],
      "text/plain": [
       "              gene_id gene_name    disease_id  \\\n",
       "1600  ENSP00000269703   CYP4F22  DOID:0060655   \n",
       "1601  ENSP00000269703   CYP4F22  DOID:0060655   \n",
       "1649  ENSP00000272895    ABCA12  DOID:0060655   \n",
       "1650  ENSP00000272895    ABCA12  DOID:0060655   \n",
       "1970  ENSP00000291295     CALM3     DOID:2843   \n",
       "1971  ENSP00000291295     CALM3     DOID:2843   \n",
       "2542  ENSP00000311687    NIPAL4  DOID:0060655   \n",
       "2543  ENSP00000311687    NIPAL4  DOID:0060655   \n",
       "3374  ENSP00000342392     MESP2  DOID:0050568   \n",
       "3375  ENSP00000342392     MESP2  DOID:0050568   \n",
       "4396  ENSP00000360141      GNAS    DOID:12252   \n",
       "4397  ENSP00000360141      GNAS    DOID:12252   \n",
       "4398  ENSP00000360141      GNAS    DOID:12252   \n",
       "4399  ENSP00000360141      GNAS    DOID:12252   \n",
       "5451  ENSP00000379845      ABAT  DOID:0060407   \n",
       "5452  ENSP00000379845      ABAT  DOID:0060407   \n",
       "\n",
       "                                   disease_name     source_db evidence_type  \\\n",
       "1600  Autosomal recessive congenital ichthyosis   MedlinePlus       CURATED   \n",
       "1601  Autosomal recessive congenital ichthyosis   MedlinePlus       CURATED   \n",
       "1649  Autosomal recessive congenital ichthyosis   MedlinePlus       CURATED   \n",
       "1650  Autosomal recessive congenital ichthyosis   MedlinePlus       CURATED   \n",
       "1970                           Long QT syndrome  UniProtKB-KW       CURATED   \n",
       "1971                           Long QT syndrome  UniProtKB-KW       CURATED   \n",
       "2542  Autosomal recessive congenital ichthyosis   MedlinePlus       CURATED   \n",
       "2543  Autosomal recessive congenital ichthyosis   MedlinePlus       CURATED   \n",
       "3374                  Spondylocostal dysostosis   MedlinePlus       CURATED   \n",
       "3375                  Spondylocostal dysostosis   MedlinePlus       CURATED   \n",
       "4396                                 DOID:12252  UniProtKB-KW       CURATED   \n",
       "4397                                 DOID:12252  UniProtKB-KW       CURATED   \n",
       "4398                                 DOID:12252  UniProtKB-KW       CURATED   \n",
       "4399                                 DOID:12252  UniProtKB-KW       CURATED   \n",
       "5451           Chromosome 18q deletion syndrome   MedlinePlus       CURATED   \n",
       "5452           Chromosome 18q deletion syndrome   MedlinePlus       CURATED   \n",
       "\n",
       "      confidence_score  \n",
       "1600                 5  \n",
       "1601                 5  \n",
       "1649                 5  \n",
       "1650                 5  \n",
       "1970                 4  \n",
       "1971                 4  \n",
       "2542                 5  \n",
       "2543                 5  \n",
       "3374                 5  \n",
       "3375                 5  \n",
       "4396                 4  \n",
       "4397                 4  \n",
       "4398                 4  \n",
       "4399                 4  \n",
       "5451                 5  \n",
       "5452                 5  "
      ]
     },
     "execution_count": 12,
     "metadata": {},
     "output_type": "execute_result"
    }
   ],
   "source": [
    "## double-checking if specific column subset can work to check for duplicates\n",
    "df_knowledge[df_knowledge.duplicated(subset=[\"gene_id\", \"disease_id\", \"source_db\"], keep=False)].shape\n",
    "## same count so it can\n",
    "\n",
    "## print for manual review\n",
    "df_knowledge[df_knowledge.duplicated(keep=False)]"
   ]
  },
  {
   "cell_type": "markdown",
   "id": "f7e56475",
   "metadata": {},
   "source": [
    "### gene_id column"
   ]
  },
  {
   "cell_type": "markdown",
   "id": "dae5449b",
   "metadata": {},
   "source": [
    "<div class=\"alert alert-block alert-info\">\n",
    "\n",
    "**A small portion of the data doesn't have ENSP IDs (text-mining and knowledge)!** Instead, the values are names (same as gene_name). **Drop these rows from further parsing (can't NodeNorm)** \n",
    "    \n",
    "I checked this \"no ENSP\" data for other ID namespaces mentioned in the paper, but couldn't find any matches. Other ID namespaces mentioned in [paper's Materials and methods](https://academic.oup.com/database/article/doi/10.1093/database/baac019/6554833?login=false#344427091) -> Dictionaries section:\n",
    "\n",
    "> The human gene dictionary was obtained from STRING v11.0 (27) and is based on information from **Ensembl (34), UniProtKB (12) and HGNC (35)** databases."
   ]
  },
  {
   "cell_type": "code",
   "execution_count": 13,
   "id": "b4d8bd0a",
   "metadata": {
    "ExecuteTime": {
     "end_time": "2025-05-02T20:27:13.712029Z",
     "start_time": "2025-05-02T20:27:13.408369Z"
    }
   },
   "outputs": [
    {
     "name": "stdout",
     "output_type": "stream",
     "text": [
      "text-mining\n",
      "knowledge\n"
     ]
    }
   ],
   "source": [
    "## check for delimiters (between prefix and ID, between IDs)\n",
    "\n",
    "delimiters = [\",\", \";\", \":\"]\n",
    "\n",
    "print(\"text-mining\")\n",
    "check_if_contains(df_textmining, \"gene_id\", delimiters)\n",
    "\n",
    "print(\"knowledge\")\n",
    "check_if_contains(df_knowledge, \"gene_id\", delimiters)\n",
    "\n",
    "## didn't print any stats, so not found"
   ]
  },
  {
   "cell_type": "code",
   "execution_count": 14,
   "id": "d675120d",
   "metadata": {
    "ExecuteTime": {
     "end_time": "2025-05-02T20:27:18.515645Z",
     "start_time": "2025-05-02T20:27:18.413523Z"
    }
   },
   "outputs": [
    {
     "data": {
      "text/html": [
       "<div>\n",
       "<style scoped>\n",
       "    .dataframe tbody tr th:only-of-type {\n",
       "        vertical-align: middle;\n",
       "    }\n",
       "\n",
       "    .dataframe tbody tr th {\n",
       "        vertical-align: top;\n",
       "    }\n",
       "\n",
       "    .dataframe thead th {\n",
       "        text-align: right;\n",
       "    }\n",
       "</style>\n",
       "<table border=\"1\" class=\"dataframe\">\n",
       "  <thead>\n",
       "    <tr style=\"text-align: right;\">\n",
       "      <th></th>\n",
       "      <th>gene_id</th>\n",
       "      <th>gene_name</th>\n",
       "      <th>disease_id</th>\n",
       "      <th>disease_name</th>\n",
       "      <th>z_score</th>\n",
       "      <th>confidence_score</th>\n",
       "      <th>url</th>\n",
       "    </tr>\n",
       "  </thead>\n",
       "  <tbody>\n",
       "  </tbody>\n",
       "</table>\n",
       "</div>"
      ],
      "text/plain": [
       "Empty DataFrame\n",
       "Columns: [gene_id, gene_name, disease_id, disease_name, z_score, confidence_score, url]\n",
       "Index: []"
      ]
     },
     "execution_count": 14,
     "metadata": {},
     "output_type": "execute_result"
    }
   ],
   "source": [
    "## double-check work on 1 value\n",
    "df_textmining[df_textmining[\"gene_id\"].str.contains(\":\", case=False)]"
   ]
  },
  {
   "cell_type": "code",
   "execution_count": 15,
   "id": "8a2aaf5c",
   "metadata": {
    "ExecuteTime": {
     "end_time": "2025-04-24T07:07:09.162089Z",
     "start_time": "2025-04-24T07:07:09.159570Z"
    }
   },
   "outputs": [],
   "source": [
    "## looked at \"_\": sometimes it can be a delimiter between prefix and ID\n",
    "## text-mining: there are values, but all were names\n",
    "\n",
    "# df_textmining[df_textmining[\"gene_id\"].str.contains(\"_\", case=False)][\"gene_id\"].unique()\n",
    "\n",
    "# len(df_textmining[df_textmining[\"gene_id\"].str.contains(\"_\", case=False)][\"gene_id\"].unique())"
   ]
  },
  {
   "cell_type": "code",
   "execution_count": 15,
   "id": "b6be1589",
   "metadata": {
    "ExecuteTime": {
     "end_time": "2025-05-02T20:27:24.347561Z",
     "start_time": "2025-05-02T20:27:24.339375Z"
    }
   },
   "outputs": [
    {
     "data": {
      "text/plain": [
       "(0, 7)"
      ]
     },
     "execution_count": 15,
     "metadata": {},
     "output_type": "execute_result"
    }
   ],
   "source": [
    "## no values\n",
    "\n",
    "df_knowledge[df_knowledge[\"gene_id\"].str.contains(\"_\")].shape"
   ]
  },
  {
   "cell_type": "markdown",
   "id": "4faf7a2b",
   "metadata": {},
   "source": [
    "#### Text-mining"
   ]
  },
  {
   "cell_type": "code",
   "execution_count": 16,
   "id": "c8b15e6b",
   "metadata": {
    "ExecuteTime": {
     "end_time": "2025-05-02T20:27:31.701588Z",
     "start_time": "2025-05-02T20:27:31.608204Z"
    }
   },
   "outputs": [
    {
     "data": {
      "text/plain": [
       "(16505, 7)"
      ]
     },
     "execution_count": 16,
     "metadata": {},
     "output_type": "execute_result"
    },
    {
     "data": {
      "text/plain": [
       "0.05719562949845965"
      ]
     },
     "execution_count": 16,
     "metadata": {},
     "output_type": "execute_result"
    }
   ],
   "source": [
    "## how much data doesn't have ENSP ID\n",
    "df_no_ENSP_textmining = df_textmining[~ df_textmining[\"gene_id\"].str.startswith(\"ENSP\")].copy()\n",
    "df_no_ENSP_textmining.shape\n",
    "\n",
    "## vs entire dataset\n",
    "df_no_ENSP_textmining.shape[0] / df_textmining.shape[0]"
   ]
  },
  {
   "cell_type": "code",
   "execution_count": 17,
   "id": "a21557fc",
   "metadata": {
    "ExecuteTime": {
     "end_time": "2025-05-02T20:27:39.531015Z",
     "start_time": "2025-05-02T20:27:39.521987Z"
    }
   },
   "outputs": [
    {
     "data": {
      "text/plain": [
       "(16505, 7)"
      ]
     },
     "execution_count": 17,
     "metadata": {},
     "output_type": "execute_result"
    }
   ],
   "source": [
    "## when data doesn't have ENSP ID, are ID == name?\n",
    "df_no_ENSP_textmining[df_no_ENSP_textmining[\"gene_id\"] == \n",
    "                      df_no_ENSP_textmining[\"gene_name\"]].shape\n",
    "\n",
    "## yes: shape is the same"
   ]
  },
  {
   "cell_type": "code",
   "execution_count": 18,
   "id": "f7ca39f7",
   "metadata": {
    "ExecuteTime": {
     "end_time": "2025-05-02T20:27:42.671644Z",
     "start_time": "2025-05-02T20:27:42.665540Z"
    }
   },
   "outputs": [
    {
     "data": {
      "text/plain": [
       "array(['18S_rRNA', '28S_rRNA', '45S_rRNA', ..., 'pRNA', 'snoU13',\n",
       "       'snoU18'], shape=(3961,), dtype=object)"
      ]
     },
     "execution_count": 18,
     "metadata": {},
     "output_type": "execute_result"
    }
   ],
   "source": [
    "## thousands of unique values\n",
    "df_no_ENSP_textmining[\"gene_id\"].unique()"
   ]
  },
  {
   "cell_type": "code",
   "execution_count": 19,
   "id": "2202267d",
   "metadata": {
    "ExecuteTime": {
     "end_time": "2025-05-02T20:27:45.090497Z",
     "start_time": "2025-05-02T20:27:45.041951Z"
    }
   },
   "outputs": [],
   "source": [
    "## look for other ID namespaces mentioned in paper\n",
    "\n",
    "possible_gene_namespaces = [\"ENSG\", \"ensembl\", \"uniprotkb\", \"uniprot\", \"hgnc\"]\n",
    "## remember function uses case=False (not sensitive)\n",
    "check_if_contains(df_no_ENSP_textmining, \"gene_id\", possible_gene_namespaces)\n",
    "\n",
    "## none: nothing prints"
   ]
  },
  {
   "cell_type": "code",
   "execution_count": 20,
   "id": "ad7069d3",
   "metadata": {
    "ExecuteTime": {
     "end_time": "2025-05-02T20:27:46.487558Z",
     "start_time": "2025-05-02T20:27:46.318155Z"
    }
   },
   "outputs": [
    {
     "data": {
      "text/html": [
       "<div>\n",
       "<style scoped>\n",
       "    .dataframe tbody tr th:only-of-type {\n",
       "        vertical-align: middle;\n",
       "    }\n",
       "\n",
       "    .dataframe tbody tr th {\n",
       "        vertical-align: top;\n",
       "    }\n",
       "\n",
       "    .dataframe thead th {\n",
       "        text-align: right;\n",
       "    }\n",
       "</style>\n",
       "<table border=\"1\" class=\"dataframe\">\n",
       "  <thead>\n",
       "    <tr style=\"text-align: right;\">\n",
       "      <th></th>\n",
       "      <th>gene_id</th>\n",
       "      <th>gene_name</th>\n",
       "      <th>disease_id</th>\n",
       "      <th>disease_name</th>\n",
       "      <th>z_score</th>\n",
       "      <th>confidence_score</th>\n",
       "      <th>url</th>\n",
       "    </tr>\n",
       "  </thead>\n",
       "  <tbody>\n",
       "  </tbody>\n",
       "</table>\n",
       "</div>"
      ],
      "text/plain": [
       "Empty DataFrame\n",
       "Columns: [gene_id, gene_name, disease_id, disease_name, z_score, confidence_score, url]\n",
       "Index: []"
      ]
     },
     "execution_count": 20,
     "metadata": {},
     "output_type": "execute_result"
    }
   ],
   "source": [
    "## double-check work on 1 value\n",
    "df_textmining[df_textmining[\"gene_id\"].str.contains(\"hgnc\", case=False)]"
   ]
  },
  {
   "cell_type": "markdown",
   "id": "4c5dfe80",
   "metadata": {},
   "source": [
    "#### Knowledge"
   ]
  },
  {
   "cell_type": "code",
   "execution_count": 21,
   "id": "b1e9ce0f",
   "metadata": {
    "ExecuteTime": {
     "end_time": "2025-05-02T20:27:49.678990Z",
     "start_time": "2025-05-02T20:27:49.656725Z"
    }
   },
   "outputs": [
    {
     "data": {
      "text/plain": [
       "(41, 7)"
      ]
     },
     "execution_count": 21,
     "metadata": {},
     "output_type": "execute_result"
    },
    {
     "data": {
      "text/plain": [
       "0.00536789735532862"
      ]
     },
     "execution_count": 21,
     "metadata": {},
     "output_type": "execute_result"
    },
    {
     "data": {
      "text/html": [
       "<div>\n",
       "<style scoped>\n",
       "    .dataframe tbody tr th:only-of-type {\n",
       "        vertical-align: middle;\n",
       "    }\n",
       "\n",
       "    .dataframe tbody tr th {\n",
       "        vertical-align: top;\n",
       "    }\n",
       "\n",
       "    .dataframe thead th {\n",
       "        text-align: right;\n",
       "    }\n",
       "</style>\n",
       "<table border=\"1\" class=\"dataframe\">\n",
       "  <thead>\n",
       "    <tr style=\"text-align: right;\">\n",
       "      <th></th>\n",
       "      <th>gene_id</th>\n",
       "      <th>gene_name</th>\n",
       "    </tr>\n",
       "  </thead>\n",
       "  <tbody>\n",
       "    <tr>\n",
       "      <th>0</th>\n",
       "      <td>ABHD11-AS1</td>\n",
       "      <td>ABHD11-AS1</td>\n",
       "    </tr>\n",
       "    <tr>\n",
       "      <th>7598</th>\n",
       "      <td>H19</td>\n",
       "      <td>H19</td>\n",
       "    </tr>\n",
       "    <tr>\n",
       "      <th>7602</th>\n",
       "      <td>KCNQ1OT1</td>\n",
       "      <td>KCNQ1OT1</td>\n",
       "    </tr>\n",
       "    <tr>\n",
       "      <th>7603</th>\n",
       "      <td>MIR17HG</td>\n",
       "      <td>MIR17HG</td>\n",
       "    </tr>\n",
       "    <tr>\n",
       "      <th>7604</th>\n",
       "      <td>MT-RNR1</td>\n",
       "      <td>MT-RNR1</td>\n",
       "    </tr>\n",
       "    <tr>\n",
       "      <th>7605</th>\n",
       "      <td>MT-TF</td>\n",
       "      <td>MT-TF</td>\n",
       "    </tr>\n",
       "    <tr>\n",
       "      <th>7606</th>\n",
       "      <td>MT-TH</td>\n",
       "      <td>MT-TH</td>\n",
       "    </tr>\n",
       "    <tr>\n",
       "      <th>7608</th>\n",
       "      <td>MT-TI</td>\n",
       "      <td>MT-TI</td>\n",
       "    </tr>\n",
       "    <tr>\n",
       "      <th>7610</th>\n",
       "      <td>MT-TK</td>\n",
       "      <td>MT-TK</td>\n",
       "    </tr>\n",
       "    <tr>\n",
       "      <th>7612</th>\n",
       "      <td>MT-TL1</td>\n",
       "      <td>MT-TL1</td>\n",
       "    </tr>\n",
       "    <tr>\n",
       "      <th>7617</th>\n",
       "      <td>MT-TP</td>\n",
       "      <td>MT-TP</td>\n",
       "    </tr>\n",
       "    <tr>\n",
       "      <th>7618</th>\n",
       "      <td>MT-TS1</td>\n",
       "      <td>MT-TS1</td>\n",
       "    </tr>\n",
       "    <tr>\n",
       "      <th>7621</th>\n",
       "      <td>MT-TS2</td>\n",
       "      <td>MT-TS2</td>\n",
       "    </tr>\n",
       "    <tr>\n",
       "      <th>7623</th>\n",
       "      <td>MT-TT</td>\n",
       "      <td>MT-TT</td>\n",
       "    </tr>\n",
       "    <tr>\n",
       "      <th>7624</th>\n",
       "      <td>MT-TV</td>\n",
       "      <td>MT-TV</td>\n",
       "    </tr>\n",
       "    <tr>\n",
       "      <th>7626</th>\n",
       "      <td>MT-TW</td>\n",
       "      <td>MT-TW</td>\n",
       "    </tr>\n",
       "    <tr>\n",
       "      <th>7627</th>\n",
       "      <td>RMRP</td>\n",
       "      <td>RMRP</td>\n",
       "    </tr>\n",
       "    <tr>\n",
       "      <th>7629</th>\n",
       "      <td>TERC</td>\n",
       "      <td>TERC</td>\n",
       "    </tr>\n",
       "    <tr>\n",
       "      <th>7631</th>\n",
       "      <td>U7</td>\n",
       "      <td>U7</td>\n",
       "    </tr>\n",
       "    <tr>\n",
       "      <th>7632</th>\n",
       "      <td>hsa-miR-137</td>\n",
       "      <td>hsa-miR-137</td>\n",
       "    </tr>\n",
       "    <tr>\n",
       "      <th>7633</th>\n",
       "      <td>hsa-miR-145-5p</td>\n",
       "      <td>hsa-miR-145-5p</td>\n",
       "    </tr>\n",
       "    <tr>\n",
       "      <th>7634</th>\n",
       "      <td>hsa-miR-146a-5p</td>\n",
       "      <td>hsa-miR-146a-5p</td>\n",
       "    </tr>\n",
       "    <tr>\n",
       "      <th>7635</th>\n",
       "      <td>hsa-miR-184</td>\n",
       "      <td>hsa-miR-184</td>\n",
       "    </tr>\n",
       "    <tr>\n",
       "      <th>7636</th>\n",
       "      <td>hsa-miR-590-5p</td>\n",
       "      <td>hsa-miR-590-5p</td>\n",
       "    </tr>\n",
       "    <tr>\n",
       "      <th>7637</th>\n",
       "      <td>hsa-miR-96-5p</td>\n",
       "      <td>hsa-miR-96-5p</td>\n",
       "    </tr>\n",
       "  </tbody>\n",
       "</table>\n",
       "</div>"
      ],
      "text/plain": [
       "              gene_id        gene_name\n",
       "0          ABHD11-AS1       ABHD11-AS1\n",
       "7598              H19              H19\n",
       "7602         KCNQ1OT1         KCNQ1OT1\n",
       "7603          MIR17HG          MIR17HG\n",
       "7604          MT-RNR1          MT-RNR1\n",
       "7605            MT-TF            MT-TF\n",
       "7606            MT-TH            MT-TH\n",
       "7608            MT-TI            MT-TI\n",
       "7610            MT-TK            MT-TK\n",
       "7612           MT-TL1           MT-TL1\n",
       "7617            MT-TP            MT-TP\n",
       "7618           MT-TS1           MT-TS1\n",
       "7621           MT-TS2           MT-TS2\n",
       "7623            MT-TT            MT-TT\n",
       "7624            MT-TV            MT-TV\n",
       "7626            MT-TW            MT-TW\n",
       "7627             RMRP             RMRP\n",
       "7629             TERC             TERC\n",
       "7631               U7               U7\n",
       "7632      hsa-miR-137      hsa-miR-137\n",
       "7633   hsa-miR-145-5p   hsa-miR-145-5p\n",
       "7634  hsa-miR-146a-5p  hsa-miR-146a-5p\n",
       "7635      hsa-miR-184      hsa-miR-184\n",
       "7636   hsa-miR-590-5p   hsa-miR-590-5p\n",
       "7637    hsa-miR-96-5p    hsa-miR-96-5p"
      ]
     },
     "execution_count": 21,
     "metadata": {},
     "output_type": "execute_result"
    }
   ],
   "source": [
    "## quick look at knowledge data: short enough for manual review\n",
    "\n",
    "## how much data doesn't have ENSP ID\n",
    "df_knowledge[~ df_knowledge[\"gene_id\"].str.startswith(\"ENSP\")].shape\n",
    "\n",
    "## vs entire dataset\n",
    "df_knowledge[~ df_knowledge[\"gene_id\"].str.startswith(\"ENSP\")].shape[0] / df_knowledge.shape[0]\n",
    "\n",
    "## unique values: can see that gene_id is a name (== gene_name), not an ID\n",
    "df_knowledge[~ df_knowledge[\"gene_id\"].str.startswith(\"ENSP\")][[\"gene_id\", \"gene_name\"]].drop_duplicates()"
   ]
  },
  {
   "cell_type": "markdown",
   "id": "c08d94e3",
   "metadata": {},
   "source": [
    "### gene_name column"
   ]
  },
  {
   "cell_type": "markdown",
   "id": "e0a49dd4",
   "metadata": {},
   "source": [
    "Didn't find IDs in this column that aren't in `gene_id`. \n",
    "\n",
    "Don't need this column for Translator output"
   ]
  },
  {
   "cell_type": "code",
   "execution_count": 22,
   "id": "40da75ac",
   "metadata": {
    "ExecuteTime": {
     "end_time": "2025-05-02T20:28:09.253435Z",
     "start_time": "2025-05-02T20:28:09.247818Z"
    }
   },
   "outputs": [
    {
     "data": {
      "text/plain": [
       "[',', ';', ':']"
      ]
     },
     "execution_count": 22,
     "metadata": {},
     "output_type": "execute_result"
    },
    {
     "data": {
      "text/plain": [
       "['ENSG', 'ensembl', 'uniprotkb', 'uniprot', 'hgnc']"
      ]
     },
     "execution_count": 22,
     "metadata": {},
     "output_type": "execute_result"
    }
   ],
   "source": [
    "delimiters\n",
    "possible_gene_namespaces"
   ]
  },
  {
   "cell_type": "code",
   "execution_count": 23,
   "id": "df7d3cc4",
   "metadata": {
    "ExecuteTime": {
     "end_time": "2025-05-02T20:28:10.400354Z",
     "start_time": "2025-05-02T20:28:10.098702Z"
    }
   },
   "outputs": [
    {
     "name": "stdout",
     "output_type": "stream",
     "text": [
      "text-mining\n",
      "knowledge\n"
     ]
    }
   ],
   "source": [
    "## look for delimiters\n",
    "\n",
    "print(\"text-mining\")\n",
    "check_if_contains(df_textmining, \"gene_name\", delimiters)\n",
    "\n",
    "print(\"knowledge\")\n",
    "check_if_contains(df_knowledge, \"gene_name\", delimiters)\n",
    "\n",
    "## didn't print any stats, so not found"
   ]
  },
  {
   "cell_type": "code",
   "execution_count": 24,
   "id": "838ee490",
   "metadata": {
    "ExecuteTime": {
     "end_time": "2025-05-02T20:28:11.918905Z",
     "start_time": "2025-05-02T20:28:11.342448Z"
    }
   },
   "outputs": [
    {
     "name": "stdout",
     "output_type": "stream",
     "text": [
      "text-mining\n",
      "knowledge\n"
     ]
    }
   ],
   "source": [
    "## look for other ID namespaces\n",
    "\n",
    "print(\"text-mining\")\n",
    "check_if_contains(df_textmining, \"gene_name\", possible_gene_namespaces)\n",
    "\n",
    "print(\"knowledge\")\n",
    "check_if_contains(df_knowledge, \"gene_name\", possible_gene_namespaces)\n",
    "\n",
    "## didn't print any stats, so not found"
   ]
  },
  {
   "cell_type": "code",
   "execution_count": 25,
   "id": "810947d9",
   "metadata": {
    "ExecuteTime": {
     "end_time": "2025-05-02T20:28:14.456989Z",
     "start_time": "2025-05-02T20:28:14.439703Z"
    }
   },
   "outputs": [
    {
     "data": {
      "text/html": [
       "<div>\n",
       "<style scoped>\n",
       "    .dataframe tbody tr th:only-of-type {\n",
       "        vertical-align: middle;\n",
       "    }\n",
       "\n",
       "    .dataframe tbody tr th {\n",
       "        vertical-align: top;\n",
       "    }\n",
       "\n",
       "    .dataframe thead th {\n",
       "        text-align: right;\n",
       "    }\n",
       "</style>\n",
       "<table border=\"1\" class=\"dataframe\">\n",
       "  <thead>\n",
       "    <tr style=\"text-align: right;\">\n",
       "      <th></th>\n",
       "      <th>gene_id</th>\n",
       "      <th>gene_name</th>\n",
       "      <th>disease_id</th>\n",
       "      <th>disease_name</th>\n",
       "      <th>z_score</th>\n",
       "      <th>confidence_score</th>\n",
       "      <th>url</th>\n",
       "    </tr>\n",
       "  </thead>\n",
       "  <tbody>\n",
       "  </tbody>\n",
       "</table>\n",
       "</div>"
      ],
      "text/plain": [
       "Empty DataFrame\n",
       "Columns: [gene_id, gene_name, disease_id, disease_name, z_score, confidence_score, url]\n",
       "Index: []"
      ]
     },
     "execution_count": 25,
     "metadata": {},
     "output_type": "execute_result"
    }
   ],
   "source": [
    "## for textmining only, are there rows with ENSP in gene_name but not gene_id?\n",
    "## not for knowledge: already reviewed manually\n",
    "\n",
    "df_no_ENSP_textmining[df_no_ENSP_textmining[\"gene_name\"].str.contains(\"ENSP\", case=False)]\n",
    "## no, empty df"
   ]
  },
  {
   "cell_type": "markdown",
   "id": "5523f8b8",
   "metadata": {},
   "source": [
    "### disease_id"
   ]
  },
  {
   "cell_type": "markdown",
   "id": "c959f4f2",
   "metadata": {},
   "source": [
    "<div class=\"alert alert-block alert-info\">\n",
    "\n",
    "**A small portion of the data doesn't have DOID IDs!** Instead, they're AmyCo IDs (not usable). **Drop these rows from further parsing (can't NodeNorm)** "
   ]
  },
  {
   "cell_type": "code",
   "execution_count": 26,
   "id": "e4acbeff",
   "metadata": {
    "ExecuteTime": {
     "end_time": "2025-05-02T20:28:17.168222Z",
     "start_time": "2025-05-02T20:28:16.863004Z"
    }
   },
   "outputs": [
    {
     "name": "stdout",
     "output_type": "stream",
     "text": [
      "text-mining\n",
      "knowledge\n"
     ]
    }
   ],
   "source": [
    "## check for delimiters (between prefix and ID, between IDs)\n",
    "## custom set since DOID: has :\n",
    "\n",
    "print(\"text-mining\")\n",
    "check_if_contains(df_textmining, \"disease_id\", [\",\", \";\", \"_\"])\n",
    "\n",
    "print(\"knowledge\")\n",
    "check_if_contains(df_knowledge, \"disease_id\", [\",\", \";\", \"_\"])\n",
    "\n",
    "## didn't print any stats, so not found"
   ]
  },
  {
   "cell_type": "markdown",
   "id": "1d2befee",
   "metadata": {},
   "source": [
    "#### Text-mining"
   ]
  },
  {
   "cell_type": "code",
   "execution_count": 27,
   "id": "d5219767",
   "metadata": {
    "ExecuteTime": {
     "end_time": "2025-05-02T20:28:19.301072Z",
     "start_time": "2025-05-02T20:28:19.208644Z"
    }
   },
   "outputs": [
    {
     "data": {
      "text/plain": [
       "(42, 7)"
      ]
     },
     "execution_count": 27,
     "metadata": {},
     "output_type": "execute_result"
    },
    {
     "data": {
      "text/plain": [
       "0.00014554477061104546"
      ]
     },
     "execution_count": 27,
     "metadata": {},
     "output_type": "execute_result"
    }
   ],
   "source": [
    "## how much data doesn't have DOID ID\n",
    "df_no_DOID_textmining = df_textmining[~ df_textmining[\"disease_id\"].str.startswith(\"DOID:\")].copy()\n",
    "df_no_DOID_textmining.shape\n",
    "\n",
    "## vs entire dataset\n",
    "df_no_DOID_textmining.shape[0] / df_textmining.shape[0]"
   ]
  },
  {
   "cell_type": "code",
   "execution_count": 28,
   "id": "4cd4cf2c",
   "metadata": {
    "ExecuteTime": {
     "end_time": "2025-05-02T20:28:21.940588Z",
     "start_time": "2025-05-02T20:28:21.932211Z"
    }
   },
   "outputs": [
    {
     "data": {
      "text/html": [
       "<div>\n",
       "<style scoped>\n",
       "    .dataframe tbody tr th:only-of-type {\n",
       "        vertical-align: middle;\n",
       "    }\n",
       "\n",
       "    .dataframe tbody tr th {\n",
       "        vertical-align: top;\n",
       "    }\n",
       "\n",
       "    .dataframe thead th {\n",
       "        text-align: right;\n",
       "    }\n",
       "</style>\n",
       "<table border=\"1\" class=\"dataframe\">\n",
       "  <thead>\n",
       "    <tr style=\"text-align: right;\">\n",
       "      <th></th>\n",
       "      <th>disease_id</th>\n",
       "      <th>disease_name</th>\n",
       "    </tr>\n",
       "  </thead>\n",
       "  <tbody>\n",
       "    <tr>\n",
       "      <th>51380</th>\n",
       "      <td>AmyCo:23</td>\n",
       "      <td>AH Amyloidosis</td>\n",
       "    </tr>\n",
       "    <tr>\n",
       "      <th>59407</th>\n",
       "      <td>AmyCo:35</td>\n",
       "      <td>Calcifying Epithelial Odontogenic Tumor</td>\n",
       "    </tr>\n",
       "    <tr>\n",
       "      <th>61404</th>\n",
       "      <td>AmyCo:73</td>\n",
       "      <td>Senile Seminal Vesicle Amyloidosis</td>\n",
       "    </tr>\n",
       "    <tr>\n",
       "      <th>79414</th>\n",
       "      <td>AmyCo:30</td>\n",
       "      <td>Wild-type transthyretin-related Amyloidosis</td>\n",
       "    </tr>\n",
       "    <tr>\n",
       "      <th>96613</th>\n",
       "      <td>AmyCo:27</td>\n",
       "      <td>Leukocyte chemotactic factor 2 Amyloidosis</td>\n",
       "    </tr>\n",
       "    <tr>\n",
       "      <th>127630</th>\n",
       "      <td>AmyCo:29</td>\n",
       "      <td>AA Amyloidosis</td>\n",
       "    </tr>\n",
       "    <tr>\n",
       "      <th>176518</th>\n",
       "      <td>AmyCo:37</td>\n",
       "      <td>Isolated Atrial Amyloidosis</td>\n",
       "    </tr>\n",
       "    <tr>\n",
       "      <th>187314</th>\n",
       "      <td>AmyCo:20</td>\n",
       "      <td>Hereditary lysozyme Amyloidosis</td>\n",
       "    </tr>\n",
       "    <tr>\n",
       "      <th>246160</th>\n",
       "      <td>AmyCo:24</td>\n",
       "      <td>AHL Amyloidosis</td>\n",
       "    </tr>\n",
       "    <tr>\n",
       "      <th>254995</th>\n",
       "      <td>AmyCo:8</td>\n",
       "      <td>Immunoglobulin Light-chain Amyloidosis</td>\n",
       "    </tr>\n",
       "    <tr>\n",
       "      <th>262482</th>\n",
       "      <td>AmyCo:36</td>\n",
       "      <td>Variably Protease-Sensitive Prionopathy</td>\n",
       "    </tr>\n",
       "  </tbody>\n",
       "</table>\n",
       "</div>"
      ],
      "text/plain": [
       "       disease_id                                 disease_name\n",
       "51380    AmyCo:23                               AH Amyloidosis\n",
       "59407    AmyCo:35      Calcifying Epithelial Odontogenic Tumor\n",
       "61404    AmyCo:73           Senile Seminal Vesicle Amyloidosis\n",
       "79414    AmyCo:30  Wild-type transthyretin-related Amyloidosis\n",
       "96613    AmyCo:27   Leukocyte chemotactic factor 2 Amyloidosis\n",
       "127630   AmyCo:29                               AA Amyloidosis\n",
       "176518   AmyCo:37                  Isolated Atrial Amyloidosis\n",
       "187314   AmyCo:20              Hereditary lysozyme Amyloidosis\n",
       "246160   AmyCo:24                              AHL Amyloidosis\n",
       "254995    AmyCo:8       Immunoglobulin Light-chain Amyloidosis\n",
       "262482   AmyCo:36      Variably Protease-Sensitive Prionopathy"
      ]
     },
     "execution_count": 28,
     "metadata": {},
     "output_type": "execute_result"
    }
   ],
   "source": [
    "## look at non-DOID data: unique values\n",
    "df_no_DOID_textmining[[\"disease_id\", \"disease_name\"]].drop_duplicates()"
   ]
  },
  {
   "cell_type": "markdown",
   "id": "6a5ef2d4",
   "metadata": {},
   "source": [
    "#### Knowledge"
   ]
  },
  {
   "cell_type": "code",
   "execution_count": 29,
   "id": "02f0a9a4",
   "metadata": {
    "ExecuteTime": {
     "end_time": "2025-05-02T20:28:29.752406Z",
     "start_time": "2025-05-02T20:28:29.742823Z"
    }
   },
   "outputs": [
    {
     "data": {
      "text/plain": [
       "(71, 7)"
      ]
     },
     "execution_count": 29,
     "metadata": {},
     "output_type": "execute_result"
    },
    {
     "data": {
      "text/plain": [
       "0.009295627127520294"
      ]
     },
     "execution_count": 29,
     "metadata": {},
     "output_type": "execute_result"
    }
   ],
   "source": [
    "## how much data doesn't have DOID ID\n",
    "df_no_DOID_knowledge = df_knowledge[~ df_knowledge[\"disease_id\"].str.startswith(\"DOID:\")].copy()\n",
    "df_no_DOID_knowledge.shape\n",
    "\n",
    "## vs entire dataset\n",
    "df_no_DOID_knowledge.shape[0] / df_knowledge.shape[0]"
   ]
  },
  {
   "cell_type": "code",
   "execution_count": 30,
   "id": "40ffb380",
   "metadata": {
    "ExecuteTime": {
     "end_time": "2025-05-02T20:28:31.038756Z",
     "start_time": "2025-05-02T20:28:31.029828Z"
    }
   },
   "outputs": [
    {
     "data": {
      "text/html": [
       "<div>\n",
       "<style scoped>\n",
       "    .dataframe tbody tr th:only-of-type {\n",
       "        vertical-align: middle;\n",
       "    }\n",
       "\n",
       "    .dataframe tbody tr th {\n",
       "        vertical-align: top;\n",
       "    }\n",
       "\n",
       "    .dataframe thead th {\n",
       "        text-align: right;\n",
       "    }\n",
       "</style>\n",
       "<table border=\"1\" class=\"dataframe\">\n",
       "  <thead>\n",
       "    <tr style=\"text-align: right;\">\n",
       "      <th></th>\n",
       "      <th>disease_id</th>\n",
       "      <th>disease_name</th>\n",
       "    </tr>\n",
       "  </thead>\n",
       "  <tbody>\n",
       "    <tr>\n",
       "      <th>351</th>\n",
       "      <td>AmyCo:26</td>\n",
       "      <td>Apolipoprotein C-III associated Amyloidosis</td>\n",
       "    </tr>\n",
       "    <tr>\n",
       "      <th>508</th>\n",
       "      <td>AmyCo:16</td>\n",
       "      <td>Localized insulin-derived Amyloidosis</td>\n",
       "    </tr>\n",
       "    <tr>\n",
       "      <th>509</th>\n",
       "      <td>AmyCo:17</td>\n",
       "      <td>Apolipoprotein A-I associated Amyloidosis</td>\n",
       "    </tr>\n",
       "    <tr>\n",
       "      <th>511</th>\n",
       "      <td>AmyCo:63</td>\n",
       "      <td>Enfuvirtide-induced Amyloidosis</td>\n",
       "    </tr>\n",
       "    <tr>\n",
       "      <th>518</th>\n",
       "      <td>AmyCo:30</td>\n",
       "      <td>Wild-type transthyretin-related Amyloidosis</td>\n",
       "    </tr>\n",
       "    <tr>\n",
       "      <th>731</th>\n",
       "      <td>AmyCo:22</td>\n",
       "      <td>Apolipoprotein A-II associated Amyloidosis</td>\n",
       "    </tr>\n",
       "    <tr>\n",
       "      <th>732</th>\n",
       "      <td>AmyCo:23</td>\n",
       "      <td>AH Amyloidosis</td>\n",
       "    </tr>\n",
       "    <tr>\n",
       "      <th>733</th>\n",
       "      <td>AmyCo:24</td>\n",
       "      <td>AHL Amyloidosis</td>\n",
       "    </tr>\n",
       "    <tr>\n",
       "      <th>734</th>\n",
       "      <td>AmyCo:25</td>\n",
       "      <td>Apolipoprotein C-II associated Amyloidosis</td>\n",
       "    </tr>\n",
       "    <tr>\n",
       "      <th>736</th>\n",
       "      <td>AmyCo:27</td>\n",
       "      <td>Leukocyte chemotactic factor 2 Amyloidosis</td>\n",
       "    </tr>\n",
       "    <tr>\n",
       "      <th>737</th>\n",
       "      <td>AmyCo:28</td>\n",
       "      <td>Apolipoprotein A-IV associated Amyloidosis</td>\n",
       "    </tr>\n",
       "    <tr>\n",
       "      <th>738</th>\n",
       "      <td>AmyCo:29</td>\n",
       "      <td>AA Amyloidosis</td>\n",
       "    </tr>\n",
       "    <tr>\n",
       "      <th>739</th>\n",
       "      <td>AmyCo:33</td>\n",
       "      <td>Wild type beta-2-microglobulin-related Amyloid...</td>\n",
       "    </tr>\n",
       "    <tr>\n",
       "      <th>741</th>\n",
       "      <td>AmyCo:8</td>\n",
       "      <td>Immunoglobulin Light-chain Amyloidosis</td>\n",
       "    </tr>\n",
       "    <tr>\n",
       "      <th>835</th>\n",
       "      <td>AmyCo:67</td>\n",
       "      <td>PrP Systemic Amyloidosis</td>\n",
       "    </tr>\n",
       "    <tr>\n",
       "      <th>1050</th>\n",
       "      <td>AmyCo:20</td>\n",
       "      <td>Hereditary lysozyme Amyloidosis</td>\n",
       "    </tr>\n",
       "    <tr>\n",
       "      <th>1558</th>\n",
       "      <td>AmyCo:40</td>\n",
       "      <td>Medin Amyloidosis</td>\n",
       "    </tr>\n",
       "    <tr>\n",
       "      <th>4556</th>\n",
       "      <td>AmyCo:73</td>\n",
       "      <td>Senile Seminal Vesicle Amyloidosis</td>\n",
       "    </tr>\n",
       "    <tr>\n",
       "      <th>4799</th>\n",
       "      <td>AmyCo:37</td>\n",
       "      <td>Isolated Atrial Amyloidosis</td>\n",
       "    </tr>\n",
       "    <tr>\n",
       "      <th>5419</th>\n",
       "      <td>AmyCo:35</td>\n",
       "      <td>Calcifying Epithelial Odontogenic Tumor</td>\n",
       "    </tr>\n",
       "    <tr>\n",
       "      <th>5948</th>\n",
       "      <td>AmyCo:36</td>\n",
       "      <td>Variably Protease-Sensitive Prionopathy</td>\n",
       "    </tr>\n",
       "    <tr>\n",
       "      <th>7457</th>\n",
       "      <td>AmyCo:75</td>\n",
       "      <td>Hereditary beta-2-microglobulin-related Amyloi...</td>\n",
       "    </tr>\n",
       "    <tr>\n",
       "      <th>7499</th>\n",
       "      <td>AmyCo:19</td>\n",
       "      <td>Hereditary fibrinogen A alpha-chain Amyloidosis</td>\n",
       "    </tr>\n",
       "  </tbody>\n",
       "</table>\n",
       "</div>"
      ],
      "text/plain": [
       "     disease_id                                       disease_name\n",
       "351    AmyCo:26        Apolipoprotein C-III associated Amyloidosis\n",
       "508    AmyCo:16              Localized insulin-derived Amyloidosis\n",
       "509    AmyCo:17          Apolipoprotein A-I associated Amyloidosis\n",
       "511    AmyCo:63                    Enfuvirtide-induced Amyloidosis\n",
       "518    AmyCo:30        Wild-type transthyretin-related Amyloidosis\n",
       "731    AmyCo:22         Apolipoprotein A-II associated Amyloidosis\n",
       "732    AmyCo:23                                     AH Amyloidosis\n",
       "733    AmyCo:24                                    AHL Amyloidosis\n",
       "734    AmyCo:25         Apolipoprotein C-II associated Amyloidosis\n",
       "736    AmyCo:27         Leukocyte chemotactic factor 2 Amyloidosis\n",
       "737    AmyCo:28         Apolipoprotein A-IV associated Amyloidosis\n",
       "738    AmyCo:29                                     AA Amyloidosis\n",
       "739    AmyCo:33  Wild type beta-2-microglobulin-related Amyloid...\n",
       "741     AmyCo:8             Immunoglobulin Light-chain Amyloidosis\n",
       "835    AmyCo:67                           PrP Systemic Amyloidosis\n",
       "1050   AmyCo:20                    Hereditary lysozyme Amyloidosis\n",
       "1558   AmyCo:40                                  Medin Amyloidosis\n",
       "4556   AmyCo:73                 Senile Seminal Vesicle Amyloidosis\n",
       "4799   AmyCo:37                        Isolated Atrial Amyloidosis\n",
       "5419   AmyCo:35            Calcifying Epithelial Odontogenic Tumor\n",
       "5948   AmyCo:36            Variably Protease-Sensitive Prionopathy\n",
       "7457   AmyCo:75  Hereditary beta-2-microglobulin-related Amyloi...\n",
       "7499   AmyCo:19    Hereditary fibrinogen A alpha-chain Amyloidosis"
      ]
     },
     "execution_count": 30,
     "metadata": {},
     "output_type": "execute_result"
    }
   ],
   "source": [
    "## look at non-DOID data: unique values\n",
    "df_no_DOID_knowledge[[\"disease_id\", \"disease_name\"]].drop_duplicates()"
   ]
  },
  {
   "cell_type": "markdown",
   "id": "9a985800",
   "metadata": {},
   "source": [
    "### Other columns"
   ]
  },
  {
   "cell_type": "markdown",
   "id": "4b2b6757",
   "metadata": {},
   "source": [
    "Quick checks on what other data looks like. \n",
    "\n",
    "Didn't review disease_name: already reviewed non-DOID rows, don't need in Translator output "
   ]
  },
  {
   "cell_type": "markdown",
   "id": "46823004",
   "metadata": {},
   "source": [
    "#### Text-mining"
   ]
  },
  {
   "cell_type": "code",
   "execution_count": 31,
   "id": "7a5b84bb",
   "metadata": {
    "ExecuteTime": {
     "end_time": "2025-05-02T20:28:40.688091Z",
     "start_time": "2025-05-02T20:28:40.655885Z"
    }
   },
   "outputs": [
    {
     "data": {
      "text/plain": [
       "count    288571.000000\n",
       "mean          3.900408\n",
       "std           0.825318\n",
       "min           3.000000\n",
       "25%           3.279000\n",
       "50%           3.664000\n",
       "75%           4.280000\n",
       "max          10.055000\n",
       "Name: z_score, dtype: float64"
      ]
     },
     "execution_count": 31,
     "metadata": {},
     "output_type": "execute_result"
    },
    {
     "data": {
      "text/plain": [
       "count    288571.000000\n",
       "mean          1.950045\n",
       "std           0.411813\n",
       "min           1.500000\n",
       "25%           1.639000\n",
       "50%           1.832000\n",
       "75%           2.140000\n",
       "max           4.000000\n",
       "Name: confidence_score, dtype: float64"
      ]
     },
     "execution_count": 31,
     "metadata": {},
     "output_type": "execute_result"
    }
   ],
   "source": [
    "## minimum being 3 means filtering was probably done, to remove anything with low z-score\n",
    "df_textmining[\"z_score\"].describe()\n",
    "\n",
    "## 1 = 2 standard deviations above mean, cutoff at 4\n",
    "df_textmining[\"confidence_score\"].describe()"
   ]
  },
  {
   "cell_type": "code",
   "execution_count": 32,
   "id": "6f4ee4c1",
   "metadata": {
    "ExecuteTime": {
     "end_time": "2025-05-02T20:28:54.736999Z",
     "start_time": "2025-05-02T20:28:54.499470Z"
    }
   },
   "outputs": [],
   "source": [
    "## url: check for delimiters (multiple urls)\n",
    "## custom set since DOID: (:), some names have _\n",
    "\n",
    "check_if_contains(df_textmining, \"url\", [\",\", \";\"])\n",
    "\n",
    "## didn't print any stats, so not found"
   ]
  },
  {
   "cell_type": "code",
   "execution_count": 33,
   "id": "b3659488",
   "metadata": {
    "ExecuteTime": {
     "end_time": "2025-05-02T20:28:55.534750Z",
     "start_time": "2025-05-02T20:28:55.488878Z"
    }
   },
   "outputs": [
    {
     "data": {
      "text/html": [
       "<div>\n",
       "<style scoped>\n",
       "    .dataframe tbody tr th:only-of-type {\n",
       "        vertical-align: middle;\n",
       "    }\n",
       "\n",
       "    .dataframe tbody tr th {\n",
       "        vertical-align: top;\n",
       "    }\n",
       "\n",
       "    .dataframe thead th {\n",
       "        text-align: right;\n",
       "    }\n",
       "</style>\n",
       "<table border=\"1\" class=\"dataframe\">\n",
       "  <thead>\n",
       "    <tr style=\"text-align: right;\">\n",
       "      <th></th>\n",
       "      <th>gene_id</th>\n",
       "      <th>gene_name</th>\n",
       "      <th>disease_id</th>\n",
       "      <th>disease_name</th>\n",
       "      <th>z_score</th>\n",
       "      <th>confidence_score</th>\n",
       "      <th>url</th>\n",
       "    </tr>\n",
       "  </thead>\n",
       "  <tbody>\n",
       "  </tbody>\n",
       "</table>\n",
       "</div>"
      ],
      "text/plain": [
       "Empty DataFrame\n",
       "Columns: [gene_id, gene_name, disease_id, disease_name, z_score, confidence_score, url]\n",
       "Index: []"
      ]
     },
     "execution_count": 33,
     "metadata": {},
     "output_type": "execute_result"
    }
   ],
   "source": [
    "## url: check for whitespace - none\n",
    "\n",
    "df_textmining[df_textmining[\"url\"].str.isspace()]"
   ]
  },
  {
   "cell_type": "markdown",
   "id": "cc14434c",
   "metadata": {},
   "source": [
    "#### Knowledge"
   ]
  },
  {
   "cell_type": "code",
   "execution_count": 35,
   "id": "a24b9be5",
   "metadata": {
    "ExecuteTime": {
     "end_time": "2025-05-02T20:29:02.786877Z",
     "start_time": "2025-05-02T20:29:02.780340Z"
    }
   },
   "outputs": [
    {
     "data": {
      "text/plain": [
       "source_db\n",
       "MedlinePlus     3770\n",
       "UniProtKB-KW    3611\n",
       "AmyCo            257\n",
       "Name: count, dtype: int64"
      ]
     },
     "execution_count": 35,
     "metadata": {},
     "output_type": "execute_result"
    }
   ],
   "source": [
    "df_knowledge[\"source_db\"].value_counts()"
   ]
  },
  {
   "cell_type": "code",
   "execution_count": 36,
   "id": "d21b8cb7",
   "metadata": {
    "ExecuteTime": {
     "end_time": "2025-05-02T20:29:05.499854Z",
     "start_time": "2025-05-02T20:29:05.494244Z"
    }
   },
   "outputs": [
    {
     "data": {
      "text/plain": [
       "evidence_type\n",
       "CURATED    7638\n",
       "Name: count, dtype: int64"
      ]
     },
     "execution_count": 36,
     "metadata": {},
     "output_type": "execute_result"
    }
   ],
   "source": [
    "df_knowledge[\"evidence_type\"].value_counts()\n",
    "## always the same value"
   ]
  },
  {
   "cell_type": "code",
   "execution_count": 37,
   "id": "e5a29a4f",
   "metadata": {
    "ExecuteTime": {
     "end_time": "2025-05-02T20:29:07.158455Z",
     "start_time": "2025-05-02T20:29:07.152507Z"
    }
   },
   "outputs": [
    {
     "data": {
      "text/plain": [
       "confidence_score\n",
       "4    3817\n",
       "5    3770\n",
       "3      35\n",
       "2      16\n",
       "Name: count, dtype: int64"
      ]
     },
     "execution_count": 37,
     "metadata": {},
     "output_type": "execute_result"
    }
   ],
   "source": [
    "df_knowledge[\"confidence_score\"].value_counts()"
   ]
  },
  {
   "cell_type": "markdown",
   "id": "608993f4",
   "metadata": {},
   "source": [
    "## Remove rows"
   ]
  },
  {
   "cell_type": "markdown",
   "id": "07946299",
   "metadata": {},
   "source": [
    "<div class=\"alert alert-block alert-info\">\n",
    "\n",
    "Removing:\n",
    "* knowledge's UniProtKB-KW data: Doesn't seem accurate, Likely has licensing issues (OMIM). Analysis in Slack canvas\n",
    "* rows that don't have ENSP IDs in gene_id column: can't NodeNorm them\n",
    "* rows that don't have DOID IDs in disease_id column: can't NodeNorm them\n",
    "\n",
    "Not removing duplicates! Because planning to ingest file in chunks, so need other method (check set of already-done). "
   ]
  },
  {
   "cell_type": "code",
   "execution_count": 38,
   "id": "a14061b3",
   "metadata": {
    "ExecuteTime": {
     "end_time": "2025-05-02T20:29:13.385885Z",
     "start_time": "2025-05-02T20:29:13.382721Z"
    }
   },
   "outputs": [],
   "source": [
    "## calculate stats before removing\n",
    "\n",
    "nrows_textmining_original = df_textmining.shape[0]\n",
    "nrows_knowledge_original = df_knowledge.shape[0]"
   ]
  },
  {
   "cell_type": "code",
   "execution_count": 39,
   "id": "4ee8e2ae",
   "metadata": {
    "ExecuteTime": {
     "end_time": "2025-05-02T20:29:15.147939Z",
     "start_time": "2025-05-02T20:29:15.142001Z"
    }
   },
   "outputs": [
    {
     "name": "stdout",
     "output_type": "stream",
     "text": [
      "knowledge: 3611 rows removed\n"
     ]
    }
   ],
   "source": [
    "## put into parser (don't do stats, print)\n",
    "\n",
    "## remove knowledge's UniProtKB-KW data\n",
    "df_knowledge = df_knowledge[df_knowledge[\"source_db\"] != \"UniProtKB-KW\"]\n",
    "\n",
    "## stats\n",
    "nrows_knowledge_filtered = df_knowledge.shape[0]\n",
    "print(f\"knowledge: {nrows_knowledge_original - nrows_knowledge_filtered} rows removed\")"
   ]
  },
  {
   "cell_type": "code",
   "execution_count": 40,
   "id": "7a52ce49",
   "metadata": {
    "ExecuteTime": {
     "end_time": "2025-05-02T20:29:20.323701Z",
     "start_time": "2025-05-02T20:29:20.210357Z"
    }
   },
   "outputs": [
    {
     "name": "stdout",
     "output_type": "stream",
     "text": [
      "textmining: 16505 rows removed\n",
      "knowledge: 41 rows removed\n"
     ]
    }
   ],
   "source": [
    "## put into parser (don't do stats, print)\n",
    "\n",
    "## remove rows that don't have ENSP IDs\n",
    "df_textmining = df_textmining[df_textmining[\"gene_id\"].str.startswith(\"ENSP\")]\n",
    "df_knowledge = df_knowledge[df_knowledge[\"gene_id\"].str.startswith(\"ENSP\")]\n",
    "\n",
    "\n",
    "## stats\n",
    "nrows_textmining_filtered = df_textmining.shape[0]\n",
    "print(f\"textmining: {nrows_textmining_original - nrows_textmining_filtered} rows removed\")\n",
    "## don't rewrite variable yet, so you can compare previous to now\n",
    "print(f\"knowledge: {nrows_knowledge_filtered - df_knowledge.shape[0]} rows removed\")\n",
    "\n",
    "## update this variable\n",
    "nrows_knowledge_filtered = df_knowledge.shape[0]"
   ]
  },
  {
   "cell_type": "code",
   "execution_count": 41,
   "id": "30f51663",
   "metadata": {
    "ExecuteTime": {
     "end_time": "2025-05-02T20:29:23.334770Z",
     "start_time": "2025-05-02T20:29:23.220740Z"
    }
   },
   "outputs": [
    {
     "name": "stdout",
     "output_type": "stream",
     "text": [
      "textmining: 42 rows removed\n",
      "knowledge: 71 rows removed\n"
     ]
    }
   ],
   "source": [
    "## put into parser (don't do stats, print)\n",
    "\n",
    "## remove rows that don't have DOID IDs\n",
    "df_textmining = df_textmining[df_textmining[\"disease_id\"].str.startswith(\"DOID:\")]\n",
    "df_knowledge = df_knowledge[df_knowledge[\"disease_id\"].str.startswith(\"DOID:\")]\n",
    "\n",
    "\n",
    "## stats\n",
    "## don't rewrite variable yet, so you can compare previous to now\n",
    "print(f\"textmining: {nrows_textmining_filtered - df_textmining.shape[0]} rows removed\")\n",
    "print(f\"knowledge: {nrows_knowledge_filtered - df_knowledge.shape[0]} rows removed\")\n",
    "\n",
    "## update this variable\n",
    "nrows_textmining_filtered = df_textmining.shape[0]\n",
    "nrows_knowledge_filtered = df_knowledge.shape[0]"
   ]
  },
  {
   "cell_type": "code",
   "execution_count": 42,
   "id": "0ed627c8",
   "metadata": {
    "ExecuteTime": {
     "end_time": "2025-05-02T20:29:26.016412Z",
     "start_time": "2025-05-02T20:29:26.004970Z"
    }
   },
   "outputs": [
    {
     "data": {
      "text/html": [
       "<div>\n",
       "<style scoped>\n",
       "    .dataframe tbody tr th:only-of-type {\n",
       "        vertical-align: middle;\n",
       "    }\n",
       "\n",
       "    .dataframe tbody tr th {\n",
       "        vertical-align: top;\n",
       "    }\n",
       "\n",
       "    .dataframe thead th {\n",
       "        text-align: right;\n",
       "    }\n",
       "</style>\n",
       "<table border=\"1\" class=\"dataframe\">\n",
       "  <thead>\n",
       "    <tr style=\"text-align: right;\">\n",
       "      <th></th>\n",
       "      <th>gene_id</th>\n",
       "      <th>gene_name</th>\n",
       "      <th>disease_id</th>\n",
       "      <th>disease_name</th>\n",
       "      <th>source_db</th>\n",
       "      <th>evidence_type</th>\n",
       "      <th>confidence_score</th>\n",
       "    </tr>\n",
       "  </thead>\n",
       "  <tbody>\n",
       "    <tr>\n",
       "      <th>63</th>\n",
       "      <td>ENSP00000167586</td>\n",
       "      <td>KRT14</td>\n",
       "      <td>DOID:0050430</td>\n",
       "      <td>Multiple endocrine neoplasia type 2A</td>\n",
       "      <td>AmyCo</td>\n",
       "      <td>CURATED</td>\n",
       "      <td>2</td>\n",
       "    </tr>\n",
       "    <tr>\n",
       "      <th>64</th>\n",
       "      <td>ENSP00000167586</td>\n",
       "      <td>KRT14</td>\n",
       "      <td>DOID:0050639</td>\n",
       "      <td>Primary cutaneous amyloidosis</td>\n",
       "      <td>AmyCo</td>\n",
       "      <td>CURATED</td>\n",
       "      <td>4</td>\n",
       "    </tr>\n",
       "    <tr>\n",
       "      <th>66</th>\n",
       "      <td>ENSP00000167586</td>\n",
       "      <td>KRT14</td>\n",
       "      <td>DOID:2513</td>\n",
       "      <td>Basal cell carcinoma</td>\n",
       "      <td>AmyCo</td>\n",
       "      <td>CURATED</td>\n",
       "      <td>4</td>\n",
       "    </tr>\n",
       "    <tr>\n",
       "      <th>70</th>\n",
       "      <td>ENSP00000167586</td>\n",
       "      <td>KRT14</td>\n",
       "      <td>DOID:6498</td>\n",
       "      <td>Seborrheic keratosis</td>\n",
       "      <td>AmyCo</td>\n",
       "      <td>CURATED</td>\n",
       "      <td>4</td>\n",
       "    </tr>\n",
       "    <tr>\n",
       "      <th>71</th>\n",
       "      <td>ENSP00000167586</td>\n",
       "      <td>KRT14</td>\n",
       "      <td>DOID:7039</td>\n",
       "      <td>Borst-Jadassohn intraepidermal carcinoma</td>\n",
       "      <td>AmyCo</td>\n",
       "      <td>CURATED</td>\n",
       "      <td>3</td>\n",
       "    </tr>\n",
       "    <tr>\n",
       "      <th>...</th>\n",
       "      <td>...</td>\n",
       "      <td>...</td>\n",
       "      <td>...</td>\n",
       "      <td>...</td>\n",
       "      <td>...</td>\n",
       "      <td>...</td>\n",
       "      <td>...</td>\n",
       "    </tr>\n",
       "    <tr>\n",
       "      <th>7400</th>\n",
       "      <td>ENSP00000497221</td>\n",
       "      <td>ITM2B</td>\n",
       "      <td>DOID:0070029</td>\n",
       "      <td>ITM2B-related cerebral amyloid angiopathy 1</td>\n",
       "      <td>AmyCo</td>\n",
       "      <td>CURATED</td>\n",
       "      <td>4</td>\n",
       "    </tr>\n",
       "    <tr>\n",
       "      <th>7401</th>\n",
       "      <td>ENSP00000497221</td>\n",
       "      <td>ITM2B</td>\n",
       "      <td>DOID:0070030</td>\n",
       "      <td>ITM2B-related cerebral amyloid angiopathy 2</td>\n",
       "      <td>AmyCo</td>\n",
       "      <td>CURATED</td>\n",
       "      <td>4</td>\n",
       "    </tr>\n",
       "    <tr>\n",
       "      <th>7458</th>\n",
       "      <td>ENSP00000497910</td>\n",
       "      <td>B2M</td>\n",
       "      <td>DOID:0050747</td>\n",
       "      <td>DOID:0050747</td>\n",
       "      <td>AmyCo</td>\n",
       "      <td>CURATED</td>\n",
       "      <td>4</td>\n",
       "    </tr>\n",
       "    <tr>\n",
       "      <th>7586</th>\n",
       "      <td>ENSP00000500990</td>\n",
       "      <td>SNCA</td>\n",
       "      <td>DOID:12217</td>\n",
       "      <td>Lewy body dementia</td>\n",
       "      <td>AmyCo</td>\n",
       "      <td>CURATED</td>\n",
       "      <td>4</td>\n",
       "    </tr>\n",
       "    <tr>\n",
       "      <th>7589</th>\n",
       "      <td>ENSP00000500990</td>\n",
       "      <td>SNCA</td>\n",
       "      <td>DOID:14330</td>\n",
       "      <td>Parkinson's disease</td>\n",
       "      <td>AmyCo</td>\n",
       "      <td>CURATED</td>\n",
       "      <td>4</td>\n",
       "    </tr>\n",
       "  </tbody>\n",
       "</table>\n",
       "<p>186 rows × 7 columns</p>\n",
       "</div>"
      ],
      "text/plain": [
       "              gene_id gene_name    disease_id  \\\n",
       "63    ENSP00000167586     KRT14  DOID:0050430   \n",
       "64    ENSP00000167586     KRT14  DOID:0050639   \n",
       "66    ENSP00000167586     KRT14     DOID:2513   \n",
       "70    ENSP00000167586     KRT14     DOID:6498   \n",
       "71    ENSP00000167586     KRT14     DOID:7039   \n",
       "...               ...       ...           ...   \n",
       "7400  ENSP00000497221     ITM2B  DOID:0070029   \n",
       "7401  ENSP00000497221     ITM2B  DOID:0070030   \n",
       "7458  ENSP00000497910       B2M  DOID:0050747   \n",
       "7586  ENSP00000500990      SNCA    DOID:12217   \n",
       "7589  ENSP00000500990      SNCA    DOID:14330   \n",
       "\n",
       "                                     disease_name source_db evidence_type  \\\n",
       "63           Multiple endocrine neoplasia type 2A     AmyCo       CURATED   \n",
       "64                  Primary cutaneous amyloidosis     AmyCo       CURATED   \n",
       "66                           Basal cell carcinoma     AmyCo       CURATED   \n",
       "70                           Seborrheic keratosis     AmyCo       CURATED   \n",
       "71       Borst-Jadassohn intraepidermal carcinoma     AmyCo       CURATED   \n",
       "...                                           ...       ...           ...   \n",
       "7400  ITM2B-related cerebral amyloid angiopathy 1     AmyCo       CURATED   \n",
       "7401  ITM2B-related cerebral amyloid angiopathy 2     AmyCo       CURATED   \n",
       "7458                                 DOID:0050747     AmyCo       CURATED   \n",
       "7586                           Lewy body dementia     AmyCo       CURATED   \n",
       "7589                          Parkinson's disease     AmyCo       CURATED   \n",
       "\n",
       "      confidence_score  \n",
       "63                   2  \n",
       "64                   4  \n",
       "66                   4  \n",
       "70                   4  \n",
       "71                   3  \n",
       "...                ...  \n",
       "7400                 4  \n",
       "7401                 4  \n",
       "7458                 4  \n",
       "7586                 4  \n",
       "7589                 4  \n",
       "\n",
       "[186 rows x 7 columns]"
      ]
     },
     "execution_count": 42,
     "metadata": {},
     "output_type": "execute_result"
    }
   ],
   "source": [
    "## code to reviewing dataframes, make sure all removed properly\n",
    "\n",
    "# df_textmining\n",
    "# df_textmining[~ df_textmining[\"disease_id\"].str.contains(\"DOID\")]\n",
    "\n",
    "# df_knowledge\n",
    "# df_knowledge[~ df_knowledge[\"disease_id\"].str.contains(\"DOID\")]\n",
    "# df_knowledge[df_knowledge[\"source_db\"] == \"UniProtKB-KW\"]\n",
    "\n",
    "## AmyCo data still in database (wasn't all under AmyCo disease IDs)\n",
    "df_knowledge[df_knowledge[\"source_db\"] == \"AmyCo\"]"
   ]
  },
  {
   "cell_type": "markdown",
   "id": "a797c65d",
   "metadata": {},
   "source": [
    "## Pre-NodeNorming"
   ]
  },
  {
   "cell_type": "code",
   "execution_count": 43,
   "id": "38cf08b5",
   "metadata": {
    "ExecuteTime": {
     "end_time": "2025-05-02T20:29:37.180880Z",
     "start_time": "2025-05-02T20:29:37.148485Z"
    }
   },
   "outputs": [],
   "source": [
    "## put into parser (format)\n",
    "\n",
    "## adding Translator/biolink prefixes to gene ID, for NodeNorming\n",
    "## don't need to do DOID, already in right format\n",
    "\n",
    "## loop for notebook only, to do both dataframes \n",
    "for df in [df_textmining, df_knowledge]:\n",
    "    df[\"gene_id\"] = \"ENSEMBL:\" + df[\"gene_id\"]"
   ]
  },
  {
   "cell_type": "code",
   "execution_count": 44,
   "id": "ed2645c0",
   "metadata": {
    "ExecuteTime": {
     "end_time": "2025-05-02T20:29:39.396035Z",
     "start_time": "2025-05-02T20:29:39.385043Z"
    }
   },
   "outputs": [
    {
     "data": {
      "text/html": [
       "<div>\n",
       "<style scoped>\n",
       "    .dataframe tbody tr th:only-of-type {\n",
       "        vertical-align: middle;\n",
       "    }\n",
       "\n",
       "    .dataframe tbody tr th {\n",
       "        vertical-align: top;\n",
       "    }\n",
       "\n",
       "    .dataframe thead th {\n",
       "        text-align: right;\n",
       "    }\n",
       "</style>\n",
       "<table border=\"1\" class=\"dataframe\">\n",
       "  <thead>\n",
       "    <tr style=\"text-align: right;\">\n",
       "      <th></th>\n",
       "      <th>gene_id</th>\n",
       "      <th>gene_name</th>\n",
       "      <th>disease_id</th>\n",
       "      <th>disease_name</th>\n",
       "      <th>source_db</th>\n",
       "      <th>evidence_type</th>\n",
       "      <th>confidence_score</th>\n",
       "    </tr>\n",
       "  </thead>\n",
       "  <tbody>\n",
       "    <tr>\n",
       "      <th>2</th>\n",
       "      <td>ENSEMBL:ENSP00000003084</td>\n",
       "      <td>CFTR</td>\n",
       "      <td>DOID:0111862</td>\n",
       "      <td>Congenital bilateral absence of vas deferens</td>\n",
       "      <td>MedlinePlus</td>\n",
       "      <td>CURATED</td>\n",
       "      <td>5</td>\n",
       "    </tr>\n",
       "    <tr>\n",
       "      <th>3</th>\n",
       "      <td>ENSEMBL:ENSP00000003084</td>\n",
       "      <td>CFTR</td>\n",
       "      <td>DOID:1485</td>\n",
       "      <td>Cystic fibrosis</td>\n",
       "      <td>MedlinePlus</td>\n",
       "      <td>CURATED</td>\n",
       "      <td>5</td>\n",
       "    </tr>\n",
       "    <tr>\n",
       "      <th>4</th>\n",
       "      <td>ENSEMBL:ENSP00000005226</td>\n",
       "      <td>USH1C</td>\n",
       "      <td>DOID:0050439</td>\n",
       "      <td>Usher syndrome</td>\n",
       "      <td>MedlinePlus</td>\n",
       "      <td>CURATED</td>\n",
       "      <td>5</td>\n",
       "    </tr>\n",
       "    <tr>\n",
       "      <th>5</th>\n",
       "      <td>ENSEMBL:ENSP00000005226</td>\n",
       "      <td>USH1C</td>\n",
       "      <td>DOID:0050563</td>\n",
       "      <td>Nonsyndromic deafness</td>\n",
       "      <td>MedlinePlus</td>\n",
       "      <td>CURATED</td>\n",
       "      <td>5</td>\n",
       "    </tr>\n",
       "    <tr>\n",
       "      <th>11</th>\n",
       "      <td>ENSEMBL:ENSP00000013807</td>\n",
       "      <td>ERCC1</td>\n",
       "      <td>DOID:0050427</td>\n",
       "      <td>Xeroderma pigmentosum</td>\n",
       "      <td>MedlinePlus</td>\n",
       "      <td>CURATED</td>\n",
       "      <td>5</td>\n",
       "    </tr>\n",
       "    <tr>\n",
       "      <th>...</th>\n",
       "      <td>...</td>\n",
       "      <td>...</td>\n",
       "      <td>...</td>\n",
       "      <td>...</td>\n",
       "      <td>...</td>\n",
       "      <td>...</td>\n",
       "      <td>...</td>\n",
       "    </tr>\n",
       "    <tr>\n",
       "      <th>7590</th>\n",
       "      <td>ENSEMBL:ENSP00000500990</td>\n",
       "      <td>SNCA</td>\n",
       "      <td>DOID:14330</td>\n",
       "      <td>Parkinson's disease</td>\n",
       "      <td>MedlinePlus</td>\n",
       "      <td>CURATED</td>\n",
       "      <td>5</td>\n",
       "    </tr>\n",
       "    <tr>\n",
       "      <th>7592</th>\n",
       "      <td>ENSEMBL:ENSP00000500990</td>\n",
       "      <td>SNCA</td>\n",
       "      <td>DOID:4752</td>\n",
       "      <td>Multiple system atrophy</td>\n",
       "      <td>MedlinePlus</td>\n",
       "      <td>CURATED</td>\n",
       "      <td>5</td>\n",
       "    </tr>\n",
       "    <tr>\n",
       "      <th>7593</th>\n",
       "      <td>ENSEMBL:ENSP00000501092</td>\n",
       "      <td>TFAP2A</td>\n",
       "      <td>DOID:0050691</td>\n",
       "      <td>Branchiooculofacial syndrome</td>\n",
       "      <td>MedlinePlus</td>\n",
       "      <td>CURATED</td>\n",
       "      <td>5</td>\n",
       "    </tr>\n",
       "    <tr>\n",
       "      <th>7594</th>\n",
       "      <td>ENSEMBL:ENSP00000501092</td>\n",
       "      <td>TFAP2A</td>\n",
       "      <td>DOID:12270</td>\n",
       "      <td>Coloboma</td>\n",
       "      <td>MedlinePlus</td>\n",
       "      <td>CURATED</td>\n",
       "      <td>5</td>\n",
       "    </tr>\n",
       "    <tr>\n",
       "      <th>7595</th>\n",
       "      <td>ENSEMBL:ENSP00000501111</td>\n",
       "      <td>CEL</td>\n",
       "      <td>DOID:0050524</td>\n",
       "      <td>maturity-onset diabetes of the young</td>\n",
       "      <td>MedlinePlus</td>\n",
       "      <td>CURATED</td>\n",
       "      <td>5</td>\n",
       "    </tr>\n",
       "  </tbody>\n",
       "</table>\n",
       "<p>3915 rows × 7 columns</p>\n",
       "</div>"
      ],
      "text/plain": [
       "                      gene_id gene_name    disease_id  \\\n",
       "2     ENSEMBL:ENSP00000003084      CFTR  DOID:0111862   \n",
       "3     ENSEMBL:ENSP00000003084      CFTR     DOID:1485   \n",
       "4     ENSEMBL:ENSP00000005226     USH1C  DOID:0050439   \n",
       "5     ENSEMBL:ENSP00000005226     USH1C  DOID:0050563   \n",
       "11    ENSEMBL:ENSP00000013807     ERCC1  DOID:0050427   \n",
       "...                       ...       ...           ...   \n",
       "7590  ENSEMBL:ENSP00000500990      SNCA    DOID:14330   \n",
       "7592  ENSEMBL:ENSP00000500990      SNCA     DOID:4752   \n",
       "7593  ENSEMBL:ENSP00000501092    TFAP2A  DOID:0050691   \n",
       "7594  ENSEMBL:ENSP00000501092    TFAP2A    DOID:12270   \n",
       "7595  ENSEMBL:ENSP00000501111       CEL  DOID:0050524   \n",
       "\n",
       "                                      disease_name    source_db evidence_type  \\\n",
       "2     Congenital bilateral absence of vas deferens  MedlinePlus       CURATED   \n",
       "3                                  Cystic fibrosis  MedlinePlus       CURATED   \n",
       "4                                   Usher syndrome  MedlinePlus       CURATED   \n",
       "5                            Nonsyndromic deafness  MedlinePlus       CURATED   \n",
       "11                           Xeroderma pigmentosum  MedlinePlus       CURATED   \n",
       "...                                            ...          ...           ...   \n",
       "7590                           Parkinson's disease  MedlinePlus       CURATED   \n",
       "7592                       Multiple system atrophy  MedlinePlus       CURATED   \n",
       "7593                  Branchiooculofacial syndrome  MedlinePlus       CURATED   \n",
       "7594                                      Coloboma  MedlinePlus       CURATED   \n",
       "7595          maturity-onset diabetes of the young  MedlinePlus       CURATED   \n",
       "\n",
       "      confidence_score  \n",
       "2                    5  \n",
       "3                    5  \n",
       "4                    5  \n",
       "5                    5  \n",
       "11                   5  \n",
       "...                ...  \n",
       "7590                 5  \n",
       "7592                 5  \n",
       "7593                 5  \n",
       "7594                 5  \n",
       "7595                 5  \n",
       "\n",
       "[3915 rows x 7 columns]"
      ]
     },
     "execution_count": 44,
     "metadata": {},
     "output_type": "execute_result"
    }
   ],
   "source": [
    "## double-check how they look\n",
    "\n",
    "df_knowledge"
   ]
  },
  {
   "cell_type": "markdown",
   "id": "377992a6",
   "metadata": {},
   "source": [
    "Querying NodeNorm: send unique values (no duplicates!) in large batches -> generate mapping dict to use. \n",
    "<br>\n",
    "__Not querying 1-by-1 or 1 row at a time: much slower__ and would involve sending duplicate IDs (unless saved dict is kept outside loop and checked) "
   ]
  },
  {
   "cell_type": "markdown",
   "id": "1266243a",
   "metadata": {},
   "source": [
    "<div class=\"alert alert-block alert-danger\">\n",
    "\n",
    "Set the NodeNorm URL you want to use. "
   ]
  },
  {
   "cell_type": "code",
   "execution_count": 65,
   "id": "ec7095c7",
   "metadata": {
    "ExecuteTime": {
     "end_time": "2025-05-03T06:24:11.333983Z",
     "start_time": "2025-05-03T06:24:11.329903Z"
    }
   },
   "outputs": [],
   "source": [
    "## put into parser (format)\n",
    "\n",
    "import requests\n",
    "\n",
    "## from BioThings annotator code: for interoperability between diff Python versions\n",
    "try:\n",
    "    from itertools import batched  # new in Python 3.12\n",
    "except ImportError:\n",
    "    from itertools import islice\n",
    "\n",
    "    def batched(iterable, n):\n",
    "        # batched('ABCDEFG', 3) → ABC DEF G\n",
    "        if n < 1:\n",
    "            raise ValueError(\"n must be at least one\")\n",
    "        iterator = iter(iterable)\n",
    "        while batch := tuple(islice(iterator, n)):\n",
    "            yield batch\n",
    "\n",
    "## dev instance\n",
    "nodenorm_url = \"https://nodenormalization-sri.renci.org/get_normalized_nodes\"\n",
    "# nodenorm_url = \"https://nodenorm.ci.transltr.io/get_normalized_nodes\""
   ]
  },
  {
   "cell_type": "markdown",
   "id": "fd327545",
   "metadata": {},
   "source": [
    "### Genes"
   ]
  },
  {
   "cell_type": "code",
   "execution_count": 46,
   "id": "54f32d70",
   "metadata": {
    "ExecuteTime": {
     "end_time": "2025-05-02T20:30:49.612978Z",
     "start_time": "2025-05-02T20:30:49.574995Z"
    }
   },
   "outputs": [
    {
     "data": {
      "text/plain": [
       "16847"
      ]
     },
     "execution_count": 46,
     "metadata": {},
     "output_type": "execute_result"
    },
    {
     "data": {
      "text/plain": [
       "2535"
      ]
     },
     "execution_count": 46,
     "metadata": {},
     "output_type": "execute_result"
    },
    {
     "data": {
      "text/plain": [
       "16850"
      ]
     },
     "execution_count": 46,
     "metadata": {},
     "output_type": "execute_result"
    }
   ],
   "source": [
    "## put into parser (set unique on curie list)\n",
    "\n",
    "## get set of unique CURIEs to put into NodeNorm\n",
    "geneIDs_textmining = set(df_textmining[\"gene_id\"].unique())\n",
    "geneIDs_knowledge = set(df_knowledge[\"gene_id\"].unique())\n",
    "geneIDs_all = geneIDs_textmining | geneIDs_knowledge\n",
    "\n",
    "len(geneIDs_textmining)\n",
    "len(geneIDs_knowledge)\n",
    "len(geneIDs_all)"
   ]
  },
  {
   "cell_type": "code",
   "execution_count": 66,
   "id": "e98887c0",
   "metadata": {
    "ExecuteTime": {
     "end_time": "2025-05-03T06:24:13.855653Z",
     "start_time": "2025-05-03T06:24:13.848807Z"
    }
   },
   "outputs": [],
   "source": [
    "## put into parser (partial?)\n",
    "\n",
    "gene_nodenorm_mapping = {}\n",
    "\n",
    "## set up variables to catch potential mapping failures\n",
    "stats_gene_mapping_failures = {\n",
    "    \"unexpected_error\": {},\n",
    "    \"nodenorm_returned_none\": [],\n",
    "    \"wrong_category\": {},\n",
    "    \"no_label\": []\n",
    "}"
   ]
  },
  {
   "cell_type": "markdown",
   "id": "dcd7ca3f",
   "metadata": {},
   "source": [
    "Allowed types are Gene and Protein (depending on if gene/protein conflation worked for the ENSP ID or not)"
   ]
  },
  {
   "cell_type": "code",
   "execution_count": 67,
   "id": "9521a856",
   "metadata": {
    "ExecuteTime": {
     "end_time": "2025-05-03T06:24:42.539351Z",
     "start_time": "2025-05-03T06:24:14.496598Z"
    }
   },
   "outputs": [],
   "source": [
    "## put into parser (don't need to iterate through batch, just use all in chunk you're on)\n",
    "\n",
    "## larger batches are quicker\n",
    "for batch in batched(geneIDs_all, 1000):\n",
    "    ## returns tuples -> cast to list\n",
    "    req_body = {\n",
    "        \"curies\": list(batch),\n",
    "        \"conflate\": True,\n",
    "    }\n",
    "    r = requests.post(nodenorm_url, json=req_body)\n",
    "    response = r.json()\n",
    "    \n",
    "    ## not doing dict comprehension. allows easier review, logic writing\n",
    "    for k,v in response.items():\n",
    "        ## catch unexpected errors\n",
    "        try:\n",
    "            ## if NodeNorm didn't have info on this ID, v will be None\n",
    "            if v is not None:\n",
    "                ## don't keep mapping if category is not the expected one\n",
    "                if v[\"type\"][0] in [\"biolink:Gene\", \"biolink:Protein\"]:\n",
    "                    ## also throw out mapping if no primary label found\n",
    "                    if v[\"id\"].get(\"label\"):\n",
    "                        temp = {\n",
    "                            k: {\"primary_id\": v[\"id\"][\"identifier\"],\n",
    "                                \"primary_label\": v[\"id\"][\"label\"]\n",
    "                               }\n",
    "                        }\n",
    "                        gene_nodenorm_mapping.update(temp)\n",
    "                    else:\n",
    "                        stats_gene_mapping_failures[\"no_label\"].append(k)\n",
    "#                         print(f\"{k}: NodeNorm didn't find primary label. Not keeping this mapping.\")\n",
    "                else:\n",
    "                    stats_gene_mapping_failures[\"wrong_category\"].update({k: v[\"type\"][0]})\n",
    "#                     print(f'{k}: NodeNorm found different category {v[\"type\"][0]}. Not keeping this mapping.')\n",
    "            else:\n",
    "                stats_gene_mapping_failures[\"nodenorm_returned_none\"].append(k)\n",
    "#                 print(f\"{k}: NodeNorm didn't recognize this ID\")\n",
    "        except:\n",
    "            stats_gene_mapping_failures[\"unexpected_error\"].update({k: v})\n",
    "            print(f'Encountered an unexpected error.')\n",
    "            print(f'NodeNorm response key: {k}')\n",
    "            print(f'NodeNorm response value: {v}')"
   ]
  },
  {
   "cell_type": "code",
   "execution_count": 68,
   "id": "fce525ef",
   "metadata": {
    "ExecuteTime": {
     "end_time": "2025-05-03T06:24:46.694172Z",
     "start_time": "2025-05-03T06:24:46.682631Z"
    }
   },
   "outputs": [
    {
     "data": {
      "text/plain": [
       "16477"
      ]
     },
     "execution_count": 68,
     "metadata": {},
     "output_type": "execute_result"
    },
    {
     "data": {
      "text/plain": [
       "{}"
      ]
     },
     "execution_count": 68,
     "metadata": {},
     "output_type": "execute_result"
    },
    {
     "data": {
      "text/plain": [
       "315"
      ]
     },
     "execution_count": 68,
     "metadata": {},
     "output_type": "execute_result"
    },
    {
     "data": {
      "text/plain": [
       "0"
      ]
     },
     "execution_count": 68,
     "metadata": {},
     "output_type": "execute_result"
    },
    {
     "data": {
      "text/plain": [
       "58"
      ]
     },
     "execution_count": 68,
     "metadata": {},
     "output_type": "execute_result"
    }
   ],
   "source": [
    "len(gene_nodenorm_mapping)\n",
    "\n",
    "stats_gene_mapping_failures[\"unexpected_error\"]\n",
    "\n",
    "len(stats_gene_mapping_failures[\"nodenorm_returned_none\"])\n",
    "len(stats_gene_mapping_failures[\"wrong_category\"])\n",
    "len(stats_gene_mapping_failures[\"no_label\"])"
   ]
  },
  {
   "cell_type": "code",
   "execution_count": 72,
   "id": "302e3003",
   "metadata": {
    "ExecuteTime": {
     "end_time": "2025-05-03T07:09:48.602465Z",
     "start_time": "2025-05-03T07:09:48.598658Z"
    }
   },
   "outputs": [
    {
     "data": {
      "text/plain": [
       "['ENSEMBL:ENSP00000215727',\n",
       " 'ENSEMBL:ENSP00000448665',\n",
       " 'ENSEMBL:ENSP00000458663',\n",
       " 'ENSEMBL:ENSP00000493899',\n",
       " 'ENSEMBL:ENSP00000421868',\n",
       " 'ENSEMBL:ENSP00000348089',\n",
       " 'ENSEMBL:ENSP00000361232',\n",
       " 'ENSEMBL:ENSP00000497585']"
      ]
     },
     "execution_count": 72,
     "metadata": {},
     "output_type": "execute_result"
    }
   ],
   "source": [
    "## code block for reviewing failures\n",
    "\n",
    "# stats_gene_mapping_failures[\"nodenorm_returned_none\"][270:280]\n",
    "stats_gene_mapping_failures[\"no_label\"][50:58]"
   ]
  },
  {
   "cell_type": "markdown",
   "id": "d656426f",
   "metadata": {},
   "source": [
    "<div class=\"alert alert-block alert-info\">\n",
    "\n",
    "**2025-05-02 data:**\n",
    "\n",
    "**Reviewed ENSEMBL ENSP mapping failures**\n",
    "\n",
    "315 cases where NodeNorm returned None (didn't recognize/resolve ID). __I checked some (20)__ (0:10, 270:280). __Conclusion: DISEASES problem, using outdated IDs__\n",
    "\n",
    "* 17: ID is deprecated. Language: \"no longer in the database but it has been mapped to 1 deprecated identifier\")\n",
    "* 3: ID has been replaced? Language: \"no longer in the database.It has been mapped to 1 current identifier\". (ENSP00000074304, ENSP00000480798, ENSP00000482552)\n",
    "\n",
    "<br>\n",
    "    \n",
    "58 cases where NodeNorm didn't have a primary label. __I checked some (18)__ (0:10, 50:58). __Conclusion: NodeNorm issue sometimes, other times a complex biology/data situation__\n",
    "\n",
    "All were legit IDs, but I guess NodeNorm isn't mapping them to their genes. Some thoughts:\n",
    "* noticed many genes were overlapping locus/readthrough gene\n",
    "* But some of these genes look \"fairly regular\" and the ENSP ID is the \"Ensembl Canonical\". So it's strange that NodeNorm isn't mapping them to their genes -> messaged NodeNorm\n",
    "  * ENSP00000419081 for CALML4 ENSG00000129007 \n",
    "  * ENSP00000211076 for TPSD1 ENSG00000095917 (not overlapping!)\n",
    "  * ENSP00000361746 for EPPIN ENSG00000101448\n",
    "  * ENSP00000215727 for SERPIND1 ENSG00000099937 (not overlapping!)\n",
    "  * ENSP00000348089 for ERCC6 ENSG00000225830 (not overlapping!)\n",
    "  * ENSP00000361232 for DDX31 ENSG00000125485 (not overlapping!)"
   ]
  },
  {
   "cell_type": "code",
   "execution_count": 73,
   "id": "02fb64f9",
   "metadata": {
    "ExecuteTime": {
     "end_time": "2025-05-03T07:24:48.010695Z",
     "start_time": "2025-05-03T07:24:47.955193Z"
    }
   },
   "outputs": [],
   "source": [
    "## calculate stats: number of rows affected by each type of mapping failure\n",
    "stats_gene_mapping_failures.update({\n",
    "    \"nrows_textmining_none\": df_textmining[df_textmining[\"gene_id\"].isin(stats_gene_mapping_failures[\"nodenorm_returned_none\"])].shape[0],\n",
    "    \"nrows_knowledge_none\": df_knowledge[df_knowledge[\"gene_id\"].isin(stats_gene_mapping_failures[\"nodenorm_returned_none\"])].shape[0],\n",
    "\n",
    "    \"n_rows_textmining_wrongcategory\": df_textmining[df_textmining[\"gene_id\"].isin(stats_gene_mapping_failures[\"wrong_category\"].keys())].shape[0],\n",
    "    \"n_rows_knowledge_wrongcategory\": df_knowledge[df_knowledge[\"gene_id\"].isin(stats_gene_mapping_failures[\"wrong_category\"].keys())].shape[0],\n",
    "\n",
    "    \n",
    "    \"n_rows_textmining_nolabel\": df_textmining[df_textmining[\"gene_id\"].isin(stats_gene_mapping_failures[\"no_label\"])].shape[0],\n",
    "    \"n_rows_knowledge_nolabel\": df_knowledge[df_knowledge[\"gene_id\"].isin(stats_gene_mapping_failures[\"no_label\"])].shape[0],\n",
    "})"
   ]
  },
  {
   "cell_type": "code",
   "execution_count": 74,
   "id": "28524687",
   "metadata": {
    "ExecuteTime": {
     "end_time": "2025-05-03T07:24:48.776778Z",
     "start_time": "2025-05-03T07:24:48.764014Z"
    }
   },
   "outputs": [
    {
     "data": {
      "text/plain": [
       "4232"
      ]
     },
     "execution_count": 74,
     "metadata": {},
     "output_type": "execute_result"
    },
    {
     "data": {
      "text/plain": [
       "52"
      ]
     },
     "execution_count": 74,
     "metadata": {},
     "output_type": "execute_result"
    },
    {
     "data": {
      "text/plain": [
       "0"
      ]
     },
     "execution_count": 74,
     "metadata": {},
     "output_type": "execute_result"
    },
    {
     "data": {
      "text/plain": [
       "0"
      ]
     },
     "execution_count": 74,
     "metadata": {},
     "output_type": "execute_result"
    },
    {
     "data": {
      "text/plain": [
       "1419"
      ]
     },
     "execution_count": 74,
     "metadata": {},
     "output_type": "execute_result"
    },
    {
     "data": {
      "text/plain": [
       "8"
      ]
     },
     "execution_count": 74,
     "metadata": {},
     "output_type": "execute_result"
    }
   ],
   "source": [
    "stats_gene_mapping_failures[\"nrows_textmining_none\"]\n",
    "stats_gene_mapping_failures[\"nrows_knowledge_none\"]\n",
    "stats_gene_mapping_failures[\"n_rows_textmining_wrongcategory\"]\n",
    "stats_gene_mapping_failures[\"n_rows_knowledge_wrongcategory\"]\n",
    "stats_gene_mapping_failures[\"n_rows_textmining_nolabel\"]\n",
    "stats_gene_mapping_failures[\"n_rows_knowledge_nolabel\"]"
   ]
  },
  {
   "cell_type": "markdown",
   "id": "783a5f57",
   "metadata": {},
   "source": [
    "### Diseases"
   ]
  },
  {
   "cell_type": "code",
   "execution_count": 75,
   "id": "900a0766",
   "metadata": {
    "ExecuteTime": {
     "end_time": "2025-05-03T07:24:55.702964Z",
     "start_time": "2025-05-03T07:24:55.670521Z"
    }
   },
   "outputs": [
    {
     "data": {
      "text/plain": [
       "5556"
      ]
     },
     "execution_count": 75,
     "metadata": {},
     "output_type": "execute_result"
    },
    {
     "data": {
      "text/plain": [
       "1036"
      ]
     },
     "execution_count": 75,
     "metadata": {},
     "output_type": "execute_result"
    },
    {
     "data": {
      "text/plain": [
       "5671"
      ]
     },
     "execution_count": 75,
     "metadata": {},
     "output_type": "execute_result"
    }
   ],
   "source": [
    "\n",
    "## get set of unique CURIEs to put into NodeNorm\n",
    "diseaseIDs_textmining = set(df_textmining[\"disease_id\"].unique())\n",
    "diseaseIDs_knowledge = set(df_knowledge[\"disease_id\"].unique())\n",
    "diseaseIDs_all = diseaseIDs_textmining | diseaseIDs_knowledge\n",
    "\n",
    "len(diseaseIDs_textmining)\n",
    "len(diseaseIDs_knowledge)\n",
    "len(diseaseIDs_all)"
   ]
  },
  {
   "cell_type": "code",
   "execution_count": 76,
   "id": "1400dd55",
   "metadata": {
    "ExecuteTime": {
     "end_time": "2025-05-03T07:24:57.216096Z",
     "start_time": "2025-05-03T07:24:57.213236Z"
    }
   },
   "outputs": [],
   "source": [
    "\n",
    "disease_nodenorm_mapping = {}\n",
    "\n",
    "## set up variables to catch mapping failures\n",
    "stats_disease_mapping_failures = {\n",
    "    \"unexpected_error\": {},\n",
    "    \"nodenorm_returned_none\": [],\n",
    "    \"wrong_category\": {},\n",
    "    \"no_label\": []\n",
    "    \n",
    "}"
   ]
  },
  {
   "cell_type": "code",
   "execution_count": 77,
   "id": "858b6f93",
   "metadata": {
    "ExecuteTime": {
     "end_time": "2025-05-03T07:25:08.615180Z",
     "start_time": "2025-05-03T07:24:59.587114Z"
    }
   },
   "outputs": [],
   "source": [
    "\n",
    "\n",
    "## larger batches are quicker\n",
    "for batch in batched(diseaseIDs_all, 1000):\n",
    "    ## returns tuples -> cast to list\n",
    "    req_body = {\n",
    "        \"curies\": list(batch),\n",
    "        \"conflate\": True,\n",
    "    }\n",
    "    r = requests.post(nodenorm_url, json=req_body)\n",
    "    response = r.json()\n",
    "    \n",
    "    ## not doing dict comprehension. allows easier review, logic writing\n",
    "    for k,v in response.items():\n",
    "        ## catch unexpected errors\n",
    "        try:\n",
    "            ## if NodeNorm didn't have info on this ID, v will be None\n",
    "            if v is not None:\n",
    "                ## don't keep mapping if category is not the expected one\n",
    "                if v[\"type\"][0] == \"biolink:Disease\":\n",
    "                    ## also throw out mapping if no primary label found\n",
    "                    if v[\"id\"].get(\"label\"):\n",
    "                        temp = {\n",
    "                            k: {\"primary_id\": v[\"id\"][\"identifier\"],\n",
    "                                \"primary_label\": v[\"id\"][\"label\"]\n",
    "                               }\n",
    "                        }\n",
    "                        disease_nodenorm_mapping.update(temp)\n",
    "                    else:\n",
    "                        stats_disease_mapping_failures[\"no_label\"].append(k)\n",
    "#                         print(f\"{k}: NodeNorm didn't find primary label. Not keeping this mapping.\")\n",
    "                else:\n",
    "                    stats_disease_mapping_failures[\"wrong_category\"].update({k: v[\"type\"][0]})\n",
    "#                     print(f'{k}: NodeNorm found different category {v[\"type\"][0]}. Not keeping this mapping.')\n",
    "            else:\n",
    "                stats_disease_mapping_failures[\"nodenorm_returned_none\"].append(k)\n",
    "#                 print(f\"{k}: NodeNorm didn't recognize this ID\")\n",
    "        except:\n",
    "            stats_disease_mapping_failures[\"unexpected_error\"].update({k: v})\n",
    "            print(f'Encountered an unexpected error.')\n",
    "            print(f'NodeNorm response key: {k}')\n",
    "            print(f'NodeNorm response value: {v}')"
   ]
  },
  {
   "cell_type": "code",
   "execution_count": 78,
   "id": "2e81d56b",
   "metadata": {
    "ExecuteTime": {
     "end_time": "2025-05-03T07:25:30.349038Z",
     "start_time": "2025-05-03T07:25:30.338695Z"
    }
   },
   "outputs": [
    {
     "data": {
      "text/plain": [
       "5641"
      ]
     },
     "execution_count": 78,
     "metadata": {},
     "output_type": "execute_result"
    },
    {
     "data": {
      "text/plain": [
       "{}"
      ]
     },
     "execution_count": 78,
     "metadata": {},
     "output_type": "execute_result"
    },
    {
     "data": {
      "text/plain": [
       "30"
      ]
     },
     "execution_count": 78,
     "metadata": {},
     "output_type": "execute_result"
    },
    {
     "data": {
      "text/plain": [
       "0"
      ]
     },
     "execution_count": 78,
     "metadata": {},
     "output_type": "execute_result"
    },
    {
     "data": {
      "text/plain": [
       "0"
      ]
     },
     "execution_count": 78,
     "metadata": {},
     "output_type": "execute_result"
    }
   ],
   "source": [
    "len(disease_nodenorm_mapping)\n",
    "\n",
    "stats_disease_mapping_failures[\"unexpected_error\"]\n",
    "\n",
    "len(stats_disease_mapping_failures[\"nodenorm_returned_none\"])\n",
    "len(stats_disease_mapping_failures[\"wrong_category\"])\n",
    "len(stats_disease_mapping_failures[\"no_label\"])"
   ]
  },
  {
   "cell_type": "code",
   "execution_count": 81,
   "id": "77af9e52",
   "metadata": {
    "ExecuteTime": {
     "end_time": "2025-05-03T07:41:52.851482Z",
     "start_time": "2025-05-03T07:41:52.846846Z"
    }
   },
   "outputs": [
    {
     "data": {
      "text/plain": [
       "['DOID:11155',\n",
       " 'DOID:1920',\n",
       " 'DOID:11772',\n",
       " 'DOID:1086',\n",
       " 'DOID:0050424',\n",
       " 'DOID:206',\n",
       " 'DOID:10986',\n",
       " 'DOID:11541',\n",
       " 'DOID:0060963',\n",
       " 'DOID:11595']"
      ]
     },
     "execution_count": 81,
     "metadata": {},
     "output_type": "execute_result"
    }
   ],
   "source": [
    "## code used to review mapping failures \n",
    "\n",
    "stats_disease_mapping_failures[\"nodenorm_returned_none\"][0:10]"
   ]
  },
  {
   "cell_type": "markdown",
   "id": "ec0e6d96",
   "metadata": {},
   "source": [
    "<div class=\"alert alert-block alert-info\">\n",
    "\n",
    "**2025-05-02 data:**\n",
    "\n",
    "**Reviewed Disease DOID mapping failures**\n",
    "\n",
    "30 cases where NodeNorm returned None (didn't recognize/resolve ID). __I checked some (first 10)__:\n",
    "\n",
    "All were legit IDs: don't understand why NodeNorm returned none -> messaged NodeNorm"
   ]
  },
  {
   "cell_type": "code",
   "execution_count": 82,
   "id": "a772ebfd",
   "metadata": {
    "ExecuteTime": {
     "end_time": "2025-05-03T07:41:58.718017Z",
     "start_time": "2025-05-03T07:41:58.686416Z"
    }
   },
   "outputs": [],
   "source": [
    "## calculate stats: number of rows affected by each type of mapping failure\n",
    "stats_disease_mapping_failures.update({\n",
    "    \"nrows_textmining_none\": df_textmining[df_textmining[\"disease_id\"].isin(stats_disease_mapping_failures[\"nodenorm_returned_none\"])].shape[0],\n",
    "    \"nrows_knowledge_none\": df_knowledge[df_knowledge[\"disease_id\"].isin(stats_disease_mapping_failures[\"nodenorm_returned_none\"])].shape[0],\n",
    "\n",
    "    \"n_rows_textmining_wrongcategory\": df_textmining[df_textmining[\"disease_id\"].isin(stats_disease_mapping_failures[\"wrong_category\"].keys())].shape[0],\n",
    "    \"n_rows_knowledge_wrongcategory\": df_knowledge[df_knowledge[\"disease_id\"].isin(stats_disease_mapping_failures[\"wrong_category\"].keys())].shape[0],\n",
    "\n",
    "    \n",
    "    \"n_rows_textmining_nolabel\": df_textmining[df_textmining[\"disease_id\"].isin(stats_disease_mapping_failures[\"no_label\"])].shape[0],\n",
    "    \"n_rows_knowledge_nolabel\": df_knowledge[df_knowledge[\"disease_id\"].isin(stats_disease_mapping_failures[\"no_label\"])].shape[0],\n",
    "})"
   ]
  },
  {
   "cell_type": "code",
   "execution_count": 83,
   "id": "ca44cd5e",
   "metadata": {
    "ExecuteTime": {
     "end_time": "2025-05-03T07:41:59.329627Z",
     "start_time": "2025-05-03T07:41:59.318392Z"
    }
   },
   "outputs": [
    {
     "data": {
      "text/plain": [
       "624"
      ]
     },
     "execution_count": 83,
     "metadata": {},
     "output_type": "execute_result"
    },
    {
     "data": {
      "text/plain": [
       "10"
      ]
     },
     "execution_count": 83,
     "metadata": {},
     "output_type": "execute_result"
    },
    {
     "data": {
      "text/plain": [
       "0"
      ]
     },
     "execution_count": 83,
     "metadata": {},
     "output_type": "execute_result"
    },
    {
     "data": {
      "text/plain": [
       "0"
      ]
     },
     "execution_count": 83,
     "metadata": {},
     "output_type": "execute_result"
    },
    {
     "data": {
      "text/plain": [
       "0"
      ]
     },
     "execution_count": 83,
     "metadata": {},
     "output_type": "execute_result"
    },
    {
     "data": {
      "text/plain": [
       "0"
      ]
     },
     "execution_count": 83,
     "metadata": {},
     "output_type": "execute_result"
    }
   ],
   "source": [
    "stats_disease_mapping_failures[\"nrows_textmining_none\"]\n",
    "stats_disease_mapping_failures[\"nrows_knowledge_none\"]\n",
    "stats_disease_mapping_failures[\"n_rows_textmining_wrongcategory\"]\n",
    "stats_disease_mapping_failures[\"n_rows_knowledge_wrongcategory\"]\n",
    "stats_disease_mapping_failures[\"n_rows_textmining_nolabel\"]\n",
    "stats_disease_mapping_failures[\"n_rows_knowledge_nolabel\"]"
   ]
  },
  {
   "cell_type": "markdown",
   "id": "23343f7c",
   "metadata": {},
   "source": [
    "### Adding NodeNorm data, removing rows"
   ]
  },
  {
   "cell_type": "markdown",
   "id": "1d708cbc",
   "metadata": {},
   "source": [
    "<div class=\"alert alert-block alert-info\">\n",
    "\n",
    "Removing rows that lack NodeNorm data, due to small amount of failures during NodeNorm process: \n",
    "* NodeNorm returned none\n",
    "* NodeNorm didn't have primary label (genes only) "
   ]
  },
  {
   "cell_type": "code",
   "execution_count": 60,
   "id": "3d727809",
   "metadata": {
    "ExecuteTime": {
     "end_time": "2025-04-24T07:08:13.282539Z",
     "start_time": "2025-04-24T07:08:12.867128Z"
    }
   },
   "outputs": [],
   "source": [
    "## put into parser (format): \n",
    "\n",
    "## text-mining\n",
    "df_textmining[\"gene_nodenorm_id\"] = [gene_nodenorm_mapping[i][\"primary_id\"] \n",
    "                                     if gene_nodenorm_mapping.get(i) \n",
    "                                     else pd.NA\n",
    "                                     for i in df_textmining[\"gene_id\"]]\n",
    "\n",
    "df_textmining[\"gene_nodenorm_label\"] = [gene_nodenorm_mapping[i][\"primary_label\"] \n",
    "                                        if gene_nodenorm_mapping.get(i) \n",
    "                                        else pd.NA\n",
    "                                        for i in df_textmining[\"gene_id\"]]\n",
    "\n",
    "df_textmining[\"disease_nodenorm_id\"] = [disease_nodenorm_mapping[i][\"primary_id\"] \n",
    "                                        if disease_nodenorm_mapping.get(i) \n",
    "                                        else pd.NA\n",
    "                                        for i in df_textmining[\"disease_id\"]]\n",
    "\n",
    "df_textmining[\"disease_nodenorm_label\"] = [disease_nodenorm_mapping[i][\"primary_label\"] \n",
    "                                           if disease_nodenorm_mapping.get(i) \n",
    "                                           else pd.NA\n",
    "                                           for i in df_textmining[\"disease_id\"]]"
   ]
  },
  {
   "cell_type": "code",
   "execution_count": 61,
   "id": "8783b9aa",
   "metadata": {
    "ExecuteTime": {
     "end_time": "2025-04-24T07:08:13.299084Z",
     "start_time": "2025-04-24T07:08:13.284856Z"
    }
   },
   "outputs": [],
   "source": [
    "\n",
    "## knowledge\n",
    "df_knowledge[\"gene_nodenorm_id\"] = [gene_nodenorm_mapping[i][\"primary_id\"] \n",
    "                                    if gene_nodenorm_mapping.get(i) \n",
    "                                    else pd.NA\n",
    "                                    for i in df_knowledge[\"gene_id\"]]\n",
    "\n",
    "df_knowledge[\"gene_nodenorm_label\"] = [gene_nodenorm_mapping[i][\"primary_label\"] \n",
    "                                       if gene_nodenorm_mapping.get(i) \n",
    "                                       else pd.NA\n",
    "                                       for i in df_knowledge[\"gene_id\"]]\n",
    "\n",
    "df_knowledge[\"disease_nodenorm_id\"] = [disease_nodenorm_mapping[i][\"primary_id\"] \n",
    "                                       if disease_nodenorm_mapping.get(i) \n",
    "                                       else pd.NA\n",
    "                                       for i in df_knowledge[\"disease_id\"]]\n",
    "\n",
    "df_knowledge[\"disease_nodenorm_label\"] = [disease_nodenorm_mapping[i][\"primary_label\"] \n",
    "                                          if disease_nodenorm_mapping.get(i) \n",
    "                                          else pd.NA\n",
    "                                          for i in df_knowledge[\"disease_id\"]]"
   ]
  },
  {
   "cell_type": "code",
   "execution_count": 62,
   "id": "430314be",
   "metadata": {
    "ExecuteTime": {
     "end_time": "2025-04-24T07:08:13.303962Z",
     "start_time": "2025-04-24T07:08:13.301525Z"
    }
   },
   "outputs": [],
   "source": [
    "## code chunk to review df\n",
    "\n",
    "## df_knowledge"
   ]
  },
  {
   "cell_type": "code",
   "execution_count": 63,
   "id": "caee28a8",
   "metadata": {
    "ExecuteTime": {
     "end_time": "2025-04-24T07:08:13.437164Z",
     "start_time": "2025-04-24T07:08:13.306153Z"
    }
   },
   "outputs": [],
   "source": [
    "## put into parser: \n",
    "\n",
    "## doing subset just in case (original data didn't have any NAs that would be\n",
    "##   dropped on accident, but still) \n",
    "\n",
    "df_textmining.dropna(subset=[\"gene_nodenorm_id\", \"gene_nodenorm_label\", \n",
    "                            \"disease_nodenorm_id\", \"disease_nodenorm_label\"],\n",
    "                    ignore_index=True, inplace=True)\n",
    "\n",
    "df_knowledge.dropna(subset=[\"gene_nodenorm_id\", \"gene_nodenorm_label\", \n",
    "                            \"disease_nodenorm_id\", \"disease_nodenorm_label\"],\n",
    "                    ignore_index=True, inplace=True)"
   ]
  },
  {
   "cell_type": "code",
   "execution_count": 64,
   "id": "4fc8d268",
   "metadata": {
    "ExecuteTime": {
     "end_time": "2025-04-24T07:08:13.444867Z",
     "start_time": "2025-04-24T07:08:13.439400Z"
    }
   },
   "outputs": [
    {
     "data": {
      "text/plain": [
       "(266200, 11)"
      ]
     },
     "execution_count": 64,
     "metadata": {},
     "output_type": "execute_result"
    },
    {
     "data": {
      "text/plain": [
       "(3841, 11)"
      ]
     },
     "execution_count": 64,
     "metadata": {},
     "output_type": "execute_result"
    }
   ],
   "source": [
    "## didn't do stats for before/after\n",
    "\n",
    "df_textmining.shape\n",
    "df_knowledge.shape"
   ]
  },
  {
   "cell_type": "markdown",
   "id": "0b6fab64",
   "metadata": {},
   "source": [
    "### Exploring \"duplicates\" from NodeNorming"
   ]
  },
  {
   "cell_type": "code",
   "execution_count": 108,
   "id": "ff2a578d",
   "metadata": {
    "ExecuteTime": {
     "end_time": "2025-04-30T07:26:19.637849Z",
     "start_time": "2025-04-30T07:26:19.612164Z"
    },
    "scrolled": false
   },
   "outputs": [
    {
     "data": {
      "text/html": [
       "<div>\n",
       "<style scoped>\n",
       "    .dataframe tbody tr th:only-of-type {\n",
       "        vertical-align: middle;\n",
       "    }\n",
       "\n",
       "    .dataframe tbody tr th {\n",
       "        vertical-align: top;\n",
       "    }\n",
       "\n",
       "    .dataframe thead th {\n",
       "        text-align: right;\n",
       "    }\n",
       "</style>\n",
       "<table border=\"1\" class=\"dataframe\">\n",
       "  <thead>\n",
       "    <tr style=\"text-align: right;\">\n",
       "      <th></th>\n",
       "      <th>gene_id</th>\n",
       "      <th>gene_name</th>\n",
       "      <th>disease_id</th>\n",
       "      <th>disease_name</th>\n",
       "      <th>source_db</th>\n",
       "      <th>evidence_type</th>\n",
       "      <th>confidence_score</th>\n",
       "      <th>gene_nodenorm_id</th>\n",
       "      <th>gene_nodenorm_label</th>\n",
       "      <th>disease_nodenorm_id</th>\n",
       "      <th>disease_nodenorm_label</th>\n",
       "    </tr>\n",
       "  </thead>\n",
       "  <tbody>\n",
       "    <tr>\n",
       "      <th>2213</th>\n",
       "      <td>ENSEMBL:ENSP00000361021</td>\n",
       "      <td>PTEN</td>\n",
       "      <td>DOID:0050657</td>\n",
       "      <td>Bannayan-Riley-Ruvalcaba syndrome</td>\n",
       "      <td>MedlinePlus</td>\n",
       "      <td>CURATED</td>\n",
       "      <td>5</td>\n",
       "      <td>UniProtKB:P60484-1</td>\n",
       "      <td>phosphatidylinositol 3,4,5-trisphosphate 3-pho...</td>\n",
       "      <td>MONDO:0016063</td>\n",
       "      <td>Cowden disease</td>\n",
       "    </tr>\n",
       "    <tr>\n",
       "      <th>2221</th>\n",
       "      <td>ENSEMBL:ENSP00000361021</td>\n",
       "      <td>PTEN</td>\n",
       "      <td>DOID:6457</td>\n",
       "      <td>Cowden syndrome</td>\n",
       "      <td>MedlinePlus</td>\n",
       "      <td>CURATED</td>\n",
       "      <td>5</td>\n",
       "      <td>UniProtKB:P60484-1</td>\n",
       "      <td>phosphatidylinositol 3,4,5-trisphosphate 3-pho...</td>\n",
       "      <td>MONDO:0016063</td>\n",
       "      <td>Cowden disease</td>\n",
       "    </tr>\n",
       "    <tr>\n",
       "      <th>340</th>\n",
       "      <td>ENSEMBL:ENSP00000251595</td>\n",
       "      <td>HBA2</td>\n",
       "      <td>DOID:1099</td>\n",
       "      <td>Alpha thalassemia</td>\n",
       "      <td>MedlinePlus</td>\n",
       "      <td>CURATED</td>\n",
       "      <td>5</td>\n",
       "      <td>UniProtKB:P69905</td>\n",
       "      <td>HBA_HUMAN Hemoglobin subunit alpha (sprot)</td>\n",
       "      <td>MONDO:0011399</td>\n",
       "      <td>alpha thalassemia spectrum</td>\n",
       "    </tr>\n",
       "    <tr>\n",
       "      <th>1387</th>\n",
       "      <td>ENSEMBL:ENSP00000322421</td>\n",
       "      <td>HBA1</td>\n",
       "      <td>DOID:1099</td>\n",
       "      <td>Alpha thalassemia</td>\n",
       "      <td>MedlinePlus</td>\n",
       "      <td>CURATED</td>\n",
       "      <td>5</td>\n",
       "      <td>UniProtKB:P69905</td>\n",
       "      <td>HBA_HUMAN Hemoglobin subunit alpha (sprot)</td>\n",
       "      <td>MONDO:0011399</td>\n",
       "      <td>alpha thalassemia spectrum</td>\n",
       "    </tr>\n",
       "    <tr>\n",
       "      <th>117</th>\n",
       "      <td>ENSEMBL:ENSP00000221700</td>\n",
       "      <td>CYP4F2</td>\n",
       "      <td>DOID:0080665</td>\n",
       "      <td>Warfarin resistance</td>\n",
       "      <td>MedlinePlus</td>\n",
       "      <td>CURATED</td>\n",
       "      <td>5</td>\n",
       "      <td>UniProtKB:P78329-1</td>\n",
       "      <td>cytochrome P450 4F2 isoform h1 (human)</td>\n",
       "      <td>MONDO:0007390</td>\n",
       "      <td>coumarin resistance</td>\n",
       "    </tr>\n",
       "    <tr>\n",
       "      <th>118</th>\n",
       "      <td>ENSEMBL:ENSP00000221700</td>\n",
       "      <td>CYP4F2</td>\n",
       "      <td>DOID:0080666</td>\n",
       "      <td>Warfarin sensitivity</td>\n",
       "      <td>MedlinePlus</td>\n",
       "      <td>CURATED</td>\n",
       "      <td>5</td>\n",
       "      <td>UniProtKB:P78329-1</td>\n",
       "      <td>cytochrome P450 4F2 isoform h1 (human)</td>\n",
       "      <td>MONDO:0007390</td>\n",
       "      <td>coumarin resistance</td>\n",
       "    </tr>\n",
       "    <tr>\n",
       "      <th>2536</th>\n",
       "      <td>ENSEMBL:ENSP00000370083</td>\n",
       "      <td>SMN1</td>\n",
       "      <td>DOID:12377</td>\n",
       "      <td>Spinal muscular atrophy</td>\n",
       "      <td>MedlinePlus</td>\n",
       "      <td>CURATED</td>\n",
       "      <td>5</td>\n",
       "      <td>UniProtKB:Q16637-1</td>\n",
       "      <td>survival motor neuron protein isoform 1 (human)</td>\n",
       "      <td>MONDO:0001516</td>\n",
       "      <td>spinal muscular atrophy</td>\n",
       "    </tr>\n",
       "    <tr>\n",
       "      <th>2539</th>\n",
       "      <td>ENSEMBL:ENSP00000370119</td>\n",
       "      <td>SMN2</td>\n",
       "      <td>DOID:12377</td>\n",
       "      <td>Spinal muscular atrophy</td>\n",
       "      <td>MedlinePlus</td>\n",
       "      <td>CURATED</td>\n",
       "      <td>5</td>\n",
       "      <td>UniProtKB:Q16637-1</td>\n",
       "      <td>survival motor neuron protein isoform 1 (human)</td>\n",
       "      <td>MONDO:0001516</td>\n",
       "      <td>spinal muscular atrophy</td>\n",
       "    </tr>\n",
       "    <tr>\n",
       "      <th>2690</th>\n",
       "      <td>ENSEMBL:ENSP00000378426</td>\n",
       "      <td>VKORC1</td>\n",
       "      <td>DOID:0080665</td>\n",
       "      <td>Warfarin resistance</td>\n",
       "      <td>MedlinePlus</td>\n",
       "      <td>CURATED</td>\n",
       "      <td>5</td>\n",
       "      <td>UniProtKB:Q9BQB6-1</td>\n",
       "      <td>vitamin K epoxide reductase complex subunit 1 ...</td>\n",
       "      <td>MONDO:0007390</td>\n",
       "      <td>coumarin resistance</td>\n",
       "    </tr>\n",
       "    <tr>\n",
       "      <th>2691</th>\n",
       "      <td>ENSEMBL:ENSP00000378426</td>\n",
       "      <td>VKORC1</td>\n",
       "      <td>DOID:0080666</td>\n",
       "      <td>Warfarin sensitivity</td>\n",
       "      <td>MedlinePlus</td>\n",
       "      <td>CURATED</td>\n",
       "      <td>5</td>\n",
       "      <td>UniProtKB:Q9BQB6-1</td>\n",
       "      <td>vitamin K epoxide reductase complex subunit 1 ...</td>\n",
       "      <td>MONDO:0007390</td>\n",
       "      <td>coumarin resistance</td>\n",
       "    </tr>\n",
       "  </tbody>\n",
       "</table>\n",
       "</div>"
      ],
      "text/plain": [
       "                      gene_id gene_name    disease_id  \\\n",
       "2213  ENSEMBL:ENSP00000361021      PTEN  DOID:0050657   \n",
       "2221  ENSEMBL:ENSP00000361021      PTEN     DOID:6457   \n",
       "340   ENSEMBL:ENSP00000251595      HBA2     DOID:1099   \n",
       "1387  ENSEMBL:ENSP00000322421      HBA1     DOID:1099   \n",
       "117   ENSEMBL:ENSP00000221700    CYP4F2  DOID:0080665   \n",
       "118   ENSEMBL:ENSP00000221700    CYP4F2  DOID:0080666   \n",
       "2536  ENSEMBL:ENSP00000370083      SMN1    DOID:12377   \n",
       "2539  ENSEMBL:ENSP00000370119      SMN2    DOID:12377   \n",
       "2690  ENSEMBL:ENSP00000378426    VKORC1  DOID:0080665   \n",
       "2691  ENSEMBL:ENSP00000378426    VKORC1  DOID:0080666   \n",
       "\n",
       "                           disease_name    source_db evidence_type  \\\n",
       "2213  Bannayan-Riley-Ruvalcaba syndrome  MedlinePlus       CURATED   \n",
       "2221                    Cowden syndrome  MedlinePlus       CURATED   \n",
       "340                   Alpha thalassemia  MedlinePlus       CURATED   \n",
       "1387                  Alpha thalassemia  MedlinePlus       CURATED   \n",
       "117                 Warfarin resistance  MedlinePlus       CURATED   \n",
       "118                Warfarin sensitivity  MedlinePlus       CURATED   \n",
       "2536            Spinal muscular atrophy  MedlinePlus       CURATED   \n",
       "2539            Spinal muscular atrophy  MedlinePlus       CURATED   \n",
       "2690                Warfarin resistance  MedlinePlus       CURATED   \n",
       "2691               Warfarin sensitivity  MedlinePlus       CURATED   \n",
       "\n",
       "      confidence_score    gene_nodenorm_id  \\\n",
       "2213                 5  UniProtKB:P60484-1   \n",
       "2221                 5  UniProtKB:P60484-1   \n",
       "340                  5    UniProtKB:P69905   \n",
       "1387                 5    UniProtKB:P69905   \n",
       "117                  5  UniProtKB:P78329-1   \n",
       "118                  5  UniProtKB:P78329-1   \n",
       "2536                 5  UniProtKB:Q16637-1   \n",
       "2539                 5  UniProtKB:Q16637-1   \n",
       "2690                 5  UniProtKB:Q9BQB6-1   \n",
       "2691                 5  UniProtKB:Q9BQB6-1   \n",
       "\n",
       "                                    gene_nodenorm_label disease_nodenorm_id  \\\n",
       "2213  phosphatidylinositol 3,4,5-trisphosphate 3-pho...       MONDO:0016063   \n",
       "2221  phosphatidylinositol 3,4,5-trisphosphate 3-pho...       MONDO:0016063   \n",
       "340          HBA_HUMAN Hemoglobin subunit alpha (sprot)       MONDO:0011399   \n",
       "1387         HBA_HUMAN Hemoglobin subunit alpha (sprot)       MONDO:0011399   \n",
       "117              cytochrome P450 4F2 isoform h1 (human)       MONDO:0007390   \n",
       "118              cytochrome P450 4F2 isoform h1 (human)       MONDO:0007390   \n",
       "2536    survival motor neuron protein isoform 1 (human)       MONDO:0001516   \n",
       "2539    survival motor neuron protein isoform 1 (human)       MONDO:0001516   \n",
       "2690  vitamin K epoxide reductase complex subunit 1 ...       MONDO:0007390   \n",
       "2691  vitamin K epoxide reductase complex subunit 1 ...       MONDO:0007390   \n",
       "\n",
       "          disease_nodenorm_label  \n",
       "2213              Cowden disease  \n",
       "2221              Cowden disease  \n",
       "340   alpha thalassemia spectrum  \n",
       "1387  alpha thalassemia spectrum  \n",
       "117          coumarin resistance  \n",
       "118          coumarin resistance  \n",
       "2536     spinal muscular atrophy  \n",
       "2539     spinal muscular atrophy  \n",
       "2690         coumarin resistance  \n",
       "2691         coumarin resistance  "
      ]
     },
     "execution_count": 108,
     "metadata": {},
     "output_type": "execute_result"
    }
   ],
   "source": [
    "df_knowledge_noTotalDups = df_knowledge.drop_duplicates()\n",
    "\n",
    "df_knowledge_noTotalDups[df_knowledge_noTotalDups.duplicated(subset=[\"gene_nodenorm_id\", \"disease_nodenorm_id\", \"source_db\"], keep=False)].sort_values(by=[\"gene_nodenorm_id\", \"disease_nodenorm_id\"])"
   ]
  },
  {
   "cell_type": "code",
   "execution_count": 119,
   "id": "4b74b5d6",
   "metadata": {
    "ExecuteTime": {
     "end_time": "2025-04-30T18:58:45.913904Z",
     "start_time": "2025-04-30T18:58:45.755821Z"
    },
    "scrolled": false
   },
   "outputs": [
    {
     "data": {
      "text/plain": [
       "(864, 11)"
      ]
     },
     "execution_count": 119,
     "metadata": {},
     "output_type": "execute_result"
    },
    {
     "data": {
      "text/html": [
       "<div>\n",
       "<style scoped>\n",
       "    .dataframe tbody tr th:only-of-type {\n",
       "        vertical-align: middle;\n",
       "    }\n",
       "\n",
       "    .dataframe tbody tr th {\n",
       "        vertical-align: top;\n",
       "    }\n",
       "\n",
       "    .dataframe thead th {\n",
       "        text-align: right;\n",
       "    }\n",
       "</style>\n",
       "<table border=\"1\" class=\"dataframe\">\n",
       "  <thead>\n",
       "    <tr style=\"text-align: right;\">\n",
       "      <th></th>\n",
       "      <th>gene_id</th>\n",
       "      <th>gene_name</th>\n",
       "      <th>disease_id</th>\n",
       "      <th>disease_name</th>\n",
       "      <th>z_score</th>\n",
       "      <th>confidence_score</th>\n",
       "      <th>url</th>\n",
       "      <th>gene_nodenorm_id</th>\n",
       "      <th>gene_nodenorm_label</th>\n",
       "      <th>disease_nodenorm_id</th>\n",
       "      <th>disease_nodenorm_label</th>\n",
       "    </tr>\n",
       "  </thead>\n",
       "  <tbody>\n",
       "    <tr>\n",
       "      <th>34194</th>\n",
       "      <td>ENSEMBL:ENSP00000256958</td>\n",
       "      <td>SLCO1B1</td>\n",
       "      <td>DOID:0080666</td>\n",
       "      <td>Warfarin sensitivity</td>\n",
       "      <td>4.102</td>\n",
       "      <td>2.051</td>\n",
       "      <td>https://diseases.jensenlab.org/Entity?document...</td>\n",
       "      <td>NCBIGene:10599</td>\n",
       "      <td>SLCO1B1</td>\n",
       "      <td>MONDO:0007390</td>\n",
       "      <td>coumarin resistance</td>\n",
       "    </tr>\n",
       "    <tr>\n",
       "      <th>34222</th>\n",
       "      <td>ENSEMBL:ENSP00000256958</td>\n",
       "      <td>SLCO1B1</td>\n",
       "      <td>DOID:0080665</td>\n",
       "      <td>Warfarin resistance</td>\n",
       "      <td>3.239</td>\n",
       "      <td>1.619</td>\n",
       "      <td>https://diseases.jensenlab.org/Entity?document...</td>\n",
       "      <td>NCBIGene:10599</td>\n",
       "      <td>SLCO1B1</td>\n",
       "      <td>MONDO:0007390</td>\n",
       "      <td>coumarin resistance</td>\n",
       "    </tr>\n",
       "    <tr>\n",
       "      <th>80483</th>\n",
       "      <td>ENSEMBL:ENSP00000299198</td>\n",
       "      <td>CKB</td>\n",
       "      <td>DOID:1575</td>\n",
       "      <td>Rheumatic disease</td>\n",
       "      <td>4.732</td>\n",
       "      <td>2.366</td>\n",
       "      <td>https://diseases.jensenlab.org/Entity?document...</td>\n",
       "      <td>NCBIGene:1152</td>\n",
       "      <td>CKB</td>\n",
       "      <td>MONDO:0005554</td>\n",
       "      <td>Rheumatism</td>\n",
       "    </tr>\n",
       "    <tr>\n",
       "      <th>80491</th>\n",
       "      <td>ENSEMBL:ENSP00000299198</td>\n",
       "      <td>CKB</td>\n",
       "      <td>DOID:854</td>\n",
       "      <td>Collagen disease</td>\n",
       "      <td>4.492</td>\n",
       "      <td>2.246</td>\n",
       "      <td>https://diseases.jensenlab.org/Entity?document...</td>\n",
       "      <td>NCBIGene:1152</td>\n",
       "      <td>CKB</td>\n",
       "      <td>MONDO:0005554</td>\n",
       "      <td>Rheumatism</td>\n",
       "    </tr>\n",
       "    <tr>\n",
       "      <th>10752</th>\n",
       "      <td>ENSEMBL:ENSP00000221476</td>\n",
       "      <td>CKM</td>\n",
       "      <td>DOID:1575</td>\n",
       "      <td>Rheumatic disease</td>\n",
       "      <td>4.738</td>\n",
       "      <td>2.369</td>\n",
       "      <td>https://diseases.jensenlab.org/Entity?document...</td>\n",
       "      <td>NCBIGene:1158</td>\n",
       "      <td>CKM</td>\n",
       "      <td>MONDO:0005554</td>\n",
       "      <td>Rheumatism</td>\n",
       "    </tr>\n",
       "    <tr>\n",
       "      <th>...</th>\n",
       "      <td>...</td>\n",
       "      <td>...</td>\n",
       "      <td>...</td>\n",
       "      <td>...</td>\n",
       "      <td>...</td>\n",
       "      <td>...</td>\n",
       "      <td>...</td>\n",
       "      <td>...</td>\n",
       "      <td>...</td>\n",
       "      <td>...</td>\n",
       "      <td>...</td>\n",
       "    </tr>\n",
       "    <tr>\n",
       "      <th>85944</th>\n",
       "      <td>ENSEMBL:ENSP00000303178</td>\n",
       "      <td>CDY1B</td>\n",
       "      <td>DOID:12336</td>\n",
       "      <td>Male infertility</td>\n",
       "      <td>5.443</td>\n",
       "      <td>2.721</td>\n",
       "      <td>https://diseases.jensenlab.org/Entity?document...</td>\n",
       "      <td>UniProtKB:Q9Y6F8-2</td>\n",
       "      <td>testis-specific chromodomain protein Y 1 isofo...</td>\n",
       "      <td>MONDO:0005372</td>\n",
       "      <td>male infertility</td>\n",
       "    </tr>\n",
       "    <tr>\n",
       "      <th>85748</th>\n",
       "      <td>ENSEMBL:ENSP00000302968</td>\n",
       "      <td>CDY1</td>\n",
       "      <td>DOID:1921</td>\n",
       "      <td>Klinefelter syndrome</td>\n",
       "      <td>4.217</td>\n",
       "      <td>2.108</td>\n",
       "      <td>https://diseases.jensenlab.org/Entity?document...</td>\n",
       "      <td>UniProtKB:Q9Y6F8-2</td>\n",
       "      <td>testis-specific chromodomain protein Y 1 isofo...</td>\n",
       "      <td>MONDO:0006823</td>\n",
       "      <td>Klinefelter syndrome</td>\n",
       "    </tr>\n",
       "    <tr>\n",
       "      <th>85946</th>\n",
       "      <td>ENSEMBL:ENSP00000303178</td>\n",
       "      <td>CDY1B</td>\n",
       "      <td>DOID:1921</td>\n",
       "      <td>Klinefelter syndrome</td>\n",
       "      <td>3.728</td>\n",
       "      <td>1.864</td>\n",
       "      <td>https://diseases.jensenlab.org/Entity?document...</td>\n",
       "      <td>UniProtKB:Q9Y6F8-2</td>\n",
       "      <td>testis-specific chromodomain protein Y 1 isofo...</td>\n",
       "      <td>MONDO:0006823</td>\n",
       "      <td>Klinefelter syndrome</td>\n",
       "    </tr>\n",
       "    <tr>\n",
       "      <th>85750</th>\n",
       "      <td>ENSEMBL:ENSP00000302968</td>\n",
       "      <td>CDY1</td>\n",
       "      <td>DOID:11383</td>\n",
       "      <td>Cryptorchidism</td>\n",
       "      <td>3.723</td>\n",
       "      <td>1.861</td>\n",
       "      <td>https://diseases.jensenlab.org/Entity?document...</td>\n",
       "      <td>UniProtKB:Q9Y6F8-2</td>\n",
       "      <td>testis-specific chromodomain protein Y 1 isofo...</td>\n",
       "      <td>MONDO:0009047</td>\n",
       "      <td>cryptorchidism</td>\n",
       "    </tr>\n",
       "    <tr>\n",
       "      <th>85948</th>\n",
       "      <td>ENSEMBL:ENSP00000303178</td>\n",
       "      <td>CDY1B</td>\n",
       "      <td>DOID:11383</td>\n",
       "      <td>Cryptorchidism</td>\n",
       "      <td>3.599</td>\n",
       "      <td>1.800</td>\n",
       "      <td>https://diseases.jensenlab.org/Entity?document...</td>\n",
       "      <td>UniProtKB:Q9Y6F8-2</td>\n",
       "      <td>testis-specific chromodomain protein Y 1 isofo...</td>\n",
       "      <td>MONDO:0009047</td>\n",
       "      <td>cryptorchidism</td>\n",
       "    </tr>\n",
       "  </tbody>\n",
       "</table>\n",
       "<p>864 rows × 11 columns</p>\n",
       "</div>"
      ],
      "text/plain": [
       "                       gene_id gene_name    disease_id          disease_name  \\\n",
       "34194  ENSEMBL:ENSP00000256958   SLCO1B1  DOID:0080666  Warfarin sensitivity   \n",
       "34222  ENSEMBL:ENSP00000256958   SLCO1B1  DOID:0080665   Warfarin resistance   \n",
       "80483  ENSEMBL:ENSP00000299198       CKB     DOID:1575     Rheumatic disease   \n",
       "80491  ENSEMBL:ENSP00000299198       CKB      DOID:854      Collagen disease   \n",
       "10752  ENSEMBL:ENSP00000221476       CKM     DOID:1575     Rheumatic disease   \n",
       "...                        ...       ...           ...                   ...   \n",
       "85944  ENSEMBL:ENSP00000303178     CDY1B    DOID:12336      Male infertility   \n",
       "85748  ENSEMBL:ENSP00000302968      CDY1     DOID:1921  Klinefelter syndrome   \n",
       "85946  ENSEMBL:ENSP00000303178     CDY1B     DOID:1921  Klinefelter syndrome   \n",
       "85750  ENSEMBL:ENSP00000302968      CDY1    DOID:11383        Cryptorchidism   \n",
       "85948  ENSEMBL:ENSP00000303178     CDY1B    DOID:11383        Cryptorchidism   \n",
       "\n",
       "       z_score  confidence_score  \\\n",
       "34194    4.102             2.051   \n",
       "34222    3.239             1.619   \n",
       "80483    4.732             2.366   \n",
       "80491    4.492             2.246   \n",
       "10752    4.738             2.369   \n",
       "...        ...               ...   \n",
       "85944    5.443             2.721   \n",
       "85748    4.217             2.108   \n",
       "85946    3.728             1.864   \n",
       "85750    3.723             1.861   \n",
       "85948    3.599             1.800   \n",
       "\n",
       "                                                     url    gene_nodenorm_id  \\\n",
       "34194  https://diseases.jensenlab.org/Entity?document...      NCBIGene:10599   \n",
       "34222  https://diseases.jensenlab.org/Entity?document...      NCBIGene:10599   \n",
       "80483  https://diseases.jensenlab.org/Entity?document...       NCBIGene:1152   \n",
       "80491  https://diseases.jensenlab.org/Entity?document...       NCBIGene:1152   \n",
       "10752  https://diseases.jensenlab.org/Entity?document...       NCBIGene:1158   \n",
       "...                                                  ...                 ...   \n",
       "85944  https://diseases.jensenlab.org/Entity?document...  UniProtKB:Q9Y6F8-2   \n",
       "85748  https://diseases.jensenlab.org/Entity?document...  UniProtKB:Q9Y6F8-2   \n",
       "85946  https://diseases.jensenlab.org/Entity?document...  UniProtKB:Q9Y6F8-2   \n",
       "85750  https://diseases.jensenlab.org/Entity?document...  UniProtKB:Q9Y6F8-2   \n",
       "85948  https://diseases.jensenlab.org/Entity?document...  UniProtKB:Q9Y6F8-2   \n",
       "\n",
       "                                     gene_nodenorm_label disease_nodenorm_id  \\\n",
       "34194                                            SLCO1B1       MONDO:0007390   \n",
       "34222                                            SLCO1B1       MONDO:0007390   \n",
       "80483                                                CKB       MONDO:0005554   \n",
       "80491                                                CKB       MONDO:0005554   \n",
       "10752                                                CKM       MONDO:0005554   \n",
       "...                                                  ...                 ...   \n",
       "85944  testis-specific chromodomain protein Y 1 isofo...       MONDO:0005372   \n",
       "85748  testis-specific chromodomain protein Y 1 isofo...       MONDO:0006823   \n",
       "85946  testis-specific chromodomain protein Y 1 isofo...       MONDO:0006823   \n",
       "85750  testis-specific chromodomain protein Y 1 isofo...       MONDO:0009047   \n",
       "85948  testis-specific chromodomain protein Y 1 isofo...       MONDO:0009047   \n",
       "\n",
       "      disease_nodenorm_label  \n",
       "34194    coumarin resistance  \n",
       "34222    coumarin resistance  \n",
       "80483             Rheumatism  \n",
       "80491             Rheumatism  \n",
       "10752             Rheumatism  \n",
       "...                      ...  \n",
       "85944       male infertility  \n",
       "85748   Klinefelter syndrome  \n",
       "85946   Klinefelter syndrome  \n",
       "85750         cryptorchidism  \n",
       "85948         cryptorchidism  \n",
       "\n",
       "[864 rows x 11 columns]"
      ]
     },
     "execution_count": 119,
     "metadata": {},
     "output_type": "execute_result"
    }
   ],
   "source": [
    "df_textmining[df_textmining.duplicated(subset=[\"gene_nodenorm_id\", \"disease_nodenorm_id\"], keep=False)].sort_values(by=[\"gene_nodenorm_id\", \"disease_nodenorm_id\"]).shape\n",
    "\n",
    "df_textmining[df_textmining.duplicated(subset=[\"gene_nodenorm_id\", \"disease_nodenorm_id\"], keep=False)].sort_values(by=[\"gene_nodenorm_id\", \"disease_nodenorm_id\"])\n"
   ]
  },
  {
   "cell_type": "markdown",
   "id": "38ebbe59",
   "metadata": {},
   "source": [
    "## Generating documents"
   ]
  },
  {
   "cell_type": "markdown",
   "id": "9f01e8af",
   "metadata": {},
   "source": [
    "### Rows not included"
   ]
  },
  {
   "cell_type": "markdown",
   "id": "73e93ccc",
   "metadata": {},
   "source": [
    "<div class=\"alert alert-block alert-info\">\n",
    "\n",
    "* knowledge's UniProtKB-KW data\n",
    "* No ENSP in gene_id columns (seemed to be names, couldn't NodeNorm)\n",
    "* No DOID in disease_id columns (can't NodeNorm AmyCo)\n",
    "* NodeNorm mapping failures for gene or disease IDs\n",
    "* duplicates: will check when generating docs, not create if already did"
   ]
  },
  {
   "cell_type": "markdown",
   "id": "79ebea07",
   "metadata": {},
   "source": [
    "### Columns not included"
   ]
  },
  {
   "cell_type": "markdown",
   "id": "c0c7b27e",
   "metadata": {},
   "source": [
    "<div class=\"alert alert-block alert-info\">\n",
    "\n",
    "- gene_name\n",
    "- disease_name\n",
    "- evidence_type: same for all rows, not needed\n",
    "- gene_nodenorm_label: can get elsewhere?\n",
    "- disease_nodenorm_label: can get elsewhere?"
   ]
  },
  {
   "cell_type": "code",
   "execution_count": 65,
   "id": "f314f25d",
   "metadata": {
    "ExecuteTime": {
     "end_time": "2025-04-24T07:08:13.452457Z",
     "start_time": "2025-04-24T07:08:13.447264Z"
    }
   },
   "outputs": [
    {
     "data": {
      "text/plain": [
       "Index(['gene_id', 'gene_name', 'disease_id', 'disease_name', 'z_score',\n",
       "       'confidence_score', 'url', 'gene_nodenorm_id', 'gene_nodenorm_label',\n",
       "       'disease_nodenorm_id', 'disease_nodenorm_label'],\n",
       "      dtype='object')"
      ]
     },
     "execution_count": 65,
     "metadata": {},
     "output_type": "execute_result"
    },
    {
     "data": {
      "text/plain": [
       "Index(['gene_id', 'gene_name', 'disease_id', 'disease_name', 'source_db',\n",
       "       'evidence_type', 'confidence_score', 'gene_nodenorm_id',\n",
       "       'gene_nodenorm_label', 'disease_nodenorm_id', 'disease_nodenorm_label'],\n",
       "      dtype='object')"
      ]
     },
     "execution_count": 65,
     "metadata": {},
     "output_type": "execute_result"
    }
   ],
   "source": [
    "df_textmining.columns\n",
    "\n",
    "df_knowledge.columns"
   ]
  },
  {
   "cell_type": "markdown",
   "id": "49145525",
   "metadata": {},
   "source": [
    "### File: List of TRAPI edges "
   ]
  },
  {
   "cell_type": "code",
   "execution_count": 66,
   "id": "789f3c0c",
   "metadata": {
    "ExecuteTime": {
     "end_time": "2025-04-24T07:08:26.464350Z",
     "start_time": "2025-04-24T07:08:26.431093Z"
    }
   },
   "outputs": [],
   "source": [
    "## put in parser!!\n",
    "## want jsonlines format\n",
    "\n",
    "import jsonlines"
   ]
  },
  {
   "cell_type": "code",
   "execution_count": 85,
   "id": "1bea6afb",
   "metadata": {
    "ExecuteTime": {
     "end_time": "2025-04-24T08:03:01.377395Z",
     "start_time": "2025-04-24T08:03:01.342944Z"
    }
   },
   "outputs": [
    {
     "name": "stdout",
     "output_type": "stream",
     "text": [
      "duplicate row encountered: ENSEMBL:ENSP00000269703_DOID:0060655_MedlinePlus\n"
     ]
    }
   ],
   "source": [
    "## code chunk for testing parts of inner code\n",
    "\n",
    "with jsonlines.open('DISEASES_trapi_edges.jsonl', mode='w', compact=True) as trapi_writer:\n",
    "    knowledge_tally = set()\n",
    "    \n",
    "    ## using itertuples because it's faster, preserves datatypes\n",
    "    for row in df_knowledge.itertuples(index=False):\n",
    "        ## construct row abbreviation: needs source_db!\n",
    "        temp = row.gene_id + \"_\" + row.disease_id + \"_\" + row.source_db\n",
    "        \n",
    "        if temp not in knowledge_tally:\n",
    "            knowledge_tally.add(temp)\n",
    "\n",
    "            document = {\n",
    "                ## simple assignments: no if\n",
    "                \"subject\": row.gene_nodenorm_id,\n",
    "                \"predicate\": \"biolink:genetically_associated_with\",\n",
    "                \"object\": row.disease_nodenorm_id,\n",
    "                \"attributes\": [\n",
    "                    {\n",
    "                        \"attribute_type_id\": \"biolink:knowledge_level\",\n",
    "                        \"value\": \"knowledge_assertion\"\n",
    "                    },\n",
    "                    {\n",
    "                        \"attribute_type_id\": \"biolink:agent_type\",\n",
    "                        \"value\": \"manual_agent\"\n",
    "                    },\n",
    "                    {   ## needs data-modeling/TRAPI validation review\n",
    "                        \"attribute_type_id\": \"SEPIO:0000168\",\n",
    "                        \"value\": row.confidence_score\n",
    "                    },\n",
    "                    {\n",
    "                        \"attribute_type_id\": \"biolink:original_subject\",\n",
    "                        \"original_attribute_name\": \"gene_id\",  ## original column name\n",
    "                        \"value\": row.gene_id\n",
    "                    },\n",
    "                    {\n",
    "                        \"attribute_type_id\": \"biolink:original_object\",\n",
    "                        \"original_attribute_name\": \"disease_id\",  ## original column name\n",
    "                        \"value\": row.disease_id\n",
    "                    },\n",
    "                ]\n",
    "            }\n",
    "            ## sources: depends on source_db value\n",
    "            if row.source_db == \"MedlinePlus\":\n",
    "                document[\"sources\"] = [\n",
    "                    {\n",
    "                        \"resource_id\": \"infores:medlineplus\",\n",
    "                        \"resource_role\": \"primary_knowledge_source\"\n",
    "                    },\n",
    "                    {\n",
    "                        \"resource_id\": \"infores:diseases\",\n",
    "                        \"resource_role\": \"aggregator_knowledge_source\",\n",
    "                        \"upstream_resource_ids\": [\"infores:medlineplus\"]\n",
    "                    }\n",
    "                ]\n",
    "            elif row.source_db == \"AmyCo\":\n",
    "                document[\"sources\"] = [\n",
    "                    {   ## not in infores registry yet!\n",
    "                        \"resource_id\": \"infores:amyco\",\n",
    "                        \"resource_role\": \"primary_knowledge_source\"\n",
    "                    },\n",
    "                    {\n",
    "                        \"resource_id\": \"infores:diseases\",\n",
    "                        \"resource_role\": \"aggregator_knowledge_source\",\n",
    "                        \"upstream_resource_ids\": [\"infores:amyco\"]\n",
    "                    }\n",
    "                ]\n",
    "            else:\n",
    "                raise ValueError(f\"Unexpected source_db value during source mapping: {row.source_db}. Adjust parser.\")\n",
    "            \n",
    "            ## doing so it doesn't print\n",
    "            bytes = trapi_writer.write(document)\n",
    "        else:\n",
    "            ## won't write the document\n",
    "            print(f\"duplicate row encountered: {temp}\")\n",
    "            break"
   ]
  },
  {
   "cell_type": "code",
   "execution_count": 93,
   "id": "4692267d",
   "metadata": {
    "ExecuteTime": {
     "end_time": "2025-04-29T07:35:39.083155Z",
     "start_time": "2025-04-29T07:35:32.178874Z"
    }
   },
   "outputs": [
    {
     "name": "stdout",
     "output_type": "stream",
     "text": [
      "duplicate row encountered: ENSEMBL:ENSP00000269703_DOID:0060655_MedlinePlus\n",
      "duplicate row encountered: ENSEMBL:ENSP00000272895_DOID:0060655_MedlinePlus\n",
      "duplicate row encountered: ENSEMBL:ENSP00000311687_DOID:0060655_MedlinePlus\n",
      "duplicate row encountered: ENSEMBL:ENSP00000342392_DOID:0050568_MedlinePlus\n",
      "duplicate row encountered: ENSEMBL:ENSP00000379845_DOID:0060407_MedlinePlus\n"
     ]
    }
   ],
   "source": [
    "## put into parser (format): \n",
    "## separate functions for textmined vs not, trapi edges vs kgx??\n",
    "## will want the tally to live outside the reading data -> writing loop, so it can\n",
    "##   keep track of what edges were already done\n",
    "\n",
    "## if needed to create two diff output file formats at same time, could initiate\n",
    "##   to separate writers and use both at once \n",
    "\n",
    "\n",
    "with jsonlines.open('DISEASES_trapi_edges.jsonl', mode='w', compact=True) as trapi_writer:\n",
    "    \n",
    "## text-mined data: \n",
    "    textmining_tally = set()\n",
    "    \n",
    "    ## using itertuples because it's faster, preserves datatypes\n",
    "    for row in df_textmining.itertuples(index=False):\n",
    "        ## construct row abbreviation\n",
    "        temp = row.gene_id + \"_\" + row.disease_id\n",
    "        \n",
    "        if temp not in textmining_tally:\n",
    "            textmining_tally.add(temp)\n",
    "\n",
    "            document = {\n",
    "                \"subject\": row.gene_nodenorm_id,\n",
    "                \"predicate\": \"biolink:occurs_together_in_literature_with\",\n",
    "                \"object\": row.disease_nodenorm_id,\n",
    "                \"sources\": [\n",
    "                    {\n",
    "                        \"resource_id\": \"infores:diseases\",\n",
    "                        \"resource_role\": \"primary_knowledge_source\",\n",
    "                        \"source_record_urls\": [row.url]\n",
    "                    }\n",
    "                ],\n",
    "                \"attributes\": [\n",
    "                    {\n",
    "                        \"attribute_type_id\": \"biolink:knowledge_level\",\n",
    "                        \"value\": \"statistical_association\"\n",
    "                    },\n",
    "                    {\n",
    "                        \"attribute_type_id\": \"biolink:agent_type\",\n",
    "                        \"value\": \"text_mining_agent\"\n",
    "                    },\n",
    "                    {   ## needs data-modeling/TRAPI validation review\n",
    "                        \"attribute_type_id\": \"STATO:0000104\",\n",
    "                        \"value\": row.z_score\n",
    "                    },\n",
    "                    {   ## needs data-modeling/TRAPI validation review\n",
    "                        \"attribute_type_id\": \"SEPIO:0000168\",\n",
    "                        \"value\": row.confidence_score\n",
    "                    },\n",
    "                    {\n",
    "                        \"attribute_type_id\": \"biolink:original_subject\",\n",
    "                        \"original_attribute_name\": \"gene_id\",  ## original column name\n",
    "                        \"value\": row.gene_id\n",
    "                    },\n",
    "                    {\n",
    "                        \"attribute_type_id\": \"biolink:original_object\",\n",
    "                        \"original_attribute_name\": \"disease_id\",  ## original column name\n",
    "                        \"value\": row.disease_id\n",
    "                    },\n",
    "                ]\n",
    "            }\n",
    "            ## doing so it doesn't print\n",
    "            bytes = trapi_writer.write(document)\n",
    "        else:\n",
    "            ## won't write the document\n",
    "            print(f\"duplicate row encountered: {temp}\")\n",
    "\n",
    "## knowledge data: parser - separate function (diff row abbreviation, document)\n",
    "    knowledge_tally = set()\n",
    "    \n",
    "    ## using itertuples because it's faster, preserves datatypes\n",
    "    for row in df_knowledge.itertuples(index=False):\n",
    "        ## construct row abbreviation: needs source_db!\n",
    "        temp = row.gene_id + \"_\" + row.disease_id + \"_\" + row.source_db\n",
    "        \n",
    "        if temp not in knowledge_tally:\n",
    "            knowledge_tally.add(temp)\n",
    "\n",
    "            document = {\n",
    "                ## simple assignments: no if\n",
    "                \"subject\": row.gene_nodenorm_id,\n",
    "                \"predicate\": \"biolink:genetically_associated_with\",\n",
    "                \"object\": row.disease_nodenorm_id,\n",
    "                \"attributes\": [\n",
    "                    {\n",
    "                        \"attribute_type_id\": \"biolink:knowledge_level\",\n",
    "                        \"value\": \"knowledge_assertion\"\n",
    "                    },\n",
    "                    {\n",
    "                        \"attribute_type_id\": \"biolink:agent_type\",\n",
    "                        \"value\": \"manual_agent\"\n",
    "                    },\n",
    "                    {   ## needs data-modeling/TRAPI validation review\n",
    "                        \"attribute_type_id\": \"SEPIO:0000168\",\n",
    "                        \"value\": row.confidence_score\n",
    "                    },\n",
    "                    {\n",
    "                        \"attribute_type_id\": \"biolink:original_subject\",\n",
    "                        \"original_attribute_name\": \"gene_id\",  ## original column name\n",
    "                        \"value\": row.gene_id\n",
    "                    },\n",
    "                    {\n",
    "                        \"attribute_type_id\": \"biolink:original_object\",\n",
    "                        \"original_attribute_name\": \"disease_id\",  ## original column name\n",
    "                        \"value\": row.disease_id\n",
    "                    },\n",
    "                ]\n",
    "            }\n",
    "            ## sources: depends on source_db value\n",
    "            if row.source_db == \"MedlinePlus\":\n",
    "                document[\"sources\"] = [\n",
    "                    {\n",
    "                        \"resource_id\": \"infores:medlineplus\",\n",
    "                        \"resource_role\": \"primary_knowledge_source\"\n",
    "                    },\n",
    "                    {\n",
    "                        \"resource_id\": \"infores:diseases\",\n",
    "                        \"resource_role\": \"aggregator_knowledge_source\",\n",
    "                        \"upstream_resource_ids\": [\"infores:medlineplus\"]\n",
    "                    }\n",
    "                ]\n",
    "            elif row.source_db == \"AmyCo\":\n",
    "                document[\"sources\"] = [\n",
    "                    {   ## not in infores registry yet!\n",
    "                        \"resource_id\": \"infores:amyco\",\n",
    "                        \"resource_role\": \"primary_knowledge_source\"\n",
    "                    },\n",
    "                    {\n",
    "                        \"resource_id\": \"infores:diseases\",\n",
    "                        \"resource_role\": \"aggregator_knowledge_source\",\n",
    "                        \"upstream_resource_ids\": [\"infores:amyco\"]\n",
    "                    }\n",
    "                ]\n",
    "            else:\n",
    "                raise ValueError(f\"Unexpected source_db value during source mapping: {row.source_db}. Adjust parser.\")\n",
    "            ## doing so it doesn't print\n",
    "            bytes = trapi_writer.write(document)\n",
    "        else:\n",
    "            ## won't write the document\n",
    "            print(f\"duplicate row encountered: {temp}\")"
   ]
  },
  {
   "cell_type": "code",
   "execution_count": 82,
   "id": "1f67b647",
   "metadata": {
    "ExecuteTime": {
     "end_time": "2025-04-24T07:48:18.910833Z",
     "start_time": "2025-04-24T07:48:18.894501Z"
    }
   },
   "outputs": [
    {
     "data": {
      "text/html": [
       "<div>\n",
       "<style scoped>\n",
       "    .dataframe tbody tr th:only-of-type {\n",
       "        vertical-align: middle;\n",
       "    }\n",
       "\n",
       "    .dataframe tbody tr th {\n",
       "        vertical-align: top;\n",
       "    }\n",
       "\n",
       "    .dataframe thead th {\n",
       "        text-align: right;\n",
       "    }\n",
       "</style>\n",
       "<table border=\"1\" class=\"dataframe\">\n",
       "  <thead>\n",
       "    <tr style=\"text-align: right;\">\n",
       "      <th></th>\n",
       "      <th>gene_id</th>\n",
       "      <th>gene_name</th>\n",
       "      <th>disease_id</th>\n",
       "      <th>disease_name</th>\n",
       "      <th>source_db</th>\n",
       "      <th>evidence_type</th>\n",
       "      <th>confidence_score</th>\n",
       "      <th>gene_nodenorm_id</th>\n",
       "      <th>gene_nodenorm_label</th>\n",
       "      <th>disease_nodenorm_id</th>\n",
       "      <th>disease_nodenorm_label</th>\n",
       "    </tr>\n",
       "  </thead>\n",
       "  <tbody>\n",
       "    <tr>\n",
       "      <th>798</th>\n",
       "      <td>ENSEMBL:ENSP00000269703</td>\n",
       "      <td>CYP4F22</td>\n",
       "      <td>DOID:0060655</td>\n",
       "      <td>Autosomal recessive congenital ichthyosis</td>\n",
       "      <td>MedlinePlus</td>\n",
       "      <td>CURATED</td>\n",
       "      <td>5</td>\n",
       "      <td>NCBIGene:126410</td>\n",
       "      <td>CYP4F22</td>\n",
       "      <td>MONDO:0017265</td>\n",
       "      <td>autosomal recessive congenital ichthyosis</td>\n",
       "    </tr>\n",
       "    <tr>\n",
       "      <th>799</th>\n",
       "      <td>ENSEMBL:ENSP00000269703</td>\n",
       "      <td>CYP4F22</td>\n",
       "      <td>DOID:0060655</td>\n",
       "      <td>Autosomal recessive congenital ichthyosis</td>\n",
       "      <td>MedlinePlus</td>\n",
       "      <td>CURATED</td>\n",
       "      <td>5</td>\n",
       "      <td>NCBIGene:126410</td>\n",
       "      <td>CYP4F22</td>\n",
       "      <td>MONDO:0017265</td>\n",
       "      <td>autosomal recessive congenital ichthyosis</td>\n",
       "    </tr>\n",
       "    <tr>\n",
       "      <th>823</th>\n",
       "      <td>ENSEMBL:ENSP00000272895</td>\n",
       "      <td>ABCA12</td>\n",
       "      <td>DOID:0060655</td>\n",
       "      <td>Autosomal recessive congenital ichthyosis</td>\n",
       "      <td>MedlinePlus</td>\n",
       "      <td>CURATED</td>\n",
       "      <td>5</td>\n",
       "      <td>UniProtKB:Q86UK0-1</td>\n",
       "      <td>glucosylceramide transporter ABCA12 isoform h1...</td>\n",
       "      <td>MONDO:0017265</td>\n",
       "      <td>autosomal recessive congenital ichthyosis</td>\n",
       "    </tr>\n",
       "    <tr>\n",
       "      <th>824</th>\n",
       "      <td>ENSEMBL:ENSP00000272895</td>\n",
       "      <td>ABCA12</td>\n",
       "      <td>DOID:0060655</td>\n",
       "      <td>Autosomal recessive congenital ichthyosis</td>\n",
       "      <td>MedlinePlus</td>\n",
       "      <td>CURATED</td>\n",
       "      <td>5</td>\n",
       "      <td>UniProtKB:Q86UK0-1</td>\n",
       "      <td>glucosylceramide transporter ABCA12 isoform h1...</td>\n",
       "      <td>MONDO:0017265</td>\n",
       "      <td>autosomal recessive congenital ichthyosis</td>\n",
       "    </tr>\n",
       "    <tr>\n",
       "      <th>1260</th>\n",
       "      <td>ENSEMBL:ENSP00000311687</td>\n",
       "      <td>NIPAL4</td>\n",
       "      <td>DOID:0060655</td>\n",
       "      <td>Autosomal recessive congenital ichthyosis</td>\n",
       "      <td>MedlinePlus</td>\n",
       "      <td>CURATED</td>\n",
       "      <td>5</td>\n",
       "      <td>UniProtKB:Q0D2K0-1</td>\n",
       "      <td>magnesium transporter NIPA4 isoform h1 (human)</td>\n",
       "      <td>MONDO:0017265</td>\n",
       "      <td>autosomal recessive congenital ichthyosis</td>\n",
       "    </tr>\n",
       "    <tr>\n",
       "      <th>1261</th>\n",
       "      <td>ENSEMBL:ENSP00000311687</td>\n",
       "      <td>NIPAL4</td>\n",
       "      <td>DOID:0060655</td>\n",
       "      <td>Autosomal recessive congenital ichthyosis</td>\n",
       "      <td>MedlinePlus</td>\n",
       "      <td>CURATED</td>\n",
       "      <td>5</td>\n",
       "      <td>UniProtKB:Q0D2K0-1</td>\n",
       "      <td>magnesium transporter NIPA4 isoform h1 (human)</td>\n",
       "      <td>MONDO:0017265</td>\n",
       "      <td>autosomal recessive congenital ichthyosis</td>\n",
       "    </tr>\n",
       "    <tr>\n",
       "      <th>1661</th>\n",
       "      <td>ENSEMBL:ENSP00000342392</td>\n",
       "      <td>MESP2</td>\n",
       "      <td>DOID:0050568</td>\n",
       "      <td>Spondylocostal dysostosis</td>\n",
       "      <td>MedlinePlus</td>\n",
       "      <td>CURATED</td>\n",
       "      <td>5</td>\n",
       "      <td>NCBIGene:145873</td>\n",
       "      <td>MESP2</td>\n",
       "      <td>MONDO:0000359</td>\n",
       "      <td>spondylocostal dysostosis</td>\n",
       "    </tr>\n",
       "    <tr>\n",
       "      <th>1662</th>\n",
       "      <td>ENSEMBL:ENSP00000342392</td>\n",
       "      <td>MESP2</td>\n",
       "      <td>DOID:0050568</td>\n",
       "      <td>Spondylocostal dysostosis</td>\n",
       "      <td>MedlinePlus</td>\n",
       "      <td>CURATED</td>\n",
       "      <td>5</td>\n",
       "      <td>NCBIGene:145873</td>\n",
       "      <td>MESP2</td>\n",
       "      <td>MONDO:0000359</td>\n",
       "      <td>spondylocostal dysostosis</td>\n",
       "    </tr>\n",
       "    <tr>\n",
       "      <th>2728</th>\n",
       "      <td>ENSEMBL:ENSP00000379845</td>\n",
       "      <td>ABAT</td>\n",
       "      <td>DOID:0060407</td>\n",
       "      <td>Chromosome 18q deletion syndrome</td>\n",
       "      <td>MedlinePlus</td>\n",
       "      <td>CURATED</td>\n",
       "      <td>5</td>\n",
       "      <td>NCBIGene:18</td>\n",
       "      <td>ABAT</td>\n",
       "      <td>MONDO:0011147</td>\n",
       "      <td>chromosome 18q deletion syndrome</td>\n",
       "    </tr>\n",
       "    <tr>\n",
       "      <th>2729</th>\n",
       "      <td>ENSEMBL:ENSP00000379845</td>\n",
       "      <td>ABAT</td>\n",
       "      <td>DOID:0060407</td>\n",
       "      <td>Chromosome 18q deletion syndrome</td>\n",
       "      <td>MedlinePlus</td>\n",
       "      <td>CURATED</td>\n",
       "      <td>5</td>\n",
       "      <td>NCBIGene:18</td>\n",
       "      <td>ABAT</td>\n",
       "      <td>MONDO:0011147</td>\n",
       "      <td>chromosome 18q deletion syndrome</td>\n",
       "    </tr>\n",
       "  </tbody>\n",
       "</table>\n",
       "</div>"
      ],
      "text/plain": [
       "                      gene_id gene_name    disease_id  \\\n",
       "798   ENSEMBL:ENSP00000269703   CYP4F22  DOID:0060655   \n",
       "799   ENSEMBL:ENSP00000269703   CYP4F22  DOID:0060655   \n",
       "823   ENSEMBL:ENSP00000272895    ABCA12  DOID:0060655   \n",
       "824   ENSEMBL:ENSP00000272895    ABCA12  DOID:0060655   \n",
       "1260  ENSEMBL:ENSP00000311687    NIPAL4  DOID:0060655   \n",
       "1261  ENSEMBL:ENSP00000311687    NIPAL4  DOID:0060655   \n",
       "1661  ENSEMBL:ENSP00000342392     MESP2  DOID:0050568   \n",
       "1662  ENSEMBL:ENSP00000342392     MESP2  DOID:0050568   \n",
       "2728  ENSEMBL:ENSP00000379845      ABAT  DOID:0060407   \n",
       "2729  ENSEMBL:ENSP00000379845      ABAT  DOID:0060407   \n",
       "\n",
       "                                   disease_name    source_db evidence_type  \\\n",
       "798   Autosomal recessive congenital ichthyosis  MedlinePlus       CURATED   \n",
       "799   Autosomal recessive congenital ichthyosis  MedlinePlus       CURATED   \n",
       "823   Autosomal recessive congenital ichthyosis  MedlinePlus       CURATED   \n",
       "824   Autosomal recessive congenital ichthyosis  MedlinePlus       CURATED   \n",
       "1260  Autosomal recessive congenital ichthyosis  MedlinePlus       CURATED   \n",
       "1261  Autosomal recessive congenital ichthyosis  MedlinePlus       CURATED   \n",
       "1661                  Spondylocostal dysostosis  MedlinePlus       CURATED   \n",
       "1662                  Spondylocostal dysostosis  MedlinePlus       CURATED   \n",
       "2728           Chromosome 18q deletion syndrome  MedlinePlus       CURATED   \n",
       "2729           Chromosome 18q deletion syndrome  MedlinePlus       CURATED   \n",
       "\n",
       "      confidence_score    gene_nodenorm_id  \\\n",
       "798                  5     NCBIGene:126410   \n",
       "799                  5     NCBIGene:126410   \n",
       "823                  5  UniProtKB:Q86UK0-1   \n",
       "824                  5  UniProtKB:Q86UK0-1   \n",
       "1260                 5  UniProtKB:Q0D2K0-1   \n",
       "1261                 5  UniProtKB:Q0D2K0-1   \n",
       "1661                 5     NCBIGene:145873   \n",
       "1662                 5     NCBIGene:145873   \n",
       "2728                 5         NCBIGene:18   \n",
       "2729                 5         NCBIGene:18   \n",
       "\n",
       "                                    gene_nodenorm_label disease_nodenorm_id  \\\n",
       "798                                             CYP4F22       MONDO:0017265   \n",
       "799                                             CYP4F22       MONDO:0017265   \n",
       "823   glucosylceramide transporter ABCA12 isoform h1...       MONDO:0017265   \n",
       "824   glucosylceramide transporter ABCA12 isoform h1...       MONDO:0017265   \n",
       "1260     magnesium transporter NIPA4 isoform h1 (human)       MONDO:0017265   \n",
       "1261     magnesium transporter NIPA4 isoform h1 (human)       MONDO:0017265   \n",
       "1661                                              MESP2       MONDO:0000359   \n",
       "1662                                              MESP2       MONDO:0000359   \n",
       "2728                                               ABAT       MONDO:0011147   \n",
       "2729                                               ABAT       MONDO:0011147   \n",
       "\n",
       "                         disease_nodenorm_label  \n",
       "798   autosomal recessive congenital ichthyosis  \n",
       "799   autosomal recessive congenital ichthyosis  \n",
       "823   autosomal recessive congenital ichthyosis  \n",
       "824   autosomal recessive congenital ichthyosis  \n",
       "1260  autosomal recessive congenital ichthyosis  \n",
       "1261  autosomal recessive congenital ichthyosis  \n",
       "1661                  spondylocostal dysostosis  \n",
       "1662                  spondylocostal dysostosis  \n",
       "2728           chromosome 18q deletion syndrome  \n",
       "2729           chromosome 18q deletion syndrome  "
      ]
     },
     "execution_count": 82,
     "metadata": {},
     "output_type": "execute_result"
    }
   ],
   "source": [
    "df_knowledge[df_knowledge.duplicated(subset=[\"gene_id\", \"disease_id\", \"source_db\"], keep=False)]"
   ]
  },
  {
   "cell_type": "code",
   "execution_count": 83,
   "id": "ded0e92c",
   "metadata": {
    "ExecuteTime": {
     "end_time": "2025-04-24T07:49:43.569510Z",
     "start_time": "2025-04-24T07:49:43.564999Z"
    }
   },
   "outputs": [
    {
     "data": {
      "text/plain": [
       "270036"
      ]
     },
     "execution_count": 83,
     "metadata": {},
     "output_type": "execute_result"
    }
   ],
   "source": [
    "## number of docs that should be created\n",
    "df_textmining.shape[0] + df_knowledge.shape[0] - 5  ## add together, remove duplicates"
   ]
  },
  {
   "cell_type": "markdown",
   "id": "70cea85c",
   "metadata": {},
   "source": [
    "### File: KGX"
   ]
  },
  {
   "cell_type": "code",
   "execution_count": 88,
   "id": "c9fcd128",
   "metadata": {
    "ExecuteTime": {
     "end_time": "2025-04-24T08:05:42.167396Z",
     "start_time": "2025-04-24T08:05:42.153162Z"
    }
   },
   "outputs": [
    {
     "data": {
      "text/html": [
       "<div>\n",
       "<style scoped>\n",
       "    .dataframe tbody tr th:only-of-type {\n",
       "        vertical-align: middle;\n",
       "    }\n",
       "\n",
       "    .dataframe tbody tr th {\n",
       "        vertical-align: top;\n",
       "    }\n",
       "\n",
       "    .dataframe thead th {\n",
       "        text-align: right;\n",
       "    }\n",
       "</style>\n",
       "<table border=\"1\" class=\"dataframe\">\n",
       "  <thead>\n",
       "    <tr style=\"text-align: right;\">\n",
       "      <th></th>\n",
       "      <th>gene_id</th>\n",
       "      <th>gene_name</th>\n",
       "      <th>disease_id</th>\n",
       "      <th>disease_name</th>\n",
       "      <th>z_score</th>\n",
       "      <th>confidence_score</th>\n",
       "      <th>url</th>\n",
       "      <th>gene_nodenorm_id</th>\n",
       "      <th>gene_nodenorm_label</th>\n",
       "      <th>disease_nodenorm_id</th>\n",
       "      <th>disease_nodenorm_label</th>\n",
       "    </tr>\n",
       "  </thead>\n",
       "  <tbody>\n",
       "    <tr>\n",
       "      <th>0</th>\n",
       "      <td>ENSEMBL:ENSP00000000233</td>\n",
       "      <td>ARF5</td>\n",
       "      <td>DOID:0111266</td>\n",
       "      <td>Geroderma osteodysplasticum</td>\n",
       "      <td>4.781</td>\n",
       "      <td>2.390</td>\n",
       "      <td>https://diseases.jensenlab.org/Entity?document...</td>\n",
       "      <td>NCBIGene:381</td>\n",
       "      <td>ARF5</td>\n",
       "      <td>MONDO:0009271</td>\n",
       "      <td>geroderma osteodysplastica</td>\n",
       "    </tr>\n",
       "    <tr>\n",
       "      <th>1</th>\n",
       "      <td>ENSEMBL:ENSP00000000233</td>\n",
       "      <td>ARF5</td>\n",
       "      <td>DOID:162</td>\n",
       "      <td>Cancer</td>\n",
       "      <td>3.203</td>\n",
       "      <td>1.602</td>\n",
       "      <td>https://diseases.jensenlab.org/Entity?document...</td>\n",
       "      <td>NCBIGene:381</td>\n",
       "      <td>ARF5</td>\n",
       "      <td>MONDO:0004992</td>\n",
       "      <td>cancer</td>\n",
       "    </tr>\n",
       "    <tr>\n",
       "      <th>2</th>\n",
       "      <td>ENSEMBL:ENSP00000000233</td>\n",
       "      <td>ARF5</td>\n",
       "      <td>DOID:863</td>\n",
       "      <td>Nervous system disease</td>\n",
       "      <td>3.060</td>\n",
       "      <td>1.530</td>\n",
       "      <td>https://diseases.jensenlab.org/Entity?document...</td>\n",
       "      <td>NCBIGene:381</td>\n",
       "      <td>ARF5</td>\n",
       "      <td>MONDO:0005071</td>\n",
       "      <td>nervous system disorder</td>\n",
       "    </tr>\n",
       "    <tr>\n",
       "      <th>3</th>\n",
       "      <td>ENSEMBL:ENSP00000000412</td>\n",
       "      <td>M6PR</td>\n",
       "      <td>DOID:0080070</td>\n",
       "      <td>Mucolipidosis II alpha/beta</td>\n",
       "      <td>5.537</td>\n",
       "      <td>2.768</td>\n",
       "      <td>https://diseases.jensenlab.org/Entity?document...</td>\n",
       "      <td>NCBIGene:4074</td>\n",
       "      <td>M6PR</td>\n",
       "      <td>MONDO:0009650</td>\n",
       "      <td>Mucolipidosis 2</td>\n",
       "    </tr>\n",
       "    <tr>\n",
       "      <th>4</th>\n",
       "      <td>ENSEMBL:ENSP00000000412</td>\n",
       "      <td>M6PR</td>\n",
       "      <td>DOID:0080071</td>\n",
       "      <td>Mucolipidosis III alpha/beta</td>\n",
       "      <td>4.229</td>\n",
       "      <td>2.115</td>\n",
       "      <td>https://diseases.jensenlab.org/Entity?document...</td>\n",
       "      <td>NCBIGene:4074</td>\n",
       "      <td>M6PR</td>\n",
       "      <td>MONDO:0018931</td>\n",
       "      <td>mucolipidosis type III, alpha/beta</td>\n",
       "    </tr>\n",
       "    <tr>\n",
       "      <th>...</th>\n",
       "      <td>...</td>\n",
       "      <td>...</td>\n",
       "      <td>...</td>\n",
       "      <td>...</td>\n",
       "      <td>...</td>\n",
       "      <td>...</td>\n",
       "      <td>...</td>\n",
       "      <td>...</td>\n",
       "      <td>...</td>\n",
       "      <td>...</td>\n",
       "      <td>...</td>\n",
       "    </tr>\n",
       "    <tr>\n",
       "      <th>266195</th>\n",
       "      <td>ENSEMBL:ENSP00000501277</td>\n",
       "      <td>LDB1</td>\n",
       "      <td>DOID:0081445</td>\n",
       "      <td>Sickle cell disease</td>\n",
       "      <td>4.327</td>\n",
       "      <td>2.163</td>\n",
       "      <td>https://diseases.jensenlab.org/Entity?document...</td>\n",
       "      <td>UniProtKB:Q86U70-1</td>\n",
       "      <td>LIM domain-binding protein 1 isoform 1 (human)</td>\n",
       "      <td>MONDO:0011382</td>\n",
       "      <td>sickle cell anemia</td>\n",
       "    </tr>\n",
       "    <tr>\n",
       "      <th>266196</th>\n",
       "      <td>ENSEMBL:ENSP00000501277</td>\n",
       "      <td>LDB1</td>\n",
       "      <td>DOID:2355</td>\n",
       "      <td>Anemia</td>\n",
       "      <td>4.302</td>\n",
       "      <td>2.151</td>\n",
       "      <td>https://diseases.jensenlab.org/Entity?document...</td>\n",
       "      <td>UniProtKB:Q86U70-1</td>\n",
       "      <td>LIM domain-binding protein 1 isoform 1 (human)</td>\n",
       "      <td>MONDO:0002280</td>\n",
       "      <td>anemia</td>\n",
       "    </tr>\n",
       "    <tr>\n",
       "      <th>266197</th>\n",
       "      <td>ENSEMBL:ENSP00000501277</td>\n",
       "      <td>LDB1</td>\n",
       "      <td>DOID:162</td>\n",
       "      <td>Cancer</td>\n",
       "      <td>4.218</td>\n",
       "      <td>2.109</td>\n",
       "      <td>https://diseases.jensenlab.org/Entity?document...</td>\n",
       "      <td>UniProtKB:Q86U70-1</td>\n",
       "      <td>LIM domain-binding protein 1 isoform 1 (human)</td>\n",
       "      <td>MONDO:0004992</td>\n",
       "      <td>cancer</td>\n",
       "    </tr>\n",
       "    <tr>\n",
       "      <th>266198</th>\n",
       "      <td>ENSEMBL:ENSP00000501277</td>\n",
       "      <td>LDB1</td>\n",
       "      <td>DOID:9467</td>\n",
       "      <td>nail-patella syndrome</td>\n",
       "      <td>3.960</td>\n",
       "      <td>1.980</td>\n",
       "      <td>https://diseases.jensenlab.org/Entity?document...</td>\n",
       "      <td>UniProtKB:Q86U70-1</td>\n",
       "      <td>LIM domain-binding protein 1 isoform 1 (human)</td>\n",
       "      <td>MONDO:0008061</td>\n",
       "      <td>nail-patella syndrome</td>\n",
       "    </tr>\n",
       "    <tr>\n",
       "      <th>266199</th>\n",
       "      <td>ENSEMBL:ENSP00000501277</td>\n",
       "      <td>LDB1</td>\n",
       "      <td>DOID:75</td>\n",
       "      <td>Lymphatic system disease</td>\n",
       "      <td>3.808</td>\n",
       "      <td>1.904</td>\n",
       "      <td>https://diseases.jensenlab.org/Entity?document...</td>\n",
       "      <td>UniProtKB:Q86U70-1</td>\n",
       "      <td>LIM domain-binding protein 1 isoform 1 (human)</td>\n",
       "      <td>MONDO:0005833</td>\n",
       "      <td>Lymphadenopathy</td>\n",
       "    </tr>\n",
       "  </tbody>\n",
       "</table>\n",
       "<p>266200 rows × 11 columns</p>\n",
       "</div>"
      ],
      "text/plain": [
       "                        gene_id gene_name    disease_id  \\\n",
       "0       ENSEMBL:ENSP00000000233      ARF5  DOID:0111266   \n",
       "1       ENSEMBL:ENSP00000000233      ARF5      DOID:162   \n",
       "2       ENSEMBL:ENSP00000000233      ARF5      DOID:863   \n",
       "3       ENSEMBL:ENSP00000000412      M6PR  DOID:0080070   \n",
       "4       ENSEMBL:ENSP00000000412      M6PR  DOID:0080071   \n",
       "...                         ...       ...           ...   \n",
       "266195  ENSEMBL:ENSP00000501277      LDB1  DOID:0081445   \n",
       "266196  ENSEMBL:ENSP00000501277      LDB1     DOID:2355   \n",
       "266197  ENSEMBL:ENSP00000501277      LDB1      DOID:162   \n",
       "266198  ENSEMBL:ENSP00000501277      LDB1     DOID:9467   \n",
       "266199  ENSEMBL:ENSP00000501277      LDB1       DOID:75   \n",
       "\n",
       "                        disease_name  z_score  confidence_score  \\\n",
       "0        Geroderma osteodysplasticum    4.781             2.390   \n",
       "1                             Cancer    3.203             1.602   \n",
       "2             Nervous system disease    3.060             1.530   \n",
       "3        Mucolipidosis II alpha/beta    5.537             2.768   \n",
       "4       Mucolipidosis III alpha/beta    4.229             2.115   \n",
       "...                              ...      ...               ...   \n",
       "266195           Sickle cell disease    4.327             2.163   \n",
       "266196                        Anemia    4.302             2.151   \n",
       "266197                        Cancer    4.218             2.109   \n",
       "266198         nail-patella syndrome    3.960             1.980   \n",
       "266199      Lymphatic system disease    3.808             1.904   \n",
       "\n",
       "                                                      url    gene_nodenorm_id  \\\n",
       "0       https://diseases.jensenlab.org/Entity?document...        NCBIGene:381   \n",
       "1       https://diseases.jensenlab.org/Entity?document...        NCBIGene:381   \n",
       "2       https://diseases.jensenlab.org/Entity?document...        NCBIGene:381   \n",
       "3       https://diseases.jensenlab.org/Entity?document...       NCBIGene:4074   \n",
       "4       https://diseases.jensenlab.org/Entity?document...       NCBIGene:4074   \n",
       "...                                                   ...                 ...   \n",
       "266195  https://diseases.jensenlab.org/Entity?document...  UniProtKB:Q86U70-1   \n",
       "266196  https://diseases.jensenlab.org/Entity?document...  UniProtKB:Q86U70-1   \n",
       "266197  https://diseases.jensenlab.org/Entity?document...  UniProtKB:Q86U70-1   \n",
       "266198  https://diseases.jensenlab.org/Entity?document...  UniProtKB:Q86U70-1   \n",
       "266199  https://diseases.jensenlab.org/Entity?document...  UniProtKB:Q86U70-1   \n",
       "\n",
       "                                   gene_nodenorm_label disease_nodenorm_id  \\\n",
       "0                                                 ARF5       MONDO:0009271   \n",
       "1                                                 ARF5       MONDO:0004992   \n",
       "2                                                 ARF5       MONDO:0005071   \n",
       "3                                                 M6PR       MONDO:0009650   \n",
       "4                                                 M6PR       MONDO:0018931   \n",
       "...                                                ...                 ...   \n",
       "266195  LIM domain-binding protein 1 isoform 1 (human)       MONDO:0011382   \n",
       "266196  LIM domain-binding protein 1 isoform 1 (human)       MONDO:0002280   \n",
       "266197  LIM domain-binding protein 1 isoform 1 (human)       MONDO:0004992   \n",
       "266198  LIM domain-binding protein 1 isoform 1 (human)       MONDO:0008061   \n",
       "266199  LIM domain-binding protein 1 isoform 1 (human)       MONDO:0005833   \n",
       "\n",
       "                    disease_nodenorm_label  \n",
       "0               geroderma osteodysplastica  \n",
       "1                                   cancer  \n",
       "2                  nervous system disorder  \n",
       "3                          Mucolipidosis 2  \n",
       "4       mucolipidosis type III, alpha/beta  \n",
       "...                                    ...  \n",
       "266195                  sickle cell anemia  \n",
       "266196                              anemia  \n",
       "266197                              cancer  \n",
       "266198               nail-patella syndrome  \n",
       "266199                     Lymphadenopathy  \n",
       "\n",
       "[266200 rows x 11 columns]"
      ]
     },
     "execution_count": 88,
     "metadata": {},
     "output_type": "execute_result"
    }
   ],
   "source": [
    "df_textmining"
   ]
  },
  {
   "cell_type": "code",
   "execution_count": 91,
   "id": "b96bc85f",
   "metadata": {
    "ExecuteTime": {
     "end_time": "2025-04-24T18:08:02.798457Z",
     "start_time": "2025-04-24T18:08:02.775708Z"
    }
   },
   "outputs": [],
   "source": [
    "## code chunk for testing parts of inner code\n",
    "\n",
    "with jsonlines.open('DISEASES_kgx.jsonl', mode='w', compact=True) as kgx_writer:\n",
    "    textmining_tally = set()\n",
    "    \n",
    "    ## using itertuples because it's faster, preserves datatypes\n",
    "    for row in df_textmining.itertuples(index=False):\n",
    "        ## construct row abbreviation\n",
    "        temp = row.gene_id + \"_\" + row.disease_id\n",
    "        \n",
    "        if temp not in textmining_tally:\n",
    "            textmining_tally.add(temp)\n",
    "\n",
    "            document = {\n",
    "                \"subject\": row.gene_nodenorm_id,\n",
    "                \"predicate\": \"biolink:occurs_together_in_literature_with\",\n",
    "                \"object\": row.disease_nodenorm_id,\n",
    "                \"primary_knowledge_source\": \"infores:diseases\",\n",
    "                ## taken from Sierra. This should be disease source's source_record_urls\n",
    "                \"pks_record_urls\": [row.url],  \n",
    "                \"knowledge_level\": \"statistical_association\",\n",
    "                \"agent_type\": \"text_mining_agent\",\n",
    "                \"STATO:0000104\": row.z_score,  ## needs data-modeling/TRAPI validation review\n",
    "                \"SEPIO:0000168\": row.confidence_score,  ## needs data-modeling/TRAPI validation review\n",
    "                \"original_subject\": row.gene_id,\n",
    "                \"original_object\": row.disease_id,\n",
    "            }\n",
    "            ## doing so it doesn't print\n",
    "            bytes = kgx_writer.write(document)\n",
    "        else:\n",
    "            ## won't write the document\n",
    "            print(f\"duplicate row encountered: {temp}\")\n",
    "        \n",
    "        if row.gene_id == \"ENSEMBL:ENSP00000000412\":\n",
    "            break    "
   ]
  },
  {
   "cell_type": "code",
   "execution_count": 95,
   "id": "596dfc38",
   "metadata": {
    "ExecuteTime": {
     "end_time": "2025-04-29T07:43:08.769825Z",
     "start_time": "2025-04-29T07:43:04.917299Z"
    }
   },
   "outputs": [
    {
     "name": "stdout",
     "output_type": "stream",
     "text": [
      "duplicate row encountered: ENSEMBL:ENSP00000269703_DOID:0060655_MedlinePlus\n",
      "duplicate row encountered: ENSEMBL:ENSP00000272895_DOID:0060655_MedlinePlus\n",
      "duplicate row encountered: ENSEMBL:ENSP00000311687_DOID:0060655_MedlinePlus\n",
      "duplicate row encountered: ENSEMBL:ENSP00000342392_DOID:0050568_MedlinePlus\n",
      "duplicate row encountered: ENSEMBL:ENSP00000379845_DOID:0060407_MedlinePlus\n"
     ]
    }
   ],
   "source": [
    "\n",
    "\n",
    "with jsonlines.open('DISEASES_kgx.jsonl', mode='w', compact=True) as kgx_writer:\n",
    "    \n",
    "## text-mined data: parser - separate function (diff row abbreviation, document)\n",
    "    textmining_tally = set()\n",
    "    \n",
    "    ## using itertuples because it's faster, preserves datatypes\n",
    "    for row in df_textmining.itertuples(index=False):\n",
    "        ## construct row abbreviation\n",
    "        temp = row.gene_id + \"_\" + row.disease_id\n",
    "        \n",
    "        if temp not in textmining_tally:\n",
    "            textmining_tally.add(temp)\n",
    "\n",
    "            document = {\n",
    "                \"subject\": row.gene_nodenorm_id,\n",
    "                \"predicate\": \"biolink:occurs_together_in_literature_with\",\n",
    "                \"object\": row.disease_nodenorm_id,\n",
    "                \"primary_knowledge_source\": \"infores:diseases\",\n",
    "                ## taken from Sierra. This should be disease source's source_record_urls\n",
    "                \"pks_record_urls\": [row.url],  \n",
    "                \"knowledge_level\": \"statistical_association\",\n",
    "                \"agent_type\": \"text_mining_agent\",\n",
    "                \"STATO:0000104\": row.z_score,  ## needs data-modeling/TRAPI validation review\n",
    "                \"SEPIO:0000168\": row.confidence_score,  ## needs data-modeling/TRAPI validation review\n",
    "                \"original_subject\": row.gene_id,\n",
    "                \"original_object\": row.disease_id,\n",
    "            }\n",
    "            ## doing so it doesn't print\n",
    "            bytes = kgx_writer.write(document)\n",
    "        else:\n",
    "            ## won't write the document\n",
    "            print(f\"duplicate row encountered: {temp}\")\n",
    "\n",
    "## knowledge data: parser - separate function (diff row abbreviation, document)\n",
    "    knowledge_tally = set()\n",
    "    \n",
    "    ## using itertuples because it's faster, preserves datatypes\n",
    "    for row in df_knowledge.itertuples(index=False):\n",
    "        ## construct row abbreviation: needs source_db!\n",
    "        temp = row.gene_id + \"_\" + row.disease_id + \"_\" + row.source_db\n",
    "        \n",
    "        if temp not in knowledge_tally:\n",
    "            knowledge_tally.add(temp)\n",
    "\n",
    "            document = {\n",
    "                ## simple assignments: no if\n",
    "                \"subject\": row.gene_nodenorm_id,\n",
    "                \"predicate\": \"biolink:genetically_associated_with\",\n",
    "                \"object\": row.disease_nodenorm_id,\n",
    "                \"knowledge_level\": \"knowledge_assertion\",\n",
    "                \"agent_type\": \"manual_agent\",\n",
    "                \"SEPIO:0000168\": row.confidence_score,  ## needs data-modeling/TRAPI validation review\n",
    "                \"original_subject\": row.gene_id,\n",
    "                \"original_object\": row.disease_id,\n",
    "            }\n",
    "            ## sources: depends on source_db value\n",
    "            if row.source_db == \"MedlinePlus\":\n",
    "                document[\"primary_knowledge_source\"] = \"infores:medlineplus\"\n",
    "                document[\"aggregator_knowledge_source\"] = \"infores:diseases\"\n",
    "            elif row.source_db == \"AmyCo\":\n",
    "                 ## not in infores registry yet!\n",
    "                document[\"primary_knowledge_source\"] = \"infores:amyco\"\n",
    "                document[\"aggregator_knowledge_source\"] = \"infores:diseases\"                \n",
    "            else:\n",
    "                raise ValueError(f\"Unexpected source_db value during source mapping: {row.source_db}. Adjust parser.\")\n",
    "            ## doing so it doesn't print\n",
    "            bytes = kgx_writer.write(document)\n",
    "        else:\n",
    "            ## won't write the document\n",
    "            print(f\"duplicate row encountered: {temp}\")"
   ]
  },
  {
   "cell_type": "markdown",
   "id": "c3fb5da8",
   "metadata": {},
   "source": [
    "## Notes"
   ]
  },
  {
   "cell_type": "markdown",
   "id": "8ebfd610",
   "metadata": {},
   "source": [
    "* KGX version is missing original_attribute_name, upstream_resource_ids\n",
    "* __uses infores:amyco, which isn't in infores catalog release yet__ \n",
    "* __will create edges that look like duplicates because triple is the same, but the original IDs/data is diff. Just leaving it this way for now -> but will need to consider what to do (possible to merge??).__\n",
    "* confidence_score is sometimes float (from text-mining) and sometimes int (from knowledge). Not worried about, for now. "
   ]
  },
  {
   "cell_type": "code",
   "execution_count": null,
   "id": "2d34c282",
   "metadata": {},
   "outputs": [],
   "source": []
  }
 ],
 "metadata": {
  "kernelspec": {
   "display_name": "Python 3 (ipykernel)",
   "language": "python",
   "name": "python3"
  },
  "language_info": {
   "codemirror_mode": {
    "name": "ipython",
    "version": 3
   },
   "file_extension": ".py",
   "mimetype": "text/x-python",
   "name": "python",
   "nbconvert_exporter": "python",
   "pygments_lexer": "ipython3",
   "version": "3.12.9"
  },
  "toc": {
   "base_numbering": 1,
   "nav_menu": {},
   "number_sections": false,
   "sideBar": true,
   "skip_h1_title": true,
   "title_cell": "Table of Contents",
   "title_sidebar": "Contents",
   "toc_cell": true,
   "toc_position": {
    "height": "calc(100% - 180px)",
    "left": "10px",
    "top": "150px",
    "width": "258.15px"
   },
   "toc_section_display": true,
   "toc_window_display": false
  }
 },
 "nbformat": 4,
 "nbformat_minor": 5
}
