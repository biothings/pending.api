{
 "cells": [
  {
   "cell_type": "markdown",
   "id": "65fd087a",
   "metadata": {
    "toc": true
   },
   "source": [
    "<h1>Table of Contents<span class=\"tocSkip\"></span></h1>\n",
    "<div class=\"toc\"><ul class=\"toc-item\"><li><span><a href=\"#Downloading-files\" data-toc-modified-id=\"Downloading-files-1\">Downloading files</a></span></li><li><span><a href=\"#Check-for-duplicates\" data-toc-modified-id=\"Check-for-duplicates-2\">Check for duplicates</a></span></li><li><span><a href=\"#Remove-rows\" data-toc-modified-id=\"Remove-rows-3\">Remove rows</a></span></li><li><span><a href=\"#Pre-NodeNorming\" data-toc-modified-id=\"Pre-NodeNorming-4\">Pre-NodeNorming</a></span><ul class=\"toc-item\"><li><span><a href=\"#Genes\" data-toc-modified-id=\"Genes-4.1\">Genes</a></span></li><li><span><a href=\"#Diseases\" data-toc-modified-id=\"Diseases-4.2\">Diseases</a></span></li><li><span><a href=\"#Adding-NodeNorm-data,-removing-rows\" data-toc-modified-id=\"Adding-NodeNorm-data,-removing-rows-4.3\">Adding NodeNorm data, removing rows</a></span></li></ul></li><li><span><a href=\"#Generating-documents\" data-toc-modified-id=\"Generating-documents-5\">Generating documents</a></span><ul class=\"toc-item\"><li><span><a href=\"#Rows-not-included\" data-toc-modified-id=\"Rows-not-included-5.1\">Rows not included</a></span></li><li><span><a href=\"#Columns-not-included\" data-toc-modified-id=\"Columns-not-included-5.2\">Columns not included</a></span></li><li><span><a href=\"#File:-List-of-TRAPI-edges\" data-toc-modified-id=\"File:-List-of-TRAPI-edges-5.3\">File: List of TRAPI edges</a></span></li><li><span><a href=\"#File:-KGX-edges\" data-toc-modified-id=\"File:-KGX-edges-5.4\">File: KGX edges</a></span></li><li><span><a href=\"#File:-KGX-nodes\" data-toc-modified-id=\"File:-KGX-nodes-5.5\">File: KGX nodes</a></span></li></ul></li><li><span><a href=\"#Notes\" data-toc-modified-id=\"Notes-6\">Notes</a></span></li></ul></div>"
   ]
  },
  {
   "cell_type": "markdown",
   "id": "f18ee197",
   "metadata": {},
   "source": [
    "# Notebook for DISEASES parser development"
   ]
  },
  {
   "cell_type": "code",
   "execution_count": 1,
   "id": "3573099c",
   "metadata": {
    "ExecuteTime": {
     "end_time": "2025-08-05T00:48:31.635627Z",
     "start_time": "2025-08-05T00:48:31.593105Z"
    }
   },
   "outputs": [],
   "source": [
    "## not for parser. for notebook only \n",
    "\n",
    "## CX: allows multiple lines of code to print from one code block\n",
    "from IPython.core.interactiveshell import InteractiveShell\n",
    "InteractiveShell.ast_node_interactivity = \"all\""
   ]
  },
  {
   "cell_type": "markdown",
   "id": "aa862467",
   "metadata": {},
   "source": [
    "## Downloading files"
   ]
  },
  {
   "cell_type": "markdown",
   "id": "96f2ef49",
   "metadata": {},
   "source": [
    "**using entire files for now. Allows me to check for duplicates.** \n",
    "\n",
    "In parser, may want to do a generator approach and ingest large chunks (ex: 1000-2000 lines) at 1 time. This balances \"less memory footprint\" vs \"NodeNorming in large batches is faster\". \n",
    "\n",
    "(pandas [read_table](https://pandas.pydata.org/docs/reference/api/pandas.read_table.html) has an iterator for rows/chunks! see iterator/chunksize parameters)"
   ]
  },
  {
   "cell_type": "code",
   "execution_count": 2,
   "id": "8325a51e",
   "metadata": {
    "ExecuteTime": {
     "end_time": "2025-08-05T00:48:37.022648Z",
     "start_time": "2025-08-05T00:48:36.525320Z"
    }
   },
   "outputs": [],
   "source": [
    "## put in parser (format)\n",
    "import pathlib\n",
    "import pandas as pd\n",
    "\n",
    "## don't put in parser. Just for this notebook\n",
    "from pprint import pprint\n",
    "\n",
    "## unsure on putting into parser: more for notebook viewing/debugging...\n",
    "pd.options.display.max_columns = None\n",
    "pd.set_option('display.max_colwidth', None)"
   ]
  },
  {
   "cell_type": "code",
   "execution_count": 3,
   "id": "49ac26f3",
   "metadata": {
    "ExecuteTime": {
     "end_time": "2025-08-05T00:48:38.016204Z",
     "start_time": "2025-08-05T00:48:38.012542Z"
    }
   },
   "outputs": [],
   "source": [
    "## useful function for exploring data\n",
    "def check_if_contains(df, column_name, patterns):\n",
    "    for i in patterns:\n",
    "        temp = df[df[column_name].str.contains(pat=i, case=False)]\n",
    "        if temp.size > 0:\n",
    "            print(f'\"{i}\"')\n",
    "            print(temp.shape)"
   ]
  },
  {
   "cell_type": "markdown",
   "id": "e23c358f",
   "metadata": {},
   "source": [
    "<div class=\"alert alert-block alert-danger\">\n",
    "    \n",
    "This notebook was originally written using data files downloaded 2025-04-14 between 4:23-4:24 PM Pacific time (23:23-23:24 UTC+0) from https://diseases.jensenlab.org/Downloads. "
   ]
  },
  {
   "cell_type": "code",
   "execution_count": null,
   "id": "c8f6298a",
   "metadata": {},
   "outputs": [],
   "source": [
    "## using on-demand from links\n",
    "\n",
    "# textmining_path = \"https://download.jensenlab.org/human_disease_textmining_filtered.tsv\"\n",
    "# knowledge_path = \"https://download.jensenlab.org/human_disease_knowledge_filtered.tsv\"\n",
    "# experiments_path = \"https://download.jensenlab.org/human_disease_experiments_filtered.tsv\"\n",
    "\n",
    "## not working right now 8/5: textmining file link is broken, downloads empty file"
   ]
  },
  {
   "cell_type": "code",
   "execution_count": 4,
   "id": "63f0a6ac",
   "metadata": {
    "ExecuteTime": {
     "end_time": "2025-08-05T00:48:56.103485Z",
     "start_time": "2025-08-05T00:48:56.093879Z"
    }
   },
   "outputs": [
    {
     "data": {
      "text/plain": [
       "PosixPath('/Users/colleenxu/Desktop/DISEASES_files/2025_08_04/human_disease_textmining_filtered.tsv')"
      ]
     },
     "execution_count": 4,
     "metadata": {},
     "output_type": "execute_result"
    },
    {
     "data": {
      "text/plain": [
       "PosixPath('/Users/colleenxu/Desktop/DISEASES_files/2025_08_04/human_disease_knowledge_filtered.tsv')"
      ]
     },
     "execution_count": 4,
     "metadata": {},
     "output_type": "execute_result"
    }
   ],
   "source": [
    "## put in parser (format)\n",
    "\n",
    "## paths to raw data files\n",
    "base_file_path = pathlib.Path.home().joinpath(\"Desktop\", \"DISEASES_files\", \"2025_08_04\")\n",
    "\n",
    "textmining_path = base_file_path.joinpath(\"human_disease_textmining_filtered.tsv\")\n",
    "knowledge_path = base_file_path.joinpath(\"human_disease_knowledge_filtered.tsv\")\n",
    "\n",
    "textmining_path\n",
    "knowledge_path"
   ]
  },
  {
   "cell_type": "code",
   "execution_count": 5,
   "id": "dd0fc904",
   "metadata": {
    "ExecuteTime": {
     "end_time": "2025-08-05T00:49:20.450232Z",
     "start_time": "2025-08-05T00:49:19.490433Z"
    },
    "scrolled": true
   },
   "outputs": [],
   "source": [
    "## put in parser (format)\n",
    "\n",
    "## download files\n",
    "## files have no headers: adding based on https://diseases.jensenlab.org/Downloads\n",
    "textmining_header = [\"gene_id\", \"gene_name\", \"disease_id\", \"disease_name\", \n",
    "                     \"z_score\", \"confidence_score\", \"url\"]\n",
    "knowledge_header = [\"gene_id\", \"gene_name\", \"disease_id\", \"disease_name\", \n",
    "                    \"source_db\", \"evidence_type\", \"confidence_score\"]\n",
    "\n",
    "\n",
    "df_textmining = pd.read_table(textmining_path, sep=\"\\t\", names=textmining_header)\n",
    "df_knowledge = pd.read_table(knowledge_path, sep=\"\\t\", names=knowledge_header)"
   ]
  },
  {
   "cell_type": "markdown",
   "id": "feb424a4",
   "metadata": {},
   "source": [
    "<div class=\"alert alert-block alert-info\">\n",
    "\n",
    "No missing values"
   ]
  },
  {
   "cell_type": "code",
   "execution_count": 6,
   "id": "141a10e4",
   "metadata": {
    "ExecuteTime": {
     "end_time": "2025-08-05T00:49:28.994641Z",
     "start_time": "2025-08-05T00:49:28.559619Z"
    }
   },
   "outputs": [
    {
     "name": "stdout",
     "output_type": "stream",
     "text": [
      "<class 'pandas.core.frame.DataFrame'>\n",
      "RangeIndex: 288195 entries, 0 to 288194\n",
      "Data columns (total 7 columns):\n",
      " #   Column            Non-Null Count   Dtype  \n",
      "---  ------            --------------   -----  \n",
      " 0   gene_id           288195 non-null  object \n",
      " 1   gene_name         288195 non-null  object \n",
      " 2   disease_id        288195 non-null  object \n",
      " 3   disease_name      288195 non-null  object \n",
      " 4   z_score           288195 non-null  float64\n",
      " 5   confidence_score  288195 non-null  float64\n",
      " 6   url               288195 non-null  object \n",
      "dtypes: float64(2), object(5)\n",
      "memory usage: 113.5 MB\n"
     ]
    }
   ],
   "source": [
    "df_textmining.info(memory_usage=\"deep\")"
   ]
  },
  {
   "cell_type": "code",
   "execution_count": 7,
   "id": "cd37fa22",
   "metadata": {
    "ExecuteTime": {
     "end_time": "2025-08-05T00:49:29.875750Z",
     "start_time": "2025-08-05T00:49:29.860892Z"
    }
   },
   "outputs": [
    {
     "data": {
      "text/html": [
       "<div>\n",
       "<style scoped>\n",
       "    .dataframe tbody tr th:only-of-type {\n",
       "        vertical-align: middle;\n",
       "    }\n",
       "\n",
       "    .dataframe tbody tr th {\n",
       "        vertical-align: top;\n",
       "    }\n",
       "\n",
       "    .dataframe thead th {\n",
       "        text-align: right;\n",
       "    }\n",
       "</style>\n",
       "<table border=\"1\" class=\"dataframe\">\n",
       "  <thead>\n",
       "    <tr style=\"text-align: right;\">\n",
       "      <th></th>\n",
       "      <th>gene_id</th>\n",
       "      <th>gene_name</th>\n",
       "      <th>disease_id</th>\n",
       "      <th>disease_name</th>\n",
       "      <th>z_score</th>\n",
       "      <th>confidence_score</th>\n",
       "      <th>url</th>\n",
       "    </tr>\n",
       "  </thead>\n",
       "  <tbody>\n",
       "    <tr>\n",
       "      <th>0</th>\n",
       "      <td>18S_rRNA</td>\n",
       "      <td>18S_rRNA</td>\n",
       "      <td>DOID:9643</td>\n",
       "      <td>Babesiosis</td>\n",
       "      <td>7.240</td>\n",
       "      <td>3.620</td>\n",
       "      <td>https://diseases.jensenlab.org/Entity?documents=10&amp;type1=9606&amp;id1=18S_rRNA&amp;type2=-26&amp;id2=DOID:9643</td>\n",
       "    </tr>\n",
       "    <tr>\n",
       "      <th>1</th>\n",
       "      <td>18S_rRNA</td>\n",
       "      <td>18S_rRNA</td>\n",
       "      <td>DOID:3733</td>\n",
       "      <td>Theileriasis</td>\n",
       "      <td>6.374</td>\n",
       "      <td>3.187</td>\n",
       "      <td>https://diseases.jensenlab.org/Entity?documents=10&amp;type1=9606&amp;id1=18S_rRNA&amp;type2=-26&amp;id2=DOID:3733</td>\n",
       "    </tr>\n",
       "    <tr>\n",
       "      <th>2</th>\n",
       "      <td>18S_rRNA</td>\n",
       "      <td>18S_rRNA</td>\n",
       "      <td>DOID:12365</td>\n",
       "      <td>Malaria</td>\n",
       "      <td>6.295</td>\n",
       "      <td>3.147</td>\n",
       "      <td>https://diseases.jensenlab.org/Entity?documents=10&amp;type1=9606&amp;id1=18S_rRNA&amp;type2=-26&amp;id2=DOID:12365</td>\n",
       "    </tr>\n",
       "    <tr>\n",
       "      <th>3</th>\n",
       "      <td>18S_rRNA</td>\n",
       "      <td>18S_rRNA</td>\n",
       "      <td>DOID:9640</td>\n",
       "      <td>Sarcocystosis</td>\n",
       "      <td>6.138</td>\n",
       "      <td>3.069</td>\n",
       "      <td>https://diseases.jensenlab.org/Entity?documents=10&amp;type1=9606&amp;id1=18S_rRNA&amp;type2=-26&amp;id2=DOID:9640</td>\n",
       "    </tr>\n",
       "    <tr>\n",
       "      <th>4</th>\n",
       "      <td>18S_rRNA</td>\n",
       "      <td>18S_rRNA</td>\n",
       "      <td>DOID:1733</td>\n",
       "      <td>Cryptosporidiosis</td>\n",
       "      <td>6.115</td>\n",
       "      <td>3.057</td>\n",
       "      <td>https://diseases.jensenlab.org/Entity?documents=10&amp;type1=9606&amp;id1=18S_rRNA&amp;type2=-26&amp;id2=DOID:1733</td>\n",
       "    </tr>\n",
       "    <tr>\n",
       "      <th>...</th>\n",
       "      <td>...</td>\n",
       "      <td>...</td>\n",
       "      <td>...</td>\n",
       "      <td>...</td>\n",
       "      <td>...</td>\n",
       "      <td>...</td>\n",
       "      <td>...</td>\n",
       "    </tr>\n",
       "    <tr>\n",
       "      <th>288190</th>\n",
       "      <td>snoU13</td>\n",
       "      <td>snoU13</td>\n",
       "      <td>DOID:0110084</td>\n",
       "      <td>Arrhythmogenic right ventricular dysplasia 13</td>\n",
       "      <td>3.772</td>\n",
       "      <td>1.886</td>\n",
       "      <td>https://diseases.jensenlab.org/Entity?documents=10&amp;type1=9606&amp;id1=snoU13&amp;type2=-26&amp;id2=DOID:0110084</td>\n",
       "    </tr>\n",
       "    <tr>\n",
       "      <th>288191</th>\n",
       "      <td>snoU13</td>\n",
       "      <td>snoU13</td>\n",
       "      <td>DOID:0110408</td>\n",
       "      <td>Retinitis pigmentosa 11</td>\n",
       "      <td>3.384</td>\n",
       "      <td>1.692</td>\n",
       "      <td>https://diseases.jensenlab.org/Entity?documents=10&amp;type1=9606&amp;id1=snoU13&amp;type2=-26&amp;id2=DOID:0110408</td>\n",
       "    </tr>\n",
       "    <tr>\n",
       "      <th>288192</th>\n",
       "      <td>snoU13</td>\n",
       "      <td>snoU13</td>\n",
       "      <td>DOID:1849</td>\n",
       "      <td>Cannabis dependence</td>\n",
       "      <td>3.226</td>\n",
       "      <td>1.613</td>\n",
       "      <td>https://diseases.jensenlab.org/Entity?documents=10&amp;type1=9606&amp;id1=snoU13&amp;type2=-26&amp;id2=DOID:1849</td>\n",
       "    </tr>\n",
       "    <tr>\n",
       "      <th>288193</th>\n",
       "      <td>snoU13</td>\n",
       "      <td>snoU13</td>\n",
       "      <td>DOID:0060775</td>\n",
       "      <td>Microvillus inclusion disease</td>\n",
       "      <td>3.145</td>\n",
       "      <td>1.572</td>\n",
       "      <td>https://diseases.jensenlab.org/Entity?documents=10&amp;type1=9606&amp;id1=snoU13&amp;type2=-26&amp;id2=DOID:0060775</td>\n",
       "    </tr>\n",
       "    <tr>\n",
       "      <th>288194</th>\n",
       "      <td>snoU18</td>\n",
       "      <td>snoU18</td>\n",
       "      <td>DOID:12211</td>\n",
       "      <td>Filarial elephantiasis</td>\n",
       "      <td>3.454</td>\n",
       "      <td>1.727</td>\n",
       "      <td>https://diseases.jensenlab.org/Entity?documents=10&amp;type1=9606&amp;id1=snoU18&amp;type2=-26&amp;id2=DOID:12211</td>\n",
       "    </tr>\n",
       "  </tbody>\n",
       "</table>\n",
       "<p>288195 rows × 7 columns</p>\n",
       "</div>"
      ],
      "text/plain": [
       "         gene_id gene_name    disease_id  \\\n",
       "0       18S_rRNA  18S_rRNA     DOID:9643   \n",
       "1       18S_rRNA  18S_rRNA     DOID:3733   \n",
       "2       18S_rRNA  18S_rRNA    DOID:12365   \n",
       "3       18S_rRNA  18S_rRNA     DOID:9640   \n",
       "4       18S_rRNA  18S_rRNA     DOID:1733   \n",
       "...          ...       ...           ...   \n",
       "288190    snoU13    snoU13  DOID:0110084   \n",
       "288191    snoU13    snoU13  DOID:0110408   \n",
       "288192    snoU13    snoU13     DOID:1849   \n",
       "288193    snoU13    snoU13  DOID:0060775   \n",
       "288194    snoU18    snoU18    DOID:12211   \n",
       "\n",
       "                                         disease_name  z_score  \\\n",
       "0                                          Babesiosis    7.240   \n",
       "1                                        Theileriasis    6.374   \n",
       "2                                             Malaria    6.295   \n",
       "3                                       Sarcocystosis    6.138   \n",
       "4                                   Cryptosporidiosis    6.115   \n",
       "...                                               ...      ...   \n",
       "288190  Arrhythmogenic right ventricular dysplasia 13    3.772   \n",
       "288191                        Retinitis pigmentosa 11    3.384   \n",
       "288192                            Cannabis dependence    3.226   \n",
       "288193                  Microvillus inclusion disease    3.145   \n",
       "288194                         Filarial elephantiasis    3.454   \n",
       "\n",
       "        confidence_score  \\\n",
       "0                  3.620   \n",
       "1                  3.187   \n",
       "2                  3.147   \n",
       "3                  3.069   \n",
       "4                  3.057   \n",
       "...                  ...   \n",
       "288190             1.886   \n",
       "288191             1.692   \n",
       "288192             1.613   \n",
       "288193             1.572   \n",
       "288194             1.727   \n",
       "\n",
       "                                                                                                        url  \n",
       "0        https://diseases.jensenlab.org/Entity?documents=10&type1=9606&id1=18S_rRNA&type2=-26&id2=DOID:9643  \n",
       "1        https://diseases.jensenlab.org/Entity?documents=10&type1=9606&id1=18S_rRNA&type2=-26&id2=DOID:3733  \n",
       "2       https://diseases.jensenlab.org/Entity?documents=10&type1=9606&id1=18S_rRNA&type2=-26&id2=DOID:12365  \n",
       "3        https://diseases.jensenlab.org/Entity?documents=10&type1=9606&id1=18S_rRNA&type2=-26&id2=DOID:9640  \n",
       "4        https://diseases.jensenlab.org/Entity?documents=10&type1=9606&id1=18S_rRNA&type2=-26&id2=DOID:1733  \n",
       "...                                                                                                     ...  \n",
       "288190  https://diseases.jensenlab.org/Entity?documents=10&type1=9606&id1=snoU13&type2=-26&id2=DOID:0110084  \n",
       "288191  https://diseases.jensenlab.org/Entity?documents=10&type1=9606&id1=snoU13&type2=-26&id2=DOID:0110408  \n",
       "288192     https://diseases.jensenlab.org/Entity?documents=10&type1=9606&id1=snoU13&type2=-26&id2=DOID:1849  \n",
       "288193  https://diseases.jensenlab.org/Entity?documents=10&type1=9606&id1=snoU13&type2=-26&id2=DOID:0060775  \n",
       "288194    https://diseases.jensenlab.org/Entity?documents=10&type1=9606&id1=snoU18&type2=-26&id2=DOID:12211  \n",
       "\n",
       "[288195 rows x 7 columns]"
      ]
     },
     "execution_count": 7,
     "metadata": {},
     "output_type": "execute_result"
    }
   ],
   "source": [
    "df_textmining"
   ]
  },
  {
   "cell_type": "code",
   "execution_count": 8,
   "id": "6342b113",
   "metadata": {
    "ExecuteTime": {
     "end_time": "2025-08-05T00:49:31.993458Z",
     "start_time": "2025-08-05T00:49:31.972451Z"
    }
   },
   "outputs": [
    {
     "name": "stdout",
     "output_type": "stream",
     "text": [
      "<class 'pandas.core.frame.DataFrame'>\n",
      "RangeIndex: 7770 entries, 0 to 7769\n",
      "Data columns (total 7 columns):\n",
      " #   Column            Non-Null Count  Dtype \n",
      "---  ------            --------------  ----- \n",
      " 0   gene_id           7770 non-null   object\n",
      " 1   gene_name         7770 non-null   object\n",
      " 2   disease_id        7770 non-null   object\n",
      " 3   disease_name      7770 non-null   object\n",
      " 4   source_db         7770 non-null   object\n",
      " 5   evidence_type     7770 non-null   object\n",
      " 6   confidence_score  7770 non-null   int64 \n",
      "dtypes: int64(1), object(6)\n",
      "memory usage: 2.8 MB\n"
     ]
    }
   ],
   "source": [
    "df_knowledge.info(memory_usage=\"deep\")"
   ]
  },
  {
   "cell_type": "code",
   "execution_count": 9,
   "id": "316d7e3d",
   "metadata": {
    "ExecuteTime": {
     "end_time": "2025-08-05T00:49:32.663477Z",
     "start_time": "2025-08-05T00:49:32.652675Z"
    }
   },
   "outputs": [
    {
     "data": {
      "text/html": [
       "<div>\n",
       "<style scoped>\n",
       "    .dataframe tbody tr th:only-of-type {\n",
       "        vertical-align: middle;\n",
       "    }\n",
       "\n",
       "    .dataframe tbody tr th {\n",
       "        vertical-align: top;\n",
       "    }\n",
       "\n",
       "    .dataframe thead th {\n",
       "        text-align: right;\n",
       "    }\n",
       "</style>\n",
       "<table border=\"1\" class=\"dataframe\">\n",
       "  <thead>\n",
       "    <tr style=\"text-align: right;\">\n",
       "      <th></th>\n",
       "      <th>gene_id</th>\n",
       "      <th>gene_name</th>\n",
       "      <th>disease_id</th>\n",
       "      <th>disease_name</th>\n",
       "      <th>source_db</th>\n",
       "      <th>evidence_type</th>\n",
       "      <th>confidence_score</th>\n",
       "    </tr>\n",
       "  </thead>\n",
       "  <tbody>\n",
       "    <tr>\n",
       "      <th>0</th>\n",
       "      <td>ABHD11-AS1</td>\n",
       "      <td>ABHD11-AS1</td>\n",
       "      <td>DOID:1928</td>\n",
       "      <td>Williams-Beuren syndrome</td>\n",
       "      <td>MedlinePlus</td>\n",
       "      <td>CURATED</td>\n",
       "      <td>5</td>\n",
       "    </tr>\n",
       "    <tr>\n",
       "      <th>1</th>\n",
       "      <td>ENSP00000001146</td>\n",
       "      <td>CYP26B1</td>\n",
       "      <td>DOID:2340</td>\n",
       "      <td>Craniosynostosis</td>\n",
       "      <td>UniProtKB-KW</td>\n",
       "      <td>CURATED</td>\n",
       "      <td>4</td>\n",
       "    </tr>\n",
       "    <tr>\n",
       "      <th>2</th>\n",
       "      <td>ENSP00000003084</td>\n",
       "      <td>CFTR</td>\n",
       "      <td>DOID:0111862</td>\n",
       "      <td>Congenital bilateral absence of vas deferens</td>\n",
       "      <td>MedlinePlus</td>\n",
       "      <td>CURATED</td>\n",
       "      <td>5</td>\n",
       "    </tr>\n",
       "    <tr>\n",
       "      <th>3</th>\n",
       "      <td>ENSP00000003084</td>\n",
       "      <td>CFTR</td>\n",
       "      <td>DOID:1485</td>\n",
       "      <td>Cystic fibrosis</td>\n",
       "      <td>MedlinePlus</td>\n",
       "      <td>CURATED</td>\n",
       "      <td>5</td>\n",
       "    </tr>\n",
       "    <tr>\n",
       "      <th>4</th>\n",
       "      <td>ENSP00000005226</td>\n",
       "      <td>USH1C</td>\n",
       "      <td>DOID:0050439</td>\n",
       "      <td>Usher syndrome</td>\n",
       "      <td>MedlinePlus</td>\n",
       "      <td>CURATED</td>\n",
       "      <td>5</td>\n",
       "    </tr>\n",
       "    <tr>\n",
       "      <th>...</th>\n",
       "      <td>...</td>\n",
       "      <td>...</td>\n",
       "      <td>...</td>\n",
       "      <td>...</td>\n",
       "      <td>...</td>\n",
       "      <td>...</td>\n",
       "      <td>...</td>\n",
       "    </tr>\n",
       "    <tr>\n",
       "      <th>7765</th>\n",
       "      <td>hsa-miR-145-5p</td>\n",
       "      <td>hsa-miR-145-5p</td>\n",
       "      <td>DOID:0090016</td>\n",
       "      <td>Chromosome 5q deletion syndrome</td>\n",
       "      <td>MedlinePlus</td>\n",
       "      <td>CURATED</td>\n",
       "      <td>5</td>\n",
       "    </tr>\n",
       "    <tr>\n",
       "      <th>7766</th>\n",
       "      <td>hsa-miR-146a-5p</td>\n",
       "      <td>hsa-miR-146a-5p</td>\n",
       "      <td>DOID:0090016</td>\n",
       "      <td>Chromosome 5q deletion syndrome</td>\n",
       "      <td>MedlinePlus</td>\n",
       "      <td>CURATED</td>\n",
       "      <td>5</td>\n",
       "    </tr>\n",
       "    <tr>\n",
       "      <th>7767</th>\n",
       "      <td>hsa-miR-184</td>\n",
       "      <td>hsa-miR-184</td>\n",
       "      <td>DOID:10126</td>\n",
       "      <td>Keratoconus</td>\n",
       "      <td>MedlinePlus</td>\n",
       "      <td>CURATED</td>\n",
       "      <td>5</td>\n",
       "    </tr>\n",
       "    <tr>\n",
       "      <th>7768</th>\n",
       "      <td>hsa-miR-590-5p</td>\n",
       "      <td>hsa-miR-590-5p</td>\n",
       "      <td>DOID:1928</td>\n",
       "      <td>Williams-Beuren syndrome</td>\n",
       "      <td>MedlinePlus</td>\n",
       "      <td>CURATED</td>\n",
       "      <td>5</td>\n",
       "    </tr>\n",
       "    <tr>\n",
       "      <th>7769</th>\n",
       "      <td>hsa-miR-96-5p</td>\n",
       "      <td>hsa-miR-96-5p</td>\n",
       "      <td>DOID:0050563</td>\n",
       "      <td>Nonsyndromic deafness</td>\n",
       "      <td>MedlinePlus</td>\n",
       "      <td>CURATED</td>\n",
       "      <td>5</td>\n",
       "    </tr>\n",
       "  </tbody>\n",
       "</table>\n",
       "<p>7770 rows × 7 columns</p>\n",
       "</div>"
      ],
      "text/plain": [
       "              gene_id        gene_name    disease_id  \\\n",
       "0          ABHD11-AS1       ABHD11-AS1     DOID:1928   \n",
       "1     ENSP00000001146          CYP26B1     DOID:2340   \n",
       "2     ENSP00000003084             CFTR  DOID:0111862   \n",
       "3     ENSP00000003084             CFTR     DOID:1485   \n",
       "4     ENSP00000005226            USH1C  DOID:0050439   \n",
       "...               ...              ...           ...   \n",
       "7765   hsa-miR-145-5p   hsa-miR-145-5p  DOID:0090016   \n",
       "7766  hsa-miR-146a-5p  hsa-miR-146a-5p  DOID:0090016   \n",
       "7767      hsa-miR-184      hsa-miR-184    DOID:10126   \n",
       "7768   hsa-miR-590-5p   hsa-miR-590-5p     DOID:1928   \n",
       "7769    hsa-miR-96-5p    hsa-miR-96-5p  DOID:0050563   \n",
       "\n",
       "                                      disease_name     source_db  \\\n",
       "0                         Williams-Beuren syndrome   MedlinePlus   \n",
       "1                                 Craniosynostosis  UniProtKB-KW   \n",
       "2     Congenital bilateral absence of vas deferens   MedlinePlus   \n",
       "3                                  Cystic fibrosis   MedlinePlus   \n",
       "4                                   Usher syndrome   MedlinePlus   \n",
       "...                                            ...           ...   \n",
       "7765               Chromosome 5q deletion syndrome   MedlinePlus   \n",
       "7766               Chromosome 5q deletion syndrome   MedlinePlus   \n",
       "7767                                   Keratoconus   MedlinePlus   \n",
       "7768                      Williams-Beuren syndrome   MedlinePlus   \n",
       "7769                         Nonsyndromic deafness   MedlinePlus   \n",
       "\n",
       "     evidence_type  confidence_score  \n",
       "0          CURATED                 5  \n",
       "1          CURATED                 4  \n",
       "2          CURATED                 5  \n",
       "3          CURATED                 5  \n",
       "4          CURATED                 5  \n",
       "...            ...               ...  \n",
       "7765       CURATED                 5  \n",
       "7766       CURATED                 5  \n",
       "7767       CURATED                 5  \n",
       "7768       CURATED                 5  \n",
       "7769       CURATED                 5  \n",
       "\n",
       "[7770 rows x 7 columns]"
      ]
     },
     "execution_count": 9,
     "metadata": {},
     "output_type": "execute_result"
    }
   ],
   "source": [
    "df_knowledge"
   ]
  },
  {
   "cell_type": "markdown",
   "id": "b86c4bde",
   "metadata": {},
   "source": [
    "## Check for duplicates"
   ]
  },
  {
   "cell_type": "markdown",
   "id": "792b3c9d",
   "metadata": {},
   "source": [
    "<div class=\"alert alert-block alert-info\">\n",
    "\n",
    "Duplicates found in knowledge file. This is a DISEASES-side problem.\n",
    "    \n",
    "Ideas for how to handle duplicates (including if they show up in text-mining file later): \n",
    "* ingest entire file and remove duplicates\n",
    "* **doing this right now**: check a set of \"already-done\" edges (gene_id, disease_id, source_db for knowledge) right before creating document (earlier steps will cut down number of rows to create documents with). "
   ]
  },
  {
   "cell_type": "code",
   "execution_count": 10,
   "id": "27447a61",
   "metadata": {
    "ExecuteTime": {
     "end_time": "2025-08-05T00:49:53.469587Z",
     "start_time": "2025-08-05T00:49:53.397392Z"
    }
   },
   "outputs": [
    {
     "data": {
      "text/plain": [
       "(0, 7)"
      ]
     },
     "execution_count": 10,
     "metadata": {},
     "output_type": "execute_result"
    }
   ],
   "source": [
    "df_textmining[df_textmining.duplicated(subset=[\"gene_id\", \"disease_id\"], keep=False)].shape"
   ]
  },
  {
   "cell_type": "code",
   "execution_count": 11,
   "id": "09d9f86c",
   "metadata": {
    "ExecuteTime": {
     "end_time": "2025-08-05T00:49:54.058943Z",
     "start_time": "2025-08-05T00:49:54.048513Z"
    }
   },
   "outputs": [
    {
     "data": {
      "text/plain": [
       "(16, 7)"
      ]
     },
     "execution_count": 11,
     "metadata": {},
     "output_type": "execute_result"
    }
   ],
   "source": [
    "df_knowledge[df_knowledge.duplicated(keep=False)].shape"
   ]
  },
  {
   "cell_type": "code",
   "execution_count": 12,
   "id": "e32743e5",
   "metadata": {
    "ExecuteTime": {
     "end_time": "2025-08-05T00:49:55.751065Z",
     "start_time": "2025-08-05T00:49:55.728992Z"
    }
   },
   "outputs": [
    {
     "data": {
      "text/plain": [
       "(16, 7)"
      ]
     },
     "execution_count": 12,
     "metadata": {},
     "output_type": "execute_result"
    },
    {
     "data": {
      "text/html": [
       "<div>\n",
       "<style scoped>\n",
       "    .dataframe tbody tr th:only-of-type {\n",
       "        vertical-align: middle;\n",
       "    }\n",
       "\n",
       "    .dataframe tbody tr th {\n",
       "        vertical-align: top;\n",
       "    }\n",
       "\n",
       "    .dataframe thead th {\n",
       "        text-align: right;\n",
       "    }\n",
       "</style>\n",
       "<table border=\"1\" class=\"dataframe\">\n",
       "  <thead>\n",
       "    <tr style=\"text-align: right;\">\n",
       "      <th></th>\n",
       "      <th>gene_id</th>\n",
       "      <th>gene_name</th>\n",
       "      <th>disease_id</th>\n",
       "      <th>disease_name</th>\n",
       "      <th>source_db</th>\n",
       "      <th>evidence_type</th>\n",
       "      <th>confidence_score</th>\n",
       "    </tr>\n",
       "  </thead>\n",
       "  <tbody>\n",
       "    <tr>\n",
       "      <th>1617</th>\n",
       "      <td>ENSP00000269703</td>\n",
       "      <td>CYP4F22</td>\n",
       "      <td>DOID:0060655</td>\n",
       "      <td>Autosomal recessive congenital ichthyosis</td>\n",
       "      <td>MedlinePlus</td>\n",
       "      <td>CURATED</td>\n",
       "      <td>5</td>\n",
       "    </tr>\n",
       "    <tr>\n",
       "      <th>1618</th>\n",
       "      <td>ENSP00000269703</td>\n",
       "      <td>CYP4F22</td>\n",
       "      <td>DOID:0060655</td>\n",
       "      <td>Autosomal recessive congenital ichthyosis</td>\n",
       "      <td>MedlinePlus</td>\n",
       "      <td>CURATED</td>\n",
       "      <td>5</td>\n",
       "    </tr>\n",
       "    <tr>\n",
       "      <th>1667</th>\n",
       "      <td>ENSP00000272895</td>\n",
       "      <td>ABCA12</td>\n",
       "      <td>DOID:0060655</td>\n",
       "      <td>Autosomal recessive congenital ichthyosis</td>\n",
       "      <td>MedlinePlus</td>\n",
       "      <td>CURATED</td>\n",
       "      <td>5</td>\n",
       "    </tr>\n",
       "    <tr>\n",
       "      <th>1668</th>\n",
       "      <td>ENSP00000272895</td>\n",
       "      <td>ABCA12</td>\n",
       "      <td>DOID:0060655</td>\n",
       "      <td>Autosomal recessive congenital ichthyosis</td>\n",
       "      <td>MedlinePlus</td>\n",
       "      <td>CURATED</td>\n",
       "      <td>5</td>\n",
       "    </tr>\n",
       "    <tr>\n",
       "      <th>1992</th>\n",
       "      <td>ENSP00000291295</td>\n",
       "      <td>CALM3</td>\n",
       "      <td>DOID:2843</td>\n",
       "      <td>Long QT syndrome</td>\n",
       "      <td>UniProtKB-KW</td>\n",
       "      <td>CURATED</td>\n",
       "      <td>4</td>\n",
       "    </tr>\n",
       "    <tr>\n",
       "      <th>1993</th>\n",
       "      <td>ENSP00000291295</td>\n",
       "      <td>CALM3</td>\n",
       "      <td>DOID:2843</td>\n",
       "      <td>Long QT syndrome</td>\n",
       "      <td>UniProtKB-KW</td>\n",
       "      <td>CURATED</td>\n",
       "      <td>4</td>\n",
       "    </tr>\n",
       "    <tr>\n",
       "      <th>2577</th>\n",
       "      <td>ENSP00000311687</td>\n",
       "      <td>NIPAL4</td>\n",
       "      <td>DOID:0060655</td>\n",
       "      <td>Autosomal recessive congenital ichthyosis</td>\n",
       "      <td>MedlinePlus</td>\n",
       "      <td>CURATED</td>\n",
       "      <td>5</td>\n",
       "    </tr>\n",
       "    <tr>\n",
       "      <th>2578</th>\n",
       "      <td>ENSP00000311687</td>\n",
       "      <td>NIPAL4</td>\n",
       "      <td>DOID:0060655</td>\n",
       "      <td>Autosomal recessive congenital ichthyosis</td>\n",
       "      <td>MedlinePlus</td>\n",
       "      <td>CURATED</td>\n",
       "      <td>5</td>\n",
       "    </tr>\n",
       "    <tr>\n",
       "      <th>3433</th>\n",
       "      <td>ENSP00000342392</td>\n",
       "      <td>MESP2</td>\n",
       "      <td>DOID:0050568</td>\n",
       "      <td>Spondylocostal dysostosis</td>\n",
       "      <td>MedlinePlus</td>\n",
       "      <td>CURATED</td>\n",
       "      <td>5</td>\n",
       "    </tr>\n",
       "    <tr>\n",
       "      <th>3434</th>\n",
       "      <td>ENSP00000342392</td>\n",
       "      <td>MESP2</td>\n",
       "      <td>DOID:0050568</td>\n",
       "      <td>Spondylocostal dysostosis</td>\n",
       "      <td>MedlinePlus</td>\n",
       "      <td>CURATED</td>\n",
       "      <td>5</td>\n",
       "    </tr>\n",
       "    <tr>\n",
       "      <th>4473</th>\n",
       "      <td>ENSP00000360141</td>\n",
       "      <td>GNAS</td>\n",
       "      <td>DOID:12252</td>\n",
       "      <td>DOID:12252</td>\n",
       "      <td>UniProtKB-KW</td>\n",
       "      <td>CURATED</td>\n",
       "      <td>4</td>\n",
       "    </tr>\n",
       "    <tr>\n",
       "      <th>4474</th>\n",
       "      <td>ENSP00000360141</td>\n",
       "      <td>GNAS</td>\n",
       "      <td>DOID:12252</td>\n",
       "      <td>DOID:12252</td>\n",
       "      <td>UniProtKB-KW</td>\n",
       "      <td>CURATED</td>\n",
       "      <td>4</td>\n",
       "    </tr>\n",
       "    <tr>\n",
       "      <th>4475</th>\n",
       "      <td>ENSP00000360141</td>\n",
       "      <td>GNAS</td>\n",
       "      <td>DOID:12252</td>\n",
       "      <td>DOID:12252</td>\n",
       "      <td>UniProtKB-KW</td>\n",
       "      <td>CURATED</td>\n",
       "      <td>4</td>\n",
       "    </tr>\n",
       "    <tr>\n",
       "      <th>4476</th>\n",
       "      <td>ENSP00000360141</td>\n",
       "      <td>GNAS</td>\n",
       "      <td>DOID:12252</td>\n",
       "      <td>DOID:12252</td>\n",
       "      <td>UniProtKB-KW</td>\n",
       "      <td>CURATED</td>\n",
       "      <td>4</td>\n",
       "    </tr>\n",
       "    <tr>\n",
       "      <th>5542</th>\n",
       "      <td>ENSP00000379845</td>\n",
       "      <td>ABAT</td>\n",
       "      <td>DOID:0060407</td>\n",
       "      <td>Chromosome 18q deletion syndrome</td>\n",
       "      <td>MedlinePlus</td>\n",
       "      <td>CURATED</td>\n",
       "      <td>5</td>\n",
       "    </tr>\n",
       "    <tr>\n",
       "      <th>5543</th>\n",
       "      <td>ENSP00000379845</td>\n",
       "      <td>ABAT</td>\n",
       "      <td>DOID:0060407</td>\n",
       "      <td>Chromosome 18q deletion syndrome</td>\n",
       "      <td>MedlinePlus</td>\n",
       "      <td>CURATED</td>\n",
       "      <td>5</td>\n",
       "    </tr>\n",
       "  </tbody>\n",
       "</table>\n",
       "</div>"
      ],
      "text/plain": [
       "              gene_id gene_name    disease_id  \\\n",
       "1617  ENSP00000269703   CYP4F22  DOID:0060655   \n",
       "1618  ENSP00000269703   CYP4F22  DOID:0060655   \n",
       "1667  ENSP00000272895    ABCA12  DOID:0060655   \n",
       "1668  ENSP00000272895    ABCA12  DOID:0060655   \n",
       "1992  ENSP00000291295     CALM3     DOID:2843   \n",
       "1993  ENSP00000291295     CALM3     DOID:2843   \n",
       "2577  ENSP00000311687    NIPAL4  DOID:0060655   \n",
       "2578  ENSP00000311687    NIPAL4  DOID:0060655   \n",
       "3433  ENSP00000342392     MESP2  DOID:0050568   \n",
       "3434  ENSP00000342392     MESP2  DOID:0050568   \n",
       "4473  ENSP00000360141      GNAS    DOID:12252   \n",
       "4474  ENSP00000360141      GNAS    DOID:12252   \n",
       "4475  ENSP00000360141      GNAS    DOID:12252   \n",
       "4476  ENSP00000360141      GNAS    DOID:12252   \n",
       "5542  ENSP00000379845      ABAT  DOID:0060407   \n",
       "5543  ENSP00000379845      ABAT  DOID:0060407   \n",
       "\n",
       "                                   disease_name     source_db evidence_type  \\\n",
       "1617  Autosomal recessive congenital ichthyosis   MedlinePlus       CURATED   \n",
       "1618  Autosomal recessive congenital ichthyosis   MedlinePlus       CURATED   \n",
       "1667  Autosomal recessive congenital ichthyosis   MedlinePlus       CURATED   \n",
       "1668  Autosomal recessive congenital ichthyosis   MedlinePlus       CURATED   \n",
       "1992                           Long QT syndrome  UniProtKB-KW       CURATED   \n",
       "1993                           Long QT syndrome  UniProtKB-KW       CURATED   \n",
       "2577  Autosomal recessive congenital ichthyosis   MedlinePlus       CURATED   \n",
       "2578  Autosomal recessive congenital ichthyosis   MedlinePlus       CURATED   \n",
       "3433                  Spondylocostal dysostosis   MedlinePlus       CURATED   \n",
       "3434                  Spondylocostal dysostosis   MedlinePlus       CURATED   \n",
       "4473                                 DOID:12252  UniProtKB-KW       CURATED   \n",
       "4474                                 DOID:12252  UniProtKB-KW       CURATED   \n",
       "4475                                 DOID:12252  UniProtKB-KW       CURATED   \n",
       "4476                                 DOID:12252  UniProtKB-KW       CURATED   \n",
       "5542           Chromosome 18q deletion syndrome   MedlinePlus       CURATED   \n",
       "5543           Chromosome 18q deletion syndrome   MedlinePlus       CURATED   \n",
       "\n",
       "      confidence_score  \n",
       "1617                 5  \n",
       "1618                 5  \n",
       "1667                 5  \n",
       "1668                 5  \n",
       "1992                 4  \n",
       "1993                 4  \n",
       "2577                 5  \n",
       "2578                 5  \n",
       "3433                 5  \n",
       "3434                 5  \n",
       "4473                 4  \n",
       "4474                 4  \n",
       "4475                 4  \n",
       "4476                 4  \n",
       "5542                 5  \n",
       "5543                 5  "
      ]
     },
     "execution_count": 12,
     "metadata": {},
     "output_type": "execute_result"
    }
   ],
   "source": [
    "## double-checking if specific column subset can work to check for duplicates\n",
    "df_knowledge[df_knowledge.duplicated(subset=[\"gene_id\", \"disease_id\", \"source_db\"], keep=False)].shape\n",
    "## same count so it can\n",
    "\n",
    "## print for manual review\n",
    "df_knowledge[df_knowledge.duplicated(keep=False)]"
   ]
  },
  {
   "cell_type": "markdown",
   "id": "608993f4",
   "metadata": {},
   "source": [
    "## Remove rows"
   ]
  },
  {
   "cell_type": "markdown",
   "id": "07946299",
   "metadata": {},
   "source": [
    "<div class=\"alert alert-block alert-info\">\n",
    "\n",
    "Removing:\n",
    "* knowledge's UniProtKB-KW data: Doesn't seem accurate, Likely has licensing issues (OMIM). Analysis in Slack canvas\n",
    "* rows that don't have ENSP IDs in gene_id column: can't NodeNorm them\n",
    "* rows that don't have DOID IDs in disease_id column: can't NodeNorm them\n",
    "\n",
    "    Not removing duplicates! Because planning to ingest file in chunks, so need other method (check set of already-done). "
   ]
  },
  {
   "cell_type": "code",
   "execution_count": 13,
   "id": "a14061b3",
   "metadata": {
    "ExecuteTime": {
     "end_time": "2025-08-05T00:51:42.382254Z",
     "start_time": "2025-08-05T00:51:42.379512Z"
    }
   },
   "outputs": [],
   "source": [
    "## calculate stats before removing\n",
    "\n",
    "nrows_textmining_original = df_textmining.shape[0]\n",
    "nrows_knowledge_original = df_knowledge.shape[0]"
   ]
  },
  {
   "cell_type": "code",
   "execution_count": 14,
   "id": "4ee8e2ae",
   "metadata": {
    "ExecuteTime": {
     "end_time": "2025-08-05T00:51:44.030327Z",
     "start_time": "2025-08-05T00:51:44.024741Z"
    }
   },
   "outputs": [
    {
     "name": "stdout",
     "output_type": "stream",
     "text": [
      "knowledge: 3624 rows removed\n"
     ]
    }
   ],
   "source": [
    "## put into parser (don't do stats, print)\n",
    "\n",
    "## remove knowledge's UniProtKB-KW data\n",
    "df_knowledge = df_knowledge[df_knowledge[\"source_db\"] != \"UniProtKB-KW\"]\n",
    "\n",
    "## stats\n",
    "nrows_knowledge_filtered = df_knowledge.shape[0]\n",
    "print(f\"knowledge: {nrows_knowledge_original - nrows_knowledge_filtered} rows removed\")"
   ]
  },
  {
   "cell_type": "code",
   "execution_count": 15,
   "id": "7a52ce49",
   "metadata": {
    "ExecuteTime": {
     "end_time": "2025-08-05T00:51:45.960796Z",
     "start_time": "2025-08-05T00:51:45.839590Z"
    }
   },
   "outputs": [
    {
     "name": "stdout",
     "output_type": "stream",
     "text": [
      "textmining: 16481 rows removed\n",
      "knowledge: 41 rows removed\n"
     ]
    }
   ],
   "source": [
    "## put into parser (don't do stats, print)\n",
    "\n",
    "## remove rows that don't have ENSP IDs\n",
    "df_textmining = df_textmining[df_textmining[\"gene_id\"].str.startswith(\"ENSP\")]\n",
    "df_knowledge = df_knowledge[df_knowledge[\"gene_id\"].str.startswith(\"ENSP\")]\n",
    "\n",
    "\n",
    "## stats\n",
    "nrows_textmining_filtered = df_textmining.shape[0]\n",
    "print(f\"textmining: {nrows_textmining_original - nrows_textmining_filtered} rows removed\")\n",
    "## don't rewrite variable yet, so you can compare previous to now\n",
    "print(f\"knowledge: {nrows_knowledge_filtered - df_knowledge.shape[0]} rows removed\")\n",
    "\n",
    "## update this variable\n",
    "nrows_knowledge_filtered = df_knowledge.shape[0]"
   ]
  },
  {
   "cell_type": "code",
   "execution_count": 16,
   "id": "30f51663",
   "metadata": {
    "ExecuteTime": {
     "end_time": "2025-08-05T00:51:48.040208Z",
     "start_time": "2025-08-05T00:51:47.923912Z"
    }
   },
   "outputs": [
    {
     "name": "stdout",
     "output_type": "stream",
     "text": [
      "textmining: 42 rows removed\n",
      "knowledge: 71 rows removed\n"
     ]
    }
   ],
   "source": [
    "## put into parser (don't do stats, print)\n",
    "\n",
    "## remove rows that don't have DOID IDs\n",
    "df_textmining = df_textmining[df_textmining[\"disease_id\"].str.startswith(\"DOID:\")]\n",
    "df_knowledge = df_knowledge[df_knowledge[\"disease_id\"].str.startswith(\"DOID:\")]\n",
    "\n",
    "\n",
    "## stats\n",
    "## don't rewrite variable yet, so you can compare previous to now\n",
    "print(f\"textmining: {nrows_textmining_filtered - df_textmining.shape[0]} rows removed\")\n",
    "print(f\"knowledge: {nrows_knowledge_filtered - df_knowledge.shape[0]} rows removed\")\n",
    "\n",
    "## update this variable\n",
    "nrows_textmining_filtered = df_textmining.shape[0]\n",
    "nrows_knowledge_filtered = df_knowledge.shape[0]"
   ]
  },
  {
   "cell_type": "code",
   "execution_count": 19,
   "id": "0ed627c8",
   "metadata": {
    "ExecuteTime": {
     "end_time": "2025-08-05T00:53:00.039304Z",
     "start_time": "2025-08-05T00:52:59.924931Z"
    }
   },
   "outputs": [
    {
     "data": {
      "text/plain": [
       "(271672, 7)"
      ]
     },
     "execution_count": 19,
     "metadata": {},
     "output_type": "execute_result"
    },
    {
     "data": {
      "text/plain": [
       "(0, 7)"
      ]
     },
     "execution_count": 19,
     "metadata": {},
     "output_type": "execute_result"
    }
   ],
   "source": [
    "## code to reviewing dataframes, make sure all removed properly\n",
    "\n",
    "## textmining\n",
    "df_textmining.shape\n",
    "df_textmining[~ df_textmining[\"disease_id\"].str.contains(\"DOID\")].shape"
   ]
  },
  {
   "cell_type": "code",
   "execution_count": 20,
   "id": "7d0a9b86",
   "metadata": {
    "ExecuteTime": {
     "end_time": "2025-08-05T00:53:11.181272Z",
     "start_time": "2025-08-05T00:53:11.168896Z"
    }
   },
   "outputs": [
    {
     "data": {
      "text/plain": [
       "(4034, 7)"
      ]
     },
     "execution_count": 20,
     "metadata": {},
     "output_type": "execute_result"
    },
    {
     "data": {
      "text/plain": [
       "(0, 7)"
      ]
     },
     "execution_count": 20,
     "metadata": {},
     "output_type": "execute_result"
    },
    {
     "data": {
      "text/plain": [
       "(0, 7)"
      ]
     },
     "execution_count": 20,
     "metadata": {},
     "output_type": "execute_result"
    }
   ],
   "source": [
    "## knowledge\n",
    "df_knowledge.shape\n",
    "df_knowledge[~ df_knowledge[\"disease_id\"].str.contains(\"DOID\")].shape\n",
    "df_knowledge[df_knowledge[\"source_db\"] == \"UniProtKB-KW\"].shape"
   ]
  },
  {
   "cell_type": "code",
   "execution_count": 21,
   "id": "0797b41b",
   "metadata": {
    "ExecuteTime": {
     "end_time": "2025-08-05T00:53:18.186706Z",
     "start_time": "2025-08-05T00:53:18.181775Z"
    }
   },
   "outputs": [
    {
     "data": {
      "text/plain": [
       "(186, 7)"
      ]
     },
     "execution_count": 21,
     "metadata": {},
     "output_type": "execute_result"
    }
   ],
   "source": [
    "## AmyCo data still in database (wasn't all under AmyCo disease IDs)\n",
    "df_knowledge[df_knowledge[\"source_db\"] == \"AmyCo\"].shape"
   ]
  },
  {
   "cell_type": "markdown",
   "id": "a797c65d",
   "metadata": {},
   "source": [
    "## Pre-NodeNorming"
   ]
  },
  {
   "cell_type": "code",
   "execution_count": 22,
   "id": "38cf08b5",
   "metadata": {
    "ExecuteTime": {
     "end_time": "2025-08-05T00:53:25.126741Z",
     "start_time": "2025-08-05T00:53:25.094982Z"
    }
   },
   "outputs": [],
   "source": [
    "## put into parser (format)\n",
    "\n",
    "## adding Translator/biolink prefixes to gene ID, for NodeNorming\n",
    "## don't need to do DOID, already in right format\n",
    "\n",
    "## loop for notebook only, to do both dataframes \n",
    "for df in [df_textmining, df_knowledge]:\n",
    "    df[\"gene_id\"] = \"ENSEMBL:\" + df[\"gene_id\"]"
   ]
  },
  {
   "cell_type": "code",
   "execution_count": 23,
   "id": "ed2645c0",
   "metadata": {
    "ExecuteTime": {
     "end_time": "2025-08-05T00:53:25.967443Z",
     "start_time": "2025-08-05T00:53:25.957181Z"
    }
   },
   "outputs": [
    {
     "data": {
      "text/html": [
       "<div>\n",
       "<style scoped>\n",
       "    .dataframe tbody tr th:only-of-type {\n",
       "        vertical-align: middle;\n",
       "    }\n",
       "\n",
       "    .dataframe tbody tr th {\n",
       "        vertical-align: top;\n",
       "    }\n",
       "\n",
       "    .dataframe thead th {\n",
       "        text-align: right;\n",
       "    }\n",
       "</style>\n",
       "<table border=\"1\" class=\"dataframe\">\n",
       "  <thead>\n",
       "    <tr style=\"text-align: right;\">\n",
       "      <th></th>\n",
       "      <th>gene_id</th>\n",
       "      <th>gene_name</th>\n",
       "      <th>disease_id</th>\n",
       "      <th>disease_name</th>\n",
       "      <th>source_db</th>\n",
       "      <th>evidence_type</th>\n",
       "      <th>confidence_score</th>\n",
       "    </tr>\n",
       "  </thead>\n",
       "  <tbody>\n",
       "    <tr>\n",
       "      <th>2</th>\n",
       "      <td>ENSEMBL:ENSP00000003084</td>\n",
       "      <td>CFTR</td>\n",
       "      <td>DOID:0111862</td>\n",
       "      <td>Congenital bilateral absence of vas deferens</td>\n",
       "      <td>MedlinePlus</td>\n",
       "      <td>CURATED</td>\n",
       "      <td>5</td>\n",
       "    </tr>\n",
       "    <tr>\n",
       "      <th>3</th>\n",
       "      <td>ENSEMBL:ENSP00000003084</td>\n",
       "      <td>CFTR</td>\n",
       "      <td>DOID:1485</td>\n",
       "      <td>Cystic fibrosis</td>\n",
       "      <td>MedlinePlus</td>\n",
       "      <td>CURATED</td>\n",
       "      <td>5</td>\n",
       "    </tr>\n",
       "    <tr>\n",
       "      <th>4</th>\n",
       "      <td>ENSEMBL:ENSP00000005226</td>\n",
       "      <td>USH1C</td>\n",
       "      <td>DOID:0050439</td>\n",
       "      <td>Usher syndrome</td>\n",
       "      <td>MedlinePlus</td>\n",
       "      <td>CURATED</td>\n",
       "      <td>5</td>\n",
       "    </tr>\n",
       "    <tr>\n",
       "      <th>5</th>\n",
       "      <td>ENSEMBL:ENSP00000005226</td>\n",
       "      <td>USH1C</td>\n",
       "      <td>DOID:0050563</td>\n",
       "      <td>Nonsyndromic deafness</td>\n",
       "      <td>MedlinePlus</td>\n",
       "      <td>CURATED</td>\n",
       "      <td>5</td>\n",
       "    </tr>\n",
       "    <tr>\n",
       "      <th>11</th>\n",
       "      <td>ENSEMBL:ENSP00000013807</td>\n",
       "      <td>ERCC1</td>\n",
       "      <td>DOID:0050427</td>\n",
       "      <td>Xeroderma pigmentosum</td>\n",
       "      <td>MedlinePlus</td>\n",
       "      <td>CURATED</td>\n",
       "      <td>5</td>\n",
       "    </tr>\n",
       "    <tr>\n",
       "      <th>...</th>\n",
       "      <td>...</td>\n",
       "      <td>...</td>\n",
       "      <td>...</td>\n",
       "      <td>...</td>\n",
       "      <td>...</td>\n",
       "      <td>...</td>\n",
       "      <td>...</td>\n",
       "    </tr>\n",
       "    <tr>\n",
       "      <th>7723</th>\n",
       "      <td>ENSEMBL:ENSP00000500990</td>\n",
       "      <td>SNCA</td>\n",
       "      <td>DOID:4752</td>\n",
       "      <td>Multiple system atrophy</td>\n",
       "      <td>MedlinePlus</td>\n",
       "      <td>CURATED</td>\n",
       "      <td>5</td>\n",
       "    </tr>\n",
       "    <tr>\n",
       "      <th>7724</th>\n",
       "      <td>ENSEMBL:ENSP00000501092</td>\n",
       "      <td>TFAP2A</td>\n",
       "      <td>DOID:0050691</td>\n",
       "      <td>Branchiooculofacial syndrome</td>\n",
       "      <td>MedlinePlus</td>\n",
       "      <td>CURATED</td>\n",
       "      <td>5</td>\n",
       "    </tr>\n",
       "    <tr>\n",
       "      <th>7725</th>\n",
       "      <td>ENSEMBL:ENSP00000501092</td>\n",
       "      <td>TFAP2A</td>\n",
       "      <td>DOID:10629</td>\n",
       "      <td>Microphthalmia</td>\n",
       "      <td>MedlinePlus</td>\n",
       "      <td>CURATED</td>\n",
       "      <td>5</td>\n",
       "    </tr>\n",
       "    <tr>\n",
       "      <th>7726</th>\n",
       "      <td>ENSEMBL:ENSP00000501092</td>\n",
       "      <td>TFAP2A</td>\n",
       "      <td>DOID:12270</td>\n",
       "      <td>Coloboma</td>\n",
       "      <td>MedlinePlus</td>\n",
       "      <td>CURATED</td>\n",
       "      <td>5</td>\n",
       "    </tr>\n",
       "    <tr>\n",
       "      <th>7727</th>\n",
       "      <td>ENSEMBL:ENSP00000501111</td>\n",
       "      <td>CEL</td>\n",
       "      <td>DOID:0050524</td>\n",
       "      <td>maturity-onset diabetes of the young</td>\n",
       "      <td>MedlinePlus</td>\n",
       "      <td>CURATED</td>\n",
       "      <td>5</td>\n",
       "    </tr>\n",
       "  </tbody>\n",
       "</table>\n",
       "<p>4034 rows × 7 columns</p>\n",
       "</div>"
      ],
      "text/plain": [
       "                      gene_id gene_name    disease_id  \\\n",
       "2     ENSEMBL:ENSP00000003084      CFTR  DOID:0111862   \n",
       "3     ENSEMBL:ENSP00000003084      CFTR     DOID:1485   \n",
       "4     ENSEMBL:ENSP00000005226     USH1C  DOID:0050439   \n",
       "5     ENSEMBL:ENSP00000005226     USH1C  DOID:0050563   \n",
       "11    ENSEMBL:ENSP00000013807     ERCC1  DOID:0050427   \n",
       "...                       ...       ...           ...   \n",
       "7723  ENSEMBL:ENSP00000500990      SNCA     DOID:4752   \n",
       "7724  ENSEMBL:ENSP00000501092    TFAP2A  DOID:0050691   \n",
       "7725  ENSEMBL:ENSP00000501092    TFAP2A    DOID:10629   \n",
       "7726  ENSEMBL:ENSP00000501092    TFAP2A    DOID:12270   \n",
       "7727  ENSEMBL:ENSP00000501111       CEL  DOID:0050524   \n",
       "\n",
       "                                      disease_name    source_db evidence_type  \\\n",
       "2     Congenital bilateral absence of vas deferens  MedlinePlus       CURATED   \n",
       "3                                  Cystic fibrosis  MedlinePlus       CURATED   \n",
       "4                                   Usher syndrome  MedlinePlus       CURATED   \n",
       "5                            Nonsyndromic deafness  MedlinePlus       CURATED   \n",
       "11                           Xeroderma pigmentosum  MedlinePlus       CURATED   \n",
       "...                                            ...          ...           ...   \n",
       "7723                       Multiple system atrophy  MedlinePlus       CURATED   \n",
       "7724                  Branchiooculofacial syndrome  MedlinePlus       CURATED   \n",
       "7725                                Microphthalmia  MedlinePlus       CURATED   \n",
       "7726                                      Coloboma  MedlinePlus       CURATED   \n",
       "7727          maturity-onset diabetes of the young  MedlinePlus       CURATED   \n",
       "\n",
       "      confidence_score  \n",
       "2                    5  \n",
       "3                    5  \n",
       "4                    5  \n",
       "5                    5  \n",
       "11                   5  \n",
       "...                ...  \n",
       "7723                 5  \n",
       "7724                 5  \n",
       "7725                 5  \n",
       "7726                 5  \n",
       "7727                 5  \n",
       "\n",
       "[4034 rows x 7 columns]"
      ]
     },
     "execution_count": 23,
     "metadata": {},
     "output_type": "execute_result"
    }
   ],
   "source": [
    "## double-check how they look\n",
    "\n",
    "df_knowledge"
   ]
  },
  {
   "cell_type": "markdown",
   "id": "377992a6",
   "metadata": {},
   "source": [
    "Querying NodeNorm: send unique values (no duplicates!) in large batches -> generate mapping dict to use. \n",
    "<br>\n",
    "__Not querying 1-by-1 or 1 row at a time: much slower__ and would involve sending duplicate IDs (unless saved dict is kept outside loop and checked) "
   ]
  },
  {
   "cell_type": "markdown",
   "id": "1266243a",
   "metadata": {},
   "source": [
    "<div class=\"alert alert-block alert-danger\">\n",
    "\n",
    "Set the NodeNorm URL you want to use. "
   ]
  },
  {
   "cell_type": "code",
   "execution_count": 24,
   "id": "ec7095c7",
   "metadata": {
    "ExecuteTime": {
     "end_time": "2025-08-05T00:53:32.092329Z",
     "start_time": "2025-08-05T00:53:31.988810Z"
    }
   },
   "outputs": [],
   "source": [
    "## put into parser (format)\n",
    "\n",
    "import requests\n",
    "\n",
    "## from BioThings annotator code: for interoperability between diff Python versions\n",
    "try:\n",
    "    from itertools import batched  # new in Python 3.12\n",
    "except ImportError:\n",
    "    from itertools import islice\n",
    "\n",
    "    def batched(iterable, n):\n",
    "        # batched('ABCDEFG', 3) → ABC DEF G\n",
    "        if n < 1:\n",
    "            raise ValueError(\"n must be at least one\")\n",
    "        iterator = iter(iterable)\n",
    "        while batch := tuple(islice(iterator, n)):\n",
    "            yield batch\n",
    "\n",
    "## dev instance\n",
    "# nodenorm_url = \"https://nodenormalization-sri.renci.org/get_normalized_nodes\"\n",
    "nodenorm_url = \"https://nodenorm.ci.transltr.io/get_normalized_nodes\""
   ]
  },
  {
   "cell_type": "markdown",
   "id": "fd327545",
   "metadata": {},
   "source": [
    "### Genes"
   ]
  },
  {
   "cell_type": "code",
   "execution_count": 25,
   "id": "54f32d70",
   "metadata": {
    "ExecuteTime": {
     "end_time": "2025-08-05T00:53:36.064238Z",
     "start_time": "2025-08-05T00:53:36.029032Z"
    }
   },
   "outputs": [
    {
     "data": {
      "text/plain": [
       "16854"
      ]
     },
     "execution_count": 25,
     "metadata": {},
     "output_type": "execute_result"
    },
    {
     "data": {
      "text/plain": [
       "2567"
      ]
     },
     "execution_count": 25,
     "metadata": {},
     "output_type": "execute_result"
    },
    {
     "data": {
      "text/plain": [
       "16857"
      ]
     },
     "execution_count": 25,
     "metadata": {},
     "output_type": "execute_result"
    }
   ],
   "source": [
    "## put into parser (set unique on curie list)\n",
    "\n",
    "## get set of unique CURIEs to put into NodeNorm\n",
    "geneIDs_textmining = set(df_textmining[\"gene_id\"].unique())\n",
    "geneIDs_knowledge = set(df_knowledge[\"gene_id\"].unique())\n",
    "geneIDs_all = geneIDs_textmining | geneIDs_knowledge\n",
    "\n",
    "len(geneIDs_textmining)\n",
    "len(geneIDs_knowledge)\n",
    "len(geneIDs_all)"
   ]
  },
  {
   "cell_type": "code",
   "execution_count": 26,
   "id": "e98887c0",
   "metadata": {
    "ExecuteTime": {
     "end_time": "2025-08-05T00:53:37.275955Z",
     "start_time": "2025-08-05T00:53:37.272933Z"
    }
   },
   "outputs": [],
   "source": [
    "## put into parser (partial?)\n",
    "\n",
    "gene_nodenorm_mapping = {}\n",
    "\n",
    "## set up variables to catch potential mapping failures\n",
    "stats_gene_mapping_failures = {\n",
    "    \"unexpected_error\": {},\n",
    "    \"nodenorm_returned_none\": [],\n",
    "    \"wrong_category\": {},\n",
    "    \"no_label\": []\n",
    "}"
   ]
  },
  {
   "cell_type": "markdown",
   "id": "d2c78fc5",
   "metadata": {},
   "source": [
    "Allowed types are Gene and Protein (depending on if gene/protein conflation worked for the ENSP ID or not)"
   ]
  },
  {
   "cell_type": "code",
   "execution_count": 27,
   "id": "9521a856",
   "metadata": {
    "ExecuteTime": {
     "end_time": "2025-08-05T00:54:39.105846Z",
     "start_time": "2025-08-05T00:53:47.429674Z"
    }
   },
   "outputs": [],
   "source": [
    "## put into parser (don't need to iterate through batch, just use all in chunk you're on)\n",
    "\n",
    "## larger batches are quicker\n",
    "for batch in batched(geneIDs_all, 1000):\n",
    "    ## returns tuples -> cast to list\n",
    "    req_body = {\n",
    "        \"curies\": list(batch),\n",
    "        \"conflate\": True,\n",
    "    }\n",
    "    r = requests.post(nodenorm_url, json=req_body)\n",
    "    response = r.json()\n",
    "    \n",
    "    ## not doing dict comprehension. allows easier review, logic writing\n",
    "    for k,v in response.items():\n",
    "        ## catch unexpected errors\n",
    "        try:\n",
    "            ## if NodeNorm didn't have info on this ID, v will be None\n",
    "            if v is not None:\n",
    "                ## don't keep mapping if category is not the expected one\n",
    "                if v[\"type\"][0] in [\"biolink:Gene\", \"biolink:Protein\"]:\n",
    "                    ## also throw out mapping if no primary label found\n",
    "                    if v[\"id\"].get(\"label\"):\n",
    "                        temp = {\n",
    "                            k: {\"primary_id\": v[\"id\"][\"identifier\"],\n",
    "                                \"primary_label\": v[\"id\"][\"label\"],\n",
    "                                ## saving category: currently required for KGX nodes file output\n",
    "                                \"category\": v[\"type\"][0]\n",
    "                               }\n",
    "                        }\n",
    "                        gene_nodenorm_mapping.update(temp)\n",
    "                    else:\n",
    "                        stats_gene_mapping_failures[\"no_label\"].append(k)\n",
    "#                         print(f\"{k}: NodeNorm didn't find primary label. Not keeping this mapping.\")\n",
    "                else:\n",
    "                    stats_gene_mapping_failures[\"wrong_category\"].update({k: v[\"type\"][0]})\n",
    "#                     print(f'{k}: NodeNorm found different category {v[\"type\"][0]}. Not keeping this mapping.')\n",
    "            else:\n",
    "                stats_gene_mapping_failures[\"nodenorm_returned_none\"].append(k)\n",
    "#                 print(f\"{k}: NodeNorm didn't recognize this ID\")\n",
    "        except:\n",
    "            stats_gene_mapping_failures[\"unexpected_error\"].update({k: v})\n",
    "            print(f'Encountered an unexpected error.')\n",
    "            print(f'NodeNorm response key: {k}')\n",
    "            print(f'NodeNorm response value: {v}')"
   ]
  },
  {
   "cell_type": "code",
   "execution_count": 28,
   "id": "fce525ef",
   "metadata": {
    "ExecuteTime": {
     "end_time": "2025-08-05T00:54:39.119435Z",
     "start_time": "2025-08-05T00:54:39.108617Z"
    }
   },
   "outputs": [
    {
     "data": {
      "text/plain": [
       "16474"
      ]
     },
     "execution_count": 28,
     "metadata": {},
     "output_type": "execute_result"
    },
    {
     "data": {
      "text/plain": [
       "{}"
      ]
     },
     "execution_count": 28,
     "metadata": {},
     "output_type": "execute_result"
    },
    {
     "data": {
      "text/plain": [
       "319"
      ]
     },
     "execution_count": 28,
     "metadata": {},
     "output_type": "execute_result"
    },
    {
     "data": {
      "text/plain": [
       "0"
      ]
     },
     "execution_count": 28,
     "metadata": {},
     "output_type": "execute_result"
    },
    {
     "data": {
      "text/plain": [
       "64"
      ]
     },
     "execution_count": 28,
     "metadata": {},
     "output_type": "execute_result"
    }
   ],
   "source": [
    "len(gene_nodenorm_mapping)\n",
    "\n",
    "stats_gene_mapping_failures[\"unexpected_error\"]\n",
    "\n",
    "len(stats_gene_mapping_failures[\"nodenorm_returned_none\"])\n",
    "len(stats_gene_mapping_failures[\"wrong_category\"])\n",
    "len(stats_gene_mapping_failures[\"no_label\"])"
   ]
  },
  {
   "cell_type": "code",
   "execution_count": 29,
   "id": "02fb64f9",
   "metadata": {
    "ExecuteTime": {
     "end_time": "2025-08-05T00:54:39.183821Z",
     "start_time": "2025-08-05T00:54:39.122075Z"
    }
   },
   "outputs": [],
   "source": [
    "## calculate stats: number of rows affected by each type of mapping failure\n",
    "stats_gene_mapping_failures.update({\n",
    "    \"nrows_textmining_none\": df_textmining[df_textmining[\"gene_id\"].isin(stats_gene_mapping_failures[\"nodenorm_returned_none\"])].shape[0],\n",
    "    \"nrows_knowledge_none\": df_knowledge[df_knowledge[\"gene_id\"].isin(stats_gene_mapping_failures[\"nodenorm_returned_none\"])].shape[0],\n",
    "\n",
    "    \"n_rows_textmining_wrongcategory\": df_textmining[df_textmining[\"gene_id\"].isin(stats_gene_mapping_failures[\"wrong_category\"].keys())].shape[0],\n",
    "    \"n_rows_knowledge_wrongcategory\": df_knowledge[df_knowledge[\"gene_id\"].isin(stats_gene_mapping_failures[\"wrong_category\"].keys())].shape[0],\n",
    "\n",
    "    \n",
    "    \"n_rows_textmining_nolabel\": df_textmining[df_textmining[\"gene_id\"].isin(stats_gene_mapping_failures[\"no_label\"])].shape[0],\n",
    "    \"n_rows_knowledge_nolabel\": df_knowledge[df_knowledge[\"gene_id\"].isin(stats_gene_mapping_failures[\"no_label\"])].shape[0],\n",
    "})"
   ]
  },
  {
   "cell_type": "code",
   "execution_count": 30,
   "id": "28524687",
   "metadata": {
    "ExecuteTime": {
     "end_time": "2025-08-05T00:54:39.201172Z",
     "start_time": "2025-08-05T00:54:39.187019Z"
    }
   },
   "outputs": [
    {
     "data": {
      "text/plain": [
       "4228"
      ]
     },
     "execution_count": 30,
     "metadata": {},
     "output_type": "execute_result"
    },
    {
     "data": {
      "text/plain": [
       "54"
      ]
     },
     "execution_count": 30,
     "metadata": {},
     "output_type": "execute_result"
    },
    {
     "data": {
      "text/plain": [
       "0"
      ]
     },
     "execution_count": 30,
     "metadata": {},
     "output_type": "execute_result"
    },
    {
     "data": {
      "text/plain": [
       "0"
      ]
     },
     "execution_count": 30,
     "metadata": {},
     "output_type": "execute_result"
    },
    {
     "data": {
      "text/plain": [
       "1446"
      ]
     },
     "execution_count": 30,
     "metadata": {},
     "output_type": "execute_result"
    },
    {
     "data": {
      "text/plain": [
       "11"
      ]
     },
     "execution_count": 30,
     "metadata": {},
     "output_type": "execute_result"
    }
   ],
   "source": [
    "stats_gene_mapping_failures[\"nrows_textmining_none\"]\n",
    "stats_gene_mapping_failures[\"nrows_knowledge_none\"]\n",
    "stats_gene_mapping_failures[\"n_rows_textmining_wrongcategory\"]\n",
    "stats_gene_mapping_failures[\"n_rows_knowledge_wrongcategory\"]\n",
    "stats_gene_mapping_failures[\"n_rows_textmining_nolabel\"]\n",
    "stats_gene_mapping_failures[\"n_rows_knowledge_nolabel\"]"
   ]
  },
  {
   "cell_type": "markdown",
   "id": "783a5f57",
   "metadata": {},
   "source": [
    "### Diseases"
   ]
  },
  {
   "cell_type": "code",
   "execution_count": 31,
   "id": "900a0766",
   "metadata": {
    "ExecuteTime": {
     "end_time": "2025-08-05T00:54:47.375176Z",
     "start_time": "2025-08-05T00:54:47.342744Z"
    }
   },
   "outputs": [
    {
     "data": {
      "text/plain": [
       "5556"
      ]
     },
     "execution_count": 31,
     "metadata": {},
     "output_type": "execute_result"
    },
    {
     "data": {
      "text/plain": [
       "1037"
      ]
     },
     "execution_count": 31,
     "metadata": {},
     "output_type": "execute_result"
    },
    {
     "data": {
      "text/plain": [
       "5671"
      ]
     },
     "execution_count": 31,
     "metadata": {},
     "output_type": "execute_result"
    }
   ],
   "source": [
    "\n",
    "## get set of unique CURIEs to put into NodeNorm\n",
    "diseaseIDs_textmining = set(df_textmining[\"disease_id\"].unique())\n",
    "diseaseIDs_knowledge = set(df_knowledge[\"disease_id\"].unique())\n",
    "diseaseIDs_all = diseaseIDs_textmining | diseaseIDs_knowledge\n",
    "\n",
    "len(diseaseIDs_textmining)\n",
    "len(diseaseIDs_knowledge)\n",
    "len(diseaseIDs_all)"
   ]
  },
  {
   "cell_type": "code",
   "execution_count": 32,
   "id": "1400dd55",
   "metadata": {
    "ExecuteTime": {
     "end_time": "2025-08-05T00:54:48.056615Z",
     "start_time": "2025-08-05T00:54:48.053527Z"
    }
   },
   "outputs": [],
   "source": [
    "\n",
    "disease_nodenorm_mapping = {}\n",
    "\n",
    "## set up variables to catch mapping failures\n",
    "stats_disease_mapping_failures = {\n",
    "    \"unexpected_error\": {},\n",
    "    \"nodenorm_returned_none\": [],\n",
    "    \"wrong_category\": {},\n",
    "    \"no_label\": []\n",
    "    \n",
    "}"
   ]
  },
  {
   "cell_type": "code",
   "execution_count": 33,
   "id": "858b6f93",
   "metadata": {
    "ExecuteTime": {
     "end_time": "2025-08-05T00:55:10.154815Z",
     "start_time": "2025-08-05T00:54:50.426928Z"
    }
   },
   "outputs": [],
   "source": [
    "\n",
    "\n",
    "## larger batches are quicker\n",
    "for batch in batched(diseaseIDs_all, 1000):\n",
    "    ## returns tuples -> cast to list\n",
    "    req_body = {\n",
    "        \"curies\": list(batch),\n",
    "        \"conflate\": True,\n",
    "    }\n",
    "    r = requests.post(nodenorm_url, json=req_body)\n",
    "    response = r.json()\n",
    "    \n",
    "    ## not doing dict comprehension. allows easier review, logic writing\n",
    "    for k,v in response.items():\n",
    "        ## catch unexpected errors\n",
    "        try:\n",
    "            ## if NodeNorm didn't have info on this ID, v will be None\n",
    "            if v is not None:\n",
    "                ## don't keep mapping if category is not the expected one\n",
    "                if v[\"type\"][0] == \"biolink:Disease\":\n",
    "                    ## also throw out mapping if no primary label found\n",
    "                    if v[\"id\"].get(\"label\"):\n",
    "                        temp = {\n",
    "                            k: {\"primary_id\": v[\"id\"][\"identifier\"],\n",
    "                                \"primary_label\": v[\"id\"][\"label\"]\n",
    "                               }\n",
    "                        }\n",
    "                        disease_nodenorm_mapping.update(temp)\n",
    "                    else:\n",
    "                        stats_disease_mapping_failures[\"no_label\"].append(k)\n",
    "#                         print(f\"{k}: NodeNorm didn't find primary label. Not keeping this mapping.\")\n",
    "                else:\n",
    "                    stats_disease_mapping_failures[\"wrong_category\"].update({k: v[\"type\"][0]})\n",
    "#                     print(f'{k}: NodeNorm found different category {v[\"type\"][0]}. Not keeping this mapping.')\n",
    "            else:\n",
    "                stats_disease_mapping_failures[\"nodenorm_returned_none\"].append(k)\n",
    "#                 print(f\"{k}: NodeNorm didn't recognize this ID\")\n",
    "        except:\n",
    "            stats_disease_mapping_failures[\"unexpected_error\"].update({k: v})\n",
    "            print(f'Encountered an unexpected error.')\n",
    "            print(f'NodeNorm response key: {k}')\n",
    "            print(f'NodeNorm response value: {v}')"
   ]
  },
  {
   "cell_type": "code",
   "execution_count": 34,
   "id": "2e81d56b",
   "metadata": {
    "ExecuteTime": {
     "end_time": "2025-08-05T00:55:10.168889Z",
     "start_time": "2025-08-05T00:55:10.157517Z"
    }
   },
   "outputs": [
    {
     "data": {
      "text/plain": [
       "5641"
      ]
     },
     "execution_count": 34,
     "metadata": {},
     "output_type": "execute_result"
    },
    {
     "data": {
      "text/plain": [
       "{}"
      ]
     },
     "execution_count": 34,
     "metadata": {},
     "output_type": "execute_result"
    },
    {
     "data": {
      "text/plain": [
       "30"
      ]
     },
     "execution_count": 34,
     "metadata": {},
     "output_type": "execute_result"
    },
    {
     "data": {
      "text/plain": [
       "0"
      ]
     },
     "execution_count": 34,
     "metadata": {},
     "output_type": "execute_result"
    },
    {
     "data": {
      "text/plain": [
       "0"
      ]
     },
     "execution_count": 34,
     "metadata": {},
     "output_type": "execute_result"
    }
   ],
   "source": [
    "len(disease_nodenorm_mapping)\n",
    "\n",
    "stats_disease_mapping_failures[\"unexpected_error\"]\n",
    "\n",
    "len(stats_disease_mapping_failures[\"nodenorm_returned_none\"])\n",
    "len(stats_disease_mapping_failures[\"wrong_category\"])\n",
    "len(stats_disease_mapping_failures[\"no_label\"])"
   ]
  },
  {
   "cell_type": "code",
   "execution_count": 35,
   "id": "a772ebfd",
   "metadata": {
    "ExecuteTime": {
     "end_time": "2025-08-05T00:55:10.204518Z",
     "start_time": "2025-08-05T00:55:10.171252Z"
    }
   },
   "outputs": [],
   "source": [
    "## calculate stats: number of rows affected by each type of mapping failure\n",
    "stats_disease_mapping_failures.update({\n",
    "    \"nrows_textmining_none\": df_textmining[df_textmining[\"disease_id\"].isin(stats_disease_mapping_failures[\"nodenorm_returned_none\"])].shape[0],\n",
    "    \"nrows_knowledge_none\": df_knowledge[df_knowledge[\"disease_id\"].isin(stats_disease_mapping_failures[\"nodenorm_returned_none\"])].shape[0],\n",
    "\n",
    "    \"n_rows_textmining_wrongcategory\": df_textmining[df_textmining[\"disease_id\"].isin(stats_disease_mapping_failures[\"wrong_category\"].keys())].shape[0],\n",
    "    \"n_rows_knowledge_wrongcategory\": df_knowledge[df_knowledge[\"disease_id\"].isin(stats_disease_mapping_failures[\"wrong_category\"].keys())].shape[0],\n",
    "\n",
    "    \n",
    "    \"n_rows_textmining_nolabel\": df_textmining[df_textmining[\"disease_id\"].isin(stats_disease_mapping_failures[\"no_label\"])].shape[0],\n",
    "    \"n_rows_knowledge_nolabel\": df_knowledge[df_knowledge[\"disease_id\"].isin(stats_disease_mapping_failures[\"no_label\"])].shape[0],\n",
    "})"
   ]
  },
  {
   "cell_type": "code",
   "execution_count": 36,
   "id": "ca44cd5e",
   "metadata": {
    "ExecuteTime": {
     "end_time": "2025-08-05T00:55:10.220195Z",
     "start_time": "2025-08-05T00:55:10.207763Z"
    }
   },
   "outputs": [
    {
     "data": {
      "text/plain": [
       "628"
      ]
     },
     "execution_count": 36,
     "metadata": {},
     "output_type": "execute_result"
    },
    {
     "data": {
      "text/plain": [
       "10"
      ]
     },
     "execution_count": 36,
     "metadata": {},
     "output_type": "execute_result"
    },
    {
     "data": {
      "text/plain": [
       "0"
      ]
     },
     "execution_count": 36,
     "metadata": {},
     "output_type": "execute_result"
    },
    {
     "data": {
      "text/plain": [
       "0"
      ]
     },
     "execution_count": 36,
     "metadata": {},
     "output_type": "execute_result"
    },
    {
     "data": {
      "text/plain": [
       "0"
      ]
     },
     "execution_count": 36,
     "metadata": {},
     "output_type": "execute_result"
    },
    {
     "data": {
      "text/plain": [
       "0"
      ]
     },
     "execution_count": 36,
     "metadata": {},
     "output_type": "execute_result"
    }
   ],
   "source": [
    "stats_disease_mapping_failures[\"nrows_textmining_none\"]\n",
    "stats_disease_mapping_failures[\"nrows_knowledge_none\"]\n",
    "stats_disease_mapping_failures[\"n_rows_textmining_wrongcategory\"]\n",
    "stats_disease_mapping_failures[\"n_rows_knowledge_wrongcategory\"]\n",
    "stats_disease_mapping_failures[\"n_rows_textmining_nolabel\"]\n",
    "stats_disease_mapping_failures[\"n_rows_knowledge_nolabel\"]"
   ]
  },
  {
   "cell_type": "markdown",
   "id": "23343f7c",
   "metadata": {},
   "source": [
    "### Adding NodeNorm data, removing rows"
   ]
  },
  {
   "cell_type": "markdown",
   "id": "1d708cbc",
   "metadata": {},
   "source": [
    "<div class=\"alert alert-block alert-info\">\n",
    "\n",
    "Removing rows that lack NodeNorm data, due to small amount of failures during NodeNorm process: \n",
    "* NodeNorm returned none\n",
    "* NodeNorm didn't have primary label"
   ]
  },
  {
   "cell_type": "code",
   "execution_count": 37,
   "id": "3d727809",
   "metadata": {
    "ExecuteTime": {
     "end_time": "2025-08-05T00:56:08.771964Z",
     "start_time": "2025-08-05T00:56:08.305052Z"
    }
   },
   "outputs": [],
   "source": [
    "## put into parser (format): \n",
    "\n",
    "## text-mining\n",
    "df_textmining[\"gene_nodenorm_id\"] = [gene_nodenorm_mapping[i][\"primary_id\"] \n",
    "                                     if gene_nodenorm_mapping.get(i) \n",
    "                                     else pd.NA\n",
    "                                     for i in df_textmining[\"gene_id\"]]\n",
    "\n",
    "df_textmining[\"gene_nodenorm_label\"] = [gene_nodenorm_mapping[i][\"primary_label\"] \n",
    "                                        if gene_nodenorm_mapping.get(i) \n",
    "                                        else pd.NA\n",
    "                                        for i in df_textmining[\"gene_id\"]]\n",
    "\n",
    "df_textmining[\"gene_nodenorm_category\"] = [gene_nodenorm_mapping[i][\"category\"] \n",
    "                                           if gene_nodenorm_mapping.get(i) \n",
    "                                           else pd.NA\n",
    "                                           for i in df_textmining[\"gene_id\"]]\n",
    "\n",
    "df_textmining[\"disease_nodenorm_id\"] = [disease_nodenorm_mapping[i][\"primary_id\"] \n",
    "                                        if disease_nodenorm_mapping.get(i) \n",
    "                                        else pd.NA\n",
    "                                        for i in df_textmining[\"disease_id\"]]\n",
    "\n",
    "df_textmining[\"disease_nodenorm_label\"] = [disease_nodenorm_mapping[i][\"primary_label\"] \n",
    "                                           if disease_nodenorm_mapping.get(i) \n",
    "                                           else pd.NA\n",
    "                                           for i in df_textmining[\"disease_id\"]]"
   ]
  },
  {
   "cell_type": "code",
   "execution_count": 38,
   "id": "8783b9aa",
   "metadata": {
    "ExecuteTime": {
     "end_time": "2025-08-05T00:56:10.572127Z",
     "start_time": "2025-08-05T00:56:10.552739Z"
    }
   },
   "outputs": [],
   "source": [
    "\n",
    "## knowledge\n",
    "df_knowledge[\"gene_nodenorm_id\"] = [gene_nodenorm_mapping[i][\"primary_id\"] \n",
    "                                    if gene_nodenorm_mapping.get(i) \n",
    "                                    else pd.NA\n",
    "                                    for i in df_knowledge[\"gene_id\"]]\n",
    "\n",
    "df_knowledge[\"gene_nodenorm_label\"] = [gene_nodenorm_mapping[i][\"primary_label\"] \n",
    "                                       if gene_nodenorm_mapping.get(i) \n",
    "                                       else pd.NA\n",
    "                                       for i in df_knowledge[\"gene_id\"]]\n",
    "\n",
    "df_knowledge[\"gene_nodenorm_category\"] = [gene_nodenorm_mapping[i][\"category\"] \n",
    "                                          if gene_nodenorm_mapping.get(i) \n",
    "                                          else pd.NA\n",
    "                                          for i in df_knowledge[\"gene_id\"]]\n",
    "\n",
    "df_knowledge[\"disease_nodenorm_id\"] = [disease_nodenorm_mapping[i][\"primary_id\"] \n",
    "                                       if disease_nodenorm_mapping.get(i) \n",
    "                                       else pd.NA\n",
    "                                       for i in df_knowledge[\"disease_id\"]]\n",
    "\n",
    "df_knowledge[\"disease_nodenorm_label\"] = [disease_nodenorm_mapping[i][\"primary_label\"] \n",
    "                                          if disease_nodenorm_mapping.get(i) \n",
    "                                          else pd.NA\n",
    "                                          for i in df_knowledge[\"disease_id\"]]"
   ]
  },
  {
   "cell_type": "code",
   "execution_count": null,
   "id": "430314be",
   "metadata": {
    "ExecuteTime": {
     "end_time": "2025-07-28T20:07:48.664946Z",
     "start_time": "2025-07-28T20:07:48.662498Z"
    }
   },
   "outputs": [],
   "source": [
    "## code chunk to review df\n",
    "\n",
    "# df_textmining\n",
    "# df_knowledge"
   ]
  },
  {
   "cell_type": "code",
   "execution_count": 39,
   "id": "caee28a8",
   "metadata": {
    "ExecuteTime": {
     "end_time": "2025-08-05T00:56:21.300273Z",
     "start_time": "2025-08-05T00:56:21.160581Z"
    }
   },
   "outputs": [],
   "source": [
    "## put into parser: \n",
    "\n",
    "## doing subset just in case (original data didn't have any NAs that would be\n",
    "##   dropped on accident, but still) \n",
    "\n",
    "df_textmining.dropna(subset=[\"gene_nodenorm_id\", \"gene_nodenorm_label\", \n",
    "                            \"disease_nodenorm_id\", \"disease_nodenorm_label\"],\n",
    "                    ignore_index=True, inplace=True)\n",
    "\n",
    "df_knowledge.dropna(subset=[\"gene_nodenorm_id\", \"gene_nodenorm_label\", \n",
    "                            \"disease_nodenorm_id\", \"disease_nodenorm_label\"],\n",
    "                    ignore_index=True, inplace=True)"
   ]
  },
  {
   "cell_type": "code",
   "execution_count": 40,
   "id": "4fc8d268",
   "metadata": {
    "ExecuteTime": {
     "end_time": "2025-08-05T00:56:22.754050Z",
     "start_time": "2025-08-05T00:56:22.748760Z"
    }
   },
   "outputs": [
    {
     "data": {
      "text/plain": [
       "(265382, 12)"
      ]
     },
     "execution_count": 40,
     "metadata": {},
     "output_type": "execute_result"
    },
    {
     "data": {
      "text/plain": [
       "(3960, 12)"
      ]
     },
     "execution_count": 40,
     "metadata": {},
     "output_type": "execute_result"
    }
   ],
   "source": [
    "## didn't do stats for before/after\n",
    "\n",
    "df_textmining.shape\n",
    "df_knowledge.shape"
   ]
  },
  {
   "cell_type": "markdown",
   "id": "38ebbe59",
   "metadata": {},
   "source": [
    "## Generating documents"
   ]
  },
  {
   "cell_type": "code",
   "execution_count": 41,
   "id": "789f3c0c",
   "metadata": {
    "ExecuteTime": {
     "end_time": "2025-08-05T00:56:57.416015Z",
     "start_time": "2025-08-05T00:56:57.326179Z"
    }
   },
   "outputs": [],
   "source": [
    "## put in parser!!\n",
    "## want jsonlines format\n",
    "\n",
    "import jsonlines"
   ]
  },
  {
   "cell_type": "markdown",
   "id": "9f01e8af",
   "metadata": {},
   "source": [
    "### Rows not included"
   ]
  },
  {
   "cell_type": "markdown",
   "id": "73e93ccc",
   "metadata": {},
   "source": [
    "<div class=\"alert alert-block alert-info\">\n",
    "\n",
    "* knowledge's UniProtKB-KW data\n",
    "* No ENSP in gene_id columns (seemed to be names, couldn't NodeNorm)\n",
    "* No DOID in disease_id columns (can't NodeNorm AmyCo)\n",
    "* NodeNorm mapping failures for gene or disease IDs\n",
    "* duplicates: will check when generating docs, not create if already did"
   ]
  },
  {
   "cell_type": "markdown",
   "id": "79ebea07",
   "metadata": {},
   "source": [
    "### Columns not included"
   ]
  },
  {
   "cell_type": "markdown",
   "id": "c0c7b27e",
   "metadata": {},
   "source": [
    "<div class=\"alert alert-block alert-info\">\n",
    "\n",
    "- gene_name\n",
    "- disease_name\n",
    "- evidence_type (knowledge file only): same for all rows, not needed"
   ]
  },
  {
   "cell_type": "code",
   "execution_count": 42,
   "id": "f314f25d",
   "metadata": {
    "ExecuteTime": {
     "end_time": "2025-08-05T00:57:25.360862Z",
     "start_time": "2025-08-05T00:57:25.354885Z"
    }
   },
   "outputs": [
    {
     "data": {
      "text/plain": [
       "Index(['gene_id', 'gene_name', 'disease_id', 'disease_name', 'z_score',\n",
       "       'confidence_score', 'url', 'gene_nodenorm_id', 'gene_nodenorm_label',\n",
       "       'gene_nodenorm_category', 'disease_nodenorm_id',\n",
       "       'disease_nodenorm_label'],\n",
       "      dtype='object')"
      ]
     },
     "execution_count": 42,
     "metadata": {},
     "output_type": "execute_result"
    },
    {
     "data": {
      "text/plain": [
       "Index(['gene_id', 'gene_name', 'disease_id', 'disease_name', 'source_db',\n",
       "       'evidence_type', 'confidence_score', 'gene_nodenorm_id',\n",
       "       'gene_nodenorm_label', 'gene_nodenorm_category', 'disease_nodenorm_id',\n",
       "       'disease_nodenorm_label'],\n",
       "      dtype='object')"
      ]
     },
     "execution_count": 42,
     "metadata": {},
     "output_type": "execute_result"
    }
   ],
   "source": [
    "df_textmining.columns\n",
    "\n",
    "df_knowledge.columns"
   ]
  },
  {
   "cell_type": "markdown",
   "id": "49145525",
   "metadata": {},
   "source": [
    "### File: List of TRAPI edges "
   ]
  },
  {
   "cell_type": "code",
   "execution_count": null,
   "id": "1bea6afb",
   "metadata": {
    "ExecuteTime": {
     "end_time": "2025-05-06T06:43:59.887408Z",
     "start_time": "2025-05-06T06:43:59.860528Z"
    }
   },
   "outputs": [],
   "source": [
    "## code chunk for testing parts of inner code\n",
    "\n",
    "# with jsonlines.open('DISEASES_trapi_edges.jsonl', mode='w', compact=True) as trapi_writer:\n",
    "#     knowledge_tally = set()\n",
    "    \n",
    "#     ## using itertuples because it's faster, preserves datatypes\n",
    "#     for row in df_knowledge.itertuples(index=False):\n",
    "\n",
    "#             break"
   ]
  },
  {
   "cell_type": "code",
   "execution_count": 46,
   "id": "4692267d",
   "metadata": {
    "ExecuteTime": {
     "end_time": "2025-08-05T00:59:09.195539Z",
     "start_time": "2025-08-05T00:59:08.020987Z"
    }
   },
   "outputs": [
    {
     "name": "stdout",
     "output_type": "stream",
     "text": [
      "duplicate row encountered: ENSEMBL:ENSP00000269703_DOID:0060655_MedlinePlus\n",
      "duplicate row encountered: ENSEMBL:ENSP00000272895_DOID:0060655_MedlinePlus\n",
      "duplicate row encountered: ENSEMBL:ENSP00000311687_DOID:0060655_MedlinePlus\n",
      "duplicate row encountered: ENSEMBL:ENSP00000342392_DOID:0050568_MedlinePlus\n",
      "duplicate row encountered: ENSEMBL:ENSP00000379845_DOID:0060407_MedlinePlus\n"
     ]
    }
   ],
   "source": [
    "## put into parser (format): \n",
    "## separate functions for textmined vs not, trapi edges vs kgx??\n",
    "## will want the tally to live outside the reading data -> writing loop, so it can\n",
    "##   keep track of what edges were already done\n",
    "\n",
    "## if needed to create two diff output file formats at same time, could initiate\n",
    "##   to separate writers and use both at once \n",
    "\n",
    "\n",
    "with jsonlines.open('DISEASES_trapi_edges.jsonl', mode='w', compact=True) as trapi_writer:\n",
    "    \n",
    "## text-mined data: \n",
    "    textmining_tally = set()\n",
    "    \n",
    "    ## using itertuples because it's faster, preserves datatypes\n",
    "    for row in df_textmining.itertuples(index=False):\n",
    "        ## construct row abbreviation\n",
    "        temp = row.gene_id + \"_\" + row.disease_id\n",
    "        \n",
    "        if temp not in textmining_tally:\n",
    "            textmining_tally.add(temp)\n",
    "\n",
    "            document = {\n",
    "                \"subject\": row.gene_nodenorm_id,\n",
    "                \"predicate\": \"biolink:occurs_together_in_literature_with\",\n",
    "                \"object\": row.disease_nodenorm_id,\n",
    "                \"sources\": [\n",
    "                    {\n",
    "                        \"resource_id\": \"infores:diseases\",\n",
    "                        \"resource_role\": \"primary_knowledge_source\",\n",
    "                        \"source_record_urls\": [row.url]\n",
    "                    }\n",
    "                ],\n",
    "                \"attributes\": [\n",
    "                    {\n",
    "                        \"attribute_type_id\": \"biolink:knowledge_level\",\n",
    "                        \"value\": \"statistical_association\"\n",
    "                    },\n",
    "                    {\n",
    "                        \"attribute_type_id\": \"biolink:agent_type\",\n",
    "                        \"value\": \"text_mining_agent\"\n",
    "                    },\n",
    "                    {  ## no original attribute names since file had no header\n",
    "                        \"attribute_type_id\": \"biolink:z_score\",\n",
    "                        \"value\": row.z_score\n",
    "                    },\n",
    "                    {\n",
    "                        \"attribute_type_id\": \"biolink:has_confidence_score\",\n",
    "                        \"value\": row.confidence_score\n",
    "                    },\n",
    "                    {\n",
    "                        \"attribute_type_id\": \"biolink:original_subject\",\n",
    "                        \"value\": row.gene_id\n",
    "                    },\n",
    "                    {\n",
    "                        \"attribute_type_id\": \"biolink:original_object\",\n",
    "                        \"value\": row.disease_id\n",
    "                    },\n",
    "                ]\n",
    "            }\n",
    "            ## doing so it doesn't print\n",
    "            bytes = trapi_writer.write(document)\n",
    "        else:\n",
    "            ## won't write the document\n",
    "            print(f\"duplicate row encountered: {temp}\")\n",
    "\n",
    "## knowledge data: parser - separate function (diff row abbreviation, document)\n",
    "    knowledge_tally = set()\n",
    "    \n",
    "    ## using itertuples because it's faster, preserves datatypes\n",
    "    for row in df_knowledge.itertuples(index=False):\n",
    "        ## construct row abbreviation: needs source_db!\n",
    "        temp = row.gene_id + \"_\" + row.disease_id + \"_\" + row.source_db\n",
    "        \n",
    "        if temp not in knowledge_tally:\n",
    "            knowledge_tally.add(temp)\n",
    "\n",
    "            document = {\n",
    "                ## simple assignments: no if\n",
    "                \"subject\": row.gene_nodenorm_id,\n",
    "                \"predicate\": \"biolink:associated_with\",\n",
    "                \"object\": row.disease_nodenorm_id,\n",
    "                \"attributes\": [\n",
    "                    {\n",
    "                        \"attribute_type_id\": \"biolink:knowledge_level\",\n",
    "                        \"value\": \"knowledge_assertion\"\n",
    "                    },\n",
    "                    {\n",
    "                        \"attribute_type_id\": \"biolink:agent_type\",\n",
    "                        \"value\": \"manual_agent\"\n",
    "                    },\n",
    "                    {  ## no original attribute names since file had no header\n",
    "                        \"attribute_type_id\": \"biolink:has_confidence_score\",\n",
    "                        \"value\": row.confidence_score\n",
    "                    },\n",
    "                    {\n",
    "                        \"attribute_type_id\": \"biolink:original_subject\",\n",
    "                        \"value\": row.gene_id\n",
    "                    },\n",
    "                    {\n",
    "                        \"attribute_type_id\": \"biolink:original_object\",\n",
    "                        \"value\": row.disease_id\n",
    "                    },\n",
    "                ]\n",
    "            }\n",
    "            ## sources: depends on source_db value\n",
    "            if row.source_db == \"MedlinePlus\":\n",
    "                document[\"sources\"] = [\n",
    "                    {\n",
    "                        \"resource_id\": \"infores:medlineplus\",\n",
    "                        \"resource_role\": \"primary_knowledge_source\"\n",
    "                    },\n",
    "                    {\n",
    "                        \"resource_id\": \"infores:diseases\",\n",
    "                        \"resource_role\": \"aggregator_knowledge_source\",\n",
    "                        \"upstream_resource_ids\": [\"infores:medlineplus\"]\n",
    "                    }\n",
    "                ]\n",
    "            elif row.source_db == \"AmyCo\":\n",
    "                document[\"sources\"] = [\n",
    "                    {\n",
    "                        \"resource_id\": \"infores:amyco\",\n",
    "                        \"resource_role\": \"primary_knowledge_source\"\n",
    "                    },\n",
    "                    {\n",
    "                        \"resource_id\": \"infores:diseases\",\n",
    "                        \"resource_role\": \"aggregator_knowledge_source\",\n",
    "                        \"upstream_resource_ids\": [\"infores:amyco\"]\n",
    "                    }\n",
    "                ]\n",
    "            else:\n",
    "                raise ValueError(f\"Unexpected source_db value during source mapping: {row.source_db}. Adjust parser.\")\n",
    "            ## doing so it doesn't print\n",
    "            bytes = trapi_writer.write(document)\n",
    "        else:\n",
    "            ## won't write the document\n",
    "            print(f\"duplicate row encountered: {temp}\")"
   ]
  },
  {
   "cell_type": "code",
   "execution_count": 47,
   "id": "1f67b647",
   "metadata": {
    "ExecuteTime": {
     "end_time": "2025-08-05T00:59:13.397495Z",
     "start_time": "2025-08-05T00:59:13.381336Z"
    }
   },
   "outputs": [
    {
     "data": {
      "text/html": [
       "<div>\n",
       "<style scoped>\n",
       "    .dataframe tbody tr th:only-of-type {\n",
       "        vertical-align: middle;\n",
       "    }\n",
       "\n",
       "    .dataframe tbody tr th {\n",
       "        vertical-align: top;\n",
       "    }\n",
       "\n",
       "    .dataframe thead th {\n",
       "        text-align: right;\n",
       "    }\n",
       "</style>\n",
       "<table border=\"1\" class=\"dataframe\">\n",
       "  <thead>\n",
       "    <tr style=\"text-align: right;\">\n",
       "      <th></th>\n",
       "      <th>gene_id</th>\n",
       "      <th>gene_name</th>\n",
       "      <th>disease_id</th>\n",
       "      <th>disease_name</th>\n",
       "      <th>source_db</th>\n",
       "      <th>evidence_type</th>\n",
       "      <th>confidence_score</th>\n",
       "      <th>gene_nodenorm_id</th>\n",
       "      <th>gene_nodenorm_label</th>\n",
       "      <th>gene_nodenorm_category</th>\n",
       "      <th>disease_nodenorm_id</th>\n",
       "      <th>disease_nodenorm_label</th>\n",
       "    </tr>\n",
       "  </thead>\n",
       "  <tbody>\n",
       "    <tr>\n",
       "      <th>811</th>\n",
       "      <td>ENSEMBL:ENSP00000269703</td>\n",
       "      <td>CYP4F22</td>\n",
       "      <td>DOID:0060655</td>\n",
       "      <td>Autosomal recessive congenital ichthyosis</td>\n",
       "      <td>MedlinePlus</td>\n",
       "      <td>CURATED</td>\n",
       "      <td>5</td>\n",
       "      <td>NCBIGene:126410</td>\n",
       "      <td>CYP4F22</td>\n",
       "      <td>biolink:Gene</td>\n",
       "      <td>MONDO:0017265</td>\n",
       "      <td>autosomal recessive congenital ichthyosis</td>\n",
       "    </tr>\n",
       "    <tr>\n",
       "      <th>812</th>\n",
       "      <td>ENSEMBL:ENSP00000269703</td>\n",
       "      <td>CYP4F22</td>\n",
       "      <td>DOID:0060655</td>\n",
       "      <td>Autosomal recessive congenital ichthyosis</td>\n",
       "      <td>MedlinePlus</td>\n",
       "      <td>CURATED</td>\n",
       "      <td>5</td>\n",
       "      <td>NCBIGene:126410</td>\n",
       "      <td>CYP4F22</td>\n",
       "      <td>biolink:Gene</td>\n",
       "      <td>MONDO:0017265</td>\n",
       "      <td>autosomal recessive congenital ichthyosis</td>\n",
       "    </tr>\n",
       "    <tr>\n",
       "      <th>837</th>\n",
       "      <td>ENSEMBL:ENSP00000272895</td>\n",
       "      <td>ABCA12</td>\n",
       "      <td>DOID:0060655</td>\n",
       "      <td>Autosomal recessive congenital ichthyosis</td>\n",
       "      <td>MedlinePlus</td>\n",
       "      <td>CURATED</td>\n",
       "      <td>5</td>\n",
       "      <td>UniProtKB:Q86UK0-1</td>\n",
       "      <td>glucosylceramide transporter ABCA12 isoform h1 (human)</td>\n",
       "      <td>biolink:Protein</td>\n",
       "      <td>MONDO:0017265</td>\n",
       "      <td>autosomal recessive congenital ichthyosis</td>\n",
       "    </tr>\n",
       "    <tr>\n",
       "      <th>838</th>\n",
       "      <td>ENSEMBL:ENSP00000272895</td>\n",
       "      <td>ABCA12</td>\n",
       "      <td>DOID:0060655</td>\n",
       "      <td>Autosomal recessive congenital ichthyosis</td>\n",
       "      <td>MedlinePlus</td>\n",
       "      <td>CURATED</td>\n",
       "      <td>5</td>\n",
       "      <td>UniProtKB:Q86UK0-1</td>\n",
       "      <td>glucosylceramide transporter ABCA12 isoform h1 (human)</td>\n",
       "      <td>biolink:Protein</td>\n",
       "      <td>MONDO:0017265</td>\n",
       "      <td>autosomal recessive congenital ichthyosis</td>\n",
       "    </tr>\n",
       "    <tr>\n",
       "      <th>1291</th>\n",
       "      <td>ENSEMBL:ENSP00000311687</td>\n",
       "      <td>NIPAL4</td>\n",
       "      <td>DOID:0060655</td>\n",
       "      <td>Autosomal recessive congenital ichthyosis</td>\n",
       "      <td>MedlinePlus</td>\n",
       "      <td>CURATED</td>\n",
       "      <td>5</td>\n",
       "      <td>UniProtKB:Q0D2K0-1</td>\n",
       "      <td>magnesium transporter NIPA4 isoform h1 (human)</td>\n",
       "      <td>biolink:Protein</td>\n",
       "      <td>MONDO:0017265</td>\n",
       "      <td>autosomal recessive congenital ichthyosis</td>\n",
       "    </tr>\n",
       "    <tr>\n",
       "      <th>1292</th>\n",
       "      <td>ENSEMBL:ENSP00000311687</td>\n",
       "      <td>NIPAL4</td>\n",
       "      <td>DOID:0060655</td>\n",
       "      <td>Autosomal recessive congenital ichthyosis</td>\n",
       "      <td>MedlinePlus</td>\n",
       "      <td>CURATED</td>\n",
       "      <td>5</td>\n",
       "      <td>UniProtKB:Q0D2K0-1</td>\n",
       "      <td>magnesium transporter NIPA4 isoform h1 (human)</td>\n",
       "      <td>biolink:Protein</td>\n",
       "      <td>MONDO:0017265</td>\n",
       "      <td>autosomal recessive congenital ichthyosis</td>\n",
       "    </tr>\n",
       "    <tr>\n",
       "      <th>1714</th>\n",
       "      <td>ENSEMBL:ENSP00000342392</td>\n",
       "      <td>MESP2</td>\n",
       "      <td>DOID:0050568</td>\n",
       "      <td>Spondylocostal dysostosis</td>\n",
       "      <td>MedlinePlus</td>\n",
       "      <td>CURATED</td>\n",
       "      <td>5</td>\n",
       "      <td>NCBIGene:145873</td>\n",
       "      <td>MESP2</td>\n",
       "      <td>biolink:Gene</td>\n",
       "      <td>MONDO:0000359</td>\n",
       "      <td>spondylocostal dysostosis</td>\n",
       "    </tr>\n",
       "    <tr>\n",
       "      <th>1715</th>\n",
       "      <td>ENSEMBL:ENSP00000342392</td>\n",
       "      <td>MESP2</td>\n",
       "      <td>DOID:0050568</td>\n",
       "      <td>Spondylocostal dysostosis</td>\n",
       "      <td>MedlinePlus</td>\n",
       "      <td>CURATED</td>\n",
       "      <td>5</td>\n",
       "      <td>NCBIGene:145873</td>\n",
       "      <td>MESP2</td>\n",
       "      <td>biolink:Gene</td>\n",
       "      <td>MONDO:0000359</td>\n",
       "      <td>spondylocostal dysostosis</td>\n",
       "    </tr>\n",
       "    <tr>\n",
       "      <th>2808</th>\n",
       "      <td>ENSEMBL:ENSP00000379845</td>\n",
       "      <td>ABAT</td>\n",
       "      <td>DOID:0060407</td>\n",
       "      <td>Chromosome 18q deletion syndrome</td>\n",
       "      <td>MedlinePlus</td>\n",
       "      <td>CURATED</td>\n",
       "      <td>5</td>\n",
       "      <td>NCBIGene:18</td>\n",
       "      <td>ABAT</td>\n",
       "      <td>biolink:Gene</td>\n",
       "      <td>MONDO:0011147</td>\n",
       "      <td>chromosome 18q deletion syndrome</td>\n",
       "    </tr>\n",
       "    <tr>\n",
       "      <th>2809</th>\n",
       "      <td>ENSEMBL:ENSP00000379845</td>\n",
       "      <td>ABAT</td>\n",
       "      <td>DOID:0060407</td>\n",
       "      <td>Chromosome 18q deletion syndrome</td>\n",
       "      <td>MedlinePlus</td>\n",
       "      <td>CURATED</td>\n",
       "      <td>5</td>\n",
       "      <td>NCBIGene:18</td>\n",
       "      <td>ABAT</td>\n",
       "      <td>biolink:Gene</td>\n",
       "      <td>MONDO:0011147</td>\n",
       "      <td>chromosome 18q deletion syndrome</td>\n",
       "    </tr>\n",
       "  </tbody>\n",
       "</table>\n",
       "</div>"
      ],
      "text/plain": [
       "                      gene_id gene_name    disease_id  \\\n",
       "811   ENSEMBL:ENSP00000269703   CYP4F22  DOID:0060655   \n",
       "812   ENSEMBL:ENSP00000269703   CYP4F22  DOID:0060655   \n",
       "837   ENSEMBL:ENSP00000272895    ABCA12  DOID:0060655   \n",
       "838   ENSEMBL:ENSP00000272895    ABCA12  DOID:0060655   \n",
       "1291  ENSEMBL:ENSP00000311687    NIPAL4  DOID:0060655   \n",
       "1292  ENSEMBL:ENSP00000311687    NIPAL4  DOID:0060655   \n",
       "1714  ENSEMBL:ENSP00000342392     MESP2  DOID:0050568   \n",
       "1715  ENSEMBL:ENSP00000342392     MESP2  DOID:0050568   \n",
       "2808  ENSEMBL:ENSP00000379845      ABAT  DOID:0060407   \n",
       "2809  ENSEMBL:ENSP00000379845      ABAT  DOID:0060407   \n",
       "\n",
       "                                   disease_name    source_db evidence_type  \\\n",
       "811   Autosomal recessive congenital ichthyosis  MedlinePlus       CURATED   \n",
       "812   Autosomal recessive congenital ichthyosis  MedlinePlus       CURATED   \n",
       "837   Autosomal recessive congenital ichthyosis  MedlinePlus       CURATED   \n",
       "838   Autosomal recessive congenital ichthyosis  MedlinePlus       CURATED   \n",
       "1291  Autosomal recessive congenital ichthyosis  MedlinePlus       CURATED   \n",
       "1292  Autosomal recessive congenital ichthyosis  MedlinePlus       CURATED   \n",
       "1714                  Spondylocostal dysostosis  MedlinePlus       CURATED   \n",
       "1715                  Spondylocostal dysostosis  MedlinePlus       CURATED   \n",
       "2808           Chromosome 18q deletion syndrome  MedlinePlus       CURATED   \n",
       "2809           Chromosome 18q deletion syndrome  MedlinePlus       CURATED   \n",
       "\n",
       "      confidence_score    gene_nodenorm_id  \\\n",
       "811                  5     NCBIGene:126410   \n",
       "812                  5     NCBIGene:126410   \n",
       "837                  5  UniProtKB:Q86UK0-1   \n",
       "838                  5  UniProtKB:Q86UK0-1   \n",
       "1291                 5  UniProtKB:Q0D2K0-1   \n",
       "1292                 5  UniProtKB:Q0D2K0-1   \n",
       "1714                 5     NCBIGene:145873   \n",
       "1715                 5     NCBIGene:145873   \n",
       "2808                 5         NCBIGene:18   \n",
       "2809                 5         NCBIGene:18   \n",
       "\n",
       "                                         gene_nodenorm_label  \\\n",
       "811                                                  CYP4F22   \n",
       "812                                                  CYP4F22   \n",
       "837   glucosylceramide transporter ABCA12 isoform h1 (human)   \n",
       "838   glucosylceramide transporter ABCA12 isoform h1 (human)   \n",
       "1291          magnesium transporter NIPA4 isoform h1 (human)   \n",
       "1292          magnesium transporter NIPA4 isoform h1 (human)   \n",
       "1714                                                   MESP2   \n",
       "1715                                                   MESP2   \n",
       "2808                                                    ABAT   \n",
       "2809                                                    ABAT   \n",
       "\n",
       "     gene_nodenorm_category disease_nodenorm_id  \\\n",
       "811            biolink:Gene       MONDO:0017265   \n",
       "812            biolink:Gene       MONDO:0017265   \n",
       "837         biolink:Protein       MONDO:0017265   \n",
       "838         biolink:Protein       MONDO:0017265   \n",
       "1291        biolink:Protein       MONDO:0017265   \n",
       "1292        biolink:Protein       MONDO:0017265   \n",
       "1714           biolink:Gene       MONDO:0000359   \n",
       "1715           biolink:Gene       MONDO:0000359   \n",
       "2808           biolink:Gene       MONDO:0011147   \n",
       "2809           biolink:Gene       MONDO:0011147   \n",
       "\n",
       "                         disease_nodenorm_label  \n",
       "811   autosomal recessive congenital ichthyosis  \n",
       "812   autosomal recessive congenital ichthyosis  \n",
       "837   autosomal recessive congenital ichthyosis  \n",
       "838   autosomal recessive congenital ichthyosis  \n",
       "1291  autosomal recessive congenital ichthyosis  \n",
       "1292  autosomal recessive congenital ichthyosis  \n",
       "1714                  spondylocostal dysostosis  \n",
       "1715                  spondylocostal dysostosis  \n",
       "2808           chromosome 18q deletion syndrome  \n",
       "2809           chromosome 18q deletion syndrome  "
      ]
     },
     "execution_count": 47,
     "metadata": {},
     "output_type": "execute_result"
    }
   ],
   "source": [
    "## duplicates: comparing to printout\n",
    "\n",
    "df_knowledge[df_knowledge.duplicated(subset=[\"gene_id\", \"disease_id\", \"source_db\"], keep=False)]"
   ]
  },
  {
   "cell_type": "code",
   "execution_count": 48,
   "id": "ded0e92c",
   "metadata": {
    "ExecuteTime": {
     "end_time": "2025-08-05T00:59:18.609777Z",
     "start_time": "2025-08-05T00:59:18.605489Z"
    }
   },
   "outputs": [
    {
     "data": {
      "text/plain": [
       "269337"
      ]
     },
     "execution_count": 48,
     "metadata": {},
     "output_type": "execute_result"
    }
   ],
   "source": [
    "## number of docs that should be created\n",
    "df_textmining.shape[0] + df_knowledge.shape[0] - 5  ## add together, remove duplicates"
   ]
  },
  {
   "cell_type": "markdown",
   "id": "70cea85c",
   "metadata": {},
   "source": [
    "### File: KGX edges"
   ]
  },
  {
   "cell_type": "code",
   "execution_count": null,
   "id": "c9fcd128",
   "metadata": {
    "ExecuteTime": {
     "end_time": "2025-05-06T06:45:06.033682Z",
     "start_time": "2025-05-06T06:45:06.018672Z"
    }
   },
   "outputs": [],
   "source": [
    "# df_textmining"
   ]
  },
  {
   "cell_type": "code",
   "execution_count": null,
   "id": "b96bc85f",
   "metadata": {
    "ExecuteTime": {
     "end_time": "2025-05-06T06:45:13.076600Z",
     "start_time": "2025-05-06T06:45:13.046773Z"
    }
   },
   "outputs": [],
   "source": [
    "## code chunk for testing parts of inner code\n",
    "\n",
    "# with jsonlines.open('DISEASES_kgx_edges.jsonl', mode='w', compact=True) as kgx_edges_writer:\n",
    "#     textmining_tally = set()\n",
    "    \n",
    "#     ## using itertuples because it's faster, preserves datatypes\n",
    "#     for row in df_textmining.itertuples(index=False):\n",
    "#         ## construct row abbreviation\n",
    "#         temp = row.gene_id + \"_\" + row.disease_id\n",
    "        \n",
    "        \n",
    "#         if row.gene_id == \"ENSEMBL:ENSP00000000412\":\n",
    "#             break    "
   ]
  },
  {
   "cell_type": "code",
   "execution_count": 49,
   "id": "596dfc38",
   "metadata": {
    "ExecuteTime": {
     "end_time": "2025-08-05T01:00:35.314417Z",
     "start_time": "2025-08-05T01:00:31.047661Z"
    }
   },
   "outputs": [
    {
     "name": "stdout",
     "output_type": "stream",
     "text": [
      "duplicate row encountered: ENSEMBL:ENSP00000269703_DOID:0060655_MedlinePlus\n",
      "duplicate row encountered: ENSEMBL:ENSP00000272895_DOID:0060655_MedlinePlus\n",
      "duplicate row encountered: ENSEMBL:ENSP00000311687_DOID:0060655_MedlinePlus\n",
      "duplicate row encountered: ENSEMBL:ENSP00000342392_DOID:0050568_MedlinePlus\n",
      "duplicate row encountered: ENSEMBL:ENSP00000379845_DOID:0060407_MedlinePlus\n"
     ]
    }
   ],
   "source": [
    "\n",
    "\n",
    "with jsonlines.open('DISEASES_kgx_edges.jsonl', mode='w', compact=True) as kgx_edges_writer:\n",
    "    \n",
    "## text-mined data: parser - separate function (diff row abbreviation, document)\n",
    "    textmining_tally = set()\n",
    "    \n",
    "    ## using itertuples because it's faster, preserves datatypes\n",
    "    for row in df_textmining.itertuples(index=False):\n",
    "        ## construct row abbreviation\n",
    "        temp = row.gene_id + \"_\" + row.disease_id\n",
    "        \n",
    "        if temp not in textmining_tally:\n",
    "            textmining_tally.add(temp)\n",
    "\n",
    "            document = {\n",
    "                \"subject\": row.gene_nodenorm_id,\n",
    "                \"predicate\": \"biolink:occurs_together_in_literature_with\",\n",
    "                \"object\": row.disease_nodenorm_id,\n",
    "                \"sources\": [\n",
    "                    {\n",
    "                        \"resource_id\": \"infores:diseases\",\n",
    "                        \"resource_role\": \"primary_knowledge_source\",\n",
    "                        \"source_record_urls\": [row.url]\n",
    "                    }\n",
    "                ],\n",
    "                \"knowledge_level\": \"statistical_association\",\n",
    "                \"agent_type\": \"text_mining_agent\",\n",
    "                \"z_score\": row.z_score,\n",
    "                \"has_confidence_score\": row.confidence_score,\n",
    "                \"original_subject\": row.gene_id,\n",
    "                \"original_object\": row.disease_id,\n",
    "            }\n",
    "            \n",
    "            ## doing so it doesn't print\n",
    "            bytes = kgx_edges_writer.write(document)\n",
    "        else:\n",
    "            ## won't write the document\n",
    "            print(f\"duplicate row encountered: {temp}\")\n",
    "\n",
    "## knowledge data: parser - separate function (diff row abbreviation, document)\n",
    "    knowledge_tally = set()\n",
    "    \n",
    "    ## using itertuples because it's faster, preserves datatypes\n",
    "    for row in df_knowledge.itertuples(index=False):\n",
    "        ## construct row abbreviation: needs source_db!\n",
    "        temp = row.gene_id + \"_\" + row.disease_id + \"_\" + row.source_db\n",
    "        \n",
    "        if temp not in knowledge_tally:\n",
    "            knowledge_tally.add(temp)\n",
    "\n",
    "            document = {\n",
    "                ## simple assignments: no if\n",
    "                \"subject\": row.gene_nodenorm_id,\n",
    "                \"predicate\": \"biolink:associated_with\",\n",
    "                \"object\": row.disease_nodenorm_id,\n",
    "                \"knowledge_level\": \"knowledge_assertion\",\n",
    "                \"agent_type\": \"manual_agent\",\n",
    "                \"has_confidence_score\": row.confidence_score,\n",
    "                \"original_subject\": row.gene_id,\n",
    "                \"original_object\": row.disease_id,\n",
    "            }\n",
    "            \n",
    "            ## sources: depends on source_db value\n",
    "            if row.source_db == \"MedlinePlus\":\n",
    "                document[\"sources\"] = [\n",
    "                    {\n",
    "                        \"resource_id\": \"infores:medlineplus\",\n",
    "                        \"resource_role\": \"primary_knowledge_source\"\n",
    "                    },\n",
    "                    {\n",
    "                        \"resource_id\": \"infores:diseases\",\n",
    "                        \"resource_role\": \"aggregator_knowledge_source\",\n",
    "                        \"upstream_resource_ids\": [\"infores:medlineplus\"]\n",
    "                    }\n",
    "                ]\n",
    "            elif row.source_db == \"AmyCo\":\n",
    "                document[\"sources\"] = [\n",
    "                    {\n",
    "                        \"resource_id\": \"infores:amyco\",\n",
    "                        \"resource_role\": \"primary_knowledge_source\"\n",
    "                    },\n",
    "                    {\n",
    "                        \"resource_id\": \"infores:diseases\",\n",
    "                        \"resource_role\": \"aggregator_knowledge_source\",\n",
    "                        \"upstream_resource_ids\": [\"infores:amyco\"]\n",
    "                    }\n",
    "                ]\n",
    "            else:\n",
    "                raise ValueError(f\"Unexpected source_db value during source mapping: {row.source_db}. Adjust parser.\")\n",
    "            \n",
    "            ## doing so it doesn't print\n",
    "            bytes = kgx_edges_writer.write(document)\n",
    "        else:\n",
    "            ## won't write the document\n",
    "            print(f\"duplicate row encountered: {temp}\")"
   ]
  },
  {
   "cell_type": "markdown",
   "id": "1b6ee739",
   "metadata": {},
   "source": [
    "### File: KGX nodes"
   ]
  },
  {
   "cell_type": "markdown",
   "id": "d81173fd",
   "metadata": {},
   "source": [
    "Requires id and category. name and other properties (basically node attributes) are optional. "
   ]
  },
  {
   "cell_type": "code",
   "execution_count": 50,
   "id": "f282dfea",
   "metadata": {
    "ExecuteTime": {
     "end_time": "2025-08-05T01:00:39.689500Z",
     "start_time": "2025-08-05T01:00:39.464507Z"
    }
   },
   "outputs": [
    {
     "data": {
      "text/html": [
       "<div>\n",
       "<style scoped>\n",
       "    .dataframe tbody tr th:only-of-type {\n",
       "        vertical-align: middle;\n",
       "    }\n",
       "\n",
       "    .dataframe tbody tr th {\n",
       "        vertical-align: top;\n",
       "    }\n",
       "\n",
       "    .dataframe thead th {\n",
       "        text-align: right;\n",
       "    }\n",
       "</style>\n",
       "<table border=\"1\" class=\"dataframe\">\n",
       "  <thead>\n",
       "    <tr style=\"text-align: right;\">\n",
       "      <th></th>\n",
       "      <th>gene_nodenorm_id</th>\n",
       "      <th>gene_nodenorm_label</th>\n",
       "      <th>gene_nodenorm_category</th>\n",
       "    </tr>\n",
       "  </thead>\n",
       "  <tbody>\n",
       "    <tr>\n",
       "      <th>0</th>\n",
       "      <td>NCBIGene:381</td>\n",
       "      <td>ARF5</td>\n",
       "      <td>biolink:Gene</td>\n",
       "    </tr>\n",
       "    <tr>\n",
       "      <th>3</th>\n",
       "      <td>NCBIGene:4074</td>\n",
       "      <td>M6PR</td>\n",
       "      <td>biolink:Gene</td>\n",
       "    </tr>\n",
       "    <tr>\n",
       "      <th>10</th>\n",
       "      <td>NCBIGene:2288</td>\n",
       "      <td>FKBP4</td>\n",
       "      <td>biolink:Gene</td>\n",
       "    </tr>\n",
       "    <tr>\n",
       "      <th>34</th>\n",
       "      <td>UniProtKB:Q9NR63-1</td>\n",
       "      <td>cytochrome P450 26B1 isoform 1 (human)</td>\n",
       "      <td>biolink:Protein</td>\n",
       "    </tr>\n",
       "    <tr>\n",
       "      <th>50</th>\n",
       "      <td>UniProtKB:Q7L592-1</td>\n",
       "      <td>protein arginine methyltransferase NDUFAF7, mitochondrial isoform 1 (human)</td>\n",
       "      <td>biolink:Protein</td>\n",
       "    </tr>\n",
       "    <tr>\n",
       "      <th>...</th>\n",
       "      <td>...</td>\n",
       "      <td>...</td>\n",
       "      <td>...</td>\n",
       "    </tr>\n",
       "    <tr>\n",
       "      <th>265376</th>\n",
       "      <td>UniProtKB:Q149M9-3</td>\n",
       "      <td>NACHT domain- and WD repeat-containing protein 1 isoform h3 (human)</td>\n",
       "      <td>biolink:Protein</td>\n",
       "    </tr>\n",
       "    <tr>\n",
       "      <th>265377</th>\n",
       "      <td>UniProtKB:Q86U70-1</td>\n",
       "      <td>LIM domain-binding protein 1 isoform 1 (human)</td>\n",
       "      <td>biolink:Protein</td>\n",
       "    </tr>\n",
       "    <tr>\n",
       "      <th>265842</th>\n",
       "      <td>UniProtKB:P41219-1</td>\n",
       "      <td>peripherin isoform h1 (human)</td>\n",
       "      <td>biolink:Protein</td>\n",
       "    </tr>\n",
       "    <tr>\n",
       "      <th>268259</th>\n",
       "      <td>UniProtKB:Q96JH8-4</td>\n",
       "      <td>Ras-associating and dilute domain-containing protein isoform h4 (human)</td>\n",
       "      <td>biolink:Protein</td>\n",
       "    </tr>\n",
       "    <tr>\n",
       "      <th>268626</th>\n",
       "      <td>UniProtKB:Q8N187-1</td>\n",
       "      <td>calcium-responsive transcription factor isoform h1 (human)</td>\n",
       "      <td>biolink:Protein</td>\n",
       "    </tr>\n",
       "  </tbody>\n",
       "</table>\n",
       "<p>16393 rows × 3 columns</p>\n",
       "</div>"
      ],
      "text/plain": [
       "          gene_nodenorm_id  \\\n",
       "0             NCBIGene:381   \n",
       "3            NCBIGene:4074   \n",
       "10           NCBIGene:2288   \n",
       "34      UniProtKB:Q9NR63-1   \n",
       "50      UniProtKB:Q7L592-1   \n",
       "...                    ...   \n",
       "265376  UniProtKB:Q149M9-3   \n",
       "265377  UniProtKB:Q86U70-1   \n",
       "265842  UniProtKB:P41219-1   \n",
       "268259  UniProtKB:Q96JH8-4   \n",
       "268626  UniProtKB:Q8N187-1   \n",
       "\n",
       "                                                                gene_nodenorm_label  \\\n",
       "0                                                                              ARF5   \n",
       "3                                                                              M6PR   \n",
       "10                                                                            FKBP4   \n",
       "34                                           cytochrome P450 26B1 isoform 1 (human)   \n",
       "50      protein arginine methyltransferase NDUFAF7, mitochondrial isoform 1 (human)   \n",
       "...                                                                             ...   \n",
       "265376          NACHT domain- and WD repeat-containing protein 1 isoform h3 (human)   \n",
       "265377                               LIM domain-binding protein 1 isoform 1 (human)   \n",
       "265842                                                peripherin isoform h1 (human)   \n",
       "268259      Ras-associating and dilute domain-containing protein isoform h4 (human)   \n",
       "268626                   calcium-responsive transcription factor isoform h1 (human)   \n",
       "\n",
       "       gene_nodenorm_category  \n",
       "0                biolink:Gene  \n",
       "3                biolink:Gene  \n",
       "10               biolink:Gene  \n",
       "34            biolink:Protein  \n",
       "50            biolink:Protein  \n",
       "...                       ...  \n",
       "265376        biolink:Protein  \n",
       "265377        biolink:Protein  \n",
       "265842        biolink:Protein  \n",
       "268259        biolink:Protein  \n",
       "268626        biolink:Protein  \n",
       "\n",
       "[16393 rows x 3 columns]"
      ]
     },
     "execution_count": 50,
     "metadata": {},
     "output_type": "execute_result"
    },
    {
     "data": {
      "text/html": [
       "<div>\n",
       "<style scoped>\n",
       "    .dataframe tbody tr th:only-of-type {\n",
       "        vertical-align: middle;\n",
       "    }\n",
       "\n",
       "    .dataframe tbody tr th {\n",
       "        vertical-align: top;\n",
       "    }\n",
       "\n",
       "    .dataframe thead th {\n",
       "        text-align: right;\n",
       "    }\n",
       "</style>\n",
       "<table border=\"1\" class=\"dataframe\">\n",
       "  <thead>\n",
       "    <tr style=\"text-align: right;\">\n",
       "      <th></th>\n",
       "      <th>disease_nodenorm_id</th>\n",
       "      <th>disease_nodenorm_label</th>\n",
       "    </tr>\n",
       "  </thead>\n",
       "  <tbody>\n",
       "    <tr>\n",
       "      <th>0</th>\n",
       "      <td>MONDO:0009271</td>\n",
       "      <td>geroderma osteodysplastica</td>\n",
       "    </tr>\n",
       "    <tr>\n",
       "      <th>1</th>\n",
       "      <td>MONDO:0004992</td>\n",
       "      <td>cancer</td>\n",
       "    </tr>\n",
       "    <tr>\n",
       "      <th>2</th>\n",
       "      <td>MONDO:0005071</td>\n",
       "      <td>nervous system disorder</td>\n",
       "    </tr>\n",
       "    <tr>\n",
       "      <th>3</th>\n",
       "      <td>MONDO:0009650</td>\n",
       "      <td>Mucolipidosis 2</td>\n",
       "    </tr>\n",
       "    <tr>\n",
       "      <th>4</th>\n",
       "      <td>MONDO:0018931</td>\n",
       "      <td>mucolipidosis type III, alpha/beta</td>\n",
       "    </tr>\n",
       "    <tr>\n",
       "      <th>...</th>\n",
       "      <td>...</td>\n",
       "      <td>...</td>\n",
       "    </tr>\n",
       "    <tr>\n",
       "      <th>269095</th>\n",
       "      <td>MONDO:0011152</td>\n",
       "      <td>PHGDH deficiency</td>\n",
       "    </tr>\n",
       "    <tr>\n",
       "      <th>269110</th>\n",
       "      <td>MONDO:0100428</td>\n",
       "      <td>progressive bulbar palsy of childhood</td>\n",
       "    </tr>\n",
       "    <tr>\n",
       "      <th>269121</th>\n",
       "      <td>MONDO:0012791</td>\n",
       "      <td>mitochondrial DNA depletion syndrome, encephalomyopathic form with methylmalonic aciduria</td>\n",
       "    </tr>\n",
       "    <tr>\n",
       "      <th>269319</th>\n",
       "      <td>MONDO:0009949</td>\n",
       "      <td>pyruvate carboxylase deficiency disease</td>\n",
       "    </tr>\n",
       "    <tr>\n",
       "      <th>269332</th>\n",
       "      <td>MONDO:0010556</td>\n",
       "      <td>X-linked chondrodysplasia punctata</td>\n",
       "    </tr>\n",
       "  </tbody>\n",
       "</table>\n",
       "<p>5556 rows × 2 columns</p>\n",
       "</div>"
      ],
      "text/plain": [
       "       disease_nodenorm_id  \\\n",
       "0            MONDO:0009271   \n",
       "1            MONDO:0004992   \n",
       "2            MONDO:0005071   \n",
       "3            MONDO:0009650   \n",
       "4            MONDO:0018931   \n",
       "...                    ...   \n",
       "269095       MONDO:0011152   \n",
       "269110       MONDO:0100428   \n",
       "269121       MONDO:0012791   \n",
       "269319       MONDO:0009949   \n",
       "269332       MONDO:0010556   \n",
       "\n",
       "                                                                           disease_nodenorm_label  \n",
       "0                                                                      geroderma osteodysplastica  \n",
       "1                                                                                          cancer  \n",
       "2                                                                         nervous system disorder  \n",
       "3                                                                                 Mucolipidosis 2  \n",
       "4                                                              mucolipidosis type III, alpha/beta  \n",
       "...                                                                                           ...  \n",
       "269095                                                                           PHGDH deficiency  \n",
       "269110                                                      progressive bulbar palsy of childhood  \n",
       "269121  mitochondrial DNA depletion syndrome, encephalomyopathic form with methylmalonic aciduria  \n",
       "269319                                                    pyruvate carboxylase deficiency disease  \n",
       "269332                                                         X-linked chondrodysplasia punctata  \n",
       "\n",
       "[5556 rows x 2 columns]"
      ]
     },
     "execution_count": 50,
     "metadata": {},
     "output_type": "execute_result"
    }
   ],
   "source": [
    "## get unique list of NodeNormed nodes\n",
    "\n",
    "## need category \n",
    "nodenormed_genes_final = pd.concat([df_textmining[[\"gene_nodenorm_id\", \"gene_nodenorm_label\", \"gene_nodenorm_category\"]], \n",
    "                         df_knowledge[[\"gene_nodenorm_id\", \"gene_nodenorm_label\", \"gene_nodenorm_category\"]]], \n",
    "                        ignore_index=True).drop_duplicates()\n",
    "nodenormed_diseases_final = pd.concat([df_textmining[[\"disease_nodenorm_id\", \"disease_nodenorm_label\"]], \n",
    "                            df_knowledge[[\"disease_nodenorm_id\", \"disease_nodenorm_label\"]]], \n",
    "                           ignore_index=True).drop_duplicates()\n",
    "\n",
    "nodenormed_genes_final\n",
    "nodenormed_diseases_final"
   ]
  },
  {
   "cell_type": "code",
   "execution_count": 51,
   "id": "a225b747",
   "metadata": {
    "ExecuteTime": {
     "end_time": "2025-08-05T01:00:52.449312Z",
     "start_time": "2025-08-05T01:00:52.291724Z"
    }
   },
   "outputs": [],
   "source": [
    "\n",
    "\n",
    "with jsonlines.open('DISEASES_kgx_nodes.jsonl', mode='w', compact=True) as kgx_nodes_writer:\n",
    "    \n",
    "    ## using itertuples because it's faster, preserves datatypes\n",
    "    for row in nodenormed_genes_final.itertuples(index=False):\n",
    "        ## doing so it doesn't print\n",
    "        bytes = kgx_nodes_writer.write({\n",
    "            \"id\": row.gene_nodenorm_id,\n",
    "            \"name\": row.gene_nodenorm_label,\n",
    "            \"category\": [row.gene_nodenorm_category]\n",
    "        })\n",
    "\n",
    "    ## using itertuples because it's faster, preserves datatypes\n",
    "    for row in nodenormed_diseases_final.itertuples(index=False):\n",
    "        ## doing so it doesn't print\n",
    "        bytes = kgx_nodes_writer.write({\n",
    "            \"id\": row.disease_nodenorm_id,\n",
    "            \"name\": row.disease_nodenorm_label,\n",
    "            ## hard-coded because during pre-NodeNorm process, only kept entities with this primary category\n",
    "            \"category\": [\"biolink:Disease\"]\n",
    "        })"
   ]
  },
  {
   "cell_type": "code",
   "execution_count": 52,
   "id": "03295bae",
   "metadata": {
    "ExecuteTime": {
     "end_time": "2025-08-05T01:00:53.555783Z",
     "start_time": "2025-08-05T01:00:53.551286Z"
    }
   },
   "outputs": [
    {
     "data": {
      "text/plain": [
       "21949"
      ]
     },
     "execution_count": 52,
     "metadata": {},
     "output_type": "execute_result"
    }
   ],
   "source": [
    "nodenormed_genes_final.shape[0] + nodenormed_diseases_final.shape[0]"
   ]
  },
  {
   "cell_type": "markdown",
   "id": "c3fb5da8",
   "metadata": {},
   "source": [
    "## Notes"
   ]
  },
  {
   "cell_type": "markdown",
   "id": "8ebfd610",
   "metadata": {},
   "source": [
    "* __will create edges that look like duplicates because triple is the same, but the original IDs/data is diff. Just leaving it this way for now -> but will need to consider what to do (possible to merge??).__\n",
    "* confidence_score is sometimes float (from text-mining) and sometimes int (from knowledge). Not worried about, for now. "
   ]
  },
  {
   "cell_type": "code",
   "execution_count": null,
   "id": "2d34c282",
   "metadata": {},
   "outputs": [],
   "source": []
  }
 ],
 "metadata": {
  "kernelspec": {
   "display_name": "Python 3 (ipykernel)",
   "language": "python",
   "name": "python3"
  },
  "language_info": {
   "codemirror_mode": {
    "name": "ipython",
    "version": 3
   },
   "file_extension": ".py",
   "mimetype": "text/x-python",
   "name": "python",
   "nbconvert_exporter": "python",
   "pygments_lexer": "ipython3",
   "version": "3.12.9"
  },
  "toc": {
   "base_numbering": 1,
   "nav_menu": {},
   "number_sections": false,
   "sideBar": true,
   "skip_h1_title": true,
   "title_cell": "Table of Contents",
   "title_sidebar": "Contents",
   "toc_cell": true,
   "toc_position": {
    "height": "calc(100% - 180px)",
    "left": "10px",
    "top": "150px",
    "width": "258.15px"
   },
   "toc_section_display": true,
   "toc_window_display": false
  }
 },
 "nbformat": 4,
 "nbformat_minor": 5
}
