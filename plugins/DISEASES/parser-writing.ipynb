{
 "cells": [
  {
   "cell_type": "markdown",
   "id": "65fd087a",
   "metadata": {
    "toc": true
   },
   "source": [
    "<h1>Table of Contents<span class=\"tocSkip\"></span></h1>\n",
    "<div class=\"toc\"><ul class=\"toc-item\"><li><span><a href=\"#Exploring-data\" data-toc-modified-id=\"Exploring-data-1\">Exploring data</a></span><ul class=\"toc-item\"><li><span><a href=\"#Downloading-files\" data-toc-modified-id=\"Downloading-files-1.1\">Downloading files</a></span></li><li><span><a href=\"#Check-for-duplicates\" data-toc-modified-id=\"Check-for-duplicates-1.2\">Check for duplicates</a></span></li><li><span><a href=\"#gene_id-column\" data-toc-modified-id=\"gene_id-column-1.3\">gene_id column</a></span><ul class=\"toc-item\"><li><span><a href=\"#Text-mining\" data-toc-modified-id=\"Text-mining-1.3.1\">Text-mining</a></span></li><li><span><a href=\"#Knowledge\" data-toc-modified-id=\"Knowledge-1.3.2\">Knowledge</a></span></li><li><span><a href=\"#Experiments\" data-toc-modified-id=\"Experiments-1.3.3\">Experiments</a></span></li></ul></li><li><span><a href=\"#gene_name-column\" data-toc-modified-id=\"gene_name-column-1.4\">gene_name column</a></span></li><li><span><a href=\"#disease_id\" data-toc-modified-id=\"disease_id-1.5\">disease_id</a></span><ul class=\"toc-item\"><li><span><a href=\"#Text-mining\" data-toc-modified-id=\"Text-mining-1.5.1\">Text-mining</a></span></li><li><span><a href=\"#Knowledge\" data-toc-modified-id=\"Knowledge-1.5.2\">Knowledge</a></span></li><li><span><a href=\"#Experiments\" data-toc-modified-id=\"Experiments-1.5.3\">Experiments</a></span></li></ul></li><li><span><a href=\"#Other-columns\" data-toc-modified-id=\"Other-columns-1.6\">Other columns</a></span><ul class=\"toc-item\"><li><span><a href=\"#Text-mining\" data-toc-modified-id=\"Text-mining-1.6.1\">Text-mining</a></span></li><li><span><a href=\"#Knowledge\" data-toc-modified-id=\"Knowledge-1.6.2\">Knowledge</a></span></li><li><span><a href=\"#Experiments\" data-toc-modified-id=\"Experiments-1.6.3\">Experiments</a></span></li></ul></li></ul></li><li><span><a href=\"#Remove-rows\" data-toc-modified-id=\"Remove-rows-2\">Remove rows</a></span></li><li><span><a href=\"#Pre-NodeNorming\" data-toc-modified-id=\"Pre-NodeNorming-3\">Pre-NodeNorming</a></span><ul class=\"toc-item\"><li><span><a href=\"#Genes\" data-toc-modified-id=\"Genes-3.1\">Genes</a></span></li><li><span><a href=\"#Diseases\" data-toc-modified-id=\"Diseases-3.2\">Diseases</a></span></li><li><span><a href=\"#Adding-NodeNorm-data,-removing-rows\" data-toc-modified-id=\"Adding-NodeNorm-data,-removing-rows-3.3\">Adding NodeNorm data, removing rows</a></span></li><li><span><a href=\"#Exploring-&quot;duplicates&quot;-from-NodeNorming\" data-toc-modified-id=\"Exploring-&quot;duplicates&quot;-from-NodeNorming-3.4\">Exploring \"duplicates\" from NodeNorming</a></span></li></ul></li><li><span><a href=\"#Generating-documents\" data-toc-modified-id=\"Generating-documents-4\">Generating documents</a></span><ul class=\"toc-item\"><li><span><a href=\"#Rows-not-included\" data-toc-modified-id=\"Rows-not-included-4.1\">Rows not included</a></span></li><li><span><a href=\"#Columns-not-included\" data-toc-modified-id=\"Columns-not-included-4.2\">Columns not included</a></span></li><li><span><a href=\"#File:-List-of-TRAPI-edges\" data-toc-modified-id=\"File:-List-of-TRAPI-edges-4.3\">File: List of TRAPI edges</a></span></li><li><span><a href=\"#File:-KGX-edges\" data-toc-modified-id=\"File:-KGX-edges-4.4\">File: KGX edges</a></span></li><li><span><a href=\"#File:-KGX-nodes\" data-toc-modified-id=\"File:-KGX-nodes-4.5\">File: KGX nodes</a></span></li></ul></li><li><span><a href=\"#Notes\" data-toc-modified-id=\"Notes-5\">Notes</a></span></li></ul></div>"
   ]
  },
  {
   "cell_type": "markdown",
   "id": "f18ee197",
   "metadata": {},
   "source": [
    "# Notebook for DISEASES parser development"
   ]
  },
  {
   "cell_type": "code",
   "execution_count": 1,
   "id": "3573099c",
   "metadata": {
    "ExecuteTime": {
     "end_time": "2025-07-12T01:08:16.814335Z",
     "start_time": "2025-07-12T01:08:16.767799Z"
    }
   },
   "outputs": [],
   "source": [
    "## not for parser. for notebook only \n",
    "\n",
    "## CX: allows multiple lines of code to print from one code block\n",
    "from IPython.core.interactiveshell import InteractiveShell\n",
    "InteractiveShell.ast_node_interactivity = \"all\""
   ]
  },
  {
   "cell_type": "markdown",
   "id": "aa862467",
   "metadata": {},
   "source": [
    "## Exploring data"
   ]
  },
  {
   "cell_type": "markdown",
   "id": "0a4ac932",
   "metadata": {},
   "source": [
    "### Downloading files"
   ]
  },
  {
   "cell_type": "markdown",
   "id": "96f2ef49",
   "metadata": {},
   "source": [
    "Going to load entire files for review. \n",
    "\n",
    "In parser, may want to do a generator approach and ingest large chunks (ex: 1000-2000 lines) at 1 time. This balances \"less memory footprint\" vs \"NodeNorming in large batches is faster\". \n",
    "\n",
    "(pandas [read_table](https://pandas.pydata.org/docs/reference/api/pandas.read_table.html) has an iterator for rows/chunks! see iterator/chunksize parameters)"
   ]
  },
  {
   "cell_type": "code",
   "execution_count": 2,
   "id": "8325a51e",
   "metadata": {
    "ExecuteTime": {
     "end_time": "2025-07-12T01:08:17.361585Z",
     "start_time": "2025-07-12T01:08:16.817239Z"
    }
   },
   "outputs": [],
   "source": [
    "## put in parser (format)\n",
    "import pathlib\n",
    "import pandas as pd\n",
    "\n",
    "## don't put in parser. Just for this notebook\n",
    "from pprint import pprint\n",
    "\n",
    "## unsure on putting into parser: more for notebook viewing/debugging...\n",
    "pd.options.display.max_columns = None"
   ]
  },
  {
   "cell_type": "code",
   "execution_count": 3,
   "id": "49ac26f3",
   "metadata": {
    "ExecuteTime": {
     "end_time": "2025-07-12T01:08:17.367330Z",
     "start_time": "2025-07-12T01:08:17.363966Z"
    }
   },
   "outputs": [],
   "source": [
    "## useful function for exploring data\n",
    "def check_if_contains(df, column_name, patterns):\n",
    "    for i in patterns:\n",
    "        temp = df[df[column_name].str.contains(pat=i, case=False)]\n",
    "        if temp.size > 0:\n",
    "            print(f'\"{i}\"')\n",
    "            print(temp.shape)"
   ]
  },
  {
   "cell_type": "markdown",
   "id": "e23c358f",
   "metadata": {},
   "source": [
    "<div class=\"alert alert-block alert-danger\">\n",
    "    \n",
    "This notebook was originally written using data files downloaded 2025-04-14 between 4:23-4:24 PM Pacific time (23:23-23:24 UTC+0) from https://diseases.jensenlab.org/Downloads. "
   ]
  },
  {
   "cell_type": "code",
   "execution_count": 4,
   "id": "63f0a6ac",
   "metadata": {
    "ExecuteTime": {
     "end_time": "2025-07-12T01:08:17.383649Z",
     "start_time": "2025-07-12T01:08:17.371179Z"
    }
   },
   "outputs": [
    {
     "data": {
      "text/plain": [
       "PosixPath('/Users/colleenxu/Desktop/DISEASES_files/2025_05_02/human_disease_textmining_filtered.tsv')"
      ]
     },
     "execution_count": 4,
     "metadata": {},
     "output_type": "execute_result"
    },
    {
     "data": {
      "text/plain": [
       "PosixPath('/Users/colleenxu/Desktop/DISEASES_files/2025_05_02/human_disease_knowledge_filtered.tsv')"
      ]
     },
     "execution_count": 4,
     "metadata": {},
     "output_type": "execute_result"
    },
    {
     "data": {
      "text/plain": [
       "PosixPath('/Users/colleenxu/Desktop/DISEASES_files/2025_05_02/human_disease_experiments_filtered.tsv')"
      ]
     },
     "execution_count": 4,
     "metadata": {},
     "output_type": "execute_result"
    }
   ],
   "source": [
    "## put in parser (format)\n",
    "\n",
    "## paths to raw data files\n",
    "\n",
    "base_file_path = pathlib.Path.home().joinpath(\"Desktop\", \"DISEASES_files\", \"2025_05_02\")\n",
    "\n",
    "textmining_path = base_file_path.joinpath(\"human_disease_textmining_filtered.tsv\")\n",
    "knowledge_path = base_file_path.joinpath(\"human_disease_knowledge_filtered.tsv\")\n",
    "experiments_path = base_file_path.joinpath(\"human_disease_experiments_filtered.tsv\")\n",
    "\n",
    "\n",
    "textmining_path\n",
    "knowledge_path\n",
    "experiments_path"
   ]
  },
  {
   "cell_type": "code",
   "execution_count": 5,
   "id": "dd0fc904",
   "metadata": {
    "ExecuteTime": {
     "end_time": "2025-07-12T01:08:18.286225Z",
     "start_time": "2025-07-12T01:08:17.386083Z"
    },
    "scrolled": true
   },
   "outputs": [],
   "source": [
    "## put in parser (format)\n",
    "\n",
    "## download files\n",
    "\n",
    "## files have no headers: adding based on https://diseases.jensenlab.org/Downloads\n",
    "textmining_header = [\"gene_id\", \"gene_name\", \"disease_id\", \"disease_name\", \n",
    "                     \"z_score\", \"confidence_score\", \"url\"]\n",
    "knowledge_header = [\"gene_id\", \"gene_name\", \"disease_id\", \"disease_name\", \n",
    "                    \"source_db\", \"evidence_type\", \"confidence_score\"]\n",
    "\n",
    "\n",
    "df_textmining = pd.read_table(textmining_path, sep=\"\\t\", names=textmining_header)\n",
    "df_knowledge = pd.read_table(knowledge_path, sep=\"\\t\", names=knowledge_header)"
   ]
  },
  {
   "cell_type": "code",
   "execution_count": 6,
   "id": "c2367383",
   "metadata": {
    "ExecuteTime": {
     "end_time": "2025-07-12T01:08:18.291335Z",
     "start_time": "2025-07-12T01:08:18.288484Z"
    }
   },
   "outputs": [],
   "source": [
    "## loading experiments: commenting out experiments exploration just in case\n",
    "\n",
    "# experiments_header = [\"gene_id\", \"gene_name\", \"disease_id\", \"disease_name\", \n",
    "#                     \"source_db\", \"source_score\", \"confidence_score\"]\n",
    "\n",
    "\n",
    "# df_experiments = pd.read_table(experiments_path, sep=\"\\t\", names=experiments_header)"
   ]
  },
  {
   "cell_type": "markdown",
   "id": "feb424a4",
   "metadata": {},
   "source": [
    "<div class=\"alert alert-block alert-info\">\n",
    "\n",
    "No missing values"
   ]
  },
  {
   "cell_type": "code",
   "execution_count": 7,
   "id": "141a10e4",
   "metadata": {
    "ExecuteTime": {
     "end_time": "2025-07-12T01:08:18.734940Z",
     "start_time": "2025-07-12T01:08:18.294163Z"
    }
   },
   "outputs": [
    {
     "name": "stdout",
     "output_type": "stream",
     "text": [
      "<class 'pandas.core.frame.DataFrame'>\n",
      "RangeIndex: 288571 entries, 0 to 288570\n",
      "Data columns (total 7 columns):\n",
      " #   Column            Non-Null Count   Dtype  \n",
      "---  ------            --------------   -----  \n",
      " 0   gene_id           288571 non-null  object \n",
      " 1   gene_name         288571 non-null  object \n",
      " 2   disease_id        288571 non-null  object \n",
      " 3   disease_name      288571 non-null  object \n",
      " 4   z_score           288571 non-null  float64\n",
      " 5   confidence_score  288571 non-null  float64\n",
      " 6   url               288571 non-null  object \n",
      "dtypes: float64(2), object(5)\n",
      "memory usage: 113.7 MB\n"
     ]
    }
   ],
   "source": [
    "df_textmining.info(memory_usage=\"deep\")"
   ]
  },
  {
   "cell_type": "code",
   "execution_count": 8,
   "id": "cd37fa22",
   "metadata": {
    "ExecuteTime": {
     "end_time": "2025-07-12T01:08:18.751420Z",
     "start_time": "2025-07-12T01:08:18.737026Z"
    }
   },
   "outputs": [
    {
     "data": {
      "text/html": [
       "<div>\n",
       "<style scoped>\n",
       "    .dataframe tbody tr th:only-of-type {\n",
       "        vertical-align: middle;\n",
       "    }\n",
       "\n",
       "    .dataframe tbody tr th {\n",
       "        vertical-align: top;\n",
       "    }\n",
       "\n",
       "    .dataframe thead th {\n",
       "        text-align: right;\n",
       "    }\n",
       "</style>\n",
       "<table border=\"1\" class=\"dataframe\">\n",
       "  <thead>\n",
       "    <tr style=\"text-align: right;\">\n",
       "      <th></th>\n",
       "      <th>gene_id</th>\n",
       "      <th>gene_name</th>\n",
       "      <th>disease_id</th>\n",
       "      <th>disease_name</th>\n",
       "      <th>z_score</th>\n",
       "      <th>confidence_score</th>\n",
       "      <th>url</th>\n",
       "    </tr>\n",
       "  </thead>\n",
       "  <tbody>\n",
       "    <tr>\n",
       "      <th>0</th>\n",
       "      <td>18S_rRNA</td>\n",
       "      <td>18S_rRNA</td>\n",
       "      <td>DOID:9643</td>\n",
       "      <td>Babesiosis</td>\n",
       "      <td>7.230</td>\n",
       "      <td>3.615</td>\n",
       "      <td>https://diseases.jensenlab.org/Entity?document...</td>\n",
       "    </tr>\n",
       "    <tr>\n",
       "      <th>1</th>\n",
       "      <td>18S_rRNA</td>\n",
       "      <td>18S_rRNA</td>\n",
       "      <td>DOID:3733</td>\n",
       "      <td>Theileriasis</td>\n",
       "      <td>6.363</td>\n",
       "      <td>3.181</td>\n",
       "      <td>https://diseases.jensenlab.org/Entity?document...</td>\n",
       "    </tr>\n",
       "    <tr>\n",
       "      <th>2</th>\n",
       "      <td>18S_rRNA</td>\n",
       "      <td>18S_rRNA</td>\n",
       "      <td>DOID:12365</td>\n",
       "      <td>Malaria</td>\n",
       "      <td>6.293</td>\n",
       "      <td>3.146</td>\n",
       "      <td>https://diseases.jensenlab.org/Entity?document...</td>\n",
       "    </tr>\n",
       "    <tr>\n",
       "      <th>3</th>\n",
       "      <td>18S_rRNA</td>\n",
       "      <td>18S_rRNA</td>\n",
       "      <td>DOID:9640</td>\n",
       "      <td>Sarcocystosis</td>\n",
       "      <td>6.142</td>\n",
       "      <td>3.071</td>\n",
       "      <td>https://diseases.jensenlab.org/Entity?document...</td>\n",
       "    </tr>\n",
       "    <tr>\n",
       "      <th>4</th>\n",
       "      <td>18S_rRNA</td>\n",
       "      <td>18S_rRNA</td>\n",
       "      <td>DOID:1733</td>\n",
       "      <td>Cryptosporidiosis</td>\n",
       "      <td>6.108</td>\n",
       "      <td>3.054</td>\n",
       "      <td>https://diseases.jensenlab.org/Entity?document...</td>\n",
       "    </tr>\n",
       "    <tr>\n",
       "      <th>...</th>\n",
       "      <td>...</td>\n",
       "      <td>...</td>\n",
       "      <td>...</td>\n",
       "      <td>...</td>\n",
       "      <td>...</td>\n",
       "      <td>...</td>\n",
       "      <td>...</td>\n",
       "    </tr>\n",
       "    <tr>\n",
       "      <th>288566</th>\n",
       "      <td>snoU13</td>\n",
       "      <td>snoU13</td>\n",
       "      <td>DOID:0110084</td>\n",
       "      <td>Arrhythmogenic right ventricular dysplasia 13</td>\n",
       "      <td>3.774</td>\n",
       "      <td>1.887</td>\n",
       "      <td>https://diseases.jensenlab.org/Entity?document...</td>\n",
       "    </tr>\n",
       "    <tr>\n",
       "      <th>288567</th>\n",
       "      <td>snoU13</td>\n",
       "      <td>snoU13</td>\n",
       "      <td>DOID:0110408</td>\n",
       "      <td>Retinitis pigmentosa 11</td>\n",
       "      <td>3.386</td>\n",
       "      <td>1.693</td>\n",
       "      <td>https://diseases.jensenlab.org/Entity?document...</td>\n",
       "    </tr>\n",
       "    <tr>\n",
       "      <th>288568</th>\n",
       "      <td>snoU13</td>\n",
       "      <td>snoU13</td>\n",
       "      <td>DOID:1849</td>\n",
       "      <td>Cannabis dependence</td>\n",
       "      <td>3.227</td>\n",
       "      <td>1.613</td>\n",
       "      <td>https://diseases.jensenlab.org/Entity?document...</td>\n",
       "    </tr>\n",
       "    <tr>\n",
       "      <th>288569</th>\n",
       "      <td>snoU13</td>\n",
       "      <td>snoU13</td>\n",
       "      <td>DOID:0060775</td>\n",
       "      <td>Microvillus inclusion disease</td>\n",
       "      <td>3.146</td>\n",
       "      <td>1.573</td>\n",
       "      <td>https://diseases.jensenlab.org/Entity?document...</td>\n",
       "    </tr>\n",
       "    <tr>\n",
       "      <th>288570</th>\n",
       "      <td>snoU18</td>\n",
       "      <td>snoU18</td>\n",
       "      <td>DOID:12211</td>\n",
       "      <td>Filarial elephantiasis</td>\n",
       "      <td>3.456</td>\n",
       "      <td>1.728</td>\n",
       "      <td>https://diseases.jensenlab.org/Entity?document...</td>\n",
       "    </tr>\n",
       "  </tbody>\n",
       "</table>\n",
       "<p>288571 rows × 7 columns</p>\n",
       "</div>"
      ],
      "text/plain": [
       "         gene_id gene_name    disease_id  \\\n",
       "0       18S_rRNA  18S_rRNA     DOID:9643   \n",
       "1       18S_rRNA  18S_rRNA     DOID:3733   \n",
       "2       18S_rRNA  18S_rRNA    DOID:12365   \n",
       "3       18S_rRNA  18S_rRNA     DOID:9640   \n",
       "4       18S_rRNA  18S_rRNA     DOID:1733   \n",
       "...          ...       ...           ...   \n",
       "288566    snoU13    snoU13  DOID:0110084   \n",
       "288567    snoU13    snoU13  DOID:0110408   \n",
       "288568    snoU13    snoU13     DOID:1849   \n",
       "288569    snoU13    snoU13  DOID:0060775   \n",
       "288570    snoU18    snoU18    DOID:12211   \n",
       "\n",
       "                                         disease_name  z_score  \\\n",
       "0                                          Babesiosis    7.230   \n",
       "1                                        Theileriasis    6.363   \n",
       "2                                             Malaria    6.293   \n",
       "3                                       Sarcocystosis    6.142   \n",
       "4                                   Cryptosporidiosis    6.108   \n",
       "...                                               ...      ...   \n",
       "288566  Arrhythmogenic right ventricular dysplasia 13    3.774   \n",
       "288567                        Retinitis pigmentosa 11    3.386   \n",
       "288568                            Cannabis dependence    3.227   \n",
       "288569                  Microvillus inclusion disease    3.146   \n",
       "288570                         Filarial elephantiasis    3.456   \n",
       "\n",
       "        confidence_score                                                url  \n",
       "0                  3.615  https://diseases.jensenlab.org/Entity?document...  \n",
       "1                  3.181  https://diseases.jensenlab.org/Entity?document...  \n",
       "2                  3.146  https://diseases.jensenlab.org/Entity?document...  \n",
       "3                  3.071  https://diseases.jensenlab.org/Entity?document...  \n",
       "4                  3.054  https://diseases.jensenlab.org/Entity?document...  \n",
       "...                  ...                                                ...  \n",
       "288566             1.887  https://diseases.jensenlab.org/Entity?document...  \n",
       "288567             1.693  https://diseases.jensenlab.org/Entity?document...  \n",
       "288568             1.613  https://diseases.jensenlab.org/Entity?document...  \n",
       "288569             1.573  https://diseases.jensenlab.org/Entity?document...  \n",
       "288570             1.728  https://diseases.jensenlab.org/Entity?document...  \n",
       "\n",
       "[288571 rows x 7 columns]"
      ]
     },
     "execution_count": 8,
     "metadata": {},
     "output_type": "execute_result"
    }
   ],
   "source": [
    "df_textmining"
   ]
  },
  {
   "cell_type": "code",
   "execution_count": 9,
   "id": "6342b113",
   "metadata": {
    "ExecuteTime": {
     "end_time": "2025-07-12T01:08:18.776091Z",
     "start_time": "2025-07-12T01:08:18.754071Z"
    }
   },
   "outputs": [
    {
     "name": "stdout",
     "output_type": "stream",
     "text": [
      "<class 'pandas.core.frame.DataFrame'>\n",
      "RangeIndex: 7638 entries, 0 to 7637\n",
      "Data columns (total 7 columns):\n",
      " #   Column            Non-Null Count  Dtype \n",
      "---  ------            --------------  ----- \n",
      " 0   gene_id           7638 non-null   object\n",
      " 1   gene_name         7638 non-null   object\n",
      " 2   disease_id        7638 non-null   object\n",
      " 3   disease_name      7638 non-null   object\n",
      " 4   source_db         7638 non-null   object\n",
      " 5   evidence_type     7638 non-null   object\n",
      " 6   confidence_score  7638 non-null   int64 \n",
      "dtypes: int64(1), object(6)\n",
      "memory usage: 2.7 MB\n"
     ]
    }
   ],
   "source": [
    "df_knowledge.info(memory_usage=\"deep\")"
   ]
  },
  {
   "cell_type": "code",
   "execution_count": 10,
   "id": "316d7e3d",
   "metadata": {
    "ExecuteTime": {
     "end_time": "2025-07-12T01:08:18.792707Z",
     "start_time": "2025-07-12T01:08:18.781802Z"
    }
   },
   "outputs": [
    {
     "data": {
      "text/html": [
       "<div>\n",
       "<style scoped>\n",
       "    .dataframe tbody tr th:only-of-type {\n",
       "        vertical-align: middle;\n",
       "    }\n",
       "\n",
       "    .dataframe tbody tr th {\n",
       "        vertical-align: top;\n",
       "    }\n",
       "\n",
       "    .dataframe thead th {\n",
       "        text-align: right;\n",
       "    }\n",
       "</style>\n",
       "<table border=\"1\" class=\"dataframe\">\n",
       "  <thead>\n",
       "    <tr style=\"text-align: right;\">\n",
       "      <th></th>\n",
       "      <th>gene_id</th>\n",
       "      <th>gene_name</th>\n",
       "      <th>disease_id</th>\n",
       "      <th>disease_name</th>\n",
       "      <th>source_db</th>\n",
       "      <th>evidence_type</th>\n",
       "      <th>confidence_score</th>\n",
       "    </tr>\n",
       "  </thead>\n",
       "  <tbody>\n",
       "    <tr>\n",
       "      <th>0</th>\n",
       "      <td>ABHD11-AS1</td>\n",
       "      <td>ABHD11-AS1</td>\n",
       "      <td>DOID:1928</td>\n",
       "      <td>Williams-Beuren syndrome</td>\n",
       "      <td>MedlinePlus</td>\n",
       "      <td>CURATED</td>\n",
       "      <td>5</td>\n",
       "    </tr>\n",
       "    <tr>\n",
       "      <th>1</th>\n",
       "      <td>ENSP00000001146</td>\n",
       "      <td>CYP26B1</td>\n",
       "      <td>DOID:2340</td>\n",
       "      <td>Craniosynostosis</td>\n",
       "      <td>UniProtKB-KW</td>\n",
       "      <td>CURATED</td>\n",
       "      <td>4</td>\n",
       "    </tr>\n",
       "    <tr>\n",
       "      <th>2</th>\n",
       "      <td>ENSP00000003084</td>\n",
       "      <td>CFTR</td>\n",
       "      <td>DOID:0111862</td>\n",
       "      <td>Congenital bilateral absence of vas deferens</td>\n",
       "      <td>MedlinePlus</td>\n",
       "      <td>CURATED</td>\n",
       "      <td>5</td>\n",
       "    </tr>\n",
       "    <tr>\n",
       "      <th>3</th>\n",
       "      <td>ENSP00000003084</td>\n",
       "      <td>CFTR</td>\n",
       "      <td>DOID:1485</td>\n",
       "      <td>Cystic fibrosis</td>\n",
       "      <td>MedlinePlus</td>\n",
       "      <td>CURATED</td>\n",
       "      <td>5</td>\n",
       "    </tr>\n",
       "    <tr>\n",
       "      <th>4</th>\n",
       "      <td>ENSP00000005226</td>\n",
       "      <td>USH1C</td>\n",
       "      <td>DOID:0050439</td>\n",
       "      <td>Usher syndrome</td>\n",
       "      <td>MedlinePlus</td>\n",
       "      <td>CURATED</td>\n",
       "      <td>5</td>\n",
       "    </tr>\n",
       "    <tr>\n",
       "      <th>...</th>\n",
       "      <td>...</td>\n",
       "      <td>...</td>\n",
       "      <td>...</td>\n",
       "      <td>...</td>\n",
       "      <td>...</td>\n",
       "      <td>...</td>\n",
       "      <td>...</td>\n",
       "    </tr>\n",
       "    <tr>\n",
       "      <th>7633</th>\n",
       "      <td>hsa-miR-145-5p</td>\n",
       "      <td>hsa-miR-145-5p</td>\n",
       "      <td>DOID:0090016</td>\n",
       "      <td>Chromosome 5q deletion syndrome</td>\n",
       "      <td>MedlinePlus</td>\n",
       "      <td>CURATED</td>\n",
       "      <td>5</td>\n",
       "    </tr>\n",
       "    <tr>\n",
       "      <th>7634</th>\n",
       "      <td>hsa-miR-146a-5p</td>\n",
       "      <td>hsa-miR-146a-5p</td>\n",
       "      <td>DOID:0090016</td>\n",
       "      <td>Chromosome 5q deletion syndrome</td>\n",
       "      <td>MedlinePlus</td>\n",
       "      <td>CURATED</td>\n",
       "      <td>5</td>\n",
       "    </tr>\n",
       "    <tr>\n",
       "      <th>7635</th>\n",
       "      <td>hsa-miR-184</td>\n",
       "      <td>hsa-miR-184</td>\n",
       "      <td>DOID:10126</td>\n",
       "      <td>Keratoconus</td>\n",
       "      <td>MedlinePlus</td>\n",
       "      <td>CURATED</td>\n",
       "      <td>5</td>\n",
       "    </tr>\n",
       "    <tr>\n",
       "      <th>7636</th>\n",
       "      <td>hsa-miR-590-5p</td>\n",
       "      <td>hsa-miR-590-5p</td>\n",
       "      <td>DOID:1928</td>\n",
       "      <td>Williams-Beuren syndrome</td>\n",
       "      <td>MedlinePlus</td>\n",
       "      <td>CURATED</td>\n",
       "      <td>5</td>\n",
       "    </tr>\n",
       "    <tr>\n",
       "      <th>7637</th>\n",
       "      <td>hsa-miR-96-5p</td>\n",
       "      <td>hsa-miR-96-5p</td>\n",
       "      <td>DOID:0050563</td>\n",
       "      <td>Nonsyndromic deafness</td>\n",
       "      <td>MedlinePlus</td>\n",
       "      <td>CURATED</td>\n",
       "      <td>5</td>\n",
       "    </tr>\n",
       "  </tbody>\n",
       "</table>\n",
       "<p>7638 rows × 7 columns</p>\n",
       "</div>"
      ],
      "text/plain": [
       "              gene_id        gene_name    disease_id  \\\n",
       "0          ABHD11-AS1       ABHD11-AS1     DOID:1928   \n",
       "1     ENSP00000001146          CYP26B1     DOID:2340   \n",
       "2     ENSP00000003084             CFTR  DOID:0111862   \n",
       "3     ENSP00000003084             CFTR     DOID:1485   \n",
       "4     ENSP00000005226            USH1C  DOID:0050439   \n",
       "...               ...              ...           ...   \n",
       "7633   hsa-miR-145-5p   hsa-miR-145-5p  DOID:0090016   \n",
       "7634  hsa-miR-146a-5p  hsa-miR-146a-5p  DOID:0090016   \n",
       "7635      hsa-miR-184      hsa-miR-184    DOID:10126   \n",
       "7636   hsa-miR-590-5p   hsa-miR-590-5p     DOID:1928   \n",
       "7637    hsa-miR-96-5p    hsa-miR-96-5p  DOID:0050563   \n",
       "\n",
       "                                      disease_name     source_db  \\\n",
       "0                         Williams-Beuren syndrome   MedlinePlus   \n",
       "1                                 Craniosynostosis  UniProtKB-KW   \n",
       "2     Congenital bilateral absence of vas deferens   MedlinePlus   \n",
       "3                                  Cystic fibrosis   MedlinePlus   \n",
       "4                                   Usher syndrome   MedlinePlus   \n",
       "...                                            ...           ...   \n",
       "7633               Chromosome 5q deletion syndrome   MedlinePlus   \n",
       "7634               Chromosome 5q deletion syndrome   MedlinePlus   \n",
       "7635                                   Keratoconus   MedlinePlus   \n",
       "7636                      Williams-Beuren syndrome   MedlinePlus   \n",
       "7637                         Nonsyndromic deafness   MedlinePlus   \n",
       "\n",
       "     evidence_type  confidence_score  \n",
       "0          CURATED                 5  \n",
       "1          CURATED                 4  \n",
       "2          CURATED                 5  \n",
       "3          CURATED                 5  \n",
       "4          CURATED                 5  \n",
       "...            ...               ...  \n",
       "7633       CURATED                 5  \n",
       "7634       CURATED                 5  \n",
       "7635       CURATED                 5  \n",
       "7636       CURATED                 5  \n",
       "7637       CURATED                 5  \n",
       "\n",
       "[7638 rows x 7 columns]"
      ]
     },
     "execution_count": 10,
     "metadata": {},
     "output_type": "execute_result"
    }
   ],
   "source": [
    "df_knowledge"
   ]
  },
  {
   "cell_type": "markdown",
   "id": "b86c4bde",
   "metadata": {},
   "source": [
    "### Check for duplicates"
   ]
  },
  {
   "cell_type": "markdown",
   "id": "792b3c9d",
   "metadata": {},
   "source": [
    "<div class=\"alert alert-block alert-info\">\n",
    "\n",
    "Duplicates found in knowledge file. This is a DISEASES-side problem.\n",
    "    \n",
    "Ideas for how to handle duplicates (including if they show up in text-mining file later): \n",
    "* ingest entire file and remove duplicates\n",
    "* **doing this right now**: check a set of \"already-done\" edges (gene_id, disease_id, source_db for knowledge) right before creating document (earlier steps will cut down number of rows to create documents with). "
   ]
  },
  {
   "cell_type": "code",
   "execution_count": 11,
   "id": "27447a61",
   "metadata": {
    "ExecuteTime": {
     "end_time": "2025-07-12T01:08:18.875104Z",
     "start_time": "2025-07-12T01:08:18.795425Z"
    }
   },
   "outputs": [
    {
     "data": {
      "text/plain": [
       "(0, 7)"
      ]
     },
     "execution_count": 11,
     "metadata": {},
     "output_type": "execute_result"
    }
   ],
   "source": [
    "df_textmining[df_textmining.duplicated(subset=[\"gene_id\", \"disease_id\"], keep=False)].shape"
   ]
  },
  {
   "cell_type": "code",
   "execution_count": 12,
   "id": "09d9f86c",
   "metadata": {
    "ExecuteTime": {
     "end_time": "2025-07-12T01:08:18.887811Z",
     "start_time": "2025-07-12T01:08:18.877404Z"
    }
   },
   "outputs": [
    {
     "data": {
      "text/plain": [
       "(16, 7)"
      ]
     },
     "execution_count": 12,
     "metadata": {},
     "output_type": "execute_result"
    }
   ],
   "source": [
    "df_knowledge[df_knowledge.duplicated(keep=False)].shape"
   ]
  },
  {
   "cell_type": "code",
   "execution_count": 13,
   "id": "e32743e5",
   "metadata": {
    "ExecuteTime": {
     "end_time": "2025-07-12T01:08:18.912356Z",
     "start_time": "2025-07-12T01:08:18.889664Z"
    }
   },
   "outputs": [
    {
     "data": {
      "text/plain": [
       "(16, 7)"
      ]
     },
     "execution_count": 13,
     "metadata": {},
     "output_type": "execute_result"
    },
    {
     "data": {
      "text/html": [
       "<div>\n",
       "<style scoped>\n",
       "    .dataframe tbody tr th:only-of-type {\n",
       "        vertical-align: middle;\n",
       "    }\n",
       "\n",
       "    .dataframe tbody tr th {\n",
       "        vertical-align: top;\n",
       "    }\n",
       "\n",
       "    .dataframe thead th {\n",
       "        text-align: right;\n",
       "    }\n",
       "</style>\n",
       "<table border=\"1\" class=\"dataframe\">\n",
       "  <thead>\n",
       "    <tr style=\"text-align: right;\">\n",
       "      <th></th>\n",
       "      <th>gene_id</th>\n",
       "      <th>gene_name</th>\n",
       "      <th>disease_id</th>\n",
       "      <th>disease_name</th>\n",
       "      <th>source_db</th>\n",
       "      <th>evidence_type</th>\n",
       "      <th>confidence_score</th>\n",
       "    </tr>\n",
       "  </thead>\n",
       "  <tbody>\n",
       "    <tr>\n",
       "      <th>1600</th>\n",
       "      <td>ENSP00000269703</td>\n",
       "      <td>CYP4F22</td>\n",
       "      <td>DOID:0060655</td>\n",
       "      <td>Autosomal recessive congenital ichthyosis</td>\n",
       "      <td>MedlinePlus</td>\n",
       "      <td>CURATED</td>\n",
       "      <td>5</td>\n",
       "    </tr>\n",
       "    <tr>\n",
       "      <th>1601</th>\n",
       "      <td>ENSP00000269703</td>\n",
       "      <td>CYP4F22</td>\n",
       "      <td>DOID:0060655</td>\n",
       "      <td>Autosomal recessive congenital ichthyosis</td>\n",
       "      <td>MedlinePlus</td>\n",
       "      <td>CURATED</td>\n",
       "      <td>5</td>\n",
       "    </tr>\n",
       "    <tr>\n",
       "      <th>1649</th>\n",
       "      <td>ENSP00000272895</td>\n",
       "      <td>ABCA12</td>\n",
       "      <td>DOID:0060655</td>\n",
       "      <td>Autosomal recessive congenital ichthyosis</td>\n",
       "      <td>MedlinePlus</td>\n",
       "      <td>CURATED</td>\n",
       "      <td>5</td>\n",
       "    </tr>\n",
       "    <tr>\n",
       "      <th>1650</th>\n",
       "      <td>ENSP00000272895</td>\n",
       "      <td>ABCA12</td>\n",
       "      <td>DOID:0060655</td>\n",
       "      <td>Autosomal recessive congenital ichthyosis</td>\n",
       "      <td>MedlinePlus</td>\n",
       "      <td>CURATED</td>\n",
       "      <td>5</td>\n",
       "    </tr>\n",
       "    <tr>\n",
       "      <th>1970</th>\n",
       "      <td>ENSP00000291295</td>\n",
       "      <td>CALM3</td>\n",
       "      <td>DOID:2843</td>\n",
       "      <td>Long QT syndrome</td>\n",
       "      <td>UniProtKB-KW</td>\n",
       "      <td>CURATED</td>\n",
       "      <td>4</td>\n",
       "    </tr>\n",
       "    <tr>\n",
       "      <th>1971</th>\n",
       "      <td>ENSP00000291295</td>\n",
       "      <td>CALM3</td>\n",
       "      <td>DOID:2843</td>\n",
       "      <td>Long QT syndrome</td>\n",
       "      <td>UniProtKB-KW</td>\n",
       "      <td>CURATED</td>\n",
       "      <td>4</td>\n",
       "    </tr>\n",
       "    <tr>\n",
       "      <th>2542</th>\n",
       "      <td>ENSP00000311687</td>\n",
       "      <td>NIPAL4</td>\n",
       "      <td>DOID:0060655</td>\n",
       "      <td>Autosomal recessive congenital ichthyosis</td>\n",
       "      <td>MedlinePlus</td>\n",
       "      <td>CURATED</td>\n",
       "      <td>5</td>\n",
       "    </tr>\n",
       "    <tr>\n",
       "      <th>2543</th>\n",
       "      <td>ENSP00000311687</td>\n",
       "      <td>NIPAL4</td>\n",
       "      <td>DOID:0060655</td>\n",
       "      <td>Autosomal recessive congenital ichthyosis</td>\n",
       "      <td>MedlinePlus</td>\n",
       "      <td>CURATED</td>\n",
       "      <td>5</td>\n",
       "    </tr>\n",
       "    <tr>\n",
       "      <th>3374</th>\n",
       "      <td>ENSP00000342392</td>\n",
       "      <td>MESP2</td>\n",
       "      <td>DOID:0050568</td>\n",
       "      <td>Spondylocostal dysostosis</td>\n",
       "      <td>MedlinePlus</td>\n",
       "      <td>CURATED</td>\n",
       "      <td>5</td>\n",
       "    </tr>\n",
       "    <tr>\n",
       "      <th>3375</th>\n",
       "      <td>ENSP00000342392</td>\n",
       "      <td>MESP2</td>\n",
       "      <td>DOID:0050568</td>\n",
       "      <td>Spondylocostal dysostosis</td>\n",
       "      <td>MedlinePlus</td>\n",
       "      <td>CURATED</td>\n",
       "      <td>5</td>\n",
       "    </tr>\n",
       "    <tr>\n",
       "      <th>4396</th>\n",
       "      <td>ENSP00000360141</td>\n",
       "      <td>GNAS</td>\n",
       "      <td>DOID:12252</td>\n",
       "      <td>DOID:12252</td>\n",
       "      <td>UniProtKB-KW</td>\n",
       "      <td>CURATED</td>\n",
       "      <td>4</td>\n",
       "    </tr>\n",
       "    <tr>\n",
       "      <th>4397</th>\n",
       "      <td>ENSP00000360141</td>\n",
       "      <td>GNAS</td>\n",
       "      <td>DOID:12252</td>\n",
       "      <td>DOID:12252</td>\n",
       "      <td>UniProtKB-KW</td>\n",
       "      <td>CURATED</td>\n",
       "      <td>4</td>\n",
       "    </tr>\n",
       "    <tr>\n",
       "      <th>4398</th>\n",
       "      <td>ENSP00000360141</td>\n",
       "      <td>GNAS</td>\n",
       "      <td>DOID:12252</td>\n",
       "      <td>DOID:12252</td>\n",
       "      <td>UniProtKB-KW</td>\n",
       "      <td>CURATED</td>\n",
       "      <td>4</td>\n",
       "    </tr>\n",
       "    <tr>\n",
       "      <th>4399</th>\n",
       "      <td>ENSP00000360141</td>\n",
       "      <td>GNAS</td>\n",
       "      <td>DOID:12252</td>\n",
       "      <td>DOID:12252</td>\n",
       "      <td>UniProtKB-KW</td>\n",
       "      <td>CURATED</td>\n",
       "      <td>4</td>\n",
       "    </tr>\n",
       "    <tr>\n",
       "      <th>5451</th>\n",
       "      <td>ENSP00000379845</td>\n",
       "      <td>ABAT</td>\n",
       "      <td>DOID:0060407</td>\n",
       "      <td>Chromosome 18q deletion syndrome</td>\n",
       "      <td>MedlinePlus</td>\n",
       "      <td>CURATED</td>\n",
       "      <td>5</td>\n",
       "    </tr>\n",
       "    <tr>\n",
       "      <th>5452</th>\n",
       "      <td>ENSP00000379845</td>\n",
       "      <td>ABAT</td>\n",
       "      <td>DOID:0060407</td>\n",
       "      <td>Chromosome 18q deletion syndrome</td>\n",
       "      <td>MedlinePlus</td>\n",
       "      <td>CURATED</td>\n",
       "      <td>5</td>\n",
       "    </tr>\n",
       "  </tbody>\n",
       "</table>\n",
       "</div>"
      ],
      "text/plain": [
       "              gene_id gene_name    disease_id  \\\n",
       "1600  ENSP00000269703   CYP4F22  DOID:0060655   \n",
       "1601  ENSP00000269703   CYP4F22  DOID:0060655   \n",
       "1649  ENSP00000272895    ABCA12  DOID:0060655   \n",
       "1650  ENSP00000272895    ABCA12  DOID:0060655   \n",
       "1970  ENSP00000291295     CALM3     DOID:2843   \n",
       "1971  ENSP00000291295     CALM3     DOID:2843   \n",
       "2542  ENSP00000311687    NIPAL4  DOID:0060655   \n",
       "2543  ENSP00000311687    NIPAL4  DOID:0060655   \n",
       "3374  ENSP00000342392     MESP2  DOID:0050568   \n",
       "3375  ENSP00000342392     MESP2  DOID:0050568   \n",
       "4396  ENSP00000360141      GNAS    DOID:12252   \n",
       "4397  ENSP00000360141      GNAS    DOID:12252   \n",
       "4398  ENSP00000360141      GNAS    DOID:12252   \n",
       "4399  ENSP00000360141      GNAS    DOID:12252   \n",
       "5451  ENSP00000379845      ABAT  DOID:0060407   \n",
       "5452  ENSP00000379845      ABAT  DOID:0060407   \n",
       "\n",
       "                                   disease_name     source_db evidence_type  \\\n",
       "1600  Autosomal recessive congenital ichthyosis   MedlinePlus       CURATED   \n",
       "1601  Autosomal recessive congenital ichthyosis   MedlinePlus       CURATED   \n",
       "1649  Autosomal recessive congenital ichthyosis   MedlinePlus       CURATED   \n",
       "1650  Autosomal recessive congenital ichthyosis   MedlinePlus       CURATED   \n",
       "1970                           Long QT syndrome  UniProtKB-KW       CURATED   \n",
       "1971                           Long QT syndrome  UniProtKB-KW       CURATED   \n",
       "2542  Autosomal recessive congenital ichthyosis   MedlinePlus       CURATED   \n",
       "2543  Autosomal recessive congenital ichthyosis   MedlinePlus       CURATED   \n",
       "3374                  Spondylocostal dysostosis   MedlinePlus       CURATED   \n",
       "3375                  Spondylocostal dysostosis   MedlinePlus       CURATED   \n",
       "4396                                 DOID:12252  UniProtKB-KW       CURATED   \n",
       "4397                                 DOID:12252  UniProtKB-KW       CURATED   \n",
       "4398                                 DOID:12252  UniProtKB-KW       CURATED   \n",
       "4399                                 DOID:12252  UniProtKB-KW       CURATED   \n",
       "5451           Chromosome 18q deletion syndrome   MedlinePlus       CURATED   \n",
       "5452           Chromosome 18q deletion syndrome   MedlinePlus       CURATED   \n",
       "\n",
       "      confidence_score  \n",
       "1600                 5  \n",
       "1601                 5  \n",
       "1649                 5  \n",
       "1650                 5  \n",
       "1970                 4  \n",
       "1971                 4  \n",
       "2542                 5  \n",
       "2543                 5  \n",
       "3374                 5  \n",
       "3375                 5  \n",
       "4396                 4  \n",
       "4397                 4  \n",
       "4398                 4  \n",
       "4399                 4  \n",
       "5451                 5  \n",
       "5452                 5  "
      ]
     },
     "execution_count": 13,
     "metadata": {},
     "output_type": "execute_result"
    }
   ],
   "source": [
    "## double-checking if specific column subset can work to check for duplicates\n",
    "df_knowledge[df_knowledge.duplicated(subset=[\"gene_id\", \"disease_id\", \"source_db\"], keep=False)].shape\n",
    "## same count so it can\n",
    "\n",
    "## print for manual review\n",
    "df_knowledge[df_knowledge.duplicated(keep=False)]"
   ]
  },
  {
   "cell_type": "code",
   "execution_count": 14,
   "id": "a23bc859",
   "metadata": {
    "ExecuteTime": {
     "end_time": "2025-07-12T01:08:18.917757Z",
     "start_time": "2025-07-12T01:08:18.914512Z"
    }
   },
   "outputs": [],
   "source": [
    "# df_experiments[df_experiments.duplicated(keep=False)].shape"
   ]
  },
  {
   "cell_type": "markdown",
   "id": "f7e56475",
   "metadata": {},
   "source": [
    "### gene_id column"
   ]
  },
  {
   "cell_type": "markdown",
   "id": "dae5449b",
   "metadata": {},
   "source": [
    "<div class=\"alert alert-block alert-info\">\n",
    "\n",
    "**A small portion of the data doesn't have ENSP IDs (text-mining and knowledge)!** Instead, the values are names (same as gene_name). **Drop these rows from further parsing (can't NodeNorm)** \n",
    "    \n",
    "I checked this \"no ENSP\" data for other ID namespaces mentioned in the paper, but couldn't find any matches. Other ID namespaces mentioned in [paper's Materials and methods](https://academic.oup.com/database/article/doi/10.1093/database/baac019/6554833?login=false#344427091) -> Dictionaries section:\n",
    "\n",
    "> The human gene dictionary was obtained from STRING v11.0 (27) and is based on information from **Ensembl (34), UniProtKB (12) and HGNC (35)** databases."
   ]
  },
  {
   "cell_type": "code",
   "execution_count": 15,
   "id": "b4d8bd0a",
   "metadata": {
    "ExecuteTime": {
     "end_time": "2025-07-12T01:08:19.228749Z",
     "start_time": "2025-07-12T01:08:18.921342Z"
    }
   },
   "outputs": [
    {
     "name": "stdout",
     "output_type": "stream",
     "text": [
      "text-mining\n",
      "knowledge\n"
     ]
    }
   ],
   "source": [
    "## check for delimiters (between prefix and ID, between IDs)\n",
    "\n",
    "delimiters = [\",\", \";\", \":\"]\n",
    "\n",
    "print(\"text-mining\")\n",
    "check_if_contains(df_textmining, \"gene_id\", delimiters)\n",
    "\n",
    "print(\"knowledge\")\n",
    "check_if_contains(df_knowledge, \"gene_id\", delimiters)\n",
    "\n",
    "## didn't print any stats, so not found"
   ]
  },
  {
   "cell_type": "code",
   "execution_count": 16,
   "id": "d675120d",
   "metadata": {
    "ExecuteTime": {
     "end_time": "2025-07-12T01:08:19.351129Z",
     "start_time": "2025-07-12T01:08:19.231501Z"
    }
   },
   "outputs": [
    {
     "data": {
      "text/html": [
       "<div>\n",
       "<style scoped>\n",
       "    .dataframe tbody tr th:only-of-type {\n",
       "        vertical-align: middle;\n",
       "    }\n",
       "\n",
       "    .dataframe tbody tr th {\n",
       "        vertical-align: top;\n",
       "    }\n",
       "\n",
       "    .dataframe thead th {\n",
       "        text-align: right;\n",
       "    }\n",
       "</style>\n",
       "<table border=\"1\" class=\"dataframe\">\n",
       "  <thead>\n",
       "    <tr style=\"text-align: right;\">\n",
       "      <th></th>\n",
       "      <th>gene_id</th>\n",
       "      <th>gene_name</th>\n",
       "      <th>disease_id</th>\n",
       "      <th>disease_name</th>\n",
       "      <th>z_score</th>\n",
       "      <th>confidence_score</th>\n",
       "      <th>url</th>\n",
       "    </tr>\n",
       "  </thead>\n",
       "  <tbody>\n",
       "  </tbody>\n",
       "</table>\n",
       "</div>"
      ],
      "text/plain": [
       "Empty DataFrame\n",
       "Columns: [gene_id, gene_name, disease_id, disease_name, z_score, confidence_score, url]\n",
       "Index: []"
      ]
     },
     "execution_count": 16,
     "metadata": {},
     "output_type": "execute_result"
    }
   ],
   "source": [
    "## double-check work on 1 value\n",
    "df_textmining[df_textmining[\"gene_id\"].str.contains(\":\", case=False)]"
   ]
  },
  {
   "cell_type": "code",
   "execution_count": 17,
   "id": "8a2aaf5c",
   "metadata": {
    "ExecuteTime": {
     "end_time": "2025-07-12T01:08:19.356221Z",
     "start_time": "2025-07-12T01:08:19.353551Z"
    }
   },
   "outputs": [],
   "source": [
    "## looked at \"_\": sometimes it can be a delimiter between prefix and ID\n",
    "## text-mining: there are values, but all were names\n",
    "\n",
    "# df_textmining[df_textmining[\"gene_id\"].str.contains(\"_\", case=False)][\"gene_id\"].unique()\n",
    "\n",
    "# len(df_textmining[df_textmining[\"gene_id\"].str.contains(\"_\", case=False)][\"gene_id\"].unique())"
   ]
  },
  {
   "cell_type": "code",
   "execution_count": 18,
   "id": "b6be1589",
   "metadata": {
    "ExecuteTime": {
     "end_time": "2025-07-12T01:08:19.366407Z",
     "start_time": "2025-07-12T01:08:19.358756Z"
    }
   },
   "outputs": [
    {
     "data": {
      "text/plain": [
       "(0, 7)"
      ]
     },
     "execution_count": 18,
     "metadata": {},
     "output_type": "execute_result"
    }
   ],
   "source": [
    "## no values\n",
    "\n",
    "df_knowledge[df_knowledge[\"gene_id\"].str.contains(\"_\")].shape"
   ]
  },
  {
   "cell_type": "markdown",
   "id": "4faf7a2b",
   "metadata": {},
   "source": [
    "#### Text-mining"
   ]
  },
  {
   "cell_type": "code",
   "execution_count": 19,
   "id": "c8b15e6b",
   "metadata": {
    "ExecuteTime": {
     "end_time": "2025-07-12T01:08:19.462986Z",
     "start_time": "2025-07-12T01:08:19.368821Z"
    }
   },
   "outputs": [
    {
     "data": {
      "text/plain": [
       "(16505, 7)"
      ]
     },
     "execution_count": 19,
     "metadata": {},
     "output_type": "execute_result"
    },
    {
     "data": {
      "text/plain": [
       "0.05719562949845965"
      ]
     },
     "execution_count": 19,
     "metadata": {},
     "output_type": "execute_result"
    }
   ],
   "source": [
    "## how much data doesn't have ENSP ID\n",
    "df_no_ENSP_textmining = df_textmining[~ df_textmining[\"gene_id\"].str.startswith(\"ENSP\")].copy()\n",
    "df_no_ENSP_textmining.shape\n",
    "\n",
    "## vs entire dataset\n",
    "df_no_ENSP_textmining.shape[0] / df_textmining.shape[0]"
   ]
  },
  {
   "cell_type": "code",
   "execution_count": 20,
   "id": "a21557fc",
   "metadata": {
    "ExecuteTime": {
     "end_time": "2025-07-12T01:08:19.473075Z",
     "start_time": "2025-07-12T01:08:19.465321Z"
    }
   },
   "outputs": [
    {
     "data": {
      "text/plain": [
       "(16505, 7)"
      ]
     },
     "execution_count": 20,
     "metadata": {},
     "output_type": "execute_result"
    }
   ],
   "source": [
    "## when data doesn't have ENSP ID, are ID == name?\n",
    "df_no_ENSP_textmining[df_no_ENSP_textmining[\"gene_id\"] == \n",
    "                      df_no_ENSP_textmining[\"gene_name\"]].shape\n",
    "\n",
    "## yes: shape is the same"
   ]
  },
  {
   "cell_type": "code",
   "execution_count": 21,
   "id": "f7ca39f7",
   "metadata": {
    "ExecuteTime": {
     "end_time": "2025-07-12T01:08:19.480983Z",
     "start_time": "2025-07-12T01:08:19.475446Z"
    }
   },
   "outputs": [
    {
     "data": {
      "text/plain": [
       "array(['18S_rRNA', '28S_rRNA', '45S_rRNA', ..., 'pRNA', 'snoU13',\n",
       "       'snoU18'], shape=(3961,), dtype=object)"
      ]
     },
     "execution_count": 21,
     "metadata": {},
     "output_type": "execute_result"
    }
   ],
   "source": [
    "## thousands of unique values\n",
    "df_no_ENSP_textmining[\"gene_id\"].unique()"
   ]
  },
  {
   "cell_type": "code",
   "execution_count": 22,
   "id": "2202267d",
   "metadata": {
    "ExecuteTime": {
     "end_time": "2025-07-12T01:08:19.533529Z",
     "start_time": "2025-07-12T01:08:19.483072Z"
    }
   },
   "outputs": [],
   "source": [
    "## look for other ID namespaces mentioned in paper\n",
    "\n",
    "possible_gene_namespaces = [\"ENSG\", \"ensembl\", \"uniprotkb\", \"uniprot\", \"hgnc\"]\n",
    "## remember function uses case=False (not sensitive)\n",
    "check_if_contains(df_no_ENSP_textmining, \"gene_id\", possible_gene_namespaces)\n",
    "\n",
    "## none: nothing prints"
   ]
  },
  {
   "cell_type": "code",
   "execution_count": 23,
   "id": "ad7069d3",
   "metadata": {
    "ExecuteTime": {
     "end_time": "2025-07-12T01:08:19.709142Z",
     "start_time": "2025-07-12T01:08:19.536224Z"
    }
   },
   "outputs": [
    {
     "data": {
      "text/html": [
       "<div>\n",
       "<style scoped>\n",
       "    .dataframe tbody tr th:only-of-type {\n",
       "        vertical-align: middle;\n",
       "    }\n",
       "\n",
       "    .dataframe tbody tr th {\n",
       "        vertical-align: top;\n",
       "    }\n",
       "\n",
       "    .dataframe thead th {\n",
       "        text-align: right;\n",
       "    }\n",
       "</style>\n",
       "<table border=\"1\" class=\"dataframe\">\n",
       "  <thead>\n",
       "    <tr style=\"text-align: right;\">\n",
       "      <th></th>\n",
       "      <th>gene_id</th>\n",
       "      <th>gene_name</th>\n",
       "      <th>disease_id</th>\n",
       "      <th>disease_name</th>\n",
       "      <th>z_score</th>\n",
       "      <th>confidence_score</th>\n",
       "      <th>url</th>\n",
       "    </tr>\n",
       "  </thead>\n",
       "  <tbody>\n",
       "  </tbody>\n",
       "</table>\n",
       "</div>"
      ],
      "text/plain": [
       "Empty DataFrame\n",
       "Columns: [gene_id, gene_name, disease_id, disease_name, z_score, confidence_score, url]\n",
       "Index: []"
      ]
     },
     "execution_count": 23,
     "metadata": {},
     "output_type": "execute_result"
    }
   ],
   "source": [
    "## double-check work on 1 value\n",
    "df_textmining[df_textmining[\"gene_id\"].str.contains(\"hgnc\", case=False)]"
   ]
  },
  {
   "cell_type": "markdown",
   "id": "4c5dfe80",
   "metadata": {},
   "source": [
    "#### Knowledge"
   ]
  },
  {
   "cell_type": "code",
   "execution_count": 24,
   "id": "b1e9ce0f",
   "metadata": {
    "ExecuteTime": {
     "end_time": "2025-07-12T01:08:19.733214Z",
     "start_time": "2025-07-12T01:08:19.711496Z"
    }
   },
   "outputs": [
    {
     "data": {
      "text/plain": [
       "(41, 7)"
      ]
     },
     "execution_count": 24,
     "metadata": {},
     "output_type": "execute_result"
    },
    {
     "data": {
      "text/plain": [
       "0.00536789735532862"
      ]
     },
     "execution_count": 24,
     "metadata": {},
     "output_type": "execute_result"
    },
    {
     "data": {
      "text/html": [
       "<div>\n",
       "<style scoped>\n",
       "    .dataframe tbody tr th:only-of-type {\n",
       "        vertical-align: middle;\n",
       "    }\n",
       "\n",
       "    .dataframe tbody tr th {\n",
       "        vertical-align: top;\n",
       "    }\n",
       "\n",
       "    .dataframe thead th {\n",
       "        text-align: right;\n",
       "    }\n",
       "</style>\n",
       "<table border=\"1\" class=\"dataframe\">\n",
       "  <thead>\n",
       "    <tr style=\"text-align: right;\">\n",
       "      <th></th>\n",
       "      <th>gene_id</th>\n",
       "      <th>gene_name</th>\n",
       "    </tr>\n",
       "  </thead>\n",
       "  <tbody>\n",
       "    <tr>\n",
       "      <th>0</th>\n",
       "      <td>ABHD11-AS1</td>\n",
       "      <td>ABHD11-AS1</td>\n",
       "    </tr>\n",
       "    <tr>\n",
       "      <th>7598</th>\n",
       "      <td>H19</td>\n",
       "      <td>H19</td>\n",
       "    </tr>\n",
       "    <tr>\n",
       "      <th>7602</th>\n",
       "      <td>KCNQ1OT1</td>\n",
       "      <td>KCNQ1OT1</td>\n",
       "    </tr>\n",
       "    <tr>\n",
       "      <th>7603</th>\n",
       "      <td>MIR17HG</td>\n",
       "      <td>MIR17HG</td>\n",
       "    </tr>\n",
       "    <tr>\n",
       "      <th>7604</th>\n",
       "      <td>MT-RNR1</td>\n",
       "      <td>MT-RNR1</td>\n",
       "    </tr>\n",
       "    <tr>\n",
       "      <th>7605</th>\n",
       "      <td>MT-TF</td>\n",
       "      <td>MT-TF</td>\n",
       "    </tr>\n",
       "    <tr>\n",
       "      <th>7606</th>\n",
       "      <td>MT-TH</td>\n",
       "      <td>MT-TH</td>\n",
       "    </tr>\n",
       "    <tr>\n",
       "      <th>7608</th>\n",
       "      <td>MT-TI</td>\n",
       "      <td>MT-TI</td>\n",
       "    </tr>\n",
       "    <tr>\n",
       "      <th>7610</th>\n",
       "      <td>MT-TK</td>\n",
       "      <td>MT-TK</td>\n",
       "    </tr>\n",
       "    <tr>\n",
       "      <th>7612</th>\n",
       "      <td>MT-TL1</td>\n",
       "      <td>MT-TL1</td>\n",
       "    </tr>\n",
       "    <tr>\n",
       "      <th>7617</th>\n",
       "      <td>MT-TP</td>\n",
       "      <td>MT-TP</td>\n",
       "    </tr>\n",
       "    <tr>\n",
       "      <th>7618</th>\n",
       "      <td>MT-TS1</td>\n",
       "      <td>MT-TS1</td>\n",
       "    </tr>\n",
       "    <tr>\n",
       "      <th>7621</th>\n",
       "      <td>MT-TS2</td>\n",
       "      <td>MT-TS2</td>\n",
       "    </tr>\n",
       "    <tr>\n",
       "      <th>7623</th>\n",
       "      <td>MT-TT</td>\n",
       "      <td>MT-TT</td>\n",
       "    </tr>\n",
       "    <tr>\n",
       "      <th>7624</th>\n",
       "      <td>MT-TV</td>\n",
       "      <td>MT-TV</td>\n",
       "    </tr>\n",
       "    <tr>\n",
       "      <th>7626</th>\n",
       "      <td>MT-TW</td>\n",
       "      <td>MT-TW</td>\n",
       "    </tr>\n",
       "    <tr>\n",
       "      <th>7627</th>\n",
       "      <td>RMRP</td>\n",
       "      <td>RMRP</td>\n",
       "    </tr>\n",
       "    <tr>\n",
       "      <th>7629</th>\n",
       "      <td>TERC</td>\n",
       "      <td>TERC</td>\n",
       "    </tr>\n",
       "    <tr>\n",
       "      <th>7631</th>\n",
       "      <td>U7</td>\n",
       "      <td>U7</td>\n",
       "    </tr>\n",
       "    <tr>\n",
       "      <th>7632</th>\n",
       "      <td>hsa-miR-137</td>\n",
       "      <td>hsa-miR-137</td>\n",
       "    </tr>\n",
       "    <tr>\n",
       "      <th>7633</th>\n",
       "      <td>hsa-miR-145-5p</td>\n",
       "      <td>hsa-miR-145-5p</td>\n",
       "    </tr>\n",
       "    <tr>\n",
       "      <th>7634</th>\n",
       "      <td>hsa-miR-146a-5p</td>\n",
       "      <td>hsa-miR-146a-5p</td>\n",
       "    </tr>\n",
       "    <tr>\n",
       "      <th>7635</th>\n",
       "      <td>hsa-miR-184</td>\n",
       "      <td>hsa-miR-184</td>\n",
       "    </tr>\n",
       "    <tr>\n",
       "      <th>7636</th>\n",
       "      <td>hsa-miR-590-5p</td>\n",
       "      <td>hsa-miR-590-5p</td>\n",
       "    </tr>\n",
       "    <tr>\n",
       "      <th>7637</th>\n",
       "      <td>hsa-miR-96-5p</td>\n",
       "      <td>hsa-miR-96-5p</td>\n",
       "    </tr>\n",
       "  </tbody>\n",
       "</table>\n",
       "</div>"
      ],
      "text/plain": [
       "              gene_id        gene_name\n",
       "0          ABHD11-AS1       ABHD11-AS1\n",
       "7598              H19              H19\n",
       "7602         KCNQ1OT1         KCNQ1OT1\n",
       "7603          MIR17HG          MIR17HG\n",
       "7604          MT-RNR1          MT-RNR1\n",
       "7605            MT-TF            MT-TF\n",
       "7606            MT-TH            MT-TH\n",
       "7608            MT-TI            MT-TI\n",
       "7610            MT-TK            MT-TK\n",
       "7612           MT-TL1           MT-TL1\n",
       "7617            MT-TP            MT-TP\n",
       "7618           MT-TS1           MT-TS1\n",
       "7621           MT-TS2           MT-TS2\n",
       "7623            MT-TT            MT-TT\n",
       "7624            MT-TV            MT-TV\n",
       "7626            MT-TW            MT-TW\n",
       "7627             RMRP             RMRP\n",
       "7629             TERC             TERC\n",
       "7631               U7               U7\n",
       "7632      hsa-miR-137      hsa-miR-137\n",
       "7633   hsa-miR-145-5p   hsa-miR-145-5p\n",
       "7634  hsa-miR-146a-5p  hsa-miR-146a-5p\n",
       "7635      hsa-miR-184      hsa-miR-184\n",
       "7636   hsa-miR-590-5p   hsa-miR-590-5p\n",
       "7637    hsa-miR-96-5p    hsa-miR-96-5p"
      ]
     },
     "execution_count": 24,
     "metadata": {},
     "output_type": "execute_result"
    }
   ],
   "source": [
    "## quick look at knowledge data: short enough for manual review\n",
    "\n",
    "## how much data doesn't have ENSP ID\n",
    "df_knowledge[~ df_knowledge[\"gene_id\"].str.startswith(\"ENSP\")].shape\n",
    "\n",
    "## vs entire dataset\n",
    "df_knowledge[~ df_knowledge[\"gene_id\"].str.startswith(\"ENSP\")].shape[0] / df_knowledge.shape[0]\n",
    "\n",
    "## unique values: can see that gene_id is a name (== gene_name), not an ID\n",
    "df_knowledge[~ df_knowledge[\"gene_id\"].str.startswith(\"ENSP\")][[\"gene_id\", \"gene_name\"]].drop_duplicates()"
   ]
  },
  {
   "cell_type": "markdown",
   "id": "e63bfe86",
   "metadata": {},
   "source": [
    "#### Experiments"
   ]
  },
  {
   "cell_type": "code",
   "execution_count": 25,
   "id": "22dba57f",
   "metadata": {
    "ExecuteTime": {
     "end_time": "2025-07-12T01:08:19.738222Z",
     "start_time": "2025-07-12T01:08:19.735536Z"
    }
   },
   "outputs": [],
   "source": [
    "# df_experiments[~ df_experiments[\"gene_id\"].str.startswith(\"ENSP\")].shape"
   ]
  },
  {
   "cell_type": "markdown",
   "id": "c08d94e3",
   "metadata": {},
   "source": [
    "### gene_name column"
   ]
  },
  {
   "cell_type": "markdown",
   "id": "e0a49dd4",
   "metadata": {},
   "source": [
    "Didn't find IDs in this column that aren't in `gene_id`. \n",
    "\n",
    "Don't need this column for Translator output"
   ]
  },
  {
   "cell_type": "code",
   "execution_count": 26,
   "id": "40da75ac",
   "metadata": {
    "ExecuteTime": {
     "end_time": "2025-07-12T01:08:19.745582Z",
     "start_time": "2025-07-12T01:08:19.740510Z"
    }
   },
   "outputs": [
    {
     "data": {
      "text/plain": [
       "[',', ';', ':']"
      ]
     },
     "execution_count": 26,
     "metadata": {},
     "output_type": "execute_result"
    },
    {
     "data": {
      "text/plain": [
       "['ENSG', 'ensembl', 'uniprotkb', 'uniprot', 'hgnc']"
      ]
     },
     "execution_count": 26,
     "metadata": {},
     "output_type": "execute_result"
    }
   ],
   "source": [
    "delimiters\n",
    "possible_gene_namespaces"
   ]
  },
  {
   "cell_type": "code",
   "execution_count": 27,
   "id": "df7d3cc4",
   "metadata": {
    "ExecuteTime": {
     "end_time": "2025-07-12T01:08:20.068766Z",
     "start_time": "2025-07-12T01:08:19.747909Z"
    }
   },
   "outputs": [
    {
     "name": "stdout",
     "output_type": "stream",
     "text": [
      "text-mining\n",
      "knowledge\n"
     ]
    }
   ],
   "source": [
    "## look for delimiters\n",
    "\n",
    "print(\"text-mining\")\n",
    "check_if_contains(df_textmining, \"gene_name\", delimiters)\n",
    "\n",
    "print(\"knowledge\")\n",
    "check_if_contains(df_knowledge, \"gene_name\", delimiters)\n",
    "\n",
    "## didn't print any stats, so not found"
   ]
  },
  {
   "cell_type": "code",
   "execution_count": 28,
   "id": "838ee490",
   "metadata": {
    "ExecuteTime": {
     "end_time": "2025-07-12T01:08:20.647908Z",
     "start_time": "2025-07-12T01:08:20.077543Z"
    }
   },
   "outputs": [
    {
     "name": "stdout",
     "output_type": "stream",
     "text": [
      "text-mining\n",
      "knowledge\n"
     ]
    }
   ],
   "source": [
    "## look for other ID namespaces\n",
    "\n",
    "print(\"text-mining\")\n",
    "check_if_contains(df_textmining, \"gene_name\", possible_gene_namespaces)\n",
    "\n",
    "print(\"knowledge\")\n",
    "check_if_contains(df_knowledge, \"gene_name\", possible_gene_namespaces)\n",
    "\n",
    "## didn't print any stats, so not found"
   ]
  },
  {
   "cell_type": "code",
   "execution_count": 29,
   "id": "810947d9",
   "metadata": {
    "ExecuteTime": {
     "end_time": "2025-07-12T01:08:20.667306Z",
     "start_time": "2025-07-12T01:08:20.650104Z"
    }
   },
   "outputs": [
    {
     "data": {
      "text/html": [
       "<div>\n",
       "<style scoped>\n",
       "    .dataframe tbody tr th:only-of-type {\n",
       "        vertical-align: middle;\n",
       "    }\n",
       "\n",
       "    .dataframe tbody tr th {\n",
       "        vertical-align: top;\n",
       "    }\n",
       "\n",
       "    .dataframe thead th {\n",
       "        text-align: right;\n",
       "    }\n",
       "</style>\n",
       "<table border=\"1\" class=\"dataframe\">\n",
       "  <thead>\n",
       "    <tr style=\"text-align: right;\">\n",
       "      <th></th>\n",
       "      <th>gene_id</th>\n",
       "      <th>gene_name</th>\n",
       "      <th>disease_id</th>\n",
       "      <th>disease_name</th>\n",
       "      <th>z_score</th>\n",
       "      <th>confidence_score</th>\n",
       "      <th>url</th>\n",
       "    </tr>\n",
       "  </thead>\n",
       "  <tbody>\n",
       "  </tbody>\n",
       "</table>\n",
       "</div>"
      ],
      "text/plain": [
       "Empty DataFrame\n",
       "Columns: [gene_id, gene_name, disease_id, disease_name, z_score, confidence_score, url]\n",
       "Index: []"
      ]
     },
     "execution_count": 29,
     "metadata": {},
     "output_type": "execute_result"
    }
   ],
   "source": [
    "## for textmining only, are there rows with ENSP in gene_name but not gene_id?\n",
    "## not for knowledge: already reviewed manually\n",
    "\n",
    "df_no_ENSP_textmining[df_no_ENSP_textmining[\"gene_name\"].str.contains(\"ENSP\", case=False)]\n",
    "## no, empty df"
   ]
  },
  {
   "cell_type": "markdown",
   "id": "5523f8b8",
   "metadata": {},
   "source": [
    "### disease_id"
   ]
  },
  {
   "cell_type": "markdown",
   "id": "c959f4f2",
   "metadata": {},
   "source": [
    "<div class=\"alert alert-block alert-info\">\n",
    "\n",
    "**A small portion of the data doesn't have DOID IDs!** Instead, they're AmyCo IDs (not usable). **Drop these rows from further parsing (can't NodeNorm)** "
   ]
  },
  {
   "cell_type": "code",
   "execution_count": 30,
   "id": "e4acbeff",
   "metadata": {
    "ExecuteTime": {
     "end_time": "2025-07-12T01:08:20.980720Z",
     "start_time": "2025-07-12T01:08:20.669350Z"
    }
   },
   "outputs": [
    {
     "name": "stdout",
     "output_type": "stream",
     "text": [
      "text-mining\n",
      "knowledge\n"
     ]
    }
   ],
   "source": [
    "## check for delimiters (between prefix and ID, between IDs)\n",
    "## custom set since DOID: has :\n",
    "\n",
    "print(\"text-mining\")\n",
    "check_if_contains(df_textmining, \"disease_id\", [\",\", \";\", \"_\"])\n",
    "\n",
    "print(\"knowledge\")\n",
    "check_if_contains(df_knowledge, \"disease_id\", [\",\", \";\", \"_\"])\n",
    "\n",
    "## didn't print any stats, so not found"
   ]
  },
  {
   "cell_type": "markdown",
   "id": "1d2befee",
   "metadata": {},
   "source": [
    "#### Text-mining"
   ]
  },
  {
   "cell_type": "code",
   "execution_count": 31,
   "id": "d5219767",
   "metadata": {
    "ExecuteTime": {
     "end_time": "2025-07-12T01:08:21.076299Z",
     "start_time": "2025-07-12T01:08:20.982864Z"
    }
   },
   "outputs": [
    {
     "data": {
      "text/plain": [
       "(42, 7)"
      ]
     },
     "execution_count": 31,
     "metadata": {},
     "output_type": "execute_result"
    },
    {
     "data": {
      "text/plain": [
       "0.00014554477061104546"
      ]
     },
     "execution_count": 31,
     "metadata": {},
     "output_type": "execute_result"
    }
   ],
   "source": [
    "## how much data doesn't have DOID ID\n",
    "df_no_DOID_textmining = df_textmining[~ df_textmining[\"disease_id\"].str.startswith(\"DOID:\")].copy()\n",
    "df_no_DOID_textmining.shape\n",
    "\n",
    "## vs entire dataset\n",
    "df_no_DOID_textmining.shape[0] / df_textmining.shape[0]"
   ]
  },
  {
   "cell_type": "code",
   "execution_count": 32,
   "id": "4cd4cf2c",
   "metadata": {
    "ExecuteTime": {
     "end_time": "2025-07-12T01:08:21.087048Z",
     "start_time": "2025-07-12T01:08:21.078698Z"
    }
   },
   "outputs": [
    {
     "data": {
      "text/html": [
       "<div>\n",
       "<style scoped>\n",
       "    .dataframe tbody tr th:only-of-type {\n",
       "        vertical-align: middle;\n",
       "    }\n",
       "\n",
       "    .dataframe tbody tr th {\n",
       "        vertical-align: top;\n",
       "    }\n",
       "\n",
       "    .dataframe thead th {\n",
       "        text-align: right;\n",
       "    }\n",
       "</style>\n",
       "<table border=\"1\" class=\"dataframe\">\n",
       "  <thead>\n",
       "    <tr style=\"text-align: right;\">\n",
       "      <th></th>\n",
       "      <th>disease_id</th>\n",
       "      <th>disease_name</th>\n",
       "    </tr>\n",
       "  </thead>\n",
       "  <tbody>\n",
       "    <tr>\n",
       "      <th>51380</th>\n",
       "      <td>AmyCo:23</td>\n",
       "      <td>AH Amyloidosis</td>\n",
       "    </tr>\n",
       "    <tr>\n",
       "      <th>59407</th>\n",
       "      <td>AmyCo:35</td>\n",
       "      <td>Calcifying Epithelial Odontogenic Tumor</td>\n",
       "    </tr>\n",
       "    <tr>\n",
       "      <th>61404</th>\n",
       "      <td>AmyCo:73</td>\n",
       "      <td>Senile Seminal Vesicle Amyloidosis</td>\n",
       "    </tr>\n",
       "    <tr>\n",
       "      <th>79414</th>\n",
       "      <td>AmyCo:30</td>\n",
       "      <td>Wild-type transthyretin-related Amyloidosis</td>\n",
       "    </tr>\n",
       "    <tr>\n",
       "      <th>96613</th>\n",
       "      <td>AmyCo:27</td>\n",
       "      <td>Leukocyte chemotactic factor 2 Amyloidosis</td>\n",
       "    </tr>\n",
       "    <tr>\n",
       "      <th>127630</th>\n",
       "      <td>AmyCo:29</td>\n",
       "      <td>AA Amyloidosis</td>\n",
       "    </tr>\n",
       "    <tr>\n",
       "      <th>176518</th>\n",
       "      <td>AmyCo:37</td>\n",
       "      <td>Isolated Atrial Amyloidosis</td>\n",
       "    </tr>\n",
       "    <tr>\n",
       "      <th>187314</th>\n",
       "      <td>AmyCo:20</td>\n",
       "      <td>Hereditary lysozyme Amyloidosis</td>\n",
       "    </tr>\n",
       "    <tr>\n",
       "      <th>246160</th>\n",
       "      <td>AmyCo:24</td>\n",
       "      <td>AHL Amyloidosis</td>\n",
       "    </tr>\n",
       "    <tr>\n",
       "      <th>254995</th>\n",
       "      <td>AmyCo:8</td>\n",
       "      <td>Immunoglobulin Light-chain Amyloidosis</td>\n",
       "    </tr>\n",
       "    <tr>\n",
       "      <th>262482</th>\n",
       "      <td>AmyCo:36</td>\n",
       "      <td>Variably Protease-Sensitive Prionopathy</td>\n",
       "    </tr>\n",
       "  </tbody>\n",
       "</table>\n",
       "</div>"
      ],
      "text/plain": [
       "       disease_id                                 disease_name\n",
       "51380    AmyCo:23                               AH Amyloidosis\n",
       "59407    AmyCo:35      Calcifying Epithelial Odontogenic Tumor\n",
       "61404    AmyCo:73           Senile Seminal Vesicle Amyloidosis\n",
       "79414    AmyCo:30  Wild-type transthyretin-related Amyloidosis\n",
       "96613    AmyCo:27   Leukocyte chemotactic factor 2 Amyloidosis\n",
       "127630   AmyCo:29                               AA Amyloidosis\n",
       "176518   AmyCo:37                  Isolated Atrial Amyloidosis\n",
       "187314   AmyCo:20              Hereditary lysozyme Amyloidosis\n",
       "246160   AmyCo:24                              AHL Amyloidosis\n",
       "254995    AmyCo:8       Immunoglobulin Light-chain Amyloidosis\n",
       "262482   AmyCo:36      Variably Protease-Sensitive Prionopathy"
      ]
     },
     "execution_count": 32,
     "metadata": {},
     "output_type": "execute_result"
    }
   ],
   "source": [
    "## look at non-DOID data: unique values\n",
    "df_no_DOID_textmining[[\"disease_id\", \"disease_name\"]].drop_duplicates()"
   ]
  },
  {
   "cell_type": "markdown",
   "id": "6a5ef2d4",
   "metadata": {},
   "source": [
    "#### Knowledge"
   ]
  },
  {
   "cell_type": "code",
   "execution_count": 33,
   "id": "02f0a9a4",
   "metadata": {
    "ExecuteTime": {
     "end_time": "2025-07-12T01:08:21.098548Z",
     "start_time": "2025-07-12T01:08:21.089049Z"
    }
   },
   "outputs": [
    {
     "data": {
      "text/plain": [
       "(71, 7)"
      ]
     },
     "execution_count": 33,
     "metadata": {},
     "output_type": "execute_result"
    },
    {
     "data": {
      "text/plain": [
       "0.009295627127520294"
      ]
     },
     "execution_count": 33,
     "metadata": {},
     "output_type": "execute_result"
    }
   ],
   "source": [
    "## how much data doesn't have DOID ID\n",
    "df_no_DOID_knowledge = df_knowledge[~ df_knowledge[\"disease_id\"].str.startswith(\"DOID:\")].copy()\n",
    "df_no_DOID_knowledge.shape\n",
    "\n",
    "## vs entire dataset\n",
    "df_no_DOID_knowledge.shape[0] / df_knowledge.shape[0]"
   ]
  },
  {
   "cell_type": "code",
   "execution_count": 34,
   "id": "40ffb380",
   "metadata": {
    "ExecuteTime": {
     "end_time": "2025-07-12T01:08:21.110486Z",
     "start_time": "2025-07-12T01:08:21.100550Z"
    }
   },
   "outputs": [
    {
     "data": {
      "text/html": [
       "<div>\n",
       "<style scoped>\n",
       "    .dataframe tbody tr th:only-of-type {\n",
       "        vertical-align: middle;\n",
       "    }\n",
       "\n",
       "    .dataframe tbody tr th {\n",
       "        vertical-align: top;\n",
       "    }\n",
       "\n",
       "    .dataframe thead th {\n",
       "        text-align: right;\n",
       "    }\n",
       "</style>\n",
       "<table border=\"1\" class=\"dataframe\">\n",
       "  <thead>\n",
       "    <tr style=\"text-align: right;\">\n",
       "      <th></th>\n",
       "      <th>disease_id</th>\n",
       "      <th>disease_name</th>\n",
       "    </tr>\n",
       "  </thead>\n",
       "  <tbody>\n",
       "    <tr>\n",
       "      <th>351</th>\n",
       "      <td>AmyCo:26</td>\n",
       "      <td>Apolipoprotein C-III associated Amyloidosis</td>\n",
       "    </tr>\n",
       "    <tr>\n",
       "      <th>508</th>\n",
       "      <td>AmyCo:16</td>\n",
       "      <td>Localized insulin-derived Amyloidosis</td>\n",
       "    </tr>\n",
       "    <tr>\n",
       "      <th>509</th>\n",
       "      <td>AmyCo:17</td>\n",
       "      <td>Apolipoprotein A-I associated Amyloidosis</td>\n",
       "    </tr>\n",
       "    <tr>\n",
       "      <th>511</th>\n",
       "      <td>AmyCo:63</td>\n",
       "      <td>Enfuvirtide-induced Amyloidosis</td>\n",
       "    </tr>\n",
       "    <tr>\n",
       "      <th>518</th>\n",
       "      <td>AmyCo:30</td>\n",
       "      <td>Wild-type transthyretin-related Amyloidosis</td>\n",
       "    </tr>\n",
       "    <tr>\n",
       "      <th>731</th>\n",
       "      <td>AmyCo:22</td>\n",
       "      <td>Apolipoprotein A-II associated Amyloidosis</td>\n",
       "    </tr>\n",
       "    <tr>\n",
       "      <th>732</th>\n",
       "      <td>AmyCo:23</td>\n",
       "      <td>AH Amyloidosis</td>\n",
       "    </tr>\n",
       "    <tr>\n",
       "      <th>733</th>\n",
       "      <td>AmyCo:24</td>\n",
       "      <td>AHL Amyloidosis</td>\n",
       "    </tr>\n",
       "    <tr>\n",
       "      <th>734</th>\n",
       "      <td>AmyCo:25</td>\n",
       "      <td>Apolipoprotein C-II associated Amyloidosis</td>\n",
       "    </tr>\n",
       "    <tr>\n",
       "      <th>736</th>\n",
       "      <td>AmyCo:27</td>\n",
       "      <td>Leukocyte chemotactic factor 2 Amyloidosis</td>\n",
       "    </tr>\n",
       "    <tr>\n",
       "      <th>737</th>\n",
       "      <td>AmyCo:28</td>\n",
       "      <td>Apolipoprotein A-IV associated Amyloidosis</td>\n",
       "    </tr>\n",
       "    <tr>\n",
       "      <th>738</th>\n",
       "      <td>AmyCo:29</td>\n",
       "      <td>AA Amyloidosis</td>\n",
       "    </tr>\n",
       "    <tr>\n",
       "      <th>739</th>\n",
       "      <td>AmyCo:33</td>\n",
       "      <td>Wild type beta-2-microglobulin-related Amyloid...</td>\n",
       "    </tr>\n",
       "    <tr>\n",
       "      <th>741</th>\n",
       "      <td>AmyCo:8</td>\n",
       "      <td>Immunoglobulin Light-chain Amyloidosis</td>\n",
       "    </tr>\n",
       "    <tr>\n",
       "      <th>835</th>\n",
       "      <td>AmyCo:67</td>\n",
       "      <td>PrP Systemic Amyloidosis</td>\n",
       "    </tr>\n",
       "    <tr>\n",
       "      <th>1050</th>\n",
       "      <td>AmyCo:20</td>\n",
       "      <td>Hereditary lysozyme Amyloidosis</td>\n",
       "    </tr>\n",
       "    <tr>\n",
       "      <th>1558</th>\n",
       "      <td>AmyCo:40</td>\n",
       "      <td>Medin Amyloidosis</td>\n",
       "    </tr>\n",
       "    <tr>\n",
       "      <th>4556</th>\n",
       "      <td>AmyCo:73</td>\n",
       "      <td>Senile Seminal Vesicle Amyloidosis</td>\n",
       "    </tr>\n",
       "    <tr>\n",
       "      <th>4799</th>\n",
       "      <td>AmyCo:37</td>\n",
       "      <td>Isolated Atrial Amyloidosis</td>\n",
       "    </tr>\n",
       "    <tr>\n",
       "      <th>5419</th>\n",
       "      <td>AmyCo:35</td>\n",
       "      <td>Calcifying Epithelial Odontogenic Tumor</td>\n",
       "    </tr>\n",
       "    <tr>\n",
       "      <th>5948</th>\n",
       "      <td>AmyCo:36</td>\n",
       "      <td>Variably Protease-Sensitive Prionopathy</td>\n",
       "    </tr>\n",
       "    <tr>\n",
       "      <th>7457</th>\n",
       "      <td>AmyCo:75</td>\n",
       "      <td>Hereditary beta-2-microglobulin-related Amyloi...</td>\n",
       "    </tr>\n",
       "    <tr>\n",
       "      <th>7499</th>\n",
       "      <td>AmyCo:19</td>\n",
       "      <td>Hereditary fibrinogen A alpha-chain Amyloidosis</td>\n",
       "    </tr>\n",
       "  </tbody>\n",
       "</table>\n",
       "</div>"
      ],
      "text/plain": [
       "     disease_id                                       disease_name\n",
       "351    AmyCo:26        Apolipoprotein C-III associated Amyloidosis\n",
       "508    AmyCo:16              Localized insulin-derived Amyloidosis\n",
       "509    AmyCo:17          Apolipoprotein A-I associated Amyloidosis\n",
       "511    AmyCo:63                    Enfuvirtide-induced Amyloidosis\n",
       "518    AmyCo:30        Wild-type transthyretin-related Amyloidosis\n",
       "731    AmyCo:22         Apolipoprotein A-II associated Amyloidosis\n",
       "732    AmyCo:23                                     AH Amyloidosis\n",
       "733    AmyCo:24                                    AHL Amyloidosis\n",
       "734    AmyCo:25         Apolipoprotein C-II associated Amyloidosis\n",
       "736    AmyCo:27         Leukocyte chemotactic factor 2 Amyloidosis\n",
       "737    AmyCo:28         Apolipoprotein A-IV associated Amyloidosis\n",
       "738    AmyCo:29                                     AA Amyloidosis\n",
       "739    AmyCo:33  Wild type beta-2-microglobulin-related Amyloid...\n",
       "741     AmyCo:8             Immunoglobulin Light-chain Amyloidosis\n",
       "835    AmyCo:67                           PrP Systemic Amyloidosis\n",
       "1050   AmyCo:20                    Hereditary lysozyme Amyloidosis\n",
       "1558   AmyCo:40                                  Medin Amyloidosis\n",
       "4556   AmyCo:73                 Senile Seminal Vesicle Amyloidosis\n",
       "4799   AmyCo:37                        Isolated Atrial Amyloidosis\n",
       "5419   AmyCo:35            Calcifying Epithelial Odontogenic Tumor\n",
       "5948   AmyCo:36            Variably Protease-Sensitive Prionopathy\n",
       "7457   AmyCo:75  Hereditary beta-2-microglobulin-related Amyloi...\n",
       "7499   AmyCo:19    Hereditary fibrinogen A alpha-chain Amyloidosis"
      ]
     },
     "execution_count": 34,
     "metadata": {},
     "output_type": "execute_result"
    }
   ],
   "source": [
    "## look at non-DOID data: unique values\n",
    "df_no_DOID_knowledge[[\"disease_id\", \"disease_name\"]].drop_duplicates()"
   ]
  },
  {
   "cell_type": "markdown",
   "id": "85cdc0e9",
   "metadata": {},
   "source": [
    "#### Experiments"
   ]
  },
  {
   "cell_type": "code",
   "execution_count": 35,
   "id": "7716d82b",
   "metadata": {
    "ExecuteTime": {
     "end_time": "2025-07-12T01:08:21.115858Z",
     "start_time": "2025-07-12T01:08:21.112985Z"
    }
   },
   "outputs": [],
   "source": [
    "# df_experiments[~ df_experiments[\"disease_id\"].str.startswith(\"DOID:\")].shape"
   ]
  },
  {
   "cell_type": "markdown",
   "id": "9a985800",
   "metadata": {},
   "source": [
    "### Other columns"
   ]
  },
  {
   "cell_type": "markdown",
   "id": "4b2b6757",
   "metadata": {},
   "source": [
    "Quick checks on what other data looks like. \n",
    "\n",
    "Didn't review disease_name: already reviewed non-DOID rows, don't need in Translator output "
   ]
  },
  {
   "cell_type": "markdown",
   "id": "46823004",
   "metadata": {},
   "source": [
    "#### Text-mining"
   ]
  },
  {
   "cell_type": "code",
   "execution_count": 36,
   "id": "7a5b84bb",
   "metadata": {
    "ExecuteTime": {
     "end_time": "2025-07-12T01:08:21.150109Z",
     "start_time": "2025-07-12T01:08:21.117950Z"
    }
   },
   "outputs": [
    {
     "data": {
      "text/plain": [
       "count    288571.000000\n",
       "mean          3.900408\n",
       "std           0.825318\n",
       "min           3.000000\n",
       "25%           3.279000\n",
       "50%           3.664000\n",
       "75%           4.280000\n",
       "max          10.055000\n",
       "Name: z_score, dtype: float64"
      ]
     },
     "execution_count": 36,
     "metadata": {},
     "output_type": "execute_result"
    },
    {
     "data": {
      "text/plain": [
       "count    288571.000000\n",
       "mean          1.950045\n",
       "std           0.411813\n",
       "min           1.500000\n",
       "25%           1.639000\n",
       "50%           1.832000\n",
       "75%           2.140000\n",
       "max           4.000000\n",
       "Name: confidence_score, dtype: float64"
      ]
     },
     "execution_count": 36,
     "metadata": {},
     "output_type": "execute_result"
    }
   ],
   "source": [
    "## minimum being 3 means filtering was probably done, to remove anything with low z-score\n",
    "df_textmining[\"z_score\"].describe()\n",
    "\n",
    "## 1 = 2 standard deviations above mean, cutoff at 4\n",
    "df_textmining[\"confidence_score\"].describe()"
   ]
  },
  {
   "cell_type": "code",
   "execution_count": 37,
   "id": "6f4ee4c1",
   "metadata": {
    "ExecuteTime": {
     "end_time": "2025-07-12T01:08:21.388328Z",
     "start_time": "2025-07-12T01:08:21.153252Z"
    }
   },
   "outputs": [],
   "source": [
    "## url: check for delimiters (multiple urls)\n",
    "## custom set since DOID: (:), some names have _\n",
    "\n",
    "check_if_contains(df_textmining, \"url\", [\",\", \";\"])\n",
    "\n",
    "## didn't print any stats, so not found"
   ]
  },
  {
   "cell_type": "code",
   "execution_count": 38,
   "id": "b3659488",
   "metadata": {
    "ExecuteTime": {
     "end_time": "2025-07-12T01:08:21.437834Z",
     "start_time": "2025-07-12T01:08:21.390590Z"
    }
   },
   "outputs": [
    {
     "data": {
      "text/html": [
       "<div>\n",
       "<style scoped>\n",
       "    .dataframe tbody tr th:only-of-type {\n",
       "        vertical-align: middle;\n",
       "    }\n",
       "\n",
       "    .dataframe tbody tr th {\n",
       "        vertical-align: top;\n",
       "    }\n",
       "\n",
       "    .dataframe thead th {\n",
       "        text-align: right;\n",
       "    }\n",
       "</style>\n",
       "<table border=\"1\" class=\"dataframe\">\n",
       "  <thead>\n",
       "    <tr style=\"text-align: right;\">\n",
       "      <th></th>\n",
       "      <th>gene_id</th>\n",
       "      <th>gene_name</th>\n",
       "      <th>disease_id</th>\n",
       "      <th>disease_name</th>\n",
       "      <th>z_score</th>\n",
       "      <th>confidence_score</th>\n",
       "      <th>url</th>\n",
       "    </tr>\n",
       "  </thead>\n",
       "  <tbody>\n",
       "  </tbody>\n",
       "</table>\n",
       "</div>"
      ],
      "text/plain": [
       "Empty DataFrame\n",
       "Columns: [gene_id, gene_name, disease_id, disease_name, z_score, confidence_score, url]\n",
       "Index: []"
      ]
     },
     "execution_count": 38,
     "metadata": {},
     "output_type": "execute_result"
    }
   ],
   "source": [
    "## url: check for whitespace - none\n",
    "\n",
    "df_textmining[df_textmining[\"url\"].str.isspace()]"
   ]
  },
  {
   "cell_type": "markdown",
   "id": "cc14434c",
   "metadata": {},
   "source": [
    "#### Knowledge"
   ]
  },
  {
   "cell_type": "code",
   "execution_count": 39,
   "id": "a24b9be5",
   "metadata": {
    "ExecuteTime": {
     "end_time": "2025-07-12T01:08:21.447262Z",
     "start_time": "2025-07-12T01:08:21.440581Z"
    }
   },
   "outputs": [
    {
     "data": {
      "text/plain": [
       "source_db\n",
       "MedlinePlus     3770\n",
       "UniProtKB-KW    3611\n",
       "AmyCo            257\n",
       "Name: count, dtype: int64"
      ]
     },
     "execution_count": 39,
     "metadata": {},
     "output_type": "execute_result"
    }
   ],
   "source": [
    "df_knowledge[\"source_db\"].value_counts()"
   ]
  },
  {
   "cell_type": "code",
   "execution_count": 40,
   "id": "d21b8cb7",
   "metadata": {
    "ExecuteTime": {
     "end_time": "2025-07-12T01:08:21.456906Z",
     "start_time": "2025-07-12T01:08:21.450249Z"
    }
   },
   "outputs": [
    {
     "data": {
      "text/plain": [
       "evidence_type\n",
       "CURATED    7638\n",
       "Name: count, dtype: int64"
      ]
     },
     "execution_count": 40,
     "metadata": {},
     "output_type": "execute_result"
    }
   ],
   "source": [
    "df_knowledge[\"evidence_type\"].value_counts()\n",
    "## always the same value"
   ]
  },
  {
   "cell_type": "code",
   "execution_count": 41,
   "id": "e5a29a4f",
   "metadata": {
    "ExecuteTime": {
     "end_time": "2025-07-12T01:08:21.465893Z",
     "start_time": "2025-07-12T01:08:21.459942Z"
    },
    "scrolled": true
   },
   "outputs": [
    {
     "data": {
      "text/plain": [
       "confidence_score\n",
       "4    3817\n",
       "5    3770\n",
       "3      35\n",
       "2      16\n",
       "Name: count, dtype: int64"
      ]
     },
     "execution_count": 41,
     "metadata": {},
     "output_type": "execute_result"
    }
   ],
   "source": [
    "df_knowledge[\"confidence_score\"].value_counts()"
   ]
  },
  {
   "cell_type": "markdown",
   "id": "1df11234",
   "metadata": {},
   "source": [
    "#### Experiments"
   ]
  },
  {
   "cell_type": "code",
   "execution_count": 42,
   "id": "92e89611",
   "metadata": {
    "ExecuteTime": {
     "end_time": "2025-07-12T01:08:21.472481Z",
     "start_time": "2025-07-12T01:08:21.469205Z"
    }
   },
   "outputs": [],
   "source": [
    "# df_experiments[\"confidence_score\"].describe()"
   ]
  },
  {
   "cell_type": "code",
   "execution_count": 43,
   "id": "10c22fe8",
   "metadata": {
    "ExecuteTime": {
     "end_time": "2025-07-12T01:08:21.478873Z",
     "start_time": "2025-07-12T01:08:21.475872Z"
    }
   },
   "outputs": [],
   "source": [
    "# check_if_contains(df_experiments, \"source_score\", [\"MeanRankScore = \"])"
   ]
  },
  {
   "cell_type": "code",
   "execution_count": 44,
   "id": "6002490d",
   "metadata": {
    "ExecuteTime": {
     "end_time": "2025-07-12T01:08:21.485034Z",
     "start_time": "2025-07-12T01:08:21.481836Z"
    }
   },
   "outputs": [],
   "source": [
    "# df_experiments[\"MeanRankScore\"] = df_experiments[\"source_score\"].str.split(pat=\"MeanRankScore = \", expand=True)[1].astype(\"int\")"
   ]
  },
  {
   "cell_type": "code",
   "execution_count": 45,
   "id": "80703d81",
   "metadata": {
    "ExecuteTime": {
     "end_time": "2025-07-12T01:08:21.491391Z",
     "start_time": "2025-07-12T01:08:21.487888Z"
    }
   },
   "outputs": [],
   "source": [
    "# df_experiments[\"MeanRankScore\"].describe()"
   ]
  },
  {
   "cell_type": "markdown",
   "id": "608993f4",
   "metadata": {},
   "source": [
    "## Remove rows"
   ]
  },
  {
   "cell_type": "markdown",
   "id": "07946299",
   "metadata": {},
   "source": [
    "<div class=\"alert alert-block alert-info\">\n",
    "\n",
    "Removing:\n",
    "* knowledge's UniProtKB-KW data: Doesn't seem accurate, Likely has licensing issues (OMIM). Analysis in Slack canvas\n",
    "* rows that don't have ENSP IDs in gene_id column: can't NodeNorm them\n",
    "* rows that don't have DOID IDs in disease_id column: can't NodeNorm them\n",
    "\n",
    "Not removing duplicates! Because planning to ingest file in chunks, so need other method (check set of already-done). "
   ]
  },
  {
   "cell_type": "code",
   "execution_count": 46,
   "id": "a14061b3",
   "metadata": {
    "ExecuteTime": {
     "end_time": "2025-07-12T01:08:21.498017Z",
     "start_time": "2025-07-12T01:08:21.494051Z"
    }
   },
   "outputs": [],
   "source": [
    "## calculate stats before removing\n",
    "\n",
    "nrows_textmining_original = df_textmining.shape[0]\n",
    "nrows_knowledge_original = df_knowledge.shape[0]"
   ]
  },
  {
   "cell_type": "code",
   "execution_count": 47,
   "id": "4ee8e2ae",
   "metadata": {
    "ExecuteTime": {
     "end_time": "2025-07-12T01:08:21.508392Z",
     "start_time": "2025-07-12T01:08:21.500956Z"
    }
   },
   "outputs": [
    {
     "name": "stdout",
     "output_type": "stream",
     "text": [
      "knowledge: 3611 rows removed\n"
     ]
    }
   ],
   "source": [
    "## put into parser (don't do stats, print)\n",
    "\n",
    "## remove knowledge's UniProtKB-KW data\n",
    "df_knowledge = df_knowledge[df_knowledge[\"source_db\"] != \"UniProtKB-KW\"]\n",
    "\n",
    "## stats\n",
    "nrows_knowledge_filtered = df_knowledge.shape[0]\n",
    "print(f\"knowledge: {nrows_knowledge_original - nrows_knowledge_filtered} rows removed\")"
   ]
  },
  {
   "cell_type": "code",
   "execution_count": 48,
   "id": "7a52ce49",
   "metadata": {
    "ExecuteTime": {
     "end_time": "2025-07-12T01:08:21.625302Z",
     "start_time": "2025-07-12T01:08:21.511173Z"
    }
   },
   "outputs": [
    {
     "name": "stdout",
     "output_type": "stream",
     "text": [
      "textmining: 16505 rows removed\n",
      "knowledge: 41 rows removed\n"
     ]
    }
   ],
   "source": [
    "## put into parser (don't do stats, print)\n",
    "\n",
    "## remove rows that don't have ENSP IDs\n",
    "df_textmining = df_textmining[df_textmining[\"gene_id\"].str.startswith(\"ENSP\")]\n",
    "df_knowledge = df_knowledge[df_knowledge[\"gene_id\"].str.startswith(\"ENSP\")]\n",
    "\n",
    "\n",
    "## stats\n",
    "nrows_textmining_filtered = df_textmining.shape[0]\n",
    "print(f\"textmining: {nrows_textmining_original - nrows_textmining_filtered} rows removed\")\n",
    "## don't rewrite variable yet, so you can compare previous to now\n",
    "print(f\"knowledge: {nrows_knowledge_filtered - df_knowledge.shape[0]} rows removed\")\n",
    "\n",
    "## update this variable\n",
    "nrows_knowledge_filtered = df_knowledge.shape[0]"
   ]
  },
  {
   "cell_type": "code",
   "execution_count": 49,
   "id": "30f51663",
   "metadata": {
    "ExecuteTime": {
     "end_time": "2025-07-12T01:08:21.738842Z",
     "start_time": "2025-07-12T01:08:21.627649Z"
    }
   },
   "outputs": [
    {
     "name": "stdout",
     "output_type": "stream",
     "text": [
      "textmining: 42 rows removed\n",
      "knowledge: 71 rows removed\n"
     ]
    }
   ],
   "source": [
    "## put into parser (don't do stats, print)\n",
    "\n",
    "## remove rows that don't have DOID IDs\n",
    "df_textmining = df_textmining[df_textmining[\"disease_id\"].str.startswith(\"DOID:\")]\n",
    "df_knowledge = df_knowledge[df_knowledge[\"disease_id\"].str.startswith(\"DOID:\")]\n",
    "\n",
    "\n",
    "## stats\n",
    "## don't rewrite variable yet, so you can compare previous to now\n",
    "print(f\"textmining: {nrows_textmining_filtered - df_textmining.shape[0]} rows removed\")\n",
    "print(f\"knowledge: {nrows_knowledge_filtered - df_knowledge.shape[0]} rows removed\")\n",
    "\n",
    "## update this variable\n",
    "nrows_textmining_filtered = df_textmining.shape[0]\n",
    "nrows_knowledge_filtered = df_knowledge.shape[0]"
   ]
  },
  {
   "cell_type": "code",
   "execution_count": 50,
   "id": "0ed627c8",
   "metadata": {
    "ExecuteTime": {
     "end_time": "2025-07-12T01:08:21.757742Z",
     "start_time": "2025-07-12T01:08:21.740876Z"
    }
   },
   "outputs": [
    {
     "data": {
      "text/html": [
       "<div>\n",
       "<style scoped>\n",
       "    .dataframe tbody tr th:only-of-type {\n",
       "        vertical-align: middle;\n",
       "    }\n",
       "\n",
       "    .dataframe tbody tr th {\n",
       "        vertical-align: top;\n",
       "    }\n",
       "\n",
       "    .dataframe thead th {\n",
       "        text-align: right;\n",
       "    }\n",
       "</style>\n",
       "<table border=\"1\" class=\"dataframe\">\n",
       "  <thead>\n",
       "    <tr style=\"text-align: right;\">\n",
       "      <th></th>\n",
       "      <th>gene_id</th>\n",
       "      <th>gene_name</th>\n",
       "      <th>disease_id</th>\n",
       "      <th>disease_name</th>\n",
       "      <th>source_db</th>\n",
       "      <th>evidence_type</th>\n",
       "      <th>confidence_score</th>\n",
       "    </tr>\n",
       "  </thead>\n",
       "  <tbody>\n",
       "    <tr>\n",
       "      <th>63</th>\n",
       "      <td>ENSP00000167586</td>\n",
       "      <td>KRT14</td>\n",
       "      <td>DOID:0050430</td>\n",
       "      <td>Multiple endocrine neoplasia type 2A</td>\n",
       "      <td>AmyCo</td>\n",
       "      <td>CURATED</td>\n",
       "      <td>2</td>\n",
       "    </tr>\n",
       "    <tr>\n",
       "      <th>64</th>\n",
       "      <td>ENSP00000167586</td>\n",
       "      <td>KRT14</td>\n",
       "      <td>DOID:0050639</td>\n",
       "      <td>Primary cutaneous amyloidosis</td>\n",
       "      <td>AmyCo</td>\n",
       "      <td>CURATED</td>\n",
       "      <td>4</td>\n",
       "    </tr>\n",
       "    <tr>\n",
       "      <th>66</th>\n",
       "      <td>ENSP00000167586</td>\n",
       "      <td>KRT14</td>\n",
       "      <td>DOID:2513</td>\n",
       "      <td>Basal cell carcinoma</td>\n",
       "      <td>AmyCo</td>\n",
       "      <td>CURATED</td>\n",
       "      <td>4</td>\n",
       "    </tr>\n",
       "    <tr>\n",
       "      <th>70</th>\n",
       "      <td>ENSP00000167586</td>\n",
       "      <td>KRT14</td>\n",
       "      <td>DOID:6498</td>\n",
       "      <td>Seborrheic keratosis</td>\n",
       "      <td>AmyCo</td>\n",
       "      <td>CURATED</td>\n",
       "      <td>4</td>\n",
       "    </tr>\n",
       "    <tr>\n",
       "      <th>71</th>\n",
       "      <td>ENSP00000167586</td>\n",
       "      <td>KRT14</td>\n",
       "      <td>DOID:7039</td>\n",
       "      <td>Borst-Jadassohn intraepidermal carcinoma</td>\n",
       "      <td>AmyCo</td>\n",
       "      <td>CURATED</td>\n",
       "      <td>3</td>\n",
       "    </tr>\n",
       "    <tr>\n",
       "      <th>...</th>\n",
       "      <td>...</td>\n",
       "      <td>...</td>\n",
       "      <td>...</td>\n",
       "      <td>...</td>\n",
       "      <td>...</td>\n",
       "      <td>...</td>\n",
       "      <td>...</td>\n",
       "    </tr>\n",
       "    <tr>\n",
       "      <th>7400</th>\n",
       "      <td>ENSP00000497221</td>\n",
       "      <td>ITM2B</td>\n",
       "      <td>DOID:0070029</td>\n",
       "      <td>ITM2B-related cerebral amyloid angiopathy 1</td>\n",
       "      <td>AmyCo</td>\n",
       "      <td>CURATED</td>\n",
       "      <td>4</td>\n",
       "    </tr>\n",
       "    <tr>\n",
       "      <th>7401</th>\n",
       "      <td>ENSP00000497221</td>\n",
       "      <td>ITM2B</td>\n",
       "      <td>DOID:0070030</td>\n",
       "      <td>ITM2B-related cerebral amyloid angiopathy 2</td>\n",
       "      <td>AmyCo</td>\n",
       "      <td>CURATED</td>\n",
       "      <td>4</td>\n",
       "    </tr>\n",
       "    <tr>\n",
       "      <th>7458</th>\n",
       "      <td>ENSP00000497910</td>\n",
       "      <td>B2M</td>\n",
       "      <td>DOID:0050747</td>\n",
       "      <td>DOID:0050747</td>\n",
       "      <td>AmyCo</td>\n",
       "      <td>CURATED</td>\n",
       "      <td>4</td>\n",
       "    </tr>\n",
       "    <tr>\n",
       "      <th>7586</th>\n",
       "      <td>ENSP00000500990</td>\n",
       "      <td>SNCA</td>\n",
       "      <td>DOID:12217</td>\n",
       "      <td>Lewy body dementia</td>\n",
       "      <td>AmyCo</td>\n",
       "      <td>CURATED</td>\n",
       "      <td>4</td>\n",
       "    </tr>\n",
       "    <tr>\n",
       "      <th>7589</th>\n",
       "      <td>ENSP00000500990</td>\n",
       "      <td>SNCA</td>\n",
       "      <td>DOID:14330</td>\n",
       "      <td>Parkinson's disease</td>\n",
       "      <td>AmyCo</td>\n",
       "      <td>CURATED</td>\n",
       "      <td>4</td>\n",
       "    </tr>\n",
       "  </tbody>\n",
       "</table>\n",
       "<p>186 rows × 7 columns</p>\n",
       "</div>"
      ],
      "text/plain": [
       "              gene_id gene_name    disease_id  \\\n",
       "63    ENSP00000167586     KRT14  DOID:0050430   \n",
       "64    ENSP00000167586     KRT14  DOID:0050639   \n",
       "66    ENSP00000167586     KRT14     DOID:2513   \n",
       "70    ENSP00000167586     KRT14     DOID:6498   \n",
       "71    ENSP00000167586     KRT14     DOID:7039   \n",
       "...               ...       ...           ...   \n",
       "7400  ENSP00000497221     ITM2B  DOID:0070029   \n",
       "7401  ENSP00000497221     ITM2B  DOID:0070030   \n",
       "7458  ENSP00000497910       B2M  DOID:0050747   \n",
       "7586  ENSP00000500990      SNCA    DOID:12217   \n",
       "7589  ENSP00000500990      SNCA    DOID:14330   \n",
       "\n",
       "                                     disease_name source_db evidence_type  \\\n",
       "63           Multiple endocrine neoplasia type 2A     AmyCo       CURATED   \n",
       "64                  Primary cutaneous amyloidosis     AmyCo       CURATED   \n",
       "66                           Basal cell carcinoma     AmyCo       CURATED   \n",
       "70                           Seborrheic keratosis     AmyCo       CURATED   \n",
       "71       Borst-Jadassohn intraepidermal carcinoma     AmyCo       CURATED   \n",
       "...                                           ...       ...           ...   \n",
       "7400  ITM2B-related cerebral amyloid angiopathy 1     AmyCo       CURATED   \n",
       "7401  ITM2B-related cerebral amyloid angiopathy 2     AmyCo       CURATED   \n",
       "7458                                 DOID:0050747     AmyCo       CURATED   \n",
       "7586                           Lewy body dementia     AmyCo       CURATED   \n",
       "7589                          Parkinson's disease     AmyCo       CURATED   \n",
       "\n",
       "      confidence_score  \n",
       "63                   2  \n",
       "64                   4  \n",
       "66                   4  \n",
       "70                   4  \n",
       "71                   3  \n",
       "...                ...  \n",
       "7400                 4  \n",
       "7401                 4  \n",
       "7458                 4  \n",
       "7586                 4  \n",
       "7589                 4  \n",
       "\n",
       "[186 rows x 7 columns]"
      ]
     },
     "execution_count": 50,
     "metadata": {},
     "output_type": "execute_result"
    }
   ],
   "source": [
    "## code to reviewing dataframes, make sure all removed properly\n",
    "\n",
    "# df_textmining\n",
    "# df_textmining[~ df_textmining[\"disease_id\"].str.contains(\"DOID\")]\n",
    "\n",
    "# df_knowledge\n",
    "# df_knowledge[~ df_knowledge[\"disease_id\"].str.contains(\"DOID\")]\n",
    "# df_knowledge[df_knowledge[\"source_db\"] == \"UniProtKB-KW\"]\n",
    "\n",
    "## AmyCo data still in database (wasn't all under AmyCo disease IDs)\n",
    "df_knowledge[df_knowledge[\"source_db\"] == \"AmyCo\"]"
   ]
  },
  {
   "cell_type": "markdown",
   "id": "a797c65d",
   "metadata": {},
   "source": [
    "## Pre-NodeNorming"
   ]
  },
  {
   "cell_type": "code",
   "execution_count": 51,
   "id": "38cf08b5",
   "metadata": {
    "ExecuteTime": {
     "end_time": "2025-07-12T01:08:21.792247Z",
     "start_time": "2025-07-12T01:08:21.759868Z"
    }
   },
   "outputs": [],
   "source": [
    "## put into parser (format)\n",
    "\n",
    "## adding Translator/biolink prefixes to gene ID, for NodeNorming\n",
    "## don't need to do DOID, already in right format\n",
    "\n",
    "## loop for notebook only, to do both dataframes \n",
    "for df in [df_textmining, df_knowledge]:\n",
    "    df[\"gene_id\"] = \"ENSEMBL:\" + df[\"gene_id\"]"
   ]
  },
  {
   "cell_type": "code",
   "execution_count": 52,
   "id": "ed2645c0",
   "metadata": {
    "ExecuteTime": {
     "end_time": "2025-07-12T01:08:21.805326Z",
     "start_time": "2025-07-12T01:08:21.794336Z"
    }
   },
   "outputs": [
    {
     "data": {
      "text/html": [
       "<div>\n",
       "<style scoped>\n",
       "    .dataframe tbody tr th:only-of-type {\n",
       "        vertical-align: middle;\n",
       "    }\n",
       "\n",
       "    .dataframe tbody tr th {\n",
       "        vertical-align: top;\n",
       "    }\n",
       "\n",
       "    .dataframe thead th {\n",
       "        text-align: right;\n",
       "    }\n",
       "</style>\n",
       "<table border=\"1\" class=\"dataframe\">\n",
       "  <thead>\n",
       "    <tr style=\"text-align: right;\">\n",
       "      <th></th>\n",
       "      <th>gene_id</th>\n",
       "      <th>gene_name</th>\n",
       "      <th>disease_id</th>\n",
       "      <th>disease_name</th>\n",
       "      <th>source_db</th>\n",
       "      <th>evidence_type</th>\n",
       "      <th>confidence_score</th>\n",
       "    </tr>\n",
       "  </thead>\n",
       "  <tbody>\n",
       "    <tr>\n",
       "      <th>2</th>\n",
       "      <td>ENSEMBL:ENSP00000003084</td>\n",
       "      <td>CFTR</td>\n",
       "      <td>DOID:0111862</td>\n",
       "      <td>Congenital bilateral absence of vas deferens</td>\n",
       "      <td>MedlinePlus</td>\n",
       "      <td>CURATED</td>\n",
       "      <td>5</td>\n",
       "    </tr>\n",
       "    <tr>\n",
       "      <th>3</th>\n",
       "      <td>ENSEMBL:ENSP00000003084</td>\n",
       "      <td>CFTR</td>\n",
       "      <td>DOID:1485</td>\n",
       "      <td>Cystic fibrosis</td>\n",
       "      <td>MedlinePlus</td>\n",
       "      <td>CURATED</td>\n",
       "      <td>5</td>\n",
       "    </tr>\n",
       "    <tr>\n",
       "      <th>4</th>\n",
       "      <td>ENSEMBL:ENSP00000005226</td>\n",
       "      <td>USH1C</td>\n",
       "      <td>DOID:0050439</td>\n",
       "      <td>Usher syndrome</td>\n",
       "      <td>MedlinePlus</td>\n",
       "      <td>CURATED</td>\n",
       "      <td>5</td>\n",
       "    </tr>\n",
       "    <tr>\n",
       "      <th>5</th>\n",
       "      <td>ENSEMBL:ENSP00000005226</td>\n",
       "      <td>USH1C</td>\n",
       "      <td>DOID:0050563</td>\n",
       "      <td>Nonsyndromic deafness</td>\n",
       "      <td>MedlinePlus</td>\n",
       "      <td>CURATED</td>\n",
       "      <td>5</td>\n",
       "    </tr>\n",
       "    <tr>\n",
       "      <th>11</th>\n",
       "      <td>ENSEMBL:ENSP00000013807</td>\n",
       "      <td>ERCC1</td>\n",
       "      <td>DOID:0050427</td>\n",
       "      <td>Xeroderma pigmentosum</td>\n",
       "      <td>MedlinePlus</td>\n",
       "      <td>CURATED</td>\n",
       "      <td>5</td>\n",
       "    </tr>\n",
       "    <tr>\n",
       "      <th>...</th>\n",
       "      <td>...</td>\n",
       "      <td>...</td>\n",
       "      <td>...</td>\n",
       "      <td>...</td>\n",
       "      <td>...</td>\n",
       "      <td>...</td>\n",
       "      <td>...</td>\n",
       "    </tr>\n",
       "    <tr>\n",
       "      <th>7590</th>\n",
       "      <td>ENSEMBL:ENSP00000500990</td>\n",
       "      <td>SNCA</td>\n",
       "      <td>DOID:14330</td>\n",
       "      <td>Parkinson's disease</td>\n",
       "      <td>MedlinePlus</td>\n",
       "      <td>CURATED</td>\n",
       "      <td>5</td>\n",
       "    </tr>\n",
       "    <tr>\n",
       "      <th>7592</th>\n",
       "      <td>ENSEMBL:ENSP00000500990</td>\n",
       "      <td>SNCA</td>\n",
       "      <td>DOID:4752</td>\n",
       "      <td>Multiple system atrophy</td>\n",
       "      <td>MedlinePlus</td>\n",
       "      <td>CURATED</td>\n",
       "      <td>5</td>\n",
       "    </tr>\n",
       "    <tr>\n",
       "      <th>7593</th>\n",
       "      <td>ENSEMBL:ENSP00000501092</td>\n",
       "      <td>TFAP2A</td>\n",
       "      <td>DOID:0050691</td>\n",
       "      <td>Branchiooculofacial syndrome</td>\n",
       "      <td>MedlinePlus</td>\n",
       "      <td>CURATED</td>\n",
       "      <td>5</td>\n",
       "    </tr>\n",
       "    <tr>\n",
       "      <th>7594</th>\n",
       "      <td>ENSEMBL:ENSP00000501092</td>\n",
       "      <td>TFAP2A</td>\n",
       "      <td>DOID:12270</td>\n",
       "      <td>Coloboma</td>\n",
       "      <td>MedlinePlus</td>\n",
       "      <td>CURATED</td>\n",
       "      <td>5</td>\n",
       "    </tr>\n",
       "    <tr>\n",
       "      <th>7595</th>\n",
       "      <td>ENSEMBL:ENSP00000501111</td>\n",
       "      <td>CEL</td>\n",
       "      <td>DOID:0050524</td>\n",
       "      <td>maturity-onset diabetes of the young</td>\n",
       "      <td>MedlinePlus</td>\n",
       "      <td>CURATED</td>\n",
       "      <td>5</td>\n",
       "    </tr>\n",
       "  </tbody>\n",
       "</table>\n",
       "<p>3915 rows × 7 columns</p>\n",
       "</div>"
      ],
      "text/plain": [
       "                      gene_id gene_name    disease_id  \\\n",
       "2     ENSEMBL:ENSP00000003084      CFTR  DOID:0111862   \n",
       "3     ENSEMBL:ENSP00000003084      CFTR     DOID:1485   \n",
       "4     ENSEMBL:ENSP00000005226     USH1C  DOID:0050439   \n",
       "5     ENSEMBL:ENSP00000005226     USH1C  DOID:0050563   \n",
       "11    ENSEMBL:ENSP00000013807     ERCC1  DOID:0050427   \n",
       "...                       ...       ...           ...   \n",
       "7590  ENSEMBL:ENSP00000500990      SNCA    DOID:14330   \n",
       "7592  ENSEMBL:ENSP00000500990      SNCA     DOID:4752   \n",
       "7593  ENSEMBL:ENSP00000501092    TFAP2A  DOID:0050691   \n",
       "7594  ENSEMBL:ENSP00000501092    TFAP2A    DOID:12270   \n",
       "7595  ENSEMBL:ENSP00000501111       CEL  DOID:0050524   \n",
       "\n",
       "                                      disease_name    source_db evidence_type  \\\n",
       "2     Congenital bilateral absence of vas deferens  MedlinePlus       CURATED   \n",
       "3                                  Cystic fibrosis  MedlinePlus       CURATED   \n",
       "4                                   Usher syndrome  MedlinePlus       CURATED   \n",
       "5                            Nonsyndromic deafness  MedlinePlus       CURATED   \n",
       "11                           Xeroderma pigmentosum  MedlinePlus       CURATED   \n",
       "...                                            ...          ...           ...   \n",
       "7590                           Parkinson's disease  MedlinePlus       CURATED   \n",
       "7592                       Multiple system atrophy  MedlinePlus       CURATED   \n",
       "7593                  Branchiooculofacial syndrome  MedlinePlus       CURATED   \n",
       "7594                                      Coloboma  MedlinePlus       CURATED   \n",
       "7595          maturity-onset diabetes of the young  MedlinePlus       CURATED   \n",
       "\n",
       "      confidence_score  \n",
       "2                    5  \n",
       "3                    5  \n",
       "4                    5  \n",
       "5                    5  \n",
       "11                   5  \n",
       "...                ...  \n",
       "7590                 5  \n",
       "7592                 5  \n",
       "7593                 5  \n",
       "7594                 5  \n",
       "7595                 5  \n",
       "\n",
       "[3915 rows x 7 columns]"
      ]
     },
     "execution_count": 52,
     "metadata": {},
     "output_type": "execute_result"
    }
   ],
   "source": [
    "## double-check how they look\n",
    "\n",
    "df_knowledge"
   ]
  },
  {
   "cell_type": "markdown",
   "id": "377992a6",
   "metadata": {},
   "source": [
    "Querying NodeNorm: send unique values (no duplicates!) in large batches -> generate mapping dict to use. \n",
    "<br>\n",
    "__Not querying 1-by-1 or 1 row at a time: much slower__ and would involve sending duplicate IDs (unless saved dict is kept outside loop and checked) "
   ]
  },
  {
   "cell_type": "markdown",
   "id": "1266243a",
   "metadata": {},
   "source": [
    "<div class=\"alert alert-block alert-danger\">\n",
    "\n",
    "Set the NodeNorm URL you want to use. "
   ]
  },
  {
   "cell_type": "code",
   "execution_count": 53,
   "id": "ec7095c7",
   "metadata": {
    "ExecuteTime": {
     "end_time": "2025-07-12T01:10:58.256545Z",
     "start_time": "2025-07-12T01:10:58.158905Z"
    }
   },
   "outputs": [],
   "source": [
    "## put into parser (format)\n",
    "\n",
    "import requests\n",
    "\n",
    "## from BioThings annotator code: for interoperability between diff Python versions\n",
    "try:\n",
    "    from itertools import batched  # new in Python 3.12\n",
    "except ImportError:\n",
    "    from itertools import islice\n",
    "\n",
    "    def batched(iterable, n):\n",
    "        # batched('ABCDEFG', 3) → ABC DEF G\n",
    "        if n < 1:\n",
    "            raise ValueError(\"n must be at least one\")\n",
    "        iterator = iter(iterable)\n",
    "        while batch := tuple(islice(iterator, n)):\n",
    "            yield batch\n",
    "\n",
    "## dev instance\n",
    "# nodenorm_url = \"https://nodenormalization-sri.renci.org/get_normalized_nodes\"\n",
    "nodenorm_url = \"https://nodenorm.ci.transltr.io/get_normalized_nodes\""
   ]
  },
  {
   "cell_type": "markdown",
   "id": "fd327545",
   "metadata": {},
   "source": [
    "### Genes"
   ]
  },
  {
   "cell_type": "code",
   "execution_count": 54,
   "id": "54f32d70",
   "metadata": {
    "ExecuteTime": {
     "end_time": "2025-07-12T01:11:01.096141Z",
     "start_time": "2025-07-12T01:11:01.059677Z"
    }
   },
   "outputs": [
    {
     "data": {
      "text/plain": [
       "16847"
      ]
     },
     "execution_count": 54,
     "metadata": {},
     "output_type": "execute_result"
    },
    {
     "data": {
      "text/plain": [
       "2535"
      ]
     },
     "execution_count": 54,
     "metadata": {},
     "output_type": "execute_result"
    },
    {
     "data": {
      "text/plain": [
       "16850"
      ]
     },
     "execution_count": 54,
     "metadata": {},
     "output_type": "execute_result"
    }
   ],
   "source": [
    "## put into parser (set unique on curie list)\n",
    "\n",
    "## get set of unique CURIEs to put into NodeNorm\n",
    "geneIDs_textmining = set(df_textmining[\"gene_id\"].unique())\n",
    "geneIDs_knowledge = set(df_knowledge[\"gene_id\"].unique())\n",
    "geneIDs_all = geneIDs_textmining | geneIDs_knowledge\n",
    "\n",
    "len(geneIDs_textmining)\n",
    "len(geneIDs_knowledge)\n",
    "len(geneIDs_all)"
   ]
  },
  {
   "cell_type": "code",
   "execution_count": 55,
   "id": "e98887c0",
   "metadata": {
    "ExecuteTime": {
     "end_time": "2025-07-12T01:11:04.698591Z",
     "start_time": "2025-07-12T01:11:04.695575Z"
    }
   },
   "outputs": [],
   "source": [
    "## put into parser (partial?)\n",
    "\n",
    "gene_nodenorm_mapping = {}\n",
    "\n",
    "## set up variables to catch potential mapping failures\n",
    "stats_gene_mapping_failures = {\n",
    "    \"unexpected_error\": {},\n",
    "    \"nodenorm_returned_none\": [],\n",
    "    \"wrong_category\": {},\n",
    "    \"no_label\": []\n",
    "}"
   ]
  },
  {
   "cell_type": "markdown",
   "id": "d2c78fc5",
   "metadata": {},
   "source": [
    "Allowed types are Gene and Protein (depending on if gene/protein conflation worked for the ENSP ID or not)"
   ]
  },
  {
   "cell_type": "code",
   "execution_count": 56,
   "id": "9521a856",
   "metadata": {
    "ExecuteTime": {
     "end_time": "2025-07-12T01:11:58.553028Z",
     "start_time": "2025-07-12T01:11:06.923771Z"
    }
   },
   "outputs": [],
   "source": [
    "## put into parser (don't need to iterate through batch, just use all in chunk you're on)\n",
    "\n",
    "## larger batches are quicker\n",
    "for batch in batched(geneIDs_all, 1000):\n",
    "    ## returns tuples -> cast to list\n",
    "    req_body = {\n",
    "        \"curies\": list(batch),\n",
    "        \"conflate\": True,\n",
    "    }\n",
    "    r = requests.post(nodenorm_url, json=req_body)\n",
    "    response = r.json()\n",
    "    \n",
    "    ## not doing dict comprehension. allows easier review, logic writing\n",
    "    for k,v in response.items():\n",
    "        ## catch unexpected errors\n",
    "        try:\n",
    "            ## if NodeNorm didn't have info on this ID, v will be None\n",
    "            if v is not None:\n",
    "                ## don't keep mapping if category is not the expected one\n",
    "                if v[\"type\"][0] in [\"biolink:Gene\", \"biolink:Protein\"]:\n",
    "                    ## also throw out mapping if no primary label found\n",
    "                    if v[\"id\"].get(\"label\"):\n",
    "                        temp = {\n",
    "                            k: {\"primary_id\": v[\"id\"][\"identifier\"],\n",
    "                                \"primary_label\": v[\"id\"][\"label\"],\n",
    "                                ## saving category: currently required for KGX nodes file output\n",
    "                                \"category\": v[\"type\"][0]\n",
    "                               }\n",
    "                        }\n",
    "                        gene_nodenorm_mapping.update(temp)\n",
    "                    else:\n",
    "                        stats_gene_mapping_failures[\"no_label\"].append(k)\n",
    "#                         print(f\"{k}: NodeNorm didn't find primary label. Not keeping this mapping.\")\n",
    "                else:\n",
    "                    stats_gene_mapping_failures[\"wrong_category\"].update({k: v[\"type\"][0]})\n",
    "#                     print(f'{k}: NodeNorm found different category {v[\"type\"][0]}. Not keeping this mapping.')\n",
    "            else:\n",
    "                stats_gene_mapping_failures[\"nodenorm_returned_none\"].append(k)\n",
    "#                 print(f\"{k}: NodeNorm didn't recognize this ID\")\n",
    "        except:\n",
    "            stats_gene_mapping_failures[\"unexpected_error\"].update({k: v})\n",
    "            print(f'Encountered an unexpected error.')\n",
    "            print(f'NodeNorm response key: {k}')\n",
    "            print(f'NodeNorm response value: {v}')"
   ]
  },
  {
   "cell_type": "code",
   "execution_count": 57,
   "id": "fce525ef",
   "metadata": {
    "ExecuteTime": {
     "end_time": "2025-07-12T01:12:02.685245Z",
     "start_time": "2025-07-12T01:12:02.674432Z"
    }
   },
   "outputs": [
    {
     "data": {
      "text/plain": [
       "16468"
      ]
     },
     "execution_count": 57,
     "metadata": {},
     "output_type": "execute_result"
    },
    {
     "data": {
      "text/plain": [
       "{}"
      ]
     },
     "execution_count": 57,
     "metadata": {},
     "output_type": "execute_result"
    },
    {
     "data": {
      "text/plain": [
       "318"
      ]
     },
     "execution_count": 57,
     "metadata": {},
     "output_type": "execute_result"
    },
    {
     "data": {
      "text/plain": [
       "0"
      ]
     },
     "execution_count": 57,
     "metadata": {},
     "output_type": "execute_result"
    },
    {
     "data": {
      "text/plain": [
       "64"
      ]
     },
     "execution_count": 57,
     "metadata": {},
     "output_type": "execute_result"
    }
   ],
   "source": [
    "len(gene_nodenorm_mapping)\n",
    "\n",
    "stats_gene_mapping_failures[\"unexpected_error\"]\n",
    "\n",
    "len(stats_gene_mapping_failures[\"nodenorm_returned_none\"])\n",
    "len(stats_gene_mapping_failures[\"wrong_category\"])\n",
    "len(stats_gene_mapping_failures[\"no_label\"])"
   ]
  },
  {
   "cell_type": "code",
   "execution_count": 58,
   "id": "302e3003",
   "metadata": {
    "ExecuteTime": {
     "end_time": "2025-07-12T01:12:27.072912Z",
     "start_time": "2025-07-12T01:12:27.068718Z"
    }
   },
   "outputs": [
    {
     "data": {
      "text/plain": [
       "['ENSEMBL:ENSP00000475224',\n",
       " 'ENSEMBL:ENSP00000426653',\n",
       " 'ENSEMBL:ENSP00000377616',\n",
       " 'ENSEMBL:ENSP00000274306',\n",
       " 'ENSEMBL:ENSP00000359579',\n",
       " 'ENSEMBL:ENSP00000371886',\n",
       " 'ENSEMBL:ENSP00000478752',\n",
       " 'ENSEMBL:ENSP00000437073']"
      ]
     },
     "execution_count": 58,
     "metadata": {},
     "output_type": "execute_result"
    }
   ],
   "source": [
    "## code block for reviewing failures\n",
    "\n",
    "# stats_gene_mapping_failures[\"nodenorm_returned_none\"][270:280]\n",
    "stats_gene_mapping_failures[\"no_label\"][50:58]"
   ]
  },
  {
   "cell_type": "markdown",
   "id": "d656426f",
   "metadata": {},
   "source": [
    "<div class=\"alert alert-block alert-info\">\n",
    "\n",
    "**2025-05-02 data:**\n",
    "\n",
    "**Reviewed ENSEMBL ENSP mapping failures**\n",
    "\n",
    "315 cases where NodeNorm returned None (didn't recognize/resolve ID). __I checked some (20)__ (0:10, 270:280). __Conclusion: DISEASES problem, using outdated IDs__\n",
    "\n",
    "* 17: ID is deprecated. Language: \"no longer in the database but it has been mapped to 1 deprecated identifier\")\n",
    "* 3: ID has been replaced? Language: \"no longer in the database.It has been mapped to 1 current identifier\". (ENSP00000074304, ENSP00000480798, ENSP00000482552)\n",
    "\n",
    "<br>\n",
    "    \n",
    "58 cases where NodeNorm didn't have a primary label. __I checked some (18)__ (0:10, 50:58). __Conclusion: NodeNorm issue sometimes, other times a complex biology/data situation__\n",
    "\n",
    "All were legit IDs, but I guess NodeNorm isn't mapping them to their genes. Some thoughts:\n",
    "* noticed many genes were overlapping locus/readthrough gene\n",
    "* But some of these genes look \"fairly regular\" and the ENSP ID is the \"Ensembl Canonical\". So it's strange that NodeNorm isn't mapping them to their genes -> messaged NodeNorm\n",
    "  * ENSP00000419081 for CALML4 ENSG00000129007 \n",
    "  * ENSP00000211076 for TPSD1 ENSG00000095917 (not overlapping!)\n",
    "  * ENSP00000361746 for EPPIN ENSG00000101448\n",
    "  * ENSP00000215727 for SERPIND1 ENSG00000099937 (not overlapping!)\n",
    "  * ENSP00000348089 for ERCC6 ENSG00000225830 (not overlapping!)\n",
    "  * ENSP00000361232 for DDX31 ENSG00000125485 (not overlapping!)"
   ]
  },
  {
   "cell_type": "code",
   "execution_count": 59,
   "id": "02fb64f9",
   "metadata": {
    "ExecuteTime": {
     "end_time": "2025-07-12T01:12:54.113624Z",
     "start_time": "2025-07-12T01:12:54.057134Z"
    }
   },
   "outputs": [],
   "source": [
    "## calculate stats: number of rows affected by each type of mapping failure\n",
    "stats_gene_mapping_failures.update({\n",
    "    \"nrows_textmining_none\": df_textmining[df_textmining[\"gene_id\"].isin(stats_gene_mapping_failures[\"nodenorm_returned_none\"])].shape[0],\n",
    "    \"nrows_knowledge_none\": df_knowledge[df_knowledge[\"gene_id\"].isin(stats_gene_mapping_failures[\"nodenorm_returned_none\"])].shape[0],\n",
    "\n",
    "    \"n_rows_textmining_wrongcategory\": df_textmining[df_textmining[\"gene_id\"].isin(stats_gene_mapping_failures[\"wrong_category\"].keys())].shape[0],\n",
    "    \"n_rows_knowledge_wrongcategory\": df_knowledge[df_knowledge[\"gene_id\"].isin(stats_gene_mapping_failures[\"wrong_category\"].keys())].shape[0],\n",
    "\n",
    "    \n",
    "    \"n_rows_textmining_nolabel\": df_textmining[df_textmining[\"gene_id\"].isin(stats_gene_mapping_failures[\"no_label\"])].shape[0],\n",
    "    \"n_rows_knowledge_nolabel\": df_knowledge[df_knowledge[\"gene_id\"].isin(stats_gene_mapping_failures[\"no_label\"])].shape[0],\n",
    "})"
   ]
  },
  {
   "cell_type": "code",
   "execution_count": 60,
   "id": "28524687",
   "metadata": {
    "ExecuteTime": {
     "end_time": "2025-07-12T01:12:55.000066Z",
     "start_time": "2025-07-12T01:12:54.989290Z"
    }
   },
   "outputs": [
    {
     "data": {
      "text/plain": [
       "4240"
      ]
     },
     "execution_count": 60,
     "metadata": {},
     "output_type": "execute_result"
    },
    {
     "data": {
      "text/plain": [
       "52"
      ]
     },
     "execution_count": 60,
     "metadata": {},
     "output_type": "execute_result"
    },
    {
     "data": {
      "text/plain": [
       "0"
      ]
     },
     "execution_count": 60,
     "metadata": {},
     "output_type": "execute_result"
    },
    {
     "data": {
      "text/plain": [
       "0"
      ]
     },
     "execution_count": 60,
     "metadata": {},
     "output_type": "execute_result"
    },
    {
     "data": {
      "text/plain": [
       "1449"
      ]
     },
     "execution_count": 60,
     "metadata": {},
     "output_type": "execute_result"
    },
    {
     "data": {
      "text/plain": [
       "10"
      ]
     },
     "execution_count": 60,
     "metadata": {},
     "output_type": "execute_result"
    }
   ],
   "source": [
    "stats_gene_mapping_failures[\"nrows_textmining_none\"]\n",
    "stats_gene_mapping_failures[\"nrows_knowledge_none\"]\n",
    "stats_gene_mapping_failures[\"n_rows_textmining_wrongcategory\"]\n",
    "stats_gene_mapping_failures[\"n_rows_knowledge_wrongcategory\"]\n",
    "stats_gene_mapping_failures[\"n_rows_textmining_nolabel\"]\n",
    "stats_gene_mapping_failures[\"n_rows_knowledge_nolabel\"]"
   ]
  },
  {
   "cell_type": "markdown",
   "id": "783a5f57",
   "metadata": {},
   "source": [
    "### Diseases"
   ]
  },
  {
   "cell_type": "code",
   "execution_count": 61,
   "id": "900a0766",
   "metadata": {
    "ExecuteTime": {
     "end_time": "2025-07-12T01:13:17.381433Z",
     "start_time": "2025-07-12T01:13:17.351121Z"
    }
   },
   "outputs": [
    {
     "data": {
      "text/plain": [
       "5556"
      ]
     },
     "execution_count": 61,
     "metadata": {},
     "output_type": "execute_result"
    },
    {
     "data": {
      "text/plain": [
       "1036"
      ]
     },
     "execution_count": 61,
     "metadata": {},
     "output_type": "execute_result"
    },
    {
     "data": {
      "text/plain": [
       "5671"
      ]
     },
     "execution_count": 61,
     "metadata": {},
     "output_type": "execute_result"
    }
   ],
   "source": [
    "\n",
    "## get set of unique CURIEs to put into NodeNorm\n",
    "diseaseIDs_textmining = set(df_textmining[\"disease_id\"].unique())\n",
    "diseaseIDs_knowledge = set(df_knowledge[\"disease_id\"].unique())\n",
    "diseaseIDs_all = diseaseIDs_textmining | diseaseIDs_knowledge\n",
    "\n",
    "len(diseaseIDs_textmining)\n",
    "len(diseaseIDs_knowledge)\n",
    "len(diseaseIDs_all)"
   ]
  },
  {
   "cell_type": "code",
   "execution_count": 62,
   "id": "1400dd55",
   "metadata": {
    "ExecuteTime": {
     "end_time": "2025-07-12T01:13:20.193311Z",
     "start_time": "2025-07-12T01:13:20.190117Z"
    }
   },
   "outputs": [],
   "source": [
    "\n",
    "disease_nodenorm_mapping = {}\n",
    "\n",
    "## set up variables to catch mapping failures\n",
    "stats_disease_mapping_failures = {\n",
    "    \"unexpected_error\": {},\n",
    "    \"nodenorm_returned_none\": [],\n",
    "    \"wrong_category\": {},\n",
    "    \"no_label\": []\n",
    "    \n",
    "}"
   ]
  },
  {
   "cell_type": "code",
   "execution_count": 63,
   "id": "858b6f93",
   "metadata": {
    "ExecuteTime": {
     "end_time": "2025-07-12T01:13:37.254980Z",
     "start_time": "2025-07-12T01:13:20.683566Z"
    }
   },
   "outputs": [],
   "source": [
    "\n",
    "\n",
    "## larger batches are quicker\n",
    "for batch in batched(diseaseIDs_all, 1000):\n",
    "    ## returns tuples -> cast to list\n",
    "    req_body = {\n",
    "        \"curies\": list(batch),\n",
    "        \"conflate\": True,\n",
    "    }\n",
    "    r = requests.post(nodenorm_url, json=req_body)\n",
    "    response = r.json()\n",
    "    \n",
    "    ## not doing dict comprehension. allows easier review, logic writing\n",
    "    for k,v in response.items():\n",
    "        ## catch unexpected errors\n",
    "        try:\n",
    "            ## if NodeNorm didn't have info on this ID, v will be None\n",
    "            if v is not None:\n",
    "                ## don't keep mapping if category is not the expected one\n",
    "                if v[\"type\"][0] == \"biolink:Disease\":\n",
    "                    ## also throw out mapping if no primary label found\n",
    "                    if v[\"id\"].get(\"label\"):\n",
    "                        temp = {\n",
    "                            k: {\"primary_id\": v[\"id\"][\"identifier\"],\n",
    "                                \"primary_label\": v[\"id\"][\"label\"]\n",
    "                               }\n",
    "                        }\n",
    "                        disease_nodenorm_mapping.update(temp)\n",
    "                    else:\n",
    "                        stats_disease_mapping_failures[\"no_label\"].append(k)\n",
    "#                         print(f\"{k}: NodeNorm didn't find primary label. Not keeping this mapping.\")\n",
    "                else:\n",
    "                    stats_disease_mapping_failures[\"wrong_category\"].update({k: v[\"type\"][0]})\n",
    "#                     print(f'{k}: NodeNorm found different category {v[\"type\"][0]}. Not keeping this mapping.')\n",
    "            else:\n",
    "                stats_disease_mapping_failures[\"nodenorm_returned_none\"].append(k)\n",
    "#                 print(f\"{k}: NodeNorm didn't recognize this ID\")\n",
    "        except:\n",
    "            stats_disease_mapping_failures[\"unexpected_error\"].update({k: v})\n",
    "            print(f'Encountered an unexpected error.')\n",
    "            print(f'NodeNorm response key: {k}')\n",
    "            print(f'NodeNorm response value: {v}')"
   ]
  },
  {
   "cell_type": "code",
   "execution_count": 64,
   "id": "2e81d56b",
   "metadata": {
    "ExecuteTime": {
     "end_time": "2025-07-12T01:13:38.470820Z",
     "start_time": "2025-07-12T01:13:38.460818Z"
    }
   },
   "outputs": [
    {
     "data": {
      "text/plain": [
       "5641"
      ]
     },
     "execution_count": 64,
     "metadata": {},
     "output_type": "execute_result"
    },
    {
     "data": {
      "text/plain": [
       "{}"
      ]
     },
     "execution_count": 64,
     "metadata": {},
     "output_type": "execute_result"
    },
    {
     "data": {
      "text/plain": [
       "30"
      ]
     },
     "execution_count": 64,
     "metadata": {},
     "output_type": "execute_result"
    },
    {
     "data": {
      "text/plain": [
       "0"
      ]
     },
     "execution_count": 64,
     "metadata": {},
     "output_type": "execute_result"
    },
    {
     "data": {
      "text/plain": [
       "0"
      ]
     },
     "execution_count": 64,
     "metadata": {},
     "output_type": "execute_result"
    }
   ],
   "source": [
    "len(disease_nodenorm_mapping)\n",
    "\n",
    "stats_disease_mapping_failures[\"unexpected_error\"]\n",
    "\n",
    "len(stats_disease_mapping_failures[\"nodenorm_returned_none\"])\n",
    "len(stats_disease_mapping_failures[\"wrong_category\"])\n",
    "len(stats_disease_mapping_failures[\"no_label\"])"
   ]
  },
  {
   "cell_type": "code",
   "execution_count": 65,
   "id": "77af9e52",
   "metadata": {
    "ExecuteTime": {
     "end_time": "2025-07-12T01:13:43.050286Z",
     "start_time": "2025-07-12T01:13:43.045628Z"
    }
   },
   "outputs": [
    {
     "data": {
      "text/plain": [
       "['DOID:206',\n",
       " 'DOID:1607',\n",
       " 'DOID:11155',\n",
       " 'DOID:4377',\n",
       " 'DOID:10986',\n",
       " 'DOID:11772',\n",
       " 'DOID:0110578',\n",
       " 'DOID:11595',\n",
       " 'DOID:0060321',\n",
       " 'DOID:7149']"
      ]
     },
     "execution_count": 65,
     "metadata": {},
     "output_type": "execute_result"
    }
   ],
   "source": [
    "## code used to review mapping failures \n",
    "\n",
    "stats_disease_mapping_failures[\"nodenorm_returned_none\"][0:10]"
   ]
  },
  {
   "cell_type": "markdown",
   "id": "ec0e6d96",
   "metadata": {},
   "source": [
    "<div class=\"alert alert-block alert-info\">\n",
    "\n",
    "**2025-05-02 data:**\n",
    "\n",
    "**Reviewed Disease DOID mapping failures**\n",
    "\n",
    "30 cases where NodeNorm returned None (didn't recognize/resolve ID). __I checked some (first 10)__:\n",
    "\n",
    "All were legit IDs: don't understand why NodeNorm returned none -> messaged NodeNorm"
   ]
  },
  {
   "cell_type": "code",
   "execution_count": 66,
   "id": "a772ebfd",
   "metadata": {
    "ExecuteTime": {
     "end_time": "2025-07-12T01:13:52.041857Z",
     "start_time": "2025-07-12T01:13:52.009032Z"
    }
   },
   "outputs": [],
   "source": [
    "## calculate stats: number of rows affected by each type of mapping failure\n",
    "stats_disease_mapping_failures.update({\n",
    "    \"nrows_textmining_none\": df_textmining[df_textmining[\"disease_id\"].isin(stats_disease_mapping_failures[\"nodenorm_returned_none\"])].shape[0],\n",
    "    \"nrows_knowledge_none\": df_knowledge[df_knowledge[\"disease_id\"].isin(stats_disease_mapping_failures[\"nodenorm_returned_none\"])].shape[0],\n",
    "\n",
    "    \"n_rows_textmining_wrongcategory\": df_textmining[df_textmining[\"disease_id\"].isin(stats_disease_mapping_failures[\"wrong_category\"].keys())].shape[0],\n",
    "    \"n_rows_knowledge_wrongcategory\": df_knowledge[df_knowledge[\"disease_id\"].isin(stats_disease_mapping_failures[\"wrong_category\"].keys())].shape[0],\n",
    "\n",
    "    \n",
    "    \"n_rows_textmining_nolabel\": df_textmining[df_textmining[\"disease_id\"].isin(stats_disease_mapping_failures[\"no_label\"])].shape[0],\n",
    "    \"n_rows_knowledge_nolabel\": df_knowledge[df_knowledge[\"disease_id\"].isin(stats_disease_mapping_failures[\"no_label\"])].shape[0],\n",
    "})"
   ]
  },
  {
   "cell_type": "code",
   "execution_count": 67,
   "id": "ca44cd5e",
   "metadata": {
    "ExecuteTime": {
     "end_time": "2025-07-12T01:13:52.590502Z",
     "start_time": "2025-07-12T01:13:52.579333Z"
    }
   },
   "outputs": [
    {
     "data": {
      "text/plain": [
       "624"
      ]
     },
     "execution_count": 67,
     "metadata": {},
     "output_type": "execute_result"
    },
    {
     "data": {
      "text/plain": [
       "10"
      ]
     },
     "execution_count": 67,
     "metadata": {},
     "output_type": "execute_result"
    },
    {
     "data": {
      "text/plain": [
       "0"
      ]
     },
     "execution_count": 67,
     "metadata": {},
     "output_type": "execute_result"
    },
    {
     "data": {
      "text/plain": [
       "0"
      ]
     },
     "execution_count": 67,
     "metadata": {},
     "output_type": "execute_result"
    },
    {
     "data": {
      "text/plain": [
       "0"
      ]
     },
     "execution_count": 67,
     "metadata": {},
     "output_type": "execute_result"
    },
    {
     "data": {
      "text/plain": [
       "0"
      ]
     },
     "execution_count": 67,
     "metadata": {},
     "output_type": "execute_result"
    }
   ],
   "source": [
    "stats_disease_mapping_failures[\"nrows_textmining_none\"]\n",
    "stats_disease_mapping_failures[\"nrows_knowledge_none\"]\n",
    "stats_disease_mapping_failures[\"n_rows_textmining_wrongcategory\"]\n",
    "stats_disease_mapping_failures[\"n_rows_knowledge_wrongcategory\"]\n",
    "stats_disease_mapping_failures[\"n_rows_textmining_nolabel\"]\n",
    "stats_disease_mapping_failures[\"n_rows_knowledge_nolabel\"]"
   ]
  },
  {
   "cell_type": "markdown",
   "id": "23343f7c",
   "metadata": {},
   "source": [
    "### Adding NodeNorm data, removing rows"
   ]
  },
  {
   "cell_type": "markdown",
   "id": "1d708cbc",
   "metadata": {},
   "source": [
    "<div class=\"alert alert-block alert-info\">\n",
    "\n",
    "Removing rows that lack NodeNorm data, due to small amount of failures during NodeNorm process: \n",
    "* NodeNorm returned none\n",
    "* NodeNorm didn't have primary label (genes only) "
   ]
  },
  {
   "cell_type": "code",
   "execution_count": 68,
   "id": "3d727809",
   "metadata": {
    "ExecuteTime": {
     "end_time": "2025-07-12T01:14:00.178411Z",
     "start_time": "2025-07-12T01:13:59.711628Z"
    }
   },
   "outputs": [],
   "source": [
    "## put into parser (format): \n",
    "\n",
    "## text-mining\n",
    "df_textmining[\"gene_nodenorm_id\"] = [gene_nodenorm_mapping[i][\"primary_id\"] \n",
    "                                     if gene_nodenorm_mapping.get(i) \n",
    "                                     else pd.NA\n",
    "                                     for i in df_textmining[\"gene_id\"]]\n",
    "\n",
    "df_textmining[\"gene_nodenorm_label\"] = [gene_nodenorm_mapping[i][\"primary_label\"] \n",
    "                                        if gene_nodenorm_mapping.get(i) \n",
    "                                        else pd.NA\n",
    "                                        for i in df_textmining[\"gene_id\"]]\n",
    "\n",
    "df_textmining[\"gene_nodenorm_category\"] = [gene_nodenorm_mapping[i][\"category\"] \n",
    "                                           if gene_nodenorm_mapping.get(i) \n",
    "                                           else pd.NA\n",
    "                                           for i in df_textmining[\"gene_id\"]]\n",
    "\n",
    "df_textmining[\"disease_nodenorm_id\"] = [disease_nodenorm_mapping[i][\"primary_id\"] \n",
    "                                        if disease_nodenorm_mapping.get(i) \n",
    "                                        else pd.NA\n",
    "                                        for i in df_textmining[\"disease_id\"]]\n",
    "\n",
    "df_textmining[\"disease_nodenorm_label\"] = [disease_nodenorm_mapping[i][\"primary_label\"] \n",
    "                                           if disease_nodenorm_mapping.get(i) \n",
    "                                           else pd.NA\n",
    "                                           for i in df_textmining[\"disease_id\"]]"
   ]
  },
  {
   "cell_type": "code",
   "execution_count": 69,
   "id": "8783b9aa",
   "metadata": {
    "ExecuteTime": {
     "end_time": "2025-07-12T01:14:00.732653Z",
     "start_time": "2025-07-12T01:14:00.715227Z"
    }
   },
   "outputs": [],
   "source": [
    "\n",
    "## knowledge\n",
    "df_knowledge[\"gene_nodenorm_id\"] = [gene_nodenorm_mapping[i][\"primary_id\"] \n",
    "                                    if gene_nodenorm_mapping.get(i) \n",
    "                                    else pd.NA\n",
    "                                    for i in df_knowledge[\"gene_id\"]]\n",
    "\n",
    "df_knowledge[\"gene_nodenorm_label\"] = [gene_nodenorm_mapping[i][\"primary_label\"] \n",
    "                                       if gene_nodenorm_mapping.get(i) \n",
    "                                       else pd.NA\n",
    "                                       for i in df_knowledge[\"gene_id\"]]\n",
    "\n",
    "df_knowledge[\"gene_nodenorm_category\"] = [gene_nodenorm_mapping[i][\"category\"] \n",
    "                                          if gene_nodenorm_mapping.get(i) \n",
    "                                          else pd.NA\n",
    "                                          for i in df_knowledge[\"gene_id\"]]\n",
    "\n",
    "df_knowledge[\"disease_nodenorm_id\"] = [disease_nodenorm_mapping[i][\"primary_id\"] \n",
    "                                       if disease_nodenorm_mapping.get(i) \n",
    "                                       else pd.NA\n",
    "                                       for i in df_knowledge[\"disease_id\"]]\n",
    "\n",
    "df_knowledge[\"disease_nodenorm_label\"] = [disease_nodenorm_mapping[i][\"primary_label\"] \n",
    "                                          if disease_nodenorm_mapping.get(i) \n",
    "                                          else pd.NA\n",
    "                                          for i in df_knowledge[\"disease_id\"]]"
   ]
  },
  {
   "cell_type": "code",
   "execution_count": 70,
   "id": "430314be",
   "metadata": {
    "ExecuteTime": {
     "end_time": "2025-07-12T01:14:02.359450Z",
     "start_time": "2025-07-12T01:14:02.356869Z"
    }
   },
   "outputs": [],
   "source": [
    "## code chunk to review df\n",
    "\n",
    "# df_textmining\n",
    "# df_knowledge"
   ]
  },
  {
   "cell_type": "code",
   "execution_count": 71,
   "id": "caee28a8",
   "metadata": {
    "ExecuteTime": {
     "end_time": "2025-07-12T01:14:03.875167Z",
     "start_time": "2025-07-12T01:14:03.733081Z"
    }
   },
   "outputs": [],
   "source": [
    "## put into parser: \n",
    "\n",
    "## doing subset just in case (original data didn't have any NAs that would be\n",
    "##   dropped on accident, but still) \n",
    "\n",
    "df_textmining.dropna(subset=[\"gene_nodenorm_id\", \"gene_nodenorm_label\", \n",
    "                            \"disease_nodenorm_id\", \"disease_nodenorm_label\"],\n",
    "                    ignore_index=True, inplace=True)\n",
    "\n",
    "df_knowledge.dropna(subset=[\"gene_nodenorm_id\", \"gene_nodenorm_label\", \n",
    "                            \"disease_nodenorm_id\", \"disease_nodenorm_label\"],\n",
    "                    ignore_index=True, inplace=True)"
   ]
  },
  {
   "cell_type": "code",
   "execution_count": 72,
   "id": "4fc8d268",
   "metadata": {
    "ExecuteTime": {
     "end_time": "2025-07-12T01:14:06.083629Z",
     "start_time": "2025-07-12T01:14:06.077802Z"
    }
   },
   "outputs": [
    {
     "data": {
      "text/plain": [
       "(265723, 12)"
      ]
     },
     "execution_count": 72,
     "metadata": {},
     "output_type": "execute_result"
    },
    {
     "data": {
      "text/plain": [
       "(3844, 12)"
      ]
     },
     "execution_count": 72,
     "metadata": {},
     "output_type": "execute_result"
    }
   ],
   "source": [
    "## didn't do stats for before/after\n",
    "\n",
    "df_textmining.shape\n",
    "df_knowledge.shape"
   ]
  },
  {
   "cell_type": "markdown",
   "id": "0b6fab64",
   "metadata": {},
   "source": [
    "### Exploring \"duplicates\" from NodeNorming"
   ]
  },
  {
   "cell_type": "code",
   "execution_count": 73,
   "id": "ff2a578d",
   "metadata": {
    "ExecuteTime": {
     "end_time": "2025-07-12T01:14:18.338145Z",
     "start_time": "2025-07-12T01:14:18.309647Z"
    },
    "scrolled": false
   },
   "outputs": [
    {
     "data": {
      "text/plain": [
       "(10, 12)"
      ]
     },
     "execution_count": 73,
     "metadata": {},
     "output_type": "execute_result"
    },
    {
     "data": {
      "text/html": [
       "<div>\n",
       "<style scoped>\n",
       "    .dataframe tbody tr th:only-of-type {\n",
       "        vertical-align: middle;\n",
       "    }\n",
       "\n",
       "    .dataframe tbody tr th {\n",
       "        vertical-align: top;\n",
       "    }\n",
       "\n",
       "    .dataframe thead th {\n",
       "        text-align: right;\n",
       "    }\n",
       "</style>\n",
       "<table border=\"1\" class=\"dataframe\">\n",
       "  <thead>\n",
       "    <tr style=\"text-align: right;\">\n",
       "      <th></th>\n",
       "      <th>gene_id</th>\n",
       "      <th>gene_name</th>\n",
       "      <th>disease_id</th>\n",
       "      <th>disease_name</th>\n",
       "      <th>source_db</th>\n",
       "      <th>evidence_type</th>\n",
       "      <th>confidence_score</th>\n",
       "      <th>gene_nodenorm_id</th>\n",
       "      <th>gene_nodenorm_label</th>\n",
       "      <th>gene_nodenorm_category</th>\n",
       "      <th>disease_nodenorm_id</th>\n",
       "      <th>disease_nodenorm_label</th>\n",
       "    </tr>\n",
       "  </thead>\n",
       "  <tbody>\n",
       "    <tr>\n",
       "      <th>2538</th>\n",
       "      <td>ENSEMBL:ENSP00000370083</td>\n",
       "      <td>SMN1</td>\n",
       "      <td>DOID:12377</td>\n",
       "      <td>Spinal muscular atrophy</td>\n",
       "      <td>MedlinePlus</td>\n",
       "      <td>CURATED</td>\n",
       "      <td>5</td>\n",
       "      <td>UniProtKB:Q16637-1</td>\n",
       "      <td>survival motor neuron protein isoform 1 (human)</td>\n",
       "      <td>biolink:Protein</td>\n",
       "      <td>MONDO:0001516</td>\n",
       "      <td>spinal muscular atrophy</td>\n",
       "    </tr>\n",
       "    <tr>\n",
       "      <th>2541</th>\n",
       "      <td>ENSEMBL:ENSP00000370119</td>\n",
       "      <td>SMN2</td>\n",
       "      <td>DOID:12377</td>\n",
       "      <td>Spinal muscular atrophy</td>\n",
       "      <td>MedlinePlus</td>\n",
       "      <td>CURATED</td>\n",
       "      <td>5</td>\n",
       "      <td>UniProtKB:Q16637-1</td>\n",
       "      <td>survival motor neuron protein isoform 1 (human)</td>\n",
       "      <td>biolink:Protein</td>\n",
       "      <td>MONDO:0001516</td>\n",
       "      <td>spinal muscular atrophy</td>\n",
       "    </tr>\n",
       "    <tr>\n",
       "      <th>117</th>\n",
       "      <td>ENSEMBL:ENSP00000221700</td>\n",
       "      <td>CYP4F2</td>\n",
       "      <td>DOID:0080665</td>\n",
       "      <td>Warfarin resistance</td>\n",
       "      <td>MedlinePlus</td>\n",
       "      <td>CURATED</td>\n",
       "      <td>5</td>\n",
       "      <td>UniProtKB:P78329-1</td>\n",
       "      <td>cytochrome P450 4F2 isoform h1 (human)</td>\n",
       "      <td>biolink:Protein</td>\n",
       "      <td>MONDO:0007390</td>\n",
       "      <td>coumarin resistance</td>\n",
       "    </tr>\n",
       "    <tr>\n",
       "      <th>118</th>\n",
       "      <td>ENSEMBL:ENSP00000221700</td>\n",
       "      <td>CYP4F2</td>\n",
       "      <td>DOID:0080666</td>\n",
       "      <td>Warfarin sensitivity</td>\n",
       "      <td>MedlinePlus</td>\n",
       "      <td>CURATED</td>\n",
       "      <td>5</td>\n",
       "      <td>UniProtKB:P78329-1</td>\n",
       "      <td>cytochrome P450 4F2 isoform h1 (human)</td>\n",
       "      <td>biolink:Protein</td>\n",
       "      <td>MONDO:0007390</td>\n",
       "      <td>coumarin resistance</td>\n",
       "    </tr>\n",
       "    <tr>\n",
       "      <th>2692</th>\n",
       "      <td>ENSEMBL:ENSP00000378426</td>\n",
       "      <td>VKORC1</td>\n",
       "      <td>DOID:0080665</td>\n",
       "      <td>Warfarin resistance</td>\n",
       "      <td>MedlinePlus</td>\n",
       "      <td>CURATED</td>\n",
       "      <td>5</td>\n",
       "      <td>UniProtKB:Q9BQB6-1</td>\n",
       "      <td>vitamin K epoxide reductase complex subunit 1 ...</td>\n",
       "      <td>biolink:Protein</td>\n",
       "      <td>MONDO:0007390</td>\n",
       "      <td>coumarin resistance</td>\n",
       "    </tr>\n",
       "    <tr>\n",
       "      <th>2693</th>\n",
       "      <td>ENSEMBL:ENSP00000378426</td>\n",
       "      <td>VKORC1</td>\n",
       "      <td>DOID:0080666</td>\n",
       "      <td>Warfarin sensitivity</td>\n",
       "      <td>MedlinePlus</td>\n",
       "      <td>CURATED</td>\n",
       "      <td>5</td>\n",
       "      <td>UniProtKB:Q9BQB6-1</td>\n",
       "      <td>vitamin K epoxide reductase complex subunit 1 ...</td>\n",
       "      <td>biolink:Protein</td>\n",
       "      <td>MONDO:0007390</td>\n",
       "      <td>coumarin resistance</td>\n",
       "    </tr>\n",
       "    <tr>\n",
       "      <th>339</th>\n",
       "      <td>ENSEMBL:ENSP00000251595</td>\n",
       "      <td>HBA2</td>\n",
       "      <td>DOID:1099</td>\n",
       "      <td>Alpha thalassemia</td>\n",
       "      <td>MedlinePlus</td>\n",
       "      <td>CURATED</td>\n",
       "      <td>5</td>\n",
       "      <td>UniProtKB:P69905</td>\n",
       "      <td>HBA_HUMAN Hemoglobin subunit alpha (sprot)</td>\n",
       "      <td>biolink:Protein</td>\n",
       "      <td>MONDO:0011399</td>\n",
       "      <td>alpha thalassemia spectrum</td>\n",
       "    </tr>\n",
       "    <tr>\n",
       "      <th>1387</th>\n",
       "      <td>ENSEMBL:ENSP00000322421</td>\n",
       "      <td>HBA1</td>\n",
       "      <td>DOID:1099</td>\n",
       "      <td>Alpha thalassemia</td>\n",
       "      <td>MedlinePlus</td>\n",
       "      <td>CURATED</td>\n",
       "      <td>5</td>\n",
       "      <td>UniProtKB:P69905</td>\n",
       "      <td>HBA_HUMAN Hemoglobin subunit alpha (sprot)</td>\n",
       "      <td>biolink:Protein</td>\n",
       "      <td>MONDO:0011399</td>\n",
       "      <td>alpha thalassemia spectrum</td>\n",
       "    </tr>\n",
       "    <tr>\n",
       "      <th>2215</th>\n",
       "      <td>ENSEMBL:ENSP00000361021</td>\n",
       "      <td>PTEN</td>\n",
       "      <td>DOID:0050657</td>\n",
       "      <td>Bannayan-Riley-Ruvalcaba syndrome</td>\n",
       "      <td>MedlinePlus</td>\n",
       "      <td>CURATED</td>\n",
       "      <td>5</td>\n",
       "      <td>UniProtKB:P60484-1</td>\n",
       "      <td>phosphatidylinositol 3,4,5-trisphosphate 3-pho...</td>\n",
       "      <td>biolink:Protein</td>\n",
       "      <td>MONDO:0016063</td>\n",
       "      <td>Cowden disease</td>\n",
       "    </tr>\n",
       "    <tr>\n",
       "      <th>2223</th>\n",
       "      <td>ENSEMBL:ENSP00000361021</td>\n",
       "      <td>PTEN</td>\n",
       "      <td>DOID:6457</td>\n",
       "      <td>Cowden syndrome</td>\n",
       "      <td>MedlinePlus</td>\n",
       "      <td>CURATED</td>\n",
       "      <td>5</td>\n",
       "      <td>UniProtKB:P60484-1</td>\n",
       "      <td>phosphatidylinositol 3,4,5-trisphosphate 3-pho...</td>\n",
       "      <td>biolink:Protein</td>\n",
       "      <td>MONDO:0016063</td>\n",
       "      <td>Cowden disease</td>\n",
       "    </tr>\n",
       "  </tbody>\n",
       "</table>\n",
       "</div>"
      ],
      "text/plain": [
       "                      gene_id gene_name    disease_id  \\\n",
       "2538  ENSEMBL:ENSP00000370083      SMN1    DOID:12377   \n",
       "2541  ENSEMBL:ENSP00000370119      SMN2    DOID:12377   \n",
       "117   ENSEMBL:ENSP00000221700    CYP4F2  DOID:0080665   \n",
       "118   ENSEMBL:ENSP00000221700    CYP4F2  DOID:0080666   \n",
       "2692  ENSEMBL:ENSP00000378426    VKORC1  DOID:0080665   \n",
       "2693  ENSEMBL:ENSP00000378426    VKORC1  DOID:0080666   \n",
       "339   ENSEMBL:ENSP00000251595      HBA2     DOID:1099   \n",
       "1387  ENSEMBL:ENSP00000322421      HBA1     DOID:1099   \n",
       "2215  ENSEMBL:ENSP00000361021      PTEN  DOID:0050657   \n",
       "2223  ENSEMBL:ENSP00000361021      PTEN     DOID:6457   \n",
       "\n",
       "                           disease_name    source_db evidence_type  \\\n",
       "2538            Spinal muscular atrophy  MedlinePlus       CURATED   \n",
       "2541            Spinal muscular atrophy  MedlinePlus       CURATED   \n",
       "117                 Warfarin resistance  MedlinePlus       CURATED   \n",
       "118                Warfarin sensitivity  MedlinePlus       CURATED   \n",
       "2692                Warfarin resistance  MedlinePlus       CURATED   \n",
       "2693               Warfarin sensitivity  MedlinePlus       CURATED   \n",
       "339                   Alpha thalassemia  MedlinePlus       CURATED   \n",
       "1387                  Alpha thalassemia  MedlinePlus       CURATED   \n",
       "2215  Bannayan-Riley-Ruvalcaba syndrome  MedlinePlus       CURATED   \n",
       "2223                    Cowden syndrome  MedlinePlus       CURATED   \n",
       "\n",
       "      confidence_score    gene_nodenorm_id  \\\n",
       "2538                 5  UniProtKB:Q16637-1   \n",
       "2541                 5  UniProtKB:Q16637-1   \n",
       "117                  5  UniProtKB:P78329-1   \n",
       "118                  5  UniProtKB:P78329-1   \n",
       "2692                 5  UniProtKB:Q9BQB6-1   \n",
       "2693                 5  UniProtKB:Q9BQB6-1   \n",
       "339                  5    UniProtKB:P69905   \n",
       "1387                 5    UniProtKB:P69905   \n",
       "2215                 5  UniProtKB:P60484-1   \n",
       "2223                 5  UniProtKB:P60484-1   \n",
       "\n",
       "                                    gene_nodenorm_label  \\\n",
       "2538    survival motor neuron protein isoform 1 (human)   \n",
       "2541    survival motor neuron protein isoform 1 (human)   \n",
       "117              cytochrome P450 4F2 isoform h1 (human)   \n",
       "118              cytochrome P450 4F2 isoform h1 (human)   \n",
       "2692  vitamin K epoxide reductase complex subunit 1 ...   \n",
       "2693  vitamin K epoxide reductase complex subunit 1 ...   \n",
       "339          HBA_HUMAN Hemoglobin subunit alpha (sprot)   \n",
       "1387         HBA_HUMAN Hemoglobin subunit alpha (sprot)   \n",
       "2215  phosphatidylinositol 3,4,5-trisphosphate 3-pho...   \n",
       "2223  phosphatidylinositol 3,4,5-trisphosphate 3-pho...   \n",
       "\n",
       "     gene_nodenorm_category disease_nodenorm_id      disease_nodenorm_label  \n",
       "2538        biolink:Protein       MONDO:0001516     spinal muscular atrophy  \n",
       "2541        biolink:Protein       MONDO:0001516     spinal muscular atrophy  \n",
       "117         biolink:Protein       MONDO:0007390         coumarin resistance  \n",
       "118         biolink:Protein       MONDO:0007390         coumarin resistance  \n",
       "2692        biolink:Protein       MONDO:0007390         coumarin resistance  \n",
       "2693        biolink:Protein       MONDO:0007390         coumarin resistance  \n",
       "339         biolink:Protein       MONDO:0011399  alpha thalassemia spectrum  \n",
       "1387        biolink:Protein       MONDO:0011399  alpha thalassemia spectrum  \n",
       "2215        biolink:Protein       MONDO:0016063              Cowden disease  \n",
       "2223        biolink:Protein       MONDO:0016063              Cowden disease  "
      ]
     },
     "execution_count": 73,
     "metadata": {},
     "output_type": "execute_result"
    }
   ],
   "source": [
    "## number of rows affected\n",
    "\n",
    "df_knowledge_noTotalDups = df_knowledge.drop_duplicates()\n",
    "\n",
    "df_knowledge_nodenorm_dups = df_knowledge_noTotalDups[\n",
    "    df_knowledge_noTotalDups.duplicated(\n",
    "        subset=[\"gene_nodenorm_id\", \"disease_nodenorm_id\", \"source_db\"], \n",
    "        keep=False)].copy()\n",
    "\n",
    "df_knowledge_nodenorm_dups.sort_values(by=[\"disease_nodenorm_id\", \"gene_nodenorm_id\"],\n",
    "                                       inplace=True)\n",
    "\n",
    "df_knowledge_nodenorm_dups.shape\n",
    "\n",
    "df_knowledge_nodenorm_dups"
   ]
  },
  {
   "cell_type": "code",
   "execution_count": 99,
   "id": "01d7a0e3",
   "metadata": {
    "ExecuteTime": {
     "end_time": "2025-07-14T19:35:59.022703Z",
     "start_time": "2025-07-14T19:35:59.011400Z"
    }
   },
   "outputs": [
    {
     "data": {
      "text/html": [
       "<div>\n",
       "<style scoped>\n",
       "    .dataframe tbody tr th:only-of-type {\n",
       "        vertical-align: middle;\n",
       "    }\n",
       "\n",
       "    .dataframe tbody tr th {\n",
       "        vertical-align: top;\n",
       "    }\n",
       "\n",
       "    .dataframe thead th {\n",
       "        text-align: right;\n",
       "    }\n",
       "</style>\n",
       "<table border=\"1\" class=\"dataframe\">\n",
       "  <thead>\n",
       "    <tr style=\"text-align: right;\">\n",
       "      <th></th>\n",
       "      <th>disease_id</th>\n",
       "      <th>disease_name</th>\n",
       "      <th>disease_nodenorm_id</th>\n",
       "      <th>disease_nodenorm_label</th>\n",
       "    </tr>\n",
       "  </thead>\n",
       "  <tbody>\n",
       "    <tr>\n",
       "      <th>117</th>\n",
       "      <td>DOID:0080665</td>\n",
       "      <td>Warfarin resistance</td>\n",
       "      <td>MONDO:0007390</td>\n",
       "      <td>coumarin resistance</td>\n",
       "    </tr>\n",
       "    <tr>\n",
       "      <th>118</th>\n",
       "      <td>DOID:0080666</td>\n",
       "      <td>Warfarin sensitivity</td>\n",
       "      <td>MONDO:0007390</td>\n",
       "      <td>coumarin resistance</td>\n",
       "    </tr>\n",
       "    <tr>\n",
       "      <th>2215</th>\n",
       "      <td>DOID:0050657</td>\n",
       "      <td>Bannayan-Riley-Ruvalcaba syndrome</td>\n",
       "      <td>MONDO:0016063</td>\n",
       "      <td>Cowden disease</td>\n",
       "    </tr>\n",
       "    <tr>\n",
       "      <th>2223</th>\n",
       "      <td>DOID:6457</td>\n",
       "      <td>Cowden syndrome</td>\n",
       "      <td>MONDO:0016063</td>\n",
       "      <td>Cowden disease</td>\n",
       "    </tr>\n",
       "  </tbody>\n",
       "</table>\n",
       "</div>"
      ],
      "text/plain": [
       "        disease_id                       disease_name disease_nodenorm_id  \\\n",
       "117   DOID:0080665                Warfarin resistance       MONDO:0007390   \n",
       "118   DOID:0080666               Warfarin sensitivity       MONDO:0007390   \n",
       "2215  DOID:0050657  Bannayan-Riley-Ruvalcaba syndrome       MONDO:0016063   \n",
       "2223     DOID:6457                    Cowden syndrome       MONDO:0016063   \n",
       "\n",
       "     disease_nodenorm_label  \n",
       "117     coumarin resistance  \n",
       "118     coumarin resistance  \n",
       "2215         Cowden disease  \n",
       "2223         Cowden disease  "
      ]
     },
     "execution_count": 99,
     "metadata": {},
     "output_type": "execute_result"
    }
   ],
   "source": [
    "## knowledge disease duplicates\n",
    "\n",
    "NodeNormDups_kw_diseases = df_knowledge_nodenorm_dups[[\"disease_id\", \"disease_name\", \n",
    "                            \"disease_nodenorm_id\", \"disease_nodenorm_label\"]].copy()\n",
    "\n",
    "NodeNormDups_kw_diseases.drop_duplicates(inplace=True)\n",
    "\n",
    "diseases_dups_kw = NodeNormDups_kw_diseases.groupby(\n",
    "    \"disease_nodenorm_id\").filter(lambda x: len(x)>1).copy()\n",
    "\n",
    "diseases_dups_kw"
   ]
  },
  {
   "cell_type": "code",
   "execution_count": 100,
   "id": "07feeb86",
   "metadata": {
    "ExecuteTime": {
     "end_time": "2025-07-14T19:36:00.789486Z",
     "start_time": "2025-07-14T19:36:00.777834Z"
    }
   },
   "outputs": [
    {
     "data": {
      "text/html": [
       "<div>\n",
       "<style scoped>\n",
       "    .dataframe tbody tr th:only-of-type {\n",
       "        vertical-align: middle;\n",
       "    }\n",
       "\n",
       "    .dataframe tbody tr th {\n",
       "        vertical-align: top;\n",
       "    }\n",
       "\n",
       "    .dataframe thead th {\n",
       "        text-align: right;\n",
       "    }\n",
       "</style>\n",
       "<table border=\"1\" class=\"dataframe\">\n",
       "  <thead>\n",
       "    <tr style=\"text-align: right;\">\n",
       "      <th></th>\n",
       "      <th>gene_id</th>\n",
       "      <th>gene_name</th>\n",
       "      <th>gene_nodenorm_id</th>\n",
       "      <th>gene_nodenorm_label</th>\n",
       "    </tr>\n",
       "  </thead>\n",
       "  <tbody>\n",
       "    <tr>\n",
       "      <th>2538</th>\n",
       "      <td>ENSEMBL:ENSP00000370083</td>\n",
       "      <td>SMN1</td>\n",
       "      <td>UniProtKB:Q16637-1</td>\n",
       "      <td>survival motor neuron protein isoform 1 (human)</td>\n",
       "    </tr>\n",
       "    <tr>\n",
       "      <th>2541</th>\n",
       "      <td>ENSEMBL:ENSP00000370119</td>\n",
       "      <td>SMN2</td>\n",
       "      <td>UniProtKB:Q16637-1</td>\n",
       "      <td>survival motor neuron protein isoform 1 (human)</td>\n",
       "    </tr>\n",
       "    <tr>\n",
       "      <th>339</th>\n",
       "      <td>ENSEMBL:ENSP00000251595</td>\n",
       "      <td>HBA2</td>\n",
       "      <td>UniProtKB:P69905</td>\n",
       "      <td>HBA_HUMAN Hemoglobin subunit alpha (sprot)</td>\n",
       "    </tr>\n",
       "    <tr>\n",
       "      <th>1387</th>\n",
       "      <td>ENSEMBL:ENSP00000322421</td>\n",
       "      <td>HBA1</td>\n",
       "      <td>UniProtKB:P69905</td>\n",
       "      <td>HBA_HUMAN Hemoglobin subunit alpha (sprot)</td>\n",
       "    </tr>\n",
       "  </tbody>\n",
       "</table>\n",
       "</div>"
      ],
      "text/plain": [
       "                      gene_id gene_name    gene_nodenorm_id  \\\n",
       "2538  ENSEMBL:ENSP00000370083      SMN1  UniProtKB:Q16637-1   \n",
       "2541  ENSEMBL:ENSP00000370119      SMN2  UniProtKB:Q16637-1   \n",
       "339   ENSEMBL:ENSP00000251595      HBA2    UniProtKB:P69905   \n",
       "1387  ENSEMBL:ENSP00000322421      HBA1    UniProtKB:P69905   \n",
       "\n",
       "                                  gene_nodenorm_label  \n",
       "2538  survival motor neuron protein isoform 1 (human)  \n",
       "2541  survival motor neuron protein isoform 1 (human)  \n",
       "339        HBA_HUMAN Hemoglobin subunit alpha (sprot)  \n",
       "1387       HBA_HUMAN Hemoglobin subunit alpha (sprot)  "
      ]
     },
     "execution_count": 100,
     "metadata": {},
     "output_type": "execute_result"
    }
   ],
   "source": [
    "## knowledge gene duplicates\n",
    "\n",
    "NodeNormDups_kw_genes = df_knowledge_nodenorm_dups[[\"gene_id\", \"gene_name\", \n",
    "                            \"gene_nodenorm_id\", \"gene_nodenorm_label\"]].copy()\n",
    "\n",
    "NodeNormDups_kw_genes.drop_duplicates(inplace=True)\n",
    "\n",
    "genes_dups_kw = NodeNormDups_kw_genes.groupby(\n",
    "    \"gene_nodenorm_id\").filter(lambda x: len(x)>1).copy()\n",
    "\n",
    "genes_dups_kw"
   ]
  },
  {
   "cell_type": "code",
   "execution_count": 74,
   "id": "4b74b5d6",
   "metadata": {
    "ExecuteTime": {
     "end_time": "2025-07-12T01:14:29.498304Z",
     "start_time": "2025-07-12T01:14:29.409219Z"
    },
    "scrolled": false
   },
   "outputs": [
    {
     "data": {
      "text/plain": [
       "(1108, 12)"
      ]
     },
     "execution_count": 74,
     "metadata": {},
     "output_type": "execute_result"
    },
    {
     "data": {
      "text/html": [
       "<div>\n",
       "<style scoped>\n",
       "    .dataframe tbody tr th:only-of-type {\n",
       "        vertical-align: middle;\n",
       "    }\n",
       "\n",
       "    .dataframe tbody tr th {\n",
       "        vertical-align: top;\n",
       "    }\n",
       "\n",
       "    .dataframe thead th {\n",
       "        text-align: right;\n",
       "    }\n",
       "</style>\n",
       "<table border=\"1\" class=\"dataframe\">\n",
       "  <thead>\n",
       "    <tr style=\"text-align: right;\">\n",
       "      <th></th>\n",
       "      <th>gene_id</th>\n",
       "      <th>gene_name</th>\n",
       "      <th>disease_id</th>\n",
       "      <th>disease_name</th>\n",
       "      <th>z_score</th>\n",
       "      <th>confidence_score</th>\n",
       "      <th>url</th>\n",
       "      <th>gene_nodenorm_id</th>\n",
       "      <th>gene_nodenorm_label</th>\n",
       "      <th>gene_nodenorm_category</th>\n",
       "      <th>disease_nodenorm_id</th>\n",
       "      <th>disease_nodenorm_label</th>\n",
       "    </tr>\n",
       "  </thead>\n",
       "  <tbody>\n",
       "    <tr>\n",
       "      <th>181610</th>\n",
       "      <td>ENSEMBL:ENSP00000370083</td>\n",
       "      <td>SMN1</td>\n",
       "      <td>DOID:0060159</td>\n",
       "      <td>Organic acidemia</td>\n",
       "      <td>3.415</td>\n",
       "      <td>1.707</td>\n",
       "      <td>https://diseases.jensenlab.org/Entity?document...</td>\n",
       "      <td>UniProtKB:Q16637-1</td>\n",
       "      <td>survival motor neuron protein isoform 1 (human)</td>\n",
       "      <td>biolink:Protein</td>\n",
       "      <td>MONDO:0000688</td>\n",
       "      <td>inborn organic aciduria</td>\n",
       "    </tr>\n",
       "    <tr>\n",
       "      <th>181727</th>\n",
       "      <td>ENSEMBL:ENSP00000370119</td>\n",
       "      <td>SMN2</td>\n",
       "      <td>DOID:0060159</td>\n",
       "      <td>Organic acidemia</td>\n",
       "      <td>3.449</td>\n",
       "      <td>1.725</td>\n",
       "      <td>https://diseases.jensenlab.org/Entity?document...</td>\n",
       "      <td>UniProtKB:Q16637-1</td>\n",
       "      <td>survival motor neuron protein isoform 1 (human)</td>\n",
       "      <td>biolink:Protein</td>\n",
       "      <td>MONDO:0000688</td>\n",
       "      <td>inborn organic aciduria</td>\n",
       "    </tr>\n",
       "    <tr>\n",
       "      <th>188487</th>\n",
       "      <td>ENSEMBL:ENSP00000376048</td>\n",
       "      <td>MAG</td>\n",
       "      <td>DOID:0060499</td>\n",
       "      <td>Autoimmune neuropathy</td>\n",
       "      <td>4.998</td>\n",
       "      <td>2.499</td>\n",
       "      <td>https://diseases.jensenlab.org/Entity?document...</td>\n",
       "      <td>UniProtKB:P20916-1</td>\n",
       "      <td>myelin-associated glycoprotein isoform 1 (human)</td>\n",
       "      <td>biolink:Protein</td>\n",
       "      <td>MONDO:0000774</td>\n",
       "      <td>autoimmune neuropathy</td>\n",
       "    </tr>\n",
       "    <tr>\n",
       "      <th>188498</th>\n",
       "      <td>ENSEMBL:ENSP00000376048</td>\n",
       "      <td>MAG</td>\n",
       "      <td>DOID:0040087</td>\n",
       "      <td>Autoimmune peripheral neuropathy</td>\n",
       "      <td>4.177</td>\n",
       "      <td>2.089</td>\n",
       "      <td>https://diseases.jensenlab.org/Entity?document...</td>\n",
       "      <td>UniProtKB:P20916-1</td>\n",
       "      <td>myelin-associated glycoprotein isoform 1 (human)</td>\n",
       "      <td>biolink:Protein</td>\n",
       "      <td>MONDO:0000774</td>\n",
       "      <td>autoimmune neuropathy</td>\n",
       "    </tr>\n",
       "    <tr>\n",
       "      <th>116516</th>\n",
       "      <td>ENSEMBL:ENSP00000334330</td>\n",
       "      <td>DEFB105A</td>\n",
       "      <td>DOID:1002</td>\n",
       "      <td>Endometritis</td>\n",
       "      <td>3.516</td>\n",
       "      <td>1.758</td>\n",
       "      <td>https://diseases.jensenlab.org/Entity?document...</td>\n",
       "      <td>UniProtKB:Q8NG35</td>\n",
       "      <td>D105A_HUMAN Beta-defensin 105 (sprot)</td>\n",
       "      <td>biolink:Protein</td>\n",
       "      <td>MONDO:0000918</td>\n",
       "      <td>endometritis</td>\n",
       "    </tr>\n",
       "    <tr>\n",
       "      <th>...</th>\n",
       "      <td>...</td>\n",
       "      <td>...</td>\n",
       "      <td>...</td>\n",
       "      <td>...</td>\n",
       "      <td>...</td>\n",
       "      <td>...</td>\n",
       "      <td>...</td>\n",
       "      <td>...</td>\n",
       "      <td>...</td>\n",
       "      <td>...</td>\n",
       "      <td>...</td>\n",
       "      <td>...</td>\n",
       "    </tr>\n",
       "    <tr>\n",
       "      <th>144883</th>\n",
       "      <td>ENSEMBL:ENSP00000355780</td>\n",
       "      <td>H3-3A</td>\n",
       "      <td>DOID:0081302</td>\n",
       "      <td>Diffuse leptomeningeal glioneuronal tumor</td>\n",
       "      <td>4.209</td>\n",
       "      <td>2.105</td>\n",
       "      <td>https://diseases.jensenlab.org/Entity?document...</td>\n",
       "      <td>UniProtKB:P84243</td>\n",
       "      <td>H33_HUMAN Histone H3.3 (sprot)</td>\n",
       "      <td>biolink:Protein</td>\n",
       "      <td>MONDO:0858956</td>\n",
       "      <td>diffuse leptomeningeal glioneuronal tumor</td>\n",
       "    </tr>\n",
       "    <tr>\n",
       "      <th>116517</th>\n",
       "      <td>ENSEMBL:ENSP00000334330</td>\n",
       "      <td>DEFB105A</td>\n",
       "      <td>DOID:0070468</td>\n",
       "      <td>Yoon-Bellen neurodevelopmental syndrome</td>\n",
       "      <td>3.241</td>\n",
       "      <td>1.620</td>\n",
       "      <td>https://diseases.jensenlab.org/Entity?document...</td>\n",
       "      <td>UniProtKB:Q8NG35</td>\n",
       "      <td>D105A_HUMAN Beta-defensin 105 (sprot)</td>\n",
       "      <td>biolink:Protein</td>\n",
       "      <td>MONDO:0859221</td>\n",
       "      <td>Yoon-Bellen neurodevelopmental syndrome</td>\n",
       "    </tr>\n",
       "    <tr>\n",
       "      <th>117429</th>\n",
       "      <td>ENSEMBL:ENSP00000335281</td>\n",
       "      <td>DEFB105B</td>\n",
       "      <td>DOID:0070468</td>\n",
       "      <td>Yoon-Bellen neurodevelopmental syndrome</td>\n",
       "      <td>3.589</td>\n",
       "      <td>1.794</td>\n",
       "      <td>https://diseases.jensenlab.org/Entity?document...</td>\n",
       "      <td>UniProtKB:Q8NG35</td>\n",
       "      <td>D105A_HUMAN Beta-defensin 105 (sprot)</td>\n",
       "      <td>biolink:Protein</td>\n",
       "      <td>MONDO:0859221</td>\n",
       "      <td>Yoon-Bellen neurodevelopmental syndrome</td>\n",
       "    </tr>\n",
       "    <tr>\n",
       "      <th>103429</th>\n",
       "      <td>ENSEMBL:ENSP00000320813</td>\n",
       "      <td>DEFB104A</td>\n",
       "      <td>DOID:0070468</td>\n",
       "      <td>Yoon-Bellen neurodevelopmental syndrome</td>\n",
       "      <td>4.115</td>\n",
       "      <td>2.058</td>\n",
       "      <td>https://diseases.jensenlab.org/Entity?document...</td>\n",
       "      <td>UniProtKB:Q8WTQ1</td>\n",
       "      <td>D104A_HUMAN Beta-defensin 104 (sprot)</td>\n",
       "      <td>biolink:Protein</td>\n",
       "      <td>MONDO:0859221</td>\n",
       "      <td>Yoon-Bellen neurodevelopmental syndrome</td>\n",
       "    </tr>\n",
       "    <tr>\n",
       "      <th>104894</th>\n",
       "      <td>ENSEMBL:ENSP00000322191</td>\n",
       "      <td>DEFB104B</td>\n",
       "      <td>DOID:0070468</td>\n",
       "      <td>Yoon-Bellen neurodevelopmental syndrome</td>\n",
       "      <td>4.188</td>\n",
       "      <td>2.094</td>\n",
       "      <td>https://diseases.jensenlab.org/Entity?document...</td>\n",
       "      <td>UniProtKB:Q8WTQ1</td>\n",
       "      <td>D104A_HUMAN Beta-defensin 104 (sprot)</td>\n",
       "      <td>biolink:Protein</td>\n",
       "      <td>MONDO:0859221</td>\n",
       "      <td>Yoon-Bellen neurodevelopmental syndrome</td>\n",
       "    </tr>\n",
       "  </tbody>\n",
       "</table>\n",
       "<p>1108 rows × 12 columns</p>\n",
       "</div>"
      ],
      "text/plain": [
       "                        gene_id gene_name    disease_id  \\\n",
       "181610  ENSEMBL:ENSP00000370083      SMN1  DOID:0060159   \n",
       "181727  ENSEMBL:ENSP00000370119      SMN2  DOID:0060159   \n",
       "188487  ENSEMBL:ENSP00000376048       MAG  DOID:0060499   \n",
       "188498  ENSEMBL:ENSP00000376048       MAG  DOID:0040087   \n",
       "116516  ENSEMBL:ENSP00000334330  DEFB105A     DOID:1002   \n",
       "...                         ...       ...           ...   \n",
       "144883  ENSEMBL:ENSP00000355780     H3-3A  DOID:0081302   \n",
       "116517  ENSEMBL:ENSP00000334330  DEFB105A  DOID:0070468   \n",
       "117429  ENSEMBL:ENSP00000335281  DEFB105B  DOID:0070468   \n",
       "103429  ENSEMBL:ENSP00000320813  DEFB104A  DOID:0070468   \n",
       "104894  ENSEMBL:ENSP00000322191  DEFB104B  DOID:0070468   \n",
       "\n",
       "                                     disease_name  z_score  confidence_score  \\\n",
       "181610                           Organic acidemia    3.415             1.707   \n",
       "181727                           Organic acidemia    3.449             1.725   \n",
       "188487                      Autoimmune neuropathy    4.998             2.499   \n",
       "188498           Autoimmune peripheral neuropathy    4.177             2.089   \n",
       "116516                               Endometritis    3.516             1.758   \n",
       "...                                           ...      ...               ...   \n",
       "144883  Diffuse leptomeningeal glioneuronal tumor    4.209             2.105   \n",
       "116517    Yoon-Bellen neurodevelopmental syndrome    3.241             1.620   \n",
       "117429    Yoon-Bellen neurodevelopmental syndrome    3.589             1.794   \n",
       "103429    Yoon-Bellen neurodevelopmental syndrome    4.115             2.058   \n",
       "104894    Yoon-Bellen neurodevelopmental syndrome    4.188             2.094   \n",
       "\n",
       "                                                      url    gene_nodenorm_id  \\\n",
       "181610  https://diseases.jensenlab.org/Entity?document...  UniProtKB:Q16637-1   \n",
       "181727  https://diseases.jensenlab.org/Entity?document...  UniProtKB:Q16637-1   \n",
       "188487  https://diseases.jensenlab.org/Entity?document...  UniProtKB:P20916-1   \n",
       "188498  https://diseases.jensenlab.org/Entity?document...  UniProtKB:P20916-1   \n",
       "116516  https://diseases.jensenlab.org/Entity?document...    UniProtKB:Q8NG35   \n",
       "...                                                   ...                 ...   \n",
       "144883  https://diseases.jensenlab.org/Entity?document...    UniProtKB:P84243   \n",
       "116517  https://diseases.jensenlab.org/Entity?document...    UniProtKB:Q8NG35   \n",
       "117429  https://diseases.jensenlab.org/Entity?document...    UniProtKB:Q8NG35   \n",
       "103429  https://diseases.jensenlab.org/Entity?document...    UniProtKB:Q8WTQ1   \n",
       "104894  https://diseases.jensenlab.org/Entity?document...    UniProtKB:Q8WTQ1   \n",
       "\n",
       "                                     gene_nodenorm_label  \\\n",
       "181610   survival motor neuron protein isoform 1 (human)   \n",
       "181727   survival motor neuron protein isoform 1 (human)   \n",
       "188487  myelin-associated glycoprotein isoform 1 (human)   \n",
       "188498  myelin-associated glycoprotein isoform 1 (human)   \n",
       "116516             D105A_HUMAN Beta-defensin 105 (sprot)   \n",
       "...                                                  ...   \n",
       "144883                    H33_HUMAN Histone H3.3 (sprot)   \n",
       "116517             D105A_HUMAN Beta-defensin 105 (sprot)   \n",
       "117429             D105A_HUMAN Beta-defensin 105 (sprot)   \n",
       "103429             D104A_HUMAN Beta-defensin 104 (sprot)   \n",
       "104894             D104A_HUMAN Beta-defensin 104 (sprot)   \n",
       "\n",
       "       gene_nodenorm_category disease_nodenorm_id  \\\n",
       "181610        biolink:Protein       MONDO:0000688   \n",
       "181727        biolink:Protein       MONDO:0000688   \n",
       "188487        biolink:Protein       MONDO:0000774   \n",
       "188498        biolink:Protein       MONDO:0000774   \n",
       "116516        biolink:Protein       MONDO:0000918   \n",
       "...                       ...                 ...   \n",
       "144883        biolink:Protein       MONDO:0858956   \n",
       "116517        biolink:Protein       MONDO:0859221   \n",
       "117429        biolink:Protein       MONDO:0859221   \n",
       "103429        biolink:Protein       MONDO:0859221   \n",
       "104894        biolink:Protein       MONDO:0859221   \n",
       "\n",
       "                           disease_nodenorm_label  \n",
       "181610                    inborn organic aciduria  \n",
       "181727                    inborn organic aciduria  \n",
       "188487                      autoimmune neuropathy  \n",
       "188498                      autoimmune neuropathy  \n",
       "116516                               endometritis  \n",
       "...                                           ...  \n",
       "144883  diffuse leptomeningeal glioneuronal tumor  \n",
       "116517    Yoon-Bellen neurodevelopmental syndrome  \n",
       "117429    Yoon-Bellen neurodevelopmental syndrome  \n",
       "103429    Yoon-Bellen neurodevelopmental syndrome  \n",
       "104894    Yoon-Bellen neurodevelopmental syndrome  \n",
       "\n",
       "[1108 rows x 12 columns]"
      ]
     },
     "execution_count": 74,
     "metadata": {},
     "output_type": "execute_result"
    }
   ],
   "source": [
    "df_textmining_nodenorm_dups = df_textmining[\n",
    "    df_textmining.duplicated(\n",
    "        subset=[\"gene_nodenorm_id\", \"disease_nodenorm_id\"], \n",
    "        keep=False)].copy()\n",
    "\n",
    "df_textmining_nodenorm_dups.sort_values(by=[\"disease_nodenorm_id\", \"gene_nodenorm_id\"],\n",
    "                                        inplace=True)\n",
    "\n",
    "df_textmining_nodenorm_dups.shape\n",
    "\n",
    "df_textmining_nodenorm_dups"
   ]
  },
  {
   "cell_type": "code",
   "execution_count": 128,
   "id": "4032c128",
   "metadata": {
    "ExecuteTime": {
     "end_time": "2025-07-17T09:15:07.772251Z",
     "start_time": "2025-07-17T09:15:07.755737Z"
    }
   },
   "outputs": [
    {
     "data": {
      "text/html": [
       "<div>\n",
       "<style scoped>\n",
       "    .dataframe tbody tr th:only-of-type {\n",
       "        vertical-align: middle;\n",
       "    }\n",
       "\n",
       "    .dataframe tbody tr th {\n",
       "        vertical-align: top;\n",
       "    }\n",
       "\n",
       "    .dataframe thead th {\n",
       "        text-align: right;\n",
       "    }\n",
       "</style>\n",
       "<table border=\"1\" class=\"dataframe\">\n",
       "  <thead>\n",
       "    <tr style=\"text-align: right;\">\n",
       "      <th></th>\n",
       "      <th>gene_id</th>\n",
       "      <th>gene_name</th>\n",
       "      <th>disease_id</th>\n",
       "      <th>disease_name</th>\n",
       "      <th>z_score</th>\n",
       "      <th>confidence_score</th>\n",
       "      <th>url</th>\n",
       "      <th>gene_nodenorm_id</th>\n",
       "      <th>gene_nodenorm_label</th>\n",
       "      <th>gene_nodenorm_category</th>\n",
       "      <th>disease_nodenorm_id</th>\n",
       "      <th>disease_nodenorm_label</th>\n",
       "    </tr>\n",
       "  </thead>\n",
       "  <tbody>\n",
       "    <tr>\n",
       "      <th>229853</th>\n",
       "      <td>ENSEMBL:ENSP00000427603</td>\n",
       "      <td>GABRA2</td>\n",
       "      <td>DOID:1849</td>\n",
       "      <td>Cannabis dependence</td>\n",
       "      <td>5.000</td>\n",
       "      <td>2.500</td>\n",
       "      <td>https://diseases.jensenlab.org/Entity?document...</td>\n",
       "      <td>NCBIGene:2555</td>\n",
       "      <td>GABRA2</td>\n",
       "      <td>biolink:Gene</td>\n",
       "      <td>MONDO:0005689</td>\n",
       "      <td>cannabis abuse</td>\n",
       "    </tr>\n",
       "    <tr>\n",
       "      <th>229866</th>\n",
       "      <td>ENSEMBL:ENSP00000427603</td>\n",
       "      <td>GABRA2</td>\n",
       "      <td>DOID:9505</td>\n",
       "      <td>Cannabis abuse</td>\n",
       "      <td>3.537</td>\n",
       "      <td>1.769</td>\n",
       "      <td>https://diseases.jensenlab.org/Entity?document...</td>\n",
       "      <td>NCBIGene:2555</td>\n",
       "      <td>GABRA2</td>\n",
       "      <td>biolink:Gene</td>\n",
       "      <td>MONDO:0005689</td>\n",
       "      <td>cannabis abuse</td>\n",
       "    </tr>\n",
       "    <tr>\n",
       "      <th>216388</th>\n",
       "      <td>ENSEMBL:ENSP00000402020</td>\n",
       "      <td>C17orf58</td>\n",
       "      <td>DOID:1849</td>\n",
       "      <td>Cannabis dependence</td>\n",
       "      <td>4.144</td>\n",
       "      <td>2.072</td>\n",
       "      <td>https://diseases.jensenlab.org/Entity?document...</td>\n",
       "      <td>NCBIGene:284018</td>\n",
       "      <td>C17orf58</td>\n",
       "      <td>biolink:Gene</td>\n",
       "      <td>MONDO:0005689</td>\n",
       "      <td>cannabis abuse</td>\n",
       "    </tr>\n",
       "    <tr>\n",
       "      <th>216389</th>\n",
       "      <td>ENSEMBL:ENSP00000402020</td>\n",
       "      <td>C17orf58</td>\n",
       "      <td>DOID:9505</td>\n",
       "      <td>Cannabis abuse</td>\n",
       "      <td>3.362</td>\n",
       "      <td>1.681</td>\n",
       "      <td>https://diseases.jensenlab.org/Entity?document...</td>\n",
       "      <td>NCBIGene:284018</td>\n",
       "      <td>C17orf58</td>\n",
       "      <td>biolink:Gene</td>\n",
       "      <td>MONDO:0005689</td>\n",
       "      <td>cannabis abuse</td>\n",
       "    </tr>\n",
       "    <tr>\n",
       "      <th>202362</th>\n",
       "      <td>ENSEMBL:ENSP00000384193</td>\n",
       "      <td>CADM2</td>\n",
       "      <td>DOID:1849</td>\n",
       "      <td>Cannabis dependence</td>\n",
       "      <td>4.421</td>\n",
       "      <td>2.211</td>\n",
       "      <td>https://diseases.jensenlab.org/Entity?document...</td>\n",
       "      <td>UniProtKB:Q8N3J6-3</td>\n",
       "      <td>cell adhesion molecule 2 isoform h3 (human)</td>\n",
       "      <td>biolink:Protein</td>\n",
       "      <td>MONDO:0005689</td>\n",
       "      <td>cannabis abuse</td>\n",
       "    </tr>\n",
       "    <tr>\n",
       "      <th>202377</th>\n",
       "      <td>ENSEMBL:ENSP00000384193</td>\n",
       "      <td>CADM2</td>\n",
       "      <td>DOID:9505</td>\n",
       "      <td>Cannabis abuse</td>\n",
       "      <td>3.015</td>\n",
       "      <td>1.508</td>\n",
       "      <td>https://diseases.jensenlab.org/Entity?document...</td>\n",
       "      <td>UniProtKB:Q8N3J6-3</td>\n",
       "      <td>cell adhesion molecule 2 isoform h3 (human)</td>\n",
       "      <td>biolink:Protein</td>\n",
       "      <td>MONDO:0005689</td>\n",
       "      <td>cannabis abuse</td>\n",
       "    </tr>\n",
       "  </tbody>\n",
       "</table>\n",
       "</div>"
      ],
      "text/plain": [
       "                        gene_id gene_name disease_id         disease_name  \\\n",
       "229853  ENSEMBL:ENSP00000427603    GABRA2  DOID:1849  Cannabis dependence   \n",
       "229866  ENSEMBL:ENSP00000427603    GABRA2  DOID:9505       Cannabis abuse   \n",
       "216388  ENSEMBL:ENSP00000402020  C17orf58  DOID:1849  Cannabis dependence   \n",
       "216389  ENSEMBL:ENSP00000402020  C17orf58  DOID:9505       Cannabis abuse   \n",
       "202362  ENSEMBL:ENSP00000384193     CADM2  DOID:1849  Cannabis dependence   \n",
       "202377  ENSEMBL:ENSP00000384193     CADM2  DOID:9505       Cannabis abuse   \n",
       "\n",
       "        z_score  confidence_score  \\\n",
       "229853    5.000             2.500   \n",
       "229866    3.537             1.769   \n",
       "216388    4.144             2.072   \n",
       "216389    3.362             1.681   \n",
       "202362    4.421             2.211   \n",
       "202377    3.015             1.508   \n",
       "\n",
       "                                                      url    gene_nodenorm_id  \\\n",
       "229853  https://diseases.jensenlab.org/Entity?document...       NCBIGene:2555   \n",
       "229866  https://diseases.jensenlab.org/Entity?document...       NCBIGene:2555   \n",
       "216388  https://diseases.jensenlab.org/Entity?document...     NCBIGene:284018   \n",
       "216389  https://diseases.jensenlab.org/Entity?document...     NCBIGene:284018   \n",
       "202362  https://diseases.jensenlab.org/Entity?document...  UniProtKB:Q8N3J6-3   \n",
       "202377  https://diseases.jensenlab.org/Entity?document...  UniProtKB:Q8N3J6-3   \n",
       "\n",
       "                                gene_nodenorm_label gene_nodenorm_category  \\\n",
       "229853                                       GABRA2           biolink:Gene   \n",
       "229866                                       GABRA2           biolink:Gene   \n",
       "216388                                     C17orf58           biolink:Gene   \n",
       "216389                                     C17orf58           biolink:Gene   \n",
       "202362  cell adhesion molecule 2 isoform h3 (human)        biolink:Protein   \n",
       "202377  cell adhesion molecule 2 isoform h3 (human)        biolink:Protein   \n",
       "\n",
       "       disease_nodenorm_id disease_nodenorm_label  \n",
       "229853       MONDO:0005689         cannabis abuse  \n",
       "229866       MONDO:0005689         cannabis abuse  \n",
       "216388       MONDO:0005689         cannabis abuse  \n",
       "216389       MONDO:0005689         cannabis abuse  \n",
       "202362       MONDO:0005689         cannabis abuse  \n",
       "202377       MONDO:0005689         cannabis abuse  "
      ]
     },
     "execution_count": 128,
     "metadata": {},
     "output_type": "execute_result"
    },
    {
     "data": {
      "text/plain": [
       "['https://diseases.jensenlab.org/Entity?documents=10&type1=9606&id1=ENSP00000427603&type2=-26&id2=DOID:1849',\n",
       " 'https://diseases.jensenlab.org/Entity?documents=10&type1=9606&id1=ENSP00000427603&type2=-26&id2=DOID:9505',\n",
       " 'https://diseases.jensenlab.org/Entity?documents=10&type1=9606&id1=ENSP00000402020&type2=-26&id2=DOID:1849',\n",
       " 'https://diseases.jensenlab.org/Entity?documents=10&type1=9606&id1=ENSP00000402020&type2=-26&id2=DOID:9505',\n",
       " 'https://diseases.jensenlab.org/Entity?documents=10&type1=9606&id1=ENSP00000384193&type2=-26&id2=DOID:1849',\n",
       " 'https://diseases.jensenlab.org/Entity?documents=10&type1=9606&id1=ENSP00000384193&type2=-26&id2=DOID:9505']"
      ]
     },
     "execution_count": 128,
     "metadata": {},
     "output_type": "execute_result"
    }
   ],
   "source": [
    "df_textmining_nodenorm_dups[df_textmining_nodenorm_dups[\"disease_nodenorm_id\"] == \"MONDO:0005689\"]\n",
    "\n",
    "list(df_textmining_nodenorm_dups[df_textmining_nodenorm_dups[\"disease_nodenorm_id\"] == \"MONDO:0005689\"][\"url\"])"
   ]
  },
  {
   "cell_type": "code",
   "execution_count": 103,
   "id": "6453b4ca",
   "metadata": {
    "ExecuteTime": {
     "end_time": "2025-07-14T19:40:39.418409Z",
     "start_time": "2025-07-14T19:40:39.397713Z"
    }
   },
   "outputs": [
    {
     "data": {
      "text/plain": [
       "13"
      ]
     },
     "execution_count": 103,
     "metadata": {},
     "output_type": "execute_result"
    },
    {
     "data": {
      "text/html": [
       "<div>\n",
       "<style scoped>\n",
       "    .dataframe tbody tr th:only-of-type {\n",
       "        vertical-align: middle;\n",
       "    }\n",
       "\n",
       "    .dataframe tbody tr th {\n",
       "        vertical-align: top;\n",
       "    }\n",
       "\n",
       "    .dataframe thead th {\n",
       "        text-align: right;\n",
       "    }\n",
       "</style>\n",
       "<table border=\"1\" class=\"dataframe\">\n",
       "  <thead>\n",
       "    <tr style=\"text-align: right;\">\n",
       "      <th></th>\n",
       "      <th>disease_id</th>\n",
       "      <th>disease_name</th>\n",
       "      <th>disease_nodenorm_id</th>\n",
       "      <th>disease_nodenorm_label</th>\n",
       "    </tr>\n",
       "  </thead>\n",
       "  <tbody>\n",
       "    <tr>\n",
       "      <th>188487</th>\n",
       "      <td>DOID:0060499</td>\n",
       "      <td>Autoimmune neuropathy</td>\n",
       "      <td>MONDO:0000774</td>\n",
       "      <td>autoimmune neuropathy</td>\n",
       "    </tr>\n",
       "    <tr>\n",
       "      <th>188498</th>\n",
       "      <td>DOID:0040087</td>\n",
       "      <td>Autoimmune peripheral neuropathy</td>\n",
       "      <td>MONDO:0000774</td>\n",
       "      <td>autoimmune neuropathy</td>\n",
       "    </tr>\n",
       "    <tr>\n",
       "      <th>120454</th>\n",
       "      <td>DOID:0060025</td>\n",
       "      <td>Immunoglobulin alpha deficiency</td>\n",
       "      <td>MONDO:0001341</td>\n",
       "      <td>IgA Deficiency</td>\n",
       "    </tr>\n",
       "    <tr>\n",
       "      <th>120486</th>\n",
       "      <td>DOID:11701</td>\n",
       "      <td>Selective IgA deficiency disease</td>\n",
       "      <td>MONDO:0001341</td>\n",
       "      <td>IgA Deficiency</td>\n",
       "    </tr>\n",
       "    <tr>\n",
       "      <th>86408</th>\n",
       "      <td>DOID:824</td>\n",
       "      <td>Periodontitis</td>\n",
       "      <td>MONDO:0005076</td>\n",
       "      <td>periodontitis</td>\n",
       "    </tr>\n",
       "    <tr>\n",
       "      <th>162064</th>\n",
       "      <td>DOID:9893</td>\n",
       "      <td>Periodontosis</td>\n",
       "      <td>MONDO:0005076</td>\n",
       "      <td>periodontitis</td>\n",
       "    </tr>\n",
       "    <tr>\n",
       "      <th>80289</th>\n",
       "      <td>DOID:1575</td>\n",
       "      <td>Rheumatic disease</td>\n",
       "      <td>MONDO:0005554</td>\n",
       "      <td>Rheumatism</td>\n",
       "    </tr>\n",
       "    <tr>\n",
       "      <th>80297</th>\n",
       "      <td>DOID:854</td>\n",
       "      <td>Collagen disease</td>\n",
       "      <td>MONDO:0005554</td>\n",
       "      <td>Rheumatism</td>\n",
       "    </tr>\n",
       "    <tr>\n",
       "      <th>229853</th>\n",
       "      <td>DOID:1849</td>\n",
       "      <td>Cannabis dependence</td>\n",
       "      <td>MONDO:0005689</td>\n",
       "      <td>cannabis abuse</td>\n",
       "    </tr>\n",
       "    <tr>\n",
       "      <th>229866</th>\n",
       "      <td>DOID:9505</td>\n",
       "      <td>Cannabis abuse</td>\n",
       "      <td>MONDO:0005689</td>\n",
       "      <td>cannabis abuse</td>\n",
       "    </tr>\n",
       "    <tr>\n",
       "      <th>34086</th>\n",
       "      <td>DOID:0080666</td>\n",
       "      <td>Warfarin sensitivity</td>\n",
       "      <td>MONDO:0007390</td>\n",
       "      <td>coumarin resistance</td>\n",
       "    </tr>\n",
       "    <tr>\n",
       "      <th>34114</th>\n",
       "      <td>DOID:0080665</td>\n",
       "      <td>Warfarin resistance</td>\n",
       "      <td>MONDO:0007390</td>\n",
       "      <td>coumarin resistance</td>\n",
       "    </tr>\n",
       "    <tr>\n",
       "      <th>12467</th>\n",
       "      <td>DOID:11612</td>\n",
       "      <td>Polycystic ovary syndrome</td>\n",
       "      <td>MONDO:0008487</td>\n",
       "      <td>Androgen excess</td>\n",
       "    </tr>\n",
       "    <tr>\n",
       "      <th>12484</th>\n",
       "      <td>DOID:11613</td>\n",
       "      <td>Hyperandrogenism</td>\n",
       "      <td>MONDO:0008487</td>\n",
       "      <td>Androgen excess</td>\n",
       "    </tr>\n",
       "    <tr>\n",
       "      <th>140503</th>\n",
       "      <td>DOID:3852</td>\n",
       "      <td>Peutz-Jeghers syndrome</td>\n",
       "      <td>MONDO:0008501</td>\n",
       "      <td>Sturge-Weber syndrome</td>\n",
       "    </tr>\n",
       "    <tr>\n",
       "      <th>140589</th>\n",
       "      <td>DOID:0111563</td>\n",
       "      <td>Sturge-Weber syndrome</td>\n",
       "      <td>MONDO:0008501</td>\n",
       "      <td>Sturge-Weber syndrome</td>\n",
       "    </tr>\n",
       "    <tr>\n",
       "      <th>174643</th>\n",
       "      <td>DOID:14743</td>\n",
       "      <td>Trichorhinophalangeal syndrome type I</td>\n",
       "      <td>MONDO:0008596</td>\n",
       "      <td>trichorhinophalangeal syndrome type I</td>\n",
       "    </tr>\n",
       "    <tr>\n",
       "      <th>174668</th>\n",
       "      <td>DOID:0080376</td>\n",
       "      <td>Trichorhinophalangeal syndrome type III</td>\n",
       "      <td>MONDO:0008596</td>\n",
       "      <td>trichorhinophalangeal syndrome type I</td>\n",
       "    </tr>\n",
       "    <tr>\n",
       "      <th>156405</th>\n",
       "      <td>DOID:0060476</td>\n",
       "      <td>Perlman syndrome</td>\n",
       "      <td>MONDO:0009965</td>\n",
       "      <td>Perlman syndrome</td>\n",
       "    </tr>\n",
       "    <tr>\n",
       "      <th>156411</th>\n",
       "      <td>DOID:5572</td>\n",
       "      <td>Beckwith-Wiedemann syndrome</td>\n",
       "      <td>MONDO:0009965</td>\n",
       "      <td>Perlman syndrome</td>\n",
       "    </tr>\n",
       "    <tr>\n",
       "      <th>258025</th>\n",
       "      <td>DOID:13515</td>\n",
       "      <td>Tuberous sclerosis</td>\n",
       "      <td>MONDO:0010029</td>\n",
       "      <td>situs inversus</td>\n",
       "    </tr>\n",
       "    <tr>\n",
       "      <th>258098</th>\n",
       "      <td>DOID:758</td>\n",
       "      <td>Situs inversus</td>\n",
       "      <td>MONDO:0010029</td>\n",
       "      <td>situs inversus</td>\n",
       "    </tr>\n",
       "    <tr>\n",
       "      <th>27259</th>\n",
       "      <td>DOID:0081240</td>\n",
       "      <td>Peroxisome biogenesis disorder 1B</td>\n",
       "      <td>MONDO:0011101</td>\n",
       "      <td>peroxisome biogenesis disorder 1B</td>\n",
       "    </tr>\n",
       "    <tr>\n",
       "      <th>27261</th>\n",
       "      <td>DOID:0050444</td>\n",
       "      <td>Infantile Refsum disease</td>\n",
       "      <td>MONDO:0011101</td>\n",
       "      <td>peroxisome biogenesis disorder 1B</td>\n",
       "    </tr>\n",
       "    <tr>\n",
       "      <th>80046</th>\n",
       "      <td>DOID:8712</td>\n",
       "      <td>Neurofibromatosis</td>\n",
       "      <td>MONDO:0016755</td>\n",
       "      <td>neurofibroma</td>\n",
       "    </tr>\n",
       "    <tr>\n",
       "      <th>80076</th>\n",
       "      <td>DOID:0060403</td>\n",
       "      <td>Chromosome 17q11.2 deletion syndrome</td>\n",
       "      <td>MONDO:0016755</td>\n",
       "      <td>neurofibroma</td>\n",
       "    </tr>\n",
       "    <tr>\n",
       "      <th>186880</th>\n",
       "      <td>DOID:962</td>\n",
       "      <td>Neurofibroma</td>\n",
       "      <td>MONDO:0016755</td>\n",
       "      <td>neurofibroma</td>\n",
       "    </tr>\n",
       "  </tbody>\n",
       "</table>\n",
       "</div>"
      ],
      "text/plain": [
       "          disease_id                             disease_name  \\\n",
       "188487  DOID:0060499                    Autoimmune neuropathy   \n",
       "188498  DOID:0040087         Autoimmune peripheral neuropathy   \n",
       "120454  DOID:0060025          Immunoglobulin alpha deficiency   \n",
       "120486    DOID:11701         Selective IgA deficiency disease   \n",
       "86408       DOID:824                            Periodontitis   \n",
       "162064     DOID:9893                            Periodontosis   \n",
       "80289      DOID:1575                        Rheumatic disease   \n",
       "80297       DOID:854                         Collagen disease   \n",
       "229853     DOID:1849                      Cannabis dependence   \n",
       "229866     DOID:9505                           Cannabis abuse   \n",
       "34086   DOID:0080666                     Warfarin sensitivity   \n",
       "34114   DOID:0080665                      Warfarin resistance   \n",
       "12467     DOID:11612                Polycystic ovary syndrome   \n",
       "12484     DOID:11613                         Hyperandrogenism   \n",
       "140503     DOID:3852                   Peutz-Jeghers syndrome   \n",
       "140589  DOID:0111563                    Sturge-Weber syndrome   \n",
       "174643    DOID:14743    Trichorhinophalangeal syndrome type I   \n",
       "174668  DOID:0080376  Trichorhinophalangeal syndrome type III   \n",
       "156405  DOID:0060476                         Perlman syndrome   \n",
       "156411     DOID:5572              Beckwith-Wiedemann syndrome   \n",
       "258025    DOID:13515                       Tuberous sclerosis   \n",
       "258098      DOID:758                           Situs inversus   \n",
       "27259   DOID:0081240        Peroxisome biogenesis disorder 1B   \n",
       "27261   DOID:0050444                 Infantile Refsum disease   \n",
       "80046      DOID:8712                        Neurofibromatosis   \n",
       "80076   DOID:0060403     Chromosome 17q11.2 deletion syndrome   \n",
       "186880      DOID:962                             Neurofibroma   \n",
       "\n",
       "       disease_nodenorm_id                 disease_nodenorm_label  \n",
       "188487       MONDO:0000774                  autoimmune neuropathy  \n",
       "188498       MONDO:0000774                  autoimmune neuropathy  \n",
       "120454       MONDO:0001341                         IgA Deficiency  \n",
       "120486       MONDO:0001341                         IgA Deficiency  \n",
       "86408        MONDO:0005076                          periodontitis  \n",
       "162064       MONDO:0005076                          periodontitis  \n",
       "80289        MONDO:0005554                             Rheumatism  \n",
       "80297        MONDO:0005554                             Rheumatism  \n",
       "229853       MONDO:0005689                         cannabis abuse  \n",
       "229866       MONDO:0005689                         cannabis abuse  \n",
       "34086        MONDO:0007390                    coumarin resistance  \n",
       "34114        MONDO:0007390                    coumarin resistance  \n",
       "12467        MONDO:0008487                        Androgen excess  \n",
       "12484        MONDO:0008487                        Androgen excess  \n",
       "140503       MONDO:0008501                  Sturge-Weber syndrome  \n",
       "140589       MONDO:0008501                  Sturge-Weber syndrome  \n",
       "174643       MONDO:0008596  trichorhinophalangeal syndrome type I  \n",
       "174668       MONDO:0008596  trichorhinophalangeal syndrome type I  \n",
       "156405       MONDO:0009965                       Perlman syndrome  \n",
       "156411       MONDO:0009965                       Perlman syndrome  \n",
       "258025       MONDO:0010029                         situs inversus  \n",
       "258098       MONDO:0010029                         situs inversus  \n",
       "27259        MONDO:0011101      peroxisome biogenesis disorder 1B  \n",
       "27261        MONDO:0011101      peroxisome biogenesis disorder 1B  \n",
       "80046        MONDO:0016755                           neurofibroma  \n",
       "80076        MONDO:0016755                           neurofibroma  \n",
       "186880       MONDO:0016755                           neurofibroma  "
      ]
     },
     "execution_count": 103,
     "metadata": {},
     "output_type": "execute_result"
    }
   ],
   "source": [
    "## knowledge disease duplicates\n",
    "\n",
    "NodeNormDups_tm_diseases = df_textmining_nodenorm_dups[[\"disease_id\", \"disease_name\", \n",
    "                            \"disease_nodenorm_id\", \"disease_nodenorm_label\"]].copy()\n",
    "\n",
    "NodeNormDups_tm_diseases.drop_duplicates(inplace=True)\n",
    "\n",
    "diseases_dups_tm = NodeNormDups_tm_diseases.groupby(\n",
    "    \"disease_nodenorm_id\").filter(lambda x: len(x)>1).copy()\n",
    "\n",
    "diseases_dups_tm[\"disease_nodenorm_id\"].nunique()\n",
    "diseases_dups_tm"
   ]
  },
  {
   "cell_type": "code",
   "execution_count": 104,
   "id": "5d286439",
   "metadata": {
    "ExecuteTime": {
     "end_time": "2025-07-14T19:41:19.724850Z",
     "start_time": "2025-07-14T19:41:19.703043Z"
    }
   },
   "outputs": [
    {
     "data": {
      "text/plain": [
       "35"
      ]
     },
     "execution_count": 104,
     "metadata": {},
     "output_type": "execute_result"
    },
    {
     "data": {
      "text/html": [
       "<div>\n",
       "<style scoped>\n",
       "    .dataframe tbody tr th:only-of-type {\n",
       "        vertical-align: middle;\n",
       "    }\n",
       "\n",
       "    .dataframe tbody tr th {\n",
       "        vertical-align: top;\n",
       "    }\n",
       "\n",
       "    .dataframe thead th {\n",
       "        text-align: right;\n",
       "    }\n",
       "</style>\n",
       "<table border=\"1\" class=\"dataframe\">\n",
       "  <thead>\n",
       "    <tr style=\"text-align: right;\">\n",
       "      <th></th>\n",
       "      <th>gene_id</th>\n",
       "      <th>gene_name</th>\n",
       "      <th>gene_nodenorm_id</th>\n",
       "      <th>gene_nodenorm_label</th>\n",
       "    </tr>\n",
       "  </thead>\n",
       "  <tbody>\n",
       "    <tr>\n",
       "      <th>181610</th>\n",
       "      <td>ENSEMBL:ENSP00000370083</td>\n",
       "      <td>SMN1</td>\n",
       "      <td>UniProtKB:Q16637-1</td>\n",
       "      <td>survival motor neuron protein isoform 1 (human)</td>\n",
       "    </tr>\n",
       "    <tr>\n",
       "      <th>181727</th>\n",
       "      <td>ENSEMBL:ENSP00000370119</td>\n",
       "      <td>SMN2</td>\n",
       "      <td>UniProtKB:Q16637-1</td>\n",
       "      <td>survival motor neuron protein isoform 1 (human)</td>\n",
       "    </tr>\n",
       "    <tr>\n",
       "      <th>116516</th>\n",
       "      <td>ENSEMBL:ENSP00000334330</td>\n",
       "      <td>DEFB105A</td>\n",
       "      <td>UniProtKB:Q8NG35</td>\n",
       "      <td>D105A_HUMAN Beta-defensin 105 (sprot)</td>\n",
       "    </tr>\n",
       "    <tr>\n",
       "      <th>117428</th>\n",
       "      <td>ENSEMBL:ENSP00000335281</td>\n",
       "      <td>DEFB105B</td>\n",
       "      <td>UniProtKB:Q8NG35</td>\n",
       "      <td>D105A_HUMAN Beta-defensin 105 (sprot)</td>\n",
       "    </tr>\n",
       "    <tr>\n",
       "      <th>228092</th>\n",
       "      <td>ENSEMBL:ENSP00000421861</td>\n",
       "      <td>MAGED4B</td>\n",
       "      <td>UniProtKB:Q96JG8-4</td>\n",
       "      <td>melanoma-associated antigen D4 isoform h4 (human)</td>\n",
       "    </tr>\n",
       "    <tr>\n",
       "      <th>...</th>\n",
       "      <td>...</td>\n",
       "      <td>...</td>\n",
       "      <td>...</td>\n",
       "      <td>...</td>\n",
       "    </tr>\n",
       "    <tr>\n",
       "      <th>111745</th>\n",
       "      <td>ENSEMBL:ENSP00000329982</td>\n",
       "      <td>OR4F16</td>\n",
       "      <td>UniProtKB:Q6IEY1</td>\n",
       "      <td>OR4F3_HUMAN Olfactory receptor 4F3/4F16/4F29 (...</td>\n",
       "    </tr>\n",
       "    <tr>\n",
       "      <th>211831</th>\n",
       "      <td>ENSEMBL:ENSP00000394282</td>\n",
       "      <td>OR4F3</td>\n",
       "      <td>UniProtKB:Q6IEY1</td>\n",
       "      <td>OR4F3_HUMAN Olfactory receptor 4F3/4F16/4F29 (...</td>\n",
       "    </tr>\n",
       "    <tr>\n",
       "      <th>219809</th>\n",
       "      <td>ENSEMBL:ENSP00000409316</td>\n",
       "      <td>OR4F29</td>\n",
       "      <td>UniProtKB:Q6IEY1</td>\n",
       "      <td>OR4F3_HUMAN Olfactory receptor 4F3/4F16/4F29 (...</td>\n",
       "    </tr>\n",
       "    <tr>\n",
       "      <th>1162</th>\n",
       "      <td>ENSEMBL:ENSP00000016946</td>\n",
       "      <td>RGPD5</td>\n",
       "      <td>UniProtKB:Q99666-1</td>\n",
       "      <td>RANBP2-like and GRIP domain-containing protein...</td>\n",
       "    </tr>\n",
       "    <tr>\n",
       "      <th>112564</th>\n",
       "      <td>ENSEMBL:ENSP00000330842</td>\n",
       "      <td>RGPD6</td>\n",
       "      <td>UniProtKB:Q99666-1</td>\n",
       "      <td>RANBP2-like and GRIP domain-containing protein...</td>\n",
       "    </tr>\n",
       "  </tbody>\n",
       "</table>\n",
       "<p>104 rows × 4 columns</p>\n",
       "</div>"
      ],
      "text/plain": [
       "                        gene_id gene_name    gene_nodenorm_id  \\\n",
       "181610  ENSEMBL:ENSP00000370083      SMN1  UniProtKB:Q16637-1   \n",
       "181727  ENSEMBL:ENSP00000370119      SMN2  UniProtKB:Q16637-1   \n",
       "116516  ENSEMBL:ENSP00000334330  DEFB105A    UniProtKB:Q8NG35   \n",
       "117428  ENSEMBL:ENSP00000335281  DEFB105B    UniProtKB:Q8NG35   \n",
       "228092  ENSEMBL:ENSP00000421861   MAGED4B  UniProtKB:Q96JG8-4   \n",
       "...                         ...       ...                 ...   \n",
       "111745  ENSEMBL:ENSP00000329982    OR4F16    UniProtKB:Q6IEY1   \n",
       "211831  ENSEMBL:ENSP00000394282     OR4F3    UniProtKB:Q6IEY1   \n",
       "219809  ENSEMBL:ENSP00000409316    OR4F29    UniProtKB:Q6IEY1   \n",
       "1162    ENSEMBL:ENSP00000016946     RGPD5  UniProtKB:Q99666-1   \n",
       "112564  ENSEMBL:ENSP00000330842     RGPD6  UniProtKB:Q99666-1   \n",
       "\n",
       "                                      gene_nodenorm_label  \n",
       "181610    survival motor neuron protein isoform 1 (human)  \n",
       "181727    survival motor neuron protein isoform 1 (human)  \n",
       "116516              D105A_HUMAN Beta-defensin 105 (sprot)  \n",
       "117428              D105A_HUMAN Beta-defensin 105 (sprot)  \n",
       "228092  melanoma-associated antigen D4 isoform h4 (human)  \n",
       "...                                                   ...  \n",
       "111745  OR4F3_HUMAN Olfactory receptor 4F3/4F16/4F29 (...  \n",
       "211831  OR4F3_HUMAN Olfactory receptor 4F3/4F16/4F29 (...  \n",
       "219809  OR4F3_HUMAN Olfactory receptor 4F3/4F16/4F29 (...  \n",
       "1162    RANBP2-like and GRIP domain-containing protein...  \n",
       "112564  RANBP2-like and GRIP domain-containing protein...  \n",
       "\n",
       "[104 rows x 4 columns]"
      ]
     },
     "execution_count": 104,
     "metadata": {},
     "output_type": "execute_result"
    }
   ],
   "source": [
    "## knowledge gene duplicates\n",
    "\n",
    "NodeNormDups_tm_genes = df_textmining_nodenorm_dups[[\"gene_id\", \"gene_name\", \n",
    "                            \"gene_nodenorm_id\", \"gene_nodenorm_label\"]].copy()\n",
    "\n",
    "NodeNormDups_tm_genes.drop_duplicates(inplace=True)\n",
    "\n",
    "genes_dups_tm = NodeNormDups_tm_genes.groupby(\n",
    "    \"gene_nodenorm_id\").filter(lambda x: len(x)>1).copy()\n",
    "\n",
    "genes_dups_tm[\"gene_nodenorm_id\"].nunique()\n",
    "genes_dups_tm"
   ]
  },
  {
   "cell_type": "code",
   "execution_count": 116,
   "id": "e21f3964",
   "metadata": {
    "ExecuteTime": {
     "end_time": "2025-07-14T20:11:39.013997Z",
     "start_time": "2025-07-14T20:11:39.003496Z"
    }
   },
   "outputs": [
    {
     "data": {
      "text/html": [
       "<div>\n",
       "<style scoped>\n",
       "    .dataframe tbody tr th:only-of-type {\n",
       "        vertical-align: middle;\n",
       "    }\n",
       "\n",
       "    .dataframe tbody tr th {\n",
       "        vertical-align: top;\n",
       "    }\n",
       "\n",
       "    .dataframe thead th {\n",
       "        text-align: right;\n",
       "    }\n",
       "</style>\n",
       "<table border=\"1\" class=\"dataframe\">\n",
       "  <thead>\n",
       "    <tr style=\"text-align: right;\">\n",
       "      <th></th>\n",
       "      <th>gene_id</th>\n",
       "      <th>gene_name</th>\n",
       "      <th>gene_nodenorm_id</th>\n",
       "      <th>gene_nodenorm_label</th>\n",
       "    </tr>\n",
       "  </thead>\n",
       "  <tbody>\n",
       "    <tr>\n",
       "      <th>249370</th>\n",
       "      <td>ENSEMBL:ENSP00000479461</td>\n",
       "      <td>H4C4</td>\n",
       "      <td>UniProtKB:P62805</td>\n",
       "      <td>H4_HUMAN Histone H4 (sprot)</td>\n",
       "    </tr>\n",
       "    <tr>\n",
       "      <th>249541</th>\n",
       "      <td>ENSEMBL:ENSP00000479794</td>\n",
       "      <td>H4C12</td>\n",
       "      <td>UniProtKB:P62805</td>\n",
       "      <td>H4_HUMAN Histone H4 (sprot)</td>\n",
       "    </tr>\n",
       "    <tr>\n",
       "      <th>250721</th>\n",
       "      <td>ENSEMBL:ENSP00000480960</td>\n",
       "      <td>H4C13</td>\n",
       "      <td>UniProtKB:P62805</td>\n",
       "      <td>H4_HUMAN Histone H4 (sprot)</td>\n",
       "    </tr>\n",
       "    <tr>\n",
       "      <th>251101</th>\n",
       "      <td>ENSEMBL:ENSP00000481486</td>\n",
       "      <td>H4C9</td>\n",
       "      <td>UniProtKB:P62805</td>\n",
       "      <td>H4_HUMAN Histone H4 (sprot)</td>\n",
       "    </tr>\n",
       "    <tr>\n",
       "      <th>253818</th>\n",
       "      <td>ENSEMBL:ENSP00000484789</td>\n",
       "      <td>H4C5</td>\n",
       "      <td>UniProtKB:P62805</td>\n",
       "      <td>H4_HUMAN Histone H4 (sprot)</td>\n",
       "    </tr>\n",
       "    <tr>\n",
       "      <th>104480</th>\n",
       "      <td>ENSEMBL:ENSP00000321744</td>\n",
       "      <td>H2BC4</td>\n",
       "      <td>UniProtKB:P62807</td>\n",
       "      <td>H2B1C_HUMAN Histone H2B type 1-C/E/F/G/I (sprot)</td>\n",
       "    </tr>\n",
       "    <tr>\n",
       "      <th>132165</th>\n",
       "      <td>ENSEMBL:ENSP00000348924</td>\n",
       "      <td>H2BC7</td>\n",
       "      <td>UniProtKB:P62807</td>\n",
       "      <td>H2B1C_HUMAN Histone H2B type 1-C/E/F/G/I (sprot)</td>\n",
       "    </tr>\n",
       "    <tr>\n",
       "      <th>173833</th>\n",
       "      <td>ENSEMBL:ENSP00000366962</td>\n",
       "      <td>H2BC10</td>\n",
       "      <td>UniProtKB:P62807</td>\n",
       "      <td>H2B1C_HUMAN Histone H2B type 1-C/E/F/G/I (sprot)</td>\n",
       "    </tr>\n",
       "    <tr>\n",
       "      <th>238486</th>\n",
       "      <td>ENSEMBL:ENSP00000445633</td>\n",
       "      <td>H2BC8</td>\n",
       "      <td>UniProtKB:P62807</td>\n",
       "      <td>H2B1C_HUMAN Histone H2B type 1-C/E/F/G/I (sprot)</td>\n",
       "    </tr>\n",
       "    <tr>\n",
       "      <th>254637</th>\n",
       "      <td>ENSEMBL:ENSP00000489317</td>\n",
       "      <td>H2BC6</td>\n",
       "      <td>UniProtKB:P62807</td>\n",
       "      <td>H2B1C_HUMAN Histone H2B type 1-C/E/F/G/I (sprot)</td>\n",
       "    </tr>\n",
       "    <tr>\n",
       "      <th>152019</th>\n",
       "      <td>ENSEMBL:ENSP00000358160</td>\n",
       "      <td>H3C10</td>\n",
       "      <td>UniProtKB:P68431</td>\n",
       "      <td>Histone H3.1</td>\n",
       "    </tr>\n",
       "    <tr>\n",
       "      <th>173854</th>\n",
       "      <td>ENSEMBL:ENSP00000366999</td>\n",
       "      <td>H3C4</td>\n",
       "      <td>UniProtKB:P68431</td>\n",
       "      <td>Histone H3.1</td>\n",
       "    </tr>\n",
       "    <tr>\n",
       "      <th>253354</th>\n",
       "      <td>ENSEMBL:ENSP00000484095</td>\n",
       "      <td>H3C7</td>\n",
       "      <td>UniProtKB:P68431</td>\n",
       "      <td>Histone H3.1</td>\n",
       "    </tr>\n",
       "    <tr>\n",
       "      <th>169027</th>\n",
       "      <td>ENSEMBL:ENSP00000364752</td>\n",
       "      <td>XAGE1A</td>\n",
       "      <td>UniProtKB:Q9HD64-2</td>\n",
       "      <td>X antigen family member 1 isoform B (human)</td>\n",
       "    </tr>\n",
       "    <tr>\n",
       "      <th>169035</th>\n",
       "      <td>ENSEMBL:ENSP00000364766</td>\n",
       "      <td>XAGE1B</td>\n",
       "      <td>UniProtKB:Q9HD64-2</td>\n",
       "      <td>X antigen family member 1 isoform B (human)</td>\n",
       "    </tr>\n",
       "    <tr>\n",
       "      <th>115328</th>\n",
       "      <td>ENSEMBL:ENSP00000333487</td>\n",
       "      <td>MAGEA2B</td>\n",
       "      <td>UniProtKB:P43356</td>\n",
       "      <td>MAGA2_HUMAN Melanoma-associated antigen 2 (sprot)</td>\n",
       "    </tr>\n",
       "    <tr>\n",
       "      <th>254094</th>\n",
       "      <td>ENSEMBL:ENSP00000485541</td>\n",
       "      <td>MAGEA2</td>\n",
       "      <td>UniProtKB:P43356</td>\n",
       "      <td>MAGA2_HUMAN Melanoma-associated antigen 2 (sprot)</td>\n",
       "    </tr>\n",
       "    <tr>\n",
       "      <th>185445</th>\n",
       "      <td>ENSEMBL:ENSP00000372136</td>\n",
       "      <td>DEFA1B</td>\n",
       "      <td>UniProtKB:P59665</td>\n",
       "      <td>DEF1_HUMAN Neutrophil defensin 1 (sprot)</td>\n",
       "    </tr>\n",
       "    <tr>\n",
       "      <th>185459</th>\n",
       "      <td>ENSEMBL:ENSP00000372139</td>\n",
       "      <td>DEFA1</td>\n",
       "      <td>UniProtKB:P59665</td>\n",
       "      <td>DEF1_HUMAN Neutrophil defensin 1 (sprot)</td>\n",
       "    </tr>\n",
       "    <tr>\n",
       "      <th>28503</th>\n",
       "      <td>ENSEMBL:ENSP00000250823</td>\n",
       "      <td>VCY1B</td>\n",
       "      <td>UniProtKB:O14598</td>\n",
       "      <td>VCY1_HUMAN Testis-specific basic protein Y 1 (...</td>\n",
       "    </tr>\n",
       "    <tr>\n",
       "      <th>28508</th>\n",
       "      <td>ENSEMBL:ENSP00000250825</td>\n",
       "      <td>VCY</td>\n",
       "      <td>UniProtKB:O14598</td>\n",
       "      <td>VCY1_HUMAN Testis-specific basic protein Y 1 (...</td>\n",
       "    </tr>\n",
       "    <tr>\n",
       "      <th>246557</th>\n",
       "      <td>ENSEMBL:ENSP00000472530</td>\n",
       "      <td>NXF2B</td>\n",
       "      <td>UniProtKB:Q9GZY0</td>\n",
       "      <td>NXF2_HUMAN Nuclear RNA export factor 2 (sprot)</td>\n",
       "    </tr>\n",
       "    <tr>\n",
       "      <th>254122</th>\n",
       "      <td>ENSEMBL:ENSP00000485586</td>\n",
       "      <td>NXF2</td>\n",
       "      <td>UniProtKB:Q9GZY0</td>\n",
       "      <td>NXF2_HUMAN Nuclear RNA export factor 2 (sprot)</td>\n",
       "    </tr>\n",
       "    <tr>\n",
       "      <th>83222</th>\n",
       "      <td>ENSEMBL:ENSP00000301408</td>\n",
       "      <td>CGB5</td>\n",
       "      <td>UniProtKB:P0DN86-1</td>\n",
       "      <td>choriogonadotropin subunit beta 3 isoform h1 (...</td>\n",
       "    </tr>\n",
       "    <tr>\n",
       "      <th>133515</th>\n",
       "      <td>ENSEMBL:ENSP00000349954</td>\n",
       "      <td>CGB3</td>\n",
       "      <td>UniProtKB:P0DN86-1</td>\n",
       "      <td>choriogonadotropin subunit beta 3 isoform h1 (...</td>\n",
       "    </tr>\n",
       "    <tr>\n",
       "      <th>217213</th>\n",
       "      <td>ENSEMBL:ENSP00000403649</td>\n",
       "      <td>CGB8</td>\n",
       "      <td>UniProtKB:P0DN86-1</td>\n",
       "      <td>choriogonadotropin subunit beta 3 isoform h1 (...</td>\n",
       "    </tr>\n",
       "    <tr>\n",
       "      <th>28510</th>\n",
       "      <td>ENSEMBL:ENSP00000250831</td>\n",
       "      <td>RBMY1J</td>\n",
       "      <td>UniProtKB:Q15415-1</td>\n",
       "      <td>RNA-binding motif protein, Y chromosome, famil...</td>\n",
       "    </tr>\n",
       "    <tr>\n",
       "      <th>90819</th>\n",
       "      <td>ENSEMBL:ENSP00000307155</td>\n",
       "      <td>RBMY1F</td>\n",
       "      <td>UniProtKB:Q15415-1</td>\n",
       "      <td>RNA-binding motif protein, Y chromosome, famil...</td>\n",
       "    </tr>\n",
       "    <tr>\n",
       "      <th>86555</th>\n",
       "      <td>ENSEMBL:ENSP00000303599</td>\n",
       "      <td>HSFY1</td>\n",
       "      <td>UniProtKB:Q96LI6-1</td>\n",
       "      <td>heat shock transcription factor, Y-linked isof...</td>\n",
       "    </tr>\n",
       "    <tr>\n",
       "      <th>90145</th>\n",
       "      <td>ENSEMBL:ENSP00000306549</td>\n",
       "      <td>HSFY2</td>\n",
       "      <td>UniProtKB:Q96LI6-1</td>\n",
       "      <td>heat shock transcription factor, Y-linked isof...</td>\n",
       "    </tr>\n",
       "  </tbody>\n",
       "</table>\n",
       "</div>"
      ],
      "text/plain": [
       "                        gene_id gene_name    gene_nodenorm_id  \\\n",
       "249370  ENSEMBL:ENSP00000479461      H4C4    UniProtKB:P62805   \n",
       "249541  ENSEMBL:ENSP00000479794     H4C12    UniProtKB:P62805   \n",
       "250721  ENSEMBL:ENSP00000480960     H4C13    UniProtKB:P62805   \n",
       "251101  ENSEMBL:ENSP00000481486      H4C9    UniProtKB:P62805   \n",
       "253818  ENSEMBL:ENSP00000484789      H4C5    UniProtKB:P62805   \n",
       "104480  ENSEMBL:ENSP00000321744     H2BC4    UniProtKB:P62807   \n",
       "132165  ENSEMBL:ENSP00000348924     H2BC7    UniProtKB:P62807   \n",
       "173833  ENSEMBL:ENSP00000366962    H2BC10    UniProtKB:P62807   \n",
       "238486  ENSEMBL:ENSP00000445633     H2BC8    UniProtKB:P62807   \n",
       "254637  ENSEMBL:ENSP00000489317     H2BC6    UniProtKB:P62807   \n",
       "152019  ENSEMBL:ENSP00000358160     H3C10    UniProtKB:P68431   \n",
       "173854  ENSEMBL:ENSP00000366999      H3C4    UniProtKB:P68431   \n",
       "253354  ENSEMBL:ENSP00000484095      H3C7    UniProtKB:P68431   \n",
       "169027  ENSEMBL:ENSP00000364752    XAGE1A  UniProtKB:Q9HD64-2   \n",
       "169035  ENSEMBL:ENSP00000364766    XAGE1B  UniProtKB:Q9HD64-2   \n",
       "115328  ENSEMBL:ENSP00000333487   MAGEA2B    UniProtKB:P43356   \n",
       "254094  ENSEMBL:ENSP00000485541    MAGEA2    UniProtKB:P43356   \n",
       "185445  ENSEMBL:ENSP00000372136    DEFA1B    UniProtKB:P59665   \n",
       "185459  ENSEMBL:ENSP00000372139     DEFA1    UniProtKB:P59665   \n",
       "28503   ENSEMBL:ENSP00000250823     VCY1B    UniProtKB:O14598   \n",
       "28508   ENSEMBL:ENSP00000250825       VCY    UniProtKB:O14598   \n",
       "246557  ENSEMBL:ENSP00000472530     NXF2B    UniProtKB:Q9GZY0   \n",
       "254122  ENSEMBL:ENSP00000485586      NXF2    UniProtKB:Q9GZY0   \n",
       "83222   ENSEMBL:ENSP00000301408      CGB5  UniProtKB:P0DN86-1   \n",
       "133515  ENSEMBL:ENSP00000349954      CGB3  UniProtKB:P0DN86-1   \n",
       "217213  ENSEMBL:ENSP00000403649      CGB8  UniProtKB:P0DN86-1   \n",
       "28510   ENSEMBL:ENSP00000250831    RBMY1J  UniProtKB:Q15415-1   \n",
       "90819   ENSEMBL:ENSP00000307155    RBMY1F  UniProtKB:Q15415-1   \n",
       "86555   ENSEMBL:ENSP00000303599     HSFY1  UniProtKB:Q96LI6-1   \n",
       "90145   ENSEMBL:ENSP00000306549     HSFY2  UniProtKB:Q96LI6-1   \n",
       "\n",
       "                                      gene_nodenorm_label  \n",
       "249370                        H4_HUMAN Histone H4 (sprot)  \n",
       "249541                        H4_HUMAN Histone H4 (sprot)  \n",
       "250721                        H4_HUMAN Histone H4 (sprot)  \n",
       "251101                        H4_HUMAN Histone H4 (sprot)  \n",
       "253818                        H4_HUMAN Histone H4 (sprot)  \n",
       "104480   H2B1C_HUMAN Histone H2B type 1-C/E/F/G/I (sprot)  \n",
       "132165   H2B1C_HUMAN Histone H2B type 1-C/E/F/G/I (sprot)  \n",
       "173833   H2B1C_HUMAN Histone H2B type 1-C/E/F/G/I (sprot)  \n",
       "238486   H2B1C_HUMAN Histone H2B type 1-C/E/F/G/I (sprot)  \n",
       "254637   H2B1C_HUMAN Histone H2B type 1-C/E/F/G/I (sprot)  \n",
       "152019                                       Histone H3.1  \n",
       "173854                                       Histone H3.1  \n",
       "253354                                       Histone H3.1  \n",
       "169027        X antigen family member 1 isoform B (human)  \n",
       "169035        X antigen family member 1 isoform B (human)  \n",
       "115328  MAGA2_HUMAN Melanoma-associated antigen 2 (sprot)  \n",
       "254094  MAGA2_HUMAN Melanoma-associated antigen 2 (sprot)  \n",
       "185445           DEF1_HUMAN Neutrophil defensin 1 (sprot)  \n",
       "185459           DEF1_HUMAN Neutrophil defensin 1 (sprot)  \n",
       "28503   VCY1_HUMAN Testis-specific basic protein Y 1 (...  \n",
       "28508   VCY1_HUMAN Testis-specific basic protein Y 1 (...  \n",
       "246557     NXF2_HUMAN Nuclear RNA export factor 2 (sprot)  \n",
       "254122     NXF2_HUMAN Nuclear RNA export factor 2 (sprot)  \n",
       "83222   choriogonadotropin subunit beta 3 isoform h1 (...  \n",
       "133515  choriogonadotropin subunit beta 3 isoform h1 (...  \n",
       "217213  choriogonadotropin subunit beta 3 isoform h1 (...  \n",
       "28510   RNA-binding motif protein, Y chromosome, famil...  \n",
       "90819   RNA-binding motif protein, Y chromosome, famil...  \n",
       "86555   heat shock transcription factor, Y-linked isof...  \n",
       "90145   heat shock transcription factor, Y-linked isof...  "
      ]
     },
     "execution_count": 116,
     "metadata": {},
     "output_type": "execute_result"
    }
   ],
   "source": [
    "genes_dups_tm[60:90]"
   ]
  },
  {
   "cell_type": "code",
   "execution_count": 117,
   "id": "52cdd0b0",
   "metadata": {
    "ExecuteTime": {
     "end_time": "2025-07-14T20:20:42.688512Z",
     "start_time": "2025-07-14T20:20:42.669144Z"
    }
   },
   "outputs": [
    {
     "data": {
      "text/plain": [
       "(29, 4)"
      ]
     },
     "execution_count": 117,
     "metadata": {},
     "output_type": "execute_result"
    },
    {
     "data": {
      "text/plain": [
       "14"
      ]
     },
     "execution_count": 117,
     "metadata": {},
     "output_type": "execute_result"
    },
    {
     "data": {
      "text/html": [
       "<div>\n",
       "<style scoped>\n",
       "    .dataframe tbody tr th:only-of-type {\n",
       "        vertical-align: middle;\n",
       "    }\n",
       "\n",
       "    .dataframe tbody tr th {\n",
       "        vertical-align: top;\n",
       "    }\n",
       "\n",
       "    .dataframe thead th {\n",
       "        text-align: right;\n",
       "    }\n",
       "</style>\n",
       "<table border=\"1\" class=\"dataframe\">\n",
       "  <thead>\n",
       "    <tr style=\"text-align: right;\">\n",
       "      <th></th>\n",
       "      <th>input_id</th>\n",
       "      <th>input_name</th>\n",
       "      <th>nodenorm_id</th>\n",
       "      <th>nodenorm_name</th>\n",
       "    </tr>\n",
       "  </thead>\n",
       "  <tbody>\n",
       "    <tr>\n",
       "      <th>0</th>\n",
       "      <td>DOID:0080665</td>\n",
       "      <td>Warfarin resistance</td>\n",
       "      <td>MONDO:0007390</td>\n",
       "      <td>coumarin resistance</td>\n",
       "    </tr>\n",
       "    <tr>\n",
       "      <th>1</th>\n",
       "      <td>DOID:0080666</td>\n",
       "      <td>Warfarin sensitivity</td>\n",
       "      <td>MONDO:0007390</td>\n",
       "      <td>coumarin resistance</td>\n",
       "    </tr>\n",
       "    <tr>\n",
       "      <th>2</th>\n",
       "      <td>DOID:0050657</td>\n",
       "      <td>Bannayan-Riley-Ruvalcaba syndrome</td>\n",
       "      <td>MONDO:0016063</td>\n",
       "      <td>Cowden disease</td>\n",
       "    </tr>\n",
       "    <tr>\n",
       "      <th>3</th>\n",
       "      <td>DOID:6457</td>\n",
       "      <td>Cowden syndrome</td>\n",
       "      <td>MONDO:0016063</td>\n",
       "      <td>Cowden disease</td>\n",
       "    </tr>\n",
       "    <tr>\n",
       "      <th>4</th>\n",
       "      <td>DOID:0060499</td>\n",
       "      <td>Autoimmune neuropathy</td>\n",
       "      <td>MONDO:0000774</td>\n",
       "      <td>autoimmune neuropathy</td>\n",
       "    </tr>\n",
       "    <tr>\n",
       "      <th>5</th>\n",
       "      <td>DOID:0040087</td>\n",
       "      <td>Autoimmune peripheral neuropathy</td>\n",
       "      <td>MONDO:0000774</td>\n",
       "      <td>autoimmune neuropathy</td>\n",
       "    </tr>\n",
       "    <tr>\n",
       "      <th>6</th>\n",
       "      <td>DOID:0060025</td>\n",
       "      <td>Immunoglobulin alpha deficiency</td>\n",
       "      <td>MONDO:0001341</td>\n",
       "      <td>IgA Deficiency</td>\n",
       "    </tr>\n",
       "    <tr>\n",
       "      <th>7</th>\n",
       "      <td>DOID:11701</td>\n",
       "      <td>Selective IgA deficiency disease</td>\n",
       "      <td>MONDO:0001341</td>\n",
       "      <td>IgA Deficiency</td>\n",
       "    </tr>\n",
       "    <tr>\n",
       "      <th>8</th>\n",
       "      <td>DOID:824</td>\n",
       "      <td>Periodontitis</td>\n",
       "      <td>MONDO:0005076</td>\n",
       "      <td>periodontitis</td>\n",
       "    </tr>\n",
       "    <tr>\n",
       "      <th>9</th>\n",
       "      <td>DOID:9893</td>\n",
       "      <td>Periodontosis</td>\n",
       "      <td>MONDO:0005076</td>\n",
       "      <td>periodontitis</td>\n",
       "    </tr>\n",
       "    <tr>\n",
       "      <th>10</th>\n",
       "      <td>DOID:1575</td>\n",
       "      <td>Rheumatic disease</td>\n",
       "      <td>MONDO:0005554</td>\n",
       "      <td>Rheumatism</td>\n",
       "    </tr>\n",
       "    <tr>\n",
       "      <th>11</th>\n",
       "      <td>DOID:854</td>\n",
       "      <td>Collagen disease</td>\n",
       "      <td>MONDO:0005554</td>\n",
       "      <td>Rheumatism</td>\n",
       "    </tr>\n",
       "    <tr>\n",
       "      <th>12</th>\n",
       "      <td>DOID:1849</td>\n",
       "      <td>Cannabis dependence</td>\n",
       "      <td>MONDO:0005689</td>\n",
       "      <td>cannabis abuse</td>\n",
       "    </tr>\n",
       "    <tr>\n",
       "      <th>13</th>\n",
       "      <td>DOID:9505</td>\n",
       "      <td>Cannabis abuse</td>\n",
       "      <td>MONDO:0005689</td>\n",
       "      <td>cannabis abuse</td>\n",
       "    </tr>\n",
       "    <tr>\n",
       "      <th>16</th>\n",
       "      <td>DOID:11612</td>\n",
       "      <td>Polycystic ovary syndrome</td>\n",
       "      <td>MONDO:0008487</td>\n",
       "      <td>Androgen excess</td>\n",
       "    </tr>\n",
       "    <tr>\n",
       "      <th>17</th>\n",
       "      <td>DOID:11613</td>\n",
       "      <td>Hyperandrogenism</td>\n",
       "      <td>MONDO:0008487</td>\n",
       "      <td>Androgen excess</td>\n",
       "    </tr>\n",
       "    <tr>\n",
       "      <th>18</th>\n",
       "      <td>DOID:3852</td>\n",
       "      <td>Peutz-Jeghers syndrome</td>\n",
       "      <td>MONDO:0008501</td>\n",
       "      <td>Sturge-Weber syndrome</td>\n",
       "    </tr>\n",
       "    <tr>\n",
       "      <th>19</th>\n",
       "      <td>DOID:0111563</td>\n",
       "      <td>Sturge-Weber syndrome</td>\n",
       "      <td>MONDO:0008501</td>\n",
       "      <td>Sturge-Weber syndrome</td>\n",
       "    </tr>\n",
       "    <tr>\n",
       "      <th>20</th>\n",
       "      <td>DOID:14743</td>\n",
       "      <td>Trichorhinophalangeal syndrome type I</td>\n",
       "      <td>MONDO:0008596</td>\n",
       "      <td>trichorhinophalangeal syndrome type I</td>\n",
       "    </tr>\n",
       "    <tr>\n",
       "      <th>21</th>\n",
       "      <td>DOID:0080376</td>\n",
       "      <td>Trichorhinophalangeal syndrome type III</td>\n",
       "      <td>MONDO:0008596</td>\n",
       "      <td>trichorhinophalangeal syndrome type I</td>\n",
       "    </tr>\n",
       "    <tr>\n",
       "      <th>22</th>\n",
       "      <td>DOID:0060476</td>\n",
       "      <td>Perlman syndrome</td>\n",
       "      <td>MONDO:0009965</td>\n",
       "      <td>Perlman syndrome</td>\n",
       "    </tr>\n",
       "    <tr>\n",
       "      <th>23</th>\n",
       "      <td>DOID:5572</td>\n",
       "      <td>Beckwith-Wiedemann syndrome</td>\n",
       "      <td>MONDO:0009965</td>\n",
       "      <td>Perlman syndrome</td>\n",
       "    </tr>\n",
       "    <tr>\n",
       "      <th>24</th>\n",
       "      <td>DOID:13515</td>\n",
       "      <td>Tuberous sclerosis</td>\n",
       "      <td>MONDO:0010029</td>\n",
       "      <td>situs inversus</td>\n",
       "    </tr>\n",
       "    <tr>\n",
       "      <th>25</th>\n",
       "      <td>DOID:758</td>\n",
       "      <td>Situs inversus</td>\n",
       "      <td>MONDO:0010029</td>\n",
       "      <td>situs inversus</td>\n",
       "    </tr>\n",
       "    <tr>\n",
       "      <th>26</th>\n",
       "      <td>DOID:0081240</td>\n",
       "      <td>Peroxisome biogenesis disorder 1B</td>\n",
       "      <td>MONDO:0011101</td>\n",
       "      <td>peroxisome biogenesis disorder 1B</td>\n",
       "    </tr>\n",
       "    <tr>\n",
       "      <th>27</th>\n",
       "      <td>DOID:0050444</td>\n",
       "      <td>Infantile Refsum disease</td>\n",
       "      <td>MONDO:0011101</td>\n",
       "      <td>peroxisome biogenesis disorder 1B</td>\n",
       "    </tr>\n",
       "    <tr>\n",
       "      <th>28</th>\n",
       "      <td>DOID:8712</td>\n",
       "      <td>Neurofibromatosis</td>\n",
       "      <td>MONDO:0016755</td>\n",
       "      <td>neurofibroma</td>\n",
       "    </tr>\n",
       "    <tr>\n",
       "      <th>29</th>\n",
       "      <td>DOID:0060403</td>\n",
       "      <td>Chromosome 17q11.2 deletion syndrome</td>\n",
       "      <td>MONDO:0016755</td>\n",
       "      <td>neurofibroma</td>\n",
       "    </tr>\n",
       "    <tr>\n",
       "      <th>30</th>\n",
       "      <td>DOID:962</td>\n",
       "      <td>Neurofibroma</td>\n",
       "      <td>MONDO:0016755</td>\n",
       "      <td>neurofibroma</td>\n",
       "    </tr>\n",
       "  </tbody>\n",
       "</table>\n",
       "</div>"
      ],
      "text/plain": [
       "        input_id                               input_name    nodenorm_id  \\\n",
       "0   DOID:0080665                      Warfarin resistance  MONDO:0007390   \n",
       "1   DOID:0080666                     Warfarin sensitivity  MONDO:0007390   \n",
       "2   DOID:0050657        Bannayan-Riley-Ruvalcaba syndrome  MONDO:0016063   \n",
       "3      DOID:6457                          Cowden syndrome  MONDO:0016063   \n",
       "4   DOID:0060499                    Autoimmune neuropathy  MONDO:0000774   \n",
       "5   DOID:0040087         Autoimmune peripheral neuropathy  MONDO:0000774   \n",
       "6   DOID:0060025          Immunoglobulin alpha deficiency  MONDO:0001341   \n",
       "7     DOID:11701         Selective IgA deficiency disease  MONDO:0001341   \n",
       "8       DOID:824                            Periodontitis  MONDO:0005076   \n",
       "9      DOID:9893                            Periodontosis  MONDO:0005076   \n",
       "10     DOID:1575                        Rheumatic disease  MONDO:0005554   \n",
       "11      DOID:854                         Collagen disease  MONDO:0005554   \n",
       "12     DOID:1849                      Cannabis dependence  MONDO:0005689   \n",
       "13     DOID:9505                           Cannabis abuse  MONDO:0005689   \n",
       "16    DOID:11612                Polycystic ovary syndrome  MONDO:0008487   \n",
       "17    DOID:11613                         Hyperandrogenism  MONDO:0008487   \n",
       "18     DOID:3852                   Peutz-Jeghers syndrome  MONDO:0008501   \n",
       "19  DOID:0111563                    Sturge-Weber syndrome  MONDO:0008501   \n",
       "20    DOID:14743    Trichorhinophalangeal syndrome type I  MONDO:0008596   \n",
       "21  DOID:0080376  Trichorhinophalangeal syndrome type III  MONDO:0008596   \n",
       "22  DOID:0060476                         Perlman syndrome  MONDO:0009965   \n",
       "23     DOID:5572              Beckwith-Wiedemann syndrome  MONDO:0009965   \n",
       "24    DOID:13515                       Tuberous sclerosis  MONDO:0010029   \n",
       "25      DOID:758                           Situs inversus  MONDO:0010029   \n",
       "26  DOID:0081240        Peroxisome biogenesis disorder 1B  MONDO:0011101   \n",
       "27  DOID:0050444                 Infantile Refsum disease  MONDO:0011101   \n",
       "28     DOID:8712                        Neurofibromatosis  MONDO:0016755   \n",
       "29  DOID:0060403     Chromosome 17q11.2 deletion syndrome  MONDO:0016755   \n",
       "30      DOID:962                             Neurofibroma  MONDO:0016755   \n",
       "\n",
       "                            nodenorm_name  \n",
       "0                     coumarin resistance  \n",
       "1                     coumarin resistance  \n",
       "2                          Cowden disease  \n",
       "3                          Cowden disease  \n",
       "4                   autoimmune neuropathy  \n",
       "5                   autoimmune neuropathy  \n",
       "6                          IgA Deficiency  \n",
       "7                          IgA Deficiency  \n",
       "8                           periodontitis  \n",
       "9                           periodontitis  \n",
       "10                             Rheumatism  \n",
       "11                             Rheumatism  \n",
       "12                         cannabis abuse  \n",
       "13                         cannabis abuse  \n",
       "16                        Androgen excess  \n",
       "17                        Androgen excess  \n",
       "18                  Sturge-Weber syndrome  \n",
       "19                  Sturge-Weber syndrome  \n",
       "20  trichorhinophalangeal syndrome type I  \n",
       "21  trichorhinophalangeal syndrome type I  \n",
       "22                       Perlman syndrome  \n",
       "23                       Perlman syndrome  \n",
       "24                         situs inversus  \n",
       "25                         situs inversus  \n",
       "26      peroxisome biogenesis disorder 1B  \n",
       "27      peroxisome biogenesis disorder 1B  \n",
       "28                           neurofibroma  \n",
       "29                           neurofibroma  \n",
       "30                           neurofibroma  "
      ]
     },
     "execution_count": 117,
     "metadata": {},
     "output_type": "execute_result"
    }
   ],
   "source": [
    "diseases_dups_final = pd.concat(\n",
    "    [diseases_dups_kw, diseases_dups_tm], \n",
    "    axis=0, \n",
    "    ignore_index=True).drop_duplicates()\n",
    "\n",
    "diseases_dups_final.columns = [\"input_id\", \"input_name\", \n",
    "                               \"nodenorm_id\", \"nodenorm_name\"]\n",
    "\n",
    "diseases_dups_final.shape\n",
    "diseases_dups_final[\"nodenorm_id\"].nunique()\n",
    "diseases_dups_final\n",
    "\n",
    "\n",
    "\n",
    "## file path\n",
    "output_base_path = pathlib.Path.home().joinpath(\"Desktop\", \"DISEASES_files\")\n",
    "diseases_output_path = output_base_path.joinpath(\"disease_nodenorm_dups.txt\")\n",
    "\n",
    "\n",
    "\n",
    "diseases_dups_final.to_csv(diseases_output_path, sep=\"\\t\")"
   ]
  },
  {
   "cell_type": "code",
   "execution_count": 118,
   "id": "777b9dc9",
   "metadata": {
    "ExecuteTime": {
     "end_time": "2025-07-14T20:21:24.108622Z",
     "start_time": "2025-07-14T20:21:24.088592Z"
    }
   },
   "outputs": [
    {
     "data": {
      "text/plain": [
       "(104, 4)"
      ]
     },
     "execution_count": 118,
     "metadata": {},
     "output_type": "execute_result"
    },
    {
     "data": {
      "text/plain": [
       "35"
      ]
     },
     "execution_count": 118,
     "metadata": {},
     "output_type": "execute_result"
    },
    {
     "data": {
      "text/html": [
       "<div>\n",
       "<style scoped>\n",
       "    .dataframe tbody tr th:only-of-type {\n",
       "        vertical-align: middle;\n",
       "    }\n",
       "\n",
       "    .dataframe tbody tr th {\n",
       "        vertical-align: top;\n",
       "    }\n",
       "\n",
       "    .dataframe thead th {\n",
       "        text-align: right;\n",
       "    }\n",
       "</style>\n",
       "<table border=\"1\" class=\"dataframe\">\n",
       "  <thead>\n",
       "    <tr style=\"text-align: right;\">\n",
       "      <th></th>\n",
       "      <th>input_id</th>\n",
       "      <th>input_name</th>\n",
       "      <th>nodenorm_id</th>\n",
       "      <th>nodenorm_name</th>\n",
       "    </tr>\n",
       "  </thead>\n",
       "  <tbody>\n",
       "    <tr>\n",
       "      <th>0</th>\n",
       "      <td>ENSEMBL:ENSP00000370083</td>\n",
       "      <td>SMN1</td>\n",
       "      <td>UniProtKB:Q16637-1</td>\n",
       "      <td>survival motor neuron protein isoform 1 (human)</td>\n",
       "    </tr>\n",
       "    <tr>\n",
       "      <th>1</th>\n",
       "      <td>ENSEMBL:ENSP00000370119</td>\n",
       "      <td>SMN2</td>\n",
       "      <td>UniProtKB:Q16637-1</td>\n",
       "      <td>survival motor neuron protein isoform 1 (human)</td>\n",
       "    </tr>\n",
       "    <tr>\n",
       "      <th>2</th>\n",
       "      <td>ENSEMBL:ENSP00000251595</td>\n",
       "      <td>HBA2</td>\n",
       "      <td>UniProtKB:P69905</td>\n",
       "      <td>HBA_HUMAN Hemoglobin subunit alpha (sprot)</td>\n",
       "    </tr>\n",
       "    <tr>\n",
       "      <th>3</th>\n",
       "      <td>ENSEMBL:ENSP00000322421</td>\n",
       "      <td>HBA1</td>\n",
       "      <td>UniProtKB:P69905</td>\n",
       "      <td>HBA_HUMAN Hemoglobin subunit alpha (sprot)</td>\n",
       "    </tr>\n",
       "    <tr>\n",
       "      <th>6</th>\n",
       "      <td>ENSEMBL:ENSP00000334330</td>\n",
       "      <td>DEFB105A</td>\n",
       "      <td>UniProtKB:Q8NG35</td>\n",
       "      <td>D105A_HUMAN Beta-defensin 105 (sprot)</td>\n",
       "    </tr>\n",
       "    <tr>\n",
       "      <th>...</th>\n",
       "      <td>...</td>\n",
       "      <td>...</td>\n",
       "      <td>...</td>\n",
       "      <td>...</td>\n",
       "    </tr>\n",
       "    <tr>\n",
       "      <th>103</th>\n",
       "      <td>ENSEMBL:ENSP00000329982</td>\n",
       "      <td>OR4F16</td>\n",
       "      <td>UniProtKB:Q6IEY1</td>\n",
       "      <td>OR4F3_HUMAN Olfactory receptor 4F3/4F16/4F29 (...</td>\n",
       "    </tr>\n",
       "    <tr>\n",
       "      <th>104</th>\n",
       "      <td>ENSEMBL:ENSP00000394282</td>\n",
       "      <td>OR4F3</td>\n",
       "      <td>UniProtKB:Q6IEY1</td>\n",
       "      <td>OR4F3_HUMAN Olfactory receptor 4F3/4F16/4F29 (...</td>\n",
       "    </tr>\n",
       "    <tr>\n",
       "      <th>105</th>\n",
       "      <td>ENSEMBL:ENSP00000409316</td>\n",
       "      <td>OR4F29</td>\n",
       "      <td>UniProtKB:Q6IEY1</td>\n",
       "      <td>OR4F3_HUMAN Olfactory receptor 4F3/4F16/4F29 (...</td>\n",
       "    </tr>\n",
       "    <tr>\n",
       "      <th>106</th>\n",
       "      <td>ENSEMBL:ENSP00000016946</td>\n",
       "      <td>RGPD5</td>\n",
       "      <td>UniProtKB:Q99666-1</td>\n",
       "      <td>RANBP2-like and GRIP domain-containing protein...</td>\n",
       "    </tr>\n",
       "    <tr>\n",
       "      <th>107</th>\n",
       "      <td>ENSEMBL:ENSP00000330842</td>\n",
       "      <td>RGPD6</td>\n",
       "      <td>UniProtKB:Q99666-1</td>\n",
       "      <td>RANBP2-like and GRIP domain-containing protein...</td>\n",
       "    </tr>\n",
       "  </tbody>\n",
       "</table>\n",
       "<p>104 rows × 4 columns</p>\n",
       "</div>"
      ],
      "text/plain": [
       "                    input_id input_name         nodenorm_id  \\\n",
       "0    ENSEMBL:ENSP00000370083       SMN1  UniProtKB:Q16637-1   \n",
       "1    ENSEMBL:ENSP00000370119       SMN2  UniProtKB:Q16637-1   \n",
       "2    ENSEMBL:ENSP00000251595       HBA2    UniProtKB:P69905   \n",
       "3    ENSEMBL:ENSP00000322421       HBA1    UniProtKB:P69905   \n",
       "6    ENSEMBL:ENSP00000334330   DEFB105A    UniProtKB:Q8NG35   \n",
       "..                       ...        ...                 ...   \n",
       "103  ENSEMBL:ENSP00000329982     OR4F16    UniProtKB:Q6IEY1   \n",
       "104  ENSEMBL:ENSP00000394282      OR4F3    UniProtKB:Q6IEY1   \n",
       "105  ENSEMBL:ENSP00000409316     OR4F29    UniProtKB:Q6IEY1   \n",
       "106  ENSEMBL:ENSP00000016946      RGPD5  UniProtKB:Q99666-1   \n",
       "107  ENSEMBL:ENSP00000330842      RGPD6  UniProtKB:Q99666-1   \n",
       "\n",
       "                                         nodenorm_name  \n",
       "0      survival motor neuron protein isoform 1 (human)  \n",
       "1      survival motor neuron protein isoform 1 (human)  \n",
       "2           HBA_HUMAN Hemoglobin subunit alpha (sprot)  \n",
       "3           HBA_HUMAN Hemoglobin subunit alpha (sprot)  \n",
       "6                D105A_HUMAN Beta-defensin 105 (sprot)  \n",
       "..                                                 ...  \n",
       "103  OR4F3_HUMAN Olfactory receptor 4F3/4F16/4F29 (...  \n",
       "104  OR4F3_HUMAN Olfactory receptor 4F3/4F16/4F29 (...  \n",
       "105  OR4F3_HUMAN Olfactory receptor 4F3/4F16/4F29 (...  \n",
       "106  RANBP2-like and GRIP domain-containing protein...  \n",
       "107  RANBP2-like and GRIP domain-containing protein...  \n",
       "\n",
       "[104 rows x 4 columns]"
      ]
     },
     "execution_count": 118,
     "metadata": {},
     "output_type": "execute_result"
    }
   ],
   "source": [
    "genes_dups_final = pd.concat(\n",
    "    [genes_dups_kw, genes_dups_tm], \n",
    "    axis=0, \n",
    "    ignore_index=True).drop_duplicates()\n",
    "\n",
    "genes_dups_final.columns = [\"input_id\", \"input_name\", \n",
    "                               \"nodenorm_id\", \"nodenorm_name\"]\n",
    "\n",
    "genes_dups_final.shape\n",
    "genes_dups_final[\"nodenorm_id\"].nunique()\n",
    "genes_dups_final\n",
    "\n",
    "## file path\n",
    "output_base_path = pathlib.Path.home().joinpath(\"Desktop\", \"DISEASES_files\")\n",
    "genes_output_path = output_base_path.joinpath(\"gene_nodenorm_dups.txt\")\n",
    "\n",
    "\n",
    "\n",
    "genes_dups_final.to_csv(genes_output_path, sep=\"\\t\")"
   ]
  },
  {
   "cell_type": "markdown",
   "id": "38ebbe59",
   "metadata": {},
   "source": [
    "## Generating documents"
   ]
  },
  {
   "cell_type": "code",
   "execution_count": null,
   "id": "789f3c0c",
   "metadata": {
    "ExecuteTime": {
     "end_time": "2025-05-06T06:42:51.740094Z",
     "start_time": "2025-05-06T06:42:51.674242Z"
    }
   },
   "outputs": [],
   "source": [
    "## put in parser!!\n",
    "## want jsonlines format\n",
    "\n",
    "import jsonlines"
   ]
  },
  {
   "cell_type": "markdown",
   "id": "9f01e8af",
   "metadata": {},
   "source": [
    "### Rows not included"
   ]
  },
  {
   "cell_type": "markdown",
   "id": "73e93ccc",
   "metadata": {},
   "source": [
    "<div class=\"alert alert-block alert-info\">\n",
    "\n",
    "* knowledge's UniProtKB-KW data\n",
    "* No ENSP in gene_id columns (seemed to be names, couldn't NodeNorm)\n",
    "* No DOID in disease_id columns (can't NodeNorm AmyCo)\n",
    "* NodeNorm mapping failures for gene or disease IDs\n",
    "* duplicates: will check when generating docs, not create if already did"
   ]
  },
  {
   "cell_type": "markdown",
   "id": "79ebea07",
   "metadata": {},
   "source": [
    "### Columns not included"
   ]
  },
  {
   "cell_type": "markdown",
   "id": "c0c7b27e",
   "metadata": {},
   "source": [
    "<div class=\"alert alert-block alert-info\">\n",
    "\n",
    "- gene_name\n",
    "- disease_name\n",
    "- evidence_type: same for all rows, not needed"
   ]
  },
  {
   "cell_type": "code",
   "execution_count": null,
   "id": "f314f25d",
   "metadata": {
    "ExecuteTime": {
     "end_time": "2025-05-06T06:42:39.673524Z",
     "start_time": "2025-05-06T06:42:39.667482Z"
    }
   },
   "outputs": [],
   "source": [
    "df_textmining.columns\n",
    "\n",
    "df_knowledge.columns"
   ]
  },
  {
   "cell_type": "markdown",
   "id": "49145525",
   "metadata": {},
   "source": [
    "### File: List of TRAPI edges "
   ]
  },
  {
   "cell_type": "code",
   "execution_count": null,
   "id": "1bea6afb",
   "metadata": {
    "ExecuteTime": {
     "end_time": "2025-05-06T06:43:59.887408Z",
     "start_time": "2025-05-06T06:43:59.860528Z"
    }
   },
   "outputs": [],
   "source": [
    "## code chunk for testing parts of inner code\n",
    "\n",
    "with jsonlines.open('DISEASES_trapi_edges.jsonl', mode='w', compact=True) as trapi_writer:\n",
    "    knowledge_tally = set()\n",
    "    \n",
    "    ## using itertuples because it's faster, preserves datatypes\n",
    "    for row in df_knowledge.itertuples(index=False):\n",
    "        ## construct row abbreviation: needs source_db!\n",
    "        temp = row.gene_id + \"_\" + row.disease_id + \"_\" + row.source_db\n",
    "        \n",
    "        if temp not in knowledge_tally:\n",
    "            knowledge_tally.add(temp)\n",
    "\n",
    "            document = {\n",
    "                ## simple assignments: no if\n",
    "                \"subject\": row.gene_nodenorm_id,\n",
    "                \"predicate\": \"biolink:genetically_associated_with\",\n",
    "                \"object\": row.disease_nodenorm_id,\n",
    "                \"attributes\": [\n",
    "                    {\n",
    "                        \"attribute_type_id\": \"biolink:knowledge_level\",\n",
    "                        \"value\": \"knowledge_assertion\"\n",
    "                    },\n",
    "                    {\n",
    "                        \"attribute_type_id\": \"biolink:agent_type\",\n",
    "                        \"value\": \"manual_agent\"\n",
    "                    },\n",
    "                    {   ## needs data-modeling/TRAPI validation review\n",
    "                        \"attribute_type_id\": \"SEPIO:0000168\",\n",
    "                        \"value\": row.confidence_score\n",
    "                    },\n",
    "                    {\n",
    "                        \"attribute_type_id\": \"biolink:original_subject\",\n",
    "                        \"original_attribute_name\": \"gene_id\",  ## original column name\n",
    "                        \"value\": row.gene_id\n",
    "                    },\n",
    "                    {\n",
    "                        \"attribute_type_id\": \"biolink:original_object\",\n",
    "                        \"original_attribute_name\": \"disease_id\",  ## original column name\n",
    "                        \"value\": row.disease_id\n",
    "                    },\n",
    "                ]\n",
    "            }\n",
    "            ## sources: depends on source_db value\n",
    "            if row.source_db == \"MedlinePlus\":\n",
    "                document[\"sources\"] = [\n",
    "                    {\n",
    "                        \"resource_id\": \"infores:medlineplus\",\n",
    "                        \"resource_role\": \"primary_knowledge_source\"\n",
    "                    },\n",
    "                    {\n",
    "                        \"resource_id\": \"infores:diseases\",\n",
    "                        \"resource_role\": \"aggregator_knowledge_source\",\n",
    "                        \"upstream_resource_ids\": [\"infores:medlineplus\"]\n",
    "                    }\n",
    "                ]\n",
    "            elif row.source_db == \"AmyCo\":\n",
    "                document[\"sources\"] = [\n",
    "                    {   ## not in infores registry yet!\n",
    "                        \"resource_id\": \"infores:amyco\",\n",
    "                        \"resource_role\": \"primary_knowledge_source\"\n",
    "                    },\n",
    "                    {\n",
    "                        \"resource_id\": \"infores:diseases\",\n",
    "                        \"resource_role\": \"aggregator_knowledge_source\",\n",
    "                        \"upstream_resource_ids\": [\"infores:amyco\"]\n",
    "                    }\n",
    "                ]\n",
    "            else:\n",
    "                raise ValueError(f\"Unexpected source_db value during source mapping: {row.source_db}. Adjust parser.\")\n",
    "            \n",
    "            ## doing so it doesn't print\n",
    "            bytes = trapi_writer.write(document)\n",
    "        else:\n",
    "            ## won't write the document\n",
    "            print(f\"duplicate row encountered: {temp}\")\n",
    "            break"
   ]
  },
  {
   "cell_type": "code",
   "execution_count": null,
   "id": "4692267d",
   "metadata": {
    "ExecuteTime": {
     "end_time": "2025-05-06T06:44:35.789286Z",
     "start_time": "2025-05-06T06:44:29.854100Z"
    }
   },
   "outputs": [],
   "source": [
    "## put into parser (format): \n",
    "## separate functions for textmined vs not, trapi edges vs kgx??\n",
    "## will want the tally to live outside the reading data -> writing loop, so it can\n",
    "##   keep track of what edges were already done\n",
    "\n",
    "## if needed to create two diff output file formats at same time, could initiate\n",
    "##   to separate writers and use both at once \n",
    "\n",
    "\n",
    "with jsonlines.open('DISEASES_trapi_edges.jsonl', mode='w', compact=True) as trapi_writer:\n",
    "    \n",
    "## text-mined data: \n",
    "    textmining_tally = set()\n",
    "    \n",
    "    ## using itertuples because it's faster, preserves datatypes\n",
    "    for row in df_textmining.itertuples(index=False):\n",
    "        ## construct row abbreviation\n",
    "        temp = row.gene_id + \"_\" + row.disease_id\n",
    "        \n",
    "        if temp not in textmining_tally:\n",
    "            textmining_tally.add(temp)\n",
    "\n",
    "            document = {\n",
    "                \"subject\": row.gene_nodenorm_id,\n",
    "                \"predicate\": \"biolink:occurs_together_in_literature_with\",\n",
    "                \"object\": row.disease_nodenorm_id,\n",
    "                \"sources\": [\n",
    "                    {\n",
    "                        \"resource_id\": \"infores:diseases\",\n",
    "                        \"resource_role\": \"primary_knowledge_source\",\n",
    "                        \"source_record_urls\": [row.url]\n",
    "                    }\n",
    "                ],\n",
    "                \"attributes\": [\n",
    "                    {\n",
    "                        \"attribute_type_id\": \"biolink:knowledge_level\",\n",
    "                        \"value\": \"statistical_association\"\n",
    "                    },\n",
    "                    {\n",
    "                        \"attribute_type_id\": \"biolink:agent_type\",\n",
    "                        \"value\": \"text_mining_agent\"\n",
    "                    },\n",
    "                    {   ## needs data-modeling/TRAPI validation review\n",
    "                        \"attribute_type_id\": \"STATO:0000104\",\n",
    "                        \"value\": row.z_score\n",
    "                    },\n",
    "                    {   ## needs data-modeling/TRAPI validation review\n",
    "                        \"attribute_type_id\": \"SEPIO:0000168\",\n",
    "                        \"value\": row.confidence_score\n",
    "                    },\n",
    "                    {\n",
    "                        \"attribute_type_id\": \"biolink:original_subject\",\n",
    "                        \"original_attribute_name\": \"gene_id\",  ## original column name\n",
    "                        \"value\": row.gene_id\n",
    "                    },\n",
    "                    {\n",
    "                        \"attribute_type_id\": \"biolink:original_object\",\n",
    "                        \"original_attribute_name\": \"disease_id\",  ## original column name\n",
    "                        \"value\": row.disease_id\n",
    "                    },\n",
    "                ]\n",
    "            }\n",
    "            ## doing so it doesn't print\n",
    "            bytes = trapi_writer.write(document)\n",
    "        else:\n",
    "            ## won't write the document\n",
    "            print(f\"duplicate row encountered: {temp}\")\n",
    "\n",
    "## knowledge data: parser - separate function (diff row abbreviation, document)\n",
    "    knowledge_tally = set()\n",
    "    \n",
    "    ## using itertuples because it's faster, preserves datatypes\n",
    "    for row in df_knowledge.itertuples(index=False):\n",
    "        ## construct row abbreviation: needs source_db!\n",
    "        temp = row.gene_id + \"_\" + row.disease_id + \"_\" + row.source_db\n",
    "        \n",
    "        if temp not in knowledge_tally:\n",
    "            knowledge_tally.add(temp)\n",
    "\n",
    "            document = {\n",
    "                ## simple assignments: no if\n",
    "                \"subject\": row.gene_nodenorm_id,\n",
    "                \"predicate\": \"biolink:genetically_associated_with\",\n",
    "                \"object\": row.disease_nodenorm_id,\n",
    "                \"attributes\": [\n",
    "                    {\n",
    "                        \"attribute_type_id\": \"biolink:knowledge_level\",\n",
    "                        \"value\": \"knowledge_assertion\"\n",
    "                    },\n",
    "                    {\n",
    "                        \"attribute_type_id\": \"biolink:agent_type\",\n",
    "                        \"value\": \"manual_agent\"\n",
    "                    },\n",
    "                    {   ## needs data-modeling/TRAPI validation review\n",
    "                        \"attribute_type_id\": \"SEPIO:0000168\",\n",
    "                        \"value\": row.confidence_score\n",
    "                    },\n",
    "                    {\n",
    "                        \"attribute_type_id\": \"biolink:original_subject\",\n",
    "                        \"original_attribute_name\": \"gene_id\",  ## original column name\n",
    "                        \"value\": row.gene_id\n",
    "                    },\n",
    "                    {\n",
    "                        \"attribute_type_id\": \"biolink:original_object\",\n",
    "                        \"original_attribute_name\": \"disease_id\",  ## original column name\n",
    "                        \"value\": row.disease_id\n",
    "                    },\n",
    "                ]\n",
    "            }\n",
    "            ## sources: depends on source_db value\n",
    "            if row.source_db == \"MedlinePlus\":\n",
    "                document[\"sources\"] = [\n",
    "                    {\n",
    "                        \"resource_id\": \"infores:medlineplus\",\n",
    "                        \"resource_role\": \"primary_knowledge_source\"\n",
    "                    },\n",
    "                    {\n",
    "                        \"resource_id\": \"infores:diseases\",\n",
    "                        \"resource_role\": \"aggregator_knowledge_source\",\n",
    "                        \"upstream_resource_ids\": [\"infores:medlineplus\"]\n",
    "                    }\n",
    "                ]\n",
    "            elif row.source_db == \"AmyCo\":\n",
    "                document[\"sources\"] = [\n",
    "                    {   ## not in infores registry yet!\n",
    "                        \"resource_id\": \"infores:amyco\",\n",
    "                        \"resource_role\": \"primary_knowledge_source\"\n",
    "                    },\n",
    "                    {\n",
    "                        \"resource_id\": \"infores:diseases\",\n",
    "                        \"resource_role\": \"aggregator_knowledge_source\",\n",
    "                        \"upstream_resource_ids\": [\"infores:amyco\"]\n",
    "                    }\n",
    "                ]\n",
    "            else:\n",
    "                raise ValueError(f\"Unexpected source_db value during source mapping: {row.source_db}. Adjust parser.\")\n",
    "            ## doing so it doesn't print\n",
    "            bytes = trapi_writer.write(document)\n",
    "        else:\n",
    "            ## won't write the document\n",
    "            print(f\"duplicate row encountered: {temp}\")"
   ]
  },
  {
   "cell_type": "code",
   "execution_count": null,
   "id": "1f67b647",
   "metadata": {
    "ExecuteTime": {
     "end_time": "2025-05-06T06:44:45.119641Z",
     "start_time": "2025-05-06T06:44:45.102784Z"
    }
   },
   "outputs": [],
   "source": [
    "df_knowledge[df_knowledge.duplicated(subset=[\"gene_id\", \"disease_id\", \"source_db\"], keep=False)]"
   ]
  },
  {
   "cell_type": "code",
   "execution_count": null,
   "id": "ded0e92c",
   "metadata": {
    "ExecuteTime": {
     "end_time": "2025-05-06T06:44:49.121680Z",
     "start_time": "2025-05-06T06:44:49.117823Z"
    }
   },
   "outputs": [],
   "source": [
    "## number of docs that should be created\n",
    "df_textmining.shape[0] + df_knowledge.shape[0] - 5  ## add together, remove duplicates"
   ]
  },
  {
   "cell_type": "markdown",
   "id": "70cea85c",
   "metadata": {},
   "source": [
    "### File: KGX edges"
   ]
  },
  {
   "cell_type": "code",
   "execution_count": null,
   "id": "c9fcd128",
   "metadata": {
    "ExecuteTime": {
     "end_time": "2025-05-06T06:45:06.033682Z",
     "start_time": "2025-05-06T06:45:06.018672Z"
    }
   },
   "outputs": [],
   "source": [
    "df_textmining"
   ]
  },
  {
   "cell_type": "code",
   "execution_count": null,
   "id": "b96bc85f",
   "metadata": {
    "ExecuteTime": {
     "end_time": "2025-05-06T06:45:13.076600Z",
     "start_time": "2025-05-06T06:45:13.046773Z"
    }
   },
   "outputs": [],
   "source": [
    "## code chunk for testing parts of inner code\n",
    "\n",
    "with jsonlines.open('DISEASES_kgx_edges.jsonl', mode='w', compact=True) as kgx_edges_writer:\n",
    "    textmining_tally = set()\n",
    "    \n",
    "    ## using itertuples because it's faster, preserves datatypes\n",
    "    for row in df_textmining.itertuples(index=False):\n",
    "        ## construct row abbreviation\n",
    "        temp = row.gene_id + \"_\" + row.disease_id\n",
    "        \n",
    "        if temp not in textmining_tally:\n",
    "            textmining_tally.add(temp)\n",
    "\n",
    "            document = {\n",
    "                \"subject\": row.gene_nodenorm_id,\n",
    "                \"predicate\": \"biolink:occurs_together_in_literature_with\",\n",
    "                \"object\": row.disease_nodenorm_id,\n",
    "                \"primary_knowledge_source\": \"infores:diseases\",\n",
    "                ## taken from Sierra. This should be disease source's source_record_urls\n",
    "                \"pks_record_urls\": [row.url],  \n",
    "                \"knowledge_level\": \"statistical_association\",\n",
    "                \"agent_type\": \"text_mining_agent\",\n",
    "                \"STATO:0000104\": row.z_score,  ## needs data-modeling/TRAPI validation review\n",
    "                \"SEPIO:0000168\": row.confidence_score,  ## needs data-modeling/TRAPI validation review\n",
    "                \"original_subject\": row.gene_id,\n",
    "                \"original_object\": row.disease_id,\n",
    "            }\n",
    "            ## doing so it doesn't print\n",
    "            bytes = kgx_edges_writer.write(document)\n",
    "        else:\n",
    "            ## won't write the document\n",
    "            print(f\"duplicate row encountered: {temp}\")\n",
    "        \n",
    "        if row.gene_id == \"ENSEMBL:ENSP00000000412\":\n",
    "            break    "
   ]
  },
  {
   "cell_type": "code",
   "execution_count": null,
   "id": "596dfc38",
   "metadata": {
    "ExecuteTime": {
     "end_time": "2025-05-06T06:45:23.872356Z",
     "start_time": "2025-05-06T06:45:20.039483Z"
    }
   },
   "outputs": [],
   "source": [
    "\n",
    "\n",
    "with jsonlines.open('DISEASES_kgx_edges.jsonl', mode='w', compact=True) as kgx_edges_writer:\n",
    "    \n",
    "## text-mined data: parser - separate function (diff row abbreviation, document)\n",
    "    textmining_tally = set()\n",
    "    \n",
    "    ## using itertuples because it's faster, preserves datatypes\n",
    "    for row in df_textmining.itertuples(index=False):\n",
    "        ## construct row abbreviation\n",
    "        temp = row.gene_id + \"_\" + row.disease_id\n",
    "        \n",
    "        if temp not in textmining_tally:\n",
    "            textmining_tally.add(temp)\n",
    "\n",
    "            document = {\n",
    "                \"subject\": row.gene_nodenorm_id,\n",
    "                \"predicate\": \"biolink:occurs_together_in_literature_with\",\n",
    "                \"object\": row.disease_nodenorm_id,\n",
    "                \"primary_knowledge_source\": \"infores:diseases\",\n",
    "                ## taken from Sierra. This should be disease source's source_record_urls\n",
    "                \"pks_record_urls\": [row.url],  \n",
    "                \"knowledge_level\": \"statistical_association\",\n",
    "                \"agent_type\": \"text_mining_agent\",\n",
    "                \"STATO:0000104\": row.z_score,  ## needs data-modeling/TRAPI validation review\n",
    "                \"SEPIO:0000168\": row.confidence_score,  ## needs data-modeling/TRAPI validation review\n",
    "                \"original_subject\": row.gene_id,\n",
    "                \"original_object\": row.disease_id,\n",
    "            }\n",
    "            ## doing so it doesn't print\n",
    "            bytes = kgx_edges_writer.write(document)\n",
    "        else:\n",
    "            ## won't write the document\n",
    "            print(f\"duplicate row encountered: {temp}\")\n",
    "\n",
    "## knowledge data: parser - separate function (diff row abbreviation, document)\n",
    "    knowledge_tally = set()\n",
    "    \n",
    "    ## using itertuples because it's faster, preserves datatypes\n",
    "    for row in df_knowledge.itertuples(index=False):\n",
    "        ## construct row abbreviation: needs source_db!\n",
    "        temp = row.gene_id + \"_\" + row.disease_id + \"_\" + row.source_db\n",
    "        \n",
    "        if temp not in knowledge_tally:\n",
    "            knowledge_tally.add(temp)\n",
    "\n",
    "            document = {\n",
    "                ## simple assignments: no if\n",
    "                \"subject\": row.gene_nodenorm_id,\n",
    "                \"predicate\": \"biolink:genetically_associated_with\",\n",
    "                \"object\": row.disease_nodenorm_id,\n",
    "                \"knowledge_level\": \"knowledge_assertion\",\n",
    "                \"agent_type\": \"manual_agent\",\n",
    "                \"SEPIO:0000168\": row.confidence_score,  ## needs data-modeling/TRAPI validation review\n",
    "                \"original_subject\": row.gene_id,\n",
    "                \"original_object\": row.disease_id,\n",
    "            }\n",
    "            ## sources: depends on source_db value\n",
    "            if row.source_db == \"MedlinePlus\":\n",
    "                document[\"primary_knowledge_source\"] = \"infores:medlineplus\"\n",
    "                document[\"aggregator_knowledge_source\"] = \"infores:diseases\"\n",
    "            elif row.source_db == \"AmyCo\":\n",
    "                 ## not in infores registry yet!\n",
    "                document[\"primary_knowledge_source\"] = \"infores:amyco\"\n",
    "                document[\"aggregator_knowledge_source\"] = \"infores:diseases\"                \n",
    "            else:\n",
    "                raise ValueError(f\"Unexpected source_db value during source mapping: {row.source_db}. Adjust parser.\")\n",
    "            ## doing so it doesn't print\n",
    "            bytes = kgx_edges_writer.write(document)\n",
    "        else:\n",
    "            ## won't write the document\n",
    "            print(f\"duplicate row encountered: {temp}\")"
   ]
  },
  {
   "cell_type": "markdown",
   "id": "1b6ee739",
   "metadata": {},
   "source": [
    "### File: KGX nodes"
   ]
  },
  {
   "cell_type": "markdown",
   "id": "d81173fd",
   "metadata": {},
   "source": [
    "Requires id and category. name and other properties (basically node attributes) are optional. "
   ]
  },
  {
   "cell_type": "code",
   "execution_count": null,
   "id": "f282dfea",
   "metadata": {
    "ExecuteTime": {
     "end_time": "2025-05-06T06:47:54.056538Z",
     "start_time": "2025-05-06T06:47:53.820898Z"
    }
   },
   "outputs": [],
   "source": [
    "## get unique list of NodeNormed nodes\n",
    "\n",
    "## need category \n",
    "nodenormed_genes_final = pd.concat([df_textmining[[\"gene_nodenorm_id\", \"gene_nodenorm_label\", \"gene_nodenorm_category\"]], \n",
    "                         df_knowledge[[\"gene_nodenorm_id\", \"gene_nodenorm_label\", \"gene_nodenorm_category\"]]], \n",
    "                        ignore_index=True).drop_duplicates()\n",
    "nodenormed_diseases_final = pd.concat([df_textmining[[\"disease_nodenorm_id\", \"disease_nodenorm_label\"]], \n",
    "                            df_knowledge[[\"disease_nodenorm_id\", \"disease_nodenorm_label\"]]], \n",
    "                           ignore_index=True).drop_duplicates()\n",
    "\n",
    "nodenormed_genes_final\n",
    "## vs len mapping 16477\n",
    "nodenormed_diseases_final\n",
    "## vs len mapping 5641"
   ]
  },
  {
   "cell_type": "code",
   "execution_count": null,
   "id": "a225b747",
   "metadata": {
    "ExecuteTime": {
     "end_time": "2025-05-06T06:46:45.388290Z",
     "start_time": "2025-05-06T06:46:45.256016Z"
    }
   },
   "outputs": [],
   "source": [
    "\n",
    "\n",
    "with jsonlines.open('DISEASES_kgx_nodes.jsonl', mode='w', compact=True) as kgx_nodes_writer:\n",
    "    \n",
    "    ## using itertuples because it's faster, preserves datatypes\n",
    "    for row in nodenormed_genes_final.itertuples(index=False):\n",
    "        ## doing so it doesn't print\n",
    "        bytes = kgx_nodes_writer.write({\n",
    "            \"id\": row.gene_nodenorm_id,\n",
    "            \"name\": row.gene_nodenorm_label,\n",
    "            \"category\": [row.gene_nodenorm_category]\n",
    "        })\n",
    "\n",
    "    ## using itertuples because it's faster, preserves datatypes\n",
    "    for row in nodenormed_diseases_final.itertuples(index=False):\n",
    "        ## doing so it doesn't print\n",
    "        bytes = kgx_nodes_writer.write({\n",
    "            \"id\": row.disease_nodenorm_id,\n",
    "            \"name\": row.disease_nodenorm_label,\n",
    "            ## hard-coded because during pre-NodeNorm process, only kept entities with this primary category\n",
    "            \"category\": [\"biolink:Disease\"]\n",
    "        })"
   ]
  },
  {
   "cell_type": "code",
   "execution_count": null,
   "id": "03295bae",
   "metadata": {
    "ExecuteTime": {
     "end_time": "2025-05-06T06:47:58.502980Z",
     "start_time": "2025-05-06T06:47:58.498802Z"
    }
   },
   "outputs": [],
   "source": [
    "nodenormed_genes_final.shape[0] + nodenormed_diseases_final.shape[0]"
   ]
  },
  {
   "cell_type": "markdown",
   "id": "c3fb5da8",
   "metadata": {},
   "source": [
    "## Notes"
   ]
  },
  {
   "cell_type": "markdown",
   "id": "8ebfd610",
   "metadata": {},
   "source": [
    "* KGX version is missing original_attribute_name, upstream_resource_ids\n",
    "* __uses infores:amyco, which isn't in infores catalog release yet__ \n",
    "* __will create edges that look like duplicates because triple is the same, but the original IDs/data is diff. Just leaving it this way for now -> but will need to consider what to do (possible to merge??).__\n",
    "* confidence_score is sometimes float (from text-mining) and sometimes int (from knowledge). Not worried about, for now. "
   ]
  },
  {
   "cell_type": "code",
   "execution_count": null,
   "id": "2d34c282",
   "metadata": {},
   "outputs": [],
   "source": []
  }
 ],
 "metadata": {
  "kernelspec": {
   "display_name": "Python 3 (ipykernel)",
   "language": "python",
   "name": "python3"
  },
  "language_info": {
   "codemirror_mode": {
    "name": "ipython",
    "version": 3
   },
   "file_extension": ".py",
   "mimetype": "text/x-python",
   "name": "python",
   "nbconvert_exporter": "python",
   "pygments_lexer": "ipython3",
   "version": "3.12.9"
  },
  "toc": {
   "base_numbering": 1,
   "nav_menu": {},
   "number_sections": false,
   "sideBar": true,
   "skip_h1_title": true,
   "title_cell": "Table of Contents",
   "title_sidebar": "Contents",
   "toc_cell": true,
   "toc_position": {
    "height": "calc(100% - 180px)",
    "left": "10px",
    "top": "150px",
    "width": "258.15px"
   },
   "toc_section_display": true,
   "toc_window_display": false
  }
 },
 "nbformat": 4,
 "nbformat_minor": 5
}
