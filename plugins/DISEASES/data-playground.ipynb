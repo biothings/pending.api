{
 "cells": [
  {
   "cell_type": "markdown",
   "id": "f18ee197",
   "metadata": {},
   "source": [
    "# Exploring DISEASES data for parser"
   ]
  },
  {
   "cell_type": "markdown",
   "id": "379c23eb",
   "metadata": {},
   "source": [
    "For deeper commit history of the info in this notebook, look at the commit history of the parser-writing notebook file. This info was originally there, then moved to this notebook later."
   ]
  },
  {
   "cell_type": "markdown",
   "id": "0a4ac932",
   "metadata": {},
   "source": [
    "## Downloading files"
   ]
  },
  {
   "cell_type": "markdown",
   "id": "96f2ef49",
   "metadata": {},
   "source": [
    "Going to load entire files for review. \n",
    "\n",
    "In parser, may want to do a generator approach and ingest large chunks (ex: 1000-2000 lines) at 1 time. This balances \"less memory footprint\" vs \"NodeNorming in large batches is faster\". \n",
    "\n",
    "(pandas [read_table](https://pandas.pydata.org/docs/reference/api/pandas.read_table.html) has an iterator for rows/chunks! see iterator/chunksize parameters)"
   ]
  },
  {
   "cell_type": "code",
   "execution_count": 1,
   "id": "8325a51e",
   "metadata": {
    "ExecuteTime": {
     "end_time": "2025-08-05T00:15:28.467585Z",
     "start_time": "2025-08-05T00:15:27.860859Z"
    }
   },
   "outputs": [],
   "source": [
    "## CX: allows multiple lines of code to print from one code block\n",
    "from IPython.core.interactiveshell import InteractiveShell\n",
    "InteractiveShell.ast_node_interactivity = \"all\"\n",
    "\n",
    "## put in parser (format)\n",
    "import pathlib\n",
    "import pandas as pd\n",
    "\n",
    "## don't put in parser. Just for this notebook\n",
    "from pprint import pprint\n",
    "\n",
    "## unsure on putting into parser: more for notebook viewing/debugging...\n",
    "pd.options.display.max_columns = None\n",
    "pd.set_option('display.max_colwidth', None)"
   ]
  },
  {
   "cell_type": "code",
   "execution_count": 2,
   "id": "49ac26f3",
   "metadata": {
    "ExecuteTime": {
     "end_time": "2025-08-05T00:15:29.284757Z",
     "start_time": "2025-08-05T00:15:29.280933Z"
    }
   },
   "outputs": [],
   "source": [
    "## useful function for exploring data\n",
    "def check_if_contains(df, column_name, patterns):\n",
    "    for i in patterns:\n",
    "        temp = df[df[column_name].str.contains(pat=i, case=False)]\n",
    "        if temp.size > 0:\n",
    "            print(f'\"{i}\"')\n",
    "            print(temp.shape)"
   ]
  },
  {
   "cell_type": "markdown",
   "id": "e23c358f",
   "metadata": {},
   "source": [
    "<div class=\"alert alert-block alert-danger\">\n",
    "    \n",
    "This notebook was originally written using data files downloaded 2025-04-14 between 4:23-4:24 PM Pacific time (23:23-23:24 UTC+0) from https://diseases.jensenlab.org/Downloads. "
   ]
  },
  {
   "cell_type": "code",
   "execution_count": 89,
   "id": "d1b184cb",
   "metadata": {
    "ExecuteTime": {
     "end_time": "2025-08-05T19:28:25.369140Z",
     "start_time": "2025-08-05T19:28:25.365486Z"
    }
   },
   "outputs": [],
   "source": [
    "## using on-demand from links\n",
    "\n",
    "# textmining_path = \"https://download.jensenlab.org/human_disease_textmining_filtered.tsv\"\n",
    "# knowledge_path = \"https://download.jensenlab.org/human_disease_knowledge_filtered.tsv\"\n",
    "# experiments_path = \"https://download.jensenlab.org/human_disease_experiments_filtered.tsv\"\n",
    "\n",
    "## not working right now 8/5: textmining file link is broken, downloads empty file"
   ]
  },
  {
   "cell_type": "code",
   "execution_count": 3,
   "id": "63f0a6ac",
   "metadata": {
    "ExecuteTime": {
     "end_time": "2025-08-05T00:15:37.427830Z",
     "start_time": "2025-08-05T00:15:37.416370Z"
    }
   },
   "outputs": [
    {
     "data": {
      "text/plain": [
       "PosixPath('/Users/colleenxu/Desktop/DISEASES_files/2025_08_04/human_disease_textmining_filtered.tsv')"
      ]
     },
     "execution_count": 3,
     "metadata": {},
     "output_type": "execute_result"
    },
    {
     "data": {
      "text/plain": [
       "PosixPath('/Users/colleenxu/Desktop/DISEASES_files/2025_08_04/human_disease_knowledge_filtered.tsv')"
      ]
     },
     "execution_count": 3,
     "metadata": {},
     "output_type": "execute_result"
    },
    {
     "data": {
      "text/plain": [
       "PosixPath('/Users/colleenxu/Desktop/DISEASES_files/2025_08_04/human_disease_experiments_filtered.tsv')"
      ]
     },
     "execution_count": 3,
     "metadata": {},
     "output_type": "execute_result"
    }
   ],
   "source": [
    "## using downloaded files \n",
    "## paths to raw data files\n",
    "\n",
    "base_file_path = pathlib.Path.home().joinpath(\"Desktop\", \"DISEASES_files\", \"2025_08_04\")\n",
    "\n",
    "textmining_path = base_file_path.joinpath(\"human_disease_textmining_filtered.tsv\")\n",
    "knowledge_path = base_file_path.joinpath(\"human_disease_knowledge_filtered.tsv\")\n",
    "experiments_path = base_file_path.joinpath(\"human_disease_experiments_filtered.tsv\")\n",
    "\n",
    "\n",
    "textmining_path\n",
    "knowledge_path\n",
    "experiments_path"
   ]
  },
  {
   "cell_type": "code",
   "execution_count": 90,
   "id": "dd0fc904",
   "metadata": {
    "ExecuteTime": {
     "end_time": "2025-08-05T19:28:38.621598Z",
     "start_time": "2025-08-05T19:28:36.293326Z"
    },
    "scrolled": true
   },
   "outputs": [],
   "source": [
    "## put in parser (format)\n",
    "\n",
    "## download files\n",
    "\n",
    "## files have no headers: adding based on https://diseases.jensenlab.org/Downloads\n",
    "textmining_header = [\"gene_id\", \"gene_name\", \"disease_id\", \"disease_name\", \n",
    "                     \"z_score\", \"confidence_score\", \"url\"]\n",
    "knowledge_header = [\"gene_id\", \"gene_name\", \"disease_id\", \"disease_name\", \n",
    "                    \"source_db\", \"evidence_type\", \"confidence_score\"]\n",
    "\n",
    "\n",
    "df_textmining = pd.read_table(textmining_path, sep=\"\\t\", names=textmining_header)\n",
    "df_knowledge = pd.read_table(knowledge_path, sep=\"\\t\", names=knowledge_header)"
   ]
  },
  {
   "cell_type": "code",
   "execution_count": 6,
   "id": "c2367383",
   "metadata": {
    "ExecuteTime": {
     "end_time": "2025-07-28T20:06:25.117015Z",
     "start_time": "2025-07-28T20:06:25.114372Z"
    }
   },
   "outputs": [],
   "source": [
    "## loading experiments: commenting out experiments exploration\n",
    "\n",
    "# experiments_header = [\"gene_id\", \"gene_name\", \"disease_id\", \"disease_name\", \n",
    "#                     \"source_db\", \"source_score\", \"confidence_score\"]\n",
    "\n",
    "\n",
    "# df_experiments = pd.read_table(experiments_path, sep=\"\\t\", names=experiments_header)"
   ]
  },
  {
   "cell_type": "markdown",
   "id": "feb424a4",
   "metadata": {},
   "source": [
    "<div class=\"alert alert-block alert-info\">\n",
    "\n",
    "No missing values"
   ]
  },
  {
   "cell_type": "code",
   "execution_count": 91,
   "id": "141a10e4",
   "metadata": {
    "ExecuteTime": {
     "end_time": "2025-08-05T19:28:41.063101Z",
     "start_time": "2025-08-05T19:28:41.056469Z"
    }
   },
   "outputs": [
    {
     "name": "stdout",
     "output_type": "stream",
     "text": [
      "<class 'pandas.core.frame.DataFrame'>\n",
      "RangeIndex: 0 entries\n",
      "Data columns (total 7 columns):\n",
      " #   Column            Non-Null Count  Dtype \n",
      "---  ------            --------------  ----- \n",
      " 0   gene_id           0 non-null      object\n",
      " 1   gene_name         0 non-null      object\n",
      " 2   disease_id        0 non-null      object\n",
      " 3   disease_name      0 non-null      object\n",
      " 4   z_score           0 non-null      object\n",
      " 5   confidence_score  0 non-null      object\n",
      " 6   url               0 non-null      object\n",
      "dtypes: object(7)\n",
      "memory usage: 132.0 bytes\n"
     ]
    }
   ],
   "source": [
    "df_textmining.info(memory_usage=\"deep\")"
   ]
  },
  {
   "cell_type": "code",
   "execution_count": 6,
   "id": "cd37fa22",
   "metadata": {
    "ExecuteTime": {
     "end_time": "2025-08-05T00:16:14.054412Z",
     "start_time": "2025-08-05T00:16:14.038761Z"
    }
   },
   "outputs": [
    {
     "data": {
      "text/html": [
       "<div>\n",
       "<style scoped>\n",
       "    .dataframe tbody tr th:only-of-type {\n",
       "        vertical-align: middle;\n",
       "    }\n",
       "\n",
       "    .dataframe tbody tr th {\n",
       "        vertical-align: top;\n",
       "    }\n",
       "\n",
       "    .dataframe thead th {\n",
       "        text-align: right;\n",
       "    }\n",
       "</style>\n",
       "<table border=\"1\" class=\"dataframe\">\n",
       "  <thead>\n",
       "    <tr style=\"text-align: right;\">\n",
       "      <th></th>\n",
       "      <th>gene_id</th>\n",
       "      <th>gene_name</th>\n",
       "      <th>disease_id</th>\n",
       "      <th>disease_name</th>\n",
       "      <th>z_score</th>\n",
       "      <th>confidence_score</th>\n",
       "      <th>url</th>\n",
       "    </tr>\n",
       "  </thead>\n",
       "  <tbody>\n",
       "    <tr>\n",
       "      <th>0</th>\n",
       "      <td>18S_rRNA</td>\n",
       "      <td>18S_rRNA</td>\n",
       "      <td>DOID:9643</td>\n",
       "      <td>Babesiosis</td>\n",
       "      <td>7.240</td>\n",
       "      <td>3.620</td>\n",
       "      <td>https://diseases.jensenlab.org/Entity?documents=10&amp;type1=9606&amp;id1=18S_rRNA&amp;type2=-26&amp;id2=DOID:9643</td>\n",
       "    </tr>\n",
       "    <tr>\n",
       "      <th>1</th>\n",
       "      <td>18S_rRNA</td>\n",
       "      <td>18S_rRNA</td>\n",
       "      <td>DOID:3733</td>\n",
       "      <td>Theileriasis</td>\n",
       "      <td>6.374</td>\n",
       "      <td>3.187</td>\n",
       "      <td>https://diseases.jensenlab.org/Entity?documents=10&amp;type1=9606&amp;id1=18S_rRNA&amp;type2=-26&amp;id2=DOID:3733</td>\n",
       "    </tr>\n",
       "    <tr>\n",
       "      <th>2</th>\n",
       "      <td>18S_rRNA</td>\n",
       "      <td>18S_rRNA</td>\n",
       "      <td>DOID:12365</td>\n",
       "      <td>Malaria</td>\n",
       "      <td>6.295</td>\n",
       "      <td>3.147</td>\n",
       "      <td>https://diseases.jensenlab.org/Entity?documents=10&amp;type1=9606&amp;id1=18S_rRNA&amp;type2=-26&amp;id2=DOID:12365</td>\n",
       "    </tr>\n",
       "    <tr>\n",
       "      <th>3</th>\n",
       "      <td>18S_rRNA</td>\n",
       "      <td>18S_rRNA</td>\n",
       "      <td>DOID:9640</td>\n",
       "      <td>Sarcocystosis</td>\n",
       "      <td>6.138</td>\n",
       "      <td>3.069</td>\n",
       "      <td>https://diseases.jensenlab.org/Entity?documents=10&amp;type1=9606&amp;id1=18S_rRNA&amp;type2=-26&amp;id2=DOID:9640</td>\n",
       "    </tr>\n",
       "    <tr>\n",
       "      <th>4</th>\n",
       "      <td>18S_rRNA</td>\n",
       "      <td>18S_rRNA</td>\n",
       "      <td>DOID:1733</td>\n",
       "      <td>Cryptosporidiosis</td>\n",
       "      <td>6.115</td>\n",
       "      <td>3.057</td>\n",
       "      <td>https://diseases.jensenlab.org/Entity?documents=10&amp;type1=9606&amp;id1=18S_rRNA&amp;type2=-26&amp;id2=DOID:1733</td>\n",
       "    </tr>\n",
       "    <tr>\n",
       "      <th>...</th>\n",
       "      <td>...</td>\n",
       "      <td>...</td>\n",
       "      <td>...</td>\n",
       "      <td>...</td>\n",
       "      <td>...</td>\n",
       "      <td>...</td>\n",
       "      <td>...</td>\n",
       "    </tr>\n",
       "    <tr>\n",
       "      <th>288190</th>\n",
       "      <td>snoU13</td>\n",
       "      <td>snoU13</td>\n",
       "      <td>DOID:0110084</td>\n",
       "      <td>Arrhythmogenic right ventricular dysplasia 13</td>\n",
       "      <td>3.772</td>\n",
       "      <td>1.886</td>\n",
       "      <td>https://diseases.jensenlab.org/Entity?documents=10&amp;type1=9606&amp;id1=snoU13&amp;type2=-26&amp;id2=DOID:0110084</td>\n",
       "    </tr>\n",
       "    <tr>\n",
       "      <th>288191</th>\n",
       "      <td>snoU13</td>\n",
       "      <td>snoU13</td>\n",
       "      <td>DOID:0110408</td>\n",
       "      <td>Retinitis pigmentosa 11</td>\n",
       "      <td>3.384</td>\n",
       "      <td>1.692</td>\n",
       "      <td>https://diseases.jensenlab.org/Entity?documents=10&amp;type1=9606&amp;id1=snoU13&amp;type2=-26&amp;id2=DOID:0110408</td>\n",
       "    </tr>\n",
       "    <tr>\n",
       "      <th>288192</th>\n",
       "      <td>snoU13</td>\n",
       "      <td>snoU13</td>\n",
       "      <td>DOID:1849</td>\n",
       "      <td>Cannabis dependence</td>\n",
       "      <td>3.226</td>\n",
       "      <td>1.613</td>\n",
       "      <td>https://diseases.jensenlab.org/Entity?documents=10&amp;type1=9606&amp;id1=snoU13&amp;type2=-26&amp;id2=DOID:1849</td>\n",
       "    </tr>\n",
       "    <tr>\n",
       "      <th>288193</th>\n",
       "      <td>snoU13</td>\n",
       "      <td>snoU13</td>\n",
       "      <td>DOID:0060775</td>\n",
       "      <td>Microvillus inclusion disease</td>\n",
       "      <td>3.145</td>\n",
       "      <td>1.572</td>\n",
       "      <td>https://diseases.jensenlab.org/Entity?documents=10&amp;type1=9606&amp;id1=snoU13&amp;type2=-26&amp;id2=DOID:0060775</td>\n",
       "    </tr>\n",
       "    <tr>\n",
       "      <th>288194</th>\n",
       "      <td>snoU18</td>\n",
       "      <td>snoU18</td>\n",
       "      <td>DOID:12211</td>\n",
       "      <td>Filarial elephantiasis</td>\n",
       "      <td>3.454</td>\n",
       "      <td>1.727</td>\n",
       "      <td>https://diseases.jensenlab.org/Entity?documents=10&amp;type1=9606&amp;id1=snoU18&amp;type2=-26&amp;id2=DOID:12211</td>\n",
       "    </tr>\n",
       "  </tbody>\n",
       "</table>\n",
       "<p>288195 rows × 7 columns</p>\n",
       "</div>"
      ],
      "text/plain": [
       "         gene_id gene_name    disease_id  \\\n",
       "0       18S_rRNA  18S_rRNA     DOID:9643   \n",
       "1       18S_rRNA  18S_rRNA     DOID:3733   \n",
       "2       18S_rRNA  18S_rRNA    DOID:12365   \n",
       "3       18S_rRNA  18S_rRNA     DOID:9640   \n",
       "4       18S_rRNA  18S_rRNA     DOID:1733   \n",
       "...          ...       ...           ...   \n",
       "288190    snoU13    snoU13  DOID:0110084   \n",
       "288191    snoU13    snoU13  DOID:0110408   \n",
       "288192    snoU13    snoU13     DOID:1849   \n",
       "288193    snoU13    snoU13  DOID:0060775   \n",
       "288194    snoU18    snoU18    DOID:12211   \n",
       "\n",
       "                                         disease_name  z_score  \\\n",
       "0                                          Babesiosis    7.240   \n",
       "1                                        Theileriasis    6.374   \n",
       "2                                             Malaria    6.295   \n",
       "3                                       Sarcocystosis    6.138   \n",
       "4                                   Cryptosporidiosis    6.115   \n",
       "...                                               ...      ...   \n",
       "288190  Arrhythmogenic right ventricular dysplasia 13    3.772   \n",
       "288191                        Retinitis pigmentosa 11    3.384   \n",
       "288192                            Cannabis dependence    3.226   \n",
       "288193                  Microvillus inclusion disease    3.145   \n",
       "288194                         Filarial elephantiasis    3.454   \n",
       "\n",
       "        confidence_score  \\\n",
       "0                  3.620   \n",
       "1                  3.187   \n",
       "2                  3.147   \n",
       "3                  3.069   \n",
       "4                  3.057   \n",
       "...                  ...   \n",
       "288190             1.886   \n",
       "288191             1.692   \n",
       "288192             1.613   \n",
       "288193             1.572   \n",
       "288194             1.727   \n",
       "\n",
       "                                                                                                        url  \n",
       "0        https://diseases.jensenlab.org/Entity?documents=10&type1=9606&id1=18S_rRNA&type2=-26&id2=DOID:9643  \n",
       "1        https://diseases.jensenlab.org/Entity?documents=10&type1=9606&id1=18S_rRNA&type2=-26&id2=DOID:3733  \n",
       "2       https://diseases.jensenlab.org/Entity?documents=10&type1=9606&id1=18S_rRNA&type2=-26&id2=DOID:12365  \n",
       "3        https://diseases.jensenlab.org/Entity?documents=10&type1=9606&id1=18S_rRNA&type2=-26&id2=DOID:9640  \n",
       "4        https://diseases.jensenlab.org/Entity?documents=10&type1=9606&id1=18S_rRNA&type2=-26&id2=DOID:1733  \n",
       "...                                                                                                     ...  \n",
       "288190  https://diseases.jensenlab.org/Entity?documents=10&type1=9606&id1=snoU13&type2=-26&id2=DOID:0110084  \n",
       "288191  https://diseases.jensenlab.org/Entity?documents=10&type1=9606&id1=snoU13&type2=-26&id2=DOID:0110408  \n",
       "288192     https://diseases.jensenlab.org/Entity?documents=10&type1=9606&id1=snoU13&type2=-26&id2=DOID:1849  \n",
       "288193  https://diseases.jensenlab.org/Entity?documents=10&type1=9606&id1=snoU13&type2=-26&id2=DOID:0060775  \n",
       "288194    https://diseases.jensenlab.org/Entity?documents=10&type1=9606&id1=snoU18&type2=-26&id2=DOID:12211  \n",
       "\n",
       "[288195 rows x 7 columns]"
      ]
     },
     "execution_count": 6,
     "metadata": {},
     "output_type": "execute_result"
    }
   ],
   "source": [
    "df_textmining"
   ]
  },
  {
   "cell_type": "code",
   "execution_count": 93,
   "id": "6342b113",
   "metadata": {
    "ExecuteTime": {
     "end_time": "2025-08-05T19:28:51.976772Z",
     "start_time": "2025-08-05T19:28:51.955059Z"
    }
   },
   "outputs": [
    {
     "name": "stdout",
     "output_type": "stream",
     "text": [
      "<class 'pandas.core.frame.DataFrame'>\n",
      "RangeIndex: 7770 entries, 0 to 7769\n",
      "Data columns (total 7 columns):\n",
      " #   Column            Non-Null Count  Dtype \n",
      "---  ------            --------------  ----- \n",
      " 0   gene_id           7770 non-null   object\n",
      " 1   gene_name         7770 non-null   object\n",
      " 2   disease_id        7770 non-null   object\n",
      " 3   disease_name      7770 non-null   object\n",
      " 4   source_db         7770 non-null   object\n",
      " 5   evidence_type     7770 non-null   object\n",
      " 6   confidence_score  7770 non-null   int64 \n",
      "dtypes: int64(1), object(6)\n",
      "memory usage: 2.8 MB\n"
     ]
    }
   ],
   "source": [
    "df_knowledge.info(memory_usage=\"deep\")"
   ]
  },
  {
   "cell_type": "code",
   "execution_count": 8,
   "id": "316d7e3d",
   "metadata": {
    "ExecuteTime": {
     "end_time": "2025-08-05T00:16:21.290894Z",
     "start_time": "2025-08-05T00:16:21.278857Z"
    }
   },
   "outputs": [
    {
     "data": {
      "text/html": [
       "<div>\n",
       "<style scoped>\n",
       "    .dataframe tbody tr th:only-of-type {\n",
       "        vertical-align: middle;\n",
       "    }\n",
       "\n",
       "    .dataframe tbody tr th {\n",
       "        vertical-align: top;\n",
       "    }\n",
       "\n",
       "    .dataframe thead th {\n",
       "        text-align: right;\n",
       "    }\n",
       "</style>\n",
       "<table border=\"1\" class=\"dataframe\">\n",
       "  <thead>\n",
       "    <tr style=\"text-align: right;\">\n",
       "      <th></th>\n",
       "      <th>gene_id</th>\n",
       "      <th>gene_name</th>\n",
       "      <th>disease_id</th>\n",
       "      <th>disease_name</th>\n",
       "      <th>source_db</th>\n",
       "      <th>evidence_type</th>\n",
       "      <th>confidence_score</th>\n",
       "    </tr>\n",
       "  </thead>\n",
       "  <tbody>\n",
       "    <tr>\n",
       "      <th>0</th>\n",
       "      <td>ABHD11-AS1</td>\n",
       "      <td>ABHD11-AS1</td>\n",
       "      <td>DOID:1928</td>\n",
       "      <td>Williams-Beuren syndrome</td>\n",
       "      <td>MedlinePlus</td>\n",
       "      <td>CURATED</td>\n",
       "      <td>5</td>\n",
       "    </tr>\n",
       "    <tr>\n",
       "      <th>1</th>\n",
       "      <td>ENSP00000001146</td>\n",
       "      <td>CYP26B1</td>\n",
       "      <td>DOID:2340</td>\n",
       "      <td>Craniosynostosis</td>\n",
       "      <td>UniProtKB-KW</td>\n",
       "      <td>CURATED</td>\n",
       "      <td>4</td>\n",
       "    </tr>\n",
       "    <tr>\n",
       "      <th>2</th>\n",
       "      <td>ENSP00000003084</td>\n",
       "      <td>CFTR</td>\n",
       "      <td>DOID:0111862</td>\n",
       "      <td>Congenital bilateral absence of vas deferens</td>\n",
       "      <td>MedlinePlus</td>\n",
       "      <td>CURATED</td>\n",
       "      <td>5</td>\n",
       "    </tr>\n",
       "    <tr>\n",
       "      <th>3</th>\n",
       "      <td>ENSP00000003084</td>\n",
       "      <td>CFTR</td>\n",
       "      <td>DOID:1485</td>\n",
       "      <td>Cystic fibrosis</td>\n",
       "      <td>MedlinePlus</td>\n",
       "      <td>CURATED</td>\n",
       "      <td>5</td>\n",
       "    </tr>\n",
       "    <tr>\n",
       "      <th>4</th>\n",
       "      <td>ENSP00000005226</td>\n",
       "      <td>USH1C</td>\n",
       "      <td>DOID:0050439</td>\n",
       "      <td>Usher syndrome</td>\n",
       "      <td>MedlinePlus</td>\n",
       "      <td>CURATED</td>\n",
       "      <td>5</td>\n",
       "    </tr>\n",
       "    <tr>\n",
       "      <th>...</th>\n",
       "      <td>...</td>\n",
       "      <td>...</td>\n",
       "      <td>...</td>\n",
       "      <td>...</td>\n",
       "      <td>...</td>\n",
       "      <td>...</td>\n",
       "      <td>...</td>\n",
       "    </tr>\n",
       "    <tr>\n",
       "      <th>7765</th>\n",
       "      <td>hsa-miR-145-5p</td>\n",
       "      <td>hsa-miR-145-5p</td>\n",
       "      <td>DOID:0090016</td>\n",
       "      <td>Chromosome 5q deletion syndrome</td>\n",
       "      <td>MedlinePlus</td>\n",
       "      <td>CURATED</td>\n",
       "      <td>5</td>\n",
       "    </tr>\n",
       "    <tr>\n",
       "      <th>7766</th>\n",
       "      <td>hsa-miR-146a-5p</td>\n",
       "      <td>hsa-miR-146a-5p</td>\n",
       "      <td>DOID:0090016</td>\n",
       "      <td>Chromosome 5q deletion syndrome</td>\n",
       "      <td>MedlinePlus</td>\n",
       "      <td>CURATED</td>\n",
       "      <td>5</td>\n",
       "    </tr>\n",
       "    <tr>\n",
       "      <th>7767</th>\n",
       "      <td>hsa-miR-184</td>\n",
       "      <td>hsa-miR-184</td>\n",
       "      <td>DOID:10126</td>\n",
       "      <td>Keratoconus</td>\n",
       "      <td>MedlinePlus</td>\n",
       "      <td>CURATED</td>\n",
       "      <td>5</td>\n",
       "    </tr>\n",
       "    <tr>\n",
       "      <th>7768</th>\n",
       "      <td>hsa-miR-590-5p</td>\n",
       "      <td>hsa-miR-590-5p</td>\n",
       "      <td>DOID:1928</td>\n",
       "      <td>Williams-Beuren syndrome</td>\n",
       "      <td>MedlinePlus</td>\n",
       "      <td>CURATED</td>\n",
       "      <td>5</td>\n",
       "    </tr>\n",
       "    <tr>\n",
       "      <th>7769</th>\n",
       "      <td>hsa-miR-96-5p</td>\n",
       "      <td>hsa-miR-96-5p</td>\n",
       "      <td>DOID:0050563</td>\n",
       "      <td>Nonsyndromic deafness</td>\n",
       "      <td>MedlinePlus</td>\n",
       "      <td>CURATED</td>\n",
       "      <td>5</td>\n",
       "    </tr>\n",
       "  </tbody>\n",
       "</table>\n",
       "<p>7770 rows × 7 columns</p>\n",
       "</div>"
      ],
      "text/plain": [
       "              gene_id        gene_name    disease_id  \\\n",
       "0          ABHD11-AS1       ABHD11-AS1     DOID:1928   \n",
       "1     ENSP00000001146          CYP26B1     DOID:2340   \n",
       "2     ENSP00000003084             CFTR  DOID:0111862   \n",
       "3     ENSP00000003084             CFTR     DOID:1485   \n",
       "4     ENSP00000005226            USH1C  DOID:0050439   \n",
       "...               ...              ...           ...   \n",
       "7765   hsa-miR-145-5p   hsa-miR-145-5p  DOID:0090016   \n",
       "7766  hsa-miR-146a-5p  hsa-miR-146a-5p  DOID:0090016   \n",
       "7767      hsa-miR-184      hsa-miR-184    DOID:10126   \n",
       "7768   hsa-miR-590-5p   hsa-miR-590-5p     DOID:1928   \n",
       "7769    hsa-miR-96-5p    hsa-miR-96-5p  DOID:0050563   \n",
       "\n",
       "                                      disease_name     source_db  \\\n",
       "0                         Williams-Beuren syndrome   MedlinePlus   \n",
       "1                                 Craniosynostosis  UniProtKB-KW   \n",
       "2     Congenital bilateral absence of vas deferens   MedlinePlus   \n",
       "3                                  Cystic fibrosis   MedlinePlus   \n",
       "4                                   Usher syndrome   MedlinePlus   \n",
       "...                                            ...           ...   \n",
       "7765               Chromosome 5q deletion syndrome   MedlinePlus   \n",
       "7766               Chromosome 5q deletion syndrome   MedlinePlus   \n",
       "7767                                   Keratoconus   MedlinePlus   \n",
       "7768                      Williams-Beuren syndrome   MedlinePlus   \n",
       "7769                         Nonsyndromic deafness   MedlinePlus   \n",
       "\n",
       "     evidence_type  confidence_score  \n",
       "0          CURATED                 5  \n",
       "1          CURATED                 4  \n",
       "2          CURATED                 5  \n",
       "3          CURATED                 5  \n",
       "4          CURATED                 5  \n",
       "...            ...               ...  \n",
       "7765       CURATED                 5  \n",
       "7766       CURATED                 5  \n",
       "7767       CURATED                 5  \n",
       "7768       CURATED                 5  \n",
       "7769       CURATED                 5  \n",
       "\n",
       "[7770 rows x 7 columns]"
      ]
     },
     "execution_count": 8,
     "metadata": {},
     "output_type": "execute_result"
    }
   ],
   "source": [
    "df_knowledge"
   ]
  },
  {
   "cell_type": "markdown",
   "id": "b86c4bde",
   "metadata": {},
   "source": [
    "## Check for duplicates"
   ]
  },
  {
   "cell_type": "markdown",
   "id": "792b3c9d",
   "metadata": {},
   "source": [
    "<div class=\"alert alert-block alert-info\">\n",
    "\n",
    "Duplicates found in knowledge file. This is a DISEASES-side problem.\n",
    "    \n",
    "Ideas for how to handle duplicates (including if they show up in text-mining file later): \n",
    "* ingest entire file and remove duplicates\n",
    "* **doing this right now**: check a set of \"already-done\" edges (gene_id, disease_id, source_db for knowledge) right before creating document (earlier steps will cut down number of rows to create documents with). "
   ]
  },
  {
   "cell_type": "code",
   "execution_count": 9,
   "id": "27447a61",
   "metadata": {
    "ExecuteTime": {
     "end_time": "2025-08-05T00:16:36.875432Z",
     "start_time": "2025-08-05T00:16:36.793244Z"
    }
   },
   "outputs": [
    {
     "data": {
      "text/plain": [
       "(0, 7)"
      ]
     },
     "execution_count": 9,
     "metadata": {},
     "output_type": "execute_result"
    }
   ],
   "source": [
    "df_textmining[df_textmining.duplicated(subset=[\"gene_id\", \"disease_id\"], keep=False)].shape"
   ]
  },
  {
   "cell_type": "code",
   "execution_count": 10,
   "id": "09d9f86c",
   "metadata": {
    "ExecuteTime": {
     "end_time": "2025-08-05T00:16:37.523488Z",
     "start_time": "2025-08-05T00:16:37.512013Z"
    }
   },
   "outputs": [
    {
     "data": {
      "text/plain": [
       "(16, 7)"
      ]
     },
     "execution_count": 10,
     "metadata": {},
     "output_type": "execute_result"
    }
   ],
   "source": [
    "df_knowledge[df_knowledge.duplicated(keep=False)].shape"
   ]
  },
  {
   "cell_type": "code",
   "execution_count": 11,
   "id": "e32743e5",
   "metadata": {
    "ExecuteTime": {
     "end_time": "2025-08-05T00:16:46.696102Z",
     "start_time": "2025-08-05T00:16:46.673007Z"
    }
   },
   "outputs": [
    {
     "data": {
      "text/plain": [
       "(16, 7)"
      ]
     },
     "execution_count": 11,
     "metadata": {},
     "output_type": "execute_result"
    },
    {
     "data": {
      "text/html": [
       "<div>\n",
       "<style scoped>\n",
       "    .dataframe tbody tr th:only-of-type {\n",
       "        vertical-align: middle;\n",
       "    }\n",
       "\n",
       "    .dataframe tbody tr th {\n",
       "        vertical-align: top;\n",
       "    }\n",
       "\n",
       "    .dataframe thead th {\n",
       "        text-align: right;\n",
       "    }\n",
       "</style>\n",
       "<table border=\"1\" class=\"dataframe\">\n",
       "  <thead>\n",
       "    <tr style=\"text-align: right;\">\n",
       "      <th></th>\n",
       "      <th>gene_id</th>\n",
       "      <th>gene_name</th>\n",
       "      <th>disease_id</th>\n",
       "      <th>disease_name</th>\n",
       "      <th>source_db</th>\n",
       "      <th>evidence_type</th>\n",
       "      <th>confidence_score</th>\n",
       "    </tr>\n",
       "  </thead>\n",
       "  <tbody>\n",
       "    <tr>\n",
       "      <th>1617</th>\n",
       "      <td>ENSP00000269703</td>\n",
       "      <td>CYP4F22</td>\n",
       "      <td>DOID:0060655</td>\n",
       "      <td>Autosomal recessive congenital ichthyosis</td>\n",
       "      <td>MedlinePlus</td>\n",
       "      <td>CURATED</td>\n",
       "      <td>5</td>\n",
       "    </tr>\n",
       "    <tr>\n",
       "      <th>1618</th>\n",
       "      <td>ENSP00000269703</td>\n",
       "      <td>CYP4F22</td>\n",
       "      <td>DOID:0060655</td>\n",
       "      <td>Autosomal recessive congenital ichthyosis</td>\n",
       "      <td>MedlinePlus</td>\n",
       "      <td>CURATED</td>\n",
       "      <td>5</td>\n",
       "    </tr>\n",
       "    <tr>\n",
       "      <th>1667</th>\n",
       "      <td>ENSP00000272895</td>\n",
       "      <td>ABCA12</td>\n",
       "      <td>DOID:0060655</td>\n",
       "      <td>Autosomal recessive congenital ichthyosis</td>\n",
       "      <td>MedlinePlus</td>\n",
       "      <td>CURATED</td>\n",
       "      <td>5</td>\n",
       "    </tr>\n",
       "    <tr>\n",
       "      <th>1668</th>\n",
       "      <td>ENSP00000272895</td>\n",
       "      <td>ABCA12</td>\n",
       "      <td>DOID:0060655</td>\n",
       "      <td>Autosomal recessive congenital ichthyosis</td>\n",
       "      <td>MedlinePlus</td>\n",
       "      <td>CURATED</td>\n",
       "      <td>5</td>\n",
       "    </tr>\n",
       "    <tr>\n",
       "      <th>1992</th>\n",
       "      <td>ENSP00000291295</td>\n",
       "      <td>CALM3</td>\n",
       "      <td>DOID:2843</td>\n",
       "      <td>Long QT syndrome</td>\n",
       "      <td>UniProtKB-KW</td>\n",
       "      <td>CURATED</td>\n",
       "      <td>4</td>\n",
       "    </tr>\n",
       "    <tr>\n",
       "      <th>1993</th>\n",
       "      <td>ENSP00000291295</td>\n",
       "      <td>CALM3</td>\n",
       "      <td>DOID:2843</td>\n",
       "      <td>Long QT syndrome</td>\n",
       "      <td>UniProtKB-KW</td>\n",
       "      <td>CURATED</td>\n",
       "      <td>4</td>\n",
       "    </tr>\n",
       "    <tr>\n",
       "      <th>2577</th>\n",
       "      <td>ENSP00000311687</td>\n",
       "      <td>NIPAL4</td>\n",
       "      <td>DOID:0060655</td>\n",
       "      <td>Autosomal recessive congenital ichthyosis</td>\n",
       "      <td>MedlinePlus</td>\n",
       "      <td>CURATED</td>\n",
       "      <td>5</td>\n",
       "    </tr>\n",
       "    <tr>\n",
       "      <th>2578</th>\n",
       "      <td>ENSP00000311687</td>\n",
       "      <td>NIPAL4</td>\n",
       "      <td>DOID:0060655</td>\n",
       "      <td>Autosomal recessive congenital ichthyosis</td>\n",
       "      <td>MedlinePlus</td>\n",
       "      <td>CURATED</td>\n",
       "      <td>5</td>\n",
       "    </tr>\n",
       "    <tr>\n",
       "      <th>3433</th>\n",
       "      <td>ENSP00000342392</td>\n",
       "      <td>MESP2</td>\n",
       "      <td>DOID:0050568</td>\n",
       "      <td>Spondylocostal dysostosis</td>\n",
       "      <td>MedlinePlus</td>\n",
       "      <td>CURATED</td>\n",
       "      <td>5</td>\n",
       "    </tr>\n",
       "    <tr>\n",
       "      <th>3434</th>\n",
       "      <td>ENSP00000342392</td>\n",
       "      <td>MESP2</td>\n",
       "      <td>DOID:0050568</td>\n",
       "      <td>Spondylocostal dysostosis</td>\n",
       "      <td>MedlinePlus</td>\n",
       "      <td>CURATED</td>\n",
       "      <td>5</td>\n",
       "    </tr>\n",
       "    <tr>\n",
       "      <th>4473</th>\n",
       "      <td>ENSP00000360141</td>\n",
       "      <td>GNAS</td>\n",
       "      <td>DOID:12252</td>\n",
       "      <td>DOID:12252</td>\n",
       "      <td>UniProtKB-KW</td>\n",
       "      <td>CURATED</td>\n",
       "      <td>4</td>\n",
       "    </tr>\n",
       "    <tr>\n",
       "      <th>4474</th>\n",
       "      <td>ENSP00000360141</td>\n",
       "      <td>GNAS</td>\n",
       "      <td>DOID:12252</td>\n",
       "      <td>DOID:12252</td>\n",
       "      <td>UniProtKB-KW</td>\n",
       "      <td>CURATED</td>\n",
       "      <td>4</td>\n",
       "    </tr>\n",
       "    <tr>\n",
       "      <th>4475</th>\n",
       "      <td>ENSP00000360141</td>\n",
       "      <td>GNAS</td>\n",
       "      <td>DOID:12252</td>\n",
       "      <td>DOID:12252</td>\n",
       "      <td>UniProtKB-KW</td>\n",
       "      <td>CURATED</td>\n",
       "      <td>4</td>\n",
       "    </tr>\n",
       "    <tr>\n",
       "      <th>4476</th>\n",
       "      <td>ENSP00000360141</td>\n",
       "      <td>GNAS</td>\n",
       "      <td>DOID:12252</td>\n",
       "      <td>DOID:12252</td>\n",
       "      <td>UniProtKB-KW</td>\n",
       "      <td>CURATED</td>\n",
       "      <td>4</td>\n",
       "    </tr>\n",
       "    <tr>\n",
       "      <th>5542</th>\n",
       "      <td>ENSP00000379845</td>\n",
       "      <td>ABAT</td>\n",
       "      <td>DOID:0060407</td>\n",
       "      <td>Chromosome 18q deletion syndrome</td>\n",
       "      <td>MedlinePlus</td>\n",
       "      <td>CURATED</td>\n",
       "      <td>5</td>\n",
       "    </tr>\n",
       "    <tr>\n",
       "      <th>5543</th>\n",
       "      <td>ENSP00000379845</td>\n",
       "      <td>ABAT</td>\n",
       "      <td>DOID:0060407</td>\n",
       "      <td>Chromosome 18q deletion syndrome</td>\n",
       "      <td>MedlinePlus</td>\n",
       "      <td>CURATED</td>\n",
       "      <td>5</td>\n",
       "    </tr>\n",
       "  </tbody>\n",
       "</table>\n",
       "</div>"
      ],
      "text/plain": [
       "              gene_id gene_name    disease_id  \\\n",
       "1617  ENSP00000269703   CYP4F22  DOID:0060655   \n",
       "1618  ENSP00000269703   CYP4F22  DOID:0060655   \n",
       "1667  ENSP00000272895    ABCA12  DOID:0060655   \n",
       "1668  ENSP00000272895    ABCA12  DOID:0060655   \n",
       "1992  ENSP00000291295     CALM3     DOID:2843   \n",
       "1993  ENSP00000291295     CALM3     DOID:2843   \n",
       "2577  ENSP00000311687    NIPAL4  DOID:0060655   \n",
       "2578  ENSP00000311687    NIPAL4  DOID:0060655   \n",
       "3433  ENSP00000342392     MESP2  DOID:0050568   \n",
       "3434  ENSP00000342392     MESP2  DOID:0050568   \n",
       "4473  ENSP00000360141      GNAS    DOID:12252   \n",
       "4474  ENSP00000360141      GNAS    DOID:12252   \n",
       "4475  ENSP00000360141      GNAS    DOID:12252   \n",
       "4476  ENSP00000360141      GNAS    DOID:12252   \n",
       "5542  ENSP00000379845      ABAT  DOID:0060407   \n",
       "5543  ENSP00000379845      ABAT  DOID:0060407   \n",
       "\n",
       "                                   disease_name     source_db evidence_type  \\\n",
       "1617  Autosomal recessive congenital ichthyosis   MedlinePlus       CURATED   \n",
       "1618  Autosomal recessive congenital ichthyosis   MedlinePlus       CURATED   \n",
       "1667  Autosomal recessive congenital ichthyosis   MedlinePlus       CURATED   \n",
       "1668  Autosomal recessive congenital ichthyosis   MedlinePlus       CURATED   \n",
       "1992                           Long QT syndrome  UniProtKB-KW       CURATED   \n",
       "1993                           Long QT syndrome  UniProtKB-KW       CURATED   \n",
       "2577  Autosomal recessive congenital ichthyosis   MedlinePlus       CURATED   \n",
       "2578  Autosomal recessive congenital ichthyosis   MedlinePlus       CURATED   \n",
       "3433                  Spondylocostal dysostosis   MedlinePlus       CURATED   \n",
       "3434                  Spondylocostal dysostosis   MedlinePlus       CURATED   \n",
       "4473                                 DOID:12252  UniProtKB-KW       CURATED   \n",
       "4474                                 DOID:12252  UniProtKB-KW       CURATED   \n",
       "4475                                 DOID:12252  UniProtKB-KW       CURATED   \n",
       "4476                                 DOID:12252  UniProtKB-KW       CURATED   \n",
       "5542           Chromosome 18q deletion syndrome   MedlinePlus       CURATED   \n",
       "5543           Chromosome 18q deletion syndrome   MedlinePlus       CURATED   \n",
       "\n",
       "      confidence_score  \n",
       "1617                 5  \n",
       "1618                 5  \n",
       "1667                 5  \n",
       "1668                 5  \n",
       "1992                 4  \n",
       "1993                 4  \n",
       "2577                 5  \n",
       "2578                 5  \n",
       "3433                 5  \n",
       "3434                 5  \n",
       "4473                 4  \n",
       "4474                 4  \n",
       "4475                 4  \n",
       "4476                 4  \n",
       "5542                 5  \n",
       "5543                 5  "
      ]
     },
     "execution_count": 11,
     "metadata": {},
     "output_type": "execute_result"
    }
   ],
   "source": [
    "## double-checking if specific column subset can work to check for duplicates\n",
    "df_knowledge[df_knowledge.duplicated(subset=[\"gene_id\", \"disease_id\", \"source_db\"], keep=False)].shape\n",
    "## same count so it can\n",
    "\n",
    "## print for manual review\n",
    "df_knowledge[df_knowledge.duplicated(keep=False)]"
   ]
  },
  {
   "cell_type": "code",
   "execution_count": 14,
   "id": "a23bc859",
   "metadata": {
    "ExecuteTime": {
     "end_time": "2025-07-28T20:06:25.754198Z",
     "start_time": "2025-07-28T20:06:25.751557Z"
    }
   },
   "outputs": [],
   "source": [
    "# df_experiments[df_experiments.duplicated(keep=False)].shape"
   ]
  },
  {
   "cell_type": "markdown",
   "id": "6673fb8c",
   "metadata": {},
   "source": [
    "## Reviewing columns"
   ]
  },
  {
   "cell_type": "markdown",
   "id": "f7e56475",
   "metadata": {},
   "source": [
    "### gene_id"
   ]
  },
  {
   "cell_type": "markdown",
   "id": "dae5449b",
   "metadata": {},
   "source": [
    "<div class=\"alert alert-block alert-info\">\n",
    "\n",
    "**A small portion of the data doesn't have ENSP IDs (text-mining and knowledge)!** Instead, the values are names (same as gene_name). **Drop these rows from further parsing (can't NodeNorm)** \n",
    "    \n",
    "I checked this \"no ENSP\" data for other ID namespaces mentioned in the paper, but couldn't find any matches. Other ID namespaces mentioned in [paper's Materials and methods](https://academic.oup.com/database/article/doi/10.1093/database/baac019/6554833?login=false#344427091) -> Dictionaries section:\n",
    "\n",
    "> The human gene dictionary was obtained from STRING v11.0 (27) and is based on information from **Ensembl (34), UniProtKB (12) and HGNC (35)** databases."
   ]
  },
  {
   "cell_type": "markdown",
   "id": "864fdd72",
   "metadata": {},
   "source": [
    "#### Check for delimiters "
   ]
  },
  {
   "cell_type": "code",
   "execution_count": 12,
   "id": "b4d8bd0a",
   "metadata": {
    "ExecuteTime": {
     "end_time": "2025-08-05T00:19:14.747222Z",
     "start_time": "2025-08-05T00:19:14.442528Z"
    }
   },
   "outputs": [
    {
     "name": "stdout",
     "output_type": "stream",
     "text": [
      "text-mining\n",
      "knowledge\n"
     ]
    }
   ],
   "source": [
    "## check for delimiters (between prefix and ID, between IDs)\n",
    "\n",
    "delimiters = [\",\", \";\", \":\"]\n",
    "\n",
    "print(\"text-mining\")\n",
    "check_if_contains(df_textmining, \"gene_id\", delimiters)\n",
    "\n",
    "print(\"knowledge\")\n",
    "check_if_contains(df_knowledge, \"gene_id\", delimiters)\n",
    "\n",
    "## didn't print any stats, so not found"
   ]
  },
  {
   "cell_type": "code",
   "execution_count": 13,
   "id": "d675120d",
   "metadata": {
    "ExecuteTime": {
     "end_time": "2025-08-05T00:19:15.891642Z",
     "start_time": "2025-08-05T00:19:15.788474Z"
    }
   },
   "outputs": [
    {
     "data": {
      "text/html": [
       "<div>\n",
       "<style scoped>\n",
       "    .dataframe tbody tr th:only-of-type {\n",
       "        vertical-align: middle;\n",
       "    }\n",
       "\n",
       "    .dataframe tbody tr th {\n",
       "        vertical-align: top;\n",
       "    }\n",
       "\n",
       "    .dataframe thead th {\n",
       "        text-align: right;\n",
       "    }\n",
       "</style>\n",
       "<table border=\"1\" class=\"dataframe\">\n",
       "  <thead>\n",
       "    <tr style=\"text-align: right;\">\n",
       "      <th></th>\n",
       "      <th>gene_id</th>\n",
       "      <th>gene_name</th>\n",
       "      <th>disease_id</th>\n",
       "      <th>disease_name</th>\n",
       "      <th>z_score</th>\n",
       "      <th>confidence_score</th>\n",
       "      <th>url</th>\n",
       "    </tr>\n",
       "  </thead>\n",
       "  <tbody>\n",
       "  </tbody>\n",
       "</table>\n",
       "</div>"
      ],
      "text/plain": [
       "Empty DataFrame\n",
       "Columns: [gene_id, gene_name, disease_id, disease_name, z_score, confidence_score, url]\n",
       "Index: []"
      ]
     },
     "execution_count": 13,
     "metadata": {},
     "output_type": "execute_result"
    }
   ],
   "source": [
    "## double-check work on 1 value\n",
    "df_textmining[df_textmining[\"gene_id\"].str.contains(\":\", case=False)]"
   ]
  },
  {
   "cell_type": "code",
   "execution_count": 14,
   "id": "8a2aaf5c",
   "metadata": {
    "ExecuteTime": {
     "end_time": "2025-08-05T00:19:25.786146Z",
     "start_time": "2025-08-05T00:19:25.583234Z"
    }
   },
   "outputs": [
    {
     "data": {
      "text/plain": [
       "array(['18S_rRNA', '28S_rRNA', '45S_rRNA', '5S_rRNA', '5_8S_rRNA',\n",
       "       'CPEB3_ribozyme', 'RP11-524D16__A.3', 'SOX2OT_exon3',\n",
       "       'XXyac-YX65C7_A.2', 'Xist_exon1', 'Y_RNA', 'ZEB2_AS1',\n",
       "       'chr22-38_28785274-29006793.1', 'hsa_circ_000003',\n",
       "       'hsa_circ_000006', 'hsa_circ_000007', 'hsa_circ_000009',\n",
       "       'hsa_circ_000010', 'hsa_circ_000011', 'hsa_circ_000013',\n",
       "       'hsa_circ_000015', 'hsa_circ_000018', 'hsa_circ_000025*',\n",
       "       'hsa_circ_000029', 'hsa_circ_000044', 'hsa_circ_000065',\n",
       "       'hsa_circ_000078', 'hsa_circ_000082', 'hsa_circ_000111',\n",
       "       'hsa_circ_000153', 'hsa_circ_000157', 'hsa_circ_000158',\n",
       "       'hsa_circ_000166', 'hsa_circ_000178', 'hsa_circ_000193',\n",
       "       'hsa_circ_000208', 'hsa_circ_000212', 'hsa_circ_000216',\n",
       "       'hsa_circ_000218', 'hsa_circ_000224', 'hsa_circ_000240',\n",
       "       'hsa_circ_000261', 'hsa_circ_000271', 'hsa_circ_000296',\n",
       "       'hsa_circ_000321', 'hsa_circ_000361', 'hsa_circ_000374',\n",
       "       'hsa_circ_000407', 'hsa_circ_000488', 'hsa_circ_000520',\n",
       "       'hsa_circ_000583', 'hsa_circ_000585', 'hsa_circ_000593',\n",
       "       'hsa_circ_000595', 'hsa_circ_000601', 'hsa_circ_000657',\n",
       "       'hsa_circ_000663', 'hsa_circ_000673', 'hsa_circ_000695',\n",
       "       'hsa_circ_000705', 'hsa_circ_000727', 'hsa_circ_000729',\n",
       "       'hsa_circ_000742', 'hsa_circ_000760', 'hsa_circ_000780',\n",
       "       'hsa_circ_000781', 'hsa_circ_000799', 'hsa_circ_000812',\n",
       "       'hsa_circ_000819', 'hsa_circ_000858', 'hsa_circ_000861',\n",
       "       'hsa_circ_000875', 'hsa_circ_000895', 'hsa_circ_000908',\n",
       "       'hsa_circ_000935', 'hsa_circ_000937', 'hsa_circ_000939',\n",
       "       'hsa_circ_000950', 'hsa_circ_000957', 'hsa_circ_000983',\n",
       "       'hsa_circ_001013', 'hsa_circ_001035', 'hsa_circ_001060',\n",
       "       'hsa_circ_001063', 'hsa_circ_001069', 'hsa_circ_001071',\n",
       "       'hsa_circ_001076', 'hsa_circ_001079', 'hsa_circ_001105',\n",
       "       'hsa_circ_001107', 'hsa_circ_001171', 'hsa_circ_001173',\n",
       "       'hsa_circ_001177', 'hsa_circ_001182', 'hsa_circ_001193',\n",
       "       'hsa_circ_001204', 'hsa_circ_001209', 'hsa_circ_001211',\n",
       "       'hsa_circ_001214', 'hsa_circ_001242', 'hsa_circ_001243',\n",
       "       'hsa_circ_001305', 'hsa_circ_001321', 'hsa_circ_001341',\n",
       "       'hsa_circ_001345', 'hsa_circ_001349', 'hsa_circ_001350',\n",
       "       'hsa_circ_001373', 'hsa_circ_001376', 'hsa_circ_001404',\n",
       "       'hsa_circ_001409', 'hsa_circ_001423', 'hsa_circ_001439',\n",
       "       'hsa_circ_001447', 'hsa_circ_001448', 'hsa_circ_001457',\n",
       "       'hsa_circ_001461', 'hsa_circ_001469', 'hsa_circ_001472',\n",
       "       'hsa_circ_001474', 'hsa_circ_001475', 'hsa_circ_001489',\n",
       "       'hsa_circ_001505', 'hsa_circ_001506', 'hsa_circ_001520',\n",
       "       'hsa_circ_001523', 'hsa_circ_001525', 'hsa_circ_001535',\n",
       "       'hsa_circ_001546', 'hsa_circ_001547', 'hsa_circ_001552',\n",
       "       'hsa_circ_001565', 'hsa_circ_001569', 'hsa_circ_001587',\n",
       "       'hsa_circ_001589', 'hsa_circ_001599', 'hsa_circ_001612',\n",
       "       'hsa_circ_001621', 'hsa_circ_001622', 'hsa_circ_001645',\n",
       "       'hsa_circ_001678', 'hsa_circ_001683', 'hsa_circ_001704',\n",
       "       'hsa_circ_001713', 'hsa_circ_001714', 'hsa_circ_001719',\n",
       "       'hsa_circ_001729', 'hsa_circ_001730', 'hsa_circ_001733',\n",
       "       'hsa_circ_001765', 'hsa_circ_001778', 'hsa_circ_001779',\n",
       "       'hsa_circ_001783', 'hsa_circ_001787', 'hsa_circ_001796',\n",
       "       'hsa_circ_001798', 'hsa_circ_001799', 'hsa_circ_001804',\n",
       "       'hsa_circ_001813', 'hsa_circ_001814', 'hsa_circ_001815',\n",
       "       'hsa_circ_001819', 'hsa_circ_001824', 'hsa_circ_001838',\n",
       "       'hsa_circ_001839', 'hsa_circ_001846', 'hsa_circ_001854',\n",
       "       'hsa_circ_001859', 'hsa_circ_001867', 'hsa_circ_001871',\n",
       "       'hsa_circ_001873', 'hsa_circ_001892', 'hsa_circ_001894',\n",
       "       'hsa_circ_001895', 'hsa_circ_001896', 'hsa_circ_001909',\n",
       "       'hsa_circ_001911', 'hsa_circ_001918', 'hsa_circ_001919',\n",
       "       'hsa_circ_001928', 'hsa_circ_001969', 'hsa_circ_001978',\n",
       "       'hsa_circ_001987', 'hsa_circ_001988', 'hsa_circ_001992',\n",
       "       'hsa_circ_001995', 'hsa_circ_002001', 'hsa_circ_002012',\n",
       "       'hsa_circ_002015', 'hsa_circ_002020', 'hsa_circ_002025',\n",
       "       'hsa_circ_002057', 'hsa_circ_002059', 'hsa_circ_002060',\n",
       "       'hsa_circ_002070', 'hsa_circ_002082', 'hsa_circ_002083',\n",
       "       'hsa_circ_002085', 'hsa_circ_002089', 'hsa_circ_002097',\n",
       "       'hsa_circ_002099', 'hsa_circ_002100', 'hsa_circ_002116',\n",
       "       'hsa_circ_002121', 'hsa_circ_002125', 'hsa_circ_002131',\n",
       "       'hsa_circ_002136', 'hsa_circ_002140', 'hsa_circ_002144',\n",
       "       'hsa_circ_002146', 'hsa_circ_002147', 'hsa_circ_002156',\n",
       "       'hsa_circ_002157', 'hsa_circ_002167', 'hsa_circ_002170',\n",
       "       'hsa_circ_002171', 'hsa_circ_002172', 'hsa_circ_002174'],\n",
       "      dtype=object)"
      ]
     },
     "execution_count": 14,
     "metadata": {},
     "output_type": "execute_result"
    },
    {
     "data": {
      "text/plain": [
       "218"
      ]
     },
     "execution_count": 14,
     "metadata": {},
     "output_type": "execute_result"
    }
   ],
   "source": [
    "## looked at \"_\": sometimes it can be a delimiter between prefix and ID\n",
    "## text-mining: there are values, but all were names\n",
    "\n",
    "df_textmining[df_textmining[\"gene_id\"].str.contains(\"_\", case=False)][\"gene_id\"].unique()\n",
    "\n",
    "len(df_textmining[df_textmining[\"gene_id\"].str.contains(\"_\", case=False)][\"gene_id\"].unique())"
   ]
  },
  {
   "cell_type": "code",
   "execution_count": 15,
   "id": "b6be1589",
   "metadata": {
    "ExecuteTime": {
     "end_time": "2025-08-05T00:19:32.252391Z",
     "start_time": "2025-08-05T00:19:32.244494Z"
    }
   },
   "outputs": [
    {
     "data": {
      "text/plain": [
       "(0, 7)"
      ]
     },
     "execution_count": 15,
     "metadata": {},
     "output_type": "execute_result"
    }
   ],
   "source": [
    "## no values\n",
    "\n",
    "df_knowledge[df_knowledge[\"gene_id\"].str.contains(\"_\")].shape"
   ]
  },
  {
   "cell_type": "markdown",
   "id": "4faf7a2b",
   "metadata": {},
   "source": [
    "#### Text-mining stats"
   ]
  },
  {
   "cell_type": "code",
   "execution_count": 16,
   "id": "c8b15e6b",
   "metadata": {
    "ExecuteTime": {
     "end_time": "2025-08-05T00:19:34.886783Z",
     "start_time": "2025-08-05T00:19:34.791100Z"
    }
   },
   "outputs": [
    {
     "data": {
      "text/plain": [
       "(16481, 7)"
      ]
     },
     "execution_count": 16,
     "metadata": {},
     "output_type": "execute_result"
    },
    {
     "data": {
      "text/plain": [
       "0.05718697409739933"
      ]
     },
     "execution_count": 16,
     "metadata": {},
     "output_type": "execute_result"
    }
   ],
   "source": [
    "## how much data doesn't have ENSP ID\n",
    "df_no_ENSP_textmining = df_textmining[~ df_textmining[\"gene_id\"].str.startswith(\"ENSP\")].copy()\n",
    "df_no_ENSP_textmining.shape\n",
    "\n",
    "## vs entire dataset\n",
    "df_no_ENSP_textmining.shape[0] / df_textmining.shape[0]"
   ]
  },
  {
   "cell_type": "code",
   "execution_count": 17,
   "id": "a21557fc",
   "metadata": {
    "ExecuteTime": {
     "end_time": "2025-08-05T00:19:35.829864Z",
     "start_time": "2025-08-05T00:19:35.822081Z"
    }
   },
   "outputs": [
    {
     "data": {
      "text/plain": [
       "(16481, 7)"
      ]
     },
     "execution_count": 17,
     "metadata": {},
     "output_type": "execute_result"
    }
   ],
   "source": [
    "## when data doesn't have ENSP ID, are ID == name?\n",
    "df_no_ENSP_textmining[df_no_ENSP_textmining[\"gene_id\"] == \n",
    "                      df_no_ENSP_textmining[\"gene_name\"]].shape\n",
    "\n",
    "## yes: shape is the same"
   ]
  },
  {
   "cell_type": "code",
   "execution_count": 19,
   "id": "f7ca39f7",
   "metadata": {
    "ExecuteTime": {
     "end_time": "2025-08-05T00:21:15.572352Z",
     "start_time": "2025-08-05T00:21:15.566236Z"
    }
   },
   "outputs": [
    {
     "data": {
      "text/plain": [
       "array(['18S_rRNA', '28S_rRNA', '45S_rRNA', ..., 'pRNA', 'snoU13',\n",
       "       'snoU18'], shape=(3951,), dtype=object)"
      ]
     },
     "execution_count": 19,
     "metadata": {},
     "output_type": "execute_result"
    }
   ],
   "source": [
    "## thousands of unique values\n",
    "df_no_ENSP_textmining[\"gene_id\"].unique()"
   ]
  },
  {
   "cell_type": "code",
   "execution_count": 20,
   "id": "2202267d",
   "metadata": {
    "ExecuteTime": {
     "end_time": "2025-08-05T00:21:16.601859Z",
     "start_time": "2025-08-05T00:21:16.553150Z"
    }
   },
   "outputs": [],
   "source": [
    "## look for other ID namespaces mentioned in paper\n",
    "\n",
    "possible_gene_namespaces = [\"ENSG\", \"ensembl\", \"uniprotkb\", \"uniprot\", \"hgnc\"]\n",
    "## remember function uses case=False (not sensitive)\n",
    "check_if_contains(df_no_ENSP_textmining, \"gene_id\", possible_gene_namespaces)\n",
    "\n",
    "## none: nothing prints"
   ]
  },
  {
   "cell_type": "code",
   "execution_count": 21,
   "id": "ad7069d3",
   "metadata": {
    "ExecuteTime": {
     "end_time": "2025-08-05T00:21:17.763405Z",
     "start_time": "2025-08-05T00:21:17.595466Z"
    }
   },
   "outputs": [
    {
     "data": {
      "text/html": [
       "<div>\n",
       "<style scoped>\n",
       "    .dataframe tbody tr th:only-of-type {\n",
       "        vertical-align: middle;\n",
       "    }\n",
       "\n",
       "    .dataframe tbody tr th {\n",
       "        vertical-align: top;\n",
       "    }\n",
       "\n",
       "    .dataframe thead th {\n",
       "        text-align: right;\n",
       "    }\n",
       "</style>\n",
       "<table border=\"1\" class=\"dataframe\">\n",
       "  <thead>\n",
       "    <tr style=\"text-align: right;\">\n",
       "      <th></th>\n",
       "      <th>gene_id</th>\n",
       "      <th>gene_name</th>\n",
       "      <th>disease_id</th>\n",
       "      <th>disease_name</th>\n",
       "      <th>z_score</th>\n",
       "      <th>confidence_score</th>\n",
       "      <th>url</th>\n",
       "    </tr>\n",
       "  </thead>\n",
       "  <tbody>\n",
       "  </tbody>\n",
       "</table>\n",
       "</div>"
      ],
      "text/plain": [
       "Empty DataFrame\n",
       "Columns: [gene_id, gene_name, disease_id, disease_name, z_score, confidence_score, url]\n",
       "Index: []"
      ]
     },
     "execution_count": 21,
     "metadata": {},
     "output_type": "execute_result"
    }
   ],
   "source": [
    "## double-check work on 1 value\n",
    "df_textmining[df_textmining[\"gene_id\"].str.contains(\"hgnc\", case=False)]"
   ]
  },
  {
   "cell_type": "markdown",
   "id": "4c5dfe80",
   "metadata": {},
   "source": [
    "#### Knowledge stats"
   ]
  },
  {
   "cell_type": "code",
   "execution_count": 22,
   "id": "b1e9ce0f",
   "metadata": {
    "ExecuteTime": {
     "end_time": "2025-08-05T00:21:29.657397Z",
     "start_time": "2025-08-05T00:21:29.635547Z"
    }
   },
   "outputs": [
    {
     "data": {
      "text/plain": [
       "(41, 7)"
      ]
     },
     "execution_count": 22,
     "metadata": {},
     "output_type": "execute_result"
    },
    {
     "data": {
      "text/plain": [
       "0.005276705276705276"
      ]
     },
     "execution_count": 22,
     "metadata": {},
     "output_type": "execute_result"
    },
    {
     "data": {
      "text/html": [
       "<div>\n",
       "<style scoped>\n",
       "    .dataframe tbody tr th:only-of-type {\n",
       "        vertical-align: middle;\n",
       "    }\n",
       "\n",
       "    .dataframe tbody tr th {\n",
       "        vertical-align: top;\n",
       "    }\n",
       "\n",
       "    .dataframe thead th {\n",
       "        text-align: right;\n",
       "    }\n",
       "</style>\n",
       "<table border=\"1\" class=\"dataframe\">\n",
       "  <thead>\n",
       "    <tr style=\"text-align: right;\">\n",
       "      <th></th>\n",
       "      <th>gene_id</th>\n",
       "      <th>gene_name</th>\n",
       "    </tr>\n",
       "  </thead>\n",
       "  <tbody>\n",
       "    <tr>\n",
       "      <th>0</th>\n",
       "      <td>ABHD11-AS1</td>\n",
       "      <td>ABHD11-AS1</td>\n",
       "    </tr>\n",
       "    <tr>\n",
       "      <th>7730</th>\n",
       "      <td>H19</td>\n",
       "      <td>H19</td>\n",
       "    </tr>\n",
       "    <tr>\n",
       "      <th>7734</th>\n",
       "      <td>KCNQ1OT1</td>\n",
       "      <td>KCNQ1OT1</td>\n",
       "    </tr>\n",
       "    <tr>\n",
       "      <th>7735</th>\n",
       "      <td>MIR17HG</td>\n",
       "      <td>MIR17HG</td>\n",
       "    </tr>\n",
       "    <tr>\n",
       "      <th>7736</th>\n",
       "      <td>MT-RNR1</td>\n",
       "      <td>MT-RNR1</td>\n",
       "    </tr>\n",
       "    <tr>\n",
       "      <th>7737</th>\n",
       "      <td>MT-TF</td>\n",
       "      <td>MT-TF</td>\n",
       "    </tr>\n",
       "    <tr>\n",
       "      <th>7738</th>\n",
       "      <td>MT-TH</td>\n",
       "      <td>MT-TH</td>\n",
       "    </tr>\n",
       "    <tr>\n",
       "      <th>7740</th>\n",
       "      <td>MT-TI</td>\n",
       "      <td>MT-TI</td>\n",
       "    </tr>\n",
       "    <tr>\n",
       "      <th>7742</th>\n",
       "      <td>MT-TK</td>\n",
       "      <td>MT-TK</td>\n",
       "    </tr>\n",
       "    <tr>\n",
       "      <th>7744</th>\n",
       "      <td>MT-TL1</td>\n",
       "      <td>MT-TL1</td>\n",
       "    </tr>\n",
       "    <tr>\n",
       "      <th>7749</th>\n",
       "      <td>MT-TP</td>\n",
       "      <td>MT-TP</td>\n",
       "    </tr>\n",
       "    <tr>\n",
       "      <th>7750</th>\n",
       "      <td>MT-TS1</td>\n",
       "      <td>MT-TS1</td>\n",
       "    </tr>\n",
       "    <tr>\n",
       "      <th>7753</th>\n",
       "      <td>MT-TS2</td>\n",
       "      <td>MT-TS2</td>\n",
       "    </tr>\n",
       "    <tr>\n",
       "      <th>7755</th>\n",
       "      <td>MT-TT</td>\n",
       "      <td>MT-TT</td>\n",
       "    </tr>\n",
       "    <tr>\n",
       "      <th>7756</th>\n",
       "      <td>MT-TV</td>\n",
       "      <td>MT-TV</td>\n",
       "    </tr>\n",
       "    <tr>\n",
       "      <th>7758</th>\n",
       "      <td>MT-TW</td>\n",
       "      <td>MT-TW</td>\n",
       "    </tr>\n",
       "    <tr>\n",
       "      <th>7759</th>\n",
       "      <td>RMRP</td>\n",
       "      <td>RMRP</td>\n",
       "    </tr>\n",
       "    <tr>\n",
       "      <th>7761</th>\n",
       "      <td>TERC</td>\n",
       "      <td>TERC</td>\n",
       "    </tr>\n",
       "    <tr>\n",
       "      <th>7763</th>\n",
       "      <td>U7</td>\n",
       "      <td>U7</td>\n",
       "    </tr>\n",
       "    <tr>\n",
       "      <th>7764</th>\n",
       "      <td>hsa-miR-137</td>\n",
       "      <td>hsa-miR-137</td>\n",
       "    </tr>\n",
       "    <tr>\n",
       "      <th>7765</th>\n",
       "      <td>hsa-miR-145-5p</td>\n",
       "      <td>hsa-miR-145-5p</td>\n",
       "    </tr>\n",
       "    <tr>\n",
       "      <th>7766</th>\n",
       "      <td>hsa-miR-146a-5p</td>\n",
       "      <td>hsa-miR-146a-5p</td>\n",
       "    </tr>\n",
       "    <tr>\n",
       "      <th>7767</th>\n",
       "      <td>hsa-miR-184</td>\n",
       "      <td>hsa-miR-184</td>\n",
       "    </tr>\n",
       "    <tr>\n",
       "      <th>7768</th>\n",
       "      <td>hsa-miR-590-5p</td>\n",
       "      <td>hsa-miR-590-5p</td>\n",
       "    </tr>\n",
       "    <tr>\n",
       "      <th>7769</th>\n",
       "      <td>hsa-miR-96-5p</td>\n",
       "      <td>hsa-miR-96-5p</td>\n",
       "    </tr>\n",
       "  </tbody>\n",
       "</table>\n",
       "</div>"
      ],
      "text/plain": [
       "              gene_id        gene_name\n",
       "0          ABHD11-AS1       ABHD11-AS1\n",
       "7730              H19              H19\n",
       "7734         KCNQ1OT1         KCNQ1OT1\n",
       "7735          MIR17HG          MIR17HG\n",
       "7736          MT-RNR1          MT-RNR1\n",
       "7737            MT-TF            MT-TF\n",
       "7738            MT-TH            MT-TH\n",
       "7740            MT-TI            MT-TI\n",
       "7742            MT-TK            MT-TK\n",
       "7744           MT-TL1           MT-TL1\n",
       "7749            MT-TP            MT-TP\n",
       "7750           MT-TS1           MT-TS1\n",
       "7753           MT-TS2           MT-TS2\n",
       "7755            MT-TT            MT-TT\n",
       "7756            MT-TV            MT-TV\n",
       "7758            MT-TW            MT-TW\n",
       "7759             RMRP             RMRP\n",
       "7761             TERC             TERC\n",
       "7763               U7               U7\n",
       "7764      hsa-miR-137      hsa-miR-137\n",
       "7765   hsa-miR-145-5p   hsa-miR-145-5p\n",
       "7766  hsa-miR-146a-5p  hsa-miR-146a-5p\n",
       "7767      hsa-miR-184      hsa-miR-184\n",
       "7768   hsa-miR-590-5p   hsa-miR-590-5p\n",
       "7769    hsa-miR-96-5p    hsa-miR-96-5p"
      ]
     },
     "execution_count": 22,
     "metadata": {},
     "output_type": "execute_result"
    }
   ],
   "source": [
    "## quick look at knowledge data: short enough for manual review\n",
    "\n",
    "## how much data doesn't have ENSP ID\n",
    "df_knowledge[~ df_knowledge[\"gene_id\"].str.startswith(\"ENSP\")].shape\n",
    "\n",
    "## vs entire dataset\n",
    "df_knowledge[~ df_knowledge[\"gene_id\"].str.startswith(\"ENSP\")].shape[0] / df_knowledge.shape[0]\n",
    "\n",
    "## unique values: can see that gene_id is a name (== gene_name), not an ID\n",
    "df_knowledge[~ df_knowledge[\"gene_id\"].str.startswith(\"ENSP\")][[\"gene_id\", \"gene_name\"]].drop_duplicates()"
   ]
  },
  {
   "cell_type": "markdown",
   "id": "e63bfe86",
   "metadata": {},
   "source": [
    "#### Experiments stats"
   ]
  },
  {
   "cell_type": "code",
   "execution_count": 25,
   "id": "22dba57f",
   "metadata": {
    "ExecuteTime": {
     "end_time": "2025-07-28T20:06:26.561421Z",
     "start_time": "2025-07-28T20:06:26.558568Z"
    }
   },
   "outputs": [],
   "source": [
    "# df_experiments[~ df_experiments[\"gene_id\"].str.startswith(\"ENSP\")].shape"
   ]
  },
  {
   "cell_type": "markdown",
   "id": "c08d94e3",
   "metadata": {},
   "source": [
    "### gene_name"
   ]
  },
  {
   "cell_type": "markdown",
   "id": "e0a49dd4",
   "metadata": {},
   "source": [
    "Didn't find IDs in this column that aren't in `gene_id`. \n",
    "\n",
    "Don't need this column for Translator output"
   ]
  },
  {
   "cell_type": "code",
   "execution_count": 23,
   "id": "40da75ac",
   "metadata": {
    "ExecuteTime": {
     "end_time": "2025-08-05T00:22:40.910136Z",
     "start_time": "2025-08-05T00:22:40.904313Z"
    }
   },
   "outputs": [
    {
     "data": {
      "text/plain": [
       "[',', ';', ':']"
      ]
     },
     "execution_count": 23,
     "metadata": {},
     "output_type": "execute_result"
    },
    {
     "data": {
      "text/plain": [
       "['ENSG', 'ensembl', 'uniprotkb', 'uniprot', 'hgnc']"
      ]
     },
     "execution_count": 23,
     "metadata": {},
     "output_type": "execute_result"
    }
   ],
   "source": [
    "delimiters\n",
    "possible_gene_namespaces"
   ]
  },
  {
   "cell_type": "code",
   "execution_count": 24,
   "id": "df7d3cc4",
   "metadata": {
    "ExecuteTime": {
     "end_time": "2025-08-05T00:22:42.173860Z",
     "start_time": "2025-08-05T00:22:41.873672Z"
    }
   },
   "outputs": [
    {
     "name": "stdout",
     "output_type": "stream",
     "text": [
      "text-mining\n",
      "knowledge\n"
     ]
    }
   ],
   "source": [
    "## look for delimiters\n",
    "\n",
    "print(\"text-mining\")\n",
    "check_if_contains(df_textmining, \"gene_name\", delimiters)\n",
    "\n",
    "print(\"knowledge\")\n",
    "check_if_contains(df_knowledge, \"gene_name\", delimiters)\n",
    "\n",
    "## didn't print any stats, so not found"
   ]
  },
  {
   "cell_type": "code",
   "execution_count": 25,
   "id": "838ee490",
   "metadata": {
    "ExecuteTime": {
     "end_time": "2025-08-05T00:22:44.217604Z",
     "start_time": "2025-08-05T00:22:43.642082Z"
    }
   },
   "outputs": [
    {
     "name": "stdout",
     "output_type": "stream",
     "text": [
      "text-mining\n",
      "knowledge\n"
     ]
    }
   ],
   "source": [
    "## look for other ID namespaces\n",
    "\n",
    "print(\"text-mining\")\n",
    "check_if_contains(df_textmining, \"gene_name\", possible_gene_namespaces)\n",
    "\n",
    "print(\"knowledge\")\n",
    "check_if_contains(df_knowledge, \"gene_name\", possible_gene_namespaces)\n",
    "\n",
    "## didn't print any stats, so not found"
   ]
  },
  {
   "cell_type": "code",
   "execution_count": 26,
   "id": "810947d9",
   "metadata": {
    "ExecuteTime": {
     "end_time": "2025-08-05T00:22:49.837927Z",
     "start_time": "2025-08-05T00:22:49.820295Z"
    }
   },
   "outputs": [
    {
     "data": {
      "text/html": [
       "<div>\n",
       "<style scoped>\n",
       "    .dataframe tbody tr th:only-of-type {\n",
       "        vertical-align: middle;\n",
       "    }\n",
       "\n",
       "    .dataframe tbody tr th {\n",
       "        vertical-align: top;\n",
       "    }\n",
       "\n",
       "    .dataframe thead th {\n",
       "        text-align: right;\n",
       "    }\n",
       "</style>\n",
       "<table border=\"1\" class=\"dataframe\">\n",
       "  <thead>\n",
       "    <tr style=\"text-align: right;\">\n",
       "      <th></th>\n",
       "      <th>gene_id</th>\n",
       "      <th>gene_name</th>\n",
       "      <th>disease_id</th>\n",
       "      <th>disease_name</th>\n",
       "      <th>z_score</th>\n",
       "      <th>confidence_score</th>\n",
       "      <th>url</th>\n",
       "    </tr>\n",
       "  </thead>\n",
       "  <tbody>\n",
       "  </tbody>\n",
       "</table>\n",
       "</div>"
      ],
      "text/plain": [
       "Empty DataFrame\n",
       "Columns: [gene_id, gene_name, disease_id, disease_name, z_score, confidence_score, url]\n",
       "Index: []"
      ]
     },
     "execution_count": 26,
     "metadata": {},
     "output_type": "execute_result"
    }
   ],
   "source": [
    "## for textmining only, are there rows with ENSP in gene_name but not gene_id?\n",
    "## not for knowledge: already reviewed manually\n",
    "\n",
    "df_no_ENSP_textmining[df_no_ENSP_textmining[\"gene_name\"].str.contains(\"ENSP\", case=False)]\n",
    "## no, empty df"
   ]
  },
  {
   "cell_type": "markdown",
   "id": "5523f8b8",
   "metadata": {},
   "source": [
    "### disease_id"
   ]
  },
  {
   "cell_type": "markdown",
   "id": "c959f4f2",
   "metadata": {},
   "source": [
    "<div class=\"alert alert-block alert-info\">\n",
    "\n",
    "**A small portion of the data doesn't have DOID IDs!** Instead, they're AmyCo IDs (not usable). **Drop these rows from further parsing (can't NodeNorm)** "
   ]
  },
  {
   "cell_type": "code",
   "execution_count": 27,
   "id": "e4acbeff",
   "metadata": {
    "ExecuteTime": {
     "end_time": "2025-08-05T00:23:07.643540Z",
     "start_time": "2025-08-05T00:23:07.332508Z"
    }
   },
   "outputs": [
    {
     "name": "stdout",
     "output_type": "stream",
     "text": [
      "text-mining\n",
      "knowledge\n"
     ]
    }
   ],
   "source": [
    "## check for delimiters (between prefix and ID, between IDs)\n",
    "## custom set since DOID: has :\n",
    "\n",
    "print(\"text-mining\")\n",
    "check_if_contains(df_textmining, \"disease_id\", [\",\", \";\", \"_\"])\n",
    "\n",
    "print(\"knowledge\")\n",
    "check_if_contains(df_knowledge, \"disease_id\", [\",\", \";\", \"_\"])\n",
    "\n",
    "## didn't print any stats, so not found"
   ]
  },
  {
   "cell_type": "markdown",
   "id": "1d2befee",
   "metadata": {},
   "source": [
    "#### Text-mining stats"
   ]
  },
  {
   "cell_type": "code",
   "execution_count": 28,
   "id": "d5219767",
   "metadata": {
    "ExecuteTime": {
     "end_time": "2025-08-05T00:23:18.286006Z",
     "start_time": "2025-08-05T00:23:18.191530Z"
    }
   },
   "outputs": [
    {
     "data": {
      "text/plain": [
       "(42, 7)"
      ]
     },
     "execution_count": 28,
     "metadata": {},
     "output_type": "execute_result"
    },
    {
     "data": {
      "text/plain": [
       "0.00014573465882475407"
      ]
     },
     "execution_count": 28,
     "metadata": {},
     "output_type": "execute_result"
    }
   ],
   "source": [
    "## how much data doesn't have DOID ID\n",
    "df_no_DOID_textmining = df_textmining[~ df_textmining[\"disease_id\"].str.startswith(\"DOID:\")].copy()\n",
    "df_no_DOID_textmining.shape\n",
    "\n",
    "## vs entire dataset\n",
    "df_no_DOID_textmining.shape[0] / df_textmining.shape[0]"
   ]
  },
  {
   "cell_type": "code",
   "execution_count": 29,
   "id": "4cd4cf2c",
   "metadata": {
    "ExecuteTime": {
     "end_time": "2025-08-05T00:23:29.223179Z",
     "start_time": "2025-08-05T00:23:29.213874Z"
    }
   },
   "outputs": [
    {
     "data": {
      "text/html": [
       "<div>\n",
       "<style scoped>\n",
       "    .dataframe tbody tr th:only-of-type {\n",
       "        vertical-align: middle;\n",
       "    }\n",
       "\n",
       "    .dataframe tbody tr th {\n",
       "        vertical-align: top;\n",
       "    }\n",
       "\n",
       "    .dataframe thead th {\n",
       "        text-align: right;\n",
       "    }\n",
       "</style>\n",
       "<table border=\"1\" class=\"dataframe\">\n",
       "  <thead>\n",
       "    <tr style=\"text-align: right;\">\n",
       "      <th></th>\n",
       "      <th>disease_id</th>\n",
       "      <th>disease_name</th>\n",
       "    </tr>\n",
       "  </thead>\n",
       "  <tbody>\n",
       "    <tr>\n",
       "      <th>51331</th>\n",
       "      <td>AmyCo:23</td>\n",
       "      <td>AH Amyloidosis</td>\n",
       "    </tr>\n",
       "    <tr>\n",
       "      <th>59358</th>\n",
       "      <td>AmyCo:35</td>\n",
       "      <td>Calcifying Epithelial Odontogenic Tumor</td>\n",
       "    </tr>\n",
       "    <tr>\n",
       "      <th>61353</th>\n",
       "      <td>AmyCo:73</td>\n",
       "      <td>Senile Seminal Vesicle Amyloidosis</td>\n",
       "    </tr>\n",
       "    <tr>\n",
       "      <th>79347</th>\n",
       "      <td>AmyCo:30</td>\n",
       "      <td>Wild-type transthyretin-related Amyloidosis</td>\n",
       "    </tr>\n",
       "    <tr>\n",
       "      <th>96503</th>\n",
       "      <td>AmyCo:27</td>\n",
       "      <td>Leukocyte chemotactic factor 2 Amyloidosis</td>\n",
       "    </tr>\n",
       "    <tr>\n",
       "      <th>127495</th>\n",
       "      <td>AmyCo:29</td>\n",
       "      <td>AA Amyloidosis</td>\n",
       "    </tr>\n",
       "    <tr>\n",
       "      <th>176314</th>\n",
       "      <td>AmyCo:37</td>\n",
       "      <td>Isolated Atrial Amyloidosis</td>\n",
       "    </tr>\n",
       "    <tr>\n",
       "      <th>187099</th>\n",
       "      <td>AmyCo:20</td>\n",
       "      <td>Hereditary lysozyme Amyloidosis</td>\n",
       "    </tr>\n",
       "    <tr>\n",
       "      <th>245853</th>\n",
       "      <td>AmyCo:24</td>\n",
       "      <td>AHL Amyloidosis</td>\n",
       "    </tr>\n",
       "    <tr>\n",
       "      <th>254672</th>\n",
       "      <td>AmyCo:8</td>\n",
       "      <td>Immunoglobulin Light-chain Amyloidosis</td>\n",
       "    </tr>\n",
       "    <tr>\n",
       "      <th>262156</th>\n",
       "      <td>AmyCo:36</td>\n",
       "      <td>Variably Protease-Sensitive Prionopathy</td>\n",
       "    </tr>\n",
       "  </tbody>\n",
       "</table>\n",
       "</div>"
      ],
      "text/plain": [
       "       disease_id                                 disease_name\n",
       "51331    AmyCo:23                               AH Amyloidosis\n",
       "59358    AmyCo:35      Calcifying Epithelial Odontogenic Tumor\n",
       "61353    AmyCo:73           Senile Seminal Vesicle Amyloidosis\n",
       "79347    AmyCo:30  Wild-type transthyretin-related Amyloidosis\n",
       "96503    AmyCo:27   Leukocyte chemotactic factor 2 Amyloidosis\n",
       "127495   AmyCo:29                               AA Amyloidosis\n",
       "176314   AmyCo:37                  Isolated Atrial Amyloidosis\n",
       "187099   AmyCo:20              Hereditary lysozyme Amyloidosis\n",
       "245853   AmyCo:24                              AHL Amyloidosis\n",
       "254672    AmyCo:8       Immunoglobulin Light-chain Amyloidosis\n",
       "262156   AmyCo:36      Variably Protease-Sensitive Prionopathy"
      ]
     },
     "execution_count": 29,
     "metadata": {},
     "output_type": "execute_result"
    }
   ],
   "source": [
    "## look at non-DOID data: unique values\n",
    "df_no_DOID_textmining[[\"disease_id\", \"disease_name\"]].drop_duplicates()"
   ]
  },
  {
   "cell_type": "markdown",
   "id": "6a5ef2d4",
   "metadata": {},
   "source": [
    "#### Knowledge stats"
   ]
  },
  {
   "cell_type": "code",
   "execution_count": 30,
   "id": "02f0a9a4",
   "metadata": {
    "ExecuteTime": {
     "end_time": "2025-08-05T00:23:35.862047Z",
     "start_time": "2025-08-05T00:23:35.852521Z"
    }
   },
   "outputs": [
    {
     "data": {
      "text/plain": [
       "(71, 7)"
      ]
     },
     "execution_count": 30,
     "metadata": {},
     "output_type": "execute_result"
    },
    {
     "data": {
      "text/plain": [
       "0.009137709137709138"
      ]
     },
     "execution_count": 30,
     "metadata": {},
     "output_type": "execute_result"
    }
   ],
   "source": [
    "## how much data doesn't have DOID ID\n",
    "df_no_DOID_knowledge = df_knowledge[~ df_knowledge[\"disease_id\"].str.startswith(\"DOID:\")].copy()\n",
    "df_no_DOID_knowledge.shape\n",
    "\n",
    "## vs entire dataset\n",
    "df_no_DOID_knowledge.shape[0] / df_knowledge.shape[0]"
   ]
  },
  {
   "cell_type": "code",
   "execution_count": 31,
   "id": "40ffb380",
   "metadata": {
    "ExecuteTime": {
     "end_time": "2025-08-05T00:23:36.379043Z",
     "start_time": "2025-08-05T00:23:36.370008Z"
    }
   },
   "outputs": [
    {
     "data": {
      "text/html": [
       "<div>\n",
       "<style scoped>\n",
       "    .dataframe tbody tr th:only-of-type {\n",
       "        vertical-align: middle;\n",
       "    }\n",
       "\n",
       "    .dataframe tbody tr th {\n",
       "        vertical-align: top;\n",
       "    }\n",
       "\n",
       "    .dataframe thead th {\n",
       "        text-align: right;\n",
       "    }\n",
       "</style>\n",
       "<table border=\"1\" class=\"dataframe\">\n",
       "  <thead>\n",
       "    <tr style=\"text-align: right;\">\n",
       "      <th></th>\n",
       "      <th>disease_id</th>\n",
       "      <th>disease_name</th>\n",
       "    </tr>\n",
       "  </thead>\n",
       "  <tbody>\n",
       "    <tr>\n",
       "      <th>355</th>\n",
       "      <td>AmyCo:26</td>\n",
       "      <td>Apolipoprotein C-III associated Amyloidosis</td>\n",
       "    </tr>\n",
       "    <tr>\n",
       "      <th>511</th>\n",
       "      <td>AmyCo:16</td>\n",
       "      <td>Localized insulin-derived Amyloidosis</td>\n",
       "    </tr>\n",
       "    <tr>\n",
       "      <th>512</th>\n",
       "      <td>AmyCo:17</td>\n",
       "      <td>Apolipoprotein A-I associated Amyloidosis</td>\n",
       "    </tr>\n",
       "    <tr>\n",
       "      <th>514</th>\n",
       "      <td>AmyCo:63</td>\n",
       "      <td>Enfuvirtide-induced Amyloidosis</td>\n",
       "    </tr>\n",
       "    <tr>\n",
       "      <th>521</th>\n",
       "      <td>AmyCo:30</td>\n",
       "      <td>Wild-type transthyretin-related Amyloidosis</td>\n",
       "    </tr>\n",
       "    <tr>\n",
       "      <th>738</th>\n",
       "      <td>AmyCo:22</td>\n",
       "      <td>Apolipoprotein A-II associated Amyloidosis</td>\n",
       "    </tr>\n",
       "    <tr>\n",
       "      <th>739</th>\n",
       "      <td>AmyCo:23</td>\n",
       "      <td>AH Amyloidosis</td>\n",
       "    </tr>\n",
       "    <tr>\n",
       "      <th>740</th>\n",
       "      <td>AmyCo:24</td>\n",
       "      <td>AHL Amyloidosis</td>\n",
       "    </tr>\n",
       "    <tr>\n",
       "      <th>741</th>\n",
       "      <td>AmyCo:25</td>\n",
       "      <td>Apolipoprotein C-II associated Amyloidosis</td>\n",
       "    </tr>\n",
       "    <tr>\n",
       "      <th>743</th>\n",
       "      <td>AmyCo:27</td>\n",
       "      <td>Leukocyte chemotactic factor 2 Amyloidosis</td>\n",
       "    </tr>\n",
       "    <tr>\n",
       "      <th>744</th>\n",
       "      <td>AmyCo:28</td>\n",
       "      <td>Apolipoprotein A-IV associated Amyloidosis</td>\n",
       "    </tr>\n",
       "    <tr>\n",
       "      <th>745</th>\n",
       "      <td>AmyCo:29</td>\n",
       "      <td>AA Amyloidosis</td>\n",
       "    </tr>\n",
       "    <tr>\n",
       "      <th>746</th>\n",
       "      <td>AmyCo:33</td>\n",
       "      <td>Wild type beta-2-microglobulin-related Amyloidosis</td>\n",
       "    </tr>\n",
       "    <tr>\n",
       "      <th>748</th>\n",
       "      <td>AmyCo:8</td>\n",
       "      <td>Immunoglobulin Light-chain Amyloidosis</td>\n",
       "    </tr>\n",
       "    <tr>\n",
       "      <th>845</th>\n",
       "      <td>AmyCo:67</td>\n",
       "      <td>PrP Systemic Amyloidosis</td>\n",
       "    </tr>\n",
       "    <tr>\n",
       "      <th>1063</th>\n",
       "      <td>AmyCo:20</td>\n",
       "      <td>Hereditary lysozyme Amyloidosis</td>\n",
       "    </tr>\n",
       "    <tr>\n",
       "      <th>1575</th>\n",
       "      <td>AmyCo:40</td>\n",
       "      <td>Medin Amyloidosis</td>\n",
       "    </tr>\n",
       "    <tr>\n",
       "      <th>4635</th>\n",
       "      <td>AmyCo:73</td>\n",
       "      <td>Senile Seminal Vesicle Amyloidosis</td>\n",
       "    </tr>\n",
       "    <tr>\n",
       "      <th>4880</th>\n",
       "      <td>AmyCo:37</td>\n",
       "      <td>Isolated Atrial Amyloidosis</td>\n",
       "    </tr>\n",
       "    <tr>\n",
       "      <th>5510</th>\n",
       "      <td>AmyCo:35</td>\n",
       "      <td>Calcifying Epithelial Odontogenic Tumor</td>\n",
       "    </tr>\n",
       "    <tr>\n",
       "      <th>6053</th>\n",
       "      <td>AmyCo:36</td>\n",
       "      <td>Variably Protease-Sensitive Prionopathy</td>\n",
       "    </tr>\n",
       "    <tr>\n",
       "      <th>7587</th>\n",
       "      <td>AmyCo:75</td>\n",
       "      <td>Hereditary beta-2-microglobulin-related Amyloidosis</td>\n",
       "    </tr>\n",
       "    <tr>\n",
       "      <th>7629</th>\n",
       "      <td>AmyCo:19</td>\n",
       "      <td>Hereditary fibrinogen A alpha-chain Amyloidosis</td>\n",
       "    </tr>\n",
       "  </tbody>\n",
       "</table>\n",
       "</div>"
      ],
      "text/plain": [
       "     disease_id                                         disease_name\n",
       "355    AmyCo:26          Apolipoprotein C-III associated Amyloidosis\n",
       "511    AmyCo:16                Localized insulin-derived Amyloidosis\n",
       "512    AmyCo:17            Apolipoprotein A-I associated Amyloidosis\n",
       "514    AmyCo:63                      Enfuvirtide-induced Amyloidosis\n",
       "521    AmyCo:30          Wild-type transthyretin-related Amyloidosis\n",
       "738    AmyCo:22           Apolipoprotein A-II associated Amyloidosis\n",
       "739    AmyCo:23                                       AH Amyloidosis\n",
       "740    AmyCo:24                                      AHL Amyloidosis\n",
       "741    AmyCo:25           Apolipoprotein C-II associated Amyloidosis\n",
       "743    AmyCo:27           Leukocyte chemotactic factor 2 Amyloidosis\n",
       "744    AmyCo:28           Apolipoprotein A-IV associated Amyloidosis\n",
       "745    AmyCo:29                                       AA Amyloidosis\n",
       "746    AmyCo:33   Wild type beta-2-microglobulin-related Amyloidosis\n",
       "748     AmyCo:8               Immunoglobulin Light-chain Amyloidosis\n",
       "845    AmyCo:67                             PrP Systemic Amyloidosis\n",
       "1063   AmyCo:20                      Hereditary lysozyme Amyloidosis\n",
       "1575   AmyCo:40                                    Medin Amyloidosis\n",
       "4635   AmyCo:73                   Senile Seminal Vesicle Amyloidosis\n",
       "4880   AmyCo:37                          Isolated Atrial Amyloidosis\n",
       "5510   AmyCo:35              Calcifying Epithelial Odontogenic Tumor\n",
       "6053   AmyCo:36              Variably Protease-Sensitive Prionopathy\n",
       "7587   AmyCo:75  Hereditary beta-2-microglobulin-related Amyloidosis\n",
       "7629   AmyCo:19      Hereditary fibrinogen A alpha-chain Amyloidosis"
      ]
     },
     "execution_count": 31,
     "metadata": {},
     "output_type": "execute_result"
    }
   ],
   "source": [
    "## look at non-DOID data: unique values\n",
    "df_no_DOID_knowledge[[\"disease_id\", \"disease_name\"]].drop_duplicates()"
   ]
  },
  {
   "cell_type": "markdown",
   "id": "85cdc0e9",
   "metadata": {},
   "source": [
    "#### Experiments stats"
   ]
  },
  {
   "cell_type": "code",
   "execution_count": 35,
   "id": "7716d82b",
   "metadata": {
    "ExecuteTime": {
     "end_time": "2025-07-28T20:06:27.937888Z",
     "start_time": "2025-07-28T20:06:27.935515Z"
    }
   },
   "outputs": [],
   "source": [
    "# df_experiments[~ df_experiments[\"disease_id\"].str.startswith(\"DOID:\")].shape"
   ]
  },
  {
   "cell_type": "markdown",
   "id": "9a985800",
   "metadata": {},
   "source": [
    "### Other columns"
   ]
  },
  {
   "cell_type": "markdown",
   "id": "4b2b6757",
   "metadata": {},
   "source": [
    "Quick checks on what other data looks like. \n",
    "\n",
    "Didn't review disease_name: already reviewed non-DOID rows, don't need in Translator output "
   ]
  },
  {
   "cell_type": "markdown",
   "id": "46823004",
   "metadata": {},
   "source": [
    "#### Text-mining"
   ]
  },
  {
   "cell_type": "code",
   "execution_count": 32,
   "id": "7a5b84bb",
   "metadata": {
    "ExecuteTime": {
     "end_time": "2025-08-05T00:24:18.796733Z",
     "start_time": "2025-08-05T00:24:18.759867Z"
    }
   },
   "outputs": [
    {
     "data": {
      "text/plain": [
       "count    288195.000000\n",
       "mean          3.900166\n",
       "std           0.825129\n",
       "min           3.000000\n",
       "25%           3.279000\n",
       "50%           3.663000\n",
       "75%           4.280000\n",
       "max          10.053000\n",
       "Name: z_score, dtype: float64"
      ]
     },
     "execution_count": 32,
     "metadata": {},
     "output_type": "execute_result"
    },
    {
     "data": {
      "text/plain": [
       "count    288195.000000\n",
       "mean          1.949927\n",
       "std           0.411716\n",
       "min           1.500000\n",
       "25%           1.639000\n",
       "50%           1.832000\n",
       "75%           2.140000\n",
       "max           4.000000\n",
       "Name: confidence_score, dtype: float64"
      ]
     },
     "execution_count": 32,
     "metadata": {},
     "output_type": "execute_result"
    },
    {
     "data": {
      "text/plain": [
       "(7971, 7)"
      ]
     },
     "execution_count": 32,
     "metadata": {},
     "output_type": "execute_result"
    }
   ],
   "source": [
    "## minimum being 3 means filtering was probably done, to remove anything with low z-score\n",
    "df_textmining[\"z_score\"].describe()\n",
    "\n",
    "## 1 = 2 standard deviations above mean, cutoff at 4\n",
    "df_textmining[\"confidence_score\"].describe()\n",
    "\n",
    "## very small subset of data has a higher confidence score\n",
    "df_textmining[df_textmining[\"confidence_score\"] >= 3].shape"
   ]
  },
  {
   "cell_type": "code",
   "execution_count": 33,
   "id": "6f4ee4c1",
   "metadata": {
    "ExecuteTime": {
     "end_time": "2025-08-05T00:25:24.780572Z",
     "start_time": "2025-08-05T00:25:24.546415Z"
    }
   },
   "outputs": [],
   "source": [
    "## url: check for delimiters (multiple urls)\n",
    "## custom set since DOID: (:), some names have _\n",
    "\n",
    "check_if_contains(df_textmining, \"url\", [\",\", \";\"])\n",
    "\n",
    "## didn't print any stats, so not found"
   ]
  },
  {
   "cell_type": "code",
   "execution_count": 34,
   "id": "b3659488",
   "metadata": {
    "ExecuteTime": {
     "end_time": "2025-08-05T00:25:25.720653Z",
     "start_time": "2025-08-05T00:25:25.675961Z"
    }
   },
   "outputs": [
    {
     "data": {
      "text/html": [
       "<div>\n",
       "<style scoped>\n",
       "    .dataframe tbody tr th:only-of-type {\n",
       "        vertical-align: middle;\n",
       "    }\n",
       "\n",
       "    .dataframe tbody tr th {\n",
       "        vertical-align: top;\n",
       "    }\n",
       "\n",
       "    .dataframe thead th {\n",
       "        text-align: right;\n",
       "    }\n",
       "</style>\n",
       "<table border=\"1\" class=\"dataframe\">\n",
       "  <thead>\n",
       "    <tr style=\"text-align: right;\">\n",
       "      <th></th>\n",
       "      <th>gene_id</th>\n",
       "      <th>gene_name</th>\n",
       "      <th>disease_id</th>\n",
       "      <th>disease_name</th>\n",
       "      <th>z_score</th>\n",
       "      <th>confidence_score</th>\n",
       "      <th>url</th>\n",
       "    </tr>\n",
       "  </thead>\n",
       "  <tbody>\n",
       "  </tbody>\n",
       "</table>\n",
       "</div>"
      ],
      "text/plain": [
       "Empty DataFrame\n",
       "Columns: [gene_id, gene_name, disease_id, disease_name, z_score, confidence_score, url]\n",
       "Index: []"
      ]
     },
     "execution_count": 34,
     "metadata": {},
     "output_type": "execute_result"
    }
   ],
   "source": [
    "## url: check for whitespace - none\n",
    "\n",
    "df_textmining[df_textmining[\"url\"].str.isspace()]"
   ]
  },
  {
   "cell_type": "markdown",
   "id": "cc14434c",
   "metadata": {},
   "source": [
    "#### Knowledge"
   ]
  },
  {
   "cell_type": "code",
   "execution_count": 35,
   "id": "a24b9be5",
   "metadata": {
    "ExecuteTime": {
     "end_time": "2025-08-05T00:25:33.241369Z",
     "start_time": "2025-08-05T00:25:33.234869Z"
    }
   },
   "outputs": [
    {
     "data": {
      "text/plain": [
       "source_db\n",
       "MedlinePlus     3889\n",
       "UniProtKB-KW    3624\n",
       "AmyCo            257\n",
       "Name: count, dtype: int64"
      ]
     },
     "execution_count": 35,
     "metadata": {},
     "output_type": "execute_result"
    }
   ],
   "source": [
    "df_knowledge[\"source_db\"].value_counts()"
   ]
  },
  {
   "cell_type": "code",
   "execution_count": 36,
   "id": "d21b8cb7",
   "metadata": {
    "ExecuteTime": {
     "end_time": "2025-08-05T00:25:34.877788Z",
     "start_time": "2025-08-05T00:25:34.871201Z"
    }
   },
   "outputs": [
    {
     "data": {
      "text/plain": [
       "evidence_type\n",
       "CURATED    7770\n",
       "Name: count, dtype: int64"
      ]
     },
     "execution_count": 36,
     "metadata": {},
     "output_type": "execute_result"
    }
   ],
   "source": [
    "df_knowledge[\"evidence_type\"].value_counts()\n",
    "## always the same value"
   ]
  },
  {
   "cell_type": "code",
   "execution_count": 37,
   "id": "e5a29a4f",
   "metadata": {
    "ExecuteTime": {
     "end_time": "2025-08-05T00:25:37.499833Z",
     "start_time": "2025-08-05T00:25:37.493884Z"
    },
    "scrolled": true
   },
   "outputs": [
    {
     "data": {
      "text/plain": [
       "confidence_score\n",
       "5    3889\n",
       "4    3830\n",
       "3      35\n",
       "2      16\n",
       "Name: count, dtype: int64"
      ]
     },
     "execution_count": 37,
     "metadata": {},
     "output_type": "execute_result"
    }
   ],
   "source": [
    "df_knowledge[\"confidence_score\"].value_counts()"
   ]
  },
  {
   "cell_type": "markdown",
   "id": "1df11234",
   "metadata": {},
   "source": [
    "#### Experiments"
   ]
  },
  {
   "cell_type": "code",
   "execution_count": 42,
   "id": "92e89611",
   "metadata": {
    "ExecuteTime": {
     "end_time": "2025-07-28T20:06:28.312509Z",
     "start_time": "2025-07-28T20:06:28.309077Z"
    }
   },
   "outputs": [],
   "source": [
    "# df_experiments[\"confidence_score\"].describe()"
   ]
  },
  {
   "cell_type": "code",
   "execution_count": 43,
   "id": "10c22fe8",
   "metadata": {
    "ExecuteTime": {
     "end_time": "2025-07-28T20:06:28.319871Z",
     "start_time": "2025-07-28T20:06:28.316211Z"
    }
   },
   "outputs": [],
   "source": [
    "# check_if_contains(df_experiments, \"source_score\", [\"MeanRankScore = \"])"
   ]
  },
  {
   "cell_type": "code",
   "execution_count": 44,
   "id": "6002490d",
   "metadata": {
    "ExecuteTime": {
     "end_time": "2025-07-28T20:06:28.325672Z",
     "start_time": "2025-07-28T20:06:28.322875Z"
    }
   },
   "outputs": [],
   "source": [
    "# df_experiments[\"MeanRankScore\"] = df_experiments[\"source_score\"].str.split(pat=\"MeanRankScore = \", expand=True)[1].astype(\"int\")"
   ]
  },
  {
   "cell_type": "code",
   "execution_count": 45,
   "id": "80703d81",
   "metadata": {
    "ExecuteTime": {
     "end_time": "2025-07-28T20:06:28.333333Z",
     "start_time": "2025-07-28T20:06:28.329461Z"
    }
   },
   "outputs": [],
   "source": [
    "# df_experiments[\"MeanRankScore\"].describe()"
   ]
  },
  {
   "cell_type": "markdown",
   "id": "608993f4",
   "metadata": {},
   "source": [
    "## Remove rows"
   ]
  },
  {
   "cell_type": "markdown",
   "id": "07946299",
   "metadata": {},
   "source": [
    "<div class=\"alert alert-block alert-info\">\n",
    "\n",
    "Removing:\n",
    "* knowledge's UniProtKB-KW data: Doesn't seem accurate, Likely has licensing issues (OMIM). Analysis in Slack canvas\n",
    "* rows that don't have ENSP IDs in gene_id column: can't NodeNorm them\n",
    "* rows that don't have DOID IDs in disease_id column: can't NodeNorm them\n",
    "\n",
    "    Not removing duplicates! Because planning to ingest file in chunks, so need other method (check set of already-done). "
   ]
  },
  {
   "cell_type": "code",
   "execution_count": 38,
   "id": "a14061b3",
   "metadata": {
    "ExecuteTime": {
     "end_time": "2025-08-05T00:26:22.815788Z",
     "start_time": "2025-08-05T00:26:22.813313Z"
    }
   },
   "outputs": [],
   "source": [
    "## calculate stats before removing\n",
    "\n",
    "nrows_textmining_original = df_textmining.shape[0]\n",
    "nrows_knowledge_original = df_knowledge.shape[0]"
   ]
  },
  {
   "cell_type": "code",
   "execution_count": 39,
   "id": "4ee8e2ae",
   "metadata": {
    "ExecuteTime": {
     "end_time": "2025-08-05T00:26:23.624883Z",
     "start_time": "2025-08-05T00:26:23.619345Z"
    }
   },
   "outputs": [
    {
     "name": "stdout",
     "output_type": "stream",
     "text": [
      "knowledge: 3624 rows removed\n"
     ]
    }
   ],
   "source": [
    "## put into parser (don't do stats, print)\n",
    "\n",
    "## remove knowledge's UniProtKB-KW data\n",
    "df_knowledge = df_knowledge[df_knowledge[\"source_db\"] != \"UniProtKB-KW\"]\n",
    "\n",
    "## stats\n",
    "nrows_knowledge_filtered = df_knowledge.shape[0]\n",
    "print(f\"knowledge: {nrows_knowledge_original - nrows_knowledge_filtered} rows removed\")"
   ]
  },
  {
   "cell_type": "code",
   "execution_count": 40,
   "id": "7a52ce49",
   "metadata": {
    "ExecuteTime": {
     "end_time": "2025-08-05T00:26:24.400610Z",
     "start_time": "2025-08-05T00:26:24.289705Z"
    }
   },
   "outputs": [
    {
     "name": "stdout",
     "output_type": "stream",
     "text": [
      "textmining: 16481 rows removed\n",
      "knowledge: 41 rows removed\n"
     ]
    }
   ],
   "source": [
    "## put into parser (don't do stats, print)\n",
    "\n",
    "## remove rows that don't have ENSP IDs\n",
    "df_textmining = df_textmining[df_textmining[\"gene_id\"].str.startswith(\"ENSP\")]\n",
    "df_knowledge = df_knowledge[df_knowledge[\"gene_id\"].str.startswith(\"ENSP\")]\n",
    "\n",
    "\n",
    "## stats\n",
    "nrows_textmining_filtered = df_textmining.shape[0]\n",
    "print(f\"textmining: {nrows_textmining_original - nrows_textmining_filtered} rows removed\")\n",
    "## don't rewrite variable yet, so you can compare previous to now\n",
    "print(f\"knowledge: {nrows_knowledge_filtered - df_knowledge.shape[0]} rows removed\")\n",
    "\n",
    "## update this variable\n",
    "nrows_knowledge_filtered = df_knowledge.shape[0]"
   ]
  },
  {
   "cell_type": "code",
   "execution_count": 41,
   "id": "30f51663",
   "metadata": {
    "ExecuteTime": {
     "end_time": "2025-08-05T00:26:26.734102Z",
     "start_time": "2025-08-05T00:26:26.621913Z"
    }
   },
   "outputs": [
    {
     "name": "stdout",
     "output_type": "stream",
     "text": [
      "textmining: 42 rows removed\n",
      "knowledge: 71 rows removed\n"
     ]
    }
   ],
   "source": [
    "## put into parser (don't do stats, print)\n",
    "\n",
    "## remove rows that don't have DOID IDs\n",
    "df_textmining = df_textmining[df_textmining[\"disease_id\"].str.startswith(\"DOID:\")]\n",
    "df_knowledge = df_knowledge[df_knowledge[\"disease_id\"].str.startswith(\"DOID:\")]\n",
    "\n",
    "\n",
    "## stats\n",
    "## don't rewrite variable yet, so you can compare previous to now\n",
    "print(f\"textmining: {nrows_textmining_filtered - df_textmining.shape[0]} rows removed\")\n",
    "print(f\"knowledge: {nrows_knowledge_filtered - df_knowledge.shape[0]} rows removed\")\n",
    "\n",
    "## update this variable\n",
    "nrows_textmining_filtered = df_textmining.shape[0]\n",
    "nrows_knowledge_filtered = df_knowledge.shape[0]"
   ]
  },
  {
   "cell_type": "code",
   "execution_count": 42,
   "id": "0ed627c8",
   "metadata": {
    "ExecuteTime": {
     "end_time": "2025-08-05T00:26:29.126790Z",
     "start_time": "2025-08-05T00:26:29.114870Z"
    }
   },
   "outputs": [
    {
     "data": {
      "text/html": [
       "<div>\n",
       "<style scoped>\n",
       "    .dataframe tbody tr th:only-of-type {\n",
       "        vertical-align: middle;\n",
       "    }\n",
       "\n",
       "    .dataframe tbody tr th {\n",
       "        vertical-align: top;\n",
       "    }\n",
       "\n",
       "    .dataframe thead th {\n",
       "        text-align: right;\n",
       "    }\n",
       "</style>\n",
       "<table border=\"1\" class=\"dataframe\">\n",
       "  <thead>\n",
       "    <tr style=\"text-align: right;\">\n",
       "      <th></th>\n",
       "      <th>gene_id</th>\n",
       "      <th>gene_name</th>\n",
       "      <th>disease_id</th>\n",
       "      <th>disease_name</th>\n",
       "      <th>source_db</th>\n",
       "      <th>evidence_type</th>\n",
       "      <th>confidence_score</th>\n",
       "    </tr>\n",
       "  </thead>\n",
       "  <tbody>\n",
       "    <tr>\n",
       "      <th>64</th>\n",
       "      <td>ENSP00000167586</td>\n",
       "      <td>KRT14</td>\n",
       "      <td>DOID:0050430</td>\n",
       "      <td>Multiple endocrine neoplasia type 2A</td>\n",
       "      <td>AmyCo</td>\n",
       "      <td>CURATED</td>\n",
       "      <td>2</td>\n",
       "    </tr>\n",
       "    <tr>\n",
       "      <th>65</th>\n",
       "      <td>ENSP00000167586</td>\n",
       "      <td>KRT14</td>\n",
       "      <td>DOID:0050639</td>\n",
       "      <td>Primary cutaneous amyloidosis</td>\n",
       "      <td>AmyCo</td>\n",
       "      <td>CURATED</td>\n",
       "      <td>4</td>\n",
       "    </tr>\n",
       "    <tr>\n",
       "      <th>67</th>\n",
       "      <td>ENSP00000167586</td>\n",
       "      <td>KRT14</td>\n",
       "      <td>DOID:2513</td>\n",
       "      <td>Basal cell carcinoma</td>\n",
       "      <td>AmyCo</td>\n",
       "      <td>CURATED</td>\n",
       "      <td>4</td>\n",
       "    </tr>\n",
       "    <tr>\n",
       "      <th>71</th>\n",
       "      <td>ENSP00000167586</td>\n",
       "      <td>KRT14</td>\n",
       "      <td>DOID:6498</td>\n",
       "      <td>Seborrheic keratosis</td>\n",
       "      <td>AmyCo</td>\n",
       "      <td>CURATED</td>\n",
       "      <td>4</td>\n",
       "    </tr>\n",
       "    <tr>\n",
       "      <th>72</th>\n",
       "      <td>ENSP00000167586</td>\n",
       "      <td>KRT14</td>\n",
       "      <td>DOID:7039</td>\n",
       "      <td>Borst-Jadassohn intraepidermal carcinoma</td>\n",
       "      <td>AmyCo</td>\n",
       "      <td>CURATED</td>\n",
       "      <td>3</td>\n",
       "    </tr>\n",
       "    <tr>\n",
       "      <th>...</th>\n",
       "      <td>...</td>\n",
       "      <td>...</td>\n",
       "      <td>...</td>\n",
       "      <td>...</td>\n",
       "      <td>...</td>\n",
       "      <td>...</td>\n",
       "      <td>...</td>\n",
       "    </tr>\n",
       "    <tr>\n",
       "      <th>7530</th>\n",
       "      <td>ENSP00000497221</td>\n",
       "      <td>ITM2B</td>\n",
       "      <td>DOID:0070029</td>\n",
       "      <td>ITM2B-related cerebral amyloid angiopathy 1</td>\n",
       "      <td>AmyCo</td>\n",
       "      <td>CURATED</td>\n",
       "      <td>4</td>\n",
       "    </tr>\n",
       "    <tr>\n",
       "      <th>7531</th>\n",
       "      <td>ENSP00000497221</td>\n",
       "      <td>ITM2B</td>\n",
       "      <td>DOID:0070030</td>\n",
       "      <td>ITM2B-related cerebral amyloid angiopathy 2</td>\n",
       "      <td>AmyCo</td>\n",
       "      <td>CURATED</td>\n",
       "      <td>4</td>\n",
       "    </tr>\n",
       "    <tr>\n",
       "      <th>7588</th>\n",
       "      <td>ENSP00000497910</td>\n",
       "      <td>B2M</td>\n",
       "      <td>DOID:0050747</td>\n",
       "      <td>DOID:0050747</td>\n",
       "      <td>AmyCo</td>\n",
       "      <td>CURATED</td>\n",
       "      <td>4</td>\n",
       "    </tr>\n",
       "    <tr>\n",
       "      <th>7717</th>\n",
       "      <td>ENSP00000500990</td>\n",
       "      <td>SNCA</td>\n",
       "      <td>DOID:12217</td>\n",
       "      <td>Lewy body dementia</td>\n",
       "      <td>AmyCo</td>\n",
       "      <td>CURATED</td>\n",
       "      <td>4</td>\n",
       "    </tr>\n",
       "    <tr>\n",
       "      <th>7720</th>\n",
       "      <td>ENSP00000500990</td>\n",
       "      <td>SNCA</td>\n",
       "      <td>DOID:14330</td>\n",
       "      <td>Parkinson's disease</td>\n",
       "      <td>AmyCo</td>\n",
       "      <td>CURATED</td>\n",
       "      <td>4</td>\n",
       "    </tr>\n",
       "  </tbody>\n",
       "</table>\n",
       "<p>186 rows × 7 columns</p>\n",
       "</div>"
      ],
      "text/plain": [
       "              gene_id gene_name    disease_id  \\\n",
       "64    ENSP00000167586     KRT14  DOID:0050430   \n",
       "65    ENSP00000167586     KRT14  DOID:0050639   \n",
       "67    ENSP00000167586     KRT14     DOID:2513   \n",
       "71    ENSP00000167586     KRT14     DOID:6498   \n",
       "72    ENSP00000167586     KRT14     DOID:7039   \n",
       "...               ...       ...           ...   \n",
       "7530  ENSP00000497221     ITM2B  DOID:0070029   \n",
       "7531  ENSP00000497221     ITM2B  DOID:0070030   \n",
       "7588  ENSP00000497910       B2M  DOID:0050747   \n",
       "7717  ENSP00000500990      SNCA    DOID:12217   \n",
       "7720  ENSP00000500990      SNCA    DOID:14330   \n",
       "\n",
       "                                     disease_name source_db evidence_type  \\\n",
       "64           Multiple endocrine neoplasia type 2A     AmyCo       CURATED   \n",
       "65                  Primary cutaneous amyloidosis     AmyCo       CURATED   \n",
       "67                           Basal cell carcinoma     AmyCo       CURATED   \n",
       "71                           Seborrheic keratosis     AmyCo       CURATED   \n",
       "72       Borst-Jadassohn intraepidermal carcinoma     AmyCo       CURATED   \n",
       "...                                           ...       ...           ...   \n",
       "7530  ITM2B-related cerebral amyloid angiopathy 1     AmyCo       CURATED   \n",
       "7531  ITM2B-related cerebral amyloid angiopathy 2     AmyCo       CURATED   \n",
       "7588                                 DOID:0050747     AmyCo       CURATED   \n",
       "7717                           Lewy body dementia     AmyCo       CURATED   \n",
       "7720                          Parkinson's disease     AmyCo       CURATED   \n",
       "\n",
       "      confidence_score  \n",
       "64                   2  \n",
       "65                   4  \n",
       "67                   4  \n",
       "71                   4  \n",
       "72                   3  \n",
       "...                ...  \n",
       "7530                 4  \n",
       "7531                 4  \n",
       "7588                 4  \n",
       "7717                 4  \n",
       "7720                 4  \n",
       "\n",
       "[186 rows x 7 columns]"
      ]
     },
     "execution_count": 42,
     "metadata": {},
     "output_type": "execute_result"
    }
   ],
   "source": [
    "## code to reviewing dataframes, make sure all removed properly\n",
    "\n",
    "# df_textmining\n",
    "# df_textmining[~ df_textmining[\"disease_id\"].str.contains(\"DOID\")]\n",
    "\n",
    "# df_knowledge\n",
    "# df_knowledge[~ df_knowledge[\"disease_id\"].str.contains(\"DOID\")]\n",
    "# df_knowledge[df_knowledge[\"source_db\"] == \"UniProtKB-KW\"]\n",
    "\n",
    "## AmyCo data still in database (wasn't all under AmyCo disease IDs)\n",
    "df_knowledge[df_knowledge[\"source_db\"] == \"AmyCo\"]"
   ]
  },
  {
   "cell_type": "markdown",
   "id": "a797c65d",
   "metadata": {},
   "source": [
    "## Pre-NodeNorming"
   ]
  },
  {
   "cell_type": "markdown",
   "id": "53bbb3c6",
   "metadata": {},
   "source": [
    "Keep this section in data-playground so can keep analysis here of \"NodeNormed duplicates\""
   ]
  },
  {
   "cell_type": "code",
   "execution_count": 43,
   "id": "38cf08b5",
   "metadata": {
    "ExecuteTime": {
     "end_time": "2025-08-05T00:27:56.232296Z",
     "start_time": "2025-08-05T00:27:56.198034Z"
    }
   },
   "outputs": [],
   "source": [
    "## put into parser (format)\n",
    "\n",
    "## adding Translator/biolink prefixes to gene ID, for NodeNorming\n",
    "## don't need to do DOID, already in right format\n",
    "\n",
    "## loop for notebook only, to do both dataframes \n",
    "for df in [df_textmining, df_knowledge]:\n",
    "    df[\"gene_id\"] = \"ENSEMBL:\" + df[\"gene_id\"]"
   ]
  },
  {
   "cell_type": "code",
   "execution_count": 44,
   "id": "ed2645c0",
   "metadata": {
    "ExecuteTime": {
     "end_time": "2025-08-05T00:27:56.920868Z",
     "start_time": "2025-08-05T00:27:56.910350Z"
    }
   },
   "outputs": [
    {
     "data": {
      "text/html": [
       "<div>\n",
       "<style scoped>\n",
       "    .dataframe tbody tr th:only-of-type {\n",
       "        vertical-align: middle;\n",
       "    }\n",
       "\n",
       "    .dataframe tbody tr th {\n",
       "        vertical-align: top;\n",
       "    }\n",
       "\n",
       "    .dataframe thead th {\n",
       "        text-align: right;\n",
       "    }\n",
       "</style>\n",
       "<table border=\"1\" class=\"dataframe\">\n",
       "  <thead>\n",
       "    <tr style=\"text-align: right;\">\n",
       "      <th></th>\n",
       "      <th>gene_id</th>\n",
       "      <th>gene_name</th>\n",
       "      <th>disease_id</th>\n",
       "      <th>disease_name</th>\n",
       "      <th>source_db</th>\n",
       "      <th>evidence_type</th>\n",
       "      <th>confidence_score</th>\n",
       "    </tr>\n",
       "  </thead>\n",
       "  <tbody>\n",
       "    <tr>\n",
       "      <th>2</th>\n",
       "      <td>ENSEMBL:ENSP00000003084</td>\n",
       "      <td>CFTR</td>\n",
       "      <td>DOID:0111862</td>\n",
       "      <td>Congenital bilateral absence of vas deferens</td>\n",
       "      <td>MedlinePlus</td>\n",
       "      <td>CURATED</td>\n",
       "      <td>5</td>\n",
       "    </tr>\n",
       "    <tr>\n",
       "      <th>3</th>\n",
       "      <td>ENSEMBL:ENSP00000003084</td>\n",
       "      <td>CFTR</td>\n",
       "      <td>DOID:1485</td>\n",
       "      <td>Cystic fibrosis</td>\n",
       "      <td>MedlinePlus</td>\n",
       "      <td>CURATED</td>\n",
       "      <td>5</td>\n",
       "    </tr>\n",
       "    <tr>\n",
       "      <th>4</th>\n",
       "      <td>ENSEMBL:ENSP00000005226</td>\n",
       "      <td>USH1C</td>\n",
       "      <td>DOID:0050439</td>\n",
       "      <td>Usher syndrome</td>\n",
       "      <td>MedlinePlus</td>\n",
       "      <td>CURATED</td>\n",
       "      <td>5</td>\n",
       "    </tr>\n",
       "    <tr>\n",
       "      <th>5</th>\n",
       "      <td>ENSEMBL:ENSP00000005226</td>\n",
       "      <td>USH1C</td>\n",
       "      <td>DOID:0050563</td>\n",
       "      <td>Nonsyndromic deafness</td>\n",
       "      <td>MedlinePlus</td>\n",
       "      <td>CURATED</td>\n",
       "      <td>5</td>\n",
       "    </tr>\n",
       "    <tr>\n",
       "      <th>11</th>\n",
       "      <td>ENSEMBL:ENSP00000013807</td>\n",
       "      <td>ERCC1</td>\n",
       "      <td>DOID:0050427</td>\n",
       "      <td>Xeroderma pigmentosum</td>\n",
       "      <td>MedlinePlus</td>\n",
       "      <td>CURATED</td>\n",
       "      <td>5</td>\n",
       "    </tr>\n",
       "    <tr>\n",
       "      <th>...</th>\n",
       "      <td>...</td>\n",
       "      <td>...</td>\n",
       "      <td>...</td>\n",
       "      <td>...</td>\n",
       "      <td>...</td>\n",
       "      <td>...</td>\n",
       "      <td>...</td>\n",
       "    </tr>\n",
       "    <tr>\n",
       "      <th>7723</th>\n",
       "      <td>ENSEMBL:ENSP00000500990</td>\n",
       "      <td>SNCA</td>\n",
       "      <td>DOID:4752</td>\n",
       "      <td>Multiple system atrophy</td>\n",
       "      <td>MedlinePlus</td>\n",
       "      <td>CURATED</td>\n",
       "      <td>5</td>\n",
       "    </tr>\n",
       "    <tr>\n",
       "      <th>7724</th>\n",
       "      <td>ENSEMBL:ENSP00000501092</td>\n",
       "      <td>TFAP2A</td>\n",
       "      <td>DOID:0050691</td>\n",
       "      <td>Branchiooculofacial syndrome</td>\n",
       "      <td>MedlinePlus</td>\n",
       "      <td>CURATED</td>\n",
       "      <td>5</td>\n",
       "    </tr>\n",
       "    <tr>\n",
       "      <th>7725</th>\n",
       "      <td>ENSEMBL:ENSP00000501092</td>\n",
       "      <td>TFAP2A</td>\n",
       "      <td>DOID:10629</td>\n",
       "      <td>Microphthalmia</td>\n",
       "      <td>MedlinePlus</td>\n",
       "      <td>CURATED</td>\n",
       "      <td>5</td>\n",
       "    </tr>\n",
       "    <tr>\n",
       "      <th>7726</th>\n",
       "      <td>ENSEMBL:ENSP00000501092</td>\n",
       "      <td>TFAP2A</td>\n",
       "      <td>DOID:12270</td>\n",
       "      <td>Coloboma</td>\n",
       "      <td>MedlinePlus</td>\n",
       "      <td>CURATED</td>\n",
       "      <td>5</td>\n",
       "    </tr>\n",
       "    <tr>\n",
       "      <th>7727</th>\n",
       "      <td>ENSEMBL:ENSP00000501111</td>\n",
       "      <td>CEL</td>\n",
       "      <td>DOID:0050524</td>\n",
       "      <td>maturity-onset diabetes of the young</td>\n",
       "      <td>MedlinePlus</td>\n",
       "      <td>CURATED</td>\n",
       "      <td>5</td>\n",
       "    </tr>\n",
       "  </tbody>\n",
       "</table>\n",
       "<p>4034 rows × 7 columns</p>\n",
       "</div>"
      ],
      "text/plain": [
       "                      gene_id gene_name    disease_id  \\\n",
       "2     ENSEMBL:ENSP00000003084      CFTR  DOID:0111862   \n",
       "3     ENSEMBL:ENSP00000003084      CFTR     DOID:1485   \n",
       "4     ENSEMBL:ENSP00000005226     USH1C  DOID:0050439   \n",
       "5     ENSEMBL:ENSP00000005226     USH1C  DOID:0050563   \n",
       "11    ENSEMBL:ENSP00000013807     ERCC1  DOID:0050427   \n",
       "...                       ...       ...           ...   \n",
       "7723  ENSEMBL:ENSP00000500990      SNCA     DOID:4752   \n",
       "7724  ENSEMBL:ENSP00000501092    TFAP2A  DOID:0050691   \n",
       "7725  ENSEMBL:ENSP00000501092    TFAP2A    DOID:10629   \n",
       "7726  ENSEMBL:ENSP00000501092    TFAP2A    DOID:12270   \n",
       "7727  ENSEMBL:ENSP00000501111       CEL  DOID:0050524   \n",
       "\n",
       "                                      disease_name    source_db evidence_type  \\\n",
       "2     Congenital bilateral absence of vas deferens  MedlinePlus       CURATED   \n",
       "3                                  Cystic fibrosis  MedlinePlus       CURATED   \n",
       "4                                   Usher syndrome  MedlinePlus       CURATED   \n",
       "5                            Nonsyndromic deafness  MedlinePlus       CURATED   \n",
       "11                           Xeroderma pigmentosum  MedlinePlus       CURATED   \n",
       "...                                            ...          ...           ...   \n",
       "7723                       Multiple system atrophy  MedlinePlus       CURATED   \n",
       "7724                  Branchiooculofacial syndrome  MedlinePlus       CURATED   \n",
       "7725                                Microphthalmia  MedlinePlus       CURATED   \n",
       "7726                                      Coloboma  MedlinePlus       CURATED   \n",
       "7727          maturity-onset diabetes of the young  MedlinePlus       CURATED   \n",
       "\n",
       "      confidence_score  \n",
       "2                    5  \n",
       "3                    5  \n",
       "4                    5  \n",
       "5                    5  \n",
       "11                   5  \n",
       "...                ...  \n",
       "7723                 5  \n",
       "7724                 5  \n",
       "7725                 5  \n",
       "7726                 5  \n",
       "7727                 5  \n",
       "\n",
       "[4034 rows x 7 columns]"
      ]
     },
     "execution_count": 44,
     "metadata": {},
     "output_type": "execute_result"
    }
   ],
   "source": [
    "## double-check how they look\n",
    "\n",
    "df_knowledge"
   ]
  },
  {
   "cell_type": "markdown",
   "id": "377992a6",
   "metadata": {},
   "source": [
    "Querying NodeNorm: send unique values (no duplicates!) in large batches -> generate mapping dict to use. \n",
    "<br>\n",
    "__Not querying 1-by-1 or 1 row at a time: much slower__ and would involve sending duplicate IDs (unless saved dict is kept outside loop and checked) "
   ]
  },
  {
   "cell_type": "markdown",
   "id": "1266243a",
   "metadata": {},
   "source": [
    "<div class=\"alert alert-block alert-danger\">\n",
    "\n",
    "Set the NodeNorm URL you want to use. "
   ]
  },
  {
   "cell_type": "code",
   "execution_count": 45,
   "id": "ec7095c7",
   "metadata": {
    "ExecuteTime": {
     "end_time": "2025-08-05T00:28:00.775537Z",
     "start_time": "2025-08-05T00:28:00.660096Z"
    }
   },
   "outputs": [],
   "source": [
    "## put into parser (format)\n",
    "\n",
    "import requests\n",
    "\n",
    "## from BioThings annotator code: for interoperability between diff Python versions\n",
    "try:\n",
    "    from itertools import batched  # new in Python 3.12\n",
    "except ImportError:\n",
    "    from itertools import islice\n",
    "\n",
    "    def batched(iterable, n):\n",
    "        # batched('ABCDEFG', 3) → ABC DEF G\n",
    "        if n < 1:\n",
    "            raise ValueError(\"n must be at least one\")\n",
    "        iterator = iter(iterable)\n",
    "        while batch := tuple(islice(iterator, n)):\n",
    "            yield batch\n",
    "\n",
    "## dev instance\n",
    "# nodenorm_url = \"https://nodenormalization-sri.renci.org/get_normalized_nodes\"\n",
    "nodenorm_url = \"https://nodenorm.ci.transltr.io/get_normalized_nodes\""
   ]
  },
  {
   "cell_type": "markdown",
   "id": "fd327545",
   "metadata": {},
   "source": [
    "### Genes"
   ]
  },
  {
   "cell_type": "code",
   "execution_count": 46,
   "id": "54f32d70",
   "metadata": {
    "ExecuteTime": {
     "end_time": "2025-08-05T00:28:02.792482Z",
     "start_time": "2025-08-05T00:28:02.755488Z"
    }
   },
   "outputs": [
    {
     "data": {
      "text/plain": [
       "16854"
      ]
     },
     "execution_count": 46,
     "metadata": {},
     "output_type": "execute_result"
    },
    {
     "data": {
      "text/plain": [
       "2567"
      ]
     },
     "execution_count": 46,
     "metadata": {},
     "output_type": "execute_result"
    },
    {
     "data": {
      "text/plain": [
       "16857"
      ]
     },
     "execution_count": 46,
     "metadata": {},
     "output_type": "execute_result"
    }
   ],
   "source": [
    "## put into parser (set unique on curie list)\n",
    "\n",
    "## get set of unique CURIEs to put into NodeNorm\n",
    "geneIDs_textmining = set(df_textmining[\"gene_id\"].unique())\n",
    "geneIDs_knowledge = set(df_knowledge[\"gene_id\"].unique())\n",
    "geneIDs_all = geneIDs_textmining | geneIDs_knowledge\n",
    "\n",
    "len(geneIDs_textmining)\n",
    "len(geneIDs_knowledge)\n",
    "len(geneIDs_all)"
   ]
  },
  {
   "cell_type": "code",
   "execution_count": 47,
   "id": "e98887c0",
   "metadata": {
    "ExecuteTime": {
     "end_time": "2025-08-05T00:28:04.511322Z",
     "start_time": "2025-08-05T00:28:04.508115Z"
    }
   },
   "outputs": [],
   "source": [
    "## put into parser (partial?)\n",
    "\n",
    "gene_nodenorm_mapping = {}\n",
    "\n",
    "## set up variables to catch potential mapping failures\n",
    "stats_gene_mapping_failures = {\n",
    "    \"unexpected_error\": {},\n",
    "    \"nodenorm_returned_none\": [],\n",
    "    \"wrong_category\": {},\n",
    "    \"no_label\": []\n",
    "}"
   ]
  },
  {
   "cell_type": "markdown",
   "id": "d2c78fc5",
   "metadata": {},
   "source": [
    "Allowed types are Gene and Protein (depending on if gene/protein conflation worked for the ENSP ID or not)"
   ]
  },
  {
   "cell_type": "code",
   "execution_count": 48,
   "id": "9521a856",
   "metadata": {
    "ExecuteTime": {
     "end_time": "2025-08-05T00:28:59.685968Z",
     "start_time": "2025-08-05T00:28:07.004256Z"
    }
   },
   "outputs": [],
   "source": [
    "## put into parser (don't need to iterate through batch, just use all in chunk you're on)\n",
    "\n",
    "## larger batches are quicker\n",
    "for batch in batched(geneIDs_all, 1000):\n",
    "    ## returns tuples -> cast to list\n",
    "    req_body = {\n",
    "        \"curies\": list(batch),\n",
    "        \"conflate\": True,\n",
    "    }\n",
    "    r = requests.post(nodenorm_url, json=req_body)\n",
    "    response = r.json()\n",
    "    \n",
    "    ## not doing dict comprehension. allows easier review, logic writing\n",
    "    for k,v in response.items():\n",
    "        ## catch unexpected errors\n",
    "        try:\n",
    "            ## if NodeNorm didn't have info on this ID, v will be None\n",
    "            if v is not None:\n",
    "                ## don't keep mapping if category is not the expected one\n",
    "                if v[\"type\"][0] in [\"biolink:Gene\", \"biolink:Protein\"]:\n",
    "                    ## also throw out mapping if no primary label found\n",
    "                    if v[\"id\"].get(\"label\"):\n",
    "                        temp = {\n",
    "                            k: {\"primary_id\": v[\"id\"][\"identifier\"],\n",
    "                                \"primary_label\": v[\"id\"][\"label\"],\n",
    "                                ## saving category: currently required for KGX nodes file output\n",
    "                                \"category\": v[\"type\"][0]\n",
    "                               }\n",
    "                        }\n",
    "                        gene_nodenorm_mapping.update(temp)\n",
    "                    else:\n",
    "                        stats_gene_mapping_failures[\"no_label\"].append(k)\n",
    "#                         print(f\"{k}: NodeNorm didn't find primary label. Not keeping this mapping.\")\n",
    "                else:\n",
    "                    stats_gene_mapping_failures[\"wrong_category\"].update({k: v[\"type\"][0]})\n",
    "#                     print(f'{k}: NodeNorm found different category {v[\"type\"][0]}. Not keeping this mapping.')\n",
    "            else:\n",
    "                stats_gene_mapping_failures[\"nodenorm_returned_none\"].append(k)\n",
    "#                 print(f\"{k}: NodeNorm didn't recognize this ID\")\n",
    "        except:\n",
    "            stats_gene_mapping_failures[\"unexpected_error\"].update({k: v})\n",
    "            print(f'Encountered an unexpected error.')\n",
    "            print(f'NodeNorm response key: {k}')\n",
    "            print(f'NodeNorm response value: {v}')"
   ]
  },
  {
   "cell_type": "code",
   "execution_count": 49,
   "id": "fce525ef",
   "metadata": {
    "ExecuteTime": {
     "end_time": "2025-08-05T00:28:59.699969Z",
     "start_time": "2025-08-05T00:28:59.688861Z"
    }
   },
   "outputs": [
    {
     "data": {
      "text/plain": [
       "16474"
      ]
     },
     "execution_count": 49,
     "metadata": {},
     "output_type": "execute_result"
    },
    {
     "data": {
      "text/plain": [
       "{}"
      ]
     },
     "execution_count": 49,
     "metadata": {},
     "output_type": "execute_result"
    },
    {
     "data": {
      "text/plain": [
       "319"
      ]
     },
     "execution_count": 49,
     "metadata": {},
     "output_type": "execute_result"
    },
    {
     "data": {
      "text/plain": [
       "0"
      ]
     },
     "execution_count": 49,
     "metadata": {},
     "output_type": "execute_result"
    },
    {
     "data": {
      "text/plain": [
       "64"
      ]
     },
     "execution_count": 49,
     "metadata": {},
     "output_type": "execute_result"
    }
   ],
   "source": [
    "len(gene_nodenorm_mapping)\n",
    "\n",
    "stats_gene_mapping_failures[\"unexpected_error\"]\n",
    "\n",
    "len(stats_gene_mapping_failures[\"nodenorm_returned_none\"])\n",
    "len(stats_gene_mapping_failures[\"wrong_category\"])\n",
    "len(stats_gene_mapping_failures[\"no_label\"])"
   ]
  },
  {
   "cell_type": "code",
   "execution_count": 58,
   "id": "302e3003",
   "metadata": {
    "ExecuteTime": {
     "end_time": "2025-07-28T20:07:27.277392Z",
     "start_time": "2025-07-28T20:07:27.273300Z"
    }
   },
   "outputs": [
    {
     "data": {
      "text/plain": [
       "['ENSEMBL:ENSP00000361232',\n",
       " 'ENSEMBL:ENSP00000211076',\n",
       " 'ENSEMBL:ENSP00000419081',\n",
       " 'ENSEMBL:ENSP00000359579',\n",
       " 'ENSEMBL:ENSP00000361746',\n",
       " 'ENSEMBL:ENSP00000269844',\n",
       " 'ENSEMBL:ENSP00000478289',\n",
       " 'ENSEMBL:ENSP00000478752']"
      ]
     },
     "execution_count": 58,
     "metadata": {},
     "output_type": "execute_result"
    }
   ],
   "source": [
    "## code block for reviewing failures\n",
    "\n",
    "# stats_gene_mapping_failures[\"nodenorm_returned_none\"][270:280]\n",
    "stats_gene_mapping_failures[\"no_label\"][50:58]"
   ]
  },
  {
   "cell_type": "markdown",
   "id": "d656426f",
   "metadata": {},
   "source": [
    "<div class=\"alert alert-block alert-info\">\n",
    "\n",
    "**2025-05-02 data:**\n",
    "\n",
    "**Reviewed ENSEMBL ENSP mapping failures**\n",
    "\n",
    "315 cases where NodeNorm returned None (didn't recognize/resolve ID). __I checked some (20)__ (0:10, 270:280). __Conclusion: DISEASES problem, using outdated IDs__\n",
    "\n",
    "* 17: ID is deprecated. Language: \"no longer in the database but it has been mapped to 1 deprecated identifier\")\n",
    "* 3: ID has been replaced? Language: \"no longer in the database.It has been mapped to 1 current identifier\". (ENSP00000074304, ENSP00000480798, ENSP00000482552)\n",
    "\n",
    "<br>\n",
    "    \n",
    "58 cases where NodeNorm didn't have a primary label. __I checked some (18)__ (0:10, 50:58). __Conclusion: NodeNorm issue sometimes, other times a complex biology/data situation__\n",
    "\n",
    "All were legit IDs, but I guess NodeNorm isn't mapping them to their genes. Some thoughts:\n",
    "* noticed many genes were overlapping locus/readthrough gene\n",
    "* But some of these genes look \"fairly regular\" and the ENSP ID is the \"Ensembl Canonical\". So it's strange that NodeNorm isn't mapping them to their genes -> messaged NodeNorm\n",
    "  * ENSP00000419081 for CALML4 ENSG00000129007 \n",
    "  * ENSP00000211076 for TPSD1 ENSG00000095917 (not overlapping!)\n",
    "  * ENSP00000361746 for EPPIN ENSG00000101448\n",
    "  * ENSP00000215727 for SERPIND1 ENSG00000099937 (not overlapping!)\n",
    "  * ENSP00000348089 for ERCC6 ENSG00000225830 (not overlapping!)\n",
    "  * ENSP00000361232 for DDX31 ENSG00000125485 (not overlapping!)"
   ]
  },
  {
   "cell_type": "code",
   "execution_count": 50,
   "id": "02fb64f9",
   "metadata": {
    "ExecuteTime": {
     "end_time": "2025-08-05T00:29:04.673302Z",
     "start_time": "2025-08-05T00:29:04.615393Z"
    }
   },
   "outputs": [],
   "source": [
    "## calculate stats: number of rows affected by each type of mapping failure\n",
    "stats_gene_mapping_failures.update({\n",
    "    \"nrows_textmining_none\": df_textmining[df_textmining[\"gene_id\"].isin(stats_gene_mapping_failures[\"nodenorm_returned_none\"])].shape[0],\n",
    "    \"nrows_knowledge_none\": df_knowledge[df_knowledge[\"gene_id\"].isin(stats_gene_mapping_failures[\"nodenorm_returned_none\"])].shape[0],\n",
    "\n",
    "    \"n_rows_textmining_wrongcategory\": df_textmining[df_textmining[\"gene_id\"].isin(stats_gene_mapping_failures[\"wrong_category\"].keys())].shape[0],\n",
    "    \"n_rows_knowledge_wrongcategory\": df_knowledge[df_knowledge[\"gene_id\"].isin(stats_gene_mapping_failures[\"wrong_category\"].keys())].shape[0],\n",
    "\n",
    "    \n",
    "    \"n_rows_textmining_nolabel\": df_textmining[df_textmining[\"gene_id\"].isin(stats_gene_mapping_failures[\"no_label\"])].shape[0],\n",
    "    \"n_rows_knowledge_nolabel\": df_knowledge[df_knowledge[\"gene_id\"].isin(stats_gene_mapping_failures[\"no_label\"])].shape[0],\n",
    "})"
   ]
  },
  {
   "cell_type": "code",
   "execution_count": 51,
   "id": "28524687",
   "metadata": {
    "ExecuteTime": {
     "end_time": "2025-08-05T00:29:05.131315Z",
     "start_time": "2025-08-05T00:29:05.120421Z"
    }
   },
   "outputs": [
    {
     "data": {
      "text/plain": [
       "4228"
      ]
     },
     "execution_count": 51,
     "metadata": {},
     "output_type": "execute_result"
    },
    {
     "data": {
      "text/plain": [
       "54"
      ]
     },
     "execution_count": 51,
     "metadata": {},
     "output_type": "execute_result"
    },
    {
     "data": {
      "text/plain": [
       "0"
      ]
     },
     "execution_count": 51,
     "metadata": {},
     "output_type": "execute_result"
    },
    {
     "data": {
      "text/plain": [
       "0"
      ]
     },
     "execution_count": 51,
     "metadata": {},
     "output_type": "execute_result"
    },
    {
     "data": {
      "text/plain": [
       "1446"
      ]
     },
     "execution_count": 51,
     "metadata": {},
     "output_type": "execute_result"
    },
    {
     "data": {
      "text/plain": [
       "11"
      ]
     },
     "execution_count": 51,
     "metadata": {},
     "output_type": "execute_result"
    }
   ],
   "source": [
    "stats_gene_mapping_failures[\"nrows_textmining_none\"]\n",
    "stats_gene_mapping_failures[\"nrows_knowledge_none\"]\n",
    "stats_gene_mapping_failures[\"n_rows_textmining_wrongcategory\"]\n",
    "stats_gene_mapping_failures[\"n_rows_knowledge_wrongcategory\"]\n",
    "stats_gene_mapping_failures[\"n_rows_textmining_nolabel\"]\n",
    "stats_gene_mapping_failures[\"n_rows_knowledge_nolabel\"]"
   ]
  },
  {
   "cell_type": "markdown",
   "id": "783a5f57",
   "metadata": {},
   "source": [
    "### Diseases"
   ]
  },
  {
   "cell_type": "code",
   "execution_count": 52,
   "id": "900a0766",
   "metadata": {
    "ExecuteTime": {
     "end_time": "2025-08-05T00:29:07.471542Z",
     "start_time": "2025-08-05T00:29:07.440291Z"
    }
   },
   "outputs": [
    {
     "data": {
      "text/plain": [
       "5556"
      ]
     },
     "execution_count": 52,
     "metadata": {},
     "output_type": "execute_result"
    },
    {
     "data": {
      "text/plain": [
       "1037"
      ]
     },
     "execution_count": 52,
     "metadata": {},
     "output_type": "execute_result"
    },
    {
     "data": {
      "text/plain": [
       "5671"
      ]
     },
     "execution_count": 52,
     "metadata": {},
     "output_type": "execute_result"
    }
   ],
   "source": [
    "\n",
    "## get set of unique CURIEs to put into NodeNorm\n",
    "diseaseIDs_textmining = set(df_textmining[\"disease_id\"].unique())\n",
    "diseaseIDs_knowledge = set(df_knowledge[\"disease_id\"].unique())\n",
    "diseaseIDs_all = diseaseIDs_textmining | diseaseIDs_knowledge\n",
    "\n",
    "len(diseaseIDs_textmining)\n",
    "len(diseaseIDs_knowledge)\n",
    "len(diseaseIDs_all)"
   ]
  },
  {
   "cell_type": "code",
   "execution_count": 53,
   "id": "1400dd55",
   "metadata": {
    "ExecuteTime": {
     "end_time": "2025-08-05T00:29:07.984932Z",
     "start_time": "2025-08-05T00:29:07.982118Z"
    }
   },
   "outputs": [],
   "source": [
    "\n",
    "disease_nodenorm_mapping = {}\n",
    "\n",
    "## set up variables to catch mapping failures\n",
    "stats_disease_mapping_failures = {\n",
    "    \"unexpected_error\": {},\n",
    "    \"nodenorm_returned_none\": [],\n",
    "    \"wrong_category\": {},\n",
    "    \"no_label\": []\n",
    "    \n",
    "}"
   ]
  },
  {
   "cell_type": "code",
   "execution_count": 54,
   "id": "858b6f93",
   "metadata": {
    "ExecuteTime": {
     "end_time": "2025-08-05T00:29:25.812671Z",
     "start_time": "2025-08-05T00:29:08.468922Z"
    }
   },
   "outputs": [],
   "source": [
    "\n",
    "\n",
    "## larger batches are quicker\n",
    "for batch in batched(diseaseIDs_all, 1000):\n",
    "    ## returns tuples -> cast to list\n",
    "    req_body = {\n",
    "        \"curies\": list(batch),\n",
    "        \"conflate\": True,\n",
    "    }\n",
    "    r = requests.post(nodenorm_url, json=req_body)\n",
    "    response = r.json()\n",
    "    \n",
    "    ## not doing dict comprehension. allows easier review, logic writing\n",
    "    for k,v in response.items():\n",
    "        ## catch unexpected errors\n",
    "        try:\n",
    "            ## if NodeNorm didn't have info on this ID, v will be None\n",
    "            if v is not None:\n",
    "                ## don't keep mapping if category is not the expected one\n",
    "                if v[\"type\"][0] == \"biolink:Disease\":\n",
    "                    ## also throw out mapping if no primary label found\n",
    "                    if v[\"id\"].get(\"label\"):\n",
    "                        temp = {\n",
    "                            k: {\"primary_id\": v[\"id\"][\"identifier\"],\n",
    "                                \"primary_label\": v[\"id\"][\"label\"]\n",
    "                               }\n",
    "                        }\n",
    "                        disease_nodenorm_mapping.update(temp)\n",
    "                    else:\n",
    "                        stats_disease_mapping_failures[\"no_label\"].append(k)\n",
    "#                         print(f\"{k}: NodeNorm didn't find primary label. Not keeping this mapping.\")\n",
    "                else:\n",
    "                    stats_disease_mapping_failures[\"wrong_category\"].update({k: v[\"type\"][0]})\n",
    "#                     print(f'{k}: NodeNorm found different category {v[\"type\"][0]}. Not keeping this mapping.')\n",
    "            else:\n",
    "                stats_disease_mapping_failures[\"nodenorm_returned_none\"].append(k)\n",
    "#                 print(f\"{k}: NodeNorm didn't recognize this ID\")\n",
    "        except:\n",
    "            stats_disease_mapping_failures[\"unexpected_error\"].update({k: v})\n",
    "            print(f'Encountered an unexpected error.')\n",
    "            print(f'NodeNorm response key: {k}')\n",
    "            print(f'NodeNorm response value: {v}')"
   ]
  },
  {
   "cell_type": "code",
   "execution_count": 55,
   "id": "2e81d56b",
   "metadata": {
    "ExecuteTime": {
     "end_time": "2025-08-05T00:29:25.826151Z",
     "start_time": "2025-08-05T00:29:25.816076Z"
    }
   },
   "outputs": [
    {
     "data": {
      "text/plain": [
       "5641"
      ]
     },
     "execution_count": 55,
     "metadata": {},
     "output_type": "execute_result"
    },
    {
     "data": {
      "text/plain": [
       "{}"
      ]
     },
     "execution_count": 55,
     "metadata": {},
     "output_type": "execute_result"
    },
    {
     "data": {
      "text/plain": [
       "30"
      ]
     },
     "execution_count": 55,
     "metadata": {},
     "output_type": "execute_result"
    },
    {
     "data": {
      "text/plain": [
       "0"
      ]
     },
     "execution_count": 55,
     "metadata": {},
     "output_type": "execute_result"
    },
    {
     "data": {
      "text/plain": [
       "0"
      ]
     },
     "execution_count": 55,
     "metadata": {},
     "output_type": "execute_result"
    }
   ],
   "source": [
    "len(disease_nodenorm_mapping)\n",
    "\n",
    "stats_disease_mapping_failures[\"unexpected_error\"]\n",
    "\n",
    "len(stats_disease_mapping_failures[\"nodenorm_returned_none\"])\n",
    "len(stats_disease_mapping_failures[\"wrong_category\"])\n",
    "len(stats_disease_mapping_failures[\"no_label\"])"
   ]
  },
  {
   "cell_type": "code",
   "execution_count": 65,
   "id": "77af9e52",
   "metadata": {
    "ExecuteTime": {
     "end_time": "2025-07-28T20:07:48.097865Z",
     "start_time": "2025-07-28T20:07:48.093108Z"
    }
   },
   "outputs": [
    {
     "data": {
      "text/plain": [
       "['DOID:0081164',\n",
       " 'DOID:0110578',\n",
       " 'DOID:2383',\n",
       " 'DOID:206',\n",
       " 'DOID:1086',\n",
       " 'DOID:14070',\n",
       " 'DOID:11541',\n",
       " 'DOID:0060320',\n",
       " 'DOID:1392',\n",
       " 'DOID:9341']"
      ]
     },
     "execution_count": 65,
     "metadata": {},
     "output_type": "execute_result"
    }
   ],
   "source": [
    "## code used to review mapping failures \n",
    "\n",
    "stats_disease_mapping_failures[\"nodenorm_returned_none\"][0:10]"
   ]
  },
  {
   "cell_type": "markdown",
   "id": "ec0e6d96",
   "metadata": {},
   "source": [
    "<div class=\"alert alert-block alert-info\">\n",
    "\n",
    "**2025-05-02 data:**\n",
    "\n",
    "**Reviewed Disease DOID mapping failures**\n",
    "\n",
    "30 cases where NodeNorm returned None (didn't recognize/resolve ID). __I checked some (first 10)__:\n",
    "\n",
    "All were legit IDs: don't understand why NodeNorm returned none -> messaged NodeNorm"
   ]
  },
  {
   "cell_type": "code",
   "execution_count": 56,
   "id": "a772ebfd",
   "metadata": {
    "ExecuteTime": {
     "end_time": "2025-08-05T00:29:25.862795Z",
     "start_time": "2025-08-05T00:29:25.828554Z"
    }
   },
   "outputs": [],
   "source": [
    "## calculate stats: number of rows affected by each type of mapping failure\n",
    "stats_disease_mapping_failures.update({\n",
    "    \"nrows_textmining_none\": df_textmining[df_textmining[\"disease_id\"].isin(stats_disease_mapping_failures[\"nodenorm_returned_none\"])].shape[0],\n",
    "    \"nrows_knowledge_none\": df_knowledge[df_knowledge[\"disease_id\"].isin(stats_disease_mapping_failures[\"nodenorm_returned_none\"])].shape[0],\n",
    "\n",
    "    \"n_rows_textmining_wrongcategory\": df_textmining[df_textmining[\"disease_id\"].isin(stats_disease_mapping_failures[\"wrong_category\"].keys())].shape[0],\n",
    "    \"n_rows_knowledge_wrongcategory\": df_knowledge[df_knowledge[\"disease_id\"].isin(stats_disease_mapping_failures[\"wrong_category\"].keys())].shape[0],\n",
    "\n",
    "    \n",
    "    \"n_rows_textmining_nolabel\": df_textmining[df_textmining[\"disease_id\"].isin(stats_disease_mapping_failures[\"no_label\"])].shape[0],\n",
    "    \"n_rows_knowledge_nolabel\": df_knowledge[df_knowledge[\"disease_id\"].isin(stats_disease_mapping_failures[\"no_label\"])].shape[0],\n",
    "})"
   ]
  },
  {
   "cell_type": "code",
   "execution_count": 57,
   "id": "ca44cd5e",
   "metadata": {
    "ExecuteTime": {
     "end_time": "2025-08-05T00:29:25.877445Z",
     "start_time": "2025-08-05T00:29:25.866935Z"
    }
   },
   "outputs": [
    {
     "data": {
      "text/plain": [
       "628"
      ]
     },
     "execution_count": 57,
     "metadata": {},
     "output_type": "execute_result"
    },
    {
     "data": {
      "text/plain": [
       "10"
      ]
     },
     "execution_count": 57,
     "metadata": {},
     "output_type": "execute_result"
    },
    {
     "data": {
      "text/plain": [
       "0"
      ]
     },
     "execution_count": 57,
     "metadata": {},
     "output_type": "execute_result"
    },
    {
     "data": {
      "text/plain": [
       "0"
      ]
     },
     "execution_count": 57,
     "metadata": {},
     "output_type": "execute_result"
    },
    {
     "data": {
      "text/plain": [
       "0"
      ]
     },
     "execution_count": 57,
     "metadata": {},
     "output_type": "execute_result"
    },
    {
     "data": {
      "text/plain": [
       "0"
      ]
     },
     "execution_count": 57,
     "metadata": {},
     "output_type": "execute_result"
    }
   ],
   "source": [
    "stats_disease_mapping_failures[\"nrows_textmining_none\"]\n",
    "stats_disease_mapping_failures[\"nrows_knowledge_none\"]\n",
    "stats_disease_mapping_failures[\"n_rows_textmining_wrongcategory\"]\n",
    "stats_disease_mapping_failures[\"n_rows_knowledge_wrongcategory\"]\n",
    "stats_disease_mapping_failures[\"n_rows_textmining_nolabel\"]\n",
    "stats_disease_mapping_failures[\"n_rows_knowledge_nolabel\"]"
   ]
  },
  {
   "cell_type": "markdown",
   "id": "23343f7c",
   "metadata": {},
   "source": [
    "### Adding NodeNorm data, removing rows"
   ]
  },
  {
   "cell_type": "markdown",
   "id": "1d708cbc",
   "metadata": {},
   "source": [
    "<div class=\"alert alert-block alert-info\">\n",
    "\n",
    "Removing rows that lack NodeNorm data, due to small amount of failures during NodeNorm process: \n",
    "* NodeNorm returned none\n",
    "* NodeNorm didn't have primary label (genes only) "
   ]
  },
  {
   "cell_type": "code",
   "execution_count": 58,
   "id": "3d727809",
   "metadata": {
    "ExecuteTime": {
     "end_time": "2025-08-05T00:29:31.651324Z",
     "start_time": "2025-08-05T00:29:31.170808Z"
    }
   },
   "outputs": [],
   "source": [
    "## put into parser (format): \n",
    "\n",
    "## text-mining\n",
    "df_textmining[\"gene_nodenorm_id\"] = [gene_nodenorm_mapping[i][\"primary_id\"] \n",
    "                                     if gene_nodenorm_mapping.get(i) \n",
    "                                     else pd.NA\n",
    "                                     for i in df_textmining[\"gene_id\"]]\n",
    "\n",
    "df_textmining[\"gene_nodenorm_label\"] = [gene_nodenorm_mapping[i][\"primary_label\"] \n",
    "                                        if gene_nodenorm_mapping.get(i) \n",
    "                                        else pd.NA\n",
    "                                        for i in df_textmining[\"gene_id\"]]\n",
    "\n",
    "df_textmining[\"gene_nodenorm_category\"] = [gene_nodenorm_mapping[i][\"category\"] \n",
    "                                           if gene_nodenorm_mapping.get(i) \n",
    "                                           else pd.NA\n",
    "                                           for i in df_textmining[\"gene_id\"]]\n",
    "\n",
    "df_textmining[\"disease_nodenorm_id\"] = [disease_nodenorm_mapping[i][\"primary_id\"] \n",
    "                                        if disease_nodenorm_mapping.get(i) \n",
    "                                        else pd.NA\n",
    "                                        for i in df_textmining[\"disease_id\"]]\n",
    "\n",
    "df_textmining[\"disease_nodenorm_label\"] = [disease_nodenorm_mapping[i][\"primary_label\"] \n",
    "                                           if disease_nodenorm_mapping.get(i) \n",
    "                                           else pd.NA\n",
    "                                           for i in df_textmining[\"disease_id\"]]"
   ]
  },
  {
   "cell_type": "code",
   "execution_count": 59,
   "id": "8783b9aa",
   "metadata": {
    "ExecuteTime": {
     "end_time": "2025-08-05T00:29:32.126610Z",
     "start_time": "2025-08-05T00:29:32.108735Z"
    }
   },
   "outputs": [],
   "source": [
    "\n",
    "## knowledge\n",
    "df_knowledge[\"gene_nodenorm_id\"] = [gene_nodenorm_mapping[i][\"primary_id\"] \n",
    "                                    if gene_nodenorm_mapping.get(i) \n",
    "                                    else pd.NA\n",
    "                                    for i in df_knowledge[\"gene_id\"]]\n",
    "\n",
    "df_knowledge[\"gene_nodenorm_label\"] = [gene_nodenorm_mapping[i][\"primary_label\"] \n",
    "                                       if gene_nodenorm_mapping.get(i) \n",
    "                                       else pd.NA\n",
    "                                       for i in df_knowledge[\"gene_id\"]]\n",
    "\n",
    "df_knowledge[\"gene_nodenorm_category\"] = [gene_nodenorm_mapping[i][\"category\"] \n",
    "                                          if gene_nodenorm_mapping.get(i) \n",
    "                                          else pd.NA\n",
    "                                          for i in df_knowledge[\"gene_id\"]]\n",
    "\n",
    "df_knowledge[\"disease_nodenorm_id\"] = [disease_nodenorm_mapping[i][\"primary_id\"] \n",
    "                                       if disease_nodenorm_mapping.get(i) \n",
    "                                       else pd.NA\n",
    "                                       for i in df_knowledge[\"disease_id\"]]\n",
    "\n",
    "df_knowledge[\"disease_nodenorm_label\"] = [disease_nodenorm_mapping[i][\"primary_label\"] \n",
    "                                          if disease_nodenorm_mapping.get(i) \n",
    "                                          else pd.NA\n",
    "                                          for i in df_knowledge[\"disease_id\"]]"
   ]
  },
  {
   "cell_type": "code",
   "execution_count": 70,
   "id": "430314be",
   "metadata": {
    "ExecuteTime": {
     "end_time": "2025-07-28T20:07:48.664946Z",
     "start_time": "2025-07-28T20:07:48.662498Z"
    }
   },
   "outputs": [],
   "source": [
    "## code chunk to review df\n",
    "\n",
    "# df_textmining\n",
    "# df_knowledge"
   ]
  },
  {
   "cell_type": "code",
   "execution_count": 60,
   "id": "caee28a8",
   "metadata": {
    "ExecuteTime": {
     "end_time": "2025-08-05T00:29:50.427277Z",
     "start_time": "2025-08-05T00:29:50.286714Z"
    }
   },
   "outputs": [],
   "source": [
    "## put into parser: \n",
    "\n",
    "## doing subset just in case (original data didn't have any NAs that would be\n",
    "##   dropped on accident, but still) \n",
    "\n",
    "df_textmining.dropna(subset=[\"gene_nodenorm_id\", \"gene_nodenorm_label\", \n",
    "                            \"disease_nodenorm_id\", \"disease_nodenorm_label\"],\n",
    "                    ignore_index=True, inplace=True)\n",
    "\n",
    "df_knowledge.dropna(subset=[\"gene_nodenorm_id\", \"gene_nodenorm_label\", \n",
    "                            \"disease_nodenorm_id\", \"disease_nodenorm_label\"],\n",
    "                    ignore_index=True, inplace=True)"
   ]
  },
  {
   "cell_type": "code",
   "execution_count": 61,
   "id": "4fc8d268",
   "metadata": {
    "ExecuteTime": {
     "end_time": "2025-08-05T00:29:51.008554Z",
     "start_time": "2025-08-05T00:29:51.003275Z"
    }
   },
   "outputs": [
    {
     "data": {
      "text/plain": [
       "(265382, 12)"
      ]
     },
     "execution_count": 61,
     "metadata": {},
     "output_type": "execute_result"
    },
    {
     "data": {
      "text/plain": [
       "(3960, 12)"
      ]
     },
     "execution_count": 61,
     "metadata": {},
     "output_type": "execute_result"
    }
   ],
   "source": [
    "## didn't do stats for before/after\n",
    "\n",
    "df_textmining.shape\n",
    "df_knowledge.shape"
   ]
  },
  {
   "cell_type": "markdown",
   "id": "0b6fab64",
   "metadata": {},
   "source": [
    "## Exploring \"duplicates\" from NodeNorming"
   ]
  },
  {
   "cell_type": "markdown",
   "id": "784c78da",
   "metadata": {},
   "source": [
    "### Knowledge"
   ]
  },
  {
   "cell_type": "code",
   "execution_count": 69,
   "id": "ff2a578d",
   "metadata": {
    "ExecuteTime": {
     "end_time": "2025-08-05T00:31:26.054633Z",
     "start_time": "2025-08-05T00:31:26.026017Z"
    },
    "scrolled": false
   },
   "outputs": [
    {
     "data": {
      "text/plain": [
       "(10, 12)"
      ]
     },
     "execution_count": 69,
     "metadata": {},
     "output_type": "execute_result"
    },
    {
     "data": {
      "text/html": [
       "<div>\n",
       "<style scoped>\n",
       "    .dataframe tbody tr th:only-of-type {\n",
       "        vertical-align: middle;\n",
       "    }\n",
       "\n",
       "    .dataframe tbody tr th {\n",
       "        vertical-align: top;\n",
       "    }\n",
       "\n",
       "    .dataframe thead th {\n",
       "        text-align: right;\n",
       "    }\n",
       "</style>\n",
       "<table border=\"1\" class=\"dataframe\">\n",
       "  <thead>\n",
       "    <tr style=\"text-align: right;\">\n",
       "      <th></th>\n",
       "      <th>gene_id</th>\n",
       "      <th>gene_name</th>\n",
       "      <th>disease_id</th>\n",
       "      <th>disease_name</th>\n",
       "      <th>source_db</th>\n",
       "      <th>evidence_type</th>\n",
       "      <th>confidence_score</th>\n",
       "      <th>gene_nodenorm_id</th>\n",
       "      <th>gene_nodenorm_label</th>\n",
       "      <th>gene_nodenorm_category</th>\n",
       "      <th>disease_nodenorm_id</th>\n",
       "      <th>disease_nodenorm_label</th>\n",
       "    </tr>\n",
       "  </thead>\n",
       "  <tbody>\n",
       "    <tr>\n",
       "      <th>2612</th>\n",
       "      <td>ENSEMBL:ENSP00000370083</td>\n",
       "      <td>SMN1</td>\n",
       "      <td>DOID:12377</td>\n",
       "      <td>Spinal muscular atrophy</td>\n",
       "      <td>MedlinePlus</td>\n",
       "      <td>CURATED</td>\n",
       "      <td>5</td>\n",
       "      <td>UniProtKB:Q16637-1</td>\n",
       "      <td>survival motor neuron protein isoform 1 (human)</td>\n",
       "      <td>biolink:Protein</td>\n",
       "      <td>MONDO:0001516</td>\n",
       "      <td>spinal muscular atrophy</td>\n",
       "    </tr>\n",
       "    <tr>\n",
       "      <th>2615</th>\n",
       "      <td>ENSEMBL:ENSP00000370119</td>\n",
       "      <td>SMN2</td>\n",
       "      <td>DOID:12377</td>\n",
       "      <td>Spinal muscular atrophy</td>\n",
       "      <td>MedlinePlus</td>\n",
       "      <td>CURATED</td>\n",
       "      <td>5</td>\n",
       "      <td>UniProtKB:Q16637-1</td>\n",
       "      <td>survival motor neuron protein isoform 1 (human)</td>\n",
       "      <td>biolink:Protein</td>\n",
       "      <td>MONDO:0001516</td>\n",
       "      <td>spinal muscular atrophy</td>\n",
       "    </tr>\n",
       "    <tr>\n",
       "      <th>119</th>\n",
       "      <td>ENSEMBL:ENSP00000221700</td>\n",
       "      <td>CYP4F2</td>\n",
       "      <td>DOID:0080665</td>\n",
       "      <td>Warfarin resistance</td>\n",
       "      <td>MedlinePlus</td>\n",
       "      <td>CURATED</td>\n",
       "      <td>5</td>\n",
       "      <td>UniProtKB:P78329-1</td>\n",
       "      <td>cytochrome P450 4F2 isoform h1 (human)</td>\n",
       "      <td>biolink:Protein</td>\n",
       "      <td>MONDO:0007390</td>\n",
       "      <td>coumarin resistance</td>\n",
       "    </tr>\n",
       "    <tr>\n",
       "      <th>120</th>\n",
       "      <td>ENSEMBL:ENSP00000221700</td>\n",
       "      <td>CYP4F2</td>\n",
       "      <td>DOID:0080666</td>\n",
       "      <td>Warfarin sensitivity</td>\n",
       "      <td>MedlinePlus</td>\n",
       "      <td>CURATED</td>\n",
       "      <td>5</td>\n",
       "      <td>UniProtKB:P78329-1</td>\n",
       "      <td>cytochrome P450 4F2 isoform h1 (human)</td>\n",
       "      <td>biolink:Protein</td>\n",
       "      <td>MONDO:0007390</td>\n",
       "      <td>coumarin resistance</td>\n",
       "    </tr>\n",
       "    <tr>\n",
       "      <th>2769</th>\n",
       "      <td>ENSEMBL:ENSP00000378426</td>\n",
       "      <td>VKORC1</td>\n",
       "      <td>DOID:0080665</td>\n",
       "      <td>Warfarin resistance</td>\n",
       "      <td>MedlinePlus</td>\n",
       "      <td>CURATED</td>\n",
       "      <td>5</td>\n",
       "      <td>UniProtKB:Q9BQB6-1</td>\n",
       "      <td>vitamin K epoxide reductase complex subunit 1 isoform h1 (human)</td>\n",
       "      <td>biolink:Protein</td>\n",
       "      <td>MONDO:0007390</td>\n",
       "      <td>coumarin resistance</td>\n",
       "    </tr>\n",
       "    <tr>\n",
       "      <th>2770</th>\n",
       "      <td>ENSEMBL:ENSP00000378426</td>\n",
       "      <td>VKORC1</td>\n",
       "      <td>DOID:0080666</td>\n",
       "      <td>Warfarin sensitivity</td>\n",
       "      <td>MedlinePlus</td>\n",
       "      <td>CURATED</td>\n",
       "      <td>5</td>\n",
       "      <td>UniProtKB:Q9BQB6-1</td>\n",
       "      <td>vitamin K epoxide reductase complex subunit 1 isoform h1 (human)</td>\n",
       "      <td>biolink:Protein</td>\n",
       "      <td>MONDO:0007390</td>\n",
       "      <td>coumarin resistance</td>\n",
       "    </tr>\n",
       "    <tr>\n",
       "      <th>344</th>\n",
       "      <td>ENSEMBL:ENSP00000251595</td>\n",
       "      <td>HBA2</td>\n",
       "      <td>DOID:1099</td>\n",
       "      <td>Alpha thalassemia</td>\n",
       "      <td>MedlinePlus</td>\n",
       "      <td>CURATED</td>\n",
       "      <td>5</td>\n",
       "      <td>UniProtKB:P69905</td>\n",
       "      <td>HBA_HUMAN Hemoglobin subunit alpha (sprot)</td>\n",
       "      <td>biolink:Protein</td>\n",
       "      <td>MONDO:0011399</td>\n",
       "      <td>alpha thalassemia spectrum</td>\n",
       "    </tr>\n",
       "    <tr>\n",
       "      <th>1422</th>\n",
       "      <td>ENSEMBL:ENSP00000322421</td>\n",
       "      <td>HBA1</td>\n",
       "      <td>DOID:1099</td>\n",
       "      <td>Alpha thalassemia</td>\n",
       "      <td>MedlinePlus</td>\n",
       "      <td>CURATED</td>\n",
       "      <td>5</td>\n",
       "      <td>UniProtKB:P69905</td>\n",
       "      <td>HBA_HUMAN Hemoglobin subunit alpha (sprot)</td>\n",
       "      <td>biolink:Protein</td>\n",
       "      <td>MONDO:0011399</td>\n",
       "      <td>alpha thalassemia spectrum</td>\n",
       "    </tr>\n",
       "    <tr>\n",
       "      <th>2281</th>\n",
       "      <td>ENSEMBL:ENSP00000361021</td>\n",
       "      <td>PTEN</td>\n",
       "      <td>DOID:0050657</td>\n",
       "      <td>Bannayan-Riley-Ruvalcaba syndrome</td>\n",
       "      <td>MedlinePlus</td>\n",
       "      <td>CURATED</td>\n",
       "      <td>5</td>\n",
       "      <td>UniProtKB:P60484-1</td>\n",
       "      <td>phosphatidylinositol 3,4,5-trisphosphate 3-phosphatase and dual-specificity protein phosphatase PTEN isoform 1 (human)</td>\n",
       "      <td>biolink:Protein</td>\n",
       "      <td>MONDO:0016063</td>\n",
       "      <td>Cowden disease</td>\n",
       "    </tr>\n",
       "    <tr>\n",
       "      <th>2289</th>\n",
       "      <td>ENSEMBL:ENSP00000361021</td>\n",
       "      <td>PTEN</td>\n",
       "      <td>DOID:6457</td>\n",
       "      <td>Cowden syndrome</td>\n",
       "      <td>MedlinePlus</td>\n",
       "      <td>CURATED</td>\n",
       "      <td>5</td>\n",
       "      <td>UniProtKB:P60484-1</td>\n",
       "      <td>phosphatidylinositol 3,4,5-trisphosphate 3-phosphatase and dual-specificity protein phosphatase PTEN isoform 1 (human)</td>\n",
       "      <td>biolink:Protein</td>\n",
       "      <td>MONDO:0016063</td>\n",
       "      <td>Cowden disease</td>\n",
       "    </tr>\n",
       "  </tbody>\n",
       "</table>\n",
       "</div>"
      ],
      "text/plain": [
       "                      gene_id gene_name    disease_id  \\\n",
       "2612  ENSEMBL:ENSP00000370083      SMN1    DOID:12377   \n",
       "2615  ENSEMBL:ENSP00000370119      SMN2    DOID:12377   \n",
       "119   ENSEMBL:ENSP00000221700    CYP4F2  DOID:0080665   \n",
       "120   ENSEMBL:ENSP00000221700    CYP4F2  DOID:0080666   \n",
       "2769  ENSEMBL:ENSP00000378426    VKORC1  DOID:0080665   \n",
       "2770  ENSEMBL:ENSP00000378426    VKORC1  DOID:0080666   \n",
       "344   ENSEMBL:ENSP00000251595      HBA2     DOID:1099   \n",
       "1422  ENSEMBL:ENSP00000322421      HBA1     DOID:1099   \n",
       "2281  ENSEMBL:ENSP00000361021      PTEN  DOID:0050657   \n",
       "2289  ENSEMBL:ENSP00000361021      PTEN     DOID:6457   \n",
       "\n",
       "                           disease_name    source_db evidence_type  \\\n",
       "2612            Spinal muscular atrophy  MedlinePlus       CURATED   \n",
       "2615            Spinal muscular atrophy  MedlinePlus       CURATED   \n",
       "119                 Warfarin resistance  MedlinePlus       CURATED   \n",
       "120                Warfarin sensitivity  MedlinePlus       CURATED   \n",
       "2769                Warfarin resistance  MedlinePlus       CURATED   \n",
       "2770               Warfarin sensitivity  MedlinePlus       CURATED   \n",
       "344                   Alpha thalassemia  MedlinePlus       CURATED   \n",
       "1422                  Alpha thalassemia  MedlinePlus       CURATED   \n",
       "2281  Bannayan-Riley-Ruvalcaba syndrome  MedlinePlus       CURATED   \n",
       "2289                    Cowden syndrome  MedlinePlus       CURATED   \n",
       "\n",
       "      confidence_score    gene_nodenorm_id  \\\n",
       "2612                 5  UniProtKB:Q16637-1   \n",
       "2615                 5  UniProtKB:Q16637-1   \n",
       "119                  5  UniProtKB:P78329-1   \n",
       "120                  5  UniProtKB:P78329-1   \n",
       "2769                 5  UniProtKB:Q9BQB6-1   \n",
       "2770                 5  UniProtKB:Q9BQB6-1   \n",
       "344                  5    UniProtKB:P69905   \n",
       "1422                 5    UniProtKB:P69905   \n",
       "2281                 5  UniProtKB:P60484-1   \n",
       "2289                 5  UniProtKB:P60484-1   \n",
       "\n",
       "                                                                                                         gene_nodenorm_label  \\\n",
       "2612                                                                         survival motor neuron protein isoform 1 (human)   \n",
       "2615                                                                         survival motor neuron protein isoform 1 (human)   \n",
       "119                                                                                   cytochrome P450 4F2 isoform h1 (human)   \n",
       "120                                                                                   cytochrome P450 4F2 isoform h1 (human)   \n",
       "2769                                                        vitamin K epoxide reductase complex subunit 1 isoform h1 (human)   \n",
       "2770                                                        vitamin K epoxide reductase complex subunit 1 isoform h1 (human)   \n",
       "344                                                                               HBA_HUMAN Hemoglobin subunit alpha (sprot)   \n",
       "1422                                                                              HBA_HUMAN Hemoglobin subunit alpha (sprot)   \n",
       "2281  phosphatidylinositol 3,4,5-trisphosphate 3-phosphatase and dual-specificity protein phosphatase PTEN isoform 1 (human)   \n",
       "2289  phosphatidylinositol 3,4,5-trisphosphate 3-phosphatase and dual-specificity protein phosphatase PTEN isoform 1 (human)   \n",
       "\n",
       "     gene_nodenorm_category disease_nodenorm_id      disease_nodenorm_label  \n",
       "2612        biolink:Protein       MONDO:0001516     spinal muscular atrophy  \n",
       "2615        biolink:Protein       MONDO:0001516     spinal muscular atrophy  \n",
       "119         biolink:Protein       MONDO:0007390         coumarin resistance  \n",
       "120         biolink:Protein       MONDO:0007390         coumarin resistance  \n",
       "2769        biolink:Protein       MONDO:0007390         coumarin resistance  \n",
       "2770        biolink:Protein       MONDO:0007390         coumarin resistance  \n",
       "344         biolink:Protein       MONDO:0011399  alpha thalassemia spectrum  \n",
       "1422        biolink:Protein       MONDO:0011399  alpha thalassemia spectrum  \n",
       "2281        biolink:Protein       MONDO:0016063              Cowden disease  \n",
       "2289        biolink:Protein       MONDO:0016063              Cowden disease  "
      ]
     },
     "execution_count": 69,
     "metadata": {},
     "output_type": "execute_result"
    }
   ],
   "source": [
    "## total number of rows affected\n",
    "\n",
    "df_knowledge_noTotalDups = df_knowledge.drop_duplicates()\n",
    "\n",
    "df_knowledge_nodenorm_dups = df_knowledge_noTotalDups[\n",
    "    df_knowledge_noTotalDups.duplicated(\n",
    "        subset=[\"gene_nodenorm_id\", \"disease_nodenorm_id\", \"source_db\"], \n",
    "        keep=False)].copy()\n",
    "\n",
    "df_knowledge_nodenorm_dups.sort_values(by=[\"disease_nodenorm_id\", \"gene_nodenorm_id\"],\n",
    "                                       inplace=True)\n",
    "\n",
    "df_knowledge_nodenorm_dups.shape\n",
    "\n",
    "df_knowledge_nodenorm_dups"
   ]
  },
  {
   "cell_type": "code",
   "execution_count": 70,
   "id": "43ef3a39",
   "metadata": {
    "ExecuteTime": {
     "end_time": "2025-08-05T00:31:39.285447Z",
     "start_time": "2025-08-05T00:31:39.273513Z"
    }
   },
   "outputs": [
    {
     "data": {
      "text/html": [
       "<div>\n",
       "<style scoped>\n",
       "    .dataframe tbody tr th:only-of-type {\n",
       "        vertical-align: middle;\n",
       "    }\n",
       "\n",
       "    .dataframe tbody tr th {\n",
       "        vertical-align: top;\n",
       "    }\n",
       "\n",
       "    .dataframe thead th {\n",
       "        text-align: right;\n",
       "    }\n",
       "</style>\n",
       "<table border=\"1\" class=\"dataframe\">\n",
       "  <thead>\n",
       "    <tr style=\"text-align: right;\">\n",
       "      <th></th>\n",
       "      <th>disease_id</th>\n",
       "      <th>disease_name</th>\n",
       "      <th>disease_nodenorm_id</th>\n",
       "      <th>disease_nodenorm_label</th>\n",
       "    </tr>\n",
       "  </thead>\n",
       "  <tbody>\n",
       "    <tr>\n",
       "      <th>119</th>\n",
       "      <td>DOID:0080665</td>\n",
       "      <td>Warfarin resistance</td>\n",
       "      <td>MONDO:0007390</td>\n",
       "      <td>coumarin resistance</td>\n",
       "    </tr>\n",
       "    <tr>\n",
       "      <th>120</th>\n",
       "      <td>DOID:0080666</td>\n",
       "      <td>Warfarin sensitivity</td>\n",
       "      <td>MONDO:0007390</td>\n",
       "      <td>coumarin resistance</td>\n",
       "    </tr>\n",
       "    <tr>\n",
       "      <th>2281</th>\n",
       "      <td>DOID:0050657</td>\n",
       "      <td>Bannayan-Riley-Ruvalcaba syndrome</td>\n",
       "      <td>MONDO:0016063</td>\n",
       "      <td>Cowden disease</td>\n",
       "    </tr>\n",
       "    <tr>\n",
       "      <th>2289</th>\n",
       "      <td>DOID:6457</td>\n",
       "      <td>Cowden syndrome</td>\n",
       "      <td>MONDO:0016063</td>\n",
       "      <td>Cowden disease</td>\n",
       "    </tr>\n",
       "  </tbody>\n",
       "</table>\n",
       "</div>"
      ],
      "text/plain": [
       "        disease_id                       disease_name disease_nodenorm_id  \\\n",
       "119   DOID:0080665                Warfarin resistance       MONDO:0007390   \n",
       "120   DOID:0080666               Warfarin sensitivity       MONDO:0007390   \n",
       "2281  DOID:0050657  Bannayan-Riley-Ruvalcaba syndrome       MONDO:0016063   \n",
       "2289     DOID:6457                    Cowden syndrome       MONDO:0016063   \n",
       "\n",
       "     disease_nodenorm_label  \n",
       "119     coumarin resistance  \n",
       "120     coumarin resistance  \n",
       "2281         Cowden disease  \n",
       "2289         Cowden disease  "
      ]
     },
     "execution_count": 70,
     "metadata": {},
     "output_type": "execute_result"
    }
   ],
   "source": [
    "## disease duplicates\n",
    "\n",
    "NodeNormDups_kw_diseases = df_knowledge_nodenorm_dups[[\"disease_id\", \"disease_name\", \n",
    "                            \"disease_nodenorm_id\", \"disease_nodenorm_label\"]].copy()\n",
    "\n",
    "NodeNormDups_kw_diseases.drop_duplicates(inplace=True)\n",
    "\n",
    "diseases_dups_kw = NodeNormDups_kw_diseases.groupby(\n",
    "    \"disease_nodenorm_id\").filter(lambda x: len(x)>1).copy()\n",
    "\n",
    "diseases_dups_kw"
   ]
  },
  {
   "cell_type": "code",
   "execution_count": 71,
   "id": "933f26e8",
   "metadata": {
    "ExecuteTime": {
     "end_time": "2025-08-05T00:31:43.742920Z",
     "start_time": "2025-08-05T00:31:43.731137Z"
    }
   },
   "outputs": [
    {
     "data": {
      "text/html": [
       "<div>\n",
       "<style scoped>\n",
       "    .dataframe tbody tr th:only-of-type {\n",
       "        vertical-align: middle;\n",
       "    }\n",
       "\n",
       "    .dataframe tbody tr th {\n",
       "        vertical-align: top;\n",
       "    }\n",
       "\n",
       "    .dataframe thead th {\n",
       "        text-align: right;\n",
       "    }\n",
       "</style>\n",
       "<table border=\"1\" class=\"dataframe\">\n",
       "  <thead>\n",
       "    <tr style=\"text-align: right;\">\n",
       "      <th></th>\n",
       "      <th>gene_id</th>\n",
       "      <th>gene_name</th>\n",
       "      <th>gene_nodenorm_id</th>\n",
       "      <th>gene_nodenorm_label</th>\n",
       "    </tr>\n",
       "  </thead>\n",
       "  <tbody>\n",
       "    <tr>\n",
       "      <th>2612</th>\n",
       "      <td>ENSEMBL:ENSP00000370083</td>\n",
       "      <td>SMN1</td>\n",
       "      <td>UniProtKB:Q16637-1</td>\n",
       "      <td>survival motor neuron protein isoform 1 (human)</td>\n",
       "    </tr>\n",
       "    <tr>\n",
       "      <th>2615</th>\n",
       "      <td>ENSEMBL:ENSP00000370119</td>\n",
       "      <td>SMN2</td>\n",
       "      <td>UniProtKB:Q16637-1</td>\n",
       "      <td>survival motor neuron protein isoform 1 (human)</td>\n",
       "    </tr>\n",
       "    <tr>\n",
       "      <th>344</th>\n",
       "      <td>ENSEMBL:ENSP00000251595</td>\n",
       "      <td>HBA2</td>\n",
       "      <td>UniProtKB:P69905</td>\n",
       "      <td>HBA_HUMAN Hemoglobin subunit alpha (sprot)</td>\n",
       "    </tr>\n",
       "    <tr>\n",
       "      <th>1422</th>\n",
       "      <td>ENSEMBL:ENSP00000322421</td>\n",
       "      <td>HBA1</td>\n",
       "      <td>UniProtKB:P69905</td>\n",
       "      <td>HBA_HUMAN Hemoglobin subunit alpha (sprot)</td>\n",
       "    </tr>\n",
       "  </tbody>\n",
       "</table>\n",
       "</div>"
      ],
      "text/plain": [
       "                      gene_id gene_name    gene_nodenorm_id  \\\n",
       "2612  ENSEMBL:ENSP00000370083      SMN1  UniProtKB:Q16637-1   \n",
       "2615  ENSEMBL:ENSP00000370119      SMN2  UniProtKB:Q16637-1   \n",
       "344   ENSEMBL:ENSP00000251595      HBA2    UniProtKB:P69905   \n",
       "1422  ENSEMBL:ENSP00000322421      HBA1    UniProtKB:P69905   \n",
       "\n",
       "                                  gene_nodenorm_label  \n",
       "2612  survival motor neuron protein isoform 1 (human)  \n",
       "2615  survival motor neuron protein isoform 1 (human)  \n",
       "344        HBA_HUMAN Hemoglobin subunit alpha (sprot)  \n",
       "1422       HBA_HUMAN Hemoglobin subunit alpha (sprot)  "
      ]
     },
     "execution_count": 71,
     "metadata": {},
     "output_type": "execute_result"
    }
   ],
   "source": [
    "## gene duplicates\n",
    "\n",
    "NodeNormDups_kw_genes = df_knowledge_nodenorm_dups[[\"gene_id\", \"gene_name\", \n",
    "                            \"gene_nodenorm_id\", \"gene_nodenorm_label\"]].copy()\n",
    "\n",
    "NodeNormDups_kw_genes.drop_duplicates(inplace=True)\n",
    "\n",
    "genes_dups_kw = NodeNormDups_kw_genes.groupby(\n",
    "    \"gene_nodenorm_id\").filter(lambda x: len(x)>1).copy()\n",
    "\n",
    "genes_dups_kw"
   ]
  },
  {
   "cell_type": "markdown",
   "id": "5cfe04da",
   "metadata": {},
   "source": [
    "### Text-mining"
   ]
  },
  {
   "cell_type": "code",
   "execution_count": 72,
   "id": "4b74b5d6",
   "metadata": {
    "ExecuteTime": {
     "end_time": "2025-08-05T00:32:18.787503Z",
     "start_time": "2025-08-05T00:32:18.695812Z"
    },
    "scrolled": false
   },
   "outputs": [
    {
     "data": {
      "text/plain": [
       "(1109, 12)"
      ]
     },
     "execution_count": 72,
     "metadata": {},
     "output_type": "execute_result"
    },
    {
     "data": {
      "text/html": [
       "<div>\n",
       "<style scoped>\n",
       "    .dataframe tbody tr th:only-of-type {\n",
       "        vertical-align: middle;\n",
       "    }\n",
       "\n",
       "    .dataframe tbody tr th {\n",
       "        vertical-align: top;\n",
       "    }\n",
       "\n",
       "    .dataframe thead th {\n",
       "        text-align: right;\n",
       "    }\n",
       "</style>\n",
       "<table border=\"1\" class=\"dataframe\">\n",
       "  <thead>\n",
       "    <tr style=\"text-align: right;\">\n",
       "      <th></th>\n",
       "      <th>gene_id</th>\n",
       "      <th>gene_name</th>\n",
       "      <th>disease_id</th>\n",
       "      <th>disease_name</th>\n",
       "      <th>z_score</th>\n",
       "      <th>confidence_score</th>\n",
       "      <th>url</th>\n",
       "      <th>gene_nodenorm_id</th>\n",
       "      <th>gene_nodenorm_label</th>\n",
       "      <th>gene_nodenorm_category</th>\n",
       "      <th>disease_nodenorm_id</th>\n",
       "      <th>disease_nodenorm_label</th>\n",
       "    </tr>\n",
       "  </thead>\n",
       "  <tbody>\n",
       "    <tr>\n",
       "      <th>181388</th>\n",
       "      <td>ENSEMBL:ENSP00000370083</td>\n",
       "      <td>SMN1</td>\n",
       "      <td>DOID:0060159</td>\n",
       "      <td>Organic acidemia</td>\n",
       "      <td>3.410</td>\n",
       "      <td>1.705</td>\n",
       "      <td>https://diseases.jensenlab.org/Entity?documents=10&amp;type1=9606&amp;id1=ENSP00000370083&amp;type2=-26&amp;id2=DOID:0060159</td>\n",
       "      <td>UniProtKB:Q16637-1</td>\n",
       "      <td>survival motor neuron protein isoform 1 (human)</td>\n",
       "      <td>biolink:Protein</td>\n",
       "      <td>MONDO:0000688</td>\n",
       "      <td>inborn organic aciduria</td>\n",
       "    </tr>\n",
       "    <tr>\n",
       "      <th>181504</th>\n",
       "      <td>ENSEMBL:ENSP00000370119</td>\n",
       "      <td>SMN2</td>\n",
       "      <td>DOID:0060159</td>\n",
       "      <td>Organic acidemia</td>\n",
       "      <td>3.445</td>\n",
       "      <td>1.723</td>\n",
       "      <td>https://diseases.jensenlab.org/Entity?documents=10&amp;type1=9606&amp;id1=ENSP00000370119&amp;type2=-26&amp;id2=DOID:0060159</td>\n",
       "      <td>UniProtKB:Q16637-1</td>\n",
       "      <td>survival motor neuron protein isoform 1 (human)</td>\n",
       "      <td>biolink:Protein</td>\n",
       "      <td>MONDO:0000688</td>\n",
       "      <td>inborn organic aciduria</td>\n",
       "    </tr>\n",
       "    <tr>\n",
       "      <th>188260</th>\n",
       "      <td>ENSEMBL:ENSP00000376048</td>\n",
       "      <td>MAG</td>\n",
       "      <td>DOID:0060499</td>\n",
       "      <td>Autoimmune neuropathy</td>\n",
       "      <td>4.993</td>\n",
       "      <td>2.496</td>\n",
       "      <td>https://diseases.jensenlab.org/Entity?documents=10&amp;type1=9606&amp;id1=ENSP00000376048&amp;type2=-26&amp;id2=DOID:0060499</td>\n",
       "      <td>UniProtKB:P20916-1</td>\n",
       "      <td>myelin-associated glycoprotein isoform 1 (human)</td>\n",
       "      <td>biolink:Protein</td>\n",
       "      <td>MONDO:0000774</td>\n",
       "      <td>autoimmune neuropathy</td>\n",
       "    </tr>\n",
       "    <tr>\n",
       "      <th>188271</th>\n",
       "      <td>ENSEMBL:ENSP00000376048</td>\n",
       "      <td>MAG</td>\n",
       "      <td>DOID:0040087</td>\n",
       "      <td>Autoimmune peripheral neuropathy</td>\n",
       "      <td>4.175</td>\n",
       "      <td>2.087</td>\n",
       "      <td>https://diseases.jensenlab.org/Entity?documents=10&amp;type1=9606&amp;id1=ENSP00000376048&amp;type2=-26&amp;id2=DOID:0040087</td>\n",
       "      <td>UniProtKB:P20916-1</td>\n",
       "      <td>myelin-associated glycoprotein isoform 1 (human)</td>\n",
       "      <td>biolink:Protein</td>\n",
       "      <td>MONDO:0000774</td>\n",
       "      <td>autoimmune neuropathy</td>\n",
       "    </tr>\n",
       "    <tr>\n",
       "      <th>116385</th>\n",
       "      <td>ENSEMBL:ENSP00000334330</td>\n",
       "      <td>DEFB105A</td>\n",
       "      <td>DOID:1002</td>\n",
       "      <td>Endometritis</td>\n",
       "      <td>3.508</td>\n",
       "      <td>1.754</td>\n",
       "      <td>https://diseases.jensenlab.org/Entity?documents=10&amp;type1=9606&amp;id1=ENSP00000334330&amp;type2=-26&amp;id2=DOID:1002</td>\n",
       "      <td>UniProtKB:Q8NG35</td>\n",
       "      <td>D105A_HUMAN Beta-defensin 105 (sprot)</td>\n",
       "      <td>biolink:Protein</td>\n",
       "      <td>MONDO:0000918</td>\n",
       "      <td>endometritis</td>\n",
       "    </tr>\n",
       "    <tr>\n",
       "      <th>...</th>\n",
       "      <td>...</td>\n",
       "      <td>...</td>\n",
       "      <td>...</td>\n",
       "      <td>...</td>\n",
       "      <td>...</td>\n",
       "      <td>...</td>\n",
       "      <td>...</td>\n",
       "      <td>...</td>\n",
       "      <td>...</td>\n",
       "      <td>...</td>\n",
       "      <td>...</td>\n",
       "      <td>...</td>\n",
       "    </tr>\n",
       "    <tr>\n",
       "      <th>144729</th>\n",
       "      <td>ENSEMBL:ENSP00000355780</td>\n",
       "      <td>H3-3A</td>\n",
       "      <td>DOID:0081302</td>\n",
       "      <td>Diffuse leptomeningeal glioneuronal tumor</td>\n",
       "      <td>4.205</td>\n",
       "      <td>2.103</td>\n",
       "      <td>https://diseases.jensenlab.org/Entity?documents=10&amp;type1=9606&amp;id1=ENSP00000355780&amp;type2=-26&amp;id2=DOID:0081302</td>\n",
       "      <td>UniProtKB:P84243</td>\n",
       "      <td>H33_HUMAN Histone H3.3 (sprot)</td>\n",
       "      <td>biolink:Protein</td>\n",
       "      <td>MONDO:0858956</td>\n",
       "      <td>diffuse leptomeningeal glioneuronal tumor</td>\n",
       "    </tr>\n",
       "    <tr>\n",
       "      <th>116386</th>\n",
       "      <td>ENSEMBL:ENSP00000334330</td>\n",
       "      <td>DEFB105A</td>\n",
       "      <td>DOID:0070468</td>\n",
       "      <td>Yoon-Bellen neurodevelopmental syndrome</td>\n",
       "      <td>3.235</td>\n",
       "      <td>1.618</td>\n",
       "      <td>https://diseases.jensenlab.org/Entity?documents=10&amp;type1=9606&amp;id1=ENSP00000334330&amp;type2=-26&amp;id2=DOID:0070468</td>\n",
       "      <td>UniProtKB:Q8NG35</td>\n",
       "      <td>D105A_HUMAN Beta-defensin 105 (sprot)</td>\n",
       "      <td>biolink:Protein</td>\n",
       "      <td>MONDO:0859221</td>\n",
       "      <td>Yoon-Bellen neurodevelopmental syndrome</td>\n",
       "    </tr>\n",
       "    <tr>\n",
       "      <th>117300</th>\n",
       "      <td>ENSEMBL:ENSP00000335281</td>\n",
       "      <td>DEFB105B</td>\n",
       "      <td>DOID:0070468</td>\n",
       "      <td>Yoon-Bellen neurodevelopmental syndrome</td>\n",
       "      <td>3.587</td>\n",
       "      <td>1.794</td>\n",
       "      <td>https://diseases.jensenlab.org/Entity?documents=10&amp;type1=9606&amp;id1=ENSP00000335281&amp;type2=-26&amp;id2=DOID:0070468</td>\n",
       "      <td>UniProtKB:Q8NG35</td>\n",
       "      <td>D105A_HUMAN Beta-defensin 105 (sprot)</td>\n",
       "      <td>biolink:Protein</td>\n",
       "      <td>MONDO:0859221</td>\n",
       "      <td>Yoon-Bellen neurodevelopmental syndrome</td>\n",
       "    </tr>\n",
       "    <tr>\n",
       "      <th>103309</th>\n",
       "      <td>ENSEMBL:ENSP00000320813</td>\n",
       "      <td>DEFB104A</td>\n",
       "      <td>DOID:0070468</td>\n",
       "      <td>Yoon-Bellen neurodevelopmental syndrome</td>\n",
       "      <td>4.114</td>\n",
       "      <td>2.057</td>\n",
       "      <td>https://diseases.jensenlab.org/Entity?documents=10&amp;type1=9606&amp;id1=ENSP00000320813&amp;type2=-26&amp;id2=DOID:0070468</td>\n",
       "      <td>UniProtKB:Q8WTQ1</td>\n",
       "      <td>D104A_HUMAN Beta-defensin 104 (sprot)</td>\n",
       "      <td>biolink:Protein</td>\n",
       "      <td>MONDO:0859221</td>\n",
       "      <td>Yoon-Bellen neurodevelopmental syndrome</td>\n",
       "    </tr>\n",
       "    <tr>\n",
       "      <th>104770</th>\n",
       "      <td>ENSEMBL:ENSP00000322191</td>\n",
       "      <td>DEFB104B</td>\n",
       "      <td>DOID:0070468</td>\n",
       "      <td>Yoon-Bellen neurodevelopmental syndrome</td>\n",
       "      <td>4.186</td>\n",
       "      <td>2.093</td>\n",
       "      <td>https://diseases.jensenlab.org/Entity?documents=10&amp;type1=9606&amp;id1=ENSP00000322191&amp;type2=-26&amp;id2=DOID:0070468</td>\n",
       "      <td>UniProtKB:Q8WTQ1</td>\n",
       "      <td>D104A_HUMAN Beta-defensin 104 (sprot)</td>\n",
       "      <td>biolink:Protein</td>\n",
       "      <td>MONDO:0859221</td>\n",
       "      <td>Yoon-Bellen neurodevelopmental syndrome</td>\n",
       "    </tr>\n",
       "  </tbody>\n",
       "</table>\n",
       "<p>1109 rows × 12 columns</p>\n",
       "</div>"
      ],
      "text/plain": [
       "                        gene_id gene_name    disease_id  \\\n",
       "181388  ENSEMBL:ENSP00000370083      SMN1  DOID:0060159   \n",
       "181504  ENSEMBL:ENSP00000370119      SMN2  DOID:0060159   \n",
       "188260  ENSEMBL:ENSP00000376048       MAG  DOID:0060499   \n",
       "188271  ENSEMBL:ENSP00000376048       MAG  DOID:0040087   \n",
       "116385  ENSEMBL:ENSP00000334330  DEFB105A     DOID:1002   \n",
       "...                         ...       ...           ...   \n",
       "144729  ENSEMBL:ENSP00000355780     H3-3A  DOID:0081302   \n",
       "116386  ENSEMBL:ENSP00000334330  DEFB105A  DOID:0070468   \n",
       "117300  ENSEMBL:ENSP00000335281  DEFB105B  DOID:0070468   \n",
       "103309  ENSEMBL:ENSP00000320813  DEFB104A  DOID:0070468   \n",
       "104770  ENSEMBL:ENSP00000322191  DEFB104B  DOID:0070468   \n",
       "\n",
       "                                     disease_name  z_score  confidence_score  \\\n",
       "181388                           Organic acidemia    3.410             1.705   \n",
       "181504                           Organic acidemia    3.445             1.723   \n",
       "188260                      Autoimmune neuropathy    4.993             2.496   \n",
       "188271           Autoimmune peripheral neuropathy    4.175             2.087   \n",
       "116385                               Endometritis    3.508             1.754   \n",
       "...                                           ...      ...               ...   \n",
       "144729  Diffuse leptomeningeal glioneuronal tumor    4.205             2.103   \n",
       "116386    Yoon-Bellen neurodevelopmental syndrome    3.235             1.618   \n",
       "117300    Yoon-Bellen neurodevelopmental syndrome    3.587             1.794   \n",
       "103309    Yoon-Bellen neurodevelopmental syndrome    4.114             2.057   \n",
       "104770    Yoon-Bellen neurodevelopmental syndrome    4.186             2.093   \n",
       "\n",
       "                                                                                                                 url  \\\n",
       "181388  https://diseases.jensenlab.org/Entity?documents=10&type1=9606&id1=ENSP00000370083&type2=-26&id2=DOID:0060159   \n",
       "181504  https://diseases.jensenlab.org/Entity?documents=10&type1=9606&id1=ENSP00000370119&type2=-26&id2=DOID:0060159   \n",
       "188260  https://diseases.jensenlab.org/Entity?documents=10&type1=9606&id1=ENSP00000376048&type2=-26&id2=DOID:0060499   \n",
       "188271  https://diseases.jensenlab.org/Entity?documents=10&type1=9606&id1=ENSP00000376048&type2=-26&id2=DOID:0040087   \n",
       "116385     https://diseases.jensenlab.org/Entity?documents=10&type1=9606&id1=ENSP00000334330&type2=-26&id2=DOID:1002   \n",
       "...                                                                                                              ...   \n",
       "144729  https://diseases.jensenlab.org/Entity?documents=10&type1=9606&id1=ENSP00000355780&type2=-26&id2=DOID:0081302   \n",
       "116386  https://diseases.jensenlab.org/Entity?documents=10&type1=9606&id1=ENSP00000334330&type2=-26&id2=DOID:0070468   \n",
       "117300  https://diseases.jensenlab.org/Entity?documents=10&type1=9606&id1=ENSP00000335281&type2=-26&id2=DOID:0070468   \n",
       "103309  https://diseases.jensenlab.org/Entity?documents=10&type1=9606&id1=ENSP00000320813&type2=-26&id2=DOID:0070468   \n",
       "104770  https://diseases.jensenlab.org/Entity?documents=10&type1=9606&id1=ENSP00000322191&type2=-26&id2=DOID:0070468   \n",
       "\n",
       "          gene_nodenorm_id                               gene_nodenorm_label  \\\n",
       "181388  UniProtKB:Q16637-1   survival motor neuron protein isoform 1 (human)   \n",
       "181504  UniProtKB:Q16637-1   survival motor neuron protein isoform 1 (human)   \n",
       "188260  UniProtKB:P20916-1  myelin-associated glycoprotein isoform 1 (human)   \n",
       "188271  UniProtKB:P20916-1  myelin-associated glycoprotein isoform 1 (human)   \n",
       "116385    UniProtKB:Q8NG35             D105A_HUMAN Beta-defensin 105 (sprot)   \n",
       "...                    ...                                               ...   \n",
       "144729    UniProtKB:P84243                    H33_HUMAN Histone H3.3 (sprot)   \n",
       "116386    UniProtKB:Q8NG35             D105A_HUMAN Beta-defensin 105 (sprot)   \n",
       "117300    UniProtKB:Q8NG35             D105A_HUMAN Beta-defensin 105 (sprot)   \n",
       "103309    UniProtKB:Q8WTQ1             D104A_HUMAN Beta-defensin 104 (sprot)   \n",
       "104770    UniProtKB:Q8WTQ1             D104A_HUMAN Beta-defensin 104 (sprot)   \n",
       "\n",
       "       gene_nodenorm_category disease_nodenorm_id  \\\n",
       "181388        biolink:Protein       MONDO:0000688   \n",
       "181504        biolink:Protein       MONDO:0000688   \n",
       "188260        biolink:Protein       MONDO:0000774   \n",
       "188271        biolink:Protein       MONDO:0000774   \n",
       "116385        biolink:Protein       MONDO:0000918   \n",
       "...                       ...                 ...   \n",
       "144729        biolink:Protein       MONDO:0858956   \n",
       "116386        biolink:Protein       MONDO:0859221   \n",
       "117300        biolink:Protein       MONDO:0859221   \n",
       "103309        biolink:Protein       MONDO:0859221   \n",
       "104770        biolink:Protein       MONDO:0859221   \n",
       "\n",
       "                           disease_nodenorm_label  \n",
       "181388                    inborn organic aciduria  \n",
       "181504                    inborn organic aciduria  \n",
       "188260                      autoimmune neuropathy  \n",
       "188271                      autoimmune neuropathy  \n",
       "116385                               endometritis  \n",
       "...                                           ...  \n",
       "144729  diffuse leptomeningeal glioneuronal tumor  \n",
       "116386    Yoon-Bellen neurodevelopmental syndrome  \n",
       "117300    Yoon-Bellen neurodevelopmental syndrome  \n",
       "103309    Yoon-Bellen neurodevelopmental syndrome  \n",
       "104770    Yoon-Bellen neurodevelopmental syndrome  \n",
       "\n",
       "[1109 rows x 12 columns]"
      ]
     },
     "execution_count": 72,
     "metadata": {},
     "output_type": "execute_result"
    }
   ],
   "source": [
    "## total number of rows affected\n",
    "\n",
    "df_textmining_nodenorm_dups = df_textmining[\n",
    "    df_textmining.duplicated(\n",
    "        subset=[\"gene_nodenorm_id\", \"disease_nodenorm_id\"], \n",
    "        keep=False)].copy()\n",
    "\n",
    "df_textmining_nodenorm_dups.sort_values(by=[\"disease_nodenorm_id\", \"gene_nodenorm_id\"],\n",
    "                                        inplace=True)\n",
    "\n",
    "df_textmining_nodenorm_dups.shape\n",
    "\n",
    "df_textmining_nodenorm_dups"
   ]
  },
  {
   "cell_type": "code",
   "execution_count": 73,
   "id": "a49ea548",
   "metadata": {
    "ExecuteTime": {
     "end_time": "2025-08-05T00:33:01.536857Z",
     "start_time": "2025-08-05T00:33:01.516084Z"
    }
   },
   "outputs": [
    {
     "data": {
      "text/plain": [
       "13"
      ]
     },
     "execution_count": 73,
     "metadata": {},
     "output_type": "execute_result"
    },
    {
     "data": {
      "text/html": [
       "<div>\n",
       "<style scoped>\n",
       "    .dataframe tbody tr th:only-of-type {\n",
       "        vertical-align: middle;\n",
       "    }\n",
       "\n",
       "    .dataframe tbody tr th {\n",
       "        vertical-align: top;\n",
       "    }\n",
       "\n",
       "    .dataframe thead th {\n",
       "        text-align: right;\n",
       "    }\n",
       "</style>\n",
       "<table border=\"1\" class=\"dataframe\">\n",
       "  <thead>\n",
       "    <tr style=\"text-align: right;\">\n",
       "      <th></th>\n",
       "      <th>disease_id</th>\n",
       "      <th>disease_name</th>\n",
       "      <th>disease_nodenorm_id</th>\n",
       "      <th>disease_nodenorm_label</th>\n",
       "    </tr>\n",
       "  </thead>\n",
       "  <tbody>\n",
       "    <tr>\n",
       "      <th>188260</th>\n",
       "      <td>DOID:0060499</td>\n",
       "      <td>Autoimmune neuropathy</td>\n",
       "      <td>MONDO:0000774</td>\n",
       "      <td>autoimmune neuropathy</td>\n",
       "    </tr>\n",
       "    <tr>\n",
       "      <th>188271</th>\n",
       "      <td>DOID:0040087</td>\n",
       "      <td>Autoimmune peripheral neuropathy</td>\n",
       "      <td>MONDO:0000774</td>\n",
       "      <td>autoimmune neuropathy</td>\n",
       "    </tr>\n",
       "    <tr>\n",
       "      <th>120327</th>\n",
       "      <td>DOID:0060025</td>\n",
       "      <td>Immunoglobulin alpha deficiency</td>\n",
       "      <td>MONDO:0001341</td>\n",
       "      <td>IgA Deficiency</td>\n",
       "    </tr>\n",
       "    <tr>\n",
       "      <th>120358</th>\n",
       "      <td>DOID:11701</td>\n",
       "      <td>Selective IgA deficiency disease</td>\n",
       "      <td>MONDO:0001341</td>\n",
       "      <td>IgA Deficiency</td>\n",
       "    </tr>\n",
       "    <tr>\n",
       "      <th>86312</th>\n",
       "      <td>DOID:824</td>\n",
       "      <td>Periodontitis</td>\n",
       "      <td>MONDO:0005076</td>\n",
       "      <td>periodontitis</td>\n",
       "    </tr>\n",
       "    <tr>\n",
       "      <th>161877</th>\n",
       "      <td>DOID:9893</td>\n",
       "      <td>Periodontosis</td>\n",
       "      <td>MONDO:0005076</td>\n",
       "      <td>periodontitis</td>\n",
       "    </tr>\n",
       "    <tr>\n",
       "      <th>80194</th>\n",
       "      <td>DOID:1575</td>\n",
       "      <td>Rheumatic disease</td>\n",
       "      <td>MONDO:0005554</td>\n",
       "      <td>Rheumatism</td>\n",
       "    </tr>\n",
       "    <tr>\n",
       "      <th>80202</th>\n",
       "      <td>DOID:854</td>\n",
       "      <td>Collagen disease</td>\n",
       "      <td>MONDO:0005554</td>\n",
       "      <td>Rheumatism</td>\n",
       "    </tr>\n",
       "    <tr>\n",
       "      <th>229566</th>\n",
       "      <td>DOID:1849</td>\n",
       "      <td>Cannabis dependence</td>\n",
       "      <td>MONDO:0005689</td>\n",
       "      <td>cannabis abuse</td>\n",
       "    </tr>\n",
       "    <tr>\n",
       "      <th>229579</th>\n",
       "      <td>DOID:9505</td>\n",
       "      <td>Cannabis abuse</td>\n",
       "      <td>MONDO:0005689</td>\n",
       "      <td>cannabis abuse</td>\n",
       "    </tr>\n",
       "    <tr>\n",
       "      <th>34066</th>\n",
       "      <td>DOID:0080666</td>\n",
       "      <td>Warfarin sensitivity</td>\n",
       "      <td>MONDO:0007390</td>\n",
       "      <td>coumarin resistance</td>\n",
       "    </tr>\n",
       "    <tr>\n",
       "      <th>34094</th>\n",
       "      <td>DOID:0080665</td>\n",
       "      <td>Warfarin resistance</td>\n",
       "      <td>MONDO:0007390</td>\n",
       "      <td>coumarin resistance</td>\n",
       "    </tr>\n",
       "    <tr>\n",
       "      <th>12454</th>\n",
       "      <td>DOID:11612</td>\n",
       "      <td>Polycystic ovary syndrome</td>\n",
       "      <td>MONDO:0008487</td>\n",
       "      <td>Androgen excess</td>\n",
       "    </tr>\n",
       "    <tr>\n",
       "      <th>12471</th>\n",
       "      <td>DOID:11613</td>\n",
       "      <td>Hyperandrogenism</td>\n",
       "      <td>MONDO:0008487</td>\n",
       "      <td>Androgen excess</td>\n",
       "    </tr>\n",
       "    <tr>\n",
       "      <th>140351</th>\n",
       "      <td>DOID:3852</td>\n",
       "      <td>Peutz-Jeghers syndrome</td>\n",
       "      <td>MONDO:0008501</td>\n",
       "      <td>Sturge-Weber syndrome</td>\n",
       "    </tr>\n",
       "    <tr>\n",
       "      <th>140435</th>\n",
       "      <td>DOID:0111563</td>\n",
       "      <td>Sturge-Weber syndrome</td>\n",
       "      <td>MONDO:0008501</td>\n",
       "      <td>Sturge-Weber syndrome</td>\n",
       "    </tr>\n",
       "    <tr>\n",
       "      <th>174441</th>\n",
       "      <td>DOID:14743</td>\n",
       "      <td>Trichorhinophalangeal syndrome type I</td>\n",
       "      <td>MONDO:0008596</td>\n",
       "      <td>trichorhinophalangeal syndrome type I</td>\n",
       "    </tr>\n",
       "    <tr>\n",
       "      <th>174466</th>\n",
       "      <td>DOID:0080376</td>\n",
       "      <td>Trichorhinophalangeal syndrome type III</td>\n",
       "      <td>MONDO:0008596</td>\n",
       "      <td>trichorhinophalangeal syndrome type I</td>\n",
       "    </tr>\n",
       "    <tr>\n",
       "      <th>156238</th>\n",
       "      <td>DOID:0060476</td>\n",
       "      <td>Perlman syndrome</td>\n",
       "      <td>MONDO:0009965</td>\n",
       "      <td>Perlman syndrome</td>\n",
       "    </tr>\n",
       "    <tr>\n",
       "      <th>156244</th>\n",
       "      <td>DOID:5572</td>\n",
       "      <td>Beckwith-Wiedemann syndrome</td>\n",
       "      <td>MONDO:0009965</td>\n",
       "      <td>Perlman syndrome</td>\n",
       "    </tr>\n",
       "    <tr>\n",
       "      <th>257699</th>\n",
       "      <td>DOID:13515</td>\n",
       "      <td>Tuberous sclerosis</td>\n",
       "      <td>MONDO:0010029</td>\n",
       "      <td>situs inversus</td>\n",
       "    </tr>\n",
       "    <tr>\n",
       "      <th>257772</th>\n",
       "      <td>DOID:758</td>\n",
       "      <td>Situs inversus</td>\n",
       "      <td>MONDO:0010029</td>\n",
       "      <td>situs inversus</td>\n",
       "    </tr>\n",
       "    <tr>\n",
       "      <th>27244</th>\n",
       "      <td>DOID:0081240</td>\n",
       "      <td>Peroxisome biogenesis disorder 1B</td>\n",
       "      <td>MONDO:0011101</td>\n",
       "      <td>peroxisome biogenesis disorder 1B</td>\n",
       "    </tr>\n",
       "    <tr>\n",
       "      <th>27247</th>\n",
       "      <td>DOID:0050444</td>\n",
       "      <td>Infantile Refsum disease</td>\n",
       "      <td>MONDO:0011101</td>\n",
       "      <td>peroxisome biogenesis disorder 1B</td>\n",
       "    </tr>\n",
       "    <tr>\n",
       "      <th>79954</th>\n",
       "      <td>DOID:8712</td>\n",
       "      <td>Neurofibromatosis</td>\n",
       "      <td>MONDO:0016755</td>\n",
       "      <td>neurofibroma</td>\n",
       "    </tr>\n",
       "    <tr>\n",
       "      <th>79984</th>\n",
       "      <td>DOID:0060403</td>\n",
       "      <td>Chromosome 17q11.2 deletion syndrome</td>\n",
       "      <td>MONDO:0016755</td>\n",
       "      <td>neurofibroma</td>\n",
       "    </tr>\n",
       "    <tr>\n",
       "      <th>186660</th>\n",
       "      <td>DOID:962</td>\n",
       "      <td>Neurofibroma</td>\n",
       "      <td>MONDO:0016755</td>\n",
       "      <td>neurofibroma</td>\n",
       "    </tr>\n",
       "  </tbody>\n",
       "</table>\n",
       "</div>"
      ],
      "text/plain": [
       "          disease_id                             disease_name  \\\n",
       "188260  DOID:0060499                    Autoimmune neuropathy   \n",
       "188271  DOID:0040087         Autoimmune peripheral neuropathy   \n",
       "120327  DOID:0060025          Immunoglobulin alpha deficiency   \n",
       "120358    DOID:11701         Selective IgA deficiency disease   \n",
       "86312       DOID:824                            Periodontitis   \n",
       "161877     DOID:9893                            Periodontosis   \n",
       "80194      DOID:1575                        Rheumatic disease   \n",
       "80202       DOID:854                         Collagen disease   \n",
       "229566     DOID:1849                      Cannabis dependence   \n",
       "229579     DOID:9505                           Cannabis abuse   \n",
       "34066   DOID:0080666                     Warfarin sensitivity   \n",
       "34094   DOID:0080665                      Warfarin resistance   \n",
       "12454     DOID:11612                Polycystic ovary syndrome   \n",
       "12471     DOID:11613                         Hyperandrogenism   \n",
       "140351     DOID:3852                   Peutz-Jeghers syndrome   \n",
       "140435  DOID:0111563                    Sturge-Weber syndrome   \n",
       "174441    DOID:14743    Trichorhinophalangeal syndrome type I   \n",
       "174466  DOID:0080376  Trichorhinophalangeal syndrome type III   \n",
       "156238  DOID:0060476                         Perlman syndrome   \n",
       "156244     DOID:5572              Beckwith-Wiedemann syndrome   \n",
       "257699    DOID:13515                       Tuberous sclerosis   \n",
       "257772      DOID:758                           Situs inversus   \n",
       "27244   DOID:0081240        Peroxisome biogenesis disorder 1B   \n",
       "27247   DOID:0050444                 Infantile Refsum disease   \n",
       "79954      DOID:8712                        Neurofibromatosis   \n",
       "79984   DOID:0060403     Chromosome 17q11.2 deletion syndrome   \n",
       "186660      DOID:962                             Neurofibroma   \n",
       "\n",
       "       disease_nodenorm_id                 disease_nodenorm_label  \n",
       "188260       MONDO:0000774                  autoimmune neuropathy  \n",
       "188271       MONDO:0000774                  autoimmune neuropathy  \n",
       "120327       MONDO:0001341                         IgA Deficiency  \n",
       "120358       MONDO:0001341                         IgA Deficiency  \n",
       "86312        MONDO:0005076                          periodontitis  \n",
       "161877       MONDO:0005076                          periodontitis  \n",
       "80194        MONDO:0005554                             Rheumatism  \n",
       "80202        MONDO:0005554                             Rheumatism  \n",
       "229566       MONDO:0005689                         cannabis abuse  \n",
       "229579       MONDO:0005689                         cannabis abuse  \n",
       "34066        MONDO:0007390                    coumarin resistance  \n",
       "34094        MONDO:0007390                    coumarin resistance  \n",
       "12454        MONDO:0008487                        Androgen excess  \n",
       "12471        MONDO:0008487                        Androgen excess  \n",
       "140351       MONDO:0008501                  Sturge-Weber syndrome  \n",
       "140435       MONDO:0008501                  Sturge-Weber syndrome  \n",
       "174441       MONDO:0008596  trichorhinophalangeal syndrome type I  \n",
       "174466       MONDO:0008596  trichorhinophalangeal syndrome type I  \n",
       "156238       MONDO:0009965                       Perlman syndrome  \n",
       "156244       MONDO:0009965                       Perlman syndrome  \n",
       "257699       MONDO:0010029                         situs inversus  \n",
       "257772       MONDO:0010029                         situs inversus  \n",
       "27244        MONDO:0011101      peroxisome biogenesis disorder 1B  \n",
       "27247        MONDO:0011101      peroxisome biogenesis disorder 1B  \n",
       "79954        MONDO:0016755                           neurofibroma  \n",
       "79984        MONDO:0016755                           neurofibroma  \n",
       "186660       MONDO:0016755                           neurofibroma  "
      ]
     },
     "execution_count": 73,
     "metadata": {},
     "output_type": "execute_result"
    }
   ],
   "source": [
    "## disease duplicates\n",
    "\n",
    "NodeNormDups_tm_diseases = df_textmining_nodenorm_dups[[\"disease_id\", \"disease_name\", \n",
    "                            \"disease_nodenorm_id\", \"disease_nodenorm_label\"]].copy()\n",
    "\n",
    "NodeNormDups_tm_diseases.drop_duplicates(inplace=True)\n",
    "\n",
    "diseases_dups_tm = NodeNormDups_tm_diseases.groupby(\n",
    "    \"disease_nodenorm_id\").filter(lambda x: len(x)>1).copy()\n",
    "\n",
    "diseases_dups_tm[\"disease_nodenorm_id\"].nunique()\n",
    "diseases_dups_tm"
   ]
  },
  {
   "cell_type": "code",
   "execution_count": 74,
   "id": "108ce34f",
   "metadata": {
    "ExecuteTime": {
     "end_time": "2025-08-05T00:33:04.683175Z",
     "start_time": "2025-08-05T00:33:04.669424Z"
    }
   },
   "outputs": [
    {
     "data": {
      "text/html": [
       "<div>\n",
       "<style scoped>\n",
       "    .dataframe tbody tr th:only-of-type {\n",
       "        vertical-align: middle;\n",
       "    }\n",
       "\n",
       "    .dataframe tbody tr th {\n",
       "        vertical-align: top;\n",
       "    }\n",
       "\n",
       "    .dataframe thead th {\n",
       "        text-align: right;\n",
       "    }\n",
       "</style>\n",
       "<table border=\"1\" class=\"dataframe\">\n",
       "  <thead>\n",
       "    <tr style=\"text-align: right;\">\n",
       "      <th></th>\n",
       "      <th>gene_id</th>\n",
       "      <th>gene_name</th>\n",
       "      <th>disease_id</th>\n",
       "      <th>disease_name</th>\n",
       "      <th>z_score</th>\n",
       "      <th>confidence_score</th>\n",
       "      <th>url</th>\n",
       "      <th>gene_nodenorm_id</th>\n",
       "      <th>gene_nodenorm_label</th>\n",
       "      <th>gene_nodenorm_category</th>\n",
       "      <th>disease_nodenorm_id</th>\n",
       "      <th>disease_nodenorm_label</th>\n",
       "    </tr>\n",
       "  </thead>\n",
       "  <tbody>\n",
       "    <tr>\n",
       "      <th>229566</th>\n",
       "      <td>ENSEMBL:ENSP00000427603</td>\n",
       "      <td>GABRA2</td>\n",
       "      <td>DOID:1849</td>\n",
       "      <td>Cannabis dependence</td>\n",
       "      <td>4.996</td>\n",
       "      <td>2.498</td>\n",
       "      <td>https://diseases.jensenlab.org/Entity?documents=10&amp;type1=9606&amp;id1=ENSP00000427603&amp;type2=-26&amp;id2=DOID:1849</td>\n",
       "      <td>NCBIGene:2555</td>\n",
       "      <td>GABRA2</td>\n",
       "      <td>biolink:Gene</td>\n",
       "      <td>MONDO:0005689</td>\n",
       "      <td>cannabis abuse</td>\n",
       "    </tr>\n",
       "    <tr>\n",
       "      <th>229579</th>\n",
       "      <td>ENSEMBL:ENSP00000427603</td>\n",
       "      <td>GABRA2</td>\n",
       "      <td>DOID:9505</td>\n",
       "      <td>Cannabis abuse</td>\n",
       "      <td>3.534</td>\n",
       "      <td>1.767</td>\n",
       "      <td>https://diseases.jensenlab.org/Entity?documents=10&amp;type1=9606&amp;id1=ENSP00000427603&amp;type2=-26&amp;id2=DOID:9505</td>\n",
       "      <td>NCBIGene:2555</td>\n",
       "      <td>GABRA2</td>\n",
       "      <td>biolink:Gene</td>\n",
       "      <td>MONDO:0005689</td>\n",
       "      <td>cannabis abuse</td>\n",
       "    </tr>\n",
       "    <tr>\n",
       "      <th>216103</th>\n",
       "      <td>ENSEMBL:ENSP00000402020</td>\n",
       "      <td>C17orf58</td>\n",
       "      <td>DOID:1849</td>\n",
       "      <td>Cannabis dependence</td>\n",
       "      <td>4.142</td>\n",
       "      <td>2.071</td>\n",
       "      <td>https://diseases.jensenlab.org/Entity?documents=10&amp;type1=9606&amp;id1=ENSP00000402020&amp;type2=-26&amp;id2=DOID:1849</td>\n",
       "      <td>NCBIGene:284018</td>\n",
       "      <td>C17orf58</td>\n",
       "      <td>biolink:Gene</td>\n",
       "      <td>MONDO:0005689</td>\n",
       "      <td>cannabis abuse</td>\n",
       "    </tr>\n",
       "    <tr>\n",
       "      <th>216104</th>\n",
       "      <td>ENSEMBL:ENSP00000402020</td>\n",
       "      <td>C17orf58</td>\n",
       "      <td>DOID:9505</td>\n",
       "      <td>Cannabis abuse</td>\n",
       "      <td>3.360</td>\n",
       "      <td>1.680</td>\n",
       "      <td>https://diseases.jensenlab.org/Entity?documents=10&amp;type1=9606&amp;id1=ENSP00000402020&amp;type2=-26&amp;id2=DOID:9505</td>\n",
       "      <td>NCBIGene:284018</td>\n",
       "      <td>C17orf58</td>\n",
       "      <td>biolink:Gene</td>\n",
       "      <td>MONDO:0005689</td>\n",
       "      <td>cannabis abuse</td>\n",
       "    </tr>\n",
       "    <tr>\n",
       "      <th>202106</th>\n",
       "      <td>ENSEMBL:ENSP00000384193</td>\n",
       "      <td>CADM2</td>\n",
       "      <td>DOID:1849</td>\n",
       "      <td>Cannabis dependence</td>\n",
       "      <td>4.419</td>\n",
       "      <td>2.210</td>\n",
       "      <td>https://diseases.jensenlab.org/Entity?documents=10&amp;type1=9606&amp;id1=ENSP00000384193&amp;type2=-26&amp;id2=DOID:1849</td>\n",
       "      <td>UniProtKB:Q8N3J6-3</td>\n",
       "      <td>cell adhesion molecule 2 isoform h3 (human)</td>\n",
       "      <td>biolink:Protein</td>\n",
       "      <td>MONDO:0005689</td>\n",
       "      <td>cannabis abuse</td>\n",
       "    </tr>\n",
       "    <tr>\n",
       "      <th>202121</th>\n",
       "      <td>ENSEMBL:ENSP00000384193</td>\n",
       "      <td>CADM2</td>\n",
       "      <td>DOID:9505</td>\n",
       "      <td>Cannabis abuse</td>\n",
       "      <td>3.014</td>\n",
       "      <td>1.507</td>\n",
       "      <td>https://diseases.jensenlab.org/Entity?documents=10&amp;type1=9606&amp;id1=ENSP00000384193&amp;type2=-26&amp;id2=DOID:9505</td>\n",
       "      <td>UniProtKB:Q8N3J6-3</td>\n",
       "      <td>cell adhesion molecule 2 isoform h3 (human)</td>\n",
       "      <td>biolink:Protein</td>\n",
       "      <td>MONDO:0005689</td>\n",
       "      <td>cannabis abuse</td>\n",
       "    </tr>\n",
       "  </tbody>\n",
       "</table>\n",
       "</div>"
      ],
      "text/plain": [
       "                        gene_id gene_name disease_id         disease_name  \\\n",
       "229566  ENSEMBL:ENSP00000427603    GABRA2  DOID:1849  Cannabis dependence   \n",
       "229579  ENSEMBL:ENSP00000427603    GABRA2  DOID:9505       Cannabis abuse   \n",
       "216103  ENSEMBL:ENSP00000402020  C17orf58  DOID:1849  Cannabis dependence   \n",
       "216104  ENSEMBL:ENSP00000402020  C17orf58  DOID:9505       Cannabis abuse   \n",
       "202106  ENSEMBL:ENSP00000384193     CADM2  DOID:1849  Cannabis dependence   \n",
       "202121  ENSEMBL:ENSP00000384193     CADM2  DOID:9505       Cannabis abuse   \n",
       "\n",
       "        z_score  confidence_score  \\\n",
       "229566    4.996             2.498   \n",
       "229579    3.534             1.767   \n",
       "216103    4.142             2.071   \n",
       "216104    3.360             1.680   \n",
       "202106    4.419             2.210   \n",
       "202121    3.014             1.507   \n",
       "\n",
       "                                                                                                              url  \\\n",
       "229566  https://diseases.jensenlab.org/Entity?documents=10&type1=9606&id1=ENSP00000427603&type2=-26&id2=DOID:1849   \n",
       "229579  https://diseases.jensenlab.org/Entity?documents=10&type1=9606&id1=ENSP00000427603&type2=-26&id2=DOID:9505   \n",
       "216103  https://diseases.jensenlab.org/Entity?documents=10&type1=9606&id1=ENSP00000402020&type2=-26&id2=DOID:1849   \n",
       "216104  https://diseases.jensenlab.org/Entity?documents=10&type1=9606&id1=ENSP00000402020&type2=-26&id2=DOID:9505   \n",
       "202106  https://diseases.jensenlab.org/Entity?documents=10&type1=9606&id1=ENSP00000384193&type2=-26&id2=DOID:1849   \n",
       "202121  https://diseases.jensenlab.org/Entity?documents=10&type1=9606&id1=ENSP00000384193&type2=-26&id2=DOID:9505   \n",
       "\n",
       "          gene_nodenorm_id                          gene_nodenorm_label  \\\n",
       "229566       NCBIGene:2555                                       GABRA2   \n",
       "229579       NCBIGene:2555                                       GABRA2   \n",
       "216103     NCBIGene:284018                                     C17orf58   \n",
       "216104     NCBIGene:284018                                     C17orf58   \n",
       "202106  UniProtKB:Q8N3J6-3  cell adhesion molecule 2 isoform h3 (human)   \n",
       "202121  UniProtKB:Q8N3J6-3  cell adhesion molecule 2 isoform h3 (human)   \n",
       "\n",
       "       gene_nodenorm_category disease_nodenorm_id disease_nodenorm_label  \n",
       "229566           biolink:Gene       MONDO:0005689         cannabis abuse  \n",
       "229579           biolink:Gene       MONDO:0005689         cannabis abuse  \n",
       "216103           biolink:Gene       MONDO:0005689         cannabis abuse  \n",
       "216104           biolink:Gene       MONDO:0005689         cannabis abuse  \n",
       "202106        biolink:Protein       MONDO:0005689         cannabis abuse  \n",
       "202121        biolink:Protein       MONDO:0005689         cannabis abuse  "
      ]
     },
     "execution_count": 74,
     "metadata": {},
     "output_type": "execute_result"
    }
   ],
   "source": [
    "## looking at examples with specific nodenormed disease\n",
    "\n",
    "df_textmining_nodenorm_dups[df_textmining_nodenorm_dups[\"disease_nodenorm_id\"] == \"MONDO:0005689\"]"
   ]
  },
  {
   "cell_type": "code",
   "execution_count": 75,
   "id": "0fed64d5",
   "metadata": {
    "ExecuteTime": {
     "end_time": "2025-08-05T00:33:09.362345Z",
     "start_time": "2025-08-05T00:33:09.340129Z"
    }
   },
   "outputs": [
    {
     "data": {
      "text/plain": [
       "36"
      ]
     },
     "execution_count": 75,
     "metadata": {},
     "output_type": "execute_result"
    },
    {
     "data": {
      "text/html": [
       "<div>\n",
       "<style scoped>\n",
       "    .dataframe tbody tr th:only-of-type {\n",
       "        vertical-align: middle;\n",
       "    }\n",
       "\n",
       "    .dataframe tbody tr th {\n",
       "        vertical-align: top;\n",
       "    }\n",
       "\n",
       "    .dataframe thead th {\n",
       "        text-align: right;\n",
       "    }\n",
       "</style>\n",
       "<table border=\"1\" class=\"dataframe\">\n",
       "  <thead>\n",
       "    <tr style=\"text-align: right;\">\n",
       "      <th></th>\n",
       "      <th>gene_id</th>\n",
       "      <th>gene_name</th>\n",
       "      <th>gene_nodenorm_id</th>\n",
       "      <th>gene_nodenorm_label</th>\n",
       "    </tr>\n",
       "  </thead>\n",
       "  <tbody>\n",
       "    <tr>\n",
       "      <th>181388</th>\n",
       "      <td>ENSEMBL:ENSP00000370083</td>\n",
       "      <td>SMN1</td>\n",
       "      <td>UniProtKB:Q16637-1</td>\n",
       "      <td>survival motor neuron protein isoform 1 (human)</td>\n",
       "    </tr>\n",
       "    <tr>\n",
       "      <th>181504</th>\n",
       "      <td>ENSEMBL:ENSP00000370119</td>\n",
       "      <td>SMN2</td>\n",
       "      <td>UniProtKB:Q16637-1</td>\n",
       "      <td>survival motor neuron protein isoform 1 (human)</td>\n",
       "    </tr>\n",
       "    <tr>\n",
       "      <th>116385</th>\n",
       "      <td>ENSEMBL:ENSP00000334330</td>\n",
       "      <td>DEFB105A</td>\n",
       "      <td>UniProtKB:Q8NG35</td>\n",
       "      <td>D105A_HUMAN Beta-defensin 105 (sprot)</td>\n",
       "    </tr>\n",
       "    <tr>\n",
       "      <th>117299</th>\n",
       "      <td>ENSEMBL:ENSP00000335281</td>\n",
       "      <td>DEFB105B</td>\n",
       "      <td>UniProtKB:Q8NG35</td>\n",
       "      <td>D105A_HUMAN Beta-defensin 105 (sprot)</td>\n",
       "    </tr>\n",
       "    <tr>\n",
       "      <th>227802</th>\n",
       "      <td>ENSEMBL:ENSP00000421861</td>\n",
       "      <td>MAGED4B</td>\n",
       "      <td>UniProtKB:Q96JG8-4</td>\n",
       "      <td>melanoma-associated antigen D4 isoform h4 (human)</td>\n",
       "    </tr>\n",
       "    <tr>\n",
       "      <th>...</th>\n",
       "      <td>...</td>\n",
       "      <td>...</td>\n",
       "      <td>...</td>\n",
       "      <td>...</td>\n",
       "    </tr>\n",
       "    <tr>\n",
       "      <th>111617</th>\n",
       "      <td>ENSEMBL:ENSP00000329982</td>\n",
       "      <td>OR4F16</td>\n",
       "      <td>UniProtKB:Q6IEY1</td>\n",
       "      <td>OR4F3_HUMAN Olfactory receptor 4F3/4F16/4F29 (sprot)</td>\n",
       "    </tr>\n",
       "    <tr>\n",
       "      <th>211559</th>\n",
       "      <td>ENSEMBL:ENSP00000394282</td>\n",
       "      <td>OR4F3</td>\n",
       "      <td>UniProtKB:Q6IEY1</td>\n",
       "      <td>OR4F3_HUMAN Olfactory receptor 4F3/4F16/4F29 (sprot)</td>\n",
       "    </tr>\n",
       "    <tr>\n",
       "      <th>219515</th>\n",
       "      <td>ENSEMBL:ENSP00000409316</td>\n",
       "      <td>OR4F29</td>\n",
       "      <td>UniProtKB:Q6IEY1</td>\n",
       "      <td>OR4F3_HUMAN Olfactory receptor 4F3/4F16/4F29 (sprot)</td>\n",
       "    </tr>\n",
       "    <tr>\n",
       "      <th>1161</th>\n",
       "      <td>ENSEMBL:ENSP00000016946</td>\n",
       "      <td>RGPD5</td>\n",
       "      <td>UniProtKB:Q99666-1</td>\n",
       "      <td>RANBP2-like and GRIP domain-containing protein 5/6 isoform h1 (human)</td>\n",
       "    </tr>\n",
       "    <tr>\n",
       "      <th>112438</th>\n",
       "      <td>ENSEMBL:ENSP00000330842</td>\n",
       "      <td>RGPD6</td>\n",
       "      <td>UniProtKB:Q99666-1</td>\n",
       "      <td>RANBP2-like and GRIP domain-containing protein 5/6 isoform h1 (human)</td>\n",
       "    </tr>\n",
       "  </tbody>\n",
       "</table>\n",
       "<p>106 rows × 4 columns</p>\n",
       "</div>"
      ],
      "text/plain": [
       "                        gene_id gene_name    gene_nodenorm_id  \\\n",
       "181388  ENSEMBL:ENSP00000370083      SMN1  UniProtKB:Q16637-1   \n",
       "181504  ENSEMBL:ENSP00000370119      SMN2  UniProtKB:Q16637-1   \n",
       "116385  ENSEMBL:ENSP00000334330  DEFB105A    UniProtKB:Q8NG35   \n",
       "117299  ENSEMBL:ENSP00000335281  DEFB105B    UniProtKB:Q8NG35   \n",
       "227802  ENSEMBL:ENSP00000421861   MAGED4B  UniProtKB:Q96JG8-4   \n",
       "...                         ...       ...                 ...   \n",
       "111617  ENSEMBL:ENSP00000329982    OR4F16    UniProtKB:Q6IEY1   \n",
       "211559  ENSEMBL:ENSP00000394282     OR4F3    UniProtKB:Q6IEY1   \n",
       "219515  ENSEMBL:ENSP00000409316    OR4F29    UniProtKB:Q6IEY1   \n",
       "1161    ENSEMBL:ENSP00000016946     RGPD5  UniProtKB:Q99666-1   \n",
       "112438  ENSEMBL:ENSP00000330842     RGPD6  UniProtKB:Q99666-1   \n",
       "\n",
       "                                                          gene_nodenorm_label  \n",
       "181388                        survival motor neuron protein isoform 1 (human)  \n",
       "181504                        survival motor neuron protein isoform 1 (human)  \n",
       "116385                                  D105A_HUMAN Beta-defensin 105 (sprot)  \n",
       "117299                                  D105A_HUMAN Beta-defensin 105 (sprot)  \n",
       "227802                      melanoma-associated antigen D4 isoform h4 (human)  \n",
       "...                                                                       ...  \n",
       "111617                   OR4F3_HUMAN Olfactory receptor 4F3/4F16/4F29 (sprot)  \n",
       "211559                   OR4F3_HUMAN Olfactory receptor 4F3/4F16/4F29 (sprot)  \n",
       "219515                   OR4F3_HUMAN Olfactory receptor 4F3/4F16/4F29 (sprot)  \n",
       "1161    RANBP2-like and GRIP domain-containing protein 5/6 isoform h1 (human)  \n",
       "112438  RANBP2-like and GRIP domain-containing protein 5/6 isoform h1 (human)  \n",
       "\n",
       "[106 rows x 4 columns]"
      ]
     },
     "execution_count": 75,
     "metadata": {},
     "output_type": "execute_result"
    }
   ],
   "source": [
    "## gene duplicates\n",
    "\n",
    "NodeNormDups_tm_genes = df_textmining_nodenorm_dups[[\"gene_id\", \"gene_name\", \n",
    "                            \"gene_nodenorm_id\", \"gene_nodenorm_label\"]].copy()\n",
    "\n",
    "NodeNormDups_tm_genes.drop_duplicates(inplace=True)\n",
    "\n",
    "genes_dups_tm = NodeNormDups_tm_genes.groupby(\n",
    "    \"gene_nodenorm_id\").filter(lambda x: len(x)>1).copy()\n",
    "\n",
    "genes_dups_tm[\"gene_nodenorm_id\"].nunique()\n",
    "genes_dups_tm"
   ]
  },
  {
   "cell_type": "code",
   "execution_count": 76,
   "id": "4f7af6d2",
   "metadata": {
    "ExecuteTime": {
     "end_time": "2025-08-05T00:33:26.948818Z",
     "start_time": "2025-08-05T00:33:26.937795Z"
    }
   },
   "outputs": [
    {
     "data": {
      "text/html": [
       "<div>\n",
       "<style scoped>\n",
       "    .dataframe tbody tr th:only-of-type {\n",
       "        vertical-align: middle;\n",
       "    }\n",
       "\n",
       "    .dataframe tbody tr th {\n",
       "        vertical-align: top;\n",
       "    }\n",
       "\n",
       "    .dataframe thead th {\n",
       "        text-align: right;\n",
       "    }\n",
       "</style>\n",
       "<table border=\"1\" class=\"dataframe\">\n",
       "  <thead>\n",
       "    <tr style=\"text-align: right;\">\n",
       "      <th></th>\n",
       "      <th>gene_id</th>\n",
       "      <th>gene_name</th>\n",
       "      <th>gene_nodenorm_id</th>\n",
       "      <th>gene_nodenorm_label</th>\n",
       "    </tr>\n",
       "  </thead>\n",
       "  <tbody>\n",
       "    <tr>\n",
       "      <th>249051</th>\n",
       "      <td>ENSEMBL:ENSP00000479461</td>\n",
       "      <td>H4C4</td>\n",
       "      <td>UniProtKB:P62805</td>\n",
       "      <td>H4_HUMAN Histone H4 (sprot)</td>\n",
       "    </tr>\n",
       "    <tr>\n",
       "      <th>249223</th>\n",
       "      <td>ENSEMBL:ENSP00000479794</td>\n",
       "      <td>H4C12</td>\n",
       "      <td>UniProtKB:P62805</td>\n",
       "      <td>H4_HUMAN Histone H4 (sprot)</td>\n",
       "    </tr>\n",
       "    <tr>\n",
       "      <th>250399</th>\n",
       "      <td>ENSEMBL:ENSP00000480960</td>\n",
       "      <td>H4C13</td>\n",
       "      <td>UniProtKB:P62805</td>\n",
       "      <td>H4_HUMAN Histone H4 (sprot)</td>\n",
       "    </tr>\n",
       "    <tr>\n",
       "      <th>250778</th>\n",
       "      <td>ENSEMBL:ENSP00000481486</td>\n",
       "      <td>H4C9</td>\n",
       "      <td>UniProtKB:P62805</td>\n",
       "      <td>H4_HUMAN Histone H4 (sprot)</td>\n",
       "    </tr>\n",
       "    <tr>\n",
       "      <th>253495</th>\n",
       "      <td>ENSEMBL:ENSP00000484789</td>\n",
       "      <td>H4C5</td>\n",
       "      <td>UniProtKB:P62805</td>\n",
       "      <td>H4_HUMAN Histone H4 (sprot)</td>\n",
       "    </tr>\n",
       "    <tr>\n",
       "      <th>104357</th>\n",
       "      <td>ENSEMBL:ENSP00000321744</td>\n",
       "      <td>H2BC4</td>\n",
       "      <td>UniProtKB:P62807</td>\n",
       "      <td>H2B1C_HUMAN Histone H2B type 1-C/E/F/G/I (sprot)</td>\n",
       "    </tr>\n",
       "    <tr>\n",
       "      <th>132027</th>\n",
       "      <td>ENSEMBL:ENSP00000348924</td>\n",
       "      <td>H2BC7</td>\n",
       "      <td>UniProtKB:P62807</td>\n",
       "      <td>H2B1C_HUMAN Histone H2B type 1-C/E/F/G/I (sprot)</td>\n",
       "    </tr>\n",
       "    <tr>\n",
       "      <th>173631</th>\n",
       "      <td>ENSEMBL:ENSP00000366962</td>\n",
       "      <td>H2BC10</td>\n",
       "      <td>UniProtKB:P62807</td>\n",
       "      <td>H2B1C_HUMAN Histone H2B type 1-C/E/F/G/I (sprot)</td>\n",
       "    </tr>\n",
       "    <tr>\n",
       "      <th>238189</th>\n",
       "      <td>ENSEMBL:ENSP00000445633</td>\n",
       "      <td>H2BC8</td>\n",
       "      <td>UniProtKB:P62807</td>\n",
       "      <td>H2B1C_HUMAN Histone H2B type 1-C/E/F/G/I (sprot)</td>\n",
       "    </tr>\n",
       "    <tr>\n",
       "      <th>254313</th>\n",
       "      <td>ENSEMBL:ENSP00000489317</td>\n",
       "      <td>H2BC6</td>\n",
       "      <td>UniProtKB:P62807</td>\n",
       "      <td>H2B1C_HUMAN Histone H2B type 1-C/E/F/G/I (sprot)</td>\n",
       "    </tr>\n",
       "    <tr>\n",
       "      <th>151858</th>\n",
       "      <td>ENSEMBL:ENSP00000358160</td>\n",
       "      <td>H3C10</td>\n",
       "      <td>UniProtKB:P68431</td>\n",
       "      <td>Histone H3.1</td>\n",
       "    </tr>\n",
       "    <tr>\n",
       "      <th>173652</th>\n",
       "      <td>ENSEMBL:ENSP00000366999</td>\n",
       "      <td>H3C4</td>\n",
       "      <td>UniProtKB:P68431</td>\n",
       "      <td>Histone H3.1</td>\n",
       "    </tr>\n",
       "    <tr>\n",
       "      <th>253031</th>\n",
       "      <td>ENSEMBL:ENSP00000484095</td>\n",
       "      <td>H3C7</td>\n",
       "      <td>UniProtKB:P68431</td>\n",
       "      <td>Histone H3.1</td>\n",
       "    </tr>\n",
       "    <tr>\n",
       "      <th>168826</th>\n",
       "      <td>ENSEMBL:ENSP00000364752</td>\n",
       "      <td>XAGE1A</td>\n",
       "      <td>UniProtKB:Q9HD64-2</td>\n",
       "      <td>X antigen family member 1 isoform B (human)</td>\n",
       "    </tr>\n",
       "    <tr>\n",
       "      <th>168834</th>\n",
       "      <td>ENSEMBL:ENSP00000364766</td>\n",
       "      <td>XAGE1B</td>\n",
       "      <td>UniProtKB:Q9HD64-2</td>\n",
       "      <td>X antigen family member 1 isoform B (human)</td>\n",
       "    </tr>\n",
       "    <tr>\n",
       "      <th>115198</th>\n",
       "      <td>ENSEMBL:ENSP00000333487</td>\n",
       "      <td>MAGEA2B</td>\n",
       "      <td>UniProtKB:P43356</td>\n",
       "      <td>MAGA2_HUMAN Melanoma-associated antigen 2 (sprot)</td>\n",
       "    </tr>\n",
       "    <tr>\n",
       "      <th>253771</th>\n",
       "      <td>ENSEMBL:ENSP00000485541</td>\n",
       "      <td>MAGEA2</td>\n",
       "      <td>UniProtKB:P43356</td>\n",
       "      <td>MAGA2_HUMAN Melanoma-associated antigen 2 (sprot)</td>\n",
       "    </tr>\n",
       "    <tr>\n",
       "      <th>185231</th>\n",
       "      <td>ENSEMBL:ENSP00000372136</td>\n",
       "      <td>DEFA1B</td>\n",
       "      <td>UniProtKB:P59665</td>\n",
       "      <td>DEF1_HUMAN Neutrophil defensin 1 (sprot)</td>\n",
       "    </tr>\n",
       "    <tr>\n",
       "      <th>185246</th>\n",
       "      <td>ENSEMBL:ENSP00000372139</td>\n",
       "      <td>DEFA1</td>\n",
       "      <td>UniProtKB:P59665</td>\n",
       "      <td>DEF1_HUMAN Neutrophil defensin 1 (sprot)</td>\n",
       "    </tr>\n",
       "    <tr>\n",
       "      <th>28488</th>\n",
       "      <td>ENSEMBL:ENSP00000250823</td>\n",
       "      <td>VCY1B</td>\n",
       "      <td>UniProtKB:O14598</td>\n",
       "      <td>VCY1_HUMAN Testis-specific basic protein Y 1 (sprot)</td>\n",
       "    </tr>\n",
       "    <tr>\n",
       "      <th>28493</th>\n",
       "      <td>ENSEMBL:ENSP00000250825</td>\n",
       "      <td>VCY</td>\n",
       "      <td>UniProtKB:O14598</td>\n",
       "      <td>VCY1_HUMAN Testis-specific basic protein Y 1 (sprot)</td>\n",
       "    </tr>\n",
       "    <tr>\n",
       "      <th>246245</th>\n",
       "      <td>ENSEMBL:ENSP00000472530</td>\n",
       "      <td>NXF2B</td>\n",
       "      <td>UniProtKB:Q9GZY0</td>\n",
       "      <td>NXF2_HUMAN Nuclear RNA export factor 2 (sprot)</td>\n",
       "    </tr>\n",
       "    <tr>\n",
       "      <th>253799</th>\n",
       "      <td>ENSEMBL:ENSP00000485586</td>\n",
       "      <td>NXF2</td>\n",
       "      <td>UniProtKB:Q9GZY0</td>\n",
       "      <td>NXF2_HUMAN Nuclear RNA export factor 2 (sprot)</td>\n",
       "    </tr>\n",
       "    <tr>\n",
       "      <th>83122</th>\n",
       "      <td>ENSEMBL:ENSP00000301408</td>\n",
       "      <td>CGB5</td>\n",
       "      <td>UniProtKB:P0DN86-1</td>\n",
       "      <td>choriogonadotropin subunit beta 3 isoform h1 (human)</td>\n",
       "    </tr>\n",
       "    <tr>\n",
       "      <th>133379</th>\n",
       "      <td>ENSEMBL:ENSP00000349954</td>\n",
       "      <td>CGB3</td>\n",
       "      <td>UniProtKB:P0DN86-1</td>\n",
       "      <td>choriogonadotropin subunit beta 3 isoform h1 (human)</td>\n",
       "    </tr>\n",
       "    <tr>\n",
       "      <th>216927</th>\n",
       "      <td>ENSEMBL:ENSP00000403649</td>\n",
       "      <td>CGB8</td>\n",
       "      <td>UniProtKB:P0DN86-1</td>\n",
       "      <td>choriogonadotropin subunit beta 3 isoform h1 (human)</td>\n",
       "    </tr>\n",
       "    <tr>\n",
       "      <th>103632</th>\n",
       "      <td>ENSEMBL:ENSP00000320951</td>\n",
       "      <td>DEFB103A</td>\n",
       "      <td>UniProtKB:P81534</td>\n",
       "      <td>D103A_HUMAN Beta-defensin 103 (sprot)</td>\n",
       "    </tr>\n",
       "    <tr>\n",
       "      <th>106674</th>\n",
       "      <td>ENSEMBL:ENSP00000324633</td>\n",
       "      <td>DEFB103B</td>\n",
       "      <td>UniProtKB:P81534</td>\n",
       "      <td>D103A_HUMAN Beta-defensin 103 (sprot)</td>\n",
       "    </tr>\n",
       "    <tr>\n",
       "      <th>28495</th>\n",
       "      <td>ENSEMBL:ENSP00000250831</td>\n",
       "      <td>RBMY1J</td>\n",
       "      <td>UniProtKB:Q15415-1</td>\n",
       "      <td>RNA-binding motif protein, Y chromosome, family 1 member F/J isoform h1 (human)</td>\n",
       "    </tr>\n",
       "    <tr>\n",
       "      <th>90716</th>\n",
       "      <td>ENSEMBL:ENSP00000307155</td>\n",
       "      <td>RBMY1F</td>\n",
       "      <td>UniProtKB:Q15415-1</td>\n",
       "      <td>RNA-binding motif protein, Y chromosome, family 1 member F/J isoform h1 (human)</td>\n",
       "    </tr>\n",
       "  </tbody>\n",
       "</table>\n",
       "</div>"
      ],
      "text/plain": [
       "                        gene_id gene_name    gene_nodenorm_id  \\\n",
       "249051  ENSEMBL:ENSP00000479461      H4C4    UniProtKB:P62805   \n",
       "249223  ENSEMBL:ENSP00000479794     H4C12    UniProtKB:P62805   \n",
       "250399  ENSEMBL:ENSP00000480960     H4C13    UniProtKB:P62805   \n",
       "250778  ENSEMBL:ENSP00000481486      H4C9    UniProtKB:P62805   \n",
       "253495  ENSEMBL:ENSP00000484789      H4C5    UniProtKB:P62805   \n",
       "104357  ENSEMBL:ENSP00000321744     H2BC4    UniProtKB:P62807   \n",
       "132027  ENSEMBL:ENSP00000348924     H2BC7    UniProtKB:P62807   \n",
       "173631  ENSEMBL:ENSP00000366962    H2BC10    UniProtKB:P62807   \n",
       "238189  ENSEMBL:ENSP00000445633     H2BC8    UniProtKB:P62807   \n",
       "254313  ENSEMBL:ENSP00000489317     H2BC6    UniProtKB:P62807   \n",
       "151858  ENSEMBL:ENSP00000358160     H3C10    UniProtKB:P68431   \n",
       "173652  ENSEMBL:ENSP00000366999      H3C4    UniProtKB:P68431   \n",
       "253031  ENSEMBL:ENSP00000484095      H3C7    UniProtKB:P68431   \n",
       "168826  ENSEMBL:ENSP00000364752    XAGE1A  UniProtKB:Q9HD64-2   \n",
       "168834  ENSEMBL:ENSP00000364766    XAGE1B  UniProtKB:Q9HD64-2   \n",
       "115198  ENSEMBL:ENSP00000333487   MAGEA2B    UniProtKB:P43356   \n",
       "253771  ENSEMBL:ENSP00000485541    MAGEA2    UniProtKB:P43356   \n",
       "185231  ENSEMBL:ENSP00000372136    DEFA1B    UniProtKB:P59665   \n",
       "185246  ENSEMBL:ENSP00000372139     DEFA1    UniProtKB:P59665   \n",
       "28488   ENSEMBL:ENSP00000250823     VCY1B    UniProtKB:O14598   \n",
       "28493   ENSEMBL:ENSP00000250825       VCY    UniProtKB:O14598   \n",
       "246245  ENSEMBL:ENSP00000472530     NXF2B    UniProtKB:Q9GZY0   \n",
       "253799  ENSEMBL:ENSP00000485586      NXF2    UniProtKB:Q9GZY0   \n",
       "83122   ENSEMBL:ENSP00000301408      CGB5  UniProtKB:P0DN86-1   \n",
       "133379  ENSEMBL:ENSP00000349954      CGB3  UniProtKB:P0DN86-1   \n",
       "216927  ENSEMBL:ENSP00000403649      CGB8  UniProtKB:P0DN86-1   \n",
       "103632  ENSEMBL:ENSP00000320951  DEFB103A    UniProtKB:P81534   \n",
       "106674  ENSEMBL:ENSP00000324633  DEFB103B    UniProtKB:P81534   \n",
       "28495   ENSEMBL:ENSP00000250831    RBMY1J  UniProtKB:Q15415-1   \n",
       "90716   ENSEMBL:ENSP00000307155    RBMY1F  UniProtKB:Q15415-1   \n",
       "\n",
       "                                                                    gene_nodenorm_label  \n",
       "249051                                                      H4_HUMAN Histone H4 (sprot)  \n",
       "249223                                                      H4_HUMAN Histone H4 (sprot)  \n",
       "250399                                                      H4_HUMAN Histone H4 (sprot)  \n",
       "250778                                                      H4_HUMAN Histone H4 (sprot)  \n",
       "253495                                                      H4_HUMAN Histone H4 (sprot)  \n",
       "104357                                 H2B1C_HUMAN Histone H2B type 1-C/E/F/G/I (sprot)  \n",
       "132027                                 H2B1C_HUMAN Histone H2B type 1-C/E/F/G/I (sprot)  \n",
       "173631                                 H2B1C_HUMAN Histone H2B type 1-C/E/F/G/I (sprot)  \n",
       "238189                                 H2B1C_HUMAN Histone H2B type 1-C/E/F/G/I (sprot)  \n",
       "254313                                 H2B1C_HUMAN Histone H2B type 1-C/E/F/G/I (sprot)  \n",
       "151858                                                                     Histone H3.1  \n",
       "173652                                                                     Histone H3.1  \n",
       "253031                                                                     Histone H3.1  \n",
       "168826                                      X antigen family member 1 isoform B (human)  \n",
       "168834                                      X antigen family member 1 isoform B (human)  \n",
       "115198                                MAGA2_HUMAN Melanoma-associated antigen 2 (sprot)  \n",
       "253771                                MAGA2_HUMAN Melanoma-associated antigen 2 (sprot)  \n",
       "185231                                         DEF1_HUMAN Neutrophil defensin 1 (sprot)  \n",
       "185246                                         DEF1_HUMAN Neutrophil defensin 1 (sprot)  \n",
       "28488                              VCY1_HUMAN Testis-specific basic protein Y 1 (sprot)  \n",
       "28493                              VCY1_HUMAN Testis-specific basic protein Y 1 (sprot)  \n",
       "246245                                   NXF2_HUMAN Nuclear RNA export factor 2 (sprot)  \n",
       "253799                                   NXF2_HUMAN Nuclear RNA export factor 2 (sprot)  \n",
       "83122                              choriogonadotropin subunit beta 3 isoform h1 (human)  \n",
       "133379                             choriogonadotropin subunit beta 3 isoform h1 (human)  \n",
       "216927                             choriogonadotropin subunit beta 3 isoform h1 (human)  \n",
       "103632                                            D103A_HUMAN Beta-defensin 103 (sprot)  \n",
       "106674                                            D103A_HUMAN Beta-defensin 103 (sprot)  \n",
       "28495   RNA-binding motif protein, Y chromosome, family 1 member F/J isoform h1 (human)  \n",
       "90716   RNA-binding motif protein, Y chromosome, family 1 member F/J isoform h1 (human)  "
      ]
     },
     "execution_count": 76,
     "metadata": {},
     "output_type": "execute_result"
    }
   ],
   "source": [
    "## looking at examples with specific nodenormed disease\n",
    "\n",
    "genes_dups_tm[60:90]"
   ]
  },
  {
   "cell_type": "markdown",
   "id": "f170bcf7",
   "metadata": {},
   "source": [
    "### Compile cases where multiple IDs map to same NodeNorm entity"
   ]
  },
  {
   "cell_type": "code",
   "execution_count": 77,
   "id": "389582c8",
   "metadata": {
    "ExecuteTime": {
     "end_time": "2025-08-05T00:34:42.897368Z",
     "start_time": "2025-08-05T00:34:42.881532Z"
    }
   },
   "outputs": [
    {
     "data": {
      "text/plain": [
       "(29, 4)"
      ]
     },
     "execution_count": 77,
     "metadata": {},
     "output_type": "execute_result"
    },
    {
     "data": {
      "text/plain": [
       "14"
      ]
     },
     "execution_count": 77,
     "metadata": {},
     "output_type": "execute_result"
    },
    {
     "data": {
      "text/html": [
       "<div>\n",
       "<style scoped>\n",
       "    .dataframe tbody tr th:only-of-type {\n",
       "        vertical-align: middle;\n",
       "    }\n",
       "\n",
       "    .dataframe tbody tr th {\n",
       "        vertical-align: top;\n",
       "    }\n",
       "\n",
       "    .dataframe thead th {\n",
       "        text-align: right;\n",
       "    }\n",
       "</style>\n",
       "<table border=\"1\" class=\"dataframe\">\n",
       "  <thead>\n",
       "    <tr style=\"text-align: right;\">\n",
       "      <th></th>\n",
       "      <th>input_id</th>\n",
       "      <th>input_name</th>\n",
       "      <th>nodenorm_id</th>\n",
       "      <th>nodenorm_name</th>\n",
       "    </tr>\n",
       "  </thead>\n",
       "  <tbody>\n",
       "    <tr>\n",
       "      <th>0</th>\n",
       "      <td>DOID:0080665</td>\n",
       "      <td>Warfarin resistance</td>\n",
       "      <td>MONDO:0007390</td>\n",
       "      <td>coumarin resistance</td>\n",
       "    </tr>\n",
       "    <tr>\n",
       "      <th>1</th>\n",
       "      <td>DOID:0080666</td>\n",
       "      <td>Warfarin sensitivity</td>\n",
       "      <td>MONDO:0007390</td>\n",
       "      <td>coumarin resistance</td>\n",
       "    </tr>\n",
       "    <tr>\n",
       "      <th>2</th>\n",
       "      <td>DOID:0050657</td>\n",
       "      <td>Bannayan-Riley-Ruvalcaba syndrome</td>\n",
       "      <td>MONDO:0016063</td>\n",
       "      <td>Cowden disease</td>\n",
       "    </tr>\n",
       "    <tr>\n",
       "      <th>3</th>\n",
       "      <td>DOID:6457</td>\n",
       "      <td>Cowden syndrome</td>\n",
       "      <td>MONDO:0016063</td>\n",
       "      <td>Cowden disease</td>\n",
       "    </tr>\n",
       "    <tr>\n",
       "      <th>4</th>\n",
       "      <td>DOID:0060499</td>\n",
       "      <td>Autoimmune neuropathy</td>\n",
       "      <td>MONDO:0000774</td>\n",
       "      <td>autoimmune neuropathy</td>\n",
       "    </tr>\n",
       "    <tr>\n",
       "      <th>5</th>\n",
       "      <td>DOID:0040087</td>\n",
       "      <td>Autoimmune peripheral neuropathy</td>\n",
       "      <td>MONDO:0000774</td>\n",
       "      <td>autoimmune neuropathy</td>\n",
       "    </tr>\n",
       "    <tr>\n",
       "      <th>6</th>\n",
       "      <td>DOID:0060025</td>\n",
       "      <td>Immunoglobulin alpha deficiency</td>\n",
       "      <td>MONDO:0001341</td>\n",
       "      <td>IgA Deficiency</td>\n",
       "    </tr>\n",
       "    <tr>\n",
       "      <th>7</th>\n",
       "      <td>DOID:11701</td>\n",
       "      <td>Selective IgA deficiency disease</td>\n",
       "      <td>MONDO:0001341</td>\n",
       "      <td>IgA Deficiency</td>\n",
       "    </tr>\n",
       "    <tr>\n",
       "      <th>8</th>\n",
       "      <td>DOID:824</td>\n",
       "      <td>Periodontitis</td>\n",
       "      <td>MONDO:0005076</td>\n",
       "      <td>periodontitis</td>\n",
       "    </tr>\n",
       "    <tr>\n",
       "      <th>9</th>\n",
       "      <td>DOID:9893</td>\n",
       "      <td>Periodontosis</td>\n",
       "      <td>MONDO:0005076</td>\n",
       "      <td>periodontitis</td>\n",
       "    </tr>\n",
       "    <tr>\n",
       "      <th>10</th>\n",
       "      <td>DOID:1575</td>\n",
       "      <td>Rheumatic disease</td>\n",
       "      <td>MONDO:0005554</td>\n",
       "      <td>Rheumatism</td>\n",
       "    </tr>\n",
       "    <tr>\n",
       "      <th>11</th>\n",
       "      <td>DOID:854</td>\n",
       "      <td>Collagen disease</td>\n",
       "      <td>MONDO:0005554</td>\n",
       "      <td>Rheumatism</td>\n",
       "    </tr>\n",
       "    <tr>\n",
       "      <th>12</th>\n",
       "      <td>DOID:1849</td>\n",
       "      <td>Cannabis dependence</td>\n",
       "      <td>MONDO:0005689</td>\n",
       "      <td>cannabis abuse</td>\n",
       "    </tr>\n",
       "    <tr>\n",
       "      <th>13</th>\n",
       "      <td>DOID:9505</td>\n",
       "      <td>Cannabis abuse</td>\n",
       "      <td>MONDO:0005689</td>\n",
       "      <td>cannabis abuse</td>\n",
       "    </tr>\n",
       "    <tr>\n",
       "      <th>16</th>\n",
       "      <td>DOID:11612</td>\n",
       "      <td>Polycystic ovary syndrome</td>\n",
       "      <td>MONDO:0008487</td>\n",
       "      <td>Androgen excess</td>\n",
       "    </tr>\n",
       "    <tr>\n",
       "      <th>17</th>\n",
       "      <td>DOID:11613</td>\n",
       "      <td>Hyperandrogenism</td>\n",
       "      <td>MONDO:0008487</td>\n",
       "      <td>Androgen excess</td>\n",
       "    </tr>\n",
       "    <tr>\n",
       "      <th>18</th>\n",
       "      <td>DOID:3852</td>\n",
       "      <td>Peutz-Jeghers syndrome</td>\n",
       "      <td>MONDO:0008501</td>\n",
       "      <td>Sturge-Weber syndrome</td>\n",
       "    </tr>\n",
       "    <tr>\n",
       "      <th>19</th>\n",
       "      <td>DOID:0111563</td>\n",
       "      <td>Sturge-Weber syndrome</td>\n",
       "      <td>MONDO:0008501</td>\n",
       "      <td>Sturge-Weber syndrome</td>\n",
       "    </tr>\n",
       "    <tr>\n",
       "      <th>20</th>\n",
       "      <td>DOID:14743</td>\n",
       "      <td>Trichorhinophalangeal syndrome type I</td>\n",
       "      <td>MONDO:0008596</td>\n",
       "      <td>trichorhinophalangeal syndrome type I</td>\n",
       "    </tr>\n",
       "    <tr>\n",
       "      <th>21</th>\n",
       "      <td>DOID:0080376</td>\n",
       "      <td>Trichorhinophalangeal syndrome type III</td>\n",
       "      <td>MONDO:0008596</td>\n",
       "      <td>trichorhinophalangeal syndrome type I</td>\n",
       "    </tr>\n",
       "    <tr>\n",
       "      <th>22</th>\n",
       "      <td>DOID:0060476</td>\n",
       "      <td>Perlman syndrome</td>\n",
       "      <td>MONDO:0009965</td>\n",
       "      <td>Perlman syndrome</td>\n",
       "    </tr>\n",
       "    <tr>\n",
       "      <th>23</th>\n",
       "      <td>DOID:5572</td>\n",
       "      <td>Beckwith-Wiedemann syndrome</td>\n",
       "      <td>MONDO:0009965</td>\n",
       "      <td>Perlman syndrome</td>\n",
       "    </tr>\n",
       "    <tr>\n",
       "      <th>24</th>\n",
       "      <td>DOID:13515</td>\n",
       "      <td>Tuberous sclerosis</td>\n",
       "      <td>MONDO:0010029</td>\n",
       "      <td>situs inversus</td>\n",
       "    </tr>\n",
       "    <tr>\n",
       "      <th>25</th>\n",
       "      <td>DOID:758</td>\n",
       "      <td>Situs inversus</td>\n",
       "      <td>MONDO:0010029</td>\n",
       "      <td>situs inversus</td>\n",
       "    </tr>\n",
       "    <tr>\n",
       "      <th>26</th>\n",
       "      <td>DOID:0081240</td>\n",
       "      <td>Peroxisome biogenesis disorder 1B</td>\n",
       "      <td>MONDO:0011101</td>\n",
       "      <td>peroxisome biogenesis disorder 1B</td>\n",
       "    </tr>\n",
       "    <tr>\n",
       "      <th>27</th>\n",
       "      <td>DOID:0050444</td>\n",
       "      <td>Infantile Refsum disease</td>\n",
       "      <td>MONDO:0011101</td>\n",
       "      <td>peroxisome biogenesis disorder 1B</td>\n",
       "    </tr>\n",
       "    <tr>\n",
       "      <th>28</th>\n",
       "      <td>DOID:8712</td>\n",
       "      <td>Neurofibromatosis</td>\n",
       "      <td>MONDO:0016755</td>\n",
       "      <td>neurofibroma</td>\n",
       "    </tr>\n",
       "    <tr>\n",
       "      <th>29</th>\n",
       "      <td>DOID:0060403</td>\n",
       "      <td>Chromosome 17q11.2 deletion syndrome</td>\n",
       "      <td>MONDO:0016755</td>\n",
       "      <td>neurofibroma</td>\n",
       "    </tr>\n",
       "    <tr>\n",
       "      <th>30</th>\n",
       "      <td>DOID:962</td>\n",
       "      <td>Neurofibroma</td>\n",
       "      <td>MONDO:0016755</td>\n",
       "      <td>neurofibroma</td>\n",
       "    </tr>\n",
       "  </tbody>\n",
       "</table>\n",
       "</div>"
      ],
      "text/plain": [
       "        input_id                               input_name    nodenorm_id  \\\n",
       "0   DOID:0080665                      Warfarin resistance  MONDO:0007390   \n",
       "1   DOID:0080666                     Warfarin sensitivity  MONDO:0007390   \n",
       "2   DOID:0050657        Bannayan-Riley-Ruvalcaba syndrome  MONDO:0016063   \n",
       "3      DOID:6457                          Cowden syndrome  MONDO:0016063   \n",
       "4   DOID:0060499                    Autoimmune neuropathy  MONDO:0000774   \n",
       "5   DOID:0040087         Autoimmune peripheral neuropathy  MONDO:0000774   \n",
       "6   DOID:0060025          Immunoglobulin alpha deficiency  MONDO:0001341   \n",
       "7     DOID:11701         Selective IgA deficiency disease  MONDO:0001341   \n",
       "8       DOID:824                            Periodontitis  MONDO:0005076   \n",
       "9      DOID:9893                            Periodontosis  MONDO:0005076   \n",
       "10     DOID:1575                        Rheumatic disease  MONDO:0005554   \n",
       "11      DOID:854                         Collagen disease  MONDO:0005554   \n",
       "12     DOID:1849                      Cannabis dependence  MONDO:0005689   \n",
       "13     DOID:9505                           Cannabis abuse  MONDO:0005689   \n",
       "16    DOID:11612                Polycystic ovary syndrome  MONDO:0008487   \n",
       "17    DOID:11613                         Hyperandrogenism  MONDO:0008487   \n",
       "18     DOID:3852                   Peutz-Jeghers syndrome  MONDO:0008501   \n",
       "19  DOID:0111563                    Sturge-Weber syndrome  MONDO:0008501   \n",
       "20    DOID:14743    Trichorhinophalangeal syndrome type I  MONDO:0008596   \n",
       "21  DOID:0080376  Trichorhinophalangeal syndrome type III  MONDO:0008596   \n",
       "22  DOID:0060476                         Perlman syndrome  MONDO:0009965   \n",
       "23     DOID:5572              Beckwith-Wiedemann syndrome  MONDO:0009965   \n",
       "24    DOID:13515                       Tuberous sclerosis  MONDO:0010029   \n",
       "25      DOID:758                           Situs inversus  MONDO:0010029   \n",
       "26  DOID:0081240        Peroxisome biogenesis disorder 1B  MONDO:0011101   \n",
       "27  DOID:0050444                 Infantile Refsum disease  MONDO:0011101   \n",
       "28     DOID:8712                        Neurofibromatosis  MONDO:0016755   \n",
       "29  DOID:0060403     Chromosome 17q11.2 deletion syndrome  MONDO:0016755   \n",
       "30      DOID:962                             Neurofibroma  MONDO:0016755   \n",
       "\n",
       "                            nodenorm_name  \n",
       "0                     coumarin resistance  \n",
       "1                     coumarin resistance  \n",
       "2                          Cowden disease  \n",
       "3                          Cowden disease  \n",
       "4                   autoimmune neuropathy  \n",
       "5                   autoimmune neuropathy  \n",
       "6                          IgA Deficiency  \n",
       "7                          IgA Deficiency  \n",
       "8                           periodontitis  \n",
       "9                           periodontitis  \n",
       "10                             Rheumatism  \n",
       "11                             Rheumatism  \n",
       "12                         cannabis abuse  \n",
       "13                         cannabis abuse  \n",
       "16                        Androgen excess  \n",
       "17                        Androgen excess  \n",
       "18                  Sturge-Weber syndrome  \n",
       "19                  Sturge-Weber syndrome  \n",
       "20  trichorhinophalangeal syndrome type I  \n",
       "21  trichorhinophalangeal syndrome type I  \n",
       "22                       Perlman syndrome  \n",
       "23                       Perlman syndrome  \n",
       "24                         situs inversus  \n",
       "25                         situs inversus  \n",
       "26      peroxisome biogenesis disorder 1B  \n",
       "27      peroxisome biogenesis disorder 1B  \n",
       "28                           neurofibroma  \n",
       "29                           neurofibroma  \n",
       "30                           neurofibroma  "
      ]
     },
     "execution_count": 77,
     "metadata": {},
     "output_type": "execute_result"
    }
   ],
   "source": [
    "## diseases\n",
    "\n",
    "diseases_dups_final = pd.concat(\n",
    "    [diseases_dups_kw, diseases_dups_tm], \n",
    "    axis=0, \n",
    "    ignore_index=True).drop_duplicates()\n",
    "\n",
    "diseases_dups_final.columns = [\"input_id\", \"input_name\", \n",
    "                               \"nodenorm_id\", \"nodenorm_name\"]\n",
    "\n",
    "diseases_dups_final.shape\n",
    "diseases_dups_final[\"nodenorm_id\"].nunique()\n",
    "diseases_dups_final\n",
    "\n",
    "\n",
    "## file path\n",
    "output_base_path = pathlib.Path.home().joinpath(\"Desktop\", \"DISEASES_files\")\n",
    "diseases_output_path = output_base_path.joinpath(\"disease_nodenorm_dups.txt\")\n",
    "\n",
    "## uncomment when want to produce output\n",
    "# diseases_dups_final.to_csv(diseases_output_path, sep=\"\\t\")"
   ]
  },
  {
   "cell_type": "code",
   "execution_count": 78,
   "id": "f2fd2f59",
   "metadata": {
    "ExecuteTime": {
     "end_time": "2025-08-05T00:35:14.970441Z",
     "start_time": "2025-08-05T00:35:14.953686Z"
    }
   },
   "outputs": [
    {
     "data": {
      "text/plain": [
       "(106, 4)"
      ]
     },
     "execution_count": 78,
     "metadata": {},
     "output_type": "execute_result"
    },
    {
     "data": {
      "text/plain": [
       "36"
      ]
     },
     "execution_count": 78,
     "metadata": {},
     "output_type": "execute_result"
    },
    {
     "data": {
      "text/html": [
       "<div>\n",
       "<style scoped>\n",
       "    .dataframe tbody tr th:only-of-type {\n",
       "        vertical-align: middle;\n",
       "    }\n",
       "\n",
       "    .dataframe tbody tr th {\n",
       "        vertical-align: top;\n",
       "    }\n",
       "\n",
       "    .dataframe thead th {\n",
       "        text-align: right;\n",
       "    }\n",
       "</style>\n",
       "<table border=\"1\" class=\"dataframe\">\n",
       "  <thead>\n",
       "    <tr style=\"text-align: right;\">\n",
       "      <th></th>\n",
       "      <th>input_id</th>\n",
       "      <th>input_name</th>\n",
       "      <th>nodenorm_id</th>\n",
       "      <th>nodenorm_name</th>\n",
       "    </tr>\n",
       "  </thead>\n",
       "  <tbody>\n",
       "    <tr>\n",
       "      <th>0</th>\n",
       "      <td>ENSEMBL:ENSP00000370083</td>\n",
       "      <td>SMN1</td>\n",
       "      <td>UniProtKB:Q16637-1</td>\n",
       "      <td>survival motor neuron protein isoform 1 (human)</td>\n",
       "    </tr>\n",
       "    <tr>\n",
       "      <th>1</th>\n",
       "      <td>ENSEMBL:ENSP00000370119</td>\n",
       "      <td>SMN2</td>\n",
       "      <td>UniProtKB:Q16637-1</td>\n",
       "      <td>survival motor neuron protein isoform 1 (human)</td>\n",
       "    </tr>\n",
       "    <tr>\n",
       "      <th>2</th>\n",
       "      <td>ENSEMBL:ENSP00000251595</td>\n",
       "      <td>HBA2</td>\n",
       "      <td>UniProtKB:P69905</td>\n",
       "      <td>HBA_HUMAN Hemoglobin subunit alpha (sprot)</td>\n",
       "    </tr>\n",
       "    <tr>\n",
       "      <th>3</th>\n",
       "      <td>ENSEMBL:ENSP00000322421</td>\n",
       "      <td>HBA1</td>\n",
       "      <td>UniProtKB:P69905</td>\n",
       "      <td>HBA_HUMAN Hemoglobin subunit alpha (sprot)</td>\n",
       "    </tr>\n",
       "    <tr>\n",
       "      <th>6</th>\n",
       "      <td>ENSEMBL:ENSP00000334330</td>\n",
       "      <td>DEFB105A</td>\n",
       "      <td>UniProtKB:Q8NG35</td>\n",
       "      <td>D105A_HUMAN Beta-defensin 105 (sprot)</td>\n",
       "    </tr>\n",
       "    <tr>\n",
       "      <th>...</th>\n",
       "      <td>...</td>\n",
       "      <td>...</td>\n",
       "      <td>...</td>\n",
       "      <td>...</td>\n",
       "    </tr>\n",
       "    <tr>\n",
       "      <th>105</th>\n",
       "      <td>ENSEMBL:ENSP00000329982</td>\n",
       "      <td>OR4F16</td>\n",
       "      <td>UniProtKB:Q6IEY1</td>\n",
       "      <td>OR4F3_HUMAN Olfactory receptor 4F3/4F16/4F29 (sprot)</td>\n",
       "    </tr>\n",
       "    <tr>\n",
       "      <th>106</th>\n",
       "      <td>ENSEMBL:ENSP00000394282</td>\n",
       "      <td>OR4F3</td>\n",
       "      <td>UniProtKB:Q6IEY1</td>\n",
       "      <td>OR4F3_HUMAN Olfactory receptor 4F3/4F16/4F29 (sprot)</td>\n",
       "    </tr>\n",
       "    <tr>\n",
       "      <th>107</th>\n",
       "      <td>ENSEMBL:ENSP00000409316</td>\n",
       "      <td>OR4F29</td>\n",
       "      <td>UniProtKB:Q6IEY1</td>\n",
       "      <td>OR4F3_HUMAN Olfactory receptor 4F3/4F16/4F29 (sprot)</td>\n",
       "    </tr>\n",
       "    <tr>\n",
       "      <th>108</th>\n",
       "      <td>ENSEMBL:ENSP00000016946</td>\n",
       "      <td>RGPD5</td>\n",
       "      <td>UniProtKB:Q99666-1</td>\n",
       "      <td>RANBP2-like and GRIP domain-containing protein 5/6 isoform h1 (human)</td>\n",
       "    </tr>\n",
       "    <tr>\n",
       "      <th>109</th>\n",
       "      <td>ENSEMBL:ENSP00000330842</td>\n",
       "      <td>RGPD6</td>\n",
       "      <td>UniProtKB:Q99666-1</td>\n",
       "      <td>RANBP2-like and GRIP domain-containing protein 5/6 isoform h1 (human)</td>\n",
       "    </tr>\n",
       "  </tbody>\n",
       "</table>\n",
       "<p>106 rows × 4 columns</p>\n",
       "</div>"
      ],
      "text/plain": [
       "                    input_id input_name         nodenorm_id  \\\n",
       "0    ENSEMBL:ENSP00000370083       SMN1  UniProtKB:Q16637-1   \n",
       "1    ENSEMBL:ENSP00000370119       SMN2  UniProtKB:Q16637-1   \n",
       "2    ENSEMBL:ENSP00000251595       HBA2    UniProtKB:P69905   \n",
       "3    ENSEMBL:ENSP00000322421       HBA1    UniProtKB:P69905   \n",
       "6    ENSEMBL:ENSP00000334330   DEFB105A    UniProtKB:Q8NG35   \n",
       "..                       ...        ...                 ...   \n",
       "105  ENSEMBL:ENSP00000329982     OR4F16    UniProtKB:Q6IEY1   \n",
       "106  ENSEMBL:ENSP00000394282      OR4F3    UniProtKB:Q6IEY1   \n",
       "107  ENSEMBL:ENSP00000409316     OR4F29    UniProtKB:Q6IEY1   \n",
       "108  ENSEMBL:ENSP00000016946      RGPD5  UniProtKB:Q99666-1   \n",
       "109  ENSEMBL:ENSP00000330842      RGPD6  UniProtKB:Q99666-1   \n",
       "\n",
       "                                                             nodenorm_name  \n",
       "0                          survival motor neuron protein isoform 1 (human)  \n",
       "1                          survival motor neuron protein isoform 1 (human)  \n",
       "2                               HBA_HUMAN Hemoglobin subunit alpha (sprot)  \n",
       "3                               HBA_HUMAN Hemoglobin subunit alpha (sprot)  \n",
       "6                                    D105A_HUMAN Beta-defensin 105 (sprot)  \n",
       "..                                                                     ...  \n",
       "105                   OR4F3_HUMAN Olfactory receptor 4F3/4F16/4F29 (sprot)  \n",
       "106                   OR4F3_HUMAN Olfactory receptor 4F3/4F16/4F29 (sprot)  \n",
       "107                   OR4F3_HUMAN Olfactory receptor 4F3/4F16/4F29 (sprot)  \n",
       "108  RANBP2-like and GRIP domain-containing protein 5/6 isoform h1 (human)  \n",
       "109  RANBP2-like and GRIP domain-containing protein 5/6 isoform h1 (human)  \n",
       "\n",
       "[106 rows x 4 columns]"
      ]
     },
     "execution_count": 78,
     "metadata": {},
     "output_type": "execute_result"
    }
   ],
   "source": [
    "## genes\n",
    "\n",
    "genes_dups_final = pd.concat(\n",
    "    [genes_dups_kw, genes_dups_tm], \n",
    "    axis=0, \n",
    "    ignore_index=True).drop_duplicates()\n",
    "\n",
    "genes_dups_final.columns = [\"input_id\", \"input_name\", \n",
    "                               \"nodenorm_id\", \"nodenorm_name\"]\n",
    "\n",
    "genes_dups_final.shape\n",
    "genes_dups_final[\"nodenorm_id\"].nunique()\n",
    "genes_dups_final\n",
    "\n",
    "\n",
    "## file path\n",
    "output_base_path = pathlib.Path.home().joinpath(\"Desktop\", \"DISEASES_files\")\n",
    "genes_output_path = output_base_path.joinpath(\"gene_nodenorm_dups.txt\")\n",
    "\n",
    "## uncomment when want to produce output\n",
    "# genes_dups_final.to_csv(genes_output_path, sep=\"\\t\")"
   ]
  },
  {
   "cell_type": "markdown",
   "id": "9dfa9412",
   "metadata": {},
   "source": [
    "## Exploring whether MedlinePlus urls can be generated"
   ]
  },
  {
   "cell_type": "markdown",
   "id": "e72680a0",
   "metadata": {},
   "source": [
    "This affects the df_knowledge file - subset that is from MedlinePlus data. \n",
    "\n",
    "DISEASES webpages have links to the MedlinePlus original resource webpages. Trying to see if we can recreate them using the disease_name value"
   ]
  },
  {
   "cell_type": "code",
   "execution_count": 79,
   "id": "79131c8c",
   "metadata": {
    "ExecuteTime": {
     "end_time": "2025-08-05T00:36:07.949784Z",
     "start_time": "2025-08-05T00:36:07.944059Z"
    }
   },
   "outputs": [
    {
     "data": {
      "text/plain": [
       "source_db\n",
       "MedlinePlus    3779\n",
       "AmyCo           181\n",
       "Name: count, dtype: int64"
      ]
     },
     "execution_count": 79,
     "metadata": {},
     "output_type": "execute_result"
    }
   ],
   "source": [
    "df_knowledge[\"source_db\"].value_counts()"
   ]
  },
  {
   "cell_type": "code",
   "execution_count": 80,
   "id": "949d03a6",
   "metadata": {
    "ExecuteTime": {
     "end_time": "2025-08-05T00:36:08.960920Z",
     "start_time": "2025-08-05T00:36:08.953626Z"
    }
   },
   "outputs": [
    {
     "data": {
      "text/plain": [
       "(3779, 2)"
      ]
     },
     "execution_count": 80,
     "metadata": {},
     "output_type": "execute_result"
    }
   ],
   "source": [
    "## extract medlineplus subset's disease_names\n",
    "## keep source_db: use for matching key when joining to main df later\n",
    "\n",
    "df_medlineplus_diseases = df_knowledge[df_knowledge[\"source_db\"] == \"MedlinePlus\"] \\\n",
    "                          [[\"source_db\", \"disease_name\"]].copy()\n",
    "\n",
    "df_medlineplus_diseases.shape"
   ]
  },
  {
   "cell_type": "code",
   "execution_count": 81,
   "id": "13d82ed3",
   "metadata": {
    "ExecuteTime": {
     "end_time": "2025-08-05T00:36:10.128311Z",
     "start_time": "2025-08-05T00:36:10.116262Z"
    }
   },
   "outputs": [
    {
     "data": {
      "text/plain": [
       "(1000, 2)"
      ]
     },
     "execution_count": 81,
     "metadata": {},
     "output_type": "execute_result"
    },
    {
     "data": {
      "text/html": [
       "<div>\n",
       "<style scoped>\n",
       "    .dataframe tbody tr th:only-of-type {\n",
       "        vertical-align: middle;\n",
       "    }\n",
       "\n",
       "    .dataframe tbody tr th {\n",
       "        vertical-align: top;\n",
       "    }\n",
       "\n",
       "    .dataframe thead th {\n",
       "        text-align: right;\n",
       "    }\n",
       "</style>\n",
       "<table border=\"1\" class=\"dataframe\">\n",
       "  <thead>\n",
       "    <tr style=\"text-align: right;\">\n",
       "      <th></th>\n",
       "      <th>source_db</th>\n",
       "      <th>disease_name</th>\n",
       "    </tr>\n",
       "  </thead>\n",
       "  <tbody>\n",
       "    <tr>\n",
       "      <th>2429</th>\n",
       "      <td>MedlinePlus</td>\n",
       "      <td>17-beta hydroxysteroid dehydrogenase 3 deficiency</td>\n",
       "    </tr>\n",
       "    <tr>\n",
       "      <th>68</th>\n",
       "      <td>MedlinePlus</td>\n",
       "      <td>2-hydroxyglutaric aciduria</td>\n",
       "    </tr>\n",
       "    <tr>\n",
       "      <th>1165</th>\n",
       "      <td>MedlinePlus</td>\n",
       "      <td>3-M syndrome</td>\n",
       "    </tr>\n",
       "    <tr>\n",
       "      <th>745</th>\n",
       "      <td>MedlinePlus</td>\n",
       "      <td>3-methylcrotonyl-CoA carboxylase deficiency</td>\n",
       "    </tr>\n",
       "    <tr>\n",
       "      <th>2449</th>\n",
       "      <td>MedlinePlus</td>\n",
       "      <td>3-methylglutaconic aciduria type 1</td>\n",
       "    </tr>\n",
       "    <tr>\n",
       "      <th>...</th>\n",
       "      <td>...</td>\n",
       "      <td>...</td>\n",
       "    </tr>\n",
       "    <tr>\n",
       "      <th>2966</th>\n",
       "      <td>MedlinePlus</td>\n",
       "      <td>speech-language disorder-1</td>\n",
       "    </tr>\n",
       "    <tr>\n",
       "      <th>1515</th>\n",
       "      <td>MedlinePlus</td>\n",
       "      <td>tarsal-carpal coalition syndrome</td>\n",
       "    </tr>\n",
       "    <tr>\n",
       "      <th>249</th>\n",
       "      <td>MedlinePlus</td>\n",
       "      <td>thiamine-responsive megaloblastic anemia syndrome</td>\n",
       "    </tr>\n",
       "    <tr>\n",
       "      <th>3545</th>\n",
       "      <td>MedlinePlus</td>\n",
       "      <td>thrombocytopenia-absent radius syndrome</td>\n",
       "    </tr>\n",
       "    <tr>\n",
       "      <th>61</th>\n",
       "      <td>MedlinePlus</td>\n",
       "      <td>triple-A syndrome</td>\n",
       "    </tr>\n",
       "  </tbody>\n",
       "</table>\n",
       "<p>1000 rows × 2 columns</p>\n",
       "</div>"
      ],
      "text/plain": [
       "        source_db                                       disease_name\n",
       "2429  MedlinePlus  17-beta hydroxysteroid dehydrogenase 3 deficiency\n",
       "68    MedlinePlus                         2-hydroxyglutaric aciduria\n",
       "1165  MedlinePlus                                       3-M syndrome\n",
       "745   MedlinePlus        3-methylcrotonyl-CoA carboxylase deficiency\n",
       "2449  MedlinePlus                 3-methylglutaconic aciduria type 1\n",
       "...           ...                                                ...\n",
       "2966  MedlinePlus                         speech-language disorder-1\n",
       "1515  MedlinePlus                   tarsal-carpal coalition syndrome\n",
       "249   MedlinePlus  thiamine-responsive megaloblastic anemia syndrome\n",
       "3545  MedlinePlus            thrombocytopenia-absent radius syndrome\n",
       "61    MedlinePlus                                  triple-A syndrome\n",
       "\n",
       "[1000 rows x 2 columns]"
      ]
     },
     "execution_count": 81,
     "metadata": {},
     "output_type": "execute_result"
    }
   ],
   "source": [
    "## drop duplicates\n",
    "\n",
    "df_medlineplus_diseases.drop_duplicates(inplace=True)\n",
    "df_medlineplus_diseases.sort_values(by=\"disease_name\", inplace=True)\n",
    "\n",
    "df_medlineplus_diseases.shape\n",
    "\n",
    "df_medlineplus_diseases"
   ]
  },
  {
   "cell_type": "markdown",
   "id": "74367ede",
   "metadata": {},
   "source": [
    "info from https://medlineplus.gov/about/developers/geneticsdatafilesapi/"
   ]
  },
  {
   "cell_type": "code",
   "execution_count": 82,
   "id": "c9fa199e",
   "metadata": {
    "ExecuteTime": {
     "end_time": "2025-08-05T00:36:16.536343Z",
     "start_time": "2025-08-05T00:36:16.527828Z"
    }
   },
   "outputs": [
    {
     "data": {
      "text/plain": [
       "2429                                     https://medlineplus.gov/genetics/condition/17-beta-hydroxysteroid-dehydrogenase-3-deficiency\n",
       "68                                                              https://medlineplus.gov/genetics/condition/2-hydroxyglutaric-aciduria\n",
       "1165                                                                          https://medlineplus.gov/genetics/condition/3-m-syndrome\n",
       "745                                            https://medlineplus.gov/genetics/condition/3-methylcrotonyl-coa-carboxylase-deficiency\n",
       "2449                                                    https://medlineplus.gov/genetics/condition/3-methylglutaconic-aciduria-type-1\n",
       "1386                                                    https://medlineplus.gov/genetics/condition/3-methylglutaconic-aciduria-type-3\n",
       "2663                                                    https://medlineplus.gov/genetics/condition/3-methylglutaconic-aciduria-type-5\n",
       "1016    https://medlineplus.gov/genetics/condition/3-methylglutaconic-aciduria-with-cataracts,-neurologic-involvement-and-neutropenia\n",
       "3825    https://medlineplus.gov/genetics/condition/3-methylglutaconic-aciduria-with-deafness,-encephalopathy,-and-leigh-like-syndrome\n",
       "1052                                                                          https://medlineplus.gov/genetics/condition/3mc-syndrome\n",
       "Name: medlineplus_url, dtype: object"
      ]
     },
     "execution_count": 82,
     "metadata": {},
     "output_type": "execute_result"
    }
   ],
   "source": [
    "## generate URLs in new column\n",
    "## url format: https://medlineplus.gov/genetics/condition/alzheimer-disease\n",
    "\n",
    "base_medlineplus_url = \"https://medlineplus.gov/genetics/condition/\"\n",
    "\n",
    "df_medlineplus_diseases[\"medlineplus_url\"] = base_medlineplus_url + \\\n",
    "                                             df_medlineplus_diseases[\"disease_name\"]\n",
    "\n",
    "## adjust formatting of url strings\n",
    "## replace \" \" with \"-\"\n",
    "df_medlineplus_diseases[\"medlineplus_url\"] = df_medlineplus_diseases[\"medlineplus_url\"].str.replace(\" \", \"-\")\n",
    "## change all lower-case: is case-sensitive!\n",
    "df_medlineplus_diseases[\"medlineplus_url\"] = df_medlineplus_diseases[\"medlineplus_url\"].str.lower()\n",
    "\n",
    "df_medlineplus_diseases[\"medlineplus_url\"][0:10]"
   ]
  },
  {
   "cell_type": "code",
   "execution_count": 83,
   "id": "7b87686d",
   "metadata": {
    "ExecuteTime": {
     "end_time": "2025-08-05T00:36:19.840251Z",
     "start_time": "2025-08-05T00:36:19.836938Z"
    }
   },
   "outputs": [],
   "source": [
    "def check_website_availability(url):\n",
    "    try:\n",
    "        ## website seems to take a while to return sometimes\n",
    "        response = requests.head(url, allow_redirects=True, timeout=4)\n",
    "        if response.status_code != 200:\n",
    "            return url,response.status_code\n",
    "    except requests.RequestException as e:\n",
    "        return url,e"
   ]
  },
  {
   "cell_type": "code",
   "execution_count": 84,
   "id": "9701dd34",
   "metadata": {
    "ExecuteTime": {
     "end_time": "2025-08-05T00:36:23.703035Z",
     "start_time": "2025-08-05T00:36:21.752468Z"
    }
   },
   "outputs": [
    {
     "data": {
      "text/plain": [
       "('https://medlineplus.gov/genetics/condition/3-methylglutaconic-aciduria-type-I',\n",
       " 404)"
      ]
     },
     "execution_count": 84,
     "metadata": {},
     "output_type": "execute_result"
    }
   ],
   "source": [
    "## manual check: fake website\n",
    "check_website_availability(\"https://medlineplus.gov/genetics/condition/3-methylglutaconic-aciduria-type-I\")\n",
    "\n",
    "## real website\n",
    "check_website_availability(\"https://medlineplus.gov/genetics/condition/piebaldism\")"
   ]
  },
  {
   "cell_type": "code",
   "execution_count": 85,
   "id": "0d34f3dd",
   "metadata": {
    "ExecuteTime": {
     "end_time": "2025-08-05T00:36:36.265615Z",
     "start_time": "2025-08-05T00:36:25.551739Z"
    }
   },
   "outputs": [
    {
     "data": {
      "text/plain": [
       "('https://medlineplus.gov/genetics/condition/3-methylglutaconic-aciduria-type-1',\n",
       " 404)"
      ]
     },
     "execution_count": 85,
     "metadata": {},
     "output_type": "execute_result"
    },
    {
     "data": {
      "text/plain": [
       "('https://medlineplus.gov/genetics/condition/3-methylglutaconic-aciduria-type-3',\n",
       " 404)"
      ]
     },
     "execution_count": 85,
     "metadata": {},
     "output_type": "execute_result"
    },
    {
     "data": {
      "text/plain": [
       "('https://medlineplus.gov/genetics/condition/3-methylglutaconic-aciduria-type-5',\n",
       " 404)"
      ]
     },
     "execution_count": 85,
     "metadata": {},
     "output_type": "execute_result"
    },
    {
     "data": {
      "text/plain": [
       "('https://medlineplus.gov/genetics/condition/3-methylglutaconic-aciduria-with-cataracts,-neurologic-involvement-and-neutropenia',\n",
       " 404)"
      ]
     },
     "execution_count": 85,
     "metadata": {},
     "output_type": "execute_result"
    },
    {
     "data": {
      "text/plain": [
       "('https://medlineplus.gov/genetics/condition/3-methylglutaconic-aciduria-with-deafness,-encephalopathy,-and-leigh-like-syndrome',\n",
       " 404)"
      ]
     },
     "execution_count": 85,
     "metadata": {},
     "output_type": "execute_result"
    }
   ],
   "source": [
    "for i in df_medlineplus_diseases[\"medlineplus_url\"][0:10]:\n",
    "    check_website_availability(i)\n",
    "\n",
    "## DON'T RUN ON ENTIRE COLUMN: takes a very long time\n",
    "# df_medlineplus_diseases[\"url_check\"] = [check_website_availability(i) for i in df_medlineplus_diseases[\"medlineplus_url\"]]"
   ]
  },
  {
   "cell_type": "markdown",
   "id": "a042ca08",
   "metadata": {},
   "source": [
    "**Looks like this method won't reliably work.** The disease_name value can sometime differ a lot from the actual medlineplus webpage url (manually comparing failed URLs to pages linked in https://medlineplus.gov/genetics/condition-0/):\n",
    "\n",
    "- `3-methylglutaconic-aciduria-type-1`: the actual url fragment is [3-methylglutaconyl-coa-hydratase-deficiency](https://medlineplus.gov/genetics/condition/3-methylglutaconyl-coa-hydratase-deficiency/)\n",
    "- `3-methylglutaconic-aciduria-type-3`: the actual url fragment is [costeff-syndrome](https://medlineplus.gov/genetics/condition/costeff-syndrome/)\n",
    "- `3-methylglutaconic-aciduria-type-5`: the actual url fragment is [dilated-cardiomyopathy-with-ataxia-syndrome](https://medlineplus.gov/genetics/condition/dilated-cardiomyopathy-with-ataxia-syndrome/)\n",
    "- `3-methylglutaconic-aciduria-with-cataracts,-neurologic-involvement-and-neutropenia`: the actual url fragment is [clpb-deficiency](https://medlineplus.gov/genetics/condition/clpb-deficiency/)\n",
    "- `3-methylglutaconic-aciduria-with-deafness,-encephalopathy,-and-leigh-like-syndrome`: the actual url fragment is [megdel-syndrome](https://medlineplus.gov/genetics/condition/megdel-syndrome/)\n",
    "\n",
    "**And it takes too long to check the entire column for valid URLs.** If each one takes average 2 s to respond, it'll take 33.33 min to run thru 1000 urls. So it's not practical to add only the working urls after checking them all. "
   ]
  },
  {
   "cell_type": "markdown",
   "id": "c3fb5da8",
   "metadata": {},
   "source": [
    "## Notes"
   ]
  },
  {
   "cell_type": "markdown",
   "id": "8ebfd610",
   "metadata": {},
   "source": [
    "* __will create edges that look like duplicates because triple is the same, but the original IDs/data is diff. Just leaving it this way for now -> but will need to consider what to do (possible to merge??).__\n",
    "* confidence_score is sometimes float (from text-mining) and sometimes int (from knowledge). Not worried about, for now. "
   ]
  },
  {
   "cell_type": "code",
   "execution_count": null,
   "id": "2d34c282",
   "metadata": {},
   "outputs": [],
   "source": []
  }
 ],
 "metadata": {
  "kernelspec": {
   "display_name": "Python 3 (ipykernel)",
   "language": "python",
   "name": "python3"
  },
  "language_info": {
   "codemirror_mode": {
    "name": "ipython",
    "version": 3
   },
   "file_extension": ".py",
   "mimetype": "text/x-python",
   "name": "python",
   "nbconvert_exporter": "python",
   "pygments_lexer": "ipython3",
   "version": "3.12.11"
  },
  "toc": {
   "base_numbering": 1,
   "nav_menu": {},
   "number_sections": false,
   "sideBar": true,
   "skip_h1_title": true,
   "title_cell": "Table of Contents",
   "title_sidebar": "Contents",
   "toc_cell": false,
   "toc_position": {
    "height": "calc(100% - 180px)",
    "left": "10px",
    "top": "150px",
    "width": "258.15px"
   },
   "toc_section_display": true,
   "toc_window_display": false
  }
 },
 "nbformat": 4,
 "nbformat_minor": 5
}
